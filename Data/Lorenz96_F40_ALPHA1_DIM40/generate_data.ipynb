{
 "cells": [
  {
   "cell_type": "markdown",
   "metadata": {},
   "source": [
    "# Generate lorenz96 data with F = 8 and dimension = 40"
   ]
  },
  {
   "cell_type": "markdown",
   "metadata": {},
   "source": [
    "## generate data"
   ]
  },
  {
   "cell_type": "code",
   "execution_count": 2,
   "metadata": {},
   "outputs": [
    {
     "name": "stdout",
     "output_type": "stream",
     "text": [
      "# F=8\n",
      "Script to generate data for Lorenz96 for F=8\n",
      "Generating time-series with 200000 data-points\n",
      "Get past initial transients\n",
      "\n",
      "100000/100000\n",
      "Generate time series\n",
      "\n",
      "\u001b[F200000/200000/2000002108/2000003240/2000004370/2000005504/2000006647/2000007793/2000008938/20000010087/20000011237/20000012387/20000013541/20000014695/20000015849/20000017001/20000018146/20000019289/20000020431/20000021575/20000022722/20000023769/20000024913/20000026054/20000027192/20000028331/20000029468/20000030620/20000031761/20000032907/20000034053/20000035119/20000036264/20000037405/20000038549/20000039694/20000040849/20000041997/20000043143/20000044284/20000045426/20000046567/20000047708/20000048857/20000050005/20000051152/20000052296/20000053442/20000054584/20000055725/20000056863/20000058014/20000059157/20000060304/20000061444/20000062591/20000063739/20000064879/20000066021/20000067162/20000068298/20000069439/20000070585/20000071721/20000072858/20000073992/20000075130/20000076271/20000077414/20000078554/20000079695/20000080845/20000081982/20000083124/20000084171/20000085318/20000086458/20000087598/20000088740/20000089877/20000091024/20000092160/20000093298/20000094443/20000095585/20000096699/20000097840/20000098981/200000100123/200000101269/200000102409/200000103559/200000104705/200000105848/200000106996/200000108136/200000109279/200000110424/200000111575/200000112721/200000113873/200000115016/200000116161/200000117305/200000118446/200000119595/200000120733/200000121884/200000123022/200000124170/200000125314/200000126449/200000127598/200000128737/200000129880/200000131024/200000132173/200000133310/200000134450/200000135588/200000136738/200000137882/200000139027/200000140169/200000141316/200000142461/200000143607/200000144749/200000145897/200000147040/200000148180/200000149325/200000150473/200000151616/200000152763/200000153935/200000155133/200000156333/200000157530/200000158727/200000159920/200000161128/200000162334/200000163532/200000164739/200000165923/200000167118/200000168317/200000169504/200000170705/200000171908/200000173117/200000174311/200000175520/200000176718/200000177919/200000179123/200000180332/200000181531/200000182727/200000183894/200000185093/200000186300/200000187505/200000188703/200000189907/200000191108/200000192305/200000193506/200000194704/200000195895/200000197096/200000198298/200000199502/200000"
     ]
    }
   ],
   "source": [
    "%run ./0_data_generation.py"
   ]
  },
  {
   "cell_type": "markdown",
   "metadata": {},
   "source": [
    "## calculate the Maximum lyapunov exponent"
   ]
  },
  {
   "cell_type": "code",
   "execution_count": 1,
   "metadata": {},
   "outputs": [
    {
     "name": "stdout",
     "output_type": "stream",
     "text": [
      "\n",
      "MAXIMUM LYAPUNOV EXPONENT = 1.690650590094699\n"
     ]
    }
   ],
   "source": [
    "%run ./1_mle_calculation.py"
   ]
  },
  {
   "cell_type": "markdown",
   "metadata": {},
   "source": [
    "## seperate data to train and test"
   ]
  },
  {
   "cell_type": "code",
   "execution_count": 1,
   "metadata": {},
   "outputs": [
    {
     "name": "stdout",
     "output_type": "stream",
     "text": [
      "Total data shape: \n",
      "(200000, 40)\n",
      "Traing data shape: \n",
      "(10000, 40)\n",
      "Test data shape: \n",
      "(100000, 40)\n",
      "attractor_std shape: \n",
      "(40,)\n",
      "train_input_sequence shape: \n",
      "(10000, 40)\n",
      "test_input_sequence shape: \n",
      "(100000, 40)\n"
     ]
    }
   ],
   "source": [
    "%run ./2_create_training_data_10000.py"
   ]
  },
  {
   "cell_type": "code",
   "execution_count": 2,
   "metadata": {},
   "outputs": [
    {
     "name": "stdout",
     "output_type": "stream",
     "text": [
      "Total data shape: \n",
      "(200000, 40)\n",
      "Traing data shape: \n",
      "(20000, 40)\n",
      "Test data shape: \n",
      "(100000, 40)\n",
      "attractor_std shape: \n",
      "(40,)\n",
      "train_input_sequence shape: \n",
      "(20000, 40)\n",
      "test_input_sequence shape: \n",
      "(100000, 40)\n"
     ]
    }
   ],
   "source": [
    "%run ./2_create_training_data_20000.py"
   ]
  },
  {
   "cell_type": "code",
   "execution_count": 3,
   "metadata": {},
   "outputs": [
    {
     "name": "stdout",
     "output_type": "stream",
     "text": [
      "Total data shape: \n",
      "(200000, 40)\n",
      "Traing data shape: \n",
      "(30000, 40)\n",
      "Test data shape: \n",
      "(100000, 40)\n",
      "attractor_std shape: \n",
      "(40,)\n",
      "train_input_sequence shape: \n",
      "(30000, 40)\n",
      "test_input_sequence shape: \n",
      "(100000, 40)\n"
     ]
    }
   ],
   "source": [
    "%run ./2_create_training_data_30000.py"
   ]
  },
  {
   "cell_type": "code",
   "execution_count": 4,
   "metadata": {},
   "outputs": [
    {
     "name": "stdout",
     "output_type": "stream",
     "text": [
      "Total data shape: \n",
      "(200000, 40)\n",
      "Traing data shape: \n",
      "(40000, 40)\n",
      "Test data shape: \n",
      "(100000, 40)\n",
      "attractor_std shape: \n",
      "(40,)\n",
      "train_input_sequence shape: \n",
      "(40000, 40)\n",
      "test_input_sequence shape: \n",
      "(100000, 40)\n"
     ]
    }
   ],
   "source": [
    "%run ./2_create_training_data_40000.py"
   ]
  },
  {
   "cell_type": "code",
   "execution_count": 5,
   "metadata": {},
   "outputs": [
    {
     "name": "stdout",
     "output_type": "stream",
     "text": [
      "Total data shape: \n",
      "(200000, 40)\n",
      "Traing data shape: \n",
      "(50000, 40)\n",
      "Test data shape: \n",
      "(100000, 40)\n",
      "attractor_std shape: \n",
      "(40,)\n",
      "train_input_sequence shape: \n",
      "(50000, 40)\n",
      "test_input_sequence shape: \n",
      "(100000, 40)\n"
     ]
    }
   ],
   "source": [
    "%run ./2_create_training_data_50000.py"
   ]
  },
  {
   "cell_type": "code",
   "execution_count": 6,
   "metadata": {},
   "outputs": [
    {
     "name": "stdout",
     "output_type": "stream",
     "text": [
      "Total data shape: \n",
      "(200000, 40)\n",
      "Traing data shape: \n",
      "(60000, 40)\n",
      "Test data shape: \n",
      "(100000, 40)\n",
      "attractor_std shape: \n",
      "(40,)\n",
      "train_input_sequence shape: \n",
      "(60000, 40)\n",
      "test_input_sequence shape: \n",
      "(100000, 40)\n"
     ]
    }
   ],
   "source": [
    "%run ./2_create_training_data_60000.py"
   ]
  },
  {
   "cell_type": "code",
   "execution_count": 7,
   "metadata": {},
   "outputs": [
    {
     "name": "stdout",
     "output_type": "stream",
     "text": [
      "Total data shape: \n",
      "(200000, 40)\n",
      "Traing data shape: \n",
      "(70000, 40)\n",
      "Test data shape: \n",
      "(100000, 40)\n",
      "attractor_std shape: \n",
      "(40,)\n",
      "train_input_sequence shape: \n",
      "(70000, 40)\n",
      "test_input_sequence shape: \n",
      "(100000, 40)\n"
     ]
    }
   ],
   "source": [
    "%run ./2_create_training_data_70000.py"
   ]
  },
  {
   "cell_type": "code",
   "execution_count": 8,
   "metadata": {},
   "outputs": [
    {
     "name": "stdout",
     "output_type": "stream",
     "text": [
      "Total data shape: \n",
      "(200000, 40)\n",
      "Traing data shape: \n",
      "(80000, 40)\n",
      "Test data shape: \n",
      "(100000, 40)\n",
      "attractor_std shape: \n",
      "(40,)\n",
      "train_input_sequence shape: \n",
      "(80000, 40)\n",
      "test_input_sequence shape: \n",
      "(100000, 40)\n"
     ]
    }
   ],
   "source": [
    "%run ./2_create_training_data_80000.py"
   ]
  },
  {
   "cell_type": "code",
   "execution_count": 9,
   "metadata": {},
   "outputs": [
    {
     "name": "stdout",
     "output_type": "stream",
     "text": [
      "Total data shape: \n",
      "(200000, 40)\n",
      "Traing data shape: \n",
      "(90000, 40)\n",
      "Test data shape: \n",
      "(100000, 40)\n",
      "attractor_std shape: \n",
      "(40,)\n",
      "train_input_sequence shape: \n",
      "(90000, 40)\n",
      "test_input_sequence shape: \n",
      "(100000, 40)\n"
     ]
    }
   ],
   "source": [
    "%run ./2_create_training_data_90000.py"
   ]
  },
  {
   "cell_type": "code",
   "execution_count": 10,
   "metadata": {},
   "outputs": [
    {
     "name": "stdout",
     "output_type": "stream",
     "text": [
      "Total data shape: \n",
      "(200000, 40)\n",
      "Traing data shape: \n",
      "(100000, 40)\n",
      "Test data shape: \n",
      "(100000, 40)\n",
      "attractor_std shape: \n",
      "(40,)\n",
      "train_input_sequence shape: \n",
      "(100000, 40)\n",
      "test_input_sequence shape: \n",
      "(100000, 40)\n"
     ]
    }
   ],
   "source": [
    "%run ./2_create_training_data_100000.py"
   ]
  },
  {
   "cell_type": "markdown",
   "metadata": {},
   "source": [
    "## seperate train data to training and validation parts for hyperparameters tuning"
   ]
  },
  {
   "cell_type": "code",
   "execution_count": 11,
   "metadata": {},
   "outputs": [
    {
     "name": "stdout",
     "output_type": "stream",
     "text": [
      "Traing data shape: \n",
      "(60000, 40)\n",
      "Test data shape: \n",
      "(40000, 40)\n"
     ]
    }
   ],
   "source": [
    "%run ./3_create_tuning_data.py"
   ]
  },
  {
   "cell_type": "markdown",
   "metadata": {},
   "source": [
    "## Plot figures"
   ]
  },
  {
   "cell_type": "code",
   "execution_count": 12,
   "metadata": {},
   "outputs": [],
   "source": [
    "%run ./4_create_figures.py"
   ]
  },
  {
   "cell_type": "code",
   "execution_count": null,
   "metadata": {},
   "outputs": [],
   "source": []
  },
  {
   "cell_type": "code",
   "execution_count": null,
   "metadata": {},
   "outputs": [],
   "source": []
  }
 ],
 "metadata": {
  "kernelspec": {
   "display_name": "Python 3 (ipykernel)",
   "language": "python",
   "name": "python3"
  },
  "language_info": {
   "codemirror_mode": {
    "name": "ipython",
    "version": 3
   },
   "file_extension": ".py",
   "mimetype": "text/x-python",
   "name": "python",
   "nbconvert_exporter": "python",
   "pygments_lexer": "ipython3",
   "version": "3.11.8"
  }
 },
 "nbformat": 4,
 "nbformat_minor": 4
}
