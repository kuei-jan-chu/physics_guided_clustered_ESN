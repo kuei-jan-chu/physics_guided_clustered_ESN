{
 "cells": [
  {
   "cell_type": "markdown",
   "metadata": {},
   "source": [
    "# Generate lorenz with sigma = 10, rho = 28, beta = 8./3"
   ]
  },
  {
   "cell_type": "markdown",
   "metadata": {},
   "source": [
    "## generate data"
   ]
  },
  {
   "cell_type": "code",
   "execution_count": 3,
   "metadata": {},
   "outputs": [
    {
     "name": "stdout",
     "output_type": "stream",
     "text": [
      "Get past initial transients\n",
      "100000/100000\n",
      "\n",
      "\n",
      "Generate time series\n",
      "200000/200000\r"
     ]
    }
   ],
   "source": [
    "%run ./0_data_generation.py"
   ]
  },
  {
   "cell_type": "markdown",
   "metadata": {},
   "source": [
    "## calculate the Maximum lyapunov exponent"
   ]
  },
  {
   "cell_type": "code",
   "execution_count": 2,
   "metadata": {},
   "outputs": [
    {
     "name": "stdout",
     "output_type": "stream",
     "text": [
      "\n",
      "MAXIMUM LYAPUNOV EXPONENT = 0.9083170644576405\n"
     ]
    }
   ],
   "source": [
    "%run ./1_mle_calculation.py"
   ]
  },
  {
   "cell_type": "markdown",
   "metadata": {},
   "source": [
    "## seperate data to train and test"
   ]
  },
  {
   "cell_type": "code",
   "execution_count": 3,
   "metadata": {},
   "outputs": [
    {
     "name": "stdout",
     "output_type": "stream",
     "text": [
      "Total data shape: \n",
      "(200000, 3)\n",
      "Traing data shape: \n",
      "(100000, 3)\n",
      "Test data shape: \n",
      "(100000, 3)\n",
      "attractor_std shape: \n",
      "(3,)\n",
      "train_input_sequence shape: \n",
      "(100000, 3)\n",
      "test_input_sequence shape: \n",
      "(100000, 3)\n"
     ]
    }
   ],
   "source": [
    "%run ./2_create_training_data.py"
   ]
  },
  {
   "cell_type": "markdown",
   "metadata": {},
   "source": [
    "## seperate train data to training and validation parts for hyperparameters tuning"
   ]
  },
  {
   "cell_type": "code",
   "execution_count": 4,
   "metadata": {},
   "outputs": [
    {
     "name": "stdout",
     "output_type": "stream",
     "text": [
      "Traing data shape: \n",
      "(60000, 3)\n",
      "Test data shape: \n",
      "(40000, 3)\n"
     ]
    }
   ],
   "source": [
    "%run ./3_create_tuning_data.py"
   ]
  },
  {
   "cell_type": "markdown",
   "metadata": {},
   "source": [
    "## Plot figures"
   ]
  },
  {
   "cell_type": "code",
   "execution_count": null,
   "metadata": {},
   "outputs": [],
   "source": []
  },
  {
   "cell_type": "code",
   "execution_count": null,
   "metadata": {},
   "outputs": [],
   "source": []
  }
 ],
 "metadata": {
  "kernelspec": {
   "display_name": "base",
   "language": "python",
   "name": "python3"
  },
  "language_info": {
   "codemirror_mode": {
    "name": "ipython",
    "version": 3
   },
   "file_extension": ".py",
   "mimetype": "text/x-python",
   "name": "python",
   "nbconvert_exporter": "python",
   "pygments_lexer": "ipython3",
   "version": "3.11.8"
  }
 },
 "nbformat": 4,
 "nbformat_minor": 2
}
