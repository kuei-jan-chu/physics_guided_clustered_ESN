{
 "cells": [
  {
   "cell_type": "markdown",
   "metadata": {},
   "source": [
    "# Generate homogeneouse Kuramoto-Sivashinsky data with L = 60, D = 128"
   ]
  },
  {
   "cell_type": "markdown",
   "metadata": {},
   "source": [
    "## generate data"
   ]
  },
  {
   "cell_type": "code",
   "execution_count": 1,
   "metadata": {},
   "outputs": [
    {
     "name": "stdout",
     "output_type": "stream",
     "text": [
      "[0.1870537  0.18704495 0.18388807 0.1838687  0.17912411 0.1790575\n",
      " 0.16654745 0.1664624  0.16307277 0.16308341 0.14154876 0.14154793\n",
      " 0.13122926 0.13120758 0.11637949 0.11636845 0.09082757 0.09075538\n",
      " 0.07382595 0.07373192 0.06608107 0.06603466 0.04376376 0.0437132\n",
      " 0.02503633 0.02499635]\n",
      "0.18705369684458079\n",
      "None\n",
      "Simulated data shape:  (200000, 256)\n"
     ]
    }
   ],
   "source": [
    "%run ./0_data_generation.py"
   ]
  },
  {
   "cell_type": "markdown",
   "metadata": {},
   "source": [
    "## calculate the Maximum lyapunov exponent"
   ]
  },
  {
   "cell_type": "code",
   "execution_count": 2,
   "metadata": {},
   "outputs": [
    {
     "name": "stdout",
     "output_type": "stream",
     "text": [
      "\n",
      "MAXIMUM LYAPUNOV EXPONENT = 0.09075119380140871\n"
     ]
    }
   ],
   "source": [
    "%run ./1_mle_calculation.py"
   ]
  },
  {
   "cell_type": "markdown",
   "metadata": {},
   "source": [
    "## seperate data to train and test"
   ]
  },
  {
   "cell_type": "code",
   "execution_count": 3,
   "metadata": {},
   "outputs": [
    {
     "name": "stdout",
     "output_type": "stream",
     "text": [
      "Total data shape: \n",
      "(200000, 256)\n",
      "Traing data shape: \n",
      "(100000, 256)\n",
      "Test data shape: \n",
      "(100000, 256)\n"
     ]
    }
   ],
   "source": [
    "%run ./2_create_training_data.py"
   ]
  },
  {
   "cell_type": "markdown",
   "metadata": {},
   "source": [
    "## seperate train data to training and validation parts for hyperparameters tuning"
   ]
  },
  {
   "cell_type": "code",
   "execution_count": 4,
   "metadata": {},
   "outputs": [
    {
     "name": "stdout",
     "output_type": "stream",
     "text": [
      "Traing data shape: \n",
      "(60000, 256)\n",
      "Test data shape: \n",
      "(40000, 256)\n"
     ]
    }
   ],
   "source": [
    "%run ./3_create_tuning_data.py"
   ]
  },
  {
   "cell_type": "markdown",
   "metadata": {},
   "source": [
    "## Plot figures"
   ]
  },
  {
   "cell_type": "code",
   "execution_count": 1,
   "metadata": {},
   "outputs": [],
   "source": [
    "%run ./4_create_figures.py"
   ]
  },
  {
   "cell_type": "code",
   "execution_count": null,
   "metadata": {},
   "outputs": [],
   "source": []
  },
  {
   "cell_type": "code",
   "execution_count": null,
   "metadata": {},
   "outputs": [],
   "source": []
  },
  {
   "cell_type": "code",
   "execution_count": null,
   "metadata": {},
   "outputs": [],
   "source": []
  }
 ],
 "metadata": {
  "kernelspec": {
   "display_name": "base",
   "language": "python",
   "name": "python3"
  },
  "language_info": {
   "codemirror_mode": {
    "name": "ipython",
    "version": 3
   },
   "file_extension": ".py",
   "mimetype": "text/x-python",
   "name": "python",
   "nbconvert_exporter": "python",
   "pygments_lexer": "ipython3",
   "version": "3.11.8"
  }
 },
 "nbformat": 4,
 "nbformat_minor": 4
}
