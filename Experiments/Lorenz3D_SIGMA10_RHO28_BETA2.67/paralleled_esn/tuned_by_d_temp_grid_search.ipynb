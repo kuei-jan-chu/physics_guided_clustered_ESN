{
 "cells": [
  {
   "cell_type": "code",
   "execution_count": 1,
   "metadata": {},
   "outputs": [
    {
     "name": "stdout",
     "output_type": "stream",
     "text": [
      "Grid Search Progress:   0%|                                               | 0/25 [00:00<?, ?trial/s][tuf-4090:346600] shmem: mmap: an error occurred while determining whether or not /tmp/ompi.tuf-4090.1000/jf.0/3913613312/shared_mem_cuda_pool.tuf-4090 could be created.\n",
      "[tuf-4090:346600] create_and_attach: unable to create shared memory BTL coordinating structure :: size 134217728 \n",
      "Grid Search Progress: 100%|███████████████| 25/25 [07:24<00:00, 17.77s/trial, Current Best Loss=inf]\n",
      "/home/user/kuei_jan_CHU/PGClustered_ESN/Methods/./Utils/hyper_tuning_utils.py:388: UserWarning: All hyperparameter trials failed or returned infinite loss. Randomly selecting a hyperparameter set.\n",
      "  warnings.warn(\"All hyperparameter trials failed or returned infinite loss. Randomly selecting a hyperparameter set.\")\n",
      "{'radius': 0.99, 'sigma_input': 1.5}\n"
     ]
    }
   ],
   "source": [
    "!bash ./0_Paralleled_ESN_Tune.sh \"tune\" 3 1 1 0 \"grid_search.json\" "
   ]
  },
  {
   "cell_type": "code",
   "execution_count": 1,
   "metadata": {},
   "outputs": [
    {
     "name": "stdout",
     "output_type": "stream",
     "text": [
      "{'radius': 0.99, 'sigma_input': 1.5}\n",
      "[tuf-4090:238033] shmem: mmap: an error occurred while determining whether or not /tmp/ompi.tuf-4090.1000/jf.0/1275068416/shared_mem_cuda_pool.tuf-4090 could be created.\n",
      "[tuf-4090:238033] create_and_attach: unable to create shared memory BTL coordinating structure :: size 134217728 \n",
      "/home/user/anaconda3/lib/python3.11/site-packages/numpy/core/_methods.py:236: RuntimeWarning: invalid value encountered in subtract\n",
      "  x = asanyarray(arr - arrmean)\n",
      "AVERAGE RMNSE ERROR ON TRAIN DATA SET: 0.8893559034071131 ± 0.0007376820813328024\n",
      "AVG NUMBER OF ACCURATE 0.5 PREDICTIONS ON TRAIN DATA SET: 0.00336077313849327 ± 0.0022635144608158593\n",
      "AVG NUMBER OF ACCURATE 1 PREDICTIONS ON TRAIN DATA SET: 0.05068409219673633 ± 0.017218778549050625\n",
      "POWER SPECTRUM MEAN ERROR ON TRAIN DATA SET: inf ± nan\n",
      "TEMPORAL DISTANCE ON TRAIN DATA SET: nan ± nan\n",
      "GEOMETRICAL DISTANCE ON TRAIN DATA SET: 0.6078964432298356 ± 0.022617672898086857\n",
      "\n",
      "\n",
      "AVERAGE RMNSE ERROR ON TEST DATA SET: 0.8893655973966558 ± 0.0009292053397684977\n",
      "AVG NUMBER OF ACCURATE 0.5 PREDICTIONS ON TEST DATA SET: 0.026704521695054634 ± 0.0032293194645859526\n",
      "AVG NUMBER OF ACCURATE 1 PREDICTIONS ON TEST DATA SET: 0.13306844994304431 ± 0.00981024480428923\n",
      "POWER SPECTRUM MEAN ERROR ON TEST DATA SET: inf ± nan\n",
      "TEMPORAL DISTANCE ON TEST DATA SET: nan ± nan\n",
      "GEOMETRICAL DISTANCE ON TEST DATA SET: 0.6076695657935742 ± 0.014767783561685933\n"
     ]
    }
   ],
   "source": [
    "!bash ./1_Paralleled_ESN_Evaluate_Tuned_Model.sh \"evaluate_tuned_model\" 3 1 1 0 \"grid_search.json\" "
   ]
  },
  {
   "cell_type": "code",
   "execution_count": 3,
   "metadata": {},
   "outputs": [
    {
     "name": "stdout",
     "output_type": "stream",
     "text": [
      "Grid Search Progress:   0%|                                               | 0/25 [00:00<?, ?trial/s][tuf-4090:348756] shmem: mmap: an error occurred while determining whether or not /tmp/ompi.tuf-4090.1000/jf.0/3199336448/shared_mem_cuda_pool.tuf-4090 could be created.\n",
      "[tuf-4090:348756] create_and_attach: unable to create shared memory BTL coordinating structure :: size 134217728 \n",
      "Grid Search Progress: 100%|███████████| 25/25 [08:24<00:00, 20.19s/trial, Current Best Loss=0.63872]\n",
      "{'radius': 0.4, 'sigma_input': 0.1}\n"
     ]
    }
   ],
   "source": [
    "!bash ./0_Paralleled_ESN_Tune.sh \"tune\" 25 1 1 1 \"grid_search.json\" "
   ]
  },
  {
   "cell_type": "code",
   "execution_count": 2,
   "metadata": {},
   "outputs": [
    {
     "name": "stdout",
     "output_type": "stream",
     "text": [
      "{'radius': 0.4, 'sigma_input': 0.1}\n",
      "[tuf-4090:238046] shmem: mmap: an error occurred while determining whether or not /tmp/ompi.tuf-4090.1000/jf.0/1906180096/shared_mem_cuda_pool.tuf-4090 could be created.\n",
      "[tuf-4090:238046] create_and_attach: unable to create shared memory BTL coordinating structure :: size 134217728 \n",
      "/home/user/anaconda3/lib/python3.11/site-packages/numpy/core/_methods.py:236: RuntimeWarning: invalid value encountered in subtract\n",
      "  x = asanyarray(arr - arrmean)\n",
      "AVERAGE RMNSE ERROR ON TRAIN DATA SET: 1.388879736355356 ± 1.066880787869035\n",
      "AVG NUMBER OF ACCURATE 0.5 PREDICTIONS ON TRAIN DATA SET: 0.3230883798275827 ± 0.08496727193586365\n",
      "AVG NUMBER OF ACCURATE 1 PREDICTIONS ON TRAIN DATA SET: 0.6754245691307015 ± 0.272282853796784\n",
      "POWER SPECTRUM MEAN ERROR ON TRAIN DATA SET: inf ± nan\n",
      "TEMPORAL DISTANCE ON TRAIN DATA SET: 0.5879999750957217 ± 0.21188837238866887\n",
      "GEOMETRICAL DISTANCE ON TRAIN DATA SET: 1.9886107998049252 ± 2.8888541721522736\n",
      "\n",
      "\n",
      "AVERAGE RMNSE ERROR ON TEST DATA SET: 2.3783133023377045 ± 1.4731421494824815\n",
      "AVG NUMBER OF ACCURATE 0.5 PREDICTIONS ON TEST DATA SET: 0.32408752859848616 ± 0.04934728702272642\n",
      "AVG NUMBER OF ACCURATE 1 PREDICTIONS ON TEST DATA SET: 0.6843260763623864 ± 0.12834054061459824\n",
      "POWER SPECTRUM MEAN ERROR ON TEST DATA SET: inf ± nan\n",
      "TEMPORAL DISTANCE ON TEST DATA SET: 0.5720875646296096 ± 0.18247363894544807\n",
      "GEOMETRICAL DISTANCE ON TEST DATA SET: inf ± nan\n"
     ]
    }
   ],
   "source": [
    "!bash ./1_Paralleled_ESN_Evaluate_Tuned_Model.sh \"evaluate_tuned_model\" 25 1 1 1 \"grid_search.json\" "
   ]
  },
  {
   "cell_type": "code",
   "execution_count": 5,
   "metadata": {},
   "outputs": [
    {
     "name": "stdout",
     "output_type": "stream",
     "text": [
      "Grid Search Progress:   0%|                                               | 0/25 [00:00<?, ?trial/s][tuf-4090:350849] shmem: mmap: an error occurred while determining whether or not /tmp/ompi.tuf-4090.1000/jf.0/2886008832/shared_mem_cuda_pool.tuf-4090 could be created.\n",
      "[tuf-4090:350849] create_and_attach: unable to create shared memory BTL coordinating structure :: size 134217728 \n",
      "Grid Search Progress: 100%|███████████| 25/25 [09:06<00:00, 21.86s/trial, Current Best Loss=0.57019]\n",
      "{'radius': 0.9, 'sigma_input': 0.1}\n"
     ]
    }
   ],
   "source": [
    "!bash ./0_Paralleled_ESN_Tune.sh \"tune\" 50 1 1 2 \"grid_search.json\" "
   ]
  },
  {
   "cell_type": "code",
   "execution_count": 3,
   "metadata": {},
   "outputs": [
    {
     "name": "stdout",
     "output_type": "stream",
     "text": [
      "{'radius': 0.9, 'sigma_input': 0.1}\n",
      "[tuf-4090:238053] shmem: mmap: an error occurred while determining whether or not /tmp/ompi.tuf-4090.1000/jf.0/2370568192/shared_mem_cuda_pool.tuf-4090 could be created.\n",
      "[tuf-4090:238053] create_and_attach: unable to create shared memory BTL coordinating structure :: size 134217728 \n",
      "/home/user/anaconda3/lib/python3.11/site-packages/numpy/core/_methods.py:236: RuntimeWarning: invalid value encountered in subtract\n",
      "  x = asanyarray(arr - arrmean)\n",
      "AVERAGE RMNSE ERROR ON TRAIN DATA SET: 2.2733410879434346 ± 1.229312763892157\n",
      "AVG NUMBER OF ACCURATE 0.5 PREDICTIONS ON TRAIN DATA SET: 0.5488051703453064 ± 0.12840969287273923\n",
      "AVG NUMBER OF ACCURATE 1 PREDICTIONS ON TRAIN DATA SET: 0.8335625700527768 ± 0.17534098124474556\n",
      "POWER SPECTRUM MEAN ERROR ON TRAIN DATA SET: inf ± nan\n",
      "TEMPORAL DISTANCE ON TRAIN DATA SET: 0.6184128247395655 ± 0.17129660594155105\n",
      "GEOMETRICAL DISTANCE ON TRAIN DATA SET: inf ± nan\n",
      "\n",
      "\n",
      "AVERAGE RMNSE ERROR ON TEST DATA SET: 2.9999138595007864 ± 1.6632083151168908\n",
      "AVG NUMBER OF ACCURATE 0.5 PREDICTIONS ON TEST DATA SET: 0.6419985011586603 ± 0.14253506327734894\n",
      "AVG NUMBER OF ACCURATE 1 PREDICTIONS ON TEST DATA SET: 1.0135001805218353 ± 0.2687172179200285\n",
      "POWER SPECTRUM MEAN ERROR ON TEST DATA SET: inf ± nan\n",
      "TEMPORAL DISTANCE ON TEST DATA SET: 0.6577720983715729 ± 0.18164893619176692\n",
      "GEOMETRICAL DISTANCE ON TEST DATA SET: inf ± nan\n"
     ]
    }
   ],
   "source": [
    "!bash ./1_Paralleled_ESN_Evaluate_Tuned_Model.sh \"evaluate_tuned_model\" 50 1 1 2 \"grid_search.json\" "
   ]
  },
  {
   "cell_type": "code",
   "execution_count": 7,
   "metadata": {},
   "outputs": [
    {
     "name": "stdout",
     "output_type": "stream",
     "text": [
      "Grid Search Progress:   0%|                                               | 0/25 [00:00<?, ?trial/s][tuf-4090:352991] shmem: mmap: an error occurred while determining whether or not /tmp/ompi.tuf-4090.1000/jf.0/3975479296/shared_mem_cuda_pool.tuf-4090 could be created.\n",
      "[tuf-4090:352991] create_and_attach: unable to create shared memory BTL coordinating structure :: size 134217728 \n",
      "Grid Search Progress: 100%|███████████| 25/25 [09:43<00:00, 23.35s/trial, Current Best Loss=0.45952]\n",
      "{'radius': 0.9, 'sigma_input': 0.5}\n"
     ]
    }
   ],
   "source": [
    "!bash ./0_Paralleled_ESN_Tune.sh \"tune\" 100 1 1 3 \"grid_search.json\" "
   ]
  },
  {
   "cell_type": "code",
   "execution_count": 4,
   "metadata": {},
   "outputs": [
    {
     "name": "stdout",
     "output_type": "stream",
     "text": [
      "{'radius': 0.9, 'sigma_input': 0.5}\n",
      "[tuf-4090:238062] shmem: mmap: an error occurred while determining whether or not /tmp/ompi.tuf-4090.1000/jf.0/3573547008/shared_mem_cuda_pool.tuf-4090 could be created.\n",
      "[tuf-4090:238062] create_and_attach: unable to create shared memory BTL coordinating structure :: size 134217728 \n",
      "/home/user/anaconda3/lib/python3.11/site-packages/numpy/core/_methods.py:236: RuntimeWarning: invalid value encountered in subtract\n",
      "  x = asanyarray(arr - arrmean)\n",
      "AVERAGE RMNSE ERROR ON TRAIN DATA SET: 1.5587111394643718 ± 0.44624763160502073\n",
      "AVG NUMBER OF ACCURATE 0.5 PREDICTIONS ON TRAIN DATA SET: 0.7625321756121892 ± 0.25096958287135546\n",
      "AVG NUMBER OF ACCURATE 1 PREDICTIONS ON TRAIN DATA SET: 1.0048711684094875 ± 0.3171140414051124\n",
      "POWER SPECTRUM MEAN ERROR ON TRAIN DATA SET: inf ± nan\n",
      "TEMPORAL DISTANCE ON TRAIN DATA SET: 0.5761483337236102 ± 0.2568057484973069\n",
      "GEOMETRICAL DISTANCE ON TRAIN DATA SET: inf ± nan\n",
      "\n",
      "\n",
      "AVERAGE RMNSE ERROR ON TEST DATA SET: 1.5110980250032577 ± 0.4527064214096846\n",
      "AVG NUMBER OF ACCURATE 0.5 PREDICTIONS ON TEST DATA SET: 0.8986889035743895 ± 0.3027150285299788\n",
      "AVG NUMBER OF ACCURATE 1 PREDICTIONS ON TEST DATA SET: 1.2410336051684743 ± 0.4239587874919709\n",
      "POWER SPECTRUM MEAN ERROR ON TEST DATA SET: inf ± nan\n",
      "TEMPORAL DISTANCE ON TEST DATA SET: 0.5747941086530691 ± 0.2557971114372412\n",
      "GEOMETRICAL DISTANCE ON TEST DATA SET: inf ± nan\n"
     ]
    }
   ],
   "source": [
    "!bash ./1_Paralleled_ESN_Evaluate_Tuned_Model.sh \"evaluate_tuned_model\" 100 1 1 3 \"grid_search.json\" "
   ]
  },
  {
   "cell_type": "code",
   "execution_count": 9,
   "metadata": {},
   "outputs": [
    {
     "name": "stdout",
     "output_type": "stream",
     "text": [
      "Grid Search Progress:   0%|                                               | 0/25 [00:00<?, ?trial/s][tuf-4090:355101] shmem: mmap: an error occurred while determining whether or not /tmp/ompi.tuf-4090.1000/jf.0/1253572608/shared_mem_cuda_pool.tuf-4090 could be created.\n",
      "[tuf-4090:355101] create_and_attach: unable to create shared memory BTL coordinating structure :: size 134217728 \n",
      "Grid Search Progress: 100%|███████████| 25/25 [10:35<00:00, 25.44s/trial, Current Best Loss=0.58545]\n",
      "{'radius': 0.99, 'sigma_input': 0.5}\n"
     ]
    }
   ],
   "source": [
    "!bash ./0_Paralleled_ESN_Tune.sh \"tune\" 150 1 1 4 \"grid_search.json\" "
   ]
  },
  {
   "cell_type": "code",
   "execution_count": 5,
   "metadata": {},
   "outputs": [
    {
     "name": "stdout",
     "output_type": "stream",
     "text": [
      "{'radius': 0.99, 'sigma_input': 0.5}\n",
      "[tuf-4090:238069] shmem: mmap: an error occurred while determining whether or not /tmp/ompi.tuf-4090.1000/jf.0/4104781824/shared_mem_cuda_pool.tuf-4090 could be created.\n",
      "[tuf-4090:238069] create_and_attach: unable to create shared memory BTL coordinating structure :: size 134217728 \n",
      "/home/user/anaconda3/lib/python3.11/site-packages/numpy/core/_methods.py:236: RuntimeWarning: invalid value encountered in subtract\n",
      "  x = asanyarray(arr - arrmean)\n",
      "AVERAGE RMNSE ERROR ON TRAIN DATA SET: 1.2499426271203937 ± 0.12268549042086767\n",
      "AVG NUMBER OF ACCURATE 0.5 PREDICTIONS ON TRAIN DATA SET: 1.3406759871394776 ± 0.24711700163977182\n",
      "AVG NUMBER OF ACCURATE 1 PREDICTIONS ON TRAIN DATA SET: 1.9211814230343556 ± 0.4270049529220374\n",
      "POWER SPECTRUM MEAN ERROR ON TRAIN DATA SET: inf ± nan\n",
      "TEMPORAL DISTANCE ON TRAIN DATA SET: 0.36792651345870686 ± 0.1787101415860752\n",
      "GEOMETRICAL DISTANCE ON TRAIN DATA SET: 0.487556764968368 ± 0.8367138972892456\n",
      "\n",
      "\n",
      "AVERAGE RMNSE ERROR ON TEST DATA SET: 1.2605522909472573 ± 0.14259103620055866\n",
      "AVG NUMBER OF ACCURATE 0.5 PREDICTIONS ON TEST DATA SET: 1.5758392751275605 ± 0.43116586421245695\n",
      "AVG NUMBER OF ACCURATE 1 PREDICTIONS ON TEST DATA SET: 2.0532507242064963 ± 0.4804443062587673\n",
      "POWER SPECTRUM MEAN ERROR ON TEST DATA SET: 9.017620348917776 ± 13.908949936456109\n",
      "TEMPORAL DISTANCE ON TEST DATA SET: 0.3640050908349908 ± 0.18328146409340115\n",
      "GEOMETRICAL DISTANCE ON TEST DATA SET: 0.4917998582946509 ± 0.8424591132810222\n"
     ]
    }
   ],
   "source": [
    "!bash ./1_Paralleled_ESN_Evaluate_Tuned_Model.sh \"evaluate_tuned_model\" 150 1 1 4 \"grid_search.json\" "
   ]
  },
  {
   "cell_type": "code",
   "execution_count": 11,
   "metadata": {},
   "outputs": [
    {
     "name": "stdout",
     "output_type": "stream",
     "text": [
      "Grid Search Progress:   0%|                                               | 0/25 [00:00<?, ?trial/s][tuf-4090:357244] shmem: mmap: an error occurred while determining whether or not /tmp/ompi.tuf-4090.1000/jf.0/1631518720/shared_mem_cuda_pool.tuf-4090 could be created.\n",
      "[tuf-4090:357244] create_and_attach: unable to create shared memory BTL coordinating structure :: size 134217728 \n",
      "Grid Search Progress: 100%|███████████| 25/25 [07:27<00:00, 17.91s/trial, Current Best Loss=0.34721]\n",
      "{'radius': 0.9, 'sigma_input': 0.5}\n"
     ]
    }
   ],
   "source": [
    "!bash ./0_Paralleled_ESN_Tune.sh \"tune\" 200 1 1 5 \"grid_search.json\" "
   ]
  },
  {
   "cell_type": "code",
   "execution_count": 6,
   "metadata": {},
   "outputs": [
    {
     "name": "stdout",
     "output_type": "stream",
     "text": [
      "{'radius': 0.9, 'sigma_input': 0.5}\n",
      "[tuf-4090:238076] shmem: mmap: an error occurred while determining whether or not /tmp/ompi.tuf-4090.1000/jf.0/3595894784/shared_mem_cuda_pool.tuf-4090 could be created.\n",
      "[tuf-4090:238076] create_and_attach: unable to create shared memory BTL coordinating structure :: size 134217728 \n",
      "/home/user/anaconda3/lib/python3.11/site-packages/numpy/core/_methods.py:236: RuntimeWarning: invalid value encountered in subtract\n",
      "  x = asanyarray(arr - arrmean)\n",
      "AVERAGE RMNSE ERROR ON TRAIN DATA SET: 1.2570158325590755 ± 0.12740304064357869\n",
      "AVG NUMBER OF ACCURATE 0.5 PREDICTIONS ON TRAIN DATA SET: 1.693103008149042 ± 0.28193728588116806\n",
      "AVG NUMBER OF ACCURATE 1 PREDICTIONS ON TRAIN DATA SET: 2.292864765810422 ± 0.3937478623456308\n",
      "POWER SPECTRUM MEAN ERROR ON TRAIN DATA SET: inf ± nan\n",
      "TEMPORAL DISTANCE ON TRAIN DATA SET: 0.32478534357167155 ± 0.17798120376953866\n",
      "GEOMETRICAL DISTANCE ON TRAIN DATA SET: 0.9236085239029572 ± 0.9277875294159171\n",
      "\n",
      "\n",
      "AVERAGE RMNSE ERROR ON TEST DATA SET: 1.2731990198956156 ± 0.17501163790472762\n",
      "AVG NUMBER OF ACCURATE 0.5 PREDICTIONS ON TEST DATA SET: 1.8556009309805135 ± 0.28249111938927257\n",
      "AVG NUMBER OF ACCURATE 1 PREDICTIONS ON TEST DATA SET: 2.326381665488909 ± 0.2781158871673112\n",
      "POWER SPECTRUM MEAN ERROR ON TEST DATA SET: 15.82967722266543 ± 22.51927403657687\n",
      "TEMPORAL DISTANCE ON TEST DATA SET: 0.3159116400024562 ± 0.20358881323605973\n",
      "GEOMETRICAL DISTANCE ON TEST DATA SET: 0.7105631585153434 ± 0.71234125643156\n"
     ]
    }
   ],
   "source": [
    "!bash ./1_Paralleled_ESN_Evaluate_Tuned_Model.sh \"evaluate_tuned_model\" 200 1 1 5 \"grid_search.json\" "
   ]
  },
  {
   "cell_type": "code",
   "execution_count": 13,
   "metadata": {},
   "outputs": [
    {
     "name": "stdout",
     "output_type": "stream",
     "text": [
      "Grid Search Progress:   0%|                                               | 0/25 [00:00<?, ?trial/s][tuf-4090:359333] shmem: mmap: an error occurred while determining whether or not /tmp/ompi.tuf-4090.1000/jf.0/2876178432/shared_mem_cuda_pool.tuf-4090 could be created.\n",
      "[tuf-4090:359333] create_and_attach: unable to create shared memory BTL coordinating structure :: size 134217728 \n",
      "Grid Search Progress: 100%|███████████| 25/25 [07:44<00:00, 18.57s/trial, Current Best Loss=0.16756]\n",
      "{'radius': 0.99, 'sigma_input': 0.5}\n"
     ]
    }
   ],
   "source": [
    "!bash ./0_Paralleled_ESN_Tune.sh \"tune\" 250 1 1 6 \"grid_search.json\" "
   ]
  },
  {
   "cell_type": "code",
   "execution_count": 7,
   "metadata": {},
   "outputs": [
    {
     "name": "stdout",
     "output_type": "stream",
     "text": [
      "{'radius': 0.99, 'sigma_input': 0.5}\n",
      "[tuf-4090:238083] shmem: mmap: an error occurred while determining whether or not /tmp/ompi.tuf-4090.1000/jf.0/1740374016/shared_mem_cuda_pool.tuf-4090 could be created.\n",
      "[tuf-4090:238083] create_and_attach: unable to create shared memory BTL coordinating structure :: size 134217728 \n",
      "AVERAGE RMNSE ERROR ON TRAIN DATA SET: 1.170208454170425 ± 0.01639357893880906\n",
      "AVG NUMBER OF ACCURATE 0.5 PREDICTIONS ON TRAIN DATA SET: 2.405223586683832 ± 0.4939481312238463\n",
      "AVG NUMBER OF ACCURATE 1 PREDICTIONS ON TRAIN DATA SET: 3.0585760511482127 ± 0.4498398513794873\n",
      "POWER SPECTRUM MEAN ERROR ON TRAIN DATA SET: 6.372258217321363 ± 6.32689642501908\n",
      "TEMPORAL DISTANCE ON TRAIN DATA SET: 0.19886276616403492 ± 0.12782264598852036\n",
      "GEOMETRICAL DISTANCE ON TRAIN DATA SET: 0.3238614628469454 ± 0.4667515044399462\n",
      "\n",
      "\n",
      "AVERAGE RMNSE ERROR ON TEST DATA SET: 1.186004197868723 ± 0.018117122222718277\n",
      "AVG NUMBER OF ACCURATE 0.5 PREDICTIONS ON TEST DATA SET: 2.302583758400119 ± 0.24980998218713715\n",
      "AVG NUMBER OF ACCURATE 1 PREDICTIONS ON TEST DATA SET: 2.863015387170483 ± 0.2896870766071157\n",
      "POWER SPECTRUM MEAN ERROR ON TEST DATA SET: 4.138528913250501 ± 4.759266757743004\n",
      "TEMPORAL DISTANCE ON TEST DATA SET: 0.1690224283102018 ± 0.09615835522842403\n",
      "GEOMETRICAL DISTANCE ON TEST DATA SET: 0.19853873236954905 ± 0.3267420894999752\n"
     ]
    }
   ],
   "source": [
    "!bash ./1_Paralleled_ESN_Evaluate_Tuned_Model.sh \"evaluate_tuned_model\" 250 1 1 6 \"grid_search.json\" "
   ]
  },
  {
   "cell_type": "code",
   "execution_count": 15,
   "metadata": {},
   "outputs": [
    {
     "name": "stdout",
     "output_type": "stream",
     "text": [
      "Grid Search Progress:   0%|                                               | 0/25 [00:00<?, ?trial/s][tuf-4090:361469] shmem: mmap: an error occurred while determining whether or not /tmp/ompi.tuf-4090.1000/jf.0/325386240/shared_mem_cuda_pool.tuf-4090 could be created.\n",
      "[tuf-4090:361469] create_and_attach: unable to create shared memory BTL coordinating structure :: size 134217728 \n",
      "Grid Search Progress: 100%|███████████| 25/25 [08:03<00:00, 19.34s/trial, Current Best Loss=0.16361]\n",
      "{'radius': 0.7, 'sigma_input': 1.0}\n"
     ]
    }
   ],
   "source": [
    "!bash ./0_Paralleled_ESN_Tune.sh \"tune\" 300 1 1 7 \"grid_search.json\" "
   ]
  },
  {
   "cell_type": "code",
   "execution_count": 8,
   "metadata": {},
   "outputs": [
    {
     "name": "stdout",
     "output_type": "stream",
     "text": [
      "{'radius': 0.7, 'sigma_input': 1.0}\n",
      "[tuf-4090:238090] shmem: mmap: an error occurred while determining whether or not /tmp/ompi.tuf-4090.1000/jf.0/234553344/shared_mem_cuda_pool.tuf-4090 could be created.\n",
      "[tuf-4090:238090] create_and_attach: unable to create shared memory BTL coordinating structure :: size 134217728 \n",
      "AVERAGE RMNSE ERROR ON TRAIN DATA SET: 1.18644965201902 ± 0.021602654237973275\n",
      "AVG NUMBER OF ACCURATE 0.5 PREDICTIONS ON TRAIN DATA SET: 2.061334746080169 ± 0.2755194424980549\n",
      "AVG NUMBER OF ACCURATE 1 PREDICTIONS ON TRAIN DATA SET: 2.6703613377990174 ± 0.3840893540185467\n",
      "POWER SPECTRUM MEAN ERROR ON TRAIN DATA SET: 2.878788071246157 ± 2.443920026598149\n",
      "TEMPORAL DISTANCE ON TRAIN DATA SET: 0.16940608463869197 ± 0.07267271308735374\n",
      "GEOMETRICAL DISTANCE ON TRAIN DATA SET: 0.12059725074883218 ± 0.1763396846740982\n",
      "\n",
      "\n",
      "AVERAGE RMNSE ERROR ON TEST DATA SET: 1.206667367362885 ± 0.02080261433195881\n",
      "AVG NUMBER OF ACCURATE 0.5 PREDICTIONS ON TEST DATA SET: 2.0327227585497534 ± 0.1876322104703855\n",
      "AVG NUMBER OF ACCURATE 1 PREDICTIONS ON TEST DATA SET: 2.6089591042416806 ± 0.2300399895329792\n",
      "POWER SPECTRUM MEAN ERROR ON TEST DATA SET: 4.7931889264399095 ± 4.462406804365095\n",
      "TEMPORAL DISTANCE ON TEST DATA SET: 0.1344222805897779 ± 0.03308968542280257\n",
      "GEOMETRICAL DISTANCE ON TEST DATA SET: 0.06820282139982897 ± 0.08477043566588417\n"
     ]
    }
   ],
   "source": [
    "!bash ./1_Paralleled_ESN_Evaluate_Tuned_Model.sh \"evaluate_tuned_model\" 300 1 1 7 \"grid_search.json\" "
   ]
  },
  {
   "cell_type": "code",
   "execution_count": 17,
   "metadata": {},
   "outputs": [
    {
     "name": "stdout",
     "output_type": "stream",
     "text": [
      "Grid Search Progress:   0%|                                               | 0/25 [00:00<?, ?trial/s][tuf-4090:363587] shmem: mmap: an error occurred while determining whether or not /tmp/ompi.tuf-4090.1000/jf.0/1648361472/shared_mem_cuda_pool.tuf-4090 could be created.\n",
      "[tuf-4090:363587] create_and_attach: unable to create shared memory BTL coordinating structure :: size 134217728 \n",
      "Grid Search Progress: 100%|███████████| 25/25 [08:26<00:00, 20.27s/trial, Current Best Loss=0.12986]\n",
      "{'radius': 0.1, 'sigma_input': 1.0}\n"
     ]
    }
   ],
   "source": [
    "!bash ./0_Paralleled_ESN_Tune.sh \"tune\" 350 1 1 8 \"grid_search.json\" "
   ]
  },
  {
   "cell_type": "code",
   "execution_count": 9,
   "metadata": {},
   "outputs": [
    {
     "name": "stdout",
     "output_type": "stream",
     "text": [
      "{'radius': 0.1, 'sigma_input': 1.0}\n",
      "[tuf-4090:238097] shmem: mmap: an error occurred while determining whether or not /tmp/ompi.tuf-4090.1000/jf.0/1740701696/shared_mem_cuda_pool.tuf-4090 could be created.\n",
      "[tuf-4090:238097] create_and_attach: unable to create shared memory BTL coordinating structure :: size 134217728 \n",
      "AVERAGE RMNSE ERROR ON TRAIN DATA SET: 1.1756034252171454 ± 0.02709135609498881\n",
      "AVG NUMBER OF ACCURATE 0.5 PREDICTIONS ON TRAIN DATA SET: 2.3147552070638513 ± 0.5184416006056582\n",
      "AVG NUMBER OF ACCURATE 1 PREDICTIONS ON TRAIN DATA SET: 3.029237409966231 ± 0.5341559275785436\n",
      "POWER SPECTRUM MEAN ERROR ON TRAIN DATA SET: 3.2827560780115532 ± 2.7454771289942284\n",
      "TEMPORAL DISTANCE ON TRAIN DATA SET: 0.12722295504920994 ± 0.020689442374308326\n",
      "GEOMETRICAL DISTANCE ON TRAIN DATA SET: 0.06669931013380147 ± 0.10287215861068683\n",
      "\n",
      "\n",
      "AVERAGE RMNSE ERROR ON TEST DATA SET: 1.2008672565868683 ± 0.01870375169254253\n",
      "AVG NUMBER OF ACCURATE 0.5 PREDICTIONS ON TEST DATA SET: 2.385785601504438 ± 0.2679560588166439\n",
      "AVG NUMBER OF ACCURATE 1 PREDICTIONS ON TEST DATA SET: 2.929322532875891 ± 0.29263122738992564\n",
      "POWER SPECTRUM MEAN ERROR ON TEST DATA SET: 2.242699283024267 ± 1.743738301347373\n",
      "TEMPORAL DISTANCE ON TEST DATA SET: 0.12035485447597143 ± 0.017659521044587283\n",
      "GEOMETRICAL DISTANCE ON TEST DATA SET: 0.05445793595248037 ± 0.0748722357061714\n"
     ]
    }
   ],
   "source": [
    "!bash ./1_Paralleled_ESN_Evaluate_Tuned_Model.sh \"evaluate_tuned_model\" 350 1 1 8 \"grid_search.json\" "
   ]
  },
  {
   "cell_type": "code",
   "execution_count": 19,
   "metadata": {},
   "outputs": [
    {
     "name": "stdout",
     "output_type": "stream",
     "text": [
      "Grid Search Progress:   0%|                                               | 0/25 [00:00<?, ?trial/s][tuf-4090:365723] shmem: mmap: an error occurred while determining whether or not /tmp/ompi.tuf-4090.1000/jf.0/367656960/shared_mem_cuda_pool.tuf-4090 could be created.\n",
      "[tuf-4090:365723] create_and_attach: unable to create shared memory BTL coordinating structure :: size 134217728 \n",
      "Grid Search Progress: 100%|███████████| 25/25 [09:02<00:00, 21.71s/trial, Current Best Loss=0.13366]\n",
      "{'radius': 0.1, 'sigma_input': 1.0}\n"
     ]
    }
   ],
   "source": [
    "!bash ./0_Paralleled_ESN_Tune.sh \"tune\" 400 1 1 9 \"grid_search.json\" "
   ]
  },
  {
   "cell_type": "code",
   "execution_count": 10,
   "metadata": {},
   "outputs": [
    {
     "name": "stdout",
     "output_type": "stream",
     "text": [
      "{'radius': 0.1, 'sigma_input': 1.0}\n",
      "[tuf-4090:238104] shmem: mmap: an error occurred while determining whether or not /tmp/ompi.tuf-4090.1000/jf.0/1431044096/shared_mem_cuda_pool.tuf-4090 could be created.\n",
      "[tuf-4090:238104] create_and_attach: unable to create shared memory BTL coordinating structure :: size 134217728 \n",
      "AVERAGE RMNSE ERROR ON TRAIN DATA SET: 1.1937090595862303 ± 0.015794678652667052\n",
      "AVG NUMBER OF ACCURATE 0.5 PREDICTIONS ON TRAIN DATA SET: 2.4850646566496586 ± 0.24482757666521074\n",
      "AVG NUMBER OF ACCURATE 1 PREDICTIONS ON TRAIN DATA SET: 3.0947270703136267 ± 0.25054389676221034\n",
      "POWER SPECTRUM MEAN ERROR ON TRAIN DATA SET: 1.8991141876881854 ± 1.7363855874778025\n",
      "TEMPORAL DISTANCE ON TRAIN DATA SET: 0.11935445220870114 ± 0.011657951327212576\n",
      "GEOMETRICAL DISTANCE ON TRAIN DATA SET: 0.034634754628181955 ± 0.04908004681403379\n",
      "\n",
      "\n",
      "AVERAGE RMNSE ERROR ON TEST DATA SET: 1.1835860247767007 ± 0.016574949885962354\n",
      "AVG NUMBER OF ACCURATE 0.5 PREDICTIONS ON TEST DATA SET: 2.5036851564710405 ± 0.3200173111566457\n",
      "AVG NUMBER OF ACCURATE 1 PREDICTIONS ON TEST DATA SET: 3.0676592217927894 ± 0.3225850809753956\n",
      "POWER SPECTRUM MEAN ERROR ON TEST DATA SET: 2.610440731309347 ± 1.2955757049169165\n",
      "TEMPORAL DISTANCE ON TEST DATA SET: 0.1117681082247414 ± 0.005752414664410889\n",
      "GEOMETRICAL DISTANCE ON TEST DATA SET: 0.01560346339139298 ± 0.009015782851655564\n"
     ]
    }
   ],
   "source": [
    "!bash ./1_Paralleled_ESN_Evaluate_Tuned_Model.sh \"evaluate_tuned_model\" 400 1 1 9 \"grid_search.json\" "
   ]
  },
  {
   "cell_type": "code",
   "execution_count": null,
   "metadata": {},
   "outputs": [],
   "source": []
  },
  {
   "cell_type": "code",
   "execution_count": null,
   "metadata": {},
   "outputs": [],
   "source": []
  },
  {
   "cell_type": "code",
   "execution_count": null,
   "metadata": {},
   "outputs": [],
   "source": []
  },
  {
   "cell_type": "code",
   "execution_count": null,
   "metadata": {},
   "outputs": [],
   "source": []
  },
  {
   "cell_type": "code",
   "execution_count": null,
   "metadata": {},
   "outputs": [],
   "source": []
  },
  {
   "cell_type": "code",
   "execution_count": null,
   "metadata": {},
   "outputs": [],
   "source": []
  },
  {
   "cell_type": "code",
   "execution_count": null,
   "metadata": {},
   "outputs": [],
   "source": []
  },
  {
   "cell_type": "code",
   "execution_count": null,
   "metadata": {},
   "outputs": [],
   "source": []
  },
  {
   "cell_type": "code",
   "execution_count": null,
   "metadata": {},
   "outputs": [],
   "source": []
  },
  {
   "cell_type": "code",
   "execution_count": null,
   "metadata": {},
   "outputs": [],
   "source": []
  },
  {
   "cell_type": "code",
   "execution_count": null,
   "metadata": {},
   "outputs": [],
   "source": []
  }
 ],
 "metadata": {
  "kernelspec": {
   "display_name": "base",
   "language": "python",
   "name": "python3"
  },
  "language_info": {
   "codemirror_mode": {
    "name": "ipython",
    "version": 3
   },
   "file_extension": ".py",
   "mimetype": "text/x-python",
   "name": "python",
   "nbconvert_exporter": "python",
   "pygments_lexer": "ipython3",
   "version": "3.11.8"
  }
 },
 "nbformat": 4,
 "nbformat_minor": 4
}
