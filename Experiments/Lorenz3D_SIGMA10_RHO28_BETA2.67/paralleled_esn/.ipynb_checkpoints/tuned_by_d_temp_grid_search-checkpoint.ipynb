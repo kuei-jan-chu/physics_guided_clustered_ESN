{
 "cells": [
  {
   "cell_type": "code",
   "execution_count": 12,
   "metadata": {},
   "outputs": [
    {
     "name": "stdout",
     "output_type": "stream",
     "text": [
      "Grid Search Progress:   0%|                                               | 0/25 [00:00<?, ?trial/s][tuf-4090:78754] shmem: mmap: an error occurred while determining whether or not /tmp/ompi.tuf-4090.1000/jf.0/1547042816/shared_mem_cuda_pool.tuf-4090 could be created.\n",
      "[tuf-4090:78754] create_and_attach: unable to create shared memory BTL coordinating structure :: size 134217728 \n",
      "Grid Search Progress: 100%|███████████████| 25/25 [34:58<00:00, 83.94s/trial, Current Best Loss=inf]\n",
      "/home/user/kuei_jan_CHU/PGClustered_ESN/Methods/./Utils/hyper_tuning_utils.py:382: UserWarning: All hyperparameter trials failed or returned infinite loss. Randomly selecting a hyperparameter set.\n",
      "  warnings.warn(\"All hyperparameter trials failed or returned infinite loss. Randomly selecting a hyperparameter set.\")\n",
      "{'radius': 0.7, 'sigma_input': 1.0}\n"
     ]
    }
   ],
   "source": [
    "!bash ./0_Paralleled_ESN_Tune.sh \"tune\" 40 1 1 0 \"grid_search.json\" "
   ]
  },
  {
   "cell_type": "code",
   "execution_count": 13,
   "metadata": {},
   "outputs": [
    {
     "name": "stdout",
     "output_type": "stream",
     "text": [
      "{'radius': 0.7, 'sigma_input': 1.0}\n",
      "[tuf-4090:90560] shmem: mmap: an error occurred while determining whether or not /tmp/ompi.tuf-4090.1000/jf.0/1065156608/shared_mem_cuda_pool.tuf-4090 could be created.\n",
      "[tuf-4090:90560] create_and_attach: unable to create shared memory BTL coordinating structure :: size 134217728 \n",
      "/home/user/anaconda3/lib/python3.11/site-packages/numpy/core/_methods.py:236: RuntimeWarning: invalid value encountered in subtract\n",
      "  x = asanyarray(arr - arrmean)\n",
      "AVERAGE RMNSE ERROR ON TRAIN DATA SET: 0.9988361193951378 ± 0.0007473448200690561\n",
      "AVG NUMBER OF ACCURATE 0.5 PREDICTIONS ON TRAIN DATA SET: 0.0 ± 0.0\n",
      "AVG NUMBER OF ACCURATE 1 PREDICTIONS ON TRAIN DATA SET: 0.5719470946290366 ± 0.07384505543534564\n",
      "POWER SPECTRUM MEAN ERROR ON TRAIN DATA SET: inf ± nan\n",
      "TEMPORAL DISTANCE ON TRAIN DATA SET: nan ± nan\n",
      "GEOMETRICAL DISTANCE ON TRAIN DATA SET: 14.021333549633383 ± 0.0631876197133212\n",
      "\n",
      "\n",
      "AVERAGE RMNSE ERROR ON TEST DATA SET: 1.0000717219344706 ± 0.0007196743898485032\n",
      "AVG NUMBER OF ACCURATE 0.5 PREDICTIONS ON TEST DATA SET: 0.0 ± 0.0\n",
      "AVG NUMBER OF ACCURATE 1 PREDICTIONS ON TEST DATA SET: 0.26120551616963095 ± 0.016096733899224468\n",
      "POWER SPECTRUM MEAN ERROR ON TEST DATA SET: inf ± nan\n",
      "TEMPORAL DISTANCE ON TEST DATA SET: nan ± nan\n",
      "GEOMETRICAL DISTANCE ON TEST DATA SET: 14.127119121211152 ± 0.06762258663532379\n"
     ]
    }
   ],
   "source": [
    "!bash ./1_Paralleled_ESN_Evaluate_Tuned_Model.sh \"evaluate_tuned_model\" 40 1 1 0 \"grid_search.json\" "
   ]
  },
  {
   "cell_type": "code",
   "execution_count": 3,
   "metadata": {},
   "outputs": [
    {
     "name": "stdout",
     "output_type": "stream",
     "text": [
      "Grid Search Progress:   0%|                                               | 0/25 [00:00<?, ?trial/s]^C\n",
      "Grid Search Progress:   0%|                                               | 0/25 [00:05<?, ?trial/s]\n",
      "Traceback (most recent call last):\n",
      "  File \"/home/user/anaconda3/lib/python3.11/subprocess.py\", line 1209, in communicate\n",
      "    stdout, stderr = self._communicate(input, endtime, timeout)\n",
      "                     ^^^^^^^^^^^^^^^^^^^^^^^^^^^^^^^^^^^^^^^^^^\n",
      "  File \"/home/user/anaconda3/lib/python3.11/subprocess.py\", line 2113, in _communicate\n",
      "    ready = selector.select(timeout)\n",
      "            ^^^^^^^^^^^^^^^^^^^^^^^^\n",
      "  File \"/home/user/anaconda3/lib/python3.11/selectors.py\", line 415, in select\n",
      "    fd_event_list = self._selector.poll(timeout)\n",
      "                    ^^^^^^^^^^^^^^^^^^^^^^^^^^^^\n",
      "KeyboardInterrupt\n",
      "\n",
      "During handling of the above exception, another exception occurred:\n",
      "\n",
      "Traceback (most recent call last):\n",
      "  File \"/home/user/kuei_jan_CHU/PGClustered_ESN/Methods/RUN.py\", line 93, in <module>\n",
      "    main()\n",
      "  File \"/home/user/kuei_jan_CHU/PGClustered_ESN/Methods/RUN.py\", line 90, in main\n",
      "    runModel(args_dict)\n",
      "  File \"/home/user/kuei_jan_CHU/PGClustered_ESN/Methods/RUN.py\", line 10, in runModel\n",
      "    tuneModel(params_dict)\n",
      "  File \"/home/user/kuei_jan_CHU/PGClustered_ESN/Methods/./Utils/global_utils.py\", line 592, in tuneModel\n",
      "    searchBestHyperParameters(params_dict, hype_tuning_config_path, report_path)\n",
      "  File \"/home/user/kuei_jan_CHU/PGClustered_ESN/Methods/./Utils/hyper_tuning_utils.py\", line 500, in searchBestHyperParameters\n",
      "    gridSearch(params_dict, config, report_path)\n",
      "  File \"/home/user/kuei_jan_CHU/PGClustered_ESN/Methods/./Utils/hyper_tuning_utils.py\", line 340, in gridSearch\n",
      "    returned_dict = _objective(params_dict, config, hyper_args)\n",
      "                    ^^^^^^^^^^^^^^^^^^^^^^^^^^^^^^^^^^^^^^^^^^^\n",
      "  File \"/home/user/kuei_jan_CHU/PGClustered_ESN/Methods/./Utils/hyper_tuning_utils.py\", line 161, in _objective\n",
      "    return _objectiveParalleledModel(params_dict, hype_tuning_config, hyper_args)\n",
      "           ^^^^^^^^^^^^^^^^^^^^^^^^^^^^^^^^^^^^^^^^^^^^^^^^^^^^^^^^^^^^^^^^^^^^^^\n",
      "  File \"/home/user/kuei_jan_CHU/PGClustered_ESN/Methods/./Utils/hyper_tuning_utils.py\", line 272, in _objectiveParalleledModel\n",
      "    subprocess.run(tune_command, capture_output=True, text=True, check=True)\n",
      "  File \"/home/user/anaconda3/lib/python3.11/subprocess.py\", line 550, in run\n",
      "    stdout, stderr = process.communicate(input, timeout=timeout)\n",
      "                     ^^^^^^^^^^^^^^^^^^^^^^^^^^^^^^^^^^^^^^^^^^^\n",
      "  File \"/home/user/anaconda3/lib/python3.11/subprocess.py\", line 1220, in communicate\n",
      "    self._wait(timeout=sigint_timeout)\n",
      "  File \"/home/user/anaconda3/lib/python3.11/subprocess.py\", line 2045, in _wait\n",
      "    time.sleep(delay)\n",
      "KeyboardInterrupt\n"
     ]
    }
   ],
   "source": [
    "!bash ./0_Paralleled_ESN_Tune.sh \"tune\" 250 1 1 1 \"grid_search.json\" "
   ]
  },
  {
   "cell_type": "code",
   "execution_count": null,
   "metadata": {},
   "outputs": [
    {
     "name": "stdout",
     "output_type": "stream",
     "text": [
      "{'radius': 0.4, 'sigma_input': 0.5}\n",
      "Traceback (most recent call last):\n",
      "  File \"/home/user/kuei_jan_CHU/PGClustered_ESN/Methods/RUN.py\", line 93, in <module>\n",
      "    main()\n",
      "  File \"/home/user/kuei_jan_CHU/PGClustered_ESN/Methods/RUN.py\", line 90, in main\n",
      "    runModel(args_dict)\n",
      "  File \"/home/user/kuei_jan_CHU/PGClustered_ESN/Methods/RUN.py\", line 14, in runModel\n",
      "    evaluateTunedModel(params_dict)\n",
      "  File \"/home/user/kuei_jan_CHU/PGClustered_ESN/Methods/./Utils/global_utils.py\", line 615, in evaluateTunedModel\n",
      "    trainParalleledModelMultipleTimes(params_dict.copy())\n",
      "  File \"/home/user/kuei_jan_CHU/PGClustered_ESN/Methods/./Utils/global_utils.py\", line 680, in trainParalleledModelMultipleTimes\n",
      "    \"mpiexec\", \"--oversubscribe\", \"-n\", str(int(params_dict[\"RDIM\"]/params_dict[\"num_parallel_groups\"])), \"python3\", \"RUN.py\", params_dict[\"model_name\"],\n",
      "                                                                    ~~~~~~~~~~~^^^^^^^^^^^^^^^^^^^^^^^\n",
      "KeyError: 'num_parallel_groups'\n"
     ]
    }
   ],
   "source": [
    "!bash ./1_Paralleled_ESN_Evaluate_Tuned_Model.sh \"evaluate_tuned_model\" 250 1 1 1 \"grid_search.json\" "
   ]
  },
  {
   "cell_type": "code",
   "execution_count": null,
   "metadata": {},
   "outputs": [
    {
     "name": "stdout",
     "output_type": "stream",
     "text": [
      "Grid Search Progress:   0%|                                               | 0/25 [00:00<?, ?trial/s][tuf-4090:78754] shmem: mmap: an error occurred while determining whether or not /tmp/ompi.tuf-4090.1000/jf.0/1547042816/shared_mem_cuda_pool.tuf-4090 could be created.\n",
      "[tuf-4090:78754] create_and_attach: unable to create shared memory BTL coordinating structure :: size 134217728 \n",
      "Grid Search Progress: 100%|███████████████| 25/25 [34:58<00:00, 83.94s/trial, Current Best Loss=inf]\n",
      "/home/user/kuei_jan_CHU/PGClustered_ESN/Methods/./Utils/hyper_tuning_utils.py:382: UserWarning: All hyperparameter trials failed or returned infinite loss. Randomly selecting a hyperparameter set.\n",
      "  warnings.warn(\"All hyperparameter trials failed or returned infinite loss. Randomly selecting a hyperparameter set.\")\n",
      "{'radius': 0.7, 'sigma_input': 1.0}\n"
     ]
    }
   ],
   "source": [
    "!bash ./0_Paralleled_ESN_Tune.sh \"tune\" 500 1 1 2 \"grid_search.json\" "
   ]
  },
  {
   "cell_type": "code",
   "execution_count": null,
   "metadata": {},
   "outputs": [
    {
     "name": "stdout",
     "output_type": "stream",
     "text": [
      "{'radius': 0.7, 'sigma_input': 1.0}\n",
      "[tuf-4090:90560] shmem: mmap: an error occurred while determining whether or not /tmp/ompi.tuf-4090.1000/jf.0/1065156608/shared_mem_cuda_pool.tuf-4090 could be created.\n",
      "[tuf-4090:90560] create_and_attach: unable to create shared memory BTL coordinating structure :: size 134217728 \n",
      "/home/user/anaconda3/lib/python3.11/site-packages/numpy/core/_methods.py:236: RuntimeWarning: invalid value encountered in subtract\n",
      "  x = asanyarray(arr - arrmean)\n",
      "AVERAGE RMNSE ERROR ON TRAIN DATA SET: 0.9988361193951378 ± 0.0007473448200690561\n",
      "AVG NUMBER OF ACCURATE 0.5 PREDICTIONS ON TRAIN DATA SET: 0.0 ± 0.0\n",
      "AVG NUMBER OF ACCURATE 1 PREDICTIONS ON TRAIN DATA SET: 0.5719470946290366 ± 0.07384505543534564\n",
      "POWER SPECTRUM MEAN ERROR ON TRAIN DATA SET: inf ± nan\n",
      "TEMPORAL DISTANCE ON TRAIN DATA SET: nan ± nan\n",
      "GEOMETRICAL DISTANCE ON TRAIN DATA SET: 14.021333549633383 ± 0.0631876197133212\n",
      "\n",
      "\n",
      "AVERAGE RMNSE ERROR ON TEST DATA SET: 1.0000717219344706 ± 0.0007196743898485032\n",
      "AVG NUMBER OF ACCURATE 0.5 PREDICTIONS ON TEST DATA SET: 0.0 ± 0.0\n",
      "AVG NUMBER OF ACCURATE 1 PREDICTIONS ON TEST DATA SET: 0.26120551616963095 ± 0.016096733899224468\n",
      "POWER SPECTRUM MEAN ERROR ON TEST DATA SET: inf ± nan\n",
      "TEMPORAL DISTANCE ON TEST DATA SET: nan ± nan\n",
      "GEOMETRICAL DISTANCE ON TEST DATA SET: 14.127119121211152 ± 0.06762258663532379\n"
     ]
    }
   ],
   "source": [
    "!bash ./1_Paralleled_ESN_Evaluate_Tuned_Model.sh \"evaluate_tuned_model\" 500 1 1 2 \"grid_search.json\" "
   ]
  },
  {
   "cell_type": "code",
   "execution_count": null,
   "metadata": {},
   "outputs": [
    {
     "name": "stdout",
     "output_type": "stream",
     "text": [
      "Grid Search Progress:   0%|                                               | 0/25 [00:00<?, ?trial/s][tuf-4090:78754] shmem: mmap: an error occurred while determining whether or not /tmp/ompi.tuf-4090.1000/jf.0/1547042816/shared_mem_cuda_pool.tuf-4090 could be created.\n",
      "[tuf-4090:78754] create_and_attach: unable to create shared memory BTL coordinating structure :: size 134217728 \n",
      "Grid Search Progress: 100%|███████████████| 25/25 [34:58<00:00, 83.94s/trial, Current Best Loss=inf]\n",
      "/home/user/kuei_jan_CHU/PGClustered_ESN/Methods/./Utils/hyper_tuning_utils.py:382: UserWarning: All hyperparameter trials failed or returned infinite loss. Randomly selecting a hyperparameter set.\n",
      "  warnings.warn(\"All hyperparameter trials failed or returned infinite loss. Randomly selecting a hyperparameter set.\")\n",
      "{'radius': 0.7, 'sigma_input': 1.0}\n"
     ]
    }
   ],
   "source": [
    "!bash ./0_Paralleled_ESN_Tune.sh \"tune\" 1000 1 1 3 \"grid_search.json\" "
   ]
  },
  {
   "cell_type": "code",
   "execution_count": null,
   "metadata": {},
   "outputs": [
    {
     "name": "stdout",
     "output_type": "stream",
     "text": [
      "{'radius': 0.7, 'sigma_input': 1.0}\n",
      "[tuf-4090:90560] shmem: mmap: an error occurred while determining whether or not /tmp/ompi.tuf-4090.1000/jf.0/1065156608/shared_mem_cuda_pool.tuf-4090 could be created.\n",
      "[tuf-4090:90560] create_and_attach: unable to create shared memory BTL coordinating structure :: size 134217728 \n",
      "/home/user/anaconda3/lib/python3.11/site-packages/numpy/core/_methods.py:236: RuntimeWarning: invalid value encountered in subtract\n",
      "  x = asanyarray(arr - arrmean)\n",
      "AVERAGE RMNSE ERROR ON TRAIN DATA SET: 0.9988361193951378 ± 0.0007473448200690561\n",
      "AVG NUMBER OF ACCURATE 0.5 PREDICTIONS ON TRAIN DATA SET: 0.0 ± 0.0\n",
      "AVG NUMBER OF ACCURATE 1 PREDICTIONS ON TRAIN DATA SET: 0.5719470946290366 ± 0.07384505543534564\n",
      "POWER SPECTRUM MEAN ERROR ON TRAIN DATA SET: inf ± nan\n",
      "TEMPORAL DISTANCE ON TRAIN DATA SET: nan ± nan\n",
      "GEOMETRICAL DISTANCE ON TRAIN DATA SET: 14.021333549633383 ± 0.0631876197133212\n",
      "\n",
      "\n",
      "AVERAGE RMNSE ERROR ON TEST DATA SET: 1.0000717219344706 ± 0.0007196743898485032\n",
      "AVG NUMBER OF ACCURATE 0.5 PREDICTIONS ON TEST DATA SET: 0.0 ± 0.0\n",
      "AVG NUMBER OF ACCURATE 1 PREDICTIONS ON TEST DATA SET: 0.26120551616963095 ± 0.016096733899224468\n",
      "POWER SPECTRUM MEAN ERROR ON TEST DATA SET: inf ± nan\n",
      "TEMPORAL DISTANCE ON TEST DATA SET: nan ± nan\n",
      "GEOMETRICAL DISTANCE ON TEST DATA SET: 14.127119121211152 ± 0.06762258663532379\n"
     ]
    }
   ],
   "source": [
    "!bash ./1_Paralleled_ESN_Evaluate_Tuned_Model.sh \"evaluate_tuned_model\" 1000 1 1 3 \"grid_search.json\" "
   ]
  },
  {
   "cell_type": "code",
   "execution_count": null,
   "metadata": {},
   "outputs": [
    {
     "name": "stdout",
     "output_type": "stream",
     "text": [
      "Grid Search Progress:   0%|                                               | 0/25 [00:00<?, ?trial/s][tuf-4090:78754] shmem: mmap: an error occurred while determining whether or not /tmp/ompi.tuf-4090.1000/jf.0/1547042816/shared_mem_cuda_pool.tuf-4090 could be created.\n",
      "[tuf-4090:78754] create_and_attach: unable to create shared memory BTL coordinating structure :: size 134217728 \n",
      "Grid Search Progress: 100%|███████████████| 25/25 [34:58<00:00, 83.94s/trial, Current Best Loss=inf]\n",
      "/home/user/kuei_jan_CHU/PGClustered_ESN/Methods/./Utils/hyper_tuning_utils.py:382: UserWarning: All hyperparameter trials failed or returned infinite loss. Randomly selecting a hyperparameter set.\n",
      "  warnings.warn(\"All hyperparameter trials failed or returned infinite loss. Randomly selecting a hyperparameter set.\")\n",
      "{'radius': 0.7, 'sigma_input': 1.0}\n"
     ]
    }
   ],
   "source": [
    "!bash ./0_Paralleled_ESN_Tune.sh \"tune\" 1500 1 1 4 \"grid_search.json\" "
   ]
  },
  {
   "cell_type": "code",
   "execution_count": null,
   "metadata": {},
   "outputs": [
    {
     "name": "stdout",
     "output_type": "stream",
     "text": [
      "{'radius': 0.7, 'sigma_input': 1.0}\n",
      "[tuf-4090:90560] shmem: mmap: an error occurred while determining whether or not /tmp/ompi.tuf-4090.1000/jf.0/1065156608/shared_mem_cuda_pool.tuf-4090 could be created.\n",
      "[tuf-4090:90560] create_and_attach: unable to create shared memory BTL coordinating structure :: size 134217728 \n",
      "/home/user/anaconda3/lib/python3.11/site-packages/numpy/core/_methods.py:236: RuntimeWarning: invalid value encountered in subtract\n",
      "  x = asanyarray(arr - arrmean)\n",
      "AVERAGE RMNSE ERROR ON TRAIN DATA SET: 0.9988361193951378 ± 0.0007473448200690561\n",
      "AVG NUMBER OF ACCURATE 0.5 PREDICTIONS ON TRAIN DATA SET: 0.0 ± 0.0\n",
      "AVG NUMBER OF ACCURATE 1 PREDICTIONS ON TRAIN DATA SET: 0.5719470946290366 ± 0.07384505543534564\n",
      "POWER SPECTRUM MEAN ERROR ON TRAIN DATA SET: inf ± nan\n",
      "TEMPORAL DISTANCE ON TRAIN DATA SET: nan ± nan\n",
      "GEOMETRICAL DISTANCE ON TRAIN DATA SET: 14.021333549633383 ± 0.0631876197133212\n",
      "\n",
      "\n",
      "AVERAGE RMNSE ERROR ON TEST DATA SET: 1.0000717219344706 ± 0.0007196743898485032\n",
      "AVG NUMBER OF ACCURATE 0.5 PREDICTIONS ON TEST DATA SET: 0.0 ± 0.0\n",
      "AVG NUMBER OF ACCURATE 1 PREDICTIONS ON TEST DATA SET: 0.26120551616963095 ± 0.016096733899224468\n",
      "POWER SPECTRUM MEAN ERROR ON TEST DATA SET: inf ± nan\n",
      "TEMPORAL DISTANCE ON TEST DATA SET: nan ± nan\n",
      "GEOMETRICAL DISTANCE ON TEST DATA SET: 14.127119121211152 ± 0.06762258663532379\n"
     ]
    }
   ],
   "source": [
    "!bash ./1_Paralleled_ESN_Evaluate_Tuned_Model.sh \"evaluate_tuned_model\" 1500 1 1 4 \"grid_search.json\" "
   ]
  },
  {
   "cell_type": "code",
   "execution_count": null,
   "metadata": {},
   "outputs": [
    {
     "name": "stdout",
     "output_type": "stream",
     "text": [
      "Grid Search Progress:   0%|                                               | 0/25 [00:00<?, ?trial/s][tuf-4090:78754] shmem: mmap: an error occurred while determining whether or not /tmp/ompi.tuf-4090.1000/jf.0/1547042816/shared_mem_cuda_pool.tuf-4090 could be created.\n",
      "[tuf-4090:78754] create_and_attach: unable to create shared memory BTL coordinating structure :: size 134217728 \n",
      "Grid Search Progress: 100%|███████████████| 25/25 [34:58<00:00, 83.94s/trial, Current Best Loss=inf]\n",
      "/home/user/kuei_jan_CHU/PGClustered_ESN/Methods/./Utils/hyper_tuning_utils.py:382: UserWarning: All hyperparameter trials failed or returned infinite loss. Randomly selecting a hyperparameter set.\n",
      "  warnings.warn(\"All hyperparameter trials failed or returned infinite loss. Randomly selecting a hyperparameter set.\")\n",
      "{'radius': 0.7, 'sigma_input': 1.0}\n"
     ]
    }
   ],
   "source": [
    "!bash ./0_Paralleled_ESN_Tune.sh \"tune\" 2000 1 1 5 \"grid_search.json\" "
   ]
  },
  {
   "cell_type": "code",
   "execution_count": null,
   "metadata": {},
   "outputs": [
    {
     "name": "stdout",
     "output_type": "stream",
     "text": [
      "{'radius': 0.7, 'sigma_input': 1.0}\n",
      "[tuf-4090:90560] shmem: mmap: an error occurred while determining whether or not /tmp/ompi.tuf-4090.1000/jf.0/1065156608/shared_mem_cuda_pool.tuf-4090 could be created.\n",
      "[tuf-4090:90560] create_and_attach: unable to create shared memory BTL coordinating structure :: size 134217728 \n",
      "/home/user/anaconda3/lib/python3.11/site-packages/numpy/core/_methods.py:236: RuntimeWarning: invalid value encountered in subtract\n",
      "  x = asanyarray(arr - arrmean)\n",
      "AVERAGE RMNSE ERROR ON TRAIN DATA SET: 0.9988361193951378 ± 0.0007473448200690561\n",
      "AVG NUMBER OF ACCURATE 0.5 PREDICTIONS ON TRAIN DATA SET: 0.0 ± 0.0\n",
      "AVG NUMBER OF ACCURATE 1 PREDICTIONS ON TRAIN DATA SET: 0.5719470946290366 ± 0.07384505543534564\n",
      "POWER SPECTRUM MEAN ERROR ON TRAIN DATA SET: inf ± nan\n",
      "TEMPORAL DISTANCE ON TRAIN DATA SET: nan ± nan\n",
      "GEOMETRICAL DISTANCE ON TRAIN DATA SET: 14.021333549633383 ± 0.0631876197133212\n",
      "\n",
      "\n",
      "AVERAGE RMNSE ERROR ON TEST DATA SET: 1.0000717219344706 ± 0.0007196743898485032\n",
      "AVG NUMBER OF ACCURATE 0.5 PREDICTIONS ON TEST DATA SET: 0.0 ± 0.0\n",
      "AVG NUMBER OF ACCURATE 1 PREDICTIONS ON TEST DATA SET: 0.26120551616963095 ± 0.016096733899224468\n",
      "POWER SPECTRUM MEAN ERROR ON TEST DATA SET: inf ± nan\n",
      "TEMPORAL DISTANCE ON TEST DATA SET: nan ± nan\n",
      "GEOMETRICAL DISTANCE ON TEST DATA SET: 14.127119121211152 ± 0.06762258663532379\n"
     ]
    }
   ],
   "source": [
    "!bash ./1_Paralleled_ESN_Evaluate_Tuned_Model.sh \"evaluate_tuned_model\" 2000 1 1 5 \"grid_search.json\" "
   ]
  },
  {
   "cell_type": "code",
   "execution_count": null,
   "metadata": {},
   "outputs": [
    {
     "name": "stdout",
     "output_type": "stream",
     "text": [
      "Grid Search Progress:   0%|                                               | 0/25 [00:00<?, ?trial/s][tuf-4090:78754] shmem: mmap: an error occurred while determining whether or not /tmp/ompi.tuf-4090.1000/jf.0/1547042816/shared_mem_cuda_pool.tuf-4090 could be created.\n",
      "[tuf-4090:78754] create_and_attach: unable to create shared memory BTL coordinating structure :: size 134217728 \n",
      "Grid Search Progress: 100%|███████████████| 25/25 [34:58<00:00, 83.94s/trial, Current Best Loss=inf]\n",
      "/home/user/kuei_jan_CHU/PGClustered_ESN/Methods/./Utils/hyper_tuning_utils.py:382: UserWarning: All hyperparameter trials failed or returned infinite loss. Randomly selecting a hyperparameter set.\n",
      "  warnings.warn(\"All hyperparameter trials failed or returned infinite loss. Randomly selecting a hyperparameter set.\")\n",
      "{'radius': 0.7, 'sigma_input': 1.0}\n"
     ]
    }
   ],
   "source": [
    "!bash ./0_Paralleled_ESN_Tune.sh \"tune\" 2500 1 1 6 \"grid_search.json\" "
   ]
  },
  {
   "cell_type": "code",
   "execution_count": null,
   "metadata": {},
   "outputs": [
    {
     "name": "stdout",
     "output_type": "stream",
     "text": [
      "{'radius': 0.7, 'sigma_input': 1.0}\n",
      "[tuf-4090:90560] shmem: mmap: an error occurred while determining whether or not /tmp/ompi.tuf-4090.1000/jf.0/1065156608/shared_mem_cuda_pool.tuf-4090 could be created.\n",
      "[tuf-4090:90560] create_and_attach: unable to create shared memory BTL coordinating structure :: size 134217728 \n",
      "/home/user/anaconda3/lib/python3.11/site-packages/numpy/core/_methods.py:236: RuntimeWarning: invalid value encountered in subtract\n",
      "  x = asanyarray(arr - arrmean)\n",
      "AVERAGE RMNSE ERROR ON TRAIN DATA SET: 0.9988361193951378 ± 0.0007473448200690561\n",
      "AVG NUMBER OF ACCURATE 0.5 PREDICTIONS ON TRAIN DATA SET: 0.0 ± 0.0\n",
      "AVG NUMBER OF ACCURATE 1 PREDICTIONS ON TRAIN DATA SET: 0.5719470946290366 ± 0.07384505543534564\n",
      "POWER SPECTRUM MEAN ERROR ON TRAIN DATA SET: inf ± nan\n",
      "TEMPORAL DISTANCE ON TRAIN DATA SET: nan ± nan\n",
      "GEOMETRICAL DISTANCE ON TRAIN DATA SET: 14.021333549633383 ± 0.0631876197133212\n",
      "\n",
      "\n",
      "AVERAGE RMNSE ERROR ON TEST DATA SET: 1.0000717219344706 ± 0.0007196743898485032\n",
      "AVG NUMBER OF ACCURATE 0.5 PREDICTIONS ON TEST DATA SET: 0.0 ± 0.0\n",
      "AVG NUMBER OF ACCURATE 1 PREDICTIONS ON TEST DATA SET: 0.26120551616963095 ± 0.016096733899224468\n",
      "POWER SPECTRUM MEAN ERROR ON TEST DATA SET: inf ± nan\n",
      "TEMPORAL DISTANCE ON TEST DATA SET: nan ± nan\n",
      "GEOMETRICAL DISTANCE ON TEST DATA SET: 14.127119121211152 ± 0.06762258663532379\n"
     ]
    }
   ],
   "source": [
    "!bash ./1_Paralleled_ESN_Evaluate_Tuned_Model.sh \"evaluate_tuned_model\" 2500 1 1 6 \"grid_search.json\" "
   ]
  },
  {
   "cell_type": "code",
   "execution_count": null,
   "metadata": {},
   "outputs": [
    {
     "name": "stdout",
     "output_type": "stream",
     "text": [
      "Grid Search Progress:   0%|                                               | 0/25 [00:00<?, ?trial/s][tuf-4090:78754] shmem: mmap: an error occurred while determining whether or not /tmp/ompi.tuf-4090.1000/jf.0/1547042816/shared_mem_cuda_pool.tuf-4090 could be created.\n",
      "[tuf-4090:78754] create_and_attach: unable to create shared memory BTL coordinating structure :: size 134217728 \n",
      "Grid Search Progress: 100%|███████████████| 25/25 [34:58<00:00, 83.94s/trial, Current Best Loss=inf]\n",
      "/home/user/kuei_jan_CHU/PGClustered_ESN/Methods/./Utils/hyper_tuning_utils.py:382: UserWarning: All hyperparameter trials failed or returned infinite loss. Randomly selecting a hyperparameter set.\n",
      "  warnings.warn(\"All hyperparameter trials failed or returned infinite loss. Randomly selecting a hyperparameter set.\")\n",
      "{'radius': 0.7, 'sigma_input': 1.0}\n"
     ]
    }
   ],
   "source": [
    "!bash ./0_Paralleled_ESN_Tune.sh \"tune\" 3000 1 1 7 \"grid_search.json\" "
   ]
  },
  {
   "cell_type": "code",
   "execution_count": null,
   "metadata": {},
   "outputs": [
    {
     "name": "stdout",
     "output_type": "stream",
     "text": [
      "{'radius': 0.7, 'sigma_input': 1.0}\n",
      "[tuf-4090:90560] shmem: mmap: an error occurred while determining whether or not /tmp/ompi.tuf-4090.1000/jf.0/1065156608/shared_mem_cuda_pool.tuf-4090 could be created.\n",
      "[tuf-4090:90560] create_and_attach: unable to create shared memory BTL coordinating structure :: size 134217728 \n",
      "/home/user/anaconda3/lib/python3.11/site-packages/numpy/core/_methods.py:236: RuntimeWarning: invalid value encountered in subtract\n",
      "  x = asanyarray(arr - arrmean)\n",
      "AVERAGE RMNSE ERROR ON TRAIN DATA SET: 0.9988361193951378 ± 0.0007473448200690561\n",
      "AVG NUMBER OF ACCURATE 0.5 PREDICTIONS ON TRAIN DATA SET: 0.0 ± 0.0\n",
      "AVG NUMBER OF ACCURATE 1 PREDICTIONS ON TRAIN DATA SET: 0.5719470946290366 ± 0.07384505543534564\n",
      "POWER SPECTRUM MEAN ERROR ON TRAIN DATA SET: inf ± nan\n",
      "TEMPORAL DISTANCE ON TRAIN DATA SET: nan ± nan\n",
      "GEOMETRICAL DISTANCE ON TRAIN DATA SET: 14.021333549633383 ± 0.0631876197133212\n",
      "\n",
      "\n",
      "AVERAGE RMNSE ERROR ON TEST DATA SET: 1.0000717219344706 ± 0.0007196743898485032\n",
      "AVG NUMBER OF ACCURATE 0.5 PREDICTIONS ON TEST DATA SET: 0.0 ± 0.0\n",
      "AVG NUMBER OF ACCURATE 1 PREDICTIONS ON TEST DATA SET: 0.26120551616963095 ± 0.016096733899224468\n",
      "POWER SPECTRUM MEAN ERROR ON TEST DATA SET: inf ± nan\n",
      "TEMPORAL DISTANCE ON TEST DATA SET: nan ± nan\n",
      "GEOMETRICAL DISTANCE ON TEST DATA SET: 14.127119121211152 ± 0.06762258663532379\n"
     ]
    }
   ],
   "source": [
    "!bash ./1_Paralleled_ESN_Evaluate_Tuned_Model.sh \"evaluate_tuned_model\" 3000 1 1 7 \"grid_search.json\" "
   ]
  },
  {
   "cell_type": "code",
   "execution_count": null,
   "metadata": {},
   "outputs": [
    {
     "name": "stdout",
     "output_type": "stream",
     "text": [
      "Grid Search Progress:   0%|                                               | 0/25 [00:00<?, ?trial/s][tuf-4090:78754] shmem: mmap: an error occurred while determining whether or not /tmp/ompi.tuf-4090.1000/jf.0/1547042816/shared_mem_cuda_pool.tuf-4090 could be created.\n",
      "[tuf-4090:78754] create_and_attach: unable to create shared memory BTL coordinating structure :: size 134217728 \n",
      "Grid Search Progress: 100%|███████████████| 25/25 [34:58<00:00, 83.94s/trial, Current Best Loss=inf]\n",
      "/home/user/kuei_jan_CHU/PGClustered_ESN/Methods/./Utils/hyper_tuning_utils.py:382: UserWarning: All hyperparameter trials failed or returned infinite loss. Randomly selecting a hyperparameter set.\n",
      "  warnings.warn(\"All hyperparameter trials failed or returned infinite loss. Randomly selecting a hyperparameter set.\")\n",
      "{'radius': 0.7, 'sigma_input': 1.0}\n"
     ]
    }
   ],
   "source": [
    "!bash ./0_Paralleled_ESN_Tune.sh \"tune\" 3500 1 1 8 \"grid_search.json\" "
   ]
  },
  {
   "cell_type": "code",
   "execution_count": null,
   "metadata": {},
   "outputs": [
    {
     "name": "stdout",
     "output_type": "stream",
     "text": [
      "{'radius': 0.7, 'sigma_input': 1.0}\n",
      "[tuf-4090:90560] shmem: mmap: an error occurred while determining whether or not /tmp/ompi.tuf-4090.1000/jf.0/1065156608/shared_mem_cuda_pool.tuf-4090 could be created.\n",
      "[tuf-4090:90560] create_and_attach: unable to create shared memory BTL coordinating structure :: size 134217728 \n",
      "/home/user/anaconda3/lib/python3.11/site-packages/numpy/core/_methods.py:236: RuntimeWarning: invalid value encountered in subtract\n",
      "  x = asanyarray(arr - arrmean)\n",
      "AVERAGE RMNSE ERROR ON TRAIN DATA SET: 0.9988361193951378 ± 0.0007473448200690561\n",
      "AVG NUMBER OF ACCURATE 0.5 PREDICTIONS ON TRAIN DATA SET: 0.0 ± 0.0\n",
      "AVG NUMBER OF ACCURATE 1 PREDICTIONS ON TRAIN DATA SET: 0.5719470946290366 ± 0.07384505543534564\n",
      "POWER SPECTRUM MEAN ERROR ON TRAIN DATA SET: inf ± nan\n",
      "TEMPORAL DISTANCE ON TRAIN DATA SET: nan ± nan\n",
      "GEOMETRICAL DISTANCE ON TRAIN DATA SET: 14.021333549633383 ± 0.0631876197133212\n",
      "\n",
      "\n",
      "AVERAGE RMNSE ERROR ON TEST DATA SET: 1.0000717219344706 ± 0.0007196743898485032\n",
      "AVG NUMBER OF ACCURATE 0.5 PREDICTIONS ON TEST DATA SET: 0.0 ± 0.0\n",
      "AVG NUMBER OF ACCURATE 1 PREDICTIONS ON TEST DATA SET: 0.26120551616963095 ± 0.016096733899224468\n",
      "POWER SPECTRUM MEAN ERROR ON TEST DATA SET: inf ± nan\n",
      "TEMPORAL DISTANCE ON TEST DATA SET: nan ± nan\n",
      "GEOMETRICAL DISTANCE ON TEST DATA SET: 14.127119121211152 ± 0.06762258663532379\n"
     ]
    }
   ],
   "source": [
    "!bash ./1_Paralleled_ESN_Evaluate_Tuned_Model.sh \"evaluate_tuned_model\" 3500 1 1 8 \"grid_search.json\" "
   ]
  },
  {
   "cell_type": "code",
   "execution_count": null,
   "metadata": {},
   "outputs": [
    {
     "name": "stdout",
     "output_type": "stream",
     "text": [
      "Grid Search Progress:   0%|                                               | 0/25 [00:00<?, ?trial/s][tuf-4090:78754] shmem: mmap: an error occurred while determining whether or not /tmp/ompi.tuf-4090.1000/jf.0/1547042816/shared_mem_cuda_pool.tuf-4090 could be created.\n",
      "[tuf-4090:78754] create_and_attach: unable to create shared memory BTL coordinating structure :: size 134217728 \n",
      "Grid Search Progress: 100%|███████████████| 25/25 [34:58<00:00, 83.94s/trial, Current Best Loss=inf]\n",
      "/home/user/kuei_jan_CHU/PGClustered_ESN/Methods/./Utils/hyper_tuning_utils.py:382: UserWarning: All hyperparameter trials failed or returned infinite loss. Randomly selecting a hyperparameter set.\n",
      "  warnings.warn(\"All hyperparameter trials failed or returned infinite loss. Randomly selecting a hyperparameter set.\")\n",
      "{'radius': 0.7, 'sigma_input': 1.0}\n"
     ]
    }
   ],
   "source": [
    "!bash ./0_Paralleled_ESN_Tune.sh \"tune\" 4000 1 1 9 \"grid_search.json\" "
   ]
  },
  {
   "cell_type": "code",
   "execution_count": null,
   "metadata": {},
   "outputs": [
    {
     "name": "stdout",
     "output_type": "stream",
     "text": [
      "{'radius': 0.7, 'sigma_input': 1.0}\n",
      "[tuf-4090:90560] shmem: mmap: an error occurred while determining whether or not /tmp/ompi.tuf-4090.1000/jf.0/1065156608/shared_mem_cuda_pool.tuf-4090 could be created.\n",
      "[tuf-4090:90560] create_and_attach: unable to create shared memory BTL coordinating structure :: size 134217728 \n",
      "/home/user/anaconda3/lib/python3.11/site-packages/numpy/core/_methods.py:236: RuntimeWarning: invalid value encountered in subtract\n",
      "  x = asanyarray(arr - arrmean)\n",
      "AVERAGE RMNSE ERROR ON TRAIN DATA SET: 0.9988361193951378 ± 0.0007473448200690561\n",
      "AVG NUMBER OF ACCURATE 0.5 PREDICTIONS ON TRAIN DATA SET: 0.0 ± 0.0\n",
      "AVG NUMBER OF ACCURATE 1 PREDICTIONS ON TRAIN DATA SET: 0.5719470946290366 ± 0.07384505543534564\n",
      "POWER SPECTRUM MEAN ERROR ON TRAIN DATA SET: inf ± nan\n",
      "TEMPORAL DISTANCE ON TRAIN DATA SET: nan ± nan\n",
      "GEOMETRICAL DISTANCE ON TRAIN DATA SET: 14.021333549633383 ± 0.0631876197133212\n",
      "\n",
      "\n",
      "AVERAGE RMNSE ERROR ON TEST DATA SET: 1.0000717219344706 ± 0.0007196743898485032\n",
      "AVG NUMBER OF ACCURATE 0.5 PREDICTIONS ON TEST DATA SET: 0.0 ± 0.0\n",
      "AVG NUMBER OF ACCURATE 1 PREDICTIONS ON TEST DATA SET: 0.26120551616963095 ± 0.016096733899224468\n",
      "POWER SPECTRUM MEAN ERROR ON TEST DATA SET: inf ± nan\n",
      "TEMPORAL DISTANCE ON TEST DATA SET: nan ± nan\n",
      "GEOMETRICAL DISTANCE ON TEST DATA SET: 14.127119121211152 ± 0.06762258663532379\n"
     ]
    }
   ],
   "source": [
    "!bash ./1_Paralleled_ESN_Evaluate_Tuned_Model.sh \"evaluate_tuned_model\" 4000 1 1 9 \"grid_search.json\" "
   ]
  }
 ],
 "metadata": {
  "kernelspec": {
   "display_name": "base",
   "language": "python",
   "name": "python3"
  },
  "language_info": {
   "codemirror_mode": {
    "name": "ipython",
    "version": 3
   },
   "file_extension": ".py",
   "mimetype": "text/x-python",
   "name": "python",
   "nbconvert_exporter": "python",
   "pygments_lexer": "ipython3",
   "version": "3.11.8"
  }
 },
 "nbformat": 4,
 "nbformat_minor": 4
}
