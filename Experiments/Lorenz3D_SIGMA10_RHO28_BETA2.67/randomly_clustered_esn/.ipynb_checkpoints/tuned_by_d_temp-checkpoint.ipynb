{
 "cells": [
  {
   "cell_type": "markdown",
   "metadata": {
    "editable": true,
    "slideshow": {
     "slide_type": ""
    },
    "tags": []
   },
   "source": [
    "# noise level 5, metric: d_temp"
   ]
  },
  {
   "cell_type": "code",
   "execution_count": 6,
   "metadata": {},
   "outputs": [
    {
     "name": "stdout",
     "output_type": "stream",
     "text": [
      "  0%|                                    | 0/30 [00:00<?, ?trial/s, best loss=?]/home/user/kuei_jan_CHU/PGClustered_ESN/Methods/./Utils/global_utils.py:254: RuntimeWarning: divide by zero encountered in log10\n",
      "  s_dbfs = 20 * np.log10(s_mag)\n",
      "\n",
      " 10%|█          | 3/30 [05:06<44:00, 97.81s/trial, best loss: 0.377020646627001]/home/user/kuei_jan_CHU/PGClustered_ESN/Methods/./Utils/global_utils.py:289: RuntimeWarning: invalid value encountered in divide\n",
      "  trajectory = (trajectory-trajectory.mean())/trajectory.std()\n",
      "\n",
      "100%|████████| 30/30 [51:11<00:00, 102.39s/trial, best loss: 0.3648449212174535]\n",
      "{'in_cluster_weight': 0.5, 'noise_level': 5, 'radius': 0.99, 'regularization': 0.01, 'sigma_input': 0.3}\n"
     ]
    }
   ],
   "source": [
    "!bash ./0_Randomly_Clustered_ESN_Tune.sh \"tune\" 50 0.89 0.89 0 \"random_search.json\" "
   ]
  },
  {
   "cell_type": "code",
   "execution_count": 9,
   "metadata": {},
   "outputs": [
    {
     "name": "stdout",
     "output_type": "stream",
     "text": [
      "AVERAGE RMNSE ERROR ON TRAIN DATA SET: 1.3007711601019953 ± 0.08398959833142733\n",
      "AVG NUMBER OF ACCURATE 0.5 PREDICTIONS ON TRAIN DATA SET: 1.3932549329201076 ± 0.09278931349304047\n",
      "AVG NUMBER OF ACCURATE 1 PREDICTIONS ON TRAIN DATA SET: 1.9487640648798696 ± 0.1394173257733635\n",
      "POWER SPECTRUM MEAN ERROR ON TRAIN DATA SET: 21.247444517535776 ± 6.678655281740261\n",
      "TEMPORAL DISTANCE ON TRAIN DATA SET: 0.355912109754604 ± 0.04348745674017503\n",
      "GEOMETRICAL DISTANCE ON TRAIN DATA SET: 0.8573399124824089 ± 0.24570384536943063\n",
      "\n",
      "\n",
      "AVERAGE RMNSE ERROR ON TEST DATA SET: 1.3249996677354472 ± 0.08363132729977345\n",
      "AVG NUMBER OF ACCURATE 0.5 PREDICTIONS ON TEST DATA SET: 1.5432016521581462 ± 0.1037761399016384\n",
      "AVG NUMBER OF ACCURATE 1 PREDICTIONS ON TEST DATA SET: 2.0966281907951574 ± 0.11832364756637868\n",
      "POWER SPECTRUM MEAN ERROR ON TEST DATA SET: 18.61073052353077 ± 6.664011209991892\n",
      "TEMPORAL DISTANCE ON TEST DATA SET: 0.3391489473578641 ± 0.045394228750830344\n",
      "GEOMETRICAL DISTANCE ON TEST DATA SET: 0.9227130293466281 ± 0.2903821804023842\n"
     ]
    }
   ],
   "source": [
    "!bash ./1_Randomly_Clustered_ESN_Evaluate_Tuned_Model.sh \"evaluate_tuned_model\" 50 0.89 0.89 0 \"random_search.json\" "
   ]
  },
  {
   "cell_type": "code",
   "execution_count": 12,
   "metadata": {},
   "outputs": [
    {
     "name": "stdout",
     "output_type": "stream",
     "text": [
      "  7%|▍     | 2/30 [05:13<1:11:39, 153.55s/trial, best loss: 0.15904853301770153]/home/user/kuei_jan_CHU/PGClustered_ESN/Methods/./Utils/global_utils.py:254: RuntimeWarning: divide by zero encountered in log10\n",
      "  s_dbfs = 20 * np.log10(s_mag)\n",
      "\n",
      "/home/user/kuei_jan_CHU/PGClustered_ESN/Methods/./Utils/global_utils.py:289: RuntimeWarning: invalid value encountered in divide\n",
      "  trajectory = (trajectory-trajectory.mean())/trajectory.std()\n",
      "\n",
      " 87%|████▎| 26/30 [1:07:22<10:27, 156.92s/trial, best loss: 0.15904853301770153]/home/user/kuei_jan_CHU/PGClustered_ESN/Methods/./Utils/global_utils.py:301: RuntimeWarning: Mean of empty slice\n",
      "  spectrum = np.nanmean(np.array(spectrum),axis=0)\n",
      "\n",
      "100%|█████| 30/30 [1:17:14<00:00, 154.50s/trial, best loss: 0.15904853301770153]\n",
      "{'in_cluster_weight': 0.5, 'noise_level': 5, 'radius': 0.99, 'regularization': 0.01, 'sigma_input': 0.7}\n"
     ]
    }
   ],
   "source": [
    "!bash ./0_Randomly_Clustered_ESN_Tune.sh \"tune\" 100 0.89 0.89 1 \"random_search.json\" "
   ]
  },
  {
   "cell_type": "code",
   "execution_count": 15,
   "metadata": {},
   "outputs": [
    {
     "name": "stdout",
     "output_type": "stream",
     "text": [
      "/home/user/kuei_jan_CHU/PGClustered_ESN/Methods/./Utils/global_utils.py:254: RuntimeWarning: divide by zero encountered in log10\n",
      "  s_dbfs = 20 * np.log10(s_mag)\n",
      "/home/user/anaconda3/lib/python3.11/site-packages/numpy/core/_methods.py:236: RuntimeWarning: invalid value encountered in subtract\n",
      "  x = asanyarray(arr - arrmean)\n",
      "AVERAGE RMNSE ERROR ON TRAIN DATA SET: 1.1709891761716493 ± 0.008665259123504956\n",
      "AVG NUMBER OF ACCURATE 0.5 PREDICTIONS ON TRAIN DATA SET: 2.4192490607499466 ± 0.138631914497396\n",
      "AVG NUMBER OF ACCURATE 1 PREDICTIONS ON TRAIN DATA SET: 3.102611313219437 ± 0.1574745182157634\n",
      "POWER SPECTRUM MEAN ERROR ON TRAIN DATA SET: 8.859514173855674 ± 2.448859732592985\n",
      "TEMPORAL DISTANCE ON TRAIN DATA SET: 0.20797282077308163 ± 0.033084329332373694\n",
      "GEOMETRICAL DISTANCE ON TRAIN DATA SET: 0.2209227534259881 ± 0.07395233957847973\n",
      "\n",
      "\n",
      "AVERAGE RMNSE ERROR ON TEST DATA SET: 1.1902445344048507 ± 0.009304419107060445\n",
      "AVG NUMBER OF ACCURATE 0.5 PREDICTIONS ON TEST DATA SET: 2.505812504947751 ± 0.13358373337157597\n",
      "AVG NUMBER OF ACCURATE 1 PREDICTIONS ON TEST DATA SET: 3.004276689371304 ± 0.16785921290260847\n",
      "POWER SPECTRUM MEAN ERROR ON TEST DATA SET: inf ± nan\n",
      "TEMPORAL DISTANCE ON TEST DATA SET: 0.19951720440497633 ± 0.03411128087638513\n",
      "GEOMETRICAL DISTANCE ON TEST DATA SET: 0.25565501234494825 ± 0.10328369656032582\n"
     ]
    }
   ],
   "source": [
    "!bash ./1_Randomly_Clustered_ESN_Evaluate_Tuned_Model.sh \"evaluate_tuned_model\" 100 0.89 0.89 1 \"random_search.json\""
   ]
  },
  {
   "cell_type": "code",
   "execution_count": 18,
   "metadata": {},
   "outputs": [
    {
     "name": "stdout",
     "output_type": "stream",
     "text": [
      "  0%|                                    | 0/30 [00:00<?, ?trial/s, best loss=?]/home/user/kuei_jan_CHU/PGClustered_ESN/Methods/./Utils/global_utils.py:254: RuntimeWarning: divide by zero encountered in log10\n",
      "  s_dbfs = 20 * np.log10(s_mag)\n",
      "\n",
      " 13%|█▏       | 4/30 [03:27<21:36, 49.87s/trial, best loss: 0.13782839516647877]/home/user/kuei_jan_CHU/PGClustered_ESN/Methods/./Utils/global_utils.py:289: RuntimeWarning: invalid value encountered in divide\n",
      "  trajectory = (trajectory-trajectory.mean())/trajectory.std()\n",
      "\n",
      " 47%|███▋    | 14/30 [11:19<13:09, 49.32s/trial, best loss: 0.13782839516647877]/home/user/kuei_jan_CHU/PGClustered_ESN/Methods/./Utils/global_utils.py:301: RuntimeWarning: Mean of empty slice\n",
      "  spectrum = np.nanmean(np.array(spectrum),axis=0)\n",
      "\n",
      "100%|████████| 30/30 [23:37<00:00, 47.26s/trial, best loss: 0.13571144650255268]\n",
      "{'in_cluster_weight': 0.5, 'noise_level': 5, 'radius': 0.3, 'regularization': 0.01, 'sigma_input': 1.3}\n"
     ]
    }
   ],
   "source": [
    "!bash ./0_Randomly_Clustered_ESN_Tune.sh \"tune\" 150 0.89 0.89 2 \"random_search.json\" "
   ]
  },
  {
   "cell_type": "code",
   "execution_count": 21,
   "metadata": {},
   "outputs": [
    {
     "name": "stdout",
     "output_type": "stream",
     "text": [
      "AVERAGE RMNSE ERROR ON TRAIN DATA SET: 1.1891151499804131 ± 0.007092065103447461\n",
      "AVG NUMBER OF ACCURATE 0.5 PREDICTIONS ON TRAIN DATA SET: 2.6265123701315103 ± 0.12508291403033361\n",
      "AVG NUMBER OF ACCURATE 1 PREDICTIONS ON TRAIN DATA SET: 3.23481071544621 ± 0.11840669561990586\n",
      "POWER SPECTRUM MEAN ERROR ON TRAIN DATA SET: 3.490052717964079 ± 0.5175198468168798\n",
      "TEMPORAL DISTANCE ON TRAIN DATA SET: 0.134066763212751 ± 0.004106095502378935\n",
      "GEOMETRICAL DISTANCE ON TRAIN DATA SET: 0.02384202154238458 ± 0.009402276361288757\n",
      "\n",
      "\n",
      "AVERAGE RMNSE ERROR ON TEST DATA SET: 1.1695422332758763 ± 0.011019022397962368\n",
      "AVG NUMBER OF ACCURATE 0.5 PREDICTIONS ON TEST DATA SET: 2.574356989526975 ± 0.10468934748302129\n",
      "AVG NUMBER OF ACCURATE 1 PREDICTIONS ON TEST DATA SET: 3.170159774905172 ± 0.12039991015430948\n",
      "POWER SPECTRUM MEAN ERROR ON TEST DATA SET: 3.731261451508987 ± 0.7022116786298792\n",
      "TEMPORAL DISTANCE ON TEST DATA SET: 0.13238192834287393 ± 0.009084923263561643\n",
      "GEOMETRICAL DISTANCE ON TEST DATA SET: 0.053739258996232386 ± 0.02588609195412513\n"
     ]
    }
   ],
   "source": [
    "!bash ./1_Randomly_Clustered_ESN_Evaluate_Tuned_Model.sh \"evaluate_tuned_model\" 150 0.89 0.89 2 \"random_search.json\""
   ]
  },
  {
   "cell_type": "code",
   "execution_count": 24,
   "metadata": {},
   "outputs": [
    {
     "name": "stdout",
     "output_type": "stream",
     "text": [
      " 10%|▉        | 3/30 [03:19<29:00, 64.47s/trial, best loss: 0.12427857779593814]/home/user/kuei_jan_CHU/PGClustered_ESN/Methods/./Utils/global_utils.py:254: RuntimeWarning: divide by zero encountered in log10\n",
      "  s_dbfs = 20 * np.log10(s_mag)\n",
      "\n",
      " 13%|█▏       | 4/30 [04:18<27:03, 62.44s/trial, best loss: 0.12427857779593814]/home/user/kuei_jan_CHU/PGClustered_ESN/Methods/./Utils/global_utils.py:289: RuntimeWarning: invalid value encountered in divide\n",
      "  trajectory = (trajectory-trajectory.mean())/trajectory.std()\n",
      "\n",
      "/home/user/kuei_jan_CHU/PGClustered_ESN/Methods/./Utils/global_utils.py:301: RuntimeWarning: Mean of empty slice\n",
      "  spectrum = np.nanmean(np.array(spectrum),axis=0)\n",
      "\n",
      "100%|████████| 30/30 [26:23<00:00, 52.79s/trial, best loss: 0.12427857779593814]\n",
      "{'in_cluster_weight': 0.5, 'noise_level': 5, 'radius': 0.7, 'regularization': 0.01, 'sigma_input': 0.9}\n"
     ]
    }
   ],
   "source": [
    "!bash ./0_Randomly_Clustered_ESN_Tune.sh \"tune\" 200 0.89 0.89 3 \"random_search.json\" "
   ]
  },
  {
   "cell_type": "code",
   "execution_count": 27,
   "metadata": {},
   "outputs": [
    {
     "name": "stdout",
     "output_type": "stream",
     "text": [
      "AVERAGE RMNSE ERROR ON TRAIN DATA SET: 1.1629391444457602 ± 0.006802606408751779\n",
      "AVG NUMBER OF ACCURATE 0.5 PREDICTIONS ON TRAIN DATA SET: 3.063856967909123 ± 0.09508378762011067\n",
      "AVG NUMBER OF ACCURATE 1 PREDICTIONS ON TRAIN DATA SET: 3.7196927695039976 ± 0.12755756449607114\n",
      "POWER SPECTRUM MEAN ERROR ON TRAIN DATA SET: 2.8902222984729233 ± 0.47712880384330436\n",
      "TEMPORAL DISTANCE ON TRAIN DATA SET: 0.13653243629008183 ± 0.0053729394815796895\n",
      "GEOMETRICAL DISTANCE ON TRAIN DATA SET: 0.032426288798304455 ± 0.018153624514375823\n",
      "\n",
      "\n",
      "AVERAGE RMNSE ERROR ON TEST DATA SET: 1.1553345485546793 ± 0.008413889527212054\n",
      "AVG NUMBER OF ACCURATE 0.5 PREDICTIONS ON TEST DATA SET: 3.0396807758580624 ± 0.11530865169286682\n",
      "AVG NUMBER OF ACCURATE 1 PREDICTIONS ON TEST DATA SET: 3.6069610874681537 ± 0.11624338334651434\n",
      "POWER SPECTRUM MEAN ERROR ON TEST DATA SET: 3.7595649327733343 ± 0.4672414885706777\n",
      "TEMPORAL DISTANCE ON TEST DATA SET: 0.11951599633800591 ± 0.0023763933348542273\n",
      "GEOMETRICAL DISTANCE ON TEST DATA SET: 0.021138514703790363 ± 0.0018520666792789643\n"
     ]
    }
   ],
   "source": [
    "!bash ./1_Randomly_Clustered_ESN_Evaluate_Tuned_Model.sh \"evaluate_tuned_model\" 200 0.89 0.89 3 \"random_search.json\""
   ]
  },
  {
   "cell_type": "code",
   "execution_count": 30,
   "metadata": {},
   "outputs": [
    {
     "name": "stdout",
     "output_type": "stream",
     "text": [
      " 10%|▉        | 3/30 [03:06<26:10, 58.16s/trial, best loss: 0.12465813284337061]/home/user/kuei_jan_CHU/PGClustered_ESN/Methods/./Utils/global_utils.py:254: RuntimeWarning: divide by zero encountered in log10\n",
      "  s_dbfs = 20 * np.log10(s_mag)\n",
      "\n",
      " 13%|█▏       | 4/30 [03:42<21:22, 49.32s/trial, best loss: 0.12465813284337061]/home/user/kuei_jan_CHU/PGClustered_ESN/Methods/./Utils/global_utils.py:289: RuntimeWarning: invalid value encountered in divide\n",
      "  trajectory = (trajectory-trajectory.mean())/trajectory.std()\n",
      "\n",
      "/home/user/kuei_jan_CHU/PGClustered_ESN/Methods/./Utils/global_utils.py:301: RuntimeWarning: Mean of empty slice\n",
      "  spectrum = np.nanmean(np.array(spectrum),axis=0)\n",
      "\n",
      "100%|████████| 30/30 [27:29<00:00, 54.97s/trial, best loss: 0.12465813284337061]\n",
      "{'in_cluster_weight': 0.5, 'noise_level': 5, 'radius': 0.7, 'regularization': 0.01, 'sigma_input': 0.9}\n"
     ]
    }
   ],
   "source": [
    "!bash ./0_Randomly_Clustered_ESN_Tune.sh \"tune\" 250 0.89 0.89 4 \"random_search.json\" "
   ]
  },
  {
   "cell_type": "code",
   "execution_count": 33,
   "metadata": {},
   "outputs": [
    {
     "name": "stdout",
     "output_type": "stream",
     "text": [
      "AVERAGE RMNSE ERROR ON TRAIN DATA SET: 1.1642682074237611 ± 0.008265262182384027\n",
      "AVG NUMBER OF ACCURATE 0.5 PREDICTIONS ON TRAIN DATA SET: 3.266230710359012 ± 0.12349529445556799\n",
      "AVG NUMBER OF ACCURATE 1 PREDICTIONS ON TRAIN DATA SET: 3.988256760603045 ± 0.13883590734570508\n",
      "POWER SPECTRUM MEAN ERROR ON TRAIN DATA SET: 3.983055442728874 ± 0.5595658495605119\n",
      "TEMPORAL DISTANCE ON TRAIN DATA SET: 0.12617526299730153 ± 0.0024712158253842368\n",
      "GEOMETRICAL DISTANCE ON TRAIN DATA SET: 0.018121627391023156 ± 0.0016231773739013955\n",
      "\n",
      "\n",
      "AVERAGE RMNSE ERROR ON TEST DATA SET: 1.1677801517810524 ± 0.008502797449632971\n",
      "AVG NUMBER OF ACCURATE 0.5 PREDICTIONS ON TEST DATA SET: 3.3783285596444537 ± 0.08399946299915753\n",
      "AVG NUMBER OF ACCURATE 1 PREDICTIONS ON TEST DATA SET: 3.939542186357837 ± 0.10908878001915678\n",
      "POWER SPECTRUM MEAN ERROR ON TEST DATA SET: 2.600706164024658 ± 0.4286362415211655\n",
      "TEMPORAL DISTANCE ON TEST DATA SET: 0.11882712526947765 ± 0.0017602623053233765\n",
      "GEOMETRICAL DISTANCE ON TEST DATA SET: 0.017096816617954248 ± 0.002067771147887218\n"
     ]
    }
   ],
   "source": [
    "!bash ./1_Randomly_Clustered_ESN_Evaluate_Tuned_Model.sh \"evaluate_tuned_model\" 250 0.89 0.89 4 \"random_search.json\""
   ]
  },
  {
   "cell_type": "code",
   "execution_count": 36,
   "metadata": {},
   "outputs": [
    {
     "name": "stdout",
     "output_type": "stream",
     "text": [
      " 10%|▉        | 3/30 [03:09<28:52, 64.16s/trial, best loss: 0.12481369212163818]/home/user/kuei_jan_CHU/PGClustered_ESN/Methods/./Utils/global_utils.py:254: RuntimeWarning: divide by zero encountered in log10\n",
      "  s_dbfs = 20 * np.log10(s_mag)\n",
      "\n",
      "/home/user/kuei_jan_CHU/PGClustered_ESN/Methods/./Utils/global_utils.py:289: RuntimeWarning: invalid value encountered in divide\n",
      "  trajectory = (trajectory-trajectory.mean())/trajectory.std()\n",
      "\n",
      "100%|█████████| 30/30 [30:10<00:00, 60.34s/trial, best loss: 0.1236465978656639]\n",
      "{'in_cluster_weight': 0.5, 'noise_level': 5, 'radius': 0.99, 'regularization': 0.01, 'sigma_input': 1.1}\n"
     ]
    }
   ],
   "source": [
    "!bash ./0_Randomly_Clustered_ESN_Tune.sh \"tune\" 300 0.89 0.89 5 \"random_search.json\" "
   ]
  },
  {
   "cell_type": "code",
   "execution_count": 39,
   "metadata": {},
   "outputs": [
    {
     "name": "stdout",
     "output_type": "stream",
     "text": [
      "AVERAGE RMNSE ERROR ON TRAIN DATA SET: 1.179823610957459 ± 0.008896878308021132\n",
      "AVG NUMBER OF ACCURATE 0.5 PREDICTIONS ON TRAIN DATA SET: 3.2693998741110235 ± 0.13680576989003562\n",
      "AVG NUMBER OF ACCURATE 1 PREDICTIONS ON TRAIN DATA SET: 3.695607124988709 ± 0.16442002211161777\n",
      "POWER SPECTRUM MEAN ERROR ON TRAIN DATA SET: 2.247935453841864 ± 0.3245664203791621\n",
      "TEMPORAL DISTANCE ON TRAIN DATA SET: 0.12880249403845742 ± 0.0027584291647597447\n",
      "GEOMETRICAL DISTANCE ON TRAIN DATA SET: 0.01748726832815265 ± 0.0020543499499421944\n",
      "\n",
      "\n",
      "AVERAGE RMNSE ERROR ON TEST DATA SET: 1.1573945869981206 ± 0.009177662152666697\n",
      "AVG NUMBER OF ACCURATE 0.5 PREDICTIONS ON TEST DATA SET: 3.3516170365917843 ± 0.11122368588019275\n",
      "AVG NUMBER OF ACCURATE 1 PREDICTIONS ON TEST DATA SET: 3.936916307820456 ± 0.11410029394895378\n",
      "POWER SPECTRUM MEAN ERROR ON TEST DATA SET: 2.986095741229449 ± 0.3645171851835928\n",
      "TEMPORAL DISTANCE ON TEST DATA SET: 0.11579704889426838 ± 0.002371142175501005\n",
      "GEOMETRICAL DISTANCE ON TEST DATA SET: 0.01746889263280004 ± 0.0021440218592077764\n"
     ]
    }
   ],
   "source": [
    "!bash ./1_Randomly_Clustered_ESN_Evaluate_Tuned_Model.sh \"evaluate_tuned_model\" 300 0.89 0.89 5 \"random_search.json\""
   ]
  },
  {
   "cell_type": "code",
   "execution_count": 42,
   "metadata": {},
   "outputs": [
    {
     "name": "stdout",
     "output_type": "stream",
     "text": [
      " 10%|▉        | 3/30 [03:33<31:48, 70.68s/trial, best loss: 0.12436230134309331]/home/user/kuei_jan_CHU/PGClustered_ESN/Methods/./Utils/global_utils.py:254: RuntimeWarning: divide by zero encountered in log10\n",
      "  s_dbfs = 20 * np.log10(s_mag)\n",
      "\n",
      " 13%|█▏       | 4/30 [04:28<27:50, 64.26s/trial, best loss: 0.12436230134309331]/home/user/kuei_jan_CHU/PGClustered_ESN/Methods/./Utils/global_utils.py:289: RuntimeWarning: invalid value encountered in divide\n",
      "  trajectory = (trajectory-trajectory.mean())/trajectory.std()\n",
      "\n",
      "/home/user/kuei_jan_CHU/PGClustered_ESN/Methods/./Utils/global_utils.py:301: RuntimeWarning: Mean of empty slice\n",
      "  spectrum = np.nanmean(np.array(spectrum),axis=0)\n",
      "\n",
      "100%|████████| 30/30 [31:21<00:00, 62.72s/trial, best loss: 0.12436230134309331]\n",
      "{'in_cluster_weight': 0.5, 'noise_level': 5, 'radius': 0.7, 'regularization': 0.01, 'sigma_input': 0.9}\n"
     ]
    }
   ],
   "source": [
    "!bash ./0_Randomly_Clustered_ESN_Tune.sh \"tune\" 350 0.89 0.89 6 \"random_search.json\" "
   ]
  },
  {
   "cell_type": "code",
   "execution_count": 45,
   "metadata": {},
   "outputs": [
    {
     "name": "stdout",
     "output_type": "stream",
     "text": [
      "AVERAGE RMNSE ERROR ON TRAIN DATA SET: 1.1745887369964882 ± 0.008997598223528214\n",
      "AVG NUMBER OF ACCURATE 0.5 PREDICTIONS ON TRAIN DATA SET: 3.4245078028880527 ± 0.14164336502613195\n",
      "AVG NUMBER OF ACCURATE 1 PREDICTIONS ON TRAIN DATA SET: 4.058702743433476 ± 0.17638347800182888\n",
      "POWER SPECTRUM MEAN ERROR ON TRAIN DATA SET: 3.0425902581901014 ± 0.4192278056728778\n",
      "TEMPORAL DISTANCE ON TRAIN DATA SET: 0.12446409351959072 ± 0.0030271570184133186\n",
      "GEOMETRICAL DISTANCE ON TRAIN DATA SET: 0.016857322025349845 ± 0.0018742362674765767\n",
      "\n",
      "\n",
      "AVERAGE RMNSE ERROR ON TEST DATA SET: 1.1842842036123038 ± 0.008394403952478188\n",
      "AVG NUMBER OF ACCURATE 0.5 PREDICTIONS ON TEST DATA SET: 3.5538096839701288 ± 0.12235341807732095\n",
      "AVG NUMBER OF ACCURATE 1 PREDICTIONS ON TEST DATA SET: 3.9789303644185536 ± 0.140776677426873\n",
      "POWER SPECTRUM MEAN ERROR ON TEST DATA SET: 3.175056710167216 ± 0.5627910277149409\n",
      "TEMPORAL DISTANCE ON TEST DATA SET: 0.11735011096208295 ± 0.0017092587292182682\n",
      "GEOMETRICAL DISTANCE ON TEST DATA SET: 0.018916322393910084 ± 0.0018741692471832998\n"
     ]
    }
   ],
   "source": [
    "!bash ./1_Randomly_Clustered_ESN_Evaluate_Tuned_Model.sh \"evaluate_tuned_model\" 350 0.89 0.89 6 \"random_search.json\""
   ]
  },
  {
   "cell_type": "code",
   "execution_count": 48,
   "metadata": {},
   "outputs": [
    {
     "name": "stdout",
     "output_type": "stream",
     "text": [
      " 10%|▉        | 3/30 [03:46<33:29, 74.42s/trial, best loss: 0.12488935612310745]/home/user/kuei_jan_CHU/PGClustered_ESN/Methods/./Utils/global_utils.py:254: RuntimeWarning: divide by zero encountered in log10\n",
      "  s_dbfs = 20 * np.log10(s_mag)\n",
      "\n",
      " 13%|█▏       | 4/30 [04:50<30:28, 70.31s/trial, best loss: 0.12488935612310745]/home/user/kuei_jan_CHU/PGClustered_ESN/Methods/./Utils/global_utils.py:289: RuntimeWarning: invalid value encountered in divide\n",
      "  trajectory = (trajectory-trajectory.mean())/trajectory.std()\n",
      "\n",
      "/home/user/kuei_jan_CHU/PGClustered_ESN/Methods/./Utils/global_utils.py:301: RuntimeWarning: Mean of empty slice\n",
      "  spectrum = np.nanmean(np.array(spectrum),axis=0)\n",
      "\n",
      "100%|████████| 30/30 [34:18<00:00, 68.61s/trial, best loss: 0.12153195710187763]\n",
      "{'in_cluster_weight': 0.5, 'noise_level': 5, 'radius': 0.1, 'regularization': 0.01, 'sigma_input': 1.5}\n"
     ]
    }
   ],
   "source": [
    "!bash ./0_Randomly_Clustered_ESN_Tune.sh \"tune\" 400 0.89 0.89 7 \"random_search.json\" "
   ]
  },
  {
   "cell_type": "code",
   "execution_count": 51,
   "metadata": {},
   "outputs": [
    {
     "name": "stdout",
     "output_type": "stream",
     "text": [
      "AVERAGE RMNSE ERROR ON TRAIN DATA SET: 1.1562790981258948 ± 0.010482756915670018\n",
      "AVG NUMBER OF ACCURATE 0.5 PREDICTIONS ON TRAIN DATA SET: 3.4984851396135825 ± 0.1392525272406758\n",
      "AVG NUMBER OF ACCURATE 1 PREDICTIONS ON TRAIN DATA SET: 4.058068910683073 ± 0.14094841180200451\n",
      "POWER SPECTRUM MEAN ERROR ON TRAIN DATA SET: 2.7148413612858597 ± 0.49500594699871947\n",
      "TEMPORAL DISTANCE ON TRAIN DATA SET: 0.12742246132634769 ± 0.002435261259290495\n",
      "GEOMETRICAL DISTANCE ON TRAIN DATA SET: 0.019797251819133835 ± 0.0028871364172845513\n",
      "\n",
      "\n",
      "AVERAGE RMNSE ERROR ON TEST DATA SET: 1.152163744091581 ± 0.009557108833041885\n",
      "AVG NUMBER OF ACCURATE 0.5 PREDICTIONS ON TEST DATA SET: 3.400784348515851 ± 0.08861297110990947\n",
      "AVG NUMBER OF ACCURATE 1 PREDICTIONS ON TEST DATA SET: 3.7969298175173116 ± 0.09258381188594748\n",
      "POWER SPECTRUM MEAN ERROR ON TEST DATA SET: 3.0223722076161534 ± 0.44367724725400665\n",
      "TEMPORAL DISTANCE ON TEST DATA SET: 0.12006057492951874 ± 0.002144693271798497\n",
      "GEOMETRICAL DISTANCE ON TEST DATA SET: 0.01548420817863714 ± 0.0015098591991184933\n"
     ]
    }
   ],
   "source": [
    "!bash ./1_Randomly_Clustered_ESN_Evaluate_Tuned_Model.sh \"evaluate_tuned_model\" 400 0.89 0.89 7 \"random_search.json\""
   ]
  },
  {
   "cell_type": "code",
   "execution_count": 54,
   "metadata": {},
   "outputs": [
    {
     "name": "stdout",
     "output_type": "stream",
     "text": [
      " 10%|█▏          | 3/30 [03:35<31:25, 69.84s/trial, best loss: 0.12842405502677]/home/user/kuei_jan_CHU/PGClustered_ESN/Methods/./Utils/global_utils.py:254: RuntimeWarning: divide by zero encountered in log10\n",
      "  s_dbfs = 20 * np.log10(s_mag)\n",
      "\n",
      " 13%|█▌          | 4/30 [04:34<28:26, 65.63s/trial, best loss: 0.12842405502677]/home/user/kuei_jan_CHU/PGClustered_ESN/Methods/./Utils/global_utils.py:289: RuntimeWarning: invalid value encountered in divide\n",
      "  trajectory = (trajectory-trajectory.mean())/trajectory.std()\n",
      "\n",
      "100%|████████| 30/30 [35:35<00:00, 71.18s/trial, best loss: 0.12325758406525997]\n",
      "{'in_cluster_weight': 0.5, 'noise_level': 5, 'radius': 0.3, 'regularization': 0.01, 'sigma_input': 1.3}\n"
     ]
    }
   ],
   "source": [
    "!bash ./0_Randomly_Clustered_ESN_Tune.sh \"tune\" 450 0.89 0.89 8 \"random_search.json\" "
   ]
  },
  {
   "cell_type": "code",
   "execution_count": 56,
   "metadata": {},
   "outputs": [
    {
     "name": "stdout",
     "output_type": "stream",
     "text": [
      "AVERAGE RMNSE ERROR ON TRAIN DATA SET: 1.1613630439924132 ± 0.007863967947275381\n",
      "AVG NUMBER OF ACCURATE 0.5 PREDICTIONS ON TRAIN DATA SET: 3.570742073159449 ± 0.12048033794328761\n",
      "AVG NUMBER OF ACCURATE 1 PREDICTIONS ON TRAIN DATA SET: 4.320204026742325 ± 0.1267948957789307\n",
      "POWER SPECTRUM MEAN ERROR ON TRAIN DATA SET: 2.983299621331455 ± 0.5145580942117043\n",
      "TEMPORAL DISTANCE ON TRAIN DATA SET: 0.12236241466464678 ± 0.002483109498860507\n",
      "GEOMETRICAL DISTANCE ON TRAIN DATA SET: 0.018704539598584057 ± 0.002466291005540753\n",
      "\n",
      "\n",
      "AVERAGE RMNSE ERROR ON TEST DATA SET: 1.1750592337067043 ± 0.005906511176147432\n",
      "AVG NUMBER OF ACCURATE 0.5 PREDICTIONS ON TEST DATA SET: 3.5483768318238234 ± 0.11502522885339797\n",
      "AVG NUMBER OF ACCURATE 1 PREDICTIONS ON TEST DATA SET: 3.966253709410507 ± 0.12514934072754075\n",
      "POWER SPECTRUM MEAN ERROR ON TEST DATA SET: 4.239194738439381 ± 0.6075804894995298\n",
      "TEMPORAL DISTANCE ON TEST DATA SET: 0.1141145320465905 ± 0.0018422760659816287\n",
      "GEOMETRICAL DISTANCE ON TEST DATA SET: 0.019373554448642038 ± 0.0022800161340258847\n"
     ]
    }
   ],
   "source": [
    "!bash ./1_Randomly_Clustered_ESN_Evaluate_Tuned_Model.sh \"evaluate_tuned_model\" 450 0.89 0.89 8 \"random_search.json\""
   ]
  },
  {
   "cell_type": "code",
   "execution_count": 57,
   "metadata": {},
   "outputs": [
    {
     "name": "stdout",
     "output_type": "stream",
     "text": [
      " 10%|▉        | 3/30 [03:51<32:49, 72.94s/trial, best loss: 0.12795296304172224]/home/user/kuei_jan_CHU/PGClustered_ESN/Methods/./Utils/global_utils.py:254: RuntimeWarning: divide by zero encountered in log10\n",
      "  s_dbfs = 20 * np.log10(s_mag)\n",
      "\n",
      " 13%|█▏       | 4/30 [04:54<29:52, 68.93s/trial, best loss: 0.12795296304172224]/home/user/kuei_jan_CHU/PGClustered_ESN/Methods/./Utils/global_utils.py:289: RuntimeWarning: invalid value encountered in divide\n",
      "  trajectory = (trajectory-trajectory.mean())/trajectory.std()\n",
      "\n",
      "/home/user/kuei_jan_CHU/PGClustered_ESN/Methods/./Utils/global_utils.py:301: RuntimeWarning: Mean of empty slice\n",
      "  spectrum = np.nanmean(np.array(spectrum),axis=0)\n",
      "\n",
      "100%|████████| 30/30 [37:10<00:00, 74.34s/trial, best loss: 0.12363609474544605]\n",
      "{'in_cluster_weight': 0.5, 'noise_level': 5, 'radius': 0.3, 'regularization': 0.01, 'sigma_input': 1.3}\n"
     ]
    }
   ],
   "source": [
    "!bash ./0_Randomly_Clustered_ESN_Tune.sh \"tune\" 500 0.89 0.89 9 \"random_search.json\" "
   ]
  },
  {
   "cell_type": "code",
   "execution_count": 59,
   "metadata": {},
   "outputs": [
    {
     "name": "stdout",
     "output_type": "stream",
     "text": [
      "AVERAGE RMNSE ERROR ON TRAIN DATA SET: 1.164376654513379 ± 0.009155232093355775\n",
      "AVG NUMBER OF ACCURATE 0.5 PREDICTIONS ON TRAIN DATA SET: 3.749573456308679 ± 0.12431789467270207\n",
      "AVG NUMBER OF ACCURATE 1 PREDICTIONS ON TRAIN DATA SET: 4.472867172053517 ± 0.1404007794227671\n",
      "POWER SPECTRUM MEAN ERROR ON TRAIN DATA SET: 4.041917968056509 ± 0.4415325782068747\n",
      "TEMPORAL DISTANCE ON TRAIN DATA SET: 0.1272050800432413 ± 0.003184985947321958\n",
      "GEOMETRICAL DISTANCE ON TRAIN DATA SET: 0.015297756427126049 ± 0.0011318942946592916\n",
      "\n",
      "\n",
      "AVERAGE RMNSE ERROR ON TEST DATA SET: 1.1613460315660877 ± 0.009061244477433948\n",
      "AVG NUMBER OF ACCURATE 0.5 PREDICTIONS ON TEST DATA SET: 3.5810644922374295 ± 0.07608528310421266\n",
      "AVG NUMBER OF ACCURATE 1 PREDICTIONS ON TEST DATA SET: 4.039235023242548 ± 0.12559315662776185\n",
      "POWER SPECTRUM MEAN ERROR ON TEST DATA SET: 2.6995373924725596 ± 0.4252612781340031\n",
      "TEMPORAL DISTANCE ON TEST DATA SET: 0.11867201048313743 ± 0.0023243846774269415\n",
      "GEOMETRICAL DISTANCE ON TEST DATA SET: 0.016321785911023082 ± 0.0018551069325551024\n"
     ]
    }
   ],
   "source": [
    "!bash ./1_Randomly_Clustered_ESN_Evaluate_Tuned_Model.sh \"evaluate_tuned_model\" 500 0.89 0.89 9 \"random_search.json\""
   ]
  },
  {
   "cell_type": "code",
   "execution_count": null,
   "metadata": {
    "editable": true,
    "slideshow": {
     "slide_type": ""
    },
    "tags": []
   },
   "outputs": [],
   "source": []
  }
 ],
 "metadata": {
  "kernelspec": {
   "display_name": "Python 3 (ipykernel)",
   "language": "python",
   "name": "python3"
  },
  "language_info": {
   "codemirror_mode": {
    "name": "ipython",
    "version": 3
   },
   "file_extension": ".py",
   "mimetype": "text/x-python",
   "name": "python",
   "nbconvert_exporter": "python",
   "pygments_lexer": "ipython3",
   "version": "3.11.8"
  }
 },
 "nbformat": 4,
 "nbformat_minor": 4
}
