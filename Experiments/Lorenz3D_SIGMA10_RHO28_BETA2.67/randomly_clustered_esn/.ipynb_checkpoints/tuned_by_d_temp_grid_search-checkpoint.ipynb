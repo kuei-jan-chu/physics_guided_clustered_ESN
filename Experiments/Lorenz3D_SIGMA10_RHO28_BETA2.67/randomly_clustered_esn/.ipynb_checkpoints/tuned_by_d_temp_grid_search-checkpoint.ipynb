{
 "cells": [
  {
   "cell_type": "markdown",
   "metadata": {
    "editable": true,
    "slideshow": {
     "slide_type": ""
    },
    "tags": []
   },
   "source": [
    "# noise level 5, metric: d_temp"
   ]
  },
  {
   "cell_type": "code",
   "execution_count": 6,
   "metadata": {},
   "outputs": [
    {
     "name": "stdout",
     "output_type": "stream",
     "text": [
      "  0%|                                    | 0/30 [00:00<?, ?trial/s, best loss=?]/home/user/kuei_jan_CHU/PGClustered_ESN/Methods/./Utils/global_utils.py:254: RuntimeWarning: divide by zero encountered in log10\n",
      "  s_dbfs = 20 * np.log10(s_mag)\n",
      "\n",
      " 10%|█          | 3/30 [05:06<44:00, 97.81s/trial, best loss: 0.377020646627001]/home/user/kuei_jan_CHU/PGClustered_ESN/Methods/./Utils/global_utils.py:289: RuntimeWarning: invalid value encountered in divide\n",
      "  trajectory = (trajectory-trajectory.mean())/trajectory.std()\n",
      "\n",
      "100%|████████| 30/30 [51:11<00:00, 102.39s/trial, best loss: 0.3648449212174535]\n",
      "{'in_cluster_weight': 0.5, 'noise_level': 5, 'radius': 0.99, 'regularization': 0.01, 'sigma_input': 0.3}\n"
     ]
    }
   ],
   "source": [
    "!bash ./0_Randomly_Clustered_ESN_Tune.sh \"tune\" 3 0.89 0.89 0 \"grid_search.json\" "
   ]
  },
  {
   "cell_type": "code",
   "execution_count": 1,
   "metadata": {},
   "outputs": [
    {
     "name": "stdout",
     "output_type": "stream",
     "text": [
      "/home/user/anaconda3/lib/python3.11/site-packages/numpy/core/_methods.py:236: RuntimeWarning: invalid value encountered in subtract\n",
      "  x = asanyarray(arr - arrmean)\n",
      "AVERAGE RMNSE ERROR ON TRAIN DATA SET: 1.3402793948714904 ± 0.40721737010140147\n",
      "AVG NUMBER OF ACCURATE 0.5 PREDICTIONS ON TRAIN DATA SET: 1.3829325138421265 ± 0.3670754104373933\n",
      "AVG NUMBER OF ACCURATE 1 PREDICTIONS ON TRAIN DATA SET: 2.0079368795067163 ± 0.5314190422037407\n",
      "POWER SPECTRUM MEAN ERROR ON TRAIN DATA SET: inf ± nan\n",
      "TEMPORAL DISTANCE ON TRAIN DATA SET: 0.3299971170010171 ± 0.19025688047534606\n",
      "GEOMETRICAL DISTANCE ON TRAIN DATA SET: 0.9842394722872653 ± 1.4341726758387443\n",
      "\n",
      "\n",
      "AVERAGE RMNSE ERROR ON TEST DATA SET: 1.3151791932834427 ± 0.35556171375741363\n",
      "AVG NUMBER OF ACCURATE 0.5 PREDICTIONS ON TEST DATA SET: 1.5278538448448322 ± 0.3388419302038752\n",
      "AVG NUMBER OF ACCURATE 1 PREDICTIONS ON TEST DATA SET: 2.0912406124167378 ± 0.43078493076608887\n",
      "POWER SPECTRUM MEAN ERROR ON TEST DATA SET: 15.140642481625331 ± 27.754466902625182\n",
      "TEMPORAL DISTANCE ON TEST DATA SET: 0.31950522364206796 ± 0.1943895652317053\n",
      "GEOMETRICAL DISTANCE ON TEST DATA SET: 0.8140766997299208 ± 1.09536465682436\n"
     ]
    }
   ],
   "source": [
    "!bash ./1_Randomly_Clustered_ESN_Evaluate_Tuned_Model.sh \"evaluate_tuned_model\" 3 0.89 0.89 0 \"grid_search.json\" "
   ]
  },
  {
   "cell_type": "code",
   "execution_count": null,
   "metadata": {},
   "outputs": [
    {
     "name": "stdout",
     "output_type": "stream",
     "text": [
      "  0%|                                    | 0/30 [00:00<?, ?trial/s, best loss=?]/home/user/kuei_jan_CHU/PGClustered_ESN/Methods/./Utils/global_utils.py:254: RuntimeWarning: divide by zero encountered in log10\n",
      "  s_dbfs = 20 * np.log10(s_mag)\n",
      "\n",
      " 10%|█          | 3/30 [05:06<44:00, 97.81s/trial, best loss: 0.377020646627001]/home/user/kuei_jan_CHU/PGClustered_ESN/Methods/./Utils/global_utils.py:289: RuntimeWarning: invalid value encountered in divide\n",
      "  trajectory = (trajectory-trajectory.mean())/trajectory.std()\n",
      "\n",
      "100%|████████| 30/30 [51:11<00:00, 102.39s/trial, best loss: 0.3648449212174535]\n",
      "{'in_cluster_weight': 0.5, 'noise_level': 5, 'radius': 0.99, 'regularization': 0.01, 'sigma_input': 0.3}\n"
     ]
    }
   ],
   "source": [
    "!bash ./0_Randomly_Clustered_ESN_Tune.sh \"tune\" 25 0.89 0.89 1 \"grid_search.json\" "
   ]
  },
  {
   "cell_type": "code",
   "execution_count": null,
   "metadata": {},
   "outputs": [
    {
     "name": "stdout",
     "output_type": "stream",
     "text": [
      "/home/user/anaconda3/lib/python3.11/site-packages/numpy/core/_methods.py:236: RuntimeWarning: invalid value encountered in subtract\n",
      "  x = asanyarray(arr - arrmean)\n",
      "AVERAGE RMNSE ERROR ON TRAIN DATA SET: 1.3402793948714904 ± 0.40721737010140147\n",
      "AVG NUMBER OF ACCURATE 0.5 PREDICTIONS ON TRAIN DATA SET: 1.3829325138421265 ± 0.3670754104373933\n",
      "AVG NUMBER OF ACCURATE 1 PREDICTIONS ON TRAIN DATA SET: 2.0079368795067163 ± 0.5314190422037407\n",
      "POWER SPECTRUM MEAN ERROR ON TRAIN DATA SET: inf ± nan\n",
      "TEMPORAL DISTANCE ON TRAIN DATA SET: 0.3299971170010171 ± 0.19025688047534606\n",
      "GEOMETRICAL DISTANCE ON TRAIN DATA SET: 0.9842394722872653 ± 1.4341726758387443\n",
      "\n",
      "\n",
      "AVERAGE RMNSE ERROR ON TEST DATA SET: 1.3151791932834427 ± 0.35556171375741363\n",
      "AVG NUMBER OF ACCURATE 0.5 PREDICTIONS ON TEST DATA SET: 1.5278538448448322 ± 0.3388419302038752\n",
      "AVG NUMBER OF ACCURATE 1 PREDICTIONS ON TEST DATA SET: 2.0912406124167378 ± 0.43078493076608887\n",
      "POWER SPECTRUM MEAN ERROR ON TEST DATA SET: 15.140642481625331 ± 27.754466902625182\n",
      "TEMPORAL DISTANCE ON TEST DATA SET: 0.31950522364206796 ± 0.1943895652317053\n",
      "GEOMETRICAL DISTANCE ON TEST DATA SET: 0.8140766997299208 ± 1.09536465682436\n"
     ]
    }
   ],
   "source": [
    "!bash ./1_Randomly_Clustered_ESN_Evaluate_Tuned_Model.sh \"evaluate_tuned_model\" 25 0.89 0.89 1 \"grid_search.json\" "
   ]
  },
  {
   "cell_type": "code",
   "execution_count": null,
   "metadata": {},
   "outputs": [
    {
     "name": "stdout",
     "output_type": "stream",
     "text": [
      "  0%|                                    | 0/30 [00:00<?, ?trial/s, best loss=?]/home/user/kuei_jan_CHU/PGClustered_ESN/Methods/./Utils/global_utils.py:254: RuntimeWarning: divide by zero encountered in log10\n",
      "  s_dbfs = 20 * np.log10(s_mag)\n",
      "\n",
      " 10%|█          | 3/30 [05:06<44:00, 97.81s/trial, best loss: 0.377020646627001]/home/user/kuei_jan_CHU/PGClustered_ESN/Methods/./Utils/global_utils.py:289: RuntimeWarning: invalid value encountered in divide\n",
      "  trajectory = (trajectory-trajectory.mean())/trajectory.std()\n",
      "\n",
      "100%|████████| 30/30 [51:11<00:00, 102.39s/trial, best loss: 0.3648449212174535]\n",
      "{'in_cluster_weight': 0.5, 'noise_level': 5, 'radius': 0.99, 'regularization': 0.01, 'sigma_input': 0.3}\n"
     ]
    }
   ],
   "source": [
    "!bash ./0_Randomly_Clustered_ESN_Tune.sh \"tune\" 50 0.89 0.89 2 \"grid_search.json\" "
   ]
  },
  {
   "cell_type": "code",
   "execution_count": null,
   "metadata": {},
   "outputs": [
    {
     "name": "stdout",
     "output_type": "stream",
     "text": [
      "/home/user/anaconda3/lib/python3.11/site-packages/numpy/core/_methods.py:236: RuntimeWarning: invalid value encountered in subtract\n",
      "  x = asanyarray(arr - arrmean)\n",
      "AVERAGE RMNSE ERROR ON TRAIN DATA SET: 1.3402793948714904 ± 0.40721737010140147\n",
      "AVG NUMBER OF ACCURATE 0.5 PREDICTIONS ON TRAIN DATA SET: 1.3829325138421265 ± 0.3670754104373933\n",
      "AVG NUMBER OF ACCURATE 1 PREDICTIONS ON TRAIN DATA SET: 2.0079368795067163 ± 0.5314190422037407\n",
      "POWER SPECTRUM MEAN ERROR ON TRAIN DATA SET: inf ± nan\n",
      "TEMPORAL DISTANCE ON TRAIN DATA SET: 0.3299971170010171 ± 0.19025688047534606\n",
      "GEOMETRICAL DISTANCE ON TRAIN DATA SET: 0.9842394722872653 ± 1.4341726758387443\n",
      "\n",
      "\n",
      "AVERAGE RMNSE ERROR ON TEST DATA SET: 1.3151791932834427 ± 0.35556171375741363\n",
      "AVG NUMBER OF ACCURATE 0.5 PREDICTIONS ON TEST DATA SET: 1.5278538448448322 ± 0.3388419302038752\n",
      "AVG NUMBER OF ACCURATE 1 PREDICTIONS ON TEST DATA SET: 2.0912406124167378 ± 0.43078493076608887\n",
      "POWER SPECTRUM MEAN ERROR ON TEST DATA SET: 15.140642481625331 ± 27.754466902625182\n",
      "TEMPORAL DISTANCE ON TEST DATA SET: 0.31950522364206796 ± 0.1943895652317053\n",
      "GEOMETRICAL DISTANCE ON TEST DATA SET: 0.8140766997299208 ± 1.09536465682436\n"
     ]
    }
   ],
   "source": [
    "!bash ./1_Randomly_Clustered_ESN_Evaluate_Tuned_Model.sh \"evaluate_tuned_model\" 50 0.89 0.89 2 \"grid_search.json\" "
   ]
  },
  {
   "cell_type": "code",
   "execution_count": 12,
   "metadata": {},
   "outputs": [
    {
     "name": "stdout",
     "output_type": "stream",
     "text": [
      "  7%|▍     | 2/30 [05:13<1:11:39, 153.55s/trial, best loss: 0.15904853301770153]/home/user/kuei_jan_CHU/PGClustered_ESN/Methods/./Utils/global_utils.py:254: RuntimeWarning: divide by zero encountered in log10\n",
      "  s_dbfs = 20 * np.log10(s_mag)\n",
      "\n",
      "/home/user/kuei_jan_CHU/PGClustered_ESN/Methods/./Utils/global_utils.py:289: RuntimeWarning: invalid value encountered in divide\n",
      "  trajectory = (trajectory-trajectory.mean())/trajectory.std()\n",
      "\n",
      " 87%|████▎| 26/30 [1:07:22<10:27, 156.92s/trial, best loss: 0.15904853301770153]/home/user/kuei_jan_CHU/PGClustered_ESN/Methods/./Utils/global_utils.py:301: RuntimeWarning: Mean of empty slice\n",
      "  spectrum = np.nanmean(np.array(spectrum),axis=0)\n",
      "\n",
      "100%|█████| 30/30 [1:17:14<00:00, 154.50s/trial, best loss: 0.15904853301770153]\n",
      "{'in_cluster_weight': 0.5, 'noise_level': 5, 'radius': 0.99, 'regularization': 0.01, 'sigma_input': 0.7}\n"
     ]
    }
   ],
   "source": [
    "!bash ./0_Randomly_Clustered_ESN_Tune.sh \"tune\" 100 0.89 0.89 3 \"grid_search.json\" "
   ]
  },
  {
   "cell_type": "code",
   "execution_count": 2,
   "metadata": {},
   "outputs": [
    {
     "name": "stdout",
     "output_type": "stream",
     "text": [
      "/home/user/anaconda3/lib/python3.11/site-packages/numpy/core/_methods.py:236: RuntimeWarning: invalid value encountered in subtract\n",
      "  x = asanyarray(arr - arrmean)\n",
      "AVERAGE RMNSE ERROR ON TRAIN DATA SET: 1.1730059085575522 ± 0.031143402080059057\n",
      "AVG NUMBER OF ACCURATE 0.5 PREDICTIONS ON TRAIN DATA SET: 2.518081696044825 ± 0.4173931517606076\n",
      "AVG NUMBER OF ACCURATE 1 PREDICTIONS ON TRAIN DATA SET: 3.201308127210658 ± 0.5180020662874819\n",
      "POWER SPECTRUM MEAN ERROR ON TRAIN DATA SET: 7.725271486987166 ± 10.685570493735447\n",
      "TEMPORAL DISTANCE ON TRAIN DATA SET: 0.19497809566025237 ± 0.13816608530149718\n",
      "GEOMETRICAL DISTANCE ON TRAIN DATA SET: 0.24966398456117064 ± 0.3427760681222018\n",
      "\n",
      "\n",
      "AVERAGE RMNSE ERROR ON TEST DATA SET: 1.1928887084441082 ± 0.022579316813445598\n",
      "AVG NUMBER OF ACCURATE 0.5 PREDICTIONS ON TEST DATA SET: 2.4300242175067868 ± 0.4159990798818394\n",
      "AVG NUMBER OF ACCURATE 1 PREDICTIONS ON TEST DATA SET: 2.9714079338861534 ± 0.4456943789455558\n",
      "POWER SPECTRUM MEAN ERROR ON TEST DATA SET: inf ± nan\n",
      "TEMPORAL DISTANCE ON TEST DATA SET: 0.1794696285648249 ± 0.13405235226980644\n",
      "GEOMETRICAL DISTANCE ON TEST DATA SET: 0.23105350837633684 ± 0.3615244302489636\n"
     ]
    }
   ],
   "source": [
    "!bash ./1_Randomly_Clustered_ESN_Evaluate_Tuned_Model.sh \"evaluate_tuned_model\" 100 0.89 0.89 3 \"grid_search.json\""
   ]
  },
  {
   "cell_type": "code",
   "execution_count": 18,
   "metadata": {},
   "outputs": [
    {
     "name": "stdout",
     "output_type": "stream",
     "text": [
      "  0%|                                    | 0/30 [00:00<?, ?trial/s, best loss=?]/home/user/kuei_jan_CHU/PGClustered_ESN/Methods/./Utils/global_utils.py:254: RuntimeWarning: divide by zero encountered in log10\n",
      "  s_dbfs = 20 * np.log10(s_mag)\n",
      "\n",
      " 13%|█▏       | 4/30 [03:27<21:36, 49.87s/trial, best loss: 0.13782839516647877]/home/user/kuei_jan_CHU/PGClustered_ESN/Methods/./Utils/global_utils.py:289: RuntimeWarning: invalid value encountered in divide\n",
      "  trajectory = (trajectory-trajectory.mean())/trajectory.std()\n",
      "\n",
      " 47%|███▋    | 14/30 [11:19<13:09, 49.32s/trial, best loss: 0.13782839516647877]/home/user/kuei_jan_CHU/PGClustered_ESN/Methods/./Utils/global_utils.py:301: RuntimeWarning: Mean of empty slice\n",
      "  spectrum = np.nanmean(np.array(spectrum),axis=0)\n",
      "\n",
      "100%|████████| 30/30 [23:37<00:00, 47.26s/trial, best loss: 0.13571144650255268]\n",
      "{'in_cluster_weight': 0.5, 'noise_level': 5, 'radius': 0.3, 'regularization': 0.01, 'sigma_input': 1.3}\n"
     ]
    }
   ],
   "source": [
    "!bash ./0_Randomly_Clustered_ESN_Tune.sh \"tune\" 150 0.89 0.89 4 \"grid_search.json\" "
   ]
  },
  {
   "cell_type": "code",
   "execution_count": 3,
   "metadata": {},
   "outputs": [
    {
     "name": "stdout",
     "output_type": "stream",
     "text": [
      "AVERAGE RMNSE ERROR ON TRAIN DATA SET: 1.1828724539154245 ± 0.023181588909133386\n",
      "AVG NUMBER OF ACCURATE 0.5 PREDICTIONS ON TRAIN DATA SET: 2.5543007103535307 ± 0.3871396371256406\n",
      "AVG NUMBER OF ACCURATE 1 PREDICTIONS ON TRAIN DATA SET: 3.219734550740212 ± 0.4252544821892384\n",
      "POWER SPECTRUM MEAN ERROR ON TRAIN DATA SET: 2.1711591524832743 ± 1.6595884849896618\n",
      "TEMPORAL DISTANCE ON TRAIN DATA SET: 0.117526905761805 ± 0.008588571363385089\n",
      "GEOMETRICAL DISTANCE ON TRAIN DATA SET: 0.020280178383239506 ± 0.02175487165008528\n",
      "\n",
      "\n",
      "AVERAGE RMNSE ERROR ON TEST DATA SET: 1.184398078685111 ± 0.02936981612925252\n",
      "AVG NUMBER OF ACCURATE 0.5 PREDICTIONS ON TEST DATA SET: 2.563672380305907 ± 0.3352674715172644\n",
      "AVG NUMBER OF ACCURATE 1 PREDICTIONS ON TEST DATA SET: 3.0956391529650116 ± 0.3639672607876666\n",
      "POWER SPECTRUM MEAN ERROR ON TEST DATA SET: 2.355963798992987 ± 1.252547175761409\n",
      "TEMPORAL DISTANCE ON TEST DATA SET: 0.12029091776634149 ± 0.04070240047946864\n",
      "GEOMETRICAL DISTANCE ON TEST DATA SET: 0.050734067013490536 ± 0.10461538824915968\n"
     ]
    }
   ],
   "source": [
    "!bash ./1_Randomly_Clustered_ESN_Evaluate_Tuned_Model.sh \"evaluate_tuned_model\" 150 0.89 0.89 4 \"grid_search.json\""
   ]
  },
  {
   "cell_type": "code",
   "execution_count": 24,
   "metadata": {},
   "outputs": [
    {
     "name": "stdout",
     "output_type": "stream",
     "text": [
      " 10%|▉        | 3/30 [03:19<29:00, 64.47s/trial, best loss: 0.12427857779593814]/home/user/kuei_jan_CHU/PGClustered_ESN/Methods/./Utils/global_utils.py:254: RuntimeWarning: divide by zero encountered in log10\n",
      "  s_dbfs = 20 * np.log10(s_mag)\n",
      "\n",
      " 13%|█▏       | 4/30 [04:18<27:03, 62.44s/trial, best loss: 0.12427857779593814]/home/user/kuei_jan_CHU/PGClustered_ESN/Methods/./Utils/global_utils.py:289: RuntimeWarning: invalid value encountered in divide\n",
      "  trajectory = (trajectory-trajectory.mean())/trajectory.std()\n",
      "\n",
      "/home/user/kuei_jan_CHU/PGClustered_ESN/Methods/./Utils/global_utils.py:301: RuntimeWarning: Mean of empty slice\n",
      "  spectrum = np.nanmean(np.array(spectrum),axis=0)\n",
      "\n",
      "100%|████████| 30/30 [26:23<00:00, 52.79s/trial, best loss: 0.12427857779593814]\n",
      "{'in_cluster_weight': 0.5, 'noise_level': 5, 'radius': 0.7, 'regularization': 0.01, 'sigma_input': 0.9}\n"
     ]
    }
   ],
   "source": [
    "!bash ./0_Randomly_Clustered_ESN_Tune.sh \"tune\" 200 0.89 0.89 5 \"grid_search.json\" "
   ]
  },
  {
   "cell_type": "code",
   "execution_count": 4,
   "metadata": {},
   "outputs": [
    {
     "name": "stdout",
     "output_type": "stream",
     "text": [
      "AVERAGE RMNSE ERROR ON TRAIN DATA SET: 1.1665744703893366 ± 0.023275656734334436\n",
      "AVG NUMBER OF ACCURATE 0.5 PREDICTIONS ON TRAIN DATA SET: 2.965114880150016 ± 0.3084814181239553\n",
      "AVG NUMBER OF ACCURATE 1 PREDICTIONS ON TRAIN DATA SET: 3.6069610874681537 ± 0.41963898644403486\n",
      "POWER SPECTRUM MEAN ERROR ON TRAIN DATA SET: 2.269395845919305 ± 1.2178224904863717\n",
      "TEMPORAL DISTANCE ON TRAIN DATA SET: 0.11489639450115922 ± 0.009710102583905566\n",
      "GEOMETRICAL DISTANCE ON TRAIN DATA SET: 0.02540779610788526 ± 0.040759467816416914\n",
      "\n",
      "\n",
      "AVERAGE RMNSE ERROR ON TEST DATA SET: 1.1675469520145612 ± 0.021708835144090315\n",
      "AVG NUMBER OF ACCURATE 0.5 PREDICTIONS ON TEST DATA SET: 3.032934984443066 ± 0.29487948489515287\n",
      "AVG NUMBER OF ACCURATE 1 PREDICTIONS ON TEST DATA SET: 3.58776500988454 ± 0.3068676025791334\n",
      "POWER SPECTRUM MEAN ERROR ON TEST DATA SET: 2.704048889812478 ± 1.7505525590827617\n",
      "TEMPORAL DISTANCE ON TEST DATA SET: 0.10469470550046486 ± 0.006655727481577919\n",
      "GEOMETRICAL DISTANCE ON TEST DATA SET: 0.018757543382378568 ± 0.007516760997050786\n"
     ]
    }
   ],
   "source": [
    "!bash ./1_Randomly_Clustered_ESN_Evaluate_Tuned_Model.sh \"evaluate_tuned_model\" 200 0.89 0.89 5 \"grid_search.json\""
   ]
  },
  {
   "cell_type": "code",
   "execution_count": 30,
   "metadata": {},
   "outputs": [
    {
     "name": "stdout",
     "output_type": "stream",
     "text": [
      " 10%|▉        | 3/30 [03:06<26:10, 58.16s/trial, best loss: 0.12465813284337061]/home/user/kuei_jan_CHU/PGClustered_ESN/Methods/./Utils/global_utils.py:254: RuntimeWarning: divide by zero encountered in log10\n",
      "  s_dbfs = 20 * np.log10(s_mag)\n",
      "\n",
      " 13%|█▏       | 4/30 [03:42<21:22, 49.32s/trial, best loss: 0.12465813284337061]/home/user/kuei_jan_CHU/PGClustered_ESN/Methods/./Utils/global_utils.py:289: RuntimeWarning: invalid value encountered in divide\n",
      "  trajectory = (trajectory-trajectory.mean())/trajectory.std()\n",
      "\n",
      "/home/user/kuei_jan_CHU/PGClustered_ESN/Methods/./Utils/global_utils.py:301: RuntimeWarning: Mean of empty slice\n",
      "  spectrum = np.nanmean(np.array(spectrum),axis=0)\n",
      "\n",
      "100%|████████| 30/30 [27:29<00:00, 54.97s/trial, best loss: 0.12465813284337061]\n",
      "{'in_cluster_weight': 0.5, 'noise_level': 5, 'radius': 0.7, 'regularization': 0.01, 'sigma_input': 0.9}\n"
     ]
    }
   ],
   "source": [
    "!bash ./0_Randomly_Clustered_ESN_Tune.sh \"tune\" 250 0.89 0.89 6 \"grid_search.json\" "
   ]
  },
  {
   "cell_type": "code",
   "execution_count": 5,
   "metadata": {},
   "outputs": [
    {
     "name": "stdout",
     "output_type": "stream",
     "text": [
      "AVERAGE RMNSE ERROR ON TRAIN DATA SET: 1.1717551619299282 ± 0.029445941683938687\n",
      "AVG NUMBER OF ACCURATE 0.5 PREDICTIONS ON TRAIN DATA SET: 3.2004931993887125 ± 0.3906001139683839\n",
      "AVG NUMBER OF ACCURATE 1 PREDICTIONS ON TRAIN DATA SET: 3.8701827739566665 ± 0.47079412565007994\n",
      "POWER SPECTRUM MEAN ERROR ON TRAIN DATA SET: 2.861568372183234 ± 1.982280021933402\n",
      "TEMPORAL DISTANCE ON TRAIN DATA SET: 0.11214093144142054 ± 0.00577964954808691\n",
      "GEOMETRICAL DISTANCE ON TRAIN DATA SET: 0.019264366706629947 ± 0.005414487275232661\n",
      "\n",
      "\n",
      "AVERAGE RMNSE ERROR ON TEST DATA SET: 1.1666427621453752 ± 0.024875640397011966\n",
      "AVG NUMBER OF ACCURATE 0.5 PREDICTIONS ON TEST DATA SET: 3.3624374671165094 ± 0.22729207638110321\n",
      "AVG NUMBER OF ACCURATE 1 PREDICTIONS ON TEST DATA SET: 3.897392308456081 ± 0.3992922390629188\n",
      "POWER SPECTRUM MEAN ERROR ON TEST DATA SET: 2.165661448637484 ± 1.3147829012908168\n",
      "TEMPORAL DISTANCE ON TEST DATA SET: 0.10362586249295658 ± 0.005775884776041173\n",
      "GEOMETRICAL DISTANCE ON TEST DATA SET: 0.01680368959053438 ± 0.005892860668061734\n"
     ]
    }
   ],
   "source": [
    "!bash ./1_Randomly_Clustered_ESN_Evaluate_Tuned_Model.sh \"evaluate_tuned_model\" 250 0.89 0.89 6 \"grid_search.json\""
   ]
  },
  {
   "cell_type": "code",
   "execution_count": 36,
   "metadata": {},
   "outputs": [
    {
     "name": "stdout",
     "output_type": "stream",
     "text": [
      " 10%|▉        | 3/30 [03:09<28:52, 64.16s/trial, best loss: 0.12481369212163818]/home/user/kuei_jan_CHU/PGClustered_ESN/Methods/./Utils/global_utils.py:254: RuntimeWarning: divide by zero encountered in log10\n",
      "  s_dbfs = 20 * np.log10(s_mag)\n",
      "\n",
      "/home/user/kuei_jan_CHU/PGClustered_ESN/Methods/./Utils/global_utils.py:289: RuntimeWarning: invalid value encountered in divide\n",
      "  trajectory = (trajectory-trajectory.mean())/trajectory.std()\n",
      "\n",
      "100%|█████████| 30/30 [30:10<00:00, 60.34s/trial, best loss: 0.1236465978656639]\n",
      "{'in_cluster_weight': 0.5, 'noise_level': 5, 'radius': 0.99, 'regularization': 0.01, 'sigma_input': 1.1}\n"
     ]
    }
   ],
   "source": [
    "!bash ./0_Randomly_Clustered_ESN_Tune.sh \"tune\" 300 0.89 0.89 7 \"grid_search.json\" "
   ]
  },
  {
   "cell_type": "code",
   "execution_count": 6,
   "metadata": {},
   "outputs": [
    {
     "name": "stdout",
     "output_type": "stream",
     "text": [
      "AVERAGE RMNSE ERROR ON TRAIN DATA SET: 1.1697495384265173 ± 0.02850778545580018\n",
      "AVG NUMBER OF ACCURATE 0.5 PREDICTIONS ON TRAIN DATA SET: 3.207057895732165 ± 0.4185874860183461\n",
      "AVG NUMBER OF ACCURATE 1 PREDICTIONS ON TRAIN DATA SET: 3.63041289923304 ± 0.48753944830791063\n",
      "POWER SPECTRUM MEAN ERROR ON TRAIN DATA SET: 1.627623224045945 ± 0.7102284260225324\n",
      "TEMPORAL DISTANCE ON TRAIN DATA SET: 0.11465513363423976 ± 0.005790466503616542\n",
      "GEOMETRICAL DISTANCE ON TRAIN DATA SET: 0.01927475142593562 ± 0.00655153604370053\n",
      "\n",
      "\n",
      "AVERAGE RMNSE ERROR ON TEST DATA SET: 1.1621744197977322 ± 0.024826646912460313\n",
      "AVG NUMBER OF ACCURATE 0.5 PREDICTIONS ON TEST DATA SET: 3.3690927109957336 ± 0.2881469008159711\n",
      "AVG NUMBER OF ACCURATE 1 PREDICTIONS ON TEST DATA SET: 3.9040928261031915 ± 0.3437944909862829\n",
      "POWER SPECTRUM MEAN ERROR ON TEST DATA SET: 1.668799406390761 ± 1.157379863465967\n",
      "TEMPORAL DISTANCE ON TEST DATA SET: 0.10356816291235157 ± 0.005361194560622391\n",
      "GEOMETRICAL DISTANCE ON TEST DATA SET: 0.017384569874326527 ± 0.006534308561050654\n"
     ]
    }
   ],
   "source": [
    "!bash ./1_Randomly_Clustered_ESN_Evaluate_Tuned_Model.sh \"evaluate_tuned_model\" 300 0.89 0.89 7 \"grid_search.json\""
   ]
  },
  {
   "cell_type": "code",
   "execution_count": 42,
   "metadata": {},
   "outputs": [
    {
     "name": "stdout",
     "output_type": "stream",
     "text": [
      " 10%|▉        | 3/30 [03:33<31:48, 70.68s/trial, best loss: 0.12436230134309331]/home/user/kuei_jan_CHU/PGClustered_ESN/Methods/./Utils/global_utils.py:254: RuntimeWarning: divide by zero encountered in log10\n",
      "  s_dbfs = 20 * np.log10(s_mag)\n",
      "\n",
      " 13%|█▏       | 4/30 [04:28<27:50, 64.26s/trial, best loss: 0.12436230134309331]/home/user/kuei_jan_CHU/PGClustered_ESN/Methods/./Utils/global_utils.py:289: RuntimeWarning: invalid value encountered in divide\n",
      "  trajectory = (trajectory-trajectory.mean())/trajectory.std()\n",
      "\n",
      "/home/user/kuei_jan_CHU/PGClustered_ESN/Methods/./Utils/global_utils.py:301: RuntimeWarning: Mean of empty slice\n",
      "  spectrum = np.nanmean(np.array(spectrum),axis=0)\n",
      "\n",
      "100%|████████| 30/30 [31:21<00:00, 62.72s/trial, best loss: 0.12436230134309331]\n",
      "{'in_cluster_weight': 0.5, 'noise_level': 5, 'radius': 0.7, 'regularization': 0.01, 'sigma_input': 0.9}\n"
     ]
    }
   ],
   "source": [
    "!bash ./0_Randomly_Clustered_ESN_Tune.sh \"tune\" 350 0.89 0.89 8 \"grid_search.json\" "
   ]
  },
  {
   "cell_type": "code",
   "execution_count": 7,
   "metadata": {},
   "outputs": [
    {
     "name": "stdout",
     "output_type": "stream",
     "text": [
      "AVERAGE RMNSE ERROR ON TRAIN DATA SET: 1.1705732125547794 ± 0.02226161684764394\n",
      "AVG NUMBER OF ACCURATE 0.5 PREDICTIONS ON TRAIN DATA SET: 3.3471802073389676 ± 0.5153918012329527\n",
      "AVG NUMBER OF ACCURATE 1 PREDICTIONS ON TRAIN DATA SET: 3.927680459171736 ± 0.6325279821356053\n",
      "POWER SPECTRUM MEAN ERROR ON TRAIN DATA SET: 2.15936631933228 ± 1.5115901132438183\n",
      "TEMPORAL DISTANCE ON TRAIN DATA SET: 0.10920098955700161 ± 0.005256698912680147\n",
      "GEOMETRICAL DISTANCE ON TRAIN DATA SET: 0.01871276922476518 ± 0.005579016560717422\n",
      "\n",
      "\n",
      "AVERAGE RMNSE ERROR ON TEST DATA SET: 1.1746181882953428 ± 0.02356979212291171\n",
      "AVG NUMBER OF ACCURATE 0.5 PREDICTIONS ON TEST DATA SET: 3.5430798009811753 ± 0.4125117044190439\n",
      "AVG NUMBER OF ACCURATE 1 PREDICTIONS ON TEST DATA SET: 4.020672778409336 ± 0.46523641094418117\n",
      "POWER SPECTRUM MEAN ERROR ON TEST DATA SET: 2.1913146173996916 ± 2.006812453345681\n",
      "TEMPORAL DISTANCE ON TEST DATA SET: 0.10486985739225245 ± 0.007364376429927378\n",
      "GEOMETRICAL DISTANCE ON TEST DATA SET: 0.016812787348577586 ± 0.005296313314936854\n"
     ]
    }
   ],
   "source": [
    "!bash ./1_Randomly_Clustered_ESN_Evaluate_Tuned_Model.sh \"evaluate_tuned_model\" 350 0.89 0.89 8 \"grid_search.json\""
   ]
  },
  {
   "cell_type": "code",
   "execution_count": 48,
   "metadata": {},
   "outputs": [
    {
     "name": "stdout",
     "output_type": "stream",
     "text": [
      " 10%|▉        | 3/30 [03:46<33:29, 74.42s/trial, best loss: 0.12488935612310745]/home/user/kuei_jan_CHU/PGClustered_ESN/Methods/./Utils/global_utils.py:254: RuntimeWarning: divide by zero encountered in log10\n",
      "  s_dbfs = 20 * np.log10(s_mag)\n",
      "\n",
      " 13%|█▏       | 4/30 [04:50<30:28, 70.31s/trial, best loss: 0.12488935612310745]/home/user/kuei_jan_CHU/PGClustered_ESN/Methods/./Utils/global_utils.py:289: RuntimeWarning: invalid value encountered in divide\n",
      "  trajectory = (trajectory-trajectory.mean())/trajectory.std()\n",
      "\n",
      "/home/user/kuei_jan_CHU/PGClustered_ESN/Methods/./Utils/global_utils.py:301: RuntimeWarning: Mean of empty slice\n",
      "  spectrum = np.nanmean(np.array(spectrum),axis=0)\n",
      "\n",
      "100%|████████| 30/30 [34:18<00:00, 68.61s/trial, best loss: 0.12153195710187763]\n",
      "{'in_cluster_weight': 0.5, 'noise_level': 5, 'radius': 0.1, 'regularization': 0.01, 'sigma_input': 1.5}\n"
     ]
    }
   ],
   "source": [
    "!bash ./0_Randomly_Clustered_ESN_Tune.sh \"tune\" 400 0.89 0.89 9 \"grid_search.json\" "
   ]
  },
  {
   "cell_type": "code",
   "execution_count": 8,
   "metadata": {},
   "outputs": [
    {
     "name": "stdout",
     "output_type": "stream",
     "text": [
      "AVERAGE RMNSE ERROR ON TRAIN DATA SET: 1.1526752399103248 ± 0.023237536072229784\n",
      "AVG NUMBER OF ACCURATE 0.5 PREDICTIONS ON TRAIN DATA SET: 3.408435615288565 ± 0.3655249224849777\n",
      "AVG NUMBER OF ACCURATE 1 PREDICTIONS ON TRAIN DATA SET: 3.971731835324698 ± 0.4123770063704048\n",
      "POWER SPECTRUM MEAN ERROR ON TRAIN DATA SET: 2.1150970491703975 ± 1.6515790284270855\n",
      "TEMPORAL DISTANCE ON TRAIN DATA SET: 0.11436340732306442 ± 0.006642097749873489\n",
      "GEOMETRICAL DISTANCE ON TRAIN DATA SET: 0.01961734951533981 ± 0.008567132564507847\n",
      "\n",
      "\n",
      "AVERAGE RMNSE ERROR ON TEST DATA SET: 1.16684328252594 ± 0.025107951013292797\n",
      "AVG NUMBER OF ACCURATE 0.5 PREDICTIONS ON TEST DATA SET: 3.4454242836513296 ± 0.25987709076794674\n",
      "AVG NUMBER OF ACCURATE 1 PREDICTIONS ON TEST DATA SET: 3.84080009859873 ± 0.2544554720622779\n",
      "POWER SPECTRUM MEAN ERROR ON TEST DATA SET: 2.211127639179746 ± 1.0835941787785823\n",
      "TEMPORAL DISTANCE ON TEST DATA SET: 0.10584647297467639 ± 0.007092125787127416\n",
      "GEOMETRICAL DISTANCE ON TEST DATA SET: 0.015193263813706956 ± 0.004721241123827548\n"
     ]
    }
   ],
   "source": [
    "!bash ./1_Randomly_Clustered_ESN_Evaluate_Tuned_Model.sh \"evaluate_tuned_model\" 400 0.89 0.89 9 \"grid_search.json\""
   ]
  }
 ],
 "metadata": {
  "kernelspec": {
   "display_name": "base",
   "language": "python",
   "name": "python3"
  },
  "language_info": {
   "codemirror_mode": {
    "name": "ipython",
    "version": 3
   },
   "file_extension": ".py",
   "mimetype": "text/x-python",
   "name": "python",
   "nbconvert_exporter": "python",
   "pygments_lexer": "ipython3",
   "version": "3.11.8"
  }
 },
 "nbformat": 4,
 "nbformat_minor": 4
}
