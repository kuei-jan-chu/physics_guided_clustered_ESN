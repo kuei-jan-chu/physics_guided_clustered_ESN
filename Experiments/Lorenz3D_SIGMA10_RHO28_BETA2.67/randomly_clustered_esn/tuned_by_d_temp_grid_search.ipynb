{
 "cells": [
  {
   "cell_type": "markdown",
   "metadata": {
    "editable": true,
    "slideshow": {
     "slide_type": ""
    },
    "tags": []
   },
   "source": [
    "# noise level 5, metric: d_temp"
   ]
  },
  {
   "cell_type": "code",
   "execution_count": 1,
   "metadata": {},
   "outputs": [
    {
     "name": "stdout",
     "output_type": "stream",
     "text": [
      "Grid Search Progress:   0%|                                               | 0/25 [00:00<?, ?trial/s]/home/user/kuei_jan_CHU/PGClustered_ESN/Methods/./Utils/global_utils.py:274: RuntimeWarning: divide by zero encountered in log10\n",
      "  s_dbfs = 20 * np.log10(s_mag)\n",
      "/home/user/kuei_jan_CHU/PGClustered_ESN/Methods/./Utils/global_utils.py:309: RuntimeWarning: invalid value encountered in divide\n",
      "  trajectory = (trajectory-trajectory.mean())/trajectory.std()\n",
      "/home/user/kuei_jan_CHU/PGClustered_ESN/Methods/./Utils/global_utils.py:321: RuntimeWarning: Mean of empty slice\n",
      "  spectrum = np.nanmean(np.array(spectrum),axis=0)\n",
      "Grid Search Progress: 100%|███████████| 25/25 [08:25<00:00, 20.20s/trial, Current Best Loss=0.86980]\n",
      "{'radius': 0.9, 'sigma_input': 2.0, 'regularization': 0.01, 'noise_level': 5}\n"
     ]
    }
   ],
   "source": [
    "!bash ./0_Randomly_Clustered_ESN_Tune.sh \"tune\" 3 0.89 0.89 0 \"grid_search.json\" "
   ]
  },
  {
   "cell_type": "code",
   "execution_count": 1,
   "metadata": {},
   "outputs": [
    {
     "name": "stdout",
     "output_type": "stream",
     "text": [
      "{'radius': 0.9, 'sigma_input': 2.0, 'regularization': 0.01, 'noise_level': 5}\n",
      "/home/user/anaconda3/lib/python3.11/site-packages/numpy/core/_methods.py:236: RuntimeWarning: invalid value encountered in subtract\n",
      "  x = asanyarray(arr - arrmean)\n",
      "AVERAGE RMNSE ERROR ON TRAIN DATA SET: 1.1012412195744719 ± 0.0628197311640419\n",
      "AVG NUMBER OF ACCURATE 0.5 PREDICTIONS ON TRAIN DATA SET: 0.007629863341444179 ± 0.00738143849857125\n",
      "AVG NUMBER OF ACCURATE 1 PREDICTIONS ON TRAIN DATA SET: 0.32581333102095567 ± 0.2706272884703432\n",
      "POWER SPECTRUM MEAN ERROR ON TRAIN DATA SET: inf ± nan\n",
      "TEMPORAL DISTANCE ON TRAIN DATA SET: nan ± nan\n",
      "GEOMETRICAL DISTANCE ON TRAIN DATA SET: 1.327950273383321 ± 0.27212337059769354\n",
      "\n",
      "\n",
      "AVERAGE RMNSE ERROR ON TEST DATA SET: 1.087911757153067 ± 0.08802506384159793\n",
      "AVG NUMBER OF ACCURATE 0.5 PREDICTIONS ON TEST DATA SET: 0.039784287423244656 ± 0.014058682582268138\n",
      "AVG NUMBER OF ACCURATE 1 PREDICTIONS ON TEST DATA SET: 0.4154642252829248 ± 0.3232432826374177\n",
      "POWER SPECTRUM MEAN ERROR ON TEST DATA SET: inf ± nan\n",
      "TEMPORAL DISTANCE ON TEST DATA SET: nan ± nan\n",
      "GEOMETRICAL DISTANCE ON TEST DATA SET: 1.3287459707804412 ± 0.3117034256438868\n"
     ]
    }
   ],
   "source": [
    "!bash ./1_Randomly_Clustered_ESN_Evaluate_Tuned_Model.sh \"evaluate_tuned_model\" 3 0.89 0.89 0 \"grid_search.json\" "
   ]
  },
  {
   "cell_type": "code",
   "execution_count": 3,
   "metadata": {},
   "outputs": [
    {
     "name": "stdout",
     "output_type": "stream",
     "text": [
      "Grid Search Progress:   0%|                                               | 0/25 [00:00<?, ?trial/s]/home/user/kuei_jan_CHU/PGClustered_ESN/Methods/./Utils/global_utils.py:274: RuntimeWarning: divide by zero encountered in log10\n",
      "  s_dbfs = 20 * np.log10(s_mag)\n",
      "/home/user/kuei_jan_CHU/PGClustered_ESN/Methods/./Utils/global_utils.py:309: RuntimeWarning: invalid value encountered in divide\n",
      "  trajectory = (trajectory-trajectory.mean())/trajectory.std()\n",
      "/home/user/kuei_jan_CHU/PGClustered_ESN/Methods/./Utils/global_utils.py:321: RuntimeWarning: Mean of empty slice\n",
      "  spectrum = np.nanmean(np.array(spectrum),axis=0)\n",
      "Grid Search Progress: 100%|███████████| 25/25 [08:38<00:00, 20.74s/trial, Current Best Loss=0.51331]\n",
      "{'radius': 0.9, 'sigma_input': 0.1, 'regularization': 0.01, 'noise_level': 5}\n"
     ]
    }
   ],
   "source": [
    "!bash ./0_Randomly_Clustered_ESN_Tune.sh \"tune\" 25 0.89 0.89 1 \"grid_search.json\" "
   ]
  },
  {
   "cell_type": "code",
   "execution_count": 2,
   "metadata": {},
   "outputs": [
    {
     "name": "stdout",
     "output_type": "stream",
     "text": [
      "{'radius': 0.9, 'sigma_input': 0.1, 'regularization': 0.01, 'noise_level': 5}\n",
      "/home/user/anaconda3/lib/python3.11/site-packages/numpy/core/_methods.py:236: RuntimeWarning: invalid value encountered in subtract\n",
      "  x = asanyarray(arr - arrmean)\n",
      "AVERAGE RMNSE ERROR ON TRAIN DATA SET: 2.790753732894686 ± 2.559181955546136\n",
      "AVG NUMBER OF ACCURATE 0.5 PREDICTIONS ON TRAIN DATA SET: 0.8994155572259555 ± 0.2793504876866198\n",
      "AVG NUMBER OF ACCURATE 1 PREDICTIONS ON TRAIN DATA SET: 1.4449507861392143 ± 0.53018814847832\n",
      "POWER SPECTRUM MEAN ERROR ON TRAIN DATA SET: inf ± nan\n",
      "TEMPORAL DISTANCE ON TRAIN DATA SET: 0.5477820346735525 ± 0.22496177035002446\n",
      "GEOMETRICAL DISTANCE ON TRAIN DATA SET: inf ± nan\n",
      "\n",
      "\n",
      "AVERAGE RMNSE ERROR ON TEST DATA SET: 2.9128668861199065 ± 2.5591943286111225\n",
      "AVG NUMBER OF ACCURATE 0.5 PREDICTIONS ON TEST DATA SET: 0.960454463957509 ± 0.2864859092130299\n",
      "AVG NUMBER OF ACCURATE 1 PREDICTIONS ON TEST DATA SET: 1.4989048197679986 ± 0.39969910076682674\n",
      "POWER SPECTRUM MEAN ERROR ON TEST DATA SET: inf ± nan\n",
      "TEMPORAL DISTANCE ON TEST DATA SET: 0.5600827727082368 ± 0.22022772236208826\n",
      "GEOMETRICAL DISTANCE ON TEST DATA SET: inf ± nan\n"
     ]
    }
   ],
   "source": [
    "!bash ./1_Randomly_Clustered_ESN_Evaluate_Tuned_Model.sh \"evaluate_tuned_model\" 25 0.89 0.89 1 \"grid_search.json\" "
   ]
  },
  {
   "cell_type": "code",
   "execution_count": 5,
   "metadata": {},
   "outputs": [
    {
     "name": "stdout",
     "output_type": "stream",
     "text": [
      "Grid Search Progress:   0%|                                               | 0/25 [00:00<?, ?trial/s]/home/user/kuei_jan_CHU/PGClustered_ESN/Methods/./Utils/global_utils.py:274: RuntimeWarning: divide by zero encountered in log10\n",
      "  s_dbfs = 20 * np.log10(s_mag)\n",
      "/home/user/kuei_jan_CHU/PGClustered_ESN/Methods/./Utils/global_utils.py:309: RuntimeWarning: invalid value encountered in divide\n",
      "  trajectory = (trajectory-trajectory.mean())/trajectory.std()\n",
      "/home/user/kuei_jan_CHU/PGClustered_ESN/Methods/./Utils/global_utils.py:321: RuntimeWarning: Mean of empty slice\n",
      "  spectrum = np.nanmean(np.array(spectrum),axis=0)\n",
      "Grid Search Progress: 100%|███████████| 25/25 [09:59<00:00, 23.96s/trial, Current Best Loss=0.43504]\n",
      "{'radius': 0.9, 'sigma_input': 0.5, 'regularization': 0.01, 'noise_level': 5}\n"
     ]
    }
   ],
   "source": [
    "!bash ./0_Randomly_Clustered_ESN_Tune.sh \"tune\" 50 0.89 0.89 2 \"grid_search.json\" "
   ]
  },
  {
   "cell_type": "code",
   "execution_count": 3,
   "metadata": {},
   "outputs": [
    {
     "name": "stdout",
     "output_type": "stream",
     "text": [
      "{'radius': 0.9, 'sigma_input': 0.5, 'regularization': 0.01, 'noise_level': 5}\n",
      "/home/user/anaconda3/lib/python3.11/site-packages/numpy/core/_methods.py:236: RuntimeWarning: invalid value encountered in subtract\n",
      "  x = asanyarray(arr - arrmean)\n",
      "AVERAGE RMNSE ERROR ON TRAIN DATA SET: 1.5355441390267184 ± 0.9333633148237217\n",
      "AVG NUMBER OF ACCURATE 0.5 PREDICTIONS ON TRAIN DATA SET: 1.429418564336989 ± 0.3117693101415119\n",
      "AVG NUMBER OF ACCURATE 1 PREDICTIONS ON TRAIN DATA SET: 1.922543898631042 ± 0.35367426499169347\n",
      "POWER SPECTRUM MEAN ERROR ON TRAIN DATA SET: inf ± nan\n",
      "TEMPORAL DISTANCE ON TRAIN DATA SET: 0.33556413365654836 ± 0.22597017071238415\n",
      "GEOMETRICAL DISTANCE ON TRAIN DATA SET: 3.2365141416699834 ± 9.008836484939934\n",
      "\n",
      "\n",
      "AVERAGE RMNSE ERROR ON TEST DATA SET: 1.5265218579738289 ± 0.946333324648822\n",
      "AVG NUMBER OF ACCURATE 0.5 PREDICTIONS ON TEST DATA SET: 1.6863814618720554 ± 0.3703437582007006\n",
      "AVG NUMBER OF ACCURATE 1 PREDICTIONS ON TEST DATA SET: 2.2178377762862214 ± 0.5981085513574396\n",
      "POWER SPECTRUM MEAN ERROR ON TEST DATA SET: inf ± nan\n",
      "TEMPORAL DISTANCE ON TEST DATA SET: 0.3786629205756819 ± 0.21082485177788843\n",
      "GEOMETRICAL DISTANCE ON TEST DATA SET: 3.4194506017555177 ± 8.933910209000986\n"
     ]
    }
   ],
   "source": [
    "!bash ./1_Randomly_Clustered_ESN_Evaluate_Tuned_Model.sh \"evaluate_tuned_model\" 50 0.89 0.89 2 \"grid_search.json\" "
   ]
  },
  {
   "cell_type": "code",
   "execution_count": 7,
   "metadata": {},
   "outputs": [
    {
     "name": "stdout",
     "output_type": "stream",
     "text": [
      "Grid Search Progress:   0%|                                               | 0/25 [00:00<?, ?trial/s]/home/user/kuei_jan_CHU/PGClustered_ESN/Methods/./Utils/global_utils.py:274: RuntimeWarning: divide by zero encountered in log10\n",
      "  s_dbfs = 20 * np.log10(s_mag)\n",
      "/home/user/kuei_jan_CHU/PGClustered_ESN/Methods/./Utils/global_utils.py:309: RuntimeWarning: invalid value encountered in divide\n",
      "  trajectory = (trajectory-trajectory.mean())/trajectory.std()\n",
      "/home/user/kuei_jan_CHU/PGClustered_ESN/Methods/./Utils/global_utils.py:321: RuntimeWarning: Mean of empty slice\n",
      "  spectrum = np.nanmean(np.array(spectrum),axis=0)\n",
      "Grid Search Progress: 100%|███████████| 25/25 [12:18<00:00, 29.55s/trial, Current Best Loss=0.15393]\n",
      "{'radius': 0.9, 'sigma_input': 1.0, 'regularization': 0.01, 'noise_level': 5}\n"
     ]
    }
   ],
   "source": [
    "!bash ./0_Randomly_Clustered_ESN_Tune.sh \"tune\" 100 0.89 0.89 3 \"grid_search.json\" "
   ]
  },
  {
   "cell_type": "code",
   "execution_count": 4,
   "metadata": {},
   "outputs": [
    {
     "name": "stdout",
     "output_type": "stream",
     "text": [
      "{'radius': 0.9, 'sigma_input': 1.0, 'regularization': 0.01, 'noise_level': 5}\n",
      "AVERAGE RMNSE ERROR ON TRAIN DATA SET: 1.1855434742609552 ± 0.020074681084485815\n",
      "AVG NUMBER OF ACCURATE 0.5 PREDICTIONS ON TRAIN DATA SET: 2.408402696409434 ± 0.5139293348937978\n",
      "AVG NUMBER OF ACCURATE 1 PREDICTIONS ON TRAIN DATA SET: 3.0773782143824855 ± 0.5716910370368496\n",
      "POWER SPECTRUM MEAN ERROR ON TRAIN DATA SET: 3.8382792518029314 ± 3.0564749125178405\n",
      "TEMPORAL DISTANCE ON TRAIN DATA SET: 0.13874644998718988 ± 0.03827342827058208\n",
      "GEOMETRICAL DISTANCE ON TRAIN DATA SET: 0.07366389677221266 ± 0.11977717408804614\n",
      "\n",
      "\n",
      "AVERAGE RMNSE ERROR ON TEST DATA SET: 1.1871216554044068 ± 0.023916993787486008\n",
      "AVG NUMBER OF ACCURATE 0.5 PREDICTIONS ON TEST DATA SET: 2.5908835946589734 ± 0.44290646571561126\n",
      "AVG NUMBER OF ACCURATE 1 PREDICTIONS ON TEST DATA SET: 3.098632833690795 ± 0.5002626139028931\n",
      "POWER SPECTRUM MEAN ERROR ON TEST DATA SET: 2.3382008352679975 ± 1.636816771018945\n",
      "TEMPORAL DISTANCE ON TEST DATA SET: 0.11936402178274208 ± 0.015557052483106825\n",
      "GEOMETRICAL DISTANCE ON TEST DATA SET: 0.04186663943223386 ± 0.06862143903364584\n"
     ]
    }
   ],
   "source": [
    "!bash ./1_Randomly_Clustered_ESN_Evaluate_Tuned_Model.sh \"evaluate_tuned_model\" 100 0.89 0.89 3 \"grid_search.json\""
   ]
  },
  {
   "cell_type": "code",
   "execution_count": 9,
   "metadata": {},
   "outputs": [
    {
     "name": "stdout",
     "output_type": "stream",
     "text": [
      "Grid Search Progress:   0%|                                               | 0/25 [00:00<?, ?trial/s]/home/user/kuei_jan_CHU/PGClustered_ESN/Methods/./Utils/global_utils.py:274: RuntimeWarning: divide by zero encountered in log10\n",
      "  s_dbfs = 20 * np.log10(s_mag)\n",
      "/home/user/kuei_jan_CHU/PGClustered_ESN/Methods/./Utils/global_utils.py:309: RuntimeWarning: invalid value encountered in divide\n",
      "  trajectory = (trajectory-trajectory.mean())/trajectory.std()\n",
      "/home/user/kuei_jan_CHU/PGClustered_ESN/Methods/./Utils/global_utils.py:321: RuntimeWarning: Mean of empty slice\n",
      "  spectrum = np.nanmean(np.array(spectrum),axis=0)\n",
      "Grid Search Progress: 100%|███████████| 25/25 [08:45<00:00, 21.03s/trial, Current Best Loss=0.12608]\n",
      "{'radius': 0.1, 'sigma_input': 1.0, 'regularization': 0.01, 'noise_level': 5}\n"
     ]
    }
   ],
   "source": [
    "!bash ./0_Randomly_Clustered_ESN_Tune.sh \"tune\" 150 0.89 0.89 4 \"grid_search.json\" "
   ]
  },
  {
   "cell_type": "code",
   "execution_count": 5,
   "metadata": {},
   "outputs": [
    {
     "name": "stdout",
     "output_type": "stream",
     "text": [
      "{'radius': 0.1, 'sigma_input': 1.0, 'regularization': 0.01, 'noise_level': 5}\n",
      "AVERAGE RMNSE ERROR ON TRAIN DATA SET: 1.1798640920468526 ± 0.018272981790232026\n",
      "AVG NUMBER OF ACCURATE 0.5 PREDICTIONS ON TRAIN DATA SET: 2.5829812361981923 ± 0.3441519863308953\n",
      "AVG NUMBER OF ACCURATE 1 PREDICTIONS ON TRAIN DATA SET: 3.4229928574086186 ± 0.30312984659823966\n",
      "POWER SPECTRUM MEAN ERROR ON TRAIN DATA SET: 1.5065276478284357 ± 0.6861915903873127\n",
      "TEMPORAL DISTANCE ON TRAIN DATA SET: 0.11432155168477834 ± 0.00470948208067111\n",
      "GEOMETRICAL DISTANCE ON TRAIN DATA SET: 0.01825547260465302 ± 0.0038309499466532633\n",
      "\n",
      "\n",
      "AVERAGE RMNSE ERROR ON TEST DATA SET: 1.1910802830704161 ± 0.021982105590410767\n",
      "AVG NUMBER OF ACCURATE 0.5 PREDICTIONS ON TEST DATA SET: 2.612683204205957 ± 0.26115567290428693\n",
      "AVG NUMBER OF ACCURATE 1 PREDICTIONS ON TEST DATA SET: 3.2690331149830483 ± 0.2805061928973412\n",
      "POWER SPECTRUM MEAN ERROR ON TEST DATA SET: 1.8478143114373093 ± 0.8405210339521388\n",
      "TEMPORAL DISTANCE ON TEST DATA SET: 0.11124901001085323 ± 0.009744804879639224\n",
      "GEOMETRICAL DISTANCE ON TEST DATA SET: 0.01976642384765978 ± 0.014635418909744988\n"
     ]
    }
   ],
   "source": [
    "!bash ./1_Randomly_Clustered_ESN_Evaluate_Tuned_Model.sh \"evaluate_tuned_model\" 150 0.89 0.89 4 \"grid_search.json\""
   ]
  },
  {
   "cell_type": "code",
   "execution_count": 11,
   "metadata": {},
   "outputs": [
    {
     "name": "stdout",
     "output_type": "stream",
     "text": [
      "Grid Search Progress:   0%|                                               | 0/25 [00:00<?, ?trial/s]/home/user/kuei_jan_CHU/PGClustered_ESN/Methods/./Utils/global_utils.py:274: RuntimeWarning: divide by zero encountered in log10\n",
      "  s_dbfs = 20 * np.log10(s_mag)\n",
      "/home/user/kuei_jan_CHU/PGClustered_ESN/Methods/./Utils/global_utils.py:309: RuntimeWarning: invalid value encountered in divide\n",
      "  trajectory = (trajectory-trajectory.mean())/trajectory.std()\n",
      "/home/user/kuei_jan_CHU/PGClustered_ESN/Methods/./Utils/global_utils.py:321: RuntimeWarning: Mean of empty slice\n",
      "  spectrum = np.nanmean(np.array(spectrum),axis=0)\n",
      "Grid Search Progress: 100%|███████████| 25/25 [08:58<00:00, 21.54s/trial, Current Best Loss=0.12283]\n",
      "{'radius': 0.7, 'sigma_input': 1.0, 'regularization': 0.01, 'noise_level': 5}\n"
     ]
    }
   ],
   "source": [
    "!bash ./0_Randomly_Clustered_ESN_Tune.sh \"tune\" 200 0.89 0.89 5 \"grid_search.json\" "
   ]
  },
  {
   "cell_type": "code",
   "execution_count": 6,
   "metadata": {},
   "outputs": [
    {
     "name": "stdout",
     "output_type": "stream",
     "text": [
      "{'radius': 0.7, 'sigma_input': 1.0, 'regularization': 0.01, 'noise_level': 5}\n",
      "AVERAGE RMNSE ERROR ON TRAIN DATA SET: 1.180913977136884 ± 0.022275155528658924\n",
      "AVG NUMBER OF ACCURATE 0.5 PREDICTIONS ON TRAIN DATA SET: 3.075834075372908 ± 0.20382037873268685\n",
      "AVG NUMBER OF ACCURATE 1 PREDICTIONS ON TRAIN DATA SET: 3.703935325445367 ± 0.2518842978739734\n",
      "POWER SPECTRUM MEAN ERROR ON TRAIN DATA SET: 2.185755222650171 ± 1.1909748878848776\n",
      "TEMPORAL DISTANCE ON TRAIN DATA SET: 0.11242857679805726 ± 0.0035159904942849555\n",
      "GEOMETRICAL DISTANCE ON TRAIN DATA SET: 0.020914900070488858 ± 0.006956599060600197\n",
      "\n",
      "\n",
      "AVERAGE RMNSE ERROR ON TEST DATA SET: 1.1590175401399803 ± 0.02065994601891095\n",
      "AVG NUMBER OF ACCURATE 0.5 PREDICTIONS ON TEST DATA SET: 3.1772022597663807 ± 0.27788400045939166\n",
      "AVG NUMBER OF ACCURATE 1 PREDICTIONS ON TEST DATA SET: 3.7115651887868104 ± 0.18289761982481295\n",
      "POWER SPECTRUM MEAN ERROR ON TEST DATA SET: 2.5915743241073224 ± 1.2640750781228631\n",
      "TEMPORAL DISTANCE ON TEST DATA SET: 0.10116708391361276 ± 0.0025449517742033322\n",
      "GEOMETRICAL DISTANCE ON TEST DATA SET: 0.01595965852768947 ± 0.004582981706029889\n"
     ]
    }
   ],
   "source": [
    "!bash ./1_Randomly_Clustered_ESN_Evaluate_Tuned_Model.sh \"evaluate_tuned_model\" 200 0.89 0.89 5 \"grid_search.json\""
   ]
  },
  {
   "cell_type": "code",
   "execution_count": 13,
   "metadata": {},
   "outputs": [
    {
     "name": "stdout",
     "output_type": "stream",
     "text": [
      "Grid Search Progress:   0%|                                               | 0/25 [00:00<?, ?trial/s]/home/user/kuei_jan_CHU/PGClustered_ESN/Methods/./Utils/global_utils.py:274: RuntimeWarning: divide by zero encountered in log10\n",
      "  s_dbfs = 20 * np.log10(s_mag)\n",
      "/home/user/kuei_jan_CHU/PGClustered_ESN/Methods/./Utils/global_utils.py:309: RuntimeWarning: invalid value encountered in divide\n",
      "  trajectory = (trajectory-trajectory.mean())/trajectory.std()\n",
      "/home/user/kuei_jan_CHU/PGClustered_ESN/Methods/./Utils/global_utils.py:321: RuntimeWarning: Mean of empty slice\n",
      "  spectrum = np.nanmean(np.array(spectrum),axis=0)\n",
      "Grid Search Progress: 100%|███████████| 25/25 [09:02<00:00, 21.70s/trial, Current Best Loss=0.12223]\n",
      "{'radius': 0.7, 'sigma_input': 1.5, 'regularization': 0.01, 'noise_level': 5}\n"
     ]
    }
   ],
   "source": [
    "!bash ./0_Randomly_Clustered_ESN_Tune.sh \"tune\" 250 0.89 0.89 6 \"grid_search.json\" "
   ]
  },
  {
   "cell_type": "code",
   "execution_count": 7,
   "metadata": {},
   "outputs": [
    {
     "name": "stdout",
     "output_type": "stream",
     "text": [
      "{'radius': 0.7, 'sigma_input': 1.5, 'regularization': 0.01, 'noise_level': 5}\n",
      "AVERAGE RMNSE ERROR ON TRAIN DATA SET: 1.1736343946914496 ± 0.019780204690922232\n",
      "AVG NUMBER OF ACCURATE 0.5 PREDICTIONS ON TRAIN DATA SET: 3.043861314703999 ± 0.4733605208995535\n",
      "AVG NUMBER OF ACCURATE 1 PREDICTIONS ON TRAIN DATA SET: 3.587398246075451 ± 0.605178369168959\n",
      "POWER SPECTRUM MEAN ERROR ON TRAIN DATA SET: 1.7219885514327533 ± 1.0564278537370009\n",
      "TEMPORAL DISTANCE ON TRAIN DATA SET: 0.11897738650251281 ± 0.00826684888798578\n",
      "GEOMETRICAL DISTANCE ON TRAIN DATA SET: 0.014860098206219391 ± 0.003770040506006409\n",
      "\n",
      "\n",
      "AVERAGE RMNSE ERROR ON TEST DATA SET: 1.165340014155554 ± 0.02072675696911182\n",
      "AVG NUMBER OF ACCURATE 0.5 PREDICTIONS ON TEST DATA SET: 2.897985594152102 ± 0.19389420805343174\n",
      "AVG NUMBER OF ACCURATE 1 PREDICTIONS ON TEST DATA SET: 3.4734952861924633 ± 0.2544943136217143\n",
      "POWER SPECTRUM MEAN ERROR ON TEST DATA SET: 2.4246804914457885 ± 1.8081940795998155\n",
      "TEMPORAL DISTANCE ON TEST DATA SET: 0.11089971431159158 ± 0.007638676070534455\n",
      "GEOMETRICAL DISTANCE ON TEST DATA SET: 0.014761402685211025 ± 0.006039867745237454\n"
     ]
    }
   ],
   "source": [
    "!bash ./1_Randomly_Clustered_ESN_Evaluate_Tuned_Model.sh \"evaluate_tuned_model\" 250 0.89 0.89 6 \"grid_search.json\""
   ]
  },
  {
   "cell_type": "code",
   "execution_count": 15,
   "metadata": {},
   "outputs": [
    {
     "name": "stdout",
     "output_type": "stream",
     "text": [
      "Grid Search Progress:   0%|                                               | 0/25 [00:00<?, ?trial/s]/home/user/kuei_jan_CHU/PGClustered_ESN/Methods/./Utils/global_utils.py:274: RuntimeWarning: divide by zero encountered in log10\n",
      "  s_dbfs = 20 * np.log10(s_mag)\n",
      "/home/user/kuei_jan_CHU/PGClustered_ESN/Methods/./Utils/global_utils.py:309: RuntimeWarning: invalid value encountered in divide\n",
      "  trajectory = (trajectory-trajectory.mean())/trajectory.std()\n",
      "/home/user/kuei_jan_CHU/PGClustered_ESN/Methods/./Utils/global_utils.py:321: RuntimeWarning: Mean of empty slice\n",
      "  spectrum = np.nanmean(np.array(spectrum),axis=0)\n",
      "Grid Search Progress: 100%|███████████| 25/25 [09:11<00:00, 22.08s/trial, Current Best Loss=0.12013]\n",
      "{'radius': 0.9, 'sigma_input': 1.0, 'regularization': 0.01, 'noise_level': 5}\n"
     ]
    }
   ],
   "source": [
    "!bash ./0_Randomly_Clustered_ESN_Tune.sh \"tune\" 300 0.89 0.89 7 \"grid_search.json\" "
   ]
  },
  {
   "cell_type": "code",
   "execution_count": 8,
   "metadata": {},
   "outputs": [
    {
     "name": "stdout",
     "output_type": "stream",
     "text": [
      "{'radius': 0.9, 'sigma_input': 1.0, 'regularization': 0.01, 'noise_level': 5}\n",
      "AVERAGE RMNSE ERROR ON TRAIN DATA SET: 1.1649394460602198 ± 0.021373099552153337\n",
      "AVG NUMBER OF ACCURATE 0.5 PREDICTIONS ON TRAIN DATA SET: 3.2564983394935325 ± 0.44052268903579317\n",
      "AVG NUMBER OF ACCURATE 1 PREDICTIONS ON TRAIN DATA SET: 3.63780984315285 ± 0.45806115259842267\n",
      "POWER SPECTRUM MEAN ERROR ON TRAIN DATA SET: 2.4767588960927807 ± 1.402428799598157\n",
      "TEMPORAL DISTANCE ON TRAIN DATA SET: 0.11364474993367149 ± 0.006197373837956894\n",
      "GEOMETRICAL DISTANCE ON TRAIN DATA SET: 0.01643826423099026 ± 0.006062324185708339\n",
      "\n",
      "\n",
      "AVERAGE RMNSE ERROR ON TEST DATA SET: 1.1629879297487706 ± 0.01200581375329426\n",
      "AVG NUMBER OF ACCURATE 0.5 PREDICTIONS ON TEST DATA SET: 3.436435949962591 ± 0.3306256771713297\n",
      "AVG NUMBER OF ACCURATE 1 PREDICTIONS ON TEST DATA SET: 3.8608925141836474 ± 0.33252474200224486\n",
      "POWER SPECTRUM MEAN ERROR ON TEST DATA SET: 2.869622649271558 ± 1.1447328645118302\n",
      "TEMPORAL DISTANCE ON TEST DATA SET: 0.10718379441692542 ± 0.00869897470189398\n",
      "GEOMETRICAL DISTANCE ON TEST DATA SET: 0.013885888755022899 ± 0.005114071965288748\n"
     ]
    }
   ],
   "source": [
    "!bash ./1_Randomly_Clustered_ESN_Evaluate_Tuned_Model.sh \"evaluate_tuned_model\" 300 0.89 0.89 7 \"grid_search.json\""
   ]
  },
  {
   "cell_type": "code",
   "execution_count": 17,
   "metadata": {},
   "outputs": [
    {
     "name": "stdout",
     "output_type": "stream",
     "text": [
      "Grid Search Progress:   0%|                                               | 0/25 [00:00<?, ?trial/s]/home/user/kuei_jan_CHU/PGClustered_ESN/Methods/./Utils/global_utils.py:274: RuntimeWarning: divide by zero encountered in log10\n",
      "  s_dbfs = 20 * np.log10(s_mag)\n",
      "/home/user/kuei_jan_CHU/PGClustered_ESN/Methods/./Utils/global_utils.py:309: RuntimeWarning: invalid value encountered in divide\n",
      "  trajectory = (trajectory-trajectory.mean())/trajectory.std()\n",
      "/home/user/kuei_jan_CHU/PGClustered_ESN/Methods/./Utils/global_utils.py:321: RuntimeWarning: Mean of empty slice\n",
      "  spectrum = np.nanmean(np.array(spectrum),axis=0)\n",
      "Grid Search Progress: 100%|███████████| 25/25 [09:08<00:00, 21.94s/trial, Current Best Loss=0.12185]\n",
      "{'radius': 0.99, 'sigma_input': 1.0, 'regularization': 0.01, 'noise_level': 5}\n"
     ]
    }
   ],
   "source": [
    "!bash ./0_Randomly_Clustered_ESN_Tune.sh \"tune\" 350 0.89 0.89 8 \"grid_search.json\" "
   ]
  },
  {
   "cell_type": "code",
   "execution_count": 9,
   "metadata": {},
   "outputs": [
    {
     "name": "stdout",
     "output_type": "stream",
     "text": [
      "{'radius': 0.99, 'sigma_input': 1.0, 'regularization': 0.01, 'noise_level': 5}\n",
      "AVERAGE RMNSE ERROR ON TRAIN DATA SET: 1.1518464972470819 ± 0.032127177797272366\n",
      "AVG NUMBER OF ACCURATE 0.5 PREDICTIONS ON TRAIN DATA SET: 3.236424532369019 ± 0.45919276339515974\n",
      "AVG NUMBER OF ACCURATE 1 PREDICTIONS ON TRAIN DATA SET: 3.7816872661629404 ± 0.5482423324993935\n",
      "POWER SPECTRUM MEAN ERROR ON TRAIN DATA SET: 1.9093510891060839 ± 0.9179549504755049\n",
      "TEMPORAL DISTANCE ON TRAIN DATA SET: 0.11525825405232766 ± 0.008305094983176742\n",
      "GEOMETRICAL DISTANCE ON TRAIN DATA SET: 0.022231359380757158 ± 0.006722295856358079\n",
      "\n",
      "\n",
      "AVERAGE RMNSE ERROR ON TEST DATA SET: 1.1603752495685073 ± 0.028603794792884708\n",
      "AVG NUMBER OF ACCURATE 0.5 PREDICTIONS ON TEST DATA SET: 3.456600588793551 ± 0.30422771263879794\n",
      "AVG NUMBER OF ACCURATE 1 PREDICTIONS ON TEST DATA SET: 4.029566993053431 ± 0.3465160077644167\n",
      "POWER SPECTRUM MEAN ERROR ON TEST DATA SET: 2.0896962991812 ± 1.4134011012285579\n",
      "TEMPORAL DISTANCE ON TEST DATA SET: 0.1061968587653557 ± 0.007554419928785877\n",
      "GEOMETRICAL DISTANCE ON TEST DATA SET: 0.019385937271687487 ± 0.0067080544748446425\n"
     ]
    }
   ],
   "source": [
    "!bash ./1_Randomly_Clustered_ESN_Evaluate_Tuned_Model.sh \"evaluate_tuned_model\" 350 0.89 0.89 8 \"grid_search.json\""
   ]
  },
  {
   "cell_type": "code",
   "execution_count": 19,
   "metadata": {},
   "outputs": [
    {
     "name": "stdout",
     "output_type": "stream",
     "text": [
      "Grid Search Progress:   0%|                                               | 0/25 [00:00<?, ?trial/s]/home/user/kuei_jan_CHU/PGClustered_ESN/Methods/./Utils/global_utils.py:274: RuntimeWarning: divide by zero encountered in log10\n",
      "  s_dbfs = 20 * np.log10(s_mag)\n",
      "/home/user/kuei_jan_CHU/PGClustered_ESN/Methods/./Utils/global_utils.py:309: RuntimeWarning: invalid value encountered in divide\n",
      "  trajectory = (trajectory-trajectory.mean())/trajectory.std()\n",
      "/home/user/kuei_jan_CHU/PGClustered_ESN/Methods/./Utils/global_utils.py:321: RuntimeWarning: Mean of empty slice\n",
      "  spectrum = np.nanmean(np.array(spectrum),axis=0)\n",
      "Grid Search Progress: 100%|███████████| 25/25 [09:07<00:00, 21.90s/trial, Current Best Loss=0.11918]\n",
      "{'radius': 0.99, 'sigma_input': 1.0, 'regularization': 0.01, 'noise_level': 5}\n"
     ]
    }
   ],
   "source": [
    "!bash ./0_Randomly_Clustered_ESN_Tune.sh \"tune\" 400 0.89 0.89 9 \"grid_search.json\" "
   ]
  },
  {
   "cell_type": "code",
   "execution_count": 10,
   "metadata": {},
   "outputs": [
    {
     "name": "stdout",
     "output_type": "stream",
     "text": [
      "{'radius': 0.99, 'sigma_input': 1.0, 'regularization': 0.01, 'noise_level': 5}\n",
      "AVERAGE RMNSE ERROR ON TRAIN DATA SET: 1.1695607987353065 ± 0.022094288365856793\n",
      "AVG NUMBER OF ACCURATE 0.5 PREDICTIONS ON TRAIN DATA SET: 3.3382468752947205 ± 0.43382249977996673\n",
      "AVG NUMBER OF ACCURATE 1 PREDICTIONS ON TRAIN DATA SET: 3.8938644236234596 ± 0.520511876408886\n",
      "POWER SPECTRUM MEAN ERROR ON TRAIN DATA SET: 1.7552579300057762 ± 1.3203035198476198\n",
      "TEMPORAL DISTANCE ON TRAIN DATA SET: 0.1130584198164348 ± 0.0030820502763515847\n",
      "GEOMETRICAL DISTANCE ON TRAIN DATA SET: 0.019102709687074268 ± 0.005217440883855426\n",
      "\n",
      "\n",
      "AVERAGE RMNSE ERROR ON TEST DATA SET: 1.1685623772613345 ± 0.024117096782629032\n",
      "AVG NUMBER OF ACCURATE 0.5 PREDICTIONS ON TEST DATA SET: 3.4737677813117998 ± 0.34638887702693083\n",
      "AVG NUMBER OF ACCURATE 1 PREDICTIONS ON TEST DATA SET: 3.9024026040293607 ± 0.3259509549115731\n",
      "POWER SPECTRUM MEAN ERROR ON TEST DATA SET: 2.1887463020119946 ± 0.9168075975983045\n",
      "TEMPORAL DISTANCE ON TEST DATA SET: 0.10785916913919788 ± 0.008197951496943953\n",
      "GEOMETRICAL DISTANCE ON TEST DATA SET: 0.018227622822637648 ± 0.007201345306927581\n"
     ]
    }
   ],
   "source": [
    "!bash ./1_Randomly_Clustered_ESN_Evaluate_Tuned_Model.sh \"evaluate_tuned_model\" 400 0.89 0.89 9 \"grid_search.json\""
   ]
  },
  {
   "cell_type": "code",
   "execution_count": null,
   "metadata": {},
   "outputs": [],
   "source": []
  },
  {
   "cell_type": "code",
   "execution_count": null,
   "metadata": {},
   "outputs": [],
   "source": []
  },
  {
   "cell_type": "code",
   "execution_count": null,
   "metadata": {},
   "outputs": [],
   "source": []
  },
  {
   "cell_type": "code",
   "execution_count": null,
   "metadata": {},
   "outputs": [],
   "source": []
  },
  {
   "cell_type": "code",
   "execution_count": null,
   "metadata": {},
   "outputs": [],
   "source": []
  },
  {
   "cell_type": "code",
   "execution_count": null,
   "metadata": {},
   "outputs": [],
   "source": []
  },
  {
   "cell_type": "code",
   "execution_count": null,
   "metadata": {},
   "outputs": [],
   "source": []
  },
  {
   "cell_type": "code",
   "execution_count": null,
   "metadata": {},
   "outputs": [],
   "source": []
  },
  {
   "cell_type": "code",
   "execution_count": null,
   "metadata": {},
   "outputs": [],
   "source": []
  },
  {
   "cell_type": "code",
   "execution_count": null,
   "metadata": {},
   "outputs": [],
   "source": []
  },
  {
   "cell_type": "code",
   "execution_count": null,
   "metadata": {},
   "outputs": [],
   "source": []
  },
  {
   "cell_type": "code",
   "execution_count": null,
   "metadata": {},
   "outputs": [],
   "source": []
  },
  {
   "cell_type": "code",
   "execution_count": null,
   "metadata": {},
   "outputs": [],
   "source": []
  }
 ],
 "metadata": {
  "kernelspec": {
   "display_name": "base",
   "language": "python",
   "name": "python3"
  },
  "language_info": {
   "codemirror_mode": {
    "name": "ipython",
    "version": 3
   },
   "file_extension": ".py",
   "mimetype": "text/x-python",
   "name": "python",
   "nbconvert_exporter": "python",
   "pygments_lexer": "ipython3",
   "version": "3.11.8"
  }
 },
 "nbformat": 4,
 "nbformat_minor": 4
}
