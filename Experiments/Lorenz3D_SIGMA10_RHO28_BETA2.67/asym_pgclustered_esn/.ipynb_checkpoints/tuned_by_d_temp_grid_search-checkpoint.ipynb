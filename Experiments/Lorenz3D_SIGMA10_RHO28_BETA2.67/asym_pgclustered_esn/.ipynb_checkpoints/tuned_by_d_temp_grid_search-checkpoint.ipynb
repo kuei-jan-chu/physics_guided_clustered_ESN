{
 "cells": [
  {
   "cell_type": "markdown",
   "metadata": {
    "editable": true,
    "slideshow": {
     "slide_type": ""
    },
    "tags": []
   },
   "source": [
    "# noise level 5, metric: d_temp"
   ]
  },
  {
   "cell_type": "code",
   "execution_count": 6,
   "metadata": {},
   "outputs": [
    {
     "name": "stdout",
     "output_type": "stream",
     "text": [
      "  7%|▌        | 2/30 [03:32<50:52, 109.01s/trial, best loss: 0.4360160531951534]/home/user/kuei_jan_CHU/PGClustered_ESN/Methods/./Utils/global_utils.py:254: RuntimeWarning: divide by zero encountered in log10\n",
      "  s_dbfs = 20 * np.log10(s_mag)\n",
      "\n",
      " 10%|▉        | 3/30 [05:08<46:11, 102.65s/trial, best loss: 0.4360160531951534]/home/user/kuei_jan_CHU/PGClustered_ESN/Methods/./Utils/global_utils.py:289: RuntimeWarning: invalid value encountered in divide\n",
      "  trajectory = (trajectory-trajectory.mean())/trajectory.std()\n",
      "\n",
      "100%|████████| 30/30 [51:10<00:00, 102.35s/trial, best loss: 0.3117810798661334]\n",
      "{'in_cluster_weight': 0.5, 'noise_level': 5, 'radius': 1.1, 'regularization': 0.01, 'sigma_input': 0.5}\n"
     ]
    }
   ],
   "source": [
    "!bash ./0_AsymPGClustered_ESN_Tune.sh \"tune\" 3 1 1 0 \"grid_search.json\" "
   ]
  },
  {
   "cell_type": "code",
   "execution_count": 3,
   "metadata": {},
   "outputs": [
    {
     "name": "stdout",
     "output_type": "stream",
     "text": [
      "/home/user/kuei_jan_CHU/PGClustered_ESN/Methods/./Utils/global_utils.py:255: RuntimeWarning: divide by zero encountered in log10\n",
      "  s_dbfs = 20 * np.log10(s_mag)\n",
      "10 7000 3\n",
      "10 7000 3\n",
      "10 7000 3\n",
      "10 7000 3\n",
      "10 7000 3\n",
      "10 7000 3\n",
      "10 7000 3\n",
      "10 7000 3\n",
      "10 7000 3\n",
      "10 7000 3\n",
      "10 7000 3\n",
      "10 7000 3\n",
      "10 7000 3\n",
      "10 7000 3\n",
      "10 7000 3\n",
      "10 7000 3\n",
      "10 7000 3\n",
      "10 7000 3\n",
      "10 7000 3\n",
      "10 7000 3\n",
      "10 7000 3\n",
      "10 7000 3\n",
      "10 7000 3\n",
      "10 7000 3\n",
      "10 7000 3\n",
      "10 7000 3\n",
      "10 7000 3\n",
      "10 7000 3\n",
      "10 7000 3\n",
      "10 7000 3\n",
      "10 7000 3\n",
      "10 7000 3\n",
      "10 7000 3\n",
      "10 7000 3\n",
      "10 7000 3\n",
      "10 7000 3\n",
      "10 7000 3\n",
      "10 7000 3\n",
      "10 7000 3\n",
      "10 7000 3\n",
      "/home/user/anaconda3/lib/python3.11/site-packages/numpy/core/_methods.py:236: RuntimeWarning: invalid value encountered in subtract\n",
      "  x = asanyarray(arr - arrmean)\n",
      "AVERAGE RMNSE ERROR ON TRAIN DATA SET: 1.4156445282871668 ± 0.5820346247057941\n",
      "AVG NUMBER OF ACCURATE 0.5 PREDICTIONS ON TRAIN DATA SET: 1.2294997144768751 ± 0.2383472371629523\n",
      "AVG NUMBER OF ACCURATE 1 PREDICTIONS ON TRAIN DATA SET: 1.688666268375482 ± 0.38864901811423747\n",
      "POWER SPECTRUM MEAN ERROR ON TRAIN DATA SET: inf ± nan\n",
      "TEMPORAL DISTANCE ON TRAIN DATA SET: 0.4292636590506026 ± 0.1968779791848605\n",
      "GEOMETRICAL DISTANCE ON TRAIN DATA SET: 12.330212512086073 ± 9.505560318888993\n",
      "\n",
      "\n",
      "AVERAGE RMNSE ERROR ON TEST DATA SET: 1.3535418664464725 ± 0.44983091630383104\n",
      "AVG NUMBER OF ACCURATE 0.5 PREDICTIONS ON TEST DATA SET: 1.2279604063687555 ± 0.216868488834857\n",
      "AVG NUMBER OF ACCURATE 1 PREDICTIONS ON TEST DATA SET: 1.6920165271990375 ± 0.25441702928747045\n",
      "POWER SPECTRUM MEAN ERROR ON TEST DATA SET: inf ± nan\n",
      "TEMPORAL DISTANCE ON TEST DATA SET: 0.4165499875303542 ± 0.18850710186717645\n",
      "GEOMETRICAL DISTANCE ON TEST DATA SET: 12.016293199444315 ± 10.394884799854465\n"
     ]
    }
   ],
   "source": [
    "!bash ./1_AsymPGClustered_ESN_Evaluate_Tuned_Model.sh \"evaluate_tuned_model\" 3 1 1 0 \"grid_search.json\""
   ]
  },
  {
   "cell_type": "code",
   "execution_count": null,
   "metadata": {},
   "outputs": [
    {
     "name": "stdout",
     "output_type": "stream",
     "text": [
      "  7%|▌        | 2/30 [03:32<50:52, 109.01s/trial, best loss: 0.4360160531951534]/home/user/kuei_jan_CHU/PGClustered_ESN/Methods/./Utils/global_utils.py:254: RuntimeWarning: divide by zero encountered in log10\n",
      "  s_dbfs = 20 * np.log10(s_mag)\n",
      "\n",
      " 10%|▉        | 3/30 [05:08<46:11, 102.65s/trial, best loss: 0.4360160531951534]/home/user/kuei_jan_CHU/PGClustered_ESN/Methods/./Utils/global_utils.py:289: RuntimeWarning: invalid value encountered in divide\n",
      "  trajectory = (trajectory-trajectory.mean())/trajectory.std()\n",
      "\n",
      "100%|████████| 30/30 [51:10<00:00, 102.35s/trial, best loss: 0.3117810798661334]\n",
      "{'in_cluster_weight': 0.5, 'noise_level': 5, 'radius': 1.1, 'regularization': 0.01, 'sigma_input': 0.5}\n"
     ]
    }
   ],
   "source": [
    "!bash ./0_AsymPGClustered_ESN_Tune.sh \"tune\" 25 1 1 1 \"grid_search.json\" "
   ]
  },
  {
   "cell_type": "code",
   "execution_count": null,
   "metadata": {},
   "outputs": [
    {
     "name": "stdout",
     "output_type": "stream",
     "text": [
      "/home/user/kuei_jan_CHU/PGClustered_ESN/Methods/./Utils/global_utils.py:255: RuntimeWarning: divide by zero encountered in log10\n",
      "  s_dbfs = 20 * np.log10(s_mag)\n",
      "10 7000 3\n",
      "10 7000 3\n",
      "10 7000 3\n",
      "10 7000 3\n",
      "10 7000 3\n",
      "10 7000 3\n",
      "10 7000 3\n",
      "10 7000 3\n",
      "10 7000 3\n",
      "10 7000 3\n",
      "10 7000 3\n",
      "10 7000 3\n",
      "10 7000 3\n",
      "10 7000 3\n",
      "10 7000 3\n",
      "10 7000 3\n",
      "10 7000 3\n",
      "10 7000 3\n",
      "10 7000 3\n",
      "10 7000 3\n",
      "10 7000 3\n",
      "10 7000 3\n",
      "10 7000 3\n",
      "10 7000 3\n",
      "10 7000 3\n",
      "10 7000 3\n",
      "10 7000 3\n",
      "10 7000 3\n",
      "10 7000 3\n",
      "10 7000 3\n",
      "10 7000 3\n",
      "10 7000 3\n",
      "10 7000 3\n",
      "10 7000 3\n",
      "10 7000 3\n",
      "10 7000 3\n",
      "10 7000 3\n",
      "10 7000 3\n",
      "10 7000 3\n",
      "10 7000 3\n",
      "/home/user/anaconda3/lib/python3.11/site-packages/numpy/core/_methods.py:236: RuntimeWarning: invalid value encountered in subtract\n",
      "  x = asanyarray(arr - arrmean)\n",
      "AVERAGE RMNSE ERROR ON TRAIN DATA SET: 1.4156445282871668 ± 0.5820346247057941\n",
      "AVG NUMBER OF ACCURATE 0.5 PREDICTIONS ON TRAIN DATA SET: 1.2294997144768751 ± 0.2383472371629523\n",
      "AVG NUMBER OF ACCURATE 1 PREDICTIONS ON TRAIN DATA SET: 1.688666268375482 ± 0.38864901811423747\n",
      "POWER SPECTRUM MEAN ERROR ON TRAIN DATA SET: inf ± nan\n",
      "TEMPORAL DISTANCE ON TRAIN DATA SET: 0.4292636590506026 ± 0.1968779791848605\n",
      "GEOMETRICAL DISTANCE ON TRAIN DATA SET: 12.330212512086073 ± 9.505560318888993\n",
      "\n",
      "\n",
      "AVERAGE RMNSE ERROR ON TEST DATA SET: 1.3535418664464725 ± 0.44983091630383104\n",
      "AVG NUMBER OF ACCURATE 0.5 PREDICTIONS ON TEST DATA SET: 1.2279604063687555 ± 0.216868488834857\n",
      "AVG NUMBER OF ACCURATE 1 PREDICTIONS ON TEST DATA SET: 1.6920165271990375 ± 0.25441702928747045\n",
      "POWER SPECTRUM MEAN ERROR ON TEST DATA SET: inf ± nan\n",
      "TEMPORAL DISTANCE ON TEST DATA SET: 0.4165499875303542 ± 0.18850710186717645\n",
      "GEOMETRICAL DISTANCE ON TEST DATA SET: 12.016293199444315 ± 10.394884799854465\n"
     ]
    }
   ],
   "source": [
    "!bash ./1_AsymPGClustered_ESN_Evaluate_Tuned_Model.sh \"evaluate_tuned_model\" 25 1 1 1 \"grid_search.json\""
   ]
  },
  {
   "cell_type": "code",
   "execution_count": null,
   "metadata": {},
   "outputs": [
    {
     "name": "stdout",
     "output_type": "stream",
     "text": [
      "  7%|▌        | 2/30 [03:32<50:52, 109.01s/trial, best loss: 0.4360160531951534]/home/user/kuei_jan_CHU/PGClustered_ESN/Methods/./Utils/global_utils.py:254: RuntimeWarning: divide by zero encountered in log10\n",
      "  s_dbfs = 20 * np.log10(s_mag)\n",
      "\n",
      " 10%|▉        | 3/30 [05:08<46:11, 102.65s/trial, best loss: 0.4360160531951534]/home/user/kuei_jan_CHU/PGClustered_ESN/Methods/./Utils/global_utils.py:289: RuntimeWarning: invalid value encountered in divide\n",
      "  trajectory = (trajectory-trajectory.mean())/trajectory.std()\n",
      "\n",
      "100%|████████| 30/30 [51:10<00:00, 102.35s/trial, best loss: 0.3117810798661334]\n",
      "{'in_cluster_weight': 0.5, 'noise_level': 5, 'radius': 1.1, 'regularization': 0.01, 'sigma_input': 0.5}\n"
     ]
    }
   ],
   "source": [
    "!bash ./0_AsymPGClustered_ESN_Tune.sh \"tune\" 50 1 1 2 \"grid_search.json\" "
   ]
  },
  {
   "cell_type": "code",
   "execution_count": null,
   "metadata": {},
   "outputs": [
    {
     "name": "stdout",
     "output_type": "stream",
     "text": [
      "/home/user/kuei_jan_CHU/PGClustered_ESN/Methods/./Utils/global_utils.py:255: RuntimeWarning: divide by zero encountered in log10\n",
      "  s_dbfs = 20 * np.log10(s_mag)\n",
      "10 7000 3\n",
      "10 7000 3\n",
      "10 7000 3\n",
      "10 7000 3\n",
      "10 7000 3\n",
      "10 7000 3\n",
      "10 7000 3\n",
      "10 7000 3\n",
      "10 7000 3\n",
      "10 7000 3\n",
      "10 7000 3\n",
      "10 7000 3\n",
      "10 7000 3\n",
      "10 7000 3\n",
      "10 7000 3\n",
      "10 7000 3\n",
      "10 7000 3\n",
      "10 7000 3\n",
      "10 7000 3\n",
      "10 7000 3\n",
      "10 7000 3\n",
      "10 7000 3\n",
      "10 7000 3\n",
      "10 7000 3\n",
      "10 7000 3\n",
      "10 7000 3\n",
      "10 7000 3\n",
      "10 7000 3\n",
      "10 7000 3\n",
      "10 7000 3\n",
      "10 7000 3\n",
      "10 7000 3\n",
      "10 7000 3\n",
      "10 7000 3\n",
      "10 7000 3\n",
      "10 7000 3\n",
      "10 7000 3\n",
      "10 7000 3\n",
      "10 7000 3\n",
      "10 7000 3\n",
      "/home/user/anaconda3/lib/python3.11/site-packages/numpy/core/_methods.py:236: RuntimeWarning: invalid value encountered in subtract\n",
      "  x = asanyarray(arr - arrmean)\n",
      "AVERAGE RMNSE ERROR ON TRAIN DATA SET: 1.4156445282871668 ± 0.5820346247057941\n",
      "AVG NUMBER OF ACCURATE 0.5 PREDICTIONS ON TRAIN DATA SET: 1.2294997144768751 ± 0.2383472371629523\n",
      "AVG NUMBER OF ACCURATE 1 PREDICTIONS ON TRAIN DATA SET: 1.688666268375482 ± 0.38864901811423747\n",
      "POWER SPECTRUM MEAN ERROR ON TRAIN DATA SET: inf ± nan\n",
      "TEMPORAL DISTANCE ON TRAIN DATA SET: 0.4292636590506026 ± 0.1968779791848605\n",
      "GEOMETRICAL DISTANCE ON TRAIN DATA SET: 12.330212512086073 ± 9.505560318888993\n",
      "\n",
      "\n",
      "AVERAGE RMNSE ERROR ON TEST DATA SET: 1.3535418664464725 ± 0.44983091630383104\n",
      "AVG NUMBER OF ACCURATE 0.5 PREDICTIONS ON TEST DATA SET: 1.2279604063687555 ± 0.216868488834857\n",
      "AVG NUMBER OF ACCURATE 1 PREDICTIONS ON TEST DATA SET: 1.6920165271990375 ± 0.25441702928747045\n",
      "POWER SPECTRUM MEAN ERROR ON TEST DATA SET: inf ± nan\n",
      "TEMPORAL DISTANCE ON TEST DATA SET: 0.4165499875303542 ± 0.18850710186717645\n",
      "GEOMETRICAL DISTANCE ON TEST DATA SET: 12.016293199444315 ± 10.394884799854465\n"
     ]
    }
   ],
   "source": [
    "!bash ./1_AsymPGClustered_ESN_Evaluate_Tuned_Model.sh \"evaluate_tuned_model\" 50 1 1 2 \"grid_search.json\""
   ]
  },
  {
   "cell_type": "code",
   "execution_count": 12,
   "metadata": {},
   "outputs": [
    {
     "name": "stdout",
     "output_type": "stream",
     "text": [
      "  7%|▍     | 2/30 [05:10<1:11:55, 154.11s/trial, best loss: 0.20870006138861302]/home/user/kuei_jan_CHU/PGClustered_ESN/Methods/./Utils/global_utils.py:254: RuntimeWarning: divide by zero encountered in log10\n",
      "  s_dbfs = 20 * np.log10(s_mag)\n",
      "\n",
      " 13%|▊     | 4/30 [10:07<1:04:56, 149.87s/trial, best loss: 0.20870006138861302]/home/user/kuei_jan_CHU/PGClustered_ESN/Methods/./Utils/global_utils.py:289: RuntimeWarning: invalid value encountered in divide\n",
      "  trajectory = (trajectory-trajectory.mean())/trajectory.std()\n",
      "\n",
      "100%|██████| 30/30 [1:17:04<00:00, 154.16s/trial, best loss: 0.1303262306747962]\n",
      "{'in_cluster_weight': 0.5, 'noise_level': 5, 'radius': 0.9, 'regularization': 0.01, 'sigma_input': 0.9}\n"
     ]
    }
   ],
   "source": [
    "!bash ./0_AsymPGClustered_ESN_Tune.sh \"tune\" 100 1 1 3 \"grid_search.json\" "
   ]
  },
  {
   "cell_type": "code",
   "execution_count": 4,
   "metadata": {},
   "outputs": [
    {
     "name": "stdout",
     "output_type": "stream",
     "text": [
      "AVERAGE RMNSE ERROR ON TRAIN DATA SET: 1.1719900262740226 ± 0.02772971552453881\n",
      "AVG NUMBER OF ACCURATE 0.5 PREDICTIONS ON TRAIN DATA SET: 2.2999074086027638 ± 0.39589874068003994\n",
      "AVG NUMBER OF ACCURATE 1 PREDICTIONS ON TRAIN DATA SET: 2.9930940687034906 ± 0.4063018848243937\n",
      "POWER SPECTRUM MEAN ERROR ON TRAIN DATA SET: 4.450180125654098 ± 4.890079642293938\n",
      "TEMPORAL DISTANCE ON TRAIN DATA SET: 0.19155132124923796 ± 0.11369332979510371\n",
      "GEOMETRICAL DISTANCE ON TRAIN DATA SET: 3.5368158155488856 ± 5.0013649248428536\n",
      "\n",
      "\n",
      "AVERAGE RMNSE ERROR ON TEST DATA SET: 1.1817974818807122 ± 0.026031012619711778\n",
      "AVG NUMBER OF ACCURATE 0.5 PREDICTIONS ON TEST DATA SET: 2.35699762990686 ± 0.3749053416965162\n",
      "AVG NUMBER OF ACCURATE 1 PREDICTIONS ON TEST DATA SET: 2.93912773738352 ± 0.39406881313467323\n",
      "POWER SPECTRUM MEAN ERROR ON TEST DATA SET: 4.246999460547578 ± 4.525353084862563\n",
      "TEMPORAL DISTANCE ON TEST DATA SET: 0.19039197963217178 ± 0.11288171189437902\n",
      "GEOMETRICAL DISTANCE ON TEST DATA SET: 4.171191992730669 ± 5.557319075881214\n"
     ]
    }
   ],
   "source": [
    "!bash ./1_AsymPGClustered_ESN_Evaluate_Tuned_Model.sh \"evaluate_tuned_model\" 100 1 1 3 \"grid_search.json\""
   ]
  },
  {
   "cell_type": "code",
   "execution_count": 18,
   "metadata": {},
   "outputs": [
    {
     "name": "stdout",
     "output_type": "stream",
     "text": [
      " 10%|█          | 3/30 [02:48<24:13, 53.84s/trial, best loss: 0.133823615633685]/home/user/kuei_jan_CHU/PGClustered_ESN/Methods/./Utils/global_utils.py:254: RuntimeWarning: divide by zero encountered in log10\n",
      "  s_dbfs = 20 * np.log10(s_mag)\n",
      "\n",
      "/home/user/kuei_jan_CHU/PGClustered_ESN/Methods/./Utils/global_utils.py:289: RuntimeWarning: invalid value encountered in divide\n",
      "  trajectory = (trajectory-trajectory.mean())/trajectory.std()\n",
      "\n",
      " 23%|██▌        | 7/30 [05:53<18:18, 47.75s/trial, best loss: 0.133823615633685]/home/user/kuei_jan_CHU/PGClustered_ESN/Methods/./Utils/global_utils.py:301: RuntimeWarning: Mean of empty slice\n",
      "  spectrum = np.nanmean(np.array(spectrum),axis=0)\n",
      "\n",
      "100%|████████| 30/30 [23:53<00:00, 47.77s/trial, best loss: 0.12518588305960093]\n",
      "{'in_cluster_weight': 0.5, 'noise_level': 5, 'radius': 0.9, 'regularization': 0.01, 'sigma_input': 0.9}\n"
     ]
    }
   ],
   "source": [
    "!bash ./0_AsymPGClustered_ESN_Tune.sh \"tune\" 150 1 1 4 \"grid_search.json\" "
   ]
  },
  {
   "cell_type": "code",
   "execution_count": 3,
   "metadata": {},
   "outputs": [
    {
     "name": "stdout",
     "output_type": "stream",
     "text": [
      "AVERAGE RMNSE ERROR ON TRAIN DATA SET: 1.1745638034225387 ± 0.027776894833485975\n",
      "AVG NUMBER OF ACCURATE 0.5 PREDICTIONS ON TRAIN DATA SET: 2.7596172477160015 ± 0.3223531824192253\n",
      "AVG NUMBER OF ACCURATE 1 PREDICTIONS ON TRAIN DATA SET: 3.4980776757026093 ± 0.33159613771878776\n",
      "POWER SPECTRUM MEAN ERROR ON TRAIN DATA SET: 2.1289491637042905 ± 0.8323618612583542\n",
      "TEMPORAL DISTANCE ON TRAIN DATA SET: 0.11686064731396584 ± 0.009669741639621565\n",
      "GEOMETRICAL DISTANCE ON TRAIN DATA SET: 0.025685847689271152 ± 0.029079658671217656\n",
      "\n",
      "\n",
      "AVERAGE RMNSE ERROR ON TEST DATA SET: 1.1675586854374582 ± 0.025493874752738614\n",
      "AVG NUMBER OF ACCURATE 0.5 PREDICTIONS ON TEST DATA SET: 2.7701207618655257 ± 0.287313637586147\n",
      "AVG NUMBER OF ACCURATE 1 PREDICTIONS ON TEST DATA SET: 3.3718996846046587 ± 0.2888131289029008\n",
      "POWER SPECTRUM MEAN ERROR ON TEST DATA SET: 2.927860187856685 ± 1.799016616407074\n",
      "TEMPORAL DISTANCE ON TEST DATA SET: 0.10770270689780743 ± 0.005345692807351771\n",
      "GEOMETRICAL DISTANCE ON TEST DATA SET: 0.016856302061662994 ± 0.005789133739117664\n"
     ]
    }
   ],
   "source": [
    "!bash ./1_AsymPGClustered_ESN_Evaluate_Tuned_Model.sh \"evaluate_tuned_model\" 150 1 1 4 \"grid_search.json\""
   ]
  },
  {
   "cell_type": "code",
   "execution_count": 24,
   "metadata": {},
   "outputs": [
    {
     "name": "stdout",
     "output_type": "stream",
     "text": [
      " 10%|█         | 3/30 [02:02<18:23, 40.88s/trial, best loss: 0.1305343129372844]/home/user/kuei_jan_CHU/PGClustered_ESN/Methods/./Utils/global_utils.py:254: RuntimeWarning: divide by zero encountered in log10\n",
      "  s_dbfs = 20 * np.log10(s_mag)\n",
      "\n",
      "/home/user/kuei_jan_CHU/PGClustered_ESN/Methods/./Utils/global_utils.py:289: RuntimeWarning: invalid value encountered in divide\n",
      "  trajectory = (trajectory-trajectory.mean())/trajectory.std()\n",
      "\n",
      " 13%|█▎        | 4/30 [03:00<20:38, 47.62s/trial, best loss: 0.1305343129372844]/home/user/kuei_jan_CHU/PGClustered_ESN/Methods/./Utils/global_utils.py:301: RuntimeWarning: Mean of empty slice\n",
      "  spectrum = np.nanmean(np.array(spectrum),axis=0)\n",
      "\n",
      "100%|████████| 30/30 [25:27<00:00, 50.91s/trial, best loss: 0.12630624907639038]\n",
      "{'in_cluster_weight': 0.5, 'noise_level': 5, 'radius': 0.3, 'regularization': 0.01, 'sigma_input': 1.5}\n"
     ]
    }
   ],
   "source": [
    "!bash ./0_AsymPGClustered_ESN_Tune.sh \"tune\" 200 1 1 5 \"grid_search.json\" "
   ]
  },
  {
   "cell_type": "code",
   "execution_count": 4,
   "metadata": {},
   "outputs": [
    {
     "name": "stdout",
     "output_type": "stream",
     "text": [
      "AVERAGE RMNSE ERROR ON TRAIN DATA SET: 1.1700620242107698 ± 0.026385530584878247\n",
      "AVG NUMBER OF ACCURATE 0.5 PREDICTIONS ON TRAIN DATA SET: 2.6916613221192938 ± 0.2983426949156269\n",
      "AVG NUMBER OF ACCURATE 1 PREDICTIONS ON TRAIN DATA SET: 3.424190886512851 ± 0.44783590770685927\n",
      "POWER SPECTRUM MEAN ERROR ON TRAIN DATA SET: 1.9550529157025696 ± 1.0613586197130953\n",
      "TEMPORAL DISTANCE ON TRAIN DATA SET: 0.11790891884957852 ± 0.007766697766621746\n",
      "GEOMETRICAL DISTANCE ON TRAIN DATA SET: 0.016893391694262027 ± 0.004279163448569728\n",
      "\n",
      "\n",
      "AVERAGE RMNSE ERROR ON TEST DATA SET: 1.1583971391388552 ± 0.02988206908390349\n",
      "AVG NUMBER OF ACCURATE 0.5 PREDICTIONS ON TEST DATA SET: 2.8937181481939813 ± 0.4186914137668552\n",
      "AVG NUMBER OF ACCURATE 1 PREDICTIONS ON TEST DATA SET: 3.4944557742717395 ± 0.33751791328898156\n",
      "POWER SPECTRUM MEAN ERROR ON TEST DATA SET: 2.4081548356718394 ± 1.2504174656837712\n",
      "TEMPORAL DISTANCE ON TEST DATA SET: 0.1089699213745868 ± 0.0075840888065734045\n",
      "GEOMETRICAL DISTANCE ON TEST DATA SET: 0.015986620967545336 ± 0.006132599544497952\n"
     ]
    }
   ],
   "source": [
    "!bash ./1_AsymPGClustered_ESN_Evaluate_Tuned_Model.sh \"evaluate_tuned_model\" 200 1 1 5 \"grid_search.json\""
   ]
  },
  {
   "cell_type": "code",
   "execution_count": 30,
   "metadata": {},
   "outputs": [
    {
     "name": "stdout",
     "output_type": "stream",
     "text": [
      " 10%|█         | 3/30 [02:42<24:30, 54.47s/trial, best loss: 0.1260638437423829]/home/user/kuei_jan_CHU/PGClustered_ESN/Methods/./Utils/global_utils.py:254: RuntimeWarning: divide by zero encountered in log10\n",
      "  s_dbfs = 20 * np.log10(s_mag)\n",
      "\n",
      "/home/user/kuei_jan_CHU/PGClustered_ESN/Methods/./Utils/global_utils.py:289: RuntimeWarning: invalid value encountered in divide\n",
      "  trajectory = (trajectory-trajectory.mean())/trajectory.std()\n",
      "\n",
      " 13%|█▎        | 4/30 [03:43<24:38, 56.87s/trial, best loss: 0.1260638437423829]/home/user/kuei_jan_CHU/PGClustered_ESN/Methods/./Utils/global_utils.py:301: RuntimeWarning: Mean of empty slice\n",
      "  spectrum = np.nanmean(np.array(spectrum),axis=0)\n",
      "\n",
      "100%|█████████| 30/30 [26:53<00:00, 53.78s/trial, best loss: 0.1242217177148384]\n",
      "{'in_cluster_weight': 0.5, 'noise_level': 5, 'radius': 0.5, 'regularization': 0.01, 'sigma_input': 1.1}\n"
     ]
    }
   ],
   "source": [
    "!bash ./0_AsymPGClustered_ESN_Tune.sh \"tune\" 250 1 1 6 \"grid_search.json\" "
   ]
  },
  {
   "cell_type": "code",
   "execution_count": 5,
   "metadata": {},
   "outputs": [
    {
     "name": "stdout",
     "output_type": "stream",
     "text": [
      "AVERAGE RMNSE ERROR ON TRAIN DATA SET: 1.1736035922198211 ± 0.029095653493829005\n",
      "AVG NUMBER OF ACCURATE 0.5 PREDICTIONS ON TRAIN DATA SET: 3.0261439192601833 ± 0.3208751557733619\n",
      "AVG NUMBER OF ACCURATE 1 PREDICTIONS ON TRAIN DATA SET: 3.692437961236697 ± 0.4605400152011054\n",
      "POWER SPECTRUM MEAN ERROR ON TRAIN DATA SET: 1.8880076594443629 ± 1.2250332575347505\n",
      "TEMPORAL DISTANCE ON TRAIN DATA SET: 0.11320343580471626 ± 0.0064322190441344915\n",
      "GEOMETRICAL DISTANCE ON TRAIN DATA SET: 0.017862542751840054 ± 0.006024485487356616\n",
      "\n",
      "\n",
      "AVERAGE RMNSE ERROR ON TEST DATA SET: 1.1720530569885994 ± 0.023075115788108797\n",
      "AVG NUMBER OF ACCURATE 0.5 PREDICTIONS ON TEST DATA SET: 3.1736911288002707 ± 0.32209427081613434\n",
      "AVG NUMBER OF ACCURATE 1 PREDICTIONS ON TEST DATA SET: 3.752244608613946 ± 0.3017967806802436\n",
      "POWER SPECTRUM MEAN ERROR ON TEST DATA SET: 2.0746713481139865 ± 1.4829979999880412\n",
      "TEMPORAL DISTANCE ON TEST DATA SET: 0.10529220189724309 ± 0.0069851393934076515\n",
      "GEOMETRICAL DISTANCE ON TEST DATA SET: 0.018681277927022358 ± 0.006045881684290567\n"
     ]
    }
   ],
   "source": [
    "!bash ./1_AsymPGClustered_ESN_Evaluate_Tuned_Model.sh \"evaluate_tuned_model\" 250 1 1 6 \"grid_search.json\""
   ]
  },
  {
   "cell_type": "code",
   "execution_count": 36,
   "metadata": {},
   "outputs": [
    {
     "name": "stdout",
     "output_type": "stream",
     "text": [
      " 10%|▉        | 3/30 [03:05<28:02, 62.32s/trial, best loss: 0.12971240138854562]/home/user/kuei_jan_CHU/PGClustered_ESN/Methods/./Utils/global_utils.py:254: RuntimeWarning: divide by zero encountered in log10\n",
      "  s_dbfs = 20 * np.log10(s_mag)\n",
      "\n",
      " 13%|█▏       | 4/30 [04:04<26:33, 61.27s/trial, best loss: 0.12971240138854562]/home/user/kuei_jan_CHU/PGClustered_ESN/Methods/./Utils/global_utils.py:289: RuntimeWarning: invalid value encountered in divide\n",
      "  trajectory = (trajectory-trajectory.mean())/trajectory.std()\n",
      "\n",
      "/home/user/kuei_jan_CHU/PGClustered_ESN/Methods/./Utils/global_utils.py:301: RuntimeWarning: Mean of empty slice\n",
      "  spectrum = np.nanmean(np.array(spectrum),axis=0)\n",
      "\n",
      "100%|████████| 30/30 [29:52<00:00, 59.76s/trial, best loss: 0.12187097296207346]\n",
      "{'in_cluster_weight': 0.5, 'noise_level': 5, 'radius': 0.3, 'regularization': 0.01, 'sigma_input': 1.5}\n"
     ]
    }
   ],
   "source": [
    "!bash ./0_AsymPGClustered_ESN_Tune.sh \"tune\" 300 1 1 7 \"grid_search.json\" "
   ]
  },
  {
   "cell_type": "code",
   "execution_count": 6,
   "metadata": {},
   "outputs": [
    {
     "name": "stdout",
     "output_type": "stream",
     "text": [
      "AVERAGE RMNSE ERROR ON TRAIN DATA SET: 1.160092628662626 ± 0.029834238610429786\n",
      "AVG NUMBER OF ACCURATE 0.5 PREDICTIONS ON TRAIN DATA SET: 3.16798663404665 ± 0.5374455145036572\n",
      "AVG NUMBER OF ACCURATE 1 PREDICTIONS ON TRAIN DATA SET: 3.746268471253009 ± 0.4866544068291259\n",
      "POWER SPECTRUM MEAN ERROR ON TRAIN DATA SET: 1.6924093395736637 ± 1.0330298550224688\n",
      "TEMPORAL DISTANCE ON TRAIN DATA SET: 0.11484960023868776 ± 0.006370455098336802\n",
      "GEOMETRICAL DISTANCE ON TRAIN DATA SET: 0.019550284041130545 ± 0.0067099962958747025\n",
      "\n",
      "\n",
      "AVERAGE RMNSE ERROR ON TEST DATA SET: 1.1623121757525967 ± 0.023394687326096297\n",
      "AVG NUMBER OF ACCURATE 0.5 PREDICTIONS ON TEST DATA SET: 3.2079633710898827 ± 0.2930224129962651\n",
      "AVG NUMBER OF ACCURATE 1 PREDICTIONS ON TEST DATA SET: 3.7497998251481093 ± 0.37897933924343374\n",
      "POWER SPECTRUM MEAN ERROR ON TEST DATA SET: 2.172800755273512 ± 1.661005379663294\n",
      "TEMPORAL DISTANCE ON TEST DATA SET: 0.11011941773980685 ± 0.008277271107502296\n",
      "GEOMETRICAL DISTANCE ON TEST DATA SET: 0.017807614030383997 ± 0.0058359457071498\n"
     ]
    }
   ],
   "source": [
    "!bash ./1_AsymPGClustered_ESN_Evaluate_Tuned_Model.sh \"evaluate_tuned_model\" 300 1 1 7 \"grid_search.json\""
   ]
  },
  {
   "cell_type": "code",
   "execution_count": 42,
   "metadata": {},
   "outputs": [
    {
     "name": "stdout",
     "output_type": "stream",
     "text": [
      " 10%|▉        | 3/30 [03:53<34:11, 75.98s/trial, best loss: 0.12244921276298415]/home/user/kuei_jan_CHU/PGClustered_ESN/Methods/./Utils/global_utils.py:254: RuntimeWarning: divide by zero encountered in log10\n",
      "  s_dbfs = 20 * np.log10(s_mag)\n",
      "\n",
      " 13%|█▏       | 4/30 [05:02<31:40, 73.09s/trial, best loss: 0.12244921276298415]/home/user/kuei_jan_CHU/PGClustered_ESN/Methods/./Utils/global_utils.py:289: RuntimeWarning: invalid value encountered in divide\n",
      "  trajectory = (trajectory-trajectory.mean())/trajectory.std()\n",
      "\n",
      "100%|████████| 30/30 [31:22<00:00, 62.75s/trial, best loss: 0.12167907500566408]\n",
      "{'in_cluster_weight': 0.5, 'noise_level': 5, 'radius': 0.5, 'regularization': 0.01, 'sigma_input': 1.1}\n"
     ]
    }
   ],
   "source": [
    "!bash ./0_AsymPGClustered_ESN_Tune.sh \"tune\" 350 1 1 8 \"grid_search.json\" "
   ]
  },
  {
   "cell_type": "code",
   "execution_count": 7,
   "metadata": {},
   "outputs": [
    {
     "name": "stdout",
     "output_type": "stream",
     "text": [
      "AVERAGE RMNSE ERROR ON TRAIN DATA SET: 1.1618799626470304 ± 0.024357140287862008\n",
      "AVG NUMBER OF ACCURATE 0.5 PREDICTIONS ON TRAIN DATA SET: 3.314039809246502 ± 0.4628845469202121\n",
      "AVG NUMBER OF ACCURATE 1 PREDICTIONS ON TRAIN DATA SET: 3.8637086251489854 ± 0.5682460267455205\n",
      "POWER SPECTRUM MEAN ERROR ON TRAIN DATA SET: 2.220308973453194 ± 1.0741466565524642\n",
      "TEMPORAL DISTANCE ON TRAIN DATA SET: 0.111500000152046 ± 0.005200866014348729\n",
      "GEOMETRICAL DISTANCE ON TRAIN DATA SET: 0.017476536249778192 ± 0.003886475670212587\n",
      "\n",
      "\n",
      "AVERAGE RMNSE ERROR ON TEST DATA SET: 1.1645524023979934 ± 0.026865028271377173\n",
      "AVG NUMBER OF ACCURATE 0.5 PREDICTIONS ON TEST DATA SET: 3.3780569170371386 ± 0.3192398578990889\n",
      "AVG NUMBER OF ACCURATE 1 PREDICTIONS ON TEST DATA SET: 3.9477820121130676 ± 0.4196955838662097\n",
      "POWER SPECTRUM MEAN ERROR ON TEST DATA SET: 2.1624713036765355 ± 1.3929552009240458\n",
      "TEMPORAL DISTANCE ON TEST DATA SET: 0.10489815847641595 ± 0.007985715520750133\n",
      "GEOMETRICAL DISTANCE ON TEST DATA SET: 0.015623872025528457 ± 0.006456907633848215\n"
     ]
    }
   ],
   "source": [
    "!bash ./1_AsymPGClustered_ESN_Evaluate_Tuned_Model.sh \"evaluate_tuned_model\" 350 1 1 8 \"grid_search.json\""
   ]
  },
  {
   "cell_type": "code",
   "execution_count": 48,
   "metadata": {},
   "outputs": [
    {
     "name": "stdout",
     "output_type": "stream",
     "text": [
      " 10%|█         | 3/30 [03:17<29:17, 65.11s/trial, best loss: 0.1282530988344483]/home/user/kuei_jan_CHU/PGClustered_ESN/Methods/./Utils/global_utils.py:254: RuntimeWarning: divide by zero encountered in log10\n",
      "  s_dbfs = 20 * np.log10(s_mag)\n",
      "\n",
      " 13%|█▎        | 4/30 [04:17<27:24, 63.26s/trial, best loss: 0.1282530988344483]/home/user/kuei_jan_CHU/PGClustered_ESN/Methods/./Utils/global_utils.py:289: RuntimeWarning: invalid value encountered in divide\n",
      "  trajectory = (trajectory-trajectory.mean())/trajectory.std()\n",
      "\n",
      "/home/user/kuei_jan_CHU/PGClustered_ESN/Methods/./Utils/global_utils.py:301: RuntimeWarning: Mean of empty slice\n",
      "  spectrum = np.nanmean(np.array(spectrum),axis=0)\n",
      "\n",
      "100%|█████████| 30/30 [33:40<00:00, 67.35s/trial, best loss: 0.1204872559516065]\n",
      "{'in_cluster_weight': 0.5, 'noise_level': 5, 'radius': 0.3, 'regularization': 0.01, 'sigma_input': 1.5}\n"
     ]
    }
   ],
   "source": [
    "!bash ./0_AsymPGClustered_ESN_Tune.sh \"tune\" 400 1 1 9 \"grid_search.json\" "
   ]
  },
  {
   "cell_type": "code",
   "execution_count": 8,
   "metadata": {
    "editable": true,
    "slideshow": {
     "slide_type": ""
    },
    "tags": []
   },
   "outputs": [
    {
     "name": "stdout",
     "output_type": "stream",
     "text": [
      "AVERAGE RMNSE ERROR ON TRAIN DATA SET: 1.1521682452208726 ± 0.023121812453284565\n",
      "AVG NUMBER OF ACCURATE 0.5 PREDICTIONS ON TRAIN DATA SET: 3.3909146671167285 ± 0.4534290156843453\n",
      "AVG NUMBER OF ACCURATE 1 PREDICTIONS ON TRAIN DATA SET: 3.9893433310323054 ± 0.5458529302864434\n",
      "POWER SPECTRUM MEAN ERROR ON TRAIN DATA SET: 2.1943826494927205 ± 1.2976729533007008\n",
      "TEMPORAL DISTANCE ON TRAIN DATA SET: 0.11775976231180443 ± 0.006102852682237494\n",
      "GEOMETRICAL DISTANCE ON TRAIN DATA SET: 0.019051605054918805 ± 0.005384832187377657\n",
      "\n",
      "\n",
      "AVERAGE RMNSE ERROR ON TEST DATA SET: 1.1674390653572613 ± 0.019694472985262414\n",
      "AVG NUMBER OF ACCURATE 0.5 PREDICTIONS ON TEST DATA SET: 3.333281160598001 ± 0.32402646324460876\n",
      "AVG NUMBER OF ACCURATE 1 PREDICTIONS ON TEST DATA SET: 3.828530907501656 ± 0.3379428371793932\n",
      "POWER SPECTRUM MEAN ERROR ON TEST DATA SET: 2.510489609759561 ± 1.1903511478505975\n",
      "TEMPORAL DISTANCE ON TEST DATA SET: 0.10581895614917362 ± 0.006956685723703974\n",
      "GEOMETRICAL DISTANCE ON TEST DATA SET: 0.017732825988941436 ± 0.0069347065143975685\n"
     ]
    }
   ],
   "source": [
    "!bash ./1_AsymPGClustered_ESN_Evaluate_Tuned_Model.sh \"evaluate_tuned_model\" 400 1 1 9 \"grid_search.json\""
   ]
  },
  {
   "cell_type": "code",
   "execution_count": null,
   "metadata": {},
   "outputs": [],
   "source": []
  }
 ],
 "metadata": {
  "kernelspec": {
   "display_name": "base",
   "language": "python",
   "name": "python3"
  },
  "language_info": {
   "codemirror_mode": {
    "name": "ipython",
    "version": 3
   },
   "file_extension": ".py",
   "mimetype": "text/x-python",
   "name": "python",
   "nbconvert_exporter": "python",
   "pygments_lexer": "ipython3",
   "version": "3.11.8"
  }
 },
 "nbformat": 4,
 "nbformat_minor": 4
}
