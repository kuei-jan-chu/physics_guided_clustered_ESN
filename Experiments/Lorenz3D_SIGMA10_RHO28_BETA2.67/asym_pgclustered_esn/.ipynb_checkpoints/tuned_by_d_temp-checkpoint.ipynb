{
 "cells": [
  {
   "cell_type": "markdown",
   "metadata": {
    "editable": true,
    "slideshow": {
     "slide_type": ""
    },
    "tags": []
   },
   "source": [
    "# noise level 5, metric: d_temp"
   ]
  },
  {
   "cell_type": "code",
   "execution_count": 6,
   "metadata": {},
   "outputs": [
    {
     "name": "stdout",
     "output_type": "stream",
     "text": [
      "  7%|▌        | 2/30 [03:32<50:52, 109.01s/trial, best loss: 0.4360160531951534]/home/user/kuei_jan_CHU/PGClustered_ESN/Methods/./Utils/global_utils.py:254: RuntimeWarning: divide by zero encountered in log10\n",
      "  s_dbfs = 20 * np.log10(s_mag)\n",
      "\n",
      " 10%|▉        | 3/30 [05:08<46:11, 102.65s/trial, best loss: 0.4360160531951534]/home/user/kuei_jan_CHU/PGClustered_ESN/Methods/./Utils/global_utils.py:289: RuntimeWarning: invalid value encountered in divide\n",
      "  trajectory = (trajectory-trajectory.mean())/trajectory.std()\n",
      "\n",
      "100%|████████| 30/30 [51:10<00:00, 102.35s/trial, best loss: 0.3117810798661334]\n",
      "{'in_cluster_weight': 0.5, 'noise_level': 5, 'radius': 1.1, 'regularization': 0.01, 'sigma_input': 0.5}\n"
     ]
    }
   ],
   "source": [
    "!bash ./0_AsymPGClustered_ESN_Tune.sh \"tune\" 50 1 1 0 \"random_search.json\" "
   ]
  },
  {
   "cell_type": "code",
   "execution_count": 9,
   "metadata": {},
   "outputs": [
    {
     "name": "stdout",
     "output_type": "stream",
     "text": [
      "/home/user/kuei_jan_CHU/PGClustered_ESN/Methods/./Utils/global_utils.py:254: RuntimeWarning: divide by zero encountered in log10\n",
      "  s_dbfs = 20 * np.log10(s_mag)\n",
      "/home/user/anaconda3/lib/python3.11/site-packages/numpy/core/_methods.py:236: RuntimeWarning: invalid value encountered in subtract\n",
      "  x = asanyarray(arr - arrmean)\n",
      "AVERAGE RMNSE ERROR ON TRAIN DATA SET: 1.421791898022614 ± 0.14118717187323584\n",
      "AVG NUMBER OF ACCURATE 0.5 PREDICTIONS ON TRAIN DATA SET: 1.24131616789509 ± 0.07389530089204317\n",
      "AVG NUMBER OF ACCURATE 1 PREDICTIONS ON TRAIN DATA SET: 1.7070021443692638 ± 0.09943634080361555\n",
      "POWER SPECTRUM MEAN ERROR ON TRAIN DATA SET: inf ± nan\n",
      "TEMPORAL DISTANCE ON TRAIN DATA SET: 0.43407079704507634 ± 0.04890119863485712\n",
      "GEOMETRICAL DISTANCE ON TRAIN DATA SET: 2.2339230436769753 ± 1.0983053976023194\n",
      "\n",
      "\n",
      "AVERAGE RMNSE ERROR ON TEST DATA SET: 1.3660067557495594 ± 0.10330810665939512\n",
      "AVG NUMBER OF ACCURATE 0.5 PREDICTIONS ON TEST DATA SET: 1.1755786569247904 ± 0.06268903443545246\n",
      "AVG NUMBER OF ACCURATE 1 PREDICTIONS ON TEST DATA SET: 1.7244778187732137 ± 0.07231555186933725\n",
      "POWER SPECTRUM MEAN ERROR ON TEST DATA SET: inf ± nan\n",
      "TEMPORAL DISTANCE ON TEST DATA SET: 0.43725030211663773 ± 0.04352317596308404\n",
      "GEOMETRICAL DISTANCE ON TEST DATA SET: 1.6397544765767926 ± 0.8286120189837082\n"
     ]
    }
   ],
   "source": [
    "!bash ./1_AsymPGClustered_ESN_Evaluate_Tuned_Model.sh \"evaluate_tuned_model\" 50 1 1 0 \"random_search.json\""
   ]
  },
  {
   "cell_type": "code",
   "execution_count": 12,
   "metadata": {},
   "outputs": [
    {
     "name": "stdout",
     "output_type": "stream",
     "text": [
      "  7%|▍     | 2/30 [05:10<1:11:55, 154.11s/trial, best loss: 0.20870006138861302]/home/user/kuei_jan_CHU/PGClustered_ESN/Methods/./Utils/global_utils.py:254: RuntimeWarning: divide by zero encountered in log10\n",
      "  s_dbfs = 20 * np.log10(s_mag)\n",
      "\n",
      " 13%|▊     | 4/30 [10:07<1:04:56, 149.87s/trial, best loss: 0.20870006138861302]/home/user/kuei_jan_CHU/PGClustered_ESN/Methods/./Utils/global_utils.py:289: RuntimeWarning: invalid value encountered in divide\n",
      "  trajectory = (trajectory-trajectory.mean())/trajectory.std()\n",
      "\n",
      "100%|██████| 30/30 [1:17:04<00:00, 154.16s/trial, best loss: 0.1303262306747962]\n",
      "{'in_cluster_weight': 0.5, 'noise_level': 5, 'radius': 0.9, 'regularization': 0.01, 'sigma_input': 0.9}\n"
     ]
    }
   ],
   "source": [
    "!bash ./0_AsymPGClustered_ESN_Tune.sh \"tune\" 100 1 1 1 \"random_search.json\" "
   ]
  },
  {
   "cell_type": "code",
   "execution_count": 15,
   "metadata": {},
   "outputs": [
    {
     "name": "stdout",
     "output_type": "stream",
     "text": [
      "AVERAGE RMNSE ERROR ON TRAIN DATA SET: 1.1778810913487114 ± 0.009925948516808317\n",
      "AVG NUMBER OF ACCURATE 0.5 PREDICTIONS ON TRAIN DATA SET: 2.313489538968528 ± 0.09803448215049933\n",
      "AVG NUMBER OF ACCURATE 1 PREDICTIONS ON TRAIN DATA SET: 3.058786305905904 ± 0.09693030065675562\n",
      "POWER SPECTRUM MEAN ERROR ON TRAIN DATA SET: 5.09861313041061 ± 1.3365332679834128\n",
      "TEMPORAL DISTANCE ON TRAIN DATA SET: 0.2059979864526285 ± 0.028721326485736512\n",
      "GEOMETRICAL DISTANCE ON TRAIN DATA SET: 0.23895181850534702 ± 0.09778148010153091\n",
      "\n",
      "\n",
      "AVERAGE RMNSE ERROR ON TEST DATA SET: 1.1733885774793014 ± 0.008816599497017212\n",
      "AVG NUMBER OF ACCURATE 0.5 PREDICTIONS ON TEST DATA SET: 2.287321301130489 ± 0.09491783146567638\n",
      "AVG NUMBER OF ACCURATE 1 PREDICTIONS ON TEST DATA SET: 2.9365471326140247 ± 0.12358045922164841\n",
      "POWER SPECTRUM MEAN ERROR ON TEST DATA SET: 6.586698088099626 ± 1.4667403761557136\n",
      "TEMPORAL DISTANCE ON TEST DATA SET: 0.20472295390350692 ± 0.024208996950118314\n",
      "GEOMETRICAL DISTANCE ON TEST DATA SET: 0.3307333251412208 ± 0.09654228545388041\n"
     ]
    }
   ],
   "source": [
    "!bash ./1_AsymPGClustered_ESN_Evaluate_Tuned_Model.sh \"evaluate_tuned_model\" 100 1 1 1 \"random_search.json\""
   ]
  },
  {
   "cell_type": "code",
   "execution_count": 18,
   "metadata": {},
   "outputs": [
    {
     "name": "stdout",
     "output_type": "stream",
     "text": [
      " 10%|█          | 3/30 [02:48<24:13, 53.84s/trial, best loss: 0.133823615633685]/home/user/kuei_jan_CHU/PGClustered_ESN/Methods/./Utils/global_utils.py:254: RuntimeWarning: divide by zero encountered in log10\n",
      "  s_dbfs = 20 * np.log10(s_mag)\n",
      "\n",
      "/home/user/kuei_jan_CHU/PGClustered_ESN/Methods/./Utils/global_utils.py:289: RuntimeWarning: invalid value encountered in divide\n",
      "  trajectory = (trajectory-trajectory.mean())/trajectory.std()\n",
      "\n",
      " 23%|██▌        | 7/30 [05:53<18:18, 47.75s/trial, best loss: 0.133823615633685]/home/user/kuei_jan_CHU/PGClustered_ESN/Methods/./Utils/global_utils.py:301: RuntimeWarning: Mean of empty slice\n",
      "  spectrum = np.nanmean(np.array(spectrum),axis=0)\n",
      "\n",
      "100%|████████| 30/30 [23:53<00:00, 47.77s/trial, best loss: 0.12518588305960093]\n",
      "{'in_cluster_weight': 0.5, 'noise_level': 5, 'radius': 0.9, 'regularization': 0.01, 'sigma_input': 0.9}\n"
     ]
    }
   ],
   "source": [
    "!bash ./0_AsymPGClustered_ESN_Tune.sh \"tune\" 150 1 1 2 \"random_search.json\" "
   ]
  },
  {
   "cell_type": "code",
   "execution_count": 21,
   "metadata": {},
   "outputs": [
    {
     "name": "stdout",
     "output_type": "stream",
     "text": [
      "AVERAGE RMNSE ERROR ON TRAIN DATA SET: 1.1685048353030367 ± 0.008520242556236169\n",
      "AVG NUMBER OF ACCURATE 0.5 PREDICTIONS ON TRAIN DATA SET: 2.752916730068891 ± 0.11812212132811366\n",
      "AVG NUMBER OF ACCURATE 1 PREDICTIONS ON TRAIN DATA SET: 3.4796512521730554 ± 0.1219523305730445\n",
      "POWER SPECTRUM MEAN ERROR ON TRAIN DATA SET: 3.1112276374923 ± 0.3703087976941175\n",
      "TEMPORAL DISTANCE ON TRAIN DATA SET: 0.12628756288663776 ± 0.0026334339675821465\n",
      "GEOMETRICAL DISTANCE ON TRAIN DATA SET: 0.016826650169107314 ± 0.0018878635782738347\n",
      "\n",
      "\n",
      "AVERAGE RMNSE ERROR ON TEST DATA SET: 1.1636801715051481 ± 0.008800958225697805\n",
      "AVG NUMBER OF ACCURATE 0.5 PREDICTIONS ON TEST DATA SET: 2.730098751054407 ± 0.0981901766290267\n",
      "AVG NUMBER OF ACCURATE 1 PREDICTIONS ON TEST DATA SET: 3.3443732337300425 ± 0.09205409230294621\n",
      "POWER SPECTRUM MEAN ERROR ON TEST DATA SET: 3.219776175673001 ± 0.5983569264946061\n",
      "TEMPORAL DISTANCE ON TEST DATA SET: 0.11705351324005189 ± 0.002321458212012335\n",
      "GEOMETRICAL DISTANCE ON TEST DATA SET: 0.01569216167455075 ± 0.001825746377138862\n"
     ]
    }
   ],
   "source": [
    "!bash ./1_AsymPGClustered_ESN_Evaluate_Tuned_Model.sh \"evaluate_tuned_model\" 150 1 1 2 \"random_search.json\""
   ]
  },
  {
   "cell_type": "code",
   "execution_count": 24,
   "metadata": {},
   "outputs": [
    {
     "name": "stdout",
     "output_type": "stream",
     "text": [
      " 10%|█         | 3/30 [02:02<18:23, 40.88s/trial, best loss: 0.1305343129372844]/home/user/kuei_jan_CHU/PGClustered_ESN/Methods/./Utils/global_utils.py:254: RuntimeWarning: divide by zero encountered in log10\n",
      "  s_dbfs = 20 * np.log10(s_mag)\n",
      "\n",
      "/home/user/kuei_jan_CHU/PGClustered_ESN/Methods/./Utils/global_utils.py:289: RuntimeWarning: invalid value encountered in divide\n",
      "  trajectory = (trajectory-trajectory.mean())/trajectory.std()\n",
      "\n",
      " 13%|█▎        | 4/30 [03:00<20:38, 47.62s/trial, best loss: 0.1305343129372844]/home/user/kuei_jan_CHU/PGClustered_ESN/Methods/./Utils/global_utils.py:301: RuntimeWarning: Mean of empty slice\n",
      "  spectrum = np.nanmean(np.array(spectrum),axis=0)\n",
      "\n",
      "100%|████████| 30/30 [25:27<00:00, 50.91s/trial, best loss: 0.12630624907639038]\n",
      "{'in_cluster_weight': 0.5, 'noise_level': 5, 'radius': 0.3, 'regularization': 0.01, 'sigma_input': 1.5}\n"
     ]
    }
   ],
   "source": [
    "!bash ./0_AsymPGClustered_ESN_Tune.sh \"tune\" 200 1 1 3 \"random_search.json\" "
   ]
  },
  {
   "cell_type": "code",
   "execution_count": 27,
   "metadata": {},
   "outputs": [
    {
     "name": "stdout",
     "output_type": "stream",
     "text": [
      "AVERAGE RMNSE ERROR ON TRAIN DATA SET: 1.1804406130211234 ± 0.007248837401300097\n",
      "AVG NUMBER OF ACCURATE 0.5 PREDICTIONS ON TRAIN DATA SET: 2.733720652485277 ± 0.10449857713144711\n",
      "AVG NUMBER OF ACCURATE 1 PREDICTIONS ON TRAIN DATA SET: 3.5436683599636916 ± 0.13947498903581407\n",
      "POWER SPECTRUM MEAN ERROR ON TRAIN DATA SET: 2.652378756167661 ± 0.35234809641836506\n",
      "TEMPORAL DISTANCE ON TRAIN DATA SET: 0.12907387118679758 ± 0.0033098403221104127\n",
      "GEOMETRICAL DISTANCE ON TRAIN DATA SET: 0.016101166983814353 ± 0.001982827260256863\n",
      "\n",
      "\n",
      "AVERAGE RMNSE ERROR ON TEST DATA SET: 1.165765026495962 ± 0.008629890541744798\n",
      "AVG NUMBER OF ACCURATE 0.5 PREDICTIONS ON TEST DATA SET: 2.828342827366769 ± 0.11757494985346031\n",
      "AVG NUMBER OF ACCURATE 1 PREDICTIONS ON TEST DATA SET: 3.449317827689515 ± 0.1265858777133771\n",
      "POWER SPECTRUM MEAN ERROR ON TEST DATA SET: 3.3988614200459195 ± 0.5679045615279655\n",
      "TEMPORAL DISTANCE ON TEST DATA SET: 0.11857564574710713 ± 0.0024981005433236184\n",
      "GEOMETRICAL DISTANCE ON TEST DATA SET: 0.01790906381646902 ± 0.0018463932411001622\n"
     ]
    }
   ],
   "source": [
    "!bash ./1_AsymPGClustered_ESN_Evaluate_Tuned_Model.sh \"evaluate_tuned_model\" 200 1 1 3 \"random_search.json\""
   ]
  },
  {
   "cell_type": "code",
   "execution_count": 30,
   "metadata": {},
   "outputs": [
    {
     "name": "stdout",
     "output_type": "stream",
     "text": [
      " 10%|█         | 3/30 [02:42<24:30, 54.47s/trial, best loss: 0.1260638437423829]/home/user/kuei_jan_CHU/PGClustered_ESN/Methods/./Utils/global_utils.py:254: RuntimeWarning: divide by zero encountered in log10\n",
      "  s_dbfs = 20 * np.log10(s_mag)\n",
      "\n",
      "/home/user/kuei_jan_CHU/PGClustered_ESN/Methods/./Utils/global_utils.py:289: RuntimeWarning: invalid value encountered in divide\n",
      "  trajectory = (trajectory-trajectory.mean())/trajectory.std()\n",
      "\n",
      " 13%|█▎        | 4/30 [03:43<24:38, 56.87s/trial, best loss: 0.1260638437423829]/home/user/kuei_jan_CHU/PGClustered_ESN/Methods/./Utils/global_utils.py:301: RuntimeWarning: Mean of empty slice\n",
      "  spectrum = np.nanmean(np.array(spectrum),axis=0)\n",
      "\n",
      "100%|█████████| 30/30 [26:53<00:00, 53.78s/trial, best loss: 0.1242217177148384]\n",
      "{'in_cluster_weight': 0.5, 'noise_level': 5, 'radius': 0.5, 'regularization': 0.01, 'sigma_input': 1.1}\n"
     ]
    }
   ],
   "source": [
    "!bash ./0_AsymPGClustered_ESN_Tune.sh \"tune\" 250 1 1 4 \"random_search.json\" "
   ]
  },
  {
   "cell_type": "code",
   "execution_count": 33,
   "metadata": {},
   "outputs": [
    {
     "name": "stdout",
     "output_type": "stream",
     "text": [
      "AVERAGE RMNSE ERROR ON TRAIN DATA SET: 1.1774737612855084 ± 0.008443772070357822\n",
      "AVG NUMBER OF ACCURATE 0.5 PREDICTIONS ON TRAIN DATA SET: 2.9848995167161467 ± 0.10536574212569935\n",
      "AVG NUMBER OF ACCURATE 1 PREDICTIONS ON TRAIN DATA SET: 3.6157441984380143 ± 0.1178350818804686\n",
      "POWER SPECTRUM MEAN ERROR ON TRAIN DATA SET: 2.815903179424649 ± 0.4225536355886822\n",
      "TEMPORAL DISTANCE ON TRAIN DATA SET: 0.1265320196141847 ± 0.002958180730093899\n",
      "GEOMETRICAL DISTANCE ON TRAIN DATA SET: 0.018137469957008746 ± 0.0023667762588074114\n",
      "\n",
      "\n",
      "AVERAGE RMNSE ERROR ON TEST DATA SET: 1.1694495038331205 ± 0.006657062277347255\n",
      "AVG NUMBER OF ACCURATE 0.5 PREDICTIONS ON TEST DATA SET: 3.1901707803107313 ± 0.09322887443650331\n",
      "AVG NUMBER OF ACCURATE 1 PREDICTIONS ON TEST DATA SET: 3.708283779996755 ± 0.0929956440031213\n",
      "POWER SPECTRUM MEAN ERROR ON TEST DATA SET: 3.0148824895726714 ± 0.4249304007178327\n",
      "TEMPORAL DISTANCE ON TEST DATA SET: 0.1212700881663038 ± 0.0021771640833203546\n",
      "GEOMETRICAL DISTANCE ON TEST DATA SET: 0.021090252193269023 ± 0.0018808834111420842\n"
     ]
    }
   ],
   "source": [
    "!bash ./1_AsymPGClustered_ESN_Evaluate_Tuned_Model.sh \"evaluate_tuned_model\" 250 1 1 4 \"random_search.json\""
   ]
  },
  {
   "cell_type": "code",
   "execution_count": 36,
   "metadata": {},
   "outputs": [
    {
     "name": "stdout",
     "output_type": "stream",
     "text": [
      " 10%|▉        | 3/30 [03:05<28:02, 62.32s/trial, best loss: 0.12971240138854562]/home/user/kuei_jan_CHU/PGClustered_ESN/Methods/./Utils/global_utils.py:254: RuntimeWarning: divide by zero encountered in log10\n",
      "  s_dbfs = 20 * np.log10(s_mag)\n",
      "\n",
      " 13%|█▏       | 4/30 [04:04<26:33, 61.27s/trial, best loss: 0.12971240138854562]/home/user/kuei_jan_CHU/PGClustered_ESN/Methods/./Utils/global_utils.py:289: RuntimeWarning: invalid value encountered in divide\n",
      "  trajectory = (trajectory-trajectory.mean())/trajectory.std()\n",
      "\n",
      "/home/user/kuei_jan_CHU/PGClustered_ESN/Methods/./Utils/global_utils.py:301: RuntimeWarning: Mean of empty slice\n",
      "  spectrum = np.nanmean(np.array(spectrum),axis=0)\n",
      "\n",
      "100%|████████| 30/30 [29:52<00:00, 59.76s/trial, best loss: 0.12187097296207346]\n",
      "{'in_cluster_weight': 0.5, 'noise_level': 5, 'radius': 0.3, 'regularization': 0.01, 'sigma_input': 1.5}\n"
     ]
    }
   ],
   "source": [
    "!bash ./0_AsymPGClustered_ESN_Tune.sh \"tune\" 300 1 1 5 \"random_search.json\" "
   ]
  },
  {
   "cell_type": "code",
   "execution_count": 39,
   "metadata": {},
   "outputs": [
    {
     "name": "stdout",
     "output_type": "stream",
     "text": [
      "AVERAGE RMNSE ERROR ON TRAIN DATA SET: 1.15677540514597 ± 0.006487750899892045\n",
      "AVG NUMBER OF ACCURATE 0.5 PREDICTIONS ON TRAIN DATA SET: 3.237617689055135 ± 0.17073952210461996\n",
      "AVG NUMBER OF ACCURATE 1 PREDICTIONS ON TRAIN DATA SET: 3.8318811663252115 ± 0.14563813558900057\n",
      "POWER SPECTRUM MEAN ERROR ON TRAIN DATA SET: 2.9861296965811235 ± 0.45803790782274345\n",
      "TEMPORAL DISTANCE ON TRAIN DATA SET: 0.13063056756375685 ± 0.003704880463979464\n",
      "GEOMETRICAL DISTANCE ON TRAIN DATA SET: 0.014070128653135986 ± 0.0014962726332673553\n",
      "\n",
      "\n",
      "AVERAGE RMNSE ERROR ON TEST DATA SET: 1.1589078931369785 ± 0.009616698000478605\n",
      "AVG NUMBER OF ACCURATE 0.5 PREDICTIONS ON TEST DATA SET: 3.1856434035221435 ± 0.0947867571196673\n",
      "AVG NUMBER OF ACCURATE 1 PREDICTIONS ON TEST DATA SET: 3.6535025208548397 ± 0.13392438087721548\n",
      "POWER SPECTRUM MEAN ERROR ON TEST DATA SET: 2.9457288770195866 ± 0.4923133521762256\n",
      "TEMPORAL DISTANCE ON TEST DATA SET: 0.11970090270353721 ± 0.0024722994311916643\n",
      "GEOMETRICAL DISTANCE ON TEST DATA SET: 0.01831653028824467 ± 0.002397622645415495\n"
     ]
    }
   ],
   "source": [
    "!bash ./1_AsymPGClustered_ESN_Evaluate_Tuned_Model.sh \"evaluate_tuned_model\" 300 1 1 5 \"random_search.json\""
   ]
  },
  {
   "cell_type": "code",
   "execution_count": 42,
   "metadata": {},
   "outputs": [
    {
     "name": "stdout",
     "output_type": "stream",
     "text": [
      " 10%|▉        | 3/30 [03:53<34:11, 75.98s/trial, best loss: 0.12244921276298415]/home/user/kuei_jan_CHU/PGClustered_ESN/Methods/./Utils/global_utils.py:254: RuntimeWarning: divide by zero encountered in log10\n",
      "  s_dbfs = 20 * np.log10(s_mag)\n",
      "\n",
      " 13%|█▏       | 4/30 [05:02<31:40, 73.09s/trial, best loss: 0.12244921276298415]/home/user/kuei_jan_CHU/PGClustered_ESN/Methods/./Utils/global_utils.py:289: RuntimeWarning: invalid value encountered in divide\n",
      "  trajectory = (trajectory-trajectory.mean())/trajectory.std()\n",
      "\n",
      "100%|████████| 30/30 [31:22<00:00, 62.75s/trial, best loss: 0.12167907500566408]\n",
      "{'in_cluster_weight': 0.5, 'noise_level': 5, 'radius': 0.5, 'regularization': 0.01, 'sigma_input': 1.1}\n"
     ]
    }
   ],
   "source": [
    "!bash ./0_AsymPGClustered_ESN_Tune.sh \"tune\" 350 1 1 6 \"random_search.json\" "
   ]
  },
  {
   "cell_type": "code",
   "execution_count": 45,
   "metadata": {},
   "outputs": [
    {
     "name": "stdout",
     "output_type": "stream",
     "text": [
      "AVERAGE RMNSE ERROR ON TRAIN DATA SET: 1.1701281384138345 ± 0.005667946799277678\n",
      "AVG NUMBER OF ACCURATE 0.5 PREDICTIONS ON TRAIN DATA SET: 3.3128626912814694 ± 0.12968203272459017\n",
      "AVG NUMBER OF ACCURATE 1 PREDICTIONS ON TRAIN DATA SET: 3.9018744114767836 ± 0.16092089157745948\n",
      "POWER SPECTRUM MEAN ERROR ON TRAIN DATA SET: 2.5638390314083446 ± 0.48529532046822754\n",
      "TEMPORAL DISTANCE ON TRAIN DATA SET: 0.12481897900849345 ± 0.002043378020901782\n",
      "GEOMETRICAL DISTANCE ON TRAIN DATA SET: 0.017251936920195686 ± 0.0016876073817612227\n",
      "\n",
      "\n",
      "AVERAGE RMNSE ERROR ON TEST DATA SET: 1.1634772702340574 ± 0.009016634169533844\n",
      "AVG NUMBER OF ACCURATE 0.5 PREDICTIONS ON TEST DATA SET: 3.395442043905317 ± 0.1155956259675579\n",
      "AVG NUMBER OF ACCURATE 1 PREDICTIONS ON TEST DATA SET: 4.0600609564700525 ± 0.1357766563842667\n",
      "POWER SPECTRUM MEAN ERROR ON TEST DATA SET: 3.301141821627497 ± 0.3816067700614961\n",
      "TEMPORAL DISTANCE ON TEST DATA SET: 0.11840328389704102 ± 0.0022076467058834153\n",
      "GEOMETRICAL DISTANCE ON TEST DATA SET: 0.01242338409755488 ± 0.0015049951615319524\n"
     ]
    }
   ],
   "source": [
    "!bash ./1_AsymPGClustered_ESN_Evaluate_Tuned_Model.sh \"evaluate_tuned_model\" 350 1 1 6 \"random_search.json\""
   ]
  },
  {
   "cell_type": "code",
   "execution_count": 48,
   "metadata": {},
   "outputs": [
    {
     "name": "stdout",
     "output_type": "stream",
     "text": [
      " 10%|█         | 3/30 [03:17<29:17, 65.11s/trial, best loss: 0.1282530988344483]/home/user/kuei_jan_CHU/PGClustered_ESN/Methods/./Utils/global_utils.py:254: RuntimeWarning: divide by zero encountered in log10\n",
      "  s_dbfs = 20 * np.log10(s_mag)\n",
      "\n",
      " 13%|█▎        | 4/30 [04:17<27:24, 63.26s/trial, best loss: 0.1282530988344483]/home/user/kuei_jan_CHU/PGClustered_ESN/Methods/./Utils/global_utils.py:289: RuntimeWarning: invalid value encountered in divide\n",
      "  trajectory = (trajectory-trajectory.mean())/trajectory.std()\n",
      "\n",
      "/home/user/kuei_jan_CHU/PGClustered_ESN/Methods/./Utils/global_utils.py:301: RuntimeWarning: Mean of empty slice\n",
      "  spectrum = np.nanmean(np.array(spectrum),axis=0)\n",
      "\n",
      "100%|█████████| 30/30 [33:40<00:00, 67.35s/trial, best loss: 0.1204872559516065]\n",
      "{'in_cluster_weight': 0.5, 'noise_level': 5, 'radius': 0.3, 'regularization': 0.01, 'sigma_input': 1.5}\n"
     ]
    }
   ],
   "source": [
    "!bash ./0_AsymPGClustered_ESN_Tune.sh \"tune\" 400 1 1 7 \"random_search.json\" "
   ]
  },
  {
   "cell_type": "code",
   "execution_count": 51,
   "metadata": {
    "editable": true,
    "slideshow": {
     "slide_type": ""
    },
    "tags": []
   },
   "outputs": [
    {
     "name": "stdout",
     "output_type": "stream",
     "text": [
      "AVERAGE RMNSE ERROR ON TRAIN DATA SET: 1.1567192642454265 ± 0.006137862499575991\n",
      "AVG NUMBER OF ACCURATE 0.5 PREDICTIONS ON TRAIN DATA SET: 3.3947176636191414 ± 0.11274994700474496\n",
      "AVG NUMBER OF ACCURATE 1 PREDICTIONS ON TRAIN DATA SET: 4.039687760921405 ± 0.14563663188329265\n",
      "POWER SPECTRUM MEAN ERROR ON TRAIN DATA SET: 2.8203576923357607 ± 0.3867070463927932\n",
      "TEMPORAL DISTANCE ON TRAIN DATA SET: 0.12777349043951197 ± 0.00228411817781355\n",
      "GEOMETRICAL DISTANCE ON TRAIN DATA SET: 0.01665104658659087 ± 0.0018791140059332377\n",
      "\n",
      "\n",
      "AVERAGE RMNSE ERROR ON TEST DATA SET: 1.173500777000659 ± 0.007362971265941326\n",
      "AVG NUMBER OF ACCURATE 0.5 PREDICTIONS ON TEST DATA SET: 3.2604356680696185 ± 0.11478924164040888\n",
      "AVG NUMBER OF ACCURATE 1 PREDICTIONS ON TEST DATA SET: 3.818117940887903 ± 0.12981725893063922\n",
      "POWER SPECTRUM MEAN ERROR ON TEST DATA SET: 3.486080527127288 ± 0.4760601017406907\n",
      "TEMPORAL DISTANCE ON TEST DATA SET: 0.1172378964095084 ± 0.0019268668947290124\n",
      "GEOMETRICAL DISTANCE ON TEST DATA SET: 0.01771290383742658 ± 0.0021601997559900694\n"
     ]
    }
   ],
   "source": [
    "!bash ./1_AsymPGClustered_ESN_Evaluate_Tuned_Model.sh \"evaluate_tuned_model\" 400 1 1 7 \"random_search.json\""
   ]
  },
  {
   "cell_type": "code",
   "execution_count": 54,
   "metadata": {},
   "outputs": [
    {
     "name": "stdout",
     "output_type": "stream",
     "text": [
      " 10%|▉        | 3/30 [04:07<36:49, 81.82s/trial, best loss: 0.12651731479540196]/home/user/kuei_jan_CHU/PGClustered_ESN/Methods/./Utils/global_utils.py:254: RuntimeWarning: divide by zero encountered in log10\n",
      "  s_dbfs = 20 * np.log10(s_mag)\n",
      "\n",
      " 13%|█▏       | 4/30 [05:10<32:18, 74.57s/trial, best loss: 0.12651731479540196]/home/user/kuei_jan_CHU/PGClustered_ESN/Methods/./Utils/global_utils.py:289: RuntimeWarning: invalid value encountered in divide\n",
      "  trajectory = (trajectory-trajectory.mean())/trajectory.std()\n",
      "\n",
      "100%|████████| 30/30 [35:33<00:00, 71.10s/trial, best loss: 0.12429072277900977]\n",
      "{'in_cluster_weight': 0.5, 'noise_level': 5, 'radius': 0.99, 'regularization': 0.01, 'sigma_input': 1.5}\n"
     ]
    }
   ],
   "source": [
    "!bash ./0_AsymPGClustered_ESN_Tune.sh \"tune\" 450 1 1 8 \"random_search.json\" "
   ]
  },
  {
   "cell_type": "code",
   "execution_count": 56,
   "metadata": {},
   "outputs": [
    {
     "name": "stdout",
     "output_type": "stream",
     "text": [
      "AVERAGE RMNSE ERROR ON TRAIN DATA SET: 1.1699304126411292 ± 0.007140391289802167\n",
      "AVG NUMBER OF ACCURATE 0.5 PREDICTIONS ON TRAIN DATA SET: 3.4068510334125586 ± 0.12339570244875087\n",
      "AVG NUMBER OF ACCURATE 1 PREDICTIONS ON TRAIN DATA SET: 3.933203858853813 ± 0.13624180361389923\n",
      "POWER SPECTRUM MEAN ERROR ON TRAIN DATA SET: 3.341543791184269 ± 0.44823193258167815\n",
      "TEMPORAL DISTANCE ON TRAIN DATA SET: 0.12782781844237398 ± 0.0025965970141329895\n",
      "GEOMETRICAL DISTANCE ON TRAIN DATA SET: 0.016964132138518946 ± 0.001900901169294425\n",
      "\n",
      "\n",
      "AVERAGE RMNSE ERROR ON TEST DATA SET: 1.1550848009565342 ± 0.008367155915886599\n",
      "AVG NUMBER OF ACCURATE 0.5 PREDICTIONS ON TEST DATA SET: 3.4705964985958793 ± 0.12755908511558417\n",
      "AVG NUMBER OF ACCURATE 1 PREDICTIONS ON TEST DATA SET: 3.975670653130769 ± 0.15810293971953204\n",
      "POWER SPECTRUM MEAN ERROR ON TEST DATA SET: 2.9791408380517224 ± 0.4098892053745231\n",
      "TEMPORAL DISTANCE ON TEST DATA SET: 0.11991477865928073 ± 0.002469045610116098\n",
      "GEOMETRICAL DISTANCE ON TEST DATA SET: 0.016425517522257314 ± 0.0017140030894492793\n"
     ]
    }
   ],
   "source": [
    "!bash ./1_AsymPGClustered_ESN_Evaluate_Tuned_Model.sh \"evaluate_tuned_model\" 450 1 1 8 \"random_search.json\""
   ]
  },
  {
   "cell_type": "code",
   "execution_count": 58,
   "metadata": {},
   "outputs": [
    {
     "name": "stdout",
     "output_type": "stream",
     "text": [
      " 10%|▉        | 3/30 [03:56<34:26, 76.54s/trial, best loss: 0.12379799985282618]/home/user/kuei_jan_CHU/PGClustered_ESN/Methods/./Utils/global_utils.py:254: RuntimeWarning: divide by zero encountered in log10\n",
      "  s_dbfs = 20 * np.log10(s_mag)\n",
      "\n",
      " 13%|█▏       | 4/30 [04:43<28:02, 64.72s/trial, best loss: 0.12379799985282618]/home/user/kuei_jan_CHU/PGClustered_ESN/Methods/./Utils/global_utils.py:289: RuntimeWarning: invalid value encountered in divide\n",
      "  trajectory = (trajectory-trajectory.mean())/trajectory.std()\n",
      "\n",
      "100%|████████| 30/30 [37:12<00:00, 74.41s/trial, best loss: 0.12124329842739053]\n",
      "{'in_cluster_weight': 0.5, 'noise_level': 5, 'radius': 0.9, 'regularization': 0.01, 'sigma_input': 0.9}\n"
     ]
    }
   ],
   "source": [
    "!bash ./0_AsymPGClustered_ESN_Tune.sh \"tune\" 500 1 1 9 \"random_search.json\" "
   ]
  },
  {
   "cell_type": "code",
   "execution_count": 59,
   "metadata": {},
   "outputs": [
    {
     "name": "stdout",
     "output_type": "stream",
     "text": [
      "AVERAGE RMNSE ERROR ON TRAIN DATA SET: 1.1626476165987303 ± 0.008987111247944412\n",
      "AVG NUMBER OF ACCURATE 0.5 PREDICTIONS ON TRAIN DATA SET: 3.4685139052731286 ± 0.11872167753363792\n",
      "AVG NUMBER OF ACCURATE 1 PREDICTIONS ON TRAIN DATA SET: 3.976938318631574 ± 0.12496198622192108\n",
      "POWER SPECTRUM MEAN ERROR ON TRAIN DATA SET: 2.831770770654497 ± 0.5058532333827874\n",
      "TEMPORAL DISTANCE ON TRAIN DATA SET: 0.1248162575555436 ± 0.0020526551393124626\n",
      "GEOMETRICAL DISTANCE ON TRAIN DATA SET: 0.014809957307014046 ± 0.0018998902469531916\n",
      "\n",
      "\n",
      "AVERAGE RMNSE ERROR ON TEST DATA SET: 1.1488755516608795 ± 0.007005365218972146\n",
      "AVG NUMBER OF ACCURATE 0.5 PREDICTIONS ON TEST DATA SET: 3.70439023595857 ± 0.12821631190864033\n",
      "AVG NUMBER OF ACCURATE 1 PREDICTIONS ON TEST DATA SET: 4.123715874117601 ± 0.1356931994979971\n",
      "POWER SPECTRUM MEAN ERROR ON TEST DATA SET: 3.1075196188451564 ± 0.4585985311421471\n",
      "TEMPORAL DISTANCE ON TEST DATA SET: 0.11691742983640682 ± 0.0015789595129798689\n",
      "GEOMETRICAL DISTANCE ON TEST DATA SET: 0.01778582981282954 ± 0.0024398238274206427\n"
     ]
    }
   ],
   "source": [
    "!bash ./1_AsymPGClustered_ESN_Evaluate_Tuned_Model.sh \"evaluate_tuned_model\" 500 1 1 9 \"random_search.json\""
   ]
  },
  {
   "cell_type": "code",
   "execution_count": null,
   "metadata": {
    "editable": true,
    "slideshow": {
     "slide_type": ""
    },
    "tags": []
   },
   "outputs": [],
   "source": []
  },
  {
   "cell_type": "code",
   "execution_count": null,
   "metadata": {},
   "outputs": [],
   "source": []
  },
  {
   "cell_type": "code",
   "execution_count": null,
   "metadata": {},
   "outputs": [],
   "source": []
  },
  {
   "cell_type": "code",
   "execution_count": null,
   "metadata": {},
   "outputs": [],
   "source": []
  }
 ],
 "metadata": {
  "kernelspec": {
   "display_name": "Python 3 (ipykernel)",
   "language": "python",
   "name": "python3"
  },
  "language_info": {
   "codemirror_mode": {
    "name": "ipython",
    "version": 3
   },
   "file_extension": ".py",
   "mimetype": "text/x-python",
   "name": "python",
   "nbconvert_exporter": "python",
   "pygments_lexer": "ipython3",
   "version": "3.11.8"
  }
 },
 "nbformat": 4,
 "nbformat_minor": 4
}
