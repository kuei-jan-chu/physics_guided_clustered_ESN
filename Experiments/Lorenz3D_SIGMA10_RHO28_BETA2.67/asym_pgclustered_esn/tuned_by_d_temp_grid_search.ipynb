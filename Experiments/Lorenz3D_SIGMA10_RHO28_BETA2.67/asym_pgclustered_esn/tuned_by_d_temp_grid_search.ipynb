{
 "cells": [
  {
   "cell_type": "markdown",
   "metadata": {
    "editable": true,
    "slideshow": {
     "slide_type": ""
    },
    "tags": []
   },
   "source": [
    "# noise level 5, metric: d_temp"
   ]
  },
  {
   "cell_type": "code",
   "execution_count": 1,
   "metadata": {},
   "outputs": [
    {
     "name": "stdout",
     "output_type": "stream",
     "text": [
      "Grid Search Progress:   0%|                                               | 0/25 [00:00<?, ?trial/s]/home/user/kuei_jan_CHU/PGClustered_ESN/Methods/./Utils/global_utils.py:255: RuntimeWarning: divide by zero encountered in log10\n",
      "  s_dbfs = 20 * np.log10(s_mag)\n",
      "/home/user/kuei_jan_CHU/PGClustered_ESN/Methods/./Utils/global_utils.py:290: RuntimeWarning: invalid value encountered in divide\n",
      "  trajectory = (trajectory-trajectory.mean())/trajectory.std()\n",
      "Grid Search Progress:  24%|██▉         | 6/25 [03:03<10:05, 31.86s/trial, Current Best Loss=0.72405]/home/user/kuei_jan_CHU/PGClustered_ESN/Methods/./Utils/global_utils.py:302: RuntimeWarning: Mean of empty slice\n",
      "  spectrum = np.nanmean(np.array(spectrum),axis=0)\n",
      "Grid Search Progress: 100%|███████████| 25/25 [13:25<00:00, 32.20s/trial, Current Best Loss=0.72405]\n",
      "{'radius': 0.4, 'sigma_input': 0.1, 'regularization': 0.01, 'in_cluster_weight': 0.5, 'noise_level': 5}\n"
     ]
    }
   ],
   "source": [
    "!bash ./0_AsymPGClustered_ESN_Tune.sh \"tune\" 3 1 1 0 \"grid_search.json\" "
   ]
  },
  {
   "cell_type": "code",
   "execution_count": 1,
   "metadata": {},
   "outputs": [
    {
     "name": "stdout",
     "output_type": "stream",
     "text": [
      "{'radius': 0.4, 'sigma_input': 0.1, 'regularization': 0.01, 'in_cluster_weight': 0.5, 'noise_level': 5}\n",
      "/home/user/anaconda3/lib/python3.11/site-packages/numpy/core/_methods.py:236: RuntimeWarning: invalid value encountered in subtract\n",
      "  x = asanyarray(arr - arrmean)\n",
      "AVERAGE RMNSE ERROR ON TRAIN DATA SET: 1.2584908260025316 ± 0.15124252659559795\n",
      "AVG NUMBER OF ACCURATE 0.5 PREDICTIONS ON TRAIN DATA SET: 0.02688618510794616 ± 0.017841899870738417\n",
      "AVG NUMBER OF ACCURATE 1 PREDICTIONS ON TRAIN DATA SET: 0.11263131599274741 ± 0.06005755064342422\n",
      "POWER SPECTRUM MEAN ERROR ON TRAIN DATA SET: inf ± nan\n",
      "TEMPORAL DISTANCE ON TRAIN DATA SET: 0.6885998756320343 ± 0.19377147173280945\n",
      "GEOMETRICAL DISTANCE ON TRAIN DATA SET: 2.0242506030014242 ± 0.6622545917927835\n",
      "\n",
      "\n",
      "AVERAGE RMNSE ERROR ON TEST DATA SET: 1.234315315545779 ± 0.16144992099741465\n",
      "AVG NUMBER OF ACCURATE 0.5 PREDICTIONS ON TEST DATA SET: 0.06303720427336026 ± 0.012235000513538713\n",
      "AVG NUMBER OF ACCURATE 1 PREDICTIONS ON TEST DATA SET: 0.23107586119802379 ± 0.09764150730956266\n",
      "POWER SPECTRUM MEAN ERROR ON TEST DATA SET: inf ± nan\n",
      "TEMPORAL DISTANCE ON TEST DATA SET: 0.6917890211724198 ± 0.18924382140789694\n",
      "GEOMETRICAL DISTANCE ON TEST DATA SET: 1.9980195781997345 ± 0.6944856672378985\n"
     ]
    }
   ],
   "source": [
    "!bash ./1_AsymPGClustered_ESN_Evaluate_Tuned_Model.sh \"evaluate_tuned_model\" 3 1 1 0 \"grid_search.json\""
   ]
  },
  {
   "cell_type": "code",
   "execution_count": 1,
   "metadata": {},
   "outputs": [
    {
     "name": "stdout",
     "output_type": "stream",
     "text": [
      "Grid Search Progress:   0%|                                               | 0/25 [00:00<?, ?trial/s]/home/user/kuei_jan_CHU/PGClustered_ESN/Methods/./Utils/global_utils.py:256: RuntimeWarning: divide by zero encountered in log10\n",
      "  s_dbfs = 20 * np.log10(s_mag)\n",
      "/home/user/kuei_jan_CHU/PGClustered_ESN/Methods/./Utils/global_utils.py:291: RuntimeWarning: invalid value encountered in divide\n",
      "  trajectory = (trajectory-trajectory.mean())/trajectory.std()\n",
      "/home/user/kuei_jan_CHU/PGClustered_ESN/Methods/./Utils/global_utils.py:303: RuntimeWarning: Mean of empty slice\n",
      "  spectrum = np.nanmean(np.array(spectrum),axis=0)\n",
      "Grid Search Progress: 100%|███████████| 25/25 [15:16<00:00, 36.66s/trial, Current Best Loss=0.50650]\n",
      "{'radius': 0.9, 'sigma_input': 0.1, 'regularization': 0.01, 'in_cluster_weight': 0.5, 'noise_level': 5}\n"
     ]
    }
   ],
   "source": [
    "!bash ./0_AsymPGClustered_ESN_Tune.sh \"tune\" 25 1 1 1 \"grid_search.json\" "
   ]
  },
  {
   "cell_type": "code",
   "execution_count": 2,
   "metadata": {},
   "outputs": [
    {
     "name": "stdout",
     "output_type": "stream",
     "text": [
      "{'radius': 0.9, 'sigma_input': 0.1, 'regularization': 0.01, 'in_cluster_weight': 0.5, 'noise_level': 5}\n",
      "/home/user/anaconda3/lib/python3.11/site-packages/numpy/core/_methods.py:236: RuntimeWarning: invalid value encountered in subtract\n",
      "  x = asanyarray(arr - arrmean)\n",
      "AVERAGE RMNSE ERROR ON TRAIN DATA SET: 2.9394684193711687 ± 2.6232769175589867\n",
      "AVG NUMBER OF ACCURATE 0.5 PREDICTIONS ON TRAIN DATA SET: 1.0226741828728574 ± 0.4342866024235842\n",
      "AVG NUMBER OF ACCURATE 1 PREDICTIONS ON TRAIN DATA SET: 1.4201537302795209 ± 0.47927860094749786\n",
      "POWER SPECTRUM MEAN ERROR ON TRAIN DATA SET: inf ± nan\n",
      "TEMPORAL DISTANCE ON TRAIN DATA SET: 0.4876023882752497 ± 0.24454415675863514\n",
      "GEOMETRICAL DISTANCE ON TRAIN DATA SET: inf ± nan\n",
      "\n",
      "\n",
      "AVERAGE RMNSE ERROR ON TEST DATA SET: 2.9475115842397495 ± 2.6940775458121435\n",
      "AVG NUMBER OF ACCURATE 0.5 PREDICTIONS ON TEST DATA SET: 1.0850755652010973 ± 0.3783709619115737\n",
      "AVG NUMBER OF ACCURATE 1 PREDICTIONS ON TEST DATA SET: 1.5577637655448535 ± 0.4608346425115231\n",
      "POWER SPECTRUM MEAN ERROR ON TEST DATA SET: inf ± nan\n",
      "TEMPORAL DISTANCE ON TEST DATA SET: 0.5102691965997941 ± 0.23403161175382792\n",
      "GEOMETRICAL DISTANCE ON TEST DATA SET: inf ± nan\n"
     ]
    }
   ],
   "source": [
    "!bash ./1_AsymPGClustered_ESN_Evaluate_Tuned_Model.sh \"evaluate_tuned_model\" 25 1 1 1 \"grid_search.json\""
   ]
  },
  {
   "cell_type": "code",
   "execution_count": 5,
   "metadata": {},
   "outputs": [
    {
     "name": "stdout",
     "output_type": "stream",
     "text": [
      "Grid Search Progress:   0%|                                               | 0/25 [00:00<?, ?trial/s]/home/user/kuei_jan_CHU/PGClustered_ESN/Methods/./Utils/global_utils.py:255: RuntimeWarning: divide by zero encountered in log10\n",
      "  s_dbfs = 20 * np.log10(s_mag)\n",
      "/home/user/kuei_jan_CHU/PGClustered_ESN/Methods/./Utils/global_utils.py:290: RuntimeWarning: invalid value encountered in divide\n",
      "  trajectory = (trajectory-trajectory.mean())/trajectory.std()\n",
      "Grid Search Progress:  20%|██▍         | 5/25 [04:20<17:27, 52.35s/trial, Current Best Loss=0.78155]/home/user/kuei_jan_CHU/PGClustered_ESN/Methods/./Utils/global_utils.py:302: RuntimeWarning: Mean of empty slice\n",
      "  spectrum = np.nanmean(np.array(spectrum),axis=0)\n",
      "Grid Search Progress: 100%|███████████| 25/25 [21:48<00:00, 52.35s/trial, Current Best Loss=0.31656]\n",
      "{'radius': 0.99, 'sigma_input': 0.5, 'regularization': 0.01, 'in_cluster_weight': 0.5, 'noise_level': 5}\n"
     ]
    }
   ],
   "source": [
    "!bash ./0_AsymPGClustered_ESN_Tune.sh \"tune\" 50 1 1 2 \"grid_search.json\" "
   ]
  },
  {
   "cell_type": "code",
   "execution_count": 3,
   "metadata": {},
   "outputs": [
    {
     "name": "stdout",
     "output_type": "stream",
     "text": [
      "{'radius': 0.99, 'sigma_input': 0.5, 'regularization': 0.01, 'in_cluster_weight': 0.5, 'noise_level': 5}\n",
      "AVERAGE RMNSE ERROR ON TRAIN DATA SET: 1.1802786328237957 ± 0.047521590554036826\n",
      "AVG NUMBER OF ACCURATE 0.5 PREDICTIONS ON TRAIN DATA SET: 1.6628560499026026 ± 0.30540479340016974\n",
      "AVG NUMBER OF ACCURATE 1 PREDICTIONS ON TRAIN DATA SET: 2.1488056793874404 ± 0.3211298556305034\n",
      "POWER SPECTRUM MEAN ERROR ON TRAIN DATA SET: 27.282368527809062 ± 28.728390633313794\n",
      "TEMPORAL DISTANCE ON TRAIN DATA SET: 0.3439350890042173 ± 0.1514374479519469\n",
      "GEOMETRICAL DISTANCE ON TRAIN DATA SET: 0.7537037896441882 ± 0.5876915098102788\n",
      "\n",
      "\n",
      "AVERAGE RMNSE ERROR ON TEST DATA SET: 1.1966430639166046 ± 0.024440573582067034\n",
      "AVG NUMBER OF ACCURATE 0.5 PREDICTIONS ON TEST DATA SET: 1.5287884511886547 ± 0.2097392217358205\n",
      "AVG NUMBER OF ACCURATE 1 PREDICTIONS ON TEST DATA SET: 1.91872896696032 ± 0.302212307483671\n",
      "POWER SPECTRUM MEAN ERROR ON TEST DATA SET: 26.707783475694793 ± 30.825472983136873\n",
      "TEMPORAL DISTANCE ON TEST DATA SET: 0.3724646826417171 ± 0.17205792867391678\n",
      "GEOMETRICAL DISTANCE ON TEST DATA SET: 0.8387632671965093 ± 0.6022950545759099\n"
     ]
    }
   ],
   "source": [
    "!bash ./1_AsymPGClustered_ESN_Evaluate_Tuned_Model.sh \"evaluate_tuned_model\" 50 1 1 2 \"grid_search.json\""
   ]
  },
  {
   "cell_type": "code",
   "execution_count": 7,
   "metadata": {},
   "outputs": [
    {
     "name": "stdout",
     "output_type": "stream",
     "text": [
      "Grid Search Progress:   0%|                                               | 0/25 [00:00<?, ?trial/s]/home/user/kuei_jan_CHU/PGClustered_ESN/Methods/./Utils/global_utils.py:255: RuntimeWarning: divide by zero encountered in log10\n",
      "  s_dbfs = 20 * np.log10(s_mag)\n",
      "/home/user/kuei_jan_CHU/PGClustered_ESN/Methods/./Utils/global_utils.py:290: RuntimeWarning: invalid value encountered in divide\n",
      "  trajectory = (trajectory-trajectory.mean())/trajectory.std()\n",
      "/home/user/kuei_jan_CHU/PGClustered_ESN/Methods/./Utils/global_utils.py:302: RuntimeWarning: Mean of empty slice\n",
      "  spectrum = np.nanmean(np.array(spectrum),axis=0)\n",
      "Grid Search Progress: 100%|███████████| 25/25 [30:50<00:00, 74.01s/trial, Current Best Loss=0.13970]\n",
      "{'radius': 0.9, 'sigma_input': 1.0, 'regularization': 0.01, 'in_cluster_weight': 0.5, 'noise_level': 5}\n"
     ]
    }
   ],
   "source": [
    "!bash ./0_AsymPGClustered_ESN_Tune.sh \"tune\" 100 1 1 3 \"grid_search.json\" "
   ]
  },
  {
   "cell_type": "code",
   "execution_count": 4,
   "metadata": {},
   "outputs": [
    {
     "name": "stdout",
     "output_type": "stream",
     "text": [
      "{'radius': 0.9, 'sigma_input': 1.0, 'regularization': 0.01, 'in_cluster_weight': 0.5, 'noise_level': 5}\n",
      "AVERAGE RMNSE ERROR ON TRAIN DATA SET: 1.1897478774254544 ± 0.027950246269467936\n",
      "AVG NUMBER OF ACCURATE 0.5 PREDICTIONS ON TRAIN DATA SET: 2.4262057108728037 ± 0.5378010953298241\n",
      "AVG NUMBER OF ACCURATE 1 PREDICTIONS ON TRAIN DATA SET: 3.018246773486294 ± 0.5280542404491064\n",
      "POWER SPECTRUM MEAN ERROR ON TRAIN DATA SET: 4.979661637997508 ± 7.1925629648946465\n",
      "TEMPORAL DISTANCE ON TRAIN DATA SET: 0.1448923656510807 ± 0.05961138371545083\n",
      "GEOMETRICAL DISTANCE ON TRAIN DATA SET: 0.12795410472270263 ± 0.22807045327320186\n",
      "\n",
      "\n",
      "AVERAGE RMNSE ERROR ON TEST DATA SET: 1.179436354100231 ± 0.0324514288808986\n",
      "AVG NUMBER OF ACCURATE 0.5 PREDICTIONS ON TEST DATA SET: 2.340006421455773 ± 0.43803222914318396\n",
      "AVG NUMBER OF ACCURATE 1 PREDICTIONS ON TEST DATA SET: 2.9671993544637743 ± 0.3722726269057662\n",
      "POWER SPECTRUM MEAN ERROR ON TEST DATA SET: 3.8030235899875664 ± 2.9167509694453835\n",
      "TEMPORAL DISTANCE ON TEST DATA SET: 0.14861663168835182 ± 0.06875179772304936\n",
      "GEOMETRICAL DISTANCE ON TEST DATA SET: 0.14679303917529435 ± 0.26200658929601756\n"
     ]
    }
   ],
   "source": [
    "!bash ./1_AsymPGClustered_ESN_Evaluate_Tuned_Model.sh \"evaluate_tuned_model\" 100 1 1 3 \"grid_search.json\""
   ]
  },
  {
   "cell_type": "code",
   "execution_count": 9,
   "metadata": {},
   "outputs": [
    {
     "name": "stdout",
     "output_type": "stream",
     "text": [
      "Grid Search Progress:   0%|                                               | 0/25 [00:00<?, ?trial/s]/home/user/kuei_jan_CHU/PGClustered_ESN/Methods/./Utils/global_utils.py:255: RuntimeWarning: divide by zero encountered in log10\n",
      "  s_dbfs = 20 * np.log10(s_mag)\n",
      "/home/user/kuei_jan_CHU/PGClustered_ESN/Methods/./Utils/global_utils.py:290: RuntimeWarning: invalid value encountered in divide\n",
      "  trajectory = (trajectory-trajectory.mean())/trajectory.std()\n",
      "/home/user/kuei_jan_CHU/PGClustered_ESN/Methods/./Utils/global_utils.py:302: RuntimeWarning: Mean of empty slice\n",
      "  spectrum = np.nanmean(np.array(spectrum),axis=0)\n",
      "Grid Search Progress: 100%|███████████| 25/25 [09:28<00:00, 22.72s/trial, Current Best Loss=0.12871]\n",
      "{'radius': 0.9, 'sigma_input': 1.0, 'regularization': 0.01, 'in_cluster_weight': 0.5, 'noise_level': 5}\n"
     ]
    }
   ],
   "source": [
    "!bash ./0_AsymPGClustered_ESN_Tune.sh \"tune\" 150 1 1 4 \"grid_search.json\" "
   ]
  },
  {
   "cell_type": "code",
   "execution_count": 5,
   "metadata": {},
   "outputs": [
    {
     "name": "stdout",
     "output_type": "stream",
     "text": [
      "{'radius': 0.9, 'sigma_input': 1.0, 'regularization': 0.01, 'in_cluster_weight': 0.5, 'noise_level': 5}\n",
      "AVERAGE RMNSE ERROR ON TRAIN DATA SET: 1.1824209395099285 ± 0.023970724300879216\n",
      "AVG NUMBER OF ACCURATE 0.5 PREDICTIONS ON TRAIN DATA SET: 2.6834411035272074 ± 0.2619653340009077\n",
      "AVG NUMBER OF ACCURATE 1 PREDICTIONS ON TRAIN DATA SET: 3.4334385036498807 ± 0.42232426328874956\n",
      "POWER SPECTRUM MEAN ERROR ON TRAIN DATA SET: 2.1897706724228585 ± 1.3425353785542424\n",
      "TEMPORAL DISTANCE ON TRAIN DATA SET: 0.11475752539876143 ± 0.005156626056741858\n",
      "GEOMETRICAL DISTANCE ON TRAIN DATA SET: 0.02116516583287023 ± 0.005563888585734973\n",
      "\n",
      "\n",
      "AVERAGE RMNSE ERROR ON TEST DATA SET: 1.15655657276968 ± 0.021725285829077137\n",
      "AVG NUMBER OF ACCURATE 0.5 PREDICTIONS ON TEST DATA SET: 2.978371654356603 ± 0.27883203542470064\n",
      "AVG NUMBER OF ACCURATE 1 PREDICTIONS ON TEST DATA SET: 3.5803133729726815 ± 0.23567600363435126\n",
      "POWER SPECTRUM MEAN ERROR ON TEST DATA SET: 3.21828317149716 ± 1.1061213776333936\n",
      "TEMPORAL DISTANCE ON TEST DATA SET: 0.10686255391624917 ± 0.0038579605307526776\n",
      "GEOMETRICAL DISTANCE ON TEST DATA SET: 0.01710600233156256 ± 0.005838615259849281\n"
     ]
    }
   ],
   "source": [
    "!bash ./1_AsymPGClustered_ESN_Evaluate_Tuned_Model.sh \"evaluate_tuned_model\" 150 1 1 4 \"grid_search.json\""
   ]
  },
  {
   "cell_type": "code",
   "execution_count": 11,
   "metadata": {},
   "outputs": [
    {
     "name": "stdout",
     "output_type": "stream",
     "text": [
      "Grid Search Progress:   0%|                                               | 0/25 [00:00<?, ?trial/s]/home/user/kuei_jan_CHU/PGClustered_ESN/Methods/./Utils/global_utils.py:255: RuntimeWarning: divide by zero encountered in log10\n",
      "  s_dbfs = 20 * np.log10(s_mag)\n",
      "/home/user/kuei_jan_CHU/PGClustered_ESN/Methods/./Utils/global_utils.py:290: RuntimeWarning: invalid value encountered in divide\n",
      "  trajectory = (trajectory-trajectory.mean())/trajectory.std()\n",
      "/home/user/kuei_jan_CHU/PGClustered_ESN/Methods/./Utils/global_utils.py:302: RuntimeWarning: Mean of empty slice\n",
      "  spectrum = np.nanmean(np.array(spectrum),axis=0)\n",
      "Grid Search Progress: 100%|███████████| 25/25 [10:27<00:00, 25.09s/trial, Current Best Loss=0.12869]\n",
      "{'radius': 0.99, 'sigma_input': 1.0, 'regularization': 0.01, 'in_cluster_weight': 0.5, 'noise_level': 5}\n"
     ]
    }
   ],
   "source": [
    "!bash ./0_AsymPGClustered_ESN_Tune.sh \"tune\" 200 1 1 5 \"grid_search.json\" "
   ]
  },
  {
   "cell_type": "code",
   "execution_count": 6,
   "metadata": {},
   "outputs": [
    {
     "name": "stdout",
     "output_type": "stream",
     "text": [
      "{'radius': 0.99, 'sigma_input': 1.0, 'regularization': 0.01, 'in_cluster_weight': 0.5, 'noise_level': 5}\n",
      "AVERAGE RMNSE ERROR ON TRAIN DATA SET: 1.1806961022767752 ± 0.02123741879529365\n",
      "AVG NUMBER OF ACCURATE 0.5 PREDICTIONS ON TRAIN DATA SET: 2.8513889287454255 ± 0.2699871594782314\n",
      "AVG NUMBER OF ACCURATE 1 PREDICTIONS ON TRAIN DATA SET: 3.505195551742035 ± 0.43632946243062415\n",
      "POWER SPECTRUM MEAN ERROR ON TRAIN DATA SET: 1.8365119799616667 ± 1.4572696854997422\n",
      "TEMPORAL DISTANCE ON TRAIN DATA SET: 0.11532311381736142 ± 0.004074971425943454\n",
      "GEOMETRICAL DISTANCE ON TRAIN DATA SET: 0.021543315785314474 ± 0.0056852929451536565\n",
      "\n",
      "\n",
      "AVERAGE RMNSE ERROR ON TEST DATA SET: 1.170463183581747 ± 0.022784434988161413\n",
      "AVG NUMBER OF ACCURATE 0.5 PREDICTIONS ON TEST DATA SET: 2.848028155606931 ± 0.33813614010692683\n",
      "AVG NUMBER OF ACCURATE 1 PREDICTIONS ON TEST DATA SET: 3.4256269768955456 ± 0.3850002785617509\n",
      "POWER SPECTRUM MEAN ERROR ON TEST DATA SET: 2.211006221538265 ± 1.3535516813825605\n",
      "TEMPORAL DISTANCE ON TEST DATA SET: 0.10963240304124297 ± 0.003461189128784617\n",
      "GEOMETRICAL DISTANCE ON TEST DATA SET: 0.020510825234111095 ± 0.014678847703669637\n"
     ]
    }
   ],
   "source": [
    "!bash ./1_AsymPGClustered_ESN_Evaluate_Tuned_Model.sh \"evaluate_tuned_model\" 200 1 1 5 \"grid_search.json\""
   ]
  },
  {
   "cell_type": "code",
   "execution_count": 13,
   "metadata": {},
   "outputs": [
    {
     "name": "stdout",
     "output_type": "stream",
     "text": [
      "Grid Search Progress:   0%|                                               | 0/25 [00:00<?, ?trial/s]/home/user/kuei_jan_CHU/PGClustered_ESN/Methods/./Utils/global_utils.py:255: RuntimeWarning: divide by zero encountered in log10\n",
      "  s_dbfs = 20 * np.log10(s_mag)\n",
      "/home/user/kuei_jan_CHU/PGClustered_ESN/Methods/./Utils/global_utils.py:290: RuntimeWarning: invalid value encountered in divide\n",
      "  trajectory = (trajectory-trajectory.mean())/trajectory.std()\n",
      "/home/user/kuei_jan_CHU/PGClustered_ESN/Methods/./Utils/global_utils.py:302: RuntimeWarning: Mean of empty slice\n",
      "  spectrum = np.nanmean(np.array(spectrum),axis=0)\n",
      "Grid Search Progress: 100%|███████████| 25/25 [10:44<00:00, 25.80s/trial, Current Best Loss=0.12384]\n",
      "{'radius': 0.7, 'sigma_input': 1.0, 'regularization': 0.01, 'in_cluster_weight': 0.5, 'noise_level': 5}\n"
     ]
    }
   ],
   "source": [
    "!bash ./0_AsymPGClustered_ESN_Tune.sh \"tune\" 250 1 1 6 \"grid_search.json\" "
   ]
  },
  {
   "cell_type": "code",
   "execution_count": 7,
   "metadata": {},
   "outputs": [
    {
     "name": "stdout",
     "output_type": "stream",
     "text": [
      "{'radius': 0.7, 'sigma_input': 1.0, 'regularization': 0.01, 'in_cluster_weight': 0.5, 'noise_level': 5}\n",
      "AVERAGE RMNSE ERROR ON TRAIN DATA SET: 1.1768849446310035 ± 0.030435383327357984\n",
      "AVG NUMBER OF ACCURATE 0.5 PREDICTIONS ON TRAIN DATA SET: 3.0813748094660993 ± 0.42750060122445427\n",
      "AVG NUMBER OF ACCURATE 1 PREDICTIONS ON TRAIN DATA SET: 3.5391666099527503 ± 0.46717338338681247\n",
      "POWER SPECTRUM MEAN ERROR ON TRAIN DATA SET: 2.2776246074111626 ± 2.0162766757776214\n",
      "TEMPORAL DISTANCE ON TRAIN DATA SET: 0.11342405673494933 ± 0.007581449168112514\n",
      "GEOMETRICAL DISTANCE ON TRAIN DATA SET: 0.018477937542885688 ± 0.00508245569722561\n",
      "\n",
      "\n",
      "AVERAGE RMNSE ERROR ON TEST DATA SET: 1.1559324428264621 ± 0.0227186189993547\n",
      "AVG NUMBER OF ACCURATE 0.5 PREDICTIONS ON TEST DATA SET: 3.326075426630988 ± 0.3430901968362801\n",
      "AVG NUMBER OF ACCURATE 1 PREDICTIONS ON TEST DATA SET: 3.8086642829773325 ± 0.3867960156867503\n",
      "POWER SPECTRUM MEAN ERROR ON TEST DATA SET: 2.113047729800889 ± 1.4343747798377857\n",
      "TEMPORAL DISTANCE ON TEST DATA SET: 0.10338833783966964 ± 0.004726931820423614\n",
      "GEOMETRICAL DISTANCE ON TEST DATA SET: 0.015334156120797433 ± 0.005507438848363577\n"
     ]
    }
   ],
   "source": [
    "!bash ./1_AsymPGClustered_ESN_Evaluate_Tuned_Model.sh \"evaluate_tuned_model\" 250 1 1 6 \"grid_search.json\""
   ]
  },
  {
   "cell_type": "code",
   "execution_count": 15,
   "metadata": {},
   "outputs": [
    {
     "name": "stdout",
     "output_type": "stream",
     "text": [
      "Grid Search Progress:   0%|                                               | 0/25 [00:00<?, ?trial/s]/home/user/kuei_jan_CHU/PGClustered_ESN/Methods/./Utils/global_utils.py:255: RuntimeWarning: divide by zero encountered in log10\n",
      "  s_dbfs = 20 * np.log10(s_mag)\n",
      "/home/user/kuei_jan_CHU/PGClustered_ESN/Methods/./Utils/global_utils.py:290: RuntimeWarning: invalid value encountered in divide\n",
      "  trajectory = (trajectory-trajectory.mean())/trajectory.std()\n",
      "/home/user/kuei_jan_CHU/PGClustered_ESN/Methods/./Utils/global_utils.py:302: RuntimeWarning: Mean of empty slice\n",
      "  spectrum = np.nanmean(np.array(spectrum),axis=0)\n",
      "Grid Search Progress: 100%|███████████| 25/25 [11:53<00:00, 28.56s/trial, Current Best Loss=0.12419]\n",
      "{'radius': 0.7, 'sigma_input': 1.5, 'regularization': 0.01, 'in_cluster_weight': 0.5, 'noise_level': 5}\n"
     ]
    }
   ],
   "source": [
    "!bash ./0_AsymPGClustered_ESN_Tune.sh \"tune\" 300 1 1 7 \"grid_search.json\" "
   ]
  },
  {
   "cell_type": "code",
   "execution_count": 8,
   "metadata": {},
   "outputs": [
    {
     "name": "stdout",
     "output_type": "stream",
     "text": [
      "{'radius': 0.7, 'sigma_input': 1.5, 'regularization': 0.01, 'in_cluster_weight': 0.5, 'noise_level': 5}\n",
      "AVERAGE RMNSE ERROR ON TRAIN DATA SET: 1.1733286874425373 ± 0.02498489116166687\n",
      "AVG NUMBER OF ACCURATE 0.5 PREDICTIONS ON TRAIN DATA SET: 2.970741791015159 ± 0.29081390437741333\n",
      "AVG NUMBER OF ACCURATE 1 PREDICTIONS ON TRAIN DATA SET: 3.3951983552362153 ± 0.42616789566029795\n",
      "POWER SPECTRUM MEAN ERROR ON TRAIN DATA SET: 1.5332793310488817 ± 1.1604876272509044\n",
      "TEMPORAL DISTANCE ON TRAIN DATA SET: 0.11722073946814057 ± 0.006706816640677131\n",
      "GEOMETRICAL DISTANCE ON TRAIN DATA SET: 0.01846397625655984 ± 0.006148226087805895\n",
      "\n",
      "\n",
      "AVERAGE RMNSE ERROR ON TEST DATA SET: 1.1742128709057706 ± 0.029672083636263533\n",
      "AVG NUMBER OF ACCURATE 0.5 PREDICTIONS ON TEST DATA SET: 3.1333305455530764 ± 0.318216591135248\n",
      "AVG NUMBER OF ACCURATE 1 PREDICTIONS ON TEST DATA SET: 3.600932170335869 ± 0.36006843289941803\n",
      "POWER SPECTRUM MEAN ERROR ON TEST DATA SET: 1.8143870702380316 ± 0.7638209489997024\n",
      "TEMPORAL DISTANCE ON TEST DATA SET: 0.10624509719111437 ± 0.004971730807561694\n",
      "GEOMETRICAL DISTANCE ON TEST DATA SET: 0.0164832982277709 ± 0.0057127248328538134\n"
     ]
    }
   ],
   "source": [
    "!bash ./1_AsymPGClustered_ESN_Evaluate_Tuned_Model.sh \"evaluate_tuned_model\" 300 1 1 7 \"grid_search.json\""
   ]
  },
  {
   "cell_type": "code",
   "execution_count": 17,
   "metadata": {},
   "outputs": [
    {
     "name": "stdout",
     "output_type": "stream",
     "text": [
      "Grid Search Progress:   0%|                                               | 0/25 [00:00<?, ?trial/s]/home/user/kuei_jan_CHU/PGClustered_ESN/Methods/./Utils/global_utils.py:255: RuntimeWarning: divide by zero encountered in log10\n",
      "  s_dbfs = 20 * np.log10(s_mag)\n",
      "/home/user/kuei_jan_CHU/PGClustered_ESN/Methods/./Utils/global_utils.py:290: RuntimeWarning: invalid value encountered in divide\n",
      "  trajectory = (trajectory-trajectory.mean())/trajectory.std()\n",
      "/home/user/kuei_jan_CHU/PGClustered_ESN/Methods/./Utils/global_utils.py:302: RuntimeWarning: Mean of empty slice\n",
      "  spectrum = np.nanmean(np.array(spectrum),axis=0)\n",
      "Grid Search Progress: 100%|███████████| 25/25 [12:25<00:00, 29.81s/trial, Current Best Loss=0.12350]\n",
      "{'radius': 0.9, 'sigma_input': 1.0, 'regularization': 0.01, 'in_cluster_weight': 0.5, 'noise_level': 5}\n"
     ]
    }
   ],
   "source": [
    "!bash ./0_AsymPGClustered_ESN_Tune.sh \"tune\" 350 1 1 8 \"grid_search.json\" "
   ]
  },
  {
   "cell_type": "code",
   "execution_count": 9,
   "metadata": {},
   "outputs": [
    {
     "name": "stdout",
     "output_type": "stream",
     "text": [
      "{'radius': 0.9, 'sigma_input': 1.0, 'regularization': 0.01, 'in_cluster_weight': 0.5, 'noise_level': 5}\n",
      "AVERAGE RMNSE ERROR ON TRAIN DATA SET: 1.1783326756658306 ± 0.02051962248685483\n",
      "AVG NUMBER OF ACCURATE 0.5 PREDICTIONS ON TRAIN DATA SET: 3.244962712774921 ± 0.521601538902186\n",
      "AVG NUMBER OF ACCURATE 1 PREDICTIONS ON TRAIN DATA SET: 3.7745115613537252 ± 0.5858727095362017\n",
      "POWER SPECTRUM MEAN ERROR ON TRAIN DATA SET: 1.9898194187660891 ± 1.281600640151367\n",
      "TEMPORAL DISTANCE ON TRAIN DATA SET: 0.11229353481479656 ± 0.008838130696472456\n",
      "GEOMETRICAL DISTANCE ON TRAIN DATA SET: 0.018476771023050072 ± 0.005337519649631012\n",
      "\n",
      "\n",
      "AVERAGE RMNSE ERROR ON TEST DATA SET: 1.1699001463950878 ± 0.0352321916643182\n",
      "AVG NUMBER OF ACCURATE 0.5 PREDICTIONS ON TEST DATA SET: 3.309816551177196 ± 0.3886515500015162\n",
      "AVG NUMBER OF ACCURATE 1 PREDICTIONS ON TEST DATA SET: 3.832825516891906 ± 0.40437232110881427\n",
      "POWER SPECTRUM MEAN ERROR ON TEST DATA SET: 2.509434176207195 ± 1.5248506753357047\n",
      "TEMPORAL DISTANCE ON TEST DATA SET: 0.10505626450966539 ± 0.005173291853369033\n",
      "GEOMETRICAL DISTANCE ON TEST DATA SET: 0.014766344254487742 ± 0.004808817173329026\n"
     ]
    }
   ],
   "source": [
    "!bash ./1_AsymPGClustered_ESN_Evaluate_Tuned_Model.sh \"evaluate_tuned_model\" 350 1 1 8 \"grid_search.json\""
   ]
  },
  {
   "cell_type": "code",
   "execution_count": 19,
   "metadata": {},
   "outputs": [
    {
     "name": "stdout",
     "output_type": "stream",
     "text": [
      "Grid Search Progress:   0%|                                               | 0/25 [00:00<?, ?trial/s]/home/user/kuei_jan_CHU/PGClustered_ESN/Methods/./Utils/global_utils.py:255: RuntimeWarning: divide by zero encountered in log10\n",
      "  s_dbfs = 20 * np.log10(s_mag)\n",
      "/home/user/kuei_jan_CHU/PGClustered_ESN/Methods/./Utils/global_utils.py:290: RuntimeWarning: invalid value encountered in divide\n",
      "  trajectory = (trajectory-trajectory.mean())/trajectory.std()\n",
      "/home/user/kuei_jan_CHU/PGClustered_ESN/Methods/./Utils/global_utils.py:302: RuntimeWarning: Mean of empty slice\n",
      "  spectrum = np.nanmean(np.array(spectrum),axis=0)\n",
      "Grid Search Progress: 100%|███████████| 25/25 [13:37<00:00, 32.68s/trial, Current Best Loss=0.12129]\n",
      "{'radius': 0.1, 'sigma_input': 1.5, 'regularization': 0.01, 'in_cluster_weight': 0.5, 'noise_level': 5}\n"
     ]
    }
   ],
   "source": [
    "!bash ./0_AsymPGClustered_ESN_Tune.sh \"tune\" 400 1 1 9 \"grid_search.json\" "
   ]
  },
  {
   "cell_type": "code",
   "execution_count": 10,
   "metadata": {
    "editable": true,
    "slideshow": {
     "slide_type": ""
    },
    "tags": []
   },
   "outputs": [
    {
     "name": "stdout",
     "output_type": "stream",
     "text": [
      "{'radius': 0.1, 'sigma_input': 1.5, 'regularization': 0.01, 'in_cluster_weight': 0.5, 'noise_level': 5}\n",
      "AVERAGE RMNSE ERROR ON TRAIN DATA SET: 1.1671137454566085 ± 0.015376401824175268\n",
      "AVG NUMBER OF ACCURATE 0.5 PREDICTIONS ON TRAIN DATA SET: 3.665241018499471 ± 0.4670777610054211\n",
      "AVG NUMBER OF ACCURATE 1 PREDICTIONS ON TRAIN DATA SET: 4.142470804165515 ± 0.5973206830674301\n",
      "POWER SPECTRUM MEAN ERROR ON TRAIN DATA SET: 1.3730840130333153 ± 1.212223518914113\n",
      "TEMPORAL DISTANCE ON TRAIN DATA SET: 0.11322204363464058 ± 0.0036487576021315433\n",
      "GEOMETRICAL DISTANCE ON TRAIN DATA SET: 0.018208153031664613 ± 0.005914566915304074\n",
      "\n",
      "\n",
      "AVERAGE RMNSE ERROR ON TEST DATA SET: 1.1548973227389978 ± 0.020229640505468306\n",
      "AVG NUMBER OF ACCURATE 0.5 PREDICTIONS ON TEST DATA SET: 3.4957490542716747 ± 0.36088391457082286\n",
      "AVG NUMBER OF ACCURATE 1 PREDICTIONS ON TEST DATA SET: 3.940279425617244 ± 0.32626136998773186\n",
      "POWER SPECTRUM MEAN ERROR ON TEST DATA SET: 2.849495197885561 ± 1.4645266560761507\n",
      "TEMPORAL DISTANCE ON TEST DATA SET: 0.10525097100709746 ± 0.005797518161901915\n",
      "GEOMETRICAL DISTANCE ON TEST DATA SET: 0.015986440938060342 ± 0.007670130713040906\n"
     ]
    }
   ],
   "source": [
    "!bash ./1_AsymPGClustered_ESN_Evaluate_Tuned_Model.sh \"evaluate_tuned_model\" 400 1 1 9 \"grid_search.json\""
   ]
  },
  {
   "cell_type": "code",
   "execution_count": null,
   "metadata": {},
   "outputs": [],
   "source": []
  }
 ],
 "metadata": {
  "kernelspec": {
   "display_name": "base",
   "language": "python",
   "name": "python3"
  },
  "language_info": {
   "codemirror_mode": {
    "name": "ipython",
    "version": 3
   },
   "file_extension": ".py",
   "mimetype": "text/x-python",
   "name": "python",
   "nbconvert_exporter": "python",
   "pygments_lexer": "ipython3",
   "version": "3.11.8"
  }
 },
 "nbformat": 4,
 "nbformat_minor": 4
}
