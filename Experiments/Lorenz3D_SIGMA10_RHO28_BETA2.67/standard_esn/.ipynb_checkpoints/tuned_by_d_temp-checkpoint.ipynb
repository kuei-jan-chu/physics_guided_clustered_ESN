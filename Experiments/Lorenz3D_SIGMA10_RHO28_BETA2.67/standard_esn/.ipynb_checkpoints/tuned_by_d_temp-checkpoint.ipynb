{
 "cells": [
  {
   "cell_type": "markdown",
   "metadata": {
    "editable": true,
    "slideshow": {
     "slide_type": ""
    },
    "tags": []
   },
   "source": [
    "# noise level 5, metric: d_temp"
   ]
  },
  {
   "cell_type": "code",
   "execution_count": 6,
   "metadata": {},
   "outputs": [
    {
     "name": "stdout",
     "output_type": "stream",
     "text": [
      "  0%|                                    | 0/30 [00:00<?, ?trial/s, best loss=?]/home/user/kuei_jan_CHU/PGClustered_ESN/Methods/./Utils/global_utils.py:254: RuntimeWarning: divide by zero encountered in log10\n",
      "  s_dbfs = 20 * np.log10(s_mag)\n",
      "\n",
      " 13%|█▎        | 4/30 [06:35<41:26, 95.65s/trial, best loss: 0.3167128589372225]/home/user/kuei_jan_CHU/PGClustered_ESN/Methods/./Utils/global_utils.py:289: RuntimeWarning: invalid value encountered in divide\n",
      "  trajectory = (trajectory-trajectory.mean())/trajectory.std()\n",
      "\n",
      " 47%|████▏    | 14/30 [23:31<25:53, 97.11s/trial, best loss: 0.3167128589372225]/home/user/kuei_jan_CHU/PGClustered_ESN/Methods/./Utils/global_utils.py:301: RuntimeWarning: Mean of empty slice\n",
      "  spectrum = np.nanmean(np.array(spectrum),axis=0)\n",
      "\n",
      "100%|████████| 30/30 [51:05<00:00, 102.19s/trial, best loss: 0.3167128589372225]\n",
      "{'in_cluster_weight': 0.5, 'noise_level': 5, 'radius': 0.9, 'regularization': 0.01, 'sigma_input': 0.5}\n"
     ]
    }
   ],
   "source": [
    "!bash ./0_Standard_ESN_Tune.sh \"tune\" 50 0.89 0.89 0 \"random_search.json\" "
   ]
  },
  {
   "cell_type": "code",
   "execution_count": 9,
   "metadata": {},
   "outputs": [
    {
     "name": "stdout",
     "output_type": "stream",
     "text": [
      "/home/user/kuei_jan_CHU/PGClustered_ESN/Methods/./Utils/global_utils.py:254: RuntimeWarning: divide by zero encountered in log10\n",
      "  s_dbfs = 20 * np.log10(s_mag)\n",
      "/home/user/anaconda3/lib/python3.11/site-packages/numpy/core/_methods.py:236: RuntimeWarning: invalid value encountered in subtract\n",
      "  x = asanyarray(arr - arrmean)\n",
      "AVERAGE RMNSE ERROR ON TRAIN DATA SET: 1.2991551511183568 ± 0.07570376134086336\n",
      "AVG NUMBER OF ACCURATE 0.5 PREDICTIONS ON TRAIN DATA SET: 1.3474378798195954 ± 0.08069689337060677\n",
      "AVG NUMBER OF ACCURATE 1 PREDICTIONS ON TRAIN DATA SET: 1.9525670613822836 ± 0.13576700240665987\n",
      "POWER SPECTRUM MEAN ERROR ON TRAIN DATA SET: inf ± nan\n",
      "TEMPORAL DISTANCE ON TRAIN DATA SET: 0.39066161826525125 ± 0.057261998827459595\n",
      "GEOMETRICAL DISTANCE ON TRAIN DATA SET: 1.1229375903892531 ± 0.5324997153456054\n",
      "\n",
      "\n",
      "AVERAGE RMNSE ERROR ON TEST DATA SET: 1.327553285926903 ± 0.10630165873810539\n",
      "AVG NUMBER OF ACCURATE 0.5 PREDICTIONS ON TEST DATA SET: 1.6269581227470258 ± 0.10017524135673964\n",
      "AVG NUMBER OF ACCURATE 1 PREDICTIONS ON TEST DATA SET: 2.0748967822099345 ± 0.13385176066243068\n",
      "POWER SPECTRUM MEAN ERROR ON TEST DATA SET: inf ± nan\n",
      "TEMPORAL DISTANCE ON TEST DATA SET: 0.3935747062097785 ± 0.05812574931459228\n",
      "GEOMETRICAL DISTANCE ON TEST DATA SET: 1.4556256609704228 ± 0.7919585869516474\n"
     ]
    }
   ],
   "source": [
    "!bash ./1_Standard_ESN_Evaluate_Tuned_Model.sh \"evaluate_tuned_model\" 50 0.89 0.89 0 \"random_search.json\" "
   ]
  },
  {
   "cell_type": "code",
   "execution_count": 12,
   "metadata": {},
   "outputs": [
    {
     "name": "stdout",
     "output_type": "stream",
     "text": [
      "  7%|▍     | 2/30 [04:42<1:06:24, 142.30s/trial, best loss: 0.17403610220540744]/home/user/kuei_jan_CHU/PGClustered_ESN/Methods/./Utils/global_utils.py:254: RuntimeWarning: divide by zero encountered in log10\n",
      "  s_dbfs = 20 * np.log10(s_mag)\n",
      "\n",
      " 13%|▊     | 4/30 [09:42<1:04:05, 147.91s/trial, best loss: 0.17403610220540744]/home/user/kuei_jan_CHU/PGClustered_ESN/Methods/./Utils/global_utils.py:289: RuntimeWarning: invalid value encountered in divide\n",
      "  trajectory = (trajectory-trajectory.mean())/trajectory.std()\n",
      "\n",
      "/home/user/kuei_jan_CHU/PGClustered_ESN/Methods/./Utils/global_utils.py:301: RuntimeWarning: Mean of empty slice\n",
      "  spectrum = np.nanmean(np.array(spectrum),axis=0)\n",
      "\n",
      "100%|█████| 30/30 [1:16:00<00:00, 152.01s/trial, best loss: 0.17172055664569236]\n",
      "{'in_cluster_weight': 0.5, 'noise_level': 5, 'radius': 1.1, 'regularization': 0.01, 'sigma_input': 0.5}\n"
     ]
    }
   ],
   "source": [
    "!bash ./0_Standard_ESN_Tune.sh \"tune\" 100 0.89 0.89 1 \"random_search.json\" "
   ]
  },
  {
   "cell_type": "code",
   "execution_count": 15,
   "metadata": {},
   "outputs": [
    {
     "name": "stdout",
     "output_type": "stream",
     "text": [
      "AVERAGE RMNSE ERROR ON TRAIN DATA SET: 1.181531286794906 ± 0.006246809333588768\n",
      "AVG NUMBER OF ACCURATE 0.5 PREDICTIONS ON TRAIN DATA SET: 2.1765816648816236 ± 0.11920931182390695\n",
      "AVG NUMBER OF ACCURATE 1 PREDICTIONS ON TRAIN DATA SET: 2.8056153958880565 ± 0.15532497749258223\n",
      "POWER SPECTRUM MEAN ERROR ON TRAIN DATA SET: 8.268381238967496 ± 2.112693771320584\n",
      "TEMPORAL DISTANCE ON TRAIN DATA SET: 0.21533486823815987 ± 0.020585638013671765\n",
      "GEOMETRICAL DISTANCE ON TRAIN DATA SET: 0.3428895025205495 ± 0.08770109818743393\n",
      "\n",
      "\n",
      "AVERAGE RMNSE ERROR ON TEST DATA SET: 1.194053449328426 ± 0.009814671436750261\n",
      "AVG NUMBER OF ACCURATE 0.5 PREDICTIONS ON TEST DATA SET: 2.1331188477111778 ± 0.11078440998164323\n",
      "AVG NUMBER OF ACCURATE 1 PREDICTIONS ON TEST DATA SET: 2.729827108447091 ± 0.14808768464970168\n",
      "POWER SPECTRUM MEAN ERROR ON TEST DATA SET: 5.733269367744323 ± 1.6656877162000763\n",
      "TEMPORAL DISTANCE ON TEST DATA SET: 0.22586657330187782 ± 0.03594359160462046\n",
      "GEOMETRICAL DISTANCE ON TEST DATA SET: 0.325880225995658 ± 0.10934768418195855\n"
     ]
    }
   ],
   "source": [
    "!bash ./1_Standard_ESN_Evaluate_Tuned_Model.sh \"evaluate_tuned_model\" 100 0.89 0.89 1 \"random_search.json\" "
   ]
  },
  {
   "cell_type": "code",
   "execution_count": 18,
   "metadata": {},
   "outputs": [
    {
     "name": "stdout",
     "output_type": "stream",
     "text": [
      "  0%|                                    | 0/30 [00:00<?, ?trial/s, best loss=?]/home/user/kuei_jan_CHU/PGClustered_ESN/Methods/./Utils/global_utils.py:254: RuntimeWarning: divide by zero encountered in log10\n",
      "  s_dbfs = 20 * np.log10(s_mag)\n",
      "\n",
      " 13%|█▏       | 4/30 [03:05<18:41, 43.14s/trial, best loss: 0.13754322632822802]/home/user/kuei_jan_CHU/PGClustered_ESN/Methods/./Utils/global_utils.py:289: RuntimeWarning: invalid value encountered in divide\n",
      "  trajectory = (trajectory-trajectory.mean())/trajectory.std()\n",
      "\n",
      " 47%|███▋    | 14/30 [10:33<10:47, 40.45s/trial, best loss: 0.13754322632822802]/home/user/kuei_jan_CHU/PGClustered_ESN/Methods/./Utils/global_utils.py:301: RuntimeWarning: Mean of empty slice\n",
      "  spectrum = np.nanmean(np.array(spectrum),axis=0)\n",
      "\n",
      "100%|████████| 30/30 [23:16<00:00, 46.55s/trial, best loss: 0.13710851963738882]\n",
      "{'in_cluster_weight': 0.5, 'noise_level': 5, 'radius': 0.3, 'regularization': 0.01, 'sigma_input': 1.3}\n"
     ]
    }
   ],
   "source": [
    "!bash ./0_Standard_ESN_Tune.sh \"tune\" 150 0.89 0.89 2 \"random_search.json\" "
   ]
  },
  {
   "cell_type": "code",
   "execution_count": 21,
   "metadata": {},
   "outputs": [
    {
     "name": "stdout",
     "output_type": "stream",
     "text": [
      "AVERAGE RMNSE ERROR ON TRAIN DATA SET: 1.1661953201997999 ± 0.007872644427809012\n",
      "AVG NUMBER OF ACCURATE 0.5 PREDICTIONS ON TRAIN DATA SET: 2.734897770450311 ± 0.16220523114157487\n",
      "AVG NUMBER OF ACCURATE 1 PREDICTIONS ON TRAIN DATA SET: 3.4016898238735687 ± 0.16280757041264318\n",
      "POWER SPECTRUM MEAN ERROR ON TRAIN DATA SET: 3.357669911513495 ± 0.5470115050542091\n",
      "TEMPORAL DISTANCE ON TRAIN DATA SET: 0.14656565888456266 ± 0.013240484207848483\n",
      "GEOMETRICAL DISTANCE ON TRAIN DATA SET: 0.06371255728969105 ± 0.03661569407408231\n",
      "\n",
      "\n",
      "AVERAGE RMNSE ERROR ON TEST DATA SET: 1.178289232522534 ± 0.008010304198647514\n",
      "AVG NUMBER OF ACCURATE 0.5 PREDICTIONS ON TEST DATA SET: 2.668254784122293 ± 0.12422378553873142\n",
      "AVG NUMBER OF ACCURATE 1 PREDICTIONS ON TEST DATA SET: 3.1853717609148275 ± 0.14509710308407467\n",
      "POWER SPECTRUM MEAN ERROR ON TEST DATA SET: 4.089262999316459 ± 0.6867567911444439\n",
      "TEMPORAL DISTANCE ON TEST DATA SET: 0.138796226367788 ± 0.014065241278640438\n",
      "GEOMETRICAL DISTANCE ON TEST DATA SET: 0.08533896498418164 ± 0.050256841359728514\n"
     ]
    }
   ],
   "source": [
    "!bash ./1_Standard_ESN_Evaluate_Tuned_Model.sh \"evaluate_tuned_model\" 150 0.89 0.89 2 \"random_search.json\" "
   ]
  },
  {
   "cell_type": "code",
   "execution_count": 24,
   "metadata": {},
   "outputs": [
    {
     "name": "stdout",
     "output_type": "stream",
     "text": [
      " 10%|▉        | 3/30 [03:15<28:24, 63.12s/trial, best loss: 0.12681400336996282]/home/user/kuei_jan_CHU/PGClustered_ESN/Methods/./Utils/global_utils.py:254: RuntimeWarning: divide by zero encountered in log10\n",
      "  s_dbfs = 20 * np.log10(s_mag)\n",
      "\n",
      "/home/user/kuei_jan_CHU/PGClustered_ESN/Methods/./Utils/global_utils.py:289: RuntimeWarning: invalid value encountered in divide\n",
      "  trajectory = (trajectory-trajectory.mean())/trajectory.std()\n",
      "\n",
      "100%|█████████| 30/30 [25:42<00:00, 51.40s/trial, best loss: 0.1201965799458228]\n",
      "{'in_cluster_weight': 0.5, 'noise_level': 5, 'radius': 0.7, 'regularization': 0.01, 'sigma_input': 1.1}\n"
     ]
    }
   ],
   "source": [
    "!bash ./0_Standard_ESN_Tune.sh \"tune\" 200 0.89 0.89 3 \"random_search.json\" "
   ]
  },
  {
   "cell_type": "code",
   "execution_count": 27,
   "metadata": {},
   "outputs": [
    {
     "name": "stdout",
     "output_type": "stream",
     "text": [
      "AVERAGE RMNSE ERROR ON TRAIN DATA SET: 1.1728622284150656 ± 0.009751342545547994\n",
      "AVG NUMBER OF ACCURATE 0.5 PREDICTIONS ON TRAIN DATA SET: 3.0683843446977113 ± 0.11489076164771422\n",
      "AVG NUMBER OF ACCURATE 1 PREDICTIONS ON TRAIN DATA SET: 3.6541363536052422 ± 0.12394183016785086\n",
      "POWER SPECTRUM MEAN ERROR ON TRAIN DATA SET: 2.809995910713295 ± 0.4236982542520946\n",
      "TEMPORAL DISTANCE ON TRAIN DATA SET: 0.12152807394494256 ± 0.0024626205357831973\n",
      "GEOMETRICAL DISTANCE ON TRAIN DATA SET: 0.018646940176162877 ± 0.002831993947960647\n",
      "\n",
      "\n",
      "AVERAGE RMNSE ERROR ON TEST DATA SET: 1.1760119673125775 ± 0.008086230422879395\n",
      "AVG NUMBER OF ACCURATE 0.5 PREDICTIONS ON TEST DATA SET: 3.0324369729963214 ± 0.0834405297072448\n",
      "AVG NUMBER OF ACCURATE 1 PREDICTIONS ON TEST DATA SET: 3.4488650900106563 ± 0.08689410328631716\n",
      "POWER SPECTRUM MEAN ERROR ON TEST DATA SET: 3.539403152364636 ± 0.5185561964605734\n",
      "TEMPORAL DISTANCE ON TEST DATA SET: 0.11777492944296604 ± 0.0020923979614971434\n",
      "GEOMETRICAL DISTANCE ON TEST DATA SET: 0.017206737374818298 ± 0.0021545849517500097\n"
     ]
    }
   ],
   "source": [
    "!bash ./1_Standard_ESN_Evaluate_Tuned_Model.sh \"evaluate_tuned_model\" 200 0.89 0.89 3 \"random_search.json\" "
   ]
  },
  {
   "cell_type": "code",
   "execution_count": 30,
   "metadata": {},
   "outputs": [
    {
     "name": "stdout",
     "output_type": "stream",
     "text": [
      " 10%|▉        | 3/30 [03:14<27:56, 62.10s/trial, best loss: 0.12677013763791156]/home/user/kuei_jan_CHU/PGClustered_ESN/Methods/./Utils/global_utils.py:254: RuntimeWarning: divide by zero encountered in log10\n",
      "  s_dbfs = 20 * np.log10(s_mag)\n",
      "\n",
      " 13%|█▏       | 4/30 [03:50<22:29, 51.91s/trial, best loss: 0.12677013763791156]/home/user/kuei_jan_CHU/PGClustered_ESN/Methods/./Utils/global_utils.py:289: RuntimeWarning: invalid value encountered in divide\n",
      "  trajectory = (trajectory-trajectory.mean())/trajectory.std()\n",
      "\n",
      "/home/user/kuei_jan_CHU/PGClustered_ESN/Methods/./Utils/global_utils.py:301: RuntimeWarning: Mean of empty slice\n",
      "  spectrum = np.nanmean(np.array(spectrum),axis=0)\n",
      "\n",
      "100%|████████| 30/30 [26:51<00:00, 53.71s/trial, best loss: 0.12291544506061344]\n",
      "{'in_cluster_weight': 0.5, 'noise_level': 5, 'radius': 0.3, 'regularization': 0.01, 'sigma_input': 1.3}\n"
     ]
    }
   ],
   "source": [
    "!bash ./0_Standard_ESN_Tune.sh \"tune\" 250 0.89 0.89 4 \"random_search.json\" "
   ]
  },
  {
   "cell_type": "code",
   "execution_count": 33,
   "metadata": {},
   "outputs": [
    {
     "name": "stdout",
     "output_type": "stream",
     "text": [
      "AVERAGE RMNSE ERROR ON TRAIN DATA SET: 1.1632941505362902 ± 0.009640668112700328\n",
      "AVG NUMBER OF ACCURATE 0.5 PREDICTIONS ON TRAIN DATA SET: 3.3333264343658877 ± 0.16757021075453235\n",
      "AVG NUMBER OF ACCURATE 1 PREDICTIONS ON TRAIN DATA SET: 3.8537031224462055 ± 0.1870239569331567\n",
      "POWER SPECTRUM MEAN ERROR ON TRAIN DATA SET: 3.5231032003098717 ± 0.5925823260058444\n",
      "TEMPORAL DISTANCE ON TRAIN DATA SET: 0.12930006938039013 ± 0.0026724021772537633\n",
      "GEOMETRICAL DISTANCE ON TRAIN DATA SET: 0.017042811133185294 ± 0.0018914733370995283\n",
      "\n",
      "\n",
      "AVERAGE RMNSE ERROR ON TEST DATA SET: 1.1521660864576222 ± 0.008182741818735857\n",
      "AVG NUMBER OF ACCURATE 0.5 PREDICTIONS ON TEST DATA SET: 3.3796867726810307 ± 0.134911950148563\n",
      "AVG NUMBER OF ACCURATE 1 PREDICTIONS ON TEST DATA SET: 3.869186751063178 ± 0.14758926572162098\n",
      "POWER SPECTRUM MEAN ERROR ON TEST DATA SET: 3.0936552857382216 ± 0.4587582052042447\n",
      "TEMPORAL DISTANCE ON TEST DATA SET: 0.11722605248774179 ± 0.0016287134166430494\n",
      "GEOMETRICAL DISTANCE ON TEST DATA SET: 0.015542372231930798 ± 0.0015887556372573563\n"
     ]
    }
   ],
   "source": [
    "!bash ./1_Standard_ESN_Evaluate_Tuned_Model.sh \"evaluate_tuned_model\" 250 0.89 0.89 4 \"random_search.json\""
   ]
  },
  {
   "cell_type": "code",
   "execution_count": 36,
   "metadata": {},
   "outputs": [
    {
     "name": "stdout",
     "output_type": "stream",
     "text": [
      " 10%|▉        | 3/30 [03:20<29:47, 66.22s/trial, best loss: 0.12452117493694452]/home/user/kuei_jan_CHU/PGClustered_ESN/Methods/./Utils/global_utils.py:254: RuntimeWarning: divide by zero encountered in log10\n",
      "  s_dbfs = 20 * np.log10(s_mag)\n",
      "\n",
      " 13%|█▏       | 4/30 [04:08<25:30, 58.87s/trial, best loss: 0.12452117493694452]/home/user/kuei_jan_CHU/PGClustered_ESN/Methods/./Utils/global_utils.py:289: RuntimeWarning: invalid value encountered in divide\n",
      "  trajectory = (trajectory-trajectory.mean())/trajectory.std()\n",
      "\n",
      "/home/user/kuei_jan_CHU/PGClustered_ESN/Methods/./Utils/global_utils.py:301: RuntimeWarning: Mean of empty slice\n",
      "  spectrum = np.nanmean(np.array(spectrum),axis=0)\n",
      "\n",
      "100%|████████| 30/30 [29:03<00:00, 58.12s/trial, best loss: 0.12024462897553116]\n",
      "{'in_cluster_weight': 0.5, 'noise_level': 5, 'radius': 0.7, 'regularization': 0.01, 'sigma_input': 1.1}\n"
     ]
    }
   ],
   "source": [
    "!bash ./0_Standard_ESN_Tune.sh \"tune\" 300 0.89 0.89 5 \"random_search.json\" "
   ]
  },
  {
   "cell_type": "code",
   "execution_count": 39,
   "metadata": {},
   "outputs": [
    {
     "name": "stdout",
     "output_type": "stream",
     "text": [
      "AVERAGE RMNSE ERROR ON TRAIN DATA SET: 1.1787657231733586 ± 0.008919874304501127\n",
      "AVG NUMBER OF ACCURATE 0.5 PREDICTIONS ON TRAIN DATA SET: 3.3220079923944175 ± 0.1424386129383269\n",
      "AVG NUMBER OF ACCURATE 1 PREDICTIONS ON TRAIN DATA SET: 4.019676755515847 ± 0.17022370286583544\n",
      "POWER SPECTRUM MEAN ERROR ON TRAIN DATA SET: 3.6894098962298565 ± 0.5479908141522215\n",
      "TEMPORAL DISTANCE ON TRAIN DATA SET: 0.12558543820542248 ± 0.002578286510107119\n",
      "GEOMETRICAL DISTANCE ON TRAIN DATA SET: 0.0158750530040577 ± 0.0030898665868101653\n",
      "\n",
      "\n",
      "AVERAGE RMNSE ERROR ON TEST DATA SET: 1.1537732570270305 ± 0.00791252817114677\n",
      "AVG NUMBER OF ACCURATE 0.5 PREDICTIONS ON TEST DATA SET: 3.609134228326675 ± 0.11049693342140127\n",
      "AVG NUMBER OF ACCURATE 1 PREDICTIONS ON TEST DATA SET: 4.027011105913359 ± 0.11615962263002846\n",
      "POWER SPECTRUM MEAN ERROR ON TEST DATA SET: 3.5306006886395975 ± 0.5800005004959293\n",
      "TEMPORAL DISTANCE ON TEST DATA SET: 0.11540702949670867 ± 0.0025467076172037027\n",
      "GEOMETRICAL DISTANCE ON TEST DATA SET: 0.016104487162556757 ± 0.002015887259894472\n"
     ]
    }
   ],
   "source": [
    "!bash ./1_Standard_ESN_Evaluate_Tuned_Model.sh \"evaluate_tuned_model\" 300 0.89 0.89 5 \"random_search.json\""
   ]
  },
  {
   "cell_type": "code",
   "execution_count": 42,
   "metadata": {},
   "outputs": [
    {
     "name": "stdout",
     "output_type": "stream",
     "text": [
      " 10%|▉        | 3/30 [03:16<26:57, 59.89s/trial, best loss: 0.12558099247832427]/home/user/kuei_jan_CHU/PGClustered_ESN/Methods/./Utils/global_utils.py:254: RuntimeWarning: divide by zero encountered in log10\n",
      "  s_dbfs = 20 * np.log10(s_mag)\n",
      "\n",
      " 13%|█▏       | 4/30 [03:51<21:41, 50.05s/trial, best loss: 0.12558099247832427]/home/user/kuei_jan_CHU/PGClustered_ESN/Methods/./Utils/global_utils.py:289: RuntimeWarning: invalid value encountered in divide\n",
      "  trajectory = (trajectory-trajectory.mean())/trajectory.std()\n",
      "\n",
      "100%|████████| 30/30 [30:48<00:00, 61.60s/trial, best loss: 0.12356328266168544]\n",
      "{'in_cluster_weight': 0.5, 'noise_level': 5, 'radius': 0.7, 'regularization': 0.01, 'sigma_input': 1.1}\n"
     ]
    }
   ],
   "source": [
    "!bash ./0_Standard_ESN_Tune.sh \"tune\" 350 0.89 0.89 6 \"random_search.json\" "
   ]
  },
  {
   "cell_type": "code",
   "execution_count": 45,
   "metadata": {},
   "outputs": [
    {
     "name": "stdout",
     "output_type": "stream",
     "text": [
      "AVERAGE RMNSE ERROR ON TRAIN DATA SET: 1.1630736298063433 ± 0.009151645520579628\n",
      "AVG NUMBER OF ACCURATE 0.5 PREDICTIONS ON TRAIN DATA SET: 3.404768440089808 ± 0.12175900960752711\n",
      "AVG NUMBER OF ACCURATE 1 PREDICTIONS ON TRAIN DATA SET: 3.9815562429559335 ± 0.14165484383253488\n",
      "POWER SPECTRUM MEAN ERROR ON TRAIN DATA SET: 2.333983084992675 ± 0.37800929873393924\n",
      "TEMPORAL DISTANCE ON TRAIN DATA SET: 0.12618667953110757 ± 0.0030385891695082373\n",
      "GEOMETRICAL DISTANCE ON TRAIN DATA SET: 0.017401678816754907 ± 0.0022734561053974903\n",
      "\n",
      "\n",
      "AVERAGE RMNSE ERROR ON TEST DATA SET: 1.1590166658063845 ± 0.007269806035024371\n",
      "AVG NUMBER OF ACCURATE 0.5 PREDICTIONS ON TEST DATA SET: 3.383761411790759 ± 0.07410977293605556\n",
      "AVG NUMBER OF ACCURATE 1 PREDICTIONS ON TEST DATA SET: 3.8818634060712234 ± 0.1146881547631696\n",
      "POWER SPECTRUM MEAN ERROR ON TEST DATA SET: 2.5092934902252546 ± 0.4180590219953962\n",
      "TEMPORAL DISTANCE ON TEST DATA SET: 0.11658159907546824 ± 0.0021844090976610112\n",
      "GEOMETRICAL DISTANCE ON TEST DATA SET: 0.019588153787157274 ± 0.002443290500141536\n"
     ]
    }
   ],
   "source": [
    "!bash ./1_Standard_ESN_Evaluate_Tuned_Model.sh \"evaluate_tuned_model\" 350 0.89 0.89 6 \"random_search.json\""
   ]
  },
  {
   "cell_type": "code",
   "execution_count": 48,
   "metadata": {},
   "outputs": [
    {
     "name": "stdout",
     "output_type": "stream",
     "text": [
      " 10%|▉        | 3/30 [03:45<34:20, 76.33s/trial, best loss: 0.12408176336571677]/home/user/kuei_jan_CHU/PGClustered_ESN/Methods/./Utils/global_utils.py:254: RuntimeWarning: divide by zero encountered in log10\n",
      "  s_dbfs = 20 * np.log10(s_mag)\n",
      "\n",
      "/home/user/kuei_jan_CHU/PGClustered_ESN/Methods/./Utils/global_utils.py:289: RuntimeWarning: invalid value encountered in divide\n",
      "  trajectory = (trajectory-trajectory.mean())/trajectory.std()\n",
      "\n",
      "100%|████████| 30/30 [33:52<00:00, 67.76s/trial, best loss: 0.12136363795168495]\n",
      "{'in_cluster_weight': 0.5, 'noise_level': 5, 'radius': 0.5, 'regularization': 0.01, 'sigma_input': 1.1}\n"
     ]
    }
   ],
   "source": [
    "!bash ./0_Standard_ESN_Tune.sh \"tune\" 400 0.89 0.89 7 \"random_search.json\" "
   ]
  },
  {
   "cell_type": "code",
   "execution_count": 51,
   "metadata": {
    "editable": true,
    "slideshow": {
     "slide_type": ""
    },
    "tags": []
   },
   "outputs": [
    {
     "name": "stdout",
     "output_type": "stream",
     "text": [
      "AVERAGE RMNSE ERROR ON TRAIN DATA SET: 1.1701824094243045 ± 0.007708373299737276\n",
      "AVG NUMBER OF ACCURATE 0.5 PREDICTIONS ON TRAIN DATA SET: 3.6056028744315767 ± 0.12712197850934845\n",
      "AVG NUMBER OF ACCURATE 1 PREDICTIONS ON TRAIN DATA SET: 4.2876974614002625 ± 0.13646361123989792\n",
      "POWER SPECTRUM MEAN ERROR ON TRAIN DATA SET: 2.7072144446640714 ± 0.48353707949137953\n",
      "TEMPORAL DISTANCE ON TRAIN DATA SET: 0.12582452821245743 ± 0.003022948526894798\n",
      "GEOMETRICAL DISTANCE ON TRAIN DATA SET: 0.01751722174281748 ± 0.0020149560576205043\n",
      "\n",
      "\n",
      "AVERAGE RMNSE ERROR ON TEST DATA SET: 1.154911383148934 ± 0.009867159375005083\n",
      "AVG NUMBER OF ACCURATE 0.5 PREDICTIONS ON TEST DATA SET: 3.6183700769753955 ± 0.10946881724703879\n",
      "AVG NUMBER OF ACCURATE 1 PREDICTIONS ON TEST DATA SET: 4.058521648361932 ± 0.12797655631458374\n",
      "POWER SPECTRUM MEAN ERROR ON TEST DATA SET: 3.412639754238383 ± 0.3670569308884485\n",
      "TEMPORAL DISTANCE ON TEST DATA SET: 0.11727324336824411 ± 0.002488077403286118\n",
      "GEOMETRICAL DISTANCE ON TEST DATA SET: 0.018713684498973197 ± 0.002570721536903428\n"
     ]
    }
   ],
   "source": [
    "!bash ./1_Standard_ESN_Evaluate_Tuned_Model.sh \"evaluate_tuned_model\" 400 0.89 0.89 7 \"random_search.json\""
   ]
  },
  {
   "cell_type": "code",
   "execution_count": 54,
   "metadata": {},
   "outputs": [
    {
     "name": "stdout",
     "output_type": "stream",
     "text": [
      " 10%|▉        | 3/30 [03:26<31:27, 69.92s/trial, best loss: 0.12287465773832551]/home/user/kuei_jan_CHU/PGClustered_ESN/Methods/./Utils/global_utils.py:254: RuntimeWarning: divide by zero encountered in log10\n",
      "  s_dbfs = 20 * np.log10(s_mag)\n",
      "\n",
      " 13%|█▏       | 4/30 [04:42<31:21, 72.38s/trial, best loss: 0.12287465773832551]/home/user/kuei_jan_CHU/PGClustered_ESN/Methods/./Utils/global_utils.py:289: RuntimeWarning: invalid value encountered in divide\n",
      "  trajectory = (trajectory-trajectory.mean())/trajectory.std()\n",
      "\n",
      " 47%|███▋    | 14/30 [16:41<20:06, 75.43s/trial, best loss: 0.12287465773832551]/home/user/kuei_jan_CHU/PGClustered_ESN/Methods/./Utils/global_utils.py:301: RuntimeWarning: Mean of empty slice\n",
      "  spectrum = np.nanmean(np.array(spectrum),axis=0)\n",
      "\n",
      "100%|████████| 30/30 [35:25<00:00, 70.84s/trial, best loss: 0.12210654712071453]\n",
      "{'in_cluster_weight': 0.5, 'noise_level': 5, 'radius': 0.1, 'regularization': 0.01, 'sigma_input': 1.5}\n"
     ]
    }
   ],
   "source": [
    "!bash ./0_Standard_ESN_Tune.sh \"tune\" 450 0.89 0.89 8 \"random_search.json\" "
   ]
  },
  {
   "cell_type": "code",
   "execution_count": 56,
   "metadata": {},
   "outputs": [
    {
     "name": "stdout",
     "output_type": "stream",
     "text": [
      "AVERAGE RMNSE ERROR ON TRAIN DATA SET: 1.1508759020373363 ± 0.00858515695116956\n",
      "AVG NUMBER OF ACCURATE 0.5 PREDICTIONS ON TRAIN DATA SET: 3.5873122722056814 ± 0.11273229640235824\n",
      "AVG NUMBER OF ACCURATE 1 PREDICTIONS ON TRAIN DATA SET: 4.151695062671076 ± 0.14427346564024118\n",
      "POWER SPECTRUM MEAN ERROR ON TRAIN DATA SET: 3.055284945669494 ± 0.4044792957980692\n",
      "TEMPORAL DISTANCE ON TRAIN DATA SET: 0.12638077036094708 ± 0.0021585880305514246\n",
      "GEOMETRICAL DISTANCE ON TRAIN DATA SET: 0.015561985839905817 ± 0.0012963087322763935\n",
      "\n",
      "\n",
      "AVERAGE RMNSE ERROR ON TEST DATA SET: 1.1567809692399096 ± 0.009967940158807599\n",
      "AVG NUMBER OF ACCURATE 0.5 PREDICTIONS ON TEST DATA SET: 3.402233109088199 ± 0.08727383288836103\n",
      "AVG NUMBER OF ACCURATE 1 PREDICTIONS ON TEST DATA SET: 3.846097129441378 ± 0.11051537445133845\n",
      "POWER SPECTRUM MEAN ERROR ON TEST DATA SET: 3.4770007657926647 ± 0.40922485437946826\n",
      "TEMPORAL DISTANCE ON TEST DATA SET: 0.11955939825543938 ± 0.0019511081070770677\n",
      "GEOMETRICAL DISTANCE ON TEST DATA SET: 0.014905929129334843 ± 0.0013252664886667907\n"
     ]
    }
   ],
   "source": [
    "!bash ./1_Standard_ESN_Evaluate_Tuned_Model.sh \"evaluate_tuned_model\" 450 0.89 0.89 8 \"random_search.json\""
   ]
  },
  {
   "cell_type": "code",
   "execution_count": 58,
   "metadata": {},
   "outputs": [
    {
     "name": "stdout",
     "output_type": "stream",
     "text": [
      " 10%|▉        | 3/30 [03:57<36:42, 81.56s/trial, best loss: 0.12901038718968508]/home/user/kuei_jan_CHU/PGClustered_ESN/Methods/./Utils/global_utils.py:254: RuntimeWarning: divide by zero encountered in log10\n",
      "  s_dbfs = 20 * np.log10(s_mag)\n",
      "\n",
      " 13%|█▏       | 4/30 [05:06<33:12, 76.63s/trial, best loss: 0.12901038718968508]/home/user/kuei_jan_CHU/PGClustered_ESN/Methods/./Utils/global_utils.py:289: RuntimeWarning: invalid value encountered in divide\n",
      "  trajectory = (trajectory-trajectory.mean())/trajectory.std()\n",
      "\n",
      "/home/user/kuei_jan_CHU/PGClustered_ESN/Methods/./Utils/global_utils.py:301: RuntimeWarning: Mean of empty slice\n",
      "  spectrum = np.nanmean(np.array(spectrum),axis=0)\n",
      "\n",
      "100%|████████| 30/30 [37:11<00:00, 74.38s/trial, best loss: 0.12386255149977843]\n",
      "{'in_cluster_weight': 0.5, 'noise_level': 5, 'radius': 0.3, 'regularization': 0.01, 'sigma_input': 1.3}\n"
     ]
    }
   ],
   "source": [
    "!bash ./0_Standard_ESN_Tune.sh \"tune\" 500 0.89 0.89 9 \"random_search.json\" "
   ]
  },
  {
   "cell_type": "code",
   "execution_count": 59,
   "metadata": {},
   "outputs": [
    {
     "name": "stdout",
     "output_type": "stream",
     "text": [
      "AVERAGE RMNSE ERROR ON TRAIN DATA SET: 1.149463297481144 ± 0.00883277187942795\n",
      "AVG NUMBER OF ACCURATE 0.5 PREDICTIONS ON TRAIN DATA SET: 3.6650020578978535 ± 0.1257015537404659\n",
      "AVG NUMBER OF ACCURATE 1 PREDICTIONS ON TRAIN DATA SET: 4.346010074437279 ± 0.14739317192786694\n",
      "POWER SPECTRUM MEAN ERROR ON TRAIN DATA SET: 2.903424429098348 ± 0.49919576684407446\n",
      "TEMPORAL DISTANCE ON TRAIN DATA SET: 0.1276837190392412 ± 0.0028346299174407557\n",
      "GEOMETRICAL DISTANCE ON TRAIN DATA SET: 0.01628265866952771 ± 0.002086615407650379\n",
      "\n",
      "\n",
      "AVERAGE RMNSE ERROR ON TEST DATA SET: 1.1644782610633715 ± 0.008405467130297283\n",
      "AVG NUMBER OF ACCURATE 0.5 PREDICTIONS ON TEST DATA SET: 3.459911889374812 ± 0.07802052001222826\n",
      "AVG NUMBER OF ACCURATE 1 PREDICTIONS ON TEST DATA SET: 3.9958627536078724 ± 0.11591510465836201\n",
      "POWER SPECTRUM MEAN ERROR ON TEST DATA SET: 3.8435501031207364 ± 0.5647460030275963\n",
      "TEMPORAL DISTANCE ON TEST DATA SET: 0.12340418168945147 ± 0.00349369931719973\n",
      "GEOMETRICAL DISTANCE ON TEST DATA SET: 0.019449241124241422 ± 0.0016514162889076736\n"
     ]
    }
   ],
   "source": [
    "!bash ./1_Standard_ESN_Evaluate_Tuned_Model.sh \"evaluate_tuned_model\" 500 0.89 0.89 9 \"random_search.json\""
   ]
  },
  {
   "cell_type": "code",
   "execution_count": null,
   "metadata": {
    "editable": true,
    "slideshow": {
     "slide_type": ""
    },
    "tags": []
   },
   "outputs": [],
   "source": []
  }
 ],
 "metadata": {
  "kernelspec": {
   "display_name": "Python 3 (ipykernel)",
   "language": "python",
   "name": "python3"
  },
  "language_info": {
   "codemirror_mode": {
    "name": "ipython",
    "version": 3
   },
   "file_extension": ".py",
   "mimetype": "text/x-python",
   "name": "python",
   "nbconvert_exporter": "python",
   "pygments_lexer": "ipython3",
   "version": "3.11.8"
  }
 },
 "nbformat": 4,
 "nbformat_minor": 4
}
