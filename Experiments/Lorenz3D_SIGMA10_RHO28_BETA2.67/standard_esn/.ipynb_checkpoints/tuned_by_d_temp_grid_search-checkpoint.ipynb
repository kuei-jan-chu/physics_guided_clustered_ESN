{
 "cells": [
  {
   "cell_type": "markdown",
   "metadata": {
    "editable": true,
    "slideshow": {
     "slide_type": ""
    },
    "tags": []
   },
   "source": [
    "# noise level 5, metric: d_temp"
   ]
  },
  {
   "cell_type": "code",
   "execution_count": 6,
   "metadata": {},
   "outputs": [
    {
     "name": "stdout",
     "output_type": "stream",
     "text": [
      "  0%|                                    | 0/30 [00:00<?, ?trial/s, best loss=?]/home/user/kuei_jan_CHU/PGClustered_ESN/Methods/./Utils/global_utils.py:254: RuntimeWarning: divide by zero encountered in log10\n",
      "  s_dbfs = 20 * np.log10(s_mag)\n",
      "\n",
      " 13%|█▎        | 4/30 [06:35<41:26, 95.65s/trial, best loss: 0.3167128589372225]/home/user/kuei_jan_CHU/PGClustered_ESN/Methods/./Utils/global_utils.py:289: RuntimeWarning: invalid value encountered in divide\n",
      "  trajectory = (trajectory-trajectory.mean())/trajectory.std()\n",
      "\n",
      " 47%|████▏    | 14/30 [23:31<25:53, 97.11s/trial, best loss: 0.3167128589372225]/home/user/kuei_jan_CHU/PGClustered_ESN/Methods/./Utils/global_utils.py:301: RuntimeWarning: Mean of empty slice\n",
      "  spectrum = np.nanmean(np.array(spectrum),axis=0)\n",
      "\n",
      "100%|████████| 30/30 [51:05<00:00, 102.19s/trial, best loss: 0.3167128589372225]\n",
      "{'in_cluster_weight': 0.5, 'noise_level': 5, 'radius': 0.9, 'regularization': 0.01, 'sigma_input': 0.5}\n"
     ]
    }
   ],
   "source": [
    "!bash ./0_Standard_ESN_Tune.sh \"tune\" 3 0.89 0.89 0 \"grid_search.json\" "
   ]
  },
  {
   "cell_type": "code",
   "execution_count": null,
   "metadata": {},
   "outputs": [
    {
     "name": "stdout",
     "output_type": "stream",
     "text": [
      "/home/user/anaconda3/lib/python3.11/site-packages/numpy/core/_methods.py:236: RuntimeWarning: invalid value encountered in subtract\n",
      "  x = asanyarray(arr - arrmean)\n",
      "AVERAGE RMNSE ERROR ON TRAIN DATA SET: 1.3043474435806455 ± 0.35000624170774386\n",
      "AVG NUMBER OF ACCURATE 0.5 PREDICTIONS ON TRAIN DATA SET: 1.4093723942874814 ± 0.3823466060984873\n",
      "AVG NUMBER OF ACCURATE 1 PREDICTIONS ON TRAIN DATA SET: 1.9889671707625318 ± 0.4694810183474746\n",
      "POWER SPECTRUM MEAN ERROR ON TRAIN DATA SET: inf ± nan\n",
      "TEMPORAL DISTANCE ON TRAIN DATA SET: 0.3796395439590815 ± 0.23801603760874815\n",
      "GEOMETRICAL DISTANCE ON TRAIN DATA SET: 1.2092182646679994 ± 2.5569936822834642\n",
      "\n",
      "\n",
      "AVERAGE RMNSE ERROR ON TEST DATA SET: 1.3284584279192173 ± 0.4664852790354508\n",
      "AVG NUMBER OF ACCURATE 0.5 PREDICTIONS ON TEST DATA SET: 1.6089391631284453 ± 0.39099668386324404\n",
      "AVG NUMBER OF ACCURATE 1 PREDICTIONS ON TEST DATA SET: 2.0339692960410978 ± 0.44502507344002223\n",
      "POWER SPECTRUM MEAN ERROR ON TEST DATA SET: inf ± nan\n",
      "TEMPORAL DISTANCE ON TEST DATA SET: 0.3835874186329529 ± 0.2445921080048908\n",
      "GEOMETRICAL DISTANCE ON TEST DATA SET: 1.4346964812209901 ± 3.4526560399631596\n"
     ]
    }
   ],
   "source": [
    "!bash ./1_Standard_ESN_Evaluate_Tuned_Model.sh \"evaluate_tuned_model\" 3 0.89 0.89 0 \"grid_search.json\" "
   ]
  },
  {
   "cell_type": "code",
   "execution_count": null,
   "metadata": {},
   "outputs": [
    {
     "name": "stdout",
     "output_type": "stream",
     "text": [
      "  0%|                                    | 0/30 [00:00<?, ?trial/s, best loss=?]/home/user/kuei_jan_CHU/PGClustered_ESN/Methods/./Utils/global_utils.py:254: RuntimeWarning: divide by zero encountered in log10\n",
      "  s_dbfs = 20 * np.log10(s_mag)\n",
      "\n",
      " 13%|█▎        | 4/30 [06:35<41:26, 95.65s/trial, best loss: 0.3167128589372225]/home/user/kuei_jan_CHU/PGClustered_ESN/Methods/./Utils/global_utils.py:289: RuntimeWarning: invalid value encountered in divide\n",
      "  trajectory = (trajectory-trajectory.mean())/trajectory.std()\n",
      "\n",
      " 47%|████▏    | 14/30 [23:31<25:53, 97.11s/trial, best loss: 0.3167128589372225]/home/user/kuei_jan_CHU/PGClustered_ESN/Methods/./Utils/global_utils.py:301: RuntimeWarning: Mean of empty slice\n",
      "  spectrum = np.nanmean(np.array(spectrum),axis=0)\n",
      "\n",
      "100%|████████| 30/30 [51:05<00:00, 102.19s/trial, best loss: 0.3167128589372225]\n",
      "{'in_cluster_weight': 0.5, 'noise_level': 5, 'radius': 0.9, 'regularization': 0.01, 'sigma_input': 0.5}\n"
     ]
    }
   ],
   "source": [
    "!bash ./0_Standard_ESN_Tune.sh \"tune\" 25 0.89 0.89 1 \"grid_search.json\" "
   ]
  },
  {
   "cell_type": "code",
   "execution_count": null,
   "metadata": {},
   "outputs": [
    {
     "name": "stdout",
     "output_type": "stream",
     "text": [
      "/home/user/anaconda3/lib/python3.11/site-packages/numpy/core/_methods.py:236: RuntimeWarning: invalid value encountered in subtract\n",
      "  x = asanyarray(arr - arrmean)\n",
      "AVERAGE RMNSE ERROR ON TRAIN DATA SET: 1.3043474435806455 ± 0.35000624170774386\n",
      "AVG NUMBER OF ACCURATE 0.5 PREDICTIONS ON TRAIN DATA SET: 1.4093723942874814 ± 0.3823466060984873\n",
      "AVG NUMBER OF ACCURATE 1 PREDICTIONS ON TRAIN DATA SET: 1.9889671707625318 ± 0.4694810183474746\n",
      "POWER SPECTRUM MEAN ERROR ON TRAIN DATA SET: inf ± nan\n",
      "TEMPORAL DISTANCE ON TRAIN DATA SET: 0.3796395439590815 ± 0.23801603760874815\n",
      "GEOMETRICAL DISTANCE ON TRAIN DATA SET: 1.2092182646679994 ± 2.5569936822834642\n",
      "\n",
      "\n",
      "AVERAGE RMNSE ERROR ON TEST DATA SET: 1.3284584279192173 ± 0.4664852790354508\n",
      "AVG NUMBER OF ACCURATE 0.5 PREDICTIONS ON TEST DATA SET: 1.6089391631284453 ± 0.39099668386324404\n",
      "AVG NUMBER OF ACCURATE 1 PREDICTIONS ON TEST DATA SET: 2.0339692960410978 ± 0.44502507344002223\n",
      "POWER SPECTRUM MEAN ERROR ON TEST DATA SET: inf ± nan\n",
      "TEMPORAL DISTANCE ON TEST DATA SET: 0.3835874186329529 ± 0.2445921080048908\n",
      "GEOMETRICAL DISTANCE ON TEST DATA SET: 1.4346964812209901 ± 3.4526560399631596\n"
     ]
    }
   ],
   "source": [
    "!bash ./1_Standard_ESN_Evaluate_Tuned_Model.sh \"evaluate_tuned_model\" 25 0.89 0.89 1 \"grid_search.json\" "
   ]
  },
  {
   "cell_type": "code",
   "execution_count": null,
   "metadata": {},
   "outputs": [
    {
     "name": "stdout",
     "output_type": "stream",
     "text": [
      "  0%|                                    | 0/30 [00:00<?, ?trial/s, best loss=?]/home/user/kuei_jan_CHU/PGClustered_ESN/Methods/./Utils/global_utils.py:254: RuntimeWarning: divide by zero encountered in log10\n",
      "  s_dbfs = 20 * np.log10(s_mag)\n",
      "\n",
      " 13%|█▎        | 4/30 [06:35<41:26, 95.65s/trial, best loss: 0.3167128589372225]/home/user/kuei_jan_CHU/PGClustered_ESN/Methods/./Utils/global_utils.py:289: RuntimeWarning: invalid value encountered in divide\n",
      "  trajectory = (trajectory-trajectory.mean())/trajectory.std()\n",
      "\n",
      " 47%|████▏    | 14/30 [23:31<25:53, 97.11s/trial, best loss: 0.3167128589372225]/home/user/kuei_jan_CHU/PGClustered_ESN/Methods/./Utils/global_utils.py:301: RuntimeWarning: Mean of empty slice\n",
      "  spectrum = np.nanmean(np.array(spectrum),axis=0)\n",
      "\n",
      "100%|████████| 30/30 [51:05<00:00, 102.19s/trial, best loss: 0.3167128589372225]\n",
      "{'in_cluster_weight': 0.5, 'noise_level': 5, 'radius': 0.9, 'regularization': 0.01, 'sigma_input': 0.5}\n"
     ]
    }
   ],
   "source": [
    "!bash ./0_Standard_ESN_Tune.sh \"tune\" 50 0.89 0.89 2 \"grid_search.json\" "
   ]
  },
  {
   "cell_type": "code",
   "execution_count": 1,
   "metadata": {},
   "outputs": [
    {
     "name": "stdout",
     "output_type": "stream",
     "text": [
      "/home/user/anaconda3/lib/python3.11/site-packages/numpy/core/_methods.py:236: RuntimeWarning: invalid value encountered in subtract\n",
      "  x = asanyarray(arr - arrmean)\n",
      "AVERAGE RMNSE ERROR ON TRAIN DATA SET: 1.3043474435806455 ± 0.35000624170774386\n",
      "AVG NUMBER OF ACCURATE 0.5 PREDICTIONS ON TRAIN DATA SET: 1.4093723942874814 ± 0.3823466060984873\n",
      "AVG NUMBER OF ACCURATE 1 PREDICTIONS ON TRAIN DATA SET: 1.9889671707625318 ± 0.4694810183474746\n",
      "POWER SPECTRUM MEAN ERROR ON TRAIN DATA SET: inf ± nan\n",
      "TEMPORAL DISTANCE ON TRAIN DATA SET: 0.3796395439590815 ± 0.23801603760874815\n",
      "GEOMETRICAL DISTANCE ON TRAIN DATA SET: 1.2092182646679994 ± 2.5569936822834642\n",
      "\n",
      "\n",
      "AVERAGE RMNSE ERROR ON TEST DATA SET: 1.3284584279192173 ± 0.4664852790354508\n",
      "AVG NUMBER OF ACCURATE 0.5 PREDICTIONS ON TEST DATA SET: 1.6089391631284453 ± 0.39099668386324404\n",
      "AVG NUMBER OF ACCURATE 1 PREDICTIONS ON TEST DATA SET: 2.0339692960410978 ± 0.44502507344002223\n",
      "POWER SPECTRUM MEAN ERROR ON TEST DATA SET: inf ± nan\n",
      "TEMPORAL DISTANCE ON TEST DATA SET: 0.3835874186329529 ± 0.2445921080048908\n",
      "GEOMETRICAL DISTANCE ON TEST DATA SET: 1.4346964812209901 ± 3.4526560399631596\n"
     ]
    }
   ],
   "source": [
    "!bash ./1_Standard_ESN_Evaluate_Tuned_Model.sh \"evaluate_tuned_model\" 50 0.89 0.89 2 \"grid_search.json\" "
   ]
  },
  {
   "cell_type": "code",
   "execution_count": 12,
   "metadata": {},
   "outputs": [
    {
     "name": "stdout",
     "output_type": "stream",
     "text": [
      "  7%|▍     | 2/30 [04:42<1:06:24, 142.30s/trial, best loss: 0.17403610220540744]/home/user/kuei_jan_CHU/PGClustered_ESN/Methods/./Utils/global_utils.py:254: RuntimeWarning: divide by zero encountered in log10\n",
      "  s_dbfs = 20 * np.log10(s_mag)\n",
      "\n",
      " 13%|▊     | 4/30 [09:42<1:04:05, 147.91s/trial, best loss: 0.17403610220540744]/home/user/kuei_jan_CHU/PGClustered_ESN/Methods/./Utils/global_utils.py:289: RuntimeWarning: invalid value encountered in divide\n",
      "  trajectory = (trajectory-trajectory.mean())/trajectory.std()\n",
      "\n",
      "/home/user/kuei_jan_CHU/PGClustered_ESN/Methods/./Utils/global_utils.py:301: RuntimeWarning: Mean of empty slice\n",
      "  spectrum = np.nanmean(np.array(spectrum),axis=0)\n",
      "\n",
      "100%|█████| 30/30 [1:16:00<00:00, 152.01s/trial, best loss: 0.17172055664569236]\n",
      "{'in_cluster_weight': 0.5, 'noise_level': 5, 'radius': 1.1, 'regularization': 0.01, 'sigma_input': 0.5}\n"
     ]
    }
   ],
   "source": [
    "!bash ./0_Standard_ESN_Tune.sh \"tune\" 100 0.89 0.89 3 \"grid_search.json\" "
   ]
  },
  {
   "cell_type": "code",
   "execution_count": 2,
   "metadata": {},
   "outputs": [
    {
     "name": "stdout",
     "output_type": "stream",
     "text": [
      "AVERAGE RMNSE ERROR ON TRAIN DATA SET: 1.1866817834429668 ± 0.025678213228662154\n",
      "AVG NUMBER OF ACCURATE 0.5 PREDICTIONS ON TRAIN DATA SET: 2.095632167901668 ± 0.4527425140714021\n",
      "AVG NUMBER OF ACCURATE 1 PREDICTIONS ON TRAIN DATA SET: 2.72511863658696 ± 0.5396163206288481\n",
      "POWER SPECTRUM MEAN ERROR ON TRAIN DATA SET: 7.428504593558516 ± 6.702472955264554\n",
      "TEMPORAL DISTANCE ON TRAIN DATA SET: 0.2032702144515782 ± 0.09954550876884675\n",
      "GEOMETRICAL DISTANCE ON TRAIN DATA SET: 0.3288347980167651 ± 0.34373187165046426\n",
      "\n",
      "\n",
      "AVERAGE RMNSE ERROR ON TEST DATA SET: 1.1852582471057038 ± 0.02674928232147479\n",
      "AVG NUMBER OF ACCURATE 0.5 PREDICTIONS ON TEST DATA SET: 2.162320427997571 ± 0.39645393232200493\n",
      "AVG NUMBER OF ACCURATE 1 PREDICTIONS ON TEST DATA SET: 2.781801393980084 ± 0.4945806034979382\n",
      "POWER SPECTRUM MEAN ERROR ON TEST DATA SET: 4.997568524527135 ± 5.020336727578074\n",
      "TEMPORAL DISTANCE ON TEST DATA SET: 0.19931805148161832 ± 0.10663241436334822\n",
      "GEOMETRICAL DISTANCE ON TEST DATA SET: 0.3183611299430325 ± 0.3709414473457825\n"
     ]
    }
   ],
   "source": [
    "!bash ./1_Standard_ESN_Evaluate_Tuned_Model.sh \"evaluate_tuned_model\" 100 0.89 0.89 3 \"grid_search.json\" "
   ]
  },
  {
   "cell_type": "code",
   "execution_count": 18,
   "metadata": {},
   "outputs": [
    {
     "name": "stdout",
     "output_type": "stream",
     "text": [
      "  0%|                                    | 0/30 [00:00<?, ?trial/s, best loss=?]/home/user/kuei_jan_CHU/PGClustered_ESN/Methods/./Utils/global_utils.py:254: RuntimeWarning: divide by zero encountered in log10\n",
      "  s_dbfs = 20 * np.log10(s_mag)\n",
      "\n",
      " 13%|█▏       | 4/30 [03:05<18:41, 43.14s/trial, best loss: 0.13754322632822802]/home/user/kuei_jan_CHU/PGClustered_ESN/Methods/./Utils/global_utils.py:289: RuntimeWarning: invalid value encountered in divide\n",
      "  trajectory = (trajectory-trajectory.mean())/trajectory.std()\n",
      "\n",
      " 47%|███▋    | 14/30 [10:33<10:47, 40.45s/trial, best loss: 0.13754322632822802]/home/user/kuei_jan_CHU/PGClustered_ESN/Methods/./Utils/global_utils.py:301: RuntimeWarning: Mean of empty slice\n",
      "  spectrum = np.nanmean(np.array(spectrum),axis=0)\n",
      "\n",
      "100%|████████| 30/30 [23:16<00:00, 46.55s/trial, best loss: 0.13710851963738882]\n",
      "{'in_cluster_weight': 0.5, 'noise_level': 5, 'radius': 0.3, 'regularization': 0.01, 'sigma_input': 1.3}\n"
     ]
    }
   ],
   "source": [
    "!bash ./0_Standard_ESN_Tune.sh \"tune\" 150 0.89 0.89 4 \"grid_search.json\" "
   ]
  },
  {
   "cell_type": "code",
   "execution_count": 3,
   "metadata": {},
   "outputs": [
    {
     "name": "stdout",
     "output_type": "stream",
     "text": [
      "AVERAGE RMNSE ERROR ON TRAIN DATA SET: 1.1698454639154652 ± 0.017940545546782555\n",
      "AVG NUMBER OF ACCURATE 0.5 PREDICTIONS ON TRAIN DATA SET: 2.605731710671891 ± 0.44690688895022024\n",
      "AVG NUMBER OF ACCURATE 1 PREDICTIONS ON TRAIN DATA SET: 3.307294017831506 ± 0.5197376870748804\n",
      "POWER SPECTRUM MEAN ERROR ON TRAIN DATA SET: 2.8962611832911866 ± 1.804993880545373\n",
      "TEMPORAL DISTANCE ON TRAIN DATA SET: 0.13089268654521338 ± 0.058110599125903314\n",
      "GEOMETRICAL DISTANCE ON TRAIN DATA SET: 0.05652130118563502 ± 0.14922981086517684\n",
      "\n",
      "\n",
      "AVERAGE RMNSE ERROR ON TEST DATA SET: 1.1847610324726339 ± 0.0210580731585294\n",
      "AVG NUMBER OF ACCURATE 0.5 PREDICTIONS ON TEST DATA SET: 2.617683985393764 ± 0.382311756113458\n",
      "AVG NUMBER OF ACCURATE 1 PREDICTIONS ON TEST DATA SET: 3.109221283330776 ± 0.43745965112727153\n",
      "POWER SPECTRUM MEAN ERROR ON TEST DATA SET: 2.509222951311349 ± 1.3570725017233622\n",
      "TEMPORAL DISTANCE ON TEST DATA SET: 0.12024979214425935 ± 0.043352035077924754\n",
      "GEOMETRICAL DISTANCE ON TEST DATA SET: 0.057989545108925664 ± 0.13332275639046723\n"
     ]
    }
   ],
   "source": [
    "!bash ./1_Standard_ESN_Evaluate_Tuned_Model.sh \"evaluate_tuned_model\" 150 0.89 0.89 4 \"grid_search.json\" "
   ]
  },
  {
   "cell_type": "code",
   "execution_count": 24,
   "metadata": {},
   "outputs": [
    {
     "name": "stdout",
     "output_type": "stream",
     "text": [
      " 10%|▉        | 3/30 [03:15<28:24, 63.12s/trial, best loss: 0.12681400336996282]/home/user/kuei_jan_CHU/PGClustered_ESN/Methods/./Utils/global_utils.py:254: RuntimeWarning: divide by zero encountered in log10\n",
      "  s_dbfs = 20 * np.log10(s_mag)\n",
      "\n",
      "/home/user/kuei_jan_CHU/PGClustered_ESN/Methods/./Utils/global_utils.py:289: RuntimeWarning: invalid value encountered in divide\n",
      "  trajectory = (trajectory-trajectory.mean())/trajectory.std()\n",
      "\n",
      "100%|█████████| 30/30 [25:42<00:00, 51.40s/trial, best loss: 0.1201965799458228]\n",
      "{'in_cluster_weight': 0.5, 'noise_level': 5, 'radius': 0.7, 'regularization': 0.01, 'sigma_input': 1.1}\n"
     ]
    }
   ],
   "source": [
    "!bash ./0_Standard_ESN_Tune.sh \"tune\" 200 0.89 0.89 5 \"grid_search.json\" "
   ]
  },
  {
   "cell_type": "code",
   "execution_count": 4,
   "metadata": {},
   "outputs": [
    {
     "name": "stdout",
     "output_type": "stream",
     "text": [
      "AVERAGE RMNSE ERROR ON TRAIN DATA SET: 1.1680865453744265 ± 0.024287410785254402\n",
      "AVG NUMBER OF ACCURATE 0.5 PREDICTIONS ON TRAIN DATA SET: 2.9881139542360438 ± 0.26209804602935927\n",
      "AVG NUMBER OF ACCURATE 1 PREDICTIONS ON TRAIN DATA SET: 3.565852506227773 ± 0.3687665426110618\n",
      "POWER SPECTRUM MEAN ERROR ON TRAIN DATA SET: 1.7377464260825373 ± 1.516747610907534\n",
      "TEMPORAL DISTANCE ON TRAIN DATA SET: 0.11235722144786667 ± 0.005418970927599749\n",
      "GEOMETRICAL DISTANCE ON TRAIN DATA SET: 0.017683337746200258 ± 0.006721513595053503\n",
      "\n",
      "\n",
      "AVERAGE RMNSE ERROR ON TEST DATA SET: 1.173694988441289 ± 0.022365040601906316\n",
      "AVG NUMBER OF ACCURATE 0.5 PREDICTIONS ON TEST DATA SET: 3.0597370550315075 ± 0.2573886412080599\n",
      "AVG NUMBER OF ACCURATE 1 PREDICTIONS ON TEST DATA SET: 3.502967242634285 ± 0.2675438785656214\n",
      "POWER SPECTRUM MEAN ERROR ON TEST DATA SET: 2.5211379319488736 ± 1.5422515691085814\n",
      "TEMPORAL DISTANCE ON TEST DATA SET: 0.10558917511678127 ± 0.004697629610517102\n",
      "GEOMETRICAL DISTANCE ON TEST DATA SET: 0.01540323151232216 ± 0.006873646399688906\n"
     ]
    }
   ],
   "source": [
    "!bash ./1_Standard_ESN_Evaluate_Tuned_Model.sh \"evaluate_tuned_model\" 200 0.89 0.89 5 \"grid_search.json\" "
   ]
  },
  {
   "cell_type": "code",
   "execution_count": 30,
   "metadata": {},
   "outputs": [
    {
     "name": "stdout",
     "output_type": "stream",
     "text": [
      " 10%|▉        | 3/30 [03:14<27:56, 62.10s/trial, best loss: 0.12677013763791156]/home/user/kuei_jan_CHU/PGClustered_ESN/Methods/./Utils/global_utils.py:254: RuntimeWarning: divide by zero encountered in log10\n",
      "  s_dbfs = 20 * np.log10(s_mag)\n",
      "\n",
      " 13%|█▏       | 4/30 [03:50<22:29, 51.91s/trial, best loss: 0.12677013763791156]/home/user/kuei_jan_CHU/PGClustered_ESN/Methods/./Utils/global_utils.py:289: RuntimeWarning: invalid value encountered in divide\n",
      "  trajectory = (trajectory-trajectory.mean())/trajectory.std()\n",
      "\n",
      "/home/user/kuei_jan_CHU/PGClustered_ESN/Methods/./Utils/global_utils.py:301: RuntimeWarning: Mean of empty slice\n",
      "  spectrum = np.nanmean(np.array(spectrum),axis=0)\n",
      "\n",
      "100%|████████| 30/30 [26:51<00:00, 53.71s/trial, best loss: 0.12291544506061344]\n",
      "{'in_cluster_weight': 0.5, 'noise_level': 5, 'radius': 0.3, 'regularization': 0.01, 'sigma_input': 1.3}\n"
     ]
    }
   ],
   "source": [
    "!bash ./0_Standard_ESN_Tune.sh \"tune\" 250 0.89 0.89 6 \"grid_search.json\" "
   ]
  },
  {
   "cell_type": "code",
   "execution_count": 5,
   "metadata": {},
   "outputs": [
    {
     "name": "stdout",
     "output_type": "stream",
     "text": [
      "AVERAGE RMNSE ERROR ON TRAIN DATA SET: 1.1673952192396313 ± 0.03972659393040688\n",
      "AVG NUMBER OF ACCURATE 0.5 PREDICTIONS ON TRAIN DATA SET: 3.293078054715339 ± 0.5982096996025157\n",
      "AVG NUMBER OF ACCURATE 1 PREDICTIONS ON TRAIN DATA SET: 3.866968336436769 ± 0.6435581799351184\n",
      "POWER SPECTRUM MEAN ERROR ON TRAIN DATA SET: 2.73140321868543 ± 1.7158680216420719\n",
      "TEMPORAL DISTANCE ON TRAIN DATA SET: 0.11300069992629276 ± 0.0066937212011439805\n",
      "GEOMETRICAL DISTANCE ON TRAIN DATA SET: 0.016994844294156788 ± 0.0051689669776666045\n",
      "\n",
      "\n",
      "AVERAGE RMNSE ERROR ON TEST DATA SET: 1.1655795140847864 ± 0.022572779881153363\n",
      "AVG NUMBER OF ACCURATE 0.5 PREDICTIONS ON TEST DATA SET: 3.3652444407254345 ± 0.4787810423152773\n",
      "AVG NUMBER OF ACCURATE 1 PREDICTIONS ON TEST DATA SET: 3.92125158413194 ± 0.5684534632388373\n",
      "POWER SPECTRUM MEAN ERROR ON TEST DATA SET: 2.2945236299624456 ± 1.3234713143804677\n",
      "TEMPORAL DISTANCE ON TEST DATA SET: 0.1037924158102631 ± 0.006712680154898872\n",
      "GEOMETRICAL DISTANCE ON TEST DATA SET: 0.016380676812447405 ± 0.005997515665254105\n"
     ]
    }
   ],
   "source": [
    "!bash ./1_Standard_ESN_Evaluate_Tuned_Model.sh \"evaluate_tuned_model\" 250 0.89 0.89 6 \"grid_search.json\""
   ]
  },
  {
   "cell_type": "code",
   "execution_count": 36,
   "metadata": {},
   "outputs": [
    {
     "name": "stdout",
     "output_type": "stream",
     "text": [
      " 10%|▉        | 3/30 [03:20<29:47, 66.22s/trial, best loss: 0.12452117493694452]/home/user/kuei_jan_CHU/PGClustered_ESN/Methods/./Utils/global_utils.py:254: RuntimeWarning: divide by zero encountered in log10\n",
      "  s_dbfs = 20 * np.log10(s_mag)\n",
      "\n",
      " 13%|█▏       | 4/30 [04:08<25:30, 58.87s/trial, best loss: 0.12452117493694452]/home/user/kuei_jan_CHU/PGClustered_ESN/Methods/./Utils/global_utils.py:289: RuntimeWarning: invalid value encountered in divide\n",
      "  trajectory = (trajectory-trajectory.mean())/trajectory.std()\n",
      "\n",
      "/home/user/kuei_jan_CHU/PGClustered_ESN/Methods/./Utils/global_utils.py:301: RuntimeWarning: Mean of empty slice\n",
      "  spectrum = np.nanmean(np.array(spectrum),axis=0)\n",
      "\n",
      "100%|████████| 30/30 [29:03<00:00, 58.12s/trial, best loss: 0.12024462897553116]\n",
      "{'in_cluster_weight': 0.5, 'noise_level': 5, 'radius': 0.7, 'regularization': 0.01, 'sigma_input': 1.1}\n"
     ]
    }
   ],
   "source": [
    "!bash ./0_Standard_ESN_Tune.sh \"tune\" 300 0.89 0.89 7 \"grid_search.json\" "
   ]
  },
  {
   "cell_type": "code",
   "execution_count": 6,
   "metadata": {},
   "outputs": [
    {
     "name": "stdout",
     "output_type": "stream",
     "text": [
      "AVERAGE RMNSE ERROR ON TRAIN DATA SET: 1.1765987088786973 ± 0.024198812456359447\n",
      "AVG NUMBER OF ACCURATE 0.5 PREDICTIONS ON TRAIN DATA SET: 3.329976175542332 ± 0.4825731237516208\n",
      "AVG NUMBER OF ACCURATE 1 PREDICTIONS ON TRAIN DATA SET: 4.001567248361495 ± 0.5760730081282024\n",
      "POWER SPECTRUM MEAN ERROR ON TRAIN DATA SET: 2.476422539915633 ± 1.576047774626742\n",
      "TEMPORAL DISTANCE ON TRAIN DATA SET: 0.11322445166318382 ± 0.007769932004644783\n",
      "GEOMETRICAL DISTANCE ON TRAIN DATA SET: 0.016839801251339465 ± 0.00812374656525476\n",
      "\n",
      "\n",
      "AVERAGE RMNSE ERROR ON TEST DATA SET: 1.1523342368958267 ± 0.02136331280352637\n",
      "AVG NUMBER OF ACCURATE 0.5 PREDICTIONS ON TEST DATA SET: 3.5826038003455496 ± 0.31628105189949907\n",
      "AVG NUMBER OF ACCURATE 1 PREDICTIONS ON TEST DATA SET: 4.032670326899094 ± 0.3839564957715733\n",
      "POWER SPECTRUM MEAN ERROR ON TEST DATA SET: 2.1422292048620366 ± 1.1296238925448485\n",
      "TEMPORAL DISTANCE ON TEST DATA SET: 0.10412881857003109 ± 0.0074857388586167545\n",
      "GEOMETRICAL DISTANCE ON TEST DATA SET: 0.016349413914011974 ± 0.0060565362231057565\n"
     ]
    }
   ],
   "source": [
    "!bash ./1_Standard_ESN_Evaluate_Tuned_Model.sh \"evaluate_tuned_model\" 300 0.89 0.89 7 \"grid_search.json\""
   ]
  },
  {
   "cell_type": "code",
   "execution_count": 42,
   "metadata": {},
   "outputs": [
    {
     "name": "stdout",
     "output_type": "stream",
     "text": [
      " 10%|▉        | 3/30 [03:16<26:57, 59.89s/trial, best loss: 0.12558099247832427]/home/user/kuei_jan_CHU/PGClustered_ESN/Methods/./Utils/global_utils.py:254: RuntimeWarning: divide by zero encountered in log10\n",
      "  s_dbfs = 20 * np.log10(s_mag)\n",
      "\n",
      " 13%|█▏       | 4/30 [03:51<21:41, 50.05s/trial, best loss: 0.12558099247832427]/home/user/kuei_jan_CHU/PGClustered_ESN/Methods/./Utils/global_utils.py:289: RuntimeWarning: invalid value encountered in divide\n",
      "  trajectory = (trajectory-trajectory.mean())/trajectory.std()\n",
      "\n",
      "100%|████████| 30/30 [30:48<00:00, 61.60s/trial, best loss: 0.12356328266168544]\n",
      "{'in_cluster_weight': 0.5, 'noise_level': 5, 'radius': 0.7, 'regularization': 0.01, 'sigma_input': 1.1}\n"
     ]
    }
   ],
   "source": [
    "!bash ./0_Standard_ESN_Tune.sh \"tune\" 350 0.89 0.89 8 \"grid_search.json\" "
   ]
  },
  {
   "cell_type": "code",
   "execution_count": 7,
   "metadata": {},
   "outputs": [
    {
     "name": "stdout",
     "output_type": "stream",
     "text": [
      "AVERAGE RMNSE ERROR ON TRAIN DATA SET: 1.167642899666892 ± 0.027243108853527355\n",
      "AVG NUMBER OF ACCURATE 0.5 PREDICTIONS ON TRAIN DATA SET: 3.37221660097986 ± 0.4734099225254052\n",
      "AVG NUMBER OF ACCURATE 1 PREDICTIONS ON TRAIN DATA SET: 3.930215790173345 ± 0.5492770177158132\n",
      "POWER SPECTRUM MEAN ERROR ON TRAIN DATA SET: 1.774110965621062 ± 0.9954798849935416\n",
      "TEMPORAL DISTANCE ON TRAIN DATA SET: 0.11235927328474091 ± 0.006841876609482345\n",
      "GEOMETRICAL DISTANCE ON TRAIN DATA SET: 0.01862720083419612 ± 0.006402417187194446\n",
      "\n",
      "\n",
      "AVERAGE RMNSE ERROR ON TEST DATA SET: 1.163136243793523 ± 0.019570905563050623\n",
      "AVG NUMBER OF ACCURATE 0.5 PREDICTIONS ON TEST DATA SET: 3.4196635097242627 ± 0.2457823209992417\n",
      "AVG NUMBER OF ACCURATE 1 PREDICTIONS ON TEST DATA SET: 3.899746544386147 ± 0.3523596915333853\n",
      "POWER SPECTRUM MEAN ERROR ON TEST DATA SET: 2.307118238586564 ± 1.6455585889767332\n",
      "TEMPORAL DISTANCE ON TEST DATA SET: 0.10483931298391373 ± 0.007554382671757951\n",
      "GEOMETRICAL DISTANCE ON TEST DATA SET: 0.018856178365867043 ± 0.006389728676337533\n"
     ]
    }
   ],
   "source": [
    "!bash ./1_Standard_ESN_Evaluate_Tuned_Model.sh \"evaluate_tuned_model\" 350 0.89 0.89 8 \"grid_search.json\""
   ]
  },
  {
   "cell_type": "code",
   "execution_count": 48,
   "metadata": {},
   "outputs": [
    {
     "name": "stdout",
     "output_type": "stream",
     "text": [
      " 10%|▉        | 3/30 [03:45<34:20, 76.33s/trial, best loss: 0.12408176336571677]/home/user/kuei_jan_CHU/PGClustered_ESN/Methods/./Utils/global_utils.py:254: RuntimeWarning: divide by zero encountered in log10\n",
      "  s_dbfs = 20 * np.log10(s_mag)\n",
      "\n",
      "/home/user/kuei_jan_CHU/PGClustered_ESN/Methods/./Utils/global_utils.py:289: RuntimeWarning: invalid value encountered in divide\n",
      "  trajectory = (trajectory-trajectory.mean())/trajectory.std()\n",
      "\n",
      "100%|████████| 30/30 [33:52<00:00, 67.76s/trial, best loss: 0.12136363795168495]\n",
      "{'in_cluster_weight': 0.5, 'noise_level': 5, 'radius': 0.5, 'regularization': 0.01, 'sigma_input': 1.1}\n"
     ]
    }
   ],
   "source": [
    "!bash ./0_Standard_ESN_Tune.sh \"tune\" 400 0.89 0.89 9 \"grid_search.json\" "
   ]
  },
  {
   "cell_type": "code",
   "execution_count": 8,
   "metadata": {
    "editable": true,
    "slideshow": {
     "slide_type": ""
    },
    "tags": []
   },
   "outputs": [
    {
     "name": "stdout",
     "output_type": "stream",
     "text": [
      "AVERAGE RMNSE ERROR ON TRAIN DATA SET: 1.1663812609888287 ± 0.021460615283523613\n",
      "AVG NUMBER OF ACCURATE 0.5 PREDICTIONS ON TRAIN DATA SET: 3.5832829068638383 ± 0.5052650081187057\n",
      "AVG NUMBER OF ACCURATE 1 PREDICTIONS ON TRAIN DATA SET: 4.191988716089511 ± 0.5348725329989286\n",
      "POWER SPECTRUM MEAN ERROR ON TRAIN DATA SET: 1.8223568728145516 ± 1.2056485097381087\n",
      "TEMPORAL DISTANCE ON TRAIN DATA SET: 0.11307703485174622 ± 0.0066843854354905535\n",
      "GEOMETRICAL DISTANCE ON TRAIN DATA SET: 0.01905970348206168 ± 0.004277118507136972\n",
      "\n",
      "\n",
      "AVERAGE RMNSE ERROR ON TEST DATA SET: 1.1615393382470596 ± 0.02294167186530004\n",
      "AVG NUMBER OF ACCURATE 0.5 PREDICTIONS ON TEST DATA SET: 3.65789407633977 ± 0.44360621888241614\n",
      "AVG NUMBER OF ACCURATE 1 PREDICTIONS ON TEST DATA SET: 4.106738211160396 ± 0.41200138468305936\n",
      "POWER SPECTRUM MEAN ERROR ON TEST DATA SET: 2.498450187634268 ± 1.7088844779235384\n",
      "TEMPORAL DISTANCE ON TEST DATA SET: 0.10557921877337431 ± 0.007127903007905629\n",
      "GEOMETRICAL DISTANCE ON TEST DATA SET: 0.01735897024343242 ± 0.007406335027120654\n"
     ]
    }
   ],
   "source": [
    "!bash ./1_Standard_ESN_Evaluate_Tuned_Model.sh \"evaluate_tuned_model\" 400 0.89 0.89 9 \"grid_search.json\""
   ]
  },
  {
   "cell_type": "code",
   "execution_count": null,
   "metadata": {
    "editable": true,
    "slideshow": {
     "slide_type": ""
    },
    "tags": []
   },
   "outputs": [],
   "source": []
  }
 ],
 "metadata": {
  "kernelspec": {
   "display_name": "base",
   "language": "python",
   "name": "python3"
  },
  "language_info": {
   "codemirror_mode": {
    "name": "ipython",
    "version": 3
   },
   "file_extension": ".py",
   "mimetype": "text/x-python",
   "name": "python",
   "nbconvert_exporter": "python",
   "pygments_lexer": "ipython3",
   "version": "3.11.8"
  }
 },
 "nbformat": 4,
 "nbformat_minor": 4
}
