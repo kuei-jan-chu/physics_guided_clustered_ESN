{
 "cells": [
  {
   "cell_type": "markdown",
   "metadata": {
    "editable": true,
    "slideshow": {
     "slide_type": ""
    },
    "tags": []
   },
   "source": [
    "# noise level 5, metric: d_temp"
   ]
  },
  {
   "cell_type": "code",
   "execution_count": 1,
   "metadata": {},
   "outputs": [
    {
     "name": "stdout",
     "output_type": "stream",
     "text": [
      "Grid Search Progress:   0%|                                               | 0/25 [00:00<?, ?trial/s]/home/user/kuei_jan_CHU/PGClustered_ESN/Methods/./Utils/global_utils.py:255: RuntimeWarning: divide by zero encountered in log10\n",
      "  s_dbfs = 20 * np.log10(s_mag)\n",
      "/home/user/kuei_jan_CHU/PGClustered_ESN/Methods/./Utils/global_utils.py:290: RuntimeWarning: invalid value encountered in divide\n",
      "  trajectory = (trajectory-trajectory.mean())/trajectory.std()\n",
      "/home/user/kuei_jan_CHU/PGClustered_ESN/Methods/./Utils/global_utils.py:302: RuntimeWarning: Mean of empty slice\n",
      "  spectrum = np.nanmean(np.array(spectrum),axis=0)\n",
      "Grid Search Progress: 100%|███████████| 25/25 [13:31<00:00, 32.44s/trial, Current Best Loss=0.80423]\n",
      "{'radius': 0.1, 'sigma_input': 1.0, 'regularization': 0.01, 'noise_level': 5}\n"
     ]
    }
   ],
   "source": [
    "!bash ./0_Standard_ESN_Tune.sh \"tune\" 3 0.89 0.89 0 \"grid_search.json\" "
   ]
  },
  {
   "cell_type": "code",
   "execution_count": 1,
   "metadata": {},
   "outputs": [
    {
     "name": "stdout",
     "output_type": "stream",
     "text": [
      "{'radius': 0.1, 'sigma_input': 1.0, 'regularization': 0.01, 'noise_level': 5}\n",
      "/home/user/anaconda3/lib/python3.11/site-packages/numpy/core/_methods.py:236: RuntimeWarning: invalid value encountered in subtract\n",
      "  x = asanyarray(arr - arrmean)\n",
      "AVERAGE RMNSE ERROR ON TRAIN DATA SET: 1.2210888603399561 ± 0.13986969654795633\n",
      "AVG NUMBER OF ACCURATE 0.5 PREDICTIONS ON TRAIN DATA SET: 0.017803014463369755 ± 0.014037539927938526\n",
      "AVG NUMBER OF ACCURATE 1 PREDICTIONS ON TRAIN DATA SET: 0.19456151520682657 ± 0.1649498787301542\n",
      "POWER SPECTRUM MEAN ERROR ON TRAIN DATA SET: inf ± nan\n",
      "TEMPORAL DISTANCE ON TRAIN DATA SET: nan ± nan\n",
      "GEOMETRICAL DISTANCE ON TRAIN DATA SET: 1.8304148836483793 ± 0.6139873412504071\n",
      "\n",
      "\n",
      "AVERAGE RMNSE ERROR ON TEST DATA SET: 1.1891412373168195 ± 0.1636265251673752\n",
      "AVG NUMBER OF ACCURATE 0.5 PREDICTIONS ON TEST DATA SET: 0.05159240926119398 ± 0.015381431621841284\n",
      "AVG NUMBER OF ACCURATE 1 PREDICTIONS ON TEST DATA SET: 0.31137108969607913 ± 0.23586033291214198\n",
      "POWER SPECTRUM MEAN ERROR ON TEST DATA SET: inf ± nan\n",
      "TEMPORAL DISTANCE ON TEST DATA SET: nan ± nan\n",
      "GEOMETRICAL DISTANCE ON TEST DATA SET: 1.7818430622895058 ± 0.6534332031115172\n"
     ]
    }
   ],
   "source": [
    "!bash ./1_Standard_ESN_Evaluate_Tuned_Model.sh \"evaluate_tuned_model\" 3 0.89 0.89 0 \"grid_search.json\" "
   ]
  },
  {
   "cell_type": "code",
   "execution_count": 1,
   "metadata": {},
   "outputs": [
    {
     "name": "stdout",
     "output_type": "stream",
     "text": [
      "Grid Search Progress:   0%|                                               | 0/25 [00:00<?, ?trial/s]/home/user/kuei_jan_CHU/PGClustered_ESN/Methods/./Utils/global_utils.py:256: RuntimeWarning: divide by zero encountered in log10\n",
      "  s_dbfs = 20 * np.log10(s_mag)\n",
      "/home/user/kuei_jan_CHU/PGClustered_ESN/Methods/./Utils/global_utils.py:291: RuntimeWarning: invalid value encountered in divide\n",
      "  trajectory = (trajectory-trajectory.mean())/trajectory.std()\n",
      "/home/user/kuei_jan_CHU/PGClustered_ESN/Methods/./Utils/global_utils.py:303: RuntimeWarning: Mean of empty slice\n",
      "  spectrum = np.nanmean(np.array(spectrum),axis=0)\n",
      "Grid Search Progress: 100%|███████████| 25/25 [15:50<00:00, 38.04s/trial, Current Best Loss=0.51414]\n",
      "{'radius': 0.99, 'sigma_input': 0.5, 'regularization': 0.01, 'noise_level': 5}\n"
     ]
    }
   ],
   "source": [
    "!bash ./0_Standard_ESN_Tune.sh \"tune\" 25 0.89 0.89 1 \"grid_search.json\" "
   ]
  },
  {
   "cell_type": "code",
   "execution_count": 2,
   "metadata": {},
   "outputs": [
    {
     "name": "stdout",
     "output_type": "stream",
     "text": [
      "{'radius': 0.99, 'sigma_input': 0.5, 'regularization': 0.01, 'noise_level': 5}\n",
      "/home/user/anaconda3/lib/python3.11/site-packages/numpy/core/_methods.py:236: RuntimeWarning: invalid value encountered in subtract\n",
      "  x = asanyarray(arr - arrmean)\n",
      "AVERAGE RMNSE ERROR ON TRAIN DATA SET: 1.4833268889404436 ± 0.4480726788711884\n",
      "AVG NUMBER OF ACCURATE 0.5 PREDICTIONS ON TRAIN DATA SET: 0.5577066775769912 ± 0.24146272783422448\n",
      "AVG NUMBER OF ACCURATE 1 PREDICTIONS ON TRAIN DATA SET: 0.7959582435842304 ± 0.31846017274030186\n",
      "POWER SPECTRUM MEAN ERROR ON TRAIN DATA SET: inf ± nan\n",
      "TEMPORAL DISTANCE ON TRAIN DATA SET: 0.6118635052353538 ± 0.13424856678526542\n",
      "GEOMETRICAL DISTANCE ON TRAIN DATA SET: 2.255529466478069 ± 3.3184041491695306\n",
      "\n",
      "\n",
      "AVERAGE RMNSE ERROR ON TEST DATA SET: 1.6034820883038126 ± 0.6729450822266249\n",
      "AVG NUMBER OF ACCURATE 0.5 PREDICTIONS ON TEST DATA SET: 0.5252797583758536 ± 0.201215930740865\n",
      "AVG NUMBER OF ACCURATE 1 PREDICTIONS ON TEST DATA SET: 0.8233894189308512 ± 0.3066479620339439\n",
      "POWER SPECTRUM MEAN ERROR ON TEST DATA SET: inf ± nan\n",
      "TEMPORAL DISTANCE ON TEST DATA SET: 0.613366197653048 ± 0.13159225751768158\n",
      "GEOMETRICAL DISTANCE ON TEST DATA SET: 3.549535537330663 ± 5.899882707143406\n"
     ]
    }
   ],
   "source": [
    "!bash ./1_Standard_ESN_Evaluate_Tuned_Model.sh \"evaluate_tuned_model\" 25 0.89 0.89 1 \"grid_search.json\" "
   ]
  },
  {
   "cell_type": "code",
   "execution_count": 5,
   "metadata": {},
   "outputs": [
    {
     "name": "stdout",
     "output_type": "stream",
     "text": [
      "Grid Search Progress:   0%|                                               | 0/25 [00:00<?, ?trial/s]/home/user/kuei_jan_CHU/PGClustered_ESN/Methods/./Utils/global_utils.py:255: RuntimeWarning: divide by zero encountered in log10\n",
      "  s_dbfs = 20 * np.log10(s_mag)\n",
      "/home/user/kuei_jan_CHU/PGClustered_ESN/Methods/./Utils/global_utils.py:290: RuntimeWarning: invalid value encountered in divide\n",
      "  trajectory = (trajectory-trajectory.mean())/trajectory.std()\n",
      "/home/user/kuei_jan_CHU/PGClustered_ESN/Methods/./Utils/global_utils.py:302: RuntimeWarning: Mean of empty slice\n",
      "  spectrum = np.nanmean(np.array(spectrum),axis=0)\n",
      "Grid Search Progress: 100%|███████████| 25/25 [21:52<00:00, 52.49s/trial, Current Best Loss=0.31671]\n",
      "{'radius': 0.9, 'sigma_input': 0.5, 'regularization': 0.01, 'noise_level': 5}\n"
     ]
    }
   ],
   "source": [
    "!bash ./0_Standard_ESN_Tune.sh \"tune\" 50 0.89 0.89 2 \"grid_search.json\" "
   ]
  },
  {
   "cell_type": "code",
   "execution_count": 3,
   "metadata": {},
   "outputs": [
    {
     "name": "stdout",
     "output_type": "stream",
     "text": [
      "{'radius': 0.9, 'sigma_input': 0.5, 'regularization': 0.01, 'noise_level': 5}\n",
      "/home/user/anaconda3/lib/python3.11/site-packages/numpy/core/_methods.py:236: RuntimeWarning: invalid value encountered in subtract\n",
      "  x = asanyarray(arr - arrmean)\n",
      "AVERAGE RMNSE ERROR ON TRAIN DATA SET: 1.2029522216915853 ± 0.022480475364160035\n",
      "AVG NUMBER OF ACCURATE 0.5 PREDICTIONS ON TRAIN DATA SET: 1.4417716764136128 ± 0.3255991844683271\n",
      "AVG NUMBER OF ACCURATE 1 PREDICTIONS ON TRAIN DATA SET: 2.0185530123442144 ± 0.4281348508769661\n",
      "POWER SPECTRUM MEAN ERROR ON TRAIN DATA SET: 18.600000106020474 ± 20.64407780990058\n",
      "TEMPORAL DISTANCE ON TRAIN DATA SET: 0.32982522652155893 ± 0.193139665890209\n",
      "GEOMETRICAL DISTANCE ON TRAIN DATA SET: 0.5513181502740223 ± 0.46722099545877055\n",
      "\n",
      "\n",
      "AVERAGE RMNSE ERROR ON TEST DATA SET: 1.2016284737959047 ± 0.031573414283920874\n",
      "AVG NUMBER OF ACCURATE 0.5 PREDICTIONS ON TEST DATA SET: 1.6689417742344683 ± 0.3639773251287432\n",
      "AVG NUMBER OF ACCURATE 1 PREDICTIONS ON TEST DATA SET: 2.14108498433955 ± 0.41647101097897254\n",
      "POWER SPECTRUM MEAN ERROR ON TEST DATA SET: inf ± nan\n",
      "TEMPORAL DISTANCE ON TEST DATA SET: 0.3263138753850122 ± 0.19146475394073878\n",
      "GEOMETRICAL DISTANCE ON TEST DATA SET: 0.585913043763072 ± 0.5111328651271945\n"
     ]
    }
   ],
   "source": [
    "!bash ./1_Standard_ESN_Evaluate_Tuned_Model.sh \"evaluate_tuned_model\" 50 0.89 0.89 2 \"grid_search.json\" "
   ]
  },
  {
   "cell_type": "code",
   "execution_count": 7,
   "metadata": {},
   "outputs": [
    {
     "name": "stdout",
     "output_type": "stream",
     "text": [
      "Grid Search Progress:   0%|                                               | 0/25 [00:00<?, ?trial/s]/home/user/kuei_jan_CHU/PGClustered_ESN/Methods/./Utils/global_utils.py:255: RuntimeWarning: divide by zero encountered in log10\n",
      "  s_dbfs = 20 * np.log10(s_mag)\n",
      "/home/user/kuei_jan_CHU/PGClustered_ESN/Methods/./Utils/global_utils.py:290: RuntimeWarning: invalid value encountered in divide\n",
      "  trajectory = (trajectory-trajectory.mean())/trajectory.std()\n",
      "/home/user/kuei_jan_CHU/PGClustered_ESN/Methods/./Utils/global_utils.py:302: RuntimeWarning: Mean of empty slice\n",
      "  spectrum = np.nanmean(np.array(spectrum),axis=0)\n",
      "Grid Search Progress: 100%|███████████| 25/25 [30:43<00:00, 73.76s/trial, Current Best Loss=0.18607]\n",
      "{'radius': 0.1, 'sigma_input': 1.0, 'regularization': 0.01, 'noise_level': 5}\n"
     ]
    }
   ],
   "source": [
    "!bash ./0_Standard_ESN_Tune.sh \"tune\" 100 0.89 0.89 3 \"grid_search.json\" "
   ]
  },
  {
   "cell_type": "code",
   "execution_count": 4,
   "metadata": {},
   "outputs": [
    {
     "name": "stdout",
     "output_type": "stream",
     "text": [
      "{'radius': 0.1, 'sigma_input': 1.0, 'regularization': 0.01, 'noise_level': 5}\n",
      "AVERAGE RMNSE ERROR ON TRAIN DATA SET: 1.2012804355973257 ± 0.018858607162028765\n",
      "AVG NUMBER OF ACCURATE 0.5 PREDICTIONS ON TRAIN DATA SET: 2.08813009948167 ± 0.36937234702449623\n",
      "AVG NUMBER OF ACCURATE 1 PREDICTIONS ON TRAIN DATA SET: 2.8019764804389293 ± 0.38539772092793756\n",
      "POWER SPECTRUM MEAN ERROR ON TRAIN DATA SET: 4.702417799268084 ± 4.8033293007693745\n",
      "TEMPORAL DISTANCE ON TRAIN DATA SET: 0.14576433780525078 ± 0.029457081341024146\n",
      "GEOMETRICAL DISTANCE ON TRAIN DATA SET: 0.0664332966319637 ± 0.1559134665308529\n",
      "\n",
      "\n",
      "AVERAGE RMNSE ERROR ON TEST DATA SET: 1.205291064959634 ± 0.03019655435492532\n",
      "AVG NUMBER OF ACCURATE 0.5 PREDICTIONS ON TEST DATA SET: 2.0826801970949242 ± 0.2241094321174039\n",
      "AVG NUMBER OF ACCURATE 1 PREDICTIONS ON TEST DATA SET: 2.6481075697198055 ± 0.24988236622278323\n",
      "POWER SPECTRUM MEAN ERROR ON TEST DATA SET: 5.094751915287626 ± 6.779646587017707\n",
      "TEMPORAL DISTANCE ON TEST DATA SET: 0.15527362179478482 ± 0.041630418617119545\n",
      "GEOMETRICAL DISTANCE ON TEST DATA SET: 0.10740378146607751 ± 0.20892948646441417\n"
     ]
    }
   ],
   "source": [
    "!bash ./1_Standard_ESN_Evaluate_Tuned_Model.sh \"evaluate_tuned_model\" 100 0.89 0.89 3 \"grid_search.json\" "
   ]
  },
  {
   "cell_type": "code",
   "execution_count": 9,
   "metadata": {},
   "outputs": [
    {
     "name": "stdout",
     "output_type": "stream",
     "text": [
      "Grid Search Progress:   0%|                                               | 0/25 [00:00<?, ?trial/s]/home/user/kuei_jan_CHU/PGClustered_ESN/Methods/./Utils/global_utils.py:255: RuntimeWarning: divide by zero encountered in log10\n",
      "  s_dbfs = 20 * np.log10(s_mag)\n",
      "/home/user/kuei_jan_CHU/PGClustered_ESN/Methods/./Utils/global_utils.py:290: RuntimeWarning: invalid value encountered in divide\n",
      "  trajectory = (trajectory-trajectory.mean())/trajectory.std()\n",
      "/home/user/kuei_jan_CHU/PGClustered_ESN/Methods/./Utils/global_utils.py:302: RuntimeWarning: Mean of empty slice\n",
      "  spectrum = np.nanmean(np.array(spectrum),axis=0)\n",
      "Grid Search Progress: 100%|███████████| 25/25 [09:21<00:00, 22.45s/trial, Current Best Loss=0.13620]\n",
      "{'radius': 0.1, 'sigma_input': 1.0, 'regularization': 0.01, 'noise_level': 5}\n"
     ]
    }
   ],
   "source": [
    "!bash ./0_Standard_ESN_Tune.sh \"tune\" 150 0.89 0.89 4 \"grid_search.json\" "
   ]
  },
  {
   "cell_type": "code",
   "execution_count": 5,
   "metadata": {},
   "outputs": [
    {
     "name": "stdout",
     "output_type": "stream",
     "text": [
      "{'radius': 0.1, 'sigma_input': 1.0, 'regularization': 0.01, 'noise_level': 5}\n",
      "AVERAGE RMNSE ERROR ON TRAIN DATA SET: 1.1934516933494284 ± 0.0249438774423294\n",
      "AVG NUMBER OF ACCURATE 0.5 PREDICTIONS ON TRAIN DATA SET: 2.3991378623519664 ± 0.3055436170703778\n",
      "AVG NUMBER OF ACCURATE 1 PREDICTIONS ON TRAIN DATA SET: 3.177838081711501 ± 0.4379311481125731\n",
      "POWER SPECTRUM MEAN ERROR ON TRAIN DATA SET: 2.7144403368453585 ± 1.524135488183123\n",
      "TEMPORAL DISTANCE ON TRAIN DATA SET: 0.12068530756669901 ± 0.013121578964726151\n",
      "GEOMETRICAL DISTANCE ON TRAIN DATA SET: 0.03437687393784122 ± 0.04918109192345876\n",
      "\n",
      "\n",
      "AVERAGE RMNSE ERROR ON TEST DATA SET: 1.1868273790619868 ± 0.022829511653354246\n",
      "AVG NUMBER OF ACCURATE 0.5 PREDICTIONS ON TEST DATA SET: 2.588067811759155 ± 0.25831714896271996\n",
      "AVG NUMBER OF ACCURATE 1 PREDICTIONS ON TEST DATA SET: 3.1974577303037863 ± 0.3606702321254073\n",
      "POWER SPECTRUM MEAN ERROR ON TEST DATA SET: 2.5226976260287204 ± 1.2371306081432194\n",
      "TEMPORAL DISTANCE ON TEST DATA SET: 0.11127033570563753 ± 0.007539828156649376\n",
      "GEOMETRICAL DISTANCE ON TEST DATA SET: 0.016309257730724933 ± 0.005364107058992728\n"
     ]
    }
   ],
   "source": [
    "!bash ./1_Standard_ESN_Evaluate_Tuned_Model.sh \"evaluate_tuned_model\" 150 0.89 0.89 4 \"grid_search.json\" "
   ]
  },
  {
   "cell_type": "code",
   "execution_count": 11,
   "metadata": {},
   "outputs": [
    {
     "name": "stdout",
     "output_type": "stream",
     "text": [
      "Grid Search Progress:   0%|                                               | 0/25 [00:00<?, ?trial/s]/home/user/kuei_jan_CHU/PGClustered_ESN/Methods/./Utils/global_utils.py:255: RuntimeWarning: divide by zero encountered in log10\n",
      "  s_dbfs = 20 * np.log10(s_mag)\n",
      "/home/user/kuei_jan_CHU/PGClustered_ESN/Methods/./Utils/global_utils.py:290: RuntimeWarning: invalid value encountered in divide\n",
      "  trajectory = (trajectory-trajectory.mean())/trajectory.std()\n",
      "/home/user/kuei_jan_CHU/PGClustered_ESN/Methods/./Utils/global_utils.py:302: RuntimeWarning: Mean of empty slice\n",
      "  spectrum = np.nanmean(np.array(spectrum),axis=0)\n",
      "Grid Search Progress: 100%|███████████| 25/25 [10:21<00:00, 24.88s/trial, Current Best Loss=0.12635]\n",
      "{'radius': 0.7, 'sigma_input': 1.0, 'regularization': 0.01, 'noise_level': 5}\n"
     ]
    }
   ],
   "source": [
    "!bash ./0_Standard_ESN_Tune.sh \"tune\" 200 0.89 0.89 5 \"grid_search.json\" "
   ]
  },
  {
   "cell_type": "code",
   "execution_count": 6,
   "metadata": {},
   "outputs": [
    {
     "name": "stdout",
     "output_type": "stream",
     "text": [
      "{'radius': 0.7, 'sigma_input': 1.0, 'regularization': 0.01, 'noise_level': 5}\n",
      "AVERAGE RMNSE ERROR ON TRAIN DATA SET: 1.1673342323185487 ± 0.01808269775098732\n",
      "AVG NUMBER OF ACCURATE 0.5 PREDICTIONS ON TRAIN DATA SET: 3.0362314513625557 ± 0.24511472435929202\n",
      "AVG NUMBER OF ACCURATE 1 PREDICTIONS ON TRAIN DATA SET: 3.715198457044641 ± 0.3505329125235864\n",
      "POWER SPECTRUM MEAN ERROR ON TRAIN DATA SET: 1.5888983366751082 ± 1.156060293795361\n",
      "TEMPORAL DISTANCE ON TRAIN DATA SET: 0.11432100888863202 ± 0.008155497500667457\n",
      "GEOMETRICAL DISTANCE ON TRAIN DATA SET: 0.020410640594621682 ± 0.005389600665124021\n",
      "\n",
      "\n",
      "AVERAGE RMNSE ERROR ON TEST DATA SET: 1.1740019016742214 ± 0.020203152512243208\n",
      "AVG NUMBER OF ACCURATE 0.5 PREDICTIONS ON TEST DATA SET: 3.067386726673452 ± 0.22351023543963283\n",
      "AVG NUMBER OF ACCURATE 1 PREDICTIONS ON TEST DATA SET: 3.6476196674489927 ± 0.2561952681341612\n",
      "POWER SPECTRUM MEAN ERROR ON TEST DATA SET: 3.224147197282698 ± 1.4218368412416094\n",
      "TEMPORAL DISTANCE ON TEST DATA SET: 0.1044303438995422 ± 0.005319531769034103\n",
      "GEOMETRICAL DISTANCE ON TEST DATA SET: 0.01511579260386579 ± 0.00895525421022288\n"
     ]
    }
   ],
   "source": [
    "!bash ./1_Standard_ESN_Evaluate_Tuned_Model.sh \"evaluate_tuned_model\" 200 0.89 0.89 5 \"grid_search.json\" "
   ]
  },
  {
   "cell_type": "code",
   "execution_count": 13,
   "metadata": {},
   "outputs": [
    {
     "name": "stdout",
     "output_type": "stream",
     "text": [
      "Grid Search Progress:   0%|                                               | 0/25 [00:00<?, ?trial/s]/home/user/kuei_jan_CHU/PGClustered_ESN/Methods/./Utils/global_utils.py:255: RuntimeWarning: divide by zero encountered in log10\n",
      "  s_dbfs = 20 * np.log10(s_mag)\n",
      "/home/user/kuei_jan_CHU/PGClustered_ESN/Methods/./Utils/global_utils.py:290: RuntimeWarning: invalid value encountered in divide\n",
      "  trajectory = (trajectory-trajectory.mean())/trajectory.std()\n",
      "/home/user/kuei_jan_CHU/PGClustered_ESN/Methods/./Utils/global_utils.py:302: RuntimeWarning: Mean of empty slice\n",
      "  spectrum = np.nanmean(np.array(spectrum),axis=0)\n",
      "Grid Search Progress: 100%|███████████| 25/25 [10:44<00:00, 25.80s/trial, Current Best Loss=0.12210]\n",
      "{'radius': 0.7, 'sigma_input': 1.0, 'regularization': 0.01, 'noise_level': 5}\n"
     ]
    }
   ],
   "source": [
    "!bash ./0_Standard_ESN_Tune.sh \"tune\" 250 0.89 0.89 6 \"grid_search.json\" "
   ]
  },
  {
   "cell_type": "code",
   "execution_count": 7,
   "metadata": {},
   "outputs": [
    {
     "name": "stdout",
     "output_type": "stream",
     "text": [
      "{'radius': 0.7, 'sigma_input': 1.0, 'regularization': 0.01, 'noise_level': 5}\n",
      "AVERAGE RMNSE ERROR ON TRAIN DATA SET: 1.168368989594887 ± 0.029833215592229873\n",
      "AVG NUMBER OF ACCURATE 0.5 PREDICTIONS ON TRAIN DATA SET: 3.3469667191135137 ± 0.5284461596280824\n",
      "AVG NUMBER OF ACCURATE 1 PREDICTIONS ON TRAIN DATA SET: 3.993688469007354 ± 0.5664425434394031\n",
      "POWER SPECTRUM MEAN ERROR ON TRAIN DATA SET: 2.301296291060195 ± 1.1596107294890412\n",
      "TEMPORAL DISTANCE ON TRAIN DATA SET: 0.1121759291076438 ± 0.007008323586963167\n",
      "GEOMETRICAL DISTANCE ON TRAIN DATA SET: 0.020488793239263794 ± 0.0049348969967578215\n",
      "\n",
      "\n",
      "AVERAGE RMNSE ERROR ON TEST DATA SET: 1.1709780918008519 ± 0.021016296387671683\n",
      "AVG NUMBER OF ACCURATE 0.5 PREDICTIONS ON TEST DATA SET: 3.4674095618605967 ± 0.3658816139215929\n",
      "AVG NUMBER OF ACCURATE 1 PREDICTIONS ON TEST DATA SET: 3.883691272501534 ± 0.4150500236212237\n",
      "POWER SPECTRUM MEAN ERROR ON TEST DATA SET: 1.6105447421076977 ± 0.9961244130392085\n",
      "TEMPORAL DISTANCE ON TEST DATA SET: 0.10734327314725525 ± 0.00459193758446414\n",
      "GEOMETRICAL DISTANCE ON TEST DATA SET: 0.02122208331178354 ± 0.007360563509301979\n"
     ]
    }
   ],
   "source": [
    "!bash ./1_Standard_ESN_Evaluate_Tuned_Model.sh \"evaluate_tuned_model\" 250 0.89 0.89 6 \"grid_search.json\""
   ]
  },
  {
   "cell_type": "code",
   "execution_count": 15,
   "metadata": {},
   "outputs": [
    {
     "name": "stdout",
     "output_type": "stream",
     "text": [
      "Grid Search Progress:   0%|                                               | 0/25 [00:00<?, ?trial/s]/home/user/kuei_jan_CHU/PGClustered_ESN/Methods/./Utils/global_utils.py:255: RuntimeWarning: divide by zero encountered in log10\n",
      "  s_dbfs = 20 * np.log10(s_mag)\n",
      "/home/user/kuei_jan_CHU/PGClustered_ESN/Methods/./Utils/global_utils.py:290: RuntimeWarning: invalid value encountered in divide\n",
      "  trajectory = (trajectory-trajectory.mean())/trajectory.std()\n",
      "/home/user/kuei_jan_CHU/PGClustered_ESN/Methods/./Utils/global_utils.py:302: RuntimeWarning: Mean of empty slice\n",
      "  spectrum = np.nanmean(np.array(spectrum),axis=0)\n",
      "Grid Search Progress: 100%|███████████| 25/25 [11:55<00:00, 28.61s/trial, Current Best Loss=0.12394]\n",
      "{'radius': 0.9, 'sigma_input': 1.0, 'regularization': 0.01, 'noise_level': 5}\n"
     ]
    }
   ],
   "source": [
    "!bash ./0_Standard_ESN_Tune.sh \"tune\" 300 0.89 0.89 7 \"grid_search.json\" "
   ]
  },
  {
   "cell_type": "code",
   "execution_count": 8,
   "metadata": {},
   "outputs": [
    {
     "name": "stdout",
     "output_type": "stream",
     "text": [
      "{'radius': 0.9, 'sigma_input': 1.0, 'regularization': 0.01, 'noise_level': 5}\n",
      "AVERAGE RMNSE ERROR ON TRAIN DATA SET: 1.1668487308755775 ± 0.028634067694926626\n",
      "AVG NUMBER OF ACCURATE 0.5 PREDICTIONS ON TRAIN DATA SET: 3.15385851120982 ± 0.39360844445266224\n",
      "AVG NUMBER OF ACCURATE 1 PREDICTIONS ON TRAIN DATA SET: 3.700937879132657 ± 0.6290397343448916\n",
      "POWER SPECTRUM MEAN ERROR ON TRAIN DATA SET: 2.3909436279887233 ± 1.4033058374244187\n",
      "TEMPORAL DISTANCE ON TRAIN DATA SET: 0.1157518079898473 ± 0.006783372969737649\n",
      "GEOMETRICAL DISTANCE ON TRAIN DATA SET: 0.020188407190778808 ± 0.009658770964962295\n",
      "\n",
      "\n",
      "AVERAGE RMNSE ERROR ON TEST DATA SET: 1.169479153536388 ± 0.02428049637413024\n",
      "AVG NUMBER OF ACCURATE 0.5 PREDICTIONS ON TEST DATA SET: 3.4655929277316817 ± 0.2663238297510338\n",
      "AVG NUMBER OF ACCURATE 1 PREDICTIONS ON TEST DATA SET: 3.946819308481339 ± 0.3196287086949406\n",
      "POWER SPECTRUM MEAN ERROR ON TEST DATA SET: 3.0366841489425163 ± 1.5264159931951258\n",
      "TEMPORAL DISTANCE ON TEST DATA SET: 0.10394059784714012 ± 0.010186377285246647\n",
      "GEOMETRICAL DISTANCE ON TEST DATA SET: 0.019016943319999816 ± 0.009244854980272783\n"
     ]
    }
   ],
   "source": [
    "!bash ./1_Standard_ESN_Evaluate_Tuned_Model.sh \"evaluate_tuned_model\" 300 0.89 0.89 7 \"grid_search.json\""
   ]
  },
  {
   "cell_type": "code",
   "execution_count": 17,
   "metadata": {},
   "outputs": [
    {
     "name": "stdout",
     "output_type": "stream",
     "text": [
      "Grid Search Progress:   0%|                                               | 0/25 [00:00<?, ?trial/s]/home/user/kuei_jan_CHU/PGClustered_ESN/Methods/./Utils/global_utils.py:255: RuntimeWarning: divide by zero encountered in log10\n",
      "  s_dbfs = 20 * np.log10(s_mag)\n",
      "/home/user/kuei_jan_CHU/PGClustered_ESN/Methods/./Utils/global_utils.py:290: RuntimeWarning: invalid value encountered in divide\n",
      "  trajectory = (trajectory-trajectory.mean())/trajectory.std()\n",
      "/home/user/kuei_jan_CHU/PGClustered_ESN/Methods/./Utils/global_utils.py:302: RuntimeWarning: Mean of empty slice\n",
      "  spectrum = np.nanmean(np.array(spectrum),axis=0)\n",
      "Grid Search Progress: 100%|███████████| 25/25 [12:26<00:00, 29.85s/trial, Current Best Loss=0.12082]\n",
      "{'radius': 0.4, 'sigma_input': 1.5, 'regularization': 0.01, 'noise_level': 5}\n"
     ]
    }
   ],
   "source": [
    "!bash ./0_Standard_ESN_Tune.sh \"tune\" 350 0.89 0.89 8 \"grid_search.json\" "
   ]
  },
  {
   "cell_type": "code",
   "execution_count": 9,
   "metadata": {},
   "outputs": [
    {
     "name": "stdout",
     "output_type": "stream",
     "text": [
      "{'radius': 0.4, 'sigma_input': 1.5, 'regularization': 0.01, 'noise_level': 5}\n",
      "AVERAGE RMNSE ERROR ON TRAIN DATA SET: 1.1630635405259424 ± 0.01893084409288274\n",
      "AVG NUMBER OF ACCURATE 0.5 PREDICTIONS ON TRAIN DATA SET: 3.289833575759128 ± 0.335247622220235\n",
      "AVG NUMBER OF ACCURATE 1 PREDICTIONS ON TRAIN DATA SET: 3.736816403178733 ± 0.41628082868256466\n",
      "POWER SPECTRUM MEAN ERROR ON TRAIN DATA SET: 2.261493095269827 ± 1.3098836353308216\n",
      "TEMPORAL DISTANCE ON TRAIN DATA SET: 0.1148816979106961 ± 0.005900803667626799\n",
      "GEOMETRICAL DISTANCE ON TRAIN DATA SET: 0.017743315776661626 ± 0.006666363580779456\n",
      "\n",
      "\n",
      "AVERAGE RMNSE ERROR ON TEST DATA SET: 1.1484238806001843 ± 0.022546150234568248\n",
      "AVG NUMBER OF ACCURATE 0.5 PREDICTIONS ON TEST DATA SET: 3.471678652063548 ± 0.28558922883446936\n",
      "AVG NUMBER OF ACCURATE 1 PREDICTIONS ON TEST DATA SET: 3.9344661964047156 ± 0.3471464237604446\n",
      "POWER SPECTRUM MEAN ERROR ON TEST DATA SET: 3.237158420384497 ± 1.5775122416659253\n",
      "TEMPORAL DISTANCE ON TEST DATA SET: 0.11056066325222876 ± 0.007977477826755057\n",
      "GEOMETRICAL DISTANCE ON TEST DATA SET: 0.018322522542198252 ± 0.007232678398904386\n"
     ]
    }
   ],
   "source": [
    "!bash ./1_Standard_ESN_Evaluate_Tuned_Model.sh \"evaluate_tuned_model\" 350 0.89 0.89 8 \"grid_search.json\""
   ]
  },
  {
   "cell_type": "code",
   "execution_count": 19,
   "metadata": {},
   "outputs": [
    {
     "name": "stdout",
     "output_type": "stream",
     "text": [
      "Grid Search Progress:   0%|                                               | 0/25 [00:00<?, ?trial/s]/home/user/kuei_jan_CHU/PGClustered_ESN/Methods/./Utils/global_utils.py:255: RuntimeWarning: divide by zero encountered in log10\n",
      "  s_dbfs = 20 * np.log10(s_mag)\n",
      "/home/user/kuei_jan_CHU/PGClustered_ESN/Methods/./Utils/global_utils.py:290: RuntimeWarning: invalid value encountered in divide\n",
      "  trajectory = (trajectory-trajectory.mean())/trajectory.std()\n",
      "/home/user/kuei_jan_CHU/PGClustered_ESN/Methods/./Utils/global_utils.py:302: RuntimeWarning: Mean of empty slice\n",
      "  spectrum = np.nanmean(np.array(spectrum),axis=0)\n",
      "Grid Search Progress: 100%|███████████| 25/25 [13:42<00:00, 32.88s/trial, Current Best Loss=0.12066]\n",
      "{'radius': 0.7, 'sigma_input': 1.0, 'regularization': 0.01, 'noise_level': 5}\n"
     ]
    }
   ],
   "source": [
    "!bash ./0_Standard_ESN_Tune.sh \"tune\" 400 0.89 0.89 9 \"grid_search.json\" "
   ]
  },
  {
   "cell_type": "code",
   "execution_count": 10,
   "metadata": {
    "editable": true,
    "slideshow": {
     "slide_type": ""
    },
    "tags": []
   },
   "outputs": [
    {
     "name": "stdout",
     "output_type": "stream",
     "text": [
      "{'radius': 0.7, 'sigma_input': 1.0, 'regularization': 0.01, 'noise_level': 5}\n",
      "AVERAGE RMNSE ERROR ON TRAIN DATA SET: 1.1618763295489623 ± 0.023448049156206578\n",
      "AVG NUMBER OF ACCURATE 0.5 PREDICTIONS ON TRAIN DATA SET: 3.5588770902514817 ± 0.5944999303028178\n",
      "AVG NUMBER OF ACCURATE 1 PREDICTIONS ON TRAIN DATA SET: 4.219496091231524 ± 0.6498780021262957\n",
      "POWER SPECTRUM MEAN ERROR ON TRAIN DATA SET: 1.9758002707020292 ± 1.0845854948346911\n",
      "TEMPORAL DISTANCE ON TRAIN DATA SET: 0.10973754678932128 ± 0.006111533938701102\n",
      "GEOMETRICAL DISTANCE ON TRAIN DATA SET: 0.017976619782995897 ± 0.0058696191950814965\n",
      "\n",
      "\n",
      "AVERAGE RMNSE ERROR ON TEST DATA SET: 1.158623707527388 ± 0.019042075867213418\n",
      "AVG NUMBER OF ACCURATE 0.5 PREDICTIONS ON TEST DATA SET: 3.6787749427598895 ± 0.2723047452728751\n",
      "AVG NUMBER OF ACCURATE 1 PREDICTIONS ON TEST DATA SET: 4.050912444068185 ± 0.3426541823897264\n",
      "POWER SPECTRUM MEAN ERROR ON TEST DATA SET: 2.6359263429613202 ± 1.4880141530061541\n",
      "TEMPORAL DISTANCE ON TEST DATA SET: 0.10335055091143577 ± 0.0038949221896093637\n",
      "GEOMETRICAL DISTANCE ON TEST DATA SET: 0.017070479922238316 ± 0.005914489913484411\n"
     ]
    }
   ],
   "source": [
    "!bash ./1_Standard_ESN_Evaluate_Tuned_Model.sh \"evaluate_tuned_model\" 400 0.89 0.89 9 \"grid_search.json\""
   ]
  },
  {
   "cell_type": "code",
   "execution_count": null,
   "metadata": {
    "editable": true,
    "slideshow": {
     "slide_type": ""
    },
    "tags": []
   },
   "outputs": [],
   "source": []
  }
 ],
 "metadata": {
  "kernelspec": {
   "display_name": "base",
   "language": "python",
   "name": "python3"
  },
  "language_info": {
   "codemirror_mode": {
    "name": "ipython",
    "version": 3
   },
   "file_extension": ".py",
   "mimetype": "text/x-python",
   "name": "python",
   "nbconvert_exporter": "python",
   "pygments_lexer": "ipython3",
   "version": "3.11.8"
  }
 },
 "nbformat": 4,
 "nbformat_minor": 4
}
