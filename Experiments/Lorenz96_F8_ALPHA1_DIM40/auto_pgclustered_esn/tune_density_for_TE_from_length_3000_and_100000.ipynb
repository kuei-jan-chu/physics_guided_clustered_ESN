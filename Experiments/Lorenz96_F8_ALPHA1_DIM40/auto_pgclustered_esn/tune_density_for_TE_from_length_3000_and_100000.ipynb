{
 "cells": [
  {
   "cell_type": "markdown",
   "id": "0b9d01c8",
   "metadata": {},
   "source": [
    "## tune using TE from sequence of length 3000"
   ]
  },
  {
   "cell_type": "code",
   "execution_count": null,
   "id": "5b8d8975",
   "metadata": {},
   "outputs": [],
   "source": [
    "!bash ./0_AutoPGClustered_ESN_Tune.sh \"tune\" 250 0.1 0.1 1 \"grid_search_for_extracted_knowledge_from_3000.json\" 3000"
   ]
  },
  {
   "cell_type": "code",
   "execution_count": null,
   "id": "179571d4",
   "metadata": {},
   "outputs": [],
   "source": [
    "!bash ./1_AutoPGClustered_ESN_Evaluate_Tuned_Model.sh \"evaluate_tuned_model\" 250 0.1 0.1 1 \"grid_search_for_extracted_knowledge_from_3000.json\" 3000"
   ]
  },
  {
   "cell_type": "code",
   "execution_count": null,
   "id": "7f524c8e",
   "metadata": {},
   "outputs": [],
   "source": [
    "!bash ./0_AutoPGClustered_ESN_Tune.sh \"tune\" 500 0.1 0.1 2 \"grid_search_for_extracted_knowledge_from_3000.json\" 3000"
   ]
  },
  {
   "cell_type": "code",
   "execution_count": null,
   "id": "c2de46ec",
   "metadata": {},
   "outputs": [],
   "source": [
    "!bash ./1_AutoPGClustered_ESN_Evaluate_Tuned_Model.sh \"evaluate_tuned_model\" 500 0.1 0.1 2 \"grid_search_for_extracted_knowledge_from_3000.json\" 3000"
   ]
  },
  {
   "cell_type": "code",
   "execution_count": null,
   "id": "aa94f080",
   "metadata": {},
   "outputs": [],
   "source": [
    "!bash ./0_AutoPGClustered_ESN_Tune.sh \"tune\" 1000 0.1 0.1 3 \"grid_search_for_extracted_knowledge_from_3000.json\" 3000"
   ]
  },
  {
   "cell_type": "code",
   "execution_count": null,
   "id": "05f3fd03",
   "metadata": {},
   "outputs": [],
   "source": [
    "!bash ./1_AutoPGClustered_ESN_Evaluate_Tuned_Model.sh \"evaluate_tuned_model\" 1000 0.1 0.1 3 \"grid_search_for_extracted_knowledge_from_3000.json\" 3000"
   ]
  },
  {
   "cell_type": "code",
   "execution_count": null,
   "id": "373b5bb7",
   "metadata": {},
   "outputs": [],
   "source": [
    "!bash ./0_AutoPGClustered_ESN_Tune.sh \"tune\" 1500 0.1 0.1 4 \"grid_search_for_extracted_knowledge_from_3000.json\" 3000"
   ]
  },
  {
   "cell_type": "code",
   "execution_count": null,
   "id": "e88a9988",
   "metadata": {},
   "outputs": [],
   "source": [
    "!bash ./1_AutoPGClustered_ESN_Evaluate_Tuned_Model.sh \"evaluate_tuned_model\" 1500 0.1 0.1 4 \"grid_search_for_extracted_knowledge_from_3000.json\" 3000"
   ]
  },
  {
   "cell_type": "code",
   "execution_count": null,
   "id": "02c191fa",
   "metadata": {},
   "outputs": [],
   "source": [
    "!bash ./0_AutoPGClustered_ESN_Tune.sh \"tune\" 2000 0.1 0.1 5 \"grid_search_for_extracted_knowledge_from_3000.json\" 3000"
   ]
  },
  {
   "cell_type": "code",
   "execution_count": null,
   "id": "1fb6ec4a",
   "metadata": {},
   "outputs": [],
   "source": [
    "!bash ./1_AutoPGClustered_ESN_Evaluate_Tuned_Model.sh \"evaluate_tuned_model\" 2000 0.1 0.1 5 \"grid_search_for_extracted_knowledge_from_3000.json\" 3000"
   ]
  },
  {
   "cell_type": "code",
   "execution_count": null,
   "id": "dcb9a953",
   "metadata": {},
   "outputs": [],
   "source": [
    "!bash ./0_AutoPGClustered_ESN_Tune.sh \"tune\" 2500 0.1 0.1 6 \"grid_search_for_extracted_knowledge_from_3000.json\" 3000"
   ]
  },
  {
   "cell_type": "code",
   "execution_count": null,
   "id": "b84bbb26",
   "metadata": {},
   "outputs": [],
   "source": [
    "!bash ./1_AutoPGClustered_ESN_Evaluate_Tuned_Model.sh \"evaluate_tuned_model\" 2500 0.1 0.1 6 \"grid_search_for_extracted_knowledge_from_3000.json\" 3000"
   ]
  },
  {
   "cell_type": "code",
   "execution_count": null,
   "id": "ea25bbb7",
   "metadata": {},
   "outputs": [],
   "source": [
    "!bash ./0_AutoPGClustered_ESN_Tune.sh \"tune\" 3000 0.1 0.1 7 \"grid_search_for_extracted_knowledge_from_3000.json\" 3000"
   ]
  },
  {
   "cell_type": "code",
   "execution_count": null,
   "id": "1ff4158e",
   "metadata": {},
   "outputs": [],
   "source": [
    "!bash ./1_AutoPGClustered_ESN_Evaluate_Tuned_Model.sh \"evaluate_tuned_model\" 3000 0.1 0.1 7 \"grid_search_for_extracted_knowledge_from_3000.json\" 3000"
   ]
  },
  {
   "cell_type": "code",
   "execution_count": null,
   "id": "35c92161",
   "metadata": {},
   "outputs": [],
   "source": [
    "!bash ./0_AutoPGClustered_ESN_Tune.sh \"tune\" 3500 0.1 0.1 8 \"grid_search_for_extracted_knowledge_from_3000.json\" 3000"
   ]
  },
  {
   "cell_type": "code",
   "execution_count": null,
   "id": "b5dcc443",
   "metadata": {},
   "outputs": [],
   "source": [
    "!bash ./1_AutoPGClustered_ESN_Evaluate_Tuned_Model.sh \"evaluate_tuned_model\" 3500 0.1 0.1 8 \"grid_search_for_extracted_knowledge_from_3000.json\" 3000"
   ]
  },
  {
   "cell_type": "code",
   "execution_count": null,
   "id": "aca72c24",
   "metadata": {},
   "outputs": [],
   "source": [
    "!bash ./0_AutoPGClustered_ESN_Tune.sh \"tune\" 4000 0.1 0.1 9 \"grid_search_for_extracted_knowledge_from_3000.json\" 3000"
   ]
  },
  {
   "cell_type": "code",
   "execution_count": null,
   "id": "82489d39",
   "metadata": {},
   "outputs": [],
   "source": [
    "!bash ./1_AutoPGClustered_ESN_Evaluate_Tuned_Model.sh \"evaluate_tuned_model\" 4000 0.1 0.1 9 \"grid_search_for_extracted_knowledge_from_3000.json\" 3000"
   ]
  },
  {
   "cell_type": "markdown",
   "id": "149a80ac",
   "metadata": {},
   "source": [
    "## tune using TE from sequence of length 100000"
   ]
  },
  {
   "cell_type": "code",
   "execution_count": null,
   "id": "b28bf722",
   "metadata": {},
   "outputs": [],
   "source": [
    "!bash ./0_AutoPGClustered_ESN_Tune.sh \"tune\" 250 0.1 0.1 1 \"grid_search_for_extracted_knowledge_from_100000.json\" 100000"
   ]
  },
  {
   "cell_type": "code",
   "execution_count": null,
   "id": "7541e345",
   "metadata": {},
   "outputs": [],
   "source": [
    "!bash ./1_AutoPGClustered_ESN_Evaluate_Tuned_Model.sh \"evaluate_tuned_model\" 250 0.1 0.1 1 \"grid_search_for_extracted_knowledge_from_100000.json\" 100000"
   ]
  },
  {
   "cell_type": "code",
   "execution_count": null,
   "id": "37664745",
   "metadata": {},
   "outputs": [],
   "source": [
    "!bash ./0_AutoPGClustered_ESN_Tune.sh \"tune\" 500 0.1 0.1 2 \"grid_search_for_extracted_knowledge_from_100000.json\" 100000"
   ]
  },
  {
   "cell_type": "code",
   "execution_count": null,
   "id": "4f841b10",
   "metadata": {},
   "outputs": [],
   "source": [
    "!bash ./1_AutoPGClustered_ESN_Evaluate_Tuned_Model.sh \"evaluate_tuned_model\" 500 0.1 0.1 2 \"grid_search_for_extracted_knowledge_from_100000.json\" 100000"
   ]
  },
  {
   "cell_type": "code",
   "execution_count": null,
   "id": "8d65fa70",
   "metadata": {},
   "outputs": [],
   "source": [
    "!bash ./0_AutoPGClustered_ESN_Tune.sh \"tune\" 1000 0.1 0.1 3 \"grid_search_for_extracted_knowledge_from_100000.json\" 100000"
   ]
  },
  {
   "cell_type": "code",
   "execution_count": null,
   "id": "efdb15d2",
   "metadata": {},
   "outputs": [],
   "source": [
    "!bash ./1_AutoPGClustered_ESN_Evaluate_Tuned_Model.sh \"evaluate_tuned_model\" 1000 0.1 0.1 3 \"grid_search_for_extracted_knowledge_from_100000.json\" 100000"
   ]
  },
  {
   "cell_type": "code",
   "execution_count": null,
   "id": "f017dbe6",
   "metadata": {},
   "outputs": [],
   "source": [
    "!bash ./0_AutoPGClustered_ESN_Tune.sh \"tune\" 1500 0.1 0.1 4 \"grid_search_for_extracted_knowledge_from_100000.json\" 100000"
   ]
  },
  {
   "cell_type": "code",
   "execution_count": null,
   "id": "33c0a835",
   "metadata": {},
   "outputs": [],
   "source": [
    "!bash ./1_AutoPGClustered_ESN_Evaluate_Tuned_Model.sh \"evaluate_tuned_model\" 1500 0.1 0.1 4 \"grid_search_for_extracted_knowledge_from_100000.json\" 100000"
   ]
  },
  {
   "cell_type": "code",
   "execution_count": null,
   "id": "89da0ffc",
   "metadata": {},
   "outputs": [],
   "source": [
    "!bash ./0_AutoPGClustered_ESN_Tune.sh \"tune\" 2000 0.1 0.1 5 \"grid_search_for_extracted_knowledge_from_100000.json\" 100000"
   ]
  },
  {
   "cell_type": "code",
   "execution_count": null,
   "id": "f7c610a4",
   "metadata": {},
   "outputs": [],
   "source": [
    "!bash ./1_AutoPGClustered_ESN_Evaluate_Tuned_Model.sh \"evaluate_tuned_model\" 2000 0.1 0.1 5 \"grid_search_for_extracted_knowledge_from_100000.json\" 100000"
   ]
  },
  {
   "cell_type": "code",
   "execution_count": null,
   "id": "aca29ce7",
   "metadata": {},
   "outputs": [],
   "source": [
    "!bash ./0_AutoPGClustered_ESN_Tune.sh \"tune\" 2500 0.1 0.1 6 \"grid_search_for_extracted_knowledge_from_100000.json\" 100000"
   ]
  },
  {
   "cell_type": "code",
   "execution_count": null,
   "id": "58f72b42",
   "metadata": {},
   "outputs": [],
   "source": [
    "!bash ./1_AutoPGClustered_ESN_Evaluate_Tuned_Model.sh \"evaluate_tuned_model\" 2500 0.1 0.1 6 \"grid_search_for_extracted_knowledge_from_100000.json\" 100000"
   ]
  },
  {
   "cell_type": "code",
   "execution_count": null,
   "id": "64d18240",
   "metadata": {},
   "outputs": [],
   "source": [
    "!bash ./0_AutoPGClustered_ESN_Tune.sh \"tune\" 3000 0.1 0.1 7 \"grid_search_for_extracted_knowledge_from_100000.json\" 100000"
   ]
  },
  {
   "cell_type": "code",
   "execution_count": null,
   "id": "dbce52b8",
   "metadata": {},
   "outputs": [],
   "source": [
    "!bash ./1_AutoPGClustered_ESN_Evaluate_Tuned_Model.sh \"evaluate_tuned_model\" 3000 0.1 0.1 7 \"grid_search_for_extracted_knowledge_from_100000.json\" 100000"
   ]
  },
  {
   "cell_type": "code",
   "execution_count": null,
   "id": "28608238",
   "metadata": {},
   "outputs": [],
   "source": [
    "!bash ./0_AutoPGClustered_ESN_Tune.sh \"tune\" 3500 0.1 0.1 8 \"grid_search_for_extracted_knowledge_from_100000.json\" 100000"
   ]
  },
  {
   "cell_type": "code",
   "execution_count": null,
   "id": "79a122ec",
   "metadata": {},
   "outputs": [],
   "source": [
    "!bash ./1_AutoPGClustered_ESN_Evaluate_Tuned_Model.sh \"evaluate_tuned_model\" 3500 0.1 0.1 8 \"grid_search_for_extracted_knowledge_from_100000.json\" 100000"
   ]
  },
  {
   "cell_type": "code",
   "execution_count": null,
   "id": "a77dac8f",
   "metadata": {},
   "outputs": [],
   "source": [
    "!bash ./0_AutoPGClustered_ESN_Tune.sh \"tune\" 4000 0.1 0.1 9 \"grid_search_for_extracted_knowledge_from_100000.json\" 100000"
   ]
  },
  {
   "cell_type": "code",
   "execution_count": null,
   "id": "7662dfaf",
   "metadata": {},
   "outputs": [],
   "source": [
    "!bash ./1_AutoPGClustered_ESN_Evaluate_Tuned_Model.sh \"evaluate_tuned_model\" 4000 0.1 0.1 9 \"grid_search_for_extracted_knowledge_from_100000.json\" 100000"
   ]
  }
 ],
 "metadata": {
  "kernelspec": {
   "display_name": "pgc_esn_exp",
   "language": "python",
   "name": "python3"
  },
  "language_info": {
   "codemirror_mode": {
    "name": "ipython",
    "version": 3
   },
   "file_extension": ".py",
   "mimetype": "text/x-python",
   "name": "python",
   "nbconvert_exporter": "python",
   "pygments_lexer": "ipython3",
   "version": "3.11.8"
  }
 },
 "nbformat": 4,
 "nbformat_minor": 5
}
