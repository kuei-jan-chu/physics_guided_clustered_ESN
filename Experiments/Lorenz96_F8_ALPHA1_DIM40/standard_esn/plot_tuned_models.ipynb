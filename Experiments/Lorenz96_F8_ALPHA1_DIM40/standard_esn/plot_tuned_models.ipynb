{
 "cells": [
  {
   "cell_type": "code",
   "execution_count": null,
   "metadata": {},
   "outputs": [],
   "source": [
    "!bash ./2_Standard_ESN_Plot_Tuned_Model.sh \"plot_tuned_model\" 500 0.1 0.1 2 \"grid_search.json\" "
   ]
  },
  {
   "cell_type": "code",
   "execution_count": 3,
   "metadata": {},
   "outputs": [
    {
     "name": "stdout",
     "output_type": "stream",
     "text": [
      "CUDA Device available? False\n",
      "Using device: cpu\n",
      "RANDOM SEED: 0\n",
      "Adding noise to the training data. 5 per mille \n",
      "##Using 40/40 dimensions and 100000/100000 samples ##\n",
      "SCALING\n",
      "Initializing the input weights...\n",
      "Initializing the reservoir weights...\n",
      "NETWORK SPARSITY: 0.1\n",
      "Computing sparse hidden to hidden weight matrix...\n",
      "EIGENVALUE DECOMPOSITION\n",
      "Intel MKL WARNING: Support of Intel(R) Streaming SIMD Extensions 4.2 (Intel(R) SSE4.2) enabled only processors has been deprecated. Intel oneAPI Math Kernel Library 2025.0 will require Intel(R) Advanced Vector Extensions (Intel(R) AVX) instructions.\n",
      "\n",
      "TRAINING: Dynamics prerun...\n",
      "TRAINING - Dynamics prerun: T 2000/2000, 100.000%\n",
      "TRAINING: Teacher forcing...\n",
      "Intel MKL WARNING: Support of Intel(R) Streaming SIMD Extensions 4.2 (Intel(R) SSE4.2) enabled only processors has been deprecated. Intel oneAPI Math Kernel Library 2025.0 will require Intel(R) Advanced Vector Extensions (Intel(R) AVX) instructions.\n",
      "TRAINING - Teacher forcing: T 97999/97999, 100.000%\n",
      "TEACHER FORCING ENDED.\n",
      "\n",
      "TRAINING: COMPUTING THE OUTPUT WEIGHTS...\n",
      "FINALISING WEIGHTS...\n",
      "COMPUTING NUMBER OF PARAMETERS...\n",
      "Number of trainable parameters: 80000\n",
      "Total number of parameters: 4160000\n",
      "SAVING MODEL...\n",
      "Recording time...\n",
      "Total training time is 81.24444913864136\n",
      "MEMORY TRACKING IN MB...\n",
      "Script used 677.3671875 MB\n",
      "Saving the model... In path /Users/kuei_jan_chu/Desktop/PGC-ESN/Results/Lorenz96_F8_ALPHA1_DIM40/standard_esn/Trained_Models/RNN-standard_esnLorenz96_F8_ALPHA1_DIM40-SS_1-RDIM_40-N_train_100000-N_test_100000-SIZE_2000-SP_0.1-RADIUS_0.7-SIGMA_0.1-PIN_0.1-DL_2000-NL_5-IPL_7000-REG_0.01-WID_0/data.pickle\n",
      "\n",
      "\n"
     ]
    }
   ],
   "source": [
    "!bash ./3_Standard_ESN_Train.sh "
   ]
  },
  {
   "cell_type": "code",
   "execution_count": 4,
   "metadata": {},
   "outputs": [
    {
     "name": "stdout",
     "output_type": "stream",
     "text": [
      "CUDA Device available? False\n",
      "Using device: cpu\n",
      "RANDOM SEED: 0\n",
      "TEST ON TESTING SET\n",
      "IC 1/10, 10.000%\n",
      "PREDICTION - Dynamics prerun\n",
      "Intel MKL WARNING: Support of Intel(R) Streaming SIMD Extensions 4.2 (Intel(R) SSE4.2) enabled only processors has been deprecated. Intel oneAPI Math Kernel Library 2025.0 will require Intel(R) Advanced Vector Extensions (Intel(R) AVX) instructions.\n",
      "PREDICTION - Dynamics prerun: T 2000/2000, 100.000%\n",
      "PREDICTION:\n",
      "SEQUENCE PREDICTED...00, 100.000%\n",
      "\n",
      "IC 2/10, 20.000%\n",
      "PREDICTION - Dynamics prerun\n",
      "PREDICTION - Dynamics prerun: T 2000/2000, 100.000%\n",
      "PREDICTION:\n",
      "SEQUENCE PREDICTED...00, 100.000%\n",
      "\n",
      "IC 3/10, 30.000%\n",
      "PREDICTION - Dynamics prerun\n",
      "PREDICTION - Dynamics prerun: T 2000/2000, 100.000%\n",
      "PREDICTION:\n",
      "SEQUENCE PREDICTED...00, 100.000%\n",
      "\n",
      "IC 4/10, 40.000%\n",
      "PREDICTION - Dynamics prerun\n",
      "PREDICTION - Dynamics prerun: T 2000/2000, 100.000%\n",
      "PREDICTION:\n",
      "SEQUENCE PREDICTED...00, 100.000%\n",
      "\n",
      "IC 5/10, 50.000%\n",
      "PREDICTION - Dynamics prerun\n",
      "PREDICTION - Dynamics prerun: T 2000/2000, 100.000%\n",
      "PREDICTION:\n",
      "SEQUENCE PREDICTED...00, 100.000%\n",
      "\n",
      "IC 6/10, 60.000%\n",
      "PREDICTION - Dynamics prerun\n",
      "PREDICTION - Dynamics prerun: T 2000/2000, 100.000%\n",
      "PREDICTION:\n",
      "SEQUENCE PREDICTED...00, 100.000%\n",
      "\n",
      "IC 7/10, 70.000%\n",
      "PREDICTION - Dynamics prerun\n",
      "PREDICTION - Dynamics prerun: T 2000/2000, 100.000%\n",
      "PREDICTION:\n",
      "SEQUENCE PREDICTED...00, 100.000%\n",
      "\n",
      "IC 8/10, 80.000%\n",
      "PREDICTION - Dynamics prerun\n",
      "PREDICTION - Dynamics prerun: T 2000/2000, 100.000%\n",
      "PREDICTION:\n",
      "SEQUENCE PREDICTED...00, 100.000%\n",
      "\n",
      "IC 9/10, 90.000%\n",
      "PREDICTION - Dynamics prerun\n",
      "PREDICTION - Dynamics prerun: T 2000/2000, 100.000%\n",
      "PREDICTION:\n",
      "SEQUENCE PREDICTED...00, 100.000%\n",
      "\n",
      "IC 10/10, 100.000%\n",
      "PREDICTION - Dynamics prerun\n",
      "PREDICTION - Dynamics prerun: T 2000/2000, 100.000%\n",
      "PREDICTION:\n",
      "SEQUENCE PREDICTED...00, 100.000%\n",
      "\n",
      "TRAJECTORIES SHAPES:\n",
      "(10, 7000, 40)\n",
      "(10, 7000, 40)\n",
      "AVERAGE RMNSE ERROR: 1.4182638147677864\n",
      "AVG NUMBER OF ACCURATE 0.5 PREDICTIONS: 1.1496424012643953\n",
      "AVG NUMBER OF ACCURATE 1 PREDICTIONS: 2.106550635257995\n",
      "POWER SPECTRUM MEAN ERROR: 0.46855128244648586\n",
      "TEMPORAL DISTANCE: 0.11344847061715609\n",
      "GEOMETRICAL DISTANCE: 13.474861918776714\n",
      "IC INDEXES OF TEST PREDICTED...\n",
      "\n",
      "\n"
     ]
    }
   ],
   "source": [
    "!bash ./3_Standard_ESN_Test.sh "
   ]
  },
  {
   "cell_type": "code",
   "execution_count": null,
   "metadata": {},
   "outputs": [],
   "source": []
  }
 ],
 "metadata": {
  "kernelspec": {
   "display_name": "pgc_esn_exp",
   "language": "python",
   "name": "python3"
  },
  "language_info": {
   "codemirror_mode": {
    "name": "ipython",
    "version": 3
   },
   "file_extension": ".py",
   "mimetype": "text/x-python",
   "name": "python",
   "nbconvert_exporter": "python",
   "pygments_lexer": "ipython3",
   "version": "3.11.8"
  }
 },
 "nbformat": 4,
 "nbformat_minor": 2
}
