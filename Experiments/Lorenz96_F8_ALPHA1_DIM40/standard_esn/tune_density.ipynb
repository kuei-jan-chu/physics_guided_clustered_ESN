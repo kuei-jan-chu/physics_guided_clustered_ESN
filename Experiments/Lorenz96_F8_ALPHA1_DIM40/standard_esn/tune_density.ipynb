{
 "cells": [
  {
   "cell_type": "code",
   "execution_count": null,
   "id": "5b8d8975",
   "metadata": {},
   "outputs": [],
   "source": [
    "!bash ./0_Standard_ESN_Tune.sh \"tune\" 250 0.1 0.1 1 \"grid_search_include_density.json\""
   ]
  },
  {
   "cell_type": "code",
   "execution_count": null,
   "id": "179571d4",
   "metadata": {},
   "outputs": [],
   "source": [
    "!bash ./1_Standard_ESN_Evaluate_Tuned_Model.sh \"evaluate_tuned_model\" 250 0.1 0.1 1 \"grid_search_include_density.json\""
   ]
  },
  {
   "cell_type": "code",
   "execution_count": null,
   "id": "7f524c8e",
   "metadata": {},
   "outputs": [],
   "source": [
    "!bash ./0_Standard_ESN_Tune.sh \"tune\" 500 0.1 0.1 2 \"grid_search_include_density.json\""
   ]
  },
  {
   "cell_type": "code",
   "execution_count": null,
   "id": "c2de46ec",
   "metadata": {},
   "outputs": [],
   "source": [
    "!bash ./1_Standard_ESN_Evaluate_Tuned_Model.sh \"evaluate_tuned_model\" 500 0.1 0.1 2 \"grid_search_include_density.json\""
   ]
  },
  {
   "cell_type": "code",
   "execution_count": null,
   "id": "aa94f080",
   "metadata": {},
   "outputs": [],
   "source": [
    "!bash ./0_Standard_ESN_Tune.sh \"tune\" 1000 0.1 0.1 3 \"grid_search_include_density.json\""
   ]
  },
  {
   "cell_type": "code",
   "execution_count": null,
   "id": "05f3fd03",
   "metadata": {},
   "outputs": [],
   "source": [
    "!bash ./1_Standard_ESN_Evaluate_Tuned_Model.sh \"evaluate_tuned_model\" 1000 0.1 0.1 3 \"grid_search_include_density.json\""
   ]
  },
  {
   "cell_type": "code",
   "execution_count": null,
   "id": "373b5bb7",
   "metadata": {},
   "outputs": [],
   "source": [
    "!bash ./0_Standard_ESN_Tune.sh \"tune\" 1500 0.1 0.1 4 \"grid_search_include_density.json\""
   ]
  },
  {
   "cell_type": "code",
   "execution_count": null,
   "id": "e88a9988",
   "metadata": {},
   "outputs": [],
   "source": [
    "!bash ./1_Standard_ESN_Evaluate_Tuned_Model.sh \"evaluate_tuned_model\" 1500 0.1 0.1 4 \"grid_search_include_density.json\""
   ]
  },
  {
   "cell_type": "code",
   "execution_count": null,
   "id": "77691564",
   "metadata": {},
   "outputs": [],
   "source": [
    "!bash ./0_Standard_ESN_Tune.sh \"tune\" 2000 0.1 0.1 5 \"grid_search_include_density.json\""
   ]
  },
  {
   "cell_type": "code",
   "execution_count": null,
   "id": "5c59184c",
   "metadata": {},
   "outputs": [],
   "source": [
    "!bash ./1_Standard_ESN_Evaluate_Tuned_Model.sh \"evaluate_tuned_model\" 2000 0.1 0.1 5 \"grid_search_include_density.json\""
   ]
  },
  {
   "cell_type": "code",
   "execution_count": null,
   "id": "4be9595a",
   "metadata": {},
   "outputs": [],
   "source": [
    "!bash ./0_Standard_ESN_Tune.sh \"tune\" 2500 0.1 0.1 6 \"grid_search_include_density.json\""
   ]
  },
  {
   "cell_type": "code",
   "execution_count": null,
   "id": "b7ae75e1",
   "metadata": {},
   "outputs": [],
   "source": [
    "!bash ./1_Standard_ESN_Evaluate_Tuned_Model.sh \"evaluate_tuned_model\" 2500 0.1 0.1 6 \"grid_search_include_density.json\""
   ]
  },
  {
   "cell_type": "code",
   "execution_count": null,
   "id": "8688827a",
   "metadata": {},
   "outputs": [],
   "source": [
    "!bash ./0_Standard_ESN_Tune.sh \"tune\" 3000 0.1 0.1 7 \"grid_search_include_density.json\""
   ]
  },
  {
   "cell_type": "code",
   "execution_count": null,
   "id": "03198b02",
   "metadata": {},
   "outputs": [],
   "source": [
    "!bash ./1_Standard_ESN_Evaluate_Tuned_Model.sh \"evaluate_tuned_model\" 3000 0.1 0.1 7 \"grid_search_include_density.json\""
   ]
  },
  {
   "cell_type": "code",
   "execution_count": null,
   "id": "211c8092",
   "metadata": {},
   "outputs": [],
   "source": [
    "!bash ./0_Standard_ESN_Tune.sh \"tune\" 3500 0.1 0.1 8 \"grid_search_include_density.json\""
   ]
  },
  {
   "cell_type": "code",
   "execution_count": null,
   "id": "6915d6dd",
   "metadata": {},
   "outputs": [],
   "source": [
    "!bash ./1_Standard_ESN_Evaluate_Tuned_Model.sh \"evaluate_tuned_model\" 3500 0.1 0.1 8 \"grid_search_include_density.json\""
   ]
  },
  {
   "cell_type": "code",
   "execution_count": null,
   "id": "79c41b24",
   "metadata": {},
   "outputs": [],
   "source": [
    "!bash ./0_Standard_ESN_Tune.sh \"tune\" 4000 0.1 0.1 9 \"grid_search_include_density.json\""
   ]
  },
  {
   "cell_type": "code",
   "execution_count": null,
   "id": "4320773f",
   "metadata": {},
   "outputs": [],
   "source": [
    "!bash ./1_Standard_ESN_Evaluate_Tuned_Model.sh \"evaluate_tuned_model\" 4000 0.1 0.1 9 \"grid_search_include_density.json\""
   ]
  }
 ],
 "metadata": {
  "kernelspec": {
   "display_name": "pgc_esn_exp",
   "language": "python",
   "name": "python3"
  },
  "language_info": {
   "codemirror_mode": {
    "name": "ipython",
    "version": 3
   },
   "file_extension": ".py",
   "mimetype": "text/x-python",
   "name": "python",
   "nbconvert_exporter": "python",
   "pygments_lexer": "ipython3",
   "version": "3.11.8"
  }
 },
 "nbformat": 4,
 "nbformat_minor": 5
}
