{
 "cells": [
  {
   "cell_type": "markdown",
   "metadata": {
    "editable": true,
    "slideshow": {
     "slide_type": ""
    },
    "tags": []
   },
   "source": [
    "### use --iterative_prediction_length 7000 \\ --num_test_ICS 20 \\ --N 50000 \\ --N_used 50000 \\ --sparsity 0.1 \\ --p_in 0.1 \\  method: tpe \\ size: half hyper space\\ metric: d_temp\n",
    "with washout evaluation, data seperation: 6:4"
   ]
  },
  {
   "cell_type": "code",
   "execution_count": 1,
   "metadata": {},
   "outputs": [
    {
     "name": "stdout",
     "output_type": "stream",
     "text": [
      "  3%|▎         | 1/30 [01:39<47:55, 99.16s/trial, best loss: 0.2945739495606329]/home/user/kuei_jan_CHU/PGClustered_ESN/Methods/./Utils/global_utils.py:254: RuntimeWarning: divide by zero encountered in log10\n",
      "  s_dbfs = 20 * np.log10(s_mag)\n",
      "\n",
      "100%|█████████| 30/30 [42:37<00:00, 85.23s/trial, best loss: 0.2746699622500074]\n",
      "{'in_cluster_weight': 0.5, 'noise_level': 5, 'radius': 0.99, 'regularization': 0.01, 'sigma_input': 0.3}\n"
     ]
    }
   ],
   "source": [
    "!bash ./0_Standard_ESN_Tune.sh \"tune\" 500 0.1 0.1 0 \"random_search.json\""
   ]
  },
  {
   "cell_type": "code",
   "execution_count": 1,
   "metadata": {},
   "outputs": [
    {
     "name": "stdout",
     "output_type": "stream",
     "text": [
      "/home/user/anaconda3/lib/python3.11/site-packages/numpy/core/_methods.py:236: RuntimeWarning: invalid value encountered in subtract\n",
      "  x = asanyarray(arr - arrmean)\n",
      "AVERAGE RMNSE ERROR ON TRAIN DATA SET: 1.9347751054922626 ± 0.18877873573140622\n",
      "AVG NUMBER OF ACCURATE 0.5 PREDICTIONS ON TRAIN DATA SET: 0.20352425374430264 ± 0.009547660602216202\n",
      "AVG NUMBER OF ACCURATE 1 PREDICTIONS ON TRAIN DATA SET: 0.47008624736468746 ± 0.02965667744403525\n",
      "POWER SPECTRUM MEAN ERROR ON TRAIN DATA SET: inf ± nan\n",
      "TEMPORAL DISTANCE ON TRAIN DATA SET: 0.3219982110747412 ± 0.02825916446803953\n",
      "GEOMETRICAL DISTANCE ON TRAIN DATA SET: 8.659473819094258 ± 0.0415566699525889\n",
      "\n",
      "\n",
      "AVERAGE RMNSE ERROR ON TEST DATA SET: 1.9365245926562078 ± 0.19207695010154038\n",
      "AVG NUMBER OF ACCURATE 0.5 PREDICTIONS ON TEST DATA SET: 0.1763876865783956 ± 0.005310665889329937\n",
      "AVG NUMBER OF ACCURATE 1 PREDICTIONS ON TEST DATA SET: 0.42247084224438475 ± 0.03456417793913545\n",
      "POWER SPECTRUM MEAN ERROR ON TEST DATA SET: inf ± nan\n",
      "TEMPORAL DISTANCE ON TEST DATA SET: 0.31992201146110666 ± 0.017529162341441338\n",
      "GEOMETRICAL DISTANCE ON TEST DATA SET: 8.662442888733128 ± 0.04901679651929903\n"
     ]
    }
   ],
   "source": [
    "!bash ./1_Standard_ESN_Evaluate_Tuned_Model.sh \"evaluate_tuned_model\" 500 0.1 0.1 0 \"random_search.json\""
   ]
  },
  {
   "cell_type": "code",
   "execution_count": 3,
   "metadata": {},
   "outputs": [
    {
     "name": "stdout",
     "output_type": "stream",
     "text": [
      " 10%|▊       | 3/30 [06:04<54:19, 120.74s/trial, best loss: 0.21904505583544814]/home/user/kuei_jan_CHU/PGClustered_ESN/Methods/./Utils/global_utils.py:254: RuntimeWarning: divide by zero encountered in log10\n",
      "  s_dbfs = 20 * np.log10(s_mag)\n",
      "\n",
      "100%|███████| 30/30 [59:06<00:00, 118.21s/trial, best loss: 0.21458002524779526]\n",
      "{'in_cluster_weight': 0.5, 'noise_level': 5, 'radius': 1.1, 'regularization': 0.01, 'sigma_input': 0.5}\n"
     ]
    }
   ],
   "source": [
    "!bash ./0_Standard_ESN_Tune.sh \"tune\" 1000 0.1 0.1 1 \"random_search.json\""
   ]
  },
  {
   "cell_type": "code",
   "execution_count": 2,
   "metadata": {},
   "outputs": [
    {
     "name": "stdout",
     "output_type": "stream",
     "text": [
      "AVERAGE RMNSE ERROR ON TRAIN DATA SET: 1.6007138949539095 ± 0.026010371768584718\n",
      "AVG NUMBER OF ACCURATE 0.5 PREDICTIONS ON TRAIN DATA SET: 0.2232446162189059 ± 0.012907846244688556\n",
      "AVG NUMBER OF ACCURATE 1 PREDICTIONS ON TRAIN DATA SET: 0.5150048507790614 ± 0.03181302335057697\n",
      "POWER SPECTRUM MEAN ERROR ON TRAIN DATA SET: 1.9378816720081953 ± 0.4446779408147812\n",
      "TEMPORAL DISTANCE ON TRAIN DATA SET: 0.2626527564770913 ± 0.01828931117847185\n",
      "GEOMETRICAL DISTANCE ON TRAIN DATA SET: 8.535078973785561 ± 0.09048716253812265\n",
      "\n",
      "\n",
      "AVERAGE RMNSE ERROR ON TEST DATA SET: 1.602927726383473 ± 0.026750604564019308\n",
      "AVG NUMBER OF ACCURATE 0.5 PREDICTIONS ON TEST DATA SET: 0.17916876333763454 ± 0.00924877915447474\n",
      "AVG NUMBER OF ACCURATE 1 PREDICTIONS ON TEST DATA SET: 0.4474162580242248 ± 0.033581150191178175\n",
      "POWER SPECTRUM MEAN ERROR ON TEST DATA SET: 1.8357433214692822 ± 2.876410952395837\n",
      "TEMPORAL DISTANCE ON TEST DATA SET: 0.26026379395435273 ± 0.015004947223581092\n",
      "GEOMETRICAL DISTANCE ON TEST DATA SET: 8.533770083319737 ± 0.07145822283031061\n"
     ]
    }
   ],
   "source": [
    "!bash ./1_Standard_ESN_Evaluate_Tuned_Model.sh \"evaluate_tuned_model\" 1000 0.1 0.1 1 \"random_search.json\""
   ]
  },
  {
   "cell_type": "code",
   "execution_count": 5,
   "metadata": {},
   "outputs": [
    {
     "name": "stdout",
     "output_type": "stream",
     "text": [
      " 10%|▌     | 3/30 [09:08<1:20:57, 179.89s/trial, best loss: 0.20008614484554493]/home/user/kuei_jan_CHU/PGClustered_ESN/Methods/./Utils/global_utils.py:254: RuntimeWarning: divide by zero encountered in log10\n",
      "  s_dbfs = 20 * np.log10(s_mag)\n",
      "\n",
      "100%|█████| 30/30 [1:28:35<00:00, 177.18s/trial, best loss: 0.18779327299493662]\n",
      "{'in_cluster_weight': 0.5, 'noise_level': 5, 'radius': 1.1, 'regularization': 0.01, 'sigma_input': 0.5}\n"
     ]
    }
   ],
   "source": [
    "!bash ./0_Standard_ESN_Tune.sh \"tune\" 1500 0.1 0.1 2 \"random_search.json\""
   ]
  },
  {
   "cell_type": "code",
   "execution_count": 3,
   "metadata": {},
   "outputs": [
    {
     "name": "stdout",
     "output_type": "stream",
     "text": [
      "AVERAGE RMNSE ERROR ON TRAIN DATA SET: 1.5819375193321021 ± 0.021391005972046937\n",
      "AVG NUMBER OF ACCURATE 0.5 PREDICTIONS ON TRAIN DATA SET: 0.301873240957388 ± 0.01540090571526722\n",
      "AVG NUMBER OF ACCURATE 1 PREDICTIONS ON TRAIN DATA SET: 0.6630761194452064 ± 0.04379838654726681\n",
      "POWER SPECTRUM MEAN ERROR ON TRAIN DATA SET: 1.9664983764793118 ± 0.4331094898182318\n",
      "TEMPORAL DISTANCE ON TRAIN DATA SET: 0.20842478207043894 ± 0.00811205503553982\n",
      "GEOMETRICAL DISTANCE ON TRAIN DATA SET: 8.514819710423145 ± 0.05194177496925386\n",
      "\n",
      "\n",
      "AVERAGE RMNSE ERROR ON TEST DATA SET: 1.583658785108686 ± 0.026677947531878847\n",
      "AVG NUMBER OF ACCURATE 0.5 PREDICTIONS ON TEST DATA SET: 0.21650261195408427 ± 0.00958626416152811\n",
      "AVG NUMBER OF ACCURATE 1 PREDICTIONS ON TEST DATA SET: 0.5314384861745642 ± 0.02443744052033655\n",
      "POWER SPECTRUM MEAN ERROR ON TEST DATA SET: 1.2965520104963961 ± 0.44358501199815176\n",
      "TEMPORAL DISTANCE ON TEST DATA SET: 0.20631753145545179 ± 0.011072666243270279\n",
      "GEOMETRICAL DISTANCE ON TEST DATA SET: 8.52106095704669 ± 0.05541732271492463\n"
     ]
    }
   ],
   "source": [
    "!bash ./1_Standard_ESN_Evaluate_Tuned_Model.sh \"evaluate_tuned_model\" 1500 0.1 0.1 2 \"random_search.json\""
   ]
  },
  {
   "cell_type": "code",
   "execution_count": 7,
   "metadata": {},
   "outputs": [
    {
     "name": "stdout",
     "output_type": "stream",
     "text": [
      " 10%|▌     | 3/30 [12:20<1:49:54, 244.24s/trial, best loss: 0.19760836548392144]/home/user/kuei_jan_CHU/PGClustered_ESN/Methods/./Utils/global_utils.py:254: RuntimeWarning: divide by zero encountered in log10\n",
      "  s_dbfs = 20 * np.log10(s_mag)\n",
      "\n",
      "100%|█████| 30/30 [2:02:37<00:00, 245.26s/trial, best loss: 0.13627119517512593]\n",
      "{'in_cluster_weight': 0.5, 'noise_level': 5, 'radius': 0.7, 'regularization': 0.01, 'sigma_input': 0.1}\n"
     ]
    }
   ],
   "source": [
    "!bash ./0_Standard_ESN_Tune.sh \"tune\" 2000 0.1 0.1 3 \"random_search.json\""
   ]
  },
  {
   "cell_type": "code",
   "execution_count": 4,
   "metadata": {},
   "outputs": [
    {
     "name": "stdout",
     "output_type": "stream",
     "text": [
      "AVERAGE RMNSE ERROR ON TRAIN DATA SET: 1.4111807699234986 ± 0.013181734803910682\n",
      "AVG NUMBER OF ACCURATE 0.5 PREDICTIONS ON TRAIN DATA SET: 1.4100059169341312 ± 0.12674191923965833\n",
      "AVG NUMBER OF ACCURATE 1 PREDICTIONS ON TRAIN DATA SET: 2.546539285876436 ± 0.1998902471022387\n",
      "POWER SPECTRUM MEAN ERROR ON TRAIN DATA SET: 0.6212163092740215 ± 0.3269312798244587\n",
      "TEMPORAL DISTANCE ON TRAIN DATA SET: 0.114771734447642 ± 0.003163929564719838\n",
      "GEOMETRICAL DISTANCE ON TRAIN DATA SET: 7.945389649322583 ± 0.06235544992006017\n",
      "\n",
      "\n",
      "AVERAGE RMNSE ERROR ON TEST DATA SET: 1.4160294371258977 ± 0.012827553409878761\n",
      "AVG NUMBER OF ACCURATE 0.5 PREDICTIONS ON TEST DATA SET: 1.0556293177644451 ± 0.08066157260479405\n",
      "AVG NUMBER OF ACCURATE 1 PREDICTIONS ON TEST DATA SET: 2.0480523455461874 ± 0.18037294981728902\n",
      "POWER SPECTRUM MEAN ERROR ON TEST DATA SET: 0.6181601619717105 ± 0.3240506808538287\n",
      "TEMPORAL DISTANCE ON TEST DATA SET: 0.11434247247385594 ± 0.0027200738191660158\n",
      "GEOMETRICAL DISTANCE ON TEST DATA SET: 7.944673722429205 ± 0.05267074896286819\n"
     ]
    }
   ],
   "source": [
    "!bash ./1_Standard_ESN_Evaluate_Tuned_Model.sh \"evaluate_tuned_model\" 2000 0.1 0.1 3 \"random_search.json\""
   ]
  },
  {
   "cell_type": "code",
   "execution_count": 9,
   "metadata": {},
   "outputs": [
    {
     "name": "stdout",
     "output_type": "stream",
     "text": [
      " 10%|▊       | 3/30 [32:35<4:48:21, 640.79s/trial, best loss: 0.186645581160751]/home/user/kuei_jan_CHU/PGClustered_ESN/Methods/./Utils/global_utils.py:254: RuntimeWarning: divide by zero encountered in log10\n",
      "  s_dbfs = 20 * np.log10(s_mag)\n",
      "\n",
      "100%|█████| 30/30 [3:16:15<00:00, 392.50s/trial, best loss: 0.12442525681322392]\n",
      "{'in_cluster_weight': 0.5, 'noise_level': 5, 'radius': 0.9, 'regularization': 0.01, 'sigma_input': 0.1}\n"
     ]
    }
   ],
   "source": [
    "!bash ./0_Standard_ESN_Tune.sh \"tune\" 2500 0.1 0.1 4 \"random_search.json\""
   ]
  },
  {
   "cell_type": "code",
   "execution_count": 5,
   "metadata": {},
   "outputs": [
    {
     "name": "stdout",
     "output_type": "stream",
     "text": [
      "AVERAGE RMNSE ERROR ON TRAIN DATA SET: 1.37780373505588 ± 0.006011728057755351\n",
      "AVG NUMBER OF ACCURATE 0.5 PREDICTIONS ON TRAIN DATA SET: 2.0350739873364057 ± 0.1525219218657373\n",
      "AVG NUMBER OF ACCURATE 1 PREDICTIONS ON TRAIN DATA SET: 3.2983570364573565 ± 0.2144662844949076\n",
      "POWER SPECTRUM MEAN ERROR ON TRAIN DATA SET: 0.34948319489101115 ± 0.1993967287165854\n",
      "TEMPORAL DISTANCE ON TRAIN DATA SET: 0.10973700605848795 ± 0.0021417631179387634\n",
      "GEOMETRICAL DISTANCE ON TRAIN DATA SET: 7.82656181771448 ± 0.050518020669344875\n",
      "\n",
      "\n",
      "AVERAGE RMNSE ERROR ON TEST DATA SET: 1.3863941981421164 ± 0.007720260978231009\n",
      "AVG NUMBER OF ACCURATE 0.5 PREDICTIONS ON TEST DATA SET: 1.45635719625478 ± 0.10508592268766515\n",
      "AVG NUMBER OF ACCURATE 1 PREDICTIONS ON TEST DATA SET: 2.587159861571986 ± 0.17085567318029032\n",
      "POWER SPECTRUM MEAN ERROR ON TEST DATA SET: 0.6097997076740589 ± 0.38181933012225994\n",
      "TEMPORAL DISTANCE ON TEST DATA SET: 0.10906195268337951 ± 0.0013142118277090448\n",
      "GEOMETRICAL DISTANCE ON TEST DATA SET: 7.840851179938161 ± 0.034140357295524164\n"
     ]
    }
   ],
   "source": [
    "!bash ./1_Standard_ESN_Evaluate_Tuned_Model.sh \"evaluate_tuned_model\" 2500 0.1 0.1 4 \"random_search.json\""
   ]
  },
  {
   "cell_type": "code",
   "execution_count": 11,
   "metadata": {},
   "outputs": [
    {
     "name": "stdout",
     "output_type": "stream",
     "text": [
      " 10%|▋      | 3/30 [18:27<2:42:59, 362.22s/trial, best loss: 0.1773126934788482]/home/user/kuei_jan_CHU/PGClustered_ESN/Methods/./Utils/global_utils.py:254: RuntimeWarning: divide by zero encountered in log10\n",
      "  s_dbfs = 20 * np.log10(s_mag)\n",
      "\n",
      "100%|█████| 30/30 [3:00:46<00:00, 361.56s/trial, best loss: 0.12410935393019513]\n",
      "{'in_cluster_weight': 0.5, 'noise_level': 5, 'radius': 0.7, 'regularization': 0.01, 'sigma_input': 0.1}\n"
     ]
    }
   ],
   "source": [
    "!bash ./0_Standard_ESN_Tune.sh \"tune\" 3000 0.1 0.1 5 \"random_search.json\""
   ]
  },
  {
   "cell_type": "code",
   "execution_count": 6,
   "metadata": {},
   "outputs": [
    {
     "name": "stdout",
     "output_type": "stream",
     "text": [
      "AVERAGE RMNSE ERROR ON TRAIN DATA SET: 1.3707917670728555 ± 0.005912825811616279\n",
      "AVG NUMBER OF ACCURATE 0.5 PREDICTIONS ON TRAIN DATA SET: 2.2816627933222566 ± 0.09663684803285695\n",
      "AVG NUMBER OF ACCURATE 1 PREDICTIONS ON TRAIN DATA SET: 3.667987420276203 ± 0.20289372669243788\n",
      "POWER SPECTRUM MEAN ERROR ON TRAIN DATA SET: 0.5334611630352392 ± 0.33520246726925373\n",
      "TEMPORAL DISTANCE ON TRAIN DATA SET: 0.1081349712079476 ± 0.0012297668787010305\n",
      "GEOMETRICAL DISTANCE ON TRAIN DATA SET: 7.821813518358394 ± 0.043669004469316514\n",
      "\n",
      "\n",
      "AVERAGE RMNSE ERROR ON TEST DATA SET: 1.3798348473364983 ± 0.008128474686828013\n",
      "AVG NUMBER OF ACCURATE 0.5 PREDICTIONS ON TEST DATA SET: 1.69333864616326 ± 0.09079716961202798\n",
      "AVG NUMBER OF ACCURATE 1 PREDICTIONS ON TEST DATA SET: 2.8667002134021526 ± 0.19045088070259247\n",
      "POWER SPECTRUM MEAN ERROR ON TEST DATA SET: 0.8535826178340704 ± 0.3783217147312869\n",
      "TEMPORAL DISTANCE ON TEST DATA SET: 0.10758706393505793 ± 0.001460221279254901\n",
      "GEOMETRICAL DISTANCE ON TEST DATA SET: 7.819897791590239 ± 0.04247943541543834\n"
     ]
    }
   ],
   "source": [
    "!bash ./1_Standard_ESN_Evaluate_Tuned_Model.sh \"evaluate_tuned_model\" 3000 0.1 0.1 5 \"random_search.json\""
   ]
  },
  {
   "cell_type": "code",
   "execution_count": 13,
   "metadata": {},
   "outputs": [
    {
     "name": "stdout",
     "output_type": "stream",
     "text": [
      " 10%|▌     | 3/30 [28:34<4:19:47, 577.31s/trial, best loss: 0.16971338554447704]/home/user/kuei_jan_CHU/PGClustered_ESN/Methods/./Utils/global_utils.py:254: RuntimeWarning: divide by zero encountered in log10\n",
      "  s_dbfs = 20 * np.log10(s_mag)\n",
      "\n",
      "100%|█████| 30/30 [4:57:26<00:00, 594.90s/trial, best loss: 0.12387647150257335]\n",
      "{'in_cluster_weight': 0.5, 'noise_level': 5, 'radius': 0.7, 'regularization': 0.01, 'sigma_input': 0.1}\n"
     ]
    }
   ],
   "source": [
    "!bash ./0_Standard_ESN_Tune.sh \"tune\" 3500 0.1 0.1 6 \"random_search.json\""
   ]
  },
  {
   "cell_type": "code",
   "execution_count": 7,
   "metadata": {
    "editable": true,
    "slideshow": {
     "slide_type": ""
    },
    "tags": []
   },
   "outputs": [
    {
     "name": "stdout",
     "output_type": "stream",
     "text": [
      "AVERAGE RMNSE ERROR ON TRAIN DATA SET: 1.3671969729759799 ± 0.006516244706377208\n",
      "AVG NUMBER OF ACCURATE 0.5 PREDICTIONS ON TRAIN DATA SET: 2.4953843285171025 ± 0.12932473057293292\n",
      "AVG NUMBER OF ACCURATE 1 PREDICTIONS ON TRAIN DATA SET: 3.902103518372132 ± 0.17946661003227984\n",
      "POWER SPECTRUM MEAN ERROR ON TRAIN DATA SET: 0.4960683609464513 ± 0.329273920708174\n",
      "TEMPORAL DISTANCE ON TRAIN DATA SET: 0.1081618701272207 ± 0.001816406556613535\n",
      "GEOMETRICAL DISTANCE ON TRAIN DATA SET: 7.825072058773475 ± 0.03984427037020147\n",
      "\n",
      "\n",
      "AVERAGE RMNSE ERROR ON TEST DATA SET: 1.3783156192649688 ± 0.007568014362299637\n",
      "AVG NUMBER OF ACCURATE 0.5 PREDICTIONS ON TEST DATA SET: 1.7671635928630571 ± 0.0977365011297056\n",
      "AVG NUMBER OF ACCURATE 1 PREDICTIONS ON TEST DATA SET: 2.994292644113902 ± 0.19008499354996405\n",
      "POWER SPECTRUM MEAN ERROR ON TEST DATA SET: 0.6659358955500272 ± 0.41714320428528884\n",
      "TEMPORAL DISTANCE ON TEST DATA SET: 0.10722951369293987 ± 0.0016340880559292386\n",
      "GEOMETRICAL DISTANCE ON TEST DATA SET: 7.833067954387589 ± 0.03378963254571244\n"
     ]
    }
   ],
   "source": [
    "!bash ./1_Standard_ESN_Evaluate_Tuned_Model.sh \"evaluate_tuned_model\" 3500 0.1 0.1 6 \"random_search.json\""
   ]
  },
  {
   "cell_type": "code",
   "execution_count": 15,
   "metadata": {},
   "outputs": [
    {
     "name": "stdout",
     "output_type": "stream",
     "text": [
      " 10%|▌     | 3/30 [38:47<5:50:10, 778.16s/trial, best loss: 0.15942317785901677]/home/user/kuei_jan_CHU/PGClustered_ESN/Methods/./Utils/global_utils.py:254: RuntimeWarning: divide by zero encountered in log10\n",
      "  s_dbfs = 20 * np.log10(s_mag)\n",
      "\n",
      "100%|████| 30/30 [8:54:30<00:00, 1069.00s/trial, best loss: 0.12203641280558564]\n",
      "{'in_cluster_weight': 0.5, 'noise_level': 5, 'radius': 0.9, 'regularization': 0.01, 'sigma_input': 0.1}\n"
     ]
    }
   ],
   "source": [
    "!bash ./0_Standard_ESN_Tune.sh \"tune\" 4000 0.1 0.1 7 \"random_search.json\""
   ]
  },
  {
   "cell_type": "code",
   "execution_count": 8,
   "metadata": {},
   "outputs": [
    {
     "name": "stdout",
     "output_type": "stream",
     "text": [
      "AVERAGE RMNSE ERROR ON TRAIN DATA SET: 1.3667433884702476 ± 0.007615497649533247\n",
      "AVG NUMBER OF ACCURATE 0.5 PREDICTIONS ON TRAIN DATA SET: 2.590867963917638 ± 0.11427184481978755\n",
      "AVG NUMBER OF ACCURATE 1 PREDICTIONS ON TRAIN DATA SET: 4.089699787040795 ± 0.16644815870527735\n",
      "POWER SPECTRUM MEAN ERROR ON TRAIN DATA SET: 0.437866893595797 ± 0.2483231363132931\n",
      "TEMPORAL DISTANCE ON TRAIN DATA SET: 0.1082694734885378 ± 0.0018647924820221775\n",
      "GEOMETRICAL DISTANCE ON TRAIN DATA SET: 7.821659770987348 ± 0.04692229480576661\n",
      "\n",
      "\n",
      "AVERAGE RMNSE ERROR ON TEST DATA SET: 1.3750987915601898 ± 0.0074356600275029446\n",
      "AVG NUMBER OF ACCURATE 0.5 PREDICTIONS ON TEST DATA SET: 1.803064765573232 ± 0.11698382220956331\n",
      "AVG NUMBER OF ACCURATE 1 PREDICTIONS ON TEST DATA SET: 3.0406439234345504 ± 0.19414528737628697\n",
      "POWER SPECTRUM MEAN ERROR ON TEST DATA SET: 0.7576167868454394 ± 0.4156261393228491\n",
      "TEMPORAL DISTANCE ON TEST DATA SET: 0.1071847965046268 ± 0.001634755064315225\n",
      "GEOMETRICAL DISTANCE ON TEST DATA SET: 7.825480103215469 ± 0.032312672710452794\n"
     ]
    }
   ],
   "source": [
    "!bash ./1_Standard_ESN_Evaluate_Tuned_Model.sh \"evaluate_tuned_model\" 4000 0.1 0.1 7 \"random_search.json\""
   ]
  },
  {
   "cell_type": "code",
   "execution_count": 17,
   "metadata": {},
   "outputs": [
    {
     "name": "stdout",
     "output_type": "stream",
     "text": [
      " 10%|▏ | 3/30 [2:02:31<18:19:52, 2444.16s/trial, best loss: 0.16101765282186017]/home/user/kuei_jan_CHU/PGClustered_ESN/Methods/./Utils/global_utils.py:254: RuntimeWarning: divide by zero encountered in log10\n",
      "  s_dbfs = 20 * np.log10(s_mag)\n",
      "\n",
      "100%|███| 30/30 [18:37:58<00:00, 2235.97s/trial, best loss: 0.12295384769123541]\n",
      "{'in_cluster_weight': 0.5, 'noise_level': 5, 'radius': 0.9, 'regularization': 0.01, 'sigma_input': 0.1}\n"
     ]
    }
   ],
   "source": [
    "!bash ./0_Standard_ESN_Tune.sh \"tune\" 4500 0.1 0.1 8 \"random_search.json\""
   ]
  },
  {
   "cell_type": "code",
   "execution_count": 9,
   "metadata": {},
   "outputs": [
    {
     "name": "stdout",
     "output_type": "stream",
     "text": [
      "AVERAGE RMNSE ERROR ON TRAIN DATA SET: 1.365233663546036 ± 0.006415207796428238\n",
      "AVG NUMBER OF ACCURATE 0.5 PREDICTIONS ON TRAIN DATA SET: 2.66334450976447 ± 0.12324721606263551\n",
      "AVG NUMBER OF ACCURATE 1 PREDICTIONS ON TRAIN DATA SET: 4.139590618600474 ± 0.22259337405584848\n",
      "POWER SPECTRUM MEAN ERROR ON TRAIN DATA SET: 0.4169582133892337 ± 0.2611663125337909\n",
      "TEMPORAL DISTANCE ON TRAIN DATA SET: 0.10756771551375015 ± 0.0019235807405213576\n",
      "GEOMETRICAL DISTANCE ON TRAIN DATA SET: 7.821935982068427 ± 0.03682820460236332\n",
      "\n",
      "\n",
      "AVERAGE RMNSE ERROR ON TEST DATA SET: 1.375615420861968 ± 0.00598563145757599\n",
      "AVG NUMBER OF ACCURATE 0.5 PREDICTIONS ON TEST DATA SET: 1.867282356195658 ± 0.12947267802164514\n",
      "AVG NUMBER OF ACCURATE 1 PREDICTIONS ON TEST DATA SET: 3.0440149255669615 ± 0.31010059142642454\n",
      "POWER SPECTRUM MEAN ERROR ON TEST DATA SET: 0.6693341588240036 ± 0.3592037947018283\n",
      "TEMPORAL DISTANCE ON TEST DATA SET: 0.10730735288921975 ± 0.0013661905287942787\n",
      "GEOMETRICAL DISTANCE ON TEST DATA SET: 7.825113550029622 ± 0.037274345127835846\n"
     ]
    }
   ],
   "source": [
    "!bash ./1_Standard_ESN_Evaluate_Tuned_Model.sh \"evaluate_tuned_model\" 4500 0.1 0.1 8 \"random_search.json\""
   ]
  },
  {
   "cell_type": "code",
   "execution_count": 19,
   "metadata": {},
   "outputs": [
    {
     "name": "stdout",
     "output_type": "stream",
     "text": [
      " 10%|▏ | 3/30 [1:21:51<12:10:45, 1623.89s/trial, best loss: 0.15639245934693047]/home/user/kuei_jan_CHU/PGClustered_ESN/Methods/./Utils/global_utils.py:254: RuntimeWarning: divide by zero encountered in log10\n",
      "  s_dbfs = 20 * np.log10(s_mag)\n",
      "\n",
      "100%|███| 30/30 [12:41:24<00:00, 1522.81s/trial, best loss: 0.12262317967594061]\n",
      "{'in_cluster_weight': 0.5, 'noise_level': 5, 'radius': 0.9, 'regularization': 0.01, 'sigma_input': 0.1}\n"
     ]
    }
   ],
   "source": [
    "!bash ./0_Standard_ESN_Tune.sh \"tune\" 5000 0.1 0.1 9 \"random_search.json\""
   ]
  },
  {
   "cell_type": "code",
   "execution_count": 10,
   "metadata": {
    "editable": true,
    "slideshow": {
     "slide_type": ""
    },
    "tags": []
   },
   "outputs": [
    {
     "name": "stdout",
     "output_type": "stream",
     "text": [
      "AVERAGE RMNSE ERROR ON TRAIN DATA SET: 1.3629005565113161 ± 0.006869137185497223\n",
      "AVG NUMBER OF ACCURATE 0.5 PREDICTIONS ON TRAIN DATA SET: 2.8274280385595665 ± 0.15834966314201557\n",
      "AVG NUMBER OF ACCURATE 1 PREDICTIONS ON TRAIN DATA SET: 4.263896322233123 ± 0.19852231606226725\n",
      "POWER SPECTRUM MEAN ERROR ON TRAIN DATA SET: 0.40556155287666085 ± 0.26278173655016607\n",
      "TEMPORAL DISTANCE ON TRAIN DATA SET: 0.10801795995277168 ± 0.0018123037041321095\n",
      "GEOMETRICAL DISTANCE ON TRAIN DATA SET: 7.818630847279325 ± 0.0319864471247872\n",
      "\n",
      "\n",
      "AVERAGE RMNSE ERROR ON TEST DATA SET: 1.3731298459337333 ± 0.005479100556363092\n",
      "AVG NUMBER OF ACCURATE 0.5 PREDICTIONS ON TEST DATA SET: 1.940685927628903 ± 0.11322553355934527\n",
      "AVG NUMBER OF ACCURATE 1 PREDICTIONS ON TEST DATA SET: 3.208014179308747 ± 0.24218550684847753\n",
      "POWER SPECTRUM MEAN ERROR ON TEST DATA SET: 0.6124349692029649 ± 0.3627853419035376\n",
      "TEMPORAL DISTANCE ON TEST DATA SET: 0.1073323812598442 ± 0.0015616494300735896\n",
      "GEOMETRICAL DISTANCE ON TEST DATA SET: 7.8255863617017765 ± 0.04196319801877637\n"
     ]
    }
   ],
   "source": [
    "!bash ./1_Standard_ESN_Evaluate_Tuned_Model.sh \"evaluate_tuned_model\" 5000 0.1 0.1 9 \"random_search.json\""
   ]
  },
  {
   "cell_type": "code",
   "execution_count": null,
   "metadata": {
    "editable": true,
    "slideshow": {
     "slide_type": ""
    },
    "tags": []
   },
   "outputs": [],
   "source": []
  }
 ],
 "metadata": {
  "kernelspec": {
   "display_name": "base",
   "language": "python",
   "name": "python3"
  },
  "language_info": {
   "codemirror_mode": {
    "name": "ipython",
    "version": 3
   },
   "file_extension": ".py",
   "mimetype": "text/x-python",
   "name": "python",
   "nbconvert_exporter": "python",
   "pygments_lexer": "ipython3",
   "version": "3.11.8"
  }
 },
 "nbformat": 4,
 "nbformat_minor": 4
}
