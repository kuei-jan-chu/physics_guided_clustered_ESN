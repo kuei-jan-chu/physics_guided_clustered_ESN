{
 "cells": [
  {
   "cell_type": "markdown",
   "metadata": {
    "editable": true,
    "slideshow": {
     "slide_type": ""
    },
    "tags": []
   },
   "source": [
    "### use --iterative_prediction_length 7000 \\ --num_test_ICS 20 \\ --N 50000 \\ --N_used 50000 \\ --sparsity 0.1 \\ --p_in 0.1 \\  method: tpe \\ size: half hyper space\\ metric: d_temp\n",
    "with washout evaluation, data seperation: 6:4"
   ]
  },
  {
   "cell_type": "code",
   "execution_count": 1,
   "metadata": {},
   "outputs": [
    {
     "name": "stdout",
     "output_type": "stream",
     "text": [
      "Grid Search Progress:   4%|▍           | 1/25 [01:00<24:12, 60.53s/trial, Current Best Loss=0.51331]/home/user/kuei_jan_CHU/PGClustered_ESN/Methods/./Utils/global_utils.py:254: RuntimeWarning: divide by zero encountered in log10\n",
      "  s_dbfs = 20 * np.log10(s_mag)\n",
      "/home/user/kuei_jan_CHU/PGClustered_ESN/Methods/./Utils/global_utils.py:289: RuntimeWarning: invalid value encountered in divide\n",
      "  trajectory = (trajectory-trajectory.mean())/trajectory.std()\n",
      "Grid Search Progress:  48%|█████▎     | 12/25 [11:12<12:04, 55.71s/trial, Current Best Loss=0.47612]/home/user/kuei_jan_CHU/PGClustered_ESN/Methods/./Utils/global_utils.py:301: RuntimeWarning: Mean of empty slice\n",
      "  spectrum = np.nanmean(np.array(spectrum),axis=0)\n",
      "Grid Search Progress: 100%|███████████| 25/25 [23:09<00:00, 55.60s/trial, Current Best Loss=0.46066]\n",
      "{'radius': 0.9, 'sigma_input': 0.1, 'regularization': 0.01, 'in_cluster_weight': 0.5, 'noise_level': 5}\n"
     ]
    }
   ],
   "source": [
    "!bash ./0_Standard_ESN_Tune.sh \"tune\" 40 0.1 0.1 0 \"grid_search.json\""
   ]
  },
  {
   "cell_type": "code",
   "execution_count": 1,
   "metadata": {},
   "outputs": [
    {
     "name": "stdout",
     "output_type": "stream",
     "text": [
      "{'radius': 0.9, 'sigma_input': 0.1, 'regularization': 0.01, 'in_cluster_weight': 0.5, 'noise_level': 5}\n",
      "/home/user/anaconda3/lib/python3.11/site-packages/numpy/core/_methods.py:236: RuntimeWarning: invalid value encountered in subtract\n",
      "  x = asanyarray(arr - arrmean)\n",
      "AVERAGE RMNSE ERROR ON TRAIN DATA SET: 2.242768557960245 ± 0.5293486730978417\n",
      "AVG NUMBER OF ACCURATE 0.5 PREDICTIONS ON TRAIN DATA SET: 0.0018597156491041694 ± 0.0035017287876574067\n",
      "AVG NUMBER OF ACCURATE 1 PREDICTIONS ON TRAIN DATA SET: 0.3355941421337978 ± 0.04144163613055897\n",
      "POWER SPECTRUM MEAN ERROR ON TRAIN DATA SET: inf ± nan\n",
      "TEMPORAL DISTANCE ON TRAIN DATA SET: 0.422039681238111 ± 0.10018039296699197\n",
      "GEOMETRICAL DISTANCE ON TRAIN DATA SET: inf ± nan\n",
      "\n",
      "\n",
      "AVERAGE RMNSE ERROR ON TEST DATA SET: 2.2520370707717143 ± 0.48891539877804063\n",
      "AVG NUMBER OF ACCURATE 0.5 PREDICTIONS ON TEST DATA SET: 0.0010143903540568194 ± 0.0017241320699120054\n",
      "AVG NUMBER OF ACCURATE 1 PREDICTIONS ON TEST DATA SET: 0.3357632071928072 ± 0.05800286843521328\n",
      "POWER SPECTRUM MEAN ERROR ON TEST DATA SET: inf ± nan\n",
      "TEMPORAL DISTANCE ON TEST DATA SET: 0.4385601959676316 ± 0.08300389417029784\n",
      "GEOMETRICAL DISTANCE ON TEST DATA SET: inf ± nan\n"
     ]
    }
   ],
   "source": [
    "!bash ./1_Standard_ESN_Evaluate_Tuned_Model.sh \"evaluate_tuned_model\" 40 0.1 0.1 0 \"grid_search.json\""
   ]
  },
  {
   "cell_type": "code",
   "execution_count": null,
   "metadata": {},
   "outputs": [
    {
     "name": "stdout",
     "output_type": "stream",
     "text": [
      "Grid Search Progress:   4%|▍           | 1/25 [00:31<12:26, 31.10s/trial, Current Best Loss=0.25204]/home/user/kuei_jan_CHU/PGClustered_ESN/Methods/./Utils/global_utils.py:256: RuntimeWarning: divide by zero encountered in log10\n",
      "  s_dbfs = 20 * np.log10(s_mag)\n",
      "Grid Search Progress:  12%|█▍          | 3/25 [01:28<10:44, 29.30s/trial, Current Best Loss=0.25204]/home/user/kuei_jan_CHU/PGClustered_ESN/Methods/./Utils/global_utils.py:291: RuntimeWarning: invalid value encountered in divide\n",
      "  trajectory = (trajectory-trajectory.mean())/trajectory.std()\n",
      "Grid Search Progress: 100%|███████████| 25/25 [11:47<00:00, 28.32s/trial, Current Best Loss=0.25204]\n",
      "{'radius': 0.1, 'sigma_input': 0.1, 'regularization': 0.01, 'noise_level': 5}\n",
      "{'radius': 0.1, 'sigma_input': 0.1, 'regularization': 0.01, 'noise_level': 5}\n"
     ]
    }
   ],
   "source": [
    "!bash ./0_Standard_ESN_Tune.sh \"tune\" 250 0.1 0.1 1 \"grid_search.json\""
   ]
  },
  {
   "cell_type": "code",
   "execution_count": 3,
   "metadata": {},
   "outputs": [
    {
     "name": "stdout",
     "output_type": "stream",
     "text": [
      "{'radius': 0.1, 'sigma_input': 0.1, 'regularization': 0.01, 'noise_level': 5}\n",
      "/home/user/anaconda3/lib/python3.11/site-packages/torch/cuda/__init__.py:107: UserWarning: CUDA initialization: Unexpected error from cudaGetDeviceCount(). Did you run some cuda functions before calling NumCudaDevices() that might have already set an error? Error 804: forward compatibility was attempted on non supported HW (Triggered internally at ../c10/cuda/CUDAFunctions.cpp:109.)\n",
      "  return torch._C._cuda_getDeviceCount() > 0\n",
      "/home/user/anaconda3/lib/python3.11/site-packages/numpy/core/_methods.py:236: RuntimeWarning: invalid value encountered in subtract\n",
      "  x = asanyarray(arr - arrmean)\n",
      "AVERAGE RMNSE ERROR ON TRAIN DATA SET: 4.973236244777102 ± 1.8262512572721297\n",
      "AVG NUMBER OF ACCURATE 0.5 PREDICTIONS ON TRAIN DATA SET: 0.2566407595763754 ± 0.009794106823031412\n",
      "AVG NUMBER OF ACCURATE 1 PREDICTIONS ON TRAIN DATA SET: 0.6542817783666486 ± 0.04878339979183408\n",
      "POWER SPECTRUM MEAN ERROR ON TRAIN DATA SET: inf ± nan\n",
      "TEMPORAL DISTANCE ON TRAIN DATA SET: 0.37187679848255323 ± 0.20760776870390849\n",
      "GEOMETRICAL DISTANCE ON TRAIN DATA SET: inf ± nan\n",
      "\n",
      "\n",
      "AVERAGE RMNSE ERROR ON TEST DATA SET: 4.9002530684735905 ± 1.8444005563845762\n",
      "AVG NUMBER OF ACCURATE 0.5 PREDICTIONS ON TEST DATA SET: 0.22451839836457604 ± 0.00751531745806404\n",
      "AVG NUMBER OF ACCURATE 1 PREDICTIONS ON TEST DATA SET: 0.5590981501443171 ± 0.04577294021834794\n",
      "POWER SPECTRUM MEAN ERROR ON TEST DATA SET: inf ± nan\n",
      "TEMPORAL DISTANCE ON TEST DATA SET: 0.36670557807481685 ± 0.22547981562784175\n",
      "GEOMETRICAL DISTANCE ON TEST DATA SET: inf ± nan\n"
     ]
    }
   ],
   "source": [
    "!bash ./1_Standard_ESN_Evaluate_Tuned_Model.sh \"evaluate_tuned_model\" 250 0.1 0.1 1 \"grid_search.json\""
   ]
  },
  {
   "cell_type": "code",
   "execution_count": 3,
   "metadata": {},
   "outputs": [
    {
     "name": "stdout",
     "output_type": "stream",
     "text": [
      "Grid Search Progress:   8%|▉           | 2/25 [01:12<13:52, 36.17s/trial, Current Best Loss=0.24328]/home/user/kuei_jan_CHU/PGClustered_ESN/Methods/./Utils/global_utils.py:254: RuntimeWarning: divide by zero encountered in log10\n",
      "  s_dbfs = 20 * np.log10(s_mag)\n",
      "Grid Search Progress: 100%|███████████| 25/25 [14:36<00:00, 35.04s/trial, Current Best Loss=0.24328]\n",
      "{'radius': 0.1, 'sigma_input': 0.1, 'regularization': 0.01, 'in_cluster_weight': 0.5, 'noise_level': 5}\n"
     ]
    }
   ],
   "source": [
    "!bash ./0_Standard_ESN_Tune.sh \"tune\" 500 0.1 0.1 2 \"grid_search.json\""
   ]
  },
  {
   "cell_type": "code",
   "execution_count": 4,
   "metadata": {},
   "outputs": [
    {
     "name": "stdout",
     "output_type": "stream",
     "text": [
      "{'radius': 0.1, 'sigma_input': 0.1, 'regularization': 0.01, 'in_cluster_weight': 0.5, 'noise_level': 5}\n",
      "/home/user/anaconda3/lib/python3.11/site-packages/torch/cuda/__init__.py:107: UserWarning: CUDA initialization: Unexpected error from cudaGetDeviceCount(). Did you run some cuda functions before calling NumCudaDevices() that might have already set an error? Error 804: forward compatibility was attempted on non supported HW (Triggered internally at ../c10/cuda/CUDAFunctions.cpp:109.)\n",
      "  return torch._C._cuda_getDeviceCount() > 0\n",
      "/home/user/anaconda3/lib/python3.11/site-packages/numpy/core/_methods.py:236: RuntimeWarning: invalid value encountered in subtract\n",
      "  x = asanyarray(arr - arrmean)\n",
      "AVERAGE RMNSE ERROR ON TRAIN DATA SET: 5.447422951555583 ± 2.25703315286599\n",
      "AVG NUMBER OF ACCURATE 0.5 PREDICTIONS ON TRAIN DATA SET: 0.29028470631925984 ± 0.010957972373630772\n",
      "AVG NUMBER OF ACCURATE 1 PREDICTIONS ON TRAIN DATA SET: 0.7251200380916163 ± 0.04869807433507153\n",
      "POWER SPECTRUM MEAN ERROR ON TRAIN DATA SET: inf ± nan\n",
      "TEMPORAL DISTANCE ON TRAIN DATA SET: 0.3703369052953221 ± 0.20938485654032368\n",
      "GEOMETRICAL DISTANCE ON TRAIN DATA SET: inf ± nan\n",
      "\n",
      "\n",
      "AVERAGE RMNSE ERROR ON TEST DATA SET: 5.506041243615224 ± 2.299317812110829\n",
      "AVG NUMBER OF ACCURATE 0.5 PREDICTIONS ON TEST DATA SET: 0.2534285234551955 ± 0.009986293941528451\n",
      "AVG NUMBER OF ACCURATE 1 PREDICTIONS ON TEST DATA SET: 0.6123536437323 ± 0.04532583468099602\n",
      "POWER SPECTRUM MEAN ERROR ON TEST DATA SET: inf ± nan\n",
      "TEMPORAL DISTANCE ON TEST DATA SET: 0.37402482369863155 ± 0.2014495408016577\n",
      "GEOMETRICAL DISTANCE ON TEST DATA SET: inf ± nan\n"
     ]
    }
   ],
   "source": [
    "!bash ./1_Standard_ESN_Evaluate_Tuned_Model.sh \"evaluate_tuned_model\" 500 0.1 0.1 2 \"grid_search.json\""
   ]
  },
  {
   "cell_type": "code",
   "execution_count": 4,
   "metadata": {},
   "outputs": [
    {
     "name": "stdout",
     "output_type": "stream",
     "text": [
      "Grid Search Progress:   4%|▍           | 1/25 [00:52<21:07, 52.79s/trial, Current Best Loss=0.25861]/home/user/kuei_jan_CHU/PGClustered_ESN/Methods/./Utils/global_utils.py:254: RuntimeWarning: divide by zero encountered in log10\n",
      "  s_dbfs = 20 * np.log10(s_mag)\n",
      "Grid Search Progress: 100%|███████████| 25/25 [20:11<00:00, 48.46s/trial, Current Best Loss=0.21905]\n",
      "{'radius': 0.9, 'sigma_input': 0.5, 'regularization': 0.01, 'in_cluster_weight': 0.5, 'noise_level': 5}\n"
     ]
    }
   ],
   "source": [
    "!bash ./0_Standard_ESN_Tune.sh \"tune\" 1000 0.1 0.1 3 \"grid_search.json\""
   ]
  },
  {
   "cell_type": "code",
   "execution_count": 5,
   "metadata": {},
   "outputs": [
    {
     "name": "stdout",
     "output_type": "stream",
     "text": [
      "{'radius': 0.9, 'sigma_input': 0.5, 'regularization': 0.01, 'in_cluster_weight': 0.5, 'noise_level': 5}\n",
      "/home/user/anaconda3/lib/python3.11/site-packages/torch/cuda/__init__.py:107: UserWarning: CUDA initialization: Unexpected error from cudaGetDeviceCount(). Did you run some cuda functions before calling NumCudaDevices() that might have already set an error? Error 804: forward compatibility was attempted on non supported HW (Triggered internally at ../c10/cuda/CUDAFunctions.cpp:109.)\n",
      "  return torch._C._cuda_getDeviceCount() > 0\n",
      "/home/user/anaconda3/lib/python3.11/site-packages/numpy/core/_methods.py:236: RuntimeWarning: invalid value encountered in subtract\n",
      "  x = asanyarray(arr - arrmean)\n",
      "AVERAGE RMNSE ERROR ON TRAIN DATA SET: 1.6148272029545758 ± 0.035152601069314914\n",
      "AVG NUMBER OF ACCURATE 0.5 PREDICTIONS ON TRAIN DATA SET: 0.24531340062274087 ± 0.009636708363539782\n",
      "AVG NUMBER OF ACCURATE 1 PREDICTIONS ON TRAIN DATA SET: 0.56450823203262 ± 0.04731073547383571\n",
      "POWER SPECTRUM MEAN ERROR ON TRAIN DATA SET: 1.8674411985170913 ± 0.3985315586728074\n",
      "TEMPORAL DISTANCE ON TRAIN DATA SET: 0.2536555254796035 ± 0.012856516736224007\n",
      "GEOMETRICAL DISTANCE ON TRAIN DATA SET: inf ± nan\n",
      "\n",
      "\n",
      "AVERAGE RMNSE ERROR ON TEST DATA SET: 1.6165150055646762 ± 0.030112888423725656\n",
      "AVG NUMBER OF ACCURATE 0.5 PREDICTIONS ON TEST DATA SET: 0.2000039648082029 ± 0.01454450892641127\n",
      "AVG NUMBER OF ACCURATE 1 PREDICTIONS ON TEST DATA SET: 0.49823472890090786 ± 0.03560856925972647\n",
      "POWER SPECTRUM MEAN ERROR ON TEST DATA SET: 1.6057064156800192 ± 0.4136950780891198\n",
      "TEMPORAL DISTANCE ON TEST DATA SET: 0.25330743485411594 ± 0.016726384512625116\n",
      "GEOMETRICAL DISTANCE ON TEST DATA SET: 20.32278066774182 ± 0.8285979243668009\n"
     ]
    }
   ],
   "source": [
    "!bash ./1_Standard_ESN_Evaluate_Tuned_Model.sh \"evaluate_tuned_model\" 1000 0.1 0.1 3 \"grid_search.json\""
   ]
  },
  {
   "cell_type": "code",
   "execution_count": 5,
   "metadata": {},
   "outputs": [
    {
     "name": "stdout",
     "output_type": "stream",
     "text": [
      "Grid Search Progress:   4%|▍           | 1/25 [01:26<34:30, 86.25s/trial, Current Best Loss=0.21508]/home/user/kuei_jan_CHU/PGClustered_ESN/Methods/./Utils/global_utils.py:254: RuntimeWarning: divide by zero encountered in log10\n",
      "  s_dbfs = 20 * np.log10(s_mag)\n",
      "Grid Search Progress: 100%|███████████| 25/25 [31:21<00:00, 75.27s/trial, Current Best Loss=0.19788]\n",
      "{'radius': 0.99, 'sigma_input': 0.5, 'regularization': 0.01, 'in_cluster_weight': 0.5, 'noise_level': 5}\n"
     ]
    }
   ],
   "source": [
    "!bash ./0_Standard_ESN_Tune.sh \"tune\" 1500 0.1 0.1 4 \"grid_search.json\""
   ]
  },
  {
   "cell_type": "code",
   "execution_count": 6,
   "metadata": {},
   "outputs": [
    {
     "name": "stdout",
     "output_type": "stream",
     "text": [
      "{'radius': 0.99, 'sigma_input': 0.5, 'regularization': 0.01, 'in_cluster_weight': 0.5, 'noise_level': 5}\n",
      "/home/user/anaconda3/lib/python3.11/site-packages/torch/cuda/__init__.py:107: UserWarning: CUDA initialization: Unexpected error from cudaGetDeviceCount(). Did you run some cuda functions before calling NumCudaDevices() that might have already set an error? Error 804: forward compatibility was attempted on non supported HW (Triggered internally at ../c10/cuda/CUDAFunctions.cpp:109.)\n",
      "  return torch._C._cuda_getDeviceCount() > 0\n",
      "/home/user/anaconda3/lib/python3.11/site-packages/numpy/core/_methods.py:236: RuntimeWarning: invalid value encountered in subtract\n",
      "  x = asanyarray(arr - arrmean)\n",
      "AVERAGE RMNSE ERROR ON TRAIN DATA SET: 1.5992166141867759 ± 0.028427560065611562\n",
      "AVG NUMBER OF ACCURATE 0.5 PREDICTIONS ON TRAIN DATA SET: 0.32545023859322963 ± 0.011220877387866856\n",
      "AVG NUMBER OF ACCURATE 1 PREDICTIONS ON TRAIN DATA SET: 0.7158214598460956 ± 0.03164905129651549\n",
      "POWER SPECTRUM MEAN ERROR ON TRAIN DATA SET: 1.783895481063464 ± 0.4364451617890284\n",
      "TEMPORAL DISTANCE ON TRAIN DATA SET: 0.21097608036826107 ± 0.02383873415127311\n",
      "GEOMETRICAL DISTANCE ON TRAIN DATA SET: inf ± nan\n",
      "\n",
      "\n",
      "AVERAGE RMNSE ERROR ON TEST DATA SET: 1.5944303880579453 ± 0.02246823228322062\n",
      "AVG NUMBER OF ACCURATE 0.5 PREDICTIONS ON TEST DATA SET: 0.23364791155108744 ± 0.01442116034298983\n",
      "AVG NUMBER OF ACCURATE 1 PREDICTIONS ON TEST DATA SET: 0.5727924199240841 ± 0.030089781049027018\n",
      "POWER SPECTRUM MEAN ERROR ON TEST DATA SET: 1.313826597365302 ± 0.5072026879286533\n",
      "TEMPORAL DISTANCE ON TEST DATA SET: 0.20825548424495688 ± 0.012192837726188486\n",
      "GEOMETRICAL DISTANCE ON TEST DATA SET: 18.8746481254469 ± 0.6961822550584227\n"
     ]
    }
   ],
   "source": [
    "!bash ./1_Standard_ESN_Evaluate_Tuned_Model.sh \"evaluate_tuned_model\" 1500 0.1 0.1 4 \"grid_search.json\""
   ]
  },
  {
   "cell_type": "code",
   "execution_count": 6,
   "metadata": {},
   "outputs": [
    {
     "name": "stdout",
     "output_type": "stream",
     "text": [
      "Grid Search Progress:   4%|▍          | 1/25 [02:04<49:43, 124.32s/trial, Current Best Loss=0.14006]/home/user/kuei_jan_CHU/PGClustered_ESN/Methods/./Utils/global_utils.py:254: RuntimeWarning: divide by zero encountered in log10\n",
      "  s_dbfs = 20 * np.log10(s_mag)\n",
      "Grid Search Progress: 100%|██████████| 25/25 [43:02<00:00, 103.30s/trial, Current Best Loss=0.13627]\n",
      "{'radius': 0.7, 'sigma_input': 0.1, 'regularization': 0.01, 'in_cluster_weight': 0.5, 'noise_level': 5}\n"
     ]
    }
   ],
   "source": [
    "!bash ./0_Standard_ESN_Tune.sh \"tune\" 2000 0.1 0.1 5 \"grid_search.json\""
   ]
  },
  {
   "cell_type": "code",
   "execution_count": 7,
   "metadata": {},
   "outputs": [
    {
     "name": "stdout",
     "output_type": "stream",
     "text": [
      "{'radius': 0.7, 'sigma_input': 0.1, 'regularization': 0.01, 'in_cluster_weight': 0.5, 'noise_level': 5}\n",
      "/home/user/anaconda3/lib/python3.11/site-packages/torch/cuda/__init__.py:107: UserWarning: CUDA initialization: Unexpected error from cudaGetDeviceCount(). Did you run some cuda functions before calling NumCudaDevices() that might have already set an error? Error 804: forward compatibility was attempted on non supported HW (Triggered internally at ../c10/cuda/CUDAFunctions.cpp:109.)\n",
      "  return torch._C._cuda_getDeviceCount() > 0\n",
      "AVERAGE RMNSE ERROR ON TRAIN DATA SET: 1.408009787487814 ± 0.012415072022588807\n",
      "AVG NUMBER OF ACCURATE 0.5 PREDICTIONS ON TRAIN DATA SET: 1.48303869763107 ± 0.12750420030930493\n",
      "AVG NUMBER OF ACCURATE 1 PREDICTIONS ON TRAIN DATA SET: 2.600896867801685 ± 0.22635557509252857\n",
      "POWER SPECTRUM MEAN ERROR ON TRAIN DATA SET: 0.6277200212972462 ± 0.37105143425784876\n",
      "TEMPORAL DISTANCE ON TRAIN DATA SET: 0.11459922619458578 ± 0.003834057261705864\n",
      "GEOMETRICAL DISTANCE ON TRAIN DATA SET: 13.538263560114553 ± 0.20707940116581192\n",
      "\n",
      "\n",
      "AVERAGE RMNSE ERROR ON TEST DATA SET: 1.4101482721607372 ± 0.009036324907199102\n",
      "AVG NUMBER OF ACCURATE 0.5 PREDICTIONS ON TEST DATA SET: 1.0542897079830542 ± 0.0923479099649129\n",
      "AVG NUMBER OF ACCURATE 1 PREDICTIONS ON TEST DATA SET: 2.0216799756352413 ± 0.2134051122900198\n",
      "POWER SPECTRUM MEAN ERROR ON TEST DATA SET: 0.6811161533009994 ± 0.16405245439635655\n",
      "TEMPORAL DISTANCE ON TEST DATA SET: 0.11335350128322885 ± 0.0026182682454565617\n",
      "GEOMETRICAL DISTANCE ON TEST DATA SET: 13.565655616204282 ± 0.15718004531609892\n"
     ]
    }
   ],
   "source": [
    "!bash ./1_Standard_ESN_Evaluate_Tuned_Model.sh \"evaluate_tuned_model\" 2000 0.1 0.1 5 \"grid_search.json\""
   ]
  },
  {
   "cell_type": "code",
   "execution_count": 7,
   "metadata": {},
   "outputs": [
    {
     "name": "stdout",
     "output_type": "stream",
     "text": [
      "Grid Search Progress:  44%|████▍     | 11/25 [38:05<47:13, 202.38s/trial, Current Best Loss=0.12467]/home/user/kuei_jan_CHU/PGClustered_ESN/Methods/./Utils/global_utils.py:254: RuntimeWarning: divide by zero encountered in log10\n",
      "  s_dbfs = 20 * np.log10(s_mag)\n",
      "Grid Search Progress: 100%|████████| 25/25 [1:21:08<00:00, 194.75s/trial, Current Best Loss=0.12443]\n",
      "{'radius': 0.9, 'sigma_input': 0.1, 'regularization': 0.01, 'in_cluster_weight': 0.5, 'noise_level': 5}\n"
     ]
    }
   ],
   "source": [
    "!bash ./0_Standard_ESN_Tune.sh \"tune\" 2500 0.1 0.1 6 \"grid_search.json\""
   ]
  },
  {
   "cell_type": "code",
   "execution_count": 8,
   "metadata": {},
   "outputs": [
    {
     "name": "stdout",
     "output_type": "stream",
     "text": [
      "{'radius': 0.9, 'sigma_input': 0.1, 'regularization': 0.01, 'in_cluster_weight': 0.5, 'noise_level': 5}\n",
      "/home/user/anaconda3/lib/python3.11/site-packages/torch/cuda/__init__.py:107: UserWarning: CUDA initialization: Unexpected error from cudaGetDeviceCount(). Did you run some cuda functions before calling NumCudaDevices() that might have already set an error? Error 804: forward compatibility was attempted on non supported HW (Triggered internally at ../c10/cuda/CUDAFunctions.cpp:109.)\n",
      "  return torch._C._cuda_getDeviceCount() > 0\n",
      "AVERAGE RMNSE ERROR ON TRAIN DATA SET: 1.3785294427736583 ± 0.0063922767330870985\n",
      "AVG NUMBER OF ACCURATE 0.5 PREDICTIONS ON TRAIN DATA SET: 2.0928563654782275 ± 0.17914906203950207\n",
      "AVG NUMBER OF ACCURATE 1 PREDICTIONS ON TRAIN DATA SET: 3.28831539773419 ± 0.2550160223853974\n",
      "POWER SPECTRUM MEAN ERROR ON TRAIN DATA SET: 0.34735964092502136 ± 0.2337088884527057\n",
      "TEMPORAL DISTANCE ON TRAIN DATA SET: 0.11002422698382223 ± 0.0024866279470152387\n",
      "GEOMETRICAL DISTANCE ON TRAIN DATA SET: 13.059135110059326 ± 0.070342928356148\n",
      "\n",
      "\n",
      "AVERAGE RMNSE ERROR ON TEST DATA SET: 1.38600615211529 ± 0.007129982211771082\n",
      "AVG NUMBER OF ACCURATE 0.5 PREDICTIONS ON TEST DATA SET: 1.4781358109197955 ± 0.1142410772209898\n",
      "AVG NUMBER OF ACCURATE 1 PREDICTIONS ON TEST DATA SET: 2.606306949689988 ± 0.18837246779760194\n",
      "POWER SPECTRUM MEAN ERROR ON TEST DATA SET: 0.5670499253561896 ± 0.377373149811641\n",
      "TEMPORAL DISTANCE ON TEST DATA SET: 0.10878796738974099 ± 0.0012102220958486402\n",
      "GEOMETRICAL DISTANCE ON TEST DATA SET: 13.145322355773354 ± 0.08248861856542779\n"
     ]
    }
   ],
   "source": [
    "!bash ./1_Standard_ESN_Evaluate_Tuned_Model.sh \"evaluate_tuned_model\" 2500 0.1 0.1 6 \"grid_search.json\""
   ]
  },
  {
   "cell_type": "code",
   "execution_count": 8,
   "metadata": {},
   "outputs": [
    {
     "name": "stdout",
     "output_type": "stream",
     "text": [
      "Grid Search Progress:  12%|█        | 3/25 [14:02<1:41:37, 277.18s/trial, Current Best Loss=0.12299]/home/user/kuei_jan_CHU/PGClustered_ESN/Methods/./Utils/global_utils.py:254: RuntimeWarning: divide by zero encountered in log10\n",
      "  s_dbfs = 20 * np.log10(s_mag)\n",
      "Grid Search Progress: 100%|████████| 25/25 [1:45:11<00:00, 252.44s/trial, Current Best Loss=0.12299]\n",
      "{'radius': 0.1, 'sigma_input': 0.1, 'regularization': 0.01, 'in_cluster_weight': 0.5, 'noise_level': 5}\n"
     ]
    }
   ],
   "source": [
    "!bash ./0_Standard_ESN_Tune.sh \"tune\" 3000 0.1 0.1 7 \"grid_search.json\""
   ]
  },
  {
   "cell_type": "code",
   "execution_count": 9,
   "metadata": {},
   "outputs": [
    {
     "name": "stdout",
     "output_type": "stream",
     "text": [
      "{'radius': 0.1, 'sigma_input': 0.1, 'regularization': 0.01, 'in_cluster_weight': 0.5, 'noise_level': 5}\n",
      "/home/user/anaconda3/lib/python3.11/site-packages/torch/cuda/__init__.py:107: UserWarning: CUDA initialization: Unexpected error from cudaGetDeviceCount(). Did you run some cuda functions before calling NumCudaDevices() that might have already set an error? Error 804: forward compatibility was attempted on non supported HW (Triggered internally at ../c10/cuda/CUDAFunctions.cpp:109.)\n",
      "  return torch._C._cuda_getDeviceCount() > 0\n",
      "AVERAGE RMNSE ERROR ON TRAIN DATA SET: 1.366484638316758 ± 0.00457982281522393\n",
      "AVG NUMBER OF ACCURATE 0.5 PREDICTIONS ON TRAIN DATA SET: 2.3072308603022362 ± 0.0750201315422592\n",
      "AVG NUMBER OF ACCURATE 1 PREDICTIONS ON TRAIN DATA SET: 3.6499455589554457 ± 0.11130196280227427\n",
      "POWER SPECTRUM MEAN ERROR ON TRAIN DATA SET: 0.4492172346910365 ± 0.23580997349655047\n",
      "TEMPORAL DISTANCE ON TRAIN DATA SET: 0.10962341695065711 ± 0.0023773217535445696\n",
      "GEOMETRICAL DISTANCE ON TRAIN DATA SET: 12.996963942206369 ± 0.1168619715693127\n",
      "\n",
      "\n",
      "AVERAGE RMNSE ERROR ON TEST DATA SET: 1.3821216970747767 ± 0.006505100833412112\n",
      "AVG NUMBER OF ACCURATE 0.5 PREDICTIONS ON TEST DATA SET: 1.6745894094887994 ± 0.08880744714566621\n",
      "AVG NUMBER OF ACCURATE 1 PREDICTIONS ON TEST DATA SET: 2.915357877559299 ± 0.20097590667693532\n",
      "POWER SPECTRUM MEAN ERROR ON TEST DATA SET: 0.759030325443578 ± 0.5678998095879741\n",
      "TEMPORAL DISTANCE ON TEST DATA SET: 0.10878662244335487 ± 0.0019185246466551162\n",
      "GEOMETRICAL DISTANCE ON TEST DATA SET: 13.047069006535171 ± 0.1141111467227088\n"
     ]
    }
   ],
   "source": [
    "!bash ./1_Standard_ESN_Evaluate_Tuned_Model.sh \"evaluate_tuned_model\" 3000 0.1 0.1 7 \"grid_search.json\""
   ]
  },
  {
   "cell_type": "code",
   "execution_count": 9,
   "metadata": {},
   "outputs": [
    {
     "name": "stdout",
     "output_type": "stream",
     "text": [
      "Grid Search Progress:   8%|▋        | 2/25 [14:57<2:50:19, 444.32s/trial, Current Best Loss=0.12448]/home/user/kuei_jan_CHU/PGClustered_ESN/Methods/./Utils/global_utils.py:254: RuntimeWarning: divide by zero encountered in log10\n",
      "  s_dbfs = 20 * np.log10(s_mag)\n",
      "Grid Search Progress: 100%|████████| 25/25 [2:54:05<00:00, 417.81s/trial, Current Best Loss=0.12388]\n",
      "{'radius': 0.7, 'sigma_input': 0.1, 'regularization': 0.01, 'in_cluster_weight': 0.5, 'noise_level': 5}\n"
     ]
    }
   ],
   "source": [
    "!bash ./0_Standard_ESN_Tune.sh \"tune\" 3500 0.1 0.1 8 \"grid_search.json\""
   ]
  },
  {
   "cell_type": "code",
   "execution_count": 10,
   "metadata": {},
   "outputs": [
    {
     "name": "stdout",
     "output_type": "stream",
     "text": [
      "{'radius': 0.7, 'sigma_input': 0.1, 'regularization': 0.01, 'in_cluster_weight': 0.5, 'noise_level': 5}\n",
      "/home/user/anaconda3/lib/python3.11/site-packages/torch/cuda/__init__.py:107: UserWarning: CUDA initialization: Unexpected error from cudaGetDeviceCount(). Did you run some cuda functions before calling NumCudaDevices() that might have already set an error? Error 804: forward compatibility was attempted on non supported HW (Triggered internally at ../c10/cuda/CUDAFunctions.cpp:109.)\n",
      "  return torch._C._cuda_getDeviceCount() > 0\n",
      "AVERAGE RMNSE ERROR ON TRAIN DATA SET: 1.3685048564601954 ± 0.008040576612322846\n",
      "AVG NUMBER OF ACCURATE 0.5 PREDICTIONS ON TRAIN DATA SET: 2.4874542132063313 ± 0.12225180807956076\n",
      "AVG NUMBER OF ACCURATE 1 PREDICTIONS ON TRAIN DATA SET: 3.9547698603495207 ± 0.15004140609312386\n",
      "POWER SPECTRUM MEAN ERROR ON TRAIN DATA SET: 0.39069332862918876 ± 0.1988294648012516\n",
      "TEMPORAL DISTANCE ON TRAIN DATA SET: 0.10839967244492957 ± 0.0023230384397704327\n",
      "GEOMETRICAL DISTANCE ON TRAIN DATA SET: 13.064298884591002 ± 0.09184685044708812\n",
      "\n",
      "\n",
      "AVERAGE RMNSE ERROR ON TEST DATA SET: 1.3771696889384846 ± 0.007447271140999582\n",
      "AVG NUMBER OF ACCURATE 0.5 PREDICTIONS ON TEST DATA SET: 1.8164349939977449 ± 0.07987031346248091\n",
      "AVG NUMBER OF ACCURATE 1 PREDICTIONS ON TEST DATA SET: 3.0697142764349454 ± 0.19091937062118203\n",
      "POWER SPECTRUM MEAN ERROR ON TEST DATA SET: 0.7320125915423453 ± 0.3681122410757635\n",
      "TEMPORAL DISTANCE ON TEST DATA SET: 0.10738343921425272 ± 0.001503221847675114\n",
      "GEOMETRICAL DISTANCE ON TEST DATA SET: 13.073182217879511 ± 0.10898160159288045\n"
     ]
    }
   ],
   "source": [
    "!bash ./1_Standard_ESN_Evaluate_Tuned_Model.sh \"evaluate_tuned_model\" 3500 0.1 0.1 8  \"grid_search.json\""
   ]
  },
  {
   "cell_type": "code",
   "execution_count": 10,
   "metadata": {},
   "outputs": [
    {
     "name": "stdout",
     "output_type": "stream",
     "text": [
      "Grid Search Progress: 100%|████████| 25/25 [3:49:30<00:00, 550.80s/trial, Current Best Loss=0.12204]\n",
      "{'radius': 0.9, 'sigma_input': 0.1, 'regularization': 0.01, 'in_cluster_weight': 0.5, 'noise_level': 5}\n"
     ]
    }
   ],
   "source": [
    "!bash ./0_Standard_ESN_Tune.sh \"tune\" 4000 0.1 0.1 9 \"grid_search.json\""
   ]
  },
  {
   "cell_type": "code",
   "execution_count": 11,
   "metadata": {},
   "outputs": [
    {
     "name": "stdout",
     "output_type": "stream",
     "text": [
      "{'radius': 0.9, 'sigma_input': 0.1, 'regularization': 0.01, 'in_cluster_weight': 0.5, 'noise_level': 5}\n",
      "/home/user/anaconda3/lib/python3.11/site-packages/torch/cuda/__init__.py:107: UserWarning: CUDA initialization: Unexpected error from cudaGetDeviceCount(). Did you run some cuda functions before calling NumCudaDevices() that might have already set an error? Error 804: forward compatibility was attempted on non supported HW (Triggered internally at ../c10/cuda/CUDAFunctions.cpp:109.)\n",
      "  return torch._C._cuda_getDeviceCount() > 0\n",
      "AVERAGE RMNSE ERROR ON TRAIN DATA SET: 1.3702351577457632 ± 0.0077370209273700755\n",
      "AVG NUMBER OF ACCURATE 0.5 PREDICTIONS ON TRAIN DATA SET: 2.584328492018757 ± 0.09064536302728797\n",
      "AVG NUMBER OF ACCURATE 1 PREDICTIONS ON TRAIN DATA SET: 4.126878090421161 ± 0.18500074926493731\n",
      "POWER SPECTRUM MEAN ERROR ON TRAIN DATA SET: 0.5145158027306839 ± 0.2559787262653224\n",
      "TEMPORAL DISTANCE ON TRAIN DATA SET: 0.10819504271887767 ± 0.002297879472935333\n",
      "GEOMETRICAL DISTANCE ON TRAIN DATA SET: 13.041236912966482 ± 0.04865587267332497\n",
      "\n",
      "\n",
      "AVERAGE RMNSE ERROR ON TEST DATA SET: 1.3752663424684795 ± 0.006148772596591824\n",
      "AVG NUMBER OF ACCURATE 0.5 PREDICTIONS ON TEST DATA SET: 1.8029097892769872 ± 0.08399045954795342\n",
      "AVG NUMBER OF ACCURATE 1 PREDICTIONS ON TEST DATA SET: 3.1253366808490606 ± 0.23951954744085974\n",
      "POWER SPECTRUM MEAN ERROR ON TEST DATA SET: 0.6882810128781177 ± 0.4704618135522518\n",
      "TEMPORAL DISTANCE ON TEST DATA SET: 0.1077378156257717 ± 0.0018179241615296502\n",
      "GEOMETRICAL DISTANCE ON TEST DATA SET: 13.060847156388096 ± 0.08385616611611092\n"
     ]
    }
   ],
   "source": [
    "!bash ./1_Standard_ESN_Evaluate_Tuned_Model.sh \"evaluate_tuned_model\" 4000 0.1 0.1 9  \"grid_search.json\""
   ]
  },
  {
   "cell_type": "markdown",
   "metadata": {},
   "source": [
    "# Analyze training data length"
   ]
  },
  {
   "cell_type": "code",
   "execution_count": 1,
   "metadata": {},
   "outputs": [
    {
     "name": "stdout",
     "output_type": "stream",
     "text": [
      "{'radius': 0.1, 'sigma_input': 0.1, 'regularization': 0.01, 'in_cluster_weight': 0.5, 'noise_level': 5}\n",
      "AVERAGE RMNSE ERROR ON TRAIN DATA SET: 1.5307666693708035 ± 0.0467077483516725\n",
      "AVG NUMBER OF ACCURATE 0.5 PREDICTIONS ON TRAIN DATA SET: 3.5165532273969746 ± 0.7594014027724844\n",
      "AVG NUMBER OF ACCURATE 1 PREDICTIONS ON TRAIN DATA SET: 4.3652598236245135 ± 0.9166008387879658\n",
      "POWER SPECTRUM MEAN ERROR ON TRAIN DATA SET: 1.774922428507741 ± 0.8474703365572094\n",
      "TEMPORAL DISTANCE ON TRAIN DATA SET: 0.2192969556210036 ± 0.006268685478818135\n",
      "GEOMETRICAL DISTANCE ON TRAIN DATA SET: 15.714955282881832 ± 1.0134206585173398\n",
      "\n",
      "\n",
      "AVERAGE RMNSE ERROR ON TEST DATA SET: 1.5912377829521185 ± 0.028237841431014397\n",
      "AVG NUMBER OF ACCURATE 0.5 PREDICTIONS ON TEST DATA SET: 0.272701940182275 ± 0.01582452564825776\n",
      "AVG NUMBER OF ACCURATE 1 PREDICTIONS ON TEST DATA SET: 0.6786271468640122 ± 0.07088323531388559\n",
      "POWER SPECTRUM MEAN ERROR ON TEST DATA SET: 1.4386416903510473 ± 0.5797454313685173\n",
      "TEMPORAL DISTANCE ON TEST DATA SET: 0.14416216752489766 ± 0.0038702132456100652\n",
      "GEOMETRICAL DISTANCE ON TEST DATA SET: 16.928888799535834 ± 0.5916985477591219\n"
     ]
    }
   ],
   "source": [
    "!bash ./1_Standard_ESN_Evaluate_Tuned_Model.sh \"evaluate_tuned_model\" 3000 0.1 0.1 7 \"grid_search.json\" 10000"
   ]
  },
  {
   "cell_type": "code",
   "execution_count": 2,
   "metadata": {},
   "outputs": [
    {
     "name": "stdout",
     "output_type": "stream",
     "text": [
      "{'radius': 0.1, 'sigma_input': 0.1, 'regularization': 0.01, 'in_cluster_weight': 0.5, 'noise_level': 5}\n",
      "AVERAGE RMNSE ERROR ON TRAIN DATA SET: 1.3901587775701494 ± 0.014997093057297798\n",
      "AVG NUMBER OF ACCURATE 0.5 PREDICTIONS ON TRAIN DATA SET: 2.8681887260956573 ± 0.2329803007093949\n",
      "AVG NUMBER OF ACCURATE 1 PREDICTIONS ON TRAIN DATA SET: 3.915546766659323 ± 0.2822627109120338\n",
      "POWER SPECTRUM MEAN ERROR ON TRAIN DATA SET: 1.2612271531827384 ± 0.519230102658044\n",
      "TEMPORAL DISTANCE ON TRAIN DATA SET: 0.16555897518989987 ± 0.0059951690744846275\n",
      "GEOMETRICAL DISTANCE ON TRAIN DATA SET: 13.4325066089845 ± 0.2826268910402864\n",
      "\n",
      "\n",
      "AVERAGE RMNSE ERROR ON TEST DATA SET: 1.4200271502601132 ± 0.009123804616789872\n",
      "AVG NUMBER OF ACCURATE 0.5 PREDICTIONS ON TEST DATA SET: 0.6701738939135387 ± 0.05664158894753449\n",
      "AVG NUMBER OF ACCURATE 1 PREDICTIONS ON TEST DATA SET: 1.4079738114308653 ± 0.12061296109786392\n",
      "POWER SPECTRUM MEAN ERROR ON TEST DATA SET: 0.5675907002328391 ± 0.40195608374166025\n",
      "TEMPORAL DISTANCE ON TEST DATA SET: 0.12041665019270568 ± 0.0016503111289140062\n",
      "GEOMETRICAL DISTANCE ON TEST DATA SET: 13.743395803634197 ± 0.173618227027378\n"
     ]
    }
   ],
   "source": [
    "!bash ./1_Standard_ESN_Evaluate_Tuned_Model.sh \"evaluate_tuned_model\" 3000 0.1 0.1 7 \"grid_search.json\" 20000"
   ]
  },
  {
   "cell_type": "code",
   "execution_count": 3,
   "metadata": {},
   "outputs": [
    {
     "name": "stdout",
     "output_type": "stream",
     "text": [
      "{'radius': 0.1, 'sigma_input': 0.1, 'regularization': 0.01, 'in_cluster_weight': 0.5, 'noise_level': 5}\n",
      "AVERAGE RMNSE ERROR ON TRAIN DATA SET: 1.3589328838781272 ± 0.008670119366031173\n",
      "AVG NUMBER OF ACCURATE 0.5 PREDICTIONS ON TRAIN DATA SET: 2.7123670967085958 ± 0.1390279591648818\n",
      "AVG NUMBER OF ACCURATE 1 PREDICTIONS ON TRAIN DATA SET: 4.118988387667384 ± 0.2791530981465019\n",
      "POWER SPECTRUM MEAN ERROR ON TRAIN DATA SET: 0.8402306949248641 ± 0.33027091471954495\n",
      "TEMPORAL DISTANCE ON TRAIN DATA SET: 0.14263383543992872 ± 0.0032577667009592386\n",
      "GEOMETRICAL DISTANCE ON TRAIN DATA SET: 13.024926992409238 ± 0.12425813938925694\n",
      "\n",
      "\n",
      "AVERAGE RMNSE ERROR ON TEST DATA SET: 1.3856456311583436 ± 0.005955047162245109\n",
      "AVG NUMBER OF ACCURATE 0.5 PREDICTIONS ON TEST DATA SET: 1.0411026333803157 ± 0.07055828508350839\n",
      "AVG NUMBER OF ACCURATE 1 PREDICTIONS ON TEST DATA SET: 2.068003801803836 ± 0.21789305247584578\n",
      "POWER SPECTRUM MEAN ERROR ON TEST DATA SET: 0.8871753314268368 ± 0.4751068673474721\n",
      "TEMPORAL DISTANCE ON TEST DATA SET: 0.11352905153855905 ± 0.0034877776076316486\n",
      "GEOMETRICAL DISTANCE ON TEST DATA SET: 13.099544345857487 ± 0.11029174074422635\n"
     ]
    }
   ],
   "source": [
    "!bash ./1_Standard_ESN_Evaluate_Tuned_Model.sh \"evaluate_tuned_model\" 3000 0.1 0.1 7 \"grid_search.json\" 30000"
   ]
  },
  {
   "cell_type": "code",
   "execution_count": 4,
   "metadata": {},
   "outputs": [
    {
     "name": "stdout",
     "output_type": "stream",
     "text": [
      "{'radius': 0.1, 'sigma_input': 0.1, 'regularization': 0.01, 'in_cluster_weight': 0.5, 'noise_level': 5}\n",
      "AVERAGE RMNSE ERROR ON TRAIN DATA SET: 1.3652378386130364 ± 0.005336788875226038\n",
      "AVG NUMBER OF ACCURATE 0.5 PREDICTIONS ON TRAIN DATA SET: 2.5606593837574314 ± 0.14963585349493388\n",
      "AVG NUMBER OF ACCURATE 1 PREDICTIONS ON TRAIN DATA SET: 3.9010071715845087 ± 0.1469761817841515\n",
      "POWER SPECTRUM MEAN ERROR ON TRAIN DATA SET: 0.43538314478000595 ± 0.2556364887318814\n",
      "TEMPORAL DISTANCE ON TRAIN DATA SET: 0.12301455807740855 ± 0.0019112265944986606\n",
      "GEOMETRICAL DISTANCE ON TRAIN DATA SET: 13.0809482828049 ± 0.11667626027671976\n",
      "\n",
      "\n",
      "AVERAGE RMNSE ERROR ON TEST DATA SET: 1.37896431262668 ± 0.0038851432304197893\n",
      "AVG NUMBER OF ACCURATE 0.5 PREDICTIONS ON TEST DATA SET: 1.2586893643255037 ± 0.0908628359303652\n",
      "AVG NUMBER OF ACCURATE 1 PREDICTIONS ON TEST DATA SET: 2.3657273707195126 ± 0.2078579785875532\n",
      "POWER SPECTRUM MEAN ERROR ON TEST DATA SET: 0.7123824670598302 ± 0.452344484875757\n",
      "TEMPORAL DISTANCE ON TEST DATA SET: 0.11087759022369359 ± 0.0016533846597978476\n",
      "GEOMETRICAL DISTANCE ON TEST DATA SET: 13.03789992925985 ± 0.1012707149919719\n"
     ]
    }
   ],
   "source": [
    "!bash ./1_Standard_ESN_Evaluate_Tuned_Model.sh \"evaluate_tuned_model\" 3000 0.1 0.1 7 \"grid_search.json\" 40000"
   ]
  },
  {
   "cell_type": "code",
   "execution_count": 5,
   "metadata": {},
   "outputs": [
    {
     "name": "stdout",
     "output_type": "stream",
     "text": [
      "{'radius': 0.1, 'sigma_input': 0.1, 'regularization': 0.01, 'in_cluster_weight': 0.5, 'noise_level': 5}\n",
      "AVERAGE RMNSE ERROR ON TRAIN DATA SET: 1.3672584109837314 ± 0.005963539197270696\n",
      "AVG NUMBER OF ACCURATE 0.5 PREDICTIONS ON TRAIN DATA SET: 2.4686316366366094 ± 0.148837277127432\n",
      "AVG NUMBER OF ACCURATE 1 PREDICTIONS ON TRAIN DATA SET: 3.827914711072748 ± 0.17403233953990105\n",
      "POWER SPECTRUM MEAN ERROR ON TRAIN DATA SET: 0.5631409242188212 ± 0.3868346763217459\n",
      "TEMPORAL DISTANCE ON TRAIN DATA SET: 0.11854274612308438 ± 0.002267543398376647\n",
      "GEOMETRICAL DISTANCE ON TRAIN DATA SET: 12.966026492752963 ± 0.10659891481149122\n",
      "\n",
      "\n",
      "AVERAGE RMNSE ERROR ON TEST DATA SET: 1.3839475720839185 ± 0.004493940725940716\n",
      "AVG NUMBER OF ACCURATE 0.5 PREDICTIONS ON TEST DATA SET: 1.3787255562222271 ± 0.07971287550146858\n",
      "AVG NUMBER OF ACCURATE 1 PREDICTIONS ON TEST DATA SET: 2.486270757793265 ± 0.13237308292391442\n",
      "POWER SPECTRUM MEAN ERROR ON TEST DATA SET: 0.7435390376200278 ± 0.41980967843900713\n",
      "TEMPORAL DISTANCE ON TEST DATA SET: 0.11034115318272013 ± 0.0014306849962729842\n",
      "GEOMETRICAL DISTANCE ON TEST DATA SET: 13.011631780186335 ± 0.09621743259151035\n"
     ]
    }
   ],
   "source": [
    "!bash ./1_Standard_ESN_Evaluate_Tuned_Model.sh \"evaluate_tuned_model\" 3000 0.1 0.1 7 \"grid_search.json\" 50000"
   ]
  },
  {
   "cell_type": "code",
   "execution_count": 6,
   "metadata": {},
   "outputs": [
    {
     "name": "stdout",
     "output_type": "stream",
     "text": [
      "{'radius': 0.1, 'sigma_input': 0.1, 'regularization': 0.01, 'in_cluster_weight': 0.5, 'noise_level': 5}\n",
      "AVERAGE RMNSE ERROR ON TRAIN DATA SET: 1.3653109451735865 ± 0.006444710289242471\n",
      "AVG NUMBER OF ACCURATE 0.5 PREDICTIONS ON TRAIN DATA SET: 2.575706174009274 ± 0.17297129967707825\n",
      "AVG NUMBER OF ACCURATE 1 PREDICTIONS ON TRAIN DATA SET: 4.009377874409578 ± 0.14405543498248208\n",
      "POWER SPECTRUM MEAN ERROR ON TRAIN DATA SET: 0.3805475722203083 ± 0.302126143281199\n",
      "TEMPORAL DISTANCE ON TRAIN DATA SET: 0.11363488338660517 ± 0.00201455621525515\n",
      "GEOMETRICAL DISTANCE ON TRAIN DATA SET: 13.0239940844322 ± 0.09670910164530278\n",
      "\n",
      "\n",
      "AVERAGE RMNSE ERROR ON TEST DATA SET: 1.3797349224780198 ± 0.005338419707697284\n",
      "AVG NUMBER OF ACCURATE 0.5 PREDICTIONS ON TEST DATA SET: 1.4598767845467726 ± 0.09231401193298168\n",
      "AVG NUMBER OF ACCURATE 1 PREDICTIONS ON TEST DATA SET: 2.6582099228058955 ± 0.12060170396950409\n",
      "POWER SPECTRUM MEAN ERROR ON TEST DATA SET: 0.5147023942936333 ± 0.31307910271288186\n",
      "TEMPORAL DISTANCE ON TEST DATA SET: 0.10982092249074907 ± 0.0019947853925888935\n",
      "GEOMETRICAL DISTANCE ON TEST DATA SET: 12.983807293121728 ± 0.09829030065315014\n"
     ]
    }
   ],
   "source": [
    "!bash ./1_Standard_ESN_Evaluate_Tuned_Model.sh \"evaluate_tuned_model\" 3000 0.1 0.1 7 \"grid_search.json\" 60000"
   ]
  },
  {
   "cell_type": "code",
   "execution_count": 7,
   "metadata": {},
   "outputs": [
    {
     "name": "stdout",
     "output_type": "stream",
     "text": [
      "{'radius': 0.1, 'sigma_input': 0.1, 'regularization': 0.01, 'in_cluster_weight': 0.5, 'noise_level': 5}\n",
      "AVERAGE RMNSE ERROR ON TRAIN DATA SET: 1.3673836911882262 ± 0.006714156920632389\n",
      "AVG NUMBER OF ACCURATE 0.5 PREDICTIONS ON TRAIN DATA SET: 2.461962959309014 ± 0.11564364946299885\n",
      "AVG NUMBER OF ACCURATE 1 PREDICTIONS ON TRAIN DATA SET: 3.8918776583979975 ± 0.13875699938459687\n",
      "POWER SPECTRUM MEAN ERROR ON TRAIN DATA SET: 0.41243470374433516 ± 0.2660433337312106\n",
      "TEMPORAL DISTANCE ON TRAIN DATA SET: 0.11066415658327904 ± 0.0014635623018828764\n",
      "GEOMETRICAL DISTANCE ON TRAIN DATA SET: 13.041277425308303 ± 0.09089155782780346\n",
      "\n",
      "\n",
      "AVERAGE RMNSE ERROR ON TEST DATA SET: 1.382265044305666 ± 0.007207930640947492\n",
      "AVG NUMBER OF ACCURATE 0.5 PREDICTIONS ON TEST DATA SET: 1.5589489091263222 ± 0.15297622769652108\n",
      "AVG NUMBER OF ACCURATE 1 PREDICTIONS ON TEST DATA SET: 2.721440254875437 ± 0.2640729655580836\n",
      "POWER SPECTRUM MEAN ERROR ON TEST DATA SET: 0.7768899446877726 ± 0.3929900077181556\n",
      "TEMPORAL DISTANCE ON TEST DATA SET: 0.10892688511070336 ± 0.001562293356668226\n",
      "GEOMETRICAL DISTANCE ON TEST DATA SET: 13.091218181900796 ± 0.1227243551971681\n"
     ]
    }
   ],
   "source": [
    "!bash ./1_Standard_ESN_Evaluate_Tuned_Model.sh \"evaluate_tuned_model\" 3000 0.1 0.1 7 \"grid_search.json\" 70000"
   ]
  },
  {
   "cell_type": "code",
   "execution_count": 8,
   "metadata": {},
   "outputs": [
    {
     "name": "stdout",
     "output_type": "stream",
     "text": [
      "{'radius': 0.1, 'sigma_input': 0.1, 'regularization': 0.01, 'in_cluster_weight': 0.5, 'noise_level': 5}\n",
      "AVERAGE RMNSE ERROR ON TRAIN DATA SET: 1.3680298266062523 ± 0.0074953416395925855\n",
      "AVG NUMBER OF ACCURATE 0.5 PREDICTIONS ON TRAIN DATA SET: 2.4007238379344726 ± 0.07500469928004151\n",
      "AVG NUMBER OF ACCURATE 1 PREDICTIONS ON TRAIN DATA SET: 3.8502876538816677 ± 0.14385479525117909\n",
      "POWER SPECTRUM MEAN ERROR ON TRAIN DATA SET: 0.41921611751374793 ± 0.1973031608079508\n",
      "TEMPORAL DISTANCE ON TRAIN DATA SET: 0.10809901390127878 ± 0.002218615417558297\n",
      "GEOMETRICAL DISTANCE ON TRAIN DATA SET: 13.00505509615904 ± 0.08773225601338118\n",
      "\n",
      "\n",
      "AVERAGE RMNSE ERROR ON TEST DATA SET: 1.3790813144213 ± 0.00564919386012235\n",
      "AVG NUMBER OF ACCURATE 0.5 PREDICTIONS ON TEST DATA SET: 1.644495828985114 ± 0.140132498882587\n",
      "AVG NUMBER OF ACCURATE 1 PREDICTIONS ON TEST DATA SET: 2.9292212123980756 ± 0.202291412167095\n",
      "POWER SPECTRUM MEAN ERROR ON TEST DATA SET: 0.5947733634643739 ± 0.2844445515145013\n",
      "TEMPORAL DISTANCE ON TEST DATA SET: 0.10834240449709165 ± 0.0011509095421220513\n",
      "GEOMETRICAL DISTANCE ON TEST DATA SET: 13.061922632795964 ± 0.0830630788772189\n"
     ]
    }
   ],
   "source": [
    "!bash ./1_Standard_ESN_Evaluate_Tuned_Model.sh \"evaluate_tuned_model\" 3000 0.1 0.1 7 \"grid_search.json\" 80000"
   ]
  },
  {
   "cell_type": "code",
   "execution_count": 9,
   "metadata": {},
   "outputs": [
    {
     "name": "stdout",
     "output_type": "stream",
     "text": [
      "{'radius': 0.1, 'sigma_input': 0.1, 'regularization': 0.01, 'in_cluster_weight': 0.5, 'noise_level': 5}\n",
      "AVERAGE RMNSE ERROR ON TRAIN DATA SET: 1.3683636123058924 ± 0.005044495533668523\n",
      "AVG NUMBER OF ACCURATE 0.5 PREDICTIONS ON TRAIN DATA SET: 2.3344503348027605 ± 0.09962451789769815\n",
      "AVG NUMBER OF ACCURATE 1 PREDICTIONS ON TRAIN DATA SET: 3.756794676249431 ± 0.16619955222732385\n",
      "POWER SPECTRUM MEAN ERROR ON TRAIN DATA SET: 0.37148839791933186 ± 0.2530248218465423\n",
      "TEMPORAL DISTANCE ON TRAIN DATA SET: 0.10873200971145607 ± 0.001767024077574437\n",
      "GEOMETRICAL DISTANCE ON TRAIN DATA SET: 13.032039157192873 ± 0.10393817032532138\n",
      "\n",
      "\n",
      "AVERAGE RMNSE ERROR ON TEST DATA SET: 1.3818645516361665 ± 0.007338881736951162\n",
      "AVG NUMBER OF ACCURATE 0.5 PREDICTIONS ON TEST DATA SET: 1.7114455923528638 ± 0.13824529579732134\n",
      "AVG NUMBER OF ACCURATE 1 PREDICTIONS ON TEST DATA SET: 2.952552190541383 ± 0.18670202835475436\n",
      "POWER SPECTRUM MEAN ERROR ON TEST DATA SET: 0.6137571698675199 ± 0.49701889553763823\n",
      "TEMPORAL DISTANCE ON TEST DATA SET: 0.10809597289342684 ± 0.0012504797015088288\n",
      "GEOMETRICAL DISTANCE ON TEST DATA SET: 13.037619632734694 ± 0.04489666562689809\n"
     ]
    }
   ],
   "source": [
    "!bash ./1_Standard_ESN_Evaluate_Tuned_Model.sh \"evaluate_tuned_model\" 3000 0.1 0.1 7 \"grid_search.json\" 90000"
   ]
  },
  {
   "cell_type": "markdown",
   "metadata": {},
   "source": [
    "# Analyze noise degree"
   ]
  },
  {
   "cell_type": "code",
   "execution_count": 13,
   "metadata": {},
   "outputs": [
    {
     "name": "stdout",
     "output_type": "stream",
     "text": [
      "{'radius': 0.1, 'sigma_input': 0.1, 'regularization': 0.01, 'in_cluster_weight': 0.5, 'noise_level': 5}\n",
      "/home/user/anaconda3/lib/python3.11/site-packages/torch/cuda/__init__.py:107: UserWarning: CUDA initialization: Unexpected error from cudaGetDeviceCount(). Did you run some cuda functions before calling NumCudaDevices() that might have already set an error? Error 804: forward compatibility was attempted on non supported HW (Triggered internally at ../c10/cuda/CUDAFunctions.cpp:109.)\n",
      "  return torch._C._cuda_getDeviceCount() > 0\n",
      "AVERAGE RMNSE ERROR ON TRAIN DATA SET: 1.3689872461055084 ± 0.008159322732547065\n",
      "AVG NUMBER OF ACCURATE 0.5 PREDICTIONS ON TRAIN DATA SET: 2.3072308603022362 ± 0.07956141322039527\n",
      "AVG NUMBER OF ACCURATE 1 PREDICTIONS ON TRAIN DATA SET: 3.6533268601356355 ± 0.15844282682877184\n",
      "POWER SPECTRUM MEAN ERROR ON TRAIN DATA SET: 0.3867634989862119 ± 0.15659786637305728\n",
      "TEMPORAL DISTANCE ON TRAIN DATA SET: 0.10884694863099982 ± 0.0017339642206198205\n",
      "GEOMETRICAL DISTANCE ON TRAIN DATA SET: 13.06951033367164 ± 0.08199592795483931\n",
      "\n",
      "\n",
      "AVERAGE RMNSE ERROR ON TEST DATA SET: 1.3835082335633802 ± 0.0069596018462596745\n",
      "AVG NUMBER OF ACCURATE 0.5 PREDICTIONS ON TEST DATA SET: 1.6688411974824775 ± 0.08639687694910059\n",
      "AVG NUMBER OF ACCURATE 1 PREDICTIONS ON TEST DATA SET: 2.896760721068258 ± 0.20953047923705506\n",
      "POWER SPECTRUM MEAN ERROR ON TEST DATA SET: 0.6959419221719919 ± 0.4088925247614851\n",
      "TEMPORAL DISTANCE ON TEST DATA SET: 0.10846599479317445 ± 0.001762367899405625\n",
      "GEOMETRICAL DISTANCE ON TEST DATA SET: 13.100513586602727 ± 0.09319757375761357\n"
     ]
    }
   ],
   "source": [
    "!bash ./1_Standard_ESN_Evaluate_Tuned_Model.sh \"evaluate_tuned_model\" 3000 0.1 0.1 7 \"grid_search.json\" 100000 0"
   ]
  },
  {
   "cell_type": "code",
   "execution_count": 14,
   "metadata": {},
   "outputs": [
    {
     "name": "stdout",
     "output_type": "stream",
     "text": [
      "{'radius': 0.1, 'sigma_input': 0.1, 'regularization': 0.01, 'in_cluster_weight': 0.5, 'noise_level': 5}\n",
      "/home/user/anaconda3/lib/python3.11/site-packages/torch/cuda/__init__.py:107: UserWarning: CUDA initialization: Unexpected error from cudaGetDeviceCount(). Did you run some cuda functions before calling NumCudaDevices() that might have already set an error? Error 804: forward compatibility was attempted on non supported HW (Triggered internally at ../c10/cuda/CUDAFunctions.cpp:109.)\n",
      "  return torch._C._cuda_getDeviceCount() > 0\n",
      "AVERAGE RMNSE ERROR ON TRAIN DATA SET: 1.3412145905505164 ± 0.004831826652392177\n",
      "AVG NUMBER OF ACCURATE 0.5 PREDICTIONS ON TRAIN DATA SET: 2.1521982011905516 ± 0.06990794192746021\n",
      "AVG NUMBER OF ACCURATE 1 PREDICTIONS ON TRAIN DATA SET: 3.651129014368512 ± 0.10121392910724923\n",
      "POWER SPECTRUM MEAN ERROR ON TRAIN DATA SET: 0.54859090911619 ± 0.29995687619071465\n",
      "TEMPORAL DISTANCE ON TRAIN DATA SET: 0.11040626466109205 ± 0.0015109928288793522\n",
      "GEOMETRICAL DISTANCE ON TRAIN DATA SET: 12.518883333333106 ± 0.0985956696097149\n",
      "\n",
      "\n",
      "AVERAGE RMNSE ERROR ON TEST DATA SET: 1.351547389005717 ± 0.008229962965116775\n",
      "AVG NUMBER OF ACCURATE 0.5 PREDICTIONS ON TEST DATA SET: 1.611190012360248 ± 0.11393028269980214\n",
      "AVG NUMBER OF ACCURATE 1 PREDICTIONS ON TEST DATA SET: 2.929221212398075 ± 0.1855240800033541\n",
      "POWER SPECTRUM MEAN ERROR ON TEST DATA SET: 0.9695845158944753 ± 0.5031781331499674\n",
      "TEMPORAL DISTANCE ON TEST DATA SET: 0.10911731850465203 ± 0.0016182212171257236\n",
      "GEOMETRICAL DISTANCE ON TEST DATA SET: 12.604930283389074 ± 0.12457181290818023\n"
     ]
    }
   ],
   "source": [
    "!bash ./1_Standard_ESN_Evaluate_Tuned_Model.sh \"evaluate_tuned_model\" 3000 0.1 0.1 7 \"grid_search.json\" 100000 20"
   ]
  },
  {
   "cell_type": "code",
   "execution_count": 15,
   "metadata": {},
   "outputs": [
    {
     "name": "stdout",
     "output_type": "stream",
     "text": [
      "{'radius': 0.1, 'sigma_input': 0.1, 'regularization': 0.01, 'in_cluster_weight': 0.5, 'noise_level': 5}\n",
      "/home/user/anaconda3/lib/python3.11/site-packages/torch/cuda/__init__.py:107: UserWarning: CUDA initialization: Unexpected error from cudaGetDeviceCount(). Did you run some cuda functions before calling NumCudaDevices() that might have already set an error? Error 804: forward compatibility was attempted on non supported HW (Triggered internally at ../c10/cuda/CUDAFunctions.cpp:109.)\n",
      "  return torch._C._cuda_getDeviceCount() > 0\n",
      "AVERAGE RMNSE ERROR ON TRAIN DATA SET: 1.3192881109029138 ± 0.008133411916199158\n",
      "AVG NUMBER OF ACCURATE 0.5 PREDICTIONS ON TRAIN DATA SET: 1.5469452899366496 ± 0.08322054727829686\n",
      "AVG NUMBER OF ACCURATE 1 PREDICTIONS ON TRAIN DATA SET: 2.8607498634992403 ± 0.17067777123360628\n",
      "POWER SPECTRUM MEAN ERROR ON TRAIN DATA SET: 0.9580299119639888 ± 0.571341065320416\n",
      "TEMPORAL DISTANCE ON TRAIN DATA SET: 0.11590913292377851 ± 0.0022446717482735683\n",
      "GEOMETRICAL DISTANCE ON TRAIN DATA SET: 11.927770483929136 ± 0.06373440652829822\n",
      "\n",
      "\n",
      "AVERAGE RMNSE ERROR ON TEST DATA SET: 1.3275610272122524 ± 0.005534603534930607\n",
      "AVG NUMBER OF ACCURATE 0.5 PREDICTIONS ON TEST DATA SET: 1.1011207293286775 ± 0.07684578830452107\n",
      "AVG NUMBER OF ACCURATE 1 PREDICTIONS ON TEST DATA SET: 2.2625976847237355 ± 0.193314713591376\n",
      "POWER SPECTRUM MEAN ERROR ON TEST DATA SET: 1.52263325301383 ± 0.5863587412062773\n",
      "TEMPORAL DISTANCE ON TEST DATA SET: 0.11618466266041412 ± 0.0025347311273216364\n",
      "GEOMETRICAL DISTANCE ON TEST DATA SET: 12.036219805440922 ± 0.10015445125157604\n"
     ]
    }
   ],
   "source": [
    "!bash ./1_Standard_ESN_Evaluate_Tuned_Model.sh \"evaluate_tuned_model\" 3000 0.1 0.1 7 \"grid_search.json\" 100000 40"
   ]
  },
  {
   "cell_type": "code",
   "execution_count": 16,
   "metadata": {},
   "outputs": [
    {
     "name": "stdout",
     "output_type": "stream",
     "text": [
      "{'radius': 0.1, 'sigma_input': 0.1, 'regularization': 0.01, 'in_cluster_weight': 0.5, 'noise_level': 5}\n",
      "/home/user/anaconda3/lib/python3.11/site-packages/torch/cuda/__init__.py:107: UserWarning: CUDA initialization: Unexpected error from cudaGetDeviceCount(). Did you run some cuda functions before calling NumCudaDevices() that might have already set an error? Error 804: forward compatibility was attempted on non supported HW (Triggered internally at ../c10/cuda/CUDAFunctions.cpp:109.)\n",
      "  return torch._C._cuda_getDeviceCount() > 0\n",
      "AVERAGE RMNSE ERROR ON TRAIN DATA SET: 1.3130012074013722 ± 0.006188262606687004\n",
      "AVG NUMBER OF ACCURATE 0.5 PREDICTIONS ON TRAIN DATA SET: 1.1746640299977968 ± 0.08889285819703832\n",
      "AVG NUMBER OF ACCURATE 1 PREDICTIONS ON TRAIN DATA SET: 2.52278881053931 ± 0.25442331049409467\n",
      "POWER SPECTRUM MEAN ERROR ON TRAIN DATA SET: 1.0813912200965157 ± 0.4208235367618626\n",
      "TEMPORAL DISTANCE ON TRAIN DATA SET: 0.12216201897862551 ± 0.005404968853264393\n",
      "GEOMETRICAL DISTANCE ON TRAIN DATA SET: 11.684567375105267 ± 0.08005334467569677\n",
      "\n",
      "\n",
      "AVERAGE RMNSE ERROR ON TEST DATA SET: 1.3168879347123397 ± 0.005301410137141304\n",
      "AVG NUMBER OF ACCURATE 0.5 PREDICTIONS ON TEST DATA SET: 0.7780374015615805 ± 0.04034106290755765\n",
      "AVG NUMBER OF ACCURATE 1 PREDICTIONS ON TEST DATA SET: 1.9239603715277678 ± 0.14595319078693375\n",
      "POWER SPECTRUM MEAN ERROR ON TEST DATA SET: 1.697947383431505 ± 0.48405773412422787\n",
      "TEMPORAL DISTANCE ON TEST DATA SET: 0.11953244599522499 ± 0.003603342303015984\n",
      "GEOMETRICAL DISTANCE ON TEST DATA SET: 11.790858346852096 ± 0.10262818639681068\n"
     ]
    }
   ],
   "source": [
    "!bash ./1_Standard_ESN_Evaluate_Tuned_Model.sh \"evaluate_tuned_model\" 3000 0.1 0.1 7 \"grid_search.json\" 100000 60"
   ]
  },
  {
   "cell_type": "code",
   "execution_count": 17,
   "metadata": {},
   "outputs": [
    {
     "name": "stdout",
     "output_type": "stream",
     "text": [
      "{'radius': 0.1, 'sigma_input': 0.1, 'regularization': 0.01, 'in_cluster_weight': 0.5, 'noise_level': 5}\n",
      "/home/user/anaconda3/lib/python3.11/site-packages/torch/cuda/__init__.py:107: UserWarning: CUDA initialization: Unexpected error from cudaGetDeviceCount(). Did you run some cuda functions before calling NumCudaDevices() that might have already set an error? Error 804: forward compatibility was attempted on non supported HW (Triggered internally at ../c10/cuda/CUDAFunctions.cpp:109.)\n",
      "  return torch._C._cuda_getDeviceCount() > 0\n",
      "AVERAGE RMNSE ERROR ON TRAIN DATA SET: 1.3092499101644874 ± 0.010458618184329945\n",
      "AVG NUMBER OF ACCURATE 0.5 PREDICTIONS ON TRAIN DATA SET: 0.9871708795562949 ± 0.07598322453670217\n",
      "AVG NUMBER OF ACCURATE 1 PREDICTIONS ON TRAIN DATA SET: 2.295058176053554 ± 0.2735514972955715\n",
      "POWER SPECTRUM MEAN ERROR ON TRAIN DATA SET: 1.3562098027883678 ± 0.3906549640959282\n",
      "TEMPORAL DISTANCE ON TRAIN DATA SET: 0.1281995235675168 ± 0.007613173346747588\n",
      "GEOMETRICAL DISTANCE ON TRAIN DATA SET: 11.594911270463365 ± 0.1018916062374855\n",
      "\n",
      "\n",
      "AVERAGE RMNSE ERROR ON TEST DATA SET: 1.3148606819450304 ± 0.006000275806347746\n",
      "AVG NUMBER OF ACCURATE 0.5 PREDICTIONS ON TEST DATA SET: 0.6341630363445218 ± 0.03418669403348548\n",
      "AVG NUMBER OF ACCURATE 1 PREDICTIONS ON TEST DATA SET: 1.763179500409762 ± 0.1305691322418882\n",
      "POWER SPECTRUM MEAN ERROR ON TEST DATA SET: 1.8875823637274045 ± 0.43271796481794345\n",
      "TEMPORAL DISTANCE ON TEST DATA SET: 0.12739567545342761 ± 0.00551963109811954\n",
      "GEOMETRICAL DISTANCE ON TEST DATA SET: 11.701687737280544 ± 0.10435554532756428\n"
     ]
    }
   ],
   "source": [
    "!bash ./1_Standard_ESN_Evaluate_Tuned_Model.sh \"evaluate_tuned_model\" 3000 0.1 0.1 7 \"grid_search.json\" 100000 80"
   ]
  },
  {
   "cell_type": "code",
   "execution_count": 18,
   "metadata": {},
   "outputs": [
    {
     "name": "stdout",
     "output_type": "stream",
     "text": [
      "{'radius': 0.1, 'sigma_input': 0.1, 'regularization': 0.01, 'in_cluster_weight': 0.5, 'noise_level': 5}\n",
      "/home/user/anaconda3/lib/python3.11/site-packages/torch/cuda/__init__.py:107: UserWarning: CUDA initialization: Unexpected error from cudaGetDeviceCount(). Did you run some cuda functions before calling NumCudaDevices() that might have already set an error? Error 804: forward compatibility was attempted on non supported HW (Triggered internally at ../c10/cuda/CUDAFunctions.cpp:109.)\n",
      "  return torch._C._cuda_getDeviceCount() > 0\n",
      "AVERAGE RMNSE ERROR ON TRAIN DATA SET: 1.303838529412057 ± 0.00928245411371409\n",
      "AVG NUMBER OF ACCURATE 0.5 PREDICTIONS ON TRAIN DATA SET: 0.8608792804762209 ± 0.06569129416443963\n",
      "AVG NUMBER OF ACCURATE 1 PREDICTIONS ON TRAIN DATA SET: 2.1295434832832827 ± 0.20502399183959924\n",
      "POWER SPECTRUM MEAN ERROR ON TRAIN DATA SET: 1.215497358965929 ± 0.6081345626735077\n",
      "TEMPORAL DISTANCE ON TRAIN DATA SET: 0.14559668949949475 ± 0.012822478656942892\n",
      "GEOMETRICAL DISTANCE ON TRAIN DATA SET: 11.508120510028442 ± 0.1199818271815118\n",
      "\n",
      "\n",
      "AVERAGE RMNSE ERROR ON TEST DATA SET: 1.313440994176609 ± 0.007403544344590173\n",
      "AVG NUMBER OF ACCURATE 0.5 PREDICTIONS ON TEST DATA SET: 0.5570693694362034 ± 0.03225777275395123\n",
      "AVG NUMBER OF ACCURATE 1 PREDICTIONS ON TEST DATA SET: 1.693186565979841 ± 0.17955990740589756\n",
      "POWER SPECTRUM MEAN ERROR ON TEST DATA SET: 1.931941733095644 ± 0.5217474041148303\n",
      "TEMPORAL DISTANCE ON TEST DATA SET: 0.1482894297715051 ± 0.010622490802973844\n",
      "GEOMETRICAL DISTANCE ON TEST DATA SET: 11.693266902737383 ± 0.13341221183863278\n"
     ]
    }
   ],
   "source": [
    "!bash ./1_Standard_ESN_Evaluate_Tuned_Model.sh \"evaluate_tuned_model\" 3000 0.1 0.1 7 \"grid_search.json\" 100000 100"
   ]
  },
  {
   "cell_type": "code",
   "execution_count": 19,
   "metadata": {},
   "outputs": [
    {
     "name": "stdout",
     "output_type": "stream",
     "text": [
      "{'radius': 0.1, 'sigma_input': 0.1, 'regularization': 0.01, 'in_cluster_weight': 0.5, 'noise_level': 5}\n",
      "/home/user/anaconda3/lib/python3.11/site-packages/torch/cuda/__init__.py:107: UserWarning: CUDA initialization: Unexpected error from cudaGetDeviceCount(). Did you run some cuda functions before calling NumCudaDevices() that might have already set an error? Error 804: forward compatibility was attempted on non supported HW (Triggered internally at ../c10/cuda/CUDAFunctions.cpp:109.)\n",
      "  return torch._C._cuda_getDeviceCount() > 0\n",
      "AVERAGE RMNSE ERROR ON TRAIN DATA SET: 1.3041462231583685 ± 0.008587421282451008\n",
      "AVG NUMBER OF ACCURATE 0.5 PREDICTIONS ON TRAIN DATA SET: 0.7869978496890824 ± 0.051642388323611434\n",
      "AVG NUMBER OF ACCURATE 1 PREDICTIONS ON TRAIN DATA SET: 2.096406731717427 ± 0.20309351436795095\n",
      "POWER SPECTRUM MEAN ERROR ON TRAIN DATA SET: 0.9509609986152995 ± 0.297538854869425\n",
      "TEMPORAL DISTANCE ON TRAIN DATA SET: 0.18586558811249962 ± 0.02447659074354726\n",
      "GEOMETRICAL DISTANCE ON TRAIN DATA SET: 11.660744583532686 ± 0.20046989749527558\n",
      "\n",
      "\n",
      "AVERAGE RMNSE ERROR ON TEST DATA SET: 1.3097666166937825 ± 0.01458205849653179\n",
      "AVG NUMBER OF ACCURATE 0.5 PREDICTIONS ON TEST DATA SET: 0.5127743239757223 ± 0.03130261368339314\n",
      "AVG NUMBER OF ACCURATE 1 PREDICTIONS ON TEST DATA SET: 1.689467134681633 ± 0.1729214911809313\n",
      "POWER SPECTRUM MEAN ERROR ON TEST DATA SET: 1.9792193293033797 ± 0.49192765672756045\n",
      "TEMPORAL DISTANCE ON TEST DATA SET: 0.19003195853709717 ± 0.024799710885032068\n",
      "GEOMETRICAL DISTANCE ON TEST DATA SET: 11.846096546302977 ± 0.28465878229362435\n"
     ]
    }
   ],
   "source": [
    "!bash ./1_Standard_ESN_Evaluate_Tuned_Model.sh \"evaluate_tuned_model\" 3000 0.1 0.1 7 \"grid_search.json\" 100000 120"
   ]
  },
  {
   "cell_type": "code",
   "execution_count": 20,
   "metadata": {},
   "outputs": [
    {
     "name": "stdout",
     "output_type": "stream",
     "text": [
      "{'radius': 0.1, 'sigma_input': 0.1, 'regularization': 0.01, 'in_cluster_weight': 0.5, 'noise_level': 5}\n",
      "/home/user/anaconda3/lib/python3.11/site-packages/torch/cuda/__init__.py:107: UserWarning: CUDA initialization: Unexpected error from cudaGetDeviceCount(). Did you run some cuda functions before calling NumCudaDevices() that might have already set an error? Error 804: forward compatibility was attempted on non supported HW (Triggered internally at ../c10/cuda/CUDAFunctions.cpp:109.)\n",
      "  return torch._C._cuda_getDeviceCount() > 0\n",
      "AVERAGE RMNSE ERROR ON TRAIN DATA SET: 1.303943858378833 ± 0.01118581131373672\n",
      "AVG NUMBER OF ACCURATE 0.5 PREDICTIONS ON TRAIN DATA SET: 0.7276560139767584 ± 0.04873767688511803\n",
      "AVG NUMBER OF ACCURATE 1 PREDICTIONS ON TRAIN DATA SET: 2.0649606307416652 ± 0.17093505872221829\n",
      "POWER SPECTRUM MEAN ERROR ON TRAIN DATA SET: 1.4128316997720964 ± 0.7736654838263914\n",
      "TEMPORAL DISTANCE ON TRAIN DATA SET: 0.2577682569921059 ± 0.04043346688102907\n",
      "GEOMETRICAL DISTANCE ON TRAIN DATA SET: 12.382633271102955 ± 0.5876329093971698\n",
      "\n",
      "\n",
      "AVERAGE RMNSE ERROR ON TEST DATA SET: 1.3098038579437166 ± 0.012617499380220602\n",
      "AVG NUMBER OF ACCURATE 0.5 PREDICTIONS ON TEST DATA SET: 0.47963757240986615 ± 0.029680910760222685\n",
      "AVG NUMBER OF ACCURATE 1 PREDICTIONS ON TEST DATA SET: 1.6847333130293678 ± 0.15037906964979836\n",
      "POWER SPECTRUM MEAN ERROR ON TEST DATA SET: 1.8150012209962303 ± 0.5531565590683265\n",
      "TEMPORAL DISTANCE ON TEST DATA SET: 0.26370538885147704 ± 0.04114208425082297\n",
      "GEOMETRICAL DISTANCE ON TEST DATA SET: 12.597220554693525 ± 0.5855561782271972\n"
     ]
    }
   ],
   "source": [
    "!bash ./1_Standard_ESN_Evaluate_Tuned_Model.sh \"evaluate_tuned_model\" 3000 0.1 0.1 7 \"grid_search.json\" 100000 140"
   ]
  },
  {
   "cell_type": "code",
   "execution_count": 21,
   "metadata": {},
   "outputs": [
    {
     "name": "stdout",
     "output_type": "stream",
     "text": [
      "{'radius': 0.1, 'sigma_input': 0.1, 'regularization': 0.01, 'in_cluster_weight': 0.5, 'noise_level': 5}\n",
      "/home/user/anaconda3/lib/python3.11/site-packages/torch/cuda/__init__.py:107: UserWarning: CUDA initialization: Unexpected error from cudaGetDeviceCount(). Did you run some cuda functions before calling NumCudaDevices() that might have already set an error? Error 804: forward compatibility was attempted on non supported HW (Triggered internally at ../c10/cuda/CUDAFunctions.cpp:109.)\n",
      "  return torch._C._cuda_getDeviceCount() > 0\n",
      "AVERAGE RMNSE ERROR ON TRAIN DATA SET: 1.3062130245900294 ± 0.014654240499537464\n",
      "AVG NUMBER OF ACCURATE 0.5 PREDICTIONS ON TRAIN DATA SET: 0.6774436914509459 ± 0.04780118343277235\n",
      "AVG NUMBER OF ACCURATE 1 PREDICTIONS ON TRAIN DATA SET: 2.1826299118122567 ± 0.23630312263280406\n",
      "POWER SPECTRUM MEAN ERROR ON TRAIN DATA SET: 1.8883677294351517 ± 0.9234013656948924\n",
      "TEMPORAL DISTANCE ON TRAIN DATA SET: 0.3410430695689857 ± 0.05076489740983692\n",
      "GEOMETRICAL DISTANCE ON TRAIN DATA SET: 13.60815861387949 ± 1.0627565363726779\n",
      "\n",
      "\n",
      "AVERAGE RMNSE ERROR ON TEST DATA SET: 1.3091504618364636 ± 0.01753071329516954\n",
      "AVG NUMBER OF ACCURATE 0.5 PREDICTIONS ON TEST DATA SET: 0.4486986666111331 ± 0.025731235437427204\n",
      "AVG NUMBER OF ACCURATE 1 PREDICTIONS ON TEST DATA SET: 1.8046004398670816 ± 0.2036503553254709\n",
      "POWER SPECTRUM MEAN ERROR ON TEST DATA SET: 1.9312874881730757 ± 1.0548426566852063\n",
      "TEMPORAL DISTANCE ON TEST DATA SET: 0.3425992581743139 ± 0.05153981284637511\n",
      "GEOMETRICAL DISTANCE ON TEST DATA SET: 13.766614828364942 ± 0.9694378702362756\n"
     ]
    }
   ],
   "source": [
    "!bash ./1_Standard_ESN_Evaluate_Tuned_Model.sh \"evaluate_tuned_model\" 3000 0.1 0.1 7 \"grid_search.json\" 100000 160"
   ]
  },
  {
   "cell_type": "code",
   "execution_count": 22,
   "metadata": {},
   "outputs": [
    {
     "name": "stdout",
     "output_type": "stream",
     "text": [
      "{'radius': 0.1, 'sigma_input': 0.1, 'regularization': 0.01, 'in_cluster_weight': 0.5, 'noise_level': 5}\n",
      "/home/user/anaconda3/lib/python3.11/site-packages/torch/cuda/__init__.py:107: UserWarning: CUDA initialization: Unexpected error from cudaGetDeviceCount(). Did you run some cuda functions before calling NumCudaDevices() that might have already set an error? Error 804: forward compatibility was attempted on non supported HW (Triggered internally at ../c10/cuda/CUDAFunctions.cpp:109.)\n",
      "  return torch._C._cuda_getDeviceCount() > 0\n",
      "AVERAGE RMNSE ERROR ON TRAIN DATA SET: 1.311232003528003 ± 0.015203197978666927\n",
      "AVG NUMBER OF ACCURATE 0.5 PREDICTIONS ON TRAIN DATA SET: 0.6121845786732906 ± 0.03813869414017614\n",
      "AVG NUMBER OF ACCURATE 1 PREDICTIONS ON TRAIN DATA SET: 2.1087484810251182 ± 0.24777469293268425\n",
      "POWER SPECTRUM MEAN ERROR ON TRAIN DATA SET: 2.9496938644811386 ± 2.370942107008344\n",
      "TEMPORAL DISTANCE ON TRAIN DATA SET: 0.4328394980506693 ± 0.06497939306729296\n",
      "GEOMETRICAL DISTANCE ON TRAIN DATA SET: 15.4260690624082 ± 1.5900621828091277\n",
      "\n",
      "\n",
      "AVERAGE RMNSE ERROR ON TEST DATA SET: 1.30946931116902 ± 0.011529551632558623\n",
      "AVG NUMBER OF ACCURATE 0.5 PREDICTIONS ON TEST DATA SET: 0.42300077764169364 ± 0.025096909365570613\n",
      "AVG NUMBER OF ACCURATE 1 PREDICTIONS ON TEST DATA SET: 1.7736615340683488 ± 0.20236098854725626\n",
      "POWER SPECTRUM MEAN ERROR ON TEST DATA SET: 2.808376140539143 ± 2.936721576122766\n",
      "TEMPORAL DISTANCE ON TEST DATA SET: 0.43189922813333015 ± 0.07092322094589956\n",
      "GEOMETRICAL DISTANCE ON TEST DATA SET: 15.537563494754755 ± 1.5569299983531915\n"
     ]
    }
   ],
   "source": [
    "!bash ./1_Standard_ESN_Evaluate_Tuned_Model.sh \"evaluate_tuned_model\" 3000 0.1 0.1 7 \"grid_search.json\" 100000 180"
   ]
  },
  {
   "cell_type": "code",
   "execution_count": 23,
   "metadata": {},
   "outputs": [
    {
     "name": "stdout",
     "output_type": "stream",
     "text": [
      "{'radius': 0.1, 'sigma_input': 0.1, 'regularization': 0.01, 'in_cluster_weight': 0.5, 'noise_level': 5}\n",
      "/home/user/anaconda3/lib/python3.11/site-packages/torch/cuda/__init__.py:107: UserWarning: CUDA initialization: Unexpected error from cudaGetDeviceCount(). Did you run some cuda functions before calling NumCudaDevices() that might have already set an error? Error 804: forward compatibility was attempted on non supported HW (Triggered internally at ../c10/cuda/CUDAFunctions.cpp:109.)\n",
      "  return torch._C._cuda_getDeviceCount() > 0\n",
      "AVERAGE RMNSE ERROR ON TRAIN DATA SET: 1.3096873744225601 ± 0.013072978890791091\n",
      "AVG NUMBER OF ACCURATE 0.5 PREDICTIONS ON TRAIN DATA SET: 0.5606197356754022 ± 0.030159993480050915\n",
      "AVG NUMBER OF ACCURATE 1 PREDICTIONS ON TRAIN DATA SET: 2.0908275847701145 ± 0.2895873245175458\n",
      "POWER SPECTRUM MEAN ERROR ON TRAIN DATA SET: 5.78636247532228 ± 3.5001430719512023\n",
      "TEMPORAL DISTANCE ON TRAIN DATA SET: 0.5233414704642497 ± 0.06874180330685359\n",
      "GEOMETRICAL DISTANCE ON TRAIN DATA SET: 17.198018535721292 ± 1.2350222767966788\n",
      "\n",
      "\n",
      "AVERAGE RMNSE ERROR ON TEST DATA SET: 1.3034891555308337 ± 0.009918540194505021\n",
      "AVG NUMBER OF ACCURATE 0.5 PREDICTIONS ON TEST DATA SET: 0.3925690670199891 ± 0.01942115318850158\n",
      "AVG NUMBER OF ACCURATE 1 PREDICTIONS ON TEST DATA SET: 1.769096777475093 ± 0.33750755453645864\n",
      "POWER SPECTRUM MEAN ERROR ON TEST DATA SET: 5.064352589315369 ± 3.1646926752970583\n",
      "TEMPORAL DISTANCE ON TEST DATA SET: 0.5293089100151145 ± 0.06019819228613495\n",
      "GEOMETRICAL DISTANCE ON TEST DATA SET: 17.32526162887525 ± 1.0868871008950576\n"
     ]
    }
   ],
   "source": [
    "!bash ./1_Standard_ESN_Evaluate_Tuned_Model.sh \"evaluate_tuned_model\" 3000 0.1 0.1 7 \"grid_search.json\" 100000 200"
   ]
  },
  {
   "cell_type": "code",
   "execution_count": null,
   "metadata": {},
   "outputs": [],
   "source": []
  },
  {
   "cell_type": "code",
   "execution_count": null,
   "metadata": {},
   "outputs": [],
   "source": []
  },
  {
   "cell_type": "code",
   "execution_count": null,
   "metadata": {},
   "outputs": [],
   "source": []
  },
  {
   "cell_type": "code",
   "execution_count": null,
   "metadata": {},
   "outputs": [],
   "source": []
  },
  {
   "cell_type": "code",
   "execution_count": null,
   "metadata": {},
   "outputs": [],
   "source": []
  },
  {
   "cell_type": "code",
   "execution_count": null,
   "metadata": {
    "editable": true,
    "slideshow": {
     "slide_type": ""
    },
    "tags": []
   },
   "outputs": [],
   "source": []
  },
  {
   "cell_type": "code",
   "execution_count": null,
   "metadata": {},
   "outputs": [],
   "source": []
  }
 ],
 "metadata": {
  "kernelspec": {
   "display_name": "base",
   "language": "python",
   "name": "python3"
  },
  "language_info": {
   "codemirror_mode": {
    "name": "ipython",
    "version": 3
   },
   "file_extension": ".py",
   "mimetype": "text/x-python",
   "name": "python",
   "nbconvert_exporter": "python",
   "pygments_lexer": "ipython3",
   "version": "3.11.8"
  }
 },
 "nbformat": 4,
 "nbformat_minor": 4
}
