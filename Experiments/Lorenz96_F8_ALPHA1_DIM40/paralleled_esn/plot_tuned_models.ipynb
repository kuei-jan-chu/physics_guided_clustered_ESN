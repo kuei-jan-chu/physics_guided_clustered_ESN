{
 "cells": [
  {
   "cell_type": "code",
   "execution_count": 2,
   "metadata": {},
   "outputs": [
    {
     "name": "stdout",
     "output_type": "stream",
     "text": [
      "{'radius': 0.1, 'sigma_input': 0.1}\n"
     ]
    }
   ],
   "source": [
    "!bash ./2_Paralleled_ESN_Plot_Tuned_Model.sh \"plot_tuned_model\" 500 1 1 2 \"grid_search.json\" "
   ]
  },
  {
   "cell_type": "code",
   "execution_count": 3,
   "metadata": {},
   "outputs": [
    {
     "name": "stdout",
     "output_type": "stream",
     "text": [
      "{'radius': 0.9, 'sigma_input': 0.1}\n"
     ]
    }
   ],
   "source": [
    "!bash ./2_Paralleled_ESN_Plot_Tuned_Model.sh \"plot_tuned_model\" 3000 1 1 7 \"grid_search.json\" 100000 200"
   ]
  },
  {
   "cell_type": "code",
   "execution_count": 7,
   "metadata": {},
   "outputs": [
    {
     "name": "stdout",
     "output_type": "stream",
     "text": [
      "{'radius': 0.9, 'sigma_input': 0.1}\n"
     ]
    }
   ],
   "source": [
    "!bash ./2_Paralleled_ESN_Plot_Tuned_Model.sh \"plot_tuned_model\" 3000 1 1 7 \"grid_search.json\" 100000 140"
   ]
  },
  {
   "cell_type": "code",
   "execution_count": 5,
   "metadata": {},
   "outputs": [
    {
     "name": "stdout",
     "output_type": "stream",
     "text": [
      "{'radius': 0.9, 'sigma_input': 0.1}\n",
      "^C\n",
      "Traceback (most recent call last):\n",
      "  File \"/home/user/anaconda3/lib/python3.11/subprocess.py\", line 1209, in communicate\n",
      "    stdout, stderr = self._communicate(input, endtime, timeout)\n",
      "                     ^^^^^^^^^^^^^^^^^^^^^^^^^^^^^^^^^^^^^^^^^^\n",
      "  File \"/home/user/anaconda3/lib/python3.11/subprocess.py\", line 2113, in _communicate\n",
      "    ready = selector.select(timeout)\n",
      "            ^^^^^^^^^^^^^^^^^^^^^^^^\n",
      "  File \"/home/user/anaconda3/lib/python3.11/selectors.py\", line 415, in select\n",
      "    fd_event_list = self._selector.poll(timeout)\n",
      "                    ^^^^^^^^^^^^^^^^^^^^^^^^^^^^\n",
      "KeyboardInterrupt\n",
      "\n",
      "During handling of the above exception, another exception occurred:\n",
      "\n",
      "Traceback (most recent call last):\n",
      "  File \"/home/user/kuei_jan_CHU/PGClustered_ESN/Methods/RUN.py\", line 93, in <module>\n",
      "    main()\n",
      "  File \"/home/user/kuei_jan_CHU/PGClustered_ESN/Methods/RUN.py\", line 90, in main\n",
      "    runModel(args_dict)\n",
      "  File \"/home/user/kuei_jan_CHU/PGClustered_ESN/Methods/RUN.py\", line 28, in runModel\n",
      "    plotTunedModelResult(params_dict)\n",
      "  File \"/home/user/kuei_jan_CHU/PGClustered_ESN/Methods/./Utils/global_utils.py\", line 813, in plotTunedModelResult\n",
      "    plotParalleledModelResult(params_dict)\n",
      "  File \"/home/user/kuei_jan_CHU/PGClustered_ESN/Methods/./Utils/global_utils.py\", line 799, in plotParalleledModelResult\n",
      "    subprocess.run(plot_command, capture_output=True, text=True, check=True)\n",
      "  File \"/home/user/anaconda3/lib/python3.11/subprocess.py\", line 550, in run\n",
      "    stdout, stderr = process.communicate(input, timeout=timeout)\n",
      "                     ^^^^^^^^^^^^^^^^^^^^^^^^^^^^^^^^^^^^^^^^^^^\n",
      "  File \"/home/user/anaconda3/lib/python3.11/subprocess.py\", line 1220, in communicate\n",
      "    self._wait(timeout=sigint_timeout)\n",
      "  File \"/home/user/anaconda3/lib/python3.11/subprocess.py\", line 2045, in _wait\n",
      "    time.sleep(delay)\n",
      "KeyboardInterrupt\n"
     ]
    }
   ],
   "source": [
    "!bash ./2_Paralleled_ESN_Plot_Tuned_Model.sh \"plot_tuned_model\" 3000 1 1 7 \"grid_search.json\" 70000"
   ]
  },
  {
   "cell_type": "code",
   "execution_count": null,
   "metadata": {},
   "outputs": [],
   "source": []
  },
  {
   "cell_type": "code",
   "execution_count": null,
   "metadata": {},
   "outputs": [],
   "source": []
  },
  {
   "cell_type": "code",
   "execution_count": null,
   "metadata": {},
   "outputs": [],
   "source": []
  }
 ],
 "metadata": {
  "kernelspec": {
   "display_name": "base",
   "language": "python",
   "name": "python3"
  },
  "language_info": {
   "codemirror_mode": {
    "name": "ipython",
    "version": 3
   },
   "file_extension": ".py",
   "mimetype": "text/x-python",
   "name": "python",
   "nbconvert_exporter": "python",
   "pygments_lexer": "ipython3",
   "version": "3.11.8"
  }
 },
 "nbformat": 4,
 "nbformat_minor": 2
}
