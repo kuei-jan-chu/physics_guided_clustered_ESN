{
 "cells": [
  {
   "cell_type": "markdown",
   "metadata": {},
   "source": [
    "## Parallel ESN"
   ]
  },
  {
   "cell_type": "code",
   "execution_count": 12,
   "metadata": {},
   "outputs": [
    {
     "name": "stdout",
     "output_type": "stream",
     "text": [
      "Grid Search Progress:   0%|                                               | 0/25 [00:00<?, ?trial/s][tuf-4090:78754] shmem: mmap: an error occurred while determining whether or not /tmp/ompi.tuf-4090.1000/jf.0/1547042816/shared_mem_cuda_pool.tuf-4090 could be created.\n",
      "[tuf-4090:78754] create_and_attach: unable to create shared memory BTL coordinating structure :: size 134217728 \n",
      "Grid Search Progress: 100%|███████████████| 25/25 [34:58<00:00, 83.94s/trial, Current Best Loss=inf]\n",
      "/home/user/kuei_jan_CHU/PGClustered_ESN/Methods/./Utils/hyper_tuning_utils.py:382: UserWarning: All hyperparameter trials failed or returned infinite loss. Randomly selecting a hyperparameter set.\n",
      "  warnings.warn(\"All hyperparameter trials failed or returned infinite loss. Randomly selecting a hyperparameter set.\")\n",
      "{'radius': 0.7, 'sigma_input': 1.0}\n"
     ]
    }
   ],
   "source": [
    "!bash ./0_Paralleled_ESN_Tune.sh \"tune\" 40 1 1 0 \"grid_search.json\" "
   ]
  },
  {
   "cell_type": "code",
   "execution_count": 1,
   "metadata": {},
   "outputs": [
    {
     "name": "stdout",
     "output_type": "stream",
     "text": [
      "{'radius': 0.7, 'sigma_input': 1.0}\n",
      "[tuf-4090:123819] shmem: mmap: an error occurred while determining whether or not /tmp/ompi.tuf-4090.1000/jf.0/940441600/shared_mem_cuda_pool.tuf-4090 could be created.\n",
      "[tuf-4090:123819] create_and_attach: unable to create shared memory BTL coordinating structure :: size 134217728 \n",
      "/home/user/anaconda3/lib/python3.11/site-packages/torch/cuda/__init__.py:107: UserWarning: CUDA initialization: Unexpected error from cudaGetDeviceCount(). Did you run some cuda functions before calling NumCudaDevices() that might have already set an error? Error 804: forward compatibility was attempted on non supported HW (Triggered internally at ../c10/cuda/CUDAFunctions.cpp:109.)\n",
      "  return torch._C._cuda_getDeviceCount() > 0\n",
      "/home/user/anaconda3/lib/python3.11/site-packages/numpy/core/_methods.py:236: RuntimeWarning: invalid value encountered in subtract\n",
      "  x = asanyarray(arr - arrmean)\n",
      "AVERAGE RMNSE ERROR ON TRAIN DATA SET: 0.9988557424371709 ± 0.0008865179817382914\n",
      "AVG NUMBER OF ACCURATE 0.5 PREDICTIONS ON TRAIN DATA SET: 0.0 ± 0.0\n",
      "AVG NUMBER OF ACCURATE 1 PREDICTIONS ON TRAIN DATA SET: 0.5575765646132318 ± 0.08119981998117738\n",
      "POWER SPECTRUM MEAN ERROR ON TRAIN DATA SET: inf ± nan\n",
      "TEMPORAL DISTANCE ON TRAIN DATA SET: nan ± nan\n",
      "GEOMETRICAL DISTANCE ON TRAIN DATA SET: 14.023030828716212 ± 0.05537673056644543\n",
      "\n",
      "\n",
      "AVERAGE RMNSE ERROR ON TEST DATA SET: 1.0002093548673345 ± 0.0007457064201316598\n",
      "AVG NUMBER OF ACCURATE 0.5 PREDICTIONS ON TEST DATA SET: 0.0 ± 0.0\n",
      "AVG NUMBER OF ACCURATE 1 PREDICTIONS ON TEST DATA SET: 0.2615436462876499 ± 0.016004131055072722\n",
      "POWER SPECTRUM MEAN ERROR ON TEST DATA SET: inf ± nan\n",
      "TEMPORAL DISTANCE ON TEST DATA SET: nan ± nan\n",
      "GEOMETRICAL DISTANCE ON TEST DATA SET: 14.149494491307365 ± 0.07021798199860188\n"
     ]
    }
   ],
   "source": [
    "!bash ./1_Paralleled_ESN_Evaluate_Tuned_Model.sh \"evaluate_tuned_model\" 40 1 1 0 \"grid_search.json\" "
   ]
  },
  {
   "cell_type": "code",
   "execution_count": 1,
   "metadata": {},
   "outputs": [
    {
     "name": "stdout",
     "output_type": "stream",
     "text": [
      "Grid Search Progress:   0%|                                               | 0/25 [00:00<?, ?trial/s][tuf-4090:115481] shmem: mmap: an error occurred while determining whether or not /tmp/ompi.tuf-4090.1000/jf.0/4267704320/shared_mem_cuda_pool.tuf-4090 could be created.\n",
      "[tuf-4090:115481] create_and_attach: unable to create shared memory BTL coordinating structure :: size 134217728 \n",
      "Grid Search Progress: 100%|███████████| 25/25 [36:48<00:00, 88.34s/trial, Current Best Loss=0.55988]\n",
      "{'radius': 0.99, 'sigma_input': 0.1}\n"
     ]
    }
   ],
   "source": [
    "!bash ./0_Paralleled_ESN_Tune.sh \"tune\" 250 1 1 1 \"grid_search.json\" "
   ]
  },
  {
   "cell_type": "code",
   "execution_count": 1,
   "metadata": {},
   "outputs": [
    {
     "name": "stdout",
     "output_type": "stream",
     "text": [
      "{'radius': 0.99, 'sigma_input': 0.1}\n",
      "[tuf-4090:124716] shmem: mmap: an error occurred while determining whether or not /tmp/ompi.tuf-4090.1000/jf.0/2564882432/shared_mem_cuda_pool.tuf-4090 could be created.\n",
      "[tuf-4090:124716] create_and_attach: unable to create shared memory BTL coordinating structure :: size 134217728 \n",
      "/home/user/anaconda3/lib/python3.11/site-packages/torch/cuda/__init__.py:107: UserWarning: CUDA initialization: Unexpected error from cudaGetDeviceCount(). Did you run some cuda functions before calling NumCudaDevices() that might have already set an error? Error 804: forward compatibility was attempted on non supported HW (Triggered internally at ../c10/cuda/CUDAFunctions.cpp:109.)\n",
      "  return torch._C._cuda_getDeviceCount() > 0\n",
      "/home/user/anaconda3/lib/python3.11/site-packages/numpy/core/_methods.py:236: RuntimeWarning: invalid value encountered in subtract\n",
      "  x = asanyarray(arr - arrmean)\n",
      "AVERAGE RMNSE ERROR ON TRAIN DATA SET: 2.0686594770200926 ± 0.21179636014126954\n",
      "AVG NUMBER OF ACCURATE 0.5 PREDICTIONS ON TRAIN DATA SET: 0.0008453252950473497 ± 0.0008453252950473497\n",
      "AVG NUMBER OF ACCURATE 1 PREDICTIONS ON TRAIN DATA SET: 0.07303610549209101 ± 0.008810868980248764\n",
      "POWER SPECTRUM MEAN ERROR ON TRAIN DATA SET: inf ± nan\n",
      "TEMPORAL DISTANCE ON TRAIN DATA SET: 0.6241886191963977 ± 0.12924076622711184\n",
      "GEOMETRICAL DISTANCE ON TRAIN DATA SET: inf ± nan\n",
      "\n",
      "\n",
      "AVERAGE RMNSE ERROR ON TEST DATA SET: 1.9947324744745818 ± 0.16445934833878817\n",
      "AVG NUMBER OF ACCURATE 0.5 PREDICTIONS ON TEST DATA SET: 0.00016906505900946993 ± 0.0005071951770284098\n",
      "AVG NUMBER OF ACCURATE 1 PREDICTIONS ON TEST DATA SET: 0.06509004771864593 ± 0.009951888003104674\n",
      "POWER SPECTRUM MEAN ERROR ON TEST DATA SET: inf ± nan\n",
      "TEMPORAL DISTANCE ON TEST DATA SET: 0.5978897546842752 ± 0.14137791199695127\n",
      "GEOMETRICAL DISTANCE ON TEST DATA SET: inf ± nan\n"
     ]
    }
   ],
   "source": [
    "!bash ./1_Paralleled_ESN_Evaluate_Tuned_Model.sh \"evaluate_tuned_model\" 250 1 1 1 \"grid_search.json\" "
   ]
  },
  {
   "cell_type": "code",
   "execution_count": 3,
   "metadata": {},
   "outputs": [
    {
     "name": "stdout",
     "output_type": "stream",
     "text": [
      "Grid Search Progress:   0%|                                               | 0/25 [00:00<?, ?trial/s][tuf-4090:132477] shmem: mmap: an error occurred while determining whether or not /tmp/ompi.tuf-4090.1000/jf.0/2749038592/shared_mem_cuda_pool.tuf-4090 could be created.\n",
      "[tuf-4090:132477] create_and_attach: unable to create shared memory BTL coordinating structure :: size 134217728 \n",
      "Grid Search Progress: 100%|███████████| 25/25 [39:42<00:00, 95.29s/trial, Current Best Loss=0.48549]\n",
      "{'radius': 0.1, 'sigma_input': 0.1}\n"
     ]
    }
   ],
   "source": [
    "!bash ./0_Paralleled_ESN_Tune.sh \"tune\" 500 1 1 2 \"grid_search.json\" "
   ]
  },
  {
   "cell_type": "code",
   "execution_count": 2,
   "metadata": {},
   "outputs": [
    {
     "name": "stdout",
     "output_type": "stream",
     "text": [
      "{'radius': 0.1, 'sigma_input': 0.1}\n",
      "[tuf-4090:124719] shmem: mmap: an error occurred while determining whether or not /tmp/ompi.tuf-4090.1000/jf.0/1837039616/shared_mem_cuda_pool.tuf-4090 could be created.\n",
      "[tuf-4090:124719] create_and_attach: unable to create shared memory BTL coordinating structure :: size 134217728 \n",
      "/home/user/anaconda3/lib/python3.11/site-packages/torch/cuda/__init__.py:107: UserWarning: CUDA initialization: Unexpected error from cudaGetDeviceCount(). Did you run some cuda functions before calling NumCudaDevices() that might have already set an error? Error 804: forward compatibility was attempted on non supported HW (Triggered internally at ../c10/cuda/CUDAFunctions.cpp:109.)\n",
      "  return torch._C._cuda_getDeviceCount() > 0\n",
      "/home/user/anaconda3/lib/python3.11/site-packages/numpy/core/_methods.py:236: RuntimeWarning: invalid value encountered in subtract\n",
      "  x = asanyarray(arr - arrmean)\n",
      "AVERAGE RMNSE ERROR ON TRAIN DATA SET: 4.605088177892545 ± 0.6093213394102244\n",
      "AVG NUMBER OF ACCURATE 0.5 PREDICTIONS ON TRAIN DATA SET: 0.25190693792411023 ± 0.016804760708722114\n",
      "AVG NUMBER OF ACCURATE 1 PREDICTIONS ON TRAIN DATA SET: 0.5628175814425254 ± 0.05137714403635753\n",
      "POWER SPECTRUM MEAN ERROR ON TRAIN DATA SET: 7.372416857476862 ± 6.321200864489001\n",
      "TEMPORAL DISTANCE ON TRAIN DATA SET: 0.40136614860276787 ± 0.08132513989892484\n",
      "GEOMETRICAL DISTANCE ON TRAIN DATA SET: inf ± nan\n",
      "\n",
      "\n",
      "AVERAGE RMNSE ERROR ON TEST DATA SET: 4.520577913335462 ± 0.613064852109749\n",
      "AVG NUMBER OF ACCURATE 0.5 PREDICTIONS ON TEST DATA SET: 0.23855079826236208 ± 0.01904441159823699\n",
      "AVG NUMBER OF ACCURATE 1 PREDICTIONS ON TEST DATA SET: 0.533231196115868 ± 0.04382145457246247\n",
      "POWER SPECTRUM MEAN ERROR ON TEST DATA SET: 8.008206177742187 ± 5.25759997564202\n",
      "TEMPORAL DISTANCE ON TEST DATA SET: 0.38218627847907005 ± 0.047646499690607004\n",
      "GEOMETRICAL DISTANCE ON TEST DATA SET: inf ± nan\n"
     ]
    }
   ],
   "source": [
    "!bash ./1_Paralleled_ESN_Evaluate_Tuned_Model.sh \"evaluate_tuned_model\" 500 1 1 2 \"grid_search.json\" "
   ]
  },
  {
   "cell_type": "code",
   "execution_count": 5,
   "metadata": {},
   "outputs": [
    {
     "name": "stdout",
     "output_type": "stream",
     "text": [
      "Grid Search Progress:   0%|                                               | 0/25 [00:00<?, ?trial/s][tuf-4090:150142] shmem: mmap: an error occurred while determining whether or not /tmp/ompi.tuf-4090.1000/jf.0/2698575872/shared_mem_cuda_pool.tuf-4090 could be created.\n",
      "[tuf-4090:150142] create_and_attach: unable to create shared memory BTL coordinating structure :: size 134217728 \n",
      "Grid Search Progress: 100%|██████████| 25/25 [41:47<00:00, 100.30s/trial, Current Best Loss=0.26069]\n",
      "{'radius': 0.1, 'sigma_input': 0.1}\n"
     ]
    }
   ],
   "source": [
    "!bash ./0_Paralleled_ESN_Tune.sh \"tune\" 1000 1 1 3 \"grid_search.json\" "
   ]
  },
  {
   "cell_type": "code",
   "execution_count": 3,
   "metadata": {},
   "outputs": [
    {
     "name": "stdout",
     "output_type": "stream",
     "text": [
      "{'radius': 0.1, 'sigma_input': 0.1}\n",
      "[tuf-4090:124723] shmem: mmap: an error occurred while determining whether or not /tmp/ompi.tuf-4090.1000/jf.0/4174381056/shared_mem_cuda_pool.tuf-4090 could be created.\n",
      "[tuf-4090:124723] create_and_attach: unable to create shared memory BTL coordinating structure :: size 134217728 \n",
      "/home/user/anaconda3/lib/python3.11/site-packages/torch/cuda/__init__.py:107: UserWarning: CUDA initialization: Unexpected error from cudaGetDeviceCount(). Did you run some cuda functions before calling NumCudaDevices() that might have already set an error? Error 804: forward compatibility was attempted on non supported HW (Triggered internally at ../c10/cuda/CUDAFunctions.cpp:109.)\n",
      "  return torch._C._cuda_getDeviceCount() > 0\n",
      "/home/user/anaconda3/lib/python3.11/site-packages/numpy/core/_methods.py:236: RuntimeWarning: invalid value encountered in subtract\n",
      "  x = asanyarray(arr - arrmean)\n",
      "AVERAGE RMNSE ERROR ON TRAIN DATA SET: 2.040445130355374 ± 0.26870478466593495\n",
      "AVG NUMBER OF ACCURATE 0.5 PREDICTIONS ON TRAIN DATA SET: 0.6006881546606466 ± 0.032529540843041875\n",
      "AVG NUMBER OF ACCURATE 1 PREDICTIONS ON TRAIN DATA SET: 1.204926675560492 ± 0.08156596292471813\n",
      "POWER SPECTRUM MEAN ERROR ON TRAIN DATA SET: 1.1835654456174194 ± 0.3604541554107579\n",
      "TEMPORAL DISTANCE ON TRAIN DATA SET: 0.2598824200674973 ± 0.033026345025307935\n",
      "GEOMETRICAL DISTANCE ON TRAIN DATA SET: inf ± nan\n",
      "\n",
      "\n",
      "AVERAGE RMNSE ERROR ON TEST DATA SET: 1.9726285084752946 ± 0.20185529163774305\n",
      "AVG NUMBER OF ACCURATE 0.5 PREDICTIONS ON TEST DATA SET: 0.5773571765173398 ± 0.04588644970046389\n",
      "AVG NUMBER OF ACCURATE 1 PREDICTIONS ON TEST DATA SET: 1.2390778174804051 ± 0.12318904381423412\n",
      "POWER SPECTRUM MEAN ERROR ON TEST DATA SET: 1.3229341948643616 ± 1.2371398680974375\n",
      "TEMPORAL DISTANCE ON TEST DATA SET: 0.250720528923779 ± 0.028742981263831124\n",
      "GEOMETRICAL DISTANCE ON TEST DATA SET: inf ± nan\n"
     ]
    }
   ],
   "source": [
    "!bash ./1_Paralleled_ESN_Evaluate_Tuned_Model.sh \"evaluate_tuned_model\" 1000 1 1 3 \"grid_search.json\" "
   ]
  },
  {
   "cell_type": "code",
   "execution_count": 7,
   "metadata": {},
   "outputs": [
    {
     "name": "stdout",
     "output_type": "stream",
     "text": [
      "Grid Search Progress:   0%|                                               | 0/25 [00:00<?, ?trial/s][tuf-4090:165887] shmem: mmap: an error occurred while determining whether or not /tmp/ompi.tuf-4090.1000/jf.0/2437152768/shared_mem_cuda_pool.tuf-4090 could be created.\n",
      "[tuf-4090:165887] create_and_attach: unable to create shared memory BTL coordinating structure :: size 134217728 \n",
      "Grid Search Progress: 100%|██████████| 25/25 [44:23<00:00, 106.55s/trial, Current Best Loss=0.17602]\n",
      "{'radius': 0.7, 'sigma_input': 0.1}\n"
     ]
    }
   ],
   "source": [
    "!bash ./0_Paralleled_ESN_Tune.sh \"tune\" 1500 1 1 4 \"grid_search.json\" "
   ]
  },
  {
   "cell_type": "code",
   "execution_count": 4,
   "metadata": {},
   "outputs": [
    {
     "name": "stdout",
     "output_type": "stream",
     "text": [
      "{'radius': 0.7, 'sigma_input': 0.1}\n",
      "[tuf-4090:124730] shmem: mmap: an error occurred while determining whether or not /tmp/ompi.tuf-4090.1000/jf.0/2513502208/shared_mem_cuda_pool.tuf-4090 could be created.\n",
      "[tuf-4090:124730] create_and_attach: unable to create shared memory BTL coordinating structure :: size 134217728 \n",
      "/home/user/anaconda3/lib/python3.11/site-packages/torch/cuda/__init__.py:107: UserWarning: CUDA initialization: Unexpected error from cudaGetDeviceCount(). Did you run some cuda functions before calling NumCudaDevices() that might have already set an error? Error 804: forward compatibility was attempted on non supported HW (Triggered internally at ../c10/cuda/CUDAFunctions.cpp:109.)\n",
      "  return torch._C._cuda_getDeviceCount() > 0\n",
      "AVERAGE RMNSE ERROR ON TRAIN DATA SET: 1.3141738589456808 ± 0.006704738724080599\n",
      "AVG NUMBER OF ACCURATE 0.5 PREDICTIONS ON TRAIN DATA SET: 0.8811670875573572 ± 0.025793366831110474\n",
      "AVG NUMBER OF ACCURATE 1 PREDICTIONS ON TRAIN DATA SET: 1.6243770869629865 ± 0.07621740880359758\n",
      "POWER SPECTRUM MEAN ERROR ON TRAIN DATA SET: 1.702124400151933 ± 0.5208249952087308\n",
      "TEMPORAL DISTANCE ON TRAIN DATA SET: 0.17563772988338383 ± 0.0042585059050797595\n",
      "GEOMETRICAL DISTANCE ON TRAIN DATA SET: 12.269749309522327 ± 0.0656953894391968\n",
      "\n",
      "\n",
      "AVERAGE RMNSE ERROR ON TEST DATA SET: 1.3123227765870638 ± 0.004380446716651904\n",
      "AVG NUMBER OF ACCURATE 0.5 PREDICTIONS ON TEST DATA SET: 0.842620254103198 ± 0.039448352754205745\n",
      "AVG NUMBER OF ACCURATE 1 PREDICTIONS ON TEST DATA SET: 1.7286902283718297 ± 0.1116476004038707\n",
      "POWER SPECTRUM MEAN ERROR ON TEST DATA SET: 2.038589397787388 ± 0.5647993133422561\n",
      "TEMPORAL DISTANCE ON TEST DATA SET: 0.17356428040494956 ± 0.003907096685215208\n",
      "GEOMETRICAL DISTANCE ON TEST DATA SET: 12.321134288908517 ± 0.10664158018649418\n"
     ]
    }
   ],
   "source": [
    "!bash ./1_Paralleled_ESN_Evaluate_Tuned_Model.sh \"evaluate_tuned_model\" 1500 1 1 4 \"grid_search.json\" "
   ]
  },
  {
   "cell_type": "code",
   "execution_count": 9,
   "metadata": {},
   "outputs": [
    {
     "name": "stdout",
     "output_type": "stream",
     "text": [
      "Grid Search Progress:   0%|                                               | 0/25 [00:00<?, ?trial/s][tuf-4090:182553] shmem: mmap: an error occurred while determining whether or not /tmp/ompi.tuf-4090.1000/jf.0/30867456/shared_mem_cuda_pool.tuf-4090 could be created.\n",
      "[tuf-4090:182553] create_and_attach: unable to create shared memory BTL coordinating structure :: size 134217728 \n",
      "Grid Search Progress: 100%|██████████| 25/25 [47:23<00:00, 113.75s/trial, Current Best Loss=0.15379]\n",
      "{'radius': 0.9, 'sigma_input': 0.1}\n"
     ]
    }
   ],
   "source": [
    "!bash ./0_Paralleled_ESN_Tune.sh \"tune\" 2000 1 1 5 \"grid_search.json\" "
   ]
  },
  {
   "cell_type": "code",
   "execution_count": 5,
   "metadata": {},
   "outputs": [
    {
     "name": "stdout",
     "output_type": "stream",
     "text": [
      "{'radius': 0.9, 'sigma_input': 0.1}\n",
      "[tuf-4090:124733] shmem: mmap: an error occurred while determining whether or not /tmp/ompi.tuf-4090.1000/jf.0/1136001024/shared_mem_cuda_pool.tuf-4090 could be created.\n",
      "[tuf-4090:124733] create_and_attach: unable to create shared memory BTL coordinating structure :: size 134217728 \n",
      "/home/user/anaconda3/lib/python3.11/site-packages/torch/cuda/__init__.py:107: UserWarning: CUDA initialization: Unexpected error from cudaGetDeviceCount(). Did you run some cuda functions before calling NumCudaDevices() that might have already set an error? Error 804: forward compatibility was attempted on non supported HW (Triggered internally at ../c10/cuda/CUDAFunctions.cpp:109.)\n",
      "  return torch._C._cuda_getDeviceCount() > 0\n",
      "AVERAGE RMNSE ERROR ON TRAIN DATA SET: 1.3595326207737266 ± 0.005695801447456632\n",
      "AVG NUMBER OF ACCURATE 0.5 PREDICTIONS ON TRAIN DATA SET: 0.9278290438439709 ± 0.05692649249612012\n",
      "AVG NUMBER OF ACCURATE 1 PREDICTIONS ON TRAIN DATA SET: 1.7924277556183998 ± 0.13389867286884324\n",
      "POWER SPECTRUM MEAN ERROR ON TRAIN DATA SET: 0.6419653297164835 ± 0.4055468143094449\n",
      "TEMPORAL DISTANCE ON TRAIN DATA SET: 0.1417796343815907 ± 0.0032379081416339544\n",
      "GEOMETRICAL DISTANCE ON TRAIN DATA SET: 12.756292338417484 ± 0.08258930624310165\n",
      "\n",
      "\n",
      "AVERAGE RMNSE ERROR ON TEST DATA SET: 1.3604954917656957 ± 0.0030278248578206692\n",
      "AVG NUMBER OF ACCURATE 0.5 PREDICTIONS ON TEST DATA SET: 0.8720375743708457 ± 0.03722350367397854\n",
      "AVG NUMBER OF ACCURATE 1 PREDICTIONS ON TEST DATA SET: 1.7253089271916404 ± 0.09440205951010247\n",
      "POWER SPECTRUM MEAN ERROR ON TEST DATA SET: 1.2610626310463335 ± 0.6403107238995204\n",
      "TEMPORAL DISTANCE ON TEST DATA SET: 0.13960849881688592 ± 0.006044794025701038\n",
      "GEOMETRICAL DISTANCE ON TEST DATA SET: 12.841774281921255 ± 0.09839441131603698\n"
     ]
    }
   ],
   "source": [
    "!bash ./1_Paralleled_ESN_Evaluate_Tuned_Model.sh \"evaluate_tuned_model\" 2000 1 1 5 \"grid_search.json\" "
   ]
  },
  {
   "cell_type": "code",
   "execution_count": 11,
   "metadata": {},
   "outputs": [
    {
     "name": "stdout",
     "output_type": "stream",
     "text": [
      "Grid Search Progress:   0%|                                               | 0/25 [00:00<?, ?trial/s][tuf-4090:199457] shmem: mmap: an error occurred while determining whether or not /tmp/ompi.tuf-4090.1000/jf.0/26214400/shared_mem_cuda_pool.tuf-4090 could be created.\n",
      "[tuf-4090:199457] create_and_attach: unable to create shared memory BTL coordinating structure :: size 134217728 \n",
      "Grid Search Progress: 100%|████████| 25/25 [1:02:39<00:00, 150.37s/trial, Current Best Loss=0.15383]\n",
      "{'radius': 0.9, 'sigma_input': 0.1}\n"
     ]
    }
   ],
   "source": [
    "!bash ./0_Paralleled_ESN_Tune.sh \"tune\" 2500 1 1 6 \"grid_search.json\" "
   ]
  },
  {
   "cell_type": "code",
   "execution_count": 6,
   "metadata": {},
   "outputs": [
    {
     "name": "stdout",
     "output_type": "stream",
     "text": [
      "{'radius': 0.9, 'sigma_input': 0.1}\n",
      "[tuf-4090:124736] shmem: mmap: an error occurred while determining whether or not /tmp/ompi.tuf-4090.1000/jf.0/3697737728/shared_mem_cuda_pool.tuf-4090 could be created.\n",
      "[tuf-4090:124736] create_and_attach: unable to create shared memory BTL coordinating structure :: size 134217728 \n",
      "/home/user/anaconda3/lib/python3.11/site-packages/torch/cuda/__init__.py:107: UserWarning: CUDA initialization: Unexpected error from cudaGetDeviceCount(). Did you run some cuda functions before calling NumCudaDevices() that might have already set an error? Error 804: forward compatibility was attempted on non supported HW (Triggered internally at ../c10/cuda/CUDAFunctions.cpp:109.)\n",
      "  return torch._C._cuda_getDeviceCount() > 0\n",
      "AVERAGE RMNSE ERROR ON TRAIN DATA SET: 1.3376278258458054 ± 0.005020210124023695\n",
      "AVG NUMBER OF ACCURATE 0.5 PREDICTIONS ON TRAIN DATA SET: 1.0446529996195146 ± 0.04336411654776624\n",
      "AVG NUMBER OF ACCURATE 1 PREDICTIONS ON TRAIN DATA SET: 1.8887948392537974 ± 0.1201618533766807\n",
      "POWER SPECTRUM MEAN ERROR ON TRAIN DATA SET: 0.8447013198277433 ± 0.5097335962791023\n",
      "TEMPORAL DISTANCE ON TRAIN DATA SET: 0.1417340203987488 ± 0.0026670476914608635\n",
      "GEOMETRICAL DISTANCE ON TRAIN DATA SET: 12.362207480293065 ± 0.06443341947640559\n",
      "\n",
      "\n",
      "AVERAGE RMNSE ERROR ON TEST DATA SET: 1.335647008312669 ± 0.006058003648417047\n",
      "AVG NUMBER OF ACCURATE 0.5 PREDICTIONS ON TEST DATA SET: 0.9986673035689387 ± 0.04617085973620302\n",
      "AVG NUMBER OF ACCURATE 1 PREDICTIONS ON TEST DATA SET: 1.8754386995920498 ± 0.13899790526330733\n",
      "POWER SPECTRUM MEAN ERROR ON TEST DATA SET: 1.608363830410274 ± 0.5957447770645201\n",
      "TEMPORAL DISTANCE ON TEST DATA SET: 0.1363286382844049 ± 0.0046390971573009535\n",
      "GEOMETRICAL DISTANCE ON TEST DATA SET: 12.442959082369011 ± 0.12263706106295001\n"
     ]
    }
   ],
   "source": [
    "!bash ./1_Paralleled_ESN_Evaluate_Tuned_Model.sh \"evaluate_tuned_model\" 2500 1 1 6 \"grid_search.json\" "
   ]
  },
  {
   "cell_type": "code",
   "execution_count": 13,
   "metadata": {},
   "outputs": [
    {
     "name": "stdout",
     "output_type": "stream",
     "text": [
      "Grid Search Progress:   0%|                                               | 0/25 [00:00<?, ?trial/s][tuf-4090:217014] shmem: mmap: an error occurred while determining whether or not /tmp/ompi.tuf-4090.1000/jf.0/1111818240/shared_mem_cuda_pool.tuf-4090 could be created.\n",
      "[tuf-4090:217014] create_and_attach: unable to create shared memory BTL coordinating structure :: size 134217728 \n",
      "Grid Search Progress: 100%|████████| 25/25 [1:09:14<00:00, 166.18s/trial, Current Best Loss=0.14719]\n",
      "{'radius': 0.9, 'sigma_input': 0.1}\n"
     ]
    }
   ],
   "source": [
    "!bash ./0_Paralleled_ESN_Tune.sh \"tune\" 3000 1 1 7 \"grid_search.json\" "
   ]
  },
  {
   "cell_type": "code",
   "execution_count": 7,
   "metadata": {},
   "outputs": [
    {
     "name": "stdout",
     "output_type": "stream",
     "text": [
      "{'radius': 0.9, 'sigma_input': 0.1}\n",
      "[tuf-4090:124739] shmem: mmap: an error occurred while determining whether or not /tmp/ompi.tuf-4090.1000/jf.0/4101767168/shared_mem_cuda_pool.tuf-4090 could be created.\n",
      "[tuf-4090:124739] create_and_attach: unable to create shared memory BTL coordinating structure :: size 134217728 \n",
      "/home/user/anaconda3/lib/python3.11/site-packages/torch/cuda/__init__.py:107: UserWarning: CUDA initialization: Unexpected error from cudaGetDeviceCount(). Did you run some cuda functions before calling NumCudaDevices() that might have already set an error? Error 804: forward compatibility was attempted on non supported HW (Triggered internally at ../c10/cuda/CUDAFunctions.cpp:109.)\n",
      "  return torch._C._cuda_getDeviceCount() > 0\n",
      "AVERAGE RMNSE ERROR ON TRAIN DATA SET: 1.337289661104795 ± 0.005728382328326752\n",
      "AVG NUMBER OF ACCURATE 0.5 PREDICTIONS ON TRAIN DATA SET: 1.151671181972509 ± 0.061101525083563916\n",
      "AVG NUMBER OF ACCURATE 1 PREDICTIONS ON TRAIN DATA SET: 2.0769642499313377 ± 0.17856864103174808\n",
      "POWER SPECTRUM MEAN ERROR ON TRAIN DATA SET: 0.7301885170767283 ± 0.36751970508115334\n",
      "TEMPORAL DISTANCE ON TRAIN DATA SET: 0.1333487264964788 ± 0.0023531115842966984\n",
      "GEOMETRICAL DISTANCE ON TRAIN DATA SET: 12.31972549663098 ± 0.08817200231203849\n",
      "\n",
      "\n",
      "AVERAGE RMNSE ERROR ON TEST DATA SET: 1.3357391175034605 ± 0.004613591850820319\n",
      "AVG NUMBER OF ACCURATE 0.5 PREDICTIONS ON TEST DATA SET: 1.1295236592422686 ± 0.061486942165905605\n",
      "AVG NUMBER OF ACCURATE 1 PREDICTIONS ON TEST DATA SET: 2.063100915092561 ± 0.11463570990844973\n",
      "POWER SPECTRUM MEAN ERROR ON TEST DATA SET: 1.2555520711839212 ± 0.2752776375867299\n",
      "TEMPORAL DISTANCE ON TEST DATA SET: 0.13245700810093447 ± 0.0028188330701729284\n",
      "GEOMETRICAL DISTANCE ON TEST DATA SET: 12.356455678047984 ± 0.0745794836089375\n"
     ]
    }
   ],
   "source": [
    "!bash ./1_Paralleled_ESN_Evaluate_Tuned_Model.sh \"evaluate_tuned_model\" 3000 1 1 7 \"grid_search.json\" "
   ]
  },
  {
   "cell_type": "code",
   "execution_count": 15,
   "metadata": {},
   "outputs": [
    {
     "name": "stdout",
     "output_type": "stream",
     "text": [
      "Grid Search Progress:   0%|                                               | 0/25 [00:00<?, ?trial/s][tuf-4090:233632] shmem: mmap: an error occurred while determining whether or not /tmp/ompi.tuf-4090.1000/jf.0/768147456/shared_mem_cuda_pool.tuf-4090 could be created.\n",
      "[tuf-4090:233632] create_and_attach: unable to create shared memory BTL coordinating structure :: size 134217728 \n",
      "Grid Search Progress: 100%|████████| 25/25 [1:15:51<00:00, 182.06s/trial, Current Best Loss=0.14701]\n",
      "{'radius': 0.9, 'sigma_input': 0.1}\n"
     ]
    }
   ],
   "source": [
    "!bash ./0_Paralleled_ESN_Tune.sh \"tune\" 3500 1 1 8 \"grid_search.json\" "
   ]
  },
  {
   "cell_type": "code",
   "execution_count": 8,
   "metadata": {},
   "outputs": [
    {
     "name": "stdout",
     "output_type": "stream",
     "text": [
      "{'radius': 0.9, 'sigma_input': 0.1}\n",
      "[tuf-4090:124743] shmem: mmap: an error occurred while determining whether or not /tmp/ompi.tuf-4090.1000/jf.0/2315255808/shared_mem_cuda_pool.tuf-4090 could be created.\n",
      "[tuf-4090:124743] create_and_attach: unable to create shared memory BTL coordinating structure :: size 134217728 \n",
      "/home/user/anaconda3/lib/python3.11/site-packages/torch/cuda/__init__.py:107: UserWarning: CUDA initialization: Unexpected error from cudaGetDeviceCount(). Did you run some cuda functions before calling NumCudaDevices() that might have already set an error? Error 804: forward compatibility was attempted on non supported HW (Triggered internally at ../c10/cuda/CUDAFunctions.cpp:109.)\n",
      "  return torch._C._cuda_getDeviceCount() > 0\n",
      "AVERAGE RMNSE ERROR ON TRAIN DATA SET: 1.3205797494883147 ± 0.005400448029325416\n",
      "AVG NUMBER OF ACCURATE 0.5 PREDICTIONS ON TRAIN DATA SET: 1.1939374467248762 ± 0.04411140341967212\n",
      "AVG NUMBER OF ACCURATE 1 PREDICTIONS ON TRAIN DATA SET: 2.1527053963675806 ± 0.08918578475751271\n",
      "POWER SPECTRUM MEAN ERROR ON TRAIN DATA SET: 1.091274717090584 ± 0.48366350079233916\n",
      "TEMPORAL DISTANCE ON TRAIN DATA SET: 0.13954420796590766 ± 0.0039843990803202075\n",
      "GEOMETRICAL DISTANCE ON TRAIN DATA SET: 12.022576309410603 ± 0.08255439306311213\n",
      "\n",
      "\n",
      "AVERAGE RMNSE ERROR ON TEST DATA SET: 1.3200651031856703 ± 0.007009487648476953\n",
      "AVG NUMBER OF ACCURATE 0.5 PREDICTIONS ON TEST DATA SET: 1.2064482610915772 ± 0.05773615083291016\n",
      "AVG NUMBER OF ACCURATE 1 PREDICTIONS ON TEST DATA SET: 2.120583035155781 ± 0.08776105169244784\n",
      "POWER SPECTRUM MEAN ERROR ON TEST DATA SET: 1.6129630938448831 ± 0.44667691623736444\n",
      "TEMPORAL DISTANCE ON TEST DATA SET: 0.14001072976196474 ± 0.0018173697131222736\n",
      "GEOMETRICAL DISTANCE ON TEST DATA SET: 12.114009478947615 ± 0.09232590058616941\n"
     ]
    }
   ],
   "source": [
    "!bash ./1_Paralleled_ESN_Evaluate_Tuned_Model.sh \"evaluate_tuned_model\" 3500 1 1 8 \"grid_search.json\" "
   ]
  },
  {
   "cell_type": "code",
   "execution_count": 17,
   "metadata": {},
   "outputs": [
    {
     "name": "stdout",
     "output_type": "stream",
     "text": [
      "Grid Search Progress:   0%|                                               | 0/25 [00:00<?, ?trial/s][tuf-4090:250262] shmem: mmap: an error occurred while determining whether or not /tmp/ompi.tuf-4090.1000/jf.0/3921805312/shared_mem_cuda_pool.tuf-4090 could be created.\n",
      "[tuf-4090:250262] create_and_attach: unable to create shared memory BTL coordinating structure :: size 134217728 \n",
      "Grid Search Progress: 100%|████████| 25/25 [1:18:00<00:00, 187.23s/trial, Current Best Loss=0.13947]\n",
      "{'radius': 0.99, 'sigma_input': 0.1}\n"
     ]
    }
   ],
   "source": [
    "!bash ./0_Paralleled_ESN_Tune.sh \"tune\" 4000 1 1 9 \"grid_search.json\" "
   ]
  },
  {
   "cell_type": "code",
   "execution_count": 9,
   "metadata": {},
   "outputs": [
    {
     "name": "stdout",
     "output_type": "stream",
     "text": [
      "{'radius': 0.99, 'sigma_input': 0.1}\n",
      "[tuf-4090:124747] shmem: mmap: an error occurred while determining whether or not /tmp/ompi.tuf-4090.1000/jf.0/1264254976/shared_mem_cuda_pool.tuf-4090 could be created.\n",
      "[tuf-4090:124747] create_and_attach: unable to create shared memory BTL coordinating structure :: size 134217728 \n",
      "/home/user/anaconda3/lib/python3.11/site-packages/torch/cuda/__init__.py:107: UserWarning: CUDA initialization: Unexpected error from cudaGetDeviceCount(). Did you run some cuda functions before calling NumCudaDevices() that might have already set an error? Error 804: forward compatibility was attempted on non supported HW (Triggered internally at ../c10/cuda/CUDAFunctions.cpp:109.)\n",
      "  return torch._C._cuda_getDeviceCount() > 0\n",
      "AVERAGE RMNSE ERROR ON TRAIN DATA SET: 1.379430169278195 ± 0.007140519473812982\n",
      "AVG NUMBER OF ACCURATE 0.5 PREDICTIONS ON TRAIN DATA SET: 1.0017104746311094 ± 0.06892486160547447\n",
      "AVG NUMBER OF ACCURATE 1 PREDICTIONS ON TRAIN DATA SET: 1.8624206900483202 ± 0.12697945246265752\n",
      "POWER SPECTRUM MEAN ERROR ON TRAIN DATA SET: 0.43816812776775144 ± 0.14351430855531802\n",
      "TEMPORAL DISTANCE ON TRAIN DATA SET: 0.12625892906059874 ± 0.0035355887931877382\n",
      "GEOMETRICAL DISTANCE ON TRAIN DATA SET: 12.875253779020778 ± 0.08491760847848753\n",
      "\n",
      "\n",
      "AVERAGE RMNSE ERROR ON TEST DATA SET: 1.380474343632004 ± 0.00499239681655894\n",
      "AVG NUMBER OF ACCURATE 0.5 PREDICTIONS ON TEST DATA SET: 1.002724864985166 ± 0.04846862602225703\n",
      "AVG NUMBER OF ACCURATE 1 PREDICTIONS ON TEST DATA SET: 1.893866791024082 ± 0.11198898094630354\n",
      "POWER SPECTRUM MEAN ERROR ON TEST DATA SET: 0.8107734346985642 ± 0.3043594189202576\n",
      "TEMPORAL DISTANCE ON TEST DATA SET: 0.1236046623353457 ± 0.0031090882983009784\n",
      "GEOMETRICAL DISTANCE ON TEST DATA SET: 12.9683463095518 ± 0.09357128747065387\n"
     ]
    }
   ],
   "source": [
    "!bash ./1_Paralleled_ESN_Evaluate_Tuned_Model.sh \"evaluate_tuned_model\" 4000 1 1 9 \"grid_search.json\" "
   ]
  },
  {
   "cell_type": "markdown",
   "metadata": {},
   "source": [
    "# Analyse the training data"
   ]
  },
  {
   "cell_type": "code",
   "execution_count": 1,
   "metadata": {},
   "outputs": [
    {
     "name": "stdout",
     "output_type": "stream",
     "text": [
      "{'radius': 0.9, 'sigma_input': 0.1}\n",
      "[tuf-4090:102502] shmem: mmap: an error occurred while determining whether or not /tmp/ompi.tuf-4090.1000/jf.0/3504078848/shared_mem_cuda_pool.tuf-4090 could be created.\n",
      "[tuf-4090:102502] create_and_attach: unable to create shared memory BTL coordinating structure :: size 134217728 \n",
      "/home/user/anaconda3/lib/python3.11/site-packages/torch/cuda/__init__.py:107: UserWarning: CUDA initialization: Unexpected error from cudaGetDeviceCount(). Did you run some cuda functions before calling NumCudaDevices() that might have already set an error? Error 804: forward compatibility was attempted on non supported HW (Triggered internally at ../c10/cuda/CUDAFunctions.cpp:109.)\n",
      "  return torch._C._cuda_getDeviceCount() > 0\n",
      "AVERAGE RMNSE ERROR ON TRAIN DATA SET: 1.358908526245849 ± 0.01977123543037113\n",
      "AVG NUMBER OF ACCURATE 0.5 PREDICTIONS ON TRAIN DATA SET: 1.2037432201474256 ± 0.29524007018839643\n",
      "AVG NUMBER OF ACCURATE 1 PREDICTIONS ON TRAIN DATA SET: 2.1234571411589425 ± 0.2855348185300214\n",
      "POWER SPECTRUM MEAN ERROR ON TRAIN DATA SET: 2.749833773179452 ± 1.1924410098688025\n",
      "TEMPORAL DISTANCE ON TRAIN DATA SET: 0.21704070576440038 ± 0.0033737956755255823\n",
      "GEOMETRICAL DISTANCE ON TRAIN DATA SET: 12.942230384103189 ± 0.18616123823970313\n",
      "\n",
      "\n",
      "AVERAGE RMNSE ERROR ON TEST DATA SET: 1.3807803947362802 ± 0.006903702033123619\n",
      "AVG NUMBER OF ACCURATE 0.5 PREDICTIONS ON TEST DATA SET: 0.926476523371895 ± 0.03433311346055857\n",
      "AVG NUMBER OF ACCURATE 1 PREDICTIONS ON TEST DATA SET: 1.8125464976405268 ± 0.07465117408230239\n",
      "POWER SPECTRUM MEAN ERROR ON TEST DATA SET: 1.0672585156934755 ± 0.4233514567744945\n",
      "TEMPORAL DISTANCE ON TEST DATA SET: 0.1409231744092946 ± 0.0038398774237137674\n",
      "GEOMETRICAL DISTANCE ON TEST DATA SET: 13.293957430696377 ± 0.10709951933976596\n"
     ]
    }
   ],
   "source": [
    "!bash ./1_Paralleled_ESN_Evaluate_Tuned_Model.sh \"evaluate_tuned_model\" 3000 1 1 7 \"grid_search.json\" 10000"
   ]
  },
  {
   "cell_type": "code",
   "execution_count": 2,
   "metadata": {},
   "outputs": [
    {
     "name": "stdout",
     "output_type": "stream",
     "text": [
      "{'radius': 0.9, 'sigma_input': 0.1}\n",
      "[tuf-4090:105146] shmem: mmap: an error occurred while determining whether or not /tmp/ompi.tuf-4090.1000/jf.0/2473066496/shared_mem_cuda_pool.tuf-4090 could be created.\n",
      "[tuf-4090:105146] create_and_attach: unable to create shared memory BTL coordinating structure :: size 134217728 \n",
      "/home/user/anaconda3/lib/python3.11/site-packages/torch/cuda/__init__.py:107: UserWarning: CUDA initialization: Unexpected error from cudaGetDeviceCount(). Did you run some cuda functions before calling NumCudaDevices() that might have already set an error? Error 804: forward compatibility was attempted on non supported HW (Triggered internally at ../c10/cuda/CUDAFunctions.cpp:109.)\n",
      "  return torch._C._cuda_getDeviceCount() > 0\n",
      "AVERAGE RMNSE ERROR ON TRAIN DATA SET: 1.3560169173056462 ± 0.012575520333659428\n",
      "AVG NUMBER OF ACCURATE 0.5 PREDICTIONS ON TRAIN DATA SET: 1.2705239184561663 ± 0.17655160640964934\n",
      "AVG NUMBER OF ACCURATE 1 PREDICTIONS ON TRAIN DATA SET: 2.1192305146837054 ± 0.34575871315676043\n",
      "POWER SPECTRUM MEAN ERROR ON TRAIN DATA SET: 1.0678247621724153 ± 0.5540618642776901\n",
      "TEMPORAL DISTANCE ON TRAIN DATA SET: 0.1763743619256719 ± 0.004994528713528814\n",
      "GEOMETRICAL DISTANCE ON TRAIN DATA SET: 12.665642086266121 ± 0.1646306413723652\n",
      "\n",
      "\n",
      "AVERAGE RMNSE ERROR ON TEST DATA SET: 1.3606041744792505 ± 0.004685833001961466\n",
      "AVG NUMBER OF ACCURATE 0.5 PREDICTIONS ON TEST DATA SET: 0.9832823831990769 ± 0.02760682808217695\n",
      "AVG NUMBER OF ACCURATE 1 PREDICTIONS ON TEST DATA SET: 1.933089884714279 ± 0.1006901304342642\n",
      "POWER SPECTRUM MEAN ERROR ON TEST DATA SET: 1.5121730622660574 ± 0.34167820251507175\n",
      "TEMPORAL DISTANCE ON TEST DATA SET: 0.13571007337033883 ± 0.0027495032826705154\n",
      "GEOMETRICAL DISTANCE ON TEST DATA SET: 12.827016098651654 ± 0.06985575798743823\n"
     ]
    }
   ],
   "source": [
    "!bash ./1_Paralleled_ESN_Evaluate_Tuned_Model.sh \"evaluate_tuned_model\" 3000 1 1 7 \"grid_search.json\"  20000"
   ]
  },
  {
   "cell_type": "code",
   "execution_count": 3,
   "metadata": {},
   "outputs": [
    {
     "name": "stdout",
     "output_type": "stream",
     "text": [
      "{'radius': 0.9, 'sigma_input': 0.1}\n",
      "[tuf-4090:107110] shmem: mmap: an error occurred while determining whether or not /tmp/ompi.tuf-4090.1000/jf.0/760020992/shared_mem_cuda_pool.tuf-4090 could be created.\n",
      "[tuf-4090:107110] create_and_attach: unable to create shared memory BTL coordinating structure :: size 134217728 \n",
      "/home/user/anaconda3/lib/python3.11/site-packages/torch/cuda/__init__.py:107: UserWarning: CUDA initialization: Unexpected error from cudaGetDeviceCount(). Did you run some cuda functions before calling NumCudaDevices() that might have already set an error? Error 804: forward compatibility was attempted on non supported HW (Triggered internally at ../c10/cuda/CUDAFunctions.cpp:109.)\n",
      "  return torch._C._cuda_getDeviceCount() > 0\n",
      "AVERAGE RMNSE ERROR ON TRAIN DATA SET: 1.3365554156365007 ± 0.00682669133663421\n",
      "AVG NUMBER OF ACCURATE 0.5 PREDICTIONS ON TRAIN DATA SET: 1.0910331808077793 ± 0.15884119915700376\n",
      "AVG NUMBER OF ACCURATE 1 PREDICTIONS ON TRAIN DATA SET: 1.8991641628730451 ± 0.26266517882830914\n",
      "POWER SPECTRUM MEAN ERROR ON TRAIN DATA SET: 1.4574261247985674 ± 0.6332550103622183\n",
      "TEMPORAL DISTANCE ON TRAIN DATA SET: 0.1675595622936093 ± 0.006496806456710406\n",
      "GEOMETRICAL DISTANCE ON TRAIN DATA SET: 12.39556530896885 ± 0.1169263748835852\n",
      "\n",
      "\n",
      "AVERAGE RMNSE ERROR ON TEST DATA SET: 1.3436434234624712 ± 0.0026362658075898405\n",
      "AVG NUMBER OF ACCURATE 0.5 PREDICTIONS ON TEST DATA SET: 1.0101637275815827 ± 0.054001666465006\n",
      "AVG NUMBER OF ACCURATE 1 PREDICTIONS ON TEST DATA SET: 1.963690660394993 ± 0.10455071280710651\n",
      "POWER SPECTRUM MEAN ERROR ON TEST DATA SET: 1.61242602324768 ± 0.6313228249966324\n",
      "TEMPORAL DISTANCE ON TEST DATA SET: 0.14136566575179318 ± 0.0016166679824004978\n",
      "GEOMETRICAL DISTANCE ON TEST DATA SET: 12.453901816279673 ± 0.07467405585036016\n"
     ]
    }
   ],
   "source": [
    "!bash ./1_Paralleled_ESN_Evaluate_Tuned_Model.sh \"evaluate_tuned_model\" 3000 1 1 7 \"grid_search.json\"  30000"
   ]
  },
  {
   "cell_type": "code",
   "execution_count": 4,
   "metadata": {},
   "outputs": [
    {
     "name": "stdout",
     "output_type": "stream",
     "text": [
      "{'radius': 0.9, 'sigma_input': 0.1}\n",
      "[tuf-4090:109122] shmem: mmap: an error occurred while determining whether or not /tmp/ompi.tuf-4090.1000/jf.0/3250782208/shared_mem_cuda_pool.tuf-4090 could be created.\n",
      "[tuf-4090:109122] create_and_attach: unable to create shared memory BTL coordinating structure :: size 134217728 \n",
      "/home/user/anaconda3/lib/python3.11/site-packages/torch/cuda/__init__.py:107: UserWarning: CUDA initialization: Unexpected error from cudaGetDeviceCount(). Did you run some cuda functions before calling NumCudaDevices() that might have already set an error? Error 804: forward compatibility was attempted on non supported HW (Triggered internally at ../c10/cuda/CUDAFunctions.cpp:109.)\n",
      "  return torch._C._cuda_getDeviceCount() > 0\n",
      "AVERAGE RMNSE ERROR ON TRAIN DATA SET: 1.3411577203455372 ± 0.0069760017695442355\n",
      "AVG NUMBER OF ACCURATE 0.5 PREDICTIONS ON TRAIN DATA SET: 1.175002160115816 ± 0.07529376511531236\n",
      "AVG NUMBER OF ACCURATE 1 PREDICTIONS ON TRAIN DATA SET: 2.0331763996478855 ± 0.10890782155579064\n",
      "POWER SPECTRUM MEAN ERROR ON TRAIN DATA SET: 1.0273472066903613 ± 0.5509164227666623\n",
      "TEMPORAL DISTANCE ON TRAIN DATA SET: 0.1534819639505541 ± 0.0037541658542737987\n",
      "GEOMETRICAL DISTANCE ON TRAIN DATA SET: 12.554459708972264 ± 0.12406229402084677\n",
      "\n",
      "\n",
      "AVERAGE RMNSE ERROR ON TEST DATA SET: 1.3415845770273305 ± 0.0056867058591151395\n",
      "AVG NUMBER OF ACCURATE 0.5 PREDICTIONS ON TEST DATA SET: 1.079649466834475 ± 0.06685748246466432\n",
      "AVG NUMBER OF ACCURATE 1 PREDICTIONS ON TEST DATA SET: 1.9956439565477826 ± 0.10699614553851658\n",
      "POWER SPECTRUM MEAN ERROR ON TEST DATA SET: 1.3258280925202395 ± 0.521820609225763\n",
      "TEMPORAL DISTANCE ON TEST DATA SET: 0.1433510229226215 ± 0.002555105758337802\n",
      "GEOMETRICAL DISTANCE ON TEST DATA SET: 12.487259035169778 ± 0.06218086051844537\n"
     ]
    }
   ],
   "source": [
    "!bash ./1_Paralleled_ESN_Evaluate_Tuned_Model.sh \"evaluate_tuned_model\" 3000 1 1 7 \"grid_search.json\"  40000"
   ]
  },
  {
   "cell_type": "code",
   "execution_count": 5,
   "metadata": {},
   "outputs": [
    {
     "name": "stdout",
     "output_type": "stream",
     "text": [
      "{'radius': 0.9, 'sigma_input': 0.1}\n",
      "[tuf-4090:111103] shmem: mmap: an error occurred while determining whether or not /tmp/ompi.tuf-4090.1000/jf.0/4231528448/shared_mem_cuda_pool.tuf-4090 could be created.\n",
      "[tuf-4090:111103] create_and_attach: unable to create shared memory BTL coordinating structure :: size 134217728 \n",
      "/home/user/anaconda3/lib/python3.11/site-packages/torch/cuda/__init__.py:107: UserWarning: CUDA initialization: Unexpected error from cudaGetDeviceCount(). Did you run some cuda functions before calling NumCudaDevices() that might have already set an error? Error 804: forward compatibility was attempted on non supported HW (Triggered internally at ../c10/cuda/CUDAFunctions.cpp:109.)\n",
      "  return torch._C._cuda_getDeviceCount() > 0\n",
      "AVERAGE RMNSE ERROR ON TRAIN DATA SET: 1.3353206998870295 ± 0.009387245333890876\n",
      "AVG NUMBER OF ACCURATE 0.5 PREDICTIONS ON TRAIN DATA SET: 1.1496424012643953 ± 0.0740377140764633\n",
      "AVG NUMBER OF ACCURATE 1 PREDICTIONS ON TRAIN DATA SET: 2.0059569251473603 ± 0.12532151424027752\n",
      "POWER SPECTRUM MEAN ERROR ON TRAIN DATA SET: 0.9012607181237117 ± 0.3545336603914525\n",
      "TEMPORAL DISTANCE ON TRAIN DATA SET: 0.14952368248840828 ± 0.005543449540263245\n",
      "GEOMETRICAL DISTANCE ON TRAIN DATA SET: 12.416221590970718 ± 0.09360873990576409\n",
      "\n",
      "\n",
      "AVERAGE RMNSE ERROR ON TEST DATA SET: 1.332488884124682 ± 0.0053214738812488085\n",
      "AVG NUMBER OF ACCURATE 0.5 PREDICTIONS ON TEST DATA SET: 1.0539515778650352 ± 0.04773626114220668\n",
      "AVG NUMBER OF ACCURATE 1 PREDICTIONS ON TEST DATA SET: 2.0056187950293416 ± 0.06668132540152831\n",
      "POWER SPECTRUM MEAN ERROR ON TEST DATA SET: 1.6294191372515994 ± 0.46508241908512454\n",
      "TEMPORAL DISTANCE ON TEST DATA SET: 0.14182763060388942 ± 0.0029827254741520304\n",
      "GEOMETRICAL DISTANCE ON TEST DATA SET: 12.409349277802919 ± 0.11314282962324611\n"
     ]
    }
   ],
   "source": [
    "!bash ./1_Paralleled_ESN_Evaluate_Tuned_Model.sh \"evaluate_tuned_model\" 3000 1 1 7 \"grid_search.json\"  50000"
   ]
  },
  {
   "cell_type": "code",
   "execution_count": 6,
   "metadata": {},
   "outputs": [
    {
     "name": "stdout",
     "output_type": "stream",
     "text": [
      "{'radius': 0.9, 'sigma_input': 0.1}\n",
      "[tuf-4090:113113] shmem: mmap: an error occurred while determining whether or not /tmp/ompi.tuf-4090.1000/jf.0/3161391104/shared_mem_cuda_pool.tuf-4090 could be created.\n",
      "[tuf-4090:113113] create_and_attach: unable to create shared memory BTL coordinating structure :: size 134217728 \n",
      "/home/user/anaconda3/lib/python3.11/site-packages/torch/cuda/__init__.py:107: UserWarning: CUDA initialization: Unexpected error from cudaGetDeviceCount(). Did you run some cuda functions before calling NumCudaDevices() that might have already set an error? Error 804: forward compatibility was attempted on non supported HW (Triggered internally at ../c10/cuda/CUDAFunctions.cpp:109.)\n",
      "  return torch._C._cuda_getDeviceCount() > 0\n",
      "AVERAGE RMNSE ERROR ON TRAIN DATA SET: 1.3408053547409582 ± 0.0033149986125984507\n",
      "AVG NUMBER OF ACCURATE 0.5 PREDICTIONS ON TRAIN DATA SET: 1.1071648051882659 ± 0.05495792869970434\n",
      "AVG NUMBER OF ACCURATE 1 PREDICTIONS ON TRAIN DATA SET: 2.088376141414477 ± 0.11980007223642286\n",
      "POWER SPECTRUM MEAN ERROR ON TRAIN DATA SET: 1.1272373185578612 ± 0.33882208106777795\n",
      "TEMPORAL DISTANCE ON TRAIN DATA SET: 0.14319814380212692 ± 0.0034995965912770397\n",
      "GEOMETRICAL DISTANCE ON TRAIN DATA SET: 12.405641061411261 ± 0.08530246517541067\n",
      "\n",
      "\n",
      "AVERAGE RMNSE ERROR ON TEST DATA SET: 1.3425024702067092 ± 0.005176048184868631\n",
      "AVG NUMBER OF ACCURATE 0.5 PREDICTIONS ON TEST DATA SET: 1.0519227971569216 ± 0.0570618994142928\n",
      "AVG NUMBER OF ACCURATE 1 PREDICTIONS ON TEST DATA SET: 2.0054497299703318 ± 0.1220031381403518\n",
      "POWER SPECTRUM MEAN ERROR ON TEST DATA SET: 1.6904928490848004 ± 0.3289686945500287\n",
      "TEMPORAL DISTANCE ON TEST DATA SET: 0.14360404234443166 ± 0.0031748650482521772\n",
      "GEOMETRICAL DISTANCE ON TEST DATA SET: 12.461537853549768 ± 0.08370788268560203\n"
     ]
    }
   ],
   "source": [
    "!bash ./1_Paralleled_ESN_Evaluate_Tuned_Model.sh \"evaluate_tuned_model\" 3000 1 1 7 \"grid_search.json\"  60000"
   ]
  },
  {
   "cell_type": "code",
   "execution_count": 7,
   "metadata": {},
   "outputs": [
    {
     "name": "stdout",
     "output_type": "stream",
     "text": [
      "{'radius': 0.9, 'sigma_input': 0.1}\n",
      "[tuf-4090:115139] shmem: mmap: an error occurred while determining whether or not /tmp/ompi.tuf-4090.1000/jf.0/1200160768/shared_mem_cuda_pool.tuf-4090 could be created.\n",
      "[tuf-4090:115139] create_and_attach: unable to create shared memory BTL coordinating structure :: size 134217728 \n",
      "/home/user/anaconda3/lib/python3.11/site-packages/torch/cuda/__init__.py:107: UserWarning: CUDA initialization: Unexpected error from cudaGetDeviceCount(). Did you run some cuda functions before calling NumCudaDevices() that might have already set an error? Error 804: forward compatibility was attempted on non supported HW (Triggered internally at ../c10/cuda/CUDAFunctions.cpp:109.)\n",
      "  return torch._C._cuda_getDeviceCount() > 0\n",
      "AVERAGE RMNSE ERROR ON TRAIN DATA SET: 1.3354414099856518 ± 0.0037064029149555936\n",
      "AVG NUMBER OF ACCURATE 0.5 PREDICTIONS ON TRAIN DATA SET: 1.1156415393969354 ± 0.04882258981454339\n",
      "AVG NUMBER OF ACCURATE 1 PREDICTIONS ON TRAIN DATA SET: 2.004548049655615 ± 0.12357179393491759\n",
      "POWER SPECTRUM MEAN ERROR ON TRAIN DATA SET: 1.0080690252785771 ± 0.33451578757909173\n",
      "TEMPORAL DISTANCE ON TRAIN DATA SET: 0.14049757828265996 ± 0.0027346831515067628\n",
      "GEOMETRICAL DISTANCE ON TRAIN DATA SET: 12.378053279147853 ± 0.08180665437911212\n",
      "\n",
      "\n",
      "AVERAGE RMNSE ERROR ON TEST DATA SET: 1.336515046201366 ± 0.0038785425664603287\n",
      "AVG NUMBER OF ACCURATE 0.5 PREDICTIONS ON TEST DATA SET: 1.0710271488249918 ± 0.07256909646883224\n",
      "AVG NUMBER OF ACCURATE 1 PREDICTIONS ON TEST DATA SET: 1.9511798460282925 ± 0.09691557735368193\n",
      "POWER SPECTRUM MEAN ERROR ON TEST DATA SET: 1.4301331137458377 ± 0.3603424506439042\n",
      "TEMPORAL DISTANCE ON TEST DATA SET: 0.13917262805797165 ± 0.0027889522387485417\n",
      "GEOMETRICAL DISTANCE ON TEST DATA SET: 12.40374620576634 ± 0.08796944544861102\n"
     ]
    }
   ],
   "source": [
    "!bash ./1_Paralleled_ESN_Evaluate_Tuned_Model.sh \"evaluate_tuned_model\" 3000 1 1 7 \"grid_search.json\"  70000"
   ]
  },
  {
   "cell_type": "code",
   "execution_count": 8,
   "metadata": {},
   "outputs": [
    {
     "name": "stdout",
     "output_type": "stream",
     "text": [
      "{'radius': 0.9, 'sigma_input': 0.1}\n",
      "[tuf-4090:117210] shmem: mmap: an error occurred while determining whether or not /tmp/ompi.tuf-4090.1000/jf.0/4173398016/shared_mem_cuda_pool.tuf-4090 could be created.\n",
      "[tuf-4090:117210] create_and_attach: unable to create shared memory BTL coordinating structure :: size 134217728 \n",
      "/home/user/anaconda3/lib/python3.11/site-packages/torch/cuda/__init__.py:107: UserWarning: CUDA initialization: Unexpected error from cudaGetDeviceCount(). Did you run some cuda functions before calling NumCudaDevices() that might have already set an error? Error 804: forward compatibility was attempted on non supported HW (Triggered internally at ../c10/cuda/CUDAFunctions.cpp:109.)\n",
      "  return torch._C._cuda_getDeviceCount() > 0\n",
      "AVERAGE RMNSE ERROR ON TRAIN DATA SET: 1.3312765337938575 ± 0.005979783482995342\n",
      "AVG NUMBER OF ACCURATE 0.5 PREDICTIONS ON TRAIN DATA SET: 1.1148149991084444 ± 0.04419167901550205\n",
      "AVG NUMBER OF ACCURATE 1 PREDICTIONS ON TRAIN DATA SET: 2.018298674455052 ± 0.10450573067248291\n",
      "POWER SPECTRUM MEAN ERROR ON TRAIN DATA SET: 0.9813836368619697 ± 0.4429149583539276\n",
      "TEMPORAL DISTANCE ON TRAIN DATA SET: 0.13914646619516008 ± 0.0018719660191249918\n",
      "GEOMETRICAL DISTANCE ON TRAIN DATA SET: 12.270072077657856 ± 0.07127656169252387\n",
      "\n",
      "\n",
      "AVERAGE RMNSE ERROR ON TEST DATA SET: 1.3323185582926367 ± 0.005429914490581125\n",
      "AVG NUMBER OF ACCURATE 0.5 PREDICTIONS ON TEST DATA SET: 1.1102502425151888 ± 0.03943277147590071\n",
      "AVG NUMBER OF ACCURATE 1 PREDICTIONS ON TEST DATA SET: 2.0744282740461957 ± 0.12942037933893977\n",
      "POWER SPECTRUM MEAN ERROR ON TEST DATA SET: 1.5364932621366605 ± 0.36632991062673925\n",
      "TEMPORAL DISTANCE ON TEST DATA SET: 0.13760949143257709 ± 0.002867270090196486\n",
      "GEOMETRICAL DISTANCE ON TEST DATA SET: 12.338371582407023 ± 0.09838299259222863\n"
     ]
    }
   ],
   "source": [
    "!bash ./1_Paralleled_ESN_Evaluate_Tuned_Model.sh \"evaluate_tuned_model\" 3000 1 1 7 \"grid_search.json\"  80000"
   ]
  },
  {
   "cell_type": "code",
   "execution_count": 9,
   "metadata": {},
   "outputs": [
    {
     "name": "stdout",
     "output_type": "stream",
     "text": [
      "{'radius': 0.9, 'sigma_input': 0.1}\n",
      "[tuf-4090:119235] shmem: mmap: an error occurred while determining whether or not /tmp/ompi.tuf-4090.1000/jf.0/1129906176/shared_mem_cuda_pool.tuf-4090 could be created.\n",
      "[tuf-4090:119235] create_and_attach: unable to create shared memory BTL coordinating structure :: size 134217728 \n",
      "/home/user/anaconda3/lib/python3.11/site-packages/torch/cuda/__init__.py:107: UserWarning: CUDA initialization: Unexpected error from cudaGetDeviceCount(). Did you run some cuda functions before calling NumCudaDevices() that might have already set an error? Error 804: forward compatibility was attempted on non supported HW (Triggered internally at ../c10/cuda/CUDAFunctions.cpp:109.)\n",
      "  return torch._C._cuda_getDeviceCount() > 0\n",
      "AVERAGE RMNSE ERROR ON TRAIN DATA SET: 1.3330970345015751 ± 0.004628803255774003\n",
      "AVG NUMBER OF ACCURATE 0.5 PREDICTIONS ON TRAIN DATA SET: 1.1126171533413216 ± 0.05076148482995063\n",
      "AVG NUMBER OF ACCURATE 1 PREDICTIONS ON TRAIN DATA SET: 2.013057657625758 ± 0.11467559698711464\n",
      "POWER SPECTRUM MEAN ERROR ON TRAIN DATA SET: 0.896701944423562 ± 0.4670364510869068\n",
      "TEMPORAL DISTANCE ON TRAIN DATA SET: 0.1338871787646495 ± 0.0037227507551601795\n",
      "GEOMETRICAL DISTANCE ON TRAIN DATA SET: 12.342519390500204 ± 0.0874957284828044\n",
      "\n",
      "\n",
      "AVERAGE RMNSE ERROR ON TEST DATA SET: 1.338376059632698 ± 0.005090353936663832\n",
      "AVG NUMBER OF ACCURATE 0.5 PREDICTIONS ON TEST DATA SET: 1.1464301651432156 ± 0.08957401248508001\n",
      "AVG NUMBER OF ACCURATE 1 PREDICTIONS ON TEST DATA SET: 2.061241199443457 ± 0.0853997802248344\n",
      "POWER SPECTRUM MEAN ERROR ON TEST DATA SET: 1.3698806927953906 ± 0.45628262389675295\n",
      "TEMPORAL DISTANCE ON TEST DATA SET: 0.1337255044103538 ± 0.0012896681328960274\n",
      "GEOMETRICAL DISTANCE ON TEST DATA SET: 12.354018775328784 ± 0.05614081401108297\n"
     ]
    }
   ],
   "source": [
    "!bash ./1_Paralleled_ESN_Evaluate_Tuned_Model.sh \"evaluate_tuned_model\" 3000 1 1 7 \"grid_search.json\"  90000"
   ]
  },
  {
   "cell_type": "markdown",
   "metadata": {},
   "source": [
    "# Analyse the noise degree"
   ]
  },
  {
   "cell_type": "code",
   "execution_count": 10,
   "metadata": {},
   "outputs": [
    {
     "name": "stdout",
     "output_type": "stream",
     "text": [
      "{'radius': 0.9, 'sigma_input': 0.1}\n",
      "[tuf-4090:124750] shmem: mmap: an error occurred while determining whether or not /tmp/ompi.tuf-4090.1000/jf.0/3563847680/shared_mem_cuda_pool.tuf-4090 could be created.\n",
      "[tuf-4090:124750] create_and_attach: unable to create shared memory BTL coordinating structure :: size 134217728 \n",
      "/home/user/anaconda3/lib/python3.11/site-packages/torch/cuda/__init__.py:107: UserWarning: CUDA initialization: Unexpected error from cudaGetDeviceCount(). Did you run some cuda functions before calling NumCudaDevices() that might have already set an error? Error 804: forward compatibility was attempted on non supported HW (Triggered internally at ../c10/cuda/CUDAFunctions.cpp:109.)\n",
      "  return torch._C._cuda_getDeviceCount() > 0\n",
      "AVERAGE RMNSE ERROR ON TRAIN DATA SET: 1.339040486571768 ± 0.004668864317036816\n",
      "AVG NUMBER OF ACCURATE 0.5 PREDICTIONS ON TRAIN DATA SET: 1.145922969966187 ± 0.058530704336984124\n",
      "AVG NUMBER OF ACCURATE 1 PREDICTIONS ON TRAIN DATA SET: 2.0656368909777036 ± 0.16114268279614705\n",
      "POWER SPECTRUM MEAN ERROR ON TRAIN DATA SET: 0.6379179117153426 ± 0.27782807431529105\n",
      "TEMPORAL DISTANCE ON TRAIN DATA SET: 0.13387625406608944 ± 0.00280186345669333\n",
      "GEOMETRICAL DISTANCE ON TRAIN DATA SET: 12.28886963674061 ± 0.07821344959395636\n",
      "\n",
      "\n",
      "AVERAGE RMNSE ERROR ON TEST DATA SET: 1.3382348288401693 ± 0.004705565842224044\n",
      "AVG NUMBER OF ACCURATE 0.5 PREDICTIONS ON TEST DATA SET: 1.1261423580620789 ± 0.06113730093524418\n",
      "AVG NUMBER OF ACCURATE 1 PREDICTIONS ON TEST DATA SET: 2.0375720911821316 ± 0.11255670574170533\n",
      "POWER SPECTRUM MEAN ERROR ON TEST DATA SET: 1.6496769578578783 ± 0.4250753145731163\n",
      "TEMPORAL DISTANCE ON TEST DATA SET: 0.13027781094257626 ± 0.0027296765407949612\n",
      "GEOMETRICAL DISTANCE ON TEST DATA SET: 12.365643650128618 ± 0.07931956212551682\n"
     ]
    }
   ],
   "source": [
    "!bash ./1_Paralleled_ESN_Evaluate_Tuned_Model.sh \"evaluate_tuned_model\" 3000 1 1 7 \"grid_search.json\" 100000 0"
   ]
  },
  {
   "cell_type": "code",
   "execution_count": 11,
   "metadata": {},
   "outputs": [
    {
     "name": "stdout",
     "output_type": "stream",
     "text": [
      "{'radius': 0.9, 'sigma_input': 0.1}\n",
      "[tuf-4090:124753] shmem: mmap: an error occurred while determining whether or not /tmp/ompi.tuf-4090.1000/jf.0/666763264/shared_mem_cuda_pool.tuf-4090 could be created.\n",
      "[tuf-4090:124753] create_and_attach: unable to create shared memory BTL coordinating structure :: size 134217728 \n",
      "/home/user/anaconda3/lib/python3.11/site-packages/torch/cuda/__init__.py:107: UserWarning: CUDA initialization: Unexpected error from cudaGetDeviceCount(). Did you run some cuda functions before calling NumCudaDevices() that might have already set an error? Error 804: forward compatibility was attempted on non supported HW (Triggered internally at ../c10/cuda/CUDAFunctions.cpp:109.)\n",
      "  return torch._C._cuda_getDeviceCount() > 0\n",
      "AVERAGE RMNSE ERROR ON TRAIN DATA SET: 1.3366881009889338 ± 0.003247317433144403\n",
      "AVG NUMBER OF ACCURATE 0.5 PREDICTIONS ON TRAIN DATA SET: 1.1107574376922176 ± 0.06312265352784092\n",
      "AVG NUMBER OF ACCURATE 1 PREDICTIONS ON TRAIN DATA SET: 2.094039820891294 ± 0.144241726951851\n",
      "POWER SPECTRUM MEAN ERROR ON TRAIN DATA SET: 0.8801330933622639 ± 0.44039623855556864\n",
      "TEMPORAL DISTANCE ON TRAIN DATA SET: 0.13470770829303777 ± 0.0024847419153835827\n",
      "GEOMETRICAL DISTANCE ON TRAIN DATA SET: 12.319766836799452 ± 0.07169136263822351\n",
      "\n",
      "\n",
      "AVERAGE RMNSE ERROR ON TEST DATA SET: 1.3360346158789107 ± 0.0056486210003877345\n",
      "AVG NUMBER OF ACCURATE 0.5 PREDICTIONS ON TEST DATA SET: 1.0867501993128728 ± 0.05581605533725694\n",
      "AVG NUMBER OF ACCURATE 1 PREDICTIONS ON TEST DATA SET: 2.1589608035509307 ± 0.07630061765247843\n",
      "POWER SPECTRUM MEAN ERROR ON TEST DATA SET: 1.4605298627011412 ± 0.5974998064743338\n",
      "TEMPORAL DISTANCE ON TEST DATA SET: 0.1326102805923492 ± 0.003509935134467858\n",
      "GEOMETRICAL DISTANCE ON TEST DATA SET: 12.370640238154872 ± 0.07977679204969709\n"
     ]
    }
   ],
   "source": [
    "!bash ./1_Paralleled_ESN_Evaluate_Tuned_Model.sh \"evaluate_tuned_model\" 3000 1 1 7 \"grid_search.json\" 100000 20"
   ]
  },
  {
   "cell_type": "code",
   "execution_count": 12,
   "metadata": {},
   "outputs": [
    {
     "name": "stdout",
     "output_type": "stream",
     "text": [
      "{'radius': 0.9, 'sigma_input': 0.1}\n",
      "[tuf-4090:124756] shmem: mmap: an error occurred while determining whether or not /tmp/ompi.tuf-4090.1000/jf.0/3908960256/shared_mem_cuda_pool.tuf-4090 could be created.\n",
      "[tuf-4090:124756] create_and_attach: unable to create shared memory BTL coordinating structure :: size 134217728 \n",
      "/home/user/anaconda3/lib/python3.11/site-packages/torch/cuda/__init__.py:107: UserWarning: CUDA initialization: Unexpected error from cudaGetDeviceCount(). Did you run some cuda functions before calling NumCudaDevices() that might have already set an error? Error 804: forward compatibility was attempted on non supported HW (Triggered internally at ../c10/cuda/CUDAFunctions.cpp:109.)\n",
      "  return torch._C._cuda_getDeviceCount() > 0\n",
      "AVERAGE RMNSE ERROR ON TRAIN DATA SET: 1.3542834878101715 ± 0.051673579926663285\n",
      "AVG NUMBER OF ACCURATE 0.5 PREDICTIONS ON TRAIN DATA SET: 0.9908903108545031 ± 0.06864728448461864\n",
      "AVG NUMBER OF ACCURATE 1 PREDICTIONS ON TRAIN DATA SET: 1.9109423619840384 ± 0.1938904996267306\n",
      "POWER SPECTRUM MEAN ERROR ON TRAIN DATA SET: 0.7921159225479746 ± 0.46180200046235553\n",
      "TEMPORAL DISTANCE ON TRAIN DATA SET: 0.14117767020837324 ± 0.0029068361087810014\n",
      "GEOMETRICAL DISTANCE ON TRAIN DATA SET: 12.354376683849292 ± 0.2603781296163381\n",
      "\n",
      "\n",
      "AVERAGE RMNSE ERROR ON TEST DATA SET: 1.3391304739501237 ± 0.008336784966793713\n",
      "AVG NUMBER OF ACCURATE 0.5 PREDICTIONS ON TEST DATA SET: 0.9790557567238402 ± 0.06252413558549905\n",
      "AVG NUMBER OF ACCURATE 1 PREDICTIONS ON TEST DATA SET: 1.9880360288923566 ± 0.062074510566940605\n",
      "POWER SPECTRUM MEAN ERROR ON TEST DATA SET: 1.4278522090889971 ± 0.5707270643680077\n",
      "TEMPORAL DISTANCE ON TEST DATA SET: 0.13450496433785963 ± 0.003588054089813921\n",
      "GEOMETRICAL DISTANCE ON TEST DATA SET: 12.288226520839629 ± 0.07555153187468776\n"
     ]
    }
   ],
   "source": [
    "!bash ./1_Paralleled_ESN_Evaluate_Tuned_Model.sh \"evaluate_tuned_model\" 3000 1 1 7 \"grid_search.json\" 100000 40"
   ]
  },
  {
   "cell_type": "code",
   "execution_count": 13,
   "metadata": {},
   "outputs": [
    {
     "name": "stdout",
     "output_type": "stream",
     "text": [
      "{'radius': 0.9, 'sigma_input': 0.1}\n",
      "[tuf-4090:124760] shmem: mmap: an error occurred while determining whether or not /tmp/ompi.tuf-4090.1000/jf.0/2841706496/shared_mem_cuda_pool.tuf-4090 could be created.\n",
      "[tuf-4090:124760] create_and_attach: unable to create shared memory BTL coordinating structure :: size 134217728 \n",
      "/home/user/anaconda3/lib/python3.11/site-packages/torch/cuda/__init__.py:107: UserWarning: CUDA initialization: Unexpected error from cudaGetDeviceCount(). Did you run some cuda functions before calling NumCudaDevices() that might have already set an error? Error 804: forward compatibility was attempted on non supported HW (Triggered internally at ../c10/cuda/CUDAFunctions.cpp:109.)\n",
      "  return torch._C._cuda_getDeviceCount() > 0\n",
      "AVERAGE RMNSE ERROR ON TRAIN DATA SET: 1.3252955446318497 ± 0.004879062184458175\n",
      "AVG NUMBER OF ACCURATE 0.5 PREDICTIONS ON TRAIN DATA SET: 0.9381420124435484 ± 0.07901490261513444\n",
      "AVG NUMBER OF ACCURATE 1 PREDICTIONS ON TRAIN DATA SET: 1.91685963904937 ± 0.2057193197239126\n",
      "POWER SPECTRUM MEAN ERROR ON TRAIN DATA SET: 0.9920378560415898 ± 0.4906593366279414\n",
      "TEMPORAL DISTANCE ON TRAIN DATA SET: 0.13944921244203873 ± 0.003165516222429068\n",
      "GEOMETRICAL DISTANCE ON TRAIN DATA SET: 12.013763099499554 ± 0.0900662288948411\n",
      "\n",
      "\n",
      "AVERAGE RMNSE ERROR ON TEST DATA SET: 1.3325371396001175 ± 0.008337867209354706\n",
      "AVG NUMBER OF ACCURATE 0.5 PREDICTIONS ON TEST DATA SET: 0.9156563595952891 ± 0.05038138758482204\n",
      "AVG NUMBER OF ACCURATE 1 PREDICTIONS ON TEST DATA SET: 1.9858381831252334 ± 0.07467701450968853\n",
      "POWER SPECTRUM MEAN ERROR ON TEST DATA SET: 1.622358639446293 ± 0.4445234478555595\n",
      "TEMPORAL DISTANCE ON TEST DATA SET: 0.13838672710599606 ± 0.0027243134840286578\n",
      "GEOMETRICAL DISTANCE ON TEST DATA SET: 12.124413693445053 ± 0.09814336720350758\n"
     ]
    }
   ],
   "source": [
    "!bash ./1_Paralleled_ESN_Evaluate_Tuned_Model.sh \"evaluate_tuned_model\" 3000 1 1 7 \"grid_search.json\" 100000 60"
   ]
  },
  {
   "cell_type": "code",
   "execution_count": 14,
   "metadata": {},
   "outputs": [
    {
     "name": "stdout",
     "output_type": "stream",
     "text": [
      "{'radius': 0.9, 'sigma_input': 0.1}\n",
      "[tuf-4090:124763] shmem: mmap: an error occurred while determining whether or not /tmp/ompi.tuf-4090.1000/jf.0/3841523712/shared_mem_cuda_pool.tuf-4090 could be created.\n",
      "[tuf-4090:124763] create_and_attach: unable to create shared memory BTL coordinating structure :: size 134217728 \n",
      "/home/user/anaconda3/lib/python3.11/site-packages/torch/cuda/__init__.py:107: UserWarning: CUDA initialization: Unexpected error from cudaGetDeviceCount(). Did you run some cuda functions before calling NumCudaDevices() that might have already set an error? Error 804: forward compatibility was attempted on non supported HW (Triggered internally at ../c10/cuda/CUDAFunctions.cpp:109.)\n",
      "  return torch._C._cuda_getDeviceCount() > 0\n",
      "AVERAGE RMNSE ERROR ON TRAIN DATA SET: 1.310192169412915 ± 0.0067254963649117675\n",
      "AVG NUMBER OF ACCURATE 0.5 PREDICTIONS ON TRAIN DATA SET: 0.8951994874551433 ± 0.07539334942276558\n",
      "AVG NUMBER OF ACCURATE 1 PREDICTIONS ON TRAIN DATA SET: 1.959464033919756 ± 0.222699180191386\n",
      "POWER SPECTRUM MEAN ERROR ON TRAIN DATA SET: 1.3748661559611637 ± 0.4013239585562992\n",
      "TEMPORAL DISTANCE ON TRAIN DATA SET: 0.14844741315992735 ± 0.0030539057323890014\n",
      "GEOMETRICAL DISTANCE ON TRAIN DATA SET: 11.79308170584001 ± 0.06797651014023663\n",
      "\n",
      "\n",
      "AVERAGE RMNSE ERROR ON TEST DATA SET: 1.309637624220879 ± 0.0052652378253789395\n",
      "AVG NUMBER OF ACCURATE 0.5 PREDICTIONS ON TEST DATA SET: 0.8859009092096223 ± 0.04792032713004493\n",
      "AVG NUMBER OF ACCURATE 1 PREDICTIONS ON TEST DATA SET: 2.061579329561476 ± 0.09542580687195834\n",
      "POWER SPECTRUM MEAN ERROR ON TEST DATA SET: 1.905466714363735 ± 0.4473818709181461\n",
      "TEMPORAL DISTANCE ON TEST DATA SET: 0.14354045298812404 ± 0.0032753225235979417\n",
      "GEOMETRICAL DISTANCE ON TEST DATA SET: 11.866672434259883 ± 0.08275569197888352\n"
     ]
    }
   ],
   "source": [
    "!bash ./1_Paralleled_ESN_Evaluate_Tuned_Model.sh \"evaluate_tuned_model\" 3000 1 1 7 \"grid_search.json\" 100000 80"
   ]
  },
  {
   "cell_type": "code",
   "execution_count": 15,
   "metadata": {},
   "outputs": [
    {
     "name": "stdout",
     "output_type": "stream",
     "text": [
      "{'radius': 0.9, 'sigma_input': 0.1}\n",
      "[tuf-4090:124766] shmem: mmap: an error occurred while determining whether or not /tmp/ompi.tuf-4090.1000/jf.0/460128256/shared_mem_cuda_pool.tuf-4090 could be created.\n",
      "[tuf-4090:124766] create_and_attach: unable to create shared memory BTL coordinating structure :: size 134217728 \n",
      "/home/user/anaconda3/lib/python3.11/site-packages/torch/cuda/__init__.py:107: UserWarning: CUDA initialization: Unexpected error from cudaGetDeviceCount(). Did you run some cuda functions before calling NumCudaDevices() that might have already set an error? Error 804: forward compatibility was attempted on non supported HW (Triggered internally at ../c10/cuda/CUDAFunctions.cpp:109.)\n",
      "  return torch._C._cuda_getDeviceCount() > 0\n",
      "AVERAGE RMNSE ERROR ON TRAIN DATA SET: 1.297916286458268 ± 0.00762407141773954\n",
      "AVG NUMBER OF ACCURATE 0.5 PREDICTIONS ON TRAIN DATA SET: 0.8441418396342832 ± 0.055719955227862654\n",
      "AVG NUMBER OF ACCURATE 1 PREDICTIONS ON TRAIN DATA SET: 2.057690833204258 ± 0.24368304752584652\n",
      "POWER SPECTRUM MEAN ERROR ON TRAIN DATA SET: 1.1931197835023544 ± 0.42361394169086175\n",
      "TEMPORAL DISTANCE ON TRAIN DATA SET: 0.1575698371087815 ± 0.0054847041004868384\n",
      "GEOMETRICAL DISTANCE ON TRAIN DATA SET: 11.634321953500475 ± 0.05660659725280433\n",
      "\n",
      "\n",
      "AVERAGE RMNSE ERROR ON TEST DATA SET: 1.2975370251369598 ± 0.007719107276561638\n",
      "AVG NUMBER OF ACCURATE 0.5 PREDICTIONS ON TEST DATA SET: 0.8422821239851791 ± 0.05531709523019662\n",
      "AVG NUMBER OF ACCURATE 1 PREDICTIONS ON TEST DATA SET: 2.1055362449039388 ± 0.1518091264638401\n",
      "POWER SPECTRUM MEAN ERROR ON TEST DATA SET: 2.429067987556124 ± 0.4724517259909085\n",
      "TEMPORAL DISTANCE ON TEST DATA SET: 0.15834304962341292 ± 0.005525602300893645\n",
      "GEOMETRICAL DISTANCE ON TEST DATA SET: 11.702764098962131 ± 0.060505881895881325\n"
     ]
    }
   ],
   "source": [
    "!bash ./1_Paralleled_ESN_Evaluate_Tuned_Model.sh \"evaluate_tuned_model\" 3000 1 1 7 \"grid_search.json\" 100000 100"
   ]
  },
  {
   "cell_type": "code",
   "execution_count": 16,
   "metadata": {},
   "outputs": [
    {
     "name": "stdout",
     "output_type": "stream",
     "text": [
      "{'radius': 0.9, 'sigma_input': 0.1}\n",
      "[tuf-4090:124769] shmem: mmap: an error occurred while determining whether or not /tmp/ompi.tuf-4090.1000/jf.0/896794624/shared_mem_cuda_pool.tuf-4090 could be created.\n",
      "[tuf-4090:124769] create_and_attach: unable to create shared memory BTL coordinating structure :: size 134217728 \n",
      "/home/user/anaconda3/lib/python3.11/site-packages/torch/cuda/__init__.py:107: UserWarning: CUDA initialization: Unexpected error from cudaGetDeviceCount(). Did you run some cuda functions before calling NumCudaDevices() that might have already set an error? Error 804: forward compatibility was attempted on non supported HW (Triggered internally at ../c10/cuda/CUDAFunctions.cpp:109.)\n",
      "  return torch._C._cuda_getDeviceCount() > 0\n",
      "AVERAGE RMNSE ERROR ON TRAIN DATA SET: 1.282911937157944 ± 0.005766498709332793\n",
      "AVG NUMBER OF ACCURATE 0.5 PREDICTIONS ON TRAIN DATA SET: 0.7902100858102624 ± 0.05108563105626423\n",
      "AVG NUMBER OF ACCURATE 1 PREDICTIONS ON TRAIN DATA SET: 2.198860157477166 ± 0.16185663970244407\n",
      "POWER SPECTRUM MEAN ERROR ON TRAIN DATA SET: 1.756676772014952 ± 0.8386000681756727\n",
      "TEMPORAL DISTANCE ON TRAIN DATA SET: 0.1759600267935522 ± 0.007941884374496697\n",
      "GEOMETRICAL DISTANCE ON TRAIN DATA SET: 11.507112565534536 ± 0.12258464105065149\n",
      "\n",
      "\n",
      "AVERAGE RMNSE ERROR ON TEST DATA SET: 1.2852806803764232 ± 0.004878547466695673\n",
      "AVG NUMBER OF ACCURATE 0.5 PREDICTIONS ON TEST DATA SET: 0.7876741099251202 ± 0.05266831117444953\n",
      "AVG NUMBER OF ACCURATE 1 PREDICTIONS ON TEST DATA SET: 2.115511083385497 ± 0.15995743699891307\n",
      "POWER SPECTRUM MEAN ERROR ON TEST DATA SET: 2.3878725332073762 ± 0.5570429286957632\n",
      "TEMPORAL DISTANCE ON TEST DATA SET: 0.17343031271632628 ± 0.004530248663708877\n",
      "GEOMETRICAL DISTANCE ON TEST DATA SET: 11.518090517833846 ± 0.057882083866799675\n"
     ]
    }
   ],
   "source": [
    "!bash ./1_Paralleled_ESN_Evaluate_Tuned_Model.sh \"evaluate_tuned_model\" 3000 1 1 7 \"grid_search.json\" 100000 120"
   ]
  },
  {
   "cell_type": "code",
   "execution_count": 17,
   "metadata": {},
   "outputs": [
    {
     "name": "stdout",
     "output_type": "stream",
     "text": [
      "{'radius': 0.9, 'sigma_input': 0.1}\n",
      "[tuf-4090:124772] shmem: mmap: an error occurred while determining whether or not /tmp/ompi.tuf-4090.1000/jf.0/576520192/shared_mem_cuda_pool.tuf-4090 could be created.\n",
      "[tuf-4090:124772] create_and_attach: unable to create shared memory BTL coordinating structure :: size 134217728 \n",
      "/home/user/anaconda3/lib/python3.11/site-packages/torch/cuda/__init__.py:107: UserWarning: CUDA initialization: Unexpected error from cudaGetDeviceCount(). Did you run some cuda functions before calling NumCudaDevices() that might have already set an error? Error 804: forward compatibility was attempted on non supported HW (Triggered internally at ../c10/cuda/CUDAFunctions.cpp:109.)\n",
      "  return torch._C._cuda_getDeviceCount() > 0\n",
      "AVERAGE RMNSE ERROR ON TRAIN DATA SET: 1.2722873777954327 ± 0.006931845960479187\n",
      "AVG NUMBER OF ACCURATE 0.5 PREDICTIONS ON TRAIN DATA SET: 0.7247819079735975 ± 0.03588044928321957\n",
      "AVG NUMBER OF ACCURATE 1 PREDICTIONS ON TRAIN DATA SET: 2.2653027256678877 ± 0.22836234029409927\n",
      "POWER SPECTRUM MEAN ERROR ON TRAIN DATA SET: 1.9717899147176212 ± 0.6067412898654371\n",
      "TEMPORAL DISTANCE ON TRAIN DATA SET: 0.19701606190612692 ± 0.005570072649916185\n",
      "GEOMETRICAL DISTANCE ON TRAIN DATA SET: 11.35679254835855 ± 0.06606183999120478\n",
      "\n",
      "\n",
      "AVERAGE RMNSE ERROR ON TEST DATA SET: 1.2750807622991427 ± 0.006639027472591487\n",
      "AVG NUMBER OF ACCURATE 0.5 PREDICTIONS ON TEST DATA SET: 0.7271488187997301 ± 0.05551129632176302\n",
      "AVG NUMBER OF ACCURATE 1 PREDICTIONS ON TEST DATA SET: 2.1089175460841276 ± 0.11489261378871657\n",
      "POWER SPECTRUM MEAN ERROR ON TEST DATA SET: 2.7649484460975504 ± 0.653569490714713\n",
      "TEMPORAL DISTANCE ON TEST DATA SET: 0.1918831326546768 ± 0.0045026891022905595\n",
      "GEOMETRICAL DISTANCE ON TEST DATA SET: 11.383744719416077 ± 0.10458202881946618\n"
     ]
    }
   ],
   "source": [
    "!bash ./1_Paralleled_ESN_Evaluate_Tuned_Model.sh \"evaluate_tuned_model\" 3000 1 1 7 \"grid_search.json\" 100000 140"
   ]
  },
  {
   "cell_type": "code",
   "execution_count": 18,
   "metadata": {},
   "outputs": [
    {
     "name": "stdout",
     "output_type": "stream",
     "text": [
      "{'radius': 0.9, 'sigma_input': 0.1}\n",
      "[tuf-4090:124775] shmem: mmap: an error occurred while determining whether or not /tmp/ompi.tuf-4090.1000/jf.0/405864448/shared_mem_cuda_pool.tuf-4090 could be created.\n",
      "[tuf-4090:124775] create_and_attach: unable to create shared memory BTL coordinating structure :: size 134217728 \n",
      "/home/user/anaconda3/lib/python3.11/site-packages/torch/cuda/__init__.py:107: UserWarning: CUDA initialization: Unexpected error from cudaGetDeviceCount(). Did you run some cuda functions before calling NumCudaDevices() that might have already set an error? Error 804: forward compatibility was attempted on non supported HW (Triggered internally at ../c10/cuda/CUDAFunctions.cpp:109.)\n",
      "  return torch._C._cuda_getDeviceCount() > 0\n",
      "AVERAGE RMNSE ERROR ON TRAIN DATA SET: 1.2672772315404803 ± 0.006039586598424136\n",
      "AVG NUMBER OF ACCURATE 0.5 PREDICTIONS ON TRAIN DATA SET: 0.6662853975563209 ± 0.0293555563985554\n",
      "AVG NUMBER OF ACCURATE 1 PREDICTIONS ON TRAIN DATA SET: 2.2428170728196273 ± 0.2084911514136901\n",
      "POWER SPECTRUM MEAN ERROR ON TRAIN DATA SET: 2.2517144945193013 ± 0.7170712441251996\n",
      "TEMPORAL DISTANCE ON TRAIN DATA SET: 0.2190186665661597 ± 0.010892810997348389\n",
      "GEOMETRICAL DISTANCE ON TRAIN DATA SET: 11.332526933669868 ± 0.11306034669850061\n",
      "\n",
      "\n",
      "AVERAGE RMNSE ERROR ON TEST DATA SET: 1.2675136590751876 ± 0.008536331053115371\n",
      "AVG NUMBER OF ACCURATE 0.5 PREDICTIONS ON TEST DATA SET: 0.6755839758018418 ± 0.060901918331837786\n",
      "AVG NUMBER OF ACCURATE 1 PREDICTIONS ON TEST DATA SET: 2.069694452393931 ± 0.16848722154990184\n",
      "POWER SPECTRUM MEAN ERROR ON TEST DATA SET: 2.8558595827268767 ± 0.619169926010121\n",
      "TEMPORAL DISTANCE ON TEST DATA SET: 0.21637210054406125 ± 0.012403844815400026\n",
      "GEOMETRICAL DISTANCE ON TEST DATA SET: 11.342294250271445 ± 0.1155889386411602\n"
     ]
    }
   ],
   "source": [
    "!bash ./1_Paralleled_ESN_Evaluate_Tuned_Model.sh \"evaluate_tuned_model\" 3000 1 1 7 \"grid_search.json\" 100000 160"
   ]
  },
  {
   "cell_type": "code",
   "execution_count": 19,
   "metadata": {},
   "outputs": [
    {
     "name": "stdout",
     "output_type": "stream",
     "text": [
      "{'radius': 0.9, 'sigma_input': 0.1}\n",
      "[tuf-4090:124778] shmem: mmap: an error occurred while determining whether or not /tmp/ompi.tuf-4090.1000/jf.0/1188495360/shared_mem_cuda_pool.tuf-4090 could be created.\n",
      "[tuf-4090:124778] create_and_attach: unable to create shared memory BTL coordinating structure :: size 134217728 \n",
      "/home/user/anaconda3/lib/python3.11/site-packages/torch/cuda/__init__.py:107: UserWarning: CUDA initialization: Unexpected error from cudaGetDeviceCount(). Did you run some cuda functions before calling NumCudaDevices() that might have already set an error? Error 804: forward compatibility was attempted on non supported HW (Triggered internally at ../c10/cuda/CUDAFunctions.cpp:109.)\n",
      "  return torch._C._cuda_getDeviceCount() > 0\n",
      "AVERAGE RMNSE ERROR ON TRAIN DATA SET: 1.2564812042510831 ± 0.004822102249169768\n",
      "AVG NUMBER OF ACCURATE 0.5 PREDICTIONS ON TRAIN DATA SET: 0.6150586846764515 ± 0.026189263607293376\n",
      "AVG NUMBER OF ACCURATE 1 PREDICTIONS ON TRAIN DATA SET: 2.2693602870841145 ± 0.24314124245222282\n",
      "POWER SPECTRUM MEAN ERROR ON TRAIN DATA SET: 2.1103988500920523 ± 0.633602784456272\n",
      "TEMPORAL DISTANCE ON TRAIN DATA SET: 0.2610154932737976 ± 0.020538428972680708\n",
      "GEOMETRICAL DISTANCE ON TRAIN DATA SET: 11.438084933508012 ± 0.21681899269149202\n",
      "\n",
      "\n",
      "AVERAGE RMNSE ERROR ON TEST DATA SET: 1.2617147523874324 ± 0.0073586177846478185\n",
      "AVG NUMBER OF ACCURATE 0.5 PREDICTIONS ON TEST DATA SET: 0.624526327980982 ± 0.061574042255889944\n",
      "AVG NUMBER OF ACCURATE 1 PREDICTIONS ON TEST DATA SET: 1.9958130216067924 ± 0.23793917530111042\n",
      "POWER SPECTRUM MEAN ERROR ON TEST DATA SET: 2.6964860555910137 ± 0.6608726089856315\n",
      "TEMPORAL DISTANCE ON TEST DATA SET: 0.25659174842599414 ± 0.019472540137585398\n",
      "GEOMETRICAL DISTANCE ON TEST DATA SET: 11.437663836291614 ± 0.1815448715029536\n"
     ]
    }
   ],
   "source": [
    "!bash ./1_Paralleled_ESN_Evaluate_Tuned_Model.sh \"evaluate_tuned_model\" 3000 1 1 7 \"grid_search.json\" 100000 180"
   ]
  },
  {
   "cell_type": "code",
   "execution_count": 20,
   "metadata": {},
   "outputs": [
    {
     "name": "stdout",
     "output_type": "stream",
     "text": [
      "{'radius': 0.9, 'sigma_input': 0.1}\n",
      "[tuf-4090:124782] shmem: mmap: an error occurred while determining whether or not /tmp/ompi.tuf-4090.1000/jf.0/3126067200/shared_mem_cuda_pool.tuf-4090 could be created.\n",
      "[tuf-4090:124782] create_and_attach: unable to create shared memory BTL coordinating structure :: size 134217728 \n",
      "/home/user/anaconda3/lib/python3.11/site-packages/torch/cuda/__init__.py:107: UserWarning: CUDA initialization: Unexpected error from cudaGetDeviceCount(). Did you run some cuda functions before calling NumCudaDevices() that might have already set an error? Error 804: forward compatibility was attempted on non supported HW (Triggered internally at ../c10/cuda/CUDAFunctions.cpp:109.)\n",
      "  return torch._C._cuda_getDeviceCount() > 0\n",
      "AVERAGE RMNSE ERROR ON TRAIN DATA SET: 1.2615701323477628 ± 0.010399754819450508\n",
      "AVG NUMBER OF ACCURATE 0.5 PREDICTIONS ON TRAIN DATA SET: 0.5689039235668663 ± 0.02458429197457554\n",
      "AVG NUMBER OF ACCURATE 1 PREDICTIONS ON TRAIN DATA SET: 2.198183897241128 ± 0.20383918329044926\n",
      "POWER SPECTRUM MEAN ERROR ON TRAIN DATA SET: 2.6024928752764382 ± 1.1536547428508628\n",
      "TEMPORAL DISTANCE ON TRAIN DATA SET: 0.311312445429555 ± 0.033869677208216424\n",
      "GEOMETRICAL DISTANCE ON TRAIN DATA SET: 11.805882035060973 ± 0.5241176852318751\n",
      "\n",
      "\n",
      "AVERAGE RMNSE ERROR ON TEST DATA SET: 1.2644851352529665 ± 0.004845176936520038\n",
      "AVG NUMBER OF ACCURATE 0.5 PREDICTIONS ON TEST DATA SET: 0.5763427861632828 ± 0.050496141710175246\n",
      "AVG NUMBER OF ACCURATE 1 PREDICTIONS ON TEST DATA SET: 1.9838094024171198 ± 0.2398665600545218\n",
      "POWER SPECTRUM MEAN ERROR ON TEST DATA SET: 3.092964064957722 ± 1.104768572550238\n",
      "TEMPORAL DISTANCE ON TEST DATA SET: 0.3107444389529948 ± 0.03213440450845158\n",
      "GEOMETRICAL DISTANCE ON TEST DATA SET: 11.8723043150414 ± 0.5601149193531519\n"
     ]
    }
   ],
   "source": [
    "!bash ./1_Paralleled_ESN_Evaluate_Tuned_Model.sh \"evaluate_tuned_model\" 3000 1 1 7 \"grid_search.json\" 100000 200"
   ]
  },
  {
   "cell_type": "code",
   "execution_count": null,
   "metadata": {},
   "outputs": [],
   "source": []
  },
  {
   "cell_type": "code",
   "execution_count": null,
   "metadata": {},
   "outputs": [],
   "source": []
  },
  {
   "cell_type": "code",
   "execution_count": null,
   "metadata": {},
   "outputs": [],
   "source": []
  },
  {
   "cell_type": "code",
   "execution_count": null,
   "metadata": {},
   "outputs": [],
   "source": []
  },
  {
   "cell_type": "code",
   "execution_count": null,
   "metadata": {},
   "outputs": [],
   "source": []
  },
  {
   "cell_type": "code",
   "execution_count": null,
   "metadata": {},
   "outputs": [],
   "source": []
  },
  {
   "cell_type": "code",
   "execution_count": null,
   "metadata": {},
   "outputs": [],
   "source": []
  },
  {
   "cell_type": "code",
   "execution_count": null,
   "metadata": {},
   "outputs": [],
   "source": []
  }
 ],
 "metadata": {
  "kernelspec": {
   "display_name": "base",
   "language": "python",
   "name": "python3"
  },
  "language_info": {
   "codemirror_mode": {
    "name": "ipython",
    "version": 3
   },
   "file_extension": ".py",
   "mimetype": "text/x-python",
   "name": "python",
   "nbconvert_exporter": "python",
   "pygments_lexer": "ipython3",
   "version": "3.11.8"
  }
 },
 "nbformat": 4,
 "nbformat_minor": 4
}
