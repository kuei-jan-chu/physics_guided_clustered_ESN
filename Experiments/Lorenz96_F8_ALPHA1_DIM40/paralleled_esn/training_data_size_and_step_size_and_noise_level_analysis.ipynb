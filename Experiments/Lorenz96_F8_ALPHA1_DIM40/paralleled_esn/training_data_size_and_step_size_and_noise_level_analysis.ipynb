{
 "cells": [
  {
   "cell_type": "markdown",
   "id": "c3833f06",
   "metadata": {},
   "source": [
    "# Analyse the training data"
   ]
  },
  {
   "cell_type": "code",
   "execution_count": null,
   "id": "3a50af3f",
   "metadata": {},
   "outputs": [],
   "source": [
    "!bash ./1_Paralleled_ESN_Evaluate_Tuned_Model.sh \"evaluate_tuned_model\" 3000 1 1 7 \"grid_search.json\" 10000"
   ]
  },
  {
   "cell_type": "code",
   "execution_count": null,
   "id": "19e07e76",
   "metadata": {},
   "outputs": [],
   "source": [
    "!bash ./1_Paralleled_ESN_Evaluate_Tuned_Model.sh \"evaluate_tuned_model\" 3000 1 1 7 \"grid_search.json\"  20000"
   ]
  },
  {
   "cell_type": "code",
   "execution_count": null,
   "id": "46b430c9",
   "metadata": {},
   "outputs": [],
   "source": [
    "!bash ./1_Paralleled_ESN_Evaluate_Tuned_Model.sh \"evaluate_tuned_model\" 3000 1 1 7 \"grid_search.json\"  30000"
   ]
  },
  {
   "cell_type": "code",
   "execution_count": null,
   "id": "54c15d4b",
   "metadata": {},
   "outputs": [],
   "source": [
    "!bash ./1_Paralleled_ESN_Evaluate_Tuned_Model.sh \"evaluate_tuned_model\" 3000 1 1 7 \"grid_search.json\"  40000"
   ]
  },
  {
   "cell_type": "code",
   "execution_count": null,
   "id": "3464281c",
   "metadata": {},
   "outputs": [],
   "source": [
    "!bash ./1_Paralleled_ESN_Evaluate_Tuned_Model.sh \"evaluate_tuned_model\" 3000 1 1 7 \"grid_search.json\"  50000"
   ]
  },
  {
   "cell_type": "code",
   "execution_count": null,
   "id": "5ea71248",
   "metadata": {},
   "outputs": [],
   "source": [
    "!bash ./1_Paralleled_ESN_Evaluate_Tuned_Model.sh \"evaluate_tuned_model\" 3000 1 1 7 \"grid_search.json\"  60000"
   ]
  },
  {
   "cell_type": "code",
   "execution_count": null,
   "id": "e796a936",
   "metadata": {},
   "outputs": [],
   "source": [
    "!bash ./1_Paralleled_ESN_Evaluate_Tuned_Model.sh \"evaluate_tuned_model\" 3000 1 1 7 \"grid_search.json\"  70000"
   ]
  },
  {
   "cell_type": "code",
   "execution_count": null,
   "id": "9549b13c",
   "metadata": {},
   "outputs": [],
   "source": [
    "!bash ./1_Paralleled_ESN_Evaluate_Tuned_Model.sh \"evaluate_tuned_model\" 3000 1 1 7 \"grid_search.json\"  80000"
   ]
  },
  {
   "cell_type": "code",
   "execution_count": null,
   "id": "3857e26a",
   "metadata": {},
   "outputs": [],
   "source": [
    "!bash ./1_Paralleled_ESN_Evaluate_Tuned_Model.sh \"evaluate_tuned_model\" 3000 1 1 7 \"grid_search.json\"  90000"
   ]
  },
  {
   "cell_type": "markdown",
   "id": "d9e1b677",
   "metadata": {},
   "source": [
    "## step size analysis"
   ]
  },
  {
   "cell_type": "code",
   "execution_count": null,
   "id": "22e68384",
   "metadata": {},
   "outputs": [],
   "source": [
    "!bash ./1_Paralleled_ESN_Evaluate_Tuned_Model.sh \"evaluate_tuned_model\" 3000 1 1 7 \"grid_search.json\" 100000 5 2"
   ]
  },
  {
   "cell_type": "code",
   "execution_count": null,
   "id": "0dbc4549",
   "metadata": {},
   "outputs": [],
   "source": [
    "!bash ./1_Paralleled_ESN_Evaluate_Tuned_Model.sh \"evaluate_tuned_model\" 3000 1 1 7 \"grid_search.json\" 100000 5 3"
   ]
  },
  {
   "cell_type": "code",
   "execution_count": null,
   "id": "946303e5",
   "metadata": {},
   "outputs": [],
   "source": [
    "!bash ./1_Paralleled_ESN_Evaluate_Tuned_Model.sh \"evaluate_tuned_model\" 3000 1 1 7 \"grid_search.json\" 100000 5 4"
   ]
  },
  {
   "cell_type": "code",
   "execution_count": null,
   "id": "04dd3de0",
   "metadata": {},
   "outputs": [],
   "source": [
    "!bash ./1_Paralleled_ESN_Evaluate_Tuned_Model.sh \"evaluate_tuned_model\" 3000 1 1 7 \"grid_search.json\" 100000 5 5"
   ]
  },
  {
   "cell_type": "markdown",
   "id": "182d74ee",
   "metadata": {},
   "source": [
    "# Analyse the noise degree"
   ]
  },
  {
   "cell_type": "code",
   "execution_count": null,
   "id": "f64bebfd",
   "metadata": {},
   "outputs": [],
   "source": [
    "!bash ./1_Paralleled_ESN_Evaluate_Tuned_Model.sh \"evaluate_tuned_model\" 3000 1 1 7 \"grid_search.json\" 100000 0"
   ]
  },
  {
   "cell_type": "code",
   "execution_count": null,
   "id": "f25ce9d4",
   "metadata": {},
   "outputs": [],
   "source": [
    "!bash ./1_Paralleled_ESN_Evaluate_Tuned_Model.sh \"evaluate_tuned_model\" 3000 1 1 7 \"grid_search.json\" 100000 20"
   ]
  },
  {
   "cell_type": "code",
   "execution_count": null,
   "id": "7216767d",
   "metadata": {},
   "outputs": [],
   "source": [
    "!bash ./1_Paralleled_ESN_Evaluate_Tuned_Model.sh \"evaluate_tuned_model\" 3000 1 1 7 \"grid_search.json\" 100000 40"
   ]
  },
  {
   "cell_type": "code",
   "execution_count": null,
   "id": "b499542a",
   "metadata": {},
   "outputs": [],
   "source": [
    "!bash ./1_Paralleled_ESN_Evaluate_Tuned_Model.sh \"evaluate_tuned_model\" 3000 1 1 7 \"grid_search.json\" 100000 60"
   ]
  },
  {
   "cell_type": "code",
   "execution_count": null,
   "id": "608af816",
   "metadata": {},
   "outputs": [],
   "source": [
    "!bash ./1_Paralleled_ESN_Evaluate_Tuned_Model.sh \"evaluate_tuned_model\" 3000 1 1 7 \"grid_search.json\" 100000 80"
   ]
  },
  {
   "cell_type": "code",
   "execution_count": null,
   "id": "85e096b0",
   "metadata": {},
   "outputs": [],
   "source": [
    "!bash ./1_Paralleled_ESN_Evaluate_Tuned_Model.sh \"evaluate_tuned_model\" 3000 1 1 7 \"grid_search.json\" 100000 100"
   ]
  },
  {
   "cell_type": "code",
   "execution_count": null,
   "id": "ec43a983",
   "metadata": {},
   "outputs": [],
   "source": [
    "!bash ./1_Paralleled_ESN_Evaluate_Tuned_Model.sh \"evaluate_tuned_model\" 3000 1 1 7 \"grid_search.json\" 100000 120"
   ]
  },
  {
   "cell_type": "code",
   "execution_count": null,
   "id": "637e3c89",
   "metadata": {},
   "outputs": [],
   "source": [
    "!bash ./1_Paralleled_ESN_Evaluate_Tuned_Model.sh \"evaluate_tuned_model\" 3000 1 1 7 \"grid_search.json\" 100000 140"
   ]
  },
  {
   "cell_type": "code",
   "execution_count": null,
   "id": "11bd21a9",
   "metadata": {},
   "outputs": [],
   "source": [
    "!bash ./1_Paralleled_ESN_Evaluate_Tuned_Model.sh \"evaluate_tuned_model\" 3000 1 1 7 \"grid_search.json\" 100000 160"
   ]
  },
  {
   "cell_type": "code",
   "execution_count": null,
   "id": "11f9d914",
   "metadata": {},
   "outputs": [],
   "source": [
    "!bash ./1_Paralleled_ESN_Evaluate_Tuned_Model.sh \"evaluate_tuned_model\" 3000 1 1 7 \"grid_search.json\" 100000 180"
   ]
  },
  {
   "cell_type": "code",
   "execution_count": null,
   "id": "76a5481a",
   "metadata": {},
   "outputs": [],
   "source": [
    "!bash ./1_Paralleled_ESN_Evaluate_Tuned_Model.sh \"evaluate_tuned_model\" 3000 1 1 7 \"grid_search.json\" 100000 200"
   ]
  }
 ],
 "metadata": {
  "kernelspec": {
   "display_name": "pgc_esn",
   "language": "python",
   "name": "python3"
  },
  "language_info": {
   "codemirror_mode": {
    "name": "ipython",
    "version": 3
   },
   "file_extension": ".py",
   "mimetype": "text/x-python",
   "name": "python",
   "nbconvert_exporter": "python",
   "pygments_lexer": "ipython3",
   "version": "3.11.8"
  }
 },
 "nbformat": 4,
 "nbformat_minor": 5
}
