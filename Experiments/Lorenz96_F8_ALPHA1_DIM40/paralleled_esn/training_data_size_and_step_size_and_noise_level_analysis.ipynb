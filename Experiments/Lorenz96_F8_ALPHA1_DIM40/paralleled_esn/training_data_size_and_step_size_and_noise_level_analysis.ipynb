{
 "cells": [
  {
   "cell_type": "markdown",
   "id": "c3833f06",
   "metadata": {},
   "source": [
    "# Analyse the training data"
   ]
  },
  {
   "cell_type": "code",
   "execution_count": 1,
   "id": "3a50af3f",
   "metadata": {},
   "outputs": [
    {
     "name": "stdout",
     "output_type": "stream",
     "text": [
      "\n",
      "\n",
      "AVERAGE RMNSE ERROR ON TEST DATA SET: 1.3750449141129804 ± 0.005183535294437562\n",
      "AVG NUMBER OF ACCURATE 0.5 PREDICTIONS ON TEST DATA SET: 0.926476523371895 ± 0.03433311346055857\n",
      "AVG NUMBER OF ACCURATE 1 PREDICTIONS ON TEST DATA SET: 1.8125464976405268 ± 0.07465117408230239\n",
      "POWER SPECTRUM MEAN ERROR ON TEST DATA SET: 1.4915957430214033 ± 0.21271693647731862\n",
      "TEMPORAL DISTANCE ON TEST DATA SET: 0.14136788369105724 ± 0.002291829106205086\n",
      "GEOMETRICAL DISTANCE ON TEST DATA SET: 13.269539879175559 ± 0.0385389887826306\n"
     ]
    }
   ],
   "source": [
    "!bash ./1_Paralleled_ESN_Evaluate_Tuned_Model.sh \"evaluate_tuned_model\" 3000 1 1 7 \"grid_search.json\" 10000"
   ]
  },
  {
   "cell_type": "code",
   "execution_count": 2,
   "id": "19e07e76",
   "metadata": {},
   "outputs": [
    {
     "name": "stdout",
     "output_type": "stream",
     "text": [
      "\n",
      "\n",
      "AVERAGE RMNSE ERROR ON TEST DATA SET: 1.3577523344418354 ± 0.005902997060355801\n",
      "AVG NUMBER OF ACCURATE 0.5 PREDICTIONS ON TEST DATA SET: 0.9932572216806357 ± 0.03008455601537818\n",
      "AVG NUMBER OF ACCURATE 1 PREDICTIONS ON TEST DATA SET: 1.9420503328417809 ± 0.09369331755735466\n",
      "POWER SPECTRUM MEAN ERROR ON TEST DATA SET: 1.4025754286897818 ± 0.41000300567939774\n",
      "TEMPORAL DISTANCE ON TEST DATA SET: 0.13660302791007323 ± 0.003994372739919961\n",
      "GEOMETRICAL DISTANCE ON TEST DATA SET: 12.830312867800306 ± 0.07880199815054986\n"
     ]
    }
   ],
   "source": [
    "!bash ./1_Paralleled_ESN_Evaluate_Tuned_Model.sh \"evaluate_tuned_model\" 3000 1 1 7 \"grid_search.json\"  20000"
   ]
  },
  {
   "cell_type": "code",
   "execution_count": 3,
   "id": "46b430c9",
   "metadata": {},
   "outputs": [
    {
     "name": "stdout",
     "output_type": "stream",
     "text": [
      "\n",
      "\n",
      "AVERAGE RMNSE ERROR ON TEST DATA SET: 1.34457132366281 ± 0.005882669646515629\n",
      "AVG NUMBER OF ACCURATE 0.5 PREDICTIONS ON TEST DATA SET: 1.012023443230687 ± 0.050301898339945944\n",
      "AVG NUMBER OF ACCURATE 1 PREDICTIONS ON TEST DATA SET: 1.9748489542896184 ± 0.12284981958825139\n",
      "POWER SPECTRUM MEAN ERROR ON TEST DATA SET: 1.5631701358473913 ± 0.43626673800094146\n",
      "TEMPORAL DISTANCE ON TEST DATA SET: 0.14162155410918242 ± 0.0033765336457976876\n",
      "GEOMETRICAL DISTANCE ON TEST DATA SET: 12.52239321742996 ± 0.037254762525661386\n"
     ]
    }
   ],
   "source": [
    "!bash ./1_Paralleled_ESN_Evaluate_Tuned_Model.sh \"evaluate_tuned_model\" 3000 1 1 7 \"grid_search.json\"  30000"
   ]
  },
  {
   "cell_type": "code",
   "execution_count": 4,
   "id": "54c15d4b",
   "metadata": {},
   "outputs": [
    {
     "name": "stdout",
     "output_type": "stream",
     "text": [
      "\n",
      "\n",
      "AVERAGE RMNSE ERROR ON TEST DATA SET: 1.3424008414122992 ± 0.005526047175085583\n",
      "AVG NUMBER OF ACCURATE 0.5 PREDICTIONS ON TEST DATA SET: 1.0794804017754653 ± 0.06050663442361663\n",
      "AVG NUMBER OF ACCURATE 1 PREDICTIONS ON TEST DATA SET: 1.9995324529050005 ± 0.13050037614526633\n",
      "POWER SPECTRUM MEAN ERROR ON TEST DATA SET: 1.5574664656454915 ± 0.48151225575176076\n",
      "TEMPORAL DISTANCE ON TEST DATA SET: 0.14250056105488002 ± 0.0040652082793220055\n",
      "GEOMETRICAL DISTANCE ON TEST DATA SET: 12.443985496081456 ± 0.06453107590567189\n"
     ]
    }
   ],
   "source": [
    "!bash ./1_Paralleled_ESN_Evaluate_Tuned_Model.sh \"evaluate_tuned_model\" 3000 1 1 7 \"grid_search.json\"  40000"
   ]
  },
  {
   "cell_type": "code",
   "execution_count": 5,
   "id": "3464281c",
   "metadata": {},
   "outputs": [
    {
     "name": "stdout",
     "output_type": "stream",
     "text": [
      "\n",
      "\n",
      "AVERAGE RMNSE ERROR ON TEST DATA SET: 1.3355558877103613 ± 0.001725765142872934\n",
      "AVG NUMBER OF ACCURATE 0.5 PREDICTIONS ON TEST DATA SET: 1.0544587730420638 ± 0.047126714617243416\n",
      "AVG NUMBER OF ACCURATE 1 PREDICTIONS ON TEST DATA SET: 2.0137339178617966 ± 0.05261944567378713\n",
      "POWER SPECTRUM MEAN ERROR ON TEST DATA SET: 1.5159148666147055 ± 0.5888759103256217\n",
      "TEMPORAL DISTANCE ON TEST DATA SET: 0.1434179637712349 ± 0.005385288086660917\n",
      "GEOMETRICAL DISTANCE ON TEST DATA SET: 12.398061524223184 ± 0.10922298831567108\n"
     ]
    }
   ],
   "source": [
    "!bash ./1_Paralleled_ESN_Evaluate_Tuned_Model.sh \"evaluate_tuned_model\" 3000 1 1 7 \"grid_search.json\"  50000"
   ]
  },
  {
   "cell_type": "code",
   "execution_count": 6,
   "id": "5ea71248",
   "metadata": {},
   "outputs": [
    {
     "name": "stdout",
     "output_type": "stream",
     "text": [
      "\n",
      "\n",
      "AVERAGE RMNSE ERROR ON TEST DATA SET: 1.3405273230082568 ± 0.005486934690771311\n",
      "AVG NUMBER OF ACCURATE 0.5 PREDICTIONS ON TEST DATA SET: 1.07795881624438 ± 0.03750196855537305\n",
      "AVG NUMBER OF ACCURATE 1 PREDICTIONS ON TEST DATA SET: 2.040784327303311 ± 0.11614277359943928\n",
      "POWER SPECTRUM MEAN ERROR ON TEST DATA SET: 1.6590318480677706 ± 0.604094597075449\n",
      "TEMPORAL DISTANCE ON TEST DATA SET: 0.14107461407511618 ± 0.004054841456780644\n",
      "GEOMETRICAL DISTANCE ON TEST DATA SET: 12.416918583790073 ± 0.027694589787125287\n"
     ]
    }
   ],
   "source": [
    "!bash ./1_Paralleled_ESN_Evaluate_Tuned_Model.sh \"evaluate_tuned_model\" 3000 1 1 7 \"grid_search.json\"  60000"
   ]
  },
  {
   "cell_type": "code",
   "execution_count": 7,
   "id": "e796a936",
   "metadata": {},
   "outputs": [
    {
     "name": "stdout",
     "output_type": "stream",
     "text": [
      "\n",
      "\n",
      "AVERAGE RMNSE ERROR ON TEST DATA SET: 1.3380510920470443 ± 0.004134747489660213\n",
      "AVG NUMBER OF ACCURATE 0.5 PREDICTIONS ON TEST DATA SET: 1.079649466834475 ± 0.05938107858366538\n",
      "AVG NUMBER OF ACCURATE 1 PREDICTIONS ON TEST DATA SET: 1.956589927916595 ± 0.10749679748357956\n",
      "POWER SPECTRUM MEAN ERROR ON TEST DATA SET: 1.7206580289257452 ± 0.3559882960141028\n",
      "TEMPORAL DISTANCE ON TEST DATA SET: 0.1384849597589847 ± 0.0028274725785210468\n",
      "GEOMETRICAL DISTANCE ON TEST DATA SET: 12.39569815320125 ± 0.04234840681737719\n"
     ]
    }
   ],
   "source": [
    "!bash ./1_Paralleled_ESN_Evaluate_Tuned_Model.sh \"evaluate_tuned_model\" 3000 1 1 7 \"grid_search.json\"  70000"
   ]
  },
  {
   "cell_type": "code",
   "execution_count": 8,
   "id": "9549b13c",
   "metadata": {},
   "outputs": [
    {
     "name": "stdout",
     "output_type": "stream",
     "text": [
      "\n",
      "\n",
      "AVERAGE RMNSE ERROR ON TEST DATA SET: 1.3326854021690715 ± 0.003560146760587767\n",
      "AVG NUMBER OF ACCURATE 0.5 PREDICTIONS ON TEST DATA SET: 1.1119408931052837 ± 0.030063646799724758\n",
      "AVG NUMBER OF ACCURATE 1 PREDICTIONS ON TEST DATA SET: 2.112636977382336 ± 0.11192362288798757\n",
      "POWER SPECTRUM MEAN ERROR ON TEST DATA SET: 1.5858469308982155 ± 0.31774279110666326\n",
      "TEMPORAL DISTANCE ON TEST DATA SET: 0.13666798740636518 ± 0.003532751233325145\n",
      "GEOMETRICAL DISTANCE ON TEST DATA SET: 12.340444146612104 ± 0.07695814886569495\n"
     ]
    }
   ],
   "source": [
    "!bash ./1_Paralleled_ESN_Evaluate_Tuned_Model.sh \"evaluate_tuned_model\" 3000 1 1 7 \"grid_search.json\"  80000"
   ]
  },
  {
   "cell_type": "code",
   "execution_count": 9,
   "id": "3857e26a",
   "metadata": {},
   "outputs": [
    {
     "name": "stdout",
     "output_type": "stream",
     "text": [
      "\n",
      "\n",
      "AVERAGE RMNSE ERROR ON TEST DATA SET: 1.3379007631181241 ± 0.002666877633963054\n",
      "AVG NUMBER OF ACCURATE 0.5 PREDICTIONS ON TEST DATA SET: 1.1345956110125526 ± 0.06487980401929057\n",
      "AVG NUMBER OF ACCURATE 1 PREDICTIONS ON TEST DATA SET: 2.065636890977703 ± 0.05464124119970358\n",
      "POWER SPECTRUM MEAN ERROR ON TEST DATA SET: 1.6658449849735888 ± 0.3766441558195033\n",
      "TEMPORAL DISTANCE ON TEST DATA SET: 0.13273476247534954 ± 0.002134017212155091\n",
      "GEOMETRICAL DISTANCE ON TEST DATA SET: 12.321597564488233 ± 0.0810741892259796\n"
     ]
    }
   ],
   "source": [
    "!bash ./1_Paralleled_ESN_Evaluate_Tuned_Model.sh \"evaluate_tuned_model\" 3000 1 1 7 \"grid_search.json\"  90000"
   ]
  },
  {
   "cell_type": "markdown",
   "id": "d9e1b677",
   "metadata": {},
   "source": [
    "## step size analysis"
   ]
  },
  {
   "cell_type": "code",
   "execution_count": 10,
   "id": "22e68384",
   "metadata": {},
   "outputs": [
    {
     "name": "stdout",
     "output_type": "stream",
     "text": [
      "\n",
      "\n",
      "AVERAGE RMNSE ERROR ON TEST DATA SET: 1.2768246173690048 ± 0.004676869062770773\n",
      "AVG NUMBER OF ACCURATE 0.5 PREDICTIONS ON TEST DATA SET: 0.5582528248492695 ± 0.02335057166189205\n",
      "AVG NUMBER OF ACCURATE 1 PREDICTIONS ON TEST DATA SET: 1.0752537753002287 ± 0.04405434490124385\n",
      "POWER SPECTRUM MEAN ERROR ON TEST DATA SET: 2.7321893421874393 ± 0.5032043314452922\n",
      "TEMPORAL DISTANCE ON TEST DATA SET: 0.16435226702274647 ± 0.006166854846894855\n",
      "GEOMETRICAL DISTANCE ON TEST DATA SET: 11.522160540326613 ± 0.0815129983000979\n"
     ]
    }
   ],
   "source": [
    "!bash ./1_Paralleled_ESN_Evaluate_Tuned_Model.sh \"evaluate_tuned_model\" 3000 1 1 7 \"grid_search.json\" 100000 5 2"
   ]
  },
  {
   "cell_type": "code",
   "execution_count": 11,
   "id": "0dbc4549",
   "metadata": {},
   "outputs": [
    {
     "name": "stdout",
     "output_type": "stream",
     "text": [
      "\n",
      "\n",
      "AVERAGE RMNSE ERROR ON TEST DATA SET: 1.2354185570357965 ± 0.005115017087271637\n",
      "AVG NUMBER OF ACCURATE 0.5 PREDICTIONS ON TEST DATA SET: 0.35774166486403836 ± 0.021414610867112088\n",
      "AVG NUMBER OF ACCURATE 1 PREDICTIONS ON TEST DATA SET: 0.7058466213645369 ± 0.05550511712862439\n",
      "POWER SPECTRUM MEAN ERROR ON TEST DATA SET: 4.095712639491761 ± 0.5328546347657837\n",
      "TEMPORAL DISTANCE ON TEST DATA SET: 0.20748747692610542 ± 0.0076376911380534795\n",
      "GEOMETRICAL DISTANCE ON TEST DATA SET: 11.21181125443233 ± 0.08310242675651404\n"
     ]
    }
   ],
   "source": [
    "!bash ./1_Paralleled_ESN_Evaluate_Tuned_Model.sh \"evaluate_tuned_model\" 3000 1 1 7 \"grid_search.json\" 100000 5 3"
   ]
  },
  {
   "cell_type": "code",
   "execution_count": 12,
   "id": "946303e5",
   "metadata": {},
   "outputs": [
    {
     "name": "stdout",
     "output_type": "stream",
     "text": [
      "\n",
      "\n",
      "AVERAGE RMNSE ERROR ON TEST DATA SET: 1.188465119436027 ± 0.004128137108751756\n",
      "AVG NUMBER OF ACCURATE 0.5 PREDICTIONS ON TEST DATA SET: 0.25816234510746056 ± 0.008655404539373758\n",
      "AVG NUMBER OF ACCURATE 1 PREDICTIONS ON TEST DATA SET: 0.5239326178703473 ± 0.0299531568327837\n",
      "POWER SPECTRUM MEAN ERROR ON TEST DATA SET: 7.102393752619909 ± 0.4561309379353305\n",
      "TEMPORAL DISTANCE ON TEST DATA SET: 0.31856202067268297 ± 0.013160753256579553\n",
      "GEOMETRICAL DISTANCE ON TEST DATA SET: 11.433850058820516 ± 0.15175510394317498\n"
     ]
    }
   ],
   "source": [
    "!bash ./1_Paralleled_ESN_Evaluate_Tuned_Model.sh \"evaluate_tuned_model\" 3000 1 1 7 \"grid_search.json\" 100000 5 4"
   ]
  },
  {
   "cell_type": "code",
   "execution_count": 13,
   "id": "04dd3de0",
   "metadata": {},
   "outputs": [
    {
     "name": "stdout",
     "output_type": "stream",
     "text": [
      "/home/ec2-user/anaconda3/envs/pgc_esn/lib/python3.11/site-packages/numpy/_core/_methods.py:190: RuntimeWarning: invalid value encountered in subtract\n",
      "  x = asanyarray(arr - arrmean)\n",
      "\n",
      "\n",
      "AVERAGE RMNSE ERROR ON TEST DATA SET: 1.5449485171272586 ± 0.20243872134056884\n",
      "AVG NUMBER OF ACCURATE 0.5 PREDICTIONS ON TEST DATA SET: 0.19780611904107984 ± 0.008587439954894532\n",
      "AVG NUMBER OF ACCURATE 1 PREDICTIONS ON TEST DATA SET: 0.40913744280291714 ± 0.02425361870279728\n",
      "POWER SPECTRUM MEAN ERROR ON TEST DATA SET: 4.545386476540102 ± 1.1678427906782671\n",
      "TEMPORAL DISTANCE ON TEST DATA SET: 0.30735006073752297 ± 0.031929975160383525\n",
      "GEOMETRICAL DISTANCE ON TEST DATA SET: inf ± nan\n"
     ]
    }
   ],
   "source": [
    "!bash ./1_Paralleled_ESN_Evaluate_Tuned_Model.sh \"evaluate_tuned_model\" 3000 1 1 7 \"grid_search.json\" 100000 5 5"
   ]
  },
  {
   "cell_type": "markdown",
   "id": "182d74ee",
   "metadata": {},
   "source": [
    "# Analyse the noise degree"
   ]
  },
  {
   "cell_type": "code",
   "execution_count": null,
   "id": "f64bebfd",
   "metadata": {},
   "outputs": [
    {
     "name": "stdout",
     "output_type": "stream",
     "text": [
      "{'radius': 0.9, 'sigma_input': 0.1}\n",
      "[tuf-4090:124750] shmem: mmap: an error occurred while determining whether or not /tmp/ompi.tuf-4090.1000/jf.0/3563847680/shared_mem_cuda_pool.tuf-4090 could be created.\n",
      "[tuf-4090:124750] create_and_attach: unable to create shared memory BTL coordinating structure :: size 134217728 \n",
      "/home/user/anaconda3/lib/python3.11/site-packages/torch/cuda/__init__.py:107: UserWarning: CUDA initialization: Unexpected error from cudaGetDeviceCount(). Did you run some cuda functions before calling NumCudaDevices() that might have already set an error? Error 804: forward compatibility was attempted on non supported HW (Triggered internally at ../c10/cuda/CUDAFunctions.cpp:109.)\n",
      "  return torch._C._cuda_getDeviceCount() > 0\n",
      "AVERAGE RMNSE ERROR ON TRAIN DATA SET: 1.339040486571768 ± 0.004668864317036816\n",
      "AVG NUMBER OF ACCURATE 0.5 PREDICTIONS ON TRAIN DATA SET: 1.145922969966187 ± 0.058530704336984124\n",
      "AVG NUMBER OF ACCURATE 1 PREDICTIONS ON TRAIN DATA SET: 2.0656368909777036 ± 0.16114268279614705\n",
      "POWER SPECTRUM MEAN ERROR ON TRAIN DATA SET: 0.6379179117153426 ± 0.27782807431529105\n",
      "TEMPORAL DISTANCE ON TRAIN DATA SET: 0.13387625406608944 ± 0.00280186345669333\n",
      "GEOMETRICAL DISTANCE ON TRAIN DATA SET: 12.28886963674061 ± 0.07821344959395636\n",
      "\n",
      "\n",
      "AVERAGE RMNSE ERROR ON TEST DATA SET: 1.3382348288401693 ± 0.004705565842224044\n",
      "AVG NUMBER OF ACCURATE 0.5 PREDICTIONS ON TEST DATA SET: 1.1261423580620789 ± 0.06113730093524418\n",
      "AVG NUMBER OF ACCURATE 1 PREDICTIONS ON TEST DATA SET: 2.0375720911821316 ± 0.11255670574170533\n",
      "POWER SPECTRUM MEAN ERROR ON TEST DATA SET: 1.6496769578578783 ± 0.4250753145731163\n",
      "TEMPORAL DISTANCE ON TEST DATA SET: 0.13027781094257626 ± 0.0027296765407949612\n",
      "GEOMETRICAL DISTANCE ON TEST DATA SET: 12.365643650128618 ± 0.07931956212551682\n"
     ]
    }
   ],
   "source": [
    "!bash ./1_Paralleled_ESN_Evaluate_Tuned_Model.sh \"evaluate_tuned_model\" 3000 1 1 7 \"grid_search.json\" 100000 0"
   ]
  },
  {
   "cell_type": "code",
   "execution_count": null,
   "id": "f25ce9d4",
   "metadata": {},
   "outputs": [
    {
     "name": "stdout",
     "output_type": "stream",
     "text": [
      "{'radius': 0.9, 'sigma_input': 0.1}\n",
      "[tuf-4090:124753] shmem: mmap: an error occurred while determining whether or not /tmp/ompi.tuf-4090.1000/jf.0/666763264/shared_mem_cuda_pool.tuf-4090 could be created.\n",
      "[tuf-4090:124753] create_and_attach: unable to create shared memory BTL coordinating structure :: size 134217728 \n",
      "/home/user/anaconda3/lib/python3.11/site-packages/torch/cuda/__init__.py:107: UserWarning: CUDA initialization: Unexpected error from cudaGetDeviceCount(). Did you run some cuda functions before calling NumCudaDevices() that might have already set an error? Error 804: forward compatibility was attempted on non supported HW (Triggered internally at ../c10/cuda/CUDAFunctions.cpp:109.)\n",
      "  return torch._C._cuda_getDeviceCount() > 0\n",
      "AVERAGE RMNSE ERROR ON TRAIN DATA SET: 1.3366881009889338 ± 0.003247317433144403\n",
      "AVG NUMBER OF ACCURATE 0.5 PREDICTIONS ON TRAIN DATA SET: 1.1107574376922176 ± 0.06312265352784092\n",
      "AVG NUMBER OF ACCURATE 1 PREDICTIONS ON TRAIN DATA SET: 2.094039820891294 ± 0.144241726951851\n",
      "POWER SPECTRUM MEAN ERROR ON TRAIN DATA SET: 0.8801330933622639 ± 0.44039623855556864\n",
      "TEMPORAL DISTANCE ON TRAIN DATA SET: 0.13470770829303777 ± 0.0024847419153835827\n",
      "GEOMETRICAL DISTANCE ON TRAIN DATA SET: 12.319766836799452 ± 0.07169136263822351\n",
      "\n",
      "\n",
      "AVERAGE RMNSE ERROR ON TEST DATA SET: 1.3360346158789107 ± 0.0056486210003877345\n",
      "AVG NUMBER OF ACCURATE 0.5 PREDICTIONS ON TEST DATA SET: 1.0867501993128728 ± 0.05581605533725694\n",
      "AVG NUMBER OF ACCURATE 1 PREDICTIONS ON TEST DATA SET: 2.1589608035509307 ± 0.07630061765247843\n",
      "POWER SPECTRUM MEAN ERROR ON TEST DATA SET: 1.4605298627011412 ± 0.5974998064743338\n",
      "TEMPORAL DISTANCE ON TEST DATA SET: 0.1326102805923492 ± 0.003509935134467858\n",
      "GEOMETRICAL DISTANCE ON TEST DATA SET: 12.370640238154872 ± 0.07977679204969709\n"
     ]
    }
   ],
   "source": [
    "!bash ./1_Paralleled_ESN_Evaluate_Tuned_Model.sh \"evaluate_tuned_model\" 3000 1 1 7 \"grid_search.json\" 100000 20"
   ]
  },
  {
   "cell_type": "code",
   "execution_count": null,
   "id": "7216767d",
   "metadata": {},
   "outputs": [
    {
     "name": "stdout",
     "output_type": "stream",
     "text": [
      "{'radius': 0.9, 'sigma_input': 0.1}\n",
      "[tuf-4090:124756] shmem: mmap: an error occurred while determining whether or not /tmp/ompi.tuf-4090.1000/jf.0/3908960256/shared_mem_cuda_pool.tuf-4090 could be created.\n",
      "[tuf-4090:124756] create_and_attach: unable to create shared memory BTL coordinating structure :: size 134217728 \n",
      "/home/user/anaconda3/lib/python3.11/site-packages/torch/cuda/__init__.py:107: UserWarning: CUDA initialization: Unexpected error from cudaGetDeviceCount(). Did you run some cuda functions before calling NumCudaDevices() that might have already set an error? Error 804: forward compatibility was attempted on non supported HW (Triggered internally at ../c10/cuda/CUDAFunctions.cpp:109.)\n",
      "  return torch._C._cuda_getDeviceCount() > 0\n",
      "AVERAGE RMNSE ERROR ON TRAIN DATA SET: 1.3542834878101715 ± 0.051673579926663285\n",
      "AVG NUMBER OF ACCURATE 0.5 PREDICTIONS ON TRAIN DATA SET: 0.9908903108545031 ± 0.06864728448461864\n",
      "AVG NUMBER OF ACCURATE 1 PREDICTIONS ON TRAIN DATA SET: 1.9109423619840384 ± 0.1938904996267306\n",
      "POWER SPECTRUM MEAN ERROR ON TRAIN DATA SET: 0.7921159225479746 ± 0.46180200046235553\n",
      "TEMPORAL DISTANCE ON TRAIN DATA SET: 0.14117767020837324 ± 0.0029068361087810014\n",
      "GEOMETRICAL DISTANCE ON TRAIN DATA SET: 12.354376683849292 ± 0.2603781296163381\n",
      "\n",
      "\n",
      "AVERAGE RMNSE ERROR ON TEST DATA SET: 1.3391304739501237 ± 0.008336784966793713\n",
      "AVG NUMBER OF ACCURATE 0.5 PREDICTIONS ON TEST DATA SET: 0.9790557567238402 ± 0.06252413558549905\n",
      "AVG NUMBER OF ACCURATE 1 PREDICTIONS ON TEST DATA SET: 1.9880360288923566 ± 0.062074510566940605\n",
      "POWER SPECTRUM MEAN ERROR ON TEST DATA SET: 1.4278522090889971 ± 0.5707270643680077\n",
      "TEMPORAL DISTANCE ON TEST DATA SET: 0.13450496433785963 ± 0.003588054089813921\n",
      "GEOMETRICAL DISTANCE ON TEST DATA SET: 12.288226520839629 ± 0.07555153187468776\n"
     ]
    }
   ],
   "source": [
    "!bash ./1_Paralleled_ESN_Evaluate_Tuned_Model.sh \"evaluate_tuned_model\" 3000 1 1 7 \"grid_search.json\" 100000 40"
   ]
  },
  {
   "cell_type": "code",
   "execution_count": null,
   "id": "b499542a",
   "metadata": {},
   "outputs": [
    {
     "name": "stdout",
     "output_type": "stream",
     "text": [
      "{'radius': 0.9, 'sigma_input': 0.1}\n",
      "[tuf-4090:124760] shmem: mmap: an error occurred while determining whether or not /tmp/ompi.tuf-4090.1000/jf.0/2841706496/shared_mem_cuda_pool.tuf-4090 could be created.\n",
      "[tuf-4090:124760] create_and_attach: unable to create shared memory BTL coordinating structure :: size 134217728 \n",
      "/home/user/anaconda3/lib/python3.11/site-packages/torch/cuda/__init__.py:107: UserWarning: CUDA initialization: Unexpected error from cudaGetDeviceCount(). Did you run some cuda functions before calling NumCudaDevices() that might have already set an error? Error 804: forward compatibility was attempted on non supported HW (Triggered internally at ../c10/cuda/CUDAFunctions.cpp:109.)\n",
      "  return torch._C._cuda_getDeviceCount() > 0\n",
      "AVERAGE RMNSE ERROR ON TRAIN DATA SET: 1.3252955446318497 ± 0.004879062184458175\n",
      "AVG NUMBER OF ACCURATE 0.5 PREDICTIONS ON TRAIN DATA SET: 0.9381420124435484 ± 0.07901490261513444\n",
      "AVG NUMBER OF ACCURATE 1 PREDICTIONS ON TRAIN DATA SET: 1.91685963904937 ± 0.2057193197239126\n",
      "POWER SPECTRUM MEAN ERROR ON TRAIN DATA SET: 0.9920378560415898 ± 0.4906593366279414\n",
      "TEMPORAL DISTANCE ON TRAIN DATA SET: 0.13944921244203873 ± 0.003165516222429068\n",
      "GEOMETRICAL DISTANCE ON TRAIN DATA SET: 12.013763099499554 ± 0.0900662288948411\n",
      "\n",
      "\n",
      "AVERAGE RMNSE ERROR ON TEST DATA SET: 1.3325371396001175 ± 0.008337867209354706\n",
      "AVG NUMBER OF ACCURATE 0.5 PREDICTIONS ON TEST DATA SET: 0.9156563595952891 ± 0.05038138758482204\n",
      "AVG NUMBER OF ACCURATE 1 PREDICTIONS ON TEST DATA SET: 1.9858381831252334 ± 0.07467701450968853\n",
      "POWER SPECTRUM MEAN ERROR ON TEST DATA SET: 1.622358639446293 ± 0.4445234478555595\n",
      "TEMPORAL DISTANCE ON TEST DATA SET: 0.13838672710599606 ± 0.0027243134840286578\n",
      "GEOMETRICAL DISTANCE ON TEST DATA SET: 12.124413693445053 ± 0.09814336720350758\n"
     ]
    }
   ],
   "source": [
    "!bash ./1_Paralleled_ESN_Evaluate_Tuned_Model.sh \"evaluate_tuned_model\" 3000 1 1 7 \"grid_search.json\" 100000 60"
   ]
  },
  {
   "cell_type": "code",
   "execution_count": null,
   "id": "608af816",
   "metadata": {},
   "outputs": [
    {
     "name": "stdout",
     "output_type": "stream",
     "text": [
      "{'radius': 0.9, 'sigma_input': 0.1}\n",
      "[tuf-4090:124763] shmem: mmap: an error occurred while determining whether or not /tmp/ompi.tuf-4090.1000/jf.0/3841523712/shared_mem_cuda_pool.tuf-4090 could be created.\n",
      "[tuf-4090:124763] create_and_attach: unable to create shared memory BTL coordinating structure :: size 134217728 \n",
      "/home/user/anaconda3/lib/python3.11/site-packages/torch/cuda/__init__.py:107: UserWarning: CUDA initialization: Unexpected error from cudaGetDeviceCount(). Did you run some cuda functions before calling NumCudaDevices() that might have already set an error? Error 804: forward compatibility was attempted on non supported HW (Triggered internally at ../c10/cuda/CUDAFunctions.cpp:109.)\n",
      "  return torch._C._cuda_getDeviceCount() > 0\n",
      "AVERAGE RMNSE ERROR ON TRAIN DATA SET: 1.310192169412915 ± 0.0067254963649117675\n",
      "AVG NUMBER OF ACCURATE 0.5 PREDICTIONS ON TRAIN DATA SET: 0.8951994874551433 ± 0.07539334942276558\n",
      "AVG NUMBER OF ACCURATE 1 PREDICTIONS ON TRAIN DATA SET: 1.959464033919756 ± 0.222699180191386\n",
      "POWER SPECTRUM MEAN ERROR ON TRAIN DATA SET: 1.3748661559611637 ± 0.4013239585562992\n",
      "TEMPORAL DISTANCE ON TRAIN DATA SET: 0.14844741315992735 ± 0.0030539057323890014\n",
      "GEOMETRICAL DISTANCE ON TRAIN DATA SET: 11.79308170584001 ± 0.06797651014023663\n",
      "\n",
      "\n",
      "AVERAGE RMNSE ERROR ON TEST DATA SET: 1.309637624220879 ± 0.0052652378253789395\n",
      "AVG NUMBER OF ACCURATE 0.5 PREDICTIONS ON TEST DATA SET: 0.8859009092096223 ± 0.04792032713004493\n",
      "AVG NUMBER OF ACCURATE 1 PREDICTIONS ON TEST DATA SET: 2.061579329561476 ± 0.09542580687195834\n",
      "POWER SPECTRUM MEAN ERROR ON TEST DATA SET: 1.905466714363735 ± 0.4473818709181461\n",
      "TEMPORAL DISTANCE ON TEST DATA SET: 0.14354045298812404 ± 0.0032753225235979417\n",
      "GEOMETRICAL DISTANCE ON TEST DATA SET: 11.866672434259883 ± 0.08275569197888352\n"
     ]
    }
   ],
   "source": [
    "!bash ./1_Paralleled_ESN_Evaluate_Tuned_Model.sh \"evaluate_tuned_model\" 3000 1 1 7 \"grid_search.json\" 100000 80"
   ]
  },
  {
   "cell_type": "code",
   "execution_count": null,
   "id": "85e096b0",
   "metadata": {},
   "outputs": [
    {
     "name": "stdout",
     "output_type": "stream",
     "text": [
      "{'radius': 0.9, 'sigma_input': 0.1}\n",
      "[tuf-4090:124766] shmem: mmap: an error occurred while determining whether or not /tmp/ompi.tuf-4090.1000/jf.0/460128256/shared_mem_cuda_pool.tuf-4090 could be created.\n",
      "[tuf-4090:124766] create_and_attach: unable to create shared memory BTL coordinating structure :: size 134217728 \n",
      "/home/user/anaconda3/lib/python3.11/site-packages/torch/cuda/__init__.py:107: UserWarning: CUDA initialization: Unexpected error from cudaGetDeviceCount(). Did you run some cuda functions before calling NumCudaDevices() that might have already set an error? Error 804: forward compatibility was attempted on non supported HW (Triggered internally at ../c10/cuda/CUDAFunctions.cpp:109.)\n",
      "  return torch._C._cuda_getDeviceCount() > 0\n",
      "AVERAGE RMNSE ERROR ON TRAIN DATA SET: 1.297916286458268 ± 0.00762407141773954\n",
      "AVG NUMBER OF ACCURATE 0.5 PREDICTIONS ON TRAIN DATA SET: 0.8441418396342832 ± 0.055719955227862654\n",
      "AVG NUMBER OF ACCURATE 1 PREDICTIONS ON TRAIN DATA SET: 2.057690833204258 ± 0.24368304752584652\n",
      "POWER SPECTRUM MEAN ERROR ON TRAIN DATA SET: 1.1931197835023544 ± 0.42361394169086175\n",
      "TEMPORAL DISTANCE ON TRAIN DATA SET: 0.1575698371087815 ± 0.0054847041004868384\n",
      "GEOMETRICAL DISTANCE ON TRAIN DATA SET: 11.634321953500475 ± 0.05660659725280433\n",
      "\n",
      "\n",
      "AVERAGE RMNSE ERROR ON TEST DATA SET: 1.2975370251369598 ± 0.007719107276561638\n",
      "AVG NUMBER OF ACCURATE 0.5 PREDICTIONS ON TEST DATA SET: 0.8422821239851791 ± 0.05531709523019662\n",
      "AVG NUMBER OF ACCURATE 1 PREDICTIONS ON TEST DATA SET: 2.1055362449039388 ± 0.1518091264638401\n",
      "POWER SPECTRUM MEAN ERROR ON TEST DATA SET: 2.429067987556124 ± 0.4724517259909085\n",
      "TEMPORAL DISTANCE ON TEST DATA SET: 0.15834304962341292 ± 0.005525602300893645\n",
      "GEOMETRICAL DISTANCE ON TEST DATA SET: 11.702764098962131 ± 0.060505881895881325\n"
     ]
    }
   ],
   "source": [
    "!bash ./1_Paralleled_ESN_Evaluate_Tuned_Model.sh \"evaluate_tuned_model\" 3000 1 1 7 \"grid_search.json\" 100000 100"
   ]
  },
  {
   "cell_type": "code",
   "execution_count": null,
   "id": "ec43a983",
   "metadata": {},
   "outputs": [
    {
     "name": "stdout",
     "output_type": "stream",
     "text": [
      "{'radius': 0.9, 'sigma_input': 0.1}\n",
      "[tuf-4090:124769] shmem: mmap: an error occurred while determining whether or not /tmp/ompi.tuf-4090.1000/jf.0/896794624/shared_mem_cuda_pool.tuf-4090 could be created.\n",
      "[tuf-4090:124769] create_and_attach: unable to create shared memory BTL coordinating structure :: size 134217728 \n",
      "/home/user/anaconda3/lib/python3.11/site-packages/torch/cuda/__init__.py:107: UserWarning: CUDA initialization: Unexpected error from cudaGetDeviceCount(). Did you run some cuda functions before calling NumCudaDevices() that might have already set an error? Error 804: forward compatibility was attempted on non supported HW (Triggered internally at ../c10/cuda/CUDAFunctions.cpp:109.)\n",
      "  return torch._C._cuda_getDeviceCount() > 0\n",
      "AVERAGE RMNSE ERROR ON TRAIN DATA SET: 1.282911937157944 ± 0.005766498709332793\n",
      "AVG NUMBER OF ACCURATE 0.5 PREDICTIONS ON TRAIN DATA SET: 0.7902100858102624 ± 0.05108563105626423\n",
      "AVG NUMBER OF ACCURATE 1 PREDICTIONS ON TRAIN DATA SET: 2.198860157477166 ± 0.16185663970244407\n",
      "POWER SPECTRUM MEAN ERROR ON TRAIN DATA SET: 1.756676772014952 ± 0.8386000681756727\n",
      "TEMPORAL DISTANCE ON TRAIN DATA SET: 0.1759600267935522 ± 0.007941884374496697\n",
      "GEOMETRICAL DISTANCE ON TRAIN DATA SET: 11.507112565534536 ± 0.12258464105065149\n",
      "\n",
      "\n",
      "AVERAGE RMNSE ERROR ON TEST DATA SET: 1.2852806803764232 ± 0.004878547466695673\n",
      "AVG NUMBER OF ACCURATE 0.5 PREDICTIONS ON TEST DATA SET: 0.7876741099251202 ± 0.05266831117444953\n",
      "AVG NUMBER OF ACCURATE 1 PREDICTIONS ON TEST DATA SET: 2.115511083385497 ± 0.15995743699891307\n",
      "POWER SPECTRUM MEAN ERROR ON TEST DATA SET: 2.3878725332073762 ± 0.5570429286957632\n",
      "TEMPORAL DISTANCE ON TEST DATA SET: 0.17343031271632628 ± 0.004530248663708877\n",
      "GEOMETRICAL DISTANCE ON TEST DATA SET: 11.518090517833846 ± 0.057882083866799675\n"
     ]
    }
   ],
   "source": [
    "!bash ./1_Paralleled_ESN_Evaluate_Tuned_Model.sh \"evaluate_tuned_model\" 3000 1 1 7 \"grid_search.json\" 100000 120"
   ]
  },
  {
   "cell_type": "code",
   "execution_count": null,
   "id": "637e3c89",
   "metadata": {},
   "outputs": [
    {
     "name": "stdout",
     "output_type": "stream",
     "text": [
      "{'radius': 0.9, 'sigma_input': 0.1}\n",
      "[tuf-4090:124772] shmem: mmap: an error occurred while determining whether or not /tmp/ompi.tuf-4090.1000/jf.0/576520192/shared_mem_cuda_pool.tuf-4090 could be created.\n",
      "[tuf-4090:124772] create_and_attach: unable to create shared memory BTL coordinating structure :: size 134217728 \n",
      "/home/user/anaconda3/lib/python3.11/site-packages/torch/cuda/__init__.py:107: UserWarning: CUDA initialization: Unexpected error from cudaGetDeviceCount(). Did you run some cuda functions before calling NumCudaDevices() that might have already set an error? Error 804: forward compatibility was attempted on non supported HW (Triggered internally at ../c10/cuda/CUDAFunctions.cpp:109.)\n",
      "  return torch._C._cuda_getDeviceCount() > 0\n",
      "AVERAGE RMNSE ERROR ON TRAIN DATA SET: 1.2722873777954327 ± 0.006931845960479187\n",
      "AVG NUMBER OF ACCURATE 0.5 PREDICTIONS ON TRAIN DATA SET: 0.7247819079735975 ± 0.03588044928321957\n",
      "AVG NUMBER OF ACCURATE 1 PREDICTIONS ON TRAIN DATA SET: 2.2653027256678877 ± 0.22836234029409927\n",
      "POWER SPECTRUM MEAN ERROR ON TRAIN DATA SET: 1.9717899147176212 ± 0.6067412898654371\n",
      "TEMPORAL DISTANCE ON TRAIN DATA SET: 0.19701606190612692 ± 0.005570072649916185\n",
      "GEOMETRICAL DISTANCE ON TRAIN DATA SET: 11.35679254835855 ± 0.06606183999120478\n",
      "\n",
      "\n",
      "AVERAGE RMNSE ERROR ON TEST DATA SET: 1.2750807622991427 ± 0.006639027472591487\n",
      "AVG NUMBER OF ACCURATE 0.5 PREDICTIONS ON TEST DATA SET: 0.7271488187997301 ± 0.05551129632176302\n",
      "AVG NUMBER OF ACCURATE 1 PREDICTIONS ON TEST DATA SET: 2.1089175460841276 ± 0.11489261378871657\n",
      "POWER SPECTRUM MEAN ERROR ON TEST DATA SET: 2.7649484460975504 ± 0.653569490714713\n",
      "TEMPORAL DISTANCE ON TEST DATA SET: 0.1918831326546768 ± 0.0045026891022905595\n",
      "GEOMETRICAL DISTANCE ON TEST DATA SET: 11.383744719416077 ± 0.10458202881946618\n"
     ]
    }
   ],
   "source": [
    "!bash ./1_Paralleled_ESN_Evaluate_Tuned_Model.sh \"evaluate_tuned_model\" 3000 1 1 7 \"grid_search.json\" 100000 140"
   ]
  },
  {
   "cell_type": "code",
   "execution_count": null,
   "id": "11bd21a9",
   "metadata": {},
   "outputs": [
    {
     "name": "stdout",
     "output_type": "stream",
     "text": [
      "{'radius': 0.9, 'sigma_input': 0.1}\n",
      "[tuf-4090:124775] shmem: mmap: an error occurred while determining whether or not /tmp/ompi.tuf-4090.1000/jf.0/405864448/shared_mem_cuda_pool.tuf-4090 could be created.\n",
      "[tuf-4090:124775] create_and_attach: unable to create shared memory BTL coordinating structure :: size 134217728 \n",
      "/home/user/anaconda3/lib/python3.11/site-packages/torch/cuda/__init__.py:107: UserWarning: CUDA initialization: Unexpected error from cudaGetDeviceCount(). Did you run some cuda functions before calling NumCudaDevices() that might have already set an error? Error 804: forward compatibility was attempted on non supported HW (Triggered internally at ../c10/cuda/CUDAFunctions.cpp:109.)\n",
      "  return torch._C._cuda_getDeviceCount() > 0\n",
      "AVERAGE RMNSE ERROR ON TRAIN DATA SET: 1.2672772315404803 ± 0.006039586598424136\n",
      "AVG NUMBER OF ACCURATE 0.5 PREDICTIONS ON TRAIN DATA SET: 0.6662853975563209 ± 0.0293555563985554\n",
      "AVG NUMBER OF ACCURATE 1 PREDICTIONS ON TRAIN DATA SET: 2.2428170728196273 ± 0.2084911514136901\n",
      "POWER SPECTRUM MEAN ERROR ON TRAIN DATA SET: 2.2517144945193013 ± 0.7170712441251996\n",
      "TEMPORAL DISTANCE ON TRAIN DATA SET: 0.2190186665661597 ± 0.010892810997348389\n",
      "GEOMETRICAL DISTANCE ON TRAIN DATA SET: 11.332526933669868 ± 0.11306034669850061\n",
      "\n",
      "\n",
      "AVERAGE RMNSE ERROR ON TEST DATA SET: 1.2675136590751876 ± 0.008536331053115371\n",
      "AVG NUMBER OF ACCURATE 0.5 PREDICTIONS ON TEST DATA SET: 0.6755839758018418 ± 0.060901918331837786\n",
      "AVG NUMBER OF ACCURATE 1 PREDICTIONS ON TEST DATA SET: 2.069694452393931 ± 0.16848722154990184\n",
      "POWER SPECTRUM MEAN ERROR ON TEST DATA SET: 2.8558595827268767 ± 0.619169926010121\n",
      "TEMPORAL DISTANCE ON TEST DATA SET: 0.21637210054406125 ± 0.012403844815400026\n",
      "GEOMETRICAL DISTANCE ON TEST DATA SET: 11.342294250271445 ± 0.1155889386411602\n"
     ]
    }
   ],
   "source": [
    "!bash ./1_Paralleled_ESN_Evaluate_Tuned_Model.sh \"evaluate_tuned_model\" 3000 1 1 7 \"grid_search.json\" 100000 160"
   ]
  },
  {
   "cell_type": "code",
   "execution_count": null,
   "id": "11f9d914",
   "metadata": {},
   "outputs": [
    {
     "name": "stdout",
     "output_type": "stream",
     "text": [
      "{'radius': 0.9, 'sigma_input': 0.1}\n",
      "[tuf-4090:124778] shmem: mmap: an error occurred while determining whether or not /tmp/ompi.tuf-4090.1000/jf.0/1188495360/shared_mem_cuda_pool.tuf-4090 could be created.\n",
      "[tuf-4090:124778] create_and_attach: unable to create shared memory BTL coordinating structure :: size 134217728 \n",
      "/home/user/anaconda3/lib/python3.11/site-packages/torch/cuda/__init__.py:107: UserWarning: CUDA initialization: Unexpected error from cudaGetDeviceCount(). Did you run some cuda functions before calling NumCudaDevices() that might have already set an error? Error 804: forward compatibility was attempted on non supported HW (Triggered internally at ../c10/cuda/CUDAFunctions.cpp:109.)\n",
      "  return torch._C._cuda_getDeviceCount() > 0\n",
      "AVERAGE RMNSE ERROR ON TRAIN DATA SET: 1.2564812042510831 ± 0.004822102249169768\n",
      "AVG NUMBER OF ACCURATE 0.5 PREDICTIONS ON TRAIN DATA SET: 0.6150586846764515 ± 0.026189263607293376\n",
      "AVG NUMBER OF ACCURATE 1 PREDICTIONS ON TRAIN DATA SET: 2.2693602870841145 ± 0.24314124245222282\n",
      "POWER SPECTRUM MEAN ERROR ON TRAIN DATA SET: 2.1103988500920523 ± 0.633602784456272\n",
      "TEMPORAL DISTANCE ON TRAIN DATA SET: 0.2610154932737976 ± 0.020538428972680708\n",
      "GEOMETRICAL DISTANCE ON TRAIN DATA SET: 11.438084933508012 ± 0.21681899269149202\n",
      "\n",
      "\n",
      "AVERAGE RMNSE ERROR ON TEST DATA SET: 1.2617147523874324 ± 0.0073586177846478185\n",
      "AVG NUMBER OF ACCURATE 0.5 PREDICTIONS ON TEST DATA SET: 0.624526327980982 ± 0.061574042255889944\n",
      "AVG NUMBER OF ACCURATE 1 PREDICTIONS ON TEST DATA SET: 1.9958130216067924 ± 0.23793917530111042\n",
      "POWER SPECTRUM MEAN ERROR ON TEST DATA SET: 2.6964860555910137 ± 0.6608726089856315\n",
      "TEMPORAL DISTANCE ON TEST DATA SET: 0.25659174842599414 ± 0.019472540137585398\n",
      "GEOMETRICAL DISTANCE ON TEST DATA SET: 11.437663836291614 ± 0.1815448715029536\n"
     ]
    }
   ],
   "source": [
    "!bash ./1_Paralleled_ESN_Evaluate_Tuned_Model.sh \"evaluate_tuned_model\" 3000 1 1 7 \"grid_search.json\" 100000 180"
   ]
  },
  {
   "cell_type": "code",
   "execution_count": null,
   "id": "76a5481a",
   "metadata": {},
   "outputs": [
    {
     "name": "stdout",
     "output_type": "stream",
     "text": [
      "{'radius': 0.9, 'sigma_input': 0.1}\n",
      "[tuf-4090:124782] shmem: mmap: an error occurred while determining whether or not /tmp/ompi.tuf-4090.1000/jf.0/3126067200/shared_mem_cuda_pool.tuf-4090 could be created.\n",
      "[tuf-4090:124782] create_and_attach: unable to create shared memory BTL coordinating structure :: size 134217728 \n",
      "/home/user/anaconda3/lib/python3.11/site-packages/torch/cuda/__init__.py:107: UserWarning: CUDA initialization: Unexpected error from cudaGetDeviceCount(). Did you run some cuda functions before calling NumCudaDevices() that might have already set an error? Error 804: forward compatibility was attempted on non supported HW (Triggered internally at ../c10/cuda/CUDAFunctions.cpp:109.)\n",
      "  return torch._C._cuda_getDeviceCount() > 0\n",
      "AVERAGE RMNSE ERROR ON TRAIN DATA SET: 1.2615701323477628 ± 0.010399754819450508\n",
      "AVG NUMBER OF ACCURATE 0.5 PREDICTIONS ON TRAIN DATA SET: 0.5689039235668663 ± 0.02458429197457554\n",
      "AVG NUMBER OF ACCURATE 1 PREDICTIONS ON TRAIN DATA SET: 2.198183897241128 ± 0.20383918329044926\n",
      "POWER SPECTRUM MEAN ERROR ON TRAIN DATA SET: 2.6024928752764382 ± 1.1536547428508628\n",
      "TEMPORAL DISTANCE ON TRAIN DATA SET: 0.311312445429555 ± 0.033869677208216424\n",
      "GEOMETRICAL DISTANCE ON TRAIN DATA SET: 11.805882035060973 ± 0.5241176852318751\n",
      "\n",
      "\n",
      "AVERAGE RMNSE ERROR ON TEST DATA SET: 1.2644851352529665 ± 0.004845176936520038\n",
      "AVG NUMBER OF ACCURATE 0.5 PREDICTIONS ON TEST DATA SET: 0.5763427861632828 ± 0.050496141710175246\n",
      "AVG NUMBER OF ACCURATE 1 PREDICTIONS ON TEST DATA SET: 1.9838094024171198 ± 0.2398665600545218\n",
      "POWER SPECTRUM MEAN ERROR ON TEST DATA SET: 3.092964064957722 ± 1.104768572550238\n",
      "TEMPORAL DISTANCE ON TEST DATA SET: 0.3107444389529948 ± 0.03213440450845158\n",
      "GEOMETRICAL DISTANCE ON TEST DATA SET: 11.8723043150414 ± 0.5601149193531519\n"
     ]
    }
   ],
   "source": [
    "!bash ./1_Paralleled_ESN_Evaluate_Tuned_Model.sh \"evaluate_tuned_model\" 3000 1 1 7 \"grid_search.json\" 100000 200"
   ]
  },
  {
   "cell_type": "code",
   "execution_count": null,
   "id": "58db8b8c",
   "metadata": {},
   "outputs": [],
   "source": []
  },
  {
   "cell_type": "code",
   "execution_count": null,
   "id": "700d30c6",
   "metadata": {},
   "outputs": [],
   "source": []
  },
  {
   "cell_type": "code",
   "execution_count": null,
   "id": "1e5d0d44",
   "metadata": {},
   "outputs": [],
   "source": []
  },
  {
   "cell_type": "code",
   "execution_count": null,
   "id": "e15a841a",
   "metadata": {},
   "outputs": [],
   "source": []
  },
  {
   "cell_type": "code",
   "execution_count": null,
   "id": "9ba7435f",
   "metadata": {},
   "outputs": [],
   "source": []
  },
  {
   "cell_type": "code",
   "execution_count": null,
   "id": "b79b65b3",
   "metadata": {},
   "outputs": [],
   "source": []
  },
  {
   "cell_type": "code",
   "execution_count": null,
   "id": "d3e3f4d5",
   "metadata": {},
   "outputs": [],
   "source": []
  },
  {
   "cell_type": "code",
   "execution_count": null,
   "id": "8c97a713",
   "metadata": {},
   "outputs": [],
   "source": []
  },
  {
   "cell_type": "code",
   "execution_count": null,
   "id": "a90a7ee7",
   "metadata": {},
   "outputs": [],
   "source": []
  }
 ],
 "metadata": {
  "kernelspec": {
   "display_name": "pgc_esn",
   "language": "python",
   "name": "python3"
  },
  "language_info": {
   "codemirror_mode": {
    "name": "ipython",
    "version": 3
   },
   "file_extension": ".py",
   "mimetype": "text/x-python",
   "name": "python",
   "nbconvert_exporter": "python",
   "pygments_lexer": "ipython3",
   "version": "3.11.8"
  }
 },
 "nbformat": 4,
 "nbformat_minor": 5
}
