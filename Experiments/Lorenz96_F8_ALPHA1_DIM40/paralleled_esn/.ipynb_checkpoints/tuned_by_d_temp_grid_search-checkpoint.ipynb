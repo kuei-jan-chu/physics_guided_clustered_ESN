{
 "cells": [
  {
   "cell_type": "markdown",
   "metadata": {},
   "source": [
    "## Parallel ESN"
   ]
  },
  {
   "cell_type": "code",
   "execution_count": 12,
   "metadata": {},
   "outputs": [
    {
     "name": "stdout",
     "output_type": "stream",
     "text": [
      "Grid Search Progress:   0%|                                               | 0/25 [00:00<?, ?trial/s][tuf-4090:78754] shmem: mmap: an error occurred while determining whether or not /tmp/ompi.tuf-4090.1000/jf.0/1547042816/shared_mem_cuda_pool.tuf-4090 could be created.\n",
      "[tuf-4090:78754] create_and_attach: unable to create shared memory BTL coordinating structure :: size 134217728 \n",
      "Grid Search Progress: 100%|███████████████| 25/25 [34:58<00:00, 83.94s/trial, Current Best Loss=inf]\n",
      "/home/user/kuei_jan_CHU/PGClustered_ESN/Methods/./Utils/hyper_tuning_utils.py:382: UserWarning: All hyperparameter trials failed or returned infinite loss. Randomly selecting a hyperparameter set.\n",
      "  warnings.warn(\"All hyperparameter trials failed or returned infinite loss. Randomly selecting a hyperparameter set.\")\n",
      "{'radius': 0.7, 'sigma_input': 1.0}\n"
     ]
    }
   ],
   "source": [
    "!bash ./0_Paralleled_ESN_Tune.sh \"tune\" 40 1 1 0 \"grid_search.json\" "
   ]
  },
  {
   "cell_type": "code",
   "execution_count": 2,
   "metadata": {},
   "outputs": [
    {
     "name": "stdout",
     "output_type": "stream",
     "text": [
      "{'radius': 0.7, 'sigma_input': 1.0}\n",
      "[tuf-4090:496546] shmem: mmap: an error occurred while determining whether or not /tmp/ompi.tuf-4090.1000/jf.0/3372613632/shared_mem_cuda_pool.tuf-4090 could be created.\n",
      "[tuf-4090:496546] create_and_attach: unable to create shared memory BTL coordinating structure :: size 134217728 \n",
      "/home/user/anaconda3/lib/python3.11/site-packages/numpy/core/_methods.py:236: RuntimeWarning: invalid value encountered in subtract\n",
      "  x = asanyarray(arr - arrmean)\n",
      "AVERAGE RMNSE ERROR ON TRAIN DATA SET: 0.9988557424371709 ± 0.0008865179817382914\n",
      "AVG NUMBER OF ACCURATE 0.5 PREDICTIONS ON TRAIN DATA SET: 0.0 ± 0.0\n",
      "AVG NUMBER OF ACCURATE 1 PREDICTIONS ON TRAIN DATA SET: 0.5575765646132318 ± 0.08119981998117738\n",
      "POWER SPECTRUM MEAN ERROR ON TRAIN DATA SET: inf ± nan\n",
      "TEMPORAL DISTANCE ON TRAIN DATA SET: nan ± nan\n",
      "GEOMETRICAL DISTANCE ON TRAIN DATA SET: 14.023030828716212 ± 0.05537673056644543\n",
      "\n",
      "\n",
      "AVERAGE RMNSE ERROR ON TEST DATA SET: 1.0002093548673345 ± 0.0007457064201316598\n",
      "AVG NUMBER OF ACCURATE 0.5 PREDICTIONS ON TEST DATA SET: 0.0 ± 0.0\n",
      "AVG NUMBER OF ACCURATE 1 PREDICTIONS ON TEST DATA SET: 0.2615436462876499 ± 0.016004131055072722\n",
      "POWER SPECTRUM MEAN ERROR ON TEST DATA SET: inf ± nan\n",
      "TEMPORAL DISTANCE ON TEST DATA SET: nan ± nan\n",
      "GEOMETRICAL DISTANCE ON TEST DATA SET: 14.149494491307365 ± 0.07021798199860188\n"
     ]
    }
   ],
   "source": [
    "!bash ./1_Paralleled_ESN_Evaluate_Tuned_Model.sh \"evaluate_tuned_model\" 40 1 1 0 \"grid_search.json\" "
   ]
  },
  {
   "cell_type": "code",
   "execution_count": 1,
   "metadata": {},
   "outputs": [
    {
     "name": "stdout",
     "output_type": "stream",
     "text": [
      "Grid Search Progress:   0%|                                               | 0/25 [00:00<?, ?trial/s][tuf-4090:115481] shmem: mmap: an error occurred while determining whether or not /tmp/ompi.tuf-4090.1000/jf.0/4267704320/shared_mem_cuda_pool.tuf-4090 could be created.\n",
      "[tuf-4090:115481] create_and_attach: unable to create shared memory BTL coordinating structure :: size 134217728 \n",
      "Grid Search Progress: 100%|███████████| 25/25 [36:48<00:00, 88.34s/trial, Current Best Loss=0.55988]\n",
      "{'radius': 0.99, 'sigma_input': 0.1}\n"
     ]
    }
   ],
   "source": [
    "!bash ./0_Paralleled_ESN_Tune.sh \"tune\" 250 1 1 1 \"grid_search.json\" "
   ]
  },
  {
   "cell_type": "code",
   "execution_count": 3,
   "metadata": {},
   "outputs": [
    {
     "name": "stdout",
     "output_type": "stream",
     "text": [
      "{'radius': 0.99, 'sigma_input': 0.1}\n",
      "[tuf-4090:496553] shmem: mmap: an error occurred while determining whether or not /tmp/ompi.tuf-4090.1000/jf.0/1889271808/shared_mem_cuda_pool.tuf-4090 could be created.\n",
      "[tuf-4090:496553] create_and_attach: unable to create shared memory BTL coordinating structure :: size 134217728 \n",
      "/home/user/anaconda3/lib/python3.11/site-packages/numpy/core/_methods.py:236: RuntimeWarning: invalid value encountered in subtract\n",
      "  x = asanyarray(arr - arrmean)\n",
      "AVERAGE RMNSE ERROR ON TRAIN DATA SET: 2.0686594770200926 ± 0.21179636014126954\n",
      "AVG NUMBER OF ACCURATE 0.5 PREDICTIONS ON TRAIN DATA SET: 0.0008453252950473497 ± 0.0008453252950473497\n",
      "AVG NUMBER OF ACCURATE 1 PREDICTIONS ON TRAIN DATA SET: 0.07303610549209101 ± 0.008810868980248764\n",
      "POWER SPECTRUM MEAN ERROR ON TRAIN DATA SET: inf ± nan\n",
      "TEMPORAL DISTANCE ON TRAIN DATA SET: 0.6241886191963977 ± 0.12924076622711184\n",
      "GEOMETRICAL DISTANCE ON TRAIN DATA SET: inf ± nan\n",
      "\n",
      "\n",
      "AVERAGE RMNSE ERROR ON TEST DATA SET: 1.9947324744745818 ± 0.16445934833878817\n",
      "AVG NUMBER OF ACCURATE 0.5 PREDICTIONS ON TEST DATA SET: 0.00016906505900946993 ± 0.0005071951770284098\n",
      "AVG NUMBER OF ACCURATE 1 PREDICTIONS ON TEST DATA SET: 0.06509004771864593 ± 0.009951888003104674\n",
      "POWER SPECTRUM MEAN ERROR ON TEST DATA SET: inf ± nan\n",
      "TEMPORAL DISTANCE ON TEST DATA SET: 0.5978897546842752 ± 0.14137791199695127\n",
      "GEOMETRICAL DISTANCE ON TEST DATA SET: inf ± nan\n"
     ]
    }
   ],
   "source": [
    "!bash ./1_Paralleled_ESN_Evaluate_Tuned_Model.sh \"evaluate_tuned_model\" 250 1 1 1 \"grid_search.json\" "
   ]
  },
  {
   "cell_type": "code",
   "execution_count": 3,
   "metadata": {},
   "outputs": [
    {
     "name": "stdout",
     "output_type": "stream",
     "text": [
      "Grid Search Progress:   0%|                                               | 0/25 [00:00<?, ?trial/s][tuf-4090:132477] shmem: mmap: an error occurred while determining whether or not /tmp/ompi.tuf-4090.1000/jf.0/2749038592/shared_mem_cuda_pool.tuf-4090 could be created.\n",
      "[tuf-4090:132477] create_and_attach: unable to create shared memory BTL coordinating structure :: size 134217728 \n",
      "Grid Search Progress: 100%|███████████| 25/25 [39:42<00:00, 95.29s/trial, Current Best Loss=0.48549]\n",
      "{'radius': 0.1, 'sigma_input': 0.1}\n"
     ]
    }
   ],
   "source": [
    "!bash ./0_Paralleled_ESN_Tune.sh \"tune\" 500 1 1 2 \"grid_search.json\" "
   ]
  },
  {
   "cell_type": "code",
   "execution_count": 4,
   "metadata": {},
   "outputs": [
    {
     "name": "stdout",
     "output_type": "stream",
     "text": [
      "{'radius': 0.1, 'sigma_input': 0.1}\n",
      "[tuf-4090:496561] shmem: mmap: an error occurred while determining whether or not /tmp/ompi.tuf-4090.1000/jf.0/4093706240/shared_mem_cuda_pool.tuf-4090 could be created.\n",
      "[tuf-4090:496561] create_and_attach: unable to create shared memory BTL coordinating structure :: size 134217728 \n",
      "/home/user/anaconda3/lib/python3.11/site-packages/numpy/core/_methods.py:236: RuntimeWarning: invalid value encountered in subtract\n",
      "  x = asanyarray(arr - arrmean)\n",
      "AVERAGE RMNSE ERROR ON TRAIN DATA SET: 4.605088177892545 ± 0.6093213394102244\n",
      "AVG NUMBER OF ACCURATE 0.5 PREDICTIONS ON TRAIN DATA SET: 0.25190693792411023 ± 0.016804760708722114\n",
      "AVG NUMBER OF ACCURATE 1 PREDICTIONS ON TRAIN DATA SET: 0.5628175814425254 ± 0.05137714403635753\n",
      "POWER SPECTRUM MEAN ERROR ON TRAIN DATA SET: 7.372416857476862 ± 6.321200864489001\n",
      "TEMPORAL DISTANCE ON TRAIN DATA SET: 0.40136614860276787 ± 0.08132513989892484\n",
      "GEOMETRICAL DISTANCE ON TRAIN DATA SET: inf ± nan\n",
      "\n",
      "\n",
      "AVERAGE RMNSE ERROR ON TEST DATA SET: 4.520577913335462 ± 0.613064852109749\n",
      "AVG NUMBER OF ACCURATE 0.5 PREDICTIONS ON TEST DATA SET: 0.23855079826236208 ± 0.01904441159823699\n",
      "AVG NUMBER OF ACCURATE 1 PREDICTIONS ON TEST DATA SET: 0.533231196115868 ± 0.04382145457246247\n",
      "POWER SPECTRUM MEAN ERROR ON TEST DATA SET: 8.008206177742187 ± 5.25759997564202\n",
      "TEMPORAL DISTANCE ON TEST DATA SET: 0.38218627847907005 ± 0.047646499690607004\n",
      "GEOMETRICAL DISTANCE ON TEST DATA SET: inf ± nan\n"
     ]
    }
   ],
   "source": [
    "!bash ./1_Paralleled_ESN_Evaluate_Tuned_Model.sh \"evaluate_tuned_model\" 500 1 1 2 \"grid_search.json\" "
   ]
  },
  {
   "cell_type": "code",
   "execution_count": 5,
   "metadata": {},
   "outputs": [
    {
     "name": "stdout",
     "output_type": "stream",
     "text": [
      "Grid Search Progress:   0%|                                               | 0/25 [00:00<?, ?trial/s][tuf-4090:150142] shmem: mmap: an error occurred while determining whether or not /tmp/ompi.tuf-4090.1000/jf.0/2698575872/shared_mem_cuda_pool.tuf-4090 could be created.\n",
      "[tuf-4090:150142] create_and_attach: unable to create shared memory BTL coordinating structure :: size 134217728 \n",
      "Grid Search Progress: 100%|██████████| 25/25 [41:47<00:00, 100.30s/trial, Current Best Loss=0.26069]\n",
      "{'radius': 0.1, 'sigma_input': 0.1}\n"
     ]
    }
   ],
   "source": [
    "!bash ./0_Paralleled_ESN_Tune.sh \"tune\" 1000 1 1 3 \"grid_search.json\" "
   ]
  },
  {
   "cell_type": "code",
   "execution_count": 5,
   "metadata": {},
   "outputs": [
    {
     "name": "stdout",
     "output_type": "stream",
     "text": [
      "{'radius': 0.1, 'sigma_input': 0.1}\n",
      "[tuf-4090:496568] shmem: mmap: an error occurred while determining whether or not /tmp/ompi.tuf-4090.1000/jf.0/96010240/shared_mem_cuda_pool.tuf-4090 could be created.\n",
      "[tuf-4090:496568] create_and_attach: unable to create shared memory BTL coordinating structure :: size 134217728 \n",
      "/home/user/anaconda3/lib/python3.11/site-packages/numpy/core/_methods.py:236: RuntimeWarning: invalid value encountered in subtract\n",
      "  x = asanyarray(arr - arrmean)\n",
      "AVERAGE RMNSE ERROR ON TRAIN DATA SET: 2.040445130355374 ± 0.26870478466593495\n",
      "AVG NUMBER OF ACCURATE 0.5 PREDICTIONS ON TRAIN DATA SET: 0.6006881546606466 ± 0.032529540843041875\n",
      "AVG NUMBER OF ACCURATE 1 PREDICTIONS ON TRAIN DATA SET: 1.204926675560492 ± 0.08156596292471813\n",
      "POWER SPECTRUM MEAN ERROR ON TRAIN DATA SET: 1.1835654456174194 ± 0.3604541554107579\n",
      "TEMPORAL DISTANCE ON TRAIN DATA SET: 0.2598824200674973 ± 0.033026345025307935\n",
      "GEOMETRICAL DISTANCE ON TRAIN DATA SET: inf ± nan\n",
      "\n",
      "\n",
      "AVERAGE RMNSE ERROR ON TEST DATA SET: 1.9726285084752946 ± 0.20185529163774305\n",
      "AVG NUMBER OF ACCURATE 0.5 PREDICTIONS ON TEST DATA SET: 0.5773571765173398 ± 0.04588644970046389\n",
      "AVG NUMBER OF ACCURATE 1 PREDICTIONS ON TEST DATA SET: 1.2390778174804051 ± 0.12318904381423412\n",
      "POWER SPECTRUM MEAN ERROR ON TEST DATA SET: 1.3229341948643616 ± 1.2371398680974375\n",
      "TEMPORAL DISTANCE ON TEST DATA SET: 0.250720528923779 ± 0.028742981263831124\n",
      "GEOMETRICAL DISTANCE ON TEST DATA SET: inf ± nan\n"
     ]
    }
   ],
   "source": [
    "!bash ./1_Paralleled_ESN_Evaluate_Tuned_Model.sh \"evaluate_tuned_model\" 1000 1 1 3 \"grid_search.json\" "
   ]
  },
  {
   "cell_type": "code",
   "execution_count": 7,
   "metadata": {},
   "outputs": [
    {
     "name": "stdout",
     "output_type": "stream",
     "text": [
      "Grid Search Progress:   0%|                                               | 0/25 [00:00<?, ?trial/s][tuf-4090:165887] shmem: mmap: an error occurred while determining whether or not /tmp/ompi.tuf-4090.1000/jf.0/2437152768/shared_mem_cuda_pool.tuf-4090 could be created.\n",
      "[tuf-4090:165887] create_and_attach: unable to create shared memory BTL coordinating structure :: size 134217728 \n",
      "Grid Search Progress: 100%|██████████| 25/25 [44:23<00:00, 106.55s/trial, Current Best Loss=0.17602]\n",
      "{'radius': 0.7, 'sigma_input': 0.1}\n"
     ]
    }
   ],
   "source": [
    "!bash ./0_Paralleled_ESN_Tune.sh \"tune\" 1500 1 1 4 \"grid_search.json\" "
   ]
  },
  {
   "cell_type": "code",
   "execution_count": 6,
   "metadata": {},
   "outputs": [
    {
     "name": "stdout",
     "output_type": "stream",
     "text": [
      "{'radius': 0.7, 'sigma_input': 0.1}\n",
      "[tuf-4090:496575] shmem: mmap: an error occurred while determining whether or not /tmp/ompi.tuf-4090.1000/jf.0/3907125248/shared_mem_cuda_pool.tuf-4090 could be created.\n",
      "[tuf-4090:496575] create_and_attach: unable to create shared memory BTL coordinating structure :: size 134217728 \n",
      "AVERAGE RMNSE ERROR ON TRAIN DATA SET: 1.3141738589456808 ± 0.006704738724080599\n",
      "AVG NUMBER OF ACCURATE 0.5 PREDICTIONS ON TRAIN DATA SET: 0.8811670875573572 ± 0.025793366831110474\n",
      "AVG NUMBER OF ACCURATE 1 PREDICTIONS ON TRAIN DATA SET: 1.6243770869629865 ± 0.07621740880359758\n",
      "POWER SPECTRUM MEAN ERROR ON TRAIN DATA SET: 1.702124400151933 ± 0.5208249952087308\n",
      "TEMPORAL DISTANCE ON TRAIN DATA SET: 0.17563772988338383 ± 0.0042585059050797595\n",
      "GEOMETRICAL DISTANCE ON TRAIN DATA SET: 12.269749309522327 ± 0.0656953894391968\n",
      "\n",
      "\n",
      "AVERAGE RMNSE ERROR ON TEST DATA SET: 1.3123227765870638 ± 0.004380446716651904\n",
      "AVG NUMBER OF ACCURATE 0.5 PREDICTIONS ON TEST DATA SET: 0.842620254103198 ± 0.039448352754205745\n",
      "AVG NUMBER OF ACCURATE 1 PREDICTIONS ON TEST DATA SET: 1.7286902283718297 ± 0.1116476004038707\n",
      "POWER SPECTRUM MEAN ERROR ON TEST DATA SET: 2.038589397787388 ± 0.5647993133422561\n",
      "TEMPORAL DISTANCE ON TEST DATA SET: 0.17356428040494956 ± 0.003907096685215208\n",
      "GEOMETRICAL DISTANCE ON TEST DATA SET: 12.321134288908517 ± 0.10664158018649418\n"
     ]
    }
   ],
   "source": [
    "!bash ./1_Paralleled_ESN_Evaluate_Tuned_Model.sh \"evaluate_tuned_model\" 1500 1 1 4 \"grid_search.json\" "
   ]
  },
  {
   "cell_type": "code",
   "execution_count": 9,
   "metadata": {},
   "outputs": [
    {
     "name": "stdout",
     "output_type": "stream",
     "text": [
      "Grid Search Progress:   0%|                                               | 0/25 [00:00<?, ?trial/s][tuf-4090:182553] shmem: mmap: an error occurred while determining whether or not /tmp/ompi.tuf-4090.1000/jf.0/30867456/shared_mem_cuda_pool.tuf-4090 could be created.\n",
      "[tuf-4090:182553] create_and_attach: unable to create shared memory BTL coordinating structure :: size 134217728 \n",
      "Grid Search Progress: 100%|██████████| 25/25 [47:23<00:00, 113.75s/trial, Current Best Loss=0.15379]\n",
      "{'radius': 0.9, 'sigma_input': 0.1}\n"
     ]
    }
   ],
   "source": [
    "!bash ./0_Paralleled_ESN_Tune.sh \"tune\" 2000 1 1 5 \"grid_search.json\" "
   ]
  },
  {
   "cell_type": "code",
   "execution_count": 7,
   "metadata": {},
   "outputs": [
    {
     "name": "stdout",
     "output_type": "stream",
     "text": [
      "{'radius': 0.9, 'sigma_input': 0.1}\n",
      "[tuf-4090:496582] shmem: mmap: an error occurred while determining whether or not /tmp/ompi.tuf-4090.1000/jf.0/2243493888/shared_mem_cuda_pool.tuf-4090 could be created.\n",
      "[tuf-4090:496582] create_and_attach: unable to create shared memory BTL coordinating structure :: size 134217728 \n",
      "AVERAGE RMNSE ERROR ON TRAIN DATA SET: 1.3595326207737266 ± 0.005695801447456632\n",
      "AVG NUMBER OF ACCURATE 0.5 PREDICTIONS ON TRAIN DATA SET: 0.9278290438439709 ± 0.05692649249612012\n",
      "AVG NUMBER OF ACCURATE 1 PREDICTIONS ON TRAIN DATA SET: 1.7924277556183998 ± 0.13389867286884324\n",
      "POWER SPECTRUM MEAN ERROR ON TRAIN DATA SET: 0.6419653297164835 ± 0.4055468143094449\n",
      "TEMPORAL DISTANCE ON TRAIN DATA SET: 0.1417796343815907 ± 0.0032379081416339544\n",
      "GEOMETRICAL DISTANCE ON TRAIN DATA SET: 12.756292338417484 ± 0.08258930624310165\n",
      "\n",
      "\n",
      "AVERAGE RMNSE ERROR ON TEST DATA SET: 1.3604954917656957 ± 0.0030278248578206692\n",
      "AVG NUMBER OF ACCURATE 0.5 PREDICTIONS ON TEST DATA SET: 0.8720375743708457 ± 0.03722350367397854\n",
      "AVG NUMBER OF ACCURATE 1 PREDICTIONS ON TEST DATA SET: 1.7253089271916404 ± 0.09440205951010247\n",
      "POWER SPECTRUM MEAN ERROR ON TEST DATA SET: 1.2610626310463335 ± 0.6403107238995204\n",
      "TEMPORAL DISTANCE ON TEST DATA SET: 0.13960849881688592 ± 0.006044794025701038\n",
      "GEOMETRICAL DISTANCE ON TEST DATA SET: 12.841774281921255 ± 0.09839441131603698\n"
     ]
    }
   ],
   "source": [
    "!bash ./1_Paralleled_ESN_Evaluate_Tuned_Model.sh \"evaluate_tuned_model\" 2000 1 1 5 \"grid_search.json\" "
   ]
  },
  {
   "cell_type": "code",
   "execution_count": 11,
   "metadata": {},
   "outputs": [
    {
     "name": "stdout",
     "output_type": "stream",
     "text": [
      "Grid Search Progress:   0%|                                               | 0/25 [00:00<?, ?trial/s][tuf-4090:199457] shmem: mmap: an error occurred while determining whether or not /tmp/ompi.tuf-4090.1000/jf.0/26214400/shared_mem_cuda_pool.tuf-4090 could be created.\n",
      "[tuf-4090:199457] create_and_attach: unable to create shared memory BTL coordinating structure :: size 134217728 \n",
      "Grid Search Progress: 100%|████████| 25/25 [1:02:39<00:00, 150.37s/trial, Current Best Loss=0.15383]\n",
      "{'radius': 0.9, 'sigma_input': 0.1}\n"
     ]
    }
   ],
   "source": [
    "!bash ./0_Paralleled_ESN_Tune.sh \"tune\" 2500 1 1 6 \"grid_search.json\" "
   ]
  },
  {
   "cell_type": "code",
   "execution_count": 8,
   "metadata": {},
   "outputs": [
    {
     "name": "stdout",
     "output_type": "stream",
     "text": [
      "{'radius': 0.9, 'sigma_input': 0.1}\n",
      "[tuf-4090:496590] shmem: mmap: an error occurred while determining whether or not /tmp/ompi.tuf-4090.1000/jf.0/110428160/shared_mem_cuda_pool.tuf-4090 could be created.\n",
      "[tuf-4090:496590] create_and_attach: unable to create shared memory BTL coordinating structure :: size 134217728 \n",
      "AVERAGE RMNSE ERROR ON TRAIN DATA SET: 1.3376278258458054 ± 0.005020210124023695\n",
      "AVG NUMBER OF ACCURATE 0.5 PREDICTIONS ON TRAIN DATA SET: 1.0446529996195146 ± 0.04336411654776624\n",
      "AVG NUMBER OF ACCURATE 1 PREDICTIONS ON TRAIN DATA SET: 1.8887948392537974 ± 0.1201618533766807\n",
      "POWER SPECTRUM MEAN ERROR ON TRAIN DATA SET: 0.8447013198277433 ± 0.5097335962791023\n",
      "TEMPORAL DISTANCE ON TRAIN DATA SET: 0.1417340203987488 ± 0.0026670476914608635\n",
      "GEOMETRICAL DISTANCE ON TRAIN DATA SET: 12.362207480293065 ± 0.06443341947640559\n",
      "\n",
      "\n",
      "AVERAGE RMNSE ERROR ON TEST DATA SET: 1.335647008312669 ± 0.006058003648417047\n",
      "AVG NUMBER OF ACCURATE 0.5 PREDICTIONS ON TEST DATA SET: 0.9986673035689387 ± 0.04617085973620302\n",
      "AVG NUMBER OF ACCURATE 1 PREDICTIONS ON TEST DATA SET: 1.8754386995920498 ± 0.13899790526330733\n",
      "POWER SPECTRUM MEAN ERROR ON TEST DATA SET: 1.608363830410274 ± 0.5957447770645201\n",
      "TEMPORAL DISTANCE ON TEST DATA SET: 0.1363286382844049 ± 0.0046390971573009535\n",
      "GEOMETRICAL DISTANCE ON TEST DATA SET: 12.442959082369011 ± 0.12263706106295001\n"
     ]
    }
   ],
   "source": [
    "!bash ./1_Paralleled_ESN_Evaluate_Tuned_Model.sh \"evaluate_tuned_model\" 2500 1 1 6 \"grid_search.json\" "
   ]
  },
  {
   "cell_type": "code",
   "execution_count": 13,
   "metadata": {},
   "outputs": [
    {
     "name": "stdout",
     "output_type": "stream",
     "text": [
      "Grid Search Progress:   0%|                                               | 0/25 [00:00<?, ?trial/s][tuf-4090:217014] shmem: mmap: an error occurred while determining whether or not /tmp/ompi.tuf-4090.1000/jf.0/1111818240/shared_mem_cuda_pool.tuf-4090 could be created.\n",
      "[tuf-4090:217014] create_and_attach: unable to create shared memory BTL coordinating structure :: size 134217728 \n",
      "Grid Search Progress: 100%|████████| 25/25 [1:09:14<00:00, 166.18s/trial, Current Best Loss=0.14719]\n",
      "{'radius': 0.9, 'sigma_input': 0.1}\n"
     ]
    }
   ],
   "source": [
    "!bash ./0_Paralleled_ESN_Tune.sh \"tune\" 3000 1 1 7 \"grid_search.json\" "
   ]
  },
  {
   "cell_type": "code",
   "execution_count": 9,
   "metadata": {},
   "outputs": [
    {
     "name": "stdout",
     "output_type": "stream",
     "text": [
      "{'radius': 0.9, 'sigma_input': 0.1}\n",
      "[tuf-4090:496597] shmem: mmap: an error occurred while determining whether or not /tmp/ompi.tuf-4090.1000/jf.0/3942252544/shared_mem_cuda_pool.tuf-4090 could be created.\n",
      "[tuf-4090:496597] create_and_attach: unable to create shared memory BTL coordinating structure :: size 134217728 \n",
      "AVERAGE RMNSE ERROR ON TRAIN DATA SET: 1.337289661104795 ± 0.005728382328326752\n",
      "AVG NUMBER OF ACCURATE 0.5 PREDICTIONS ON TRAIN DATA SET: 1.151671181972509 ± 0.061101525083563916\n",
      "AVG NUMBER OF ACCURATE 1 PREDICTIONS ON TRAIN DATA SET: 2.0769642499313377 ± 0.17856864103174808\n",
      "POWER SPECTRUM MEAN ERROR ON TRAIN DATA SET: 0.7301885170767283 ± 0.36751970508115334\n",
      "TEMPORAL DISTANCE ON TRAIN DATA SET: 0.1333487264964788 ± 0.0023531115842966984\n",
      "GEOMETRICAL DISTANCE ON TRAIN DATA SET: 12.31972549663098 ± 0.08817200231203849\n",
      "\n",
      "\n",
      "AVERAGE RMNSE ERROR ON TEST DATA SET: 1.3357391175034605 ± 0.004613591850820319\n",
      "AVG NUMBER OF ACCURATE 0.5 PREDICTIONS ON TEST DATA SET: 1.1295236592422686 ± 0.061486942165905605\n",
      "AVG NUMBER OF ACCURATE 1 PREDICTIONS ON TEST DATA SET: 2.063100915092561 ± 0.11463570990844973\n",
      "POWER SPECTRUM MEAN ERROR ON TEST DATA SET: 1.2555520711839212 ± 0.2752776375867299\n",
      "TEMPORAL DISTANCE ON TEST DATA SET: 0.13245700810093447 ± 0.0028188330701729284\n",
      "GEOMETRICAL DISTANCE ON TEST DATA SET: 12.356455678047984 ± 0.0745794836089375\n"
     ]
    }
   ],
   "source": [
    "!bash ./1_Paralleled_ESN_Evaluate_Tuned_Model.sh \"evaluate_tuned_model\" 3000 1 1 7 \"grid_search.json\" "
   ]
  },
  {
   "cell_type": "code",
   "execution_count": 15,
   "metadata": {},
   "outputs": [
    {
     "name": "stdout",
     "output_type": "stream",
     "text": [
      "Grid Search Progress:   0%|                                               | 0/25 [00:00<?, ?trial/s][tuf-4090:233632] shmem: mmap: an error occurred while determining whether or not /tmp/ompi.tuf-4090.1000/jf.0/768147456/shared_mem_cuda_pool.tuf-4090 could be created.\n",
      "[tuf-4090:233632] create_and_attach: unable to create shared memory BTL coordinating structure :: size 134217728 \n",
      "Grid Search Progress: 100%|████████| 25/25 [1:15:51<00:00, 182.06s/trial, Current Best Loss=0.14701]\n",
      "{'radius': 0.9, 'sigma_input': 0.1}\n"
     ]
    }
   ],
   "source": [
    "!bash ./0_Paralleled_ESN_Tune.sh \"tune\" 3500 1 1 8 \"grid_search.json\" "
   ]
  },
  {
   "cell_type": "code",
   "execution_count": 10,
   "metadata": {},
   "outputs": [
    {
     "name": "stdout",
     "output_type": "stream",
     "text": [
      "{'radius': 0.9, 'sigma_input': 0.1}\n",
      "[tuf-4090:496604] shmem: mmap: an error occurred while determining whether or not /tmp/ompi.tuf-4090.1000/jf.0/1450508288/shared_mem_cuda_pool.tuf-4090 could be created.\n",
      "[tuf-4090:496604] create_and_attach: unable to create shared memory BTL coordinating structure :: size 134217728 \n",
      "AVERAGE RMNSE ERROR ON TRAIN DATA SET: 1.3205797494883147 ± 0.005400448029325416\n",
      "AVG NUMBER OF ACCURATE 0.5 PREDICTIONS ON TRAIN DATA SET: 1.1939374467248762 ± 0.04411140341967212\n",
      "AVG NUMBER OF ACCURATE 1 PREDICTIONS ON TRAIN DATA SET: 2.1527053963675806 ± 0.08918578475751271\n",
      "POWER SPECTRUM MEAN ERROR ON TRAIN DATA SET: 1.091274717090584 ± 0.48366350079233916\n",
      "TEMPORAL DISTANCE ON TRAIN DATA SET: 0.13954420796590766 ± 0.0039843990803202075\n",
      "GEOMETRICAL DISTANCE ON TRAIN DATA SET: 12.022576309410603 ± 0.08255439306311213\n",
      "\n",
      "\n",
      "AVERAGE RMNSE ERROR ON TEST DATA SET: 1.3200651031856703 ± 0.007009487648476953\n",
      "AVG NUMBER OF ACCURATE 0.5 PREDICTIONS ON TEST DATA SET: 1.2064482610915772 ± 0.05773615083291016\n",
      "AVG NUMBER OF ACCURATE 1 PREDICTIONS ON TEST DATA SET: 2.120583035155781 ± 0.08776105169244784\n",
      "POWER SPECTRUM MEAN ERROR ON TEST DATA SET: 1.6129630938448831 ± 0.44667691623736444\n",
      "TEMPORAL DISTANCE ON TEST DATA SET: 0.14001072976196474 ± 0.0018173697131222736\n",
      "GEOMETRICAL DISTANCE ON TEST DATA SET: 12.114009478947615 ± 0.09232590058616941\n"
     ]
    }
   ],
   "source": [
    "!bash ./1_Paralleled_ESN_Evaluate_Tuned_Model.sh \"evaluate_tuned_model\" 3500 1 1 8 \"grid_search.json\" "
   ]
  },
  {
   "cell_type": "code",
   "execution_count": 17,
   "metadata": {},
   "outputs": [
    {
     "name": "stdout",
     "output_type": "stream",
     "text": [
      "Grid Search Progress:   0%|                                               | 0/25 [00:00<?, ?trial/s][tuf-4090:250262] shmem: mmap: an error occurred while determining whether or not /tmp/ompi.tuf-4090.1000/jf.0/3921805312/shared_mem_cuda_pool.tuf-4090 could be created.\n",
      "[tuf-4090:250262] create_and_attach: unable to create shared memory BTL coordinating structure :: size 134217728 \n",
      "Grid Search Progress: 100%|████████| 25/25 [1:18:00<00:00, 187.23s/trial, Current Best Loss=0.13947]\n",
      "{'radius': 0.99, 'sigma_input': 0.1}\n"
     ]
    }
   ],
   "source": [
    "!bash ./0_Paralleled_ESN_Tune.sh \"tune\" 4000 1 1 9 \"grid_search.json\" "
   ]
  },
  {
   "cell_type": "code",
   "execution_count": 11,
   "metadata": {},
   "outputs": [
    {
     "name": "stdout",
     "output_type": "stream",
     "text": [
      "{'radius': 0.99, 'sigma_input': 0.1}\n",
      "[tuf-4090:496611] shmem: mmap: an error occurred while determining whether or not /tmp/ompi.tuf-4090.1000/jf.0/2587623424/shared_mem_cuda_pool.tuf-4090 could be created.\n",
      "[tuf-4090:496611] create_and_attach: unable to create shared memory BTL coordinating structure :: size 134217728 \n",
      "AVERAGE RMNSE ERROR ON TRAIN DATA SET: 1.379430169278195 ± 0.007140519473812982\n",
      "AVG NUMBER OF ACCURATE 0.5 PREDICTIONS ON TRAIN DATA SET: 1.0017104746311094 ± 0.06892486160547447\n",
      "AVG NUMBER OF ACCURATE 1 PREDICTIONS ON TRAIN DATA SET: 1.8624206900483202 ± 0.12697945246265752\n",
      "POWER SPECTRUM MEAN ERROR ON TRAIN DATA SET: 0.43816812776775144 ± 0.14351430855531802\n",
      "TEMPORAL DISTANCE ON TRAIN DATA SET: 0.12625892906059874 ± 0.0035355887931877382\n",
      "GEOMETRICAL DISTANCE ON TRAIN DATA SET: 12.875253779020778 ± 0.08491760847848753\n",
      "\n",
      "\n",
      "AVERAGE RMNSE ERROR ON TEST DATA SET: 1.380474343632004 ± 0.00499239681655894\n",
      "AVG NUMBER OF ACCURATE 0.5 PREDICTIONS ON TEST DATA SET: 1.002724864985166 ± 0.04846862602225703\n",
      "AVG NUMBER OF ACCURATE 1 PREDICTIONS ON TEST DATA SET: 1.893866791024082 ± 0.11198898094630354\n",
      "POWER SPECTRUM MEAN ERROR ON TEST DATA SET: 0.8107734346985642 ± 0.3043594189202576\n",
      "TEMPORAL DISTANCE ON TEST DATA SET: 0.1236046623353457 ± 0.0031090882983009784\n",
      "GEOMETRICAL DISTANCE ON TEST DATA SET: 12.9683463095518 ± 0.09357128747065387\n"
     ]
    }
   ],
   "source": [
    "!bash ./1_Paralleled_ESN_Evaluate_Tuned_Model.sh \"evaluate_tuned_model\" 4000 1 1 9 \"grid_search.json\" "
   ]
  },
  {
   "cell_type": "markdown",
   "metadata": {},
   "source": [
    "# Analyse the training data"
   ]
  },
  {
   "cell_type": "code",
   "execution_count": 1,
   "metadata": {},
   "outputs": [
    {
     "name": "stdout",
     "output_type": "stream",
     "text": [
      "{'radius': 0.9, 'sigma_input': 0.1}\n",
      "^C\n"
     ]
    }
   ],
   "source": [
    "!bash ./1_Paralleled_ESN_Evaluate_Tuned_Model.sh \"evaluate_tuned_model\" 3000 1 1 7 \"grid_search.json\"  1 2 10000"
   ]
  },
  {
   "cell_type": "code",
   "execution_count": null,
   "metadata": {},
   "outputs": [
    {
     "name": "stdout",
     "output_type": "stream",
     "text": [
      "{'radius': 0.9, 'sigma_input': 0.1}\n"
     ]
    }
   ],
   "source": [
    "!bash ./1_Paralleled_ESN_Evaluate_Tuned_Model.sh \"evaluate_tuned_model\" 3000 1 1 7 \"grid_search.json\"  1 2 20000"
   ]
  },
  {
   "cell_type": "code",
   "execution_count": null,
   "metadata": {},
   "outputs": [],
   "source": [
    "!bash ./1_Paralleled_ESN_Evaluate_Tuned_Model.sh \"evaluate_tuned_model\" 3000 1 1 7 \"grid_search.json\"  1 2 30000"
   ]
  },
  {
   "cell_type": "code",
   "execution_count": null,
   "metadata": {},
   "outputs": [],
   "source": [
    "!bash ./1_Paralleled_ESN_Evaluate_Tuned_Model.sh \"evaluate_tuned_model\" 3000 1 1 7 \"grid_search.json\"  1 2 40000"
   ]
  },
  {
   "cell_type": "code",
   "execution_count": null,
   "metadata": {},
   "outputs": [],
   "source": [
    "!bash ./1_Paralleled_ESN_Evaluate_Tuned_Model.sh \"evaluate_tuned_model\" 3000 1 1 7 \"grid_search.json\"  1 2 50000"
   ]
  },
  {
   "cell_type": "code",
   "execution_count": null,
   "metadata": {},
   "outputs": [],
   "source": [
    "!bash ./1_Paralleled_ESN_Evaluate_Tuned_Model.sh \"evaluate_tuned_model\" 3000 1 1 7 \"grid_search.json\"  1 2 60000"
   ]
  },
  {
   "cell_type": "code",
   "execution_count": null,
   "metadata": {},
   "outputs": [],
   "source": [
    "!bash ./1_Paralleled_ESN_Evaluate_Tuned_Model.sh \"evaluate_tuned_model\" 3000 1 1 7 \"grid_search.json\"  1 2 70000"
   ]
  },
  {
   "cell_type": "code",
   "execution_count": null,
   "metadata": {},
   "outputs": [],
   "source": [
    "!bash ./1_Paralleled_ESN_Evaluate_Tuned_Model.sh \"evaluate_tuned_model\" 3000 1 1 7 \"grid_search.json\"  1 2 80000"
   ]
  },
  {
   "cell_type": "code",
   "execution_count": null,
   "metadata": {},
   "outputs": [],
   "source": [
    "!bash ./1_Paralleled_ESN_Evaluate_Tuned_Model.sh \"evaluate_tuned_model\" 3000 1 1 7 \"grid_search.json\"  1 2 90000"
   ]
  },
  {
   "cell_type": "markdown",
   "metadata": {},
   "source": [
    "# Analyse the noise degree"
   ]
  },
  {
   "cell_type": "code",
   "execution_count": null,
   "metadata": {},
   "outputs": [],
   "source": [
    "!bash ./1_Paralleled_ESN_Evaluate_Tuned_Model.sh \"evaluate_tuned_model\" 3000 1 1 7 \"grid_search.json\" 1 2 100000 0"
   ]
  },
  {
   "cell_type": "code",
   "execution_count": null,
   "metadata": {},
   "outputs": [],
   "source": [
    "!bash ./1_Paralleled_ESN_Evaluate_Tuned_Model.sh \"evaluate_tuned_model\" 3000 1 1 7 \"grid_search.json\" 1 2 100000 20"
   ]
  },
  {
   "cell_type": "code",
   "execution_count": null,
   "metadata": {},
   "outputs": [],
   "source": [
    "!bash ./1_Paralleled_ESN_Evaluate_Tuned_Model.sh \"evaluate_tuned_model\" 3000 1 1 7 \"grid_search.json\" 1 2 100000 40"
   ]
  },
  {
   "cell_type": "code",
   "execution_count": null,
   "metadata": {},
   "outputs": [],
   "source": [
    "!bash ./1_Paralleled_ESN_Evaluate_Tuned_Model.sh \"evaluate_tuned_model\" 3000 1 1 7 \"grid_search.json\" 1 2 100000 60"
   ]
  },
  {
   "cell_type": "code",
   "execution_count": null,
   "metadata": {},
   "outputs": [],
   "source": [
    "!bash ./1_Paralleled_ESN_Evaluate_Tuned_Model.sh \"evaluate_tuned_model\" 3000 1 1 7 \"grid_search.json\" 1 2 100000 80"
   ]
  },
  {
   "cell_type": "code",
   "execution_count": null,
   "metadata": {},
   "outputs": [],
   "source": [
    "!bash ./1_Paralleled_ESN_Evaluate_Tuned_Model.sh \"evaluate_tuned_model\" 3000 1 1 7 \"grid_search.json\" 1 2 100000 100"
   ]
  },
  {
   "cell_type": "code",
   "execution_count": null,
   "metadata": {},
   "outputs": [],
   "source": [
    "!bash ./1_Paralleled_ESN_Evaluate_Tuned_Model.sh \"evaluate_tuned_model\" 3000 1 1 7 \"grid_search.json\" 1 2 100000 120"
   ]
  },
  {
   "cell_type": "code",
   "execution_count": null,
   "metadata": {},
   "outputs": [],
   "source": [
    "!bash ./1_Paralleled_ESN_Evaluate_Tuned_Model.sh \"evaluate_tuned_model\" 3000 1 1 7 \"grid_search.json\" 1 2 100000 140"
   ]
  },
  {
   "cell_type": "code",
   "execution_count": null,
   "metadata": {},
   "outputs": [],
   "source": [
    "!bash ./1_Paralleled_ESN_Evaluate_Tuned_Model.sh \"evaluate_tuned_model\" 3000 1 1 7 \"grid_search.json\" 1 2 100000 160"
   ]
  },
  {
   "cell_type": "code",
   "execution_count": null,
   "metadata": {},
   "outputs": [],
   "source": [
    "!bash ./1_Paralleled_ESN_Evaluate_Tuned_Model.sh \"evaluate_tuned_model\" 3000 1 1 7 \"grid_search.json\" 1 2 100000 180"
   ]
  },
  {
   "cell_type": "code",
   "execution_count": null,
   "metadata": {},
   "outputs": [],
   "source": [
    "!bash ./1_Paralleled_ESN_Evaluate_Tuned_Model.sh \"evaluate_tuned_model\" 3000 1 1 7 \"grid_search.json\" 1 2 100000 200"
   ]
  },
  {
   "cell_type": "code",
   "execution_count": null,
   "metadata": {},
   "outputs": [],
   "source": []
  },
  {
   "cell_type": "code",
   "execution_count": null,
   "metadata": {},
   "outputs": [],
   "source": []
  },
  {
   "cell_type": "code",
   "execution_count": null,
   "metadata": {},
   "outputs": [],
   "source": []
  },
  {
   "cell_type": "code",
   "execution_count": null,
   "metadata": {},
   "outputs": [],
   "source": []
  },
  {
   "cell_type": "code",
   "execution_count": null,
   "metadata": {},
   "outputs": [],
   "source": []
  },
  {
   "cell_type": "code",
   "execution_count": null,
   "metadata": {},
   "outputs": [],
   "source": []
  },
  {
   "cell_type": "code",
   "execution_count": null,
   "metadata": {},
   "outputs": [],
   "source": []
  },
  {
   "cell_type": "code",
   "execution_count": null,
   "metadata": {},
   "outputs": [],
   "source": []
  }
 ],
 "metadata": {
  "kernelspec": {
   "display_name": "Python 3 (ipykernel)",
   "language": "python",
   "name": "python3"
  },
  "language_info": {
   "codemirror_mode": {
    "name": "ipython",
    "version": 3
   },
   "file_extension": ".py",
   "mimetype": "text/x-python",
   "name": "python",
   "nbconvert_exporter": "python",
   "pygments_lexer": "ipython3",
   "version": "3.11.8"
  }
 },
 "nbformat": 4,
 "nbformat_minor": 4
}
