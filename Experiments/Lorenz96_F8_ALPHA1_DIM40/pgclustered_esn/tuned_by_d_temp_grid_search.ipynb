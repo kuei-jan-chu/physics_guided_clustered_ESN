{
 "cells": [
  {
   "cell_type": "markdown",
   "metadata": {},
   "source": [
    "### use --iterative_prediction_length 1000 \\ --num_test_ICS 20 \\ --N 50000 \\ --N_used 50000 \\ --sparsity 1 \\ --p_in 1 \\ noise = 5 \\ d_temp"
   ]
  },
  {
   "cell_type": "code",
   "execution_count": 2,
   "metadata": {},
   "outputs": [
    {
     "name": "stdout",
     "output_type": "stream",
     "text": [
      "{'radius': 0.9, 'sigma_input': 0.1, 'regularization': 0.01, 'in_cluster_weight': 0.5, 'noise_level': 5}\n"
     ]
    }
   ],
   "source": [
    "!bash ./0_PGClustered_ESN_Tune.sh \"tune\" 40 1 1 0 \"grid_search.json\""
   ]
  },
  {
   "cell_type": "code",
   "execution_count": 1,
   "metadata": {},
   "outputs": [
    {
     "name": "stdout",
     "output_type": "stream",
     "text": [
      "{'radius': 0.9, 'sigma_input': 0.1, 'regularization': 0.01, 'in_cluster_weight': 0.5, 'noise_level': 5}\n",
      "/home/user/anaconda3/lib/python3.11/site-packages/torch/cuda/__init__.py:107: UserWarning: CUDA initialization: Unexpected error from cudaGetDeviceCount(). Did you run some cuda functions before calling NumCudaDevices() that might have already set an error? Error 804: forward compatibility was attempted on non supported HW (Triggered internally at ../c10/cuda/CUDAFunctions.cpp:109.)\n",
      "  return torch._C._cuda_getDeviceCount() > 0\n",
      "/home/user/anaconda3/lib/python3.11/site-packages/numpy/core/_methods.py:236: RuntimeWarning: invalid value encountered in subtract\n",
      "  x = asanyarray(arr - arrmean)\n",
      "AVERAGE RMNSE ERROR ON TRAIN DATA SET: 1.899953687185846 ± 0.6142175851640498\n",
      "AVG NUMBER OF ACCURATE 0.5 PREDICTIONS ON TRAIN DATA SET: 0.002028780708113639 ± 0.005545746273982797\n",
      "AVG NUMBER OF ACCURATE 1 PREDICTIONS ON TRAIN DATA SET: 0.3810726430073452 ± 0.07578641819006239\n",
      "POWER SPECTRUM MEAN ERROR ON TRAIN DATA SET: inf ± nan\n",
      "TEMPORAL DISTANCE ON TRAIN DATA SET: 0.38098657526331786 ± 0.08905679257936211\n",
      "GEOMETRICAL DISTANCE ON TRAIN DATA SET: inf ± nan\n",
      "\n",
      "\n",
      "AVERAGE RMNSE ERROR ON TEST DATA SET: 1.9465688195612334 ± 0.7789017116228096\n",
      "AVG NUMBER OF ACCURATE 0.5 PREDICTIONS ON TEST DATA SET: 0.0016906505900946994 ± 0.0027260921639313007\n",
      "AVG NUMBER OF ACCURATE 1 PREDICTIONS ON TEST DATA SET: 0.2887631207881747 ± 0.04376663041432945\n",
      "POWER SPECTRUM MEAN ERROR ON TEST DATA SET: inf ± nan\n",
      "TEMPORAL DISTANCE ON TEST DATA SET: 0.3794266117160383 ± 0.08488682864828175\n",
      "GEOMETRICAL DISTANCE ON TEST DATA SET: inf ± nan\n"
     ]
    }
   ],
   "source": [
    "!bash ./1_PGClustered_ESN_Evaluate_Tuned_Model.sh \"evaluate_tuned_model\" 40 1 1 0 \"grid_search.json\""
   ]
  },
  {
   "cell_type": "code",
   "execution_count": null,
   "metadata": {},
   "outputs": [
    {
     "name": "stdout",
     "output_type": "stream",
     "text": [
      "{'radius': 0.1, 'sigma_input': 0.1, 'regularization': 0.01, 'in_cluster_weight': 0.5, 'noise_level': 5}\n"
     ]
    }
   ],
   "source": [
    "!bash ./0_PGClustered_ESN_Tune.sh \"tune\" 250 1 1 1 \"grid_search.json\""
   ]
  },
  {
   "cell_type": "code",
   "execution_count": 1,
   "metadata": {},
   "outputs": [
    {
     "name": "stdout",
     "output_type": "stream",
     "text": [
      "{'radius': 0.1, 'sigma_input': 0.1, 'regularization': 0.01, 'in_cluster_weight': 0.5, 'noise_level': 5}\n",
      "/home/user/anaconda3/lib/python3.11/site-packages/torch/cuda/__init__.py:107: UserWarning: CUDA initialization: Unexpected error from cudaGetDeviceCount(). Did you run some cuda functions before calling NumCudaDevices() that might have already set an error? Error 804: forward compatibility was attempted on non supported HW (Triggered internally at ../c10/cuda/CUDAFunctions.cpp:109.)\n",
      "  return torch._C._cuda_getDeviceCount() > 0\n",
      "AVERAGE RMNSE ERROR ON TRAIN DATA SET: 1.6592988839926008 ± 0.2118373769283819\n",
      "AVG NUMBER OF ACCURATE 0.5 PREDICTIONS ON TRAIN DATA SET: 0.738983372930393 ± 0.08137089171387202\n",
      "AVG NUMBER OF ACCURATE 1 PREDICTIONS ON TRAIN DATA SET: 1.4564954833665833 ± 0.18163166886639365\n",
      "POWER SPECTRUM MEAN ERROR ON TRAIN DATA SET: 2.970010226496396 ± 1.4137995174467666\n",
      "TEMPORAL DISTANCE ON TRAIN DATA SET: 0.1713069005085433 ± 0.05142981095840127\n",
      "GEOMETRICAL DISTANCE ON TRAIN DATA SET: 17.11064062714747 ± 2.3122942612144297\n",
      "\n",
      "\n",
      "AVERAGE RMNSE ERROR ON TEST DATA SET: 1.6696240323101417 ± 0.20904740460209612\n",
      "AVG NUMBER OF ACCURATE 0.5 PREDICTIONS ON TEST DATA SET: 0.7085516623086884 ± 0.05691971369453659\n",
      "AVG NUMBER OF ACCURATE 1 PREDICTIONS ON TEST DATA SET: 1.4218371462696417 ± 0.1726633562381078\n",
      "POWER SPECTRUM MEAN ERROR ON TEST DATA SET: 2.134796401707031 ± 1.5239918765153773\n",
      "TEMPORAL DISTANCE ON TEST DATA SET: 0.17606561241511912 ± 0.05407760202446701\n",
      "GEOMETRICAL DISTANCE ON TEST DATA SET: 17.168843403324722 ± 1.9931930827205722\n"
     ]
    }
   ],
   "source": [
    "!bash ./1_PGClustered_ESN_Evaluate_Tuned_Model.sh \"evaluate_tuned_model\" 250 1 1 1 \"grid_search.json\""
   ]
  },
  {
   "cell_type": "code",
   "execution_count": 9,
   "metadata": {},
   "outputs": [
    {
     "name": "stdout",
     "output_type": "stream",
     "text": [
      "{'radius': 0.4, 'sigma_input': 0.1, 'regularization': 0.01, 'in_cluster_weight': 0.5, 'noise_level': 5}\n"
     ]
    }
   ],
   "source": [
    "!bash ./0_PGClustered_ESN_Tune.sh \"tune\" 500 1 1 2 \"grid_search.json\""
   ]
  },
  {
   "cell_type": "code",
   "execution_count": 2,
   "metadata": {},
   "outputs": [
    {
     "name": "stdout",
     "output_type": "stream",
     "text": [
      "{'radius': 0.4, 'sigma_input': 0.1, 'regularization': 0.01, 'in_cluster_weight': 0.5, 'noise_level': 5}\n",
      "/home/user/anaconda3/lib/python3.11/site-packages/torch/cuda/__init__.py:107: UserWarning: CUDA initialization: Unexpected error from cudaGetDeviceCount(). Did you run some cuda functions before calling NumCudaDevices() that might have already set an error? Error 804: forward compatibility was attempted on non supported HW (Triggered internally at ../c10/cuda/CUDAFunctions.cpp:109.)\n",
      "  return torch._C._cuda_getDeviceCount() > 0\n",
      "AVERAGE RMNSE ERROR ON TRAIN DATA SET: 1.3893374964934044 ± 0.006461974444297242\n",
      "AVG NUMBER OF ACCURATE 0.5 PREDICTIONS ON TRAIN DATA SET: 1.8267479625973224 ± 0.07424728393763613\n",
      "AVG NUMBER OF ACCURATE 1 PREDICTIONS ON TRAIN DATA SET: 2.9665845904391683 ± 0.13967690248944145\n",
      "POWER SPECTRUM MEAN ERROR ON TRAIN DATA SET: 0.7129583050655649 ± 0.15484895015603423\n",
      "TEMPORAL DISTANCE ON TRAIN DATA SET: 0.11272848918009788 ± 0.0027348474683860933\n",
      "GEOMETRICAL DISTANCE ON TRAIN DATA SET: 13.286864675034318 ± 0.1566636946717903\n",
      "\n",
      "\n",
      "AVERAGE RMNSE ERROR ON TEST DATA SET: 1.3973428245161374 ± 0.004844509237000468\n",
      "AVG NUMBER OF ACCURATE 0.5 PREDICTIONS ON TEST DATA SET: 1.6953844117469643 ± 0.12066508568029563\n",
      "AVG NUMBER OF ACCURATE 1 PREDICTIONS ON TEST DATA SET: 2.821188639691024 ± 0.15274922824811257\n",
      "POWER SPECTRUM MEAN ERROR ON TEST DATA SET: 0.4796210003739265 ± 0.2851007340255755\n",
      "TEMPORAL DISTANCE ON TEST DATA SET: 0.11159961575763244 ± 0.0026517259538862683\n",
      "GEOMETRICAL DISTANCE ON TEST DATA SET: 13.38402044497072 ± 0.10783564600389392\n"
     ]
    }
   ],
   "source": [
    "!bash ./1_PGClustered_ESN_Evaluate_Tuned_Model.sh \"evaluate_tuned_model\" 500 1 1 2 \"grid_search.json\""
   ]
  },
  {
   "cell_type": "code",
   "execution_count": 11,
   "metadata": {},
   "outputs": [
    {
     "name": "stdout",
     "output_type": "stream",
     "text": [
      "{'radius': 0.1, 'sigma_input': 0.1, 'regularization': 0.01, 'in_cluster_weight': 0.5, 'noise_level': 5}\n"
     ]
    }
   ],
   "source": [
    "!bash ./0_PGClustered_ESN_Tune.sh \"tune\" 1000 1 1 3 \"grid_search.json\""
   ]
  },
  {
   "cell_type": "code",
   "execution_count": 3,
   "metadata": {},
   "outputs": [
    {
     "name": "stdout",
     "output_type": "stream",
     "text": [
      "{'radius': 0.1, 'sigma_input': 0.1, 'regularization': 0.01, 'in_cluster_weight': 0.5, 'noise_level': 5}\n",
      "/home/user/anaconda3/lib/python3.11/site-packages/torch/cuda/__init__.py:107: UserWarning: CUDA initialization: Unexpected error from cudaGetDeviceCount(). Did you run some cuda functions before calling NumCudaDevices() that might have already set an error? Error 804: forward compatibility was attempted on non supported HW (Triggered internally at ../c10/cuda/CUDAFunctions.cpp:109.)\n",
      "  return torch._C._cuda_getDeviceCount() > 0\n",
      "AVERAGE RMNSE ERROR ON TRAIN DATA SET: 1.3779981577887974 ± 0.007829385826375327\n",
      "AVG NUMBER OF ACCURATE 0.5 PREDICTIONS ON TRAIN DATA SET: 2.2406192270525045 ± 0.0857879823979651\n",
      "AVG NUMBER OF ACCURATE 1 PREDICTIONS ON TRAIN DATA SET: 3.5620317282705214 ± 0.15682176327790634\n",
      "POWER SPECTRUM MEAN ERROR ON TRAIN DATA SET: 0.4145622356552976 ± 0.2803154687935571\n",
      "TEMPORAL DISTANCE ON TRAIN DATA SET: 0.10956722552648349 ± 0.0025977103284401796\n",
      "GEOMETRICAL DISTANCE ON TRAIN DATA SET: 13.110509560690764 ± 0.13741912701706793\n",
      "\n",
      "\n",
      "AVERAGE RMNSE ERROR ON TEST DATA SET: 1.3884135278623984 ± 0.0053673200452609955\n",
      "AVG NUMBER OF ACCURATE 0.5 PREDICTIONS ON TEST DATA SET: 1.9851619228891955 ± 0.133817530691843\n",
      "AVG NUMBER OF ACCURATE 1 PREDICTIONS ON TEST DATA SET: 3.2345527089691783 ± 0.22555686716433848\n",
      "POWER SPECTRUM MEAN ERROR ON TEST DATA SET: 0.6422511529146354 ± 0.28790984503402506\n",
      "TEMPORAL DISTANCE ON TEST DATA SET: 0.10839191258566769 ± 0.0008462949114558413\n",
      "GEOMETRICAL DISTANCE ON TEST DATA SET: 13.131120816688272 ± 0.1399571825766628\n"
     ]
    }
   ],
   "source": [
    "!bash ./1_PGClustered_ESN_Evaluate_Tuned_Model.sh \"evaluate_tuned_model\" 1000 1 1 3 \"grid_search.json\""
   ]
  },
  {
   "cell_type": "code",
   "execution_count": null,
   "metadata": {},
   "outputs": [
    {
     "name": "stdout",
     "output_type": "stream",
     "text": [
      "{'radius': 0.9, 'sigma_input': 0.1, 'regularization': 0.01, 'in_cluster_weight': 0.5, 'noise_level': 5}\n"
     ]
    }
   ],
   "source": [
    "!bash ./0_PGClustered_ESN_Tune.sh \"tune\" 1500 1 1 4 \"grid_search.json\""
   ]
  },
  {
   "cell_type": "code",
   "execution_count": 4,
   "metadata": {},
   "outputs": [
    {
     "name": "stdout",
     "output_type": "stream",
     "text": [
      "{'radius': 0.9, 'sigma_input': 0.1, 'regularization': 0.01, 'in_cluster_weight': 0.5, 'noise_level': 5}\n",
      "/home/user/anaconda3/lib/python3.11/site-packages/torch/cuda/__init__.py:107: UserWarning: CUDA initialization: Unexpected error from cudaGetDeviceCount(). Did you run some cuda functions before calling NumCudaDevices() that might have already set an error? Error 804: forward compatibility was attempted on non supported HW (Triggered internally at ../c10/cuda/CUDAFunctions.cpp:109.)\n",
      "  return torch._C._cuda_getDeviceCount() > 0\n",
      "AVERAGE RMNSE ERROR ON TRAIN DATA SET: 1.3773371040052438 ± 0.008154704285858216\n",
      "AVG NUMBER OF ACCURATE 0.5 PREDICTIONS ON TRAIN DATA SET: 2.325828016793278 ± 0.10224746712507828\n",
      "AVG NUMBER OF ACCURATE 1 PREDICTIONS ON TRAIN DATA SET: 3.746819837767872 ± 0.11507308638751927\n",
      "POWER SPECTRUM MEAN ERROR ON TRAIN DATA SET: 0.37336816475582885 ± 0.19798522317137437\n",
      "TEMPORAL DISTANCE ON TRAIN DATA SET: 0.10897525249055648 ± 0.00169391333540841\n",
      "GEOMETRICAL DISTANCE ON TRAIN DATA SET: 13.138048632388296 ± 0.08000212601112343\n",
      "\n",
      "\n",
      "AVERAGE RMNSE ERROR ON TEST DATA SET: 1.3791657869986502 ± 0.00513426312134125\n",
      "AVG NUMBER OF ACCURATE 0.5 PREDICTIONS ON TEST DATA SET: 2.0543095320240687 ± 0.13270573318368825\n",
      "AVG NUMBER OF ACCURATE 1 PREDICTIONS ON TEST DATA SET: 3.3053909686941467 ± 0.2365370021169804\n",
      "POWER SPECTRUM MEAN ERROR ON TEST DATA SET: 0.6016010983156426 ± 0.40823204926703577\n",
      "TEMPORAL DISTANCE ON TEST DATA SET: 0.10757296498278102 ± 0.0011090606687319433\n",
      "GEOMETRICAL DISTANCE ON TEST DATA SET: 13.140871764973824 ± 0.09779123166819881\n"
     ]
    }
   ],
   "source": [
    "!bash ./1_PGClustered_ESN_Evaluate_Tuned_Model.sh \"evaluate_tuned_model\" 1500 1 1 4 \"grid_search.json\""
   ]
  },
  {
   "cell_type": "code",
   "execution_count": 15,
   "metadata": {},
   "outputs": [
    {
     "name": "stdout",
     "output_type": "stream",
     "text": [
      "{'radius': 0.4, 'sigma_input': 0.1, 'regularization': 0.01, 'in_cluster_weight': 0.5, 'noise_level': 5}\n"
     ]
    }
   ],
   "source": [
    "!bash ./0_PGClustered_ESN_Tune.sh \"tune\" 2000 1 1 5 \"grid_search.json\""
   ]
  },
  {
   "cell_type": "code",
   "execution_count": 5,
   "metadata": {},
   "outputs": [
    {
     "name": "stdout",
     "output_type": "stream",
     "text": [
      "{'radius': 0.4, 'sigma_input': 0.1, 'regularization': 0.01, 'in_cluster_weight': 0.5, 'noise_level': 5}\n",
      "/home/user/anaconda3/lib/python3.11/site-packages/torch/cuda/__init__.py:107: UserWarning: CUDA initialization: Unexpected error from cudaGetDeviceCount(). Did you run some cuda functions before calling NumCudaDevices() that might have already set an error? Error 804: forward compatibility was attempted on non supported HW (Triggered internally at ../c10/cuda/CUDAFunctions.cpp:109.)\n",
      "  return torch._C._cuda_getDeviceCount() > 0\n",
      "AVERAGE RMNSE ERROR ON TRAIN DATA SET: 1.3681831263075197 ± 0.005472011374724664\n",
      "AVG NUMBER OF ACCURATE 0.5 PREDICTIONS ON TRAIN DATA SET: 2.6478969542063178 ± 0.1201309261948505\n",
      "AVG NUMBER OF ACCURATE 1 PREDICTIONS ON TRAIN DATA SET: 4.265849568926945 ± 0.3469425923834896\n",
      "POWER SPECTRUM MEAN ERROR ON TRAIN DATA SET: 0.4728297949180975 ± 0.2455059742397496\n",
      "TEMPORAL DISTANCE ON TRAIN DATA SET: 0.10746466912745686 ± 0.00179261773400527\n",
      "GEOMETRICAL DISTANCE ON TRAIN DATA SET: 13.031702396893499 ± 0.09527829054910547\n",
      "\n",
      "\n",
      "AVERAGE RMNSE ERROR ON TEST DATA SET: 1.3761206242980404 ± 0.0058220359216854724\n",
      "AVG NUMBER OF ACCURATE 0.5 PREDICTIONS ON TEST DATA SET: 2.221007680207406 ± 0.14160558717275604\n",
      "AVG NUMBER OF ACCURATE 1 PREDICTIONS ON TEST DATA SET: 3.6491002336603993 ± 0.23812644015693268\n",
      "POWER SPECTRUM MEAN ERROR ON TEST DATA SET: 0.7122623587018065 ± 0.3405335140329047\n",
      "TEMPORAL DISTANCE ON TEST DATA SET: 0.10797824762463248 ± 0.001050924237388269\n",
      "GEOMETRICAL DISTANCE ON TEST DATA SET: 13.081020163231173 ± 0.11184210175762105\n"
     ]
    }
   ],
   "source": [
    "!bash ./1_PGClustered_ESN_Evaluate_Tuned_Model.sh \"evaluate_tuned_model\" 2000 1 1 5 \"grid_search.json\""
   ]
  },
  {
   "cell_type": "code",
   "execution_count": null,
   "metadata": {},
   "outputs": [
    {
     "name": "stdout",
     "output_type": "stream",
     "text": [
      "{'radius': 0.7, 'sigma_input': 0.1, 'regularization': 0.01, 'in_cluster_weight': 0.5, 'noise_level': 5}\n"
     ]
    }
   ],
   "source": [
    "!bash ./0_PGClustered_ESN_Tune.sh \"tune\" 2500 1 1 6 \"grid_search.json\""
   ]
  },
  {
   "cell_type": "code",
   "execution_count": 6,
   "metadata": {},
   "outputs": [
    {
     "name": "stdout",
     "output_type": "stream",
     "text": [
      "{'radius': 0.7, 'sigma_input': 0.1, 'regularization': 0.01, 'in_cluster_weight': 0.5, 'noise_level': 5}\n",
      "/home/user/anaconda3/lib/python3.11/site-packages/torch/cuda/__init__.py:107: UserWarning: CUDA initialization: Unexpected error from cudaGetDeviceCount(). Did you run some cuda functions before calling NumCudaDevices() that might have already set an error? Error 804: forward compatibility was attempted on non supported HW (Triggered internally at ../c10/cuda/CUDAFunctions.cpp:109.)\n",
      "  return torch._C._cuda_getDeviceCount() > 0\n",
      "AVERAGE RMNSE ERROR ON TRAIN DATA SET: 1.3697362708183511 ± 0.005517866638067361\n",
      "AVG NUMBER OF ACCURATE 0.5 PREDICTIONS ON TRAIN DATA SET: 2.713494197101992 ± 0.12336421450351001\n",
      "AVG NUMBER OF ACCURATE 1 PREDICTIONS ON TRAIN DATA SET: 4.304396402381104 ± 0.23263376693099852\n",
      "POWER SPECTRUM MEAN ERROR ON TRAIN DATA SET: 0.32543452859225586 ± 0.22434043923583252\n",
      "TEMPORAL DISTANCE ON TRAIN DATA SET: 0.10725237827024343 ± 0.002042127244106785\n",
      "GEOMETRICAL DISTANCE ON TRAIN DATA SET: 13.048564851414255 ± 0.07397308591211353\n",
      "\n",
      "\n",
      "AVERAGE RMNSE ERROR ON TEST DATA SET: 1.3730474068021892 ± 0.004778429319333008\n",
      "AVG NUMBER OF ACCURATE 0.5 PREDICTIONS ON TEST DATA SET: 2.3532165563528116 ± 0.1627710238657483\n",
      "AVG NUMBER OF ACCURATE 1 PREDICTIONS ON TEST DATA SET: 3.7853666712220315 ± 0.24032822625574607\n",
      "POWER SPECTRUM MEAN ERROR ON TEST DATA SET: 0.7343698527126709 ± 0.39543482164232285\n",
      "TEMPORAL DISTANCE ON TEST DATA SET: 0.10614644385519587 ± 0.0015648461714091024\n",
      "GEOMETRICAL DISTANCE ON TEST DATA SET: 13.096841138571325 ± 0.11836586121121356\n"
     ]
    }
   ],
   "source": [
    "!bash ./1_PGClustered_ESN_Evaluate_Tuned_Model.sh \"evaluate_tuned_model\" 2500 1 1 6 \"grid_search.json\""
   ]
  },
  {
   "cell_type": "code",
   "execution_count": 19,
   "metadata": {},
   "outputs": [
    {
     "name": "stdout",
     "output_type": "stream",
     "text": [
      "{'radius': 0.9, 'sigma_input': 0.1, 'regularization': 0.01, 'in_cluster_weight': 0.5, 'noise_level': 5}\n"
     ]
    }
   ],
   "source": [
    "!bash ./0_PGClustered_ESN_Tune.sh \"tune\" 3000 1 1 7 \"grid_search.json\""
   ]
  },
  {
   "cell_type": "code",
   "execution_count": 7,
   "metadata": {},
   "outputs": [
    {
     "name": "stdout",
     "output_type": "stream",
     "text": [
      "{'radius': 0.9, 'sigma_input': 0.1, 'regularization': 0.01, 'in_cluster_weight': 0.5, 'noise_level': 5}\n",
      "/home/user/anaconda3/lib/python3.11/site-packages/torch/cuda/__init__.py:107: UserWarning: CUDA initialization: Unexpected error from cudaGetDeviceCount(). Did you run some cuda functions before calling NumCudaDevices() that might have already set an error? Error 804: forward compatibility was attempted on non supported HW (Triggered internally at ../c10/cuda/CUDAFunctions.cpp:109.)\n",
      "  return torch._C._cuda_getDeviceCount() > 0\n",
      "AVERAGE RMNSE ERROR ON TRAIN DATA SET: 1.3646739609010123 ± 0.009984248091253915\n",
      "AVG NUMBER OF ACCURATE 0.5 PREDICTIONS ON TRAIN DATA SET: 2.8039440036720586 ± 0.11474337319943112\n",
      "AVG NUMBER OF ACCURATE 1 PREDICTIONS ON TRAIN DATA SET: 4.489184511878455 ± 0.23402421256643077\n",
      "POWER SPECTRUM MEAN ERROR ON TRAIN DATA SET: 0.5932462961392531 ± 0.42651130407677434\n",
      "TEMPORAL DISTANCE ON TRAIN DATA SET: 0.10678857182537296 ± 0.0013128878424125288\n",
      "GEOMETRICAL DISTANCE ON TRAIN DATA SET: 12.965093256288288 ± 0.1697522650083873\n",
      "\n",
      "\n",
      "AVERAGE RMNSE ERROR ON TEST DATA SET: 1.3707068565512768 ± 0.007319704180385459\n",
      "AVG NUMBER OF ACCURATE 0.5 PREDICTIONS ON TEST DATA SET: 2.300299192882848 ± 0.1943251174195842\n",
      "AVG NUMBER OF ACCURATE 1 PREDICTIONS ON TEST DATA SET: 3.7221363391524895 ± 0.2209806437343018\n",
      "POWER SPECTRUM MEAN ERROR ON TEST DATA SET: 0.6867295157161363 ± 0.4273805639103359\n",
      "TEMPORAL DISTANCE ON TEST DATA SET: 0.10723192368933192 ± 0.0014667104096621937\n",
      "GEOMETRICAL DISTANCE ON TEST DATA SET: 13.030768148465611 ± 0.10142442116727265\n"
     ]
    }
   ],
   "source": [
    "!bash ./1_PGClustered_ESN_Evaluate_Tuned_Model.sh \"evaluate_tuned_model\" 3000 1 1 7 \"grid_search.json\""
   ]
  },
  {
   "cell_type": "code",
   "execution_count": null,
   "metadata": {
    "editable": true,
    "slideshow": {
     "slide_type": ""
    },
    "tags": []
   },
   "outputs": [
    {
     "name": "stdout",
     "output_type": "stream",
     "text": [
      "{'radius': 0.1, 'sigma_input': 0.1, 'regularization': 0.01, 'in_cluster_weight': 0.5, 'noise_level': 5}\n"
     ]
    }
   ],
   "source": [
    "!bash ./0_PGClustered_ESN_Tune.sh \"tune\" 3500 1 1 8 \"grid_search.json\""
   ]
  },
  {
   "cell_type": "code",
   "execution_count": 8,
   "metadata": {},
   "outputs": [
    {
     "name": "stdout",
     "output_type": "stream",
     "text": [
      "{'radius': 0.1, 'sigma_input': 0.1, 'regularization': 0.01, 'in_cluster_weight': 0.5, 'noise_level': 5}\n",
      "/home/user/anaconda3/lib/python3.11/site-packages/torch/cuda/__init__.py:107: UserWarning: CUDA initialization: Unexpected error from cudaGetDeviceCount(). Did you run some cuda functions before calling NumCudaDevices() that might have already set an error? Error 804: forward compatibility was attempted on non supported HW (Triggered internally at ../c10/cuda/CUDAFunctions.cpp:109.)\n",
      "  return torch._C._cuda_getDeviceCount() > 0\n",
      "AVERAGE RMNSE ERROR ON TRAIN DATA SET: 1.3604465783138444 ± 0.004837306235556144\n",
      "AVG NUMBER OF ACCURATE 0.5 PREDICTIONS ON TRAIN DATA SET: 2.9836601613991247 ± 0.11242203535604695\n",
      "AVG NUMBER OF ACCURATE 1 PREDICTIONS ON TRAIN DATA SET: 4.84151609485419 ± 0.17816128540601894\n",
      "POWER SPECTRUM MEAN ERROR ON TRAIN DATA SET: 0.6139135112926664 ± 0.482372378136759\n",
      "TEMPORAL DISTANCE ON TRAIN DATA SET: 0.10698934147311942 ± 0.0015989526380745427\n",
      "GEOMETRICAL DISTANCE ON TRAIN DATA SET: 12.908306790949188 ± 0.07742035835633193\n",
      "\n",
      "\n",
      "AVERAGE RMNSE ERROR ON TEST DATA SET: 1.3690887836553427 ± 0.008011948367479368\n",
      "AVG NUMBER OF ACCURATE 0.5 PREDICTIONS ON TEST DATA SET: 2.4470476641030676 ± 0.14154128355801254\n",
      "AVG NUMBER OF ACCURATE 1 PREDICTIONS ON TEST DATA SET: 4.038795194677227 ± 0.23232695020716887\n",
      "POWER SPECTRUM MEAN ERROR ON TEST DATA SET: 0.7669237207986527 ± 0.5068134269313499\n",
      "TEMPORAL DISTANCE ON TEST DATA SET: 0.10651496796279614 ± 0.001532341385065175\n",
      "GEOMETRICAL DISTANCE ON TEST DATA SET: 13.03418512488762 ± 0.11197572203997591\n"
     ]
    }
   ],
   "source": [
    "!bash ./1_PGClustered_ESN_Evaluate_Tuned_Model.sh \"evaluate_tuned_model\" 3500 1 1 8 \"grid_search.json\""
   ]
  },
  {
   "cell_type": "code",
   "execution_count": 23,
   "metadata": {
    "editable": true,
    "slideshow": {
     "slide_type": ""
    },
    "tags": []
   },
   "outputs": [
    {
     "name": "stdout",
     "output_type": "stream",
     "text": [
      "{'radius': 0.9, 'sigma_input': 0.1, 'regularization': 0.01, 'in_cluster_weight': 0.5, 'noise_level': 5}\n"
     ]
    }
   ],
   "source": [
    "!bash ./0_PGClustered_ESN_Tune.sh \"tune\" 4000 1 1 9 \"grid_search.json\""
   ]
  },
  {
   "cell_type": "code",
   "execution_count": 9,
   "metadata": {},
   "outputs": [
    {
     "name": "stdout",
     "output_type": "stream",
     "text": [
      "{'radius': 0.9, 'sigma_input': 0.1, 'regularization': 0.01, 'in_cluster_weight': 0.5, 'noise_level': 5}\n",
      "/home/user/anaconda3/lib/python3.11/site-packages/torch/cuda/__init__.py:107: UserWarning: CUDA initialization: Unexpected error from cudaGetDeviceCount(). Did you run some cuda functions before calling NumCudaDevices() that might have already set an error? Error 804: forward compatibility was attempted on non supported HW (Triggered internally at ../c10/cuda/CUDAFunctions.cpp:109.)\n",
      "  return torch._C._cuda_getDeviceCount() > 0\n",
      "AVERAGE RMNSE ERROR ON TRAIN DATA SET: 1.3596483832359445 ± 0.006915936025709548\n",
      "AVG NUMBER OF ACCURATE 0.5 PREDICTIONS ON TRAIN DATA SET: 2.9647248747900643 ± 0.1530336720518633\n",
      "AVG NUMBER OF ACCURATE 1 PREDICTIONS ON TRAIN DATA SET: 4.821059222714044 ± 0.35546241254851374\n",
      "POWER SPECTRUM MEAN ERROR ON TRAIN DATA SET: 0.4904942439223996 ± 0.32256273431853877\n",
      "TEMPORAL DISTANCE ON TRAIN DATA SET: 0.10731787323469129 ± 0.0012923357407735989\n",
      "GEOMETRICAL DISTANCE ON TRAIN DATA SET: 12.991549864894338 ± 0.07802350399514764\n",
      "\n",
      "\n",
      "AVERAGE RMNSE ERROR ON TEST DATA SET: 1.3688098677833973 ± 0.007511496135560403\n",
      "AVG NUMBER OF ACCURATE 0.5 PREDICTIONS ON TEST DATA SET: 2.4560081122305695 ± 0.14926070335154354\n",
      "AVG NUMBER OF ACCURATE 1 PREDICTIONS ON TEST DATA SET: 4.020028973127176 ± 0.3245501386420336\n",
      "POWER SPECTRUM MEAN ERROR ON TEST DATA SET: 0.8200173630697012 ± 0.3861280348549335\n",
      "TEMPORAL DISTANCE ON TEST DATA SET: 0.10685548012170565 ± 0.0014692412609526694\n",
      "GEOMETRICAL DISTANCE ON TEST DATA SET: 13.006638893501151 ± 0.11485379023560889\n"
     ]
    }
   ],
   "source": [
    "!bash ./1_PGClustered_ESN_Evaluate_Tuned_Model.sh \"evaluate_tuned_model\" 4000 1 1 9 \"grid_search.json\""
   ]
  },
  {
   "cell_type": "code",
   "execution_count": null,
   "metadata": {
    "editable": true,
    "slideshow": {
     "slide_type": ""
    },
    "tags": []
   },
   "outputs": [],
   "source": []
  },
  {
   "cell_type": "code",
   "execution_count": null,
   "metadata": {},
   "outputs": [],
   "source": []
  },
  {
   "cell_type": "code",
   "execution_count": null,
   "metadata": {},
   "outputs": [],
   "source": []
  }
 ],
 "metadata": {
  "kernelspec": {
   "display_name": "pgc_esn_exp",
   "language": "python",
   "name": "python3"
  },
  "language_info": {
   "codemirror_mode": {
    "name": "ipython",
    "version": 3
   },
   "file_extension": ".py",
   "mimetype": "text/x-python",
   "name": "python",
   "nbconvert_exporter": "python",
   "pygments_lexer": "ipython3",
   "version": "3.11.8"
  }
 },
 "nbformat": 4,
 "nbformat_minor": 4
}
