{
 "cells": [
  {
   "cell_type": "code",
   "execution_count": null,
   "metadata": {},
   "outputs": [],
   "source": [
    "!bash ./0_PGClustered_ESN_Tune.sh \"tune\" 250 1 1 1 \"grid_search.json\""
   ]
  },
  {
   "cell_type": "code",
   "execution_count": null,
   "metadata": {},
   "outputs": [],
   "source": [
    "!bash ./1_PGClustered_ESN_Evaluate_Tuned_Model.sh \"evaluate_tuned_model\" 250 1 1 1 \"grid_search.json\""
   ]
  },
  {
   "cell_type": "code",
   "execution_count": null,
   "metadata": {},
   "outputs": [],
   "source": [
    "!bash ./0_PGClustered_ESN_Tune.sh \"tune\" 500 1 1 2 \"grid_search.json\""
   ]
  },
  {
   "cell_type": "code",
   "execution_count": null,
   "metadata": {},
   "outputs": [],
   "source": [
    "!bash ./1_PGClustered_ESN_Evaluate_Tuned_Model.sh \"evaluate_tuned_model\" 500 1 1 2 \"grid_search.json\""
   ]
  },
  {
   "cell_type": "code",
   "execution_count": null,
   "metadata": {},
   "outputs": [],
   "source": [
    "!bash ./0_PGClustered_ESN_Tune.sh \"tune\" 1000 1 1 3 \"grid_search.json\""
   ]
  },
  {
   "cell_type": "code",
   "execution_count": null,
   "metadata": {},
   "outputs": [],
   "source": [
    "!bash ./1_PGClustered_ESN_Evaluate_Tuned_Model.sh \"evaluate_tuned_model\" 1000 1 1 3 \"grid_search.json\""
   ]
  },
  {
   "cell_type": "code",
   "execution_count": null,
   "metadata": {},
   "outputs": [],
   "source": [
    "!bash ./0_PGClustered_ESN_Tune.sh \"tune\" 1500 1 1 4 \"grid_search.json\""
   ]
  },
  {
   "cell_type": "code",
   "execution_count": null,
   "metadata": {},
   "outputs": [],
   "source": [
    "!bash ./1_PGClustered_ESN_Evaluate_Tuned_Model.sh \"evaluate_tuned_model\" 1500 1 1 4 \"grid_search.json\""
   ]
  },
  {
   "cell_type": "code",
   "execution_count": null,
   "metadata": {},
   "outputs": [],
   "source": [
    "!bash ./0_PGClustered_ESN_Tune.sh \"tune\" 2000 1 1 5 \"grid_search.json\""
   ]
  },
  {
   "cell_type": "code",
   "execution_count": null,
   "metadata": {},
   "outputs": [],
   "source": [
    "!bash ./1_PGClustered_ESN_Evaluate_Tuned_Model.sh \"evaluate_tuned_model\" 2000 1 1 5 \"grid_search.json\""
   ]
  },
  {
   "cell_type": "code",
   "execution_count": null,
   "metadata": {},
   "outputs": [],
   "source": [
    "!bash ./0_PGClustered_ESN_Tune.sh \"tune\" 2500 1 1 6 \"grid_search.json\""
   ]
  },
  {
   "cell_type": "code",
   "execution_count": null,
   "metadata": {},
   "outputs": [],
   "source": [
    "!bash ./1_PGClustered_ESN_Evaluate_Tuned_Model.sh \"evaluate_tuned_model\" 2500 1 1 6 \"grid_search.json\""
   ]
  },
  {
   "cell_type": "code",
   "execution_count": null,
   "metadata": {},
   "outputs": [],
   "source": [
    "!bash ./0_PGClustered_ESN_Tune.sh \"tune\" 3000 1 1 7 \"grid_search.json\""
   ]
  },
  {
   "cell_type": "code",
   "execution_count": null,
   "metadata": {},
   "outputs": [],
   "source": [
    "!bash ./1_PGClustered_ESN_Evaluate_Tuned_Model.sh \"evaluate_tuned_model\" 3000 1 1 7 \"grid_search.json\""
   ]
  },
  {
   "cell_type": "code",
   "execution_count": null,
   "metadata": {
    "editable": true,
    "slideshow": {
     "slide_type": ""
    },
    "tags": []
   },
   "outputs": [],
   "source": [
    "!bash ./0_PGClustered_ESN_Tune.sh \"tune\" 3500 1 1 8 \"grid_search.json\""
   ]
  },
  {
   "cell_type": "code",
   "execution_count": null,
   "metadata": {},
   "outputs": [],
   "source": [
    "!bash ./1_PGClustered_ESN_Evaluate_Tuned_Model.sh \"evaluate_tuned_model\" 3500 1 1 8 \"grid_search.json\""
   ]
  },
  {
   "cell_type": "code",
   "execution_count": null,
   "metadata": {
    "editable": true,
    "slideshow": {
     "slide_type": ""
    },
    "tags": []
   },
   "outputs": [],
   "source": [
    "!bash ./0_PGClustered_ESN_Tune.sh \"tune\" 4000 1 1 9 \"grid_search.json\""
   ]
  },
  {
   "cell_type": "code",
   "execution_count": null,
   "metadata": {},
   "outputs": [],
   "source": [
    "!bash ./1_PGClustered_ESN_Evaluate_Tuned_Model.sh \"evaluate_tuned_model\" 4000 1 1 9 \"grid_search.json\""
   ]
  }
 ],
 "metadata": {
  "kernelspec": {
   "display_name": "pgc_esn_exp",
   "language": "python",
   "name": "python3"
  },
  "language_info": {
   "codemirror_mode": {
    "name": "ipython",
    "version": 3
   },
   "file_extension": ".py",
   "mimetype": "text/x-python",
   "name": "python",
   "nbconvert_exporter": "python",
   "pygments_lexer": "ipython3",
   "version": "3.11.8"
  }
 },
 "nbformat": 4,
 "nbformat_minor": 4
}
