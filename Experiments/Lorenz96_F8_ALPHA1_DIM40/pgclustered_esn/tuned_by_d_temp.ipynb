{
 "cells": [
  {
   "cell_type": "markdown",
   "metadata": {},
   "source": [
    "### use --iterative_prediction_length 7000 \\ --num_test_ICS 20 \\ --N 50000 \\ --N_used 50000 \\ --sparsity 1 \\ --p_in 1 \\ method: tpe \\ size: half hyper space\\ metric: d_temp\n",
    "with washout evaluation, data seperation: 6:4"
   ]
  },
  {
   "cell_type": "code",
   "execution_count": 1,
   "metadata": {},
   "outputs": [
    {
     "name": "stdout",
     "output_type": "stream",
     "text": [
      "  3%|▎         | 1/30 [01:28<42:45, 88.48s/trial, best loss: 0.2729044840173433]/home/user/kuei_jan_CHU/PGClustered_ESN/Methods/./Utils/global_utils.py:254: RuntimeWarning: divide by zero encountered in log10\n",
      "  s_dbfs = 20 * np.log10(s_mag)\n",
      "\n",
      "100%|████████| 30/30 [44:09<00:00, 88.32s/trial, best loss: 0.12804982667410233]\n",
      "{'in_cluster_weight': 0.5, 'noise_level': 5, 'radius': 0.9, 'regularization': 0.01, 'sigma_input': 0.1}\n"
     ]
    }
   ],
   "source": [
    "!bash ./0_PGClustered_ESN_Tune.sh \"tune\" 500 1 1 0 \"random_search.json\" "
   ]
  },
  {
   "cell_type": "code",
   "execution_count": 1,
   "metadata": {},
   "outputs": [
    {
     "name": "stdout",
     "output_type": "stream",
     "text": [
      "AVERAGE RMNSE ERROR ON TRAIN DATA SET: 1.4075110211891528 ± 0.006032436392741156\n",
      "AVG NUMBER OF ACCURATE 0.5 PREDICTIONS ON TRAIN DATA SET: 1.3432600747123975 ± 0.09621166520696874\n",
      "AVG NUMBER OF ACCURATE 1 PREDICTIONS ON TRAIN DATA SET: 2.4770966419487737 ± 0.19180104190587857\n",
      "POWER SPECTRUM MEAN ERROR ON TRAIN DATA SET: 0.5850623688941757 ± 0.4449465166588842\n",
      "TEMPORAL DISTANCE ON TRAIN DATA SET: 0.11424984884049834 ± 0.0026283144387050923\n",
      "GEOMETRICAL DISTANCE ON TRAIN DATA SET: 7.93260486587161 ± 0.052728618884152936\n",
      "\n",
      "\n",
      "AVERAGE RMNSE ERROR ON TEST DATA SET: 1.410136378209053 ± 0.006515738017346497\n",
      "AVG NUMBER OF ACCURATE 0.5 PREDICTIONS ON TEST DATA SET: 1.2690980277993595 ± 0.11892099923786985\n",
      "AVG NUMBER OF ACCURATE 1 PREDICTIONS ON TEST DATA SET: 2.2564645523824858 ± 0.1326928042963634\n",
      "POWER SPECTRUM MEAN ERROR ON TEST DATA SET: 0.616492860807828 ± 0.34982004320153803\n",
      "TEMPORAL DISTANCE ON TEST DATA SET: 0.11320169395493862 ± 0.002660193329527485\n",
      "GEOMETRICAL DISTANCE ON TEST DATA SET: 7.938135391802403 ± 0.031569862927117845\n"
     ]
    }
   ],
   "source": [
    "!bash ./1_PGClustered_ESN_Evaluate_Tuned_Model.sh \"evaluate_tuned_model\" 500 1 1 0 \"random_search.json\" "
   ]
  },
  {
   "cell_type": "code",
   "execution_count": 3,
   "metadata": {},
   "outputs": [
    {
     "name": "stdout",
     "output_type": "stream",
     "text": [
      " 10%|▊       | 3/30 [06:33<58:38, 130.32s/trial, best loss: 0.17070934091668966]/home/user/kuei_jan_CHU/PGClustered_ESN/Methods/./Utils/global_utils.py:254: RuntimeWarning: divide by zero encountered in log10\n",
      "  s_dbfs = 20 * np.log10(s_mag)\n",
      "\n",
      "100%|█████| 30/30 [1:02:55<00:00, 125.85s/trial, best loss: 0.12280187166768068]\n",
      "{'in_cluster_weight': 0.5, 'noise_level': 5, 'radius': 0.7, 'regularization': 0.01, 'sigma_input': 0.1}\n"
     ]
    }
   ],
   "source": [
    "!bash ./0_PGClustered_ESN_Tune.sh \"tune\" 1000 1 1 1 \"random_search.json\" "
   ]
  },
  {
   "cell_type": "code",
   "execution_count": 2,
   "metadata": {},
   "outputs": [
    {
     "name": "stdout",
     "output_type": "stream",
     "text": [
      "AVERAGE RMNSE ERROR ON TRAIN DATA SET: 1.381663452341867 ± 0.006143630731601775\n",
      "AVG NUMBER OF ACCURATE 0.5 PREDICTIONS ON TRAIN DATA SET: 2.1807012794565526 ± 0.08712035285133289\n",
      "AVG NUMBER OF ACCURATE 1 PREDICTIONS ON TRAIN DATA SET: 3.5509293712282366 ± 0.258297676632207\n",
      "POWER SPECTRUM MEAN ERROR ON TRAIN DATA SET: 0.3831617908774083 ± 0.26751728909607214\n",
      "TEMPORAL DISTANCE ON TRAIN DATA SET: 0.1089744525511294 ± 0.001496154701880398\n",
      "GEOMETRICAL DISTANCE ON TRAIN DATA SET: 7.8554833934617445 ± 0.04290363927283605\n",
      "\n",
      "\n",
      "AVERAGE RMNSE ERROR ON TEST DATA SET: 1.3869884518788669 ± 0.007733317612662797\n",
      "AVG NUMBER OF ACCURATE 0.5 PREDICTIONS ON TEST DATA SET: 2.0035551173983643 ± 0.12930781465341395\n",
      "AVG NUMBER OF ACCURATE 1 PREDICTIONS ON TEST DATA SET: 3.1786864607567726 ± 0.1804296417040957\n",
      "POWER SPECTRUM MEAN ERROR ON TEST DATA SET: 0.5036251885915191 ± 0.3128245508946607\n",
      "TEMPORAL DISTANCE ON TEST DATA SET: 0.1083611096025271 ± 0.0016105676047186827\n",
      "GEOMETRICAL DISTANCE ON TEST DATA SET: 7.859455529322584 ± 0.05346363870191473\n"
     ]
    }
   ],
   "source": [
    "!bash ./1_PGClustered_ESN_Evaluate_Tuned_Model.sh \"evaluate_tuned_model\" 1000 1 1 1 \"random_search.json\" "
   ]
  },
  {
   "cell_type": "code",
   "execution_count": 5,
   "metadata": {},
   "outputs": [
    {
     "name": "stdout",
     "output_type": "stream",
     "text": [
      " 10%|▌     | 3/30 [09:37<1:25:08, 189.20s/trial, best loss: 0.14698932325231526]/home/user/kuei_jan_CHU/PGClustered_ESN/Methods/./Utils/global_utils.py:254: RuntimeWarning: divide by zero encountered in log10\n",
      "  s_dbfs = 20 * np.log10(s_mag)\n",
      "\n",
      "100%|█████| 30/30 [1:35:08<00:00, 190.27s/trial, best loss: 0.12168117750293121]\n",
      "{'in_cluster_weight': 0.5, 'noise_level': 5, 'radius': 0.7, 'regularization': 0.01, 'sigma_input': 0.3}\n"
     ]
    }
   ],
   "source": [
    "!bash ./0_PGClustered_ESN_Tune.sh \"tune\" 1500 1 1 2 \"random_search.json\" "
   ]
  },
  {
   "cell_type": "code",
   "execution_count": 3,
   "metadata": {},
   "outputs": [
    {
     "name": "stdout",
     "output_type": "stream",
     "text": [
      "AVERAGE RMNSE ERROR ON TRAIN DATA SET: 1.3739230201385282 ± 0.007991043568186189\n",
      "AVG NUMBER OF ACCURATE 0.5 PREDICTIONS ON TRAIN DATA SET: 2.0087801707036017 ± 0.1284475675320613\n",
      "AVG NUMBER OF ACCURATE 1 PREDICTIONS ON TRAIN DATA SET: 3.359709275267234 ± 0.21307766896109506\n",
      "POWER SPECTRUM MEAN ERROR ON TRAIN DATA SET: 0.5567645546017552 ± 0.309487826772464\n",
      "TEMPORAL DISTANCE ON TRAIN DATA SET: 0.10802939033478218 ± 0.001962457164253802\n",
      "GEOMETRICAL DISTANCE ON TRAIN DATA SET: 7.827752614398749 ± 0.03874726939735147\n",
      "\n",
      "\n",
      "AVERAGE RMNSE ERROR ON TEST DATA SET: 1.3829136005624567 ± 0.007160287624068778\n",
      "AVG NUMBER OF ACCURATE 0.5 PREDICTIONS ON TEST DATA SET: 1.7538481344400338 ± 0.11001232663205032\n",
      "AVG NUMBER OF ACCURATE 1 PREDICTIONS ON TEST DATA SET: 2.9269568765189957 ± 0.12524245506726603\n",
      "POWER SPECTRUM MEAN ERROR ON TEST DATA SET: 0.7021151215515585 ± 0.3535762748880818\n",
      "TEMPORAL DISTANCE ON TEST DATA SET: 0.10774032436586786 ± 0.0013253877301316113\n",
      "GEOMETRICAL DISTANCE ON TEST DATA SET: 7.8496111103209385 ± 0.049403823937443164\n"
     ]
    }
   ],
   "source": [
    "!bash ./1_PGClustered_ESN_Evaluate_Tuned_Model.sh \"evaluate_tuned_model\" 1500 1 1 2 \"random_search.json\" "
   ]
  },
  {
   "cell_type": "code",
   "execution_count": 7,
   "metadata": {},
   "outputs": [
    {
     "name": "stdout",
     "output_type": "stream",
     "text": [
      " 10%|▋      | 3/30 [13:49<2:02:50, 272.97s/trial, best loss: 0.1370337409016254]/home/user/kuei_jan_CHU/PGClustered_ESN/Methods/./Utils/global_utils.py:254: RuntimeWarning: divide by zero encountered in log10\n",
      "  s_dbfs = 20 * np.log10(s_mag)\n",
      "\n",
      "100%|█████| 30/30 [2:13:05<00:00, 266.19s/trial, best loss: 0.12109466593476345]\n",
      "{'in_cluster_weight': 0.5, 'noise_level': 5, 'radius': 0.7, 'regularization': 0.01, 'sigma_input': 0.3}\n"
     ]
    }
   ],
   "source": [
    "!bash ./0_PGClustered_ESN_Tune.sh \"tune\" 2000 1 1 3 \"random_search.json\" "
   ]
  },
  {
   "cell_type": "code",
   "execution_count": 4,
   "metadata": {},
   "outputs": [
    {
     "name": "stdout",
     "output_type": "stream",
     "text": [
      "AVERAGE RMNSE ERROR ON TRAIN DATA SET: 1.369111328618765 ± 0.007011961993357183\n",
      "AVG NUMBER OF ACCURATE 0.5 PREDICTIONS ON TRAIN DATA SET: 2.4629384329926474 ± 0.18536824327995757\n",
      "AVG NUMBER OF ACCURATE 1 PREDICTIONS ON TRAIN DATA SET: 3.9106152987564706 ± 0.1676554913828583\n",
      "POWER SPECTRUM MEAN ERROR ON TRAIN DATA SET: 0.5691163614504633 ± 0.35598040061925756\n",
      "TEMPORAL DISTANCE ON TRAIN DATA SET: 0.10615228524816674 ± 0.0011736492461828733\n",
      "GEOMETRICAL DISTANCE ON TRAIN DATA SET: 7.813859973610578 ± 0.0389097630209992\n",
      "\n",
      "\n",
      "AVERAGE RMNSE ERROR ON TEST DATA SET: 1.3743962090239434 ± 0.006105674520977466\n",
      "AVG NUMBER OF ACCURATE 0.5 PREDICTIONS ON TEST DATA SET: 2.0638960555685184 ± 0.1363303656456759\n",
      "AVG NUMBER OF ACCURATE 1 PREDICTIONS ON TEST DATA SET: 3.3222911515974736 ± 0.23379540268879082\n",
      "POWER SPECTRUM MEAN ERROR ON TEST DATA SET: 0.7142588235619755 ± 0.3745519298143595\n",
      "TEMPORAL DISTANCE ON TEST DATA SET: 0.10687531631789879 ± 0.001164717734518369\n",
      "GEOMETRICAL DISTANCE ON TEST DATA SET: 7.817996227974331 ± 0.04480695098574321\n"
     ]
    }
   ],
   "source": [
    "!bash ./1_PGClustered_ESN_Evaluate_Tuned_Model.sh \"evaluate_tuned_model\" 2000 1 1 3 \"random_search.json\" "
   ]
  },
  {
   "cell_type": "code",
   "execution_count": 9,
   "metadata": {},
   "outputs": [
    {
     "name": "stdout",
     "output_type": "stream",
     "text": [
      " 10%|▋      | 3/30 [32:33<4:52:41, 650.44s/trial, best loss: 0.1304037286594191]/home/user/kuei_jan_CHU/PGClustered_ESN/Methods/./Utils/global_utils.py:254: RuntimeWarning: divide by zero encountered in log10\n",
      "  s_dbfs = 20 * np.log10(s_mag)\n",
      "\n",
      "100%|█████| 30/30 [3:10:11<00:00, 380.39s/trial, best loss: 0.12032552640353852]\n",
      "{'in_cluster_weight': 0.5, 'noise_level': 5, 'radius': 0.7, 'regularization': 0.01, 'sigma_input': 0.1}\n"
     ]
    }
   ],
   "source": [
    "!bash ./0_PGClustered_ESN_Tune.sh \"tune\" 2500 1 1 4 \"random_search.json\" "
   ]
  },
  {
   "cell_type": "code",
   "execution_count": 5,
   "metadata": {},
   "outputs": [
    {
     "name": "stdout",
     "output_type": "stream",
     "text": [
      "AVERAGE RMNSE ERROR ON TRAIN DATA SET: 1.3667428743827634 ± 0.005664306781414404\n",
      "AVG NUMBER OF ACCURATE 0.5 PREDICTIONS ON TRAIN DATA SET: 2.7386021323705414 ± 0.13150646139977037\n",
      "AVG NUMBER OF ACCURATE 1 PREDICTIONS ON TRAIN DATA SET: 4.362413859552829 ± 0.2938880761928703\n",
      "POWER SPECTRUM MEAN ERROR ON TRAIN DATA SET: 0.5429184772101083 ± 0.4116301929001781\n",
      "TEMPORAL DISTANCE ON TRAIN DATA SET: 0.10707483371517527 ± 0.0012198126979981103\n",
      "GEOMETRICAL DISTANCE ON TRAIN DATA SET: 7.826167196342608 ± 0.0408361092325247\n",
      "\n",
      "\n",
      "AVERAGE RMNSE ERROR ON TEST DATA SET: 1.3717961890090358 ± 0.007863167574036987\n",
      "AVG NUMBER OF ACCURATE 0.5 PREDICTIONS ON TEST DATA SET: 2.350094136610196 ± 0.1475936030962143\n",
      "AVG NUMBER OF ACCURATE 1 PREDICTIONS ON TEST DATA SET: 3.8193454160214473 ± 0.1730362024818679\n",
      "POWER SPECTRUM MEAN ERROR ON TEST DATA SET: 0.6650605813808446 ± 0.4357234263235488\n",
      "TEMPORAL DISTANCE ON TEST DATA SET: 0.10672168443311207 ± 0.001349477822670369\n",
      "GEOMETRICAL DISTANCE ON TEST DATA SET: 7.831384579856253 ± 0.03867655681077261\n"
     ]
    }
   ],
   "source": [
    "!bash ./1_PGClustered_ESN_Evaluate_Tuned_Model.sh \"evaluate_tuned_model\" 2500 1 1 4 \"random_search.json\" "
   ]
  },
  {
   "cell_type": "code",
   "execution_count": 11,
   "metadata": {},
   "outputs": [
    {
     "name": "stdout",
     "output_type": "stream",
     "text": [
      " 10%|▋      | 3/30 [18:05<2:42:05, 360.21s/trial, best loss: 0.1268935729688203]/home/user/kuei_jan_CHU/PGClustered_ESN/Methods/./Utils/global_utils.py:254: RuntimeWarning: divide by zero encountered in log10\n",
      "  s_dbfs = 20 * np.log10(s_mag)\n",
      "\n",
      "100%|█████| 30/30 [3:04:19<00:00, 368.64s/trial, best loss: 0.12135958403443133]\n",
      "{'in_cluster_weight': 0.5, 'noise_level': 5, 'radius': 0.7, 'regularization': 0.01, 'sigma_input': 0.3}\n"
     ]
    }
   ],
   "source": [
    "!bash ./0_PGClustered_ESN_Tune.sh \"tune\" 3000 1 1 5 \"random_search.json\" "
   ]
  },
  {
   "cell_type": "code",
   "execution_count": 6,
   "metadata": {},
   "outputs": [
    {
     "name": "stdout",
     "output_type": "stream",
     "text": [
      "AVERAGE RMNSE ERROR ON TRAIN DATA SET: 1.3599136042020579 ± 0.0061798338299070815\n",
      "AVG NUMBER OF ACCURATE 0.5 PREDICTIONS ON TRAIN DATA SET: 2.9905002667149394 ± 0.1799463822490896\n",
      "AVG NUMBER OF ACCURATE 1 PREDICTIONS ON TRAIN DATA SET: 4.5339978680925395 ± 0.2963104163057575\n",
      "POWER SPECTRUM MEAN ERROR ON TRAIN DATA SET: 0.299551447380676 ± 0.18343363759965925\n",
      "TEMPORAL DISTANCE ON TRAIN DATA SET: 0.10634416755017236 ± 0.0013373701830407074\n",
      "GEOMETRICAL DISTANCE ON TRAIN DATA SET: 7.812534835919571 ± 0.03812932198784267\n",
      "\n",
      "\n",
      "AVERAGE RMNSE ERROR ON TEST DATA SET: 1.368169561767286 ± 0.007946858799230565\n",
      "AVG NUMBER OF ACCURATE 0.5 PREDICTIONS ON TEST DATA SET: 2.360038592900808 ± 0.17981508053995754\n",
      "AVG NUMBER OF ACCURATE 1 PREDICTIONS ON TEST DATA SET: 3.7182996271024336 ± 0.2913428816505048\n",
      "POWER SPECTRUM MEAN ERROR ON TEST DATA SET: 0.6308834721502604 ± 0.31020251834318685\n",
      "TEMPORAL DISTANCE ON TEST DATA SET: 0.10573360619832126 ± 0.0012352800091937715\n",
      "GEOMETRICAL DISTANCE ON TEST DATA SET: 7.814498569956551 ± 0.0442454288931254\n"
     ]
    }
   ],
   "source": [
    "!bash ./1_PGClustered_ESN_Evaluate_Tuned_Model.sh \"evaluate_tuned_model\" 3000 1 1 5 \"random_search.json\" "
   ]
  },
  {
   "cell_type": "code",
   "execution_count": 13,
   "metadata": {},
   "outputs": [
    {
     "name": "stdout",
     "output_type": "stream",
     "text": [
      " 10%|▌     | 3/30 [30:51<4:36:01, 613.38s/trial, best loss: 0.12432367173554257]/home/user/kuei_jan_CHU/PGClustered_ESN/Methods/./Utils/global_utils.py:254: RuntimeWarning: divide by zero encountered in log10\n",
      "  s_dbfs = 20 * np.log10(s_mag)\n",
      "\n",
      "100%|█████| 30/30 [5:08:03<00:00, 616.11s/trial, best loss: 0.12105964907749753]\n",
      "{'in_cluster_weight': 0.5, 'noise_level': 5, 'radius': 0.7, 'regularization': 0.01, 'sigma_input': 0.3}\n"
     ]
    }
   ],
   "source": [
    "!bash ./0_PGClustered_ESN_Tune.sh \"tune\" 3500 1 1 6 \"random_search.json\" "
   ]
  },
  {
   "cell_type": "code",
   "execution_count": 7,
   "metadata": {
    "editable": true,
    "slideshow": {
     "slide_type": ""
    },
    "tags": []
   },
   "outputs": [
    {
     "name": "stdout",
     "output_type": "stream",
     "text": [
      "AVERAGE RMNSE ERROR ON TRAIN DATA SET: 1.35756045463756 ± 0.0075686995914451384\n",
      "AVG NUMBER OF ACCURATE 0.5 PREDICTIONS ON TRAIN DATA SET: 3.1502857677912117 ± 0.20659834658707826\n",
      "AVG NUMBER OF ACCURATE 1 PREDICTIONS ON TRAIN DATA SET: 4.683164712451717 ± 0.19752497668932043\n",
      "POWER SPECTRUM MEAN ERROR ON TRAIN DATA SET: 0.48537764657997606 ± 0.3612669956808391\n",
      "TEMPORAL DISTANCE ON TRAIN DATA SET: 0.10638914921232553 ± 0.0017602684605079377\n",
      "GEOMETRICAL DISTANCE ON TRAIN DATA SET: 7.811398630771224 ± 0.04809337922624955\n",
      "\n",
      "\n",
      "AVERAGE RMNSE ERROR ON TEST DATA SET: 1.3657595785333143 ± 0.006566479968328769\n",
      "AVG NUMBER OF ACCURATE 0.5 PREDICTIONS ON TEST DATA SET: 2.395855490557673 ± 0.20159711338232772\n",
      "AVG NUMBER OF ACCURATE 1 PREDICTIONS ON TEST DATA SET: 3.794905650561469 ± 0.28162271621901347\n",
      "POWER SPECTRUM MEAN ERROR ON TEST DATA SET: 0.6219833312233777 ± 0.447517383836148\n",
      "TEMPORAL DISTANCE ON TEST DATA SET: 0.1065033509201894 ± 0.0012820898388392582\n",
      "GEOMETRICAL DISTANCE ON TEST DATA SET: 7.8113817486358075 ± 0.04092168883538779\n"
     ]
    }
   ],
   "source": [
    "!bash ./1_PGClustered_ESN_Evaluate_Tuned_Model.sh \"evaluate_tuned_model\" 3500 1 1 6 \"random_search.json\" "
   ]
  },
  {
   "cell_type": "code",
   "execution_count": 15,
   "metadata": {},
   "outputs": [
    {
     "name": "stdout",
     "output_type": "stream",
     "text": [
      " 10%|▌     | 3/30 [40:15<6:02:26, 805.42s/trial, best loss: 0.12529455576679366]/home/user/kuei_jan_CHU/PGClustered_ESN/Methods/./Utils/global_utils.py:254: RuntimeWarning: divide by zero encountered in log10\n",
      "  s_dbfs = 20 * np.log10(s_mag)\n",
      "\n",
      "100%|████| 30/30 [9:57:15<00:00, 1194.50s/trial, best loss: 0.12108319591349267]\n",
      "{'in_cluster_weight': 0.5, 'noise_level': 5, 'radius': 0.9, 'regularization': 0.01, 'sigma_input': 0.1}\n"
     ]
    }
   ],
   "source": [
    "!bash ./0_PGClustered_ESN_Tune.sh \"tune\" 4000 1 1 7 \"random_search.json\" "
   ]
  },
  {
   "cell_type": "code",
   "execution_count": 8,
   "metadata": {},
   "outputs": [
    {
     "name": "stdout",
     "output_type": "stream",
     "text": [
      "AVERAGE RMNSE ERROR ON TRAIN DATA SET: 1.358586373626117 ± 0.007554276472275276\n",
      "AVG NUMBER OF ACCURATE 0.5 PREDICTIONS ON TRAIN DATA SET: 2.9501325161793197 ± 0.13367744978272247\n",
      "AVG NUMBER OF ACCURATE 1 PREDICTIONS ON TRAIN DATA SET: 4.776541471519497 ± 0.3109253369540432\n",
      "POWER SPECTRUM MEAN ERROR ON TRAIN DATA SET: 0.4537059136028664 ± 0.27792947088075465\n",
      "TEMPORAL DISTANCE ON TRAIN DATA SET: 0.10722310463560554 ± 0.0014477503920780725\n",
      "GEOMETRICAL DISTANCE ON TRAIN DATA SET: 7.801056210368394 ± 0.03674756421122673\n",
      "\n",
      "\n",
      "AVERAGE RMNSE ERROR ON TEST DATA SET: 1.3688130029093466 ± 0.006886354263805651\n",
      "AVG NUMBER OF ACCURATE 0.5 PREDICTIONS ON TEST DATA SET: 2.468921961777677 ± 0.15373543833063874\n",
      "AVG NUMBER OF ACCURATE 1 PREDICTIONS ON TEST DATA SET: 3.9964915780796355 ± 0.26260404114797037\n",
      "POWER SPECTRUM MEAN ERROR ON TEST DATA SET: 0.5915241481305614 ± 0.41570580319474015\n",
      "TEMPORAL DISTANCE ON TEST DATA SET: 0.10705775853257733 ± 0.0014197034584999598\n",
      "GEOMETRICAL DISTANCE ON TEST DATA SET: 7.814813996401229 ± 0.045876209703309564\n"
     ]
    }
   ],
   "source": [
    "!bash ./1_PGClustered_ESN_Evaluate_Tuned_Model.sh \"evaluate_tuned_model\" 4000 1 1 7 \"random_search.json\" "
   ]
  },
  {
   "cell_type": "code",
   "execution_count": 21,
   "metadata": {
    "editable": true,
    "slideshow": {
     "slide_type": ""
    },
    "tags": []
   },
   "outputs": [
    {
     "name": "stdout",
     "output_type": "stream",
     "text": [
      " 10%|▏ | 3/30 [1:28:59<13:16:06, 1769.11s/trial, best loss: 0.12589171229176863]/home/user/kuei_jan_CHU/PGClustered_ESN/Methods/./Utils/global_utils.py:254: RuntimeWarning: divide by zero encountered in log10\n",
      "  s_dbfs = 20 * np.log10(s_mag)\n",
      "\n",
      "100%|████| 30/30 [9:31:59<00:00, 1143.97s/trial, best loss: 0.12185729019576219]\n",
      "{'in_cluster_weight': 0.5, 'noise_level': 5, 'radius': 0.99, 'regularization': 0.01, 'sigma_input': 0.3}\n"
     ]
    }
   ],
   "source": [
    "!bash ./0_PGClustered_ESN_Tune.sh \"tune\" 4500 1 1 8 \"random_search.json\" "
   ]
  },
  {
   "cell_type": "code",
   "execution_count": 9,
   "metadata": {
    "editable": true,
    "slideshow": {
     "slide_type": ""
    },
    "tags": []
   },
   "outputs": [
    {
     "name": "stdout",
     "output_type": "stream",
     "text": [
      "AVERAGE RMNSE ERROR ON TRAIN DATA SET: 1.3593647491418341 ± 0.0070392146197296645\n",
      "AVG NUMBER OF ACCURATE 0.5 PREDICTIONS ON TRAIN DATA SET: 2.9190350215078302 ± 0.1670639161994246\n",
      "AVG NUMBER OF ACCURATE 1 PREDICTIONS ON TRAIN DATA SET: 4.507451226299803 ± 0.3011914830341372\n",
      "POWER SPECTRUM MEAN ERROR ON TRAIN DATA SET: 0.41971533883213547 ± 0.23252265004677158\n",
      "TEMPORAL DISTANCE ON TRAIN DATA SET: 0.1068899052440297 ± 0.001410542557774531\n",
      "GEOMETRICAL DISTANCE ON TRAIN DATA SET: 7.8050550047649185 ± 0.034546108998811186\n",
      "\n",
      "\n",
      "AVERAGE RMNSE ERROR ON TEST DATA SET: 1.3707864266020025 ± 0.00627461094715202\n",
      "AVG NUMBER OF ACCURATE 0.5 PREDICTIONS ON TEST DATA SET: 2.2193835289259667 ± 0.16367150510173745\n",
      "AVG NUMBER OF ACCURATE 1 PREDICTIONS ON TEST DATA SET: 3.4708680705834802 ± 0.3074946562118885\n",
      "POWER SPECTRUM MEAN ERROR ON TEST DATA SET: 0.6864992822536621 ± 0.3616210978503633\n",
      "TEMPORAL DISTANCE ON TEST DATA SET: 0.10606963708340564 ± 0.0012931187664027902\n",
      "GEOMETRICAL DISTANCE ON TEST DATA SET: 7.8114604249829735 ± 0.04074786617055436\n"
     ]
    }
   ],
   "source": [
    "!bash ./1_PGClustered_ESN_Evaluate_Tuned_Model.sh \"evaluate_tuned_model\" 4500 1 1 8 \"random_search.json\" "
   ]
  },
  {
   "cell_type": "code",
   "execution_count": 19,
   "metadata": {
    "editable": true,
    "slideshow": {
     "slide_type": ""
    },
    "tags": []
   },
   "outputs": [
    {
     "name": "stdout",
     "output_type": "stream",
     "text": [
      " 10%|▏ | 3/30 [1:30:13<12:57:49, 1728.52s/trial, best loss: 0.12464237414977619]/home/user/kuei_jan_CHU/PGClustered_ESN/Methods/./Utils/global_utils.py:254: RuntimeWarning: divide by zero encountered in log10\n",
      "  s_dbfs = 20 * np.log10(s_mag)\n",
      "\n",
      "100%|███| 30/30 [13:36:06<00:00, 1632.23s/trial, best loss: 0.12043259284113177]\n",
      "{'in_cluster_weight': 0.5, 'noise_level': 5, 'radius': 0.9, 'regularization': 0.01, 'sigma_input': 0.1}\n"
     ]
    }
   ],
   "source": [
    "!bash ./0_PGClustered_ESN_Tune.sh \"tune\" 5000 1 1 9 \"random_search.json\" "
   ]
  },
  {
   "cell_type": "code",
   "execution_count": 10,
   "metadata": {
    "editable": true,
    "slideshow": {
     "slide_type": ""
    },
    "tags": []
   },
   "outputs": [
    {
     "name": "stdout",
     "output_type": "stream",
     "text": [
      "AVERAGE RMNSE ERROR ON TRAIN DATA SET: 1.3576959799537076 ± 0.009598482418910705\n",
      "AVG NUMBER OF ACCURATE 0.5 PREDICTIONS ON TRAIN DATA SET: 3.0778092219443796 ± 0.1402307258821478\n",
      "AVG NUMBER OF ACCURATE 1 PREDICTIONS ON TRAIN DATA SET: 4.804773614378438 ± 0.2493523663617992\n",
      "POWER SPECTRUM MEAN ERROR ON TRAIN DATA SET: 0.3537143777278445 ± 0.22260520348789833\n",
      "TEMPORAL DISTANCE ON TRAIN DATA SET: 0.10648645496963034 ± 0.0013312584994238214\n",
      "GEOMETRICAL DISTANCE ON TRAIN DATA SET: 7.800129401440154 ± 0.040241141937760856\n",
      "\n",
      "\n",
      "AVERAGE RMNSE ERROR ON TEST DATA SET: 1.3668430308729957 ± 0.005535083448026538\n",
      "AVG NUMBER OF ACCURATE 0.5 PREDICTIONS ON TEST DATA SET: 2.580839232573716 ± 0.13452959562555944\n",
      "AVG NUMBER OF ACCURATE 1 PREDICTIONS ON TEST DATA SET: 4.141697494933231 ± 0.2286709270705716\n",
      "POWER SPECTRUM MEAN ERROR ON TEST DATA SET: 0.7905210495059765 ± 0.4344386212145775\n",
      "TEMPORAL DISTANCE ON TEST DATA SET: 0.10596255138383522 ± 0.0017671151427684447\n",
      "GEOMETRICAL DISTANCE ON TEST DATA SET: 7.806594824142939 ± 0.033294299452669325\n"
     ]
    }
   ],
   "source": [
    "!bash ./1_PGClustered_ESN_Evaluate_Tuned_Model.sh \"evaluate_tuned_model\" 5000 1 1 9 \"random_search.json\" "
   ]
  },
  {
   "cell_type": "code",
   "execution_count": null,
   "metadata": {
    "editable": true,
    "slideshow": {
     "slide_type": ""
    },
    "tags": []
   },
   "outputs": [],
   "source": []
  }
 ],
 "metadata": {
  "kernelspec": {
   "display_name": "base",
   "language": "python",
   "name": "python3"
  },
  "language_info": {
   "codemirror_mode": {
    "name": "ipython",
    "version": 3
   },
   "file_extension": ".py",
   "mimetype": "text/x-python",
   "name": "python",
   "nbconvert_exporter": "python",
   "pygments_lexer": "ipython3",
   "version": "3.11.8"
  }
 },
 "nbformat": 4,
 "nbformat_minor": 4
}
