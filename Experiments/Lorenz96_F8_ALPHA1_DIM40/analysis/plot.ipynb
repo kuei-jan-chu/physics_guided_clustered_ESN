{
 "cells": [
  {
   "cell_type": "code",
   "execution_count": 2,
   "metadata": {},
   "outputs": [],
   "source": [
    "!bash ./lorenz96_Plot_Metric_Results_Over_Model_size.sh \"pgclustered_esn randomly_clustered_esn standard_esn paralleled_esn\" "
   ]
  },
  {
   "cell_type": "code",
   "execution_count": null,
   "metadata": {},
   "outputs": [],
   "source": [
    "!bash ./lorenz96_Plot_All_NRMSE_of_One_Model_size.sh \"plot_nrmse_over_all_model_with_size_fixed\" \"pgclustered_esn randomly_clustered_esn standard_esn paralleled_esn\" \"grid_search.json\" 2 500"
   ]
  },
  {
   "cell_type": "code",
   "execution_count": null,
   "metadata": {},
   "outputs": [],
   "source": [
    "!bash ./lorenz96_Plot_Metric_results_Over_Model_size_with_specific_model_autopgcesn.sh \"standard_esn auto_pgclustered_esn\" \"auto_pgclustered_esn\" \"len\" \"3000 100000\""
   ]
  },
  {
   "cell_type": "code",
   "execution_count": 1,
   "metadata": {},
   "outputs": [],
   "source": [
    "!bash ./lorenz96_Plot_Metric_results_Over_Model_size_with_specific_model_partpgesn.sh \"pgclustered_esn standard_esn paralleled_esn partially_pgclustered_esn\" \"partially_pgclustered_esn\" \"pb\" \"0.1 0.3 0.5\""
   ]
  },
  {
   "cell_type": "code",
   "execution_count": 12,
   "metadata": {},
   "outputs": [],
   "source": [
    "!bash ./lorenz96_Plot_Metric_Results_Over_Training_data_length_Reservoir_size_3000.sh \"pgclustered_esn randomly_clustered_esn standard_esn paralleled_esn\" "
   ]
  },
  {
   "cell_type": "code",
   "execution_count": null,
   "metadata": {},
   "outputs": [],
   "source": [
    "!bash ./lorenz96_Plot_Metric_Results_Over_Noise_level_Reservoir_size_3000.sh \"pgclustered_esn randomly_clustered_esn standard_esn paralleled_esn\""
   ]
  },
  {
   "cell_type": "code",
   "execution_count": 2,
   "metadata": {},
   "outputs": [],
   "source": [
    "!bash ./lorenz96_Plot_Metric_Results_Over_Step_size_Reservoir_size_3000.sh \"pgclustered_esn randomly_clustered_esn standard_esn paralleled_esn\" "
   ]
  }
 ],
 "metadata": {
  "kernelspec": {
   "display_name": "pgc_esn_exp",
   "language": "python",
   "name": "python3"
  },
  "language_info": {
   "codemirror_mode": {
    "name": "ipython",
    "version": 3
   },
   "file_extension": ".py",
   "mimetype": "text/x-python",
   "name": "python",
   "nbconvert_exporter": "python",
   "pygments_lexer": "ipython3",
   "version": "3.11.8"
  }
 },
 "nbformat": 4,
 "nbformat_minor": 4
}
