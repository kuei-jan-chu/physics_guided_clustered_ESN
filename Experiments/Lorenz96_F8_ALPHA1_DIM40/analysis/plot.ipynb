{
 "cells": [
  {
   "cell_type": "code",
   "execution_count": 1,
   "metadata": {},
   "outputs": [],
   "source": [
    "!bash ./lorenz96_Plot_Metric_Results_Over_Model_size.sh \"pgclustered_esn randomly_clustered_esn standard_esn paralleled_esn\" "
   ]
  },
  {
   "cell_type": "code",
   "execution_count": 1,
   "metadata": {},
   "outputs": [
    {
     "name": "stdout",
     "output_type": "stream",
     "text": [
      "[tuf-4090:880165] shmem: mmap: an error occurred while determining whether or not /tmp/ompi.tuf-4090.1000/jf.0/3615490048/shared_mem_cuda_pool.tuf-4090 could be created.\n",
      "[tuf-4090:880165] create_and_attach: unable to create shared memory BTL coordinating structure :: size 134217728 \n"
     ]
    }
   ],
   "source": [
    "!bash ./lorenz96_Plot_All_NRMSE_of_One_Model_size.sh \"plot_nrmse_over_all_model_with_size_fixed\" \"pgclustered_esn randomly_clustered_esn standard_esn paralleled_esn\" \"grid_search.json\" 2 500"
   ]
  },
  {
   "cell_type": "code",
   "execution_count": 3,
   "metadata": {},
   "outputs": [],
   "source": [
    "!bash ./lorenz96_Plot_Metric_results_Over_Model_size_with_specific_model_partpgesn.sh \"pgclustered_esn standard_esn partially_pgclustered_esn\" \"partially_pgclustered_esn\" \"pb\" \"0.1 0.3 0.5\""
   ]
  },
  {
   "cell_type": "code",
   "execution_count": 4,
   "metadata": {},
   "outputs": [],
   "source": [
    "!bash ./lorenz96_Plot_Metric_results_Over_Model_size_with_specific_model_movedpgesn.sh \"pgclustered_esn standard_esn moved_pgclustered_esn\" \"moved_pgclustered_esn\" \"mv\" \"1 2\""
   ]
  },
  {
   "cell_type": "code",
   "execution_count": 3,
   "metadata": {},
   "outputs": [],
   "source": [
    "!bash ./lorenz96_Plot_Metric_Results_Over_Training_data_length_Reservoir_size_3000.sh \"pgclustered_esn randomly_clustered_esn standard_esn\" "
   ]
  },
  {
   "cell_type": "code",
   "execution_count": 4,
   "metadata": {},
   "outputs": [],
   "source": [
    "!bash ./lorenz96_Plot_Metric_Results_Over_Noise_level_Reservoir_size_3000.sh \"pgclustered_esn randomly_clustered_esn standard_esn paralleled_esn\" "
   ]
  },
  {
   "cell_type": "code",
   "execution_count": null,
   "metadata": {},
   "outputs": [],
   "source": []
  }
 ],
 "metadata": {
  "kernelspec": {
   "display_name": "base",
   "language": "python",
   "name": "python3"
  },
  "language_info": {
   "codemirror_mode": {
    "name": "ipython",
    "version": 3
   },
   "file_extension": ".py",
   "mimetype": "text/x-python",
   "name": "python",
   "nbconvert_exporter": "python",
   "pygments_lexer": "ipython3",
   "version": "3.11.8"
  }
 },
 "nbformat": 4,
 "nbformat_minor": 4
}
