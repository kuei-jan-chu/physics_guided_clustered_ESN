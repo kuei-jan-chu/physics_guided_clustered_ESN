{
 "cells": [
  {
   "cell_type": "markdown",
   "metadata": {},
   "source": [
    "### tune by grid search"
   ]
  },
  {
   "cell_type": "code",
   "execution_count": 1,
   "metadata": {},
   "outputs": [
    {
     "name": "stdout",
     "output_type": "stream",
     "text": [
      "Grid Search Progress:   4%|▍           | 1/25 [00:25<10:13, 25.57s/trial, Current Best Loss=0.48405]/home/user/kuei_jan_CHU/PGClustered_ESN/Methods/./Utils/global_utils.py:274: RuntimeWarning: divide by zero encountered in log10\n",
      "  s_dbfs = 20 * np.log10(s_mag)\n",
      "/home/user/kuei_jan_CHU/PGClustered_ESN/Methods/./Utils/global_utils.py:309: RuntimeWarning: invalid value encountered in divide\n",
      "  trajectory = (trajectory-trajectory.mean())/trajectory.std()\n",
      "Grid Search Progress:  16%|█▉          | 4/25 [01:37<08:29, 24.28s/trial, Current Best Loss=0.48405]/home/user/kuei_jan_CHU/PGClustered_ESN/Methods/./Utils/global_utils.py:321: RuntimeWarning: Mean of empty slice\n",
      "  spectrum = np.nanmean(np.array(spectrum),axis=0)\n",
      "Grid Search Progress: 100%|███████████| 25/25 [10:03<00:00, 24.13s/trial, Current Best Loss=0.36320]\n",
      "{'radius': 0.99, 'sigma_input': 0.1}\n"
     ]
    }
   ],
   "source": [
    "!bash ./0_Randomly_Clustered_ESN_Tune.sh \"tune\" 40 0.1 0.1 0 \"grid_search.json\""
   ]
  },
  {
   "cell_type": "code",
   "execution_count": 31,
   "metadata": {},
   "outputs": [
    {
     "name": "stdout",
     "output_type": "stream",
     "text": [
      "{'radius': 0.99, 'sigma_input': 0.1}\n",
      "/home/user/anaconda3/lib/python3.11/site-packages/numpy/core/_methods.py:236: RuntimeWarning: invalid value encountered in subtract\n",
      "  x = asanyarray(arr - arrmean)\n",
      "AVERAGE RMNSE ERROR ON TRAIN DATA SET: 2.0513696590595893 ± 0.392432333806789\n",
      "AVG NUMBER OF ACCURATE 0.5 PREDICTIONS ON TRAIN DATA SET: 0.0010143903540568194 ± 0.0015495068605661433\n",
      "AVG NUMBER OF ACCURATE 1 PREDICTIONS ON TRAIN DATA SET: 0.278450152188597 ± 0.04444224882569939\n",
      "POWER SPECTRUM MEAN ERROR ON TRAIN DATA SET: inf ± nan\n",
      "TEMPORAL DISTANCE ON TRAIN DATA SET: 0.3955963035011291 ± 0.05489826696090092\n",
      "GEOMETRICAL DISTANCE ON TRAIN DATA SET: inf ± nan\n",
      "\n",
      "\n",
      "AVERAGE RMNSE ERROR ON TEST DATA SET: 2.0131154208532527 ± 0.3714367376736946\n",
      "AVG NUMBER OF ACCURATE 0.5 PREDICTIONS ON TEST DATA SET: 0.0010143903540568194 ± 0.0017241320699120056\n",
      "AVG NUMBER OF ACCURATE 1 PREDICTIONS ON TEST DATA SET: 0.25833141016647004 ± 0.0587500471909899\n",
      "POWER SPECTRUM MEAN ERROR ON TEST DATA SET: inf ± nan\n",
      "TEMPORAL DISTANCE ON TEST DATA SET: 0.41081506155049097 ± 0.0454695490045721\n",
      "GEOMETRICAL DISTANCE ON TEST DATA SET: inf ± nan\n"
     ]
    }
   ],
   "source": [
    "!bash ./1_Randomly_Clustered_ESN_Evaluate_Tuned_Model.sh \"evaluate_tuned_model\" 40 0.1 0.1 0 \"grid_search.json\""
   ]
  },
  {
   "cell_type": "code",
   "execution_count": null,
   "metadata": {},
   "outputs": [
    {
     "name": "stdout",
     "output_type": "stream",
     "text": [
      "Grid Search Progress:   0%|                                               | 0/25 [00:00<?, ?trial/s]/home/user/kuei_jan_CHU/PGClustered_ESN/Methods/./Utils/global_utils.py:274: RuntimeWarning: divide by zero encountered in log10\n",
      "  s_dbfs = 20 * np.log10(s_mag)\n",
      "Grid Search Progress:   8%|▉           | 2/25 [00:46<08:51, 23.11s/trial, Current Best Loss=0.29367]/home/user/kuei_jan_CHU/PGClustered_ESN/Methods/./Utils/global_utils.py:309: RuntimeWarning: invalid value encountered in divide\n",
      "  trajectory = (trajectory-trajectory.mean())/trajectory.std()\n",
      "Grid Search Progress: 100%|███████████| 25/25 [09:28<00:00, 22.74s/trial, Current Best Loss=0.29367]\n",
      "{'radius': 0.1, 'sigma_input': 0.1}\n"
     ]
    }
   ],
   "source": [
    "!bash ./0_Randomly_Clustered_ESN_Tune.sh \"tune\" 250 0.1 0.0.1 0.1 \"grid_search.json\""
   ]
  },
  {
   "cell_type": "code",
   "execution_count": null,
   "metadata": {},
   "outputs": [
    {
     "name": "stdout",
     "output_type": "stream",
     "text": [
      "{'radius': 0.1, 'sigma_input': 0.1}\n",
      "/home/user/anaconda3/lib/python3.11/site-packages/numpy/core/_methods.py:236: RuntimeWarning: invalid value encountered in subtract\n",
      "  x = asanyarray(arr - arrmean)\n",
      "AVERAGE RMNSE ERROR ON TRAIN DATA SET: 4.529785508911248 ± 1.7040555146428416\n",
      "AVG NUMBER OF ACCURATE 0.5 PREDICTIONS ON TRAIN DATA SET: 0.2542738487502428 ± 0.007972990596482297\n",
      "AVG NUMBER OF ACCURATE 1 PREDICTIONS ON TRAIN DATA SET: 0.6569868193108002 ± 0.031730228283475825\n",
      "POWER SPECTRUM MEAN ERROR ON TRAIN DATA SET: 11.916996580421054 ± 1.4317335715851107\n",
      "TEMPORAL DISTANCE ON TRAIN DATA SET: 0.3447853165603824 ± 0.2374788122120226\n",
      "GEOMETRICAL DISTANCE ON TRAIN DATA SET: inf ± nan\n",
      "\n",
      "\n",
      "AVERAGE RMNSE ERROR ON TEST DATA SET: 4.581811035735642 ± 1.714721035456697\n",
      "AVG NUMBER OF ACCURATE 0.5 PREDICTIONS ON TEST DATA SET: 0.22671624413169916 ± 0.010043375252061575\n",
      "AVG NUMBER OF ACCURATE 1 PREDICTIONS ON TEST DATA SET: 0.5727924199240841 ± 0.03639260389455586\n",
      "POWER SPECTRUM MEAN ERROR ON TEST DATA SET: inf ± nan\n",
      "TEMPORAL DISTANCE ON TEST DATA SET: 0.3445404766585324 ± 0.2359174093712135\n",
      "GEOMETRICAL DISTANCE ON TEST DATA SET: inf ± nan\n"
     ]
    }
   ],
   "source": [
    "!bash ./1_Randomly_Clustered_ESN_Evaluate_Tuned_Model.sh \"evaluate_tuned_model\" 250 0.1 0.0.1 0.1 \"grid_search.json\""
   ]
  },
  {
   "cell_type": "code",
   "execution_count": 5,
   "metadata": {},
   "outputs": [
    {
     "name": "stdout",
     "output_type": "stream",
     "text": [
      "Grid Search Progress:   8%|▉           | 2/25 [00:50<09:36, 25.05s/trial, Current Best Loss=0.20818]/home/user/kuei_jan_CHU/PGClustered_ESN/Methods/./Utils/global_utils.py:274: RuntimeWarning: divide by zero encountered in log10\n",
      "  s_dbfs = 20 * np.log10(s_mag)\n",
      "Grid Search Progress:  36%|████▎       | 9/25 [03:42<06:32, 24.52s/trial, Current Best Loss=0.20818]/home/user/kuei_jan_CHU/PGClustered_ESN/Methods/./Utils/global_utils.py:309: RuntimeWarning: invalid value encountered in divide\n",
      "  trajectory = (trajectory-trajectory.mean())/trajectory.std()\n",
      "Grid Search Progress: 100%|███████████| 25/25 [10:14<00:00, 24.58s/trial, Current Best Loss=0.20818]\n",
      "{'radius': 0.1, 'sigma_input': 0.1}\n"
     ]
    }
   ],
   "source": [
    "!bash ./0_Randomly_Clustered_ESN_Tune.sh \"tune\" 500 0.1 0.1 2 \"grid_search.json\""
   ]
  },
  {
   "cell_type": "code",
   "execution_count": 33,
   "metadata": {},
   "outputs": [
    {
     "name": "stdout",
     "output_type": "stream",
     "text": [
      "{'radius': 0.1, 'sigma_input': 0.1}\n",
      "/home/user/anaconda3/lib/python3.11/site-packages/numpy/core/_methods.py:236: RuntimeWarning: invalid value encountered in subtract\n",
      "  x = asanyarray(arr - arrmean)\n",
      "AVERAGE RMNSE ERROR ON TRAIN DATA SET: 5.083713166166944 ± 1.4630227276644374\n",
      "AVG NUMBER OF ACCURATE 0.5 PREDICTIONS ON TRAIN DATA SET: 0.2892703159652031 ± 0.013681740710556785\n",
      "AVG NUMBER OF ACCURATE 1 PREDICTIONS ON TRAIN DATA SET: 0.7320517055110047 ± 0.06343883337707966\n",
      "POWER SPECTRUM MEAN ERROR ON TRAIN DATA SET: 15.069005278646646 ± 1.0713589817085374\n",
      "TEMPORAL DISTANCE ON TRAIN DATA SET: 0.3306993997487987 ± 0.1486598372108821\n",
      "GEOMETRICAL DISTANCE ON TRAIN DATA SET: inf ± nan\n",
      "\n",
      "\n",
      "AVERAGE RMNSE ERROR ON TEST DATA SET: 4.998225568026397 ± 1.3486562160396132\n",
      "AVG NUMBER OF ACCURATE 0.5 PREDICTIONS ON TEST DATA SET: 0.24734218133085456 ± 0.00991736270215373\n",
      "AVG NUMBER OF ACCURATE 1 PREDICTIONS ON TEST DATA SET: 0.5824291282876239 ± 0.0517584884760112\n",
      "POWER SPECTRUM MEAN ERROR ON TEST DATA SET: 14.552440097069084 ± 1.5629380927420626\n",
      "TEMPORAL DISTANCE ON TEST DATA SET: 0.3217345320009925 ± 0.14081150939786838\n",
      "GEOMETRICAL DISTANCE ON TEST DATA SET: inf ± nan\n"
     ]
    }
   ],
   "source": [
    "!bash ./1_Randomly_Clustered_ESN_Evaluate_Tuned_Model.sh \"evaluate_tuned_model\" 500 0.1 0.1 2 \"grid_search.json\""
   ]
  },
  {
   "cell_type": "code",
   "execution_count": 7,
   "metadata": {},
   "outputs": [
    {
     "name": "stdout",
     "output_type": "stream",
     "text": [
      "Grid Search Progress:   4%|▍           | 1/25 [00:30<12:06, 30.28s/trial, Current Best Loss=0.27044]/home/user/kuei_jan_CHU/PGClustered_ESN/Methods/./Utils/global_utils.py:274: RuntimeWarning: divide by zero encountered in log10\n",
      "  s_dbfs = 20 * np.log10(s_mag)\n",
      "Grid Search Progress: 100%|███████████| 25/25 [11:38<00:00, 27.96s/trial, Current Best Loss=0.25035]\n",
      "{'radius': 0.99, 'sigma_input': 0.5}\n"
     ]
    }
   ],
   "source": [
    "!bash ./0_Randomly_Clustered_ESN_Tune.sh \"tune\" 1000 0.1 0.1 3 \"grid_search.json\""
   ]
  },
  {
   "cell_type": "code",
   "execution_count": 34,
   "metadata": {},
   "outputs": [
    {
     "name": "stdout",
     "output_type": "stream",
     "text": [
      "{'radius': 0.99, 'sigma_input': 0.5}\n",
      "AVERAGE RMNSE ERROR ON TRAIN DATA SET: 1.5942772717168956 ± 0.013385182869298892\n",
      "AVG NUMBER OF ACCURATE 0.5 PREDICTIONS ON TRAIN DATA SET: 0.23178819590198327 ± 0.009212106692505936\n",
      "AVG NUMBER OF ACCURATE 1 PREDICTIONS ON TRAIN DATA SET: 0.5481089213087014 ± 0.032720095200449904\n",
      "POWER SPECTRUM MEAN ERROR ON TRAIN DATA SET: 1.8138774374473279 ± 0.8202013986285616\n",
      "TEMPORAL DISTANCE ON TRAIN DATA SET: 0.26041899619366143 ± 0.011764494833978659\n",
      "GEOMETRICAL DISTANCE ON TRAIN DATA SET: 19.773522777391996 ± 0.42320303131138437\n",
      "\n",
      "\n",
      "AVERAGE RMNSE ERROR ON TEST DATA SET: 1.5988038102317657 ± 0.016248419281593776\n",
      "AVG NUMBER OF ACCURATE 0.5 PREDICTIONS ON TEST DATA SET: 0.18969099620862523 ± 0.00909815097363897\n",
      "AVG NUMBER OF ACCURATE 1 PREDICTIONS ON TEST DATA SET: 0.45715191956160667 ± 0.034268115396149795\n",
      "POWER SPECTRUM MEAN ERROR ON TEST DATA SET: 1.1885680823015226 ± 0.5808592396432504\n",
      "TEMPORAL DISTANCE ON TEST DATA SET: 0.2560131909938136 ± 0.008724068724503245\n",
      "GEOMETRICAL DISTANCE ON TEST DATA SET: 20.025612572109445 ± 0.4741566628414925\n"
     ]
    }
   ],
   "source": [
    "!bash ./1_Randomly_Clustered_ESN_Evaluate_Tuned_Model.sh \"evaluate_tuned_model\" 1000 0.1 0.1 3 \"grid_search.json\""
   ]
  },
  {
   "cell_type": "code",
   "execution_count": 9,
   "metadata": {},
   "outputs": [
    {
     "name": "stdout",
     "output_type": "stream",
     "text": [
      "Grid Search Progress:   0%|                                               | 0/25 [00:00<?, ?trial/s]/home/user/kuei_jan_CHU/PGClustered_ESN/Methods/./Utils/global_utils.py:274: RuntimeWarning: divide by zero encountered in log10\n",
      "  s_dbfs = 20 * np.log10(s_mag)\n",
      "Grid Search Progress: 100%|███████████| 25/25 [14:39<00:00, 35.17s/trial, Current Best Loss=0.19326]\n",
      "{'radius': 0.99, 'sigma_input': 0.5}\n"
     ]
    }
   ],
   "source": [
    "!bash ./0_Randomly_Clustered_ESN_Tune.sh \"tune\" 1500 0.1 0.1 4 \"grid_search.json\""
   ]
  },
  {
   "cell_type": "code",
   "execution_count": 35,
   "metadata": {},
   "outputs": [
    {
     "name": "stdout",
     "output_type": "stream",
     "text": [
      "{'radius': 0.99, 'sigma_input': 0.5}\n",
      "AVERAGE RMNSE ERROR ON TRAIN DATA SET: 1.565787487353063 ± 0.0245799287337706\n",
      "AVG NUMBER OF ACCURATE 0.5 PREDICTIONS ON TRAIN DATA SET: 0.3279862144783717 ± 0.017828148957701018\n",
      "AVG NUMBER OF ACCURATE 1 PREDICTIONS ON TRAIN DATA SET: 0.7085516623086885 ± 0.03825841801296584\n",
      "POWER SPECTRUM MEAN ERROR ON TRAIN DATA SET: 1.7840580297773923 ± 0.6331203620079814\n",
      "TEMPORAL DISTANCE ON TRAIN DATA SET: 0.20544334480223186 ± 0.010268121340623586\n",
      "GEOMETRICAL DISTANCE ON TRAIN DATA SET: 18.199838251860154 ± 0.6101055427615529\n",
      "\n",
      "\n",
      "AVERAGE RMNSE ERROR ON TEST DATA SET: 1.5685213904426427 ± 0.021395659939103143\n",
      "AVG NUMBER OF ACCURATE 0.5 PREDICTIONS ON TEST DATA SET: 0.23381697661009695 ± 0.010423241380209189\n",
      "AVG NUMBER OF ACCURATE 1 PREDICTIONS ON TEST DATA SET: 0.5577456296722412 ± 0.03498012861269486\n",
      "POWER SPECTRUM MEAN ERROR ON TEST DATA SET: 1.1321344141145737 ± 0.5441898072164167\n",
      "TEMPORAL DISTANCE ON TEST DATA SET: 0.20547527943989757 ± 0.012709709767505321\n",
      "GEOMETRICAL DISTANCE ON TEST DATA SET: 18.27235923660048 ± 0.6142455601149617\n"
     ]
    }
   ],
   "source": [
    "!bash ./1_Randomly_Clustered_ESN_Evaluate_Tuned_Model.sh \"evaluate_tuned_model\" 1500 0.1 0.1 4 \"grid_search.json\""
   ]
  },
  {
   "cell_type": "code",
   "execution_count": 11,
   "metadata": {},
   "outputs": [
    {
     "name": "stdout",
     "output_type": "stream",
     "text": [
      "Grid Search Progress:  16%|█▉          | 4/25 [03:12<16:34, 47.34s/trial, Current Best Loss=0.12766]/home/user/kuei_jan_CHU/PGClustered_ESN/Methods/./Utils/global_utils.py:274: RuntimeWarning: divide by zero encountered in log10\n",
      "  s_dbfs = 20 * np.log10(s_mag)\n",
      "Grid Search Progress: 100%|███████████| 25/25 [19:26<00:00, 46.64s/trial, Current Best Loss=0.12737]\n",
      "{'radius': 0.7, 'sigma_input': 0.1}\n"
     ]
    }
   ],
   "source": [
    "!bash ./0_Randomly_Clustered_ESN_Tune.sh \"tune\" 2000 0.1 0.1 5 \"grid_search.json\""
   ]
  },
  {
   "cell_type": "code",
   "execution_count": 36,
   "metadata": {},
   "outputs": [
    {
     "name": "stdout",
     "output_type": "stream",
     "text": [
      "{'radius': 0.7, 'sigma_input': 0.1}\n",
      "AVERAGE RMNSE ERROR ON TRAIN DATA SET: 1.4022171230294183 ± 0.010926061453223527\n",
      "AVG NUMBER OF ACCURATE 0.5 PREDICTIONS ON TRAIN DATA SET: 1.468499102556256 ± 0.08981540485271303\n",
      "AVG NUMBER OF ACCURATE 1 PREDICTIONS ON TRAIN DATA SET: 2.653137971035611 ± 0.2134067865049525\n",
      "POWER SPECTRUM MEAN ERROR ON TRAIN DATA SET: 0.6135021247354405 ± 0.32885407230616803\n",
      "TEMPORAL DISTANCE ON TRAIN DATA SET: 0.11281314759785503 ± 0.002518742496153202\n",
      "GEOMETRICAL DISTANCE ON TRAIN DATA SET: 13.326759882094766 ± 0.14768508010951692\n",
      "\n",
      "\n",
      "AVERAGE RMNSE ERROR ON TEST DATA SET: 1.407605082423967 ± 0.011806815990850764\n",
      "AVG NUMBER OF ACCURATE 0.5 PREDICTIONS ON TEST DATA SET: 1.1756784203518538 ± 0.07743917942808409\n",
      "AVG NUMBER OF ACCURATE 1 PREDICTIONS ON TEST DATA SET: 2.252960976360196 ± 0.14548478106212195\n",
      "POWER SPECTRUM MEAN ERROR ON TEST DATA SET: 0.8555795736561039 ± 0.26620925750015145\n",
      "TEMPORAL DISTANCE ON TEST DATA SET: 0.11193966104675601 ± 0.0022100138861072278\n",
      "GEOMETRICAL DISTANCE ON TEST DATA SET: 13.438401518169897 ± 0.14699621819464645\n"
     ]
    }
   ],
   "source": [
    "!bash ./1_Randomly_Clustered_ESN_Evaluate_Tuned_Model.sh \"evaluate_tuned_model\" 2000 0.1 0.1 5 \"grid_search.json\""
   ]
  },
  {
   "cell_type": "code",
   "execution_count": 13,
   "metadata": {},
   "outputs": [
    {
     "name": "stdout",
     "output_type": "stream",
     "text": [
      "Grid Search Progress:   8%|▉           | 2/25 [02:35<29:32, 77.08s/trial, Current Best Loss=0.12335]/home/user/kuei_jan_CHU/PGClustered_ESN/Methods/./Utils/global_utils.py:274: RuntimeWarning: divide by zero encountered in log10\n",
      "  s_dbfs = 20 * np.log10(s_mag)\n",
      "Grid Search Progress: 100%|███████████| 25/25 [29:40<00:00, 71.21s/trial, Current Best Loss=0.12242]\n",
      "{'radius': 0.4, 'sigma_input': 0.1}\n"
     ]
    }
   ],
   "source": [
    "!bash ./0_Randomly_Clustered_ESN_Tune.sh \"tune\" 2500 0.1 0.1 6 \"grid_search.json\""
   ]
  },
  {
   "cell_type": "code",
   "execution_count": 37,
   "metadata": {},
   "outputs": [
    {
     "name": "stdout",
     "output_type": "stream",
     "text": [
      "{'radius': 0.4, 'sigma_input': 0.1}\n",
      "AVERAGE RMNSE ERROR ON TRAIN DATA SET: 1.3742854888512026 ± 0.005545699159394147\n",
      "AVG NUMBER OF ACCURATE 0.5 PREDICTIONS ON TRAIN DATA SET: 2.0735829487511483 ± 0.10400799436355677\n",
      "AVG NUMBER OF ACCURATE 1 PREDICTIONS ON TRAIN DATA SET: 3.4097041101029895 ± 0.19187029605763203\n",
      "POWER SPECTRUM MEAN ERROR ON TRAIN DATA SET: 0.46241914061207173 ± 0.2608375914026144\n",
      "TEMPORAL DISTANCE ON TRAIN DATA SET: 0.1090750742082861 ± 0.0018767078538799923\n",
      "GEOMETRICAL DISTANCE ON TRAIN DATA SET: 13.048548528070167 ± 0.10117202847043068\n",
      "\n",
      "\n",
      "AVERAGE RMNSE ERROR ON TEST DATA SET: 1.3761131497870718 ± 0.009780424894923225\n",
      "AVG NUMBER OF ACCURATE 0.5 PREDICTIONS ON TEST DATA SET: 1.5494812658217918 ± 0.08543474883344128\n",
      "AVG NUMBER OF ACCURATE 1 PREDICTIONS ON TEST DATA SET: 2.733951069242138 ± 0.2067624199873586\n",
      "POWER SPECTRUM MEAN ERROR ON TEST DATA SET: 0.6146912129256776 ± 0.4208500086467446\n",
      "TEMPORAL DISTANCE ON TEST DATA SET: 0.10842098118445938 ± 0.0010838565640528858\n",
      "GEOMETRICAL DISTANCE ON TEST DATA SET: 13.107494833331966 ± 0.09531420580490137\n"
     ]
    }
   ],
   "source": [
    "!bash ./1_Randomly_Clustered_ESN_Evaluate_Tuned_Model.sh \"evaluate_tuned_model\" 2500 0.1 0.1 6 \"grid_search.json\""
   ]
  },
  {
   "cell_type": "code",
   "execution_count": 15,
   "metadata": {},
   "outputs": [
    {
     "name": "stdout",
     "output_type": "stream",
     "text": [
      "Grid Search Progress:   8%|▉          | 2/25 [03:40<41:58, 109.50s/trial, Current Best Loss=0.12224]/home/user/kuei_jan_CHU/PGClustered_ESN/Methods/./Utils/global_utils.py:274: RuntimeWarning: divide by zero encountered in log10\n",
      "  s_dbfs = 20 * np.log10(s_mag)\n",
      "Grid Search Progress: 100%|██████████| 25/25 [41:52<00:00, 100.52s/trial, Current Best Loss=0.12224]\n",
      "{'radius': 0.1, 'sigma_input': 0.1}\n"
     ]
    }
   ],
   "source": [
    "!bash ./0_Randomly_Clustered_ESN_Tune.sh \"tune\" 3000 0.1 0.1 7 \"grid_search.json\""
   ]
  },
  {
   "cell_type": "code",
   "execution_count": 38,
   "metadata": {},
   "outputs": [
    {
     "name": "stdout",
     "output_type": "stream",
     "text": [
      "{'radius': 0.1, 'sigma_input': 0.1}\n",
      "AVERAGE RMNSE ERROR ON TRAIN DATA SET: 1.3650750039565853 ± 0.007110415989202894\n",
      "AVG NUMBER OF ACCURATE 0.5 PREDICTIONS ON TRAIN DATA SET: 2.3851698525056015 ± 0.10569419621012381\n",
      "AVG NUMBER OF ACCURATE 1 PREDICTIONS ON TRAIN DATA SET: 3.8095429746603857 ± 0.19411150101948313\n",
      "POWER SPECTRUM MEAN ERROR ON TRAIN DATA SET: 0.5701624433368608 ± 0.23676456247977593\n",
      "TEMPORAL DISTANCE ON TRAIN DATA SET: 0.10817004200436782 ± 0.0014962580514234468\n",
      "GEOMETRICAL DISTANCE ON TRAIN DATA SET: 12.979313882798802 ± 0.058113222211781654\n",
      "\n",
      "\n",
      "AVERAGE RMNSE ERROR ON TEST DATA SET: 1.3771866294415287 ± 0.00408106149200731\n",
      "AVG NUMBER OF ACCURATE 0.5 PREDICTIONS ON TEST DATA SET: 1.747118319803862 ± 0.10297769259392313\n",
      "AVG NUMBER OF ACCURATE 1 PREDICTIONS ON TEST DATA SET: 2.939365115938643 ± 0.19773125384755325\n",
      "POWER SPECTRUM MEAN ERROR ON TEST DATA SET: 0.49413364088606837 ± 0.4137798681790032\n",
      "TEMPORAL DISTANCE ON TEST DATA SET: 0.10791453653526462 ± 0.0018434374638196815\n",
      "GEOMETRICAL DISTANCE ON TEST DATA SET: 13.045464504351159 ± 0.10229399634932486\n"
     ]
    }
   ],
   "source": [
    "!bash ./1_Randomly_Clustered_ESN_Evaluate_Tuned_Model.sh \"evaluate_tuned_model\" 3000 0.1 0.1 7 \"grid_search.json\""
   ]
  },
  {
   "cell_type": "code",
   "execution_count": 17,
   "metadata": {
    "editable": true,
    "slideshow": {
     "slide_type": ""
    },
    "tags": []
   },
   "outputs": [
    {
     "name": "stdout",
     "output_type": "stream",
     "text": [
      "Grid Search Progress: 100%|████████| 25/25 [1:10:59<00:00, 170.37s/trial, Current Best Loss=0.12221]\n",
      "{'radius': 0.99, 'sigma_input': 0.1}\n"
     ]
    }
   ],
   "source": [
    "!bash ./0_Randomly_Clustered_ESN_Tune.sh \"tune\" 3500 0.1 0.1 8 \"grid_search.json\""
   ]
  },
  {
   "cell_type": "code",
   "execution_count": 39,
   "metadata": {},
   "outputs": [
    {
     "name": "stdout",
     "output_type": "stream",
     "text": [
      "{'radius': 0.99, 'sigma_input': 0.1}\n",
      "AVERAGE RMNSE ERROR ON TRAIN DATA SET: 1.3614373440040832 ± 0.006986729968519292\n",
      "AVG NUMBER OF ACCURATE 0.5 PREDICTIONS ON TRAIN DATA SET: 2.3660655008375313 ± 0.16289354827670827\n",
      "AVG NUMBER OF ACCURATE 1 PREDICTIONS ON TRAIN DATA SET: 3.7730249219143404 ± 0.25367314933869645\n",
      "POWER SPECTRUM MEAN ERROR ON TRAIN DATA SET: 0.35968875670792866 ± 0.20655950107275253\n",
      "TEMPORAL DISTANCE ON TRAIN DATA SET: 0.10805359417657259 ± 0.0019803313709637186\n",
      "GEOMETRICAL DISTANCE ON TRAIN DATA SET: 12.813579097214069 ± 0.18963997780565403\n",
      "\n",
      "\n",
      "AVERAGE RMNSE ERROR ON TEST DATA SET: 1.3717739107065816 ± 0.009773823225204854\n",
      "AVG NUMBER OF ACCURATE 0.5 PREDICTIONS ON TEST DATA SET: 1.5959741570493962 ± 0.14696995849567537\n",
      "AVG NUMBER OF ACCURATE 1 PREDICTIONS ON TEST DATA SET: 2.8014080277869167 ± 0.24079755395194183\n",
      "POWER SPECTRUM MEAN ERROR ON TEST DATA SET: 0.5763976023883446 ± 0.37210298234978195\n",
      "TEMPORAL DISTANCE ON TEST DATA SET: 0.1088577435328427 ± 0.001510406226477529\n",
      "GEOMETRICAL DISTANCE ON TEST DATA SET: 12.889567217256921 ± 0.0913748475155221\n"
     ]
    }
   ],
   "source": [
    "!bash ./1_Randomly_Clustered_ESN_Evaluate_Tuned_Model.sh \"evaluate_tuned_model\" 3500 0.1 0.1 8 \"grid_search.json\""
   ]
  },
  {
   "cell_type": "code",
   "execution_count": 19,
   "metadata": {
    "editable": true,
    "slideshow": {
     "slide_type": ""
    },
    "tags": []
   },
   "outputs": [
    {
     "name": "stdout",
     "output_type": "stream",
     "text": [
      "Grid Search Progress:  12%|█        | 3/25 [11:22<1:22:27, 224.88s/trial, Current Best Loss=0.12388]/home/user/kuei_jan_CHU/PGClustered_ESN/Methods/./Utils/global_utils.py:274: RuntimeWarning: divide by zero encountered in log10\n",
      "  s_dbfs = 20 * np.log10(s_mag)\n",
      "Grid Search Progress: 100%|████████| 25/25 [1:29:23<00:00, 214.54s/trial, Current Best Loss=0.12155]\n",
      "{'radius': 0.9, 'sigma_input': 0.1}\n"
     ]
    }
   ],
   "source": [
    "!bash ./0_Randomly_Clustered_ESN_Tune.sh \"tune\" 4000 0.1 0.1 9 \"grid_search.json\""
   ]
  },
  {
   "cell_type": "code",
   "execution_count": 40,
   "metadata": {},
   "outputs": [
    {
     "name": "stdout",
     "output_type": "stream",
     "text": [
      "{'radius': 0.9, 'sigma_input': 0.1}\n",
      "AVERAGE RMNSE ERROR ON TRAIN DATA SET: 1.3681934482899945 ± 0.003950740361339461\n",
      "AVG NUMBER OF ACCURATE 0.5 PREDICTIONS ON TRAIN DATA SET: 2.6269328868891435 ± 0.10083366678335741\n",
      "AVG NUMBER OF ACCURATE 1 PREDICTIONS ON TRAIN DATA SET: 4.064154953528647 ± 0.10820018485345505\n",
      "POWER SPECTRUM MEAN ERROR ON TRAIN DATA SET: 0.4308785709696238 ± 0.27280660759801306\n",
      "TEMPORAL DISTANCE ON TRAIN DATA SET: 0.1077799928715432 ± 0.0017096013333418464\n",
      "GEOMETRICAL DISTANCE ON TRAIN DATA SET: 13.02697495550718 ± 0.08524683336810523\n",
      "\n",
      "\n",
      "AVERAGE RMNSE ERROR ON TEST DATA SET: 1.3785352519911378 ± 0.00517725028218191\n",
      "AVG NUMBER OF ACCURATE 0.5 PREDICTIONS ON TEST DATA SET: 1.8456832492063833 ± 0.1328512545215467\n",
      "AVG NUMBER OF ACCURATE 1 PREDICTIONS ON TEST DATA SET: 3.0785056595034375 ± 0.13419431895163364\n",
      "POWER SPECTRUM MEAN ERROR ON TEST DATA SET: 0.7395557073806154 ± 0.33298881996370255\n",
      "TEMPORAL DISTANCE ON TEST DATA SET: 0.10813708292110391 ± 0.0017792887412018165\n",
      "GEOMETRICAL DISTANCE ON TEST DATA SET: 13.063674669419939 ± 0.08127602360102854\n"
     ]
    }
   ],
   "source": [
    "!bash ./1_Randomly_Clustered_ESN_Evaluate_Tuned_Model.sh \"evaluate_tuned_model\" 4000 0.1 0.1 9 \"grid_search.json\""
   ]
  },
  {
   "cell_type": "markdown",
   "metadata": {},
   "source": [
    "# Analyze traning data length"
   ]
  },
  {
   "cell_type": "code",
   "execution_count": 21,
   "metadata": {},
   "outputs": [
    {
     "name": "stdout",
     "output_type": "stream",
     "text": [
      "{'radius': 0.1, 'sigma_input': 0.1}\n",
      "AVERAGE RMNSE ERROR ON TRAIN DATA SET: 1.6219043971356615 ± 0.027932177041256428\n",
      "AVG NUMBER OF ACCURATE 0.5 PREDICTIONS ON TRAIN DATA SET: 3.1885670129186026 ± 0.4047122308960998\n",
      "AVG NUMBER OF ACCURATE 1 PREDICTIONS ON TRAIN DATA SET: 3.9392158749206496 ± 0.6420911991467232\n",
      "POWER SPECTRUM MEAN ERROR ON TRAIN DATA SET: 1.8142248654045345 ± 1.0391964526062842\n",
      "TEMPORAL DISTANCE ON TRAIN DATA SET: 0.22662636841535586 ± 0.0056882224206689334\n",
      "GEOMETRICAL DISTANCE ON TRAIN DATA SET: 18.505748202960028 ± 0.9469262747559886\n",
      "\n",
      "\n",
      "AVERAGE RMNSE ERROR ON TEST DATA SET: 1.6676748222605482 ± 0.02500374888142222\n",
      "AVG NUMBER OF ACCURATE 0.5 PREDICTIONS ON TEST DATA SET: 0.275576046185436 ± 0.049608424674797764\n",
      "AVG NUMBER OF ACCURATE 1 PREDICTIONS ON TEST DATA SET: 0.7050012960694895 ± 0.2141260865955621\n",
      "POWER SPECTRUM MEAN ERROR ON TEST DATA SET: 2.238649201861228 ± 1.5066873273779153\n",
      "TEMPORAL DISTANCE ON TEST DATA SET: 0.22005572604912463 ± 0.007209604283393952\n",
      "GEOMETRICAL DISTANCE ON TEST DATA SET: 18.968120802905116 ± 0.7829141319728666\n"
     ]
    }
   ],
   "source": [
    "!bash ./1_Randomly_Clustered_ESN_Evaluate_Tuned_Model.sh \"evaluate_tuned_model\" 3000 0.1 0.1 7 \"grid_search.json\" 10000"
   ]
  },
  {
   "cell_type": "code",
   "execution_count": 20,
   "metadata": {},
   "outputs": [
    {
     "name": "stdout",
     "output_type": "stream",
     "text": [
      "{'radius': 0.1, 'sigma_input': 0.1}\n",
      "AVERAGE RMNSE ERROR ON TRAIN DATA SET: 1.3846339309481028 ± 0.01300515675594294\n",
      "AVG NUMBER OF ACCURATE 0.5 PREDICTIONS ON TRAIN DATA SET: 3.037253785105127 ± 0.3562231284287039\n",
      "AVG NUMBER OF ACCURATE 1 PREDICTIONS ON TRAIN DATA SET: 4.227471800531794 ± 0.613469171203157\n",
      "POWER SPECTRUM MEAN ERROR ON TRAIN DATA SET: 0.9345057786835946 ± 0.48127120684443025\n",
      "TEMPORAL DISTANCE ON TRAIN DATA SET: 0.1632221220745629 ± 0.004109447783388737\n",
      "GEOMETRICAL DISTANCE ON TRAIN DATA SET: 13.532022477788038 ± 0.1759665611097779\n",
      "\n",
      "\n",
      "AVERAGE RMNSE ERROR ON TEST DATA SET: 1.4158054685013106 ± 0.013767836284286883\n",
      "AVG NUMBER OF ACCURATE 0.5 PREDICTIONS ON TEST DATA SET: 0.6416018989409384 ± 0.09005392841579836\n",
      "AVG NUMBER OF ACCURATE 1 PREDICTIONS ON TEST DATA SET: 1.3339233155847174 ± 0.09487246632513043\n",
      "POWER SPECTRUM MEAN ERROR ON TEST DATA SET: 1.3407510217911962 ± 0.8750266725240299\n",
      "TEMPORAL DISTANCE ON TEST DATA SET: 0.16386854114639068 ± 0.005797296778231359\n",
      "GEOMETRICAL DISTANCE ON TEST DATA SET: 13.806505956726289 ± 0.3056706628983834\n"
     ]
    }
   ],
   "source": [
    "!bash ./1_Randomly_Clustered_ESN_Evaluate_Tuned_Model.sh \"evaluate_tuned_model\" 3000 0.1 0.1 7 \"grid_search.json\" 20000"
   ]
  },
  {
   "cell_type": "code",
   "execution_count": 18,
   "metadata": {},
   "outputs": [
    {
     "name": "stdout",
     "output_type": "stream",
     "text": [
      "{'radius': 0.1, 'sigma_input': 0.1}\n",
      "AVERAGE RMNSE ERROR ON TRAIN DATA SET: 1.3629415401622094 ± 0.014616967677356466\n",
      "AVG NUMBER OF ACCURATE 0.5 PREDICTIONS ON TRAIN DATA SET: 2.734909104576525 ± 0.26229069500599644\n",
      "AVG NUMBER OF ACCURATE 1 PREDICTIONS ON TRAIN DATA SET: 4.15561915045277 ± 0.3892675816927747\n",
      "POWER SPECTRUM MEAN ERROR ON TRAIN DATA SET: 0.8246542851658607 ± 0.4809567453785366\n",
      "TEMPORAL DISTANCE ON TRAIN DATA SET: 0.142397410241293 ± 0.0032100707713262184\n",
      "GEOMETRICAL DISTANCE ON TRAIN DATA SET: 13.00219559436978 ± 0.23404597711715572\n",
      "\n",
      "\n",
      "AVERAGE RMNSE ERROR ON TEST DATA SET: 1.3856774484435541 ± 0.008958343246640665\n",
      "AVG NUMBER OF ACCURATE 0.5 PREDICTIONS ON TEST DATA SET: 1.0048100007129495 ± 0.12071161022476981\n",
      "AVG NUMBER OF ACCURATE 1 PREDICTIONS ON TEST DATA SET: 2.147126249420268 ± 0.329790037349612\n",
      "POWER SPECTRUM MEAN ERROR ON TEST DATA SET: 1.3644954184622562 ± 0.891973164829359\n",
      "TEMPORAL DISTANCE ON TEST DATA SET: 0.1419256923155196 ± 0.005594328363325825\n",
      "GEOMETRICAL DISTANCE ON TEST DATA SET: 13.031210153328797 ± 0.1591598909662758\n"
     ]
    }
   ],
   "source": [
    "!bash ./1_Randomly_Clustered_ESN_Evaluate_Tuned_Model.sh \"evaluate_tuned_model\" 3000 0.1 0.1 7 \"grid_search.json\" 30000"
   ]
  },
  {
   "cell_type": "code",
   "execution_count": 19,
   "metadata": {},
   "outputs": [
    {
     "name": "stdout",
     "output_type": "stream",
     "text": [
      "{'radius': 0.1, 'sigma_input': 0.1}\n",
      "AVERAGE RMNSE ERROR ON TRAIN DATA SET: 1.358855210932192 ± 0.0056714685737309116\n",
      "AVG NUMBER OF ACCURATE 0.5 PREDICTIONS ON TRAIN DATA SET: 2.620170284528765 ± 0.19591394429657547\n",
      "AVG NUMBER OF ACCURATE 1 PREDICTIONS ON TRAIN DATA SET: 3.8513020442357244 ± 0.402073536098224\n",
      "POWER SPECTRUM MEAN ERROR ON TRAIN DATA SET: 0.5519388448347484 ± 0.28651938773426844\n",
      "TEMPORAL DISTANCE ON TRAIN DATA SET: 0.123597423675968 ± 0.001163939182412442\n",
      "GEOMETRICAL DISTANCE ON TRAIN DATA SET: 13.031752013210923 ± 0.13064028976146796\n",
      "\n",
      "\n",
      "AVERAGE RMNSE ERROR ON TEST DATA SET: 1.3792941222280313 ± 0.008202088868216207\n",
      "AVG NUMBER OF ACCURATE 0.5 PREDICTIONS ON TEST DATA SET: 1.3217506313360357 ± 0.10481433733145258\n",
      "AVG NUMBER OF ACCURATE 1 PREDICTIONS ON TEST DATA SET: 2.457529697761655 ± 0.2615510229719116\n",
      "POWER SPECTRUM MEAN ERROR ON TEST DATA SET: 0.81425101712911 ± 0.4714483060913789\n",
      "TEMPORAL DISTANCE ON TEST DATA SET: 0.12448109493828188 ± 0.003717948503079986\n",
      "GEOMETRICAL DISTANCE ON TEST DATA SET: 13.043576767590915 ± 0.08120132098891887\n"
     ]
    }
   ],
   "source": [
    "!bash ./1_Randomly_Clustered_ESN_Evaluate_Tuned_Model.sh \"evaluate_tuned_model\" 3000 0.1 0.1 7 \"grid_search.json\" 40000"
   ]
  },
  {
   "cell_type": "code",
   "execution_count": 17,
   "metadata": {},
   "outputs": [
    {
     "name": "stdout",
     "output_type": "stream",
     "text": [
      "{'radius': 0.1, 'sigma_input': 0.1}\n",
      "AVERAGE RMNSE ERROR ON TRAIN DATA SET: 1.3640702449471784 ± 0.008462884134231954\n",
      "AVG NUMBER OF ACCURATE 0.5 PREDICTIONS ON TRAIN DATA SET: 2.486665242930953 ± 0.22327276317626876\n",
      "AVG NUMBER OF ACCURATE 1 PREDICTIONS ON TRAIN DATA SET: 3.835804413826523 ± 0.21356637934021924\n",
      "POWER SPECTRUM MEAN ERROR ON TRAIN DATA SET: 0.39780549854631353 ± 0.33526798512191847\n",
      "TEMPORAL DISTANCE ON TRAIN DATA SET: 0.11905639298618406 ± 0.0021414017482359873\n",
      "GEOMETRICAL DISTANCE ON TRAIN DATA SET: 13.02648253428487 ± 0.09796680167499351\n",
      "\n",
      "\n",
      "AVERAGE RMNSE ERROR ON TEST DATA SET: 1.3790939258146377 ± 0.006225010807957265\n",
      "AVG NUMBER OF ACCURATE 0.5 PREDICTIONS ON TEST DATA SET: 1.4102843672373282 ± 0.1089289468327432\n",
      "AVG NUMBER OF ACCURATE 1 PREDICTIONS ON TEST DATA SET: 2.5092072507988825 ± 0.1793526722549379\n",
      "POWER SPECTRUM MEAN ERROR ON TEST DATA SET: 0.7772064338190142 ± 0.5024770657592518\n",
      "TEMPORAL DISTANCE ON TEST DATA SET: 0.1199734325816579 ± 0.0027104533751680275\n",
      "GEOMETRICAL DISTANCE ON TEST DATA SET: 12.975936498745162 ± 0.13500648981311755\n"
     ]
    }
   ],
   "source": [
    "!bash ./1_Randomly_Clustered_ESN_Evaluate_Tuned_Model.sh \"evaluate_tuned_model\" 3000 0.1 0.1 7 \"grid_search.json\" 50000"
   ]
  },
  {
   "cell_type": "code",
   "execution_count": 16,
   "metadata": {},
   "outputs": [
    {
     "name": "stdout",
     "output_type": "stream",
     "text": [
      "{'radius': 0.1, 'sigma_input': 0.1}\n",
      "AVERAGE RMNSE ERROR ON TRAIN DATA SET: 1.3631193968512259 ± 0.004484322596099718\n",
      "AVG NUMBER OF ACCURATE 0.5 PREDICTIONS ON TRAIN DATA SET: 2.638048914519016 ± 0.14385455309342948\n",
      "AVG NUMBER OF ACCURATE 1 PREDICTIONS ON TRAIN DATA SET: 3.9275926521137476 ± 0.2220774489258875\n",
      "POWER SPECTRUM MEAN ERROR ON TRAIN DATA SET: 0.35084935981643117 ± 0.29449637810385326\n",
      "TEMPORAL DISTANCE ON TRAIN DATA SET: 0.11258576092446906 ± 0.001908681320110611\n",
      "GEOMETRICAL DISTANCE ON TRAIN DATA SET: 13.046084429084875 ± 0.10801728477409424\n",
      "\n",
      "\n",
      "AVERAGE RMNSE ERROR ON TEST DATA SET: 1.383110620335389 ± 0.007010426301359721\n",
      "AVG NUMBER OF ACCURATE 0.5 PREDICTIONS ON TEST DATA SET: 1.5105963022496138 ± 0.15721630186340174\n",
      "AVG NUMBER OF ACCURATE 1 PREDICTIONS ON TEST DATA SET: 2.6532647698298684 ± 0.2710570357328934\n",
      "POWER SPECTRUM MEAN ERROR ON TEST DATA SET: 0.6041248582844556 ± 0.33304745926050805\n",
      "TEMPORAL DISTANCE ON TEST DATA SET: 0.11375454670825227 ± 0.0016183538688769913\n",
      "GEOMETRICAL DISTANCE ON TEST DATA SET: 13.062854541242706 ± 0.08677497735870743\n"
     ]
    }
   ],
   "source": [
    "!bash ./1_Randomly_Clustered_ESN_Evaluate_Tuned_Model.sh \"evaluate_tuned_model\" 3000 0.1 0.1 7 \"grid_search.json\" 60000"
   ]
  },
  {
   "cell_type": "code",
   "execution_count": 15,
   "metadata": {},
   "outputs": [
    {
     "name": "stdout",
     "output_type": "stream",
     "text": [
      "{'radius': 0.1, 'sigma_input': 0.1}\n",
      "AVERAGE RMNSE ERROR ON TRAIN DATA SET: 1.3637699573827229 ± 0.005850425942136637\n",
      "AVG NUMBER OF ACCURATE 0.5 PREDICTIONS ON TRAIN DATA SET: 2.502538573471287 ± 0.11793274392840579\n",
      "AVG NUMBER OF ACCURATE 1 PREDICTIONS ON TRAIN DATA SET: 3.8312020872201535 ± 0.21829963899582935\n",
      "POWER SPECTRUM MEAN ERROR ON TRAIN DATA SET: 0.3964480292376403 ± 0.20174615785230518\n",
      "TEMPORAL DISTANCE ON TRAIN DATA SET: 0.11121994075274202 ± 0.002140610800245159\n",
      "GEOMETRICAL DISTANCE ON TRAIN DATA SET: 13.054459360199136 ± 0.11400948325871955\n",
      "\n",
      "\n",
      "AVERAGE RMNSE ERROR ON TEST DATA SET: 1.3807434924048283 ± 0.006939265459299383\n",
      "AVG NUMBER OF ACCURATE 0.5 PREDICTIONS ON TEST DATA SET: 1.628096518261195 ± 0.14444937188335674\n",
      "AVG NUMBER OF ACCURATE 1 PREDICTIONS ON TEST DATA SET: 2.8389780409001317 ± 0.1934856587223908\n",
      "POWER SPECTRUM MEAN ERROR ON TEST DATA SET: 0.7050505267244006 ± 0.3528889805426587\n",
      "TEMPORAL DISTANCE ON TEST DATA SET: 0.11058582048420988 ± 0.0022534958516664864\n",
      "GEOMETRICAL DISTANCE ON TEST DATA SET: 13.03216603614317 ± 0.09257978464973164\n"
     ]
    }
   ],
   "source": [
    "!bash ./1_Randomly_Clustered_ESN_Evaluate_Tuned_Model.sh \"evaluate_tuned_model\" 3000 0.1 0.1 7 \"grid_search.json\" 70000"
   ]
  },
  {
   "cell_type": "code",
   "execution_count": 14,
   "metadata": {},
   "outputs": [
    {
     "name": "stdout",
     "output_type": "stream",
     "text": [
      "{'radius': 0.1, 'sigma_input': 0.1}\n",
      "AVERAGE RMNSE ERROR ON TRAIN DATA SET: 1.3710580917396036 ± 0.0052066180064274355\n",
      "AVG NUMBER OF ACCURATE 0.5 PREDICTIONS ON TRAIN DATA SET: 2.4773103096657625 ± 0.14249095644042217\n",
      "AVG NUMBER OF ACCURATE 1 PREDICTIONS ON TRAIN DATA SET: 3.8193487480829353 ± 0.2372790007541253\n",
      "POWER SPECTRUM MEAN ERROR ON TRAIN DATA SET: 0.2902867321777536 ± 0.27480626250441087\n",
      "TEMPORAL DISTANCE ON TRAIN DATA SET: 0.10877211581347317 ± 0.0012775141646343407\n",
      "GEOMETRICAL DISTANCE ON TRAIN DATA SET: 12.966932500104567 ± 0.09363552947410345\n",
      "\n",
      "\n",
      "AVERAGE RMNSE ERROR ON TEST DATA SET: 1.3803013442112624 ± 0.004185500901377265\n",
      "AVG NUMBER OF ACCURATE 0.5 PREDICTIONS ON TEST DATA SET: 1.6735750191347427 ± 0.10266147700191092\n",
      "AVG NUMBER OF ACCURATE 1 PREDICTIONS ON TEST DATA SET: 2.825584331225271 ± 0.17105516087800968\n",
      "POWER SPECTRUM MEAN ERROR ON TEST DATA SET: 0.5728139765952919 ± 0.36545398463889167\n",
      "TEMPORAL DISTANCE ON TEST DATA SET: 0.10866006640662533 ± 0.0010913738688320526\n",
      "GEOMETRICAL DISTANCE ON TEST DATA SET: 13.065830137534565 ± 0.08275904109499979\n"
     ]
    }
   ],
   "source": [
    "!bash ./1_Randomly_Clustered_ESN_Evaluate_Tuned_Model.sh \"evaluate_tuned_model\" 3000 0.1 0.1 7 \"grid_search.json\" 80000"
   ]
  },
  {
   "cell_type": "code",
   "execution_count": 13,
   "metadata": {},
   "outputs": [
    {
     "name": "stdout",
     "output_type": "stream",
     "text": [
      "{'radius': 0.1, 'sigma_input': 0.1}\n",
      "AVERAGE RMNSE ERROR ON TRAIN DATA SET: 1.3661305052029593 ± 0.004102416156026272\n",
      "AVG NUMBER OF ACCURATE 0.5 PREDICTIONS ON TRAIN DATA SET: 2.43014115820212 ± 0.11968850969932068\n",
      "AVG NUMBER OF ACCURATE 1 PREDICTIONS ON TRAIN DATA SET: 3.8266185456203416 ± 0.3230675355899132\n",
      "POWER SPECTRUM MEAN ERROR ON TRAIN DATA SET: 0.4004568416534157 ± 0.2311772372870104\n",
      "TEMPORAL DISTANCE ON TRAIN DATA SET: 0.10832060998691007 ± 0.0017209381597454772\n",
      "GEOMETRICAL DISTANCE ON TRAIN DATA SET: 12.983898993238643 ± 0.059244257803530105\n",
      "\n",
      "\n",
      "AVERAGE RMNSE ERROR ON TEST DATA SET: 1.3783953519225816 ± 0.0068125602230536715\n",
      "AVG NUMBER OF ACCURATE 0.5 PREDICTIONS ON TEST DATA SET: 1.695722541864983 ± 0.10313800033565791\n",
      "AVG NUMBER OF ACCURATE 1 PREDICTIONS ON TEST DATA SET: 2.873260677865941 ± 0.13292481557619876\n",
      "POWER SPECTRUM MEAN ERROR ON TEST DATA SET: 0.8263380290907172 ± 0.38840684143751275\n",
      "TEMPORAL DISTANCE ON TEST DATA SET: 0.10807832804373418 ± 0.0014582830194792135\n",
      "GEOMETRICAL DISTANCE ON TEST DATA SET: 13.026827468352234 ± 0.05139397744374461\n"
     ]
    }
   ],
   "source": [
    "!bash ./1_Randomly_Clustered_ESN_Evaluate_Tuned_Model.sh \"evaluate_tuned_model\" 3000 0.1 0.1 7 \"grid_search.json\" 90000"
   ]
  },
  {
   "cell_type": "markdown",
   "metadata": {},
   "source": [
    "# Analyze noise degree"
   ]
  },
  {
   "cell_type": "code",
   "execution_count": 12,
   "metadata": {},
   "outputs": [
    {
     "name": "stdout",
     "output_type": "stream",
     "text": [
      "{'radius': 0.1, 'sigma_input': 0.1}\n",
      "AVERAGE RMNSE ERROR ON TRAIN DATA SET: 1.3710368594228277 ± 0.006313406442800957\n",
      "AVG NUMBER OF ACCURATE 0.5 PREDICTIONS ON TRAIN DATA SET: 2.38905834886282 ± 0.11423457186384033\n",
      "AVG NUMBER OF ACCURATE 1 PREDICTIONS ON TRAIN DATA SET: 3.806330738539205 ± 0.20728810342056175\n",
      "POWER SPECTRUM MEAN ERROR ON TRAIN DATA SET: 0.44569414075035174 ± 0.19705698280122544\n",
      "TEMPORAL DISTANCE ON TRAIN DATA SET: 0.10838892993125593 ± 0.0015697520175875753\n",
      "GEOMETRICAL DISTANCE ON TRAIN DATA SET: 13.020094986971259 ± 0.09973266329800382\n",
      "\n",
      "\n",
      "AVERAGE RMNSE ERROR ON TEST DATA SET: 1.3822996117870283 ± 0.005117724800525208\n",
      "AVG NUMBER OF ACCURATE 0.5 PREDICTIONS ON TEST DATA SET: 1.7447514089777294 ± 0.11235642041557085\n",
      "AVG NUMBER OF ACCURATE 1 PREDICTIONS ON TEST DATA SET: 2.919246373916517 ± 0.18904021499095086\n",
      "POWER SPECTRUM MEAN ERROR ON TEST DATA SET: 0.7224495936298603 ± 0.3067370162357663\n",
      "TEMPORAL DISTANCE ON TEST DATA SET: 0.1077133012858548 ± 0.001210425742132142\n",
      "GEOMETRICAL DISTANCE ON TEST DATA SET: 13.129666406467274 ± 0.12223778155983728\n"
     ]
    }
   ],
   "source": [
    "!bash ./1_Randomly_Clustered_ESN_Evaluate_Tuned_Model.sh \"evaluate_tuned_model\" 3000 0.1 0.1 7 \"grid_search.json\" 100000 0"
   ]
  },
  {
   "cell_type": "code",
   "execution_count": 11,
   "metadata": {},
   "outputs": [
    {
     "name": "stdout",
     "output_type": "stream",
     "text": [
      "{'radius': 0.1, 'sigma_input': 0.1}\n",
      "AVERAGE RMNSE ERROR ON TRAIN DATA SET: 1.3449200729272361 ± 0.00823342689163859\n",
      "AVG NUMBER OF ACCURATE 0.5 PREDICTIONS ON TRAIN DATA SET: 2.1740075938027736 ± 0.07876490527712013\n",
      "AVG NUMBER OF ACCURATE 1 PREDICTIONS ON TRAIN DATA SET: 3.644366412008133 ± 0.24662321659333936\n",
      "POWER SPECTRUM MEAN ERROR ON TRAIN DATA SET: 0.5716784197340596 ± 0.38363048538079864\n",
      "TEMPORAL DISTANCE ON TRAIN DATA SET: 0.1084135486658663 ± 0.001681742372440905\n",
      "GEOMETRICAL DISTANCE ON TRAIN DATA SET: 12.531652645826453 ± 0.11914398114764048\n",
      "\n",
      "\n",
      "AVERAGE RMNSE ERROR ON TEST DATA SET: 1.3531323906129198 ± 0.005519904024002167\n",
      "AVG NUMBER OF ACCURATE 0.5 PREDICTIONS ON TEST DATA SET: 1.6419598530999717 ± 0.11742125190759499\n",
      "AVG NUMBER OF ACCURATE 1 PREDICTIONS ON TEST DATA SET: 2.940886701469729 ± 0.16671777983592698\n",
      "POWER SPECTRUM MEAN ERROR ON TEST DATA SET: 0.9929785064608465 ± 0.49053862591201336\n",
      "TEMPORAL DISTANCE ON TEST DATA SET: 0.10909255686952372 ± 0.001327634507241151\n",
      "GEOMETRICAL DISTANCE ON TEST DATA SET: 12.571593958152814 ± 0.06129160136183124\n"
     ]
    }
   ],
   "source": [
    "!bash ./1_Randomly_Clustered_ESN_Evaluate_Tuned_Model.sh \"evaluate_tuned_model\" 3000 0.1 0.1 7 \"grid_search.json\" 100000 20"
   ]
  },
  {
   "cell_type": "code",
   "execution_count": 10,
   "metadata": {},
   "outputs": [
    {
     "name": "stdout",
     "output_type": "stream",
     "text": [
      "{'radius': 0.1, 'sigma_input': 0.1}\n",
      "AVERAGE RMNSE ERROR ON TRAIN DATA SET: 1.321187988463985 ± 0.004199955763425552\n",
      "AVG NUMBER OF ACCURATE 0.5 PREDICTIONS ON TRAIN DATA SET: 1.5569201284182084 ± 0.07888819138093271\n",
      "AVG NUMBER OF ACCURATE 1 PREDICTIONS ON TRAIN DATA SET: 3.032012768275833 ± 0.18553024254990116\n",
      "POWER SPECTRUM MEAN ERROR ON TRAIN DATA SET: 0.7412811577608713 ± 0.3311321776634895\n",
      "TEMPORAL DISTANCE ON TRAIN DATA SET: 0.1157271121838241 ± 0.0019215694924700226\n",
      "GEOMETRICAL DISTANCE ON TRAIN DATA SET: 11.985707432331525 ± 0.10492737760810932\n",
      "\n",
      "\n",
      "AVERAGE RMNSE ERROR ON TEST DATA SET: 1.3338728869032348 ± 0.007182072572505403\n",
      "AVG NUMBER OF ACCURATE 0.5 PREDICTIONS ON TEST DATA SET: 1.0992610136795733 ± 0.07494675232362906\n",
      "AVG NUMBER OF ACCURATE 1 PREDICTIONS ON TEST DATA SET: 2.3063855350071885 ± 0.21130941179421445\n",
      "POWER SPECTRUM MEAN ERROR ON TEST DATA SET: 1.5809970992367492 ± 0.5555113490559964\n",
      "TEMPORAL DISTANCE ON TEST DATA SET: 0.11492203901445945 ± 0.0014878784588666619\n",
      "GEOMETRICAL DISTANCE ON TEST DATA SET: 12.07882310192925 ± 0.12414265407391177\n"
     ]
    }
   ],
   "source": [
    "!bash ./1_Randomly_Clustered_ESN_Evaluate_Tuned_Model.sh \"evaluate_tuned_model\" 3000 0.1 0.1 7 \"grid_search.json\" 100000 40"
   ]
  },
  {
   "cell_type": "code",
   "execution_count": 9,
   "metadata": {},
   "outputs": [
    {
     "name": "stdout",
     "output_type": "stream",
     "text": [
      "{'radius': 0.1, 'sigma_input': 0.1}\n",
      "AVERAGE RMNSE ERROR ON TRAIN DATA SET: 1.31900841257607 ± 0.00848124852376261\n",
      "AVG NUMBER OF ACCURATE 0.5 PREDICTIONS ON TRAIN DATA SET: 1.1619841505720867 ± 0.09401613533091224\n",
      "AVG NUMBER OF ACCURATE 1 PREDICTIONS ON TRAIN DATA SET: 2.4549937218765123 ± 0.05170986871329378\n",
      "POWER SPECTRUM MEAN ERROR ON TRAIN DATA SET: 0.8663602194765773 ± 0.27574218379355464\n",
      "TEMPORAL DISTANCE ON TRAIN DATA SET: 0.11617809595468787 ± 0.00455211632226484\n",
      "GEOMETRICAL DISTANCE ON TRAIN DATA SET: 11.770151510029539 ± 0.10313417018186397\n",
      "\n",
      "\n",
      "AVERAGE RMNSE ERROR ON TEST DATA SET: 1.3250958424906458 ± 0.009447136793695502\n",
      "AVG NUMBER OF ACCURATE 0.5 PREDICTIONS ON TEST DATA SET: 0.778544596738609 ± 0.05596155606395279\n",
      "AVG NUMBER OF ACCURATE 1 PREDICTIONS ON TEST DATA SET: 1.9516870412053204 ± 0.26158926911014124\n",
      "POWER SPECTRUM MEAN ERROR ON TEST DATA SET: 1.588661731735483 ± 0.42877093550341366\n",
      "TEMPORAL DISTANCE ON TEST DATA SET: 0.11560923376168608 ± 0.003134075861659965\n",
      "GEOMETRICAL DISTANCE ON TEST DATA SET: 11.884756658942639 ± 0.10872091208962407\n"
     ]
    }
   ],
   "source": [
    "!bash ./1_Randomly_Clustered_ESN_Evaluate_Tuned_Model.sh \"evaluate_tuned_model\" 3000 0.1 0.1 7 \"grid_search.json\" 100000 60"
   ]
  },
  {
   "cell_type": "code",
   "execution_count": 8,
   "metadata": {},
   "outputs": [
    {
     "name": "stdout",
     "output_type": "stream",
     "text": [
      "{'radius': 0.1, 'sigma_input': 0.1}\n",
      "AVERAGE RMNSE ERROR ON TRAIN DATA SET: 1.3155514893354892 ± 0.009602958738765896\n",
      "AVG NUMBER OF ACCURATE 0.5 PREDICTIONS ON TRAIN DATA SET: 0.9558938436395428 ± 0.07522616246567755\n",
      "AVG NUMBER OF ACCURATE 1 PREDICTIONS ON TRAIN DATA SET: 2.124809661631018 ± 0.24710441681696368\n",
      "POWER SPECTRUM MEAN ERROR ON TRAIN DATA SET: 1.041304646107806 ± 0.6022918629362728\n",
      "TEMPORAL DISTANCE ON TRAIN DATA SET: 0.11851853059451105 ± 0.008662705755668708\n",
      "GEOMETRICAL DISTANCE ON TRAIN DATA SET: 11.635517778089113 ± 0.10656806249050528\n",
      "\n",
      "\n",
      "AVERAGE RMNSE ERROR ON TEST DATA SET: 1.3212038638344368 ± 0.00712838914984707\n",
      "AVG NUMBER OF ACCURATE 0.5 PREDICTIONS ON TEST DATA SET: 0.6145514894994231 ± 0.040145387365418624\n",
      "AVG NUMBER OF ACCURATE 1 PREDICTIONS ON TEST DATA SET: 1.75100681616108 ± 0.14570436396576952\n",
      "POWER SPECTRUM MEAN ERROR ON TEST DATA SET: 1.5995160016731187 ± 0.6677867651514959\n",
      "TEMPORAL DISTANCE ON TEST DATA SET: 0.11973732170579107 ± 0.0038877718937481557\n",
      "GEOMETRICAL DISTANCE ON TEST DATA SET: 11.752908469911388 ± 0.11591567557834231\n"
     ]
    }
   ],
   "source": [
    "!bash ./1_Randomly_Clustered_ESN_Evaluate_Tuned_Model.sh \"evaluate_tuned_model\" 3000 0.1 0.1 7 \"grid_search.json\" 100000 80"
   ]
  },
  {
   "cell_type": "code",
   "execution_count": 7,
   "metadata": {},
   "outputs": [
    {
     "name": "stdout",
     "output_type": "stream",
     "text": [
      "{'radius': 0.1, 'sigma_input': 0.1}\n",
      "AVERAGE RMNSE ERROR ON TRAIN DATA SET: 1.4578557457547856 ± 0.4483008764133317\n",
      "AVG NUMBER OF ACCURATE 0.5 PREDICTIONS ON TRAIN DATA SET: 0.8591886298861262 ± 0.07447618087806206\n",
      "AVG NUMBER OF ACCURATE 1 PREDICTIONS ON TRAIN DATA SET: 2.0137339178617966 ± 0.2002767409779787\n",
      "POWER SPECTRUM MEAN ERROR ON TRAIN DATA SET: 1.6695634593429283 ± 1.1325802688741675\n",
      "TEMPORAL DISTANCE ON TRAIN DATA SET: 0.13780867893574938 ± 0.035925103917814206\n",
      "GEOMETRICAL DISTANCE ON TRAIN DATA SET: 11.524873199951092 ± 0.17382612436588718\n",
      "\n",
      "\n",
      "AVERAGE RMNSE ERROR ON TEST DATA SET: 1.3135234222063736 ± 0.009101039197723112\n",
      "AVG NUMBER OF ACCURATE 0.5 PREDICTIONS ON TEST DATA SET: 0.5322168057618113 ± 0.03654934768087101\n",
      "AVG NUMBER OF ACCURATE 1 PREDICTIONS ON TEST DATA SET: 1.639931072391858 ± 0.23602596393761305\n",
      "POWER SPECTRUM MEAN ERROR ON TEST DATA SET: 1.8162999599503415 ± 0.45706019737354125\n",
      "TEMPORAL DISTANCE ON TEST DATA SET: 0.12955330366308118 ± 0.009979846389964818\n",
      "GEOMETRICAL DISTANCE ON TEST DATA SET: 11.651874375476812 ± 0.09106629452403488\n"
     ]
    }
   ],
   "source": [
    "!bash ./1_Randomly_Clustered_ESN_Evaluate_Tuned_Model.sh \"evaluate_tuned_model\" 3000 0.1 0.1 7 \"grid_search.json\" 100000 100"
   ]
  },
  {
   "cell_type": "code",
   "execution_count": 6,
   "metadata": {},
   "outputs": [
    {
     "name": "stdout",
     "output_type": "stream",
     "text": [
      "{'radius': 0.1, 'sigma_input': 0.1}\n",
      "AVERAGE RMNSE ERROR ON TRAIN DATA SET: 1.3041853355661588 ± 0.006553203300669524\n",
      "AVG NUMBER OF ACCURATE 0.5 PREDICTIONS ON TRAIN DATA SET: 0.7714438642602113 ± 0.05541131488767946\n",
      "AVG NUMBER OF ACCURATE 1 PREDICTIONS ON TRAIN DATA SET: 1.9964892818428304 ± 0.16163441955663221\n",
      "POWER SPECTRUM MEAN ERROR ON TRAIN DATA SET: 0.8887302406682789 ± 0.40483024263160755\n",
      "TEMPORAL DISTANCE ON TRAIN DATA SET: 0.15568737480056807 ± 0.026647826933725968\n",
      "GEOMETRICAL DISTANCE ON TRAIN DATA SET: 11.556999146411766 ± 0.25665142806548724\n",
      "\n",
      "\n",
      "AVERAGE RMNSE ERROR ON TEST DATA SET: 1.3136761904345717 ± 0.006801203183735836\n",
      "AVG NUMBER OF ACCURATE 0.5 PREDICTIONS ON TEST DATA SET: 0.48876708559637744 ± 0.0349146977459667\n",
      "AVG NUMBER OF ACCURATE 1 PREDICTIONS ON TEST DATA SET: 1.608146841298078 ± 0.26945576163567697\n",
      "POWER SPECTRUM MEAN ERROR ON TEST DATA SET: 1.5517223046227189 ± 0.45598116141819567\n",
      "TEMPORAL DISTANCE ON TEST DATA SET: 0.1549128734473185 ± 0.024364198575240224\n",
      "GEOMETRICAL DISTANCE ON TEST DATA SET: 11.699822537156482 ± 0.24084007437493984\n"
     ]
    }
   ],
   "source": [
    "!bash ./1_Randomly_Clustered_ESN_Evaluate_Tuned_Model.sh \"evaluate_tuned_model\" 3000 0.1 0.1 7 \"grid_search.json\" 100000 120"
   ]
  },
  {
   "cell_type": "code",
   "execution_count": 5,
   "metadata": {},
   "outputs": [
    {
     "name": "stdout",
     "output_type": "stream",
     "text": [
      "{'radius': 0.1, 'sigma_input': 0.1}\n",
      "AVERAGE RMNSE ERROR ON TRAIN DATA SET: 1.3030883781351248 ± 0.008449148584725001\n",
      "AVG NUMBER OF ACCURATE 0.5 PREDICTIONS ON TRAIN DATA SET: 0.7075372719546316 ± 0.0410953307688328\n",
      "AVG NUMBER OF ACCURATE 1 PREDICTIONS ON TRAIN DATA SET: 2.032500139411847 ± 0.17649744389855268\n",
      "POWER SPECTRUM MEAN ERROR ON TRAIN DATA SET: 1.1849345342391746 ± 0.6732023249805282\n",
      "TEMPORAL DISTANCE ON TRAIN DATA SET: 0.19765809813445495 ± 0.039406705202208146\n",
      "GEOMETRICAL DISTANCE ON TRAIN DATA SET: 11.736949995975099 ± 0.49048651262973625\n",
      "\n",
      "\n",
      "AVERAGE RMNSE ERROR ON TEST DATA SET: 1.3055336839001155 ± 0.008686255249872234\n",
      "AVG NUMBER OF ACCURATE 0.5 PREDICTIONS ON TEST DATA SET: 0.45715191956160667 ± 0.03292387387902207\n",
      "AVG NUMBER OF ACCURATE 1 PREDICTIONS ON TEST DATA SET: 1.6015533039967083 ± 0.3041442820451115\n",
      "POWER SPECTRUM MEAN ERROR ON TEST DATA SET: 1.9159177172894544 ± 0.7095674396159974\n",
      "TEMPORAL DISTANCE ON TEST DATA SET: 0.2014596300372425 ± 0.043640453982430966\n",
      "GEOMETRICAL DISTANCE ON TEST DATA SET: 11.925793952894006 ± 0.47929672766966586\n"
     ]
    }
   ],
   "source": [
    "!bash ./1_Randomly_Clustered_ESN_Evaluate_Tuned_Model.sh \"evaluate_tuned_model\" 3000 0.1 0.1 7 \"grid_search.json\" 100000 140"
   ]
  },
  {
   "cell_type": "code",
   "execution_count": 4,
   "metadata": {},
   "outputs": [
    {
     "name": "stdout",
     "output_type": "stream",
     "text": [
      "{'radius': 0.1, 'sigma_input': 0.1}\n",
      "AVERAGE RMNSE ERROR ON TRAIN DATA SET: 1.3024913303736336 ± 0.014364755547378923\n",
      "AVG NUMBER OF ACCURATE 0.5 PREDICTIONS ON TRAIN DATA SET: 0.6480263711832981 ± 0.031091887142628182\n",
      "AVG NUMBER OF ACCURATE 1 PREDICTIONS ON TRAIN DATA SET: 2.062086524738504 ± 0.18675078248583266\n",
      "POWER SPECTRUM MEAN ERROR ON TRAIN DATA SET: 1.0776241596238678 ± 0.5770919417482301\n",
      "TEMPORAL DISTANCE ON TRAIN DATA SET: 0.281746972355876 ± 0.08475912407272268\n",
      "GEOMETRICAL DISTANCE ON TRAIN DATA SET: 12.893418154889451 ± 1.4750696800423668\n",
      "\n",
      "\n",
      "AVERAGE RMNSE ERROR ON TEST DATA SET: 1.3044904094979501 ± 0.007706997720949329\n",
      "AVG NUMBER OF ACCURATE 0.5 PREDICTIONS ON TEST DATA SET: 0.42824179447098737 ± 0.032991953583982846\n",
      "AVG NUMBER OF ACCURATE 1 PREDICTIONS ON TEST DATA SET: 1.6898052647996518 ± 0.30673289662283243\n",
      "POWER SPECTRUM MEAN ERROR ON TEST DATA SET: 1.8801950578955169 ± 0.6409443284831038\n",
      "TEMPORAL DISTANCE ON TEST DATA SET: 0.2729138201608661 ± 0.08474577552313158\n",
      "GEOMETRICAL DISTANCE ON TEST DATA SET: 12.783642096342371 ± 1.4202507096383057\n"
     ]
    }
   ],
   "source": [
    "!bash ./1_Randomly_Clustered_ESN_Evaluate_Tuned_Model.sh \"evaluate_tuned_model\" 3000 0.1 0.1 7 \"grid_search.json\" 100000 160"
   ]
  },
  {
   "cell_type": "code",
   "execution_count": 3,
   "metadata": {},
   "outputs": [
    {
     "name": "stdout",
     "output_type": "stream",
     "text": [
      "{'radius': 0.1, 'sigma_input': 0.1}\n",
      "AVERAGE RMNSE ERROR ON TRAIN DATA SET: 1.3017443759279304 ± 0.013270917650113536\n",
      "AVG NUMBER OF ACCURATE 0.5 PREDICTIONS ON TRAIN DATA SET: 0.5902061210020595 ± 0.03088342488652331\n",
      "AVG NUMBER OF ACCURATE 1 PREDICTIONS ON TRAIN DATA SET: 2.0980973823075217 ± 0.1937016386028101\n",
      "POWER SPECTRUM MEAN ERROR ON TRAIN DATA SET: 2.5777621345796806 ± 2.7585072123275673\n",
      "TEMPORAL DISTANCE ON TRAIN DATA SET: 0.3448985719624984 ± 0.1076257339588567\n",
      "GEOMETRICAL DISTANCE ON TRAIN DATA SET: 13.756705580130653 ± 2.0597093302890355\n",
      "\n",
      "\n",
      "AVERAGE RMNSE ERROR ON TEST DATA SET: 1.302274713464104 ± 0.013297794859941252\n",
      "AVG NUMBER OF ACCURATE 0.5 PREDICTIONS ON TEST DATA SET: 0.40592520668173726 ± 0.030171837557085544\n",
      "AVG NUMBER OF ACCURATE 1 PREDICTIONS ON TEST DATA SET: 1.7657154762949037 ± 0.301394400759065\n",
      "POWER SPECTRUM MEAN ERROR ON TEST DATA SET: 2.923828306143015 ± 2.6405738796634233\n",
      "TEMPORAL DISTANCE ON TEST DATA SET: 0.3371003067965315 ± 0.11023273659989515\n",
      "GEOMETRICAL DISTANCE ON TEST DATA SET: 13.62790332981136 ± 1.934553185541229\n"
     ]
    }
   ],
   "source": [
    "!bash ./1_Randomly_Clustered_ESN_Evaluate_Tuned_Model.sh \"evaluate_tuned_model\" 3000 0.1 0.1 7 \"grid_search.json\" 100000 180"
   ]
  },
  {
   "cell_type": "code",
   "execution_count": 2,
   "metadata": {},
   "outputs": [
    {
     "name": "stdout",
     "output_type": "stream",
     "text": [
      "{'radius': 0.1, 'sigma_input': 0.1}\n",
      "AVERAGE RMNSE ERROR ON TRAIN DATA SET: 1.295282112763272 ± 0.014641367732022636\n",
      "AVG NUMBER OF ACCURATE 0.5 PREDICTIONS ON TRAIN DATA SET: 0.5391484731811996 ± 0.02383097797657931\n",
      "AVG NUMBER OF ACCURATE 1 PREDICTIONS ON TRAIN DATA SET: 2.0617483946204858 ± 0.27787759601438644\n",
      "POWER SPECTRUM MEAN ERROR ON TRAIN DATA SET: 2.7901425252993213 ± 2.0436538638893516\n",
      "TEMPORAL DISTANCE ON TRAIN DATA SET: 0.4134660095277994 ± 0.0971808489936107\n",
      "GEOMETRICAL DISTANCE ON TRAIN DATA SET: 14.939771934173923 ± 2.1319668540168544\n",
      "\n",
      "\n",
      "AVERAGE RMNSE ERROR ON TEST DATA SET: 1.299112720051536 ± 0.009579052542459518\n",
      "AVG NUMBER OF ACCURATE 0.5 PREDICTIONS ON TEST DATA SET: 0.38428487912852516 ± 0.028521931864733757\n",
      "AVG NUMBER OF ACCURATE 1 PREDICTIONS ON TEST DATA SET: 1.778395355720614 ± 0.2717138499023364\n",
      "POWER SPECTRUM MEAN ERROR ON TEST DATA SET: 3.1567286630344746 ± 2.1474639988576465\n",
      "TEMPORAL DISTANCE ON TEST DATA SET: 0.40148008829985393 ± 0.0976254007019923\n",
      "GEOMETRICAL DISTANCE ON TEST DATA SET: 14.743699994343302 ± 2.0586523209272447\n"
     ]
    }
   ],
   "source": [
    "!bash ./1_Randomly_Clustered_ESN_Evaluate_Tuned_Model.sh \"evaluate_tuned_model\" 3000 0.1 0.1 7 \"grid_search.json\" 100000 200"
   ]
  },
  {
   "cell_type": "code",
   "execution_count": null,
   "metadata": {},
   "outputs": [],
   "source": []
  },
  {
   "cell_type": "code",
   "execution_count": null,
   "metadata": {},
   "outputs": [],
   "source": []
  },
  {
   "cell_type": "code",
   "execution_count": null,
   "metadata": {},
   "outputs": [],
   "source": []
  },
  {
   "cell_type": "code",
   "execution_count": null,
   "metadata": {},
   "outputs": [],
   "source": []
  },
  {
   "cell_type": "code",
   "execution_count": null,
   "metadata": {},
   "outputs": [],
   "source": []
  },
  {
   "cell_type": "code",
   "execution_count": null,
   "metadata": {
    "editable": true,
    "slideshow": {
     "slide_type": ""
    },
    "tags": []
   },
   "outputs": [],
   "source": []
  },
  {
   "cell_type": "code",
   "execution_count": null,
   "metadata": {},
   "outputs": [],
   "source": []
  },
  {
   "cell_type": "code",
   "execution_count": null,
   "metadata": {},
   "outputs": [],
   "source": []
  },
  {
   "cell_type": "code",
   "execution_count": null,
   "metadata": {},
   "outputs": [],
   "source": []
  },
  {
   "cell_type": "code",
   "execution_count": null,
   "metadata": {},
   "outputs": [],
   "source": []
  },
  {
   "cell_type": "code",
   "execution_count": null,
   "metadata": {},
   "outputs": [],
   "source": []
  },
  {
   "cell_type": "code",
   "execution_count": null,
   "metadata": {},
   "outputs": [],
   "source": []
  },
  {
   "cell_type": "code",
   "execution_count": null,
   "metadata": {},
   "outputs": [],
   "source": []
  },
  {
   "cell_type": "code",
   "execution_count": null,
   "metadata": {},
   "outputs": [],
   "source": []
  },
  {
   "cell_type": "code",
   "execution_count": null,
   "metadata": {},
   "outputs": [],
   "source": []
  },
  {
   "cell_type": "code",
   "execution_count": null,
   "metadata": {},
   "outputs": [],
   "source": []
  }
 ],
 "metadata": {
  "kernelspec": {
   "display_name": "base",
   "language": "python",
   "name": "python3"
  },
  "language_info": {
   "codemirror_mode": {
    "name": "ipython",
    "version": 3
   },
   "file_extension": ".py",
   "mimetype": "text/x-python",
   "name": "python",
   "nbconvert_exporter": "python",
   "pygments_lexer": "ipython3",
   "version": "3.11.8"
  }
 },
 "nbformat": 4,
 "nbformat_minor": 4
}
