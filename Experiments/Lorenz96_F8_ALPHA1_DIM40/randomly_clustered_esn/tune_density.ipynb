{
 "cells": [
  {
   "cell_type": "code",
   "execution_count": 1,
   "id": "5b8d8975",
   "metadata": {},
   "outputs": [
    {
     "name": "stdout",
     "output_type": "stream",
     "text": [
      "Grid Search Progress:   0%|                                              | 0/100 [00:00<?, ?trial/s]/home/user/kuei_jan_CHU/PGClustered_ESN/Methods/./Utils/global_utils.py:265: RuntimeWarning: divide by zero encountered in log10\n",
      "  s_dbfs = 20 * np.log10(s_mag)\n",
      "Grid Search Progress:   9%|▉          | 9/100 [05:16<53:28, 35.26s/trial, Current Best Loss=0.30302]/home/user/kuei_jan_CHU/PGClustered_ESN/Methods/./Utils/global_utils.py:300: RuntimeWarning: invalid value encountered in divide\n",
      "  trajectory = (trajectory-trajectory.mean())/trajectory.std()\n",
      "Grid Search Progress: 100%|█████████| 100/100 [57:01<00:00, 34.22s/trial, Current Best Loss=0.24743]\n",
      "{'radius': 0.9, 'sigma_input': 0.1, 'sparsity': 0.2, 'p_in': 0.2}\n"
     ]
    }
   ],
   "source": [
    "!bash ./0_Randomly_Clustered_ESN_Tune.sh \"tune\" 250 0.1 0.1 1 \"grid_search_include_density.json\""
   ]
  },
  {
   "cell_type": "code",
   "execution_count": 2,
   "id": "179571d4",
   "metadata": {},
   "outputs": [
    {
     "name": "stdout",
     "output_type": "stream",
     "text": [
      "{'radius': 0.9, 'sigma_input': 0.1, 'sparsity': 0.2, 'p_in': 0.2}\n",
      "/home/user/kuei_jan_CHU/PGClustered_ESN/Methods/./Utils/global_utils.py:265: RuntimeWarning: divide by zero encountered in log10\n",
      "  s_dbfs = 20 * np.log10(s_mag)\n",
      "/home/user/anaconda3/lib/python3.11/site-packages/numpy/core/_methods.py:236: RuntimeWarning: invalid value encountered in subtract\n",
      "  x = asanyarray(arr - arrmean)\n",
      "AVERAGE RMNSE ERROR ON TRAIN DATA SET: 3.3236683940224965 ± 1.1738027361468233\n",
      "AVG NUMBER OF ACCURATE 0.5 PREDICTIONS ON TRAIN DATA SET: 0.21505075506004573 ± 0.005991680956744244\n",
      "AVG NUMBER OF ACCURATE 1 PREDICTIONS ON TRAIN DATA SET: 0.4999253794910025 ± 0.026902602022443583\n",
      "POWER SPECTRUM MEAN ERROR ON TRAIN DATA SET: inf ± nan\n",
      "TEMPORAL DISTANCE ON TRAIN DATA SET: 0.3539403827877368 ± 0.09608147130921983\n",
      "GEOMETRICAL DISTANCE ON TRAIN DATA SET: inf ± nan\n",
      "\n",
      "\n",
      "AVERAGE RMNSE ERROR ON TEST DATA SET: 3.2654706198167984 ± 1.1984898200305425\n",
      "AVG NUMBER OF ACCURATE 0.5 PREDICTIONS ON TEST DATA SET: 0.19560827327395672 ± 0.006806837265745102\n",
      "AVG NUMBER OF ACCURATE 1 PREDICTIONS ON TEST DATA SET: 0.46222387133189075 ± 0.04035806412889573\n",
      "POWER SPECTRUM MEAN ERROR ON TEST DATA SET: inf ± nan\n",
      "TEMPORAL DISTANCE ON TEST DATA SET: 0.35002219271864854 ± 0.10032906190627822\n",
      "GEOMETRICAL DISTANCE ON TEST DATA SET: inf ± nan\n"
     ]
    }
   ],
   "source": [
    "!bash ./1_Randomly_Clustered_ESN_Evaluate_Tuned_Model.sh \"evaluate_tuned_model\" 250 0.1 0.1 1 \"grid_search_include_density.json\""
   ]
  },
  {
   "cell_type": "code",
   "execution_count": 3,
   "id": "7f524c8e",
   "metadata": {},
   "outputs": [
    {
     "name": "stdout",
     "output_type": "stream",
     "text": [
      "Grid Search Progress:   4%|▎        | 4/100 [02:51<1:07:32, 42.21s/trial, Current Best Loss=0.21676]/home/user/kuei_jan_CHU/PGClustered_ESN/Methods/./Utils/global_utils.py:265: RuntimeWarning: divide by zero encountered in log10\n",
      "  s_dbfs = 20 * np.log10(s_mag)\n",
      "Grid Search Progress:  14%|█       | 14/100 [09:59<1:01:02, 42.59s/trial, Current Best Loss=0.21676]/home/user/kuei_jan_CHU/PGClustered_ESN/Methods/./Utils/global_utils.py:300: RuntimeWarning: invalid value encountered in divide\n",
      "  trajectory = (trajectory-trajectory.mean())/trajectory.std()\n",
      "Grid Search Progress: 100%|███████| 100/100 [1:10:54<00:00, 42.54s/trial, Current Best Loss=0.21676]\n",
      "{'radius': 0.1, 'sigma_input': 0.1, 'sparsity': 0.1, 'p_in': 0.1}\n"
     ]
    }
   ],
   "source": [
    "!bash ./0_Randomly_Clustered_ESN_Tune.sh \"tune\" 500 0.1 0.1 2 \"grid_search_include_density.json\""
   ]
  },
  {
   "cell_type": "code",
   "execution_count": 4,
   "id": "c2de46ec",
   "metadata": {},
   "outputs": [
    {
     "name": "stdout",
     "output_type": "stream",
     "text": [
      "{'radius': 0.1, 'sigma_input': 0.1, 'sparsity': 0.1, 'p_in': 0.1}\n",
      "/home/user/anaconda3/lib/python3.11/site-packages/numpy/core/_methods.py:236: RuntimeWarning: invalid value encountered in subtract\n",
      "  x = asanyarray(arr - arrmean)\n",
      "AVERAGE RMNSE ERROR ON TRAIN DATA SET: 4.898405621181938 ± 1.542214827062842\n",
      "AVG NUMBER OF ACCURATE 0.5 PREDICTIONS ON TRAIN DATA SET: 0.289608446083222 ± 0.013568458479123425\n",
      "AVG NUMBER OF ACCURATE 1 PREDICTIONS ON TRAIN DATA SET: 0.7350948765731752 ± 0.06453680794417486\n",
      "POWER SPECTRUM MEAN ERROR ON TRAIN DATA SET: 12.544515472326932 ± 1.3517728252241514\n",
      "TEMPORAL DISTANCE ON TRAIN DATA SET: 0.301554487508515 ± 0.13304760531318346\n",
      "GEOMETRICAL DISTANCE ON TRAIN DATA SET: inf ± nan\n",
      "\n",
      "\n",
      "AVERAGE RMNSE ERROR ON TEST DATA SET: 4.8778389332114385 ± 1.4864480240809506\n",
      "AVG NUMBER OF ACCURATE 0.5 PREDICTIONS ON TEST DATA SET: 0.24751124638986402 ± 0.010121336430210497\n",
      "AVG NUMBER OF ACCURATE 1 PREDICTIONS ON TEST DATA SET: 0.5837816487596996 ± 0.052323109285965584\n",
      "POWER SPECTRUM MEAN ERROR ON TEST DATA SET: 14.274832022944642 ± 1.453895875718033\n",
      "TEMPORAL DISTANCE ON TEST DATA SET: 0.3019630309528051 ± 0.13582414511182214\n",
      "GEOMETRICAL DISTANCE ON TEST DATA SET: inf ± nan\n"
     ]
    }
   ],
   "source": [
    "!bash ./1_Randomly_Clustered_ESN_Evaluate_Tuned_Model.sh \"evaluate_tuned_model\" 500 0.1 0.1 2 \"grid_search_include_density.json\""
   ]
  },
  {
   "cell_type": "code",
   "execution_count": 5,
   "id": "aa94f080",
   "metadata": {},
   "outputs": [
    {
     "name": "stdout",
     "output_type": "stream",
     "text": [
      "Grid Search Progress:   4%|▎        | 4/100 [04:03<1:35:24, 59.63s/trial, Current Best Loss=0.16700]/home/user/kuei_jan_CHU/PGClustered_ESN/Methods/./Utils/global_utils.py:265: RuntimeWarning: divide by zero encountered in log10\n",
      "  s_dbfs = 20 * np.log10(s_mag)\n",
      "Grid Search Progress:  14%|█       | 14/100 [13:45<1:22:47, 57.76s/trial, Current Best Loss=0.16700]/home/user/kuei_jan_CHU/PGClustered_ESN/Methods/./Utils/global_utils.py:300: RuntimeWarning: invalid value encountered in divide\n",
      "  trajectory = (trajectory-trajectory.mean())/trajectory.std()\n",
      "Grid Search Progress: 100%|███████| 100/100 [1:36:32<00:00, 57.93s/trial, Current Best Loss=0.16685]\n",
      "{'radius': 0.4, 'sigma_input': 0.1, 'sparsity': 0.3, 'p_in': 0.3}\n"
     ]
    }
   ],
   "source": [
    "!bash ./0_Randomly_Clustered_ESN_Tune.sh \"tune\" 1000 0.1 0.1 3 \"grid_search_include_density.json\""
   ]
  },
  {
   "cell_type": "code",
   "execution_count": 6,
   "id": "05f3fd03",
   "metadata": {},
   "outputs": [
    {
     "name": "stdout",
     "output_type": "stream",
     "text": [
      "{'radius': 0.4, 'sigma_input': 0.1, 'sparsity': 0.3, 'p_in': 0.3}\n",
      "AVERAGE RMNSE ERROR ON TRAIN DATA SET: 1.605433001660432 ± 0.012638783168511412\n",
      "AVG NUMBER OF ACCURATE 0.5 PREDICTIONS ON TRAIN DATA SET: 0.401529515147491 ± 0.028763427585713902\n",
      "AVG NUMBER OF ACCURATE 1 PREDICTIONS ON TRAIN DATA SET: 0.867810947895609 ± 0.041218949003184194\n",
      "POWER SPECTRUM MEAN ERROR ON TRAIN DATA SET: 0.8951252993681675 ± 0.09809072074562485\n",
      "TEMPORAL DISTANCE ON TRAIN DATA SET: 0.1680092841403115 ± 0.0037375234224095426\n",
      "GEOMETRICAL DISTANCE ON TRAIN DATA SET: 18.635612781242294 ± 0.29481239925160696\n",
      "\n",
      "\n",
      "AVERAGE RMNSE ERROR ON TEST DATA SET: 1.60684547594444 ± 0.014793033060572792\n",
      "AVG NUMBER OF ACCURATE 0.5 PREDICTIONS ON TEST DATA SET: 0.31310848928553836 ± 0.018237097363718823\n",
      "AVG NUMBER OF ACCURATE 1 PREDICTIONS ON TEST DATA SET: 0.7494654065889802 ± 0.08552436373988723\n",
      "POWER SPECTRUM MEAN ERROR ON TEST DATA SET: 1.4944666255642454 ± 0.6653123862516959\n",
      "TEMPORAL DISTANCE ON TEST DATA SET: 0.16402022024430868 ± 0.003997823843341135\n",
      "GEOMETRICAL DISTANCE ON TEST DATA SET: 18.710092941659145 ± 0.3563682430269652\n"
     ]
    }
   ],
   "source": [
    "!bash ./1_Randomly_Clustered_ESN_Evaluate_Tuned_Model.sh \"evaluate_tuned_model\" 1000 0.1 0.1 3 \"grid_search_include_density.json\""
   ]
  },
  {
   "cell_type": "code",
   "execution_count": 7,
   "id": "373b5bb7",
   "metadata": {},
   "outputs": [
    {
     "name": "stdout",
     "output_type": "stream",
     "text": [
      "Grid Search Progress:   4%|▎        | 4/100 [06:27<2:30:26, 94.03s/trial, Current Best Loss=0.14237]/home/user/kuei_jan_CHU/PGClustered_ESN/Methods/./Utils/global_utils.py:265: RuntimeWarning: divide by zero encountered in log10\n",
      "  s_dbfs = 20 * np.log10(s_mag)\n",
      "Grid Search Progress:  19%|█▌      | 19/100 [28:58<1:59:45, 88.71s/trial, Current Best Loss=0.14237]/home/user/kuei_jan_CHU/PGClustered_ESN/Methods/./Utils/global_utils.py:300: RuntimeWarning: invalid value encountered in divide\n",
      "  trajectory = (trajectory-trajectory.mean())/trajectory.std()\n",
      "Grid Search Progress: 100%|███████| 100/100 [2:29:33<00:00, 89.73s/trial, Current Best Loss=0.14029]\n",
      "{'radius': 0.4, 'sigma_input': 0.1, 'sparsity': 0.3, 'p_in': 0.3}\n"
     ]
    }
   ],
   "source": [
    "!bash ./0_Randomly_Clustered_ESN_Tune.sh \"tune\" 1500 0.1 0.1 4 \"grid_search_include_density.json\""
   ]
  },
  {
   "cell_type": "code",
   "execution_count": 8,
   "id": "e88a9988",
   "metadata": {},
   "outputs": [
    {
     "name": "stdout",
     "output_type": "stream",
     "text": [
      "{'radius': 0.4, 'sigma_input': 0.1, 'sparsity': 0.3, 'p_in': 0.3}\n",
      "AVERAGE RMNSE ERROR ON TRAIN DATA SET: 1.4482552195109144 ± 0.004527618825362914\n",
      "AVG NUMBER OF ACCURATE 0.5 PREDICTIONS ON TRAIN DATA SET: 0.7805733774467226 ± 0.035760757018166306\n",
      "AVG NUMBER OF ACCURATE 1 PREDICTIONS ON TRAIN DATA SET: 1.5187114250820684 ± 0.09615641184889002\n",
      "POWER SPECTRUM MEAN ERROR ON TRAIN DATA SET: 1.536455887087258 ± 0.22263257753599688\n",
      "TEMPORAL DISTANCE ON TRAIN DATA SET: 0.12517736556610787 ± 0.0032031598036107263\n",
      "GEOMETRICAL DISTANCE ON TRAIN DATA SET: 14.479088681757403 ± 0.08591485143289623\n",
      "\n",
      "\n",
      "AVERAGE RMNSE ERROR ON TEST DATA SET: 1.456440937922062 ± 0.005917379524587615\n",
      "AVG NUMBER OF ACCURATE 0.5 PREDICTIONS ON TEST DATA SET: 0.555885914023137 ± 0.03882464141449915\n",
      "AVG NUMBER OF ACCURATE 1 PREDICTIONS ON TEST DATA SET: 1.2302864344119127 ± 0.08524651912411006\n",
      "POWER SPECTRUM MEAN ERROR ON TEST DATA SET: 0.6055643384904481 ± 0.2528732181322951\n",
      "TEMPORAL DISTANCE ON TEST DATA SET: 0.1256186570237413 ± 0.002013960535695315\n",
      "GEOMETRICAL DISTANCE ON TEST DATA SET: 14.57496606417612 ± 0.12069522416069281\n"
     ]
    }
   ],
   "source": [
    "!bash ./1_Randomly_Clustered_ESN_Evaluate_Tuned_Model.sh \"evaluate_tuned_model\" 1500 0.1 0.1 4 \"grid_search_include_density.json\""
   ]
  },
  {
   "cell_type": "code",
   "execution_count": 9,
   "id": "02c191fa",
   "metadata": {},
   "outputs": [
    {
     "name": "stdout",
     "output_type": "stream",
     "text": [
      "Grid Search Progress:   4%|▎       | 4/100 [09:18<3:35:45, 134.85s/trial, Current Best Loss=0.12451]/home/user/kuei_jan_CHU/PGClustered_ESN/Methods/./Utils/global_utils.py:265: RuntimeWarning: divide by zero encountered in log10\n",
      "  s_dbfs = 20 * np.log10(s_mag)\n",
      "Grid Search Progress: 100%|██████| 100/100 [3:30:57<00:00, 126.57s/trial, Current Best Loss=0.12329]\n",
      "{'radius': 0.4, 'sigma_input': 0.1, 'sparsity': 0.2, 'p_in': 0.2}\n"
     ]
    }
   ],
   "source": [
    "!bash ./0_Randomly_Clustered_ESN_Tune.sh \"tune\" 2000 0.1 0.1 5 \"grid_search_include_density.json\""
   ]
  },
  {
   "cell_type": "code",
   "execution_count": 10,
   "id": "1fb6ec4a",
   "metadata": {},
   "outputs": [
    {
     "name": "stdout",
     "output_type": "stream",
     "text": [
      "{'radius': 0.4, 'sigma_input': 0.1, 'sparsity': 0.2, 'p_in': 0.2}\n",
      "AVERAGE RMNSE ERROR ON TRAIN DATA SET: 1.3889217643524892 ± 0.0055379620732062705\n",
      "AVG NUMBER OF ACCURATE 0.5 PREDICTIONS ON TRAIN DATA SET: 1.6659670914793163 ± 0.11437148153075433\n",
      "AVG NUMBER OF ACCURATE 1 PREDICTIONS ON TRAIN DATA SET: 2.8227102252221092 ± 0.1318625092672743\n",
      "POWER SPECTRUM MEAN ERROR ON TRAIN DATA SET: 1.7509657536026535 ± 0.304593423353295\n",
      "TEMPORAL DISTANCE ON TRAIN DATA SET: 0.11002748226517708 ± 0.0014678937094721274\n",
      "GEOMETRICAL DISTANCE ON TRAIN DATA SET: 13.267040406413923 ± 0.09172300354729097\n",
      "\n",
      "\n",
      "AVERAGE RMNSE ERROR ON TEST DATA SET: 1.3946712758870765 ± 0.004980542460061852\n",
      "AVG NUMBER OF ACCURATE 0.5 PREDICTIONS ON TEST DATA SET: 1.1682395577554368 ± 0.07561575335432581\n",
      "AVG NUMBER OF ACCURATE 1 PREDICTIONS ON TEST DATA SET: 2.205284629719525 ± 0.11167563007060828\n",
      "POWER SPECTRUM MEAN ERROR ON TEST DATA SET: 0.7277829394710349 ± 0.3324514673984705\n",
      "TEMPORAL DISTANCE ON TEST DATA SET: 0.10925036568021969 ± 0.002087400237689851\n",
      "GEOMETRICAL DISTANCE ON TEST DATA SET: 13.340063853546187 ± 0.05846615864426364\n"
     ]
    }
   ],
   "source": [
    "!bash ./1_Randomly_Clustered_ESN_Evaluate_Tuned_Model.sh \"evaluate_tuned_model\" 2000 0.1 0.1 5 \"grid_search_include_density.json\""
   ]
  },
  {
   "cell_type": "code",
   "execution_count": 11,
   "id": "31ad857d",
   "metadata": {},
   "outputs": [
    {
     "name": "stdout",
     "output_type": "stream",
     "text": [
      "Grid Search Progress:   4%|▎       | 4/100 [17:00<6:36:06, 247.56s/trial, Current Best Loss=0.12353]/home/user/kuei_jan_CHU/PGClustered_ESN/Methods/./Utils/global_utils.py:265: RuntimeWarning: divide by zero encountered in log10\n",
      "  s_dbfs = 20 * np.log10(s_mag)\n",
      "Grid Search Progress: 100%|██████| 100/100 [5:57:38<00:00, 214.59s/trial, Current Best Loss=0.12293]\n",
      "{'radius': 0.7, 'sigma_input': 0.1, 'sparsity': 0.2, 'p_in': 0.2}\n"
     ]
    }
   ],
   "source": [
    "!bash ./0_Randomly_Clustered_ESN_Tune.sh \"tune\" 2500 0.1 0.1 6 \"grid_search_include_density.json\""
   ]
  },
  {
   "cell_type": "code",
   "execution_count": 12,
   "id": "7b016691",
   "metadata": {},
   "outputs": [
    {
     "name": "stdout",
     "output_type": "stream",
     "text": [
      "{'radius': 0.7, 'sigma_input': 0.1, 'sparsity': 0.2, 'p_in': 0.2}\n",
      "AVERAGE RMNSE ERROR ON TRAIN DATA SET: 1.3789850307275553 ± 0.005127239469239407\n",
      "AVG NUMBER OF ACCURATE 0.5 PREDICTIONS ON TRAIN DATA SET: 2.0166080238649573 ± 0.06590415361184185\n",
      "AVG NUMBER OF ACCURATE 1 PREDICTIONS ON TRAIN DATA SET: 3.237934010149368 ± 0.17692284830427737\n",
      "POWER SPECTRUM MEAN ERROR ON TRAIN DATA SET: 1.842353598554784 ± 0.41325958420255443\n",
      "TEMPORAL DISTANCE ON TRAIN DATA SET: 0.10987445217394556 ± 0.0012757617455127612\n",
      "GEOMETRICAL DISTANCE ON TRAIN DATA SET: 13.150660147843197 ± 0.1149031680935263\n",
      "\n",
      "\n",
      "AVERAGE RMNSE ERROR ON TEST DATA SET: 1.3878811982818302 ± 0.005406523074112747\n",
      "AVG NUMBER OF ACCURATE 0.5 PREDICTIONS ON TEST DATA SET: 1.3105923374414106 ± 0.07097833628520489\n",
      "AVG NUMBER OF ACCURATE 1 PREDICTIONS ON TEST DATA SET: 2.405795789704757 ± 0.08786504838355343\n",
      "POWER SPECTRUM MEAN ERROR ON TEST DATA SET: 0.5951106205377463 ± 0.4278766864747573\n",
      "TEMPORAL DISTANCE ON TEST DATA SET: 0.1090282379388646 ± 0.0014330293772083556\n",
      "GEOMETRICAL DISTANCE ON TEST DATA SET: 13.201101529285713 ± 0.08626494808450726\n"
     ]
    }
   ],
   "source": [
    "!bash ./1_Randomly_Clustered_ESN_Evaluate_Tuned_Model.sh \"evaluate_tuned_model\" 2500 0.1 0.1 6 \"grid_search_include_density.json\""
   ]
  },
  {
   "cell_type": "code",
   "execution_count": 13,
   "id": "422e7e22",
   "metadata": {},
   "outputs": [
    {
     "name": "stdout",
     "output_type": "stream",
     "text": [
      "Grid Search Progress:   9%|▋       | 9/100 [46:13<7:41:09, 304.06s/trial, Current Best Loss=0.12319]/home/user/kuei_jan_CHU/PGClustered_ESN/Methods/./Utils/global_utils.py:265: RuntimeWarning: divide by zero encountered in log10\n",
      "  s_dbfs = 20 * np.log10(s_mag)\n",
      "Grid Search Progress: 100%|██████| 100/100 [8:18:26<00:00, 299.06s/trial, Current Best Loss=0.12262]\n",
      "{'radius': 0.7, 'sigma_input': 0.1, 'sparsity': 0.1, 'p_in': 0.1}\n"
     ]
    }
   ],
   "source": [
    "!bash ./0_Randomly_Clustered_ESN_Tune.sh \"tune\" 3000 0.1 0.1 7 \"grid_search_include_density.json\""
   ]
  },
  {
   "cell_type": "code",
   "execution_count": 14,
   "id": "1658eefa",
   "metadata": {},
   "outputs": [
    {
     "name": "stdout",
     "output_type": "stream",
     "text": [
      "{'radius': 0.7, 'sigma_input': 0.1, 'sparsity': 0.1, 'p_in': 0.1}\n",
      "AVERAGE RMNSE ERROR ON TRAIN DATA SET: 1.3711020360929953 ± 0.004313052616604948\n",
      "AVG NUMBER OF ACCURATE 0.5 PREDICTIONS ON TRAIN DATA SET: 2.317374763842804 ± 0.07143693976866651\n",
      "AVG NUMBER OF ACCURATE 1 PREDICTIONS ON TRAIN DATA SET: 3.7403953655255124 ± 0.14674067999684814\n",
      "POWER SPECTRUM MEAN ERROR ON TRAIN DATA SET: 1.9132233955178293 ± 0.3404013855368939\n",
      "TEMPORAL DISTANCE ON TRAIN DATA SET: 0.10841819059390163 ± 0.0014806956141349076\n",
      "GEOMETRICAL DISTANCE ON TRAIN DATA SET: 13.017418488497935 ± 0.08990408007658686\n",
      "\n",
      "\n",
      "AVERAGE RMNSE ERROR ON TEST DATA SET: 1.3808726030200742 ± 0.007274400878856137\n",
      "AVG NUMBER OF ACCURATE 0.5 PREDICTIONS ON TEST DATA SET: 1.7151650236510723 ± 0.08590185499703278\n",
      "AVG NUMBER OF ACCURATE 1 PREDICTIONS ON TEST DATA SET: 2.954242841131477 ± 0.15958917715255916\n",
      "POWER SPECTRUM MEAN ERROR ON TEST DATA SET: 0.8457299984815618 ± 0.4037450328521408\n",
      "TEMPORAL DISTANCE ON TEST DATA SET: 0.107876285112259 ± 0.0017200581659184422\n",
      "GEOMETRICAL DISTANCE ON TEST DATA SET: 13.076571948264249 ± 0.09385345915205556\n"
     ]
    }
   ],
   "source": [
    "!bash ./1_Randomly_Clustered_ESN_Evaluate_Tuned_Model.sh \"evaluate_tuned_model\" 3000 0.1 0.1 7 \"grid_search_include_density.json\""
   ]
  },
  {
   "cell_type": "code",
   "execution_count": 15,
   "id": "1d930054",
   "metadata": {},
   "outputs": [
    {
     "name": "stdout",
     "output_type": "stream",
     "text": [
      "Grid Search Progress:   4%|▎      | 4/100 [35:33<14:05:40, 528.55s/trial, Current Best Loss=0.12321]/home/user/kuei_jan_CHU/PGClustered_ESN/Methods/./Utils/global_utils.py:265: RuntimeWarning: divide by zero encountered in log10\n",
      "  s_dbfs = 20 * np.log10(s_mag)\n",
      "Grid Search Progress: 100%|█████| 100/100 [14:08:53<00:00, 509.34s/trial, Current Best Loss=0.12102]\n",
      "{'radius': 0.4, 'sigma_input': 0.1, 'sparsity': 0.1, 'p_in': 0.1}\n"
     ]
    }
   ],
   "source": [
    "!bash ./0_Randomly_Clustered_ESN_Tune.sh \"tune\" 3500 0.1 0.1 8 \"grid_search_include_density.json\""
   ]
  },
  {
   "cell_type": "code",
   "execution_count": 16,
   "id": "f9dcf59a",
   "metadata": {},
   "outputs": [
    {
     "name": "stdout",
     "output_type": "stream",
     "text": [
      "{'radius': 0.4, 'sigma_input': 0.1, 'sparsity': 0.1, 'p_in': 0.1}\n",
      "AVERAGE RMNSE ERROR ON TRAIN DATA SET: 1.3660037359941941 ± 0.00841901421034393\n",
      "AVG NUMBER OF ACCURATE 0.5 PREDICTIONS ON TRAIN DATA SET: 2.5488248296267684 ± 0.1442773914095911\n",
      "AVG NUMBER OF ACCURATE 1 PREDICTIONS ON TRAIN DATA SET: 3.9552770555265484 ± 0.2097119001793111\n",
      "POWER SPECTRUM MEAN ERROR ON TRAIN DATA SET: 1.8290044512519597 ± 0.31773562087353907\n",
      "TEMPORAL DISTANCE ON TRAIN DATA SET: 0.10878834019258243 ± 0.0016903613534081368\n",
      "GEOMETRICAL DISTANCE ON TRAIN DATA SET: 12.98203436649903 ± 0.07490081742040154\n",
      "\n",
      "\n",
      "AVERAGE RMNSE ERROR ON TEST DATA SET: 1.3733014503235483 ± 0.006255904276864378\n",
      "AVG NUMBER OF ACCURATE 0.5 PREDICTIONS ON TEST DATA SET: 1.8025716591589682 ± 0.1335245824423912\n",
      "AVG NUMBER OF ACCURATE 1 PREDICTIONS ON TEST DATA SET: 3.1072467195350475 ± 0.1928356537380902\n",
      "POWER SPECTRUM MEAN ERROR ON TEST DATA SET: 0.6394847148903235 ± 0.39804398063523233\n",
      "TEMPORAL DISTANCE ON TEST DATA SET: 0.10699401275759521 ± 0.0008350685725635662\n",
      "GEOMETRICAL DISTANCE ON TEST DATA SET: 13.028448460032937 ± 0.0789742550803359\n"
     ]
    }
   ],
   "source": [
    "!bash ./1_Randomly_Clustered_ESN_Evaluate_Tuned_Model.sh \"evaluate_tuned_model\" 3500 0.1 0.1 8 \"grid_search_include_density.json\""
   ]
  },
  {
   "cell_type": "code",
   "execution_count": 1,
   "id": "25143dab",
   "metadata": {},
   "outputs": [
    {
     "name": "stdout",
     "output_type": "stream",
     "text": [
      "Grid Search Progress:   8%|▍    | 8/100 [1:24:55<16:10:26, 632.90s/trial, Current Best Loss=0.12187]/home/user/kuei_jan_CHU/PGClustered_ESN/Methods/./Utils/global_utils.py:265: RuntimeWarning: divide by zero encountered in log10\n",
      "  s_dbfs = 20 * np.log10(s_mag)\n",
      "Grid Search Progress: 100%|█████| 100/100 [17:19:03<00:00, 623.43s/trial, Current Best Loss=0.11994]\n",
      "{'radius': 0.4, 'sigma_input': 0.1, 'sparsity': 0.1, 'p_in': 0.1}\n"
     ]
    }
   ],
   "source": [
    "!bash ./0_Randomly_Clustered_ESN_Tune.sh \"tune\" 4000 0.1 0.1 9 \"grid_search_include_density.json\""
   ]
  },
  {
   "cell_type": "code",
   "execution_count": 2,
   "id": "cb60271f",
   "metadata": {},
   "outputs": [
    {
     "name": "stdout",
     "output_type": "stream",
     "text": [
      "{'radius': 0.4, 'sigma_input': 0.1, 'sparsity': 0.1, 'p_in': 0.1}\n",
      "AVERAGE RMNSE ERROR ON TRAIN DATA SET: 1.3623771676655454 ± 0.006054547876992449\n",
      "AVG NUMBER OF ACCURATE 0.5 PREDICTIONS ON TRAIN DATA SET: 2.5828069064876713 ± 0.13685928783884585\n",
      "AVG NUMBER OF ACCURATE 1 PREDICTIONS ON TRAIN DATA SET: 4.035921088674066 ± 0.2594956454197194\n",
      "POWER SPECTRUM MEAN ERROR ON TRAIN DATA SET: 1.6225868280473688 ± 0.5056543413835167\n",
      "TEMPORAL DISTANCE ON TRAIN DATA SET: 0.10772211609827667 ± 0.0014739464317440024\n",
      "GEOMETRICAL DISTANCE ON TRAIN DATA SET: 12.937943770512874 ± 0.037762247305855486\n",
      "\n",
      "\n",
      "AVERAGE RMNSE ERROR ON TEST DATA SET: 1.3717196798968272 ± 0.006953086619185908\n",
      "AVG NUMBER OF ACCURATE 0.5 PREDICTIONS ON TEST DATA SET: 1.836722801078881 ± 0.11534202678177234\n",
      "AVG NUMBER OF ACCURATE 1 PREDICTIONS ON TEST DATA SET: 3.093383384696271 ± 0.16406638144381278\n",
      "POWER SPECTRUM MEAN ERROR ON TEST DATA SET: 0.8391469574224226 ± 0.518169981815763\n",
      "TEMPORAL DISTANCE ON TEST DATA SET: 0.10701901162540198 ± 0.0009425312169089199\n",
      "GEOMETRICAL DISTANCE ON TEST DATA SET: 13.020737713499006 ± 0.10325876872633159\n"
     ]
    }
   ],
   "source": [
    "!bash ./1_Randomly_Clustered_ESN_Evaluate_Tuned_Model.sh \"evaluate_tuned_model\" 4000 0.1 0.1 9 \"grid_search_include_density.json\""
   ]
  },
  {
   "cell_type": "code",
   "execution_count": null,
   "id": "21a40ee7-d0b5-4a35-b241-c3fcc121e3fa",
   "metadata": {},
   "outputs": [],
   "source": []
  }
 ],
 "metadata": {
  "kernelspec": {
   "display_name": "Python 3 (ipykernel)",
   "language": "python",
   "name": "python3"
  },
  "language_info": {
   "codemirror_mode": {
    "name": "ipython",
    "version": 3
   },
   "file_extension": ".py",
   "mimetype": "text/x-python",
   "name": "python",
   "nbconvert_exporter": "python",
   "pygments_lexer": "ipython3",
   "version": "3.11.8"
  }
 },
 "nbformat": 4,
 "nbformat_minor": 5
}
