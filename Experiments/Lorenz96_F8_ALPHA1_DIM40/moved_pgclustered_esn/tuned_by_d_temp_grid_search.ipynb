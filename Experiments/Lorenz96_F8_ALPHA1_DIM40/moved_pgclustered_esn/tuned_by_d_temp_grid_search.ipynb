{
 "cells": [
  {
   "cell_type": "markdown",
   "metadata": {},
   "source": [
    "### move dim 1"
   ]
  },
  {
   "cell_type": "code",
   "execution_count": 1,
   "metadata": {},
   "outputs": [
    {
     "name": "stdout",
     "output_type": "stream",
     "text": [
      "Grid Search Progress:   0%|                                               | 0/25 [00:00<?, ?trial/s]/home/user/kuei_jan_CHU/PGClustered_ESN/Methods/./Utils/global_utils.py:274: RuntimeWarning: divide by zero encountered in log10\n",
      "  s_dbfs = 20 * np.log10(s_mag)\n",
      "Grid Search Progress:   4%|▍           | 1/25 [01:14<29:37, 74.07s/trial, Current Best Loss=0.48482]/home/user/kuei_jan_CHU/PGClustered_ESN/Methods/./Utils/global_utils.py:309: RuntimeWarning: invalid value encountered in divide\n",
      "  trajectory = (trajectory-trajectory.mean())/trajectory.std()\n",
      "Grid Search Progress:  16%|█▉          | 4/25 [04:31<23:12, 66.32s/trial, Current Best Loss=0.48482]/home/user/kuei_jan_CHU/PGClustered_ESN/Methods/./Utils/global_utils.py:321: RuntimeWarning: Mean of empty slice\n",
      "  spectrum = np.nanmean(np.array(spectrum),axis=0)\n",
      "Grid Search Progress: 100%|███████████| 25/25 [27:31<00:00, 66.07s/trial, Current Best Loss=0.44708]\n",
      "{'radius': 0.7, 'sigma_input': 0.1}\n"
     ]
    }
   ],
   "source": [
    "!bash ./0_MovedPGClustered_ESN_Tune.sh \"tune\" 40 1 1 0 \"grid_search_for_md_1.json\" 1"
   ]
  },
  {
   "cell_type": "code",
   "execution_count": 63,
   "metadata": {},
   "outputs": [
    {
     "name": "stdout",
     "output_type": "stream",
     "text": [
      "{'radius': 0.7, 'sigma_input': 0.1}\n",
      "/home/user/anaconda3/lib/python3.11/site-packages/numpy/core/_methods.py:236: RuntimeWarning: invalid value encountered in subtract\n",
      "  x = asanyarray(arr - arrmean)\n",
      "AVERAGE RMNSE ERROR ON TRAIN DATA SET: 2.067123374248312 ± 0.5643554318530096\n",
      "AVG NUMBER OF ACCURATE 0.5 PREDICTIONS ON TRAIN DATA SET: 0.004733821652265158 ± 0.007515317458064036\n",
      "AVG NUMBER OF ACCURATE 1 PREDICTIONS ON TRAIN DATA SET: 0.44142886907372586 ± 0.06376891091035011\n",
      "POWER SPECTRUM MEAN ERROR ON TRAIN DATA SET: inf ± nan\n",
      "TEMPORAL DISTANCE ON TRAIN DATA SET: 0.40558919479910677 ± 0.091076305817493\n",
      "GEOMETRICAL DISTANCE ON TRAIN DATA SET: inf ± nan\n",
      "\n",
      "\n",
      "AVERAGE RMNSE ERROR ON TEST DATA SET: 2.0540341794927586 ± 0.5607184555639991\n",
      "AVG NUMBER OF ACCURATE 0.5 PREDICTIONS ON TEST DATA SET: 0.003719431298208338 ± 0.005116837174166674\n",
      "AVG NUMBER OF ACCURATE 1 PREDICTIONS ON TEST DATA SET: 0.37397191052894746 ± 0.04227843568425427\n",
      "POWER SPECTRUM MEAN ERROR ON TEST DATA SET: inf ± nan\n",
      "TEMPORAL DISTANCE ON TEST DATA SET: 0.3851938588436953 ± 0.09587539775101589\n",
      "GEOMETRICAL DISTANCE ON TEST DATA SET: inf ± nan\n"
     ]
    }
   ],
   "source": [
    "!bash ./1_MovedPGClustered_ESN_Evaluate_Tuned_Model.sh \"evaluate_tuned_model\" 40 1 1 0 \"grid_search_for_md_1.json\" 1"
   ]
  },
  {
   "cell_type": "code",
   "execution_count": 3,
   "metadata": {},
   "outputs": [
    {
     "name": "stdout",
     "output_type": "stream",
     "text": [
      "Grid Search Progress:   0%|                                               | 0/25 [00:00<?, ?trial/s]/home/user/kuei_jan_CHU/PGClustered_ESN/Methods/./Utils/global_utils.py:274: RuntimeWarning: divide by zero encountered in log10\n",
      "  s_dbfs = 20 * np.log10(s_mag)\n",
      "Grid Search Progress:  12%|█▍          | 3/25 [03:10<23:26, 63.95s/trial, Current Best Loss=0.33084]/home/user/kuei_jan_CHU/PGClustered_ESN/Methods/./Utils/global_utils.py:309: RuntimeWarning: invalid value encountered in divide\n",
      "  trajectory = (trajectory-trajectory.mean())/trajectory.std()\n",
      "Grid Search Progress: 100%|███████████| 25/25 [27:39<00:00, 66.39s/trial, Current Best Loss=0.33084]\n",
      "{'radius': 0.1, 'sigma_input': 0.1}\n"
     ]
    }
   ],
   "source": [
    "!bash ./0_MovedPGClustered_ESN_Tune.sh \"tune\" 250 1 1 1 \"grid_search_for_md_1.json\" 1"
   ]
  },
  {
   "cell_type": "code",
   "execution_count": 64,
   "metadata": {},
   "outputs": [
    {
     "name": "stdout",
     "output_type": "stream",
     "text": [
      "{'radius': 0.1, 'sigma_input': 0.1}\n",
      "/home/user/anaconda3/lib/python3.11/site-packages/numpy/core/_methods.py:236: RuntimeWarning: invalid value encountered in subtract\n",
      "  x = asanyarray(arr - arrmean)\n",
      "AVERAGE RMNSE ERROR ON TRAIN DATA SET: 4.470456317549519 ± 1.968885241862213\n",
      "AVG NUMBER OF ACCURATE 0.5 PREDICTIONS ON TRAIN DATA SET: 0.3775222767681463 ± 0.019068410236219357\n",
      "AVG NUMBER OF ACCURATE 1 PREDICTIONS ON TRAIN DATA SET: 0.8162461048977206 ± 0.060225141172069445\n",
      "POWER SPECTRUM MEAN ERROR ON TRAIN DATA SET: inf ± nan\n",
      "TEMPORAL DISTANCE ON TRAIN DATA SET: 0.4457364501762927 ± 0.20496521899572903\n",
      "GEOMETRICAL DISTANCE ON TRAIN DATA SET: inf ± nan\n",
      "\n",
      "\n",
      "AVERAGE RMNSE ERROR ON TEST DATA SET: 4.462983549130214 ± 2.0409305160652913\n",
      "AVG NUMBER OF ACCURATE 0.5 PREDICTIONS ON TEST DATA SET: 0.3580797949820573 ± 0.044305368841256486\n",
      "AVG NUMBER OF ACCURATE 1 PREDICTIONS ON TEST DATA SET: 0.8045806158260673 ± 0.09930165445968718\n",
      "POWER SPECTRUM MEAN ERROR ON TEST DATA SET: inf ± nan\n",
      "TEMPORAL DISTANCE ON TEST DATA SET: 0.445331334624785 ± 0.1986849384436049\n",
      "GEOMETRICAL DISTANCE ON TEST DATA SET: inf ± nan\n"
     ]
    }
   ],
   "source": [
    "!bash ./1_MovedPGClustered_ESN_Evaluate_Tuned_Model.sh \"evaluate_tuned_model\" 250 1 1 1 \"grid_search_for_md_1.json\" 1"
   ]
  },
  {
   "cell_type": "code",
   "execution_count": 5,
   "metadata": {},
   "outputs": [
    {
     "name": "stdout",
     "output_type": "stream",
     "text": [
      "Grid Search Progress:   8%|▉           | 2/25 [02:00<23:07, 60.31s/trial, Current Best Loss=0.12627]/home/user/kuei_jan_CHU/PGClustered_ESN/Methods/./Utils/global_utils.py:274: RuntimeWarning: divide by zero encountered in log10\n",
      "  s_dbfs = 20 * np.log10(s_mag)\n",
      "Grid Search Progress:  12%|█▍          | 3/25 [03:14<24:24, 66.56s/trial, Current Best Loss=0.12627]/home/user/kuei_jan_CHU/PGClustered_ESN/Methods/./Utils/global_utils.py:309: RuntimeWarning: invalid value encountered in divide\n",
      "  trajectory = (trajectory-trajectory.mean())/trajectory.std()\n",
      "Grid Search Progress: 100%|███████████| 25/25 [26:35<00:00, 63.81s/trial, Current Best Loss=0.12627]\n",
      "{'radius': 0.1, 'sigma_input': 0.1}\n"
     ]
    }
   ],
   "source": [
    "!bash ./0_MovedPGClustered_ESN_Tune.sh \"tune\" 500 1 1 2 \"grid_search_for_md_1.json\" 1"
   ]
  },
  {
   "cell_type": "code",
   "execution_count": 65,
   "metadata": {},
   "outputs": [
    {
     "name": "stdout",
     "output_type": "stream",
     "text": [
      "{'radius': 0.1, 'sigma_input': 0.1}\n",
      "AVERAGE RMNSE ERROR ON TRAIN DATA SET: 1.4073633749070262 ± 0.008946493834002731\n",
      "AVG NUMBER OF ACCURATE 0.5 PREDICTIONS ON TRAIN DATA SET: 1.331218274640566 ± 0.07788818277690791\n",
      "AVG NUMBER OF ACCURATE 1 PREDICTIONS ON TRAIN DATA SET: 2.4396088015066506 ± 0.15459056061778717\n",
      "POWER SPECTRUM MEAN ERROR ON TRAIN DATA SET: 0.6831813075595045 ± 0.44160374557346255\n",
      "TEMPORAL DISTANCE ON TRAIN DATA SET: 0.11572656291773768 ± 0.0017372498323273123\n",
      "GEOMETRICAL DISTANCE ON TRAIN DATA SET: 13.56404469819698 ± 0.13507925311231272\n",
      "\n",
      "\n",
      "AVERAGE RMNSE ERROR ON TEST DATA SET: 1.4092484634571938 ± 0.006282824302038018\n",
      "AVG NUMBER OF ACCURATE 0.5 PREDICTIONS ON TEST DATA SET: 1.2517576969061153 ± 0.11623809908914755\n",
      "AVG NUMBER OF ACCURATE 1 PREDICTIONS ON TEST DATA SET: 2.368770541781683 ± 0.1218077085606622\n",
      "POWER SPECTRUM MEAN ERROR ON TEST DATA SET: 0.6436614487796711 ± 0.32187915134449385\n",
      "TEMPORAL DISTANCE ON TEST DATA SET: 0.11404371688480604 ± 0.0027847599004398385\n",
      "GEOMETRICAL DISTANCE ON TEST DATA SET: 13.58732645245613 ± 0.10340475037940963\n"
     ]
    }
   ],
   "source": [
    "!bash ./1_MovedPGClustered_ESN_Evaluate_Tuned_Model.sh \"evaluate_tuned_model\" 500 1 1 2 \"grid_search_for_md_1.json\" 1"
   ]
  },
  {
   "cell_type": "code",
   "execution_count": 7,
   "metadata": {},
   "outputs": [
    {
     "name": "stdout",
     "output_type": "stream",
     "text": [
      "Grid Search Progress:   8%|▉           | 2/25 [02:40<30:37, 79.91s/trial, Current Best Loss=0.12557]/home/user/kuei_jan_CHU/PGClustered_ESN/Methods/./Utils/global_utils.py:274: RuntimeWarning: divide by zero encountered in log10\n",
      "  s_dbfs = 20 * np.log10(s_mag)\n",
      "Grid Search Progress: 100%|███████████| 25/25 [30:47<00:00, 73.88s/trial, Current Best Loss=0.12299]\n",
      "{'radius': 0.7, 'sigma_input': 0.1}\n"
     ]
    }
   ],
   "source": [
    "!bash ./0_MovedPGClustered_ESN_Tune.sh \"tune\" 1000 1 1 3 \"grid_search_for_md_1.json\" 1"
   ]
  },
  {
   "cell_type": "code",
   "execution_count": 66,
   "metadata": {},
   "outputs": [
    {
     "name": "stdout",
     "output_type": "stream",
     "text": [
      "{'radius': 0.7, 'sigma_input': 0.1}\n",
      "AVERAGE RMNSE ERROR ON TRAIN DATA SET: 1.384196013121835 ± 0.006841368113825398\n",
      "AVG NUMBER OF ACCURATE 0.5 PREDICTIONS ON TRAIN DATA SET: 2.0663131512137407 ± 0.09595332069605811\n",
      "AVG NUMBER OF ACCURATE 1 PREDICTIONS ON TRAIN DATA SET: 3.4450387074359683 ± 0.14954767315986953\n",
      "POWER SPECTRUM MEAN ERROR ON TRAIN DATA SET: 0.5432153158496277 ± 0.36564673434146217\n",
      "TEMPORAL DISTANCE ON TRAIN DATA SET: 0.10926306585925712 ± 0.0023355252847172396\n",
      "GEOMETRICAL DISTANCE ON TRAIN DATA SET: 13.244198285766558 ± 0.06864542322262186\n",
      "\n",
      "\n",
      "AVERAGE RMNSE ERROR ON TEST DATA SET: 1.3890920759392977 ± 0.0048911079067656595\n",
      "AVG NUMBER OF ACCURATE 0.5 PREDICTIONS ON TEST DATA SET: 1.7959781218575988 ± 0.12524982677664423\n",
      "AVG NUMBER OF ACCURATE 1 PREDICTIONS ON TEST DATA SET: 3.0235595153253603 ± 0.211381631535474\n",
      "POWER SPECTRUM MEAN ERROR ON TEST DATA SET: 0.7303082966383732 ± 0.45698642867051764\n",
      "TEMPORAL DISTANCE ON TEST DATA SET: 0.10958286482902382 ± 0.00223613617437675\n",
      "GEOMETRICAL DISTANCE ON TEST DATA SET: 13.28963125296327 ± 0.08313132978020193\n"
     ]
    }
   ],
   "source": [
    "!bash ./1_MovedPGClustered_ESN_Evaluate_Tuned_Model.sh \"evaluate_tuned_model\" 1000 1 1 3 \"grid_search_for_md_1.json\" 1"
   ]
  },
  {
   "cell_type": "code",
   "execution_count": 9,
   "metadata": {},
   "outputs": [
    {
     "name": "stdout",
     "output_type": "stream",
     "text": [
      "Grid Search Progress:  12%|█▎         | 3/25 [05:33<40:04, 109.27s/trial, Current Best Loss=0.12550]/home/user/kuei_jan_CHU/PGClustered_ESN/Methods/./Utils/global_utils.py:274: RuntimeWarning: divide by zero encountered in log10\n",
      "  s_dbfs = 20 * np.log10(s_mag)\n",
      "Grid Search Progress: 100%|██████████| 25/25 [43:41<00:00, 104.87s/trial, Current Best Loss=0.12162]\n",
      "{'radius': 0.99, 'sigma_input': 0.1}\n"
     ]
    }
   ],
   "source": [
    "!bash ./0_MovedPGClustered_ESN_Tune.sh \"tune\" 1500 1 1 4 \"grid_search_for_md_1.json\" 1"
   ]
  },
  {
   "cell_type": "code",
   "execution_count": 67,
   "metadata": {},
   "outputs": [
    {
     "name": "stdout",
     "output_type": "stream",
     "text": [
      "{'radius': 0.99, 'sigma_input': 0.1}\n",
      "AVERAGE RMNSE ERROR ON TRAIN DATA SET: 1.3751196743376406 ± 0.0116318850070184\n",
      "AVG NUMBER OF ACCURATE 0.5 PREDICTIONS ON TRAIN DATA SET: 1.6914959153897464 ± 0.14436859287807097\n",
      "AVG NUMBER OF ACCURATE 1 PREDICTIONS ON TRAIN DATA SET: 3.0240667105023884 ± 0.2619865343146672\n",
      "POWER SPECTRUM MEAN ERROR ON TRAIN DATA SET: 0.42455487778065965 ± 0.19980554513151538\n",
      "TEMPORAL DISTANCE ON TRAIN DATA SET: 0.11019925236052057 ± 0.001727443934767265\n",
      "GEOMETRICAL DISTANCE ON TRAIN DATA SET: 12.746133726422656 ± 0.16255950028123842\n",
      "\n",
      "\n",
      "AVERAGE RMNSE ERROR ON TEST DATA SET: 1.385092825975445 ± 0.012572741248770832\n",
      "AVG NUMBER OF ACCURATE 0.5 PREDICTIONS ON TEST DATA SET: 1.4431393437048352 ± 0.16224996754945784\n",
      "AVG NUMBER OF ACCURATE 1 PREDICTIONS ON TEST DATA SET: 2.6196630893517363 ± 0.247310746868535\n",
      "POWER SPECTRUM MEAN ERROR ON TEST DATA SET: 0.7239658419443309 ± 0.2772389323973603\n",
      "TEMPORAL DISTANCE ON TEST DATA SET: 0.10935264924139661 ± 0.00167284139059246\n",
      "GEOMETRICAL DISTANCE ON TEST DATA SET: 12.888117860448713 ± 0.1909445819770778\n"
     ]
    }
   ],
   "source": [
    "!bash ./1_MovedPGClustered_ESN_Evaluate_Tuned_Model.sh \"evaluate_tuned_model\" 1500 1 1 4 \"grid_search_for_md_1.json\" 1"
   ]
  },
  {
   "cell_type": "code",
   "execution_count": 11,
   "metadata": {},
   "outputs": [
    {
     "name": "stdout",
     "output_type": "stream",
     "text": [
      "Grid Search Progress: 100%|██████████| 25/25 [55:32<00:00, 133.28s/trial, Current Best Loss=0.12272]\n",
      "{'radius': 0.7, 'sigma_input': 0.1}\n"
     ]
    }
   ],
   "source": [
    "!bash ./0_MovedPGClustered_ESN_Tune.sh \"tune\" 2000 1 1 5 \"grid_search_for_md_1.json\" 1"
   ]
  },
  {
   "cell_type": "code",
   "execution_count": 68,
   "metadata": {},
   "outputs": [
    {
     "name": "stdout",
     "output_type": "stream",
     "text": [
      "{'radius': 0.7, 'sigma_input': 0.1}\n",
      "AVERAGE RMNSE ERROR ON TRAIN DATA SET: 1.3715171306465068 ± 0.004107897554240624\n",
      "AVG NUMBER OF ACCURATE 0.5 PREDICTIONS ON TRAIN DATA SET: 2.5467960489186545 ± 0.1342321206039223\n",
      "AVG NUMBER OF ACCURATE 1 PREDICTIONS ON TRAIN DATA SET: 3.959334616942776 ± 0.16951493430919126\n",
      "POWER SPECTRUM MEAN ERROR ON TRAIN DATA SET: 0.4001676428945518 ± 0.19616990864320533\n",
      "TEMPORAL DISTANCE ON TRAIN DATA SET: 0.10830047228268214 ± 0.0016917429988175601\n",
      "GEOMETRICAL DISTANCE ON TRAIN DATA SET: 13.121654422890128 ± 0.044948714866483\n",
      "\n",
      "\n",
      "AVERAGE RMNSE ERROR ON TEST DATA SET: 1.3785508763533403 ± 0.006633792804813342\n",
      "AVG NUMBER OF ACCURATE 0.5 PREDICTIONS ON TEST DATA SET: 2.035712375533027 ± 0.09691852657609414\n",
      "AVG NUMBER OF ACCURATE 1 PREDICTIONS ON TEST DATA SET: 3.4244127702368132 ± 0.20541265520982574\n",
      "POWER SPECTRUM MEAN ERROR ON TEST DATA SET: 0.6142710519679278 ± 0.44547177089458195\n",
      "TEMPORAL DISTANCE ON TEST DATA SET: 0.10797349432158225 ± 0.0011365542061676438\n",
      "GEOMETRICAL DISTANCE ON TEST DATA SET: 13.180405314289013 ± 0.09386014594820603\n"
     ]
    }
   ],
   "source": [
    "!bash ./1_MovedPGClustered_ESN_Evaluate_Tuned_Model.sh \"evaluate_tuned_model\" 2000 1 1 5 \"grid_search_for_md_1.json\" 1"
   ]
  },
  {
   "cell_type": "code",
   "execution_count": 13,
   "metadata": {},
   "outputs": [
    {
     "name": "stdout",
     "output_type": "stream",
     "text": [
      "Grid Search Progress: 100%|████████| 25/25 [1:13:58<00:00, 177.55s/trial, Current Best Loss=0.12179]\n",
      "{'radius': 0.99, 'sigma_input': 0.1}\n"
     ]
    }
   ],
   "source": [
    "!bash ./0_MovedPGClustered_ESN_Tune.sh \"tune\" 2500 1 1 6 \"grid_search_for_md_1.json\" 1"
   ]
  },
  {
   "cell_type": "code",
   "execution_count": 69,
   "metadata": {},
   "outputs": [
    {
     "name": "stdout",
     "output_type": "stream",
     "text": [
      "{'radius': 0.99, 'sigma_input': 0.1}\n",
      "AVERAGE RMNSE ERROR ON TRAIN DATA SET: 1.3676262270204487 ± 0.009090234061130669\n",
      "AVG NUMBER OF ACCURATE 0.5 PREDICTIONS ON TRAIN DATA SET: 2.0436584333064722 ± 0.1405861105591183\n",
      "AVG NUMBER OF ACCURATE 1 PREDICTIONS ON TRAIN DATA SET: 3.565074899332692 ± 0.2878816571820106\n",
      "POWER SPECTRUM MEAN ERROR ON TRAIN DATA SET: 0.452150052499357 ± 0.32505300022379224\n",
      "TEMPORAL DISTANCE ON TRAIN DATA SET: 0.10873641529602127 ± 0.0019959525076766135\n",
      "GEOMETRICAL DISTANCE ON TRAIN DATA SET: 12.733369102494773 ± 0.14133703786928672\n",
      "\n",
      "\n",
      "AVERAGE RMNSE ERROR ON TEST DATA SET: 1.3712347005608654 ± 0.00857529225139966\n",
      "AVG NUMBER OF ACCURATE 0.5 PREDICTIONS ON TEST DATA SET: 1.753880922164241 ± 0.12133689864635915\n",
      "AVG NUMBER OF ACCURATE 1 PREDICTIONS ON TEST DATA SET: 2.93733633523053 ± 0.2318044112758963\n",
      "POWER SPECTRUM MEAN ERROR ON TEST DATA SET: 0.8586131122912377 ± 0.4615278360429169\n",
      "TEMPORAL DISTANCE ON TEST DATA SET: 0.10648760362761137 ± 0.0009519507008328129\n",
      "GEOMETRICAL DISTANCE ON TEST DATA SET: 12.823286424779724 ± 0.1293295496616922\n"
     ]
    }
   ],
   "source": [
    "!bash ./1_MovedPGClustered_ESN_Evaluate_Tuned_Model.sh \"evaluate_tuned_model\" 2500 1 1 6 \"grid_search_for_md_1.json\" 1"
   ]
  },
  {
   "cell_type": "code",
   "execution_count": 15,
   "metadata": {},
   "outputs": [
    {
     "name": "stdout",
     "output_type": "stream",
     "text": [
      "Grid Search Progress: 100%|████████| 25/25 [1:25:25<00:00, 205.01s/trial, Current Best Loss=0.12082]\n",
      "{'radius': 0.1, 'sigma_input': 0.1}\n"
     ]
    }
   ],
   "source": [
    "!bash ./0_MovedPGClustered_ESN_Tune.sh \"tune\" 3000 1 1 7 \"grid_search_for_md_1.json\" 1"
   ]
  },
  {
   "cell_type": "code",
   "execution_count": 70,
   "metadata": {},
   "outputs": [
    {
     "name": "stdout",
     "output_type": "stream",
     "text": [
      "{'radius': 0.1, 'sigma_input': 0.1}\n",
      "AVERAGE RMNSE ERROR ON TRAIN DATA SET: 1.3649419679494532 ± 0.005031756099732762\n",
      "AVG NUMBER OF ACCURATE 0.5 PREDICTIONS ON TRAIN DATA SET: 2.836573560060886 ± 0.08364467097719767\n",
      "AVG NUMBER OF ACCURATE 1 PREDICTIONS ON TRAIN DATA SET: 4.41073832449806 ± 0.29854366741279664\n",
      "POWER SPECTRUM MEAN ERROR ON TRAIN DATA SET: 0.2149495216000798 ± 0.1928615077853846\n",
      "TEMPORAL DISTANCE ON TRAIN DATA SET: 0.10759494095460802 ± 0.0015291070815638438\n",
      "GEOMETRICAL DISTANCE ON TRAIN DATA SET: 13.018810068332039 ± 0.08580715981944594\n",
      "\n",
      "\n",
      "AVERAGE RMNSE ERROR ON TEST DATA SET: 1.3717424699824712 ± 0.005511958565652833\n",
      "AVG NUMBER OF ACCURATE 0.5 PREDICTIONS ON TEST DATA SET: 2.2196551597353307 ± 0.13408138299206265\n",
      "AVG NUMBER OF ACCURATE 1 PREDICTIONS ON TEST DATA SET: 3.8577265164780847 ± 0.2430809869409337\n",
      "POWER SPECTRUM MEAN ERROR ON TEST DATA SET: 0.6528715016635602 ± 0.4052859272043738\n",
      "TEMPORAL DISTANCE ON TEST DATA SET: 0.1069755799715443 ± 0.001783132322284897\n",
      "GEOMETRICAL DISTANCE ON TEST DATA SET: 13.078471589673365 ± 0.10135648466827238\n"
     ]
    }
   ],
   "source": [
    "!bash ./1_MovedPGClustered_ESN_Evaluate_Tuned_Model.sh \"evaluate_tuned_model\" 3000 1 1 7 \"grid_search_for_md_1.json\" 1"
   ]
  },
  {
   "cell_type": "code",
   "execution_count": 17,
   "metadata": {
    "editable": true,
    "slideshow": {
     "slide_type": ""
    },
    "tags": []
   },
   "outputs": [
    {
     "name": "stdout",
     "output_type": "stream",
     "text": [
      "Grid Search Progress: 100%|████████| 25/25 [2:23:42<00:00, 344.90s/trial, Current Best Loss=0.12126]\n",
      "{'radius': 0.1, 'sigma_input': 0.5}\n"
     ]
    }
   ],
   "source": [
    "!bash ./0_MovedPGClustered_ESN_Tune.sh \"tune\" 3500 1 1 8 \"grid_search_for_md_1.json\" 1"
   ]
  },
  {
   "cell_type": "code",
   "execution_count": 71,
   "metadata": {},
   "outputs": [
    {
     "name": "stdout",
     "output_type": "stream",
     "text": [
      "{'radius': 0.1, 'sigma_input': 0.5}\n",
      "AVERAGE RMNSE ERROR ON TRAIN DATA SET: 1.3732535887902861 ± 0.0040262080283922225\n",
      "AVG NUMBER OF ACCURATE 0.5 PREDICTIONS ON TRAIN DATA SET: 2.0850793727637926 ± 0.11090990017750754\n",
      "AVG NUMBER OF ACCURATE 1 PREDICTIONS ON TRAIN DATA SET: 3.387725652431759 ± 0.11569239465772521\n",
      "POWER SPECTRUM MEAN ERROR ON TRAIN DATA SET: 0.41248429760215444 ± 0.20817281892940465\n",
      "TEMPORAL DISTANCE ON TRAIN DATA SET: 0.1073075978136491 ± 0.0015802679290200855\n",
      "GEOMETRICAL DISTANCE ON TRAIN DATA SET: 13.008312891722346 ± 0.09314176837901515\n",
      "\n",
      "\n",
      "AVERAGE RMNSE ERROR ON TEST DATA SET: 1.3823158564924067 ± 0.0089410587153763\n",
      "AVG NUMBER OF ACCURATE 0.5 PREDICTIONS ON TEST DATA SET: 1.4291069438070492 ± 0.06541332288931785\n",
      "AVG NUMBER OF ACCURATE 1 PREDICTIONS ON TEST DATA SET: 2.6710588672906153 ± 0.18914209674204363\n",
      "POWER SPECTRUM MEAN ERROR ON TEST DATA SET: 0.5961531613246941 ± 0.3398662384779811\n",
      "TEMPORAL DISTANCE ON TEST DATA SET: 0.10650440338855753 ± 0.0009542796550945989\n",
      "GEOMETRICAL DISTANCE ON TEST DATA SET: 13.037313806486669 ± 0.07367614146212567\n"
     ]
    }
   ],
   "source": [
    "!bash ./1_MovedPGClustered_ESN_Evaluate_Tuned_Model.sh \"evaluate_tuned_model\" 3500 1 1 8 \"grid_search_for_md_1.json\" 1"
   ]
  },
  {
   "cell_type": "code",
   "execution_count": 19,
   "metadata": {
    "editable": true,
    "slideshow": {
     "slide_type": ""
    },
    "tags": []
   },
   "outputs": [
    {
     "name": "stdout",
     "output_type": "stream",
     "text": [
      "Grid Search Progress: 100%|████████| 25/25 [3:03:17<00:00, 439.91s/trial, Current Best Loss=0.12064]\n",
      "{'radius': 0.9, 'sigma_input': 0.1}\n"
     ]
    }
   ],
   "source": [
    "!bash ./0_MovedPGClustered_ESN_Tune.sh \"tune\" 4000 1 1 9 \"grid_search_for_md_1.json\" 1"
   ]
  },
  {
   "cell_type": "code",
   "execution_count": 72,
   "metadata": {},
   "outputs": [
    {
     "name": "stdout",
     "output_type": "stream",
     "text": [
      "{'radius': 0.9, 'sigma_input': 0.1}\n",
      "AVERAGE RMNSE ERROR ON TRAIN DATA SET: 1.3644285416433977 ± 0.00516221837816515\n",
      "AVG NUMBER OF ACCURATE 0.5 PREDICTIONS ON TRAIN DATA SET: 2.8920268994159923 ± 0.1397529042765089\n",
      "AVG NUMBER OF ACCURATE 1 PREDICTIONS ON TRAIN DATA SET: 4.449961418188257 ± 0.17437722934275326\n",
      "POWER SPECTRUM MEAN ERROR ON TRAIN DATA SET: 0.3681031098583725 ± 0.3325716700973678\n",
      "TEMPORAL DISTANCE ON TRAIN DATA SET: 0.10710117645826552 ± 0.0017051419780611077\n",
      "GEOMETRICAL DISTANCE ON TRAIN DATA SET: 12.958417199498452 ± 0.07569916560813147\n",
      "\n",
      "\n",
      "AVERAGE RMNSE ERROR ON TEST DATA SET: 1.3718195265606847 ± 0.004226576630177773\n",
      "AVG NUMBER OF ACCURATE 0.5 PREDICTIONS ON TEST DATA SET: 2.2467055691768456 ± 0.15165889687717124\n",
      "AVG NUMBER OF ACCURATE 1 PREDICTIONS ON TEST DATA SET: 3.770827076147217 ± 0.30012757651394484\n",
      "POWER SPECTRUM MEAN ERROR ON TEST DATA SET: 0.7172349458191632 ± 0.5713911416324096\n",
      "TEMPORAL DISTANCE ON TEST DATA SET: 0.10583526353837536 ± 0.001034349259209655\n",
      "GEOMETRICAL DISTANCE ON TEST DATA SET: 13.070440898420946 ± 0.0946665514631423\n"
     ]
    }
   ],
   "source": [
    "!bash ./1_MovedPGClustered_ESN_Evaluate_Tuned_Model.sh \"evaluate_tuned_model\" 4000 1 1 9 \"grid_search_for_md_1.json\" 1"
   ]
  },
  {
   "cell_type": "markdown",
   "metadata": {},
   "source": [
    "### move dim 2"
   ]
  },
  {
   "cell_type": "code",
   "execution_count": 12,
   "metadata": {},
   "outputs": [
    {
     "name": "stdout",
     "output_type": "stream",
     "text": [
      "Grid Search Progress:   0%|                                               | 0/25 [00:00<?, ?trial/s]^C\n",
      "Grid Search Progress:   0%|                                               | 0/25 [00:01<?, ?trial/s]\n",
      "Traceback (most recent call last):\n",
      "  File \"/home/user/kuei_jan_CHU/PGClustered_ESN/Methods/RUN.py\", line 93, in <module>\n",
      "    main()\n",
      "  File \"/home/user/kuei_jan_CHU/PGClustered_ESN/Methods/RUN.py\", line 90, in main\n",
      "    runModel(args_dict)\n",
      "  File \"/home/user/kuei_jan_CHU/PGClustered_ESN/Methods/RUN.py\", line 10, in runModel\n",
      "    tuneModel(params_dict)\n",
      "  File \"/home/user/kuei_jan_CHU/PGClustered_ESN/Methods/./Utils/global_utils.py\", line 597, in tuneModel\n",
      "    searchBestHyperParameters(params_dict, hype_tuning_config_path, report_path)\n",
      "  File \"/home/user/kuei_jan_CHU/PGClustered_ESN/Methods/./Utils/hyper_tuning_utils.py\", line 500, in searchBestHyperParameters\n",
      "    gridSearch(params_dict, config, report_path)\n",
      "  File \"/home/user/kuei_jan_CHU/PGClustered_ESN/Methods/./Utils/hyper_tuning_utils.py\", line 340, in gridSearch\n",
      "    returned_dict = _objective(params_dict, config, hyper_args)\n",
      "                    ^^^^^^^^^^^^^^^^^^^^^^^^^^^^^^^^^^^^^^^^^^^\n",
      "  File \"/home/user/kuei_jan_CHU/PGClustered_ESN/Methods/./Utils/hyper_tuning_utils.py\", line 189, in _objective\n",
      "    model.hyperTuning()\n",
      "  File \"/home/user/kuei_jan_CHU/PGClustered_ESN/Methods/./Utils/esn.py\", line 219, in hyperTuning\n",
      "    self.train()\n",
      "  File \"/home/user/kuei_jan_CHU/PGClustered_ESN/Methods/./Utils/esn.py\", line 164, in train\n",
      "    self.model.train(train_input_sequence, dynamics_length)\n",
      "  File \"/home/user/kuei_jan_CHU/PGClustered_ESN/Methods/./Utils/esn_model.py\", line 73, in train\n",
      "    hidden_state = torch.tanh(self.W_in @ current_input + self.W_h @ hidden_state)\n",
      "                              ~~~~~~~~~~^~~~~~~~~~~~~~~\n",
      "  File \"/home/user/anaconda3/lib/python3.11/site-packages/torch/utils/_device.py\", line 62, in __torch_function__\n",
      "    return func(*args, **kwargs)\n",
      "           ^^^^^^^^^^^^^^^^^^^^^\n",
      "KeyboardInterrupt\n"
     ]
    }
   ],
   "source": [
    "!bash ./0_MovedPGClustered_ESN_Tune.sh \"tune\" 40 1 1 0 \"grid_search_for_md_2.json\" 2"
   ]
  },
  {
   "cell_type": "code",
   "execution_count": 73,
   "metadata": {},
   "outputs": [
    {
     "name": "stdout",
     "output_type": "stream",
     "text": [
      "{'radius': 0.99, 'sigma_input': 0.1}\n",
      "/home/user/anaconda3/lib/python3.11/site-packages/numpy/core/_methods.py:236: RuntimeWarning: invalid value encountered in subtract\n",
      "  x = asanyarray(arr - arrmean)\n",
      "AVERAGE RMNSE ERROR ON TRAIN DATA SET: 1.6062134436296784 ± 0.16142791883218602\n",
      "AVG NUMBER OF ACCURATE 0.5 PREDICTIONS ON TRAIN DATA SET: 0.0005071951770284097 ± 0.0015215855310852292\n",
      "AVG NUMBER OF ACCURATE 1 PREDICTIONS ON TRAIN DATA SET: 0.3339034915437031 ± 0.05419715303121909\n",
      "POWER SPECTRUM MEAN ERROR ON TRAIN DATA SET: inf ± nan\n",
      "TEMPORAL DISTANCE ON TRAIN DATA SET: 0.43069721705569275 ± 0.04899168096465643\n",
      "GEOMETRICAL DISTANCE ON TRAIN DATA SET: inf ± nan\n",
      "\n",
      "\n",
      "AVERAGE RMNSE ERROR ON TEST DATA SET: 1.6276379426879484 ± 0.1914928420614694\n",
      "AVG NUMBER OF ACCURATE 0.5 PREDICTIONS ON TEST DATA SET: 0.0 ± 0.0\n",
      "AVG NUMBER OF ACCURATE 1 PREDICTIONS ON TEST DATA SET: 0.289608446083222 ± 0.029429463239818144\n",
      "POWER SPECTRUM MEAN ERROR ON TEST DATA SET: inf ± nan\n",
      "TEMPORAL DISTANCE ON TEST DATA SET: 0.42815716483117755 ± 0.10563066697010365\n",
      "GEOMETRICAL DISTANCE ON TEST DATA SET: inf ± nan\n"
     ]
    }
   ],
   "source": [
    "!bash ./1_MovedPGClustered_ESN_Evaluate_Tuned_Model.sh \"evaluate_tuned_model\" 40 1 1 0 \"grid_search_for_md_2.json\" 2"
   ]
  },
  {
   "cell_type": "code",
   "execution_count": 23,
   "metadata": {},
   "outputs": [
    {
     "name": "stdout",
     "output_type": "stream",
     "text": [
      "Grid Search Progress:   4%|▍           | 1/25 [00:27<11:02, 27.59s/trial, Current Best Loss=0.26295]/home/user/kuei_jan_CHU/PGClustered_ESN/Methods/./Utils/global_utils.py:274: RuntimeWarning: divide by zero encountered in log10\n",
      "  s_dbfs = 20 * np.log10(s_mag)\n",
      "Grid Search Progress:   8%|▉           | 2/25 [00:53<10:09, 26.49s/trial, Current Best Loss=0.26295]/home/user/kuei_jan_CHU/PGClustered_ESN/Methods/./Utils/global_utils.py:309: RuntimeWarning: invalid value encountered in divide\n",
      "  trajectory = (trajectory-trajectory.mean())/trajectory.std()\n",
      "Grid Search Progress: 100%|███████████| 25/25 [10:38<00:00, 25.55s/trial, Current Best Loss=0.26295]\n",
      "{'radius': 0.1, 'sigma_input': 0.1}\n"
     ]
    }
   ],
   "source": [
    "!bash ./0_MovedPGClustered_ESN_Tune.sh \"tune\" 250 1 1 1 \"grid_search_for_md_2.json\" 2"
   ]
  },
  {
   "cell_type": "code",
   "execution_count": 74,
   "metadata": {},
   "outputs": [
    {
     "name": "stdout",
     "output_type": "stream",
     "text": [
      "{'radius': 0.1, 'sigma_input': 0.1}\n",
      "/home/user/anaconda3/lib/python3.11/site-packages/numpy/core/_methods.py:236: RuntimeWarning: invalid value encountered in subtract\n",
      "  x = asanyarray(arr - arrmean)\n",
      "AVERAGE RMNSE ERROR ON TRAIN DATA SET: 4.761054869555487 ± 1.541490987982816\n",
      "AVG NUMBER OF ACCURATE 0.5 PREDICTIONS ON TRAIN DATA SET: 0.3026264556269512 ± 0.01773169298055409\n",
      "AVG NUMBER OF ACCURATE 1 PREDICTIONS ON TRAIN DATA SET: 0.7033106454793947 ± 0.03564026180129418\n",
      "POWER SPECTRUM MEAN ERROR ON TRAIN DATA SET: inf ± nan\n",
      "TEMPORAL DISTANCE ON TRAIN DATA SET: 0.3881138069637339 ± 0.15860258803171545\n",
      "GEOMETRICAL DISTANCE ON TRAIN DATA SET: inf ± nan\n",
      "\n",
      "\n",
      "AVERAGE RMNSE ERROR ON TEST DATA SET: 4.720176738350389 ± 1.5090338003244788\n",
      "AVG NUMBER OF ACCURATE 0.5 PREDICTIONS ON TEST DATA SET: 0.2750688510084076 ± 0.013053092671635956\n",
      "AVG NUMBER OF ACCURATE 1 PREDICTIONS ON TEST DATA SET: 0.626047913512067 ± 0.04218537424876908\n",
      "POWER SPECTRUM MEAN ERROR ON TEST DATA SET: 24.79922209838694 ± 44.1501097375705\n",
      "TEMPORAL DISTANCE ON TEST DATA SET: 0.4083657448766303 ± 0.17859648114724014\n",
      "GEOMETRICAL DISTANCE ON TEST DATA SET: inf ± nan\n"
     ]
    }
   ],
   "source": [
    "!bash ./1_MovedPGClustered_ESN_Evaluate_Tuned_Model.sh \"evaluate_tuned_model\" 250 1 1 1 \"grid_search_for_md_2.json\" 2"
   ]
  },
  {
   "cell_type": "code",
   "execution_count": 25,
   "metadata": {},
   "outputs": [
    {
     "name": "stdout",
     "output_type": "stream",
     "text": [
      "Grid Search Progress:   8%|▉           | 2/25 [00:57<11:02, 28.79s/trial, Current Best Loss=0.31398]/home/user/kuei_jan_CHU/PGClustered_ESN/Methods/./Utils/global_utils.py:274: RuntimeWarning: divide by zero encountered in log10\n",
      "  s_dbfs = 20 * np.log10(s_mag)\n",
      "Grid Search Progress:  16%|█▉          | 4/25 [01:54<09:59, 28.53s/trial, Current Best Loss=0.31398]/home/user/kuei_jan_CHU/PGClustered_ESN/Methods/./Utils/global_utils.py:309: RuntimeWarning: invalid value encountered in divide\n",
      "  trajectory = (trajectory-trajectory.mean())/trajectory.std()\n",
      "Grid Search Progress: 100%|███████████| 25/25 [12:01<00:00, 28.85s/trial, Current Best Loss=0.28001]\n",
      "{'radius': 0.9, 'sigma_input': 0.1}\n"
     ]
    }
   ],
   "source": [
    "!bash ./0_MovedPGClustered_ESN_Tune.sh \"tune\" 500 1 1 2 \"grid_search_for_md_2.json\" 2"
   ]
  },
  {
   "cell_type": "code",
   "execution_count": 75,
   "metadata": {},
   "outputs": [
    {
     "name": "stdout",
     "output_type": "stream",
     "text": [
      "{'radius': 0.9, 'sigma_input': 0.1}\n",
      "/home/user/anaconda3/lib/python3.11/site-packages/numpy/core/_methods.py:236: RuntimeWarning: invalid value encountered in subtract\n",
      "  x = asanyarray(arr - arrmean)\n",
      "AVERAGE RMNSE ERROR ON TRAIN DATA SET: 6.613947957754755 ± 1.4842411815534515\n",
      "AVG NUMBER OF ACCURATE 0.5 PREDICTIONS ON TRAIN DATA SET: 0.36365894192936976 ± 0.01832543583645037\n",
      "AVG NUMBER OF ACCURATE 1 PREDICTIONS ON TRAIN DATA SET: 0.7082135321906693 ± 0.04479075550100608\n",
      "POWER SPECTRUM MEAN ERROR ON TRAIN DATA SET: inf ± nan\n",
      "TEMPORAL DISTANCE ON TRAIN DATA SET: 0.4611945695142722 ± 0.2028776355689851\n",
      "GEOMETRICAL DISTANCE ON TRAIN DATA SET: inf ± nan\n",
      "\n",
      "\n",
      "AVERAGE RMNSE ERROR ON TEST DATA SET: 6.584596669976288 ± 1.4569828425287359\n",
      "AVG NUMBER OF ACCURATE 0.5 PREDICTIONS ON TEST DATA SET: 0.3328891011896463 ± 0.0185116589531719\n",
      "AVG NUMBER OF ACCURATE 1 PREDICTIONS ON TEST DATA SET: 0.657663079546838 ± 0.03728641625058469\n",
      "POWER SPECTRUM MEAN ERROR ON TEST DATA SET: inf ± nan\n",
      "TEMPORAL DISTANCE ON TEST DATA SET: 0.4514336588629563 ± 0.18657622896312784\n",
      "GEOMETRICAL DISTANCE ON TEST DATA SET: inf ± nan\n"
     ]
    }
   ],
   "source": [
    "!bash ./1_MovedPGClustered_ESN_Evaluate_Tuned_Model.sh \"evaluate_tuned_model\" 500 1 1 2 \"grid_search_for_md_2.json\" 2"
   ]
  },
  {
   "cell_type": "code",
   "execution_count": 27,
   "metadata": {},
   "outputs": [
    {
     "name": "stdout",
     "output_type": "stream",
     "text": [
      "Grid Search Progress:  12%|█▍          | 3/25 [02:01<14:46, 40.31s/trial, Current Best Loss=0.27035]/home/user/kuei_jan_CHU/PGClustered_ESN/Methods/./Utils/global_utils.py:274: RuntimeWarning: divide by zero encountered in log10\n",
      "  s_dbfs = 20 * np.log10(s_mag)\n",
      "Grid Search Progress:  96%|██████████▌| 24/25 [15:56<00:40, 40.20s/trial, Current Best Loss=0.24403]/home/user/kuei_jan_CHU/PGClustered_ESN/Methods/./Utils/global_utils.py:309: RuntimeWarning: invalid value encountered in divide\n",
      "  trajectory = (trajectory-trajectory.mean())/trajectory.std()\n",
      "Grid Search Progress: 100%|███████████| 25/25 [16:35<00:00, 39.82s/trial, Current Best Loss=0.24403]\n",
      "{'radius': 0.9, 'sigma_input': 0.5}\n"
     ]
    }
   ],
   "source": [
    "!bash ./0_MovedPGClustered_ESN_Tune.sh \"tune\" 1000 1 1 3 \"grid_search_for_md_2.json\" 2"
   ]
  },
  {
   "cell_type": "code",
   "execution_count": 76,
   "metadata": {},
   "outputs": [
    {
     "name": "stdout",
     "output_type": "stream",
     "text": [
      "{'radius': 0.9, 'sigma_input': 0.5}\n",
      "AVERAGE RMNSE ERROR ON TRAIN DATA SET: 1.5754582935158337 ± 0.012770543237120978\n",
      "AVG NUMBER OF ACCURATE 0.5 PREDICTIONS ON TRAIN DATA SET: 0.2803098678377012 ± 0.01833089412863173\n",
      "AVG NUMBER OF ACCURATE 1 PREDICTIONS ON TRAIN DATA SET: 0.6414328338819288 ± 0.04296514978426018\n",
      "POWER SPECTRUM MEAN ERROR ON TRAIN DATA SET: 1.8383988723690934 ± 0.6566131526917758\n",
      "TEMPORAL DISTANCE ON TRAIN DATA SET: 0.27571752163892976 ± 0.018707254177859556\n",
      "GEOMETRICAL DISTANCE ON TRAIN DATA SET: 19.448661162200363 ± 0.5044917302532728\n",
      "\n",
      "\n",
      "AVERAGE RMNSE ERROR ON TEST DATA SET: 1.5724011452355564 ± 0.00972181527403151\n",
      "AVG NUMBER OF ACCURATE 0.5 PREDICTIONS ON TEST DATA SET: 0.25325945839618597 ± 0.01612423378154621\n",
      "AVG NUMBER OF ACCURATE 1 PREDICTIONS ON TEST DATA SET: 0.5672132729767715 ± 0.05069838016589345\n",
      "POWER SPECTRUM MEAN ERROR ON TEST DATA SET: 0.9538216522975954 ± 0.38245647149852424\n",
      "TEMPORAL DISTANCE ON TEST DATA SET: 0.2699500442805533 ± 0.018858445759810223\n",
      "GEOMETRICAL DISTANCE ON TEST DATA SET: 19.38081554991972 ± 0.3915430657072006\n"
     ]
    }
   ],
   "source": [
    "!bash ./1_MovedPGClustered_ESN_Evaluate_Tuned_Model.sh \"evaluate_tuned_model\" 1000 1 1 3 \"grid_search_for_md_2.json\" 2"
   ]
  },
  {
   "cell_type": "code",
   "execution_count": 29,
   "metadata": {},
   "outputs": [
    {
     "name": "stdout",
     "output_type": "stream",
     "text": [
      "Grid Search Progress:  16%|█▉          | 4/25 [04:03<20:42, 59.18s/trial, Current Best Loss=0.26676]/home/user/kuei_jan_CHU/PGClustered_ESN/Methods/./Utils/global_utils.py:274: RuntimeWarning: divide by zero encountered in log10\n",
      "  s_dbfs = 20 * np.log10(s_mag)\n",
      "Grid Search Progress: 100%|███████████| 25/25 [25:18<00:00, 60.72s/trial, Current Best Loss=0.23493]\n",
      "{'radius': 0.99, 'sigma_input': 0.5}\n"
     ]
    }
   ],
   "source": [
    "!bash ./0_MovedPGClustered_ESN_Tune.sh \"tune\" 1500 1 1 4 \"grid_search_for_md_2.json\" 2"
   ]
  },
  {
   "cell_type": "code",
   "execution_count": 77,
   "metadata": {},
   "outputs": [
    {
     "name": "stdout",
     "output_type": "stream",
     "text": [
      "{'radius': 0.99, 'sigma_input': 0.5}\n",
      "/home/user/anaconda3/lib/python3.11/site-packages/numpy/core/_methods.py:236: RuntimeWarning: invalid value encountered in subtract\n",
      "  x = asanyarray(arr - arrmean)\n",
      "AVERAGE RMNSE ERROR ON TRAIN DATA SET: 1.6083371038459984 ± 0.026655309541137234\n",
      "AVG NUMBER OF ACCURATE 0.5 PREDICTIONS ON TRAIN DATA SET: 0.39933166938036785 ± 0.022014841568361514\n",
      "AVG NUMBER OF ACCURATE 1 PREDICTIONS ON TRAIN DATA SET: 0.8071165917112093 ± 0.058194737581429186\n",
      "POWER SPECTRUM MEAN ERROR ON TRAIN DATA SET: 2.0632927634712344 ± 0.3810256618396797\n",
      "TEMPORAL DISTANCE ON TRAIN DATA SET: 0.2602137469621091 ± 0.022645771542596158\n",
      "GEOMETRICAL DISTANCE ON TRAIN DATA SET: 19.776944463441858 ± 0.9475583360359765\n",
      "\n",
      "\n",
      "AVERAGE RMNSE ERROR ON TEST DATA SET: 1.612136996821117 ± 0.025892307766692598\n",
      "AVG NUMBER OF ACCURATE 0.5 PREDICTIONS ON TEST DATA SET: 0.3175041808197845 ± 0.01727113566735867\n",
      "AVG NUMBER OF ACCURATE 1 PREDICTIONS ON TEST DATA SET: 0.7190336959672755 ± 0.06010280681627182\n",
      "POWER SPECTRUM MEAN ERROR ON TEST DATA SET: 2.1682840744995753 ± 2.735053946577094\n",
      "TEMPORAL DISTANCE ON TEST DATA SET: 0.25678075084171975 ± 0.028352075930770382\n",
      "GEOMETRICAL DISTANCE ON TEST DATA SET: inf ± nan\n"
     ]
    }
   ],
   "source": [
    "!bash ./1_MovedPGClustered_ESN_Evaluate_Tuned_Model.sh \"evaluate_tuned_model\" 1500 1 1 4 \"grid_search_for_md_2.json\" 2"
   ]
  },
  {
   "cell_type": "code",
   "execution_count": 31,
   "metadata": {},
   "outputs": [
    {
     "name": "stdout",
     "output_type": "stream",
     "text": [
      "Grid Search Progress:  12%|█▍          | 3/25 [04:30<32:26, 88.49s/trial, Current Best Loss=0.24838]/home/user/kuei_jan_CHU/PGClustered_ESN/Methods/./Utils/global_utils.py:274: RuntimeWarning: divide by zero encountered in log10\n",
      "  s_dbfs = 20 * np.log10(s_mag)\n",
      "Grid Search Progress: 100%|███████████| 25/25 [35:43<00:00, 85.75s/trial, Current Best Loss=0.23560]\n",
      "{'radius': 0.99, 'sigma_input': 1.0}\n"
     ]
    }
   ],
   "source": [
    "!bash ./0_MovedPGClustered_ESN_Tune.sh \"tune\" 2000 1 1 5 \"grid_search_for_md_2.json\" 2"
   ]
  },
  {
   "cell_type": "code",
   "execution_count": 78,
   "metadata": {},
   "outputs": [
    {
     "name": "stdout",
     "output_type": "stream",
     "text": [
      "{'radius': 0.99, 'sigma_input': 1.0}\n",
      "/home/user/anaconda3/lib/python3.11/site-packages/numpy/core/_methods.py:236: RuntimeWarning: invalid value encountered in subtract\n",
      "  x = asanyarray(arr - arrmean)\n",
      "AVERAGE RMNSE ERROR ON TRAIN DATA SET: 1.5455707877812679 ± 0.008691836292904693\n",
      "AVG NUMBER OF ACCURATE 0.5 PREDICTIONS ON TRAIN DATA SET: 0.22367307306952872 ± 0.00697278087254765\n",
      "AVG NUMBER OF ACCURATE 1 PREDICTIONS ON TRAIN DATA SET: 0.5073642420874191 ± 0.022178474853042997\n",
      "POWER SPECTRUM MEAN ERROR ON TRAIN DATA SET: 3.4482645084068393 ± 2.993182573953443\n",
      "TEMPORAL DISTANCE ON TRAIN DATA SET: 0.28260892507377744 ± 0.01591380545923538\n",
      "GEOMETRICAL DISTANCE ON TRAIN DATA SET: inf ± nan\n",
      "\n",
      "\n",
      "AVERAGE RMNSE ERROR ON TEST DATA SET: 1.5433149644330937 ± 0.006898317867366992\n",
      "AVG NUMBER OF ACCURATE 0.5 PREDICTIONS ON TEST DATA SET: 0.1736298156027256 ± 0.010117099492985736\n",
      "AVG NUMBER OF ACCURATE 1 PREDICTIONS ON TEST DATA SET: 0.45478500873547406 ± 0.01705798583452258\n",
      "POWER SPECTRUM MEAN ERROR ON TEST DATA SET: 1.6893599283198593 ± 0.4266709702095916\n",
      "TEMPORAL DISTANCE ON TEST DATA SET: 0.2776278548602593 ± 0.009270382168922642\n",
      "GEOMETRICAL DISTANCE ON TEST DATA SET: 18.876707917929263 ± 0.32308172447655514\n"
     ]
    }
   ],
   "source": [
    "!bash ./1_MovedPGClustered_ESN_Evaluate_Tuned_Model.sh \"evaluate_tuned_model\" 2000 1 1 5 \"grid_search_for_md_2.json\" 2"
   ]
  },
  {
   "cell_type": "code",
   "execution_count": 33,
   "metadata": {},
   "outputs": [
    {
     "name": "stdout",
     "output_type": "stream",
     "text": [
      "Grid Search Progress:  36%|███▉       | 9/25 [23:01<38:26, 144.18s/trial, Current Best Loss=0.23145]/home/user/kuei_jan_CHU/PGClustered_ESN/Methods/./Utils/global_utils.py:274: RuntimeWarning: divide by zero encountered in log10\n",
      "  s_dbfs = 20 * np.log10(s_mag)\n",
      "Grid Search Progress: 100%|████████| 25/25 [1:01:07<00:00, 146.72s/trial, Current Best Loss=0.22436]\n",
      "{'radius': 0.99, 'sigma_input': 1.0}\n"
     ]
    }
   ],
   "source": [
    "!bash ./0_MovedPGClustered_ESN_Tune.sh \"tune\" 2500 1 1 6 \"grid_search_for_md_2.json\" 2"
   ]
  },
  {
   "cell_type": "code",
   "execution_count": 79,
   "metadata": {},
   "outputs": [
    {
     "name": "stdout",
     "output_type": "stream",
     "text": [
      "{'radius': 0.99, 'sigma_input': 1.0}\n",
      "AVERAGE RMNSE ERROR ON TRAIN DATA SET: 1.5394309724043977 ± 0.00433859301290551\n",
      "AVG NUMBER OF ACCURATE 0.5 PREDICTIONS ON TRAIN DATA SET: 0.26695372817595303 ± 0.0038142815885220936\n",
      "AVG NUMBER OF ACCURATE 1 PREDICTIONS ON TRAIN DATA SET: 0.578878762048425 ± 0.01835271106382064\n",
      "POWER SPECTRUM MEAN ERROR ON TRAIN DATA SET: 2.2675528493392965 ± 0.3316647306656656\n",
      "TEMPORAL DISTANCE ON TRAIN DATA SET: 0.26251827191680793 ± 0.008354913853111556\n",
      "GEOMETRICAL DISTANCE ON TRAIN DATA SET: 18.467704272355604 ± 0.20882950917459986\n",
      "\n",
      "\n",
      "AVERAGE RMNSE ERROR ON TEST DATA SET: 1.5445189148141885 ± 0.004083512069419737\n",
      "AVG NUMBER OF ACCURATE 0.5 PREDICTIONS ON TEST DATA SET: 0.2020327455163166 ± 0.019220697171253746\n",
      "AVG NUMBER OF ACCURATE 1 PREDICTIONS ON TEST DATA SET: 0.5139577793887886 ± 0.05714298955147956\n",
      "POWER SPECTRUM MEAN ERROR ON TEST DATA SET: 1.5217749382032648 ± 0.1585845977290171\n",
      "TEMPORAL DISTANCE ON TEST DATA SET: 0.26023254604689916 ± 0.013416656907698452\n",
      "GEOMETRICAL DISTANCE ON TEST DATA SET: 18.65795859623888 ± 0.2811289793878399\n"
     ]
    }
   ],
   "source": [
    "!bash ./1_MovedPGClustered_ESN_Evaluate_Tuned_Model.sh \"evaluate_tuned_model\" 2500 1 1 6 \"grid_search_for_md_2.json\" 2"
   ]
  },
  {
   "cell_type": "code",
   "execution_count": 35,
   "metadata": {},
   "outputs": [
    {
     "name": "stdout",
     "output_type": "stream",
     "text": [
      "Grid Search Progress: 100%|████████| 25/25 [1:22:25<00:00, 197.83s/trial, Current Best Loss=0.21933]\n",
      "{'radius': 0.99, 'sigma_input': 1.0}\n"
     ]
    }
   ],
   "source": [
    "!bash ./0_MovedPGClustered_ESN_Tune.sh \"tune\" 3000 1 1 7 \"grid_search_for_md_2.json\" 2"
   ]
  },
  {
   "cell_type": "code",
   "execution_count": 80,
   "metadata": {},
   "outputs": [
    {
     "name": "stdout",
     "output_type": "stream",
     "text": [
      "{'radius': 0.99, 'sigma_input': 1.0}\n",
      "AVERAGE RMNSE ERROR ON TRAIN DATA SET: 1.547608891294619 ± 0.008451663698468479\n",
      "AVG NUMBER OF ACCURATE 0.5 PREDICTIONS ON TRAIN DATA SET: 0.32054735188195493 ± 0.021226924417353285\n",
      "AVG NUMBER OF ACCURATE 1 PREDICTIONS ON TRAIN DATA SET: 0.6395731182328247 ± 0.028179144083090257\n",
      "POWER SPECTRUM MEAN ERROR ON TRAIN DATA SET: 2.055907891701005 ± 0.2537660653094641\n",
      "TEMPORAL DISTANCE ON TRAIN DATA SET: 0.25600330024480467 ± 0.012988281905579798\n",
      "GEOMETRICAL DISTANCE ON TRAIN DATA SET: 18.70246057704278 ± 0.45801433521212614\n",
      "\n",
      "\n",
      "AVERAGE RMNSE ERROR ON TEST DATA SET: 1.5499123639163548 ± 0.010900777940343045\n",
      "AVG NUMBER OF ACCURATE 0.5 PREDICTIONS ON TEST DATA SET: 0.22232055259745298 ± 0.01711235738734834\n",
      "AVG NUMBER OF ACCURATE 1 PREDICTIONS ON TEST DATA SET: 0.5499686369578057 ± 0.030861204594133888\n",
      "POWER SPECTRUM MEAN ERROR ON TEST DATA SET: 1.729054275645892 ± 0.4724611775010652\n",
      "TEMPORAL DISTANCE ON TEST DATA SET: 0.25290837514607833 ± 0.013707758984531214\n",
      "GEOMETRICAL DISTANCE ON TEST DATA SET: 18.826738344970263 ± 0.5437441520667\n"
     ]
    }
   ],
   "source": [
    "!bash ./1_MovedPGClustered_ESN_Evaluate_Tuned_Model.sh \"evaluate_tuned_model\" 3000 1 1 7 \"grid_search_for_md_2.json\" 2"
   ]
  },
  {
   "cell_type": "code",
   "execution_count": 37,
   "metadata": {},
   "outputs": [
    {
     "name": "stdout",
     "output_type": "stream",
     "text": [
      "Grid Search Progress: 100%|████████| 25/25 [2:22:23<00:00, 341.74s/trial, Current Best Loss=0.21968]\n",
      "{'radius': 0.99, 'sigma_input': 1.0}\n"
     ]
    }
   ],
   "source": [
    "!bash ./0_MovedPGClustered_ESN_Tune.sh \"tune\" 3500 1 1 8 \"grid_search_for_md_2.json\" 2"
   ]
  },
  {
   "cell_type": "code",
   "execution_count": 81,
   "metadata": {},
   "outputs": [
    {
     "name": "stdout",
     "output_type": "stream",
     "text": [
      "{'radius': 0.99, 'sigma_input': 1.0}\n",
      "AVERAGE RMNSE ERROR ON TRAIN DATA SET: 1.5575495864569096 ± 0.010969888613356526\n",
      "AVG NUMBER OF ACCURATE 0.5 PREDICTIONS ON TRAIN DATA SET: 0.36754743828658765 ± 0.01607807822299377\n",
      "AVG NUMBER OF ACCURATE 1 PREDICTIONS ON TRAIN DATA SET: 0.7356020717502036 ± 0.03733582787431944\n",
      "POWER SPECTRUM MEAN ERROR ON TRAIN DATA SET: 2.098143248098372 ± 0.5386011218570588\n",
      "TEMPORAL DISTANCE ON TRAIN DATA SET: 0.2508817169447698 ± 0.015274967056998877\n",
      "GEOMETRICAL DISTANCE ON TRAIN DATA SET: 19.034030762751673 ± 0.6181348185098812\n",
      "\n",
      "\n",
      "AVERAGE RMNSE ERROR ON TEST DATA SET: 1.5638240772380463 ± 0.014818671249729212\n",
      "AVG NUMBER OF ACCURATE 0.5 PREDICTIONS ON TEST DATA SET: 0.24379181509165565 ± 0.012759652614283008\n",
      "AVG NUMBER OF ACCURATE 1 PREDICTIONS ON TEST DATA SET: 0.5853032342907849 ± 0.028897763891014342\n",
      "POWER SPECTRUM MEAN ERROR ON TEST DATA SET: 1.6592772161688156 ± 0.43555225370595807\n",
      "TEMPORAL DISTANCE ON TEST DATA SET: 0.2518735174524977 ± 0.017669891149632997\n",
      "GEOMETRICAL DISTANCE ON TEST DATA SET: 19.232640270729355 ± 0.7496303251250087\n"
     ]
    }
   ],
   "source": [
    "!bash ./1_MovedPGClustered_ESN_Evaluate_Tuned_Model.sh \"evaluate_tuned_model\" 3500 1 1 8 \"grid_search_for_md_2.json\" 2"
   ]
  },
  {
   "cell_type": "code",
   "execution_count": 39,
   "metadata": {},
   "outputs": [
    {
     "name": "stdout",
     "output_type": "stream",
     "text": [
      "Grid Search Progress: 100%|████████| 25/25 [3:04:28<00:00, 442.75s/trial, Current Best Loss=0.21184]\n",
      "{'radius': 0.9, 'sigma_input': 1.0}\n"
     ]
    }
   ],
   "source": [
    "!bash ./0_MovedPGClustered_ESN_Tune.sh \"tune\" 4000 1 1 9 \"grid_search_for_md_2.json\" 2"
   ]
  },
  {
   "cell_type": "code",
   "execution_count": 82,
   "metadata": {},
   "outputs": [
    {
     "name": "stdout",
     "output_type": "stream",
     "text": [
      "{'radius': 0.9, 'sigma_input': 1.0}\n",
      "AVERAGE RMNSE ERROR ON TRAIN DATA SET: 1.566606168939759 ± 0.012671310219353962\n",
      "AVG NUMBER OF ACCURATE 0.5 PREDICTIONS ON TRAIN DATA SET: 0.40846118256687935 ± 0.02677640427611276\n",
      "AVG NUMBER OF ACCURATE 1 PREDICTIONS ON TRAIN DATA SET: 0.7626524811917188 ± 0.03597909425377197\n",
      "POWER SPECTRUM MEAN ERROR ON TRAIN DATA SET: 2.177126280606639 ± 0.41518673784784527\n",
      "TEMPORAL DISTANCE ON TRAIN DATA SET: 0.2515575000513914 ± 0.014275841233903143\n",
      "GEOMETRICAL DISTANCE ON TRAIN DATA SET: 19.205921095751155 ± 0.5273307728007038\n",
      "\n",
      "\n",
      "AVERAGE RMNSE ERROR ON TEST DATA SET: 1.5702678827273862 ± 0.01062987681519905\n",
      "AVG NUMBER OF ACCURATE 0.5 PREDICTIONS ON TEST DATA SET: 0.2625580366417068 ± 0.011883962901022666\n",
      "AVG NUMBER OF ACCURATE 1 PREDICTIONS ON TEST DATA SET: 0.6224975472728682 ± 0.053419208218976666\n",
      "POWER SPECTRUM MEAN ERROR ON TEST DATA SET: 1.6790359947967144 ± 0.2523331616160042\n",
      "TEMPORAL DISTANCE ON TEST DATA SET: 0.24887810842360092 ± 0.013778120201021414\n",
      "GEOMETRICAL DISTANCE ON TEST DATA SET: 19.399395959038923 ± 0.6997372162161418\n"
     ]
    }
   ],
   "source": [
    "!bash ./1_MovedPGClustered_ESN_Evaluate_Tuned_Model.sh \"evaluate_tuned_model\" 4000 1 1 9 \"grid_search_for_md_2.json\" 2"
   ]
  },
  {
   "cell_type": "markdown",
   "metadata": {},
   "source": [
    "### move dim 3"
   ]
  },
  {
   "cell_type": "code",
   "execution_count": 41,
   "metadata": {},
   "outputs": [
    {
     "name": "stdout",
     "output_type": "stream",
     "text": [
      "Grid Search Progress:   4%|▍           | 1/25 [00:43<17:17, 43.22s/trial, Current Best Loss=0.49778]/home/user/kuei_jan_CHU/PGClustered_ESN/Methods/./Utils/global_utils.py:274: RuntimeWarning: divide by zero encountered in log10\n",
      "  s_dbfs = 20 * np.log10(s_mag)\n",
      "/home/user/kuei_jan_CHU/PGClustered_ESN/Methods/./Utils/global_utils.py:309: RuntimeWarning: invalid value encountered in divide\n",
      "  trajectory = (trajectory-trajectory.mean())/trajectory.std()\n",
      "/home/user/kuei_jan_CHU/PGClustered_ESN/Methods/./Utils/global_utils.py:321: RuntimeWarning: Mean of empty slice\n",
      "  spectrum = np.nanmean(np.array(spectrum),axis=0)\n",
      "Grid Search Progress: 100%|███████████| 25/25 [18:40<00:00, 44.82s/trial, Current Best Loss=0.38984]\n",
      "{'radius': 0.9, 'sigma_input': 0.1}\n"
     ]
    }
   ],
   "source": [
    "!bash ./0_MovedPGClustered_ESN_Tune.sh \"tune\" 40 1 1 0 \"grid_search_for_md_3.json\" 3"
   ]
  },
  {
   "cell_type": "code",
   "execution_count": 83,
   "metadata": {},
   "outputs": [
    {
     "name": "stdout",
     "output_type": "stream",
     "text": [
      "{'radius': 0.9, 'sigma_input': 0.1}\n",
      "/home/user/anaconda3/lib/python3.11/site-packages/numpy/core/_methods.py:236: RuntimeWarning: invalid value encountered in subtract\n",
      "  x = asanyarray(arr - arrmean)\n",
      "AVERAGE RMNSE ERROR ON TRAIN DATA SET: 1.9952519436280443 ± 0.3754708432013626\n",
      "AVG NUMBER OF ACCURATE 0.5 PREDICTIONS ON TRAIN DATA SET: 0.001859715649104169 ± 0.0031583959485913986\n",
      "AVG NUMBER OF ACCURATE 1 PREDICTIONS ON TRAIN DATA SET: 0.3188567012918603 ± 0.05439167426533983\n",
      "POWER SPECTRUM MEAN ERROR ON TRAIN DATA SET: inf ± nan\n",
      "TEMPORAL DISTANCE ON TRAIN DATA SET: 0.42322130008366854 ± 0.06880396721289671\n",
      "GEOMETRICAL DISTANCE ON TRAIN DATA SET: inf ± nan\n",
      "\n",
      "\n",
      "AVERAGE RMNSE ERROR ON TEST DATA SET: 1.913807743419382 ± 0.3109982616241854\n",
      "AVG NUMBER OF ACCURATE 0.5 PREDICTIONS ON TEST DATA SET: 0.0 ± 0.0\n",
      "AVG NUMBER OF ACCURATE 1 PREDICTIONS ON TEST DATA SET: 0.2833530388998716 ± 0.044126952029044486\n",
      "POWER SPECTRUM MEAN ERROR ON TEST DATA SET: inf ± nan\n",
      "TEMPORAL DISTANCE ON TEST DATA SET: 0.41864413838153086 ± 0.054876482847863284\n",
      "GEOMETRICAL DISTANCE ON TEST DATA SET: inf ± nan\n"
     ]
    }
   ],
   "source": [
    "!bash ./1_MovedPGClustered_ESN_Evaluate_Tuned_Model.sh \"evaluate_tuned_model\" 40 1 1 0 \"grid_search_for_md_3.json\" 3"
   ]
  },
  {
   "cell_type": "code",
   "execution_count": 43,
   "metadata": {},
   "outputs": [
    {
     "name": "stdout",
     "output_type": "stream",
     "text": [
      "Grid Search Progress:   4%|▍           | 1/25 [00:27<11:09, 27.90s/trial, Current Best Loss=0.36251]/home/user/kuei_jan_CHU/PGClustered_ESN/Methods/./Utils/global_utils.py:274: RuntimeWarning: divide by zero encountered in log10\n",
      "  s_dbfs = 20 * np.log10(s_mag)\n",
      "Grid Search Progress:  12%|█▍          | 3/25 [01:18<09:30, 25.94s/trial, Current Best Loss=0.36251]/home/user/kuei_jan_CHU/PGClustered_ESN/Methods/./Utils/global_utils.py:309: RuntimeWarning: invalid value encountered in divide\n",
      "  trajectory = (trajectory-trajectory.mean())/trajectory.std()\n",
      "Grid Search Progress: 100%|███████████| 25/25 [10:39<00:00, 25.59s/trial, Current Best Loss=0.34658]\n",
      "{'radius': 0.99, 'sigma_input': 0.1}\n"
     ]
    }
   ],
   "source": [
    "!bash ./0_MovedPGClustered_ESN_Tune.sh \"tune\" 250 1 1 1 \"grid_search_for_md_3.json\" 3"
   ]
  },
  {
   "cell_type": "code",
   "execution_count": 84,
   "metadata": {},
   "outputs": [
    {
     "name": "stdout",
     "output_type": "stream",
     "text": [
      "{'radius': 0.99, 'sigma_input': 0.1}\n",
      "/home/user/anaconda3/lib/python3.11/site-packages/numpy/core/_methods.py:236: RuntimeWarning: invalid value encountered in subtract\n",
      "  x = asanyarray(arr - arrmean)\n",
      "AVERAGE RMNSE ERROR ON TRAIN DATA SET: 5.636759043109167 ± 0.9994419745789476\n",
      "AVG NUMBER OF ACCURATE 0.5 PREDICTIONS ON TRAIN DATA SET: 0.21014786834877114 ± 0.010984025601973653\n",
      "AVG NUMBER OF ACCURATE 1 PREDICTIONS ON TRAIN DATA SET: 0.44244325942778284 ± 0.03530222555519059\n",
      "POWER SPECTRUM MEAN ERROR ON TRAIN DATA SET: inf ± nan\n",
      "TEMPORAL DISTANCE ON TRAIN DATA SET: 0.46373978142393063 ± 0.18564185308178066\n",
      "GEOMETRICAL DISTANCE ON TRAIN DATA SET: inf ± nan\n",
      "\n",
      "\n",
      "AVERAGE RMNSE ERROR ON TEST DATA SET: 5.566249134002505 ± 0.9438159980501691\n",
      "AVG NUMBER OF ACCURATE 0.5 PREDICTIONS ON TEST DATA SET: 0.19374855762485255 ± 0.008426159121322298\n",
      "AVG NUMBER OF ACCURATE 1 PREDICTIONS ON TEST DATA SET: 0.39814821396730166 ± 0.02582050230338181\n",
      "POWER SPECTRUM MEAN ERROR ON TEST DATA SET: inf ± nan\n",
      "TEMPORAL DISTANCE ON TEST DATA SET: 0.4215641307239557 ± 0.1714343974309304\n",
      "GEOMETRICAL DISTANCE ON TEST DATA SET: inf ± nan\n"
     ]
    }
   ],
   "source": [
    "!bash ./1_MovedPGClustered_ESN_Evaluate_Tuned_Model.sh \"evaluate_tuned_model\" 250 1 1 1 \"grid_search_for_md_3.json\" 3"
   ]
  },
  {
   "cell_type": "code",
   "execution_count": 45,
   "metadata": {},
   "outputs": [
    {
     "name": "stdout",
     "output_type": "stream",
     "text": [
      "Grid Search Progress:   4%|▍           | 1/25 [00:32<12:57, 32.39s/trial, Current Best Loss=0.41142]/home/user/kuei_jan_CHU/PGClustered_ESN/Methods/./Utils/global_utils.py:274: RuntimeWarning: divide by zero encountered in log10\n",
      "  s_dbfs = 20 * np.log10(s_mag)\n",
      "Grid Search Progress:  36%|████▎       | 9/25 [04:32<08:00, 30.02s/trial, Current Best Loss=0.32642]/home/user/kuei_jan_CHU/PGClustered_ESN/Methods/./Utils/global_utils.py:309: RuntimeWarning: invalid value encountered in divide\n",
      "  trajectory = (trajectory-trajectory.mean())/trajectory.std()\n",
      "Grid Search Progress: 100%|███████████| 25/25 [12:17<00:00, 29.52s/trial, Current Best Loss=0.27954]\n",
      "{'radius': 0.99, 'sigma_input': 0.1}\n"
     ]
    }
   ],
   "source": [
    "!bash ./0_MovedPGClustered_ESN_Tune.sh \"tune\" 500 1 1 2 \"grid_search_for_md_3.json\" 3"
   ]
  },
  {
   "cell_type": "code",
   "execution_count": 85,
   "metadata": {},
   "outputs": [
    {
     "name": "stdout",
     "output_type": "stream",
     "text": [
      "{'radius': 0.99, 'sigma_input': 0.1}\n",
      "/home/user/anaconda3/lib/python3.11/site-packages/numpy/core/_methods.py:236: RuntimeWarning: invalid value encountered in subtract\n",
      "  x = asanyarray(arr - arrmean)\n",
      "AVERAGE RMNSE ERROR ON TRAIN DATA SET: 6.037306705509453 ± 0.9446153557266326\n",
      "AVG NUMBER OF ACCURATE 0.5 PREDICTIONS ON TRAIN DATA SET: 0.2870724701980799 ± 0.01453959507481442\n",
      "AVG NUMBER OF ACCURATE 1 PREDICTIONS ON TRAIN DATA SET: 0.598659373952533 ± 0.03713624760376737\n",
      "POWER SPECTRUM MEAN ERROR ON TRAIN DATA SET: inf ± nan\n",
      "TEMPORAL DISTANCE ON TRAIN DATA SET: 0.32124926665293857 ± 0.04511790957986426\n",
      "GEOMETRICAL DISTANCE ON TRAIN DATA SET: inf ± nan\n",
      "\n",
      "\n",
      "AVERAGE RMNSE ERROR ON TEST DATA SET: 6.051591868842392 ± 0.9434205817669231\n",
      "AVG NUMBER OF ACCURATE 0.5 PREDICTIONS ON TEST DATA SET: 0.2637414920547731 ± 0.016426304059012943\n",
      "AVG NUMBER OF ACCURATE 1 PREDICTIONS ON TEST DATA SET: 0.5056735914973245 ± 0.03916657649747295\n",
      "POWER SPECTRUM MEAN ERROR ON TEST DATA SET: inf ± nan\n",
      "TEMPORAL DISTANCE ON TEST DATA SET: 0.313548266915028 ± 0.04150971083628633\n",
      "GEOMETRICAL DISTANCE ON TEST DATA SET: inf ± nan\n"
     ]
    }
   ],
   "source": [
    "!bash ./1_MovedPGClustered_ESN_Evaluate_Tuned_Model.sh \"evaluate_tuned_model\" 500 1 1 2 \"grid_search_for_md_3.json\" 3"
   ]
  },
  {
   "cell_type": "code",
   "execution_count": 47,
   "metadata": {},
   "outputs": [
    {
     "name": "stdout",
     "output_type": "stream",
     "text": [
      "Grid Search Progress:  12%|█▍          | 3/25 [01:57<14:16, 38.94s/trial, Current Best Loss=0.33021]/home/user/kuei_jan_CHU/PGClustered_ESN/Methods/./Utils/global_utils.py:274: RuntimeWarning: divide by zero encountered in log10\n",
      "  s_dbfs = 20 * np.log10(s_mag)\n",
      "Grid Search Progress: 100%|███████████| 25/25 [16:13<00:00, 38.94s/trial, Current Best Loss=0.28299]\n",
      "{'radius': 0.9, 'sigma_input': 0.1}\n"
     ]
    }
   ],
   "source": [
    "!bash ./0_MovedPGClustered_ESN_Tune.sh \"tune\" 1000 1 1 3 \"grid_search_for_md_3.json\" 3"
   ]
  },
  {
   "cell_type": "code",
   "execution_count": 86,
   "metadata": {},
   "outputs": [
    {
     "name": "stdout",
     "output_type": "stream",
     "text": [
      "{'radius': 0.9, 'sigma_input': 0.1}\n",
      "/home/user/anaconda3/lib/python3.11/site-packages/numpy/core/_methods.py:236: RuntimeWarning: invalid value encountered in subtract\n",
      "  x = asanyarray(arr - arrmean)\n",
      "AVERAGE RMNSE ERROR ON TRAIN DATA SET: 5.943694631322907 ± 0.931157218667619\n",
      "AVG NUMBER OF ACCURATE 0.5 PREDICTIONS ON TRAIN DATA SET: 0.45546126897151196 ± 0.028872035643569768\n",
      "AVG NUMBER OF ACCURATE 1 PREDICTIONS ON TRAIN DATA SET: 0.7974798833476696 ± 0.05644368090459894\n",
      "POWER SPECTRUM MEAN ERROR ON TRAIN DATA SET: 18.026331008606824 ± 4.2814345368993525\n",
      "TEMPORAL DISTANCE ON TRAIN DATA SET: 0.32490975865305527 ± 0.04895751641975709\n",
      "GEOMETRICAL DISTANCE ON TRAIN DATA SET: inf ± nan\n",
      "\n",
      "\n",
      "AVERAGE RMNSE ERROR ON TEST DATA SET: 5.920418702179437 ± 0.83666351786789\n",
      "AVG NUMBER OF ACCURATE 0.5 PREDICTIONS ON TEST DATA SET: 0.38073451288932625 ± 0.025334950508307138\n",
      "AVG NUMBER OF ACCURATE 1 PREDICTIONS ON TEST DATA SET: 0.7235984525605312 ± 0.05720298220795133\n",
      "POWER SPECTRUM MEAN ERROR ON TEST DATA SET: 17.60614023149774 ± 3.638862899830503\n",
      "TEMPORAL DISTANCE ON TEST DATA SET: 0.31994641668232465 ± 0.033028177847559445\n",
      "GEOMETRICAL DISTANCE ON TEST DATA SET: inf ± nan\n"
     ]
    }
   ],
   "source": [
    "!bash ./1_MovedPGClustered_ESN_Evaluate_Tuned_Model.sh \"evaluate_tuned_model\" 1000 1 1 3 \"grid_search_for_md_3.json\" 3"
   ]
  },
  {
   "cell_type": "code",
   "execution_count": 49,
   "metadata": {},
   "outputs": [
    {
     "name": "stdout",
     "output_type": "stream",
     "text": [
      "Grid Search Progress:  12%|█▍          | 3/25 [03:05<22:07, 60.36s/trial, Current Best Loss=0.30736]/home/user/kuei_jan_CHU/PGClustered_ESN/Methods/./Utils/global_utils.py:274: RuntimeWarning: divide by zero encountered in log10\n",
      "  s_dbfs = 20 * np.log10(s_mag)\n",
      "Grid Search Progress: 100%|███████████| 25/25 [24:32<00:00, 58.90s/trial, Current Best Loss=0.27744]\n",
      "{'radius': 0.9, 'sigma_input': 1.0}\n"
     ]
    }
   ],
   "source": [
    "!bash ./0_MovedPGClustered_ESN_Tune.sh \"tune\" 1500 1 1 4 \"grid_search_for_md_3.json\" 3"
   ]
  },
  {
   "cell_type": "code",
   "execution_count": 87,
   "metadata": {},
   "outputs": [
    {
     "name": "stdout",
     "output_type": "stream",
     "text": [
      "{'radius': 0.9, 'sigma_input': 1.0}\n",
      "/home/user/anaconda3/lib/python3.11/site-packages/numpy/core/_methods.py:236: RuntimeWarning: invalid value encountered in subtract\n",
      "  x = asanyarray(arr - arrmean)\n",
      "AVERAGE RMNSE ERROR ON TRAIN DATA SET: 1.5585128409874627 ± 0.00888383599302272\n",
      "AVG NUMBER OF ACCURATE 0.5 PREDICTIONS ON TRAIN DATA SET: 0.17362981560272558 ± 0.0063731024412574154\n",
      "AVG NUMBER OF ACCURATE 1 PREDICTIONS ON TRAIN DATA SET: 0.43010151012009146 ± 0.01898051787011998\n",
      "POWER SPECTRUM MEAN ERROR ON TRAIN DATA SET: inf ± nan\n",
      "TEMPORAL DISTANCE ON TRAIN DATA SET: 0.32370928435797475 ± 0.02196224359973607\n",
      "GEOMETRICAL DISTANCE ON TRAIN DATA SET: inf ± nan\n",
      "\n",
      "\n",
      "AVERAGE RMNSE ERROR ON TEST DATA SET: 1.5572395189537673 ± 0.009440927678773501\n",
      "AVG NUMBER OF ACCURATE 0.5 PREDICTIONS ON TEST DATA SET: 0.13964773874182218 ± 0.005083210278632935\n",
      "AVG NUMBER OF ACCURATE 1 PREDICTIONS ON TEST DATA SET: 0.3819179683023925 ± 0.030651173478883166\n",
      "POWER SPECTRUM MEAN ERROR ON TEST DATA SET: 3.5330589779202426 ± 2.7907178884761152\n",
      "TEMPORAL DISTANCE ON TEST DATA SET: 0.3254834493198648 ± 0.014666319011967027\n",
      "GEOMETRICAL DISTANCE ON TEST DATA SET: inf ± nan\n"
     ]
    }
   ],
   "source": [
    "!bash ./1_MovedPGClustered_ESN_Evaluate_Tuned_Model.sh \"evaluate_tuned_model\" 1500 1 1 4 \"grid_search_for_md_3.json\" 3"
   ]
  },
  {
   "cell_type": "code",
   "execution_count": 51,
   "metadata": {},
   "outputs": [
    {
     "name": "stdout",
     "output_type": "stream",
     "text": [
      "Grid Search Progress:   4%|▍          | 1/25 [01:40<40:15, 100.66s/trial, Current Best Loss=0.74353]/home/user/kuei_jan_CHU/PGClustered_ESN/Methods/./Utils/global_utils.py:274: RuntimeWarning: divide by zero encountered in log10\n",
      "  s_dbfs = 20 * np.log10(s_mag)\n",
      "Grid Search Progress: 100%|███████████| 25/25 [35:10<00:00, 84.41s/trial, Current Best Loss=0.26267]\n",
      "{'radius': 0.99, 'sigma_input': 1.0}\n"
     ]
    }
   ],
   "source": [
    "!bash ./0_MovedPGClustered_ESN_Tune.sh \"tune\" 2000 1 1 5 \"grid_search_for_md_3.json\" 3"
   ]
  },
  {
   "cell_type": "code",
   "execution_count": 88,
   "metadata": {},
   "outputs": [
    {
     "name": "stdout",
     "output_type": "stream",
     "text": [
      "{'radius': 0.99, 'sigma_input': 1.0}\n",
      "/home/user/anaconda3/lib/python3.11/site-packages/numpy/core/_methods.py:236: RuntimeWarning: invalid value encountered in subtract\n",
      "  x = asanyarray(arr - arrmean)\n",
      "AVERAGE RMNSE ERROR ON TRAIN DATA SET: 1.5796926474311537 ± 0.010930703060611205\n",
      "AVG NUMBER OF ACCURATE 0.5 PREDICTIONS ON TRAIN DATA SET: 0.20389246116542076 ± 0.010697958155097345\n",
      "AVG NUMBER OF ACCURATE 1 PREDICTIONS ON TRAIN DATA SET: 0.48437139406213126 ± 0.034076152049141266\n",
      "POWER SPECTRUM MEAN ERROR ON TRAIN DATA SET: 2.949705032710779 ± 2.069590337947828\n",
      "TEMPORAL DISTANCE ON TRAIN DATA SET: 0.3272001135523296 ± 0.01766685669785674\n",
      "GEOMETRICAL DISTANCE ON TRAIN DATA SET: inf ± nan\n",
      "\n",
      "\n",
      "AVERAGE RMNSE ERROR ON TEST DATA SET: 1.5819129755094083 ± 0.016719121071106006\n",
      "AVG NUMBER OF ACCURATE 0.5 PREDICTIONS ON TEST DATA SET: 0.16264058676711007 ± 0.007886481809467199\n",
      "AVG NUMBER OF ACCURATE 1 PREDICTIONS ON TEST DATA SET: 0.42452236317277886 ± 0.026843038207886704\n",
      "POWER SPECTRUM MEAN ERROR ON TEST DATA SET: 3.727972418124785 ± 4.768180154432467\n",
      "TEMPORAL DISTANCE ON TEST DATA SET: 0.32286942827669785 ± 0.011039345017128596\n",
      "GEOMETRICAL DISTANCE ON TEST DATA SET: inf ± nan\n"
     ]
    }
   ],
   "source": [
    "!bash ./1_MovedPGClustered_ESN_Evaluate_Tuned_Model.sh \"evaluate_tuned_model\" 2000 1 1 5 \"grid_search_for_md_3.json\" 3"
   ]
  },
  {
   "cell_type": "code",
   "execution_count": 53,
   "metadata": {},
   "outputs": [
    {
     "name": "stdout",
     "output_type": "stream",
     "text": [
      "Grid Search Progress:   0%|                                               | 0/25 [00:00<?, ?trial/s]/home/user/kuei_jan_CHU/PGClustered_ESN/Methods/./Utils/global_utils.py:274: RuntimeWarning: divide by zero encountered in log10\n",
      "  s_dbfs = 20 * np.log10(s_mag)\n",
      "Grid Search Progress: 100%|████████| 25/25 [1:02:06<00:00, 149.05s/trial, Current Best Loss=0.25951]\n",
      "{'radius': 0.4, 'sigma_input': 1.5}\n"
     ]
    }
   ],
   "source": [
    "!bash ./0_MovedPGClustered_ESN_Tune.sh \"tune\" 2500 1 1 6 \"grid_search_for_md_3.json\" 3"
   ]
  },
  {
   "cell_type": "code",
   "execution_count": 89,
   "metadata": {},
   "outputs": [
    {
     "name": "stdout",
     "output_type": "stream",
     "text": [
      "{'radius': 0.4, 'sigma_input': 1.5}\n",
      "/home/user/anaconda3/lib/python3.11/site-packages/numpy/core/_methods.py:236: RuntimeWarning: invalid value encountered in subtract\n",
      "  x = asanyarray(arr - arrmean)\n",
      "AVERAGE RMNSE ERROR ON TRAIN DATA SET: 1.5387898663143913 ± 0.009402798298040024\n",
      "AVG NUMBER OF ACCURATE 0.5 PREDICTIONS ON TRAIN DATA SET: 0.15418733381663657 ± 0.007361613747083708\n",
      "AVG NUMBER OF ACCURATE 1 PREDICTIONS ON TRAIN DATA SET: 0.39916260432135847 ± 0.01714906490442442\n",
      "POWER SPECTRUM MEAN ERROR ON TRAIN DATA SET: inf ± nan\n",
      "TEMPORAL DISTANCE ON TRAIN DATA SET: 0.3329072700551541 ± 0.010593195782748527\n",
      "GEOMETRICAL DISTANCE ON TRAIN DATA SET: inf ± nan\n",
      "\n",
      "\n",
      "AVERAGE RMNSE ERROR ON TEST DATA SET: 1.5453965304728114 ± 0.012083451448578031\n",
      "AVG NUMBER OF ACCURATE 0.5 PREDICTIONS ON TEST DATA SET: 0.11665489071653426 ± 0.010311582727287657\n",
      "AVG NUMBER OF ACCURATE 1 PREDICTIONS ON TEST DATA SET: 0.36027764074918045 ± 0.031551816179440875\n",
      "POWER SPECTRUM MEAN ERROR ON TEST DATA SET: inf ± nan\n",
      "TEMPORAL DISTANCE ON TEST DATA SET: 0.33221112352846227 ± 0.021665740480120804\n",
      "GEOMETRICAL DISTANCE ON TEST DATA SET: inf ± nan\n"
     ]
    }
   ],
   "source": [
    "!bash ./1_MovedPGClustered_ESN_Evaluate_Tuned_Model.sh \"evaluate_tuned_model\" 2500 1 1 6 \"grid_search_for_md_3.json\" 3"
   ]
  },
  {
   "cell_type": "code",
   "execution_count": 55,
   "metadata": {},
   "outputs": [
    {
     "name": "stdout",
     "output_type": "stream",
     "text": [
      "Grid Search Progress:   0%|                                               | 0/25 [00:00<?, ?trial/s]/home/user/kuei_jan_CHU/PGClustered_ESN/Methods/./Utils/global_utils.py:274: RuntimeWarning: divide by zero encountered in log10\n",
      "  s_dbfs = 20 * np.log10(s_mag)\n",
      "Grid Search Progress: 100%|████████| 25/25 [1:22:09<00:00, 197.18s/trial, Current Best Loss=0.24232]\n",
      "{'radius': 0.99, 'sigma_input': 1.5}\n"
     ]
    }
   ],
   "source": [
    "!bash ./0_MovedPGClustered_ESN_Tune.sh \"tune\" 3000 1 1 7 \"grid_search_for_md_3.json\" 3"
   ]
  },
  {
   "cell_type": "code",
   "execution_count": 90,
   "metadata": {},
   "outputs": [
    {
     "name": "stdout",
     "output_type": "stream",
     "text": [
      "{'radius': 0.99, 'sigma_input': 1.5}\n",
      "/home/user/anaconda3/lib/python3.11/site-packages/numpy/core/_methods.py:236: RuntimeWarning: invalid value encountered in subtract\n",
      "  x = asanyarray(arr - arrmean)\n",
      "AVERAGE RMNSE ERROR ON TRAIN DATA SET: 1.5444087520258047 ± 0.009534457005874554\n",
      "AVG NUMBER OF ACCURATE 0.5 PREDICTIONS ON TRAIN DATA SET: 0.1614571313540438 ± 0.00779351413856327\n",
      "AVG NUMBER OF ACCURATE 1 PREDICTIONS ON TRAIN DATA SET: 0.40710866209480356 ± 0.01364722646045845\n",
      "POWER SPECTRUM MEAN ERROR ON TRAIN DATA SET: inf ± nan\n",
      "TEMPORAL DISTANCE ON TRAIN DATA SET: 0.3142373575325087 ± 0.015079739646242875\n",
      "GEOMETRICAL DISTANCE ON TRAIN DATA SET: inf ± nan\n",
      "\n",
      "\n",
      "AVERAGE RMNSE ERROR ON TEST DATA SET: 1.5463387772410786 ± 0.013363668977682978\n",
      "AVG NUMBER OF ACCURATE 0.5 PREDICTIONS ON TEST DATA SET: 0.1175002160115816 ± 0.006773160684310561\n",
      "AVG NUMBER OF ACCURATE 1 PREDICTIONS ON TEST DATA SET: 0.35554381909691524 ± 0.01824101519172245\n",
      "POWER SPECTRUM MEAN ERROR ON TEST DATA SET: inf ± nan\n",
      "TEMPORAL DISTANCE ON TEST DATA SET: 0.3034623847201161 ± 0.008781087205595664\n",
      "GEOMETRICAL DISTANCE ON TEST DATA SET: inf ± nan\n"
     ]
    }
   ],
   "source": [
    "!bash ./1_MovedPGClustered_ESN_Evaluate_Tuned_Model.sh \"evaluate_tuned_model\" 3000 1 1 7 \"grid_search_for_md_3.json\" 3"
   ]
  },
  {
   "cell_type": "code",
   "execution_count": 57,
   "metadata": {},
   "outputs": [
    {
     "name": "stdout",
     "output_type": "stream",
     "text": [
      "Grid Search Progress:   0%|                                               | 0/25 [00:00<?, ?trial/s]/home/user/kuei_jan_CHU/PGClustered_ESN/Methods/./Utils/global_utils.py:274: RuntimeWarning: divide by zero encountered in log10\n",
      "  s_dbfs = 20 * np.log10(s_mag)\n",
      "Grid Search Progress: 100%|████████| 25/25 [2:20:34<00:00, 337.39s/trial, Current Best Loss=0.23923]\n",
      "{'radius': 0.99, 'sigma_input': 1.5}\n"
     ]
    }
   ],
   "source": [
    "!bash ./0_MovedPGClustered_ESN_Tune.sh \"tune\" 3500 1 1 8 \"grid_search_for_md_3.json\" 3"
   ]
  },
  {
   "cell_type": "code",
   "execution_count": 91,
   "metadata": {},
   "outputs": [
    {
     "name": "stdout",
     "output_type": "stream",
     "text": [
      "{'radius': 0.99, 'sigma_input': 1.5}\n",
      "/home/user/anaconda3/lib/python3.11/site-packages/numpy/core/_methods.py:236: RuntimeWarning: invalid value encountered in subtract\n",
      "  x = asanyarray(arr - arrmean)\n",
      "AVERAGE RMNSE ERROR ON TRAIN DATA SET: 1.546457716524103 ± 0.004837418511028269\n",
      "AVG NUMBER OF ACCURATE 0.5 PREDICTIONS ON TRAIN DATA SET: 0.18005428784508545 ± 0.012103216314749246\n",
      "AVG NUMBER OF ACCURATE 1 PREDICTIONS ON TRAIN DATA SET: 0.41826695598942865 ± 0.025875240204151866\n",
      "POWER SPECTRUM MEAN ERROR ON TRAIN DATA SET: 3.2963904490996234 ± 0.3963792323210323\n",
      "TEMPORAL DISTANCE ON TRAIN DATA SET: 0.28809187689833143 ± 0.008708691394523885\n",
      "GEOMETRICAL DISTANCE ON TRAIN DATA SET: 19.53923996103397 ± 0.2882111760592246\n",
      "\n",
      "\n",
      "AVERAGE RMNSE ERROR ON TEST DATA SET: 1.5479958296727498 ± 0.009130942971959996\n",
      "AVG NUMBER OF ACCURATE 0.5 PREDICTIONS ON TEST DATA SET: 0.12595346896205512 ± 0.007379065246279706\n",
      "AVG NUMBER OF ACCURATE 1 PREDICTIONS ON TEST DATA SET: 0.3643352021654077 ± 0.02437411606576007\n",
      "POWER SPECTRUM MEAN ERROR ON TEST DATA SET: 2.5970256339791105 ± 0.27873856682717846\n",
      "TEMPORAL DISTANCE ON TEST DATA SET: 0.2882920545564594 ± 0.017834549321228212\n",
      "GEOMETRICAL DISTANCE ON TEST DATA SET: inf ± nan\n"
     ]
    }
   ],
   "source": [
    "!bash ./1_MovedPGClustered_ESN_Evaluate_Tuned_Model.sh \"evaluate_tuned_model\" 3500 1 1 8 \"grid_search_for_md_3.json\" 3"
   ]
  },
  {
   "cell_type": "code",
   "execution_count": 59,
   "metadata": {},
   "outputs": [
    {
     "name": "stdout",
     "output_type": "stream",
     "text": [
      "Grid Search Progress: 100%|████████| 25/25 [3:07:06<00:00, 449.08s/trial, Current Best Loss=0.23375]\n",
      "{'radius': 0.99, 'sigma_input': 1.5}\n"
     ]
    }
   ],
   "source": [
    "!bash ./0_MovedPGClustered_ESN_Tune.sh \"tune\" 4000 1 1 9 \"grid_search_for_md_3.json\" 3"
   ]
  },
  {
   "cell_type": "code",
   "execution_count": 92,
   "metadata": {},
   "outputs": [
    {
     "name": "stdout",
     "output_type": "stream",
     "text": [
      "{'radius': 0.99, 'sigma_input': 1.5}\n",
      "AVERAGE RMNSE ERROR ON TRAIN DATA SET: 1.5490461028602813 ± 0.0055391655871469755\n",
      "AVG NUMBER OF ACCURATE 0.5 PREDICTIONS ON TRAIN DATA SET: 0.1929032323298052 ± 0.010624229101842199\n",
      "AVG NUMBER OF ACCURATE 1 PREDICTIONS ON TRAIN DATA SET: 0.46492891227604216 ± 0.03345609140359355\n",
      "POWER SPECTRUM MEAN ERROR ON TRAIN DATA SET: 3.373827706826431 ± 0.17374417937235598\n",
      "TEMPORAL DISTANCE ON TRAIN DATA SET: 0.2769826465339657 ± 0.00570834361685091\n",
      "GEOMETRICAL DISTANCE ON TRAIN DATA SET: 19.580315597556034 ± 0.31413321059554594\n",
      "\n",
      "\n",
      "AVERAGE RMNSE ERROR ON TEST DATA SET: 1.551404159262187 ± 0.004232729521432362\n",
      "AVG NUMBER OF ACCURATE 0.5 PREDICTIONS ON TEST DATA SET: 0.13271607132243388 ± 0.0034853654794866355\n",
      "AVG NUMBER OF ACCURATE 1 PREDICTIONS ON TEST DATA SET: 0.37566256111904217 ± 0.020882101407130184\n",
      "POWER SPECTRUM MEAN ERROR ON TEST DATA SET: 2.5614815930347143 ± 0.25237455522296204\n",
      "TEMPORAL DISTANCE ON TEST DATA SET: 0.2752307455762274 ± 0.008166060436383422\n",
      "GEOMETRICAL DISTANCE ON TEST DATA SET: 19.820858337893032 ± 0.38516580130081945\n"
     ]
    }
   ],
   "source": [
    "!bash ./1_MovedPGClustered_ESN_Evaluate_Tuned_Model.sh \"evaluate_tuned_model\" 4000 1 1 9 \"grid_search_for_md_3.json\" 3"
   ]
  },
  {
   "cell_type": "markdown",
   "metadata": {},
   "source": [
    "### move dim 4"
   ]
  },
  {
   "cell_type": "code",
   "execution_count": 61,
   "metadata": {},
   "outputs": [
    {
     "name": "stdout",
     "output_type": "stream",
     "text": [
      "Grid Search Progress:   4%|▍           | 1/25 [00:42<16:50, 42.09s/trial, Current Best Loss=0.48200]/home/user/kuei_jan_CHU/PGClustered_ESN/Methods/./Utils/global_utils.py:274: RuntimeWarning: divide by zero encountered in log10\n",
      "  s_dbfs = 20 * np.log10(s_mag)\n",
      "/home/user/kuei_jan_CHU/PGClustered_ESN/Methods/./Utils/global_utils.py:309: RuntimeWarning: invalid value encountered in divide\n",
      "  trajectory = (trajectory-trajectory.mean())/trajectory.std()\n",
      "/home/user/kuei_jan_CHU/PGClustered_ESN/Methods/./Utils/global_utils.py:321: RuntimeWarning: Mean of empty slice\n",
      "  spectrum = np.nanmean(np.array(spectrum),axis=0)\n",
      "Grid Search Progress: 100%|███████████| 25/25 [18:05<00:00, 43.41s/trial, Current Best Loss=0.40824]\n",
      "{'radius': 0.9, 'sigma_input': 0.1}\n"
     ]
    }
   ],
   "source": [
    "!bash ./0_MovedPGClustered_ESN_Tune.sh \"tune\" 40 1 1 0 \"grid_search_for_md_4.json\" 4"
   ]
  },
  {
   "cell_type": "code",
   "execution_count": 93,
   "metadata": {},
   "outputs": [
    {
     "name": "stdout",
     "output_type": "stream",
     "text": [
      "{'radius': 0.9, 'sigma_input': 0.1}\n",
      "/home/user/anaconda3/lib/python3.11/site-packages/numpy/core/_methods.py:236: RuntimeWarning: invalid value encountered in subtract\n",
      "  x = asanyarray(arr - arrmean)\n",
      "AVERAGE RMNSE ERROR ON TRAIN DATA SET: 1.6973630322829778 ± 0.17408076098629996\n",
      "AVG NUMBER OF ACCURATE 0.5 PREDICTIONS ON TRAIN DATA SET: 0.004564756593255687 ± 0.006506259630343203\n",
      "AVG NUMBER OF ACCURATE 1 PREDICTIONS ON TRAIN DATA SET: 0.4099827680979645 ± 0.06421023279188186\n",
      "POWER SPECTRUM MEAN ERROR ON TRAIN DATA SET: inf ± nan\n",
      "TEMPORAL DISTANCE ON TRAIN DATA SET: 0.4473860257452631 ± 0.04592390697257715\n",
      "GEOMETRICAL DISTANCE ON TRAIN DATA SET: inf ± nan\n",
      "\n",
      "\n",
      "AVERAGE RMNSE ERROR ON TEST DATA SET: 1.7063329699374763 ± 0.15444853711203266\n",
      "AVG NUMBER OF ACCURATE 0.5 PREDICTIONS ON TEST DATA SET: 0.00016906505900946993 ± 0.0005071951770284098\n",
      "AVG NUMBER OF ACCURATE 1 PREDICTIONS ON TEST DATA SET: 0.32240706753105913 ± 0.03633168388787493\n",
      "POWER SPECTRUM MEAN ERROR ON TEST DATA SET: inf ± nan\n",
      "TEMPORAL DISTANCE ON TEST DATA SET: 0.46207305998559384 ± 0.05542910999268221\n",
      "GEOMETRICAL DISTANCE ON TEST DATA SET: inf ± nan\n"
     ]
    }
   ],
   "source": [
    "!bash ./1_MovedPGClustered_ESN_Evaluate_Tuned_Model.sh \"evaluate_tuned_model\" 40 1 1 0 \"grid_search_for_md_4.json\" 4"
   ]
  },
  {
   "cell_type": "code",
   "execution_count": 63,
   "metadata": {},
   "outputs": [
    {
     "name": "stdout",
     "output_type": "stream",
     "text": [
      "Grid Search Progress:   4%|▍           | 1/25 [00:28<11:34, 28.95s/trial, Current Best Loss=0.27841]/home/user/kuei_jan_CHU/PGClustered_ESN/Methods/./Utils/global_utils.py:274: RuntimeWarning: divide by zero encountered in log10\n",
      "  s_dbfs = 20 * np.log10(s_mag)\n",
      "Grid Search Progress:   8%|▉           | 2/25 [00:54<10:25, 27.18s/trial, Current Best Loss=0.27841]/home/user/kuei_jan_CHU/PGClustered_ESN/Methods/./Utils/global_utils.py:309: RuntimeWarning: invalid value encountered in divide\n",
      "  trajectory = (trajectory-trajectory.mean())/trajectory.std()\n",
      "Grid Search Progress:  16%|█▉          | 4/25 [01:46<09:14, 26.40s/trial, Current Best Loss=0.27841]/home/user/kuei_jan_CHU/PGClustered_ESN/Methods/./Utils/global_utils.py:321: RuntimeWarning: Mean of empty slice\n",
      "  spectrum = np.nanmean(np.array(spectrum),axis=0)\n",
      "Grid Search Progress: 100%|███████████| 25/25 [10:53<00:00, 26.14s/trial, Current Best Loss=0.27841]\n",
      "{'radius': 0.1, 'sigma_input': 0.1}\n"
     ]
    }
   ],
   "source": [
    "!bash ./0_MovedPGClustered_ESN_Tune.sh \"tune\" 250 1 1 1 \"grid_search_for_md_4.json\" 4"
   ]
  },
  {
   "cell_type": "code",
   "execution_count": 94,
   "metadata": {},
   "outputs": [
    {
     "name": "stdout",
     "output_type": "stream",
     "text": [
      "{'radius': 0.1, 'sigma_input': 0.1}\n",
      "/home/user/anaconda3/lib/python3.11/site-packages/numpy/core/_methods.py:236: RuntimeWarning: invalid value encountered in subtract\n",
      "  x = asanyarray(arr - arrmean)\n",
      "AVERAGE RMNSE ERROR ON TRAIN DATA SET: 4.443854483469382 ± 1.4585172390610743\n",
      "AVG NUMBER OF ACCURATE 0.5 PREDICTIONS ON TRAIN DATA SET: 0.26881344382505723 ± 0.012651670537763107\n",
      "AVG NUMBER OF ACCURATE 1 PREDICTIONS ON TRAIN DATA SET: 0.6422781591769762 ± 0.0360901435532142\n",
      "POWER SPECTRUM MEAN ERROR ON TRAIN DATA SET: inf ± nan\n",
      "TEMPORAL DISTANCE ON TRAIN DATA SET: 0.30311696217654976 ± 0.12424008215445832\n",
      "GEOMETRICAL DISTANCE ON TRAIN DATA SET: inf ± nan\n",
      "\n",
      "\n",
      "AVERAGE RMNSE ERROR ON TEST DATA SET: 4.422858522673669 ± 1.489197005429488\n",
      "AVG NUMBER OF ACCURATE 0.5 PREDICTIONS ON TEST DATA SET: 0.2568098246353848 ± 0.011123658651541916\n",
      "AVG NUMBER OF ACCURATE 1 PREDICTIONS ON TEST DATA SET: 0.596123398067391 ± 0.037226575046868327\n",
      "POWER SPECTRUM MEAN ERROR ON TEST DATA SET: inf ± nan\n",
      "TEMPORAL DISTANCE ON TEST DATA SET: 0.319935993080004 ± 0.1563989135768199\n",
      "GEOMETRICAL DISTANCE ON TEST DATA SET: inf ± nan\n"
     ]
    }
   ],
   "source": [
    "!bash ./1_MovedPGClustered_ESN_Evaluate_Tuned_Model.sh \"evaluate_tuned_model\" 250 1 1 1 \"grid_search_for_md_4.json\" 4"
   ]
  },
  {
   "cell_type": "code",
   "execution_count": 65,
   "metadata": {},
   "outputs": [
    {
     "name": "stdout",
     "output_type": "stream",
     "text": [
      "Grid Search Progress:   8%|▉           | 2/25 [01:02<11:50, 30.91s/trial, Current Best Loss=0.30020]/home/user/kuei_jan_CHU/PGClustered_ESN/Methods/./Utils/global_utils.py:274: RuntimeWarning: divide by zero encountered in log10\n",
      "  s_dbfs = 20 * np.log10(s_mag)\n",
      "Grid Search Progress:  36%|████▎       | 9/25 [04:31<07:59, 29.94s/trial, Current Best Loss=0.30020]/home/user/kuei_jan_CHU/PGClustered_ESN/Methods/./Utils/global_utils.py:309: RuntimeWarning: invalid value encountered in divide\n",
      "  trajectory = (trajectory-trajectory.mean())/trajectory.std()\n",
      "Grid Search Progress: 100%|███████████| 25/25 [12:25<00:00, 29.83s/trial, Current Best Loss=0.29400]\n",
      "{'radius': 0.9, 'sigma_input': 0.1}\n"
     ]
    }
   ],
   "source": [
    "!bash ./0_MovedPGClustered_ESN_Tune.sh \"tune\" 500 1 1 2 \"grid_search_for_md_4.json\" 4"
   ]
  },
  {
   "cell_type": "code",
   "execution_count": 95,
   "metadata": {},
   "outputs": [
    {
     "name": "stdout",
     "output_type": "stream",
     "text": [
      "{'radius': 0.9, 'sigma_input': 0.1}\n",
      "/home/user/anaconda3/lib/python3.11/site-packages/numpy/core/_methods.py:236: RuntimeWarning: invalid value encountered in subtract\n",
      "  x = asanyarray(arr - arrmean)\n",
      "AVERAGE RMNSE ERROR ON TRAIN DATA SET: 6.613526534090387 ± 1.3552382059336188\n",
      "AVG NUMBER OF ACCURATE 0.5 PREDICTIONS ON TRAIN DATA SET: 0.3122631639904909 ± 0.012098492186421433\n",
      "AVG NUMBER OF ACCURATE 1 PREDICTIONS ON TRAIN DATA SET: 0.592911161946211 ± 0.015986261318531775\n",
      "POWER SPECTRUM MEAN ERROR ON TRAIN DATA SET: inf ± nan\n",
      "TEMPORAL DISTANCE ON TRAIN DATA SET: 0.3629203040210425 ± 0.11564641865253524\n",
      "GEOMETRICAL DISTANCE ON TRAIN DATA SET: inf ± nan\n",
      "\n",
      "\n",
      "AVERAGE RMNSE ERROR ON TEST DATA SET: 6.6067027942229 ± 1.3383584635828167\n",
      "AVG NUMBER OF ACCURATE 0.5 PREDICTIONS ON TEST DATA SET: 0.27574511124444545 ± 0.010570284965000499\n",
      "AVG NUMBER OF ACCURATE 1 PREDICTIONS ON TEST DATA SET: 0.5484470514267203 ± 0.028211077432256395\n",
      "POWER SPECTRUM MEAN ERROR ON TEST DATA SET: inf ± nan\n",
      "TEMPORAL DISTANCE ON TEST DATA SET: 0.3618914015008393 ± 0.11590623010334675\n",
      "GEOMETRICAL DISTANCE ON TEST DATA SET: inf ± nan\n"
     ]
    }
   ],
   "source": [
    "!bash ./1_MovedPGClustered_ESN_Evaluate_Tuned_Model.sh \"evaluate_tuned_model\" 500 1 1 2 \"grid_search_for_md_4.json\" 4"
   ]
  },
  {
   "cell_type": "code",
   "execution_count": 67,
   "metadata": {},
   "outputs": [
    {
     "name": "stdout",
     "output_type": "stream",
     "text": [
      "Grid Search Progress:  12%|█▍          | 3/25 [02:04<14:55, 40.69s/trial, Current Best Loss=0.31364]/home/user/kuei_jan_CHU/PGClustered_ESN/Methods/./Utils/global_utils.py:274: RuntimeWarning: divide by zero encountered in log10\n",
      "  s_dbfs = 20 * np.log10(s_mag)\n",
      "Grid Search Progress: 100%|███████████| 25/25 [16:21<00:00, 39.24s/trial, Current Best Loss=0.29438]\n",
      "{'radius': 0.99, 'sigma_input': 0.1}\n"
     ]
    }
   ],
   "source": [
    "!bash ./0_MovedPGClustered_ESN_Tune.sh \"tune\" 1000 1 1 3 \"grid_search_for_md_4.json\" 4"
   ]
  },
  {
   "cell_type": "code",
   "execution_count": 96,
   "metadata": {},
   "outputs": [
    {
     "name": "stdout",
     "output_type": "stream",
     "text": [
      "{'radius': 0.99, 'sigma_input': 0.1}\n",
      "/home/user/anaconda3/lib/python3.11/site-packages/numpy/core/_methods.py:236: RuntimeWarning: invalid value encountered in subtract\n",
      "  x = asanyarray(arr - arrmean)\n",
      "AVERAGE RMNSE ERROR ON TRAIN DATA SET: 6.290221912493558 ± 0.49543513926687427\n",
      "AVG NUMBER OF ACCURATE 0.5 PREDICTIONS ON TRAIN DATA SET: 0.38901870078079026 ± 0.016399310723918585\n",
      "AVG NUMBER OF ACCURATE 1 PREDICTIONS ON TRAIN DATA SET: 0.7327279657470426 ± 0.037881138310590194\n",
      "POWER SPECTRUM MEAN ERROR ON TRAIN DATA SET: inf ± nan\n",
      "TEMPORAL DISTANCE ON TRAIN DATA SET: 0.35212912754359016 ± 0.052255736301133796\n",
      "GEOMETRICAL DISTANCE ON TRAIN DATA SET: inf ± nan\n",
      "\n",
      "\n",
      "AVERAGE RMNSE ERROR ON TEST DATA SET: 6.277875199940205 ± 0.43715037384284944\n",
      "AVG NUMBER OF ACCURATE 0.5 PREDICTIONS ON TEST DATA SET: 0.3220689374130402 ± 0.014955331137820903\n",
      "AVG NUMBER OF ACCURATE 1 PREDICTIONS ON TEST DATA SET: 0.6079579521980538 ± 0.05521054999821464\n",
      "POWER SPECTRUM MEAN ERROR ON TEST DATA SET: inf ± nan\n",
      "TEMPORAL DISTANCE ON TEST DATA SET: 0.34545625007643327 ± 0.03941695745317696\n",
      "GEOMETRICAL DISTANCE ON TEST DATA SET: inf ± nan\n"
     ]
    }
   ],
   "source": [
    "!bash ./1_MovedPGClustered_ESN_Evaluate_Tuned_Model.sh \"evaluate_tuned_model\" 1000 1 1 3 \"grid_search_for_md_4.json\" 4"
   ]
  },
  {
   "cell_type": "code",
   "execution_count": 69,
   "metadata": {},
   "outputs": [
    {
     "name": "stdout",
     "output_type": "stream",
     "text": [
      "Grid Search Progress:   4%|▍           | 1/25 [01:07<27:00, 67.52s/trial, Current Best Loss=0.72327]/home/user/kuei_jan_CHU/PGClustered_ESN/Methods/./Utils/global_utils.py:274: RuntimeWarning: divide by zero encountered in log10\n",
      "  s_dbfs = 20 * np.log10(s_mag)\n",
      "Grid Search Progress: 100%|███████████| 25/25 [24:13<00:00, 58.16s/trial, Current Best Loss=0.27613]\n",
      "{'radius': 0.99, 'sigma_input': 1.0}\n"
     ]
    }
   ],
   "source": [
    "!bash ./0_MovedPGClustered_ESN_Tune.sh \"tune\" 1500 1 1 4 \"grid_search_for_md_4.json\" 4"
   ]
  },
  {
   "cell_type": "code",
   "execution_count": 97,
   "metadata": {},
   "outputs": [
    {
     "name": "stdout",
     "output_type": "stream",
     "text": [
      "{'radius': 0.99, 'sigma_input': 1.0}\n",
      "/home/user/anaconda3/lib/python3.11/site-packages/numpy/core/_methods.py:236: RuntimeWarning: invalid value encountered in subtract\n",
      "  x = asanyarray(arr - arrmean)\n",
      "AVERAGE RMNSE ERROR ON TRAIN DATA SET: 1.5514524448339082 ± 0.009076179775492847\n",
      "AVG NUMBER OF ACCURATE 0.5 PREDICTIONS ON TRAIN DATA SET: 0.160104610881968 ± 0.007562709259910035\n",
      "AVG NUMBER OF ACCURATE 1 PREDICTIONS ON TRAIN DATA SET: 0.4270583390579209 ± 0.029960312901603735\n",
      "POWER SPECTRUM MEAN ERROR ON TRAIN DATA SET: inf ± nan\n",
      "TEMPORAL DISTANCE ON TRAIN DATA SET: 0.3139099040215277 ± 0.017671607648377496\n",
      "GEOMETRICAL DISTANCE ON TRAIN DATA SET: inf ± nan\n",
      "\n",
      "\n",
      "AVERAGE RMNSE ERROR ON TEST DATA SET: 1.5526265464224267 ± 0.009023869892134606\n",
      "AVG NUMBER OF ACCURATE 0.5 PREDICTIONS ON TEST DATA SET: 0.12696785931611193 ± 0.005316820595235366\n",
      "AVG NUMBER OF ACCURATE 1 PREDICTIONS ON TEST DATA SET: 0.3526697130937542 ± 0.012007190455439772\n",
      "POWER SPECTRUM MEAN ERROR ON TEST DATA SET: inf ± nan\n",
      "TEMPORAL DISTANCE ON TEST DATA SET: 0.32067004677936406 ± 0.023048876264318237\n",
      "GEOMETRICAL DISTANCE ON TEST DATA SET: inf ± nan\n"
     ]
    }
   ],
   "source": [
    "!bash ./1_MovedPGClustered_ESN_Evaluate_Tuned_Model.sh \"evaluate_tuned_model\" 1500 1 1 4 \"grid_search_for_md_4.json\" 4"
   ]
  },
  {
   "cell_type": "code",
   "execution_count": 71,
   "metadata": {},
   "outputs": [
    {
     "name": "stdout",
     "output_type": "stream",
     "text": [
      "Grid Search Progress:  16%|█▉          | 4/25 [05:41<28:57, 82.76s/trial, Current Best Loss=0.27297]/home/user/kuei_jan_CHU/PGClustered_ESN/Methods/./Utils/global_utils.py:274: RuntimeWarning: divide by zero encountered in log10\n",
      "  s_dbfs = 20 * np.log10(s_mag)\n",
      "Grid Search Progress: 100%|███████████| 25/25 [34:42<00:00, 83.29s/trial, Current Best Loss=0.25833]\n",
      "{'radius': 0.9, 'sigma_input': 1.0}\n"
     ]
    }
   ],
   "source": [
    "!bash ./0_MovedPGClustered_ESN_Tune.sh \"tune\" 2000 1 1 5 \"grid_search_for_md_4.json\" 4"
   ]
  },
  {
   "cell_type": "code",
   "execution_count": 98,
   "metadata": {},
   "outputs": [
    {
     "name": "stdout",
     "output_type": "stream",
     "text": [
      "{'radius': 0.9, 'sigma_input': 1.0}\n",
      "/home/user/anaconda3/lib/python3.11/site-packages/numpy/core/_methods.py:236: RuntimeWarning: invalid value encountered in subtract\n",
      "  x = asanyarray(arr - arrmean)\n",
      "AVERAGE RMNSE ERROR ON TRAIN DATA SET: 1.5782717118002725 ± 0.013988644388738865\n",
      "AVG NUMBER OF ACCURATE 0.5 PREDICTIONS ON TRAIN DATA SET: 0.1961154684509851 ± 0.0051834365557227625\n",
      "AVG NUMBER OF ACCURATE 1 PREDICTIONS ON TRAIN DATA SET: 0.4799757025278851 ± 0.03112312789059005\n",
      "POWER SPECTRUM MEAN ERROR ON TRAIN DATA SET: 2.544674208276004 ± 1.740536642192263\n",
      "TEMPORAL DISTANCE ON TRAIN DATA SET: 0.31058714785127595 ± 0.011773848119176714\n",
      "GEOMETRICAL DISTANCE ON TRAIN DATA SET: inf ± nan\n",
      "\n",
      "\n",
      "AVERAGE RMNSE ERROR ON TEST DATA SET: 1.5787015370435689 ± 0.013028240817272751\n",
      "AVG NUMBER OF ACCURATE 0.5 PREDICTIONS ON TEST DATA SET: 0.1502988374594188 ± 0.008766964773757636\n",
      "AVG NUMBER OF ACCURATE 1 PREDICTIONS ON TEST DATA SET: 0.3949359778461218 ± 0.011791000113696333\n",
      "POWER SPECTRUM MEAN ERROR ON TEST DATA SET: 1.3897618834743208 ± 0.3468312206675692\n",
      "TEMPORAL DISTANCE ON TEST DATA SET: 0.3149980485651193 ± 0.01735602732095939\n",
      "GEOMETRICAL DISTANCE ON TEST DATA SET: inf ± nan\n"
     ]
    }
   ],
   "source": [
    "!bash ./1_MovedPGClustered_ESN_Evaluate_Tuned_Model.sh \"evaluate_tuned_model\" 2000 1 1 5 \"grid_search_for_md_4.json\" 4"
   ]
  },
  {
   "cell_type": "code",
   "execution_count": 73,
   "metadata": {},
   "outputs": [
    {
     "name": "stdout",
     "output_type": "stream",
     "text": [
      "Grid Search Progress: 100%|████████| 25/25 [1:03:19<00:00, 151.98s/trial, Current Best Loss=0.24151]\n",
      "{'radius': 0.1, 'sigma_input': 0.5}\n"
     ]
    }
   ],
   "source": [
    "!bash ./0_MovedPGClustered_ESN_Tune.sh \"tune\" 2500 1 1 6 \"grid_search_for_md_4.json\" 4"
   ]
  },
  {
   "cell_type": "code",
   "execution_count": 99,
   "metadata": {},
   "outputs": [
    {
     "name": "stdout",
     "output_type": "stream",
     "text": [
      "{'radius': 0.1, 'sigma_input': 0.5}\n",
      "/home/user/anaconda3/lib/python3.11/site-packages/numpy/core/_methods.py:236: RuntimeWarning: invalid value encountered in subtract\n",
      "  x = asanyarray(arr - arrmean)\n",
      "AVERAGE RMNSE ERROR ON TRAIN DATA SET: 2.537056190219056 ± 0.1985820192149788\n",
      "AVG NUMBER OF ACCURATE 0.5 PREDICTIONS ON TRAIN DATA SET: 0.4630691966269381 ± 0.010942310661424318\n",
      "AVG NUMBER OF ACCURATE 1 PREDICTIONS ON TRAIN DATA SET: 0.7606237004836051 ± 0.028213610276950664\n",
      "POWER SPECTRUM MEAN ERROR ON TRAIN DATA SET: inf ± nan\n",
      "TEMPORAL DISTANCE ON TRAIN DATA SET: 0.35251012092123213 ± 0.09973230557557275\n",
      "GEOMETRICAL DISTANCE ON TRAIN DATA SET: inf ± nan\n",
      "\n",
      "\n",
      "AVERAGE RMNSE ERROR ON TEST DATA SET: 2.542110351274272 ± 0.19566110821693247\n",
      "AVG NUMBER OF ACCURATE 0.5 PREDICTIONS ON TEST DATA SET: 0.3276480843603527 ± 0.010388906872989944\n",
      "AVG NUMBER OF ACCURATE 1 PREDICTIONS ON TEST DATA SET: 0.6113392533782431 ± 0.033200520891630475\n",
      "POWER SPECTRUM MEAN ERROR ON TEST DATA SET: inf ± nan\n",
      "TEMPORAL DISTANCE ON TEST DATA SET: 0.34264508418521833 ± 0.11007936257922138\n",
      "GEOMETRICAL DISTANCE ON TEST DATA SET: inf ± nan\n"
     ]
    }
   ],
   "source": [
    "!bash ./1_MovedPGClustered_ESN_Evaluate_Tuned_Model.sh \"evaluate_tuned_model\" 2500 1 1 6 \"grid_search_for_md_4.json\" 4"
   ]
  },
  {
   "cell_type": "code",
   "execution_count": 75,
   "metadata": {},
   "outputs": [
    {
     "name": "stdout",
     "output_type": "stream",
     "text": [
      "Grid Search Progress: 100%|████████| 25/25 [1:21:26<00:00, 195.46s/trial, Current Best Loss=0.23155]\n",
      "{'radius': 0.1, 'sigma_input': 0.5}\n"
     ]
    }
   ],
   "source": [
    "!bash ./0_MovedPGClustered_ESN_Tune.sh \"tune\" 3000 1 1 7 \"grid_search_for_md_4.json\" 4"
   ]
  },
  {
   "cell_type": "code",
   "execution_count": 100,
   "metadata": {},
   "outputs": [
    {
     "name": "stdout",
     "output_type": "stream",
     "text": [
      "{'radius': 0.1, 'sigma_input': 0.5}\n",
      "/home/user/anaconda3/lib/python3.11/site-packages/numpy/core/_methods.py:236: RuntimeWarning: invalid value encountered in subtract\n",
      "  x = asanyarray(arr - arrmean)\n",
      "AVERAGE RMNSE ERROR ON TRAIN DATA SET: 2.6211727290008002 ± 0.18522451879966045\n",
      "AVG NUMBER OF ACCURATE 0.5 PREDICTIONS ON TRAIN DATA SET: 0.48149728805897035 ± 0.01842421338501188\n",
      "AVG NUMBER OF ACCURATE 1 PREDICTIONS ON TRAIN DATA SET: 0.7705985389651638 ± 0.03329165334196096\n",
      "POWER SPECTRUM MEAN ERROR ON TRAIN DATA SET: 6.247175562127671 ± 6.335933315772638\n",
      "TEMPORAL DISTANCE ON TRAIN DATA SET: 0.38302053910980427 ± 0.21720074367909495\n",
      "GEOMETRICAL DISTANCE ON TRAIN DATA SET: inf ± nan\n",
      "\n",
      "\n",
      "AVERAGE RMNSE ERROR ON TEST DATA SET: 2.621677390599803 ± 0.19217101658565602\n",
      "AVG NUMBER OF ACCURATE 0.5 PREDICTIONS ON TEST DATA SET: 0.32308332776709703 ± 0.015167877904892305\n",
      "AVG NUMBER OF ACCURATE 1 PREDICTIONS ON TEST DATA SET: 0.583950713818709 ± 0.024467166367632867\n",
      "POWER SPECTRUM MEAN ERROR ON TEST DATA SET: 6.416399732142425 ± 6.986322995759679\n",
      "TEMPORAL DISTANCE ON TEST DATA SET: 0.38345738572763 ± 0.23855888200042114\n",
      "GEOMETRICAL DISTANCE ON TEST DATA SET: inf ± nan\n"
     ]
    }
   ],
   "source": [
    "!bash ./1_MovedPGClustered_ESN_Evaluate_Tuned_Model.sh \"evaluate_tuned_model\" 3000 1 1 7 \"grid_search_for_md_4.json\" 4"
   ]
  },
  {
   "cell_type": "code",
   "execution_count": 77,
   "metadata": {},
   "outputs": [
    {
     "name": "stdout",
     "output_type": "stream",
     "text": [
      "Grid Search Progress: 100%|████████| 25/25 [2:18:42<00:00, 332.88s/trial, Current Best Loss=0.23189]\n",
      "{'radius': 0.7, 'sigma_input': 0.5}\n"
     ]
    }
   ],
   "source": [
    "!bash ./0_MovedPGClustered_ESN_Tune.sh \"tune\" 3500 1 1 8 \"grid_search_for_md_4.json\" 4"
   ]
  },
  {
   "cell_type": "code",
   "execution_count": 101,
   "metadata": {},
   "outputs": [
    {
     "name": "stdout",
     "output_type": "stream",
     "text": [
      "{'radius': 0.7, 'sigma_input': 0.5}\n",
      "/home/user/anaconda3/lib/python3.11/site-packages/numpy/core/_methods.py:236: RuntimeWarning: invalid value encountered in subtract\n",
      "  x = asanyarray(arr - arrmean)\n",
      "AVERAGE RMNSE ERROR ON TRAIN DATA SET: 2.464974900627363 ± 0.10998314277546192\n",
      "AVG NUMBER OF ACCURATE 0.5 PREDICTIONS ON TRAIN DATA SET: 0.5188606661000631 ± 0.015540196839450595\n",
      "AVG NUMBER OF ACCURATE 1 PREDICTIONS ON TRAIN DATA SET: 0.8241921626711658 ± 0.037813546299550194\n",
      "POWER SPECTRUM MEAN ERROR ON TRAIN DATA SET: 5.148527387807958 ± 0.8930866450709688\n",
      "TEMPORAL DISTANCE ON TRAIN DATA SET: 0.2439698184700712 ± 0.023672050286248848\n",
      "GEOMETRICAL DISTANCE ON TRAIN DATA SET: inf ± nan\n",
      "\n",
      "\n",
      "AVERAGE RMNSE ERROR ON TEST DATA SET: 2.4687208938226926 ± 0.10590547564452965\n",
      "AVG NUMBER OF ACCURATE 0.5 PREDICTIONS ON TEST DATA SET: 0.3115869037544531 ± 0.018520920957897407\n",
      "AVG NUMBER OF ACCURATE 1 PREDICTIONS ON TEST DATA SET: 0.5868248198218702 ± 0.04589392397663845\n",
      "POWER SPECTRUM MEAN ERROR ON TEST DATA SET: 4.4440228861827835 ± 0.39810988904039585\n",
      "TEMPORAL DISTANCE ON TEST DATA SET: 0.24299766224329794 ± 0.025173256350383533\n",
      "GEOMETRICAL DISTANCE ON TEST DATA SET: inf ± nan\n"
     ]
    }
   ],
   "source": [
    "!bash ./1_MovedPGClustered_ESN_Evaluate_Tuned_Model.sh \"evaluate_tuned_model\" 3500 1 1 8 \"grid_search_for_md_4.json\" 4"
   ]
  },
  {
   "cell_type": "code",
   "execution_count": 79,
   "metadata": {},
   "outputs": [
    {
     "name": "stdout",
     "output_type": "stream",
     "text": [
      "Grid Search Progress:  40%|██▍   | 10/25 [1:14:09<1:49:00, 436.03s/trial, Current Best Loss=0.23252]/home/user/kuei_jan_CHU/PGClustered_ESN/Methods/./Utils/global_utils.py:274: RuntimeWarning: divide by zero encountered in log10\n",
      "  s_dbfs = 20 * np.log10(s_mag)\n",
      "Grid Search Progress: 100%|████████| 25/25 [3:01:52<00:00, 436.51s/trial, Current Best Loss=0.22567]\n",
      "{'radius': 0.9, 'sigma_input': 1.5}\n"
     ]
    }
   ],
   "source": [
    "!bash ./0_MovedPGClustered_ESN_Tune.sh \"tune\" 4000 1 1 9 \"grid_search_for_md_4.json\" 4"
   ]
  },
  {
   "cell_type": "code",
   "execution_count": 102,
   "metadata": {},
   "outputs": [
    {
     "name": "stdout",
     "output_type": "stream",
     "text": [
      "{'radius': 0.9, 'sigma_input': 1.5}\n",
      "AVERAGE RMNSE ERROR ON TRAIN DATA SET: 1.5525670467545412 ± 0.006599264837744321\n",
      "AVG NUMBER OF ACCURATE 0.5 PREDICTIONS ON TRAIN DATA SET: 0.18732408538249265 ± 0.007283545647151319\n",
      "AVG NUMBER OF ACCURATE 1 PREDICTIONS ON TRAIN DATA SET: 0.4338209414182998 ± 0.027730792908994925\n",
      "POWER SPECTRUM MEAN ERROR ON TRAIN DATA SET: 2.7082962180235746 ± 0.33641431901670205\n",
      "TEMPORAL DISTANCE ON TRAIN DATA SET: 0.27362562284957 ± 0.009316221677210282\n",
      "GEOMETRICAL DISTANCE ON TRAIN DATA SET: 20.11366612644678 ± 0.3807954658086963\n",
      "\n",
      "\n",
      "AVERAGE RMNSE ERROR ON TEST DATA SET: 1.5533468404608985 ± 0.0070167894313183\n",
      "AVG NUMBER OF ACCURATE 0.5 PREDICTIONS ON TEST DATA SET: 0.12730598943413082 ± 0.0074867383808180435\n",
      "AVG NUMBER OF ACCURATE 1 PREDICTIONS ON TEST DATA SET: 0.3704215442897486 ± 0.02650010535745515\n",
      "POWER SPECTRUM MEAN ERROR ON TEST DATA SET: 2.4744391075176906 ± 0.15193726931057447\n",
      "TEMPORAL DISTANCE ON TEST DATA SET: 0.2703283107404194 ± 0.007926802658465364\n",
      "GEOMETRICAL DISTANCE ON TEST DATA SET: 20.268648725131843 ± 0.41512647449280266\n"
     ]
    }
   ],
   "source": [
    "!bash ./1_MovedPGClustered_ESN_Evaluate_Tuned_Model.sh \"evaluate_tuned_model\" 4000 1 1 9 \"grid_search_for_md_4.json\" 4"
   ]
  },
  {
   "cell_type": "markdown",
   "metadata": {},
   "source": [
    "### move dim 5"
   ]
  },
  {
   "cell_type": "code",
   "execution_count": 81,
   "metadata": {},
   "outputs": [
    {
     "name": "stdout",
     "output_type": "stream",
     "text": [
      "Grid Search Progress:   4%|▍           | 1/25 [00:49<19:58, 49.93s/trial, Current Best Loss=0.50374]/home/user/kuei_jan_CHU/PGClustered_ESN/Methods/./Utils/global_utils.py:274: RuntimeWarning: divide by zero encountered in log10\n",
      "  s_dbfs = 20 * np.log10(s_mag)\n",
      "/home/user/kuei_jan_CHU/PGClustered_ESN/Methods/./Utils/global_utils.py:309: RuntimeWarning: invalid value encountered in divide\n",
      "  trajectory = (trajectory-trajectory.mean())/trajectory.std()\n",
      "/home/user/kuei_jan_CHU/PGClustered_ESN/Methods/./Utils/global_utils.py:321: RuntimeWarning: Mean of empty slice\n",
      "  spectrum = np.nanmean(np.array(spectrum),axis=0)\n",
      "Grid Search Progress: 100%|███████████| 25/25 [17:55<00:00, 43.01s/trial, Current Best Loss=0.36356]\n",
      "{'radius': 0.9, 'sigma_input': 0.1}\n"
     ]
    }
   ],
   "source": [
    "!bash ./0_MovedPGClustered_ESN_Tune.sh \"tune\" 40 1 1 0 \"grid_search_for_md_5.json\" 5"
   ]
  },
  {
   "cell_type": "code",
   "execution_count": 103,
   "metadata": {},
   "outputs": [
    {
     "name": "stdout",
     "output_type": "stream",
     "text": [
      "{'radius': 0.9, 'sigma_input': 0.1}\n",
      "/home/user/anaconda3/lib/python3.11/site-packages/numpy/core/_methods.py:236: RuntimeWarning: invalid value encountered in subtract\n",
      "  x = asanyarray(arr - arrmean)\n",
      "AVERAGE RMNSE ERROR ON TRAIN DATA SET: 1.882021202316169 ± 0.30666436600301206\n",
      "AVG NUMBER OF ACCURATE 0.5 PREDICTIONS ON TRAIN DATA SET: 0.003888496357217808 ± 0.006191106136429185\n",
      "AVG NUMBER OF ACCURATE 1 PREDICTIONS ON TRAIN DATA SET: 0.32933873495044746 ± 0.058207506370473\n",
      "POWER SPECTRUM MEAN ERROR ON TRAIN DATA SET: inf ± nan\n",
      "TEMPORAL DISTANCE ON TRAIN DATA SET: 0.3937893761888941 ± 0.06354253933361555\n",
      "GEOMETRICAL DISTANCE ON TRAIN DATA SET: inf ± nan\n",
      "\n",
      "\n",
      "AVERAGE RMNSE ERROR ON TEST DATA SET: 1.8209519736174944 ± 0.30949158925733844\n",
      "AVG NUMBER OF ACCURATE 0.5 PREDICTIONS ON TEST DATA SET: 0.002705040944151519 ± 0.004290390221244666\n",
      "AVG NUMBER OF ACCURATE 1 PREDICTIONS ON TEST DATA SET: 0.2936660074994492 ± 0.06610011401672641\n",
      "POWER SPECTRUM MEAN ERROR ON TEST DATA SET: inf ± nan\n",
      "TEMPORAL DISTANCE ON TEST DATA SET: 0.36424363938373355 ± 0.05033186852838239\n",
      "GEOMETRICAL DISTANCE ON TEST DATA SET: inf ± nan\n"
     ]
    }
   ],
   "source": [
    "!bash ./1_MovedPGClustered_ESN_Evaluate_Tuned_Model.sh \"evaluate_tuned_model\" 40 1 1 0 \"grid_search_for_md_5.json\" 5"
   ]
  },
  {
   "cell_type": "code",
   "execution_count": 83,
   "metadata": {},
   "outputs": [
    {
     "name": "stdout",
     "output_type": "stream",
     "text": [
      "Grid Search Progress:   4%|▍           | 1/25 [00:28<11:33, 28.91s/trial, Current Best Loss=0.22450]/home/user/kuei_jan_CHU/PGClustered_ESN/Methods/./Utils/global_utils.py:274: RuntimeWarning: divide by zero encountered in log10\n",
      "  s_dbfs = 20 * np.log10(s_mag)\n",
      "Grid Search Progress:   8%|▉           | 2/25 [00:55<10:26, 27.26s/trial, Current Best Loss=0.22450]/home/user/kuei_jan_CHU/PGClustered_ESN/Methods/./Utils/global_utils.py:309: RuntimeWarning: invalid value encountered in divide\n",
      "  trajectory = (trajectory-trajectory.mean())/trajectory.std()\n",
      "Grid Search Progress:  16%|█▉          | 4/25 [01:46<09:10, 26.21s/trial, Current Best Loss=0.22450]/home/user/kuei_jan_CHU/PGClustered_ESN/Methods/./Utils/global_utils.py:321: RuntimeWarning: Mean of empty slice\n",
      "  spectrum = np.nanmean(np.array(spectrum),axis=0)\n",
      "Grid Search Progress: 100%|███████████| 25/25 [10:49<00:00, 25.98s/trial, Current Best Loss=0.22450]\n",
      "{'radius': 0.1, 'sigma_input': 0.1}\n"
     ]
    }
   ],
   "source": [
    "!bash ./0_MovedPGClustered_ESN_Tune.sh \"tune\" 250 1 1 1 \"grid_search_for_md_5.json\" 5"
   ]
  },
  {
   "cell_type": "code",
   "execution_count": 104,
   "metadata": {},
   "outputs": [
    {
     "name": "stdout",
     "output_type": "stream",
     "text": [
      "{'radius': 0.1, 'sigma_input': 0.1}\n",
      "/home/user/anaconda3/lib/python3.11/site-packages/numpy/core/_methods.py:236: RuntimeWarning: invalid value encountered in subtract\n",
      "  x = asanyarray(arr - arrmean)\n",
      "AVERAGE RMNSE ERROR ON TRAIN DATA SET: 5.527325063000684 ± 1.7691310020264612\n",
      "AVG NUMBER OF ACCURATE 0.5 PREDICTIONS ON TRAIN DATA SET: 0.27811202207057806 ± 0.01641324831124165\n",
      "AVG NUMBER OF ACCURATE 1 PREDICTIONS ON TRAIN DATA SET: 0.6558033638977339 ± 0.04129792585106009\n",
      "POWER SPECTRUM MEAN ERROR ON TRAIN DATA SET: inf ± nan\n",
      "TEMPORAL DISTANCE ON TRAIN DATA SET: 0.45085329752771963 ± 0.16116966932537485\n",
      "GEOMETRICAL DISTANCE ON TRAIN DATA SET: inf ± nan\n",
      "\n",
      "\n",
      "AVERAGE RMNSE ERROR ON TEST DATA SET: 5.562152663675189 ± 1.8280654294605974\n",
      "AVG NUMBER OF ACCURATE 0.5 PREDICTIONS ON TEST DATA SET: 0.24869470180293027 ± 0.008668603791478463\n",
      "AVG NUMBER OF ACCURATE 1 PREDICTIONS ON TEST DATA SET: 0.581076607815548 ± 0.02899897018356472\n",
      "POWER SPECTRUM MEAN ERROR ON TEST DATA SET: inf ± nan\n",
      "TEMPORAL DISTANCE ON TEST DATA SET: 0.4697211583190657 ± 0.1949276246180132\n",
      "GEOMETRICAL DISTANCE ON TEST DATA SET: inf ± nan\n"
     ]
    }
   ],
   "source": [
    "!bash ./1_MovedPGClustered_ESN_Evaluate_Tuned_Model.sh \"evaluate_tuned_model\" 250 1 1 1 \"grid_search_for_md_5.json\" 5"
   ]
  },
  {
   "cell_type": "code",
   "execution_count": 85,
   "metadata": {},
   "outputs": [
    {
     "name": "stdout",
     "output_type": "stream",
     "text": [
      "Grid Search Progress:   8%|▉           | 2/25 [01:03<12:10, 31.75s/trial, Current Best Loss=0.29431]/home/user/kuei_jan_CHU/PGClustered_ESN/Methods/./Utils/global_utils.py:274: RuntimeWarning: divide by zero encountered in log10\n",
      "  s_dbfs = 20 * np.log10(s_mag)\n",
      "Grid Search Progress:  16%|█▉          | 4/25 [02:03<10:39, 30.43s/trial, Current Best Loss=0.29431]/home/user/kuei_jan_CHU/PGClustered_ESN/Methods/./Utils/global_utils.py:309: RuntimeWarning: invalid value encountered in divide\n",
      "  trajectory = (trajectory-trajectory.mean())/trajectory.std()\n",
      "Grid Search Progress: 100%|███████████| 25/25 [12:41<00:00, 30.45s/trial, Current Best Loss=0.29431]\n",
      "{'radius': 0.1, 'sigma_input': 0.1}\n"
     ]
    }
   ],
   "source": [
    "!bash ./0_MovedPGClustered_ESN_Tune.sh \"tune\" 500 1 1 2 \"grid_search_for_md_5.json\" 5"
   ]
  },
  {
   "cell_type": "code",
   "execution_count": 105,
   "metadata": {},
   "outputs": [
    {
     "name": "stdout",
     "output_type": "stream",
     "text": [
      "{'radius': 0.1, 'sigma_input': 0.1}\n",
      "/home/user/anaconda3/lib/python3.11/site-packages/numpy/core/_methods.py:236: RuntimeWarning: invalid value encountered in subtract\n",
      "  x = asanyarray(arr - arrmean)\n",
      "AVERAGE RMNSE ERROR ON TRAIN DATA SET: 5.662781615749687 ± 0.6384218841900373\n",
      "AVG NUMBER OF ACCURATE 0.5 PREDICTIONS ON TRAIN DATA SET: 0.33880637825497767 ± 0.014877725192833348\n",
      "AVG NUMBER OF ACCURATE 1 PREDICTIONS ON TRAIN DATA SET: 0.5876701451169175 ± 0.026680159051359002\n",
      "POWER SPECTRUM MEAN ERROR ON TRAIN DATA SET: 19.886927024734135 ± 1.8585426622447054\n",
      "TEMPORAL DISTANCE ON TRAIN DATA SET: 0.3335804326706652 ± 0.02915024161345559\n",
      "GEOMETRICAL DISTANCE ON TRAIN DATA SET: inf ± nan\n",
      "\n",
      "\n",
      "AVERAGE RMNSE ERROR ON TEST DATA SET: 5.70218069657562 ± 0.6735532200302217\n",
      "AVG NUMBER OF ACCURATE 0.5 PREDICTIONS ON TEST DATA SET: 0.32291426270808754 ± 0.011034652472903235\n",
      "AVG NUMBER OF ACCURATE 1 PREDICTIONS ON TEST DATA SET: 0.573468680160122 ± 0.013134951574241036\n",
      "POWER SPECTRUM MEAN ERROR ON TEST DATA SET: 19.340204420978893 ± 1.7237528299960296\n",
      "TEMPORAL DISTANCE ON TEST DATA SET: 0.336584694416831 ± 0.034859837695397196\n",
      "GEOMETRICAL DISTANCE ON TEST DATA SET: inf ± nan\n"
     ]
    }
   ],
   "source": [
    "!bash ./1_MovedPGClustered_ESN_Evaluate_Tuned_Model.sh \"evaluate_tuned_model\" 500 1 1 2 \"grid_search_for_md_5.json\" 5"
   ]
  },
  {
   "cell_type": "code",
   "execution_count": 87,
   "metadata": {},
   "outputs": [
    {
     "name": "stdout",
     "output_type": "stream",
     "text": [
      "Grid Search Progress:   0%|                                               | 0/25 [00:00<?, ?trial/s]/home/user/kuei_jan_CHU/PGClustered_ESN/Methods/./Utils/global_utils.py:274: RuntimeWarning: divide by zero encountered in log10\n",
      "  s_dbfs = 20 * np.log10(s_mag)\n",
      "Grid Search Progress: 100%|███████████| 25/25 [16:58<00:00, 40.73s/trial, Current Best Loss=0.30133]\n",
      "{'radius': 0.9, 'sigma_input': 0.1}\n"
     ]
    }
   ],
   "source": [
    "!bash ./0_MovedPGClustered_ESN_Tune.sh \"tune\" 1000 1 1 3 \"grid_search_for_md_5.json\" 5"
   ]
  },
  {
   "cell_type": "code",
   "execution_count": 106,
   "metadata": {},
   "outputs": [
    {
     "name": "stdout",
     "output_type": "stream",
     "text": [
      "{'radius': 0.9, 'sigma_input': 0.1}\n",
      "/home/user/anaconda3/lib/python3.11/site-packages/numpy/core/_methods.py:236: RuntimeWarning: invalid value encountered in subtract\n",
      "  x = asanyarray(arr - arrmean)\n",
      "AVERAGE RMNSE ERROR ON TRAIN DATA SET: 6.752779522149001 ± 0.6598227283366142\n",
      "AVG NUMBER OF ACCURATE 0.5 PREDICTIONS ON TRAIN DATA SET: 0.39459784772810275 ± 0.015754831685571003\n",
      "AVG NUMBER OF ACCURATE 1 PREDICTIONS ON TRAIN DATA SET: 0.6929976768798172 ± 0.04564412188476381\n",
      "POWER SPECTRUM MEAN ERROR ON TRAIN DATA SET: 20.81196617336471 ± 2.5714853060002745\n",
      "TEMPORAL DISTANCE ON TRAIN DATA SET: 0.3623588089475072 ± 0.03439330506768842\n",
      "GEOMETRICAL DISTANCE ON TRAIN DATA SET: inf ± nan\n",
      "\n",
      "\n",
      "AVERAGE RMNSE ERROR ON TEST DATA SET: 6.835996464690531 ± 0.7283421083070082\n",
      "AVG NUMBER OF ACCURATE 0.5 PREDICTIONS ON TEST DATA SET: 0.3232523928261065 ± 0.018346480301100327\n",
      "AVG NUMBER OF ACCURATE 1 PREDICTIONS ON TEST DATA SET: 0.6044075859588549 ± 0.032337421696813994\n",
      "POWER SPECTRUM MEAN ERROR ON TEST DATA SET: 19.76087844076695 ± 3.2257368515001867\n",
      "TEMPORAL DISTANCE ON TEST DATA SET: 0.36964948360131633 ± 0.060562369470631976\n",
      "GEOMETRICAL DISTANCE ON TEST DATA SET: inf ± nan\n"
     ]
    }
   ],
   "source": [
    "!bash ./1_MovedPGClustered_ESN_Evaluate_Tuned_Model.sh \"evaluate_tuned_model\" 1000 1 1 3 \"grid_search_for_md_5.json\" 5"
   ]
  },
  {
   "cell_type": "code",
   "execution_count": 89,
   "metadata": {},
   "outputs": [
    {
     "name": "stdout",
     "output_type": "stream",
     "text": [
      "Grid Search Progress:   0%|                                               | 0/25 [00:00<?, ?trial/s]/home/user/kuei_jan_CHU/PGClustered_ESN/Methods/./Utils/global_utils.py:274: RuntimeWarning: divide by zero encountered in log10\n",
      "  s_dbfs = 20 * np.log10(s_mag)\n",
      "Grid Search Progress: 100%|███████████| 25/25 [23:58<00:00, 57.54s/trial, Current Best Loss=0.27928]\n",
      "{'radius': 0.99, 'sigma_input': 1.0}\n"
     ]
    }
   ],
   "source": [
    "!bash ./0_MovedPGClustered_ESN_Tune.sh \"tune\" 1500 1 1 4 \"grid_search_for_md_5.json\" 5"
   ]
  },
  {
   "cell_type": "code",
   "execution_count": 107,
   "metadata": {},
   "outputs": [
    {
     "name": "stdout",
     "output_type": "stream",
     "text": [
      "{'radius': 0.99, 'sigma_input': 1.0}\n",
      "/home/user/anaconda3/lib/python3.11/site-packages/numpy/core/_methods.py:236: RuntimeWarning: invalid value encountered in subtract\n",
      "  x = asanyarray(arr - arrmean)\n",
      "AVERAGE RMNSE ERROR ON TRAIN DATA SET: 1.5532813542513273 ± 0.01298295134314192\n",
      "AVG NUMBER OF ACCURATE 0.5 PREDICTIONS ON TRAIN DATA SET: 0.15807583017385438 ± 0.008116883735769735\n",
      "AVG NUMBER OF ACCURATE 1 PREDICTIONS ON TRAIN DATA SET: 0.4202957366975422 ± 0.033653715416044935\n",
      "POWER SPECTRUM MEAN ERROR ON TRAIN DATA SET: 3.680692145683223 ± 3.681536127234851\n",
      "TEMPORAL DISTANCE ON TRAIN DATA SET: 0.32998110934883934 ± 0.02383676938013358\n",
      "GEOMETRICAL DISTANCE ON TRAIN DATA SET: inf ± nan\n",
      "\n",
      "\n",
      "AVERAGE RMNSE ERROR ON TEST DATA SET: 1.5532172204709305 ± 0.00917028256323212\n",
      "AVG NUMBER OF ACCURATE 0.5 PREDICTIONS ON TEST DATA SET: 0.1276441195521498 ± 0.004856024114102743\n",
      "AVG NUMBER OF ACCURATE 1 PREDICTIONS ON TEST DATA SET: 0.37126686958479593 ± 0.021347769419123103\n",
      "POWER SPECTRUM MEAN ERROR ON TEST DATA SET: inf ± nan\n",
      "TEMPORAL DISTANCE ON TEST DATA SET: 0.3284276192231983 ± 0.01389098705491655\n",
      "GEOMETRICAL DISTANCE ON TEST DATA SET: inf ± nan\n"
     ]
    }
   ],
   "source": [
    "!bash ./1_MovedPGClustered_ESN_Evaluate_Tuned_Model.sh \"evaluate_tuned_model\" 1500 1 1 4 \"grid_search_for_md_5.json\" 5"
   ]
  },
  {
   "cell_type": "code",
   "execution_count": 91,
   "metadata": {},
   "outputs": [
    {
     "name": "stdout",
     "output_type": "stream",
     "text": [
      "Grid Search Progress:   0%|                                               | 0/25 [00:00<?, ?trial/s]/home/user/kuei_jan_CHU/PGClustered_ESN/Methods/./Utils/global_utils.py:274: RuntimeWarning: divide by zero encountered in log10\n",
      "  s_dbfs = 20 * np.log10(s_mag)\n",
      "Grid Search Progress: 100%|███████████| 25/25 [33:46<00:00, 81.07s/trial, Current Best Loss=0.26311]\n",
      "{'radius': 0.99, 'sigma_input': 1.0}\n"
     ]
    }
   ],
   "source": [
    "!bash ./0_MovedPGClustered_ESN_Tune.sh \"tune\" 2000 1 1 5 \"grid_search_for_md_5.json\" 5"
   ]
  },
  {
   "cell_type": "code",
   "execution_count": 108,
   "metadata": {},
   "outputs": [
    {
     "name": "stdout",
     "output_type": "stream",
     "text": [
      "{'radius': 0.99, 'sigma_input': 1.0}\n",
      "/home/user/anaconda3/lib/python3.11/site-packages/numpy/core/_methods.py:236: RuntimeWarning: invalid value encountered in subtract\n",
      "  x = asanyarray(arr - arrmean)\n",
      "AVERAGE RMNSE ERROR ON TRAIN DATA SET: 1.5750361088884293 ± 0.01232011959967973\n",
      "AVG NUMBER OF ACCURATE 0.5 PREDICTIONS ON TRAIN DATA SET: 0.19307229738881465 ± 0.010552693746954058\n",
      "AVG NUMBER OF ACCURATE 1 PREDICTIONS ON TRAIN DATA SET: 0.46273106650891915 ± 0.024939818289329018\n",
      "POWER SPECTRUM MEAN ERROR ON TRAIN DATA SET: 3.7578008391916327 ± 5.08192529214296\n",
      "TEMPORAL DISTANCE ON TRAIN DATA SET: 0.325852741111793 ± 0.017869953233921057\n",
      "GEOMETRICAL DISTANCE ON TRAIN DATA SET: inf ± nan\n",
      "\n",
      "\n",
      "AVERAGE RMNSE ERROR ON TEST DATA SET: 1.57999300297705 ± 0.012937237141004681\n",
      "AVG NUMBER OF ACCURATE 0.5 PREDICTIONS ON TEST DATA SET: 0.14725566639724835 ± 0.006781595507858143\n",
      "AVG NUMBER OF ACCURATE 1 PREDICTIONS ON TEST DATA SET: 0.40863024762588884 ± 0.030684726024740712\n",
      "POWER SPECTRUM MEAN ERROR ON TEST DATA SET: 1.9491039781127864 ± 1.4884973512639763\n",
      "TEMPORAL DISTANCE ON TEST DATA SET: 0.32882003224162915 ± 0.014224496164452666\n",
      "GEOMETRICAL DISTANCE ON TEST DATA SET: inf ± nan\n"
     ]
    }
   ],
   "source": [
    "!bash ./1_MovedPGClustered_ESN_Evaluate_Tuned_Model.sh \"evaluate_tuned_model\" 2000 1 1 5 \"grid_search_for_md_5.json\" 5"
   ]
  },
  {
   "cell_type": "code",
   "execution_count": 93,
   "metadata": {},
   "outputs": [
    {
     "name": "stdout",
     "output_type": "stream",
     "text": [
      "Grid Search Progress:   0%|                                               | 0/25 [00:00<?, ?trial/s]/home/user/kuei_jan_CHU/PGClustered_ESN/Methods/./Utils/global_utils.py:274: RuntimeWarning: divide by zero encountered in log10\n",
      "  s_dbfs = 20 * np.log10(s_mag)\n",
      "Grid Search Progress: 100%|████████| 25/25 [1:03:02<00:00, 151.30s/trial, Current Best Loss=0.25075]\n",
      "{'radius': 0.7, 'sigma_input': 1.5}\n"
     ]
    }
   ],
   "source": [
    "!bash ./0_MovedPGClustered_ESN_Tune.sh \"tune\" 2500 1 1 6 \"grid_search_for_md_5.json\" 5"
   ]
  },
  {
   "cell_type": "code",
   "execution_count": 109,
   "metadata": {},
   "outputs": [
    {
     "name": "stdout",
     "output_type": "stream",
     "text": [
      "{'radius': 0.7, 'sigma_input': 1.5}\n",
      "/home/user/anaconda3/lib/python3.11/site-packages/numpy/core/_methods.py:236: RuntimeWarning: invalid value encountered in subtract\n",
      "  x = asanyarray(arr - arrmean)\n",
      "AVERAGE RMNSE ERROR ON TRAIN DATA SET: 1.525157890479043 ± 0.0053565255355030985\n",
      "AVG NUMBER OF ACCURATE 0.5 PREDICTIONS ON TRAIN DATA SET: 0.14488875557111575 ± 0.010145312318234942\n",
      "AVG NUMBER OF ACCURATE 1 PREDICTIONS ON TRAIN DATA SET: 0.3991626043213584 ± 0.03406944100758548\n",
      "POWER SPECTRUM MEAN ERROR ON TRAIN DATA SET: inf ± nan\n",
      "TEMPORAL DISTANCE ON TRAIN DATA SET: 0.31781902183685895 ± 0.011030994533825514\n",
      "GEOMETRICAL DISTANCE ON TRAIN DATA SET: inf ± nan\n",
      "\n",
      "\n",
      "AVERAGE RMNSE ERROR ON TEST DATA SET: 1.5252920115091102 ± 0.005688499786370835\n",
      "AVG NUMBER OF ACCURATE 0.5 PREDICTIONS ON TEST DATA SET: 0.10042464505162514 ± 0.005083210278632936\n",
      "AVG NUMBER OF ACCURATE 1 PREDICTIONS ON TEST DATA SET: 0.3296768650684664 ± 0.02070615639533645\n",
      "POWER SPECTRUM MEAN ERROR ON TEST DATA SET: 2.621946254431408 ± 0.228587937832154\n",
      "TEMPORAL DISTANCE ON TEST DATA SET: 0.3153777471035475 ± 0.007367341391162351\n",
      "GEOMETRICAL DISTANCE ON TEST DATA SET: 19.25746177885015 ± 0.5131792699234291\n"
     ]
    }
   ],
   "source": [
    "!bash ./1_MovedPGClustered_ESN_Evaluate_Tuned_Model.sh \"evaluate_tuned_model\" 2500 1 1 6 \"grid_search_for_md_5.json\" 5"
   ]
  },
  {
   "cell_type": "code",
   "execution_count": 95,
   "metadata": {},
   "outputs": [
    {
     "name": "stdout",
     "output_type": "stream",
     "text": [
      "Grid Search Progress:   0%|                                               | 0/25 [00:00<?, ?trial/s]/home/user/kuei_jan_CHU/PGClustered_ESN/Methods/./Utils/global_utils.py:274: RuntimeWarning: divide by zero encountered in log10\n",
      "  s_dbfs = 20 * np.log10(s_mag)\n",
      "Grid Search Progress: 100%|████████| 25/25 [1:20:57<00:00, 194.30s/trial, Current Best Loss=0.23424]\n",
      "{'radius': 0.1, 'sigma_input': 0.5}\n"
     ]
    }
   ],
   "source": [
    "!bash ./0_MovedPGClustered_ESN_Tune.sh \"tune\" 3000 1 1 7 \"grid_search_for_md_5.json\" 5"
   ]
  },
  {
   "cell_type": "code",
   "execution_count": 110,
   "metadata": {},
   "outputs": [
    {
     "name": "stdout",
     "output_type": "stream",
     "text": [
      "{'radius': 0.1, 'sigma_input': 0.5}\n",
      "/home/user/anaconda3/lib/python3.11/site-packages/numpy/core/_methods.py:236: RuntimeWarning: invalid value encountered in subtract\n",
      "  x = asanyarray(arr - arrmean)\n",
      "AVERAGE RMNSE ERROR ON TRAIN DATA SET: 2.5978954231927074 ± 0.11670005732996452\n",
      "AVG NUMBER OF ACCURATE 0.5 PREDICTIONS ON TRAIN DATA SET: 0.4576591147386351 ± 0.015160338260879853\n",
      "AVG NUMBER OF ACCURATE 1 PREDICTIONS ON TRAIN DATA SET: 0.7310373151569479 ± 0.030178941772100412\n",
      "POWER SPECTRUM MEAN ERROR ON TRAIN DATA SET: 5.523060771857756 ± 1.2853300742707483\n",
      "TEMPORAL DISTANCE ON TRAIN DATA SET: 0.3247925355302024 ± 0.12467699130917664\n",
      "GEOMETRICAL DISTANCE ON TRAIN DATA SET: inf ± nan\n",
      "\n",
      "\n",
      "AVERAGE RMNSE ERROR ON TEST DATA SET: 2.599133486055926 ± 0.11760319888019903\n",
      "AVG NUMBER OF ACCURATE 0.5 PREDICTIONS ON TEST DATA SET: 0.29417320267647773 ± 0.00891407447885051\n",
      "AVG NUMBER OF ACCURATE 1 PREDICTIONS ON TEST DATA SET: 0.5489542466037487 ± 0.020568346963884487\n",
      "POWER SPECTRUM MEAN ERROR ON TEST DATA SET: 5.283579461457327 ± 2.881002900579826\n",
      "TEMPORAL DISTANCE ON TEST DATA SET: 0.31771277955089444 ± 0.13837069418506354\n",
      "GEOMETRICAL DISTANCE ON TEST DATA SET: inf ± nan\n"
     ]
    }
   ],
   "source": [
    "!bash ./1_MovedPGClustered_ESN_Evaluate_Tuned_Model.sh \"evaluate_tuned_model\" 3000 1 1 7 \"grid_search_for_md_5.json\" 5"
   ]
  },
  {
   "cell_type": "code",
   "execution_count": 97,
   "metadata": {},
   "outputs": [
    {
     "name": "stdout",
     "output_type": "stream",
     "text": [
      "Grid Search Progress:   0%|                                               | 0/25 [00:00<?, ?trial/s]/home/user/kuei_jan_CHU/PGClustered_ESN/Methods/./Utils/global_utils.py:274: RuntimeWarning: divide by zero encountered in log10\n",
      "  s_dbfs = 20 * np.log10(s_mag)\n",
      "Grid Search Progress: 100%|████████| 25/25 [2:17:58<00:00, 331.13s/trial, Current Best Loss=0.22928]\n",
      "{'radius': 0.9, 'sigma_input': 0.5}\n"
     ]
    }
   ],
   "source": [
    "!bash ./0_MovedPGClustered_ESN_Tune.sh \"tune\" 3500 1 1 8 \"grid_search_for_md_5.json\" 5"
   ]
  },
  {
   "cell_type": "code",
   "execution_count": 111,
   "metadata": {},
   "outputs": [
    {
     "name": "stdout",
     "output_type": "stream",
     "text": [
      "{'radius': 0.9, 'sigma_input': 0.5}\n",
      "/home/user/anaconda3/lib/python3.11/site-packages/numpy/core/_methods.py:236: RuntimeWarning: invalid value encountered in subtract\n",
      "  x = asanyarray(arr - arrmean)\n",
      "AVERAGE RMNSE ERROR ON TRAIN DATA SET: 2.3930388339747366 ± 0.16616318254556012\n",
      "AVG NUMBER OF ACCURATE 0.5 PREDICTIONS ON TRAIN DATA SET: 0.4852167193571786 ± 0.016736586956222013\n",
      "AVG NUMBER OF ACCURATE 1 PREDICTIONS ON TRAIN DATA SET: 0.7871669147480919 ± 0.028007707728723817\n",
      "POWER SPECTRUM MEAN ERROR ON TRAIN DATA SET: 4.988358564782555 ± 2.4999330860018874\n",
      "TEMPORAL DISTANCE ON TRAIN DATA SET: 0.3340279083394101 ± 0.17185583790096162\n",
      "GEOMETRICAL DISTANCE ON TRAIN DATA SET: inf ± nan\n",
      "\n",
      "\n",
      "AVERAGE RMNSE ERROR ON TEST DATA SET: 2.4118702447639166 ± 0.1801431182860148\n",
      "AVG NUMBER OF ACCURATE 0.5 PREDICTIONS ON TEST DATA SET: 0.2706731594741614 ± 0.012661832977247163\n",
      "AVG NUMBER OF ACCURATE 1 PREDICTIONS ON TEST DATA SET: 0.5191987962180822 ± 0.0260102074039431\n",
      "POWER SPECTRUM MEAN ERROR ON TEST DATA SET: 6.879193697483977 ± 6.757588270429186\n",
      "TEMPORAL DISTANCE ON TEST DATA SET: 0.3564947289420292 ± 0.18977576563193838\n",
      "GEOMETRICAL DISTANCE ON TEST DATA SET: inf ± nan\n"
     ]
    }
   ],
   "source": [
    "!bash ./1_MovedPGClustered_ESN_Evaluate_Tuned_Model.sh \"evaluate_tuned_model\" 3500 1 1 8 \"grid_search_for_md_5.json\" 5"
   ]
  },
  {
   "cell_type": "code",
   "execution_count": 99,
   "metadata": {},
   "outputs": [
    {
     "name": "stdout",
     "output_type": "stream",
     "text": [
      "Grid Search Progress:   0%|                                               | 0/25 [00:00<?, ?trial/s]/home/user/kuei_jan_CHU/PGClustered_ESN/Methods/./Utils/global_utils.py:274: RuntimeWarning: divide by zero encountered in log10\n",
      "  s_dbfs = 20 * np.log10(s_mag)\n",
      "Grid Search Progress: 100%|████████| 25/25 [2:58:53<00:00, 429.33s/trial, Current Best Loss=0.22818]\n",
      "{'radius': 0.99, 'sigma_input': 0.5}\n"
     ]
    }
   ],
   "source": [
    "!bash ./0_MovedPGClustered_ESN_Tune.sh \"tune\" 4000 1 1 9 \"grid_search_for_md_5.json\" 5"
   ]
  },
  {
   "cell_type": "code",
   "execution_count": 112,
   "metadata": {},
   "outputs": [
    {
     "name": "stdout",
     "output_type": "stream",
     "text": [
      "{'radius': 0.99, 'sigma_input': 0.5}\n",
      "/home/user/anaconda3/lib/python3.11/site-packages/numpy/core/_methods.py:236: RuntimeWarning: invalid value encountered in subtract\n",
      "  x = asanyarray(arr - arrmean)\n",
      "AVERAGE RMNSE ERROR ON TRAIN DATA SET: 2.2984307638980175 ± 0.08234556953368712\n",
      "AVG NUMBER OF ACCURATE 0.5 PREDICTIONS ON TRAIN DATA SET: 0.51987505645412 ± 0.014509092050161274\n",
      "AVG NUMBER OF ACCURATE 1 PREDICTIONS ON TRAIN DATA SET: 0.8081309820652661 ± 0.02648446105030397\n",
      "POWER SPECTRUM MEAN ERROR ON TRAIN DATA SET: 5.491092784786166 ± 0.6914147633519437\n",
      "TEMPORAL DISTANCE ON TRAIN DATA SET: 0.24578779701570985 ± 0.013192685967890245\n",
      "GEOMETRICAL DISTANCE ON TRAIN DATA SET: inf ± nan\n",
      "\n",
      "\n",
      "AVERAGE RMNSE ERROR ON TEST DATA SET: 2.3048027765476777 ± 0.0821535135722703\n",
      "AVG NUMBER OF ACCURATE 0.5 PREDICTIONS ON TEST DATA SET: 0.26746092335298144 ± 0.012981730765685843\n",
      "AVG NUMBER OF ACCURATE 1 PREDICTIONS ON TEST DATA SET: 0.514803104683836 ± 0.023744463779133765\n",
      "POWER SPECTRUM MEAN ERROR ON TEST DATA SET: 4.574001383927732 ± 0.8375325238058074\n",
      "TEMPORAL DISTANCE ON TEST DATA SET: 0.24031904259251857 ± 0.01355350834269605\n",
      "GEOMETRICAL DISTANCE ON TEST DATA SET: inf ± nan\n"
     ]
    }
   ],
   "source": [
    "!bash ./1_MovedPGClustered_ESN_Evaluate_Tuned_Model.sh \"evaluate_tuned_model\" 4000 1 1 9 \"grid_search_for_md_5.json\" 5"
   ]
  },
  {
   "cell_type": "code",
   "execution_count": null,
   "metadata": {},
   "outputs": [],
   "source": []
  },
  {
   "cell_type": "code",
   "execution_count": null,
   "metadata": {},
   "outputs": [],
   "source": []
  },
  {
   "cell_type": "code",
   "execution_count": null,
   "metadata": {},
   "outputs": [],
   "source": []
  },
  {
   "cell_type": "code",
   "execution_count": null,
   "metadata": {},
   "outputs": [],
   "source": []
  },
  {
   "cell_type": "code",
   "execution_count": null,
   "metadata": {},
   "outputs": [],
   "source": []
  },
  {
   "cell_type": "code",
   "execution_count": null,
   "metadata": {},
   "outputs": [],
   "source": []
  },
  {
   "cell_type": "code",
   "execution_count": null,
   "metadata": {},
   "outputs": [],
   "source": []
  },
  {
   "cell_type": "code",
   "execution_count": null,
   "metadata": {},
   "outputs": [],
   "source": []
  },
  {
   "cell_type": "code",
   "execution_count": null,
   "metadata": {},
   "outputs": [],
   "source": []
  },
  {
   "cell_type": "code",
   "execution_count": null,
   "metadata": {},
   "outputs": [],
   "source": []
  },
  {
   "cell_type": "code",
   "execution_count": null,
   "metadata": {},
   "outputs": [],
   "source": []
  },
  {
   "cell_type": "code",
   "execution_count": null,
   "metadata": {},
   "outputs": [],
   "source": []
  },
  {
   "cell_type": "code",
   "execution_count": null,
   "metadata": {},
   "outputs": [],
   "source": []
  },
  {
   "cell_type": "code",
   "execution_count": null,
   "metadata": {},
   "outputs": [],
   "source": []
  },
  {
   "cell_type": "code",
   "execution_count": null,
   "metadata": {},
   "outputs": [],
   "source": []
  },
  {
   "cell_type": "code",
   "execution_count": null,
   "metadata": {},
   "outputs": [],
   "source": []
  },
  {
   "cell_type": "code",
   "execution_count": null,
   "metadata": {},
   "outputs": [],
   "source": []
  },
  {
   "cell_type": "code",
   "execution_count": null,
   "metadata": {},
   "outputs": [],
   "source": []
  },
  {
   "cell_type": "code",
   "execution_count": null,
   "metadata": {},
   "outputs": [],
   "source": []
  },
  {
   "cell_type": "code",
   "execution_count": null,
   "metadata": {},
   "outputs": [],
   "source": []
  },
  {
   "cell_type": "code",
   "execution_count": null,
   "metadata": {},
   "outputs": [],
   "source": []
  },
  {
   "cell_type": "code",
   "execution_count": null,
   "metadata": {},
   "outputs": [],
   "source": []
  },
  {
   "cell_type": "code",
   "execution_count": null,
   "metadata": {},
   "outputs": [],
   "source": []
  },
  {
   "cell_type": "code",
   "execution_count": null,
   "metadata": {},
   "outputs": [],
   "source": []
  },
  {
   "cell_type": "code",
   "execution_count": null,
   "metadata": {
    "editable": true,
    "slideshow": {
     "slide_type": ""
    },
    "tags": []
   },
   "outputs": [],
   "source": []
  },
  {
   "cell_type": "code",
   "execution_count": null,
   "metadata": {},
   "outputs": [],
   "source": []
  },
  {
   "cell_type": "code",
   "execution_count": null,
   "metadata": {},
   "outputs": [],
   "source": []
  }
 ],
 "metadata": {
  "kernelspec": {
   "display_name": "base",
   "language": "python",
   "name": "python3"
  },
  "language_info": {
   "codemirror_mode": {
    "name": "ipython",
    "version": 3
   },
   "file_extension": ".py",
   "mimetype": "text/x-python",
   "name": "python",
   "nbconvert_exporter": "python",
   "pygments_lexer": "ipython3",
   "version": "3.11.8"
  }
 },
 "nbformat": 4,
 "nbformat_minor": 4
}
