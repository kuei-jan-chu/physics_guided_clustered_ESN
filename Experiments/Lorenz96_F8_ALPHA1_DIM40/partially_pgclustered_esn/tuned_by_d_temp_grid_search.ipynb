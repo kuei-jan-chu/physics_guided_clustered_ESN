{
 "cells": [
  {
   "cell_type": "markdown",
   "metadata": {},
   "source": [
    "### probability of wrong coupling = 0.1"
   ]
  },
  {
   "cell_type": "code",
   "execution_count": 1,
   "metadata": {},
   "outputs": [
    {
     "name": "stdout",
     "output_type": "stream",
     "text": [
      "Grid Search Progress:   0%|                                               | 0/25 [00:00<?, ?trial/s]/home/user/kuei_jan_CHU/PGClustered_ESN/Methods/./Utils/global_utils.py:274: RuntimeWarning: divide by zero encountered in log10\n",
      "  s_dbfs = 20 * np.log10(s_mag)\n",
      "/home/user/kuei_jan_CHU/PGClustered_ESN/Methods/./Utils/global_utils.py:309: RuntimeWarning: invalid value encountered in divide\n",
      "  trajectory = (trajectory-trajectory.mean())/trajectory.std()\n",
      "Grid Search Progress:  16%|█▉          | 4/25 [04:53<24:58, 71.33s/trial, Current Best Loss=0.52339]/home/user/kuei_jan_CHU/PGClustered_ESN/Methods/./Utils/global_utils.py:321: RuntimeWarning: Mean of empty slice\n",
      "  spectrum = np.nanmean(np.array(spectrum),axis=0)\n",
      "Grid Search Progress: 100%|███████████| 25/25 [27:25<00:00, 65.82s/trial, Current Best Loss=0.37252]\n",
      "{'radius': 0.99, 'sigma_input': 0.1}\n"
     ]
    }
   ],
   "source": [
    "!bash ./0_PartPGClustered_ESN_Tune.sh \"tune\" 40 1 1 0 \"grid_search_for_pwc_0.1.json\" 0.1"
   ]
  },
  {
   "cell_type": "code",
   "execution_count": 1,
   "metadata": {},
   "outputs": [
    {
     "name": "stdout",
     "output_type": "stream",
     "text": [
      "{'radius': 0.99, 'sigma_input': 0.1}\n",
      "/home/user/anaconda3/lib/python3.11/site-packages/numpy/core/_methods.py:236: RuntimeWarning: invalid value encountered in subtract\n",
      "  x = asanyarray(arr - arrmean)\n",
      "AVERAGE RMNSE ERROR ON TRAIN DATA SET: 1.7860964742996672 ± 0.25127072391469135\n",
      "AVG NUMBER OF ACCURATE 0.5 PREDICTIONS ON TRAIN DATA SET: 0.0006762602360378797 ± 0.0020287807081136393\n",
      "AVG NUMBER OF ACCURATE 1 PREDICTIONS ON TRAIN DATA SET: 0.3376229228419115 ± 0.09522145764532203\n",
      "POWER SPECTRUM MEAN ERROR ON TRAIN DATA SET: inf ± nan\n",
      "TEMPORAL DISTANCE ON TRAIN DATA SET: 0.36770563678895496 ± 0.05006549451646389\n",
      "GEOMETRICAL DISTANCE ON TRAIN DATA SET: inf ± nan\n",
      "\n",
      "\n",
      "AVERAGE RMNSE ERROR ON TEST DATA SET: 1.7692125062333144 ± 0.2446097190237421\n",
      "AVG NUMBER OF ACCURATE 0.5 PREDICTIONS ON TEST DATA SET: 0.00033813011801893985 ± 0.0010143903540568197\n",
      "AVG NUMBER OF ACCURATE 1 PREDICTIONS ON TEST DATA SET: 0.2622199065236879 ± 0.06331909672710458\n",
      "POWER SPECTRUM MEAN ERROR ON TEST DATA SET: inf ± nan\n",
      "TEMPORAL DISTANCE ON TEST DATA SET: 0.3888195405400217 ± 0.0772744394873977\n",
      "GEOMETRICAL DISTANCE ON TEST DATA SET: inf ± nan\n"
     ]
    }
   ],
   "source": [
    "!bash ./1_PartPGClustered_ESN_Evaluate_Tuned_Model.sh \"evaluate_tuned_model\" 40 1 1 0 \"grid_search_for_pwc_0.1.json\" 0.1"
   ]
  },
  {
   "cell_type": "code",
   "execution_count": 3,
   "metadata": {},
   "outputs": [
    {
     "name": "stdout",
     "output_type": "stream",
     "text": [
      "Grid Search Progress:   8%|▉           | 2/25 [02:04<23:27, 61.21s/trial, Current Best Loss=0.26478]/home/user/kuei_jan_CHU/PGClustered_ESN/Methods/./Utils/global_utils.py:274: RuntimeWarning: divide by zero encountered in log10\n",
      "  s_dbfs = 20 * np.log10(s_mag)\n",
      "Grid Search Progress:  12%|█▍          | 3/25 [03:04<22:11, 60.51s/trial, Current Best Loss=0.26478]/home/user/kuei_jan_CHU/PGClustered_ESN/Methods/./Utils/global_utils.py:309: RuntimeWarning: invalid value encountered in divide\n",
      "  trajectory = (trajectory-trajectory.mean())/trajectory.std()\n",
      "Grid Search Progress: 100%|███████████| 25/25 [26:47<00:00, 64.32s/trial, Current Best Loss=0.26478]\n",
      "{'radius': 0.1, 'sigma_input': 0.1}\n"
     ]
    }
   ],
   "source": [
    "!bash ./0_PartPGClustered_ESN_Tune.sh \"tune\" 250 1 1 1 \"grid_search_for_pwc_0.1.json\" 0.1"
   ]
  },
  {
   "cell_type": "code",
   "execution_count": 2,
   "metadata": {},
   "outputs": [
    {
     "name": "stdout",
     "output_type": "stream",
     "text": [
      "{'radius': 0.1, 'sigma_input': 0.1}\n",
      "/home/user/anaconda3/lib/python3.11/site-packages/numpy/core/_methods.py:236: RuntimeWarning: invalid value encountered in subtract\n",
      "  x = asanyarray(arr - arrmean)\n",
      "AVERAGE RMNSE ERROR ON TRAIN DATA SET: 3.1915472566363996 ± 1.5430065476080306\n",
      "AVG NUMBER OF ACCURATE 0.5 PREDICTIONS ON TRAIN DATA SET: 0.572792419924084 ± 0.04973961845511277\n",
      "AVG NUMBER OF ACCURATE 1 PREDICTIONS ON TRAIN DATA SET: 1.1381459772517515 ± 0.12750195855998364\n",
      "POWER SPECTRUM MEAN ERROR ON TRAIN DATA SET: inf ± nan\n",
      "TEMPORAL DISTANCE ON TRAIN DATA SET: 0.3454135490786022 ± 0.15963907123276186\n",
      "GEOMETRICAL DISTANCE ON TRAIN DATA SET: inf ± nan\n",
      "\n",
      "\n",
      "AVERAGE RMNSE ERROR ON TEST DATA SET: 3.215125624970883 ± 1.4107273637103332\n",
      "AVG NUMBER OF ACCURATE 0.5 PREDICTIONS ON TEST DATA SET: 0.536443432237048 ± 0.06463085449031994\n",
      "AVG NUMBER OF ACCURATE 1 PREDICTIONS ON TEST DATA SET: 1.1513330518544902 ± 0.11314482503582256\n",
      "POWER SPECTRUM MEAN ERROR ON TEST DATA SET: 5.151742564413899 ± 2.3102365232719544\n",
      "TEMPORAL DISTANCE ON TEST DATA SET: 0.36517949587085613 ± 0.1633701428360324\n",
      "GEOMETRICAL DISTANCE ON TEST DATA SET: inf ± nan\n"
     ]
    }
   ],
   "source": [
    "!bash ./1_PartPGClustered_ESN_Evaluate_Tuned_Model.sh \"evaluate_tuned_model\" 250 1 1 1 \"grid_search_for_pwc_0.1.json\" 0.1"
   ]
  },
  {
   "cell_type": "code",
   "execution_count": 5,
   "metadata": {},
   "outputs": [
    {
     "name": "stdout",
     "output_type": "stream",
     "text": [
      "Grid Search Progress:   8%|▉           | 2/25 [02:07<24:43, 64.50s/trial, Current Best Loss=0.13020]/home/user/kuei_jan_CHU/PGClustered_ESN/Methods/./Utils/global_utils.py:274: RuntimeWarning: divide by zero encountered in log10\n",
      "  s_dbfs = 20 * np.log10(s_mag)\n",
      "Grid Search Progress:  16%|█▉          | 4/25 [04:28<24:04, 68.79s/trial, Current Best Loss=0.13020]/home/user/kuei_jan_CHU/PGClustered_ESN/Methods/./Utils/global_utils.py:309: RuntimeWarning: invalid value encountered in divide\n",
      "  trajectory = (trajectory-trajectory.mean())/trajectory.std()\n",
      "Grid Search Progress: 100%|███████████| 25/25 [27:17<00:00, 65.51s/trial, Current Best Loss=0.13020]\n",
      "{'radius': 0.1, 'sigma_input': 0.1}\n"
     ]
    }
   ],
   "source": [
    "!bash ./0_PartPGClustered_ESN_Tune.sh \"tune\" 500 1 1 2 \"grid_search_for_pwc_0.1.json\" 0.1"
   ]
  },
  {
   "cell_type": "code",
   "execution_count": 3,
   "metadata": {},
   "outputs": [
    {
     "name": "stdout",
     "output_type": "stream",
     "text": [
      "{'radius': 0.1, 'sigma_input': 0.1}\n",
      "/home/user/anaconda3/lib/python3.11/site-packages/numpy/core/_methods.py:236: RuntimeWarning: invalid value encountered in subtract\n",
      "  x = asanyarray(arr - arrmean)\n",
      "AVERAGE RMNSE ERROR ON TRAIN DATA SET: 1.592336874846081 ± 0.593275553518388\n",
      "AVG NUMBER OF ACCURATE 0.5 PREDICTIONS ON TRAIN DATA SET: 1.6237008267269488 ± 0.22525684361755\n",
      "AVG NUMBER OF ACCURATE 1 PREDICTIONS ON TRAIN DATA SET: 2.864300229738439 ± 0.3127875393611291\n",
      "POWER SPECTRUM MEAN ERROR ON TRAIN DATA SET: 0.6777918325280889 ± 0.9936012430072284\n",
      "TEMPORAL DISTANCE ON TRAIN DATA SET: 0.13963313784682502 ± 0.08170522007972274\n",
      "GEOMETRICAL DISTANCE ON TRAIN DATA SET: inf ± nan\n",
      "\n",
      "\n",
      "AVERAGE RMNSE ERROR ON TEST DATA SET: 1.5249802624845081 ± 0.37680041602988346\n",
      "AVG NUMBER OF ACCURATE 0.5 PREDICTIONS ON TEST DATA SET: 1.5721359837290607 ± 0.13451768486408586\n",
      "AVG NUMBER OF ACCURATE 1 PREDICTIONS ON TEST DATA SET: 2.6686919564644827 ± 0.1373329741660767\n",
      "POWER SPECTRUM MEAN ERROR ON TEST DATA SET: 0.8572706988236659 ± 0.7182312091161158\n",
      "TEMPORAL DISTANCE ON TEST DATA SET: 0.13306833001833718 ± 0.059834440557231305\n",
      "GEOMETRICAL DISTANCE ON TEST DATA SET: inf ± nan\n"
     ]
    }
   ],
   "source": [
    "!bash ./1_PartPGClustered_ESN_Evaluate_Tuned_Model.sh \"evaluate_tuned_model\" 500 1 1 2 \"grid_search_for_pwc_0.1.json\" 0.1"
   ]
  },
  {
   "cell_type": "code",
   "execution_count": 7,
   "metadata": {},
   "outputs": [
    {
     "name": "stdout",
     "output_type": "stream",
     "text": [
      "Grid Search Progress:  12%|█▍          | 3/25 [03:44<27:07, 74.00s/trial, Current Best Loss=0.12674]/home/user/kuei_jan_CHU/PGClustered_ESN/Methods/./Utils/global_utils.py:274: RuntimeWarning: divide by zero encountered in log10\n",
      "  s_dbfs = 20 * np.log10(s_mag)\n",
      "Grid Search Progress: 100%|███████████| 25/25 [32:07<00:00, 77.09s/trial, Current Best Loss=0.12400]\n",
      "{'radius': 0.9, 'sigma_input': 0.1}\n"
     ]
    }
   ],
   "source": [
    "!bash ./0_PartPGClustered_ESN_Tune.sh \"tune\" 1000 1 1 3 \"grid_search_for_pwc_0.1.json\" 0.1"
   ]
  },
  {
   "cell_type": "code",
   "execution_count": 4,
   "metadata": {},
   "outputs": [
    {
     "name": "stdout",
     "output_type": "stream",
     "text": [
      "{'radius': 0.9, 'sigma_input': 0.1}\n",
      "AVERAGE RMNSE ERROR ON TRAIN DATA SET: 1.3815893402809203 ± 0.009096813408844377\n",
      "AVG NUMBER OF ACCURATE 0.5 PREDICTIONS ON TRAIN DATA SET: 1.8935286609060633 ± 0.19689076078802045\n",
      "AVG NUMBER OF ACCURATE 1 PREDICTIONS ON TRAIN DATA SET: 3.214264901888042 ± 0.3481581188449787\n",
      "POWER SPECTRUM MEAN ERROR ON TRAIN DATA SET: 0.4737137609868678 ± 0.2775575402562641\n",
      "TEMPORAL DISTANCE ON TRAIN DATA SET: 0.1098631571004188 ± 0.001627791279171167\n",
      "GEOMETRICAL DISTANCE ON TRAIN DATA SET: 13.15541528057199 ± 0.12143357465918275\n",
      "\n",
      "\n",
      "AVERAGE RMNSE ERROR ON TEST DATA SET: 1.3921602595927314 ± 0.0066845518930219346\n",
      "AVG NUMBER OF ACCURATE 0.5 PREDICTIONS ON TEST DATA SET: 1.643481438631057 ± 0.11827173346880616\n",
      "AVG NUMBER OF ACCURATE 1 PREDICTIONS ON TEST DATA SET: 2.7736813581093633 ± 0.19265881477752925\n",
      "POWER SPECTRUM MEAN ERROR ON TEST DATA SET: 0.6878475502815624 ± 0.2361013836211052\n",
      "TEMPORAL DISTANCE ON TEST DATA SET: 0.110443250170457 ± 0.001733139081176253\n",
      "GEOMETRICAL DISTANCE ON TEST DATA SET: 13.297188658301966 ± 0.15922324823913608\n"
     ]
    }
   ],
   "source": [
    "!bash ./1_PartPGClustered_ESN_Evaluate_Tuned_Model.sh \"evaluate_tuned_model\" 1000 1 1 3 \"grid_search_for_pwc_0.1.json\" 0.1"
   ]
  },
  {
   "cell_type": "code",
   "execution_count": 9,
   "metadata": {},
   "outputs": [
    {
     "name": "stdout",
     "output_type": "stream",
     "text": [
      "Grid Search Progress:  16%|█▊         | 4/25 [08:03<40:38, 116.10s/trial, Current Best Loss=0.12449]/home/user/kuei_jan_CHU/PGClustered_ESN/Methods/./Utils/global_utils.py:274: RuntimeWarning: divide by zero encountered in log10\n",
      "  s_dbfs = 20 * np.log10(s_mag)\n",
      "Grid Search Progress: 100%|██████████| 25/25 [44:24<00:00, 106.60s/trial, Current Best Loss=0.12390]\n",
      "{'radius': 0.7, 'sigma_input': 0.1}\n"
     ]
    }
   ],
   "source": [
    "!bash ./0_PartPGClustered_ESN_Tune.sh \"tune\" 1500 1 1 4 \"grid_search_for_pwc_0.1.json\" 0.1"
   ]
  },
  {
   "cell_type": "code",
   "execution_count": 5,
   "metadata": {},
   "outputs": [
    {
     "name": "stdout",
     "output_type": "stream",
     "text": [
      "{'radius': 0.7, 'sigma_input': 0.1}\n",
      "AVERAGE RMNSE ERROR ON TRAIN DATA SET: 1.3799562881829153 ± 0.00906569584303175\n",
      "AVG NUMBER OF ACCURATE 0.5 PREDICTIONS ON TRAIN DATA SET: 2.224896176564624 ± 0.16097621725479172\n",
      "AVG NUMBER OF ACCURATE 1 PREDICTIONS ON TRAIN DATA SET: 3.6705714961546008 ± 0.2827437597243266\n",
      "POWER SPECTRUM MEAN ERROR ON TRAIN DATA SET: 0.3413109221286716 ± 0.21621805996767796\n",
      "TEMPORAL DISTANCE ON TRAIN DATA SET: 0.10880378947716114 ± 0.0017231196197453908\n",
      "GEOMETRICAL DISTANCE ON TRAIN DATA SET: 13.112307815501186 ± 0.12122809371026946\n",
      "\n",
      "\n",
      "AVERAGE RMNSE ERROR ON TEST DATA SET: 1.3840991428549365 ± 0.006145779895880276\n",
      "AVG NUMBER OF ACCURATE 0.5 PREDICTIONS ON TEST DATA SET: 1.9579424483886712 ± 0.133418899340241\n",
      "AVG NUMBER OF ACCURATE 1 PREDICTIONS ON TEST DATA SET: 3.1789303045550623 ± 0.24896234947822382\n",
      "POWER SPECTRUM MEAN ERROR ON TEST DATA SET: 0.5639272831941042 ± 0.3762096918748301\n",
      "TEMPORAL DISTANCE ON TEST DATA SET: 0.10800585662371973 ± 0.001357150927267163\n",
      "GEOMETRICAL DISTANCE ON TEST DATA SET: 13.182167138277894 ± 0.08219709295949386\n"
     ]
    }
   ],
   "source": [
    "!bash ./1_PartPGClustered_ESN_Evaluate_Tuned_Model.sh \"evaluate_tuned_model\" 1500 1 1 4 \"grid_search_for_pwc_0.1.json\" 0.1"
   ]
  },
  {
   "cell_type": "code",
   "execution_count": 11,
   "metadata": {},
   "outputs": [
    {
     "name": "stdout",
     "output_type": "stream",
     "text": [
      "Grid Search Progress: 100%|██████████| 25/25 [56:49<00:00, 136.39s/trial, Current Best Loss=0.12257]\n",
      "{'radius': 0.99, 'sigma_input': 0.1}\n"
     ]
    }
   ],
   "source": [
    "!bash ./0_PartPGClustered_ESN_Tune.sh \"tune\" 2000 1 1 5 \"grid_search_for_pwc_0.1.json\" 0.1"
   ]
  },
  {
   "cell_type": "code",
   "execution_count": 6,
   "metadata": {},
   "outputs": [
    {
     "name": "stdout",
     "output_type": "stream",
     "text": [
      "{'radius': 0.99, 'sigma_input': 0.1}\n",
      "AVERAGE RMNSE ERROR ON TRAIN DATA SET: 1.3712769661505517 ± 0.013446474097874403\n",
      "AVG NUMBER OF ACCURATE 0.5 PREDICTIONS ON TRAIN DATA SET: 1.8409494275541178 ± 0.12484845065929602\n",
      "AVG NUMBER OF ACCURATE 1 PREDICTIONS ON TRAIN DATA SET: 3.140383471100904 ± 0.19039946016407294\n",
      "POWER SPECTRUM MEAN ERROR ON TRAIN DATA SET: 0.5069109542950372 ± 0.31343545819885443\n",
      "TEMPORAL DISTANCE ON TRAIN DATA SET: 0.10910147952596279 ± 0.0022335747996279566\n",
      "GEOMETRICAL DISTANCE ON TRAIN DATA SET: 12.70615332486618 ± 0.2873130281252893\n",
      "\n",
      "\n",
      "AVERAGE RMNSE ERROR ON TEST DATA SET: 1.3722780620424702 ± 0.014682095602341292\n",
      "AVG NUMBER OF ACCURATE 0.5 PREDICTIONS ON TEST DATA SET: 1.5968194823444433 ± 0.0976436708289025\n",
      "AVG NUMBER OF ACCURATE 1 PREDICTIONS ON TEST DATA SET: 2.7564367220903976 ± 0.23748459976173947\n",
      "POWER SPECTRUM MEAN ERROR ON TEST DATA SET: 0.9164703416443724 ± 0.5477627383114646\n",
      "TEMPORAL DISTANCE ON TEST DATA SET: 0.10897245747777731 ± 0.0018675742890872738\n",
      "GEOMETRICAL DISTANCE ON TEST DATA SET: 12.73675406051539 ± 0.18226800486091851\n"
     ]
    }
   ],
   "source": [
    "!bash ./1_PartPGClustered_ESN_Evaluate_Tuned_Model.sh \"evaluate_tuned_model\" 2000 1 1 5 \"grid_search_for_pwc_0.1.json\" 0.1"
   ]
  },
  {
   "cell_type": "code",
   "execution_count": 13,
   "metadata": {},
   "outputs": [
    {
     "name": "stdout",
     "output_type": "stream",
     "text": [
      "Grid Search Progress:  12%|█        | 3/25 [10:11<1:13:18, 199.95s/trial, Current Best Loss=0.12328]/home/user/kuei_jan_CHU/PGClustered_ESN/Methods/./Utils/global_utils.py:274: RuntimeWarning: divide by zero encountered in log10\n",
      "  s_dbfs = 20 * np.log10(s_mag)\n",
      "Grid Search Progress: 100%|████████| 25/25 [1:16:51<00:00, 184.48s/trial, Current Best Loss=0.12305]\n",
      "{'radius': 0.7, 'sigma_input': 0.1}\n"
     ]
    }
   ],
   "source": [
    "!bash ./0_PartPGClustered_ESN_Tune.sh \"tune\" 2500 1 1 6 \"grid_search_for_pwc_0.1.json\" 0.1"
   ]
  },
  {
   "cell_type": "code",
   "execution_count": 7,
   "metadata": {},
   "outputs": [
    {
     "name": "stdout",
     "output_type": "stream",
     "text": [
      "{'radius': 0.7, 'sigma_input': 0.1}\n",
      "AVERAGE RMNSE ERROR ON TRAIN DATA SET: 1.370379048335338 ± 0.006240848568467533\n",
      "AVG NUMBER OF ACCURATE 0.5 PREDICTIONS ON TRAIN DATA SET: 2.539188121263229 ± 0.2746268693055607\n",
      "AVG NUMBER OF ACCURATE 1 PREDICTIONS ON TRAIN DATA SET: 4.129583131365312 ± 0.5211347556180276\n",
      "POWER SPECTRUM MEAN ERROR ON TRAIN DATA SET: 0.3888422461528549 ± 0.2351934128087217\n",
      "TEMPORAL DISTANCE ON TRAIN DATA SET: 0.10797583116071256 ± 0.0016405486967862282\n",
      "GEOMETRICAL DISTANCE ON TRAIN DATA SET: 13.063575962232289 ± 0.1339521578826575\n",
      "\n",
      "\n",
      "AVERAGE RMNSE ERROR ON TEST DATA SET: 1.3773824108679287 ± 0.007507852298304305\n",
      "AVG NUMBER OF ACCURATE 0.5 PREDICTIONS ON TEST DATA SET: 2.160820519200035 ± 0.15309949638249204\n",
      "AVG NUMBER OF ACCURATE 1 PREDICTIONS ON TEST DATA SET: 3.5126647310397567 ± 0.2780809822546343\n",
      "POWER SPECTRUM MEAN ERROR ON TEST DATA SET: 0.6153947926474236 ± 0.14395551670194354\n",
      "TEMPORAL DISTANCE ON TEST DATA SET: 0.10759088022446864 ± 0.0017617821486155556\n",
      "GEOMETRICAL DISTANCE ON TEST DATA SET: 13.081226875539434 ± 0.1044850307929785\n"
     ]
    }
   ],
   "source": [
    "!bash ./1_PartPGClustered_ESN_Evaluate_Tuned_Model.sh \"evaluate_tuned_model\" 2500 1 1 6 \"grid_search_for_pwc_0.1.json\" 0.1"
   ]
  },
  {
   "cell_type": "code",
   "execution_count": 15,
   "metadata": {},
   "outputs": [
    {
     "name": "stdout",
     "output_type": "stream",
     "text": [
      "Grid Search Progress: 100%|████████| 25/25 [1:25:00<00:00, 204.02s/trial, Current Best Loss=0.12215]\n",
      "{'radius': 0.4, 'sigma_input': 0.1}\n"
     ]
    }
   ],
   "source": [
    "!bash ./0_PartPGClustered_ESN_Tune.sh \"tune\" 3000 1 1 7 \"grid_search_for_pwc_0.1.json\" 0.1"
   ]
  },
  {
   "cell_type": "code",
   "execution_count": 8,
   "metadata": {},
   "outputs": [
    {
     "name": "stdout",
     "output_type": "stream",
     "text": [
      "{'radius': 0.4, 'sigma_input': 0.1}\n",
      "AVERAGE RMNSE ERROR ON TRAIN DATA SET: 1.3627234273212847 ± 0.00675648876001189\n",
      "AVG NUMBER OF ACCURATE 0.5 PREDICTIONS ON TRAIN DATA SET: 2.690670414135714 ± 0.2451364651674028\n",
      "AVG NUMBER OF ACCURATE 1 PREDICTIONS ON TRAIN DATA SET: 4.462641297613969 ± 0.3661491752878881\n",
      "POWER SPECTRUM MEAN ERROR ON TRAIN DATA SET: 0.47591047120438346 ± 0.26823699727961814\n",
      "TEMPORAL DISTANCE ON TRAIN DATA SET: 0.10845601244062852 ± 0.00135228486546078\n",
      "GEOMETRICAL DISTANCE ON TRAIN DATA SET: 12.995054706292018 ± 0.11926346409505549\n",
      "\n",
      "\n",
      "AVERAGE RMNSE ERROR ON TEST DATA SET: 1.3687529776615412 ± 0.005707885860953473\n",
      "AVG NUMBER OF ACCURATE 0.5 PREDICTIONS ON TEST DATA SET: 2.2318278439840125 ± 0.17554856379294567\n",
      "AVG NUMBER OF ACCURATE 1 PREDICTIONS ON TEST DATA SET: 3.7018485320713532 ± 0.20878980356430699\n",
      "POWER SPECTRUM MEAN ERROR ON TEST DATA SET: 0.88489836801308 ± 0.5197547025830196\n",
      "TEMPORAL DISTANCE ON TEST DATA SET: 0.10729323227912609 ± 0.0011442595778507726\n",
      "GEOMETRICAL DISTANCE ON TEST DATA SET: 13.042758677272976 ± 0.1019932167579478\n"
     ]
    }
   ],
   "source": [
    "!bash ./1_PartPGClustered_ESN_Evaluate_Tuned_Model.sh \"evaluate_tuned_model\" 3000 1 1 7 \"grid_search_for_pwc_0.1.json\" 0.1"
   ]
  },
  {
   "cell_type": "code",
   "execution_count": 17,
   "metadata": {
    "editable": true,
    "slideshow": {
     "slide_type": ""
    },
    "tags": []
   },
   "outputs": [
    {
     "name": "stdout",
     "output_type": "stream",
     "text": [
      "Grid Search Progress: 100%|████████| 25/25 [2:22:48<00:00, 342.76s/trial, Current Best Loss=0.12176]\n",
      "{'radius': 0.4, 'sigma_input': 0.5}\n"
     ]
    }
   ],
   "source": [
    "!bash ./0_PartPGClustered_ESN_Tune.sh \"tune\" 3500 1 1 8 \"grid_search_for_pwc_0.1.json\" 0.1"
   ]
  },
  {
   "cell_type": "code",
   "execution_count": 9,
   "metadata": {},
   "outputs": [
    {
     "name": "stdout",
     "output_type": "stream",
     "text": [
      "{'radius': 0.4, 'sigma_input': 0.5}\n",
      "AVERAGE RMNSE ERROR ON TRAIN DATA SET: 1.3715381506429636 ± 0.006817280962989518\n",
      "AVG NUMBER OF ACCURATE 0.5 PREDICTIONS ON TRAIN DATA SET: 2.110101001497194 ± 0.21341937618050488\n",
      "AVG NUMBER OF ACCURATE 1 PREDICTIONS ON TRAIN DATA SET: 3.3354845491978318 ± 0.3813558005375415\n",
      "POWER SPECTRUM MEAN ERROR ON TRAIN DATA SET: 0.4412832636046831 ± 0.3338423310495414\n",
      "TEMPORAL DISTANCE ON TRAIN DATA SET: 0.10915551484197697 ± 0.0018550918215912667\n",
      "GEOMETRICAL DISTANCE ON TRAIN DATA SET: 13.00792354802723 ± 0.08103310984974951\n",
      "\n",
      "\n",
      "AVERAGE RMNSE ERROR ON TEST DATA SET: 1.3825779523527217 ± 0.006970349946082545\n",
      "AVG NUMBER OF ACCURATE 0.5 PREDICTIONS ON TEST DATA SET: 1.474078249503568 ± 0.09414191639083885\n",
      "AVG NUMBER OF ACCURATE 1 PREDICTIONS ON TEST DATA SET: 2.5662385307047435 ± 0.21025393228772177\n",
      "POWER SPECTRUM MEAN ERROR ON TEST DATA SET: 0.7773908685623127 ± 0.4791653317164612\n",
      "TEMPORAL DISTANCE ON TEST DATA SET: 0.10624668223788569 ± 0.0009263028980539113\n",
      "GEOMETRICAL DISTANCE ON TEST DATA SET: 13.082836607038127 ± 0.08892100727340198\n"
     ]
    }
   ],
   "source": [
    "!bash ./1_PartPGClustered_ESN_Evaluate_Tuned_Model.sh \"evaluate_tuned_model\" 3500 1 1 8 \"grid_search_for_pwc_0.1.json\" 0.1"
   ]
  },
  {
   "cell_type": "code",
   "execution_count": 19,
   "metadata": {
    "editable": true,
    "slideshow": {
     "slide_type": ""
    },
    "tags": []
   },
   "outputs": [
    {
     "name": "stdout",
     "output_type": "stream",
     "text": [
      "Grid Search Progress: 100%|████████| 25/25 [3:01:55<00:00, 436.63s/trial, Current Best Loss=0.12112]\n",
      "{'radius': 0.4, 'sigma_input': 0.1}\n"
     ]
    }
   ],
   "source": [
    "!bash ./0_PartPGClustered_ESN_Tune.sh \"tune\" 4000 1 1 9 \"grid_search_for_pwc_0.1.json\" 0.1"
   ]
  },
  {
   "cell_type": "code",
   "execution_count": 10,
   "metadata": {},
   "outputs": [
    {
     "name": "stdout",
     "output_type": "stream",
     "text": [
      "{'radius': 0.4, 'sigma_input': 0.1}\n",
      "AVERAGE RMNSE ERROR ON TRAIN DATA SET: 1.3620921765379577 ± 0.006488622162008334\n",
      "AVG NUMBER OF ACCURATE 0.5 PREDICTIONS ON TRAIN DATA SET: 2.836911690178905 ± 0.2939428342051102\n",
      "AVG NUMBER OF ACCURATE 1 PREDICTIONS ON TRAIN DATA SET: 4.469234834915337 ± 0.44035541556396707\n",
      "POWER SPECTRUM MEAN ERROR ON TRAIN DATA SET: 0.46597774578178797 ± 0.37056109004181925\n",
      "TEMPORAL DISTANCE ON TRAIN DATA SET: 0.10759093672338753 ± 0.0014603904439589599\n",
      "GEOMETRICAL DISTANCE ON TRAIN DATA SET: 12.952336331303735 ± 0.11720763004979935\n",
      "\n",
      "\n",
      "AVERAGE RMNSE ERROR ON TEST DATA SET: 1.3703326474103883 ± 0.00724920805559561\n",
      "AVG NUMBER OF ACCURATE 0.5 PREDICTIONS ON TEST DATA SET: 2.339353221514035 ± 0.17145239314541072\n",
      "AVG NUMBER OF ACCURATE 1 PREDICTIONS ON TEST DATA SET: 3.8509639141177052 ± 0.259993038866745\n",
      "POWER SPECTRUM MEAN ERROR ON TEST DATA SET: 0.5972436772933863 ± 0.5281436501219328\n",
      "TEMPORAL DISTANCE ON TEST DATA SET: 0.10673566044110647 ± 0.0019463715729142576\n",
      "GEOMETRICAL DISTANCE ON TEST DATA SET: 12.984286093973498 ± 0.07711339938632206\n"
     ]
    }
   ],
   "source": [
    "!bash ./1_PartPGClustered_ESN_Evaluate_Tuned_Model.sh \"evaluate_tuned_model\" 4000 1 1 9 \"grid_search_for_pwc_0.1.json\" 0.1"
   ]
  },
  {
   "cell_type": "markdown",
   "metadata": {},
   "source": [
    "### probability of wrong coupling = 0.2"
   ]
  },
  {
   "cell_type": "code",
   "execution_count": 21,
   "metadata": {},
   "outputs": [
    {
     "name": "stdout",
     "output_type": "stream",
     "text": [
      "Grid Search Progress:   4%|▍           | 1/25 [00:47<19:03, 47.65s/trial, Current Best Loss=0.47304]/home/user/kuei_jan_CHU/PGClustered_ESN/Methods/./Utils/global_utils.py:274: RuntimeWarning: divide by zero encountered in log10\n",
      "  s_dbfs = 20 * np.log10(s_mag)\n",
      "/home/user/kuei_jan_CHU/PGClustered_ESN/Methods/./Utils/global_utils.py:309: RuntimeWarning: invalid value encountered in divide\n",
      "  trajectory = (trajectory-trajectory.mean())/trajectory.std()\n",
      "Grid Search Progress:  16%|█▉          | 4/25 [03:06<16:13, 46.36s/trial, Current Best Loss=0.47304]/home/user/kuei_jan_CHU/PGClustered_ESN/Methods/./Utils/global_utils.py:321: RuntimeWarning: Mean of empty slice\n",
      "  spectrum = np.nanmean(np.array(spectrum),axis=0)\n",
      "Grid Search Progress: 100%|███████████| 25/25 [18:56<00:00, 45.44s/trial, Current Best Loss=0.40304]\n",
      "{'radius': 0.4, 'sigma_input': 0.1}\n"
     ]
    }
   ],
   "source": [
    "!bash ./0_PartPGClustered_ESN_Tune.sh \"tune\" 40 1 1 0 \"grid_search_for_pwc_0.2.json\" 0.2"
   ]
  },
  {
   "cell_type": "code",
   "execution_count": 11,
   "metadata": {},
   "outputs": [
    {
     "name": "stdout",
     "output_type": "stream",
     "text": [
      "{'radius': 0.4, 'sigma_input': 0.1}\n",
      "/home/user/anaconda3/lib/python3.11/site-packages/numpy/core/_methods.py:236: RuntimeWarning: invalid value encountered in subtract\n",
      "  x = asanyarray(arr - arrmean)\n",
      "AVERAGE RMNSE ERROR ON TRAIN DATA SET: 2.106421545663464 ± 0.921364981331542\n",
      "AVG NUMBER OF ACCURATE 0.5 PREDICTIONS ON TRAIN DATA SET: 0.00033813011801893985 ± 0.0006762602360378797\n",
      "AVG NUMBER OF ACCURATE 1 PREDICTIONS ON TRAIN DATA SET: 0.5242707479883661 ± 0.06874298396515809\n",
      "POWER SPECTRUM MEAN ERROR ON TRAIN DATA SET: inf ± nan\n",
      "TEMPORAL DISTANCE ON TRAIN DATA SET: 0.45091529537233077 ± 0.08076430364322007\n",
      "GEOMETRICAL DISTANCE ON TRAIN DATA SET: inf ± nan\n",
      "\n",
      "\n",
      "AVERAGE RMNSE ERROR ON TEST DATA SET: 2.0946412921114637 ± 0.853586802109461\n",
      "AVG NUMBER OF ACCURATE 0.5 PREDICTIONS ON TEST DATA SET: 0.0011834554130662892 ± 0.0025133327900042396\n",
      "AVG NUMBER OF ACCURATE 1 PREDICTIONS ON TEST DATA SET: 0.48183541817698927 ± 0.06800535609773883\n",
      "POWER SPECTRUM MEAN ERROR ON TEST DATA SET: inf ± nan\n",
      "TEMPORAL DISTANCE ON TEST DATA SET: 0.4608571594835123 ± 0.0975365222221815\n",
      "GEOMETRICAL DISTANCE ON TEST DATA SET: inf ± nan\n"
     ]
    }
   ],
   "source": [
    "!bash ./1_PartPGClustered_ESN_Evaluate_Tuned_Model.sh \"evaluate_tuned_model\" 40 1 1 0 \"grid_search_for_pwc_0.2.json\" 0.2"
   ]
  },
  {
   "cell_type": "code",
   "execution_count": 23,
   "metadata": {},
   "outputs": [
    {
     "name": "stdout",
     "output_type": "stream",
     "text": [
      "Grid Search Progress:   8%|▉           | 2/25 [00:52<09:56, 25.94s/trial, Current Best Loss=0.26054]/home/user/kuei_jan_CHU/PGClustered_ESN/Methods/./Utils/global_utils.py:274: RuntimeWarning: divide by zero encountered in log10\n",
      "  s_dbfs = 20 * np.log10(s_mag)\n",
      "Grid Search Progress:  12%|█▍          | 3/25 [01:17<09:23, 25.60s/trial, Current Best Loss=0.26054]/home/user/kuei_jan_CHU/PGClustered_ESN/Methods/./Utils/global_utils.py:309: RuntimeWarning: invalid value encountered in divide\n",
      "  trajectory = (trajectory-trajectory.mean())/trajectory.std()\n",
      "Grid Search Progress: 100%|███████████| 25/25 [10:39<00:00, 25.59s/trial, Current Best Loss=0.26054]\n",
      "{'radius': 0.1, 'sigma_input': 0.1}\n"
     ]
    }
   ],
   "source": [
    "!bash ./0_PartPGClustered_ESN_Tune.sh \"tune\" 250 1 1 1 \"grid_search_for_pwc_0.2.json\" 0.2"
   ]
  },
  {
   "cell_type": "code",
   "execution_count": 12,
   "metadata": {},
   "outputs": [
    {
     "name": "stdout",
     "output_type": "stream",
     "text": [
      "{'radius': 0.1, 'sigma_input': 0.1}\n",
      "/home/user/anaconda3/lib/python3.11/site-packages/numpy/core/_methods.py:236: RuntimeWarning: invalid value encountered in subtract\n",
      "  x = asanyarray(arr - arrmean)\n",
      "AVERAGE RMNSE ERROR ON TRAIN DATA SET: 3.280268214421034 ± 0.9124532829409417\n",
      "AVG NUMBER OF ACCURATE 0.5 PREDICTIONS ON TRAIN DATA SET: 0.4483605364931142 ± 0.0537871391571243\n",
      "AVG NUMBER OF ACCURATE 1 PREDICTIONS ON TRAIN DATA SET: 0.9234333523097247 ± 0.09874846814886458\n",
      "POWER SPECTRUM MEAN ERROR ON TRAIN DATA SET: 7.994095105731205 ± 4.845133324149593\n",
      "TEMPORAL DISTANCE ON TRAIN DATA SET: 0.3608026211033858 ± 0.11141750282811042\n",
      "GEOMETRICAL DISTANCE ON TRAIN DATA SET: inf ± nan\n",
      "\n",
      "\n",
      "AVERAGE RMNSE ERROR ON TEST DATA SET: 3.478533076242057 ± 1.0479164893431936\n",
      "AVG NUMBER OF ACCURATE 0.5 PREDICTIONS ON TEST DATA SET: 0.4150547198682486 ± 0.042905567704274394\n",
      "AVG NUMBER OF ACCURATE 1 PREDICTIONS ON TEST DATA SET: 0.9173470101853838 ± 0.11155527032435612\n",
      "POWER SPECTRUM MEAN ERROR ON TEST DATA SET: 9.201075115983455 ± 7.778495975214926\n",
      "TEMPORAL DISTANCE ON TEST DATA SET: 0.4138713702318973 ± 0.16421310788270524\n",
      "GEOMETRICAL DISTANCE ON TEST DATA SET: inf ± nan\n"
     ]
    }
   ],
   "source": [
    "!bash ./1_PartPGClustered_ESN_Evaluate_Tuned_Model.sh \"evaluate_tuned_model\" 250 1 1 1 \"grid_search_for_pwc_0.2.json\" 0.2"
   ]
  },
  {
   "cell_type": "code",
   "execution_count": 25,
   "metadata": {},
   "outputs": [
    {
     "name": "stdout",
     "output_type": "stream",
     "text": [
      "Grid Search Progress:   8%|▉           | 2/25 [01:01<11:41, 30.52s/trial, Current Best Loss=0.13052]/home/user/kuei_jan_CHU/PGClustered_ESN/Methods/./Utils/global_utils.py:274: RuntimeWarning: divide by zero encountered in log10\n",
      "  s_dbfs = 20 * np.log10(s_mag)\n",
      "Grid Search Progress:  36%|████▎       | 9/25 [04:29<07:54, 29.64s/trial, Current Best Loss=0.13052]/home/user/kuei_jan_CHU/PGClustered_ESN/Methods/./Utils/global_utils.py:309: RuntimeWarning: invalid value encountered in divide\n",
      "  trajectory = (trajectory-trajectory.mean())/trajectory.std()\n",
      "Grid Search Progress: 100%|███████████| 25/25 [12:31<00:00, 30.04s/trial, Current Best Loss=0.13052]\n",
      "{'radius': 0.1, 'sigma_input': 0.1}\n"
     ]
    }
   ],
   "source": [
    "!bash ./0_PartPGClustered_ESN_Tune.sh \"tune\" 500 1 1 2 \"grid_search_for_pwc_0.2.json\" 0.2"
   ]
  },
  {
   "cell_type": "code",
   "execution_count": 13,
   "metadata": {},
   "outputs": [
    {
     "name": "stdout",
     "output_type": "stream",
     "text": [
      "{'radius': 0.1, 'sigma_input': 0.1}\n",
      "/home/user/anaconda3/lib/python3.11/site-packages/numpy/core/_methods.py:236: RuntimeWarning: invalid value encountered in subtract\n",
      "  x = asanyarray(arr - arrmean)\n",
      "AVERAGE RMNSE ERROR ON TRAIN DATA SET: 1.5112825190089747 ± 0.2650190984125478\n",
      "AVG NUMBER OF ACCURATE 0.5 PREDICTIONS ON TRAIN DATA SET: 1.228257653703799 ± 0.2265146884945693\n",
      "AVG NUMBER OF ACCURATE 1 PREDICTIONS ON TRAIN DATA SET: 2.3675870863686166 ± 0.31716280636634264\n",
      "POWER SPECTRUM MEAN ERROR ON TRAIN DATA SET: 0.813489599484625 ± 0.4814771214540913\n",
      "TEMPORAL DISTANCE ON TRAIN DATA SET: 0.1391549640199517 ± 0.05282356900790749\n",
      "GEOMETRICAL DISTANCE ON TRAIN DATA SET: inf ± nan\n",
      "\n",
      "\n",
      "AVERAGE RMNSE ERROR ON TEST DATA SET: 1.5171834313523644 ± 0.2808209649099207\n",
      "AVG NUMBER OF ACCURATE 0.5 PREDICTIONS ON TEST DATA SET: 1.263254120918759 ± 0.18930274374290765\n",
      "AVG NUMBER OF ACCURATE 1 PREDICTIONS ON TEST DATA SET: 2.282040166509825 ± 0.2697504938388282\n",
      "POWER SPECTRUM MEAN ERROR ON TEST DATA SET: 0.8586054688587449 ± 0.5318983909298051\n",
      "TEMPORAL DISTANCE ON TEST DATA SET: 0.14128334679914528 ± 0.061096549512657444\n",
      "GEOMETRICAL DISTANCE ON TEST DATA SET: inf ± nan\n"
     ]
    }
   ],
   "source": [
    "!bash ./1_PartPGClustered_ESN_Evaluate_Tuned_Model.sh \"evaluate_tuned_model\" 500 1 1 2 \"grid_search_for_pwc_0.2.json\" 0.2"
   ]
  },
  {
   "cell_type": "code",
   "execution_count": 27,
   "metadata": {},
   "outputs": [
    {
     "name": "stdout",
     "output_type": "stream",
     "text": [
      "Grid Search Progress:  12%|█▍          | 3/25 [02:07<15:28, 42.19s/trial, Current Best Loss=0.12868]/home/user/kuei_jan_CHU/PGClustered_ESN/Methods/./Utils/global_utils.py:274: RuntimeWarning: divide by zero encountered in log10\n",
      "  s_dbfs = 20 * np.log10(s_mag)\n",
      "Grid Search Progress:  16%|█▉          | 4/25 [02:47<14:28, 41.37s/trial, Current Best Loss=0.12868]/home/user/kuei_jan_CHU/PGClustered_ESN/Methods/./Utils/global_utils.py:309: RuntimeWarning: invalid value encountered in divide\n",
      "  trajectory = (trajectory-trajectory.mean())/trajectory.std()\n",
      "Grid Search Progress: 100%|███████████| 25/25 [17:04<00:00, 40.97s/trial, Current Best Loss=0.12399]\n",
      "{'radius': 0.7, 'sigma_input': 0.1}\n"
     ]
    }
   ],
   "source": [
    "!bash ./0_PartPGClustered_ESN_Tune.sh \"tune\" 1000 1 1 3 \"grid_search_for_pwc_0.2.json\" 0.2"
   ]
  },
  {
   "cell_type": "code",
   "execution_count": 14,
   "metadata": {},
   "outputs": [
    {
     "name": "stdout",
     "output_type": "stream",
     "text": [
      "{'radius': 0.7, 'sigma_input': 0.1}\n",
      "AVERAGE RMNSE ERROR ON TRAIN DATA SET: 1.3964592517040386 ± 0.007631470768208455\n",
      "AVG NUMBER OF ACCURATE 0.5 PREDICTIONS ON TRAIN DATA SET: 1.5655424464276912 ± 0.22956644573038829\n",
      "AVG NUMBER OF ACCURATE 1 PREDICTIONS ON TRAIN DATA SET: 2.764213714804833 ± 0.25571446466832776\n",
      "POWER SPECTRUM MEAN ERROR ON TRAIN DATA SET: 0.5963231790863317 ± 0.5179448862394773\n",
      "TEMPORAL DISTANCE ON TRAIN DATA SET: 0.11373522322301136 ± 0.0020001340055664485\n",
      "GEOMETRICAL DISTANCE ON TRAIN DATA SET: 13.354000581388437 ± 0.1372258775417238\n",
      "\n",
      "\n",
      "AVERAGE RMNSE ERROR ON TEST DATA SET: 1.4060870887378434 ± 0.0096788676925767\n",
      "AVG NUMBER OF ACCURATE 0.5 PREDICTIONS ON TEST DATA SET: 1.3903910452938806 ± 0.1391811091571213\n",
      "AVG NUMBER OF ACCURATE 1 PREDICTIONS ON TEST DATA SET: 2.426421726903912 ± 0.2024335061713931\n",
      "POWER SPECTRUM MEAN ERROR ON TEST DATA SET: 0.5746455142143022 ± 0.35149471345401445\n",
      "TEMPORAL DISTANCE ON TEST DATA SET: 0.11271513030585176 ± 0.0024177473048319744\n",
      "GEOMETRICAL DISTANCE ON TEST DATA SET: 13.4874079149577 ± 0.20002756532708219\n"
     ]
    }
   ],
   "source": [
    "!bash ./1_PartPGClustered_ESN_Evaluate_Tuned_Model.sh \"evaluate_tuned_model\" 1000 1 1 3 \"grid_search_for_pwc_0.2.json\" 0.2"
   ]
  },
  {
   "cell_type": "code",
   "execution_count": 29,
   "metadata": {},
   "outputs": [
    {
     "name": "stdout",
     "output_type": "stream",
     "text": [
      "Grid Search Progress:  32%|███▊        | 8/25 [08:42<18:13, 64.30s/trial, Current Best Loss=0.12457]/home/user/kuei_jan_CHU/PGClustered_ESN/Methods/./Utils/global_utils.py:274: RuntimeWarning: divide by zero encountered in log10\n",
      "  s_dbfs = 20 * np.log10(s_mag)\n",
      "Grid Search Progress: 100%|███████████| 25/25 [26:29<00:00, 63.57s/trial, Current Best Loss=0.12457]\n",
      "{'radius': 0.4, 'sigma_input': 0.1}\n"
     ]
    }
   ],
   "source": [
    "!bash ./0_PartPGClustered_ESN_Tune.sh \"tune\" 1500 1 1 4 \"grid_search_for_pwc_0.2.json\" 0.2"
   ]
  },
  {
   "cell_type": "code",
   "execution_count": 15,
   "metadata": {},
   "outputs": [
    {
     "name": "stdout",
     "output_type": "stream",
     "text": [
      "{'radius': 0.4, 'sigma_input': 0.1}\n",
      "AVERAGE RMNSE ERROR ON TRAIN DATA SET: 1.4109767847848347 ± 0.06891478918714329\n",
      "AVG NUMBER OF ACCURATE 0.5 PREDICTIONS ON TRAIN DATA SET: 1.710769332116826 ± 0.301144167326262\n",
      "AVG NUMBER OF ACCURATE 1 PREDICTIONS ON TRAIN DATA SET: 3.1133330616593886 ± 0.3641688449628746\n",
      "POWER SPECTRUM MEAN ERROR ON TRAIN DATA SET: 0.49796676992641614 ± 0.2550925602930742\n",
      "TEMPORAL DISTANCE ON TRAIN DATA SET: 0.11614527228706115 ± 0.013274688405469531\n",
      "GEOMETRICAL DISTANCE ON TRAIN DATA SET: 13.195167264820551 ± 0.17650458064280286\n",
      "\n",
      "\n",
      "AVERAGE RMNSE ERROR ON TEST DATA SET: 1.3923907982803132 ± 0.004414182644757239\n",
      "AVG NUMBER OF ACCURATE 0.5 PREDICTIONS ON TEST DATA SET: 1.5572582585362271 ± 0.17144639144557022\n",
      "AVG NUMBER OF ACCURATE 1 PREDICTIONS ON TEST DATA SET: 2.770300056929174 ± 0.25064908512712264\n",
      "POWER SPECTRUM MEAN ERROR ON TEST DATA SET: 0.7266883445661572 ± 0.4101533315260404\n",
      "TEMPORAL DISTANCE ON TEST DATA SET: 0.11028211832330959 ± 0.0021920315911746124\n",
      "GEOMETRICAL DISTANCE ON TEST DATA SET: 13.286122300315617 ± 0.12212947674937731\n"
     ]
    }
   ],
   "source": [
    "!bash ./1_PartPGClustered_ESN_Evaluate_Tuned_Model.sh \"evaluate_tuned_model\" 1500 1 1 4 \"grid_search_for_pwc_0.2.json\" 0.2"
   ]
  },
  {
   "cell_type": "code",
   "execution_count": 31,
   "metadata": {},
   "outputs": [
    {
     "name": "stdout",
     "output_type": "stream",
     "text": [
      "Grid Search Progress:  76%|████████▎  | 19/25 [28:49<09:01, 90.22s/trial, Current Best Loss=0.12363]/home/user/kuei_jan_CHU/PGClustered_ESN/Methods/./Utils/global_utils.py:274: RuntimeWarning: divide by zero encountered in log10\n",
      "  s_dbfs = 20 * np.log10(s_mag)\n",
      "Grid Search Progress: 100%|███████████| 25/25 [37:23<00:00, 89.73s/trial, Current Best Loss=0.12363]\n",
      "{'radius': 0.7, 'sigma_input': 0.1}\n"
     ]
    }
   ],
   "source": [
    "!bash ./0_PartPGClustered_ESN_Tune.sh \"tune\" 2000 1 1 5 \"grid_search_for_pwc_0.2.json\" 0.2"
   ]
  },
  {
   "cell_type": "code",
   "execution_count": 16,
   "metadata": {},
   "outputs": [
    {
     "name": "stdout",
     "output_type": "stream",
     "text": [
      "{'radius': 0.7, 'sigma_input': 0.1}\n",
      "AVERAGE RMNSE ERROR ON TRAIN DATA SET: 1.3809967619946846 ± 0.009769455551523983\n",
      "AVG NUMBER OF ACCURATE 0.5 PREDICTIONS ON TRAIN DATA SET: 1.9357949256584301 ± 0.2395503338158184\n",
      "AVG NUMBER OF ACCURATE 1 PREDICTIONS ON TRAIN DATA SET: 3.2665060051219683 ± 0.34382650111244073\n",
      "POWER SPECTRUM MEAN ERROR ON TRAIN DATA SET: 0.520660188159278 ± 0.2619945610195151\n",
      "TEMPORAL DISTANCE ON TRAIN DATA SET: 0.10988676293895798 ± 0.001525070183853547\n",
      "GEOMETRICAL DISTANCE ON TRAIN DATA SET: 13.153575902562801 ± 0.1079716876317273\n",
      "\n",
      "\n",
      "AVERAGE RMNSE ERROR ON TEST DATA SET: 1.3869229701602428 ± 0.006891518449059771\n",
      "AVG NUMBER OF ACCURATE 0.5 PREDICTIONS ON TEST DATA SET: 1.6879455491505475 ± 0.15994519618000058\n",
      "AVG NUMBER OF ACCURATE 1 PREDICTIONS ON TEST DATA SET: 2.9089334053169393 ± 0.21184492793234183\n",
      "POWER SPECTRUM MEAN ERROR ON TEST DATA SET: 0.4868572844639809 ± 0.3182761133182648\n",
      "TEMPORAL DISTANCE ON TEST DATA SET: 0.11000941581621708 ± 0.0016752411301182997\n",
      "GEOMETRICAL DISTANCE ON TEST DATA SET: 13.218377939936417 ± 0.13566682688527595\n"
     ]
    }
   ],
   "source": [
    "!bash ./1_PartPGClustered_ESN_Evaluate_Tuned_Model.sh \"evaluate_tuned_model\" 2000 1 1 5 \"grid_search_for_pwc_0.2.json\" 0.2"
   ]
  },
  {
   "cell_type": "code",
   "execution_count": 33,
   "metadata": {},
   "outputs": [
    {
     "name": "stdout",
     "output_type": "stream",
     "text": [
      "Grid Search Progress: 100%|████████| 25/25 [1:00:37<00:00, 145.50s/trial, Current Best Loss=0.12273]\n",
      "{'radius': 0.4, 'sigma_input': 0.1}\n"
     ]
    }
   ],
   "source": [
    "!bash ./0_PartPGClustered_ESN_Tune.sh \"tune\" 2500 1 1 6 \"grid_search_for_pwc_0.2.json\" 0.2"
   ]
  },
  {
   "cell_type": "code",
   "execution_count": 17,
   "metadata": {},
   "outputs": [
    {
     "name": "stdout",
     "output_type": "stream",
     "text": [
      "{'radius': 0.4, 'sigma_input': 0.1}\n",
      "AVERAGE RMNSE ERROR ON TRAIN DATA SET: 1.3722285619163332 ± 0.009058031307693996\n",
      "AVG NUMBER OF ACCURATE 0.5 PREDICTIONS ON TRAIN DATA SET: 1.911787687279086 ± 0.313386428651918\n",
      "AVG NUMBER OF ACCURATE 1 PREDICTIONS ON TRAIN DATA SET: 3.3731860573569437 ± 0.36483973365708383\n",
      "POWER SPECTRUM MEAN ERROR ON TRAIN DATA SET: 0.28729194056082175 ± 0.14094820448105963\n",
      "TEMPORAL DISTANCE ON TRAIN DATA SET: 0.11022964957535777 ± 0.0013796603888794445\n",
      "GEOMETRICAL DISTANCE ON TRAIN DATA SET: 13.075298788603547 ± 0.11436179199423954\n",
      "\n",
      "\n",
      "AVERAGE RMNSE ERROR ON TEST DATA SET: 1.4312402446899708 ± 0.1517315854521479\n",
      "AVG NUMBER OF ACCURATE 0.5 PREDICTIONS ON TEST DATA SET: 1.699611038222201 ± 0.16443356638927864\n",
      "AVG NUMBER OF ACCURATE 1 PREDICTIONS ON TEST DATA SET: 3.032689028511871 ± 0.29522148156102235\n",
      "POWER SPECTRUM MEAN ERROR ON TEST DATA SET: 0.9731143411717283 ± 0.5582987674449236\n",
      "TEMPORAL DISTANCE ON TEST DATA SET: 0.11629849532602607 ± 0.020845262965156947\n",
      "GEOMETRICAL DISTANCE ON TEST DATA SET: 13.1723836905891 ± 0.14400313079592503\n"
     ]
    }
   ],
   "source": [
    "!bash ./1_PartPGClustered_ESN_Evaluate_Tuned_Model.sh \"evaluate_tuned_model\" 2500 1 1 6 \"grid_search_for_pwc_0.2.json\" 0.2"
   ]
  },
  {
   "cell_type": "code",
   "execution_count": 35,
   "metadata": {},
   "outputs": [
    {
     "name": "stdout",
     "output_type": "stream",
     "text": [
      "Grid Search Progress: 100%|████████| 25/25 [1:22:21<00:00, 197.65s/trial, Current Best Loss=0.12342]\n",
      "{'radius': 0.9, 'sigma_input': 0.1}\n"
     ]
    }
   ],
   "source": [
    "!bash ./0_PartPGClustered_ESN_Tune.sh \"tune\" 3000 1 1 7 \"grid_search_for_pwc_0.2.json\" 0.2"
   ]
  },
  {
   "cell_type": "code",
   "execution_count": 18,
   "metadata": {},
   "outputs": [
    {
     "name": "stdout",
     "output_type": "stream",
     "text": [
      "{'radius': 0.9, 'sigma_input': 0.1}\n",
      "AVERAGE RMNSE ERROR ON TRAIN DATA SET: 1.374202343205338 ± 0.006810074144300609\n",
      "AVG NUMBER OF ACCURATE 0.5 PREDICTIONS ON TRAIN DATA SET: 2.0999570979566258 ± 0.1976925816671945\n",
      "AVG NUMBER OF ACCURATE 1 PREDICTIONS ON TRAIN DATA SET: 3.4435171219048835 ± 0.22959358699829785\n",
      "POWER SPECTRUM MEAN ERROR ON TRAIN DATA SET: 0.5439887974554865 ± 0.24914771419893578\n",
      "TEMPORAL DISTANCE ON TRAIN DATA SET: 0.10817972948498036 ± 0.001161336102583765\n",
      "GEOMETRICAL DISTANCE ON TRAIN DATA SET: 12.998470515591995 ± 0.10835337860427925\n",
      "\n",
      "\n",
      "AVERAGE RMNSE ERROR ON TEST DATA SET: 1.3827477762720837 ± 0.007631271822283782\n",
      "AVG NUMBER OF ACCURATE 0.5 PREDICTIONS ON TEST DATA SET: 1.7619960449966954 ± 0.22316306012372775\n",
      "AVG NUMBER OF ACCURATE 1 PREDICTIONS ON TEST DATA SET: 2.9594838579607705 ± 0.21527665459843687\n",
      "POWER SPECTRUM MEAN ERROR ON TEST DATA SET: 0.5996982015299184 ± 0.30296012321933513\n",
      "TEMPORAL DISTANCE ON TEST DATA SET: 0.10859718166592662 ± 0.001854279806236024\n",
      "GEOMETRICAL DISTANCE ON TEST DATA SET: 13.095135524647784 ± 0.13765394452164678\n"
     ]
    }
   ],
   "source": [
    "!bash ./1_PartPGClustered_ESN_Evaluate_Tuned_Model.sh \"evaluate_tuned_model\" 3000 1 1 7 \"grid_search_for_pwc_0.2.json\" 0.2"
   ]
  },
  {
   "cell_type": "code",
   "execution_count": 37,
   "metadata": {},
   "outputs": [
    {
     "name": "stdout",
     "output_type": "stream",
     "text": [
      "Grid Search Progress:  52%|███   | 13/25 [1:15:43<1:08:38, 343.20s/trial, Current Best Loss=0.12195]/home/user/kuei_jan_CHU/PGClustered_ESN/Methods/./Utils/global_utils.py:274: RuntimeWarning: divide by zero encountered in log10\n",
      "  s_dbfs = 20 * np.log10(s_mag)\n",
      "Grid Search Progress: 100%|████████| 25/25 [2:22:39<00:00, 342.37s/trial, Current Best Loss=0.12195]\n",
      "{'radius': 0.7, 'sigma_input': 0.1}\n"
     ]
    }
   ],
   "source": [
    "!bash ./0_PartPGClustered_ESN_Tune.sh \"tune\" 3500 1 1 8 \"grid_search_for_pwc_0.2.json\" 0.2"
   ]
  },
  {
   "cell_type": "code",
   "execution_count": 19,
   "metadata": {},
   "outputs": [
    {
     "name": "stdout",
     "output_type": "stream",
     "text": [
      "{'radius': 0.7, 'sigma_input': 0.1}\n",
      "AVERAGE RMNSE ERROR ON TRAIN DATA SET: 1.3766918409812026 ± 0.009903995424495193\n",
      "AVG NUMBER OF ACCURATE 0.5 PREDICTIONS ON TRAIN DATA SET: 2.178741415455039 ± 0.27080196041668303\n",
      "AVG NUMBER OF ACCURATE 1 PREDICTIONS ON TRAIN DATA SET: 3.713006825965978 ± 0.3521035471774003\n",
      "POWER SPECTRUM MEAN ERROR ON TRAIN DATA SET: 0.523706028760522 ± 0.35036006225940647\n",
      "TEMPORAL DISTANCE ON TRAIN DATA SET: 0.10841170873171099 ± 0.0018135027823698757\n",
      "GEOMETRICAL DISTANCE ON TRAIN DATA SET: 12.988542232782546 ± 0.07165947886945145\n",
      "\n",
      "\n",
      "AVERAGE RMNSE ERROR ON TEST DATA SET: 1.3789867514486975 ± 0.007188114352487335\n",
      "AVG NUMBER OF ACCURATE 0.5 PREDICTIONS ON TEST DATA SET: 1.8507552009766672 ± 0.19807044976921478\n",
      "AVG NUMBER OF ACCURATE 1 PREDICTIONS ON TEST DATA SET: 3.15424680593968 ± 0.2937892035149095\n",
      "POWER SPECTRUM MEAN ERROR ON TEST DATA SET: 0.46816735698922696 ± 0.31529264306654187\n",
      "TEMPORAL DISTANCE ON TEST DATA SET: 0.10722183533241372 ± 0.001538046252894801\n",
      "GEOMETRICAL DISTANCE ON TEST DATA SET: 13.068850912144038 ± 0.13895572400725734\n"
     ]
    }
   ],
   "source": [
    "!bash ./1_PartPGClustered_ESN_Evaluate_Tuned_Model.sh \"evaluate_tuned_model\" 3500 1 1 8 \"grid_search_for_pwc_0.2.json\" 0.2"
   ]
  },
  {
   "cell_type": "code",
   "execution_count": 39,
   "metadata": {},
   "outputs": [
    {
     "name": "stdout",
     "output_type": "stream",
     "text": [
      "Grid Search Progress: 100%|████████| 25/25 [3:01:58<00:00, 436.73s/trial, Current Best Loss=0.12236]\n",
      "{'radius': 0.99, 'sigma_input': 0.1}\n"
     ]
    }
   ],
   "source": [
    "!bash ./0_PartPGClustered_ESN_Tune.sh \"tune\" 4000 1 1 9 \"grid_search_for_pwc_0.2.json\" 0.2"
   ]
  },
  {
   "cell_type": "code",
   "execution_count": 20,
   "metadata": {},
   "outputs": [
    {
     "name": "stdout",
     "output_type": "stream",
     "text": [
      "{'radius': 0.99, 'sigma_input': 0.1}\n",
      "AVERAGE RMNSE ERROR ON TRAIN DATA SET: 1.3617824492659483 ± 0.00887375322265693\n",
      "AVG NUMBER OF ACCURATE 0.5 PREDICTIONS ON TRAIN DATA SET: 1.9809352964139588 ± 0.14293558395814537\n",
      "AVG NUMBER OF ACCURATE 1 PREDICTIONS ON TRAIN DATA SET: 3.4616070832188965 ± 0.3257452003042644\n",
      "POWER SPECTRUM MEAN ERROR ON TRAIN DATA SET: 0.4406003128105124 ± 0.2228511974441077\n",
      "TEMPORAL DISTANCE ON TRAIN DATA SET: 0.1093222657916482 ± 0.0016839837616551996\n",
      "GEOMETRICAL DISTANCE ON TRAIN DATA SET: 12.6491353411927 ± 0.08678821277190982\n",
      "\n",
      "\n",
      "AVERAGE RMNSE ERROR ON TEST DATA SET: 1.3652295971807145 ± 0.008492601936544445\n",
      "AVG NUMBER OF ACCURATE 0.5 PREDICTIONS ON TEST DATA SET: 1.6253914773170437 ± 0.20682980137869983\n",
      "AVG NUMBER OF ACCURATE 1 PREDICTIONS ON TEST DATA SET: 2.831501608290602 ± 0.20595399735861047\n",
      "POWER SPECTRUM MEAN ERROR ON TEST DATA SET: 1.0264213233940485 ± 0.6660799990984729\n",
      "TEMPORAL DISTANCE ON TEST DATA SET: 0.1088657177515516 ± 0.0020022501755321003\n",
      "GEOMETRICAL DISTANCE ON TEST DATA SET: 12.678790894046497 ± 0.18468374770180174\n"
     ]
    }
   ],
   "source": [
    "!bash ./1_PartPGClustered_ESN_Evaluate_Tuned_Model.sh \"evaluate_tuned_model\" 4000 1 1 9 \"grid_search_for_pwc_0.2.json\" 0.2"
   ]
  },
  {
   "cell_type": "markdown",
   "metadata": {},
   "source": [
    "### probability of wrong coupling = 0.3"
   ]
  },
  {
   "cell_type": "code",
   "execution_count": 41,
   "metadata": {},
   "outputs": [
    {
     "name": "stdout",
     "output_type": "stream",
     "text": [
      "Grid Search Progress:   4%|▍           | 1/25 [00:48<19:12, 48.02s/trial, Current Best Loss=0.48173]/home/user/kuei_jan_CHU/PGClustered_ESN/Methods/./Utils/global_utils.py:274: RuntimeWarning: divide by zero encountered in log10\n",
      "  s_dbfs = 20 * np.log10(s_mag)\n",
      "/home/user/kuei_jan_CHU/PGClustered_ESN/Methods/./Utils/global_utils.py:309: RuntimeWarning: invalid value encountered in divide\n",
      "  trajectory = (trajectory-trajectory.mean())/trajectory.std()\n",
      "/home/user/kuei_jan_CHU/PGClustered_ESN/Methods/./Utils/global_utils.py:321: RuntimeWarning: Mean of empty slice\n",
      "  spectrum = np.nanmean(np.array(spectrum),axis=0)\n",
      "Grid Search Progress: 100%|███████████| 25/25 [17:34<00:00, 42.20s/trial, Current Best Loss=0.37049]\n",
      "{'radius': 0.9, 'sigma_input': 0.1}\n"
     ]
    }
   ],
   "source": [
    "!bash ./0_PartPGClustered_ESN_Tune.sh \"tune\" 40 1 1 0 \"grid_search_for_pwc_0.3.json\" 0.3"
   ]
  },
  {
   "cell_type": "code",
   "execution_count": 21,
   "metadata": {},
   "outputs": [
    {
     "name": "stdout",
     "output_type": "stream",
     "text": [
      "{'radius': 0.9, 'sigma_input': 0.1}\n",
      "/home/user/anaconda3/lib/python3.11/site-packages/numpy/core/_methods.py:236: RuntimeWarning: invalid value encountered in subtract\n",
      "  x = asanyarray(arr - arrmean)\n",
      "AVERAGE RMNSE ERROR ON TRAIN DATA SET: 1.6918364433351722 ± 0.27959250220596843\n",
      "AVG NUMBER OF ACCURATE 0.5 PREDICTIONS ON TRAIN DATA SET: 0.004733821652265158 ± 0.004586620075275083\n",
      "AVG NUMBER OF ACCURATE 1 PREDICTIONS ON TRAIN DATA SET: 0.37008341417172963 ± 0.05065438583532239\n",
      "POWER SPECTRUM MEAN ERROR ON TRAIN DATA SET: inf ± nan\n",
      "TEMPORAL DISTANCE ON TRAIN DATA SET: 0.41656838300580573 ± 0.05084155436851948\n",
      "GEOMETRICAL DISTANCE ON TRAIN DATA SET: inf ± nan\n",
      "\n",
      "\n",
      "AVERAGE RMNSE ERROR ON TEST DATA SET: 1.7216865544906028 ± 0.27212652063456017\n",
      "AVG NUMBER OF ACCURATE 0.5 PREDICTIONS ON TEST DATA SET: 0.0011834554130662894 ± 0.002007536345643698\n",
      "AVG NUMBER OF ACCURATE 1 PREDICTIONS ON TEST DATA SET: 0.3361013373108262 ± 0.04220400295219034\n",
      "POWER SPECTRUM MEAN ERROR ON TEST DATA SET: inf ± nan\n",
      "TEMPORAL DISTANCE ON TEST DATA SET: 0.39043247325912767 ± 0.05139913150821572\n",
      "GEOMETRICAL DISTANCE ON TEST DATA SET: inf ± nan\n"
     ]
    }
   ],
   "source": [
    "!bash ./1_PartPGClustered_ESN_Evaluate_Tuned_Model.sh \"evaluate_tuned_model\" 40 1 1 0 \"grid_search_for_pwc_0.3.json\" 0.3"
   ]
  },
  {
   "cell_type": "code",
   "execution_count": 43,
   "metadata": {},
   "outputs": [
    {
     "name": "stdout",
     "output_type": "stream",
     "text": [
      "Grid Search Progress:   4%|▍           | 1/25 [00:26<10:40, 26.70s/trial, Current Best Loss=0.36420]/home/user/kuei_jan_CHU/PGClustered_ESN/Methods/./Utils/global_utils.py:274: RuntimeWarning: divide by zero encountered in log10\n",
      "  s_dbfs = 20 * np.log10(s_mag)\n",
      "Grid Search Progress:  12%|█▍          | 3/25 [01:18<09:32, 26.04s/trial, Current Best Loss=0.34982]/home/user/kuei_jan_CHU/PGClustered_ESN/Methods/./Utils/global_utils.py:309: RuntimeWarning: invalid value encountered in divide\n",
      "  trajectory = (trajectory-trajectory.mean())/trajectory.std()\n",
      "Grid Search Progress: 100%|███████████| 25/25 [10:45<00:00, 25.83s/trial, Current Best Loss=0.34710]\n",
      "{'radius': 0.99, 'sigma_input': 0.5}\n"
     ]
    }
   ],
   "source": [
    "!bash ./0_PartPGClustered_ESN_Tune.sh \"tune\" 250 1 1 1 \"grid_search_for_pwc_0.3.json\" 0.3"
   ]
  },
  {
   "cell_type": "code",
   "execution_count": 22,
   "metadata": {},
   "outputs": [
    {
     "name": "stdout",
     "output_type": "stream",
     "text": [
      "{'radius': 0.99, 'sigma_input': 0.5}\n",
      "/home/user/anaconda3/lib/python3.11/site-packages/numpy/core/_methods.py:236: RuntimeWarning: invalid value encountered in subtract\n",
      "  x = asanyarray(arr - arrmean)\n",
      "AVERAGE RMNSE ERROR ON TRAIN DATA SET: 1.7070432962458326 ± 0.03665933852569812\n",
      "AVG NUMBER OF ACCURATE 0.5 PREDICTIONS ON TRAIN DATA SET: 0.11699302083455321 ± 0.009160768030369651\n",
      "AVG NUMBER OF ACCURATE 1 PREDICTIONS ON TRAIN DATA SET: 0.3355941421337978 ± 0.0308167159437847\n",
      "POWER SPECTRUM MEAN ERROR ON TRAIN DATA SET: inf ± nan\n",
      "TEMPORAL DISTANCE ON TRAIN DATA SET: 0.3593840046405013 ± 0.0377180820888717\n",
      "GEOMETRICAL DISTANCE ON TRAIN DATA SET: inf ± nan\n",
      "\n",
      "\n",
      "AVERAGE RMNSE ERROR ON TEST DATA SET: 1.6997199920790564 ± 0.044957682324987105\n",
      "AVG NUMBER OF ACCURATE 0.5 PREDICTIONS ON TEST DATA SET: 0.10803257270705129 ± 0.01234174930769131\n",
      "AVG NUMBER OF ACCURATE 1 PREDICTIONS ON TEST DATA SET: 0.3195329615278981 ± 0.03498462248898262\n",
      "POWER SPECTRUM MEAN ERROR ON TEST DATA SET: inf ± nan\n",
      "TEMPORAL DISTANCE ON TEST DATA SET: 0.3520788855058071 ± 0.042413608481577034\n",
      "GEOMETRICAL DISTANCE ON TEST DATA SET: inf ± nan\n"
     ]
    }
   ],
   "source": [
    "!bash ./1_PartPGClustered_ESN_Evaluate_Tuned_Model.sh \"evaluate_tuned_model\" 250 1 1 1 \"grid_search_for_pwc_0.3.json\" 0.3"
   ]
  },
  {
   "cell_type": "code",
   "execution_count": 45,
   "metadata": {},
   "outputs": [
    {
     "name": "stdout",
     "output_type": "stream",
     "text": [
      "Grid Search Progress:   8%|▉           | 2/25 [01:01<11:46, 30.72s/trial, Current Best Loss=0.22990]/home/user/kuei_jan_CHU/PGClustered_ESN/Methods/./Utils/global_utils.py:274: RuntimeWarning: divide by zero encountered in log10\n",
      "  s_dbfs = 20 * np.log10(s_mag)\n",
      "Grid Search Progress:  16%|█▉          | 4/25 [02:02<10:38, 30.40s/trial, Current Best Loss=0.22990]/home/user/kuei_jan_CHU/PGClustered_ESN/Methods/./Utils/global_utils.py:309: RuntimeWarning: invalid value encountered in divide\n",
      "  trajectory = (trajectory-trajectory.mean())/trajectory.std()\n",
      "Grid Search Progress: 100%|███████████| 25/25 [12:47<00:00, 30.70s/trial, Current Best Loss=0.22861]\n",
      "{'radius': 0.9, 'sigma_input': 0.1}\n"
     ]
    }
   ],
   "source": [
    "!bash ./0_PartPGClustered_ESN_Tune.sh \"tune\" 500 1 1 2 \"grid_search_for_pwc_0.3.json\" 0.3"
   ]
  },
  {
   "cell_type": "code",
   "execution_count": 23,
   "metadata": {},
   "outputs": [
    {
     "name": "stdout",
     "output_type": "stream",
     "text": [
      "{'radius': 0.9, 'sigma_input': 0.1}\n",
      "/home/user/anaconda3/lib/python3.11/site-packages/numpy/core/_methods.py:236: RuntimeWarning: invalid value encountered in subtract\n",
      "  x = asanyarray(arr - arrmean)\n",
      "AVERAGE RMNSE ERROR ON TRAIN DATA SET: 3.564327546010565 ± 1.3299178500049798\n",
      "AVG NUMBER OF ACCURATE 0.5 PREDICTIONS ON TRAIN DATA SET: 0.5090548926775139 ± 0.0473107354738357\n",
      "AVG NUMBER OF ACCURATE 1 PREDICTIONS ON TRAIN DATA SET: 0.9536959978724198 ± 0.0961873214225365\n",
      "POWER SPECTRUM MEAN ERROR ON TRAIN DATA SET: inf ± nan\n",
      "TEMPORAL DISTANCE ON TRAIN DATA SET: 0.3183135618311811 ± 0.13640648005706718\n",
      "GEOMETRICAL DISTANCE ON TRAIN DATA SET: inf ± nan\n",
      "\n",
      "\n",
      "AVERAGE RMNSE ERROR ON TEST DATA SET: 3.5874982639360473 ± 1.3615514844707728\n",
      "AVG NUMBER OF ACCURATE 0.5 PREDICTIONS ON TEST DATA SET: 0.43838569801155547 ± 0.04129515729048904\n",
      "AVG NUMBER OF ACCURATE 1 PREDICTIONS ON TEST DATA SET: 0.9330700606732645 ± 0.1105055836581102\n",
      "POWER SPECTRUM MEAN ERROR ON TEST DATA SET: 18.46187231778629 ± 28.035991551863678\n",
      "TEMPORAL DISTANCE ON TEST DATA SET: 0.31930892747512757 ± 0.13433966960127516\n",
      "GEOMETRICAL DISTANCE ON TEST DATA SET: inf ± nan\n"
     ]
    }
   ],
   "source": [
    "!bash ./1_PartPGClustered_ESN_Evaluate_Tuned_Model.sh \"evaluate_tuned_model\" 500 1 1 2 \"grid_search_for_pwc_0.3.json\" 0.3"
   ]
  },
  {
   "cell_type": "code",
   "execution_count": 47,
   "metadata": {},
   "outputs": [
    {
     "name": "stdout",
     "output_type": "stream",
     "text": [
      "Grid Search Progress:  12%|█▍          | 3/25 [02:08<15:33, 42.44s/trial, Current Best Loss=0.16061]/home/user/kuei_jan_CHU/PGClustered_ESN/Methods/./Utils/global_utils.py:274: RuntimeWarning: divide by zero encountered in log10\n",
      "  s_dbfs = 20 * np.log10(s_mag)\n",
      "Grid Search Progress: 100%|███████████| 25/25 [17:22<00:00, 41.72s/trial, Current Best Loss=0.16061]\n",
      "{'radius': 0.1, 'sigma_input': 0.1}\n"
     ]
    }
   ],
   "source": [
    "!bash ./0_PartPGClustered_ESN_Tune.sh \"tune\" 1000 1 1 3 \"grid_search_for_pwc_0.3.json\" 0.3"
   ]
  },
  {
   "cell_type": "code",
   "execution_count": 24,
   "metadata": {},
   "outputs": [
    {
     "name": "stdout",
     "output_type": "stream",
     "text": [
      "{'radius': 0.1, 'sigma_input': 0.1}\n",
      "/home/user/anaconda3/lib/python3.11/site-packages/numpy/core/_methods.py:236: RuntimeWarning: invalid value encountered in subtract\n",
      "  x = asanyarray(arr - arrmean)\n",
      "AVERAGE RMNSE ERROR ON TRAIN DATA SET: 1.767583514779254 ± 0.7902508022501067\n",
      "AVG NUMBER OF ACCURATE 0.5 PREDICTIONS ON TRAIN DATA SET: 1.0248723877154065 ± 0.16886172052857903\n",
      "AVG NUMBER OF ACCURATE 1 PREDICTIONS ON TRAIN DATA SET: 1.95828057850669 ± 0.2691715912663153\n",
      "POWER SPECTRUM MEAN ERROR ON TRAIN DATA SET: 7.243891479968158 ± 17.529434783324383\n",
      "TEMPORAL DISTANCE ON TRAIN DATA SET: 0.15983469885050913 ± 0.05502006009976749\n",
      "GEOMETRICAL DISTANCE ON TRAIN DATA SET: inf ± nan\n",
      "\n",
      "\n",
      "AVERAGE RMNSE ERROR ON TEST DATA SET: 1.7423263588000721 ± 0.7331615408507073\n",
      "AVG NUMBER OF ACCURATE 0.5 PREDICTIONS ON TEST DATA SET: 1.0167572648829521 ± 0.13528839131218\n",
      "AVG NUMBER OF ACCURATE 1 PREDICTIONS ON TEST DATA SET: 1.8845682127785612 ± 0.2536765296101774\n",
      "POWER SPECTRUM MEAN ERROR ON TEST DATA SET: 6.576881986829927 ± 16.86302945828332\n",
      "TEMPORAL DISTANCE ON TEST DATA SET: 0.16151955201418272 ± 0.06317014735363682\n",
      "GEOMETRICAL DISTANCE ON TEST DATA SET: inf ± nan\n"
     ]
    }
   ],
   "source": [
    "!bash ./1_PartPGClustered_ESN_Evaluate_Tuned_Model.sh \"evaluate_tuned_model\" 1000 1 1 3 \"grid_search_for_pwc_0.3.json\" 0.3"
   ]
  },
  {
   "cell_type": "code",
   "execution_count": 49,
   "metadata": {},
   "outputs": [
    {
     "name": "stdout",
     "output_type": "stream",
     "text": [
      "Grid Search Progress:  16%|█▉          | 4/25 [04:19<21:52, 62.48s/trial, Current Best Loss=0.16391]/home/user/kuei_jan_CHU/PGClustered_ESN/Methods/./Utils/global_utils.py:274: RuntimeWarning: divide by zero encountered in log10\n",
      "  s_dbfs = 20 * np.log10(s_mag)\n",
      "Grid Search Progress: 100%|███████████| 25/25 [26:32<00:00, 63.69s/trial, Current Best Loss=0.13263]\n",
      "{'radius': 0.4, 'sigma_input': 0.1}\n"
     ]
    }
   ],
   "source": [
    "!bash ./0_PartPGClustered_ESN_Tune.sh \"tune\" 1500 1 1 4 \"grid_search_for_pwc_0.3.json\" 0.3"
   ]
  },
  {
   "cell_type": "code",
   "execution_count": 25,
   "metadata": {},
   "outputs": [
    {
     "name": "stdout",
     "output_type": "stream",
     "text": [
      "{'radius': 0.4, 'sigma_input': 0.1}\n",
      "AVERAGE RMNSE ERROR ON TRAIN DATA SET: 1.4277036767389402 ± 0.03008009313662553\n",
      "AVG NUMBER OF ACCURATE 0.5 PREDICTIONS ON TRAIN DATA SET: 1.228595783821818 ± 0.18829180253358735\n",
      "AVG NUMBER OF ACCURATE 1 PREDICTIONS ON TRAIN DATA SET: 2.229122803039861 ± 0.30938097416988375\n",
      "POWER SPECTRUM MEAN ERROR ON TRAIN DATA SET: 0.7257508566707273 ± 0.6151206675598292\n",
      "TEMPORAL DISTANCE ON TRAIN DATA SET: 0.11896894431203993 ± 0.004469384986196061\n",
      "GEOMETRICAL DISTANCE ON TRAIN DATA SET: 13.664893648192969 ± 0.45854346621223474\n",
      "\n",
      "\n",
      "AVERAGE RMNSE ERROR ON TEST DATA SET: 1.4302414608559826 ± 0.029660321340022312\n",
      "AVG NUMBER OF ACCURATE 0.5 PREDICTIONS ON TEST DATA SET: 1.1445704494941114 ± 0.13105977461163498\n",
      "AVG NUMBER OF ACCURATE 1 PREDICTIONS ON TEST DATA SET: 2.1900687744086738 ± 0.28276372459307425\n",
      "POWER SPECTRUM MEAN ERROR ON TEST DATA SET: 0.6799407845368381 ± 0.3721051041872843\n",
      "TEMPORAL DISTANCE ON TEST DATA SET: 0.11944426384729438 ± 0.00725910549711364\n",
      "GEOMETRICAL DISTANCE ON TEST DATA SET: 13.665063350548403 ± 0.5465780404164158\n"
     ]
    }
   ],
   "source": [
    "!bash ./1_PartPGClustered_ESN_Evaluate_Tuned_Model.sh \"evaluate_tuned_model\" 1500 1 1 4 \"grid_search_for_pwc_0.3.json\" 0.3"
   ]
  },
  {
   "cell_type": "code",
   "execution_count": 51,
   "metadata": {},
   "outputs": [
    {
     "name": "stdout",
     "output_type": "stream",
     "text": [
      "Grid Search Progress:  12%|█▍          | 3/25 [04:47<34:17, 93.53s/trial, Current Best Loss=0.16631]/home/user/kuei_jan_CHU/PGClustered_ESN/Methods/./Utils/global_utils.py:274: RuntimeWarning: divide by zero encountered in log10\n",
      "  s_dbfs = 20 * np.log10(s_mag)\n",
      "Grid Search Progress: 100%|███████████| 25/25 [35:36<00:00, 85.45s/trial, Current Best Loss=0.12752]\n",
      "{'radius': 0.9, 'sigma_input': 0.1}\n"
     ]
    }
   ],
   "source": [
    "!bash ./0_PartPGClustered_ESN_Tune.sh \"tune\" 2000 1 1 5 \"grid_search_for_pwc_0.3.json\" 0.3"
   ]
  },
  {
   "cell_type": "code",
   "execution_count": 26,
   "metadata": {},
   "outputs": [
    {
     "name": "stdout",
     "output_type": "stream",
     "text": [
      "{'radius': 0.9, 'sigma_input': 0.1}\n",
      "AVERAGE RMNSE ERROR ON TRAIN DATA SET: 1.4306352891324445 ± 0.05399523627623571\n",
      "AVG NUMBER OF ACCURATE 0.5 PREDICTIONS ON TRAIN DATA SET: 1.4022255994245434 ± 0.23525474341384398\n",
      "AVG NUMBER OF ACCURATE 1 PREDICTIONS ON TRAIN DATA SET: 2.4117130667700883 ± 0.40045246091205866\n",
      "POWER SPECTRUM MEAN ERROR ON TRAIN DATA SET: 0.8912941897378627 ± 1.0227884102344684\n",
      "TEMPORAL DISTANCE ON TRAIN DATA SET: 0.11943500302373647 ± 0.01290820919931954\n",
      "GEOMETRICAL DISTANCE ON TRAIN DATA SET: 13.614726806596034 ± 0.5340096624641688\n",
      "\n",
      "\n",
      "AVERAGE RMNSE ERROR ON TEST DATA SET: 1.434041038544723 ± 0.05415468503243949\n",
      "AVG NUMBER OF ACCURATE 0.5 PREDICTIONS ON TEST DATA SET: 1.2216641164024296 ± 0.17749286987072904\n",
      "AVG NUMBER OF ACCURATE 1 PREDICTIONS ON TEST DATA SET: 2.2396048366984482 ± 0.25592010753783717\n",
      "POWER SPECTRUM MEAN ERROR ON TEST DATA SET: 0.8723718728306901 ± 0.6749650805657521\n",
      "TEMPORAL DISTANCE ON TEST DATA SET: 0.11979589931269034 ± 0.014926235467989457\n",
      "GEOMETRICAL DISTANCE ON TEST DATA SET: 13.707505352696268 ± 0.6392898643924829\n"
     ]
    }
   ],
   "source": [
    "!bash ./1_PartPGClustered_ESN_Evaluate_Tuned_Model.sh \"evaluate_tuned_model\" 2000 1 1 5 \"grid_search_for_pwc_0.3.json\" 0.3"
   ]
  },
  {
   "cell_type": "code",
   "execution_count": 53,
   "metadata": {},
   "outputs": [
    {
     "name": "stdout",
     "output_type": "stream",
     "text": [
      "Grid Search Progress: 100%|██████████| 25/25 [59:53<00:00, 143.73s/trial, Current Best Loss=0.12771]\n",
      "{'radius': 0.7, 'sigma_input': 0.1}\n"
     ]
    }
   ],
   "source": [
    "!bash ./0_PartPGClustered_ESN_Tune.sh \"tune\" 2500 1 1 6 \"grid_search_for_pwc_0.3.json\" 0.3"
   ]
  },
  {
   "cell_type": "code",
   "execution_count": 27,
   "metadata": {},
   "outputs": [
    {
     "name": "stdout",
     "output_type": "stream",
     "text": [
      "{'radius': 0.7, 'sigma_input': 0.1}\n",
      "AVERAGE RMNSE ERROR ON TRAIN DATA SET: 1.4022458515473564 ± 0.028040508247185143\n",
      "AVG NUMBER OF ACCURATE 0.5 PREDICTIONS ON TRAIN DATA SET: 1.496732967410837 ± 0.21419555517720096\n",
      "AVG NUMBER OF ACCURATE 1 PREDICTIONS ON TRAIN DATA SET: 2.6820480961262305 ± 0.3810376882908431\n",
      "POWER SPECTRUM MEAN ERROR ON TRAIN DATA SET: 0.5847776418974547 ± 0.22928600746905722\n",
      "TEMPORAL DISTANCE ON TRAIN DATA SET: 0.11386912485394085 ± 0.004682210527065996\n",
      "GEOMETRICAL DISTANCE ON TRAIN DATA SET: 13.29702795354486 ± 0.35519850095764693\n",
      "\n",
      "\n",
      "AVERAGE RMNSE ERROR ON TEST DATA SET: 1.4099118563268527 ± 0.027108519546106734\n",
      "AVG NUMBER OF ACCURATE 0.5 PREDICTIONS ON TEST DATA SET: 1.3075491663792405 ± 0.15733263790422028\n",
      "AVG NUMBER OF ACCURATE 1 PREDICTIONS ON TEST DATA SET: 2.342565457635215 ± 0.2818879886523559\n",
      "POWER SPECTRUM MEAN ERROR ON TEST DATA SET: 0.660668653754772 ± 0.3711650379732848\n",
      "TEMPORAL DISTANCE ON TEST DATA SET: 0.11583309931397731 ± 0.007356643412702945\n",
      "GEOMETRICAL DISTANCE ON TEST DATA SET: 13.45209416141375 ± 0.23654148736885422\n"
     ]
    }
   ],
   "source": [
    "!bash ./1_PartPGClustered_ESN_Evaluate_Tuned_Model.sh \"evaluate_tuned_model\" 2500 1 1 6 \"grid_search_for_pwc_0.3.json\" 0.3"
   ]
  },
  {
   "cell_type": "code",
   "execution_count": 55,
   "metadata": {},
   "outputs": [
    {
     "name": "stdout",
     "output_type": "stream",
     "text": [
      "Grid Search Progress: 100%|████████| 25/25 [1:22:31<00:00, 198.07s/trial, Current Best Loss=0.12755]\n",
      "{'radius': 0.9, 'sigma_input': 0.1}\n"
     ]
    }
   ],
   "source": [
    "!bash ./0_PartPGClustered_ESN_Tune.sh \"tune\" 3000 1 1 7 \"grid_search_for_pwc_0.3.json\" 0.3"
   ]
  },
  {
   "cell_type": "code",
   "execution_count": 28,
   "metadata": {},
   "outputs": [
    {
     "name": "stdout",
     "output_type": "stream",
     "text": [
      "{'radius': 0.9, 'sigma_input': 0.1}\n",
      "AVERAGE RMNSE ERROR ON TRAIN DATA SET: 1.4077129219957816 ± 0.024271383590987954\n",
      "AVG NUMBER OF ACCURATE 0.5 PREDICTIONS ON TRAIN DATA SET: 1.5603014295983977 ± 0.2575315940960243\n",
      "AVG NUMBER OF ACCURATE 1 PREDICTIONS ON TRAIN DATA SET: 2.715184847692087 ± 0.34284960052020264\n",
      "POWER SPECTRUM MEAN ERROR ON TRAIN DATA SET: 0.7825850716486844 ± 0.4366773172852602\n",
      "TEMPORAL DISTANCE ON TRAIN DATA SET: 0.11540378450809616 ± 0.004955316516544688\n",
      "GEOMETRICAL DISTANCE ON TRAIN DATA SET: 13.392976335341894 ± 0.3081471440776908\n",
      "\n",
      "\n",
      "AVERAGE RMNSE ERROR ON TEST DATA SET: 1.407692242597505 ± 0.01539917715590565\n",
      "AVG NUMBER OF ACCURATE 0.5 PREDICTIONS ON TEST DATA SET: 1.281513147291782 ± 0.18365321883859462\n",
      "AVG NUMBER OF ACCURATE 1 PREDICTIONS ON TEST DATA SET: 2.2992848025287906 ± 0.3085953742721933\n",
      "POWER SPECTRUM MEAN ERROR ON TEST DATA SET: 0.7822911787961341 ± 0.4060144838339722\n",
      "TEMPORAL DISTANCE ON TEST DATA SET: 0.11342327111795018 ± 0.003337870342568962\n",
      "GEOMETRICAL DISTANCE ON TEST DATA SET: 13.373506299289636 ± 0.24088183921592893\n"
     ]
    }
   ],
   "source": [
    "!bash ./1_PartPGClustered_ESN_Evaluate_Tuned_Model.sh \"evaluate_tuned_model\" 3000 1 1 7 \"grid_search_for_pwc_0.3.json\" 0.3"
   ]
  },
  {
   "cell_type": "code",
   "execution_count": 57,
   "metadata": {},
   "outputs": [
    {
     "name": "stdout",
     "output_type": "stream",
     "text": [
      "Grid Search Progress: 100%|████████| 25/25 [2:21:53<00:00, 340.54s/trial, Current Best Loss=0.12593]\n",
      "{'radius': 0.7, 'sigma_input': 0.1}\n"
     ]
    }
   ],
   "source": [
    "!bash ./0_PartPGClustered_ESN_Tune.sh \"tune\" 3500 1 1 8 \"grid_search_for_pwc_0.3.json\" 0.3"
   ]
  },
  {
   "cell_type": "code",
   "execution_count": 29,
   "metadata": {},
   "outputs": [
    {
     "name": "stdout",
     "output_type": "stream",
     "text": [
      "{'radius': 0.7, 'sigma_input': 0.1}\n",
      "/home/user/anaconda3/lib/python3.11/site-packages/numpy/core/_methods.py:236: RuntimeWarning: invalid value encountered in subtract\n",
      "  x = asanyarray(arr - arrmean)\n",
      "AVERAGE RMNSE ERROR ON TRAIN DATA SET: 1.4093136377010202 ± 0.050243816791173845\n",
      "AVG NUMBER OF ACCURATE 0.5 PREDICTIONS ON TRAIN DATA SET: 1.5775460656173639 ± 0.23960336540435762\n",
      "AVG NUMBER OF ACCURATE 1 PREDICTIONS ON TRAIN DATA SET: 2.890505313884907 ± 0.3252295448412404\n",
      "POWER SPECTRUM MEAN ERROR ON TRAIN DATA SET: 0.9000633060812573 ± 1.0901069527922542\n",
      "TEMPORAL DISTANCE ON TRAIN DATA SET: 0.11901256856104933 ± 0.023562120670267937\n",
      "GEOMETRICAL DISTANCE ON TRAIN DATA SET: 13.163563965214502 ± 0.25690606692045637\n",
      "\n",
      "\n",
      "AVERAGE RMNSE ERROR ON TEST DATA SET: 1.6047067638364592 ± 0.6173288806940798\n",
      "AVG NUMBER OF ACCURATE 0.5 PREDICTIONS ON TEST DATA SET: 1.3611427900852424 ± 0.20925644794769366\n",
      "AVG NUMBER OF ACCURATE 1 PREDICTIONS ON TEST DATA SET: 2.4620944543549106 ± 0.3146337086496746\n",
      "POWER SPECTRUM MEAN ERROR ON TEST DATA SET: 1.9546174669555836 ± 3.624858575486749\n",
      "TEMPORAL DISTANCE ON TEST DATA SET: 0.12915147815507694 ± 0.052909392134895726\n",
      "GEOMETRICAL DISTANCE ON TEST DATA SET: inf ± nan\n"
     ]
    }
   ],
   "source": [
    "!bash ./1_PartPGClustered_ESN_Evaluate_Tuned_Model.sh \"evaluate_tuned_model\" 3500 1 1 8 \"grid_search_for_pwc_0.3.json\" 0.3"
   ]
  },
  {
   "cell_type": "code",
   "execution_count": 59,
   "metadata": {},
   "outputs": [
    {
     "name": "stdout",
     "output_type": "stream",
     "text": [
      "Grid Search Progress:   0%|                                               | 0/25 [00:00<?, ?trial/s]/home/user/kuei_jan_CHU/PGClustered_ESN/Methods/./Utils/global_utils.py:274: RuntimeWarning: divide by zero encountered in log10\n",
      "  s_dbfs = 20 * np.log10(s_mag)\n",
      "Grid Search Progress: 100%|████████| 25/25 [3:07:15<00:00, 449.41s/trial, Current Best Loss=0.12544]\n",
      "{'radius': 0.99, 'sigma_input': 0.1}\n"
     ]
    }
   ],
   "source": [
    "!bash ./0_PartPGClustered_ESN_Tune.sh \"tune\" 4000 1 1 9 \"grid_search_for_pwc_0.3.json\" 0.3"
   ]
  },
  {
   "cell_type": "code",
   "execution_count": 30,
   "metadata": {},
   "outputs": [
    {
     "name": "stdout",
     "output_type": "stream",
     "text": [
      "{'radius': 0.99, 'sigma_input': 0.1}\n",
      "AVERAGE RMNSE ERROR ON TRAIN DATA SET: 1.3823813045225453 ± 0.015078083515882674\n",
      "AVG NUMBER OF ACCURATE 0.5 PREDICTIONS ON TRAIN DATA SET: 1.5433949236974507 ± 0.23399416495759556\n",
      "AVG NUMBER OF ACCURATE 1 PREDICTIONS ON TRAIN DATA SET: 2.7797677002337045 ± 0.27423040496979434\n",
      "POWER SPECTRUM MEAN ERROR ON TRAIN DATA SET: 0.4736548286399483 ± 0.32704937561701214\n",
      "TEMPORAL DISTANCE ON TRAIN DATA SET: 0.11296645665360261 ± 0.002493862666532628\n",
      "GEOMETRICAL DISTANCE ON TRAIN DATA SET: 12.792546572866218 ± 0.20262772141300606\n",
      "\n",
      "\n",
      "AVERAGE RMNSE ERROR ON TEST DATA SET: 1.394373093260736 ± 0.022246296133831608\n",
      "AVG NUMBER OF ACCURATE 0.5 PREDICTIONS ON TEST DATA SET: 1.2108439526258237 ± 0.12036624841252154\n",
      "AVG NUMBER OF ACCURATE 1 PREDICTIONS ON TEST DATA SET: 2.33783163598295 ± 0.24468194378236782\n",
      "POWER SPECTRUM MEAN ERROR ON TEST DATA SET: 0.8350984424372401 ± 0.4089656442436583\n",
      "TEMPORAL DISTANCE ON TEST DATA SET: 0.11279197484028307 ± 0.004520426731364435\n",
      "GEOMETRICAL DISTANCE ON TEST DATA SET: 12.888938274692268 ± 0.28117110739997864\n"
     ]
    }
   ],
   "source": [
    "!bash ./1_PartPGClustered_ESN_Evaluate_Tuned_Model.sh \"evaluate_tuned_model\" 4000 1 1 9 \"grid_search_for_pwc_0.3.json\" 0.3"
   ]
  },
  {
   "cell_type": "markdown",
   "metadata": {},
   "source": [
    "### probability of wrong coupling = 0.4"
   ]
  },
  {
   "cell_type": "code",
   "execution_count": 61,
   "metadata": {},
   "outputs": [
    {
     "name": "stdout",
     "output_type": "stream",
     "text": [
      "Grid Search Progress:   4%|▍           | 1/25 [00:44<17:48, 44.54s/trial, Current Best Loss=0.50945]/home/user/kuei_jan_CHU/PGClustered_ESN/Methods/./Utils/global_utils.py:274: RuntimeWarning: divide by zero encountered in log10\n",
      "  s_dbfs = 20 * np.log10(s_mag)\n",
      "/home/user/kuei_jan_CHU/PGClustered_ESN/Methods/./Utils/global_utils.py:309: RuntimeWarning: invalid value encountered in divide\n",
      "  trajectory = (trajectory-trajectory.mean())/trajectory.std()\n",
      "Grid Search Progress:   8%|▉           | 2/25 [01:28<16:58, 44.28s/trial, Current Best Loss=0.50945]/home/user/kuei_jan_CHU/PGClustered_ESN/Methods/./Utils/global_utils.py:321: RuntimeWarning: Mean of empty slice\n",
      "  spectrum = np.nanmean(np.array(spectrum),axis=0)\n",
      "Grid Search Progress: 100%|███████████| 25/25 [18:10<00:00, 43.62s/trial, Current Best Loss=0.43496]\n",
      "{'radius': 0.9, 'sigma_input': 0.1}\n"
     ]
    }
   ],
   "source": [
    "!bash ./0_PartPGClustered_ESN_Tune.sh \"tune\" 40 1 1 0 \"grid_search_for_pwc_0.4.json\" 0.4"
   ]
  },
  {
   "cell_type": "code",
   "execution_count": 31,
   "metadata": {},
   "outputs": [
    {
     "name": "stdout",
     "output_type": "stream",
     "text": [
      "{'radius': 0.9, 'sigma_input': 0.1}\n",
      "/home/user/anaconda3/lib/python3.11/site-packages/numpy/core/_methods.py:236: RuntimeWarning: invalid value encountered in subtract\n",
      "  x = asanyarray(arr - arrmean)\n",
      "AVERAGE RMNSE ERROR ON TRAIN DATA SET: 1.564034653365935 ± 0.08513719908787448\n",
      "AVG NUMBER OF ACCURATE 0.5 PREDICTIONS ON TRAIN DATA SET: 0.0006762602360378797 ± 0.0015495068605661435\n",
      "AVG NUMBER OF ACCURATE 1 PREDICTIONS ON TRAIN DATA SET: 0.4005151247934342 ± 0.05848013911054445\n",
      "POWER SPECTRUM MEAN ERROR ON TRAIN DATA SET: inf ± nan\n",
      "TEMPORAL DISTANCE ON TRAIN DATA SET: 0.39498920311872887 ± 0.04060628710184785\n",
      "GEOMETRICAL DISTANCE ON TRAIN DATA SET: inf ± nan\n",
      "\n",
      "\n",
      "AVERAGE RMNSE ERROR ON TEST DATA SET: 1.5905376963810633 ± 0.06612116099471026\n",
      "AVG NUMBER OF ACCURATE 0.5 PREDICTIONS ON TEST DATA SET: 0.0008453252950473497 ± 0.0017324013359140925\n",
      "AVG NUMBER OF ACCURATE 1 PREDICTIONS ON TEST DATA SET: 0.33424162166172205 ± 0.06974440860875541\n",
      "POWER SPECTRUM MEAN ERROR ON TEST DATA SET: inf ± nan\n",
      "TEMPORAL DISTANCE ON TEST DATA SET: 0.40619012924732234 ± 0.026732221966932684\n",
      "GEOMETRICAL DISTANCE ON TEST DATA SET: inf ± nan\n"
     ]
    }
   ],
   "source": [
    "!bash ./1_PartPGClustered_ESN_Evaluate_Tuned_Model.sh \"evaluate_tuned_model\" 40 1 1 0 \"grid_search_for_pwc_0.4.json\" 0.4"
   ]
  },
  {
   "cell_type": "code",
   "execution_count": 63,
   "metadata": {},
   "outputs": [
    {
     "name": "stdout",
     "output_type": "stream",
     "text": [
      "Grid Search Progress:   8%|▉           | 2/25 [00:53<10:08, 26.44s/trial, Current Best Loss=0.27342]/home/user/kuei_jan_CHU/PGClustered_ESN/Methods/./Utils/global_utils.py:274: RuntimeWarning: divide by zero encountered in log10\n",
      "  s_dbfs = 20 * np.log10(s_mag)\n",
      "Grid Search Progress:  12%|█▍          | 3/25 [01:19<09:38, 26.28s/trial, Current Best Loss=0.27342]/home/user/kuei_jan_CHU/PGClustered_ESN/Methods/./Utils/global_utils.py:309: RuntimeWarning: invalid value encountered in divide\n",
      "  trajectory = (trajectory-trajectory.mean())/trajectory.std()\n",
      "Grid Search Progress: 100%|███████████| 25/25 [11:02<00:00, 26.51s/trial, Current Best Loss=0.27342]\n",
      "{'radius': 0.1, 'sigma_input': 0.1}\n"
     ]
    }
   ],
   "source": [
    "!bash ./0_PartPGClustered_ESN_Tune.sh \"tune\" 250 1 1 1 \"grid_search_for_pwc_0.4.json\" 0.4"
   ]
  },
  {
   "cell_type": "code",
   "execution_count": 32,
   "metadata": {},
   "outputs": [
    {
     "name": "stdout",
     "output_type": "stream",
     "text": [
      "{'radius': 0.1, 'sigma_input': 0.1}\n",
      "/home/user/anaconda3/lib/python3.11/site-packages/numpy/core/_methods.py:236: RuntimeWarning: invalid value encountered in subtract\n",
      "  x = asanyarray(arr - arrmean)\n",
      "AVERAGE RMNSE ERROR ON TRAIN DATA SET: 3.528546446898111 ± 1.6317887205170636\n",
      "AVG NUMBER OF ACCURATE 0.5 PREDICTIONS ON TRAIN DATA SET: 0.3541912986248395 ± 0.04100481230920987\n",
      "AVG NUMBER OF ACCURATE 1 PREDICTIONS ON TRAIN DATA SET: 0.8106669579504082 ± 0.09767293919903626\n",
      "POWER SPECTRUM MEAN ERROR ON TRAIN DATA SET: inf ± nan\n",
      "TEMPORAL DISTANCE ON TRAIN DATA SET: 0.27543006022539607 ± 0.06775587940282177\n",
      "GEOMETRICAL DISTANCE ON TRAIN DATA SET: inf ± nan\n",
      "\n",
      "\n",
      "AVERAGE RMNSE ERROR ON TEST DATA SET: 3.525187964912322 ± 1.5684971264515974\n",
      "AVG NUMBER OF ACCURATE 0.5 PREDICTIONS ON TEST DATA SET: 0.3169969856427561 ± 0.015126363356533966\n",
      "AVG NUMBER OF ACCURATE 1 PREDICTIONS ON TEST DATA SET: 0.7396596331664308 ± 0.11176018839827956\n",
      "POWER SPECTRUM MEAN ERROR ON TEST DATA SET: inf ± nan\n",
      "TEMPORAL DISTANCE ON TEST DATA SET: 0.27241964996636464 ± 0.0799302528617766\n",
      "GEOMETRICAL DISTANCE ON TEST DATA SET: inf ± nan\n"
     ]
    }
   ],
   "source": [
    "!bash ./1_PartPGClustered_ESN_Evaluate_Tuned_Model.sh \"evaluate_tuned_model\" 250 1 1 1 \"grid_search_for_pwc_0.4.json\" 0.4"
   ]
  },
  {
   "cell_type": "code",
   "execution_count": 65,
   "metadata": {},
   "outputs": [
    {
     "name": "stdout",
     "output_type": "stream",
     "text": [
      "Grid Search Progress:   8%|▉           | 2/25 [01:04<12:22, 32.28s/trial, Current Best Loss=0.15437]/home/user/kuei_jan_CHU/PGClustered_ESN/Methods/./Utils/global_utils.py:274: RuntimeWarning: divide by zero encountered in log10\n",
      "  s_dbfs = 20 * np.log10(s_mag)\n",
      "Grid Search Progress: 100%|███████████| 25/25 [13:12<00:00, 31.68s/trial, Current Best Loss=0.15437]\n",
      "{'radius': 0.1, 'sigma_input': 0.1}\n"
     ]
    }
   ],
   "source": [
    "!bash ./0_PartPGClustered_ESN_Tune.sh \"tune\" 500 1 1 2 \"grid_search_for_pwc_0.4.json\" 0.4"
   ]
  },
  {
   "cell_type": "code",
   "execution_count": 33,
   "metadata": {},
   "outputs": [
    {
     "name": "stdout",
     "output_type": "stream",
     "text": [
      "{'radius': 0.1, 'sigma_input': 0.1}\n",
      "/home/user/anaconda3/lib/python3.11/site-packages/numpy/core/_methods.py:236: RuntimeWarning: invalid value encountered in subtract\n",
      "  x = asanyarray(arr - arrmean)\n",
      "AVERAGE RMNSE ERROR ON TRAIN DATA SET: 2.494821418488555 ± 1.6990193640598985\n",
      "AVG NUMBER OF ACCURATE 0.5 PREDICTIONS ON TRAIN DATA SET: 0.7078754020726507 ± 0.1429015848177885\n",
      "AVG NUMBER OF ACCURATE 1 PREDICTIONS ON TRAIN DATA SET: 1.4595386544287536 ± 0.2934592022775892\n",
      "POWER SPECTRUM MEAN ERROR ON TRAIN DATA SET: 5.144591181043633 ± 5.150014694980492\n",
      "TEMPORAL DISTANCE ON TRAIN DATA SET: 0.251460805978035 ± 0.168411664454819\n",
      "GEOMETRICAL DISTANCE ON TRAIN DATA SET: inf ± nan\n",
      "\n",
      "\n",
      "AVERAGE RMNSE ERROR ON TEST DATA SET: 2.3746576469777048 ± 1.5299233966247074\n",
      "AVG NUMBER OF ACCURATE 0.5 PREDICTIONS ON TEST DATA SET: 0.6253716532760292 ± 0.08898493296116305\n",
      "AVG NUMBER OF ACCURATE 1 PREDICTIONS ON TEST DATA SET: 1.4225134065056797 ± 0.30389621886502577\n",
      "POWER SPECTRUM MEAN ERROR ON TEST DATA SET: inf ± nan\n",
      "TEMPORAL DISTANCE ON TEST DATA SET: 0.24283858250858933 ± 0.16492199616810246\n",
      "GEOMETRICAL DISTANCE ON TEST DATA SET: inf ± nan\n"
     ]
    }
   ],
   "source": [
    "!bash ./1_PartPGClustered_ESN_Evaluate_Tuned_Model.sh \"evaluate_tuned_model\" 500 1 1 2 \"grid_search_for_pwc_0.4.json\" 0.4"
   ]
  },
  {
   "cell_type": "code",
   "execution_count": 67,
   "metadata": {},
   "outputs": [
    {
     "name": "stdout",
     "output_type": "stream",
     "text": [
      "Grid Search Progress:  12%|█▍          | 3/25 [02:10<15:44, 42.93s/trial, Current Best Loss=0.16737]/home/user/kuei_jan_CHU/PGClustered_ESN/Methods/./Utils/global_utils.py:274: RuntimeWarning: divide by zero encountered in log10\n",
      "  s_dbfs = 20 * np.log10(s_mag)\n",
      "Grid Search Progress: 100%|███████████| 25/25 [17:36<00:00, 42.26s/trial, Current Best Loss=0.16028]\n",
      "{'radius': 0.9, 'sigma_input': 0.1}\n"
     ]
    }
   ],
   "source": [
    "!bash ./0_PartPGClustered_ESN_Tune.sh \"tune\" 1000 1 1 3 \"grid_search_for_pwc_0.4.json\" 0.4"
   ]
  },
  {
   "cell_type": "code",
   "execution_count": 34,
   "metadata": {},
   "outputs": [
    {
     "name": "stdout",
     "output_type": "stream",
     "text": [
      "{'radius': 0.9, 'sigma_input': 0.1}\n",
      "/home/user/anaconda3/lib/python3.11/site-packages/numpy/core/_methods.py:236: RuntimeWarning: invalid value encountered in subtract\n",
      "  x = asanyarray(arr - arrmean)\n",
      "AVERAGE RMNSE ERROR ON TRAIN DATA SET: 2.252167724599125 ± 0.6636982297950162\n",
      "AVG NUMBER OF ACCURATE 0.5 PREDICTIONS ON TRAIN DATA SET: 0.8241921626711658 ± 0.09964302169543902\n",
      "AVG NUMBER OF ACCURATE 1 PREDICTIONS ON TRAIN DATA SET: 1.6284346483792143 ± 0.2082944650981013\n",
      "POWER SPECTRUM MEAN ERROR ON TRAIN DATA SET: 5.227013154446638 ± 2.9414988078012323\n",
      "TEMPORAL DISTANCE ON TRAIN DATA SET: 0.24023077822419658 ± 0.07820729200528273\n",
      "GEOMETRICAL DISTANCE ON TRAIN DATA SET: inf ± nan\n",
      "\n",
      "\n",
      "AVERAGE RMNSE ERROR ON TEST DATA SET: 2.217674911515504 ± 0.6063359032811412\n",
      "AVG NUMBER OF ACCURATE 0.5 PREDICTIONS ON TEST DATA SET: 0.7203862164393512 ± 0.15937096935580145\n",
      "AVG NUMBER OF ACCURATE 1 PREDICTIONS ON TEST DATA SET: 1.4595386544287536 ± 0.25035224495968894\n",
      "POWER SPECTRUM MEAN ERROR ON TEST DATA SET: 5.251721439829113 ± 3.281134230971235\n",
      "TEMPORAL DISTANCE ON TEST DATA SET: 0.2425474983953063 ± 0.0846466394164401\n",
      "GEOMETRICAL DISTANCE ON TEST DATA SET: inf ± nan\n"
     ]
    }
   ],
   "source": [
    "!bash ./1_PartPGClustered_ESN_Evaluate_Tuned_Model.sh \"evaluate_tuned_model\" 1000 1 1 3 \"grid_search_for_pwc_0.4.json\" 0.4"
   ]
  },
  {
   "cell_type": "code",
   "execution_count": 69,
   "metadata": {},
   "outputs": [
    {
     "name": "stdout",
     "output_type": "stream",
     "text": [
      "Grid Search Progress:  12%|█▍          | 3/25 [03:24<24:30, 66.83s/trial, Current Best Loss=0.16050]/home/user/kuei_jan_CHU/PGClustered_ESN/Methods/./Utils/global_utils.py:274: RuntimeWarning: divide by zero encountered in log10\n",
      "  s_dbfs = 20 * np.log10(s_mag)\n",
      "Grid Search Progress: 100%|███████████| 25/25 [26:56<00:00, 64.65s/trial, Current Best Loss=0.14328]\n",
      "{'radius': 0.9, 'sigma_input': 0.1}\n"
     ]
    }
   ],
   "source": [
    "!bash ./0_PartPGClustered_ESN_Tune.sh \"tune\" 1500 1 1 4 \"grid_search_for_pwc_0.4.json\" 0.4"
   ]
  },
  {
   "cell_type": "code",
   "execution_count": 35,
   "metadata": {},
   "outputs": [
    {
     "name": "stdout",
     "output_type": "stream",
     "text": [
      "{'radius': 0.9, 'sigma_input': 0.1}\n",
      "/home/user/anaconda3/lib/python3.11/site-packages/numpy/core/_methods.py:236: RuntimeWarning: invalid value encountered in subtract\n",
      "  x = asanyarray(arr - arrmean)\n",
      "AVERAGE RMNSE ERROR ON TRAIN DATA SET: 1.9721503661741508 ± 0.7781632669873901\n",
      "AVG NUMBER OF ACCURATE 0.5 PREDICTIONS ON TRAIN DATA SET: 1.046681780327628 ± 0.17633485654687714\n",
      "AVG NUMBER OF ACCURATE 1 PREDICTIONS ON TRAIN DATA SET: 1.970622327814381 ± 0.2782301369798041\n",
      "POWER SPECTRUM MEAN ERROR ON TRAIN DATA SET: 7.9042568055825715 ± 13.102413998464066\n",
      "TEMPORAL DISTANCE ON TRAIN DATA SET: 0.21156760100057279 ± 0.10624743569257249\n",
      "GEOMETRICAL DISTANCE ON TRAIN DATA SET: inf ± nan\n",
      "\n",
      "\n",
      "AVERAGE RMNSE ERROR ON TEST DATA SET: 2.0398104260018686 ± 0.8153769524867429\n",
      "AVG NUMBER OF ACCURATE 0.5 PREDICTIONS ON TEST DATA SET: 0.8275734638513553 ± 0.16528174058417244\n",
      "AVG NUMBER OF ACCURATE 1 PREDICTIONS ON TEST DATA SET: 1.6909887202127183 ± 0.24409247639328183\n",
      "POWER SPECTRUM MEAN ERROR ON TEST DATA SET: 4.019247159720238 ± 4.5264313139963175\n",
      "TEMPORAL DISTANCE ON TEST DATA SET: 0.218028630472535 ± 0.11802737831512612\n",
      "GEOMETRICAL DISTANCE ON TEST DATA SET: inf ± nan\n"
     ]
    }
   ],
   "source": [
    "!bash ./1_PartPGClustered_ESN_Evaluate_Tuned_Model.sh \"evaluate_tuned_model\" 1500 1 1 4 \"grid_search_for_pwc_0.4.json\" 0.4"
   ]
  },
  {
   "cell_type": "code",
   "execution_count": 71,
   "metadata": {},
   "outputs": [
    {
     "name": "stdout",
     "output_type": "stream",
     "text": [
      "Grid Search Progress:  56%|██████▏    | 14/25 [19:07<14:35, 79.59s/trial, Current Best Loss=0.13977]/home/user/kuei_jan_CHU/PGClustered_ESN/Methods/./Utils/global_utils.py:274: RuntimeWarning: divide by zero encountered in log10\n",
      "  s_dbfs = 20 * np.log10(s_mag)\n",
      "Grid Search Progress: 100%|███████████| 25/25 [33:35<00:00, 80.61s/trial, Current Best Loss=0.13970]\n",
      "{'radius': 0.9, 'sigma_input': 0.1}\n"
     ]
    }
   ],
   "source": [
    "!bash ./0_PartPGClustered_ESN_Tune.sh \"tune\" 2000 1 1 5 \"grid_search_for_pwc_0.4.json\" 0.4"
   ]
  },
  {
   "cell_type": "code",
   "execution_count": 36,
   "metadata": {},
   "outputs": [
    {
     "name": "stdout",
     "output_type": "stream",
     "text": [
      "{'radius': 0.9, 'sigma_input': 0.1}\n",
      "/home/user/anaconda3/lib/python3.11/site-packages/numpy/core/_methods.py:236: RuntimeWarning: invalid value encountered in subtract\n",
      "  x = asanyarray(arr - arrmean)\n",
      "AVERAGE RMNSE ERROR ON TRAIN DATA SET: 1.78609959163743 ± 0.8867076479421407\n",
      "AVG NUMBER OF ACCURATE 0.5 PREDICTIONS ON TRAIN DATA SET: 1.12580422794406 ± 0.1761775542590561\n",
      "AVG NUMBER OF ACCURATE 1 PREDICTIONS ON TRAIN DATA SET: 2.1041837244318624 ± 0.3153978344719352\n",
      "POWER SPECTRUM MEAN ERROR ON TRAIN DATA SET: 2.4739695446771948 ± 3.13994740306273\n",
      "TEMPORAL DISTANCE ON TRAIN DATA SET: 0.16360400436310565 ± 0.0829365478951224\n",
      "GEOMETRICAL DISTANCE ON TRAIN DATA SET: inf ± nan\n",
      "\n",
      "\n",
      "AVERAGE RMNSE ERROR ON TEST DATA SET: 1.809649821119186 ± 0.9677391614187117\n",
      "AVG NUMBER OF ACCURATE 0.5 PREDICTIONS ON TEST DATA SET: 0.9476096557480789 ± 0.13416620039499433\n",
      "AVG NUMBER OF ACCURATE 1 PREDICTIONS ON TEST DATA SET: 1.90401069456465 ± 0.193686586697689\n",
      "POWER SPECTRUM MEAN ERROR ON TEST DATA SET: 1.9425643919846727 ± 2.6701524823334695\n",
      "TEMPORAL DISTANCE ON TEST DATA SET: 0.16097270421354656 ± 0.08968119399001086\n",
      "GEOMETRICAL DISTANCE ON TEST DATA SET: inf ± nan\n"
     ]
    }
   ],
   "source": [
    "!bash ./1_PartPGClustered_ESN_Evaluate_Tuned_Model.sh \"evaluate_tuned_model\" 2000 1 1 5 \"grid_search_for_pwc_0.4.json\" 0.4"
   ]
  },
  {
   "cell_type": "code",
   "execution_count": 73,
   "metadata": {},
   "outputs": [
    {
     "name": "stdout",
     "output_type": "stream",
     "text": [
      "Grid Search Progress:   0%|                                               | 0/25 [00:00<?, ?trial/s]/home/user/kuei_jan_CHU/PGClustered_ESN/Methods/./Utils/global_utils.py:274: RuntimeWarning: divide by zero encountered in log10\n",
      "  s_dbfs = 20 * np.log10(s_mag)\n",
      "Grid Search Progress: 100%|████████| 25/25 [1:00:45<00:00, 145.80s/trial, Current Best Loss=0.13093]\n",
      "{'radius': 0.7, 'sigma_input': 0.1}\n"
     ]
    }
   ],
   "source": [
    "!bash ./0_PartPGClustered_ESN_Tune.sh \"tune\" 2500 1 1 6 \"grid_search_for_pwc_0.4.json\" 0.4"
   ]
  },
  {
   "cell_type": "code",
   "execution_count": 37,
   "metadata": {},
   "outputs": [
    {
     "name": "stdout",
     "output_type": "stream",
     "text": [
      "{'radius': 0.7, 'sigma_input': 0.1}\n",
      "/home/user/anaconda3/lib/python3.11/site-packages/numpy/core/_methods.py:236: RuntimeWarning: invalid value encountered in subtract\n",
      "  x = asanyarray(arr - arrmean)\n",
      "AVERAGE RMNSE ERROR ON TRAIN DATA SET: 2.350471698434364 ± 2.433174087752443\n",
      "AVG NUMBER OF ACCURATE 0.5 PREDICTIONS ON TRAIN DATA SET: 1.199516593672189 ± 0.1616482122774673\n",
      "AVG NUMBER OF ACCURATE 1 PREDICTIONS ON TRAIN DATA SET: 2.2120472320799043 ± 0.3153525186127557\n",
      "POWER SPECTRUM MEAN ERROR ON TRAIN DATA SET: inf ± nan\n",
      "TEMPORAL DISTANCE ON TRAIN DATA SET: 0.18577207076196012 ± 0.16451915789924942\n",
      "GEOMETRICAL DISTANCE ON TRAIN DATA SET: inf ± nan\n",
      "\n",
      "\n",
      "AVERAGE RMNSE ERROR ON TEST DATA SET: 2.430473805818771 ± 2.456248567814511\n",
      "AVG NUMBER OF ACCURATE 0.5 PREDICTIONS ON TEST DATA SET: 1.0049227107522891 ± 0.14195868605740924\n",
      "AVG NUMBER OF ACCURATE 1 PREDICTIONS ON TEST DATA SET: 1.9731583036995233 ± 0.23554524814959588\n",
      "POWER SPECTRUM MEAN ERROR ON TEST DATA SET: inf ± nan\n",
      "TEMPORAL DISTANCE ON TEST DATA SET: 0.1840164954370927 ± 0.16172626202929208\n",
      "GEOMETRICAL DISTANCE ON TEST DATA SET: inf ± nan\n"
     ]
    }
   ],
   "source": [
    "!bash ./1_PartPGClustered_ESN_Evaluate_Tuned_Model.sh \"evaluate_tuned_model\" 2500 1 1 6 \"grid_search_for_pwc_0.4.json\" 0.4"
   ]
  },
  {
   "cell_type": "code",
   "execution_count": 75,
   "metadata": {},
   "outputs": [
    {
     "name": "stdout",
     "output_type": "stream",
     "text": [
      "Grid Search Progress:   0%|                                               | 0/25 [00:00<?, ?trial/s]/home/user/kuei_jan_CHU/PGClustered_ESN/Methods/./Utils/global_utils.py:274: RuntimeWarning: divide by zero encountered in log10\n",
      "  s_dbfs = 20 * np.log10(s_mag)\n",
      "Grid Search Progress: 100%|████████| 25/25 [1:23:57<00:00, 201.50s/trial, Current Best Loss=0.13144]\n",
      "{'radius': 0.7, 'sigma_input': 0.1}\n"
     ]
    }
   ],
   "source": [
    "!bash ./0_PartPGClustered_ESN_Tune.sh \"tune\" 3000 1 1 7 \"grid_search_for_pwc_0.4.json\" 0.4"
   ]
  },
  {
   "cell_type": "code",
   "execution_count": 38,
   "metadata": {},
   "outputs": [
    {
     "name": "stdout",
     "output_type": "stream",
     "text": [
      "{'radius': 0.7, 'sigma_input': 0.1}\n",
      "/home/user/anaconda3/lib/python3.11/site-packages/numpy/core/_methods.py:236: RuntimeWarning: invalid value encountered in subtract\n",
      "  x = asanyarray(arr - arrmean)\n",
      "AVERAGE RMNSE ERROR ON TRAIN DATA SET: 2.4245408629022167 ± 2.003185895650127\n",
      "AVG NUMBER OF ACCURATE 0.5 PREDICTIONS ON TRAIN DATA SET: 1.314988028975657 ± 0.2083328842675677\n",
      "AVG NUMBER OF ACCURATE 1 PREDICTIONS ON TRAIN DATA SET: 2.3425654576352146 ± 0.322628407382077\n",
      "POWER SPECTRUM MEAN ERROR ON TRAIN DATA SET: inf ± nan\n",
      "TEMPORAL DISTANCE ON TRAIN DATA SET: 0.21282297765295 ± 0.160151309216203\n",
      "GEOMETRICAL DISTANCE ON TRAIN DATA SET: inf ± nan\n",
      "\n",
      "\n",
      "AVERAGE RMNSE ERROR ON TEST DATA SET: 2.384329726365519 ± 2.115936408367702\n",
      "AVG NUMBER OF ACCURATE 0.5 PREDICTIONS ON TEST DATA SET: 1.0730559295331055 ± 0.14929899786223833\n",
      "AVG NUMBER OF ACCURATE 1 PREDICTIONS ON TEST DATA SET: 2.1200758399787527 ± 0.19362489117742251\n",
      "POWER SPECTRUM MEAN ERROR ON TEST DATA SET: inf ± nan\n",
      "TEMPORAL DISTANCE ON TEST DATA SET: 0.1953821057939724 ± 0.15121842248176443\n",
      "GEOMETRICAL DISTANCE ON TEST DATA SET: inf ± nan\n"
     ]
    }
   ],
   "source": [
    "!bash ./1_PartPGClustered_ESN_Evaluate_Tuned_Model.sh \"evaluate_tuned_model\" 3000 1 1 7 \"grid_search_for_pwc_0.4.json\" 0.4"
   ]
  },
  {
   "cell_type": "code",
   "execution_count": 77,
   "metadata": {},
   "outputs": [
    {
     "name": "stdout",
     "output_type": "stream",
     "text": [
      "Grid Search Progress:   0%|                                               | 0/25 [00:00<?, ?trial/s]/home/user/kuei_jan_CHU/PGClustered_ESN/Methods/./Utils/global_utils.py:274: RuntimeWarning: divide by zero encountered in log10\n",
      "  s_dbfs = 20 * np.log10(s_mag)\n",
      "Grid Search Progress: 100%|████████| 25/25 [2:22:59<00:00, 343.16s/trial, Current Best Loss=0.12900]\n",
      "{'radius': 0.7, 'sigma_input': 0.1}\n"
     ]
    }
   ],
   "source": [
    "!bash ./0_PartPGClustered_ESN_Tune.sh \"tune\" 3500 1 1 8 \"grid_search_for_pwc_0.4.json\" 0.4"
   ]
  },
  {
   "cell_type": "code",
   "execution_count": 39,
   "metadata": {},
   "outputs": [
    {
     "name": "stdout",
     "output_type": "stream",
     "text": [
      "{'radius': 0.7, 'sigma_input': 0.1}\n",
      "/home/user/anaconda3/lib/python3.11/site-packages/numpy/core/_methods.py:236: RuntimeWarning: invalid value encountered in subtract\n",
      "  x = asanyarray(arr - arrmean)\n",
      "AVERAGE RMNSE ERROR ON TRAIN DATA SET: 2.928202877700728 ± 2.510494764097755\n",
      "AVG NUMBER OF ACCURATE 0.5 PREDICTIONS ON TRAIN DATA SET: 1.3352758360567933 ± 0.2047220799792788\n",
      "AVG NUMBER OF ACCURATE 1 PREDICTIONS ON TRAIN DATA SET: 2.375702209201071 ± 0.32477991890228014\n",
      "POWER SPECTRUM MEAN ERROR ON TRAIN DATA SET: inf ± nan\n",
      "TEMPORAL DISTANCE ON TRAIN DATA SET: 0.21093561730215935 ± 0.1366019706184848\n",
      "GEOMETRICAL DISTANCE ON TRAIN DATA SET: inf ± nan\n",
      "\n",
      "\n",
      "AVERAGE RMNSE ERROR ON TEST DATA SET: 2.686404716333518 ± 2.643829025827334\n",
      "AVG NUMBER OF ACCURATE 0.5 PREDICTIONS ON TEST DATA SET: 1.083707028250702 ± 0.15548655290902394\n",
      "AVG NUMBER OF ACCURATE 1 PREDICTIONS ON TEST DATA SET: 2.1330938495224823 ± 0.2513265122441279\n",
      "POWER SPECTRUM MEAN ERROR ON TEST DATA SET: inf ± nan\n",
      "TEMPORAL DISTANCE ON TEST DATA SET: 0.18924060721808567 ± 0.12533055192539122\n",
      "GEOMETRICAL DISTANCE ON TEST DATA SET: inf ± nan\n"
     ]
    }
   ],
   "source": [
    "!bash ./1_PartPGClustered_ESN_Evaluate_Tuned_Model.sh \"evaluate_tuned_model\" 3500 1 1 8 \"grid_search_for_pwc_0.4.json\" 0.4"
   ]
  },
  {
   "cell_type": "code",
   "execution_count": 79,
   "metadata": {},
   "outputs": [
    {
     "name": "stdout",
     "output_type": "stream",
     "text": [
      "Grid Search Progress:   0%|                                               | 0/25 [00:00<?, ?trial/s]/home/user/kuei_jan_CHU/PGClustered_ESN/Methods/./Utils/global_utils.py:274: RuntimeWarning: divide by zero encountered in log10\n",
      "  s_dbfs = 20 * np.log10(s_mag)\n",
      "Grid Search Progress: 100%|████████| 25/25 [3:04:07<00:00, 441.92s/trial, Current Best Loss=0.13070]\n",
      "{'radius': 0.7, 'sigma_input': 0.1}\n"
     ]
    }
   ],
   "source": [
    "!bash ./0_PartPGClustered_ESN_Tune.sh \"tune\" 4000 1 1 9 \"grid_search_for_pwc_0.4.json\" 0.4"
   ]
  },
  {
   "cell_type": "code",
   "execution_count": 40,
   "metadata": {},
   "outputs": [
    {
     "name": "stdout",
     "output_type": "stream",
     "text": [
      "{'radius': 0.7, 'sigma_input': 0.1}\n",
      "/home/user/anaconda3/lib/python3.11/site-packages/numpy/core/_methods.py:236: RuntimeWarning: invalid value encountered in subtract\n",
      "  x = asanyarray(arr - arrmean)\n",
      "AVERAGE RMNSE ERROR ON TRAIN DATA SET: 3.025968586266201 ± 3.1477365117943674\n",
      "AVG NUMBER OF ACCURATE 0.5 PREDICTIONS ON TRAIN DATA SET: 1.3469413251284466 ± 0.1759723637831264\n",
      "AVG NUMBER OF ACCURATE 1 PREDICTIONS ON TRAIN DATA SET: 2.409853351120984 ± 0.3435568397659689\n",
      "POWER SPECTRUM MEAN ERROR ON TRAIN DATA SET: inf ± nan\n",
      "TEMPORAL DISTANCE ON TRAIN DATA SET: 0.21658465159154155 ± 0.17815656641550903\n",
      "GEOMETRICAL DISTANCE ON TRAIN DATA SET: inf ± nan\n",
      "\n",
      "\n",
      "AVERAGE RMNSE ERROR ON TEST DATA SET: 2.569193900879241 ± 2.6760688390627863\n",
      "AVG NUMBER OF ACCURATE 0.5 PREDICTIONS ON TEST DATA SET: 1.0960487775583936 ± 0.16903470910722948\n",
      "AVG NUMBER OF ACCURATE 1 PREDICTIONS ON TEST DATA SET: 2.1956479213559863 ± 0.25359426354624726\n",
      "POWER SPECTRUM MEAN ERROR ON TEST DATA SET: inf ± nan\n",
      "TEMPORAL DISTANCE ON TEST DATA SET: 0.19180663435873863 ± 0.14916337819683312\n",
      "GEOMETRICAL DISTANCE ON TEST DATA SET: inf ± nan\n"
     ]
    }
   ],
   "source": [
    "!bash ./1_PartPGClustered_ESN_Evaluate_Tuned_Model.sh \"evaluate_tuned_model\" 4000 1 1 9 \"grid_search_for_pwc_0.4.json\" 0.4"
   ]
  },
  {
   "cell_type": "markdown",
   "metadata": {},
   "source": [
    "### probability of wrong coupling = 0.5"
   ]
  },
  {
   "cell_type": "code",
   "execution_count": 81,
   "metadata": {},
   "outputs": [
    {
     "name": "stdout",
     "output_type": "stream",
     "text": [
      "Grid Search Progress:   4%|▍           | 1/25 [00:45<18:01, 45.06s/trial, Current Best Loss=0.50864]/home/user/kuei_jan_CHU/PGClustered_ESN/Methods/./Utils/global_utils.py:274: RuntimeWarning: divide by zero encountered in log10\n",
      "  s_dbfs = 20 * np.log10(s_mag)\n",
      "/home/user/kuei_jan_CHU/PGClustered_ESN/Methods/./Utils/global_utils.py:309: RuntimeWarning: invalid value encountered in divide\n",
      "  trajectory = (trajectory-trajectory.mean())/trajectory.std()\n",
      "Grid Search Progress:  24%|██▉         | 6/25 [04:24<13:56, 44.04s/trial, Current Best Loss=0.49214]/home/user/kuei_jan_CHU/PGClustered_ESN/Methods/./Utils/global_utils.py:321: RuntimeWarning: Mean of empty slice\n",
      "  spectrum = np.nanmean(np.array(spectrum),axis=0)\n",
      "Grid Search Progress: 100%|███████████| 25/25 [18:10<00:00, 43.63s/trial, Current Best Loss=0.40431]\n",
      "{'radius': 0.9, 'sigma_input': 0.1}\n"
     ]
    }
   ],
   "source": [
    "!bash ./0_PartPGClustered_ESN_Tune.sh \"tune\" 40 1 1 0 \"grid_search_for_pwc_0.5.json\" 0.5"
   ]
  },
  {
   "cell_type": "code",
   "execution_count": 41,
   "metadata": {},
   "outputs": [
    {
     "name": "stdout",
     "output_type": "stream",
     "text": [
      "{'radius': 0.9, 'sigma_input': 0.1}\n",
      "/home/user/anaconda3/lib/python3.11/site-packages/numpy/core/_methods.py:236: RuntimeWarning: invalid value encountered in subtract\n",
      "  x = asanyarray(arr - arrmean)\n",
      "AVERAGE RMNSE ERROR ON TRAIN DATA SET: 1.7220226974605388 ± 0.11260936074679366\n",
      "AVG NUMBER OF ACCURATE 0.5 PREDICTIONS ON TRAIN DATA SET: 0.0008453252950473497 ± 0.002535975885142049\n",
      "AVG NUMBER OF ACCURATE 1 PREDICTIONS ON TRAIN DATA SET: 0.384623009246544 ± 0.052487826148875066\n",
      "POWER SPECTRUM MEAN ERROR ON TRAIN DATA SET: inf ± nan\n",
      "TEMPORAL DISTANCE ON TRAIN DATA SET: 0.41630965802973446 ± 0.039754321021238645\n",
      "GEOMETRICAL DISTANCE ON TRAIN DATA SET: inf ± nan\n",
      "\n",
      "\n",
      "AVERAGE RMNSE ERROR ON TEST DATA SET: 1.8212833525061534 ± 0.2608458082596981\n",
      "AVG NUMBER OF ACCURATE 0.5 PREDICTIONS ON TEST DATA SET: 0.00033813011801893985 ± 0.0010143903540568197\n",
      "AVG NUMBER OF ACCURATE 1 PREDICTIONS ON TEST DATA SET: 0.30583869174813105 ± 0.04766585386002383\n",
      "POWER SPECTRUM MEAN ERROR ON TEST DATA SET: inf ± nan\n",
      "TEMPORAL DISTANCE ON TEST DATA SET: 0.3969716864925476 ± 0.06477854667539451\n",
      "GEOMETRICAL DISTANCE ON TEST DATA SET: inf ± nan\n"
     ]
    }
   ],
   "source": [
    "!bash ./1_PartPGClustered_ESN_Evaluate_Tuned_Model.sh \"evaluate_tuned_model\" 40 1 1 0 \"grid_search_for_pwc_0.5.json\" 0.5"
   ]
  },
  {
   "cell_type": "code",
   "execution_count": 83,
   "metadata": {},
   "outputs": [
    {
     "name": "stdout",
     "output_type": "stream",
     "text": [
      "Grid Search Progress:   4%|▍           | 1/25 [00:29<11:47, 29.47s/trial, Current Best Loss=0.27776]/home/user/kuei_jan_CHU/PGClustered_ESN/Methods/./Utils/global_utils.py:274: RuntimeWarning: divide by zero encountered in log10\n",
      "  s_dbfs = 20 * np.log10(s_mag)\n",
      "Grid Search Progress:  12%|█▍          | 3/25 [01:25<10:24, 28.38s/trial, Current Best Loss=0.27776]/home/user/kuei_jan_CHU/PGClustered_ESN/Methods/./Utils/global_utils.py:309: RuntimeWarning: invalid value encountered in divide\n",
      "  trajectory = (trajectory-trajectory.mean())/trajectory.std()\n",
      "Grid Search Progress: 100%|███████████| 25/25 [11:26<00:00, 27.46s/trial, Current Best Loss=0.27776]\n",
      "{'radius': 0.1, 'sigma_input': 0.1}\n"
     ]
    }
   ],
   "source": [
    "!bash ./0_PartPGClustered_ESN_Tune.sh \"tune\" 250 1 1 1 \"grid_search_for_pwc_0.5.json\" 0.5"
   ]
  },
  {
   "cell_type": "code",
   "execution_count": 42,
   "metadata": {},
   "outputs": [
    {
     "name": "stdout",
     "output_type": "stream",
     "text": [
      "{'radius': 0.1, 'sigma_input': 0.1}\n",
      "/home/user/anaconda3/lib/python3.11/site-packages/numpy/core/_methods.py:236: RuntimeWarning: invalid value encountered in subtract\n",
      "  x = asanyarray(arr - arrmean)\n",
      "AVERAGE RMNSE ERROR ON TRAIN DATA SET: 5.1658100191108405 ± 1.763360911602025\n",
      "AVG NUMBER OF ACCURATE 0.5 PREDICTIONS ON TRAIN DATA SET: 0.317673245878794 ± 0.014394378235805107\n",
      "AVG NUMBER OF ACCURATE 1 PREDICTIONS ON TRAIN DATA SET: 0.7393215030484119 ± 0.029018676597570556\n",
      "POWER SPECTRUM MEAN ERROR ON TRAIN DATA SET: inf ± nan\n",
      "TEMPORAL DISTANCE ON TRAIN DATA SET: 0.4515770377211691 ± 0.1909042668100629\n",
      "GEOMETRICAL DISTANCE ON TRAIN DATA SET: inf ± nan\n",
      "\n",
      "\n",
      "AVERAGE RMNSE ERROR ON TEST DATA SET: 5.1712810526303405 ± 1.743498564462144\n",
      "AVG NUMBER OF ACCURATE 0.5 PREDICTIONS ON TEST DATA SET: 0.300428609859828 ± 0.028741557277482028\n",
      "AVG NUMBER OF ACCURATE 1 PREDICTIONS ON TEST DATA SET: 0.6784580818050028 ± 0.08308322139247566\n",
      "POWER SPECTRUM MEAN ERROR ON TEST DATA SET: inf ± nan\n",
      "TEMPORAL DISTANCE ON TEST DATA SET: 0.4570652097902469 ± 0.23012227208440406\n",
      "GEOMETRICAL DISTANCE ON TEST DATA SET: inf ± nan\n"
     ]
    }
   ],
   "source": [
    "!bash ./1_PartPGClustered_ESN_Evaluate_Tuned_Model.sh \"evaluate_tuned_model\" 250 1 1 1 \"grid_search_for_pwc_0.5.json\" 0.5"
   ]
  },
  {
   "cell_type": "code",
   "execution_count": 85,
   "metadata": {},
   "outputs": [
    {
     "name": "stdout",
     "output_type": "stream",
     "text": [
      "Grid Search Progress:   0%|                                               | 0/25 [00:00<?, ?trial/s]/home/user/kuei_jan_CHU/PGClustered_ESN/Methods/./Utils/global_utils.py:274: RuntimeWarning: divide by zero encountered in log10\n",
      "  s_dbfs = 20 * np.log10(s_mag)\n",
      "Grid Search Progress:  36%|████▎       | 9/25 [04:42<08:07, 30.48s/trial, Current Best Loss=0.28492]/home/user/kuei_jan_CHU/PGClustered_ESN/Methods/./Utils/global_utils.py:309: RuntimeWarning: invalid value encountered in divide\n",
      "  trajectory = (trajectory-trajectory.mean())/trajectory.std()\n",
      "Grid Search Progress: 100%|███████████| 25/25 [13:14<00:00, 31.79s/trial, Current Best Loss=0.28338]\n",
      "{'radius': 0.7, 'sigma_input': 0.5}\n"
     ]
    }
   ],
   "source": [
    "!bash ./0_PartPGClustered_ESN_Tune.sh \"tune\" 500 1 1 2 \"grid_search_for_pwc_0.5.json\" 0.5"
   ]
  },
  {
   "cell_type": "code",
   "execution_count": 43,
   "metadata": {},
   "outputs": [
    {
     "name": "stdout",
     "output_type": "stream",
     "text": [
      "{'radius': 0.7, 'sigma_input': 0.5}\n",
      "/home/user/anaconda3/lib/python3.11/site-packages/numpy/core/_methods.py:236: RuntimeWarning: invalid value encountered in subtract\n",
      "  x = asanyarray(arr - arrmean)\n",
      "AVERAGE RMNSE ERROR ON TRAIN DATA SET: 1.5908508371143109 ± 0.036594024502155424\n",
      "AVG NUMBER OF ACCURATE 0.5 PREDICTIONS ON TRAIN DATA SET: 0.19307229738881465 ± 0.014598452129943098\n",
      "AVG NUMBER OF ACCURATE 1 PREDICTIONS ON TRAIN DATA SET: 0.5017850951401066 ± 0.0317626409875233\n",
      "POWER SPECTRUM MEAN ERROR ON TRAIN DATA SET: inf ± nan\n",
      "TEMPORAL DISTANCE ON TRAIN DATA SET: 0.3045976705944082 ± 0.027283425880721655\n",
      "GEOMETRICAL DISTANCE ON TRAIN DATA SET: inf ± nan\n",
      "\n",
      "\n",
      "AVERAGE RMNSE ERROR ON TEST DATA SET: 1.587016898529826 ± 0.03814773697258779\n",
      "AVG NUMBER OF ACCURATE 0.5 PREDICTIONS ON TEST DATA SET: 0.17379888066173504 ± 0.011781299577201311\n",
      "AVG NUMBER OF ACCURATE 1 PREDICTIONS ON TEST DATA SET: 0.4563065942665593 ± 0.0429668129019922\n",
      "POWER SPECTRUM MEAN ERROR ON TEST DATA SET: 4.582950035217381 ± 6.941972152305415\n",
      "TEMPORAL DISTANCE ON TEST DATA SET: 0.29788857672444646 ± 0.021620033044667072\n",
      "GEOMETRICAL DISTANCE ON TEST DATA SET: inf ± nan\n"
     ]
    }
   ],
   "source": [
    "!bash ./1_PartPGClustered_ESN_Evaluate_Tuned_Model.sh \"evaluate_tuned_model\" 500 1 1 2 \"grid_search_for_pwc_0.5.json\" 0.5"
   ]
  },
  {
   "cell_type": "code",
   "execution_count": 87,
   "metadata": {},
   "outputs": [
    {
     "name": "stdout",
     "output_type": "stream",
     "text": [
      "Grid Search Progress:   8%|▉           | 2/25 [01:31<17:20, 45.24s/trial, Current Best Loss=0.21780]/home/user/kuei_jan_CHU/PGClustered_ESN/Methods/./Utils/global_utils.py:274: RuntimeWarning: divide by zero encountered in log10\n",
      "  s_dbfs = 20 * np.log10(s_mag)\n",
      "Grid Search Progress: 100%|███████████| 25/25 [17:56<00:00, 43.04s/trial, Current Best Loss=0.19728]\n",
      "{'radius': 0.99, 'sigma_input': 0.5}\n"
     ]
    }
   ],
   "source": [
    "!bash ./0_PartPGClustered_ESN_Tune.sh \"tune\" 1000 1 1 3 \"grid_search_for_pwc_0.5.json\" 0.5"
   ]
  },
  {
   "cell_type": "code",
   "execution_count": 44,
   "metadata": {},
   "outputs": [
    {
     "name": "stdout",
     "output_type": "stream",
     "text": [
      "{'radius': 0.99, 'sigma_input': 0.5}\n",
      "AVERAGE RMNSE ERROR ON TRAIN DATA SET: 1.5444543518336273 ± 0.023654790817891017\n",
      "AVG NUMBER OF ACCURATE 0.5 PREDICTIONS ON TRAIN DATA SET: 0.26729185829397195 ± 0.014844066225843996\n",
      "AVG NUMBER OF ACCURATE 1 PREDICTIONS ON TRAIN DATA SET: 0.6246953930399914 ± 0.039809347045540816\n",
      "POWER SPECTRUM MEAN ERROR ON TRAIN DATA SET: 1.6651876280542008 ± 0.3918920378769756\n",
      "TEMPORAL DISTANCE ON TRAIN DATA SET: 0.21700952215800492 ± 0.017972193139849622\n",
      "GEOMETRICAL DISTANCE ON TRAIN DATA SET: 17.98034576556498 ± 0.7913714393442995\n",
      "\n",
      "\n",
      "AVERAGE RMNSE ERROR ON TEST DATA SET: 1.544556025371775 ± 0.022165389554230315\n",
      "AVG NUMBER OF ACCURATE 0.5 PREDICTIONS ON TEST DATA SET: 0.21927738153528248 ± 0.012765251654709701\n",
      "AVG NUMBER OF ACCURATE 1 PREDICTIONS ON TEST DATA SET: 0.54219164424337 ± 0.04657765388139392\n",
      "POWER SPECTRUM MEAN ERROR ON TEST DATA SET: 1.0376738618525938 ± 0.2848990633576453\n",
      "TEMPORAL DISTANCE ON TEST DATA SET: 0.2141690040485548 ± 0.018622541485466163\n",
      "GEOMETRICAL DISTANCE ON TEST DATA SET: 18.01300159529047 ± 0.787356605802418\n"
     ]
    }
   ],
   "source": [
    "!bash ./1_PartPGClustered_ESN_Evaluate_Tuned_Model.sh \"evaluate_tuned_model\" 1000 1 1 3 \"grid_search_for_pwc_0.5.json\" 0.5"
   ]
  },
  {
   "cell_type": "code",
   "execution_count": 89,
   "metadata": {},
   "outputs": [
    {
     "name": "stdout",
     "output_type": "stream",
     "text": [
      "Grid Search Progress:  16%|█▉          | 4/25 [04:24<22:18, 63.74s/trial, Current Best Loss=0.19444]/home/user/kuei_jan_CHU/PGClustered_ESN/Methods/./Utils/global_utils.py:274: RuntimeWarning: divide by zero encountered in log10\n",
      "  s_dbfs = 20 * np.log10(s_mag)\n",
      "Grid Search Progress: 100%|███████████| 25/25 [25:55<00:00, 62.22s/trial, Current Best Loss=0.18232]\n",
      "{'radius': 0.99, 'sigma_input': 0.5}\n"
     ]
    }
   ],
   "source": [
    "!bash ./0_PartPGClustered_ESN_Tune.sh \"tune\" 1500 1 1 4 \"grid_search_for_pwc_0.5.json\" 0.5"
   ]
  },
  {
   "cell_type": "code",
   "execution_count": 45,
   "metadata": {},
   "outputs": [
    {
     "name": "stdout",
     "output_type": "stream",
     "text": [
      "{'radius': 0.99, 'sigma_input': 0.5}\n",
      "AVERAGE RMNSE ERROR ON TRAIN DATA SET: 1.5661600391762136 ± 0.06860466581058126\n",
      "AVG NUMBER OF ACCURATE 0.5 PREDICTIONS ON TRAIN DATA SET: 0.3837776839514967 ± 0.0377587042891097\n",
      "AVG NUMBER OF ACCURATE 1 PREDICTIONS ON TRAIN DATA SET: 0.7930841918134233 ± 0.10492513180596037\n",
      "POWER SPECTRUM MEAN ERROR ON TRAIN DATA SET: 1.7424895318227183 ± 0.3107735492217174\n",
      "TEMPORAL DISTANCE ON TRAIN DATA SET: 0.20191186187643537 ± 0.03199061535924376\n",
      "GEOMETRICAL DISTANCE ON TRAIN DATA SET: 17.966098851351624 ± 1.7047701646080864\n",
      "\n",
      "\n",
      "AVERAGE RMNSE ERROR ON TEST DATA SET: 1.5696173210786175 ± 0.06908730408654339\n",
      "AVG NUMBER OF ACCURATE 0.5 PREDICTIONS ON TEST DATA SET: 0.28064799795572015 ± 0.019453504643510186\n",
      "AVG NUMBER OF ACCURATE 1 PREDICTIONS ON TEST DATA SET: 0.7041559707744421 ± 0.09594870337727888\n",
      "POWER SPECTRUM MEAN ERROR ON TEST DATA SET: 1.0288172096258346 ± 0.3637890280489371\n",
      "TEMPORAL DISTANCE ON TEST DATA SET: 0.2001988213833829 ± 0.03095115796854608\n",
      "GEOMETRICAL DISTANCE ON TEST DATA SET: 18.04872952628785 ± 1.5992709486935777\n"
     ]
    }
   ],
   "source": [
    "!bash ./1_PartPGClustered_ESN_Evaluate_Tuned_Model.sh \"evaluate_tuned_model\" 1500 1 1 4 \"grid_search_for_pwc_0.5.json\" 0.5"
   ]
  },
  {
   "cell_type": "code",
   "execution_count": 91,
   "metadata": {},
   "outputs": [
    {
     "name": "stdout",
     "output_type": "stream",
     "text": [
      "Grid Search Progress:   0%|                                               | 0/25 [00:00<?, ?trial/s]/home/user/kuei_jan_CHU/PGClustered_ESN/Methods/./Utils/global_utils.py:274: RuntimeWarning: divide by zero encountered in log10\n",
      "  s_dbfs = 20 * np.log10(s_mag)\n",
      "Grid Search Progress: 100%|███████████| 25/25 [33:23<00:00, 80.14s/trial, Current Best Loss=0.18364]\n",
      "{'radius': 0.9, 'sigma_input': 0.5}\n"
     ]
    }
   ],
   "source": [
    "!bash ./0_PartPGClustered_ESN_Tune.sh \"tune\" 2000 1 1 5 \"grid_search_for_pwc_0.5.json\" 0.5"
   ]
  },
  {
   "cell_type": "code",
   "execution_count": 46,
   "metadata": {},
   "outputs": [
    {
     "name": "stdout",
     "output_type": "stream",
     "text": [
      "{'radius': 0.9, 'sigma_input': 0.5}\n",
      "AVERAGE RMNSE ERROR ON TRAIN DATA SET: 1.5936135679028731 ± 0.07436441138983423\n",
      "AVG NUMBER OF ACCURATE 0.5 PREDICTIONS ON TRAIN DATA SET: 0.5317096105847828 ± 0.037219280122414225\n",
      "AVG NUMBER OF ACCURATE 1 PREDICTIONS ON TRAIN DATA SET: 0.9739838049535562 ± 0.061449741885909966\n",
      "POWER SPECTRUM MEAN ERROR ON TRAIN DATA SET: 1.889125637915431 ± 0.7210301493553276\n",
      "TEMPORAL DISTANCE ON TRAIN DATA SET: 0.19928778235425343 ± 0.026350675846136755\n",
      "GEOMETRICAL DISTANCE ON TRAIN DATA SET: 18.542554066916882 ± 2.2555004264196463\n",
      "\n",
      "\n",
      "AVERAGE RMNSE ERROR ON TEST DATA SET: 1.5931821113492695 ± 0.07759109662690579\n",
      "AVG NUMBER OF ACCURATE 0.5 PREDICTIONS ON TEST DATA SET: 0.35047186732663116 ± 0.03143019029184449\n",
      "AVG NUMBER OF ACCURATE 1 PREDICTIONS ON TEST DATA SET: 0.7848000039219594 ± 0.0980309133411936\n",
      "POWER SPECTRUM MEAN ERROR ON TEST DATA SET: 1.4620223554316027 ± 0.5798602117993114\n",
      "TEMPORAL DISTANCE ON TEST DATA SET: 0.19715869809917513 ± 0.024354322897992723\n",
      "GEOMETRICAL DISTANCE ON TEST DATA SET: 18.503310227031076 ± 2.2551127643887265\n"
     ]
    }
   ],
   "source": [
    "!bash ./1_PartPGClustered_ESN_Evaluate_Tuned_Model.sh \"evaluate_tuned_model\" 2000 1 1 5 \"grid_search_for_pwc_0.5.json\" 0.5"
   ]
  },
  {
   "cell_type": "code",
   "execution_count": 93,
   "metadata": {},
   "outputs": [
    {
     "name": "stdout",
     "output_type": "stream",
     "text": [
      "Grid Search Progress:   0%|                                               | 0/25 [00:00<?, ?trial/s]/home/user/kuei_jan_CHU/PGClustered_ESN/Methods/./Utils/global_utils.py:274: RuntimeWarning: divide by zero encountered in log10\n",
      "  s_dbfs = 20 * np.log10(s_mag)\n",
      "Grid Search Progress: 100%|████████| 25/25 [1:01:27<00:00, 147.49s/trial, Current Best Loss=0.17703]\n",
      "{'radius': 0.99, 'sigma_input': 0.5}\n"
     ]
    }
   ],
   "source": [
    "!bash ./0_PartPGClustered_ESN_Tune.sh \"tune\" 2500 1 1 6 \"grid_search_for_pwc_0.5.json\" 0.5"
   ]
  },
  {
   "cell_type": "code",
   "execution_count": 47,
   "metadata": {},
   "outputs": [
    {
     "name": "stdout",
     "output_type": "stream",
     "text": [
      "{'radius': 0.99, 'sigma_input': 0.5}\n",
      "AVERAGE RMNSE ERROR ON TRAIN DATA SET: 1.5817715586066774 ± 0.07508033654928863\n",
      "AVG NUMBER OF ACCURATE 0.5 PREDICTIONS ON TRAIN DATA SET: 0.6157349449124894 ± 0.04742146823895837\n",
      "AVG NUMBER OF ACCURATE 1 PREDICTIONS ON TRAIN DATA SET: 1.1440632543170828 ± 0.13289427762556183\n",
      "POWER SPECTRUM MEAN ERROR ON TRAIN DATA SET: 1.9121249880124327 ± 0.8461777803129802\n",
      "TEMPORAL DISTANCE ON TRAIN DATA SET: 0.1855758454583879 ± 0.020191023075491168\n",
      "GEOMETRICAL DISTANCE ON TRAIN DATA SET: 18.135206603720693 ± 2.448432610214616\n",
      "\n",
      "\n",
      "AVERAGE RMNSE ERROR ON TEST DATA SET: 1.5883906624877193 ± 0.07838116555215713\n",
      "AVG NUMBER OF ACCURATE 0.5 PREDICTIONS ON TEST DATA SET: 0.3927381320789986 ± 0.050522172984526915\n",
      "AVG NUMBER OF ACCURATE 1 PREDICTIONS ON TEST DATA SET: 0.8532713528207948 ± 0.11321061422125385\n",
      "POWER SPECTRUM MEAN ERROR ON TEST DATA SET: 1.292065462768258 ± 0.576380840953695\n",
      "TEMPORAL DISTANCE ON TEST DATA SET: 0.18184377307169725 ± 0.017688299746076743\n",
      "GEOMETRICAL DISTANCE ON TEST DATA SET: 18.272675976101084 ± 2.642017157632812\n"
     ]
    }
   ],
   "source": [
    "!bash ./1_PartPGClustered_ESN_Evaluate_Tuned_Model.sh \"evaluate_tuned_model\" 2500 1 1 6 \"grid_search_for_pwc_0.5.json\" 0.5"
   ]
  },
  {
   "cell_type": "code",
   "execution_count": 95,
   "metadata": {},
   "outputs": [
    {
     "name": "stdout",
     "output_type": "stream",
     "text": [
      "Grid Search Progress:   0%|                                               | 0/25 [00:00<?, ?trial/s]/home/user/kuei_jan_CHU/PGClustered_ESN/Methods/./Utils/global_utils.py:274: RuntimeWarning: divide by zero encountered in log10\n",
      "  s_dbfs = 20 * np.log10(s_mag)\n",
      "Grid Search Progress: 100%|████████| 25/25 [1:25:56<00:00, 206.27s/trial, Current Best Loss=0.17431]\n",
      "{'radius': 0.9, 'sigma_input': 0.5}\n"
     ]
    }
   ],
   "source": [
    "!bash ./0_PartPGClustered_ESN_Tune.sh \"tune\" 3000 1 1 7 \"grid_search_for_pwc_0.5.json\" 0.5"
   ]
  },
  {
   "cell_type": "code",
   "execution_count": 48,
   "metadata": {},
   "outputs": [
    {
     "name": "stdout",
     "output_type": "stream",
     "text": [
      "{'radius': 0.9, 'sigma_input': 0.5}\n",
      "AVERAGE RMNSE ERROR ON TRAIN DATA SET: 1.6045754972083084 ± 0.09174260412986567\n",
      "AVG NUMBER OF ACCURATE 0.5 PREDICTIONS ON TRAIN DATA SET: 0.7305301199799195 ± 0.08160940442370963\n",
      "AVG NUMBER OF ACCURATE 1 PREDICTIONS ON TRAIN DATA SET: 1.3021390844909373 ± 0.12667204482283795\n",
      "POWER SPECTRUM MEAN ERROR ON TRAIN DATA SET: 1.8131389485105225 ± 0.8414745195823156\n",
      "TEMPORAL DISTANCE ON TRAIN DATA SET: 0.18517005699363787 ± 0.028202395615698157\n",
      "GEOMETRICAL DISTANCE ON TRAIN DATA SET: 18.326496230396707 ± 2.6827009068091088\n",
      "\n",
      "\n",
      "AVERAGE RMNSE ERROR ON TEST DATA SET: 1.6101027830989618 ± 0.09012550501086244\n",
      "AVG NUMBER OF ACCURATE 0.5 PREDICTIONS ON TEST DATA SET: 0.43263748600523355 ± 0.056364627381689375\n",
      "AVG NUMBER OF ACCURATE 1 PREDICTIONS ON TEST DATA SET: 0.9388182726795865 ± 0.18758002579124072\n",
      "POWER SPECTRUM MEAN ERROR ON TEST DATA SET: 1.4420037756105093 ± 0.6306771457829685\n",
      "TEMPORAL DISTANCE ON TEST DATA SET: 0.18299229213537133 ± 0.026657810956998887\n",
      "GEOMETRICAL DISTANCE ON TEST DATA SET: 18.37528647292585 ± 2.5955455470349262\n"
     ]
    }
   ],
   "source": [
    "!bash ./1_PartPGClustered_ESN_Evaluate_Tuned_Model.sh \"evaluate_tuned_model\" 3000 1 1 7 \"grid_search_for_pwc_0.5.json\" 0.5"
   ]
  },
  {
   "cell_type": "code",
   "execution_count": 97,
   "metadata": {},
   "outputs": [
    {
     "name": "stdout",
     "output_type": "stream",
     "text": [
      "Grid Search Progress:   0%|                                               | 0/25 [00:00<?, ?trial/s]/home/user/kuei_jan_CHU/PGClustered_ESN/Methods/./Utils/global_utils.py:274: RuntimeWarning: divide by zero encountered in log10\n",
      "  s_dbfs = 20 * np.log10(s_mag)\n",
      "Grid Search Progress: 100%|████████| 25/25 [2:22:54<00:00, 342.98s/trial, Current Best Loss=0.17909]\n",
      "{'radius': 0.99, 'sigma_input': 0.5}\n"
     ]
    }
   ],
   "source": [
    "!bash ./0_PartPGClustered_ESN_Tune.sh \"tune\" 3500 1 1 8 \"grid_search_for_pwc_0.5.json\" 0.5"
   ]
  },
  {
   "cell_type": "code",
   "execution_count": 49,
   "metadata": {},
   "outputs": [
    {
     "name": "stdout",
     "output_type": "stream",
     "text": [
      "{'radius': 0.99, 'sigma_input': 0.5}\n",
      "AVERAGE RMNSE ERROR ON TRAIN DATA SET: 1.6243344240627244 ± 0.11870079639080051\n",
      "AVG NUMBER OF ACCURATE 0.5 PREDICTIONS ON TRAIN DATA SET: 0.7655265871948799 ± 0.07235826519152135\n",
      "AVG NUMBER OF ACCURATE 1 PREDICTIONS ON TRAIN DATA SET: 1.319383720509903 ± 0.10852660002465803\n",
      "POWER SPECTRUM MEAN ERROR ON TRAIN DATA SET: 2.067262393279977 ± 1.0950776726304692\n",
      "TEMPORAL DISTANCE ON TRAIN DATA SET: 0.18773620032469282 ± 0.019216099208830245\n",
      "GEOMETRICAL DISTANCE ON TRAIN DATA SET: 18.926898325981632 ± 3.974582247617848\n",
      "\n",
      "\n",
      "AVERAGE RMNSE ERROR ON TEST DATA SET: 1.6241073233795924 ± 0.11707387673831536\n",
      "AVG NUMBER OF ACCURATE 0.5 PREDICTIONS ON TEST DATA SET: 0.436018787185423 ± 0.07007313313120125\n",
      "AVG NUMBER OF ACCURATE 1 PREDICTIONS ON TEST DATA SET: 0.9332391257322741 ± 0.14040545247418545\n",
      "POWER SPECTRUM MEAN ERROR ON TEST DATA SET: 1.3707298308575495 ± 0.6485141745036204\n",
      "TEMPORAL DISTANCE ON TEST DATA SET: 0.18059541370690527 ± 0.01808849446280891\n",
      "GEOMETRICAL DISTANCE ON TEST DATA SET: 18.72174647196085 ± 3.752382070663433\n"
     ]
    }
   ],
   "source": [
    "!bash ./1_PartPGClustered_ESN_Evaluate_Tuned_Model.sh \"evaluate_tuned_model\" 3500 1 1 8 \"grid_search_for_pwc_0.5.json\" 0.5"
   ]
  },
  {
   "cell_type": "code",
   "execution_count": 99,
   "metadata": {},
   "outputs": [
    {
     "name": "stdout",
     "output_type": "stream",
     "text": [
      "Grid Search Progress:   0%|                                               | 0/25 [00:00<?, ?trial/s]/home/user/kuei_jan_CHU/PGClustered_ESN/Methods/./Utils/global_utils.py:274: RuntimeWarning: divide by zero encountered in log10\n",
      "  s_dbfs = 20 * np.log10(s_mag)\n",
      "Grid Search Progress: 100%|████████| 25/25 [2:44:48<00:00, 395.54s/trial, Current Best Loss=0.17494]\n",
      "{'radius': 0.99, 'sigma_input': 0.5}\n"
     ]
    }
   ],
   "source": [
    "!bash ./0_PartPGClustered_ESN_Tune.sh \"tune\" 4000 1 1 9 \"grid_search_for_pwc_0.5.json\" 0.5"
   ]
  },
  {
   "cell_type": "code",
   "execution_count": 50,
   "metadata": {},
   "outputs": [
    {
     "name": "stdout",
     "output_type": "stream",
     "text": [
      "{'radius': 0.99, 'sigma_input': 0.5}\n",
      "AVERAGE RMNSE ERROR ON TRAIN DATA SET: 1.627902076204347 ± 0.11421997301517169\n",
      "AVG NUMBER OF ACCURATE 0.5 PREDICTIONS ON TRAIN DATA SET: 0.8776167213181584 ± 0.09992145471959224\n",
      "AVG NUMBER OF ACCURATE 1 PREDICTIONS ON TRAIN DATA SET: 1.468668167615265 ± 0.16256473584383038\n",
      "POWER SPECTRUM MEAN ERROR ON TRAIN DATA SET: 2.1966142509559288 ± 0.8457251814772961\n",
      "TEMPORAL DISTANCE ON TRAIN DATA SET: 0.1831349154824621 ± 0.017731213239967934\n",
      "GEOMETRICAL DISTANCE ON TRAIN DATA SET: 18.764766295225776 ± 3.5402492803288106\n",
      "\n",
      "\n",
      "AVERAGE RMNSE ERROR ON TEST DATA SET: 1.6300703944925292 ± 0.11177525474074552\n",
      "AVG NUMBER OF ACCURATE 0.5 PREDICTIONS ON TEST DATA SET: 0.4314540305921672 ± 0.06871116827943452\n",
      "AVG NUMBER OF ACCURATE 1 PREDICTIONS ON TEST DATA SET: 0.9795629519008685 ± 0.1684217258969294\n",
      "POWER SPECTRUM MEAN ERROR ON TEST DATA SET: 1.5940014099735003 ± 0.8827550093091796\n",
      "TEMPORAL DISTANCE ON TEST DATA SET: 0.17904757085993334 ± 0.01358124877087891\n",
      "GEOMETRICAL DISTANCE ON TEST DATA SET: 18.785719811315076 ± 3.337474762174902\n"
     ]
    }
   ],
   "source": [
    "!bash ./1_PartPGClustered_ESN_Evaluate_Tuned_Model.sh \"evaluate_tuned_model\" 4000 1 1 9 \"grid_search_for_pwc_0.5.json\" 0.5"
   ]
  },
  {
   "cell_type": "code",
   "execution_count": null,
   "metadata": {},
   "outputs": [],
   "source": []
  },
  {
   "cell_type": "code",
   "execution_count": null,
   "metadata": {},
   "outputs": [],
   "source": []
  },
  {
   "cell_type": "code",
   "execution_count": null,
   "metadata": {},
   "outputs": [],
   "source": []
  },
  {
   "cell_type": "code",
   "execution_count": null,
   "metadata": {},
   "outputs": [],
   "source": []
  },
  {
   "cell_type": "code",
   "execution_count": null,
   "metadata": {},
   "outputs": [],
   "source": []
  },
  {
   "cell_type": "code",
   "execution_count": null,
   "metadata": {},
   "outputs": [],
   "source": []
  },
  {
   "cell_type": "code",
   "execution_count": null,
   "metadata": {},
   "outputs": [],
   "source": []
  },
  {
   "cell_type": "code",
   "execution_count": null,
   "metadata": {},
   "outputs": [],
   "source": []
  },
  {
   "cell_type": "code",
   "execution_count": null,
   "metadata": {},
   "outputs": [],
   "source": []
  },
  {
   "cell_type": "code",
   "execution_count": null,
   "metadata": {
    "editable": true,
    "slideshow": {
     "slide_type": ""
    },
    "tags": []
   },
   "outputs": [],
   "source": []
  },
  {
   "cell_type": "code",
   "execution_count": null,
   "metadata": {},
   "outputs": [],
   "source": []
  },
  {
   "cell_type": "code",
   "execution_count": null,
   "metadata": {},
   "outputs": [],
   "source": []
  },
  {
   "cell_type": "code",
   "execution_count": null,
   "metadata": {},
   "outputs": [],
   "source": []
  },
  {
   "cell_type": "code",
   "execution_count": null,
   "metadata": {},
   "outputs": [],
   "source": []
  },
  {
   "cell_type": "code",
   "execution_count": null,
   "metadata": {},
   "outputs": [],
   "source": []
  },
  {
   "cell_type": "code",
   "execution_count": null,
   "metadata": {},
   "outputs": [],
   "source": []
  },
  {
   "cell_type": "code",
   "execution_count": null,
   "metadata": {},
   "outputs": [],
   "source": []
  },
  {
   "cell_type": "code",
   "execution_count": null,
   "metadata": {},
   "outputs": [],
   "source": []
  },
  {
   "cell_type": "code",
   "execution_count": null,
   "metadata": {},
   "outputs": [],
   "source": []
  },
  {
   "cell_type": "code",
   "execution_count": null,
   "metadata": {},
   "outputs": [],
   "source": []
  },
  {
   "cell_type": "code",
   "execution_count": null,
   "metadata": {},
   "outputs": [],
   "source": []
  },
  {
   "cell_type": "code",
   "execution_count": null,
   "metadata": {},
   "outputs": [],
   "source": []
  },
  {
   "cell_type": "code",
   "execution_count": null,
   "metadata": {},
   "outputs": [],
   "source": []
  },
  {
   "cell_type": "code",
   "execution_count": null,
   "metadata": {},
   "outputs": [],
   "source": []
  },
  {
   "cell_type": "code",
   "execution_count": null,
   "metadata": {},
   "outputs": [],
   "source": []
  },
  {
   "cell_type": "code",
   "execution_count": null,
   "metadata": {},
   "outputs": [],
   "source": []
  },
  {
   "cell_type": "code",
   "execution_count": null,
   "metadata": {},
   "outputs": [],
   "source": []
  }
 ],
 "metadata": {
  "kernelspec": {
   "display_name": "base",
   "language": "python",
   "name": "python3"
  },
  "language_info": {
   "codemirror_mode": {
    "name": "ipython",
    "version": 3
   },
   "file_extension": ".py",
   "mimetype": "text/x-python",
   "name": "python",
   "nbconvert_exporter": "python",
   "pygments_lexer": "ipython3",
   "version": "3.11.8"
  }
 },
 "nbformat": 4,
 "nbformat_minor": 4
}
