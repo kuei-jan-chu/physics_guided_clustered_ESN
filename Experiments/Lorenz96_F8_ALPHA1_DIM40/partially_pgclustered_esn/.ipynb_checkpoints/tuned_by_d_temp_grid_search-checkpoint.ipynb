{
 "cells": [
  {
   "cell_type": "markdown",
   "metadata": {},
   "source": [
    "### use --iterative_prediction_length 7000 \\ --num_test_ICS 20 \\ --N 50000 \\ --N_used 50000 \\ --sparsity 1 \\ --p_in 1 \\ method: tpe \\ size: half hyper space\\ metric: d_temp\n",
    "with washout evaluation, data seperation: 6:4"
   ]
  },
  {
   "cell_type": "code",
   "execution_count": 2,
   "metadata": {},
   "outputs": [
    {
     "name": "stdout",
     "output_type": "stream",
     "text": [
      "Grid Search Progress:   4%|▍           | 1/25 [00:35<14:06, 35.25s/trial, Current Best Loss=0.44221]/home/user/kuei_jan_CHU/PGClustered_ESN/Methods/./Utils/global_utils.py:255: RuntimeWarning: divide by zero encountered in log10\n",
      "  s_dbfs = 20 * np.log10(s_mag)\n",
      "/home/user/kuei_jan_CHU/PGClustered_ESN/Methods/./Utils/global_utils.py:290: RuntimeWarning: invalid value encountered in divide\n",
      "  trajectory = (trajectory-trajectory.mean())/trajectory.std()\n",
      "Grid Search Progress:  64%|███████    | 16/25 [09:13<05:13, 34.82s/trial, Current Best Loss=0.37153]/home/user/kuei_jan_CHU/PGClustered_ESN/Methods/./Utils/global_utils.py:302: RuntimeWarning: Mean of empty slice\n",
      "  spectrum = np.nanmean(np.array(spectrum),axis=0)\n",
      "Grid Search Progress: 100%|███████████| 25/25 [14:19<00:00, 34.37s/trial, Current Best Loss=0.37153]\n",
      "{'radius': 0.9, 'sigma_input': 0.1, 'regularization': 0.01, 'in_cluster_weight': 0.5, 'noise_level': 5}\n"
     ]
    }
   ],
   "source": [
    "!bash ./0_PGClustered_ESN_Tune.sh \"tune\" 40 1 1 0 \"grid_search.json\" "
   ]
  },
  {
   "cell_type": "code",
   "execution_count": 3,
   "metadata": {},
   "outputs": [
    {
     "name": "stdout",
     "output_type": "stream",
     "text": [
      "/home/user/kuei_jan_CHU/PGClustered_ESN/Methods/./Utils/global_utils.py:255: RuntimeWarning: divide by zero encountered in log10\n",
      "  s_dbfs = 20 * np.log10(s_mag)\n",
      "/home/user/kuei_jan_CHU/PGClustered_ESN/Methods/./Utils/global_utils.py:290: RuntimeWarning: invalid value encountered in divide\n",
      "  trajectory = (trajectory-trajectory.mean())/trajectory.std()\n",
      "/home/user/anaconda3/lib/python3.11/site-packages/numpy/core/_methods.py:236: RuntimeWarning: invalid value encountered in subtract\n",
      "  x = asanyarray(arr - arrmean)\n",
      "AVERAGE RMNSE ERROR ON TRAIN DATA SET: 1.7876129875450393 ± 0.35823941900545464\n",
      "AVG NUMBER OF ACCURATE 0.5 PREDICTIONS ON TRAIN DATA SET: 0.0032024520257902694 ± 0.004487992775755445\n",
      "AVG NUMBER OF ACCURATE 1 PREDICTIONS ON TRAIN DATA SET: 0.3531967484233426 ± 0.06868385823224953\n",
      "POWER SPECTRUM MEAN ERROR ON TRAIN DATA SET: inf ± nan\n",
      "TEMPORAL DISTANCE ON TRAIN DATA SET: 0.37394864009860496 ± 0.07113220624484645\n",
      "GEOMETRICAL DISTANCE ON TRAIN DATA SET: 7.441125916038883 ± 0.031225705718410383\n",
      "\n",
      "\n",
      "AVERAGE RMNSE ERROR ON TEST DATA SET: 1.7549718691233942 ± 0.30421203377139183\n",
      "AVG NUMBER OF ACCURATE 0.5 PREDICTIONS ON TEST DATA SET: 0.0014326759062745942 ± 0.0032975138723889026\n",
      "AVG NUMBER OF ACCURATE 1 PREDICTIONS ON TEST DATA SET: 0.31063784650165616 ± 0.056339874398513345\n",
      "POWER SPECTRUM MEAN ERROR ON TEST DATA SET: inf ± nan\n",
      "TEMPORAL DISTANCE ON TEST DATA SET: 0.3623419149474116 ± 0.09945307984985977\n",
      "GEOMETRICAL DISTANCE ON TEST DATA SET: 7.438084970773312 ± 0.03917389321510587\n"
     ]
    }
   ],
   "source": [
    "!bash ./1_PGClustered_ESN_Evaluate_Tuned_Model.sh \"evaluate_tuned_model\" 40 1 1 0 \"grid_search.json\" "
   ]
  },
  {
   "cell_type": "code",
   "execution_count": 4,
   "metadata": {},
   "outputs": [
    {
     "name": "stdout",
     "output_type": "stream",
     "text": [
      "Grid Search Progress:   0%|                                               | 0/25 [00:00<?, ?trial/s]/home/user/kuei_jan_CHU/PGClustered_ESN/Methods/./Utils/global_utils.py:255: RuntimeWarning: divide by zero encountered in log10\n",
      "  s_dbfs = 20 * np.log10(s_mag)\n",
      "Grid Search Progress:   4%|▍           | 1/25 [00:40<16:04, 40.20s/trial, Current Best Loss=0.47864]/home/user/kuei_jan_CHU/PGClustered_ESN/Methods/./Utils/global_utils.py:290: RuntimeWarning: invalid value encountered in divide\n",
      "  trajectory = (trajectory-trajectory.mean())/trajectory.std()\n",
      "Grid Search Progress:  28%|███▎        | 7/25 [04:56<12:57, 43.22s/trial, Current Best Loss=0.47202]/home/user/kuei_jan_CHU/PGClustered_ESN/Methods/./Utils/global_utils.py:302: RuntimeWarning: Mean of empty slice\n",
      "  spectrum = np.nanmean(np.array(spectrum),axis=0)\n",
      "Grid Search Progress: 100%|███████████| 25/25 [17:23<00:00, 41.73s/trial, Current Best Loss=0.47202]\n",
      "{'radius': 0.1, 'sigma_input': 0.5, 'regularization': 0.01, 'in_cluster_weight': 0.5, 'noise_level': 5}\n"
     ]
    }
   ],
   "source": [
    "!bash ./0_PGClustered_ESN_Tune.sh \"tune\" 80 1 1 1 \"grid_search.json\" "
   ]
  },
  {
   "cell_type": "code",
   "execution_count": 5,
   "metadata": {},
   "outputs": [
    {
     "name": "stdout",
     "output_type": "stream",
     "text": [
      "/home/user/kuei_jan_CHU/PGClustered_ESN/Methods/./Utils/global_utils.py:255: RuntimeWarning: divide by zero encountered in log10\n",
      "  s_dbfs = 20 * np.log10(s_mag)\n",
      "/home/user/kuei_jan_CHU/PGClustered_ESN/Methods/./Utils/global_utils.py:290: RuntimeWarning: invalid value encountered in divide\n",
      "  trajectory = (trajectory-trajectory.mean())/trajectory.std()\n",
      "/home/user/anaconda3/lib/python3.11/site-packages/numpy/core/_methods.py:236: RuntimeWarning: invalid value encountered in subtract\n",
      "  x = asanyarray(arr - arrmean)\n",
      "AVERAGE RMNSE ERROR ON TRAIN DATA SET: 1.7392415866280069 ± 0.07288130601773915\n",
      "AVG NUMBER OF ACCURATE 0.5 PREDICTIONS ON TRAIN DATA SET: 0.057222761197673486 ± 0.004869756494352551\n",
      "AVG NUMBER OF ACCURATE 1 PREDICTIONS ON TRAIN DATA SET: 0.2518981343443978 ± 0.027300304846940744\n",
      "POWER SPECTRUM MEAN ERROR ON TRAIN DATA SET: inf ± nan\n",
      "TEMPORAL DISTANCE ON TRAIN DATA SET: 0.45501922385273924 ± 0.042135822496349014\n",
      "GEOMETRICAL DISTANCE ON TRAIN DATA SET: 7.441125916038883 ± 0.031225705718410383\n",
      "\n",
      "\n",
      "AVERAGE RMNSE ERROR ON TEST DATA SET: 1.7355070201226717 ± 0.05450067832967919\n",
      "AVG NUMBER OF ACCURATE 0.5 PREDICTIONS ON TEST DATA SET: 0.051829157785816204 ± 0.00891684227818208\n",
      "AVG NUMBER OF ACCURATE 1 PREDICTIONS ON TEST DATA SET: 0.231082196176761 ± 0.024202645011059898\n",
      "POWER SPECTRUM MEAN ERROR ON TEST DATA SET: inf ± nan\n",
      "TEMPORAL DISTANCE ON TEST DATA SET: 0.46984270043304555 ± 0.04017017804901146\n",
      "GEOMETRICAL DISTANCE ON TEST DATA SET: 7.438084970773312 ± 0.03917389321510587\n"
     ]
    }
   ],
   "source": [
    "!bash ./1_PGClustered_ESN_Evaluate_Tuned_Model.sh \"evaluate_tuned_model\" 80 1 1 1 \"grid_search.json\" "
   ]
  },
  {
   "cell_type": "code",
   "execution_count": 10,
   "metadata": {},
   "outputs": [
    {
     "name": "stdout",
     "output_type": "stream",
     "text": [
      "Grid Search Progress:   8%|▉           | 2/25 [01:18<14:48, 38.61s/trial, Current Best Loss=0.12464]/home/user/kuei_jan_CHU/PGClustered_ESN/Methods/./Utils/global_utils.py:254: RuntimeWarning: divide by zero encountered in log10\n",
      "  s_dbfs = 20 * np.log10(s_mag)\n",
      "Grid Search Progress: 100%|███████████| 25/25 [13:08<00:00, 31.53s/trial, Current Best Loss=0.12464]\n",
      "{'radius': 0.1, 'sigma_input': 0.1, 'regularization': 0.01, 'in_cluster_weight': 0.5, 'noise_level': 5}\n"
     ]
    }
   ],
   "source": [
    "!bash ./0_PGClustered_ESN_Tune.sh \"tune\" 500 1 1 2 \"grid_search.json\" "
   ]
  },
  {
   "cell_type": "code",
   "execution_count": 5,
   "metadata": {},
   "outputs": [
    {
     "name": "stdout",
     "output_type": "stream",
     "text": [
      "AVERAGE RMNSE ERROR ON TRAIN DATA SET: 1.3922045117389752 ± 0.007547629894044714\n",
      "AVG NUMBER OF ACCURATE 0.5 PREDICTIONS ON TRAIN DATA SET: 1.920375639781128 ± 0.09958483906897025\n",
      "AVG NUMBER OF ACCURATE 1 PREDICTIONS ON TRAIN DATA SET: 3.0935686569134 ± 0.1870385275956941\n",
      "POWER SPECTRUM MEAN ERROR ON TRAIN DATA SET: 0.6137560605168048 ± 0.3509649968798103\n",
      "TEMPORAL DISTANCE ON TRAIN DATA SET: 0.11158806395207377 ± 0.0024841716552493074\n",
      "GEOMETRICAL DISTANCE ON TRAIN DATA SET: 7.441125916038883 ± 0.031225705718410383\n",
      "\n",
      "\n",
      "AVERAGE RMNSE ERROR ON TEST DATA SET: 1.3939734269685204 ± 0.007153937988413019\n",
      "AVG NUMBER OF ACCURATE 0.5 PREDICTIONS ON TEST DATA SET: 1.7769394990470482 ± 0.09420861653361808\n",
      "AVG NUMBER OF ACCURATE 1 PREDICTIONS ON TEST DATA SET: 2.914568443682386 ± 0.1758896075246549\n",
      "POWER SPECTRUM MEAN ERROR ON TEST DATA SET: 0.5838233230438455 ± 0.3756387702108439\n",
      "TEMPORAL DISTANCE ON TEST DATA SET: 0.11101734238806489 ± 0.0018286441898693708\n",
      "GEOMETRICAL DISTANCE ON TEST DATA SET: 7.438084970773312 ± 0.03917389321510587\n"
     ]
    }
   ],
   "source": [
    "!bash ./1_PGClustered_ESN_Evaluate_Tuned_Model.sh \"evaluate_tuned_model\" 500 1 1 2 \"grid_search.json\" "
   ]
  },
  {
   "cell_type": "code",
   "execution_count": 12,
   "metadata": {},
   "outputs": [
    {
     "name": "stdout",
     "output_type": "stream",
     "text": [
      "Grid Search Progress:  12%|█▍          | 3/25 [02:01<14:36, 39.83s/trial, Current Best Loss=0.12263]/home/user/kuei_jan_CHU/PGClustered_ESN/Methods/./Utils/global_utils.py:254: RuntimeWarning: divide by zero encountered in log10\n",
      "  s_dbfs = 20 * np.log10(s_mag)\n",
      "Grid Search Progress: 100%|███████████| 25/25 [18:38<00:00, 44.73s/trial, Current Best Loss=0.12263]\n",
      "{'radius': 0.1, 'sigma_input': 0.1, 'regularization': 0.01, 'in_cluster_weight': 0.5, 'noise_level': 5}\n"
     ]
    }
   ],
   "source": [
    "!bash ./0_PGClustered_ESN_Tune.sh \"tune\" 1000 1 1 3 \"grid_search.json\" "
   ]
  },
  {
   "cell_type": "code",
   "execution_count": 6,
   "metadata": {},
   "outputs": [
    {
     "name": "stdout",
     "output_type": "stream",
     "text": [
      "AVERAGE RMNSE ERROR ON TRAIN DATA SET: 1.377483354268337 ± 0.007915193190717054\n",
      "AVG NUMBER OF ACCURATE 0.5 PREDICTIONS ON TRAIN DATA SET: 2.2401151920402933 ± 0.07569471569633461\n",
      "AVG NUMBER OF ACCURATE 1 PREDICTIONS ON TRAIN DATA SET: 3.5902858211241337 ± 0.19208715862254094\n",
      "POWER SPECTRUM MEAN ERROR ON TRAIN DATA SET: 0.4263450621862231 ± 0.2891766493315881\n",
      "TEMPORAL DISTANCE ON TRAIN DATA SET: 0.10941417510996329 ± 0.0020100621335103217\n",
      "GEOMETRICAL DISTANCE ON TRAIN DATA SET: 7.441125916038883 ± 0.031225705718410383\n",
      "\n",
      "\n",
      "AVERAGE RMNSE ERROR ON TEST DATA SET: 1.3854946963992558 ± 0.007433826757245409\n",
      "AVG NUMBER OF ACCURATE 0.5 PREDICTIONS ON TEST DATA SET: 2.010128571556566 ± 0.11426454166378203\n",
      "AVG NUMBER OF ACCURATE 1 PREDICTIONS ON TEST DATA SET: 3.287569829633642 ± 0.20753542527943042\n",
      "POWER SPECTRUM MEAN ERROR ON TEST DATA SET: 0.5400692649917256 ± 0.3049282368385359\n",
      "TEMPORAL DISTANCE ON TEST DATA SET: 0.10926839961239543 ± 0.0019602007012942194\n",
      "GEOMETRICAL DISTANCE ON TEST DATA SET: 7.438084970773312 ± 0.03917389321510587\n"
     ]
    }
   ],
   "source": [
    "!bash ./1_PGClustered_ESN_Evaluate_Tuned_Model.sh \"evaluate_tuned_model\" 1000 1 1 3 \"grid_search.json\" "
   ]
  },
  {
   "cell_type": "code",
   "execution_count": 14,
   "metadata": {},
   "outputs": [
    {
     "name": "stdout",
     "output_type": "stream",
     "text": [
      "Grid Search Progress:  32%|███▊        | 8/25 [10:16<21:09, 74.70s/trial, Current Best Loss=0.12436]/home/user/kuei_jan_CHU/PGClustered_ESN/Methods/./Utils/global_utils.py:254: RuntimeWarning: divide by zero encountered in log10\n",
      "  s_dbfs = 20 * np.log10(s_mag)\n",
      "Grid Search Progress: 100%|███████████| 25/25 [31:04<00:00, 74.59s/trial, Current Best Loss=0.12259]\n",
      "{'radius': 0.9, 'sigma_input': 0.1, 'regularization': 0.01, 'in_cluster_weight': 0.5, 'noise_level': 5}\n"
     ]
    }
   ],
   "source": [
    "!bash ./0_PGClustered_ESN_Tune.sh \"tune\" 1500 1 1 4 \"grid_search.json\" "
   ]
  },
  {
   "cell_type": "code",
   "execution_count": 7,
   "metadata": {},
   "outputs": [
    {
     "name": "stdout",
     "output_type": "stream",
     "text": [
      "AVERAGE RMNSE ERROR ON TRAIN DATA SET: 1.3742479735045656 ± 0.006112936527518288\n",
      "AVG NUMBER OF ACCURATE 0.5 PREDICTIONS ON TRAIN DATA SET: 2.3720899255241767 ± 0.1023784433454953\n",
      "AVG NUMBER OF ACCURATE 1 PREDICTIONS ON TRAIN DATA SET: 3.824654744379994 ± 0.1780851923469349\n",
      "POWER SPECTRUM MEAN ERROR ON TRAIN DATA SET: 0.367129654633432 ± 0.25125154234501945\n",
      "TEMPORAL DISTANCE ON TRAIN DATA SET: 0.10782893923248116 ± 0.0012222548105316768\n",
      "GEOMETRICAL DISTANCE ON TRAIN DATA SET: 7.441125916038883 ± 0.031225705718410383\n",
      "\n",
      "\n",
      "AVERAGE RMNSE ERROR ON TEST DATA SET: 1.3798126122918668 ± 0.0056856982152605\n",
      "AVG NUMBER OF ACCURATE 0.5 PREDICTIONS ON TEST DATA SET: 2.049822121665703 ± 0.12286282528160741\n",
      "AVG NUMBER OF ACCURATE 1 PREDICTIONS ON TEST DATA SET: 3.304677665455627 ± 0.2158351573752947\n",
      "POWER SPECTRUM MEAN ERROR ON TEST DATA SET: 0.6334275711987971 ± 0.33326129596217463\n",
      "TEMPORAL DISTANCE ON TEST DATA SET: 0.10760623973601127 ± 0.0012191119808430812\n",
      "GEOMETRICAL DISTANCE ON TEST DATA SET: 7.438084970773312 ± 0.03917389321510587\n"
     ]
    }
   ],
   "source": [
    "!bash ./1_PGClustered_ESN_Evaluate_Tuned_Model.sh \"evaluate_tuned_model\" 1500 1 1 4 \"grid_search.json\" "
   ]
  },
  {
   "cell_type": "code",
   "execution_count": 16,
   "metadata": {},
   "outputs": [
    {
     "name": "stdout",
     "output_type": "stream",
     "text": [
      "Grid Search Progress: 100%|███████████| 25/25 [38:32<00:00, 92.49s/trial, Current Best Loss=0.12210]\n",
      "{'radius': 0.4, 'sigma_input': 0.1, 'regularization': 0.01, 'in_cluster_weight': 0.5, 'noise_level': 5}\n"
     ]
    }
   ],
   "source": [
    "!bash ./0_PGClustered_ESN_Tune.sh \"tune\" 2000 1 1 5 \"grid_search.json\" "
   ]
  },
  {
   "cell_type": "code",
   "execution_count": 8,
   "metadata": {},
   "outputs": [
    {
     "name": "stdout",
     "output_type": "stream",
     "text": [
      "AVERAGE RMNSE ERROR ON TRAIN DATA SET: 1.369553870845804 ± 0.005487046735411672\n",
      "AVG NUMBER OF ACCURATE 0.5 PREDICTIONS ON TRAIN DATA SET: 2.643455597183247 ± 0.11497325881307453\n",
      "AVG NUMBER OF ACCURATE 1 PREDICTIONS ON TRAIN DATA SET: 4.203218283849729 ± 0.2917460057993723\n",
      "POWER SPECTRUM MEAN ERROR ON TRAIN DATA SET: 0.3811475376520071 ± 0.23170071915909668\n",
      "TEMPORAL DISTANCE ON TRAIN DATA SET: 0.10767366852051045 ± 0.0014912081622488586\n",
      "GEOMETRICAL DISTANCE ON TRAIN DATA SET: 7.441125916038883 ± 0.031225705718410383\n",
      "\n",
      "\n",
      "AVERAGE RMNSE ERROR ON TEST DATA SET: 1.3753419352454306 ± 0.005086067773652697\n",
      "AVG NUMBER OF ACCURATE 0.5 PREDICTIONS ON TEST DATA SET: 2.2353115140016078 ± 0.12157896687378492\n",
      "AVG NUMBER OF ACCURATE 1 PREDICTIONS ON TEST DATA SET: 3.6791117273131575 ± 0.20870328582413744\n",
      "POWER SPECTRUM MEAN ERROR ON TEST DATA SET: 0.7592371470659636 ± 0.39389895258135615\n",
      "TEMPORAL DISTANCE ON TEST DATA SET: 0.10754395274265507 ± 0.0010332260125872825\n",
      "GEOMETRICAL DISTANCE ON TEST DATA SET: 7.438084970773312 ± 0.03917389321510587\n"
     ]
    }
   ],
   "source": [
    "!bash ./1_PGClustered_ESN_Evaluate_Tuned_Model.sh \"evaluate_tuned_model\" 2000 1 1 5 \"grid_search.json\" "
   ]
  },
  {
   "cell_type": "code",
   "execution_count": 18,
   "metadata": {},
   "outputs": [
    {
     "name": "stdout",
     "output_type": "stream",
     "text": [
      "Grid Search Progress: 100%|███████████| 25/25 [26:50<00:00, 64.42s/trial, Current Best Loss=0.12033]\n",
      "{'radius': 0.7, 'sigma_input': 0.1, 'regularization': 0.01, 'in_cluster_weight': 0.5, 'noise_level': 5}\n"
     ]
    }
   ],
   "source": [
    "!bash ./0_PGClustered_ESN_Tune.sh \"tune\" 2500 1 1 6 \"grid_search.json\" "
   ]
  },
  {
   "cell_type": "code",
   "execution_count": 9,
   "metadata": {},
   "outputs": [
    {
     "name": "stdout",
     "output_type": "stream",
     "text": [
      "AVERAGE RMNSE ERROR ON TRAIN DATA SET: 1.3667428743827634 ± 0.005664306781414404\n",
      "AVG NUMBER OF ACCURATE 0.5 PREDICTIONS ON TRAIN DATA SET: 2.7386021323705414 ± 0.13150646139977037\n",
      "AVG NUMBER OF ACCURATE 1 PREDICTIONS ON TRAIN DATA SET: 4.362413859552829 ± 0.2938880761928703\n",
      "POWER SPECTRUM MEAN ERROR ON TRAIN DATA SET: 0.5429184772101083 ± 0.4116301929001781\n",
      "TEMPORAL DISTANCE ON TRAIN DATA SET: 0.10707483371517527 ± 0.0012198126979981103\n",
      "GEOMETRICAL DISTANCE ON TRAIN DATA SET: 7.441125916038883 ± 0.031225705718410383\n",
      "\n",
      "\n",
      "AVERAGE RMNSE ERROR ON TEST DATA SET: 1.3717961890090358 ± 0.007863167574036987\n",
      "AVG NUMBER OF ACCURATE 0.5 PREDICTIONS ON TEST DATA SET: 2.350094136610196 ± 0.1475936030962143\n",
      "AVG NUMBER OF ACCURATE 1 PREDICTIONS ON TEST DATA SET: 3.8193454160214473 ± 0.1730362024818679\n",
      "POWER SPECTRUM MEAN ERROR ON TEST DATA SET: 0.6650605813808446 ± 0.4357234263235488\n",
      "TEMPORAL DISTANCE ON TEST DATA SET: 0.10672168443311207 ± 0.001349477822670369\n",
      "GEOMETRICAL DISTANCE ON TEST DATA SET: 7.438084970773312 ± 0.03917389321510587\n"
     ]
    }
   ],
   "source": [
    "!bash ./1_PGClustered_ESN_Evaluate_Tuned_Model.sh \"evaluate_tuned_model\" 2500 1 1 6 \"grid_search.json\" "
   ]
  },
  {
   "cell_type": "code",
   "execution_count": 19,
   "metadata": {},
   "outputs": [
    {
     "name": "stdout",
     "output_type": "stream",
     "text": [
      "Grid Search Progress: 100%|███████████| 25/25 [37:52<00:00, 90.88s/trial, Current Best Loss=0.12178]\n",
      "{'radius': 0.9, 'sigma_input': 0.1, 'regularization': 0.01, 'in_cluster_weight': 0.5, 'noise_level': 5}\n"
     ]
    }
   ],
   "source": [
    "!bash ./0_PGClustered_ESN_Tune.sh \"tune\" 3000 1 1 7 \"grid_search.json\" "
   ]
  },
  {
   "cell_type": "code",
   "execution_count": 10,
   "metadata": {},
   "outputs": [
    {
     "name": "stdout",
     "output_type": "stream",
     "text": [
      "AVERAGE RMNSE ERROR ON TRAIN DATA SET: 1.3623985876317257 ± 0.008266726782543124\n",
      "AVG NUMBER OF ACCURATE 0.5 PREDICTIONS ON TRAIN DATA SET: 2.8053479745922756 ± 0.10570443597934738\n",
      "AVG NUMBER OF ACCURATE 1 PREDICTIONS ON TRAIN DATA SET: 4.483180010946446 ± 0.22024364135560087\n",
      "POWER SPECTRUM MEAN ERROR ON TRAIN DATA SET: 0.5002195462289039 ± 0.3556648411966852\n",
      "TEMPORAL DISTANCE ON TRAIN DATA SET: 0.10740209998439658 ± 0.00149859085487138\n",
      "GEOMETRICAL DISTANCE ON TRAIN DATA SET: 7.441125916038883 ± 0.031225705718410383\n",
      "\n",
      "\n",
      "AVERAGE RMNSE ERROR ON TEST DATA SET: 1.3744878921497565 ± 0.008162708979214844\n",
      "AVG NUMBER OF ACCURATE 0.5 PREDICTIONS ON TEST DATA SET: 2.328603998016077 ± 0.16300239774646533\n",
      "AVG NUMBER OF ACCURATE 1 PREDICTIONS ON TEST DATA SET: 3.803838806212358 ± 0.21286790803100064\n",
      "POWER SPECTRUM MEAN ERROR ON TEST DATA SET: 0.6398637666921473 ± 0.37842691349088586\n",
      "TEMPORAL DISTANCE ON TEST DATA SET: 0.10716754483202547 ± 0.0012530640709600483\n",
      "GEOMETRICAL DISTANCE ON TEST DATA SET: 7.438084970773312 ± 0.03917389321510587\n"
     ]
    }
   ],
   "source": [
    "!bash ./1_PGClustered_ESN_Evaluate_Tuned_Model.sh \"evaluate_tuned_model\" 3000 1 1 7 \"grid_search.json\" "
   ]
  },
  {
   "cell_type": "code",
   "execution_count": 1,
   "metadata": {
    "editable": true,
    "slideshow": {
     "slide_type": ""
    },
    "tags": []
   },
   "outputs": [
    {
     "name": "stdout",
     "output_type": "stream",
     "text": [
      "{'radius': 0.1, 'sigma_input': 0.1, 'regularization': 0.01, 'in_cluster_weight': 0.5, 'noise_level': 5}\n"
     ]
    }
   ],
   "source": [
    "!bash ./0_PGClustered_ESN_Tune.sh \"tune\" 3500 1 1 8 \"grid_search.json\" "
   ]
  },
  {
   "cell_type": "code",
   "execution_count": 11,
   "metadata": {},
   "outputs": [
    {
     "name": "stdout",
     "output_type": "stream",
     "text": [
      "AVERAGE RMNSE ERROR ON TRAIN DATA SET: 1.3622863797999063 ± 0.006617702940695274\n",
      "AVG NUMBER OF ACCURATE 0.5 PREDICTIONS ON TRAIN DATA SET: 2.9689258530675104 ± 0.10953873545143716\n",
      "AVG NUMBER OF ACCURATE 1 PREDICTIONS ON TRAIN DATA SET: 4.853737420351704 ± 0.2037359479695754\n",
      "POWER SPECTRUM MEAN ERROR ON TRAIN DATA SET: 0.4187568102967891 ± 0.26575407659231537\n",
      "TEMPORAL DISTANCE ON TRAIN DATA SET: 0.10674698242685843 ± 0.0012555576071220066\n",
      "GEOMETRICAL DISTANCE ON TRAIN DATA SET: 7.441125916038883 ± 0.031225705718410383\n",
      "\n",
      "\n",
      "AVERAGE RMNSE ERROR ON TEST DATA SET: 1.3680439855236641 ± 0.007280866802542049\n",
      "AVG NUMBER OF ACCURATE 0.5 PREDICTIONS ON TEST DATA SET: 2.458219030007273 ± 0.12444144091357166\n",
      "AVG NUMBER OF ACCURATE 1 PREDICTIONS ON TEST DATA SET: 4.0735189768052225 ± 0.19300392967786284\n",
      "POWER SPECTRUM MEAN ERROR ON TEST DATA SET: 0.6709419472654587 ± 0.444087760479719\n",
      "TEMPORAL DISTANCE ON TEST DATA SET: 0.10656323605313536 ± 0.0012337274684659037\n",
      "GEOMETRICAL DISTANCE ON TEST DATA SET: 7.438084970773312 ± 0.03917389321510587\n"
     ]
    }
   ],
   "source": [
    "!bash ./1_PGClustered_ESN_Evaluate_Tuned_Model.sh \"evaluate_tuned_model\" 3500 1 1 8 \"grid_search.json\" "
   ]
  },
  {
   "cell_type": "code",
   "execution_count": 2,
   "metadata": {
    "editable": true,
    "slideshow": {
     "slide_type": ""
    },
    "tags": []
   },
   "outputs": [
    {
     "name": "stdout",
     "output_type": "stream",
     "text": [
      "{'radius': 0.9, 'sigma_input': 0.1, 'regularization': 0.01, 'in_cluster_weight': 0.5, 'noise_level': 5}\n"
     ]
    }
   ],
   "source": [
    "!bash ./0_PGClustered_ESN_Tune.sh \"tune\" 4000 1 1 9 \"grid_search.json\" "
   ]
  },
  {
   "cell_type": "code",
   "execution_count": 12,
   "metadata": {},
   "outputs": [
    {
     "name": "stdout",
     "output_type": "stream",
     "text": [
      "AVERAGE RMNSE ERROR ON TRAIN DATA SET: 1.358586373626117 ± 0.007554276472275276\n",
      "AVG NUMBER OF ACCURATE 0.5 PREDICTIONS ON TRAIN DATA SET: 2.9501325161793197 ± 0.13367744978272247\n",
      "AVG NUMBER OF ACCURATE 1 PREDICTIONS ON TRAIN DATA SET: 4.776541471519497 ± 0.3109253369540432\n",
      "POWER SPECTRUM MEAN ERROR ON TRAIN DATA SET: 0.4537059136028664 ± 0.27792947088075465\n",
      "TEMPORAL DISTANCE ON TRAIN DATA SET: 0.10722310463560554 ± 0.0014477503920780725\n",
      "GEOMETRICAL DISTANCE ON TRAIN DATA SET: 7.441125916038883 ± 0.031225705718410383\n",
      "\n",
      "\n",
      "AVERAGE RMNSE ERROR ON TEST DATA SET: 1.3688130029093466 ± 0.006886354263805651\n",
      "AVG NUMBER OF ACCURATE 0.5 PREDICTIONS ON TEST DATA SET: 2.468921961777677 ± 0.15373543833063874\n",
      "AVG NUMBER OF ACCURATE 1 PREDICTIONS ON TEST DATA SET: 3.9964915780796355 ± 0.26260404114797037\n",
      "POWER SPECTRUM MEAN ERROR ON TEST DATA SET: 0.5915241481305614 ± 0.41570580319474015\n",
      "TEMPORAL DISTANCE ON TEST DATA SET: 0.10705775853257733 ± 0.0014197034584999598\n",
      "GEOMETRICAL DISTANCE ON TEST DATA SET: 7.438084970773312 ± 0.03917389321510587\n"
     ]
    }
   ],
   "source": [
    "!bash ./1_PGClustered_ESN_Evaluate_Tuned_Model.sh \"evaluate_tuned_model\" 4000 1 1 9 \"grid_search.json\" "
   ]
  },
  {
   "cell_type": "code",
   "execution_count": null,
   "metadata": {
    "editable": true,
    "slideshow": {
     "slide_type": ""
    },
    "tags": []
   },
   "outputs": [],
   "source": []
  },
  {
   "cell_type": "code",
   "execution_count": null,
   "metadata": {},
   "outputs": [],
   "source": []
  }
 ],
 "metadata": {
  "kernelspec": {
   "display_name": "Python 3 (ipykernel)",
   "language": "python",
   "name": "python3"
  },
  "language_info": {
   "codemirror_mode": {
    "name": "ipython",
    "version": 3
   },
   "file_extension": ".py",
   "mimetype": "text/x-python",
   "name": "python",
   "nbconvert_exporter": "python",
   "pygments_lexer": "ipython3",
   "version": "3.11.8"
  }
 },
 "nbformat": 4,
 "nbformat_minor": 4
}
