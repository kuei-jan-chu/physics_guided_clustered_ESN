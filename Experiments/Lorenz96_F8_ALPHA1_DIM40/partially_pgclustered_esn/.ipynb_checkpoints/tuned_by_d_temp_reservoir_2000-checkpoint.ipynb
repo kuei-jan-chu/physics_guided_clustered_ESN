{
 "cells": [
  {
   "cell_type": "markdown",
   "metadata": {},
   "source": [
    "### use --iterative_prediction_length 7000 \\ --num_test_ICS 20 \\ --N 50000 \\ --N_used 50000 \\ --sparsity 1 \\ --p_in 1 \\ method: tpe \\ size: half hyper space\\ metric: d_temp\n",
    "with washout evaluation, data seperation: 6:4"
   ]
  },
  {
   "cell_type": "code",
   "execution_count": 1,
   "metadata": {},
   "outputs": [
    {
     "name": "stdout",
     "output_type": "stream",
     "text": [
      "  8%|▍    | 15/200 [19:23<3:51:54, 75.22s/trial, best loss: 0.12227221022683596]/home/user/kuei_jan_CHU/PGClustered_ESN/Methods/./Utils/global_utils.py:249: RuntimeWarning: divide by zero encountered in log10\n",
      "  s_dbfs = 20 * np.log10(s_mag)\n",
      "\n",
      "100%|████| 200/200 [2:38:37<00:00, 47.59s/trial, best loss: 0.12055178905818043]\n",
      "{'in_cluster_weight': 0.1, 'noise_level': 5, 'radius': 0.1, 'regularization': 0.01, 'sigma_input': 0.3}\n"
     ]
    }
   ],
   "source": [
    "!bash ./0_PGClustered_ESN_Tune_2.sh"
   ]
  },
  {
   "cell_type": "markdown",
   "metadata": {},
   "source": [
    "### predicted length: 7000"
   ]
  },
  {
   "cell_type": "code",
   "execution_count": 1,
   "metadata": {},
   "outputs": [],
   "source": [
    "!bash ./4_PGClustered_ESN_Train_Multiple_Times.sh"
   ]
  },
  {
   "cell_type": "code",
   "execution_count": 2,
   "metadata": {},
   "outputs": [],
   "source": [
    "!bash ./5_PGClustered_ESN_Test_Multiple_Times.sh"
   ]
  },
  {
   "cell_type": "code",
   "execution_count": null,
   "metadata": {},
   "outputs": [
    {
     "name": "stdout",
     "output_type": "stream",
     "text": [
      "AVERAGE RMNSE ERROR ON TRAIN DATA SET: 1.3607126992125687 ± 0.0013560690041973433\n",
      "AVG NUMBER OF ACCURATE 0.5 PREDICTIONS ON TRAIN DATA SET: 2.7449227613688123 ± 0.035025540125628\n",
      "AVG NUMBER OF ACCURATE 1 PREDICTIONS ON TRAIN DATA SET: 4.2901058638126175 ± 0.04940258724575407\n",
      "POWER SPECTRUM MEAN ERROR ON TRAIN DATA SET: 0.43138380625154554 ± 0.08402348004672361\n",
      "TEMPORAL DISTANCE ON TRAIN DATA SET: 0.10685862184530188 ± 0.0003270735830980815\n",
      "GEOMETRICAL DISTANCE ON TRAIN DATA SET: 7.798648828064929 ± 0.010662537945639643\n",
      "\n",
      "\n",
      "AVERAGE RMNSE ERROR ON TEST DATA SET: 1.3697045617183436 ± 0.0015922079554419883\n",
      "AVG NUMBER OF ACCURATE 0.5 PREDICTIONS ON TEST DATA SET: 2.2973379532379665 ± 0.024116898162332527\n",
      "AVG NUMBER OF ACCURATE 1 PREDICTIONS ON TEST DATA SET: 3.618855064196314 ± 0.04465171206468963\n",
      "POWER SPECTRUM MEAN ERROR ON TEST DATA SET: 0.7511781603105321 ± 0.09130738470035198\n",
      "TEMPORAL DISTANCE ON TEST DATA SET: 0.10592369891462369 ± 0.00030122185276624315\n",
      "GEOMETRICAL DISTANCE ON TEST DATA SET: 7.801606652007104 ± 0.01014612233751639\n"
     ]
    }
   ],
   "source": [
    "!bash ./6_PGClustered_ESN_Average_Results.sh"
   ]
  },
  {
   "cell_type": "code",
   "execution_count": 7,
   "metadata": {},
   "outputs": [
    {
     "name": "stdout",
     "output_type": "stream",
     "text": [
      "CUDA Device available? True\n",
      "Using device: cuda\n",
      "DEVICE NAME: NVIDIA GeForce RTX 4090\n",
      "MEMORY USAGE:\n",
      "Memory allocated: 0.0 GB\n",
      "Max memory allocated: 0.0 GB\n",
      "Memory cached:    0.0 GB\n",
      "MAX memory cached:    0.0 GB\n",
      "USING CUDA AND GPU.\n",
      "# GPU MEMORY nvidia-smi in MB={0: 14}\n",
      "RANDOM SEED: 0\n",
      "TEST ON TRAINING SET\n",
      "IC 1/10, 10.000%\n",
      "PREDICTION - Dynamics prerun\n",
      "PREDICTION - Dynamics prerun: T 2000/2000, 100.000%\n",
      "PREDICTION:\n",
      "SEQUENCE PREDICTED...00, 100.000%\n",
      "\n",
      "IC 2/10, 20.000%\n",
      "PREDICTION - Dynamics prerun\n",
      "PREDICTION - Dynamics prerun: T 2000/2000, 100.000%\n",
      "PREDICTION:\n",
      "SEQUENCE PREDICTED...00, 100.000%\n",
      "\n",
      "IC 3/10, 30.000%\n",
      "PREDICTION - Dynamics prerun\n",
      "PREDICTION - Dynamics prerun: T 2000/2000, 100.000%\n",
      "PREDICTION:\n",
      "SEQUENCE PREDICTED...00, 100.000%\n",
      "\n",
      "IC 4/10, 40.000%\n",
      "PREDICTION - Dynamics prerun\n",
      "PREDICTION - Dynamics prerun: T 2000/2000, 100.000%\n",
      "PREDICTION:\n",
      "SEQUENCE PREDICTED...00, 100.000%\n",
      "\n",
      "IC 5/10, 50.000%\n",
      "PREDICTION - Dynamics prerun\n",
      "PREDICTION - Dynamics prerun: T 2000/2000, 100.000%\n",
      "PREDICTION:\n",
      "SEQUENCE PREDICTED...00, 100.000%\n",
      "\n",
      "IC 6/10, 60.000%\n",
      "PREDICTION - Dynamics prerun\n",
      "PREDICTION - Dynamics prerun: T 2000/2000, 100.000%\n",
      "PREDICTION:\n",
      "SEQUENCE PREDICTED...00, 100.000%\n",
      "\n",
      "IC 7/10, 70.000%\n",
      "PREDICTION - Dynamics prerun\n",
      "PREDICTION - Dynamics prerun: T 2000/2000, 100.000%\n",
      "PREDICTION:\n",
      "SEQUENCE PREDICTED...00, 100.000%\n",
      "\n",
      "IC 8/10, 80.000%\n",
      "PREDICTION - Dynamics prerun\n",
      "PREDICTION - Dynamics prerun: T 2000/2000, 100.000%\n",
      "PREDICTION:\n",
      "SEQUENCE PREDICTED...00, 100.000%\n",
      "\n",
      "IC 9/10, 90.000%\n",
      "PREDICTION - Dynamics prerun\n",
      "PREDICTION - Dynamics prerun: T 2000/2000, 100.000%\n",
      "PREDICTION:\n",
      "SEQUENCE PREDICTED...00, 100.000%\n",
      "\n",
      "IC 10/10, 100.000%\n",
      "PREDICTION - Dynamics prerun\n",
      "PREDICTION - Dynamics prerun: T 2000/2000, 100.000%\n",
      "PREDICTION:\n",
      "SEQUENCE PREDICTED...00, 100.000%\n",
      "\n",
      "TRAJECTORIES SHAPES:\n",
      "(10, 7000, 40)\n",
      "(10, 7000, 40)\n",
      "AVERAGE RMNSE ERROR: 1.3670903593684807\n",
      "AVG NUMBER OF ACCURATE 0.5 PREDICTIONS: 2.7541087421796315\n",
      "AVG NUMBER OF ACCURATE 1 PREDICTIONS: 4.464892324378117\n",
      "POWER SPECTRUM MEAN ERROR: 0.14178147155403562\n",
      "TEMPORAL DISTANCE: 0.1068932029447454\n",
      "GEOMETRICAL DISTANCE: 2.8299245538900646\n",
      "IC INDEXES OF TRAIN PREDICTED...\n",
      "\n",
      "\n",
      "TEST ON TESTING SET\n",
      "IC 1/10, 10.000%\n",
      "PREDICTION - Dynamics prerun\n",
      "PREDICTION - Dynamics prerun: T 2000/2000, 100.000%\n",
      "PREDICTION:\n",
      "SEQUENCE PREDICTED...00, 100.000%\n",
      "\n",
      "IC 2/10, 20.000%\n",
      "PREDICTION - Dynamics prerun\n",
      "PREDICTION - Dynamics prerun: T 2000/2000, 100.000%\n",
      "PREDICTION:\n",
      "SEQUENCE PREDICTED...00, 100.000%\n",
      "\n",
      "IC 3/10, 30.000%\n",
      "PREDICTION - Dynamics prerun\n",
      "PREDICTION - Dynamics prerun: T 2000/2000, 100.000%\n",
      "PREDICTION:\n",
      "SEQUENCE PREDICTED...00, 100.000%\n",
      "\n",
      "IC 4/10, 40.000%\n",
      "PREDICTION - Dynamics prerun\n",
      "PREDICTION - Dynamics prerun: T 2000/2000, 100.000%\n",
      "PREDICTION:\n",
      "SEQUENCE PREDICTED...00, 100.000%\n",
      "\n",
      "IC 5/10, 50.000%\n",
      "PREDICTION - Dynamics prerun\n",
      "PREDICTION - Dynamics prerun: T 2000/2000, 100.000%\n",
      "PREDICTION:\n",
      "SEQUENCE PREDICTED...00, 100.000%\n",
      "\n",
      "IC 6/10, 60.000%\n",
      "PREDICTION - Dynamics prerun\n",
      "PREDICTION - Dynamics prerun: T 2000/2000, 100.000%\n",
      "PREDICTION:\n",
      "SEQUENCE PREDICTED...00, 100.000%\n",
      "\n",
      "IC 7/10, 70.000%\n",
      "PREDICTION - Dynamics prerun\n",
      "PREDICTION - Dynamics prerun: T 2000/2000, 100.000%\n",
      "PREDICTION:\n",
      "SEQUENCE PREDICTED...00, 100.000%\n",
      "\n",
      "IC 8/10, 80.000%\n",
      "PREDICTION - Dynamics prerun\n",
      "PREDICTION - Dynamics prerun: T 2000/2000, 100.000%\n",
      "PREDICTION:\n",
      "SEQUENCE PREDICTED...00, 100.000%\n",
      "\n",
      "IC 9/10, 90.000%\n",
      "PREDICTION - Dynamics prerun\n",
      "PREDICTION - Dynamics prerun: T 2000/2000, 100.000%\n",
      "PREDICTION:\n",
      "SEQUENCE PREDICTED...00, 100.000%\n",
      "\n",
      "IC 10/10, 100.000%\n",
      "PREDICTION - Dynamics prerun\n",
      "PREDICTION - Dynamics prerun: T 2000/2000, 100.000%\n",
      "PREDICTION:\n",
      "SEQUENCE PREDICTED...00, 100.000%\n",
      "\n",
      "TRAJECTORIES SHAPES:\n",
      "(10, 7000, 40)\n",
      "(10, 7000, 40)\n",
      "AVERAGE RMNSE ERROR: 1.367777933714471\n",
      "AVG NUMBER OF ACCURATE 0.5 PREDICTIONS: 2.342846482025513\n",
      "AVG NUMBER OF ACCURATE 1 PREDICTIONS: 3.544608742229966\n",
      "POWER SPECTRUM MEAN ERROR: 0.6366299949845968\n",
      "TEMPORAL DISTANCE: 0.10413688426269004\n",
      "GEOMETRICAL DISTANCE: 2.823758540789653\n",
      "IC INDEXES OF TEST PREDICTED...\n",
      "\n",
      "\n"
     ]
    }
   ],
   "source": [
    "!bash ./2_PGClustered_ESN_Test.sh"
   ]
  },
  {
   "cell_type": "code",
   "execution_count": null,
   "metadata": {},
   "outputs": [],
   "source": []
  }
 ],
 "metadata": {
  "kernelspec": {
   "display_name": "Python 3 (ipykernel)",
   "language": "python",
   "name": "python3"
  },
  "language_info": {
   "codemirror_mode": {
    "name": "ipython",
    "version": 3
   },
   "file_extension": ".py",
   "mimetype": "text/x-python",
   "name": "python",
   "nbconvert_exporter": "python",
   "pygments_lexer": "ipython3",
   "version": "3.11.8"
  }
 },
 "nbformat": 4,
 "nbformat_minor": 4
}
