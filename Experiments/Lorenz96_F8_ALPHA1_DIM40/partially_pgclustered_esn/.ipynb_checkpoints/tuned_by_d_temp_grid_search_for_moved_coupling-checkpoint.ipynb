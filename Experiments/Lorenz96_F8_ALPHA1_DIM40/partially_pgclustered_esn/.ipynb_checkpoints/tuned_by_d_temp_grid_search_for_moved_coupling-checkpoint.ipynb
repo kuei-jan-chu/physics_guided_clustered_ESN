{
 "cells": [
  {
   "cell_type": "markdown",
   "metadata": {},
   "source": [
    "### use --iterative_prediction_length 7000 \\ --num_test_ICS 20 \\ --N 50000 \\ --N_used 50000 \\ --sparsity 1 \\ --p_in 1 \\ method: tpe \\ size: half hyper space\\ metric: d_temp\n",
    "with washout evaluation, data seperation: 6:4"
   ]
  },
  {
   "cell_type": "code",
   "execution_count": 12,
   "metadata": {},
   "outputs": [
    {
     "name": "stdout",
     "output_type": "stream",
     "text": [
      "Grid Search Progress:   0%|                                               | 0/25 [00:01<?, ?trial/s]\n",
      "Traceback (most recent call last):\n",
      "  File \"/home/user/kuei_jan_CHU/PGClustered_ESN/Methods/RUN.py\", line 85, in <module>\n",
      "    main()\n",
      "  File \"/home/user/kuei_jan_CHU/PGClustered_ESN/Methods/RUN.py\", line 82, in main\n",
      "    runModel(args_dict)\n",
      "  File \"/home/user/kuei_jan_CHU/PGClustered_ESN/Methods/RUN.py\", line 10, in runModel\n",
      "    tuneModel(params_dict)\n",
      "  File \"/home/user/kuei_jan_CHU/PGClustered_ESN/Methods/./Utils/global_utils.py\", line 648, in tuneModel\n",
      "    searchBestHyperParameters(params_dict, hype_tuning_config_path, report_path)\n",
      "  File \"/home/user/kuei_jan_CHU/PGClustered_ESN/Methods/./Utils/hyper_tuning_utils.py\", line 400, in searchBestHyperParameters\n",
      "    gridSearch(params_dict, config, report_path)\n",
      "  File \"/home/user/kuei_jan_CHU/PGClustered_ESN/Methods/./Utils/hyper_tuning_utils.py\", line 243, in gridSearch\n",
      "    returned_dict = _objective(params_dict, config, hyper_args)\n",
      "                    ^^^^^^^^^^^^^^^^^^^^^^^^^^^^^^^^^^^^^^^^^^^\n",
      "  File \"/home/user/kuei_jan_CHU/PGClustered_ESN/Methods/./Utils/hyper_tuning_utils.py\", line 178, in _objective\n",
      "    model.hyperTuning()\n",
      "  File \"/home/user/kuei_jan_CHU/PGClustered_ESN/Methods/./Utils/esn.py\", line 219, in hyperTuning\n",
      "    self.train()\n",
      "  File \"/home/user/kuei_jan_CHU/PGClustered_ESN/Methods/./Utils/esn.py\", line 164, in train\n",
      "    self.model.train(train_input_sequence, dynamics_length)\n",
      "  File \"/home/user/kuei_jan_CHU/PGClustered_ESN/Methods/./Utils/esn_model.py\", line 95, in train\n",
      "    h_aug = self.augmentHidden(hidden_state)\n",
      "            ^^^^^^^^^^^^^^^^^^^^^^^^^^^^^^^^\n",
      "  File \"/home/user/kuei_jan_CHU/PGClustered_ESN/Methods/./Utils/esn_model.py\", line 61, in augmentHidden\n",
      "    h_aug[::2] = h_aug[::2] ** 2.0 \n",
      "                 ~~~~~~~~~~~^^~~~~\n",
      "  File \"/home/user/anaconda3/lib/python3.11/site-packages/torch/_tensor.py\", line 39, in wrapped\n",
      "    return handle_torch_function(wrapped, args, *args, **kwargs)\n",
      "           ^^^^^^^^^^^^^^^^^^^^^^^^^^^^^^^^^^^^^^^^^^^^^^^^^^^^^\n",
      "  File \"/home/user/anaconda3/lib/python3.11/site-packages/torch/overrides.py\", line 1525, in handle_torch_function\n",
      "    overloaded_args = _get_overloaded_args(relevant_args)\n",
      "                      ^^^^^^^^^^^^^^^^^^^^^^^^^^^^^^^^^^^\n",
      "  File \"/home/user/anaconda3/lib/python3.11/site-packages/torch/overrides.py\", line -1, in _get_overloaded_args\n",
      "KeyboardInterrupt\n",
      "^C\n"
     ]
    }
   ],
   "source": [
    "!bash ./0_PGClustered_ESN_Tune.sh \"tune\" 40 1 1 0 \"grid_search_for_coupling_moved_1.json\" \"-3 -2 2\""
   ]
  },
  {
   "cell_type": "code",
   "execution_count": null,
   "metadata": {},
   "outputs": [
    {
     "name": "stdout",
     "output_type": "stream",
     "text": [
      "{'radius': 0.9, 'sigma_input': 0.1, 'regularization': 0.01, 'in_cluster_weight': 0.5, 'noise_level': 5}\n",
      "/home/user/anaconda3/lib/python3.11/site-packages/numpy/core/_methods.py:236: RuntimeWarning: invalid value encountered in subtract\n",
      "  x = asanyarray(arr - arrmean)\n",
      "AVERAGE RMNSE ERROR ON TRAIN DATA SET: 1.7876129875450393 ± 0.35823941900545464\n",
      "AVG NUMBER OF ACCURATE 0.5 PREDICTIONS ON TRAIN DATA SET: 0.0032122361211799283 ± 0.004501704440777267\n",
      "AVG NUMBER OF ACCURATE 1 PREDICTIONS ON TRAIN DATA SET: 0.3542758311543442 ± 0.068893700382971\n",
      "POWER SPECTRUM MEAN ERROR ON TRAIN DATA SET: inf ± nan\n",
      "TEMPORAL DISTANCE ON TRAIN DATA SET: 0.37394864009860496 ± 0.07113220624484645\n",
      "GEOMETRICAL DISTANCE ON TRAIN DATA SET: inf ± nan\n",
      "\n",
      "\n",
      "AVERAGE RMNSE ERROR ON TEST DATA SET: 1.7549718691233942 ± 0.30421203377139183\n",
      "AVG NUMBER OF ACCURATE 0.5 PREDICTIONS ON TEST DATA SET: 0.0014370530015804944 ± 0.003307588399662489\n",
      "AVG NUMBER OF ACCURATE 1 PREDICTIONS ON TEST DATA SET: 0.3115869037544531 ± 0.05651200334874187\n",
      "POWER SPECTRUM MEAN ERROR ON TEST DATA SET: inf ± nan\n",
      "TEMPORAL DISTANCE ON TEST DATA SET: 0.3623419149474116 ± 0.09945307984985977\n",
      "GEOMETRICAL DISTANCE ON TEST DATA SET: inf ± nan\n"
     ]
    }
   ],
   "source": [
    "!bash ./1_PGClustered_ESN_Evaluate_Tuned_Model.sh \"evaluate_tuned_model\" 40 1 1 0 \"grid_search_for_coupling_moved_1.json\" \"-3 -2 2\""
   ]
  },
  {
   "cell_type": "code",
   "execution_count": null,
   "metadata": {},
   "outputs": [
    {
     "name": "stdout",
     "output_type": "stream",
     "text": [
      "Grid Search Progress:   8%|▉           | 2/25 [00:37<07:07, 18.57s/trial, Current Best Loss=0.16282]/home/user/kuei_jan_CHU/PGClustered_ESN/Methods/./Utils/global_utils.py:256: RuntimeWarning: divide by zero encountered in log10\n",
      "  s_dbfs = 20 * np.log10(s_mag)\n",
      "Grid Search Progress:  12%|█▍          | 3/25 [01:05<08:23, 22.88s/trial, Current Best Loss=0.16282]/home/user/kuei_jan_CHU/PGClustered_ESN/Methods/./Utils/global_utils.py:291: RuntimeWarning: invalid value encountered in divide\n",
      "  trajectory = (trajectory-trajectory.mean())/trajectory.std()\n",
      "Grid Search Progress: 100%|███████████| 25/25 [11:43<00:00, 28.13s/trial, Current Best Loss=0.16282]\n",
      "{'radius': 0.1, 'sigma_input': 0.1, 'regularization': 0.01, 'in_cluster_weight': 0.5, 'noise_level': 5}\n",
      "{'radius': 0.1, 'sigma_input': 0.1, 'regularization': 0.01, 'in_cluster_weight': 0.5, 'noise_level': 5}\n"
     ]
    }
   ],
   "source": [
    "!bash ./0_PGClustered_ESN_Tune.sh \"tune\" 250 1 1 1 \"grid_search_for_coupling_moved_1.json\" \"-3 -2 2\""
   ]
  },
  {
   "cell_type": "code",
   "execution_count": null,
   "metadata": {},
   "outputs": [
    {
     "name": "stdout",
     "output_type": "stream",
     "text": [
      "{'radius': 0.1, 'sigma_input': 0.1, 'regularization': 0.01, 'in_cluster_weight': 0.5, 'noise_level': 5}\n",
      "/home/user/anaconda3/lib/python3.11/site-packages/numpy/core/_methods.py:236: RuntimeWarning: invalid value encountered in subtract\n",
      "  x = asanyarray(arr - arrmean)\n",
      "AVERAGE RMNSE ERROR ON TRAIN DATA SET: 2.074236994041313 ± 1.1493006985632848\n",
      "AVG NUMBER OF ACCURATE 0.5 PREDICTIONS ON TRAIN DATA SET: 0.7411812186975161 ± 0.06870867230848397\n",
      "AVG NUMBER OF ACCURATE 1 PREDICTIONS ON TRAIN DATA SET: 1.4389127172295986 ± 0.12088080782580564\n",
      "POWER SPECTRUM MEAN ERROR ON TRAIN DATA SET: inf ± nan\n",
      "TEMPORAL DISTANCE ON TRAIN DATA SET: 0.21979109428653518 ± 0.11559069075654711\n",
      "GEOMETRICAL DISTANCE ON TRAIN DATA SET: inf ± nan\n",
      "\n",
      "\n",
      "AVERAGE RMNSE ERROR ON TEST DATA SET: 2.1227881980861034 ± 1.1929551918688588\n",
      "AVG NUMBER OF ACCURATE 0.5 PREDICTIONS ON TEST DATA SET: 0.7115948333708588 ± 0.0630567342723209\n",
      "AVG NUMBER OF ACCURATE 1 PREDICTIONS ON TEST DATA SET: 1.495549511997771 ± 0.1656185341827212\n",
      "POWER SPECTRUM MEAN ERROR ON TEST DATA SET: inf ± nan\n",
      "TEMPORAL DISTANCE ON TEST DATA SET: 0.22468983898850695 ± 0.12254774656527219\n",
      "GEOMETRICAL DISTANCE ON TEST DATA SET: inf ± nan\n"
     ]
    }
   ],
   "source": [
    "!bash ./1_PGClustered_ESN_Evaluate_Tuned_Model.sh \"evaluate_tuned_model\" 250 1 1 1 \"grid_search_for_coupling_moved_1.json\" \"-3 -2 2\""
   ]
  },
  {
   "cell_type": "code",
   "execution_count": null,
   "metadata": {},
   "outputs": [
    {
     "name": "stdout",
     "output_type": "stream",
     "text": [
      "Grid Search Progress:   8%|▉           | 2/25 [01:18<14:48, 38.61s/trial, Current Best Loss=0.12464]/home/user/kuei_jan_CHU/PGClustered_ESN/Methods/./Utils/global_utils.py:254: RuntimeWarning: divide by zero encountered in log10\n",
      "  s_dbfs = 20 * np.log10(s_mag)\n",
      "Grid Search Progress: 100%|███████████| 25/25 [13:08<00:00, 31.53s/trial, Current Best Loss=0.12464]\n",
      "{'radius': 0.1, 'sigma_input': 0.1, 'regularization': 0.01, 'in_cluster_weight': 0.5, 'noise_level': 5}\n"
     ]
    }
   ],
   "source": [
    "!bash ./0_PGClustered_ESN_Tune.sh \"tune\" 500 1 1 2 \"grid_search_for_coupling_moved_1.json\" \"-3 -2 2\""
   ]
  },
  {
   "cell_type": "code",
   "execution_count": null,
   "metadata": {},
   "outputs": [
    {
     "name": "stdout",
     "output_type": "stream",
     "text": [
      "{'radius': 0.1, 'sigma_input': 0.1, 'regularization': 0.01, 'in_cluster_weight': 0.5, 'noise_level': 5}\n",
      "AVERAGE RMNSE ERROR ON TRAIN DATA SET: 1.3922045117389752 ± 0.007547629894044714\n",
      "AVG NUMBER OF ACCURATE 0.5 PREDICTIONS ON TRAIN DATA SET: 1.9262427498243953 ± 0.09988908954859269\n",
      "AVG NUMBER OF ACCURATE 1 PREDICTIONS ON TRAIN DATA SET: 3.103020093059811 ± 0.187609965600323\n",
      "POWER SPECTRUM MEAN ERROR ON TRAIN DATA SET: 0.6137560605168048 ± 0.3509649968798103\n",
      "TEMPORAL DISTANCE ON TRAIN DATA SET: 0.11158806395207377 ± 0.0024841716552493074\n",
      "GEOMETRICAL DISTANCE ON TRAIN DATA SET: 13.23570269451183 ± 0.13005179599107974\n",
      "\n",
      "\n",
      "AVERAGE RMNSE ERROR ON TEST DATA SET: 1.3939734269685204 ± 0.007153937988413019\n",
      "AVG NUMBER OF ACCURATE 0.5 PREDICTIONS ON TEST DATA SET: 1.7823683846073368 ± 0.09449644163865313\n",
      "AVG NUMBER OF ACCURATE 1 PREDICTIONS ON TEST DATA SET: 2.9234730003917533 ± 0.17642698347415006\n",
      "POWER SPECTRUM MEAN ERROR ON TEST DATA SET: 0.5838233230438455 ± 0.3756387702108439\n",
      "TEMPORAL DISTANCE ON TEST DATA SET: 0.11101734238806489 ± 0.0018286441898693708\n",
      "GEOMETRICAL DISTANCE ON TEST DATA SET: 13.29008590867845 ± 0.12536748252378893\n"
     ]
    }
   ],
   "source": [
    "!bash ./1_PGClustered_ESN_Evaluate_Tuned_Model.sh \"evaluate_tuned_model\" 500 1 1 2 \"grid_search_for_coupling_moved_1.json\" \"-3 -2 2\""
   ]
  },
  {
   "cell_type": "code",
   "execution_count": null,
   "metadata": {},
   "outputs": [
    {
     "name": "stdout",
     "output_type": "stream",
     "text": [
      "Grid Search Progress:  12%|█▍          | 3/25 [02:01<14:36, 39.83s/trial, Current Best Loss=0.12263]/home/user/kuei_jan_CHU/PGClustered_ESN/Methods/./Utils/global_utils.py:254: RuntimeWarning: divide by zero encountered in log10\n",
      "  s_dbfs = 20 * np.log10(s_mag)\n",
      "Grid Search Progress: 100%|███████████| 25/25 [18:38<00:00, 44.73s/trial, Current Best Loss=0.12263]\n",
      "{'radius': 0.1, 'sigma_input': 0.1, 'regularization': 0.01, 'in_cluster_weight': 0.5, 'noise_level': 5}\n"
     ]
    }
   ],
   "source": [
    "!bash ./0_PGClustered_ESN_Tune.sh \"tune\" 1000 1 1 3 \"grid_search_for_coupling_moved_1.json\" \"-3 -2 2\""
   ]
  },
  {
   "cell_type": "code",
   "execution_count": null,
   "metadata": {},
   "outputs": [
    {
     "name": "stdout",
     "output_type": "stream",
     "text": [
      "{'radius': 0.1, 'sigma_input': 0.1, 'regularization': 0.01, 'in_cluster_weight': 0.5, 'noise_level': 5}\n",
      "AVERAGE RMNSE ERROR ON TRAIN DATA SET: 1.377483354268337 ± 0.007915193190717054\n",
      "AVG NUMBER OF ACCURATE 0.5 PREDICTIONS ON TRAIN DATA SET: 2.2469591667653597 ± 0.075925977339882\n",
      "AVG NUMBER OF ACCURATE 1 PREDICTIONS ON TRAIN DATA SET: 3.601254821960718 ± 0.19267402114786725\n",
      "POWER SPECTRUM MEAN ERROR ON TRAIN DATA SET: 0.4263450621862231 ± 0.2891766493315881\n",
      "TEMPORAL DISTANCE ON TRAIN DATA SET: 0.10941417510996329 ± 0.0020100621335103217\n",
      "GEOMETRICAL DISTANCE ON TRAIN DATA SET: 13.1032922827996 ± 0.10864381532207854\n",
      "\n",
      "\n",
      "AVERAGE RMNSE ERROR ON TEST DATA SET: 1.3854946963992558 ± 0.007433826757245409\n",
      "AVG NUMBER OF ACCURATE 0.5 PREDICTIONS ON TEST DATA SET: 2.016269893746938 ± 0.11461364140557082\n",
      "AVG NUMBER OF ACCURATE 1 PREDICTIONS ON TEST DATA SET: 3.2976139759797105 ± 0.20816948517519618\n",
      "POWER SPECTRUM MEAN ERROR ON TEST DATA SET: 0.5400692649917256 ± 0.3049282368385359\n",
      "TEMPORAL DISTANCE ON TEST DATA SET: 0.10926839961239543 ± 0.0019602007012942194\n",
      "GEOMETRICAL DISTANCE ON TEST DATA SET: 13.139310192582565 ± 0.11736394140785691\n"
     ]
    }
   ],
   "source": [
    "!bash ./1_PGClustered_ESN_Evaluate_Tuned_Model.sh \"evaluate_tuned_model\" 1000 1 1 3 \"grid_search_for_coupling_moved_1.json\" \"-3 -2 2\""
   ]
  },
  {
   "cell_type": "code",
   "execution_count": null,
   "metadata": {},
   "outputs": [
    {
     "name": "stdout",
     "output_type": "stream",
     "text": [
      "Grid Search Progress:  32%|███▊        | 8/25 [10:16<21:09, 74.70s/trial, Current Best Loss=0.12436]/home/user/kuei_jan_CHU/PGClustered_ESN/Methods/./Utils/global_utils.py:254: RuntimeWarning: divide by zero encountered in log10\n",
      "  s_dbfs = 20 * np.log10(s_mag)\n",
      "Grid Search Progress: 100%|███████████| 25/25 [31:04<00:00, 74.59s/trial, Current Best Loss=0.12259]\n",
      "{'radius': 0.9, 'sigma_input': 0.1, 'regularization': 0.01, 'in_cluster_weight': 0.5, 'noise_level': 5}\n"
     ]
    }
   ],
   "source": [
    "!bash ./0_PGClustered_ESN_Tune.sh \"tune\" 1500 1 1 4 \"grid_search_for_coupling_moved_1.json\" \"-3 -2 2\""
   ]
  },
  {
   "cell_type": "code",
   "execution_count": null,
   "metadata": {},
   "outputs": [
    {
     "name": "stdout",
     "output_type": "stream",
     "text": [
      "{'radius': 0.9, 'sigma_input': 0.1, 'regularization': 0.01, 'in_cluster_weight': 0.5, 'noise_level': 5}\n",
      "AVERAGE RMNSE ERROR ON TRAIN DATA SET: 1.3742479735045656 ± 0.006112936527518288\n",
      "AVG NUMBER OF ACCURATE 0.5 PREDICTIONS ON TRAIN DATA SET: 2.379337107969775 ± 0.10269122881346489\n",
      "AVG NUMBER OF ACCURATE 1 PREDICTIONS ON TRAIN DATA SET: 3.836339786513387 ± 0.17862927622247032\n",
      "POWER SPECTRUM MEAN ERROR ON TRAIN DATA SET: 0.367129654633432 ± 0.25125154234501945\n",
      "TEMPORAL DISTANCE ON TRAIN DATA SET: 0.10782893923248116 ± 0.0012222548105316768\n",
      "GEOMETRICAL DISTANCE ON TRAIN DATA SET: 13.119280653357032 ± 0.12634021778045879\n",
      "\n",
      "\n",
      "AVERAGE RMNSE ERROR ON TEST DATA SET: 1.3798126122918668 ± 0.0056856982152605\n",
      "AVG NUMBER OF ACCURATE 0.5 PREDICTIONS ON TEST DATA SET: 2.056084715143668 ± 0.12323819440274256\n",
      "AVG NUMBER OF ACCURATE 1 PREDICTIONS ON TEST DATA SET: 3.314774079469172 ± 0.21649457451915669\n",
      "POWER SPECTRUM MEAN ERROR ON TEST DATA SET: 0.6334275711987971 ± 0.33326129596217463\n",
      "TEMPORAL DISTANCE ON TEST DATA SET: 0.10760623973601127 ± 0.0012191119808430812\n",
      "GEOMETRICAL DISTANCE ON TEST DATA SET: 13.130396775968938 ± 0.08494981150942943\n"
     ]
    }
   ],
   "source": [
    "!bash ./1_PGClustered_ESN_Evaluate_Tuned_Model.sh \"evaluate_tuned_model\" 1500 1 1 4 \"grid_search_for_coupling_moved_1.json\" \"-3 -2 2\""
   ]
  },
  {
   "cell_type": "code",
   "execution_count": null,
   "metadata": {},
   "outputs": [
    {
     "name": "stdout",
     "output_type": "stream",
     "text": [
      "Grid Search Progress: 100%|███████████| 25/25 [38:32<00:00, 92.49s/trial, Current Best Loss=0.12210]\n",
      "{'radius': 0.4, 'sigma_input': 0.1, 'regularization': 0.01, 'in_cluster_weight': 0.5, 'noise_level': 5}\n"
     ]
    }
   ],
   "source": [
    "!bash ./0_PGClustered_ESN_Tune.sh \"tune\" 2000 1 1 5 \"grid_search_for_coupling_moved_1.json\" \"-3 -2 2\""
   ]
  },
  {
   "cell_type": "code",
   "execution_count": null,
   "metadata": {},
   "outputs": [
    {
     "name": "stdout",
     "output_type": "stream",
     "text": [
      "{'radius': 0.4, 'sigma_input': 0.1, 'regularization': 0.01, 'in_cluster_weight': 0.5, 'noise_level': 5}\n",
      "AVERAGE RMNSE ERROR ON TRAIN DATA SET: 1.369553870845804 ± 0.005487046735411672\n",
      "AVG NUMBER OF ACCURATE 0.5 PREDICTIONS ON TRAIN DATA SET: 2.6515318529750216 ± 0.11532452381952188\n",
      "AVG NUMBER OF ACCURATE 1 PREDICTIONS ON TRAIN DATA SET: 4.216059909048656 ± 0.2926373449130593\n",
      "POWER SPECTRUM MEAN ERROR ON TRAIN DATA SET: 0.3811475376520071 ± 0.23170071915909668\n",
      "TEMPORAL DISTANCE ON TRAIN DATA SET: 0.10767366852051045 ± 0.0014912081622488586\n",
      "GEOMETRICAL DISTANCE ON TRAIN DATA SET: 13.04491989700563 ± 0.0900261818580419\n",
      "\n",
      "\n",
      "AVERAGE RMNSE ERROR ON TEST DATA SET: 1.3753419352454306 ± 0.005086067773652697\n",
      "AVG NUMBER OF ACCURATE 0.5 PREDICTIONS ON TEST DATA SET: 2.24214081258359 ± 0.12195041356516073\n",
      "AVG NUMBER OF ACCURATE 1 PREDICTIONS ON TEST DATA SET: 3.69035210805871 ± 0.20934091375429645\n",
      "POWER SPECTRUM MEAN ERROR ON TEST DATA SET: 0.7592371470659636 ± 0.39389895258135615\n",
      "TEMPORAL DISTANCE ON TEST DATA SET: 0.10754395274265507 ± 0.0010332260125872825\n",
      "GEOMETRICAL DISTANCE ON TEST DATA SET: 13.065846630694784 ± 0.09880845171644975\n"
     ]
    }
   ],
   "source": [
    "!bash ./1_PGClustered_ESN_Evaluate_Tuned_Model.sh \"evaluate_tuned_model\" 2000 1 1 5 \"grid_search_for_coupling_moved_1.json\" \"-3 -2 2\""
   ]
  },
  {
   "cell_type": "code",
   "execution_count": null,
   "metadata": {},
   "outputs": [
    {
     "name": "stdout",
     "output_type": "stream",
     "text": [
      "Grid Search Progress: 100%|███████████| 25/25 [26:50<00:00, 64.42s/trial, Current Best Loss=0.12033]\n",
      "{'radius': 0.7, 'sigma_input': 0.1, 'regularization': 0.01, 'in_cluster_weight': 0.5, 'noise_level': 5}\n"
     ]
    }
   ],
   "source": [
    "!bash ./0_PGClustered_ESN_Tune.sh \"tune\" 2500 1 1 6 \"grid_search_for_coupling_moved_1.json\" \"-3 -2 2\""
   ]
  },
  {
   "cell_type": "code",
   "execution_count": null,
   "metadata": {},
   "outputs": [
    {
     "name": "stdout",
     "output_type": "stream",
     "text": [
      "{'radius': 0.7, 'sigma_input': 0.1, 'regularization': 0.01, 'in_cluster_weight': 0.5, 'noise_level': 5}\n",
      "AVERAGE RMNSE ERROR ON TRAIN DATA SET: 1.3667428743827634 ± 0.005664306781414404\n",
      "AVG NUMBER OF ACCURATE 0.5 PREDICTIONS ON TRAIN DATA SET: 2.746969078785867 ± 0.13190823846070057\n",
      "AVG NUMBER OF ACCURATE 1 PREDICTIONS ON TRAIN DATA SET: 4.3757418572831 ± 0.29478595973591726\n",
      "POWER SPECTRUM MEAN ERROR ON TRAIN DATA SET: 0.5429184772101083 ± 0.4116301929001781\n",
      "TEMPORAL DISTANCE ON TRAIN DATA SET: 0.10707483371517527 ± 0.0012198126979981103\n",
      "GEOMETRICAL DISTANCE ON TRAIN DATA SET: 13.00881760832724 ± 0.08751287482113868\n",
      "\n",
      "\n",
      "AVERAGE RMNSE ERROR ON TEST DATA SET: 1.3717961890090358 ± 0.007863167574036987\n",
      "AVG NUMBER OF ACCURATE 0.5 PREDICTIONS ON TEST DATA SET: 2.3572741177690393 ± 0.14804452941141513\n",
      "AVG NUMBER OF ACCURATE 1 PREDICTIONS ON TEST DATA SET: 3.8310142371545894 ± 0.17356486074038763\n",
      "POWER SPECTRUM MEAN ERROR ON TEST DATA SET: 0.6650605813808446 ± 0.4357234263235488\n",
      "TEMPORAL DISTANCE ON TEST DATA SET: 0.10672168443311207 ± 0.001349477822670369\n",
      "GEOMETRICAL DISTANCE ON TEST DATA SET: 13.079658581563825 ± 0.0842891445652155\n"
     ]
    }
   ],
   "source": [
    "!bash ./1_PGClustered_ESN_Evaluate_Tuned_Model.sh \"evaluate_tuned_model\" 2500 1 1 6 \"grid_search_for_coupling_moved_1.json\" \"-3 -2 2\""
   ]
  },
  {
   "cell_type": "code",
   "execution_count": null,
   "metadata": {},
   "outputs": [
    {
     "name": "stdout",
     "output_type": "stream",
     "text": [
      "Grid Search Progress: 100%|███████████| 25/25 [37:52<00:00, 90.88s/trial, Current Best Loss=0.12178]\n",
      "{'radius': 0.9, 'sigma_input': 0.1, 'regularization': 0.01, 'in_cluster_weight': 0.5, 'noise_level': 5}\n"
     ]
    }
   ],
   "source": [
    "!bash ./0_PGClustered_ESN_Tune.sh \"tune\" 3000 1 1 7 \"grid_search_for_coupling_moved_1.json\" \"-3 -2 2\""
   ]
  },
  {
   "cell_type": "code",
   "execution_count": null,
   "metadata": {},
   "outputs": [
    {
     "name": "stdout",
     "output_type": "stream",
     "text": [
      "{'radius': 0.9, 'sigma_input': 0.1, 'regularization': 0.01, 'in_cluster_weight': 0.5, 'noise_level': 5}\n",
      "AVERAGE RMNSE ERROR ON TRAIN DATA SET: 1.3623985876317257 ± 0.008266726782543124\n",
      "AVG NUMBER OF ACCURATE 0.5 PREDICTIONS ON TRAIN DATA SET: 2.8139188421536168 ± 0.10602738298258224\n",
      "AVG NUMBER OF ACCURATE 1 PREDICTIONS ON TRAIN DATA SET: 4.496876972063385 ± 0.22091652725010785\n",
      "POWER SPECTRUM MEAN ERROR ON TRAIN DATA SET: 0.5002195462289039 ± 0.3556648411966852\n",
      "TEMPORAL DISTANCE ON TRAIN DATA SET: 0.10740209998439658 ± 0.00149859085487138\n",
      "GEOMETRICAL DISTANCE ON TRAIN DATA SET: 12.972751259292831 ± 0.1468872673028329\n",
      "\n",
      "\n",
      "AVERAGE RMNSE ERROR ON TEST DATA SET: 1.3744878921497565 ± 0.008162708979214844\n",
      "AVG NUMBER OF ACCURATE 0.5 PREDICTIONS ON TEST DATA SET: 2.3357183227453313 ± 0.16350040083767514\n",
      "AVG NUMBER OF ACCURATE 1 PREDICTIONS ON TEST DATA SET: 3.8154602517257175 ± 0.21351825966805887\n",
      "POWER SPECTRUM MEAN ERROR ON TEST DATA SET: 0.6398637666921473 ± 0.37842691349088586\n",
      "TEMPORAL DISTANCE ON TEST DATA SET: 0.10716754483202547 ± 0.0012530640709600483\n",
      "GEOMETRICAL DISTANCE ON TEST DATA SET: 13.013095248334002 ± 0.10936533496731429\n"
     ]
    }
   ],
   "source": [
    "!bash ./1_PGClustered_ESN_Evaluate_Tuned_Model.sh \"evaluate_tuned_model\" 3000 1 1 7 \"grid_search_for_coupling_moved_1.json\" \"-3 -2 2\""
   ]
  },
  {
   "cell_type": "code",
   "execution_count": null,
   "metadata": {
    "editable": true,
    "slideshow": {
     "slide_type": ""
    },
    "tags": []
   },
   "outputs": [
    {
     "name": "stdout",
     "output_type": "stream",
     "text": [
      "{'radius': 0.1, 'sigma_input': 0.1, 'regularization': 0.01, 'in_cluster_weight': 0.5, 'noise_level': 5}\n"
     ]
    }
   ],
   "source": [
    "!bash ./0_PGClustered_ESN_Tune.sh \"tune\" 3500 1 1 8 \"grid_search_for_coupling_moved_1.json\" \"-3 -2 2\""
   ]
  },
  {
   "cell_type": "code",
   "execution_count": null,
   "metadata": {},
   "outputs": [
    {
     "name": "stdout",
     "output_type": "stream",
     "text": [
      "{'radius': 0.1, 'sigma_input': 0.1, 'regularization': 0.01, 'in_cluster_weight': 0.5, 'noise_level': 5}\n",
      "AVERAGE RMNSE ERROR ON TRAIN DATA SET: 1.3622863797999063 ± 0.006617702940695274\n",
      "AVG NUMBER OF ACCURATE 0.5 PREDICTIONS ON TRAIN DATA SET: 2.9779964819223075 ± 0.10987339696326891\n",
      "AVG NUMBER OF ACCURATE 1 PREDICTIONS ON TRAIN DATA SET: 4.868566504295705 ± 0.20435839974502223\n",
      "POWER SPECTRUM MEAN ERROR ON TRAIN DATA SET: 0.4187568102967891 ± 0.26575407659231537\n",
      "TEMPORAL DISTANCE ON TRAIN DATA SET: 0.10674698242685843 ± 0.0012555576071220066\n",
      "GEOMETRICAL DISTANCE ON TRAIN DATA SET: 12.940142628853241 ± 0.11073228069969779\n",
      "\n",
      "\n",
      "AVERAGE RMNSE ERROR ON TEST DATA SET: 1.3680439855236641 ± 0.007280866802542049\n",
      "AVG NUMBER OF ACCURATE 0.5 PREDICTIONS ON TEST DATA SET: 2.465729353123614 ± 0.12482163300342015\n",
      "AVG NUMBER OF ACCURATE 1 PREDICTIONS ON TEST DATA SET: 4.085964346140869 ± 0.1935935931118003\n",
      "POWER SPECTRUM MEAN ERROR ON TEST DATA SET: 0.6709419472654587 ± 0.444087760479719\n",
      "TEMPORAL DISTANCE ON TEST DATA SET: 0.10656323605313536 ± 0.0012337274684659037\n",
      "GEOMETRICAL DISTANCE ON TEST DATA SET: 12.970274414577585 ± 0.10931384184457958\n"
     ]
    }
   ],
   "source": [
    "!bash ./1_PGClustered_ESN_Evaluate_Tuned_Model.sh \"evaluate_tuned_model\" 3500 1 1 8 \"grid_search_for_coupling_moved_1.json\" \"-3 -2 2\""
   ]
  },
  {
   "cell_type": "code",
   "execution_count": null,
   "metadata": {
    "editable": true,
    "slideshow": {
     "slide_type": ""
    },
    "tags": []
   },
   "outputs": [
    {
     "name": "stdout",
     "output_type": "stream",
     "text": [
      "{'radius': 0.9, 'sigma_input': 0.1, 'regularization': 0.01, 'in_cluster_weight': 0.5, 'noise_level': 5}\n"
     ]
    }
   ],
   "source": [
    "!bash ./0_PGClustered_ESN_Tune.sh \"tune\" 4000 1 1 9 \"grid_search_for_coupling_moved_1.json\" \"-3 -2 2\""
   ]
  },
  {
   "cell_type": "code",
   "execution_count": null,
   "metadata": {},
   "outputs": [
    {
     "name": "stdout",
     "output_type": "stream",
     "text": [
      "{'radius': 0.9, 'sigma_input': 0.1, 'regularization': 0.01, 'in_cluster_weight': 0.5, 'noise_level': 5}\n",
      "AVERAGE RMNSE ERROR ON TRAIN DATA SET: 1.358586373626117 ± 0.007554276472275276\n",
      "AVG NUMBER OF ACCURATE 0.5 PREDICTIONS ON TRAIN DATA SET: 2.9591457278427513 ± 0.13408585962292835\n",
      "AVG NUMBER OF ACCURATE 1 PREDICTIONS ON TRAIN DATA SET: 4.791134707269367 ± 0.31187527254443503\n",
      "POWER SPECTRUM MEAN ERROR ON TRAIN DATA SET: 0.4537059136028664 ± 0.27792947088075465\n",
      "TEMPORAL DISTANCE ON TRAIN DATA SET: 0.10722310463560554 ± 0.0014477503920780725\n",
      "GEOMETRICAL DISTANCE ON TRAIN DATA SET: 12.966246101288576 ± 0.08959352263741183\n",
      "\n",
      "\n",
      "AVERAGE RMNSE ERROR ON TEST DATA SET: 1.3688130029093466 ± 0.006886354263805651\n",
      "AVG NUMBER OF ACCURATE 0.5 PREDICTIONS ON TEST DATA SET: 2.4764649843707156 ± 0.1542051291117292\n",
      "AVG NUMBER OF ACCURATE 1 PREDICTIONS ON TEST DATA SET: 4.008701614173541 ± 0.2634063460592105\n",
      "POWER SPECTRUM MEAN ERROR ON TEST DATA SET: 0.5915241481305614 ± 0.41570580319474015\n",
      "TEMPORAL DISTANCE ON TEST DATA SET: 0.10705775853257733 ± 0.0014197034584999598\n",
      "GEOMETRICAL DISTANCE ON TEST DATA SET: 13.005211481411862 ± 0.11655069010580381\n"
     ]
    }
   ],
   "source": [
    "!bash ./1_PGClustered_ESN_Evaluate_Tuned_Model.sh \"evaluate_tuned_model\" 4000 1 1 9 \"grid_search_for_coupling_moved_1.json\" \"-3 -2 2\""
   ]
  },
  {
   "cell_type": "code",
   "execution_count": null,
   "metadata": {
    "editable": true,
    "slideshow": {
     "slide_type": ""
    },
    "tags": []
   },
   "outputs": [],
   "source": []
  },
  {
   "cell_type": "code",
   "execution_count": null,
   "metadata": {},
   "outputs": [],
   "source": []
  }
 ],
 "metadata": {
  "kernelspec": {
   "display_name": "base",
   "language": "python",
   "name": "python3"
  },
  "language_info": {
   "codemirror_mode": {
    "name": "ipython",
    "version": 3
   },
   "file_extension": ".py",
   "mimetype": "text/x-python",
   "name": "python",
   "nbconvert_exporter": "python",
   "pygments_lexer": "ipython3",
   "version": "3.11.8"
  }
 },
 "nbformat": 4,
 "nbformat_minor": 4
}
