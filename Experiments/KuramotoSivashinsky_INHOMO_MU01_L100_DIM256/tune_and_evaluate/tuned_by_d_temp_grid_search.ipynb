{
 "cells": [
  {
   "cell_type": "markdown",
   "metadata": {
    "editable": true,
    "slideshow": {
     "slide_type": ""
    },
    "tags": []
   },
   "source": [
    "# \n",
    "\n",
    "fas fPGClustered ESN"
   ]
  },
  {
   "cell_type": "code",
   "execution_count": 1,
   "metadata": {},
   "outputs": [
    {
     "name": "stdout",
     "output_type": "stream",
     "text": [
      "Grid Search Progress:   4%|▍           | 1/25 [00:29<11:39, 29.14s/trial, Current Best Loss=0.45113]/home/user/kuei_jan_CHU/PGClustered_ESN/Methods/./Utils/global_utils.py:278: RuntimeWarning: divide by zero encountered in log10\n",
      "  s_dbfs = 20 * np.log10(s_mag)\n",
      "Grid Search Progress:  28%|███▎        | 7/25 [03:21<08:36, 28.68s/trial, Current Best Loss=0.28622]/home/user/kuei_jan_CHU/PGClustered_ESN/Methods/./Utils/global_utils.py:313: RuntimeWarning: invalid value encountered in divide\n",
      "  trajectory = (trajectory-trajectory.mean())/trajectory.std()\n",
      "Grid Search Progress: 100%|███████████| 25/25 [11:41<00:00, 28.06s/trial, Current Best Loss=0.28622]\n",
      "{'radius': 0.4, 'sigma_input': 0.1}\n"
     ]
    }
   ],
   "source": [
    "!bash ./0_PGClustered_ESN_Tune.sh \"tune\" 256  0 \"grid_search.json\" "
   ]
  },
  {
   "cell_type": "code",
   "execution_count": 2,
   "metadata": {},
   "outputs": [
    {
     "name": "stdout",
     "output_type": "stream",
     "text": [
      "{'radius': 0.4, 'sigma_input': 0.1}\n",
      "/home/user/kuei_jan_CHU/PGClustered_ESN/Methods/./Utils/global_utils.py:278: RuntimeWarning: divide by zero encountered in log10\n",
      "  s_dbfs = 20 * np.log10(s_mag)\n",
      "/home/user/anaconda3/lib/python3.11/site-packages/numpy/core/_methods.py:236: RuntimeWarning: invalid value encountered in subtract\n",
      "  x = asanyarray(arr - arrmean)\n",
      "AVERAGE RMNSE ERROR ON TRAIN DATA SET: 3.0338833239860667 ± 0.6236316562240442\n",
      "AVG NUMBER OF ACCURATE 0.5 PREDICTIONS ON TRAIN DATA SET: 0.22156230909350824 ± 0.013956281285027823\n",
      "AVG NUMBER OF ACCURATE 1 PREDICTIONS ON TRAIN DATA SET: 0.4194568311294515 ± 0.019657837768772012\n",
      "POWER SPECTRUM MEAN ERROR ON TRAIN DATA SET: inf ± nan\n",
      "TEMPORAL DISTANCE ON TRAIN DATA SET: 0.3584526801228512 ± 0.12812622334793505\n",
      "GEOMETRICAL DISTANCE ON TRAIN DATA SET: inf ± nan\n",
      "\n",
      "\n",
      "AVERAGE RMNSE ERROR ON TEST DATA SET: 3.0137979486989366 ± 0.5312536422204914\n",
      "AVG NUMBER OF ACCURATE 0.5 PREDICTIONS ON TEST DATA SET: 0.19570674340036995 ± 0.009832439721291955\n",
      "AVG NUMBER OF ACCURATE 1 PREDICTIONS ON TEST DATA SET: 0.3778890370535599 ± 0.017315908993232713\n",
      "POWER SPECTRUM MEAN ERROR ON TEST DATA SET: inf ± nan\n",
      "TEMPORAL DISTANCE ON TEST DATA SET: 0.40280317125910436 ± 0.14976625421923026\n",
      "GEOMETRICAL DISTANCE ON TEST DATA SET: inf ± nan\n"
     ]
    }
   ],
   "source": [
    "!bash ./1_PGClustered_ESN_Evaluate_Tuned_Model.sh \"evaluate_tuned_model\" 256  0 \"grid_search.json\" "
   ]
  },
  {
   "cell_type": "code",
   "execution_count": 3,
   "metadata": {},
   "outputs": [
    {
     "name": "stdout",
     "output_type": "stream",
     "text": [
      "Grid Search Progress:   4%|▍           | 1/25 [00:30<12:08, 30.35s/trial, Current Best Loss=0.40057]/home/user/kuei_jan_CHU/PGClustered_ESN/Methods/./Utils/global_utils.py:278: RuntimeWarning: divide by zero encountered in log10\n",
      "  s_dbfs = 20 * np.log10(s_mag)\n",
      "Grid Search Progress:  36%|████▎       | 9/25 [04:21<07:41, 28.86s/trial, Current Best Loss=0.40057]/home/user/kuei_jan_CHU/PGClustered_ESN/Methods/./Utils/global_utils.py:313: RuntimeWarning: invalid value encountered in divide\n",
      "  trajectory = (trajectory-trajectory.mean())/trajectory.std()\n",
      "Grid Search Progress: 100%|███████████| 25/25 [12:04<00:00, 28.96s/trial, Current Best Loss=0.40057]\n",
      "{'radius': 0.1, 'sigma_input': 0.1}\n"
     ]
    }
   ],
   "source": [
    "!bash ./0_PGClustered_ESN_Tune.sh \"tune\" 500  1 \"grid_search.json\" "
   ]
  },
  {
   "cell_type": "code",
   "execution_count": 4,
   "metadata": {},
   "outputs": [
    {
     "name": "stdout",
     "output_type": "stream",
     "text": [
      "{'radius': 0.1, 'sigma_input': 0.1}\n",
      "/home/user/anaconda3/lib/python3.11/site-packages/numpy/core/_methods.py:236: RuntimeWarning: invalid value encountered in subtract\n",
      "  x = asanyarray(arr - arrmean)\n",
      "AVERAGE RMNSE ERROR ON TRAIN DATA SET: 2.3594586573690974 ± 0.4631362000599076\n",
      "AVG NUMBER OF ACCURATE 0.5 PREDICTIONS ON TRAIN DATA SET: 0.4783279653230587 ± 0.036643639198230285\n",
      "AVG NUMBER OF ACCURATE 1 PREDICTIONS ON TRAIN DATA SET: 0.7913791991769025 ± 0.08810781232354056\n",
      "POWER SPECTRUM MEAN ERROR ON TRAIN DATA SET: 8.537339114258884 ± 6.46482633923807\n",
      "TEMPORAL DISTANCE ON TRAIN DATA SET: 0.4600427329352942 ± 0.2201281575583869\n",
      "GEOMETRICAL DISTANCE ON TRAIN DATA SET: inf ± nan\n",
      "\n",
      "\n",
      "AVERAGE RMNSE ERROR ON TEST DATA SET: 2.326181604577299 ± 0.45268452627379596\n",
      "AVG NUMBER OF ACCURATE 0.5 PREDICTIONS ON TEST DATA SET: 0.41547905179204553 ± 0.032443295976010006\n",
      "AVG NUMBER OF ACCURATE 1 PREDICTIONS ON TEST DATA SET: 0.7466291816310863 ± 0.09065148786134718\n",
      "POWER SPECTRUM MEAN ERROR ON TEST DATA SET: 9.72866336332895 ± 7.4357039780232865\n",
      "TEMPORAL DISTANCE ON TEST DATA SET: 0.48723093858876226 ± 0.22975773710623443\n",
      "GEOMETRICAL DISTANCE ON TEST DATA SET: inf ± nan\n"
     ]
    }
   ],
   "source": [
    "!bash ./1_PGClustered_ESN_Evaluate_Tuned_Model.sh \"evaluate_tuned_model\" 500  1 \"grid_search.json\" "
   ]
  },
  {
   "cell_type": "code",
   "execution_count": 5,
   "metadata": {},
   "outputs": [
    {
     "name": "stdout",
     "output_type": "stream",
     "text": [
      "Grid Search Progress:   4%|▍           | 1/25 [00:35<14:07, 35.32s/trial, Current Best Loss=0.15082]/home/user/kuei_jan_CHU/PGClustered_ESN/Methods/./Utils/global_utils.py:278: RuntimeWarning: divide by zero encountered in log10\n",
      "  s_dbfs = 20 * np.log10(s_mag)\n",
      "Grid Search Progress: 100%|███████████| 25/25 [13:53<00:00, 33.35s/trial, Current Best Loss=0.15082]\n",
      "{'radius': 0.1, 'sigma_input': 0.1}\n"
     ]
    }
   ],
   "source": [
    "!bash ./0_PGClustered_ESN_Tune.sh \"tune\" 1000  2 \"grid_search.json\" "
   ]
  },
  {
   "cell_type": "code",
   "execution_count": 6,
   "metadata": {},
   "outputs": [
    {
     "name": "stdout",
     "output_type": "stream",
     "text": [
      "{'radius': 0.1, 'sigma_input': 0.1}\n",
      "/home/user/anaconda3/lib/python3.11/site-packages/numpy/core/_methods.py:236: RuntimeWarning: invalid value encountered in subtract\n",
      "  x = asanyarray(arr - arrmean)\n",
      "AVERAGE RMNSE ERROR ON TRAIN DATA SET: 1.3982027221371458 ± 0.004946233480786123\n",
      "AVG NUMBER OF ACCURATE 0.5 PREDICTIONS ON TRAIN DATA SET: 1.2245593690204042 ± 0.08523523524866645\n",
      "AVG NUMBER OF ACCURATE 1 PREDICTIONS ON TRAIN DATA SET: 2.131294168982078 ± 0.07786293492811489\n",
      "POWER SPECTRUM MEAN ERROR ON TRAIN DATA SET: 0.800102204061093 ± 0.31351942094331214\n",
      "TEMPORAL DISTANCE ON TRAIN DATA SET: 0.13183844642659193 ± 0.0025467107141139544\n",
      "GEOMETRICAL DISTANCE ON TRAIN DATA SET: inf ± nan\n",
      "\n",
      "\n",
      "AVERAGE RMNSE ERROR ON TEST DATA SET: 1.394715744116841 ± 0.003732584998076821\n",
      "AVG NUMBER OF ACCURATE 0.5 PREDICTIONS ON TEST DATA SET: 1.01910706624339 ± 0.032183160267464796\n",
      "AVG NUMBER OF ACCURATE 1 PREDICTIONS ON TEST DATA SET: 1.8114807102546444 ± 0.16104799986209928\n",
      "POWER SPECTRUM MEAN ERROR ON TEST DATA SET: 0.600607655001797 ± 0.32697848899040644\n",
      "TEMPORAL DISTANCE ON TEST DATA SET: 0.13210525965355294 ± 0.0025820228938696513\n",
      "GEOMETRICAL DISTANCE ON TEST DATA SET: inf ± nan\n"
     ]
    }
   ],
   "source": [
    "!bash ./1_PGClustered_ESN_Evaluate_Tuned_Model.sh \"evaluate_tuned_model\" 1000  2 \"grid_search.json\" "
   ]
  },
  {
   "cell_type": "code",
   "execution_count": 7,
   "metadata": {},
   "outputs": [
    {
     "name": "stdout",
     "output_type": "stream",
     "text": [
      "Grid Search Progress:  16%|█▉          | 4/25 [03:47<19:35, 55.99s/trial, Current Best Loss=0.14052]/home/user/kuei_jan_CHU/PGClustered_ESN/Methods/./Utils/global_utils.py:278: RuntimeWarning: divide by zero encountered in log10\n",
      "  s_dbfs = 20 * np.log10(s_mag)\n",
      "Grid Search Progress: 100%|███████████| 25/25 [23:23<00:00, 56.12s/trial, Current Best Loss=0.14052]\n",
      "{'radius': 0.1, 'sigma_input': 0.1}\n"
     ]
    }
   ],
   "source": [
    "!bash ./0_PGClustered_ESN_Tune.sh \"tune\" 2000  3 \"grid_search.json\" "
   ]
  },
  {
   "cell_type": "code",
   "execution_count": 8,
   "metadata": {},
   "outputs": [
    {
     "name": "stdout",
     "output_type": "stream",
     "text": [
      "{'radius': 0.1, 'sigma_input': 0.1}\n",
      "/home/user/anaconda3/lib/python3.11/site-packages/numpy/core/_methods.py:236: RuntimeWarning: invalid value encountered in subtract\n",
      "  x = asanyarray(arr - arrmean)\n",
      "AVERAGE RMNSE ERROR ON TRAIN DATA SET: 1.3800619904537261 ± 0.0030022278567649226\n",
      "AVG NUMBER OF ACCURATE 0.5 PREDICTIONS ON TRAIN DATA SET: 2.2516219939386057 ± 0.12110509080245146\n",
      "AVG NUMBER OF ACCURATE 1 PREDICTIONS ON TRAIN DATA SET: 3.4010013334820393 ± 0.16922868365296687\n",
      "POWER SPECTRUM MEAN ERROR ON TRAIN DATA SET: 0.4855473038046373 ± 0.3587593481229283\n",
      "TEMPORAL DISTANCE ON TRAIN DATA SET: 0.12468780764577221 ± 0.0011542712143571584\n",
      "GEOMETRICAL DISTANCE ON TRAIN DATA SET: inf ± nan\n",
      "\n",
      "\n",
      "AVERAGE RMNSE ERROR ON TEST DATA SET: 1.3799900216960652 ± 0.004024431722809997\n",
      "AVG NUMBER OF ACCURATE 0.5 PREDICTIONS ON TEST DATA SET: 1.8013373729442592 ± 0.1465584983456273\n",
      "AVG NUMBER OF ACCURATE 1 PREDICTIONS ON TEST DATA SET: 2.8892600217247706 ± 0.2019776948113872\n",
      "POWER SPECTRUM MEAN ERROR ON TEST DATA SET: 0.5064955167183396 ± 0.3851580664764496\n",
      "TEMPORAL DISTANCE ON TEST DATA SET: 0.12575882088030074 ± 0.0014882554110876073\n",
      "GEOMETRICAL DISTANCE ON TEST DATA SET: inf ± nan\n"
     ]
    }
   ],
   "source": [
    "!bash ./1_PGClustered_ESN_Evaluate_Tuned_Model.sh \"evaluate_tuned_model\" 2000  3 \"grid_search.json\" "
   ]
  },
  {
   "cell_type": "code",
   "execution_count": 9,
   "metadata": {},
   "outputs": [
    {
     "name": "stdout",
     "output_type": "stream",
     "text": [
      "Grid Search Progress: 100%|██████████| 25/25 [51:21<00:00, 123.25s/trial, Current Best Loss=0.14078]\n",
      "{'radius': 0.4, 'sigma_input': 0.1}\n"
     ]
    }
   ],
   "source": [
    "!bash ./0_PGClustered_ESN_Tune.sh \"tune\" 3000  4 \"grid_search.json\" "
   ]
  },
  {
   "cell_type": "code",
   "execution_count": 10,
   "metadata": {},
   "outputs": [
    {
     "name": "stdout",
     "output_type": "stream",
     "text": [
      "{'radius': 0.4, 'sigma_input': 0.1}\n",
      "/home/user/anaconda3/lib/python3.11/site-packages/numpy/core/_methods.py:236: RuntimeWarning: invalid value encountered in subtract\n",
      "  x = asanyarray(arr - arrmean)\n",
      "AVERAGE RMNSE ERROR ON TRAIN DATA SET: 1.3689717257075733 ± 0.0036926348525377533\n",
      "AVG NUMBER OF ACCURATE 0.5 PREDICTIONS ON TRAIN DATA SET: 2.8626089001641515 ± 0.17473287151428712\n",
      "AVG NUMBER OF ACCURATE 1 PREDICTIONS ON TRAIN DATA SET: 4.1740827477068745 ± 0.25438987363869203\n",
      "POWER SPECTRUM MEAN ERROR ON TRAIN DATA SET: 0.5329441042966432 ± 0.24755345332838877\n",
      "TEMPORAL DISTANCE ON TRAIN DATA SET: 0.12442363344042981 ± 0.0012075556539498087\n",
      "GEOMETRICAL DISTANCE ON TRAIN DATA SET: inf ± nan\n",
      "\n",
      "\n",
      "AVERAGE RMNSE ERROR ON TEST DATA SET: 1.373534147982459 ± 0.003867489638258764\n",
      "AVG NUMBER OF ACCURATE 0.5 PREDICTIONS ON TEST DATA SET: 2.3777175989343724 ± 0.2584994264358804\n",
      "AVG NUMBER OF ACCURATE 1 PREDICTIONS ON TEST DATA SET: 3.612818083198902 ± 0.25484538255399264\n",
      "POWER SPECTRUM MEAN ERROR ON TEST DATA SET: 0.3521945347786163 ± 0.19607227133925692\n",
      "TEMPORAL DISTANCE ON TEST DATA SET: 0.1269594592392097 ± 0.001386947220469756\n",
      "GEOMETRICAL DISTANCE ON TEST DATA SET: inf ± nan\n"
     ]
    }
   ],
   "source": [
    "!bash ./1_PGClustered_ESN_Evaluate_Tuned_Model.sh \"evaluate_tuned_model\" 3000  4 \"grid_search.json\" "
   ]
  },
  {
   "cell_type": "code",
   "execution_count": 55,
   "metadata": {},
   "outputs": [
    {
     "name": "stdout",
     "output_type": "stream",
     "text": [
      "Grid Search Progress: 100%|████████| 25/25 [1:37:00<00:00, 232.84s/trial, Current Best Loss=0.14111]\n",
      "{'radius': 0.1, 'sigma_input': 0.1}\n"
     ]
    }
   ],
   "source": [
    "!bash ./0_PGClustered_ESN_Tune.sh \"tune\" 4000  5 \"grid_search.json\" "
   ]
  },
  {
   "cell_type": "code",
   "execution_count": 56,
   "metadata": {},
   "outputs": [
    {
     "name": "stdout",
     "output_type": "stream",
     "text": [
      "{'radius': 0.1, 'sigma_input': 0.1}\n",
      "/home/user/anaconda3/lib/python3.11/site-packages/numpy/core/_methods.py:236: RuntimeWarning: invalid value encountered in subtract\n",
      "  x = asanyarray(arr - arrmean)\n",
      "AVERAGE RMNSE ERROR ON TRAIN DATA SET: 1.367291918095226 ± 0.0035074072041624584\n",
      "AVG NUMBER OF ACCURATE 0.5 PREDICTIONS ON TRAIN DATA SET: 3.2583979442360373 ± 0.1812096794429778\n",
      "AVG NUMBER OF ACCURATE 1 PREDICTIONS ON TRAIN DATA SET: 4.4604828600000985 ± 0.23923465843266964\n",
      "POWER SPECTRUM MEAN ERROR ON TRAIN DATA SET: 0.5554507629801886 ± 0.2893647569645662\n",
      "TEMPORAL DISTANCE ON TRAIN DATA SET: 0.12486068002195332 ± 0.0017248800630430558\n",
      "GEOMETRICAL DISTANCE ON TRAIN DATA SET: inf ± nan\n",
      "\n",
      "\n",
      "AVERAGE RMNSE ERROR ON TEST DATA SET: 1.3691592507809307 ± 0.001978051867182707\n",
      "AVG NUMBER OF ACCURATE 0.5 PREDICTIONS ON TEST DATA SET: 2.8208422171213896 ± 0.22728240646190906\n",
      "AVG NUMBER OF ACCURATE 1 PREDICTIONS ON TEST DATA SET: 3.9447637689054256 ± 0.2588892691841167\n",
      "POWER SPECTRUM MEAN ERROR ON TEST DATA SET: 0.3723098370866832 ± 0.2064510881275092\n",
      "TEMPORAL DISTANCE ON TEST DATA SET: 0.12600084650575943 ± 0.001688566243829113\n",
      "GEOMETRICAL DISTANCE ON TEST DATA SET: inf ± nan\n"
     ]
    }
   ],
   "source": [
    "!bash ./1_PGClustered_ESN_Evaluate_Tuned_Model.sh \"evaluate_tuned_model\" 4000  5 \"grid_search.json\" "
   ]
  },
  {
   "cell_type": "code",
   "execution_count": 11,
   "metadata": {},
   "outputs": [
    {
     "name": "stdout",
     "output_type": "stream",
     "text": [
      "Grid Search Progress: 100%|████████| 25/25 [3:02:31<00:00, 438.04s/trial, Current Best Loss=0.14034]\n",
      "{'radius': 0.99, 'sigma_input': 0.1}\n"
     ]
    }
   ],
   "source": [
    "!bash ./0_PGClustered_ESN_Tune.sh \"tune\" 5000  6 \"grid_search.json\" "
   ]
  },
  {
   "cell_type": "code",
   "execution_count": 12,
   "metadata": {},
   "outputs": [
    {
     "name": "stdout",
     "output_type": "stream",
     "text": [
      "{'radius': 0.99, 'sigma_input': 0.1}\n",
      "/home/user/anaconda3/lib/python3.11/site-packages/numpy/core/_methods.py:236: RuntimeWarning: invalid value encountered in subtract\n",
      "  x = asanyarray(arr - arrmean)\n",
      "AVERAGE RMNSE ERROR ON TRAIN DATA SET: 1.372505738136327 ± 0.005877879136193695\n",
      "AVG NUMBER OF ACCURATE 0.5 PREDICTIONS ON TRAIN DATA SET: 2.6690899353993545 ± 0.1633579587265666\n",
      "AVG NUMBER OF ACCURATE 1 PREDICTIONS ON TRAIN DATA SET: 3.9181126473448047 ± 0.1913018260456784\n",
      "POWER SPECTRUM MEAN ERROR ON TRAIN DATA SET: 0.5178162065032501 ± 0.31530639538227906\n",
      "TEMPORAL DISTANCE ON TRAIN DATA SET: 0.12542442683759936 ± 0.0012168875821167448\n",
      "GEOMETRICAL DISTANCE ON TRAIN DATA SET: inf ± nan\n",
      "\n",
      "\n",
      "AVERAGE RMNSE ERROR ON TEST DATA SET: 1.3769610862700086 ± 0.0034282218545849228\n",
      "AVG NUMBER OF ACCURATE 0.5 PREDICTIONS ON TEST DATA SET: 2.1318908358826887 ± 0.12979223344728544\n",
      "AVG NUMBER OF ACCURATE 1 PREDICTIONS ON TEST DATA SET: 3.290816845835896 ± 0.22016784050358654\n",
      "POWER SPECTRUM MEAN ERROR ON TEST DATA SET: 0.33958352999531544 ± 0.23097120969943413\n",
      "TEMPORAL DISTANCE ON TEST DATA SET: 0.12638977498572218 ± 0.0013433801576804348\n",
      "GEOMETRICAL DISTANCE ON TEST DATA SET: inf ± nan\n"
     ]
    }
   ],
   "source": [
    "!bash ./1_PGClustered_ESN_Evaluate_Tuned_Model.sh \"evaluate_tuned_model\" 5000  6 \"grid_search.json\" "
   ]
  },
  {
   "cell_type": "code",
   "execution_count": 57,
   "metadata": {},
   "outputs": [
    {
     "name": "stdout",
     "output_type": "stream",
     "text": [
      "Grid Search Progress: 100%|████████| 25/25 [4:33:19<00:00, 656.00s/trial, Current Best Loss=0.14028]\n",
      "{'radius': 0.9, 'sigma_input': 0.1}\n"
     ]
    }
   ],
   "source": [
    "!bash ./0_PGClustered_ESN_Tune.sh \"tune\" 6000  7 \"grid_search.json\" "
   ]
  },
  {
   "cell_type": "code",
   "execution_count": 58,
   "metadata": {},
   "outputs": [
    {
     "name": "stdout",
     "output_type": "stream",
     "text": [
      "{'radius': 0.9, 'sigma_input': 0.1}\n",
      "/home/user/anaconda3/lib/python3.11/site-packages/numpy/core/_methods.py:236: RuntimeWarning: invalid value encountered in subtract\n",
      "  x = asanyarray(arr - arrmean)\n",
      "AVERAGE RMNSE ERROR ON TRAIN DATA SET: 1.3647935534510978 ± 0.005136076042953861\n",
      "AVG NUMBER OF ACCURATE 0.5 PREDICTIONS ON TRAIN DATA SET: 3.485131366468174 ± 0.13835025902168344\n",
      "AVG NUMBER OF ACCURATE 1 PREDICTIONS ON TRAIN DATA SET: 4.799787437480822 ± 0.2593668458546233\n",
      "POWER SPECTRUM MEAN ERROR ON TRAIN DATA SET: 0.5548148444112835 ± 0.3013640413533781\n",
      "TEMPORAL DISTANCE ON TRAIN DATA SET: 0.12450860181206495 ± 0.0010130462950268895\n",
      "GEOMETRICAL DISTANCE ON TRAIN DATA SET: inf ± nan\n",
      "\n",
      "\n",
      "AVERAGE RMNSE ERROR ON TEST DATA SET: 1.3686102177990997 ± 0.002786014650393516\n",
      "AVG NUMBER OF ACCURATE 0.5 PREDICTIONS ON TEST DATA SET: 2.8886633548241596 ± 0.22417565898165326\n",
      "AVG NUMBER OF ACCURATE 1 PREDICTIONS ON TEST DATA SET: 3.985734896080705 ± 0.3143830041640818\n",
      "POWER SPECTRUM MEAN ERROR ON TEST DATA SET: 0.35327753864459066 ± 0.15643012513786794\n",
      "TEMPORAL DISTANCE ON TEST DATA SET: 0.12610163594275364 ± 0.002035905422111314\n",
      "GEOMETRICAL DISTANCE ON TEST DATA SET: inf ± nan\n"
     ]
    }
   ],
   "source": [
    "!bash ./1_PGClustered_ESN_Evaluate_Tuned_Model.sh \"evaluate_tuned_model\" 6000  7 \"grid_search.json\" "
   ]
  },
  {
   "cell_type": "markdown",
   "metadata": {},
   "source": [
    "# Randomly Clustered ESN"
   ]
  },
  {
   "cell_type": "code",
   "execution_count": 13,
   "metadata": {},
   "outputs": [
    {
     "name": "stdout",
     "output_type": "stream",
     "text": [
      "Grid Search Progress:   4%|▍           | 1/25 [00:27<11:08, 27.87s/trial, Current Best Loss=0.31499]/home/user/kuei_jan_CHU/PGClustered_ESN/Methods/./Utils/global_utils.py:278: RuntimeWarning: divide by zero encountered in log10\n",
      "  s_dbfs = 20 * np.log10(s_mag)\n",
      "Grid Search Progress:   8%|▉           | 2/25 [00:55<10:35, 27.64s/trial, Current Best Loss=0.31499]/home/user/kuei_jan_CHU/PGClustered_ESN/Methods/./Utils/global_utils.py:313: RuntimeWarning: invalid value encountered in divide\n",
      "  trajectory = (trajectory-trajectory.mean())/trajectory.std()\n",
      "Grid Search Progress: 100%|███████████| 25/25 [11:27<00:00, 27.51s/trial, Current Best Loss=0.25897]\n",
      "{'radius': 0.9, 'sigma_input': 0.1}\n"
     ]
    }
   ],
   "source": [
    "!bash ./0_Randomly_Clustered_ESN_Tune.sh \"tune\" 256 0 \"grid_search.json\" "
   ]
  },
  {
   "cell_type": "code",
   "execution_count": 14,
   "metadata": {},
   "outputs": [
    {
     "name": "stdout",
     "output_type": "stream",
     "text": [
      "{'radius': 0.9, 'sigma_input': 0.1}\n",
      "/home/user/anaconda3/lib/python3.11/site-packages/numpy/core/_methods.py:236: RuntimeWarning: invalid value encountered in subtract\n",
      "  x = asanyarray(arr - arrmean)\n",
      "AVERAGE RMNSE ERROR ON TRAIN DATA SET: 1.960740818827627 ± 0.07846895584061925\n",
      "AVG NUMBER OF ACCURATE 0.5 PREDICTIONS ON TRAIN DATA SET: 0.1378300540411142 ± 0.00548659647592385\n",
      "AVG NUMBER OF ACCURATE 1 PREDICTIONS ON TRAIN DATA SET: 0.30907345451643786 ± 0.010494102632496468\n",
      "POWER SPECTRUM MEAN ERROR ON TRAIN DATA SET: 5.889861623852145 ± 3.8870187189611136\n",
      "TEMPORAL DISTANCE ON TRAIN DATA SET: 0.2872365046417062 ± 0.011898232124460003\n",
      "GEOMETRICAL DISTANCE ON TRAIN DATA SET: inf ± nan\n",
      "\n",
      "\n",
      "AVERAGE RMNSE ERROR ON TEST DATA SET: 1.9504734992919261 ± 0.06545192857092473\n",
      "AVG NUMBER OF ACCURATE 0.5 PREDICTIONS ON TEST DATA SET: 0.12649338292950738 ± 0.007399097273420769\n",
      "AVG NUMBER OF ACCURATE 1 PREDICTIONS ON TEST DATA SET: 0.30788012071521614 ± 0.017334174725097285\n",
      "POWER SPECTRUM MEAN ERROR ON TEST DATA SET: 3.6302554123220703 ± 0.733375955588872\n",
      "TEMPORAL DISTANCE ON TEST DATA SET: 0.2940629977040906 ± 0.008762683542632911\n",
      "GEOMETRICAL DISTANCE ON TEST DATA SET: inf ± nan\n"
     ]
    }
   ],
   "source": [
    "!bash ./1_Randomly_Clustered_ESN_Evaluate_Tuned_Model.sh \"evaluate_tuned_model\" 256 0 \"grid_search.json\" "
   ]
  },
  {
   "cell_type": "code",
   "execution_count": 15,
   "metadata": {},
   "outputs": [
    {
     "name": "stdout",
     "output_type": "stream",
     "text": [
      "Grid Search Progress:   4%|▍           | 1/25 [00:30<12:01, 30.06s/trial, Current Best Loss=0.19961]/home/user/kuei_jan_CHU/PGClustered_ESN/Methods/./Utils/global_utils.py:278: RuntimeWarning: divide by zero encountered in log10\n",
      "  s_dbfs = 20 * np.log10(s_mag)\n",
      "Grid Search Progress:   8%|▉           | 2/25 [00:59<11:17, 29.47s/trial, Current Best Loss=0.19961]/home/user/kuei_jan_CHU/PGClustered_ESN/Methods/./Utils/global_utils.py:313: RuntimeWarning: invalid value encountered in divide\n",
      "  trajectory = (trajectory-trajectory.mean())/trajectory.std()\n",
      "Grid Search Progress: 100%|███████████| 25/25 [12:10<00:00, 29.21s/trial, Current Best Loss=0.18432]\n",
      "{'radius': 0.9, 'sigma_input': 0.1}\n"
     ]
    }
   ],
   "source": [
    "!bash ./0_Randomly_Clustered_ESN_Tune.sh \"tune\" 500 1 \"grid_search.json\" "
   ]
  },
  {
   "cell_type": "code",
   "execution_count": 16,
   "metadata": {},
   "outputs": [
    {
     "name": "stdout",
     "output_type": "stream",
     "text": [
      "{'radius': 0.9, 'sigma_input': 0.1}\n",
      "/home/user/anaconda3/lib/python3.11/site-packages/numpy/core/_methods.py:236: RuntimeWarning: invalid value encountered in subtract\n",
      "  x = asanyarray(arr - arrmean)\n",
      "AVERAGE RMNSE ERROR ON TRAIN DATA SET: 1.9164861195184018 ± 0.06754496989948702\n",
      "AVG NUMBER OF ACCURATE 0.5 PREDICTIONS ON TRAIN DATA SET: 0.1688567328728802 ± 0.0032620215951760924\n",
      "AVG NUMBER OF ACCURATE 1 PREDICTIONS ON TRAIN DATA SET: 0.3663534769750828 ± 0.010441197204792788\n",
      "POWER SPECTRUM MEAN ERROR ON TRAIN DATA SET: 3.752730318026231 ± 0.8172106470890884\n",
      "TEMPORAL DISTANCE ON TRAIN DATA SET: 0.2032087817603076 ± 0.03905044751417672\n",
      "GEOMETRICAL DISTANCE ON TRAIN DATA SET: inf ± nan\n",
      "\n",
      "\n",
      "AVERAGE RMNSE ERROR ON TEST DATA SET: 1.8974200497141749 ± 0.046840099552809746\n",
      "AVG NUMBER OF ACCURATE 0.5 PREDICTIONS ON TEST DATA SET: 0.1497633920533319 ± 0.004270327217766809\n",
      "AVG NUMBER OF ACCURATE 1 PREDICTIONS ON TEST DATA SET: 0.33970235541446325 ± 0.012852598379007034\n",
      "POWER SPECTRUM MEAN ERROR ON TEST DATA SET: 3.49319281048738 ± 0.42610548545994803\n",
      "TEMPORAL DISTANCE ON TEST DATA SET: 0.193245326858493 ± 0.01262178369220281\n",
      "GEOMETRICAL DISTANCE ON TEST DATA SET: inf ± nan\n"
     ]
    }
   ],
   "source": [
    "!bash ./1_Randomly_Clustered_ESN_Evaluate_Tuned_Model.sh \"evaluate_tuned_model\" 500 1 \"grid_search.json\" "
   ]
  },
  {
   "cell_type": "code",
   "execution_count": 17,
   "metadata": {},
   "outputs": [
    {
     "name": "stdout",
     "output_type": "stream",
     "text": [
      "Grid Search Progress:   4%|▍           | 1/25 [00:34<13:38, 34.10s/trial, Current Best Loss=0.14621]/home/user/kuei_jan_CHU/PGClustered_ESN/Methods/./Utils/global_utils.py:278: RuntimeWarning: divide by zero encountered in log10\n",
      "  s_dbfs = 20 * np.log10(s_mag)\n",
      "Grid Search Progress:  52%|█████▋     | 13/25 [07:08<06:33, 32.83s/trial, Current Best Loss=0.14621]/home/user/kuei_jan_CHU/PGClustered_ESN/Methods/./Utils/global_utils.py:313: RuntimeWarning: invalid value encountered in divide\n",
      "  trajectory = (trajectory-trajectory.mean())/trajectory.std()\n",
      "Grid Search Progress: 100%|███████████| 25/25 [13:43<00:00, 32.95s/trial, Current Best Loss=0.14621]\n",
      "{'radius': 0.1, 'sigma_input': 0.1}\n"
     ]
    }
   ],
   "source": [
    "!bash ./0_Randomly_Clustered_ESN_Tune.sh \"tune\" 1000 2 \"grid_search.json\" "
   ]
  },
  {
   "cell_type": "code",
   "execution_count": 18,
   "metadata": {},
   "outputs": [
    {
     "name": "stdout",
     "output_type": "stream",
     "text": [
      "{'radius': 0.1, 'sigma_input': 0.1}\n",
      "/home/user/anaconda3/lib/python3.11/site-packages/numpy/core/_methods.py:236: RuntimeWarning: invalid value encountered in subtract\n",
      "  x = asanyarray(arr - arrmean)\n",
      "AVERAGE RMNSE ERROR ON TRAIN DATA SET: 1.7038342114427796 ± 0.02153868082868672\n",
      "AVG NUMBER OF ACCURATE 0.5 PREDICTIONS ON TRAIN DATA SET: 0.26571565973871364 ± 0.01432000561466122\n",
      "AVG NUMBER OF ACCURATE 1 PREDICTIONS ON TRAIN DATA SET: 0.5387902112516282 ± 0.030843183876856688\n",
      "POWER SPECTRUM MEAN ERROR ON TRAIN DATA SET: 3.0523062567436297 ± 0.3939017449395222\n",
      "TEMPORAL DISTANCE ON TRAIN DATA SET: 0.1287371288133154 ± 0.0031638037875853496\n",
      "GEOMETRICAL DISTANCE ON TRAIN DATA SET: inf ± nan\n",
      "\n",
      "\n",
      "AVERAGE RMNSE ERROR ON TEST DATA SET: 1.6979833663791712 ± 0.017528908511247453\n",
      "AVG NUMBER OF ACCURATE 0.5 PREDICTIONS ON TEST DATA SET: 0.20744119244571735 ± 0.006659068741273357\n",
      "AVG NUMBER OF ACCURATE 1 PREDICTIONS ON TEST DATA SET: 0.4620190700396945 ± 0.02793027156609544\n",
      "POWER SPECTRUM MEAN ERROR ON TEST DATA SET: 2.768877624365798 ± 0.3161446027001894\n",
      "TEMPORAL DISTANCE ON TEST DATA SET: 0.13086876818866808 ± 0.002625992581986327\n",
      "GEOMETRICAL DISTANCE ON TEST DATA SET: inf ± nan\n"
     ]
    }
   ],
   "source": [
    "!bash ./1_Randomly_Clustered_ESN_Evaluate_Tuned_Model.sh \"evaluate_tuned_model\" 1000 2 \"grid_search.json\" "
   ]
  },
  {
   "cell_type": "code",
   "execution_count": 19,
   "metadata": {},
   "outputs": [
    {
     "name": "stdout",
     "output_type": "stream",
     "text": [
      "Grid Search Progress:   8%|▉           | 2/25 [01:51<21:11, 55.28s/trial, Current Best Loss=0.19250]/home/user/kuei_jan_CHU/PGClustered_ESN/Methods/./Utils/global_utils.py:278: RuntimeWarning: divide by zero encountered in log10\n",
      "  s_dbfs = 20 * np.log10(s_mag)\n",
      "Grid Search Progress: 100%|███████████| 25/25 [22:31<00:00, 54.05s/trial, Current Best Loss=0.19250]\n",
      "{'radius': 0.1, 'sigma_input': 0.1}\n"
     ]
    }
   ],
   "source": [
    "!bash ./0_Randomly_Clustered_ESN_Tune.sh \"tune\" 2000 3 \"grid_search.json\" "
   ]
  },
  {
   "cell_type": "code",
   "execution_count": 20,
   "metadata": {},
   "outputs": [
    {
     "name": "stdout",
     "output_type": "stream",
     "text": [
      "{'radius': 0.1, 'sigma_input': 0.1}\n",
      "/home/user/anaconda3/lib/python3.11/site-packages/numpy/core/_methods.py:236: RuntimeWarning: invalid value encountered in subtract\n",
      "  x = asanyarray(arr - arrmean)\n",
      "AVERAGE RMNSE ERROR ON TRAIN DATA SET: 1.4672071410936112 ± 0.0036044994320184962\n",
      "AVG NUMBER OF ACCURATE 0.5 PREDICTIONS ON TRAIN DATA SET: 0.4986146399438288 ± 0.025718273782033698\n",
      "AVG NUMBER OF ACCURATE 1 PREDICTIONS ON TRAIN DATA SET: 0.8667581176207444 ± 0.07342101441717559\n",
      "POWER SPECTRUM MEAN ERROR ON TRAIN DATA SET: 2.160284196154797 ± 0.49114822372639205\n",
      "TEMPORAL DISTANCE ON TRAIN DATA SET: 0.1747035764208917 ± 0.0037032139265057275\n",
      "GEOMETRICAL DISTANCE ON TRAIN DATA SET: inf ± nan\n",
      "\n",
      "\n",
      "AVERAGE RMNSE ERROR ON TEST DATA SET: 1.4657187767322222 ± 0.003697429318297675\n",
      "AVG NUMBER OF ACCURATE 0.5 PREDICTIONS ON TEST DATA SET: 0.375900147384857 ± 0.024212230160299275\n",
      "AVG NUMBER OF ACCURATE 1 PREDICTIONS ON TEST DATA SET: 0.750408072001622 ± 0.03948885217713583\n",
      "POWER SPECTRUM MEAN ERROR ON TEST DATA SET: 1.7624771195527458 ± 0.2945157919302259\n",
      "TEMPORAL DISTANCE ON TEST DATA SET: 0.17724595663616777 ± 0.004989342313766373\n",
      "GEOMETRICAL DISTANCE ON TEST DATA SET: inf ± nan\n"
     ]
    }
   ],
   "source": [
    "!bash ./1_Randomly_Clustered_ESN_Evaluate_Tuned_Model.sh \"evaluate_tuned_model\" 2000 3 \"grid_search.json\" "
   ]
  },
  {
   "cell_type": "code",
   "execution_count": 21,
   "metadata": {},
   "outputs": [
    {
     "name": "stdout",
     "output_type": "stream",
     "text": [
      "Grid Search Progress:  36%|███▉       | 9/25 [17:22<30:38, 114.92s/trial, Current Best Loss=0.15645]/home/user/kuei_jan_CHU/PGClustered_ESN/Methods/./Utils/global_utils.py:278: RuntimeWarning: divide by zero encountered in log10\n",
      "  s_dbfs = 20 * np.log10(s_mag)\n",
      "Grid Search Progress: 100%|██████████| 25/25 [48:10<00:00, 115.62s/trial, Current Best Loss=0.15535]\n",
      "{'radius': 0.9, 'sigma_input': 0.5}\n"
     ]
    }
   ],
   "source": [
    "!bash ./0_Randomly_Clustered_ESN_Tune.sh \"tune\" 3000 4 \"grid_search.json\" "
   ]
  },
  {
   "cell_type": "code",
   "execution_count": 22,
   "metadata": {},
   "outputs": [
    {
     "name": "stdout",
     "output_type": "stream",
     "text": [
      "{'radius': 0.9, 'sigma_input': 0.5}\n",
      "/home/user/anaconda3/lib/python3.11/site-packages/numpy/core/_methods.py:236: RuntimeWarning: invalid value encountered in subtract\n",
      "  x = asanyarray(arr - arrmean)\n",
      "AVERAGE RMNSE ERROR ON TRAIN DATA SET: 1.470113042031588 ± 0.003419527848434194\n",
      "AVG NUMBER OF ACCURATE 0.5 PREDICTIONS ON TRAIN DATA SET: 0.1873534067918176 ± 0.007589119289075614\n",
      "AVG NUMBER OF ACCURATE 1 PREDICTIONS ON TRAIN DATA SET: 0.41846238629509996 ± 0.04059674120038249\n",
      "POWER SPECTRUM MEAN ERROR ON TRAIN DATA SET: 1.601409503588697 ± 0.5378495878456095\n",
      "TEMPORAL DISTANCE ON TRAIN DATA SET: 0.1941035365197299 ± 0.0053816167633255335\n",
      "GEOMETRICAL DISTANCE ON TRAIN DATA SET: inf ± nan\n",
      "\n",
      "\n",
      "AVERAGE RMNSE ERROR ON TEST DATA SET: 1.4644665389680964 ± 0.0032428157503708193\n",
      "AVG NUMBER OF ACCURATE 0.5 PREDICTIONS ON TEST DATA SET: 0.12888005053195092 ± 0.007215038227468844\n",
      "AVG NUMBER OF ACCURATE 1 PREDICTIONS ON TEST DATA SET: 0.35720458449904924 ± 0.020169341799668828\n",
      "POWER SPECTRUM MEAN ERROR ON TEST DATA SET: 1.2297966663835256 ± 0.27344390302223015\n",
      "TEMPORAL DISTANCE ON TEST DATA SET: 0.190010220552729 ± 0.0030124675240852123\n",
      "GEOMETRICAL DISTANCE ON TEST DATA SET: inf ± nan\n"
     ]
    }
   ],
   "source": [
    "!bash ./1_Randomly_Clustered_ESN_Evaluate_Tuned_Model.sh \"evaluate_tuned_model\" 3000 4 \"grid_search.json\" "
   ]
  },
  {
   "cell_type": "code",
   "execution_count": 23,
   "metadata": {},
   "outputs": [
    {
     "name": "stdout",
     "output_type": "stream",
     "text": [
      "Grid Search Progress: 100%|████████| 25/25 [1:31:23<00:00, 219.33s/trial, Current Best Loss=0.14793]\n",
      "{'radius': 0.9, 'sigma_input': 0.5}\n"
     ]
    }
   ],
   "source": [
    "!bash ./0_Randomly_Clustered_ESN_Tune.sh \"tune\" 4000 5 \"grid_search.json\" "
   ]
  },
  {
   "cell_type": "code",
   "execution_count": 24,
   "metadata": {},
   "outputs": [
    {
     "name": "stdout",
     "output_type": "stream",
     "text": [
      "{'radius': 0.9, 'sigma_input': 0.5}\n",
      "/home/user/anaconda3/lib/python3.11/site-packages/numpy/core/_methods.py:236: RuntimeWarning: invalid value encountered in subtract\n",
      "  x = asanyarray(arr - arrmean)\n",
      "AVERAGE RMNSE ERROR ON TRAIN DATA SET: 1.4594495493297057 ± 0.003210729028317095\n",
      "AVG NUMBER OF ACCURATE 0.5 PREDICTIONS ON TRAIN DATA SET: 0.2239489766959518 ± 0.016039874211237953\n",
      "AVG NUMBER OF ACCURATE 1 PREDICTIONS ON TRAIN DATA SET: 0.47494685288626376 ± 0.04273845777618618\n",
      "POWER SPECTRUM MEAN ERROR ON TRAIN DATA SET: 1.7253024644413426 ± 0.35994578373815905\n",
      "TEMPORAL DISTANCE ON TRAIN DATA SET: 0.1586678213002199 ± 0.0013995599802003856\n",
      "GEOMETRICAL DISTANCE ON TRAIN DATA SET: inf ± nan\n",
      "\n",
      "\n",
      "AVERAGE RMNSE ERROR ON TEST DATA SET: 1.457996395296147 ± 0.0036339694000376123\n",
      "AVG NUMBER OF ACCURATE 0.5 PREDICTIONS ON TEST DATA SET: 0.1342500526374489 ± 0.0054286123228073895\n",
      "AVG NUMBER OF ACCURATE 1 PREDICTIONS ON TEST DATA SET: 0.3615801417701957 ± 0.018310751377423218\n",
      "POWER SPECTRUM MEAN ERROR ON TEST DATA SET: 1.3935108729262877 ± 0.3079763132490027\n",
      "TEMPORAL DISTANCE ON TEST DATA SET: 0.1579599784245984 ± 0.003063953231990423\n",
      "GEOMETRICAL DISTANCE ON TEST DATA SET: inf ± nan\n"
     ]
    }
   ],
   "source": [
    "!bash ./1_Randomly_Clustered_ESN_Evaluate_Tuned_Model.sh \"evaluate_tuned_model\" 4000 5 \"grid_search.json\" "
   ]
  },
  {
   "cell_type": "code",
   "execution_count": 25,
   "metadata": {},
   "outputs": [
    {
     "name": "stdout",
     "output_type": "stream",
     "text": [
      "Grid Search Progress: 100%|████████| 25/25 [2:46:39<00:00, 399.96s/trial, Current Best Loss=0.15045]\n",
      "{'radius': 0.4, 'sigma_input': 0.1}\n"
     ]
    }
   ],
   "source": [
    "!bash ./0_Randomly_Clustered_ESN_Tune.sh \"tune\" 5000 6 \"grid_search.json\" "
   ]
  },
  {
   "cell_type": "code",
   "execution_count": 26,
   "metadata": {},
   "outputs": [
    {
     "name": "stdout",
     "output_type": "stream",
     "text": [
      "{'radius': 0.4, 'sigma_input': 0.1}\n",
      "/home/user/anaconda3/lib/python3.11/site-packages/numpy/core/_methods.py:236: RuntimeWarning: invalid value encountered in subtract\n",
      "  x = asanyarray(arr - arrmean)\n",
      "AVERAGE RMNSE ERROR ON TRAIN DATA SET: 1.3965749270620744 ± 0.0033117483236762627\n",
      "AVG NUMBER OF ACCURATE 0.5 PREDICTIONS ON TRAIN DATA SET: 1.3484671953805978 ± 0.08779545641929873\n",
      "AVG NUMBER OF ACCURATE 1 PREDICTIONS ON TRAIN DATA SET: 2.0451752463272403 ± 0.1527437483722499\n",
      "POWER SPECTRUM MEAN ERROR ON TRAIN DATA SET: 1.0629344853803855 ± 0.41807564383260293\n",
      "TEMPORAL DISTANCE ON TRAIN DATA SET: 0.13123927826773513 ± 0.0018729519663527807\n",
      "GEOMETRICAL DISTANCE ON TRAIN DATA SET: inf ± nan\n",
      "\n",
      "\n",
      "AVERAGE RMNSE ERROR ON TEST DATA SET: 1.4008696276152937 ± 0.002767901691848527\n",
      "AVG NUMBER OF ACCURATE 0.5 PREDICTIONS ON TEST DATA SET: 0.6754269314915208 ± 0.02259294624491964\n",
      "AVG NUMBER OF ACCURATE 1 PREDICTIONS ON TEST DATA SET: 1.2637404954938523 ± 0.09567861713118499\n",
      "POWER SPECTRUM MEAN ERROR ON TEST DATA SET: 0.6947453434062574 ± 0.09630182891744693\n",
      "TEMPORAL DISTANCE ON TEST DATA SET: 0.13291546092566642 ± 0.0014267565322130145\n",
      "GEOMETRICAL DISTANCE ON TEST DATA SET: inf ± nan\n"
     ]
    }
   ],
   "source": [
    "!bash ./1_Randomly_Clustered_ESN_Evaluate_Tuned_Model.sh \"evaluate_tuned_model\" 5000 6 \"grid_search.json\" "
   ]
  },
  {
   "cell_type": "code",
   "execution_count": 59,
   "metadata": {},
   "outputs": [
    {
     "name": "stdout",
     "output_type": "stream",
     "text": [
      "Grid Search Progress: 100%|████████| 25/25 [4:11:43<00:00, 604.12s/trial, Current Best Loss=0.14884]\n",
      "{'radius': 0.4, 'sigma_input': 0.1}\n"
     ]
    }
   ],
   "source": [
    "!bash ./0_Randomly_Clustered_ESN_Tune.sh \"tune\" 6000 7 \"grid_search.json\" "
   ]
  },
  {
   "cell_type": "code",
   "execution_count": 60,
   "metadata": {},
   "outputs": [
    {
     "name": "stdout",
     "output_type": "stream",
     "text": [
      "{'radius': 0.4, 'sigma_input': 0.1}\n",
      "/home/user/anaconda3/lib/python3.11/site-packages/numpy/core/_methods.py:236: RuntimeWarning: invalid value encountered in subtract\n",
      "  x = asanyarray(arr - arrmean)\n",
      "AVERAGE RMNSE ERROR ON TRAIN DATA SET: 1.390730523795751 ± 0.0031013070132702423\n",
      "AVG NUMBER OF ACCURATE 0.5 PREDICTIONS ON TRAIN DATA SET: 1.5895206232273948 ± 0.0681281084839711\n",
      "AVG NUMBER OF ACCURATE 1 PREDICTIONS ON TRAIN DATA SET: 2.293985343881979 ± 0.1373261706262546\n",
      "POWER SPECTRUM MEAN ERROR ON TRAIN DATA SET: 0.8698315897747679 ± 0.2329006328337783\n",
      "TEMPORAL DISTANCE ON TRAIN DATA SET: 0.12996764981123285 ± 0.0020339679826583182\n",
      "GEOMETRICAL DISTANCE ON TRAIN DATA SET: inf ± nan\n",
      "\n",
      "\n",
      "AVERAGE RMNSE ERROR ON TEST DATA SET: 1.3973875192608458 ± 0.003588836588854338\n",
      "AVG NUMBER OF ACCURATE 0.5 PREDICTIONS ON TEST DATA SET: 0.7454358478298645 ± 0.043061183772473734\n",
      "AVG NUMBER OF ACCURATE 1 PREDICTIONS ON TEST DATA SET: 1.3192305172506646 ± 0.0834198749234903\n",
      "POWER SPECTRUM MEAN ERROR ON TEST DATA SET: 0.6162767998455154 ± 0.13806795735395616\n",
      "TEMPORAL DISTANCE ON TEST DATA SET: 0.1308347118546497 ± 0.0014017455898459547\n",
      "GEOMETRICAL DISTANCE ON TEST DATA SET: inf ± nan\n"
     ]
    }
   ],
   "source": [
    "!bash ./1_Randomly_Clustered_ESN_Evaluate_Tuned_Model.sh \"evaluate_tuned_model\" 6000 7 \"grid_search.json\" "
   ]
  },
  {
   "cell_type": "markdown",
   "metadata": {},
   "source": [
    "# Standard ESN"
   ]
  },
  {
   "cell_type": "code",
   "execution_count": 27,
   "metadata": {},
   "outputs": [
    {
     "name": "stdout",
     "output_type": "stream",
     "text": [
      "Grid Search Progress:   4%|▍           | 1/25 [00:27<11:02, 27.62s/trial, Current Best Loss=0.34689]/home/user/kuei_jan_CHU/PGClustered_ESN/Methods/./Utils/global_utils.py:278: RuntimeWarning: divide by zero encountered in log10\n",
      "  s_dbfs = 20 * np.log10(s_mag)\n",
      "Grid Search Progress:   8%|▉           | 2/25 [00:55<10:32, 27.49s/trial, Current Best Loss=0.34689]/home/user/kuei_jan_CHU/PGClustered_ESN/Methods/./Utils/global_utils.py:313: RuntimeWarning: invalid value encountered in divide\n",
      "  trajectory = (trajectory-trajectory.mean())/trajectory.std()\n",
      "Grid Search Progress: 100%|███████████| 25/25 [11:21<00:00, 27.26s/trial, Current Best Loss=0.28778]\n",
      "{'radius': 0.99, 'sigma_input': 0.1}\n"
     ]
    }
   ],
   "source": [
    "!bash ./0_Standard_ESN_Tune.sh \"tune\" 256 0 \"grid_search.json\" "
   ]
  },
  {
   "cell_type": "code",
   "execution_count": 28,
   "metadata": {},
   "outputs": [
    {
     "name": "stdout",
     "output_type": "stream",
     "text": [
      "{'radius': 0.99, 'sigma_input': 0.1}\n",
      "/home/user/anaconda3/lib/python3.11/site-packages/numpy/core/_methods.py:236: RuntimeWarning: invalid value encountered in subtract\n",
      "  x = asanyarray(arr - arrmean)\n",
      "AVERAGE RMNSE ERROR ON TRAIN DATA SET: 1.9400008904435357 ± 0.07055198213089917\n",
      "AVG NUMBER OF ACCURATE 0.5 PREDICTIONS ON TRAIN DATA SET: 0.12907893949882127 ± 0.006563335906719724\n",
      "AVG NUMBER OF ACCURATE 1 PREDICTIONS ON TRAIN DATA SET: 0.30052122894101524 ± 0.02236859921037596\n",
      "POWER SPECTRUM MEAN ERROR ON TRAIN DATA SET: 6.133120705843053 ± 5.666947010083954\n",
      "TEMPORAL DISTANCE ON TRAIN DATA SET: 0.31753871685814905 ± 0.014765426428523765\n",
      "GEOMETRICAL DISTANCE ON TRAIN DATA SET: inf ± nan\n",
      "\n",
      "\n",
      "AVERAGE RMNSE ERROR ON TEST DATA SET: 1.9263977704027995 ± 0.08384918807763105\n",
      "AVG NUMBER OF ACCURATE 0.5 PREDICTIONS ON TEST DATA SET: 0.11257115524858678 ± 0.0034677476302912937\n",
      "AVG NUMBER OF ACCURATE 1 PREDICTIONS ON TEST DATA SET: 0.2856045564257432 ± 0.018319390562323526\n",
      "POWER SPECTRUM MEAN ERROR ON TEST DATA SET: 5.833936517796771 ± 6.591864376057159\n",
      "TEMPORAL DISTANCE ON TEST DATA SET: 0.3172884417640386 ± 0.018152544918975493\n",
      "GEOMETRICAL DISTANCE ON TEST DATA SET: inf ± nan\n"
     ]
    }
   ],
   "source": [
    "!bash ./1_Standard_ESN_Evaluate_Tuned_Model.sh \"evaluate_tuned_model\" 256 0 \"grid_search.json\" "
   ]
  },
  {
   "cell_type": "code",
   "execution_count": 29,
   "metadata": {},
   "outputs": [
    {
     "name": "stdout",
     "output_type": "stream",
     "text": [
      "Grid Search Progress:   4%|▍           | 1/25 [00:29<11:47, 29.48s/trial, Current Best Loss=0.24153]/home/user/kuei_jan_CHU/PGClustered_ESN/Methods/./Utils/global_utils.py:278: RuntimeWarning: divide by zero encountered in log10\n",
      "  s_dbfs = 20 * np.log10(s_mag)\n",
      "Grid Search Progress:   8%|▉           | 2/25 [00:58<11:08, 29.08s/trial, Current Best Loss=0.24153]/home/user/kuei_jan_CHU/PGClustered_ESN/Methods/./Utils/global_utils.py:313: RuntimeWarning: invalid value encountered in divide\n",
      "  trajectory = (trajectory-trajectory.mean())/trajectory.std()\n",
      "Grid Search Progress: 100%|███████████| 25/25 [11:59<00:00, 28.77s/trial, Current Best Loss=0.19769]\n",
      "{'radius': 0.9, 'sigma_input': 0.1}\n"
     ]
    }
   ],
   "source": [
    "!bash ./0_Standard_ESN_Tune.sh \"tune\" 500 1 \"grid_search.json\" "
   ]
  },
  {
   "cell_type": "code",
   "execution_count": 30,
   "metadata": {},
   "outputs": [
    {
     "name": "stdout",
     "output_type": "stream",
     "text": [
      "{'radius': 0.9, 'sigma_input': 0.1}\n",
      "/home/user/anaconda3/lib/python3.11/site-packages/numpy/core/_methods.py:236: RuntimeWarning: invalid value encountered in subtract\n",
      "  x = asanyarray(arr - arrmean)\n",
      "AVERAGE RMNSE ERROR ON TRAIN DATA SET: 1.8292448183146344 ± 0.02111700779644892\n",
      "AVG NUMBER OF ACCURATE 0.5 PREDICTIONS ON TRAIN DATA SET: 0.1674645101047881 ± 0.00973540669196664\n",
      "AVG NUMBER OF ACCURATE 1 PREDICTIONS ON TRAIN DATA SET: 0.37649681428546783 ± 0.03257228115851339\n",
      "POWER SPECTRUM MEAN ERROR ON TRAIN DATA SET: 3.7005327009761566 ± 0.40890486441996654\n",
      "TEMPORAL DISTANCE ON TRAIN DATA SET: 0.21461944619806098 ± 0.00813637882731424\n",
      "GEOMETRICAL DISTANCE ON TRAIN DATA SET: inf ± nan\n",
      "\n",
      "\n",
      "AVERAGE RMNSE ERROR ON TEST DATA SET: 1.8264797290460097 ± 0.02124522548624221\n",
      "AVG NUMBER OF ACCURATE 0.5 PREDICTIONS ON TEST DATA SET: 0.14300116717974187 ± 0.00708502688986629\n",
      "AVG NUMBER OF ACCURATE 1 PREDICTIONS ON TEST DATA SET: 0.33453124227583564 ± 0.014851560008695405\n",
      "POWER SPECTRUM MEAN ERROR ON TEST DATA SET: 3.458378966639395 ± 0.3565101896611891\n",
      "TEMPORAL DISTANCE ON TEST DATA SET: 0.21421385396351572 ± 0.008158325607686727\n",
      "GEOMETRICAL DISTANCE ON TEST DATA SET: inf ± nan\n"
     ]
    }
   ],
   "source": [
    "!bash ./1_Standard_ESN_Evaluate_Tuned_Model.sh \"evaluate_tuned_model\" 500 1 \"grid_search.json\" "
   ]
  },
  {
   "cell_type": "code",
   "execution_count": 31,
   "metadata": {},
   "outputs": [
    {
     "name": "stdout",
     "output_type": "stream",
     "text": [
      "Grid Search Progress:   4%|▍           | 1/25 [00:34<13:48, 34.51s/trial, Current Best Loss=0.16431]/home/user/kuei_jan_CHU/PGClustered_ESN/Methods/./Utils/global_utils.py:278: RuntimeWarning: divide by zero encountered in log10\n",
      "  s_dbfs = 20 * np.log10(s_mag)\n",
      "Grid Search Progress:  76%|████████▎  | 19/25 [10:30<03:18, 33.11s/trial, Current Best Loss=0.14310]/home/user/kuei_jan_CHU/PGClustered_ESN/Methods/./Utils/global_utils.py:313: RuntimeWarning: invalid value encountered in divide\n",
      "  trajectory = (trajectory-trajectory.mean())/trajectory.std()\n",
      "Grid Search Progress: 100%|███████████| 25/25 [13:48<00:00, 33.16s/trial, Current Best Loss=0.14310]\n",
      "{'radius': 0.7, 'sigma_input': 0.1}\n"
     ]
    }
   ],
   "source": [
    "!bash ./0_Standard_ESN_Tune.sh \"tune\" 1000 2 \"grid_search.json\" "
   ]
  },
  {
   "cell_type": "code",
   "execution_count": 32,
   "metadata": {},
   "outputs": [
    {
     "name": "stdout",
     "output_type": "stream",
     "text": [
      "{'radius': 0.7, 'sigma_input': 0.1}\n",
      "/home/user/anaconda3/lib/python3.11/site-packages/numpy/core/_methods.py:236: RuntimeWarning: invalid value encountered in subtract\n",
      "  x = asanyarray(arr - arrmean)\n",
      "AVERAGE RMNSE ERROR ON TRAIN DATA SET: 1.7595445188796401 ± 0.019275082115689453\n",
      "AVG NUMBER OF ACCURATE 0.5 PREDICTIONS ON TRAIN DATA SET: 0.21659008492175094 ± 0.009176953318660775\n",
      "AVG NUMBER OF ACCURATE 1 PREDICTIONS ON TRAIN DATA SET: 0.46540018247648957 ± 0.025931948623781877\n",
      "POWER SPECTRUM MEAN ERROR ON TRAIN DATA SET: 3.2949469713812873 ± 0.4528806280330482\n",
      "TEMPORAL DISTANCE ON TRAIN DATA SET: 0.1286003230641135 ± 0.0016251185612445422\n",
      "GEOMETRICAL DISTANCE ON TRAIN DATA SET: inf ± nan\n",
      "\n",
      "\n",
      "AVERAGE RMNSE ERROR ON TEST DATA SET: 1.7570207716997004 ± 0.018219077011284075\n",
      "AVG NUMBER OF ACCURATE 0.5 PREDICTIONS ON TEST DATA SET: 0.1720389563428049 ± 0.009037966345353591\n",
      "AVG NUMBER OF ACCURATE 1 PREDICTIONS ON TEST DATA SET: 0.3941979323369241 ± 0.02459799049107969\n",
      "POWER SPECTRUM MEAN ERROR ON TEST DATA SET: 3.054863820524519 ± 0.3224597221289284\n",
      "TEMPORAL DISTANCE ON TEST DATA SET: 0.12999273416574725 ± 0.0025537127557071393\n",
      "GEOMETRICAL DISTANCE ON TEST DATA SET: inf ± nan\n"
     ]
    }
   ],
   "source": [
    "!bash ./1_Standard_ESN_Evaluate_Tuned_Model.sh \"evaluate_tuned_model\" 1000 2 \"grid_search.json\" "
   ]
  },
  {
   "cell_type": "code",
   "execution_count": 33,
   "metadata": {},
   "outputs": [
    {
     "name": "stdout",
     "output_type": "stream",
     "text": [
      "Grid Search Progress:  12%|█▍          | 3/25 [02:44<19:54, 54.31s/trial, Current Best Loss=0.20663]/home/user/kuei_jan_CHU/PGClustered_ESN/Methods/./Utils/global_utils.py:278: RuntimeWarning: divide by zero encountered in log10\n",
      "  s_dbfs = 20 * np.log10(s_mag)\n",
      "Grid Search Progress: 100%|███████████| 25/25 [22:28<00:00, 53.96s/trial, Current Best Loss=0.20618]\n",
      "{'radius': 0.99, 'sigma_input': 0.5}\n"
     ]
    }
   ],
   "source": [
    "!bash ./0_Standard_ESN_Tune.sh \"tune\" 2000 3 \"grid_search.json\" "
   ]
  },
  {
   "cell_type": "code",
   "execution_count": 34,
   "metadata": {},
   "outputs": [
    {
     "name": "stdout",
     "output_type": "stream",
     "text": [
      "{'radius': 0.99, 'sigma_input': 0.5}\n",
      "/home/user/anaconda3/lib/python3.11/site-packages/numpy/core/_methods.py:236: RuntimeWarning: invalid value encountered in subtract\n",
      "  x = asanyarray(arr - arrmean)\n",
      "AVERAGE RMNSE ERROR ON TRAIN DATA SET: 1.4882521129112896 ± 0.003526952277116182\n",
      "AVG NUMBER OF ACCURATE 0.5 PREDICTIONS ON TRAIN DATA SET: 0.14081338854416864 ± 0.006524043190352198\n",
      "AVG NUMBER OF ACCURATE 1 PREDICTIONS ON TRAIN DATA SET: 0.35084013755919974 ± 0.02011041867697697\n",
      "POWER SPECTRUM MEAN ERROR ON TRAIN DATA SET: 1.7473341531136177 ± 0.37316994284505234\n",
      "TEMPORAL DISTANCE ON TRAIN DATA SET: 0.2961920793705414 ± 0.006480015442081727\n",
      "GEOMETRICAL DISTANCE ON TRAIN DATA SET: inf ± nan\n",
      "\n",
      "\n",
      "AVERAGE RMNSE ERROR ON TEST DATA SET: 1.488228924451845 ± 0.002965096045161622\n",
      "AVG NUMBER OF ACCURATE 0.5 PREDICTIONS ON TEST DATA SET: 0.10461559657377502 ± 0.00409537448403914\n",
      "AVG NUMBER OF ACCURATE 1 PREDICTIONS ON TEST DATA SET: 0.3291612401703377 ± 0.026613246373951408\n",
      "POWER SPECTRUM MEAN ERROR ON TEST DATA SET: 2.9791202140616124 ± 3.3066574634391026\n",
      "TEMPORAL DISTANCE ON TEST DATA SET: 0.2847018859750719 ± 0.009944153777742583\n",
      "GEOMETRICAL DISTANCE ON TEST DATA SET: inf ± nan\n"
     ]
    }
   ],
   "source": [
    "!bash ./1_Standard_ESN_Evaluate_Tuned_Model.sh \"evaluate_tuned_model\" 2000 3 \"grid_search.json\" "
   ]
  },
  {
   "cell_type": "code",
   "execution_count": 35,
   "metadata": {},
   "outputs": [
    {
     "name": "stdout",
     "output_type": "stream",
     "text": [
      "Grid Search Progress:  76%|███████▌  | 19/25 [36:40<11:29, 114.89s/trial, Current Best Loss=0.15275]/home/user/kuei_jan_CHU/PGClustered_ESN/Methods/./Utils/global_utils.py:278: RuntimeWarning: divide by zero encountered in log10\n",
      "  s_dbfs = 20 * np.log10(s_mag)\n",
      "Grid Search Progress: 100%|██████████| 25/25 [48:12<00:00, 115.70s/trial, Current Best Loss=0.15275]\n",
      "{'radius': 0.9, 'sigma_input': 0.5}\n"
     ]
    }
   ],
   "source": [
    "!bash ./0_Standard_ESN_Tune.sh \"tune\" 3000 4 \"grid_search.json\" "
   ]
  },
  {
   "cell_type": "code",
   "execution_count": 36,
   "metadata": {},
   "outputs": [
    {
     "name": "stdout",
     "output_type": "stream",
     "text": [
      "{'radius': 0.9, 'sigma_input': 0.5}\n",
      "/home/user/anaconda3/lib/python3.11/site-packages/numpy/core/_methods.py:236: RuntimeWarning: invalid value encountered in subtract\n",
      "  x = asanyarray(arr - arrmean)\n",
      "AVERAGE RMNSE ERROR ON TRAIN DATA SET: 1.4689125320409562 ± 0.0033609641109864146\n",
      "AVG NUMBER OF ACCURATE 0.5 PREDICTIONS ON TRAIN DATA SET: 0.16945339977349105 ± 0.014001557255655026\n",
      "AVG NUMBER OF ACCURATE 1 PREDICTIONS ON TRAIN DATA SET: 0.3951923771712755 ± 0.03088931988218368\n",
      "POWER SPECTRUM MEAN ERROR ON TRAIN DATA SET: 1.5860915702810185 ± 0.3444216233071879\n",
      "TEMPORAL DISTANCE ON TRAIN DATA SET: 0.19810349990819207 ± 0.003990022593015063\n",
      "GEOMETRICAL DISTANCE ON TRAIN DATA SET: inf ± nan\n",
      "\n",
      "\n",
      "AVERAGE RMNSE ERROR ON TEST DATA SET: 1.464577826045147 ± 0.0018154091321826243\n",
      "AVG NUMBER OF ACCURATE 0.5 PREDICTIONS ON TEST DATA SET: 0.11595226768538178 ± 0.006101062915206822\n",
      "AVG NUMBER OF ACCURATE 1 PREDICTIONS ON TEST DATA SET: 0.33552568711018715 ± 0.02149565602088631\n",
      "POWER SPECTRUM MEAN ERROR ON TEST DATA SET: 1.241950710447167 ± 0.38961873372010813\n",
      "TEMPORAL DISTANCE ON TEST DATA SET: 0.19574182928661576 ± 0.002865964505513611\n",
      "GEOMETRICAL DISTANCE ON TEST DATA SET: inf ± nan\n"
     ]
    }
   ],
   "source": [
    "!bash ./1_Standard_ESN_Evaluate_Tuned_Model.sh \"evaluate_tuned_model\" 3000 4 \"grid_search.json\" "
   ]
  },
  {
   "cell_type": "code",
   "execution_count": 37,
   "metadata": {},
   "outputs": [
    {
     "name": "stdout",
     "output_type": "stream",
     "text": [
      "Grid Search Progress: 100%|████████| 25/25 [1:31:14<00:00, 218.96s/trial, Current Best Loss=0.14852]\n",
      "{'radius': 0.7, 'sigma_input': 0.5}\n"
     ]
    }
   ],
   "source": [
    "!bash ./0_Standard_ESN_Tune.sh \"tune\" 4000 5 \"grid_search.json\" "
   ]
  },
  {
   "cell_type": "code",
   "execution_count": 38,
   "metadata": {},
   "outputs": [
    {
     "name": "stdout",
     "output_type": "stream",
     "text": [
      "{'radius': 0.7, 'sigma_input': 0.5}\n",
      "/home/user/anaconda3/lib/python3.11/site-packages/numpy/core/_methods.py:236: RuntimeWarning: invalid value encountered in subtract\n",
      "  x = asanyarray(arr - arrmean)\n",
      "AVERAGE RMNSE ERROR ON TRAIN DATA SET: 1.4612418079193572 ± 0.0022206417617703497\n",
      "AVG NUMBER OF ACCURATE 0.5 PREDICTIONS ON TRAIN DATA SET: 0.1980934110028135 ± 0.00881417022324438\n",
      "AVG NUMBER OF ACCURATE 1 PREDICTIONS ON TRAIN DATA SET: 0.4528701775636609 ± 0.029621104803281093\n",
      "POWER SPECTRUM MEAN ERROR ON TRAIN DATA SET: 1.7100654503194879 ± 0.34544070822539374\n",
      "TEMPORAL DISTANCE ON TRAIN DATA SET: 0.1568965937778534 ± 0.002311125978373311\n",
      "GEOMETRICAL DISTANCE ON TRAIN DATA SET: inf ± nan\n",
      "\n",
      "\n",
      "AVERAGE RMNSE ERROR ON TEST DATA SET: 1.459887775145154 ± 0.0028578191585242377\n",
      "AVG NUMBER OF ACCURATE 0.5 PREDICTIONS ON TEST DATA SET: 0.1157533787185115 ± 0.004773335204887069\n",
      "AVG NUMBER OF ACCURATE 1 PREDICTIONS ON TEST DATA SET: 0.3391056885138524 ± 0.01803759556867213\n",
      "POWER SPECTRUM MEAN ERROR ON TEST DATA SET: 1.5364245638001477 ± 0.25820437721229306\n",
      "TEMPORAL DISTANCE ON TEST DATA SET: 0.15511426326224895 ± 0.002296680132342252\n",
      "GEOMETRICAL DISTANCE ON TEST DATA SET: inf ± nan\n"
     ]
    }
   ],
   "source": [
    "!bash ./1_Standard_ESN_Evaluate_Tuned_Model.sh \"evaluate_tuned_model\" 4000 5 \"grid_search.json\" "
   ]
  },
  {
   "cell_type": "code",
   "execution_count": 39,
   "metadata": {},
   "outputs": [
    {
     "name": "stdout",
     "output_type": "stream",
     "text": [
      "Grid Search Progress: 100%|████████| 25/25 [2:45:57<00:00, 398.30s/trial, Current Best Loss=0.15831]\n",
      "{'radius': 0.9, 'sigma_input': 1.0}\n"
     ]
    }
   ],
   "source": [
    "!bash ./0_Standard_ESN_Tune.sh \"tune\" 5000 6 \"grid_search.json\" "
   ]
  },
  {
   "cell_type": "code",
   "execution_count": 40,
   "metadata": {},
   "outputs": [
    {
     "name": "stdout",
     "output_type": "stream",
     "text": [
      "{'radius': 0.9, 'sigma_input': 1.0}\n",
      "/home/user/anaconda3/lib/python3.11/site-packages/numpy/core/_methods.py:236: RuntimeWarning: invalid value encountered in subtract\n",
      "  x = asanyarray(arr - arrmean)\n",
      "AVERAGE RMNSE ERROR ON TRAIN DATA SET: 1.4517728452895153 ± 0.0028477812204764984\n",
      "AVG NUMBER OF ACCURATE 0.5 PREDICTIONS ON TRAIN DATA SET: 0.14956450308646158 ± 0.006935495260582584\n",
      "AVG NUMBER OF ACCURATE 1 PREDICTIONS ON TRAIN DATA SET: 0.36038680796897393 ± 0.016635489794850064\n",
      "POWER SPECTRUM MEAN ERROR ON TRAIN DATA SET: 3.197691115703214 ± 0.3012511475562299\n",
      "TEMPORAL DISTANCE ON TRAIN DATA SET: 0.2033301276823515 ± 0.0014316694747284547\n",
      "GEOMETRICAL DISTANCE ON TRAIN DATA SET: inf ± nan\n",
      "\n",
      "\n",
      "AVERAGE RMNSE ERROR ON TEST DATA SET: 1.4487322804640836 ± 0.004108418161608387\n",
      "AVG NUMBER OF ACCURATE 0.5 PREDICTIONS ON TEST DATA SET: 0.09188670269407614 ± 0.0029230589058091834\n",
      "AVG NUMBER OF ACCURATE 1 PREDICTIONS ON TEST DATA SET: 0.3025101186097182 ± 0.016119825001736653\n",
      "POWER SPECTRUM MEAN ERROR ON TEST DATA SET: 2.653563266391406 ± 0.25258877419442577\n",
      "TEMPORAL DISTANCE ON TEST DATA SET: 0.20236857781768328 ± 0.001704117981003329\n",
      "GEOMETRICAL DISTANCE ON TEST DATA SET: inf ± nan\n"
     ]
    }
   ],
   "source": [
    "!bash ./1_Standard_ESN_Evaluate_Tuned_Model.sh \"evaluate_tuned_model\" 5000 6 \"grid_search.json\" "
   ]
  },
  {
   "cell_type": "code",
   "execution_count": 61,
   "metadata": {},
   "outputs": [
    {
     "name": "stdout",
     "output_type": "stream",
     "text": [
      "Grid Search Progress: 100%|████████| 25/25 [4:11:38<00:00, 603.95s/trial, Current Best Loss=0.15894]\n",
      "{'radius': 0.7, 'sigma_input': 1.0}\n"
     ]
    }
   ],
   "source": [
    "!bash ./0_Standard_ESN_Tune.sh \"tune\" 6000 7 \"grid_search.json\" "
   ]
  },
  {
   "cell_type": "code",
   "execution_count": 62,
   "metadata": {},
   "outputs": [
    {
     "name": "stdout",
     "output_type": "stream",
     "text": [
      "{'radius': 0.7, 'sigma_input': 1.0}\n",
      "/home/user/anaconda3/lib/python3.11/site-packages/numpy/core/_methods.py:236: RuntimeWarning: invalid value encountered in subtract\n",
      "  x = asanyarray(arr - arrmean)\n",
      "AVERAGE RMNSE ERROR ON TRAIN DATA SET: 1.4525440327705257 ± 0.0037794402851024003\n",
      "AVG NUMBER OF ACCURATE 0.5 PREDICTIONS ON TRAIN DATA SET: 0.16726562113791782 ± 0.007518423864944408\n",
      "AVG NUMBER OF ACCURATE 1 PREDICTIONS ON TRAIN DATA SET: 0.3949934882044053 ± 0.037253342306048876\n",
      "POWER SPECTRUM MEAN ERROR ON TRAIN DATA SET: 3.555627071896186 ± 0.3309267592923734\n",
      "TEMPORAL DISTANCE ON TRAIN DATA SET: 0.17549066728324003 ± 0.0025151520617845797\n",
      "GEOMETRICAL DISTANCE ON TRAIN DATA SET: inf ± nan\n",
      "\n",
      "\n",
      "AVERAGE RMNSE ERROR ON TEST DATA SET: 1.4482343823973136 ± 0.0016522677255473063\n",
      "AVG NUMBER OF ACCURATE 0.5 PREDICTIONS ON TEST DATA SET: 0.0934778144290385 ± 0.0035578339991734578\n",
      "AVG NUMBER OF ACCURATE 1 PREDICTIONS ON TEST DATA SET: 0.30469789724529145 ± 0.01820241560594452\n",
      "POWER SPECTRUM MEAN ERROR ON TEST DATA SET: 3.136262193724163 ± 0.2720168233854914\n",
      "TEMPORAL DISTANCE ON TEST DATA SET: 0.17171560570788352 ± 0.002443420611925611\n",
      "GEOMETRICAL DISTANCE ON TEST DATA SET: inf ± nan\n"
     ]
    }
   ],
   "source": [
    "!bash ./1_Standard_ESN_Evaluate_Tuned_Model.sh \"evaluate_tuned_model\" 6000 7 \"grid_search.json\" "
   ]
  },
  {
   "cell_type": "markdown",
   "metadata": {},
   "source": [
    "## Parallel ESN"
   ]
  },
  {
   "cell_type": "code",
   "execution_count": 41,
   "metadata": {},
   "outputs": [
    {
     "name": "stdout",
     "output_type": "stream",
     "text": [
      "Grid Search Progress:   0%|                                               | 0/25 [00:00<?, ?trial/s][tuf-4090:772763] shmem: mmap: an error occurred while determining whether or not /tmp/ompi.tuf-4090.1000/jf.0/1724514304/shared_mem_cuda_pool.tuf-4090 could be created.\n",
      "[tuf-4090:772763] create_and_attach: unable to create shared memory BTL coordinating structure :: size 134217728 \n",
      "Grid Search Progress: 100%|███████████| 25/25 [34:42<00:00, 83.32s/trial, Current Best Loss=0.81373]\n",
      "{'radius': 0.7, 'sigma_input': 0.1}\n"
     ]
    }
   ],
   "source": [
    "!bash ./0_Paralleled_ESN_Tune.sh \"tune\" 256 1 1 0 \"grid_search.json\" "
   ]
  },
  {
   "cell_type": "code",
   "execution_count": 42,
   "metadata": {},
   "outputs": [
    {
     "name": "stdout",
     "output_type": "stream",
     "text": [
      "{'radius': 0.7, 'sigma_input': 0.1}\n",
      "[tuf-4090:782424] shmem: mmap: an error occurred while determining whether or not /tmp/ompi.tuf-4090.1000/jf.0/4244111360/shared_mem_cuda_pool.tuf-4090 could be created.\n",
      "[tuf-4090:782424] create_and_attach: unable to create shared memory BTL coordinating structure :: size 134217728 \n",
      "/home/user/anaconda3/lib/python3.11/site-packages/numpy/core/_methods.py:236: RuntimeWarning: invalid value encountered in subtract\n",
      "  x = asanyarray(arr - arrmean)\n",
      "AVERAGE RMNSE ERROR ON TRAIN DATA SET: 3.5497059271081755 ± 0.4361058703115855\n",
      "AVG NUMBER OF ACCURATE 0.5 PREDICTIONS ON TRAIN DATA SET: 0.023270009123824483 ± 0.002361675629955431\n",
      "AVG NUMBER OF ACCURATE 1 PREDICTIONS ON TRAIN DATA SET: 0.08174336538369112 ± 0.0065633359067197245\n",
      "POWER SPECTRUM MEAN ERROR ON TRAIN DATA SET: inf ± nan\n",
      "TEMPORAL DISTANCE ON TRAIN DATA SET: 0.8898509039853243 ± 0.05531002071170535\n",
      "GEOMETRICAL DISTANCE ON TRAIN DATA SET: inf ± nan\n",
      "\n",
      "\n",
      "AVERAGE RMNSE ERROR ON TEST DATA SET: 3.6078418771677634 ± 0.44392630415504314\n",
      "AVG NUMBER OF ACCURATE 0.5 PREDICTIONS ON TEST DATA SET: 0.02108223048825124 ± 0.002214733803801015\n",
      "AVG NUMBER OF ACCURATE 1 PREDICTIONS ON TEST DATA SET: 0.0747822515432308 ± 0.0062389031090769\n",
      "POWER SPECTRUM MEAN ERROR ON TEST DATA SET: inf ± nan\n",
      "TEMPORAL DISTANCE ON TEST DATA SET: 0.8882254991124213 ± 0.07403946796550856\n",
      "GEOMETRICAL DISTANCE ON TEST DATA SET: inf ± nan\n"
     ]
    }
   ],
   "source": [
    "!bash ./1_Paralleled_ESN_Evaluate_Tuned_Model.sh \"evaluate_tuned_model\" 256 1 1 0 \"grid_search.json\" "
   ]
  },
  {
   "cell_type": "code",
   "execution_count": 43,
   "metadata": {},
   "outputs": [
    {
     "name": "stdout",
     "output_type": "stream",
     "text": [
      "Grid Search Progress:   0%|                                               | 0/25 [00:00<?, ?trial/s][tuf-4090:784066] shmem: mmap: an error occurred while determining whether or not /tmp/ompi.tuf-4090.1000/jf.0/3162374144/shared_mem_cuda_pool.tuf-4090 could be created.\n",
      "[tuf-4090:784066] create_and_attach: unable to create shared memory BTL coordinating structure :: size 134217728 \n",
      "Grid Search Progress: 100%|███████████| 25/25 [36:23<00:00, 87.36s/trial, Current Best Loss=0.60296]\n",
      "{'radius': 0.4, 'sigma_input': 0.1}\n"
     ]
    }
   ],
   "source": [
    "!bash ./0_Paralleled_ESN_Tune.sh \"tune\" 500 1 1 1 \"grid_search.json\" "
   ]
  },
  {
   "cell_type": "code",
   "execution_count": 44,
   "metadata": {},
   "outputs": [
    {
     "name": "stdout",
     "output_type": "stream",
     "text": [
      "{'radius': 0.4, 'sigma_input': 0.1}\n",
      "[tuf-4090:793744] shmem: mmap: an error occurred while determining whether or not /tmp/ompi.tuf-4090.1000/jf.0/2781347840/shared_mem_cuda_pool.tuf-4090 could be created.\n",
      "[tuf-4090:793744] create_and_attach: unable to create shared memory BTL coordinating structure :: size 134217728 \n",
      "/home/user/anaconda3/lib/python3.11/site-packages/numpy/core/_methods.py:236: RuntimeWarning: invalid value encountered in subtract\n",
      "  x = asanyarray(arr - arrmean)\n",
      "AVERAGE RMNSE ERROR ON TRAIN DATA SET: 3.841905829476937 ± 0.592979133951802\n",
      "AVG NUMBER OF ACCURATE 0.5 PREDICTIONS ON TRAIN DATA SET: 0.09904670550140675 ± 0.00554040550923495\n",
      "AVG NUMBER OF ACCURATE 1 PREDICTIONS ON TRAIN DATA SET: 0.15752006176127337 ± 0.010628936032531481\n",
      "POWER SPECTRUM MEAN ERROR ON TRAIN DATA SET: inf ± nan\n",
      "TEMPORAL DISTANCE ON TRAIN DATA SET: 0.7316948227439515 ± 0.07319758299940018\n",
      "GEOMETRICAL DISTANCE ON TRAIN DATA SET: inf ± nan\n",
      "\n",
      "\n",
      "AVERAGE RMNSE ERROR ON TEST DATA SET: 3.860733543024923 ± 0.5117792983460572\n",
      "AVG NUMBER OF ACCURATE 0.5 PREDICTIONS ON TEST DATA SET: 0.09467114823026027 ± 0.004284199459669004\n",
      "AVG NUMBER OF ACCURATE 1 PREDICTIONS ON TEST DATA SET: 0.152547837589516 ± 0.010785945066649389\n",
      "POWER SPECTRUM MEAN ERROR ON TEST DATA SET: inf ± nan\n",
      "TEMPORAL DISTANCE ON TEST DATA SET: 0.7195160554260773 ± 0.07817467436739543\n",
      "GEOMETRICAL DISTANCE ON TEST DATA SET: inf ± nan\n"
     ]
    }
   ],
   "source": [
    "!bash ./1_Paralleled_ESN_Evaluate_Tuned_Model.sh \"evaluate_tuned_model\" 500 1 1 1 \"grid_search.json\" "
   ]
  },
  {
   "cell_type": "code",
   "execution_count": 45,
   "metadata": {},
   "outputs": [
    {
     "name": "stdout",
     "output_type": "stream",
     "text": [
      "Grid Search Progress:   0%|                                               | 0/25 [00:00<?, ?trial/s][tuf-4090:795359] shmem: mmap: an error occurred while determining whether or not /tmp/ompi.tuf-4090.1000/jf.0/1732640768/shared_mem_cuda_pool.tuf-4090 could be created.\n",
      "[tuf-4090:795359] create_and_attach: unable to create shared memory BTL coordinating structure :: size 134217728 \n",
      "Grid Search Progress: 100%|███████████| 25/25 [38:46<00:00, 93.06s/trial, Current Best Loss=0.49651]\n",
      "{'radius': 0.99, 'sigma_input': 0.1}\n"
     ]
    }
   ],
   "source": [
    "!bash ./0_Paralleled_ESN_Tune.sh \"tune\" 1000 1 1 2 \"grid_search.json\" "
   ]
  },
  {
   "cell_type": "code",
   "execution_count": 46,
   "metadata": {},
   "outputs": [
    {
     "name": "stdout",
     "output_type": "stream",
     "text": [
      "{'radius': 0.99, 'sigma_input': 0.1}\n",
      "[tuf-4090:805064] shmem: mmap: an error occurred while determining whether or not /tmp/ompi.tuf-4090.1000/jf.0/3970170880/shared_mem_cuda_pool.tuf-4090 could be created.\n",
      "[tuf-4090:805064] create_and_attach: unable to create shared memory BTL coordinating structure :: size 134217728 \n",
      "/home/user/anaconda3/lib/python3.11/site-packages/numpy/core/_methods.py:236: RuntimeWarning: invalid value encountered in subtract\n",
      "  x = asanyarray(arr - arrmean)\n",
      "AVERAGE RMNSE ERROR ON TRAIN DATA SET: 3.476246012213976 ± 0.15614349620512688\n",
      "AVG NUMBER OF ACCURATE 0.5 PREDICTIONS ON TRAIN DATA SET: 0.1384267209417251 ± 0.0075052590433143706\n",
      "AVG NUMBER OF ACCURATE 1 PREDICTIONS ON TRAIN DATA SET: 0.24224676164801892 ± 0.01127895105029851\n",
      "POWER SPECTRUM MEAN ERROR ON TRAIN DATA SET: inf ± nan\n",
      "TEMPORAL DISTANCE ON TRAIN DATA SET: 0.6601271228751555 ± 0.12129808108210506\n",
      "GEOMETRICAL DISTANCE ON TRAIN DATA SET: inf ± nan\n",
      "\n",
      "\n",
      "AVERAGE RMNSE ERROR ON TEST DATA SET: 3.495876242532469 ± 0.1392017757502059\n",
      "AVG NUMBER OF ACCURATE 0.5 PREDICTIONS ON TEST DATA SET: 0.12669227189637772 ± 0.006834954701354497\n",
      "AVG NUMBER OF ACCURATE 1 PREDICTIONS ON TEST DATA SET: 0.22335230979534088 ± 0.014670673598632456\n",
      "POWER SPECTRUM MEAN ERROR ON TEST DATA SET: inf ± nan\n",
      "TEMPORAL DISTANCE ON TEST DATA SET: 0.6502875074590316 ± 0.13673162240378037\n",
      "GEOMETRICAL DISTANCE ON TEST DATA SET: inf ± nan\n"
     ]
    }
   ],
   "source": [
    "!bash ./1_Paralleled_ESN_Evaluate_Tuned_Model.sh \"evaluate_tuned_model\" 1000 1 1 2 \"grid_search.json\" "
   ]
  },
  {
   "cell_type": "code",
   "execution_count": 47,
   "metadata": {},
   "outputs": [
    {
     "name": "stdout",
     "output_type": "stream",
     "text": [
      "Grid Search Progress:   0%|                                               | 0/25 [00:00<?, ?trial/s][tuf-4090:806691] shmem: mmap: an error occurred while determining whether or not /tmp/ompi.tuf-4090.1000/jf.0/2909405184/shared_mem_cuda_pool.tuf-4090 could be created.\n",
      "[tuf-4090:806691] create_and_attach: unable to create shared memory BTL coordinating structure :: size 134217728 \n",
      "Grid Search Progress: 100%|██████████| 25/25 [43:22<00:00, 104.11s/trial, Current Best Loss=0.17124]\n",
      "{'radius': 0.4, 'sigma_input': 0.1}\n"
     ]
    }
   ],
   "source": [
    "!bash ./0_Paralleled_ESN_Tune.sh \"tune\" 2000 1 1 3 \"grid_search.json\" "
   ]
  },
  {
   "cell_type": "code",
   "execution_count": 48,
   "metadata": {},
   "outputs": [
    {
     "name": "stdout",
     "output_type": "stream",
     "text": [
      "{'radius': 0.4, 'sigma_input': 0.1}\n",
      "[tuf-4090:816436] shmem: mmap: an error occurred while determining whether or not /tmp/ompi.tuf-4090.1000/jf.0/2729771008/shared_mem_cuda_pool.tuf-4090 could be created.\n",
      "[tuf-4090:816436] create_and_attach: unable to create shared memory BTL coordinating structure :: size 134217728 \n",
      "/home/user/anaconda3/lib/python3.11/site-packages/numpy/core/_methods.py:236: RuntimeWarning: invalid value encountered in subtract\n",
      "  x = asanyarray(arr - arrmean)\n",
      "AVERAGE RMNSE ERROR ON TRAIN DATA SET: 1.587286806844961 ± 0.29439877385344354\n",
      "AVG NUMBER OF ACCURATE 0.5 PREDICTIONS ON TRAIN DATA SET: 0.6994924964828264 ± 0.034746420507691986\n",
      "AVG NUMBER OF ACCURATE 1 PREDICTIONS ON TRAIN DATA SET: 1.2814416135453086 ± 0.0862960410746176\n",
      "POWER SPECTRUM MEAN ERROR ON TRAIN DATA SET: 3.0238898087732067 ± 5.155029087570341\n",
      "TEMPORAL DISTANCE ON TRAIN DATA SET: 0.21470980567887493 ± 0.09436419314343834\n",
      "GEOMETRICAL DISTANCE ON TRAIN DATA SET: inf ± nan\n",
      "\n",
      "\n",
      "AVERAGE RMNSE ERROR ON TEST DATA SET: 1.6005597529303017 ± 0.3033337256106665\n",
      "AVG NUMBER OF ACCURATE 0.5 PREDICTIONS ON TEST DATA SET: 0.6400246953886082 ± 0.05443747617890634\n",
      "AVG NUMBER OF ACCURATE 1 PREDICTIONS ON TEST DATA SET: 1.2016871378303202 ± 0.08701159313237844\n",
      "POWER SPECTRUM MEAN ERROR ON TEST DATA SET: 2.3903274741902787 ± 3.7126596473095548\n",
      "TEMPORAL DISTANCE ON TEST DATA SET: 0.21557777399335842 ± 0.08438147131069518\n",
      "GEOMETRICAL DISTANCE ON TEST DATA SET: inf ± nan\n"
     ]
    }
   ],
   "source": [
    "!bash ./1_Paralleled_ESN_Evaluate_Tuned_Model.sh \"evaluate_tuned_model\" 2000 1 1 3 \"grid_search.json\" "
   ]
  },
  {
   "cell_type": "code",
   "execution_count": 49,
   "metadata": {},
   "outputs": [
    {
     "name": "stdout",
     "output_type": "stream",
     "text": [
      "Grid Search Progress:   0%|                                               | 0/25 [00:00<?, ?trial/s][tuf-4090:818100] shmem: mmap: an error occurred while determining whether or not /tmp/ompi.tuf-4090.1000/jf.0/3844210688/shared_mem_cuda_pool.tuf-4090 could be created.\n",
      "[tuf-4090:818100] create_and_attach: unable to create shared memory BTL coordinating structure :: size 134217728 \n",
      "Grid Search Progress: 100%|██████████| 25/25 [49:13<00:00, 118.15s/trial, Current Best Loss=0.14155]\n",
      "{'radius': 0.1, 'sigma_input': 0.1}\n"
     ]
    }
   ],
   "source": [
    "!bash ./0_Paralleled_ESN_Tune.sh \"tune\" 3000 1 1 4 \"grid_search.json\" "
   ]
  },
  {
   "cell_type": "code",
   "execution_count": 50,
   "metadata": {},
   "outputs": [
    {
     "name": "stdout",
     "output_type": "stream",
     "text": [
      "{'radius': 0.1, 'sigma_input': 0.1}\n",
      "[tuf-4090:830253] shmem: mmap: an error occurred while determining whether or not /tmp/ompi.tuf-4090.1000/jf.0/1558511616/shared_mem_cuda_pool.tuf-4090 could be created.\n",
      "[tuf-4090:830253] create_and_attach: unable to create shared memory BTL coordinating structure :: size 134217728 \n",
      "/home/user/anaconda3/lib/python3.11/site-packages/numpy/core/_methods.py:236: RuntimeWarning: invalid value encountered in subtract\n",
      "  x = asanyarray(arr - arrmean)\n",
      "AVERAGE RMNSE ERROR ON TRAIN DATA SET: 1.3905706366966715 ± 0.003322139724729352\n",
      "AVG NUMBER OF ACCURATE 0.5 PREDICTIONS ON TRAIN DATA SET: 1.2372882629001034 ± 0.1022082253968009\n",
      "AVG NUMBER OF ACCURATE 1 PREDICTIONS ON TRAIN DATA SET: 2.0453741352941104 ± 0.11120792592863452\n",
      "POWER SPECTRUM MEAN ERROR ON TRAIN DATA SET: 0.481755156441847 ± 0.3164362511941897\n",
      "TEMPORAL DISTANCE ON TRAIN DATA SET: 0.12922825280715483 ± 0.005803277137524546\n",
      "GEOMETRICAL DISTANCE ON TRAIN DATA SET: inf ± nan\n",
      "\n",
      "\n",
      "AVERAGE RMNSE ERROR ON TEST DATA SET: 1.3851269873986458 ± 0.005552536341832785\n",
      "AVG NUMBER OF ACCURATE 0.5 PREDICTIONS ON TEST DATA SET: 1.1111926579043365 ± 0.10805749405632693\n",
      "AVG NUMBER OF ACCURATE 1 PREDICTIONS ON TEST DATA SET: 2.0827652610657257 ± 0.18374542104352165\n",
      "POWER SPECTRUM MEAN ERROR ON TEST DATA SET: 0.4157499314462331 ± 0.1826851794032458\n",
      "TEMPORAL DISTANCE ON TEST DATA SET: 0.12897397230351487 ± 0.004770875603606588\n",
      "GEOMETRICAL DISTANCE ON TEST DATA SET: inf ± nan\n"
     ]
    }
   ],
   "source": [
    "!bash ./1_Paralleled_ESN_Evaluate_Tuned_Model.sh \"evaluate_tuned_model\" 3000 1 1 4 \"grid_search.json\" "
   ]
  },
  {
   "cell_type": "code",
   "execution_count": 51,
   "metadata": {},
   "outputs": [
    {
     "name": "stdout",
     "output_type": "stream",
     "text": [
      "Grid Search Progress:   0%|                                               | 0/25 [00:00<?, ?trial/s][tuf-4090:832887] shmem: mmap: an error occurred while determining whether or not /tmp/ompi.tuf-4090.1000/jf.0/2638479360/shared_mem_cuda_pool.tuf-4090 could be created.\n",
      "[tuf-4090:832887] create_and_attach: unable to create shared memory BTL coordinating structure :: size 134217728 \n",
      "Grid Search Progress: 100%|██████████| 25/25 [53:45<00:00, 129.01s/trial, Current Best Loss=0.14042]\n",
      "{'radius': 0.4, 'sigma_input': 0.1}\n"
     ]
    }
   ],
   "source": [
    "!bash ./0_Paralleled_ESN_Tune.sh \"tune\" 4000 1 1 5 \"grid_search.json\" "
   ]
  },
  {
   "cell_type": "code",
   "execution_count": 52,
   "metadata": {},
   "outputs": [
    {
     "name": "stdout",
     "output_type": "stream",
     "text": [
      "{'radius': 0.4, 'sigma_input': 0.1}\n",
      "[tuf-4090:843756] shmem: mmap: an error occurred while determining whether or not /tmp/ompi.tuf-4090.1000/jf.0/2315386880/shared_mem_cuda_pool.tuf-4090 could be created.\n",
      "[tuf-4090:843756] create_and_attach: unable to create shared memory BTL coordinating structure :: size 134217728 \n",
      "/home/user/anaconda3/lib/python3.11/site-packages/numpy/core/_methods.py:236: RuntimeWarning: invalid value encountered in subtract\n",
      "  x = asanyarray(arr - arrmean)\n",
      "AVERAGE RMNSE ERROR ON TRAIN DATA SET: 1.3853906614630802 ± 0.0033309459619337923\n",
      "AVG NUMBER OF ACCURATE 0.5 PREDICTIONS ON TRAIN DATA SET: 1.551731719522039 ± 0.09708878540299463\n",
      "AVG NUMBER OF ACCURATE 1 PREDICTIONS ON TRAIN DATA SET: 2.507790983267546 ± 0.1294168230301746\n",
      "POWER SPECTRUM MEAN ERROR ON TRAIN DATA SET: 0.560620529336647 ± 0.4831529835127242\n",
      "TEMPORAL DISTANCE ON TRAIN DATA SET: 0.1242468530531144 ± 0.0011466324405597513\n",
      "GEOMETRICAL DISTANCE ON TRAIN DATA SET: inf ± nan\n",
      "\n",
      "\n",
      "AVERAGE RMNSE ERROR ON TEST DATA SET: 1.3815562747488905 ± 0.0028272969828506966\n",
      "AVG NUMBER OF ACCURATE 0.5 PREDICTIONS ON TEST DATA SET: 1.4650161299665903 ± 0.09730610944852937\n",
      "AVG NUMBER OF ACCURATE 1 PREDICTIONS ON TEST DATA SET: 2.63905770140194 ± 0.2107931262271132\n",
      "POWER SPECTRUM MEAN ERROR ON TEST DATA SET: 0.30682376894633256 ± 0.18731220512715777\n",
      "TEMPORAL DISTANCE ON TEST DATA SET: 0.12555260211619518 ± 0.0008963512481793966\n",
      "GEOMETRICAL DISTANCE ON TEST DATA SET: inf ± nan\n"
     ]
    }
   ],
   "source": [
    "!bash ./1_Paralleled_ESN_Evaluate_Tuned_Model.sh \"evaluate_tuned_model\" 4000 1 1 5 \"grid_search.json\" "
   ]
  },
  {
   "cell_type": "code",
   "execution_count": 53,
   "metadata": {},
   "outputs": [
    {
     "name": "stdout",
     "output_type": "stream",
     "text": [
      "Grid Search Progress:   0%|                                               | 0/25 [00:00<?, ?trial/s][tuf-4090:845346] shmem: mmap: an error occurred while determining whether or not /tmp/ompi.tuf-4090.1000/jf.0/333185024/shared_mem_cuda_pool.tuf-4090 could be created.\n",
      "[tuf-4090:845346] create_and_attach: unable to create shared memory BTL coordinating structure :: size 134217728 \n",
      "Grid Search Progress: 100%|████████| 25/25 [1:01:03<00:00, 146.55s/trial, Current Best Loss=0.14091]\n",
      "{'radius': 0.7, 'sigma_input': 0.1}\n"
     ]
    }
   ],
   "source": [
    "!bash ./0_Paralleled_ESN_Tune.sh \"tune\" 5000 1 1 6 \"grid_search.json\" "
   ]
  },
  {
   "cell_type": "code",
   "execution_count": 54,
   "metadata": {},
   "outputs": [
    {
     "name": "stdout",
     "output_type": "stream",
     "text": [
      "{'radius': 0.7, 'sigma_input': 0.1}\n",
      "[tuf-4090:856144] shmem: mmap: an error occurred while determining whether or not /tmp/ompi.tuf-4090.1000/jf.0/2996502528/shared_mem_cuda_pool.tuf-4090 could be created.\n",
      "[tuf-4090:856144] create_and_attach: unable to create shared memory BTL coordinating structure :: size 134217728 \n",
      "/home/user/anaconda3/lib/python3.11/site-packages/numpy/core/_methods.py:236: RuntimeWarning: invalid value encountered in subtract\n",
      "  x = asanyarray(arr - arrmean)\n",
      "AVERAGE RMNSE ERROR ON TRAIN DATA SET: 1.382397567973825 ± 0.0018806537970963743\n",
      "AVG NUMBER OF ACCURATE 0.5 PREDICTIONS ON TRAIN DATA SET: 1.7943762591037984 ± 0.06405212925141297\n",
      "AVG NUMBER OF ACCURATE 1 PREDICTIONS ON TRAIN DATA SET: 2.820842217121389 ± 0.11303491843640155\n",
      "POWER SPECTRUM MEAN ERROR ON TRAIN DATA SET: 0.5749193837503852 ± 0.38593358433516517\n",
      "TEMPORAL DISTANCE ON TRAIN DATA SET: 0.12370166285668475 ± 0.0017581714444430349\n",
      "GEOMETRICAL DISTANCE ON TRAIN DATA SET: inf ± nan\n",
      "\n",
      "\n",
      "AVERAGE RMNSE ERROR ON TEST DATA SET: 1.3796066088347159 ± 0.0025337147904725224\n",
      "AVG NUMBER OF ACCURATE 0.5 PREDICTIONS ON TEST DATA SET: 1.7583773561002753 ± 0.21086629978517424\n",
      "AVG NUMBER OF ACCURATE 1 PREDICTIONS ON TEST DATA SET: 2.8779233506131643 ± 0.2666314124294865\n",
      "POWER SPECTRUM MEAN ERROR ON TEST DATA SET: 0.4708697136813922 ± 0.34188502362476014\n",
      "TEMPORAL DISTANCE ON TEST DATA SET: 0.12492406880324518 ± 0.0007093625835856682\n",
      "GEOMETRICAL DISTANCE ON TEST DATA SET: inf ± nan\n"
     ]
    }
   ],
   "source": [
    "!bash ./1_Paralleled_ESN_Evaluate_Tuned_Model.sh \"evaluate_tuned_model\" 5000 1 1 6 \"grid_search.json\" "
   ]
  },
  {
   "cell_type": "code",
   "execution_count": 63,
   "metadata": {},
   "outputs": [
    {
     "name": "stdout",
     "output_type": "stream",
     "text": [
      "Grid Search Progress:   0%|                                               | 0/25 [00:00<?, ?trial/s][tuf-4090:864081] shmem: mmap: an error occurred while determining whether or not /tmp/ompi.tuf-4090.1000/jf.0/2959278080/shared_mem_cuda_pool.tuf-4090 could be created.\n",
      "[tuf-4090:864081] create_and_attach: unable to create shared memory BTL coordinating structure :: size 134217728 \n",
      "Grid Search Progress: 100%|████████| 25/25 [1:06:57<00:00, 160.72s/trial, Current Best Loss=0.14087]\n",
      "{'radius': 0.7, 'sigma_input': 0.1}\n"
     ]
    }
   ],
   "source": [
    "!bash ./0_Paralleled_ESN_Tune.sh \"tune\" 6000 1 1 7 \"grid_search.json\" "
   ]
  },
  {
   "cell_type": "code",
   "execution_count": 64,
   "metadata": {},
   "outputs": [
    {
     "name": "stdout",
     "output_type": "stream",
     "text": [
      "{'radius': 0.7, 'sigma_input': 0.1}\n",
      "[tuf-4090:874045] shmem: mmap: an error occurred while determining whether or not /tmp/ompi.tuf-4090.1000/jf.0/2778136576/shared_mem_cuda_pool.tuf-4090 could be created.\n",
      "[tuf-4090:874045] create_and_attach: unable to create shared memory BTL coordinating structure :: size 134217728 \n",
      "/home/user/anaconda3/lib/python3.11/site-packages/numpy/core/_methods.py:236: RuntimeWarning: invalid value encountered in subtract\n",
      "  x = asanyarray(arr - arrmean)\n",
      "AVERAGE RMNSE ERROR ON TRAIN DATA SET: 1.3770134192904426 ± 0.00474706891041704\n",
      "AVG NUMBER OF ACCURATE 0.5 PREDICTIONS ON TRAIN DATA SET: 2.1619230698801033 ± 0.10818170410605045\n",
      "AVG NUMBER OF ACCURATE 1 PREDICTIONS ON TRAIN DATA SET: 3.1792401354216606 ± 0.253854712597053\n",
      "POWER SPECTRUM MEAN ERROR ON TRAIN DATA SET: 0.7165565233436879 ± 0.3346204838317891\n",
      "TEMPORAL DISTANCE ON TRAIN DATA SET: 0.12493876757755717 ± 0.0012811997628263659\n",
      "GEOMETRICAL DISTANCE ON TRAIN DATA SET: inf ± nan\n",
      "\n",
      "\n",
      "AVERAGE RMNSE ERROR ON TEST DATA SET: 1.37431780619293 ± 0.003422289983048344\n",
      "AVG NUMBER OF ACCURATE 0.5 PREDICTIONS ON TEST DATA SET: 2.1770386313622456 ± 0.14038574591822736\n",
      "AVG NUMBER OF ACCURATE 1 PREDICTIONS ON TEST DATA SET: 3.252033497296188 ± 0.16126804903604322\n",
      "POWER SPECTRUM MEAN ERROR ON TEST DATA SET: 0.35344951718595646 ± 0.215759638874926\n",
      "TEMPORAL DISTANCE ON TEST DATA SET: 0.12580874386486945 ± 0.001303580021847925\n",
      "GEOMETRICAL DISTANCE ON TEST DATA SET: inf ± nan\n"
     ]
    }
   ],
   "source": [
    "!bash ./1_Paralleled_ESN_Evaluate_Tuned_Model.sh \"evaluate_tuned_model\" 6000 1 1 7 \"grid_search.json\" "
   ]
  },
  {
   "cell_type": "code",
   "execution_count": null,
   "metadata": {},
   "outputs": [],
   "source": []
  }
 ],
 "metadata": {
  "kernelspec": {
   "display_name": "Python 3 (ipykernel)",
   "language": "python",
   "name": "python3"
  },
  "language_info": {
   "codemirror_mode": {
    "name": "ipython",
    "version": 3
   },
   "file_extension": ".py",
   "mimetype": "text/x-python",
   "name": "python",
   "nbconvert_exporter": "python",
   "pygments_lexer": "ipython3",
   "version": "3.11.8"
  }
 },
 "nbformat": 4,
 "nbformat_minor": 4
}
