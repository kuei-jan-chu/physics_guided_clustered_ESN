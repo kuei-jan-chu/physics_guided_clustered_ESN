{
 "cells": [
  {
   "cell_type": "markdown",
   "metadata": {
    "editable": true,
    "slideshow": {
     "slide_type": ""
    },
    "tags": []
   },
   "source": [
    "# PGClustered ESN"
   ]
  },
  {
   "cell_type": "code",
   "execution_count": 1,
   "metadata": {},
   "outputs": [
    {
     "name": "stdout",
     "output_type": "stream",
     "text": [
      "Grid Search Progress:   4%|▍           | 1/25 [00:29<11:37, 29.05s/trial, Current Best Loss=0.32136]/home/user/kuei_jan_CHU/PGClustered_ESN/Methods/./Utils/global_utils.py:274: RuntimeWarning: divide by zero encountered in log10\n",
      "  s_dbfs = 20 * np.log10(s_mag)\n",
      "Grid Search Progress:  16%|█▉          | 4/25 [01:55<10:04, 28.79s/trial, Current Best Loss=0.32136]/home/user/kuei_jan_CHU/PGClustered_ESN/Methods/./Utils/global_utils.py:309: RuntimeWarning: invalid value encountered in divide\n",
      "  trajectory = (trajectory-trajectory.mean())/trajectory.std()\n",
      "Grid Search Progress: 100%|███████████| 25/25 [11:29<00:00, 27.60s/trial, Current Best Loss=0.29715]\n",
      "{'radius': 0.9, 'sigma_input': 0.1}\n"
     ]
    }
   ],
   "source": [
    "!bash ./0_PGClustered_ESN_Tune.sh \"tune\" 256  0 \"grid_search.json\" "
   ]
  },
  {
   "cell_type": "code",
   "execution_count": 2,
   "metadata": {},
   "outputs": [
    {
     "name": "stdout",
     "output_type": "stream",
     "text": [
      "{'radius': 0.9, 'sigma_input': 0.1}\n",
      "/home/user/kuei_jan_CHU/PGClustered_ESN/Methods/./Utils/global_utils.py:274: RuntimeWarning: divide by zero encountered in log10\n",
      "  s_dbfs = 20 * np.log10(s_mag)\n",
      "/home/user/anaconda3/lib/python3.11/site-packages/numpy/core/_methods.py:236: RuntimeWarning: invalid value encountered in subtract\n",
      "  x = asanyarray(arr - arrmean)\n",
      "AVERAGE RMNSE ERROR ON TRAIN DATA SET: 2.5948537161632803 ± 0.34292749538005446\n",
      "AVG NUMBER OF ACCURATE 0.5 PREDICTIONS ON TRAIN DATA SET: 0.20713959985171537 ± 0.013614569588805256\n",
      "AVG NUMBER OF ACCURATE 1 PREDICTIONS ON TRAIN DATA SET: 0.3915914012530786 ± 0.030221646392290313\n",
      "POWER SPECTRUM MEAN ERROR ON TRAIN DATA SET: inf ± nan\n",
      "TEMPORAL DISTANCE ON TRAIN DATA SET: 0.32998772778634006 ± 0.08031778349609262\n",
      "GEOMETRICAL DISTANCE ON TRAIN DATA SET: inf ± nan\n",
      "\n",
      "\n",
      "AVERAGE RMNSE ERROR ON TEST DATA SET: 2.6096854519941375 ± 0.34448561385765214\n",
      "AVG NUMBER OF ACCURATE 0.5 PREDICTIONS ON TEST DATA SET: 0.2073664778362189 ± 0.016366695381529732\n",
      "AVG NUMBER OF ACCURATE 1 PREDICTIONS ON TEST DATA SET: 0.39862461877268773 ± 0.030116717208533733\n",
      "POWER SPECTRUM MEAN ERROR ON TEST DATA SET: inf ± nan\n",
      "TEMPORAL DISTANCE ON TEST DATA SET: 0.3218828602905107 ± 0.07889299277463753\n",
      "GEOMETRICAL DISTANCE ON TEST DATA SET: inf ± nan\n"
     ]
    }
   ],
   "source": [
    "!bash ./1_PGClustered_ESN_Evaluate_Tuned_Model.sh \"evaluate_tuned_model\" 256  0 \"grid_search.json\" "
   ]
  },
  {
   "cell_type": "code",
   "execution_count": 3,
   "metadata": {},
   "outputs": [
    {
     "name": "stdout",
     "output_type": "stream",
     "text": [
      "Grid Search Progress:   4%|▍           | 1/25 [00:29<11:57, 29.89s/trial, Current Best Loss=0.46350]/home/user/kuei_jan_CHU/PGClustered_ESN/Methods/./Utils/global_utils.py:274: RuntimeWarning: divide by zero encountered in log10\n",
      "  s_dbfs = 20 * np.log10(s_mag)\n",
      "Grid Search Progress:  32%|███▊        | 8/25 [03:52<08:12, 28.99s/trial, Current Best Loss=0.40012]/home/user/kuei_jan_CHU/PGClustered_ESN/Methods/./Utils/global_utils.py:309: RuntimeWarning: invalid value encountered in divide\n",
      "  trajectory = (trajectory-trajectory.mean())/trajectory.std()\n",
      "Grid Search Progress: 100%|███████████| 25/25 [12:05<00:00, 29.04s/trial, Current Best Loss=0.34736]\n",
      "{'radius': 0.7, 'sigma_input': 0.1}\n"
     ]
    }
   ],
   "source": [
    "!bash ./0_PGClustered_ESN_Tune.sh \"tune\" 500  1 \"grid_search.json\" "
   ]
  },
  {
   "cell_type": "code",
   "execution_count": 4,
   "metadata": {},
   "outputs": [
    {
     "name": "stdout",
     "output_type": "stream",
     "text": [
      "{'radius': 0.7, 'sigma_input': 0.1}\n",
      "/home/user/kuei_jan_CHU/PGClustered_ESN/Methods/./Utils/global_utils.py:274: RuntimeWarning: divide by zero encountered in log10\n",
      "  s_dbfs = 20 * np.log10(s_mag)\n",
      "/home/user/anaconda3/lib/python3.11/site-packages/numpy/core/_methods.py:236: RuntimeWarning: invalid value encountered in subtract\n",
      "  x = asanyarray(arr - arrmean)\n",
      "AVERAGE RMNSE ERROR ON TRAIN DATA SET: 2.232335981843595 ± 0.47116388052526215\n",
      "AVG NUMBER OF ACCURATE 0.5 PREDICTIONS ON TRAIN DATA SET: 0.44354645970438505 ± 0.02276141436322022\n",
      "AVG NUMBER OF ACCURATE 1 PREDICTIONS ON TRAIN DATA SET: 0.750966128706657 ± 0.05395690816615263\n",
      "POWER SPECTRUM MEAN ERROR ON TRAIN DATA SET: inf ± nan\n",
      "TEMPORAL DISTANCE ON TRAIN DATA SET: 0.3434426930647558 ± 0.18659007413767\n",
      "GEOMETRICAL DISTANCE ON TRAIN DATA SET: inf ± nan\n",
      "\n",
      "\n",
      "AVERAGE RMNSE ERROR ON TEST DATA SET: 2.227593268203864 ± 0.48249521918133315\n",
      "AVG NUMBER OF ACCURATE 0.5 PREDICTIONS ON TEST DATA SET: 0.4287993907116562 ± 0.03323588244701923\n",
      "AVG NUMBER OF ACCURATE 1 PREDICTIONS ON TEST DATA SET: 0.7303202321168367 ± 0.06093226342695913\n",
      "POWER SPECTRUM MEAN ERROR ON TEST DATA SET: 6.083458668731229 ± 4.01321355813011\n",
      "TEMPORAL DISTANCE ON TEST DATA SET: 0.34892102820304943 ± 0.20630559253889\n",
      "GEOMETRICAL DISTANCE ON TEST DATA SET: inf ± nan\n"
     ]
    }
   ],
   "source": [
    "!bash ./1_PGClustered_ESN_Evaluate_Tuned_Model.sh \"evaluate_tuned_model\" 500  1 \"grid_search.json\" "
   ]
  },
  {
   "cell_type": "code",
   "execution_count": 5,
   "metadata": {},
   "outputs": [
    {
     "name": "stdout",
     "output_type": "stream",
     "text": [
      "Grid Search Progress:   4%|▍           | 1/25 [00:35<14:09, 35.40s/trial, Current Best Loss=0.14532]/home/user/kuei_jan_CHU/PGClustered_ESN/Methods/./Utils/global_utils.py:274: RuntimeWarning: divide by zero encountered in log10\n",
      "  s_dbfs = 20 * np.log10(s_mag)\n",
      "Grid Search Progress: 100%|███████████| 25/25 [13:50<00:00, 33.22s/trial, Current Best Loss=0.13666]\n",
      "{'radius': 0.4, 'sigma_input': 0.1}\n"
     ]
    }
   ],
   "source": [
    "!bash ./0_PGClustered_ESN_Tune.sh \"tune\" 1000  2 \"grid_search.json\" "
   ]
  },
  {
   "cell_type": "code",
   "execution_count": 6,
   "metadata": {},
   "outputs": [
    {
     "name": "stdout",
     "output_type": "stream",
     "text": [
      "{'radius': 0.4, 'sigma_input': 0.1}\n",
      "/home/user/anaconda3/lib/python3.11/site-packages/numpy/core/_methods.py:236: RuntimeWarning: invalid value encountered in subtract\n",
      "  x = asanyarray(arr - arrmean)\n",
      "AVERAGE RMNSE ERROR ON TRAIN DATA SET: 1.3982068472317146 ± 0.004615053308251733\n",
      "AVG NUMBER OF ACCURATE 0.5 PREDICTIONS ON TRAIN DATA SET: 1.3394876205087924 ± 0.03916784096781874\n",
      "AVG NUMBER OF ACCURATE 1 PREDICTIONS ON TRAIN DATA SET: 2.2388319510807526 ± 0.17312380966569726\n",
      "POWER SPECTRUM MEAN ERROR ON TRAIN DATA SET: 0.4247039743828623 ± 0.21077013118685106\n",
      "TEMPORAL DISTANCE ON TRAIN DATA SET: 0.12592873011416467 ± 0.0016054488684570122\n",
      "GEOMETRICAL DISTANCE ON TRAIN DATA SET: inf ± nan\n",
      "\n",
      "\n",
      "AVERAGE RMNSE ERROR ON TEST DATA SET: 1.397622282379337 ± 0.0035642647221864137\n",
      "AVG NUMBER OF ACCURATE 0.5 PREDICTIONS ON TEST DATA SET: 1.2888938299645072 ± 0.11347732815346914\n",
      "AVG NUMBER OF ACCURATE 1 PREDICTIONS ON TEST DATA SET: 2.1138221816193123 ± 0.1857798241387851\n",
      "POWER SPECTRUM MEAN ERROR ON TEST DATA SET: 0.44352150056781825 ± 0.35251609637531045\n",
      "TEMPORAL DISTANCE ON TEST DATA SET: 0.12336609441551256 ± 0.000815147532207322\n",
      "GEOMETRICAL DISTANCE ON TEST DATA SET: inf ± nan\n"
     ]
    }
   ],
   "source": [
    "!bash ./1_PGClustered_ESN_Evaluate_Tuned_Model.sh \"evaluate_tuned_model\" 1000  2 \"grid_search.json\" "
   ]
  },
  {
   "cell_type": "code",
   "execution_count": 7,
   "metadata": {},
   "outputs": [
    {
     "name": "stdout",
     "output_type": "stream",
     "text": [
      "Grid Search Progress:   4%|▍           | 1/25 [01:02<24:50, 62.11s/trial, Current Best Loss=0.13466]/home/user/kuei_jan_CHU/PGClustered_ESN/Methods/./Utils/global_utils.py:274: RuntimeWarning: divide by zero encountered in log10\n",
      "  s_dbfs = 20 * np.log10(s_mag)\n",
      "Grid Search Progress: 100%|███████████| 25/25 [23:36<00:00, 56.65s/trial, Current Best Loss=0.13466]\n",
      "{'radius': 0.1, 'sigma_input': 0.1}\n"
     ]
    }
   ],
   "source": [
    "!bash ./0_PGClustered_ESN_Tune.sh \"tune\" 2000  3 \"grid_search.json\" "
   ]
  },
  {
   "cell_type": "code",
   "execution_count": 8,
   "metadata": {},
   "outputs": [
    {
     "name": "stdout",
     "output_type": "stream",
     "text": [
      "{'radius': 0.1, 'sigma_input': 0.1}\n",
      "/home/user/anaconda3/lib/python3.11/site-packages/numpy/core/_methods.py:236: RuntimeWarning: invalid value encountered in subtract\n",
      "  x = asanyarray(arr - arrmean)\n",
      "AVERAGE RMNSE ERROR ON TRAIN DATA SET: 1.3827513654017491 ± 0.0023542072287699874\n",
      "AVG NUMBER OF ACCURATE 0.5 PREDICTIONS ON TRAIN DATA SET: 2.4595842300026796 ± 0.08652621876581032\n",
      "AVG NUMBER OF ACCURATE 1 PREDICTIONS ON TRAIN DATA SET: 3.5177431497271052 ± 0.10138298565450969\n",
      "POWER SPECTRUM MEAN ERROR ON TRAIN DATA SET: 0.48990749354585816 ± 0.24126834490251337\n",
      "TEMPORAL DISTANCE ON TRAIN DATA SET: 0.12496165616358561 ± 0.0016770926538331736\n",
      "GEOMETRICAL DISTANCE ON TRAIN DATA SET: inf ± nan\n",
      "\n",
      "\n",
      "AVERAGE RMNSE ERROR ON TEST DATA SET: 1.3832966502049167 ± 0.002032062382468365\n",
      "AVG NUMBER OF ACCURATE 0.5 PREDICTIONS ON TEST DATA SET: 2.2640154073606436 ± 0.10358390118454128\n",
      "AVG NUMBER OF ACCURATE 1 PREDICTIONS ON TEST DATA SET: 3.4730481867799115 ± 0.1384059842267756\n",
      "POWER SPECTRUM MEAN ERROR ON TEST DATA SET: 0.4661631478969464 ± 0.30481095457800134\n",
      "TEMPORAL DISTANCE ON TEST DATA SET: 0.12229288572985468 ± 0.0014068986756355733\n",
      "GEOMETRICAL DISTANCE ON TEST DATA SET: inf ± nan\n"
     ]
    }
   ],
   "source": [
    "!bash ./1_PGClustered_ESN_Evaluate_Tuned_Model.sh \"evaluate_tuned_model\" 2000  3 \"grid_search.json\" "
   ]
  },
  {
   "cell_type": "code",
   "execution_count": 9,
   "metadata": {},
   "outputs": [
    {
     "name": "stdout",
     "output_type": "stream",
     "text": [
      "Grid Search Progress:   8%|▉          | 2/25 [04:23<49:58, 130.36s/trial, Current Best Loss=0.13337]/home/user/kuei_jan_CHU/PGClustered_ESN/Methods/./Utils/global_utils.py:274: RuntimeWarning: divide by zero encountered in log10\n",
      "  s_dbfs = 20 * np.log10(s_mag)\n",
      "Grid Search Progress: 100%|██████████| 25/25 [51:10<00:00, 122.82s/trial, Current Best Loss=0.13337]\n",
      "{'radius': 0.1, 'sigma_input': 0.1}\n"
     ]
    }
   ],
   "source": [
    "!bash ./0_PGClustered_ESN_Tune.sh \"tune\" 3000  4 \"grid_search.json\" "
   ]
  },
  {
   "cell_type": "code",
   "execution_count": 10,
   "metadata": {},
   "outputs": [
    {
     "name": "stdout",
     "output_type": "stream",
     "text": [
      "{'radius': 0.1, 'sigma_input': 0.1}\n",
      "/home/user/anaconda3/lib/python3.11/site-packages/numpy/core/_methods.py:236: RuntimeWarning: invalid value encountered in subtract\n",
      "  x = asanyarray(arr - arrmean)\n",
      "AVERAGE RMNSE ERROR ON TRAIN DATA SET: 1.3756479506782398 ± 0.0022781674280932004\n",
      "AVG NUMBER OF ACCURATE 0.5 PREDICTIONS ON TRAIN DATA SET: 3.041072504285206 ± 0.18047911939353434\n",
      "AVG NUMBER OF ACCURATE 1 PREDICTIONS ON TRAIN DATA SET: 4.201099639051714 ± 0.16171499242748089\n",
      "POWER SPECTRUM MEAN ERROR ON TRAIN DATA SET: 0.44036657538085383 ± 0.3853976357620504\n",
      "TEMPORAL DISTANCE ON TRAIN DATA SET: 0.12576497834651768 ± 0.00123777789588609\n",
      "GEOMETRICAL DISTANCE ON TRAIN DATA SET: inf ± nan\n",
      "\n",
      "\n",
      "AVERAGE RMNSE ERROR ON TEST DATA SET: 1.3801879064645313 ± 0.004484302461067995\n",
      "AVG NUMBER OF ACCURATE 0.5 PREDICTIONS ON TEST DATA SET: 2.7767596523386033 ± 0.214577762642201\n",
      "AVG NUMBER OF ACCURATE 1 PREDICTIONS ON TEST DATA SET: 3.930207325554508 ± 0.19559211441238097\n",
      "POWER SPECTRUM MEAN ERROR ON TEST DATA SET: 0.3527605365209289 ± 0.15646687454933123\n",
      "TEMPORAL DISTANCE ON TEST DATA SET: 0.12328562928262288 ± 0.0012104773149560026\n",
      "GEOMETRICAL DISTANCE ON TEST DATA SET: inf ± nan\n"
     ]
    }
   ],
   "source": [
    "!bash ./1_PGClustered_ESN_Evaluate_Tuned_Model.sh \"evaluate_tuned_model\" 3000  4 \"grid_search.json\" "
   ]
  },
  {
   "cell_type": "code",
   "execution_count": 41,
   "metadata": {},
   "outputs": [
    {
     "name": "stdout",
     "output_type": "stream",
     "text": [
      "Grid Search Progress: 100%|████████| 25/25 [1:37:09<00:00, 233.19s/trial, Current Best Loss=0.13363]\n",
      "{'radius': 0.7, 'sigma_input': 0.1}\n"
     ]
    }
   ],
   "source": [
    "!bash ./0_PGClustered_ESN_Tune.sh \"tune\" 4000  5 \"grid_search.json\" "
   ]
  },
  {
   "cell_type": "code",
   "execution_count": 42,
   "metadata": {},
   "outputs": [
    {
     "name": "stdout",
     "output_type": "stream",
     "text": [
      "{'radius': 0.7, 'sigma_input': 0.1}\n",
      "/home/user/anaconda3/lib/python3.11/site-packages/numpy/core/_methods.py:236: RuntimeWarning: invalid value encountered in subtract\n",
      "  x = asanyarray(arr - arrmean)\n",
      "AVERAGE RMNSE ERROR ON TRAIN DATA SET: 1.374093991307801 ± 0.0029159305942299124\n",
      "AVG NUMBER OF ACCURATE 0.5 PREDICTIONS ON TRAIN DATA SET: 3.274756828323833 ± 0.17028307440765295\n",
      "AVG NUMBER OF ACCURATE 1 PREDICTIONS ON TRAIN DATA SET: 4.439094644795907 ± 0.20371874395023043\n",
      "POWER SPECTRUM MEAN ERROR ON TRAIN DATA SET: 0.353248546530673 ± 0.15671217339001578\n",
      "TEMPORAL DISTANCE ON TRAIN DATA SET: 0.12519484586163618 ± 0.0011439265061731665\n",
      "GEOMETRICAL DISTANCE ON TRAIN DATA SET: inf ± nan\n",
      "\n",
      "\n",
      "AVERAGE RMNSE ERROR ON TEST DATA SET: 1.3766258925206931 ± 0.0041483463220195515\n",
      "AVG NUMBER OF ACCURATE 0.5 PREDICTIONS ON TEST DATA SET: 2.933078583661529 ± 0.18269468564410443\n",
      "AVG NUMBER OF ACCURATE 1 PREDICTIONS ON TEST DATA SET: 4.056805240907473 ± 0.20118960949735054\n",
      "POWER SPECTRUM MEAN ERROR ON TEST DATA SET: 0.4965106785671862 ± 0.284635340650481\n",
      "TEMPORAL DISTANCE ON TEST DATA SET: 0.12362100102291451 ± 0.001579710795465741\n",
      "GEOMETRICAL DISTANCE ON TEST DATA SET: inf ± nan\n"
     ]
    }
   ],
   "source": [
    "!bash ./1_PGClustered_ESN_Evaluate_Tuned_Model.sh \"evaluate_tuned_model\" 4000  5 \"grid_search.json\" "
   ]
  },
  {
   "cell_type": "code",
   "execution_count": 43,
   "metadata": {},
   "outputs": [
    {
     "name": "stdout",
     "output_type": "stream",
     "text": [
      "Grid Search Progress: 100%|████████| 25/25 [3:02:21<00:00, 437.65s/trial, Current Best Loss=0.13466]\n",
      "{'radius': 0.4, 'sigma_input': 0.1}\n"
     ]
    }
   ],
   "source": [
    "!bash ./0_PGClustered_ESN_Tune.sh \"tune\" 5000  6 \"grid_search.json\" "
   ]
  },
  {
   "cell_type": "code",
   "execution_count": 44,
   "metadata": {},
   "outputs": [
    {
     "name": "stdout",
     "output_type": "stream",
     "text": [
      "{'radius': 0.4, 'sigma_input': 0.1}\n",
      "/home/user/anaconda3/lib/python3.11/site-packages/numpy/core/_methods.py:236: RuntimeWarning: invalid value encountered in subtract\n",
      "  x = asanyarray(arr - arrmean)\n",
      "AVERAGE RMNSE ERROR ON TRAIN DATA SET: 1.3729545752457954 ± 0.003392767159019418\n",
      "AVG NUMBER OF ACCURATE 0.5 PREDICTIONS ON TRAIN DATA SET: 3.4673762371673233 ± 0.18383291830219534\n",
      "AVG NUMBER OF ACCURATE 1 PREDICTIONS ON TRAIN DATA SET: 4.660527557671344 ± 0.229060938978792\n",
      "POWER SPECTRUM MEAN ERROR ON TRAIN DATA SET: 0.3612895911631716 ± 0.2007946432156752\n",
      "TEMPORAL DISTANCE ON TRAIN DATA SET: 0.1254434871187582 ± 0.001371917852567065\n",
      "GEOMETRICAL DISTANCE ON TRAIN DATA SET: inf ± nan\n",
      "\n",
      "\n",
      "AVERAGE RMNSE ERROR ON TEST DATA SET: 1.372858339057652 ± 0.004012071013494326\n",
      "AVG NUMBER OF ACCURATE 0.5 PREDICTIONS ON TEST DATA SET: 3.263186051114154 ± 0.2005890092697716\n",
      "AVG NUMBER OF ACCURATE 1 PREDICTIONS ON TEST DATA SET: 4.387593342313609 ± 0.21743730842932607\n",
      "POWER SPECTRUM MEAN ERROR ON TEST DATA SET: 0.4664869101685124 ± 0.2742520804789392\n",
      "TEMPORAL DISTANCE ON TEST DATA SET: 0.12349747934793935 ± 0.0013213289341495868\n",
      "GEOMETRICAL DISTANCE ON TEST DATA SET: inf ± nan\n"
     ]
    }
   ],
   "source": [
    "!bash ./1_PGClustered_ESN_Evaluate_Tuned_Model.sh \"evaluate_tuned_model\" 5000  6 \"grid_search.json\" "
   ]
  },
  {
   "cell_type": "code",
   "execution_count": 57,
   "metadata": {},
   "outputs": [
    {
     "name": "stdout",
     "output_type": "stream",
     "text": [
      "Grid Search Progress: 100%|████████| 25/25 [4:34:12<00:00, 658.11s/trial, Current Best Loss=0.13382]\n",
      "{'radius': 0.1, 'sigma_input': 0.1}\n"
     ]
    }
   ],
   "source": [
    "!bash ./0_PGClustered_ESN_Tune.sh \"tune\" 6000  7 \"grid_search.json\" "
   ]
  },
  {
   "cell_type": "code",
   "execution_count": 58,
   "metadata": {},
   "outputs": [
    {
     "name": "stdout",
     "output_type": "stream",
     "text": [
      "{'radius': 0.1, 'sigma_input': 0.1}\n",
      "/home/user/anaconda3/lib/python3.11/site-packages/numpy/core/_methods.py:236: RuntimeWarning: invalid value encountered in subtract\n",
      "  x = asanyarray(arr - arrmean)\n",
      "AVERAGE RMNSE ERROR ON TRAIN DATA SET: 1.3710805279019829 ± 0.005130308221868538\n",
      "AVG NUMBER OF ACCURATE 0.5 PREDICTIONS ON TRAIN DATA SET: 3.6314090199633697 ± 0.23248341061649058\n",
      "AVG NUMBER OF ACCURATE 1 PREDICTIONS ON TRAIN DATA SET: 4.810947661397179 ± 0.23378617666524582\n",
      "POWER SPECTRUM MEAN ERROR ON TRAIN DATA SET: 0.3613745184900895 ± 0.2398664232196382\n",
      "TEMPORAL DISTANCE ON TRAIN DATA SET: 0.12589117799584165 ± 0.001885255008217582\n",
      "GEOMETRICAL DISTANCE ON TRAIN DATA SET: inf ± nan\n",
      "\n",
      "\n",
      "AVERAGE RMNSE ERROR ON TEST DATA SET: 1.3740198634734202 ± 0.0022073500486294684\n",
      "AVG NUMBER OF ACCURATE 0.5 PREDICTIONS ON TEST DATA SET: 3.3530297329775487 ± 0.1819398766550296\n",
      "AVG NUMBER OF ACCURATE 1 PREDICTIONS ON TEST DATA SET: 4.525535156891749 ± 0.1824134268385761\n",
      "POWER SPECTRUM MEAN ERROR ON TEST DATA SET: 0.483624079571385 ± 0.1402671777445379\n",
      "TEMPORAL DISTANCE ON TEST DATA SET: 0.1239771748574674 ± 0.0015280228664151553\n",
      "GEOMETRICAL DISTANCE ON TEST DATA SET: inf ± nan\n"
     ]
    }
   ],
   "source": [
    "!bash ./1_PGClustered_ESN_Evaluate_Tuned_Model.sh \"evaluate_tuned_model\" 6000  7 \"grid_search.json\" "
   ]
  },
  {
   "cell_type": "markdown",
   "metadata": {},
   "source": [
    "# Randomly Clustered ESN"
   ]
  },
  {
   "cell_type": "code",
   "execution_count": 11,
   "metadata": {},
   "outputs": [
    {
     "name": "stdout",
     "output_type": "stream",
     "text": [
      "Grid Search Progress:   4%|▍           | 1/25 [00:28<11:13, 28.06s/trial, Current Best Loss=0.34700]/home/user/kuei_jan_CHU/PGClustered_ESN/Methods/./Utils/global_utils.py:274: RuntimeWarning: divide by zero encountered in log10\n",
      "  s_dbfs = 20 * np.log10(s_mag)\n",
      "Grid Search Progress:   8%|▉           | 2/25 [00:55<10:38, 27.75s/trial, Current Best Loss=0.34700]/home/user/kuei_jan_CHU/PGClustered_ESN/Methods/./Utils/global_utils.py:309: RuntimeWarning: invalid value encountered in divide\n",
      "  trajectory = (trajectory-trajectory.mean())/trajectory.std()\n",
      "Grid Search Progress: 100%|███████████| 25/25 [11:27<00:00, 27.50s/trial, Current Best Loss=0.31059]\n",
      "{'radius': 0.7, 'sigma_input': 0.1}\n"
     ]
    }
   ],
   "source": [
    "!bash ./0_Randomly_Clustered_ESN_Tune.sh \"tune\" 256 0 \"grid_search.json\" "
   ]
  },
  {
   "cell_type": "code",
   "execution_count": 12,
   "metadata": {},
   "outputs": [
    {
     "name": "stdout",
     "output_type": "stream",
     "text": [
      "{'radius': 0.7, 'sigma_input': 0.1}\n",
      "/home/user/kuei_jan_CHU/PGClustered_ESN/Methods/./Utils/global_utils.py:274: RuntimeWarning: divide by zero encountered in log10\n",
      "  s_dbfs = 20 * np.log10(s_mag)\n",
      "/home/user/anaconda3/lib/python3.11/site-packages/numpy/core/_methods.py:236: RuntimeWarning: invalid value encountered in subtract\n",
      "  x = asanyarray(arr - arrmean)\n",
      "AVERAGE RMNSE ERROR ON TRAIN DATA SET: 1.996522330910046 ± 0.07654681383943257\n",
      "AVG NUMBER OF ACCURATE 0.5 PREDICTIONS ON TRAIN DATA SET: 0.16879722047062024 ± 0.004887101350647891\n",
      "AVG NUMBER OF ACCURATE 1 PREDICTIONS ON TRAIN DATA SET: 0.38728071954751164 ± 0.011300710192450521\n",
      "POWER SPECTRUM MEAN ERROR ON TRAIN DATA SET: 3.9241509277972058 ± 0.8936221954613841\n",
      "TEMPORAL DISTANCE ON TRAIN DATA SET: 0.3201847607201587 ± 0.01606413772293607\n",
      "GEOMETRICAL DISTANCE ON TRAIN DATA SET: inf ± nan\n",
      "\n",
      "\n",
      "AVERAGE RMNSE ERROR ON TEST DATA SET: 2.0080654078180507 ± 0.10036900260694467\n",
      "AVG NUMBER OF ACCURATE 0.5 PREDICTIONS ON TEST DATA SET: 0.16630156264108148 ± 0.007106027095021879\n",
      "AVG NUMBER OF ACCURATE 1 PREDICTIONS ON TEST DATA SET: 0.39204515722208566 ± 0.018257687755135216\n",
      "POWER SPECTRUM MEAN ERROR ON TEST DATA SET: inf ± nan\n",
      "TEMPORAL DISTANCE ON TEST DATA SET: 0.30948640708466413 ± 0.02741132150384741\n",
      "GEOMETRICAL DISTANCE ON TEST DATA SET: inf ± nan\n"
     ]
    }
   ],
   "source": [
    "!bash ./1_Randomly_Clustered_ESN_Evaluate_Tuned_Model.sh \"evaluate_tuned_model\" 256 0 \"grid_search.json\" "
   ]
  },
  {
   "cell_type": "code",
   "execution_count": 13,
   "metadata": {},
   "outputs": [
    {
     "name": "stdout",
     "output_type": "stream",
     "text": [
      "Grid Search Progress:   4%|▍           | 1/25 [00:29<11:43, 29.30s/trial, Current Best Loss=0.21115]/home/user/kuei_jan_CHU/PGClustered_ESN/Methods/./Utils/global_utils.py:274: RuntimeWarning: divide by zero encountered in log10\n",
      "  s_dbfs = 20 * np.log10(s_mag)\n",
      "Grid Search Progress:   8%|▉           | 2/25 [00:58<11:05, 28.95s/trial, Current Best Loss=0.21115]/home/user/kuei_jan_CHU/PGClustered_ESN/Methods/./Utils/global_utils.py:309: RuntimeWarning: invalid value encountered in divide\n",
      "  trajectory = (trajectory-trajectory.mean())/trajectory.std()\n",
      "Grid Search Progress: 100%|███████████| 25/25 [11:53<00:00, 28.55s/trial, Current Best Loss=0.18011]\n",
      "{'radius': 0.9, 'sigma_input': 0.1}\n"
     ]
    }
   ],
   "source": [
    "!bash ./0_Randomly_Clustered_ESN_Tune.sh \"tune\" 500 1 \"grid_search.json\" "
   ]
  },
  {
   "cell_type": "code",
   "execution_count": 14,
   "metadata": {},
   "outputs": [
    {
     "name": "stdout",
     "output_type": "stream",
     "text": [
      "{'radius': 0.9, 'sigma_input': 0.1}\n",
      "/home/user/anaconda3/lib/python3.11/site-packages/numpy/core/_methods.py:236: RuntimeWarning: invalid value encountered in subtract\n",
      "  x = asanyarray(arr - arrmean)\n",
      "AVERAGE RMNSE ERROR ON TRAIN DATA SET: 1.9389494127915483 ± 0.04568253041116354\n",
      "AVG NUMBER OF ACCURATE 0.5 PREDICTIONS ON TRAIN DATA SET: 0.19579570062653928 ± 0.01004687854661922\n",
      "AVG NUMBER OF ACCURATE 1 PREDICTIONS ON TRAIN DATA SET: 0.4219930511765505 ± 0.016641156053766388\n",
      "POWER SPECTRUM MEAN ERROR ON TRAIN DATA SET: 3.642819441879378 ± 0.6612494902919391\n",
      "TEMPORAL DISTANCE ON TRAIN DATA SET: 0.1851341220832817 ± 0.006966560108315912\n",
      "GEOMETRICAL DISTANCE ON TRAIN DATA SET: inf ± nan\n",
      "\n",
      "\n",
      "AVERAGE RMNSE ERROR ON TEST DATA SET: 1.9383913165437807 ± 0.039613510154487636\n",
      "AVG NUMBER OF ACCURATE 0.5 PREDICTIONS ON TEST DATA SET: 0.18672058124639843 ± 0.005178586288079995\n",
      "AVG NUMBER OF ACCURATE 1 PREDICTIONS ON TEST DATA SET: 0.4011202766022265 ± 0.011692473405055146\n",
      "POWER SPECTRUM MEAN ERROR ON TEST DATA SET: 3.7171734698800565 ± 0.47524484657092375\n",
      "TEMPORAL DISTANCE ON TEST DATA SET: 0.18671675445141492 ± 0.009251772147856198\n",
      "GEOMETRICAL DISTANCE ON TEST DATA SET: inf ± nan\n"
     ]
    }
   ],
   "source": [
    "!bash ./1_Randomly_Clustered_ESN_Evaluate_Tuned_Model.sh \"evaluate_tuned_model\" 500 1 \"grid_search.json\" "
   ]
  },
  {
   "cell_type": "code",
   "execution_count": 15,
   "metadata": {},
   "outputs": [
    {
     "name": "stdout",
     "output_type": "stream",
     "text": [
      "Grid Search Progress:   4%|▍           | 1/25 [00:35<14:07, 35.33s/trial, Current Best Loss=0.14113]/home/user/kuei_jan_CHU/PGClustered_ESN/Methods/./Utils/global_utils.py:274: RuntimeWarning: divide by zero encountered in log10\n",
      "  s_dbfs = 20 * np.log10(s_mag)\n",
      "Grid Search Progress: 100%|███████████| 25/25 [13:47<00:00, 33.10s/trial, Current Best Loss=0.14113]\n",
      "{'radius': 0.1, 'sigma_input': 0.1}\n"
     ]
    }
   ],
   "source": [
    "!bash ./0_Randomly_Clustered_ESN_Tune.sh \"tune\" 1000 2 \"grid_search.json\" "
   ]
  },
  {
   "cell_type": "code",
   "execution_count": 16,
   "metadata": {},
   "outputs": [
    {
     "name": "stdout",
     "output_type": "stream",
     "text": [
      "{'radius': 0.1, 'sigma_input': 0.1}\n",
      "/home/user/anaconda3/lib/python3.11/site-packages/numpy/core/_methods.py:236: RuntimeWarning: invalid value encountered in subtract\n",
      "  x = asanyarray(arr - arrmean)\n",
      "AVERAGE RMNSE ERROR ON TRAIN DATA SET: 1.7246170919289407 ± 0.01681834322822107\n",
      "AVG NUMBER OF ACCURATE 0.5 PREDICTIONS ON TRAIN DATA SET: 0.31218410667684593 ± 0.01912246311099357\n",
      "AVG NUMBER OF ACCURATE 1 PREDICTIONS ON TRAIN DATA SET: 0.6230069454466708 ± 0.039403683447454506\n",
      "POWER SPECTRUM MEAN ERROR ON TRAIN DATA SET: 3.1034887550505594 ± 0.5179655567667906\n",
      "TEMPORAL DISTANCE ON TRAIN DATA SET: 0.12981794063469976 ± 0.001487924590024327\n",
      "GEOMETRICAL DISTANCE ON TRAIN DATA SET: inf ± nan\n",
      "\n",
      "\n",
      "AVERAGE RMNSE ERROR ON TEST DATA SET: 1.7243625996140781 ± 0.01411720203025799\n",
      "AVG NUMBER OF ACCURATE 0.5 PREDICTIONS ON TEST DATA SET: 0.27338797132674364 ± 0.008005289296222429\n",
      "AVG NUMBER OF ACCURATE 1 PREDICTIONS ON TEST DATA SET: 0.5504059904055438 ± 0.03132559798097679\n",
      "POWER SPECTRUM MEAN ERROR ON TEST DATA SET: 2.8057074492763534 ± 0.3339905794686083\n",
      "TEMPORAL DISTANCE ON TEST DATA SET: 0.12781067104709334 ± 0.001283172910470124\n",
      "GEOMETRICAL DISTANCE ON TEST DATA SET: inf ± nan\n"
     ]
    }
   ],
   "source": [
    "!bash ./1_Randomly_Clustered_ESN_Evaluate_Tuned_Model.sh \"evaluate_tuned_model\" 1000 2 \"grid_search.json\" "
   ]
  },
  {
   "cell_type": "code",
   "execution_count": 17,
   "metadata": {},
   "outputs": [
    {
     "name": "stdout",
     "output_type": "stream",
     "text": [
      "Grid Search Progress:   8%|▉           | 2/25 [01:51<21:15, 55.44s/trial, Current Best Loss=0.17977]/home/user/kuei_jan_CHU/PGClustered_ESN/Methods/./Utils/global_utils.py:274: RuntimeWarning: divide by zero encountered in log10\n",
      "  s_dbfs = 20 * np.log10(s_mag)\n",
      "Grid Search Progress: 100%|███████████| 25/25 [22:33<00:00, 54.15s/trial, Current Best Loss=0.17977]\n",
      "{'radius': 0.1, 'sigma_input': 0.1}\n"
     ]
    }
   ],
   "source": [
    "!bash ./0_Randomly_Clustered_ESN_Tune.sh \"tune\" 2000 3 \"grid_search.json\" "
   ]
  },
  {
   "cell_type": "code",
   "execution_count": 18,
   "metadata": {},
   "outputs": [
    {
     "name": "stdout",
     "output_type": "stream",
     "text": [
      "{'radius': 0.1, 'sigma_input': 0.1}\n",
      "/home/user/anaconda3/lib/python3.11/site-packages/numpy/core/_methods.py:236: RuntimeWarning: invalid value encountered in subtract\n",
      "  x = asanyarray(arr - arrmean)\n",
      "AVERAGE RMNSE ERROR ON TRAIN DATA SET: 1.4676694291877515 ± 0.004935784177663976\n",
      "AVG NUMBER OF ACCURATE 0.5 PREDICTIONS ON TRAIN DATA SET: 0.5737744228094066 ± 0.02332433682272247\n",
      "AVG NUMBER OF ACCURATE 1 PREDICTIONS ON TRAIN DATA SET: 1.012329566854714 ± 0.045054563281630766\n",
      "POWER SPECTRUM MEAN ERROR ON TRAIN DATA SET: 1.9294502596149485 ± 0.43852017071435184\n",
      "TEMPORAL DISTANCE ON TRAIN DATA SET: 0.1719630273854501 ± 0.003100811483109588\n",
      "GEOMETRICAL DISTANCE ON TRAIN DATA SET: inf ± nan\n",
      "\n",
      "\n",
      "AVERAGE RMNSE ERROR ON TEST DATA SET: 1.4703671719338407 ± 0.004419300061070524\n",
      "AVG NUMBER OF ACCURATE 0.5 PREDICTIONS ON TEST DATA SET: 0.45829352869711404 ± 0.024498620521954978\n",
      "AVG NUMBER OF ACCURATE 1 PREDICTIONS ON TEST DATA SET: 0.8612288291753686 ± 0.054726055014872856\n",
      "POWER SPECTRUM MEAN ERROR ON TEST DATA SET: 1.744676783238269 ± 0.1682804202174116\n",
      "TEMPORAL DISTANCE ON TEST DATA SET: 0.1684974058663318 ± 0.003442175586449302\n",
      "GEOMETRICAL DISTANCE ON TEST DATA SET: inf ± nan\n"
     ]
    }
   ],
   "source": [
    "!bash ./1_Randomly_Clustered_ESN_Evaluate_Tuned_Model.sh \"evaluate_tuned_model\" 2000 3 \"grid_search.json\" "
   ]
  },
  {
   "cell_type": "code",
   "execution_count": 19,
   "metadata": {},
   "outputs": [
    {
     "name": "stdout",
     "output_type": "stream",
     "text": [
      "Grid Search Progress:  88%|████████▊ | 22/25 [42:28<05:49, 116.59s/trial, Current Best Loss=0.15285]/home/user/kuei_jan_CHU/PGClustered_ESN/Methods/./Utils/global_utils.py:274: RuntimeWarning: divide by zero encountered in log10\n",
      "  s_dbfs = 20 * np.log10(s_mag)\n",
      "Grid Search Progress: 100%|██████████| 25/25 [48:08<00:00, 115.54s/trial, Current Best Loss=0.15285]\n",
      "{'radius': 0.1, 'sigma_input': 0.5}\n"
     ]
    }
   ],
   "source": [
    "!bash ./0_Randomly_Clustered_ESN_Tune.sh \"tune\" 3000 4 \"grid_search.json\" "
   ]
  },
  {
   "cell_type": "code",
   "execution_count": 20,
   "metadata": {},
   "outputs": [
    {
     "name": "stdout",
     "output_type": "stream",
     "text": [
      "{'radius': 0.1, 'sigma_input': 0.5}\n",
      "/home/user/anaconda3/lib/python3.11/site-packages/numpy/core/_methods.py:236: RuntimeWarning: invalid value encountered in subtract\n",
      "  x = asanyarray(arr - arrmean)\n",
      "AVERAGE RMNSE ERROR ON TRAIN DATA SET: 1.4622084438159102 ± 0.0029874970351674857\n",
      "AVG NUMBER OF ACCURATE 0.5 PREDICTIONS ON TRAIN DATA SET: 0.22075227892192664 ± 0.011024029048921703\n",
      "AVG NUMBER OF ACCURATE 1 PREDICTIONS ON TRAIN DATA SET: 0.5029884916443078 ± 0.027824714126108322\n",
      "POWER SPECTRUM MEAN ERROR ON TRAIN DATA SET: 1.326929161854321 ± 0.32821268446531204\n",
      "TEMPORAL DISTANCE ON TRAIN DATA SET: 0.18743165156609692 ± 0.003796381518453712\n",
      "GEOMETRICAL DISTANCE ON TRAIN DATA SET: inf ± nan\n",
      "\n",
      "\n",
      "AVERAGE RMNSE ERROR ON TEST DATA SET: 1.4642379213399492 ± 0.0035867791556604585\n",
      "AVG NUMBER OF ACCURATE 0.5 PREDICTIONS ON TEST DATA SET: 0.16766283054810258 ± 0.009755753333651439\n",
      "AVG NUMBER OF ACCURATE 1 PREDICTIONS ON TEST DATA SET: 0.452621579084526 ± 0.024101448089982283\n",
      "POWER SPECTRUM MEAN ERROR ON TEST DATA SET: 1.1966449368969725 ± 0.3670920406674164\n",
      "TEMPORAL DISTANCE ON TEST DATA SET: 0.1901248224821434 ± 0.002701592241486682\n",
      "GEOMETRICAL DISTANCE ON TEST DATA SET: inf ± nan\n"
     ]
    }
   ],
   "source": [
    "!bash ./1_Randomly_Clustered_ESN_Evaluate_Tuned_Model.sh \"evaluate_tuned_model\" 3000 4 \"grid_search.json\" "
   ]
  },
  {
   "cell_type": "code",
   "execution_count": 45,
   "metadata": {},
   "outputs": [
    {
     "name": "stdout",
     "output_type": "stream",
     "text": [
      "Grid Search Progress: 100%|████████| 25/25 [1:31:26<00:00, 219.44s/trial, Current Best Loss=0.14549]\n",
      "{'radius': 0.1, 'sigma_input': 0.5}\n"
     ]
    }
   ],
   "source": [
    "!bash ./0_Randomly_Clustered_ESN_Tune.sh \"tune\" 4000 5 \"grid_search.json\" "
   ]
  },
  {
   "cell_type": "code",
   "execution_count": 46,
   "metadata": {},
   "outputs": [
    {
     "name": "stdout",
     "output_type": "stream",
     "text": [
      "{'radius': 0.1, 'sigma_input': 0.5}\n",
      "/home/user/anaconda3/lib/python3.11/site-packages/numpy/core/_methods.py:236: RuntimeWarning: invalid value encountered in subtract\n",
      "  x = asanyarray(arr - arrmean)\n",
      "AVERAGE RMNSE ERROR ON TRAIN DATA SET: 1.4557032626164363 ± 0.0048994543633807145\n",
      "AVG NUMBER OF ACCURATE 0.5 PREDICTIONS ON TRAIN DATA SET: 0.26317846202408524 ± 0.013650439694955498\n",
      "AVG NUMBER OF ACCURATE 1 PREDICTIONS ON TRAIN DATA SET: 0.552674770250579 ± 0.04525291694694494\n",
      "POWER SPECTRUM MEAN ERROR ON TRAIN DATA SET: 1.5076197097562323 ± 0.291354329965539\n",
      "TEMPORAL DISTANCE ON TRAIN DATA SET: 0.15715911885507625 ± 0.002988082216796615\n",
      "GEOMETRICAL DISTANCE ON TRAIN DATA SET: inf ± nan\n",
      "\n",
      "\n",
      "AVERAGE RMNSE ERROR ON TEST DATA SET: 1.4565710239446932 ± 0.0020514641623088016\n",
      "AVG NUMBER OF ACCURATE 0.5 PREDICTIONS ON TEST DATA SET: 0.16584780667207444 ± 0.010118351144647252\n",
      "AVG NUMBER OF ACCURATE 1 PREDICTIONS ON TEST DATA SET: 0.4317488045102019 ± 0.03662586527268512\n",
      "POWER SPECTRUM MEAN ERROR ON TEST DATA SET: 1.334587997827908 ± 0.14730889582072992\n",
      "TEMPORAL DISTANCE ON TEST DATA SET: 0.15713085312236158 ± 0.003054951368250821\n",
      "GEOMETRICAL DISTANCE ON TEST DATA SET: inf ± nan\n"
     ]
    }
   ],
   "source": [
    "!bash ./1_Randomly_Clustered_ESN_Evaluate_Tuned_Model.sh \"evaluate_tuned_model\" 4000 5 \"grid_search.json\" "
   ]
  },
  {
   "cell_type": "code",
   "execution_count": 47,
   "metadata": {},
   "outputs": [
    {
     "name": "stdout",
     "output_type": "stream",
     "text": [
      "Grid Search Progress: 100%|████████| 25/25 [2:46:52<00:00, 400.51s/trial, Current Best Loss=0.14162]\n",
      "{'radius': 0.1, 'sigma_input': 0.1}\n"
     ]
    }
   ],
   "source": [
    "!bash ./0_Randomly_Clustered_ESN_Tune.sh \"tune\" 5000 6 \"grid_search.json\" "
   ]
  },
  {
   "cell_type": "code",
   "execution_count": 48,
   "metadata": {},
   "outputs": [
    {
     "name": "stdout",
     "output_type": "stream",
     "text": [
      "{'radius': 0.1, 'sigma_input': 0.1}\n",
      "/home/user/anaconda3/lib/python3.11/site-packages/numpy/core/_methods.py:236: RuntimeWarning: invalid value encountered in subtract\n",
      "  x = asanyarray(arr - arrmean)\n",
      "AVERAGE RMNSE ERROR ON TRAIN DATA SET: 1.3929452643379647 ± 0.0029235571581901396\n",
      "AVG NUMBER OF ACCURATE 0.5 PREDICTIONS ON TRAIN DATA SET: 1.5135030346229936 ± 0.10299585837186462\n",
      "AVG NUMBER OF ACCURATE 1 PREDICTIONS ON TRAIN DATA SET: 2.261519749531105 ± 0.12010312790661039\n",
      "POWER SPECTRUM MEAN ERROR ON TRAIN DATA SET: 0.6844502672549932 ± 0.28079732583615974\n",
      "TEMPORAL DISTANCE ON TRAIN DATA SET: 0.12899220034815767 ± 0.001406766692821107\n",
      "GEOMETRICAL DISTANCE ON TRAIN DATA SET: inf ± nan\n",
      "\n",
      "\n",
      "AVERAGE RMNSE ERROR ON TEST DATA SET: 1.398218402023478 ± 0.002159020632121749\n",
      "AVG NUMBER OF ACCURATE 0.5 PREDICTIONS ON TEST DATA SET: 0.8224326938252664 ± 0.041167571383792116\n",
      "AVG NUMBER OF ACCURATE 1 PREDICTIONS ON TEST DATA SET: 1.4994365995837755 ± 0.08867679195386066\n",
      "POWER SPECTRUM MEAN ERROR ON TEST DATA SET: 0.7379871993355924 ± 0.24658172944517903\n",
      "TEMPORAL DISTANCE ON TEST DATA SET: 0.12733344498669313 ± 0.001893133724504123\n",
      "GEOMETRICAL DISTANCE ON TEST DATA SET: inf ± nan\n"
     ]
    }
   ],
   "source": [
    "!bash ./1_Randomly_Clustered_ESN_Evaluate_Tuned_Model.sh \"evaluate_tuned_model\" 5000 6 \"grid_search.json\" "
   ]
  },
  {
   "cell_type": "code",
   "execution_count": 59,
   "metadata": {},
   "outputs": [
    {
     "name": "stdout",
     "output_type": "stream",
     "text": [
      "Grid Search Progress: 100%|████████| 25/25 [4:12:35<00:00, 606.20s/trial, Current Best Loss=0.14033]\n",
      "{'radius': 0.7, 'sigma_input': 0.1}\n"
     ]
    }
   ],
   "source": [
    "!bash ./0_Randomly_Clustered_ESN_Tune.sh \"tune\" 6000 7 \"grid_search.json\" "
   ]
  },
  {
   "cell_type": "code",
   "execution_count": 60,
   "metadata": {},
   "outputs": [
    {
     "name": "stdout",
     "output_type": "stream",
     "text": [
      "{'radius': 0.7, 'sigma_input': 0.1}\n",
      "/home/user/anaconda3/lib/python3.11/site-packages/numpy/core/_methods.py:236: RuntimeWarning: invalid value encountered in subtract\n",
      "  x = asanyarray(arr - arrmean)\n",
      "AVERAGE RMNSE ERROR ON TRAIN DATA SET: 1.3897697200023877 ± 0.0035185754832101628\n",
      "AVG NUMBER OF ACCURATE 0.5 PREDICTIONS ON TRAIN DATA SET: 1.7158781968001349 ± 0.10730177427330949\n",
      "AVG NUMBER OF ACCURATE 1 PREDICTIONS ON TRAIN DATA SET: 2.57619951403749 ± 0.12896272307300016\n",
      "POWER SPECTRUM MEAN ERROR ON TRAIN DATA SET: 0.794187095203345 ± 0.22383797253422963\n",
      "TEMPORAL DISTANCE ON TRAIN DATA SET: 0.12832799665585684 ± 0.0013151718863508794\n",
      "GEOMETRICAL DISTANCE ON TRAIN DATA SET: inf ± nan\n",
      "\n",
      "\n",
      "AVERAGE RMNSE ERROR ON TEST DATA SET: 1.3982975197024579 ± 0.003395993332238046\n",
      "AVG NUMBER OF ACCURATE 0.5 PREDICTIONS ON TEST DATA SET: 0.8464817601826399 ± 0.053970739052067354\n",
      "AVG NUMBER OF ACCURATE 1 PREDICTIONS ON TEST DATA SET: 1.4733456313658704 ± 0.05895510755576762\n",
      "POWER SPECTRUM MEAN ERROR ON TEST DATA SET: 0.5710570946006277 ± 0.22417474056321182\n",
      "TEMPORAL DISTANCE ON TEST DATA SET: 0.12591637976599154 ± 0.001311472265487796\n",
      "GEOMETRICAL DISTANCE ON TEST DATA SET: inf ± nan\n"
     ]
    }
   ],
   "source": [
    "!bash ./1_Randomly_Clustered_ESN_Evaluate_Tuned_Model.sh \"evaluate_tuned_model\" 6000 7 \"grid_search.json\" "
   ]
  },
  {
   "cell_type": "markdown",
   "metadata": {},
   "source": [
    "# Standard ESN"
   ]
  },
  {
   "cell_type": "code",
   "execution_count": 21,
   "metadata": {},
   "outputs": [
    {
     "name": "stdout",
     "output_type": "stream",
     "text": [
      "Grid Search Progress:   4%|▍           | 1/25 [00:28<11:14, 28.09s/trial, Current Best Loss=0.40074]/home/user/kuei_jan_CHU/PGClustered_ESN/Methods/./Utils/global_utils.py:274: RuntimeWarning: divide by zero encountered in log10\n",
      "  s_dbfs = 20 * np.log10(s_mag)\n",
      "Grid Search Progress:   8%|▉           | 2/25 [00:55<10:36, 27.69s/trial, Current Best Loss=0.40074]/home/user/kuei_jan_CHU/PGClustered_ESN/Methods/./Utils/global_utils.py:309: RuntimeWarning: invalid value encountered in divide\n",
      "  trajectory = (trajectory-trajectory.mean())/trajectory.std()\n",
      "Grid Search Progress: 100%|███████████| 25/25 [11:24<00:00, 27.39s/trial, Current Best Loss=0.32231]\n",
      "{'radius': 0.7, 'sigma_input': 0.1}\n"
     ]
    }
   ],
   "source": [
    "!bash ./0_Standard_ESN_Tune.sh \"tune\" 256 0 \"grid_search.json\" "
   ]
  },
  {
   "cell_type": "code",
   "execution_count": 22,
   "metadata": {},
   "outputs": [
    {
     "name": "stdout",
     "output_type": "stream",
     "text": [
      "{'radius': 0.7, 'sigma_input': 0.1}\n",
      "/home/user/kuei_jan_CHU/PGClustered_ESN/Methods/./Utils/global_utils.py:274: RuntimeWarning: divide by zero encountered in log10\n",
      "  s_dbfs = 20 * np.log10(s_mag)\n",
      "/home/user/anaconda3/lib/python3.11/site-packages/numpy/core/_methods.py:236: RuntimeWarning: invalid value encountered in subtract\n",
      "  x = asanyarray(arr - arrmean)\n",
      "AVERAGE RMNSE ERROR ON TRAIN DATA SET: 1.9906830072647588 ± 0.09505144377461183\n",
      "AVG NUMBER OF ACCURATE 0.5 PREDICTIONS ON TRAIN DATA SET: 0.16199088093551456 ± 0.008914890299497531\n",
      "AVG NUMBER OF ACCURATE 1 PREDICTIONS ON TRAIN DATA SET: 0.3707186266787546 ± 0.014212054190043738\n",
      "POWER SPECTRUM MEAN ERROR ON TRAIN DATA SET: inf ± nan\n",
      "TEMPORAL DISTANCE ON TRAIN DATA SET: 0.3478293387398609 ± 0.023310522063376103\n",
      "GEOMETRICAL DISTANCE ON TRAIN DATA SET: inf ± nan\n",
      "\n",
      "\n",
      "AVERAGE RMNSE ERROR ON TEST DATA SET: 2.0077110329395627 ± 0.09879887263365474\n",
      "AVG NUMBER OF ACCURATE 0.5 PREDICTIONS ON TEST DATA SET: 0.1572264432609406 ± 0.008056564691843012\n",
      "AVG NUMBER OF ACCURATE 1 PREDICTIONS ON TEST DATA SET: 0.3788862341208813 ± 0.0268828871724638\n",
      "POWER SPECTRUM MEAN ERROR ON TEST DATA SET: inf ± nan\n",
      "TEMPORAL DISTANCE ON TEST DATA SET: 0.3479523133935915 ± 0.025739337543679228\n",
      "GEOMETRICAL DISTANCE ON TEST DATA SET: inf ± nan\n"
     ]
    }
   ],
   "source": [
    "!bash ./1_Standard_ESN_Evaluate_Tuned_Model.sh \"evaluate_tuned_model\" 256 0 \"grid_search.json\" "
   ]
  },
  {
   "cell_type": "code",
   "execution_count": 23,
   "metadata": {},
   "outputs": [
    {
     "name": "stdout",
     "output_type": "stream",
     "text": [
      "Grid Search Progress:   4%|▍           | 1/25 [00:29<11:46, 29.42s/trial, Current Best Loss=0.25019]/home/user/kuei_jan_CHU/PGClustered_ESN/Methods/./Utils/global_utils.py:274: RuntimeWarning: divide by zero encountered in log10\n",
      "  s_dbfs = 20 * np.log10(s_mag)\n",
      "Grid Search Progress:   8%|▉           | 2/25 [00:57<11:01, 28.78s/trial, Current Best Loss=0.25019]/home/user/kuei_jan_CHU/PGClustered_ESN/Methods/./Utils/global_utils.py:309: RuntimeWarning: invalid value encountered in divide\n",
      "  trajectory = (trajectory-trajectory.mean())/trajectory.std()\n",
      "Grid Search Progress: 100%|███████████| 25/25 [11:47<00:00, 28.29s/trial, Current Best Loss=0.20460]\n",
      "{'radius': 0.9, 'sigma_input': 0.1}\n"
     ]
    }
   ],
   "source": [
    "!bash ./0_Standard_ESN_Tune.sh \"tune\" 500 1 \"grid_search.json\" "
   ]
  },
  {
   "cell_type": "code",
   "execution_count": 24,
   "metadata": {},
   "outputs": [
    {
     "name": "stdout",
     "output_type": "stream",
     "text": [
      "{'radius': 0.9, 'sigma_input': 0.1}\n",
      "/home/user/anaconda3/lib/python3.11/site-packages/numpy/core/_methods.py:236: RuntimeWarning: invalid value encountered in subtract\n",
      "  x = asanyarray(arr - arrmean)\n",
      "AVERAGE RMNSE ERROR ON TRAIN DATA SET: 1.8808958848805175 ± 0.03256813472329035\n",
      "AVG NUMBER OF ACCURATE 0.5 PREDICTIONS ON TRAIN DATA SET: 0.1876280931844125 ± 0.008963834034026147\n",
      "AVG NUMBER OF ACCURATE 1 PREDICTIONS ON TRAIN DATA SET: 0.4197242713315153 ± 0.024010508998075393\n",
      "POWER SPECTRUM MEAN ERROR ON TRAIN DATA SET: 3.3708367510391803 ± 0.6366708963986664\n",
      "TEMPORAL DISTANCE ON TRAIN DATA SET: 0.21876142354535758 ± 0.008734082522425182\n",
      "GEOMETRICAL DISTANCE ON TRAIN DATA SET: inf ± nan\n",
      "\n",
      "\n",
      "AVERAGE RMNSE ERROR ON TEST DATA SET: 1.8820551599829494 ± 0.026997473609651514\n",
      "AVG NUMBER OF ACCURATE 0.5 PREDICTIONS ON TEST DATA SET: 0.17514980403671881 ± 0.009063768382102391\n",
      "AVG NUMBER OF ACCURATE 1 PREDICTIONS ON TEST DATA SET: 0.4013471545867301 ± 0.020455538511122074\n",
      "POWER SPECTRUM MEAN ERROR ON TEST DATA SET: 3.3845663987628485 ± 0.5113532189984153\n",
      "TEMPORAL DISTANCE ON TEST DATA SET: 0.22210826501664033 ± 0.010731632333226352\n",
      "GEOMETRICAL DISTANCE ON TEST DATA SET: inf ± nan\n"
     ]
    }
   ],
   "source": [
    "!bash ./1_Standard_ESN_Evaluate_Tuned_Model.sh \"evaluate_tuned_model\" 500 1 \"grid_search.json\" "
   ]
  },
  {
   "cell_type": "code",
   "execution_count": 25,
   "metadata": {},
   "outputs": [
    {
     "name": "stdout",
     "output_type": "stream",
     "text": [
      "Grid Search Progress:   8%|▉           | 2/25 [01:06<12:39, 33.04s/trial, Current Best Loss=0.13550]/home/user/kuei_jan_CHU/PGClustered_ESN/Methods/./Utils/global_utils.py:274: RuntimeWarning: divide by zero encountered in log10\n",
      "  s_dbfs = 20 * np.log10(s_mag)\n",
      "Grid Search Progress:  68%|███████▍   | 17/25 [09:14<04:20, 32.54s/trial, Current Best Loss=0.13550]/home/user/kuei_jan_CHU/PGClustered_ESN/Methods/./Utils/global_utils.py:309: RuntimeWarning: invalid value encountered in divide\n",
      "  trajectory = (trajectory-trajectory.mean())/trajectory.std()\n",
      "Grid Search Progress: 100%|███████████| 25/25 [13:33<00:00, 32.53s/trial, Current Best Loss=0.13550]\n",
      "{'radius': 0.1, 'sigma_input': 0.1}\n"
     ]
    }
   ],
   "source": [
    "!bash ./0_Standard_ESN_Tune.sh \"tune\" 1000 2 \"grid_search.json\" "
   ]
  },
  {
   "cell_type": "code",
   "execution_count": 26,
   "metadata": {},
   "outputs": [
    {
     "name": "stdout",
     "output_type": "stream",
     "text": [
      "{'radius': 0.1, 'sigma_input': 0.1}\n",
      "/home/user/anaconda3/lib/python3.11/site-packages/numpy/core/_methods.py:236: RuntimeWarning: invalid value encountered in subtract\n",
      "  x = asanyarray(arr - arrmean)\n",
      "AVERAGE RMNSE ERROR ON TRAIN DATA SET: 1.723706732274271 ± 0.0173576730031783\n",
      "AVG NUMBER OF ACCURATE 0.5 PREDICTIONS ON TRAIN DATA SET: 0.27361484931124724 ± 0.018520804590952893\n",
      "AVG NUMBER OF ACCURATE 1 PREDICTIONS ON TRAIN DATA SET: 0.5737744228094066 ± 0.03639182277905148\n",
      "POWER SPECTRUM MEAN ERROR ON TRAIN DATA SET: 2.6596108718397717 ± 0.18512593169904668\n",
      "TEMPORAL DISTANCE ON TRAIN DATA SET: 0.13078095237455184 ± 0.002037566802487631\n",
      "GEOMETRICAL DISTANCE ON TRAIN DATA SET: inf ± nan\n",
      "\n",
      "\n",
      "AVERAGE RMNSE ERROR ON TEST DATA SET: 1.726065873946159 ± 0.016807074087429853\n",
      "AVG NUMBER OF ACCURATE 0.5 PREDICTIONS ON TEST DATA SET: 0.2418519314807542 ± 0.011927828187561185\n",
      "AVG NUMBER OF ACCURATE 1 PREDICTIONS ON TEST DATA SET: 0.5263569240481705 ± 0.02695936780259526\n",
      "POWER SPECTRUM MEAN ERROR ON TEST DATA SET: 2.621394205938138 ± 0.5029380931136401\n",
      "TEMPORAL DISTANCE ON TEST DATA SET: 0.12902204817743387 ± 0.0027847763499770487\n",
      "GEOMETRICAL DISTANCE ON TEST DATA SET: inf ± nan\n"
     ]
    }
   ],
   "source": [
    "!bash ./1_Standard_ESN_Evaluate_Tuned_Model.sh \"evaluate_tuned_model\" 1000 2 \"grid_search.json\" "
   ]
  },
  {
   "cell_type": "code",
   "execution_count": 27,
   "metadata": {},
   "outputs": [
    {
     "name": "stdout",
     "output_type": "stream",
     "text": [
      "Grid Search Progress:   8%|▉           | 2/25 [01:51<21:10, 55.25s/trial, Current Best Loss=0.20194]/home/user/kuei_jan_CHU/PGClustered_ESN/Methods/./Utils/global_utils.py:274: RuntimeWarning: divide by zero encountered in log10\n",
      "  s_dbfs = 20 * np.log10(s_mag)\n",
      "Grid Search Progress: 100%|███████████| 25/25 [22:30<00:00, 54.03s/trial, Current Best Loss=0.20159]\n",
      "{'radius': 0.4, 'sigma_input': 0.1}\n"
     ]
    }
   ],
   "source": [
    "!bash ./0_Standard_ESN_Tune.sh \"tune\" 2000 3 \"grid_search.json\" "
   ]
  },
  {
   "cell_type": "code",
   "execution_count": 28,
   "metadata": {},
   "outputs": [
    {
     "name": "stdout",
     "output_type": "stream",
     "text": [
      "{'radius': 0.4, 'sigma_input': 0.1}\n",
      "/home/user/anaconda3/lib/python3.11/site-packages/numpy/core/_methods.py:236: RuntimeWarning: invalid value encountered in subtract\n",
      "  x = asanyarray(arr - arrmean)\n",
      "AVERAGE RMNSE ERROR ON TRAIN DATA SET: 1.5347944363065145 ± 0.004216941805437267\n",
      "AVG NUMBER OF ACCURATE 0.5 PREDICTIONS ON TRAIN DATA SET: 0.47190620776732517 ± 0.021015319610546545\n",
      "AVG NUMBER OF ACCURATE 1 PREDICTIONS ON TRAIN DATA SET: 0.8573719034388088 ± 0.04850574903897939\n",
      "POWER SPECTRUM MEAN ERROR ON TRAIN DATA SET: 2.7780787528755235 ± 0.18085358066881319\n",
      "TEMPORAL DISTANCE ON TRAIN DATA SET: 0.1954089730990851 ± 0.00309248887132369\n",
      "GEOMETRICAL DISTANCE ON TRAIN DATA SET: inf ± nan\n",
      "\n",
      "\n",
      "AVERAGE RMNSE ERROR ON TEST DATA SET: 1.5380263303033357 ± 0.004482676329813575\n",
      "AVG NUMBER OF ACCURATE 0.5 PREDICTIONS ON TEST DATA SET: 0.36277789722113124 ± 0.015700546661599053\n",
      "AVG NUMBER OF ACCURATE 1 PREDICTIONS ON TEST DATA SET: 0.6990110702553506 ± 0.04015740325712333\n",
      "POWER SPECTRUM MEAN ERROR ON TEST DATA SET: 2.494129282164713 ± 0.3212024995046449\n",
      "TEMPORAL DISTANCE ON TEST DATA SET: 0.19328240439577446 ± 0.004465023793804157\n",
      "GEOMETRICAL DISTANCE ON TEST DATA SET: inf ± nan\n"
     ]
    }
   ],
   "source": [
    "!bash ./1_Standard_ESN_Evaluate_Tuned_Model.sh \"evaluate_tuned_model\" 2000 3 \"grid_search.json\" "
   ]
  },
  {
   "cell_type": "code",
   "execution_count": 29,
   "metadata": {},
   "outputs": [
    {
     "name": "stdout",
     "output_type": "stream",
     "text": [
      "Grid Search Progress:  96%|█████████▌| 24/25 [46:24<01:55, 115.21s/trial, Current Best Loss=0.15065]/home/user/kuei_jan_CHU/PGClustered_ESN/Methods/./Utils/global_utils.py:274: RuntimeWarning: divide by zero encountered in log10\n",
      "  s_dbfs = 20 * np.log10(s_mag)\n",
      "Grid Search Progress: 100%|██████████| 25/25 [48:16<00:00, 115.87s/trial, Current Best Loss=0.15065]\n",
      "{'radius': 0.9, 'sigma_input': 0.5}\n"
     ]
    }
   ],
   "source": [
    "!bash ./0_Standard_ESN_Tune.sh \"tune\" 3000 4 \"grid_search.json\" "
   ]
  },
  {
   "cell_type": "code",
   "execution_count": 30,
   "metadata": {},
   "outputs": [
    {
     "name": "stdout",
     "output_type": "stream",
     "text": [
      "{'radius': 0.9, 'sigma_input': 0.5}\n",
      "/home/user/anaconda3/lib/python3.11/site-packages/numpy/core/_methods.py:236: RuntimeWarning: invalid value encountered in subtract\n",
      "  x = asanyarray(arr - arrmean)\n",
      "AVERAGE RMNSE ERROR ON TRAIN DATA SET: 1.4678723435310839 ± 0.0034174347001607428\n",
      "AVG NUMBER OF ACCURATE 0.5 PREDICTIONS ON TRAIN DATA SET: 0.2012407722546238 ± 0.005373704563630684\n",
      "AVG NUMBER OF ACCURATE 1 PREDICTIONS ON TRAIN DATA SET: 0.4607891865266526 ± 0.013928534496623143\n",
      "POWER SPECTRUM MEAN ERROR ON TRAIN DATA SET: 1.171887416804779 ± 0.3194347244768366\n",
      "TEMPORAL DISTANCE ON TRAIN DATA SET: 0.1962172625247183 ± 0.0049807527430155984\n",
      "GEOMETRICAL DISTANCE ON TRAIN DATA SET: inf ± nan\n",
      "\n",
      "\n",
      "AVERAGE RMNSE ERROR ON TEST DATA SET: 1.4684822345900483 ± 0.0028976406614488336\n",
      "AVG NUMBER OF ACCURATE 0.5 PREDICTIONS ON TEST DATA SET: 0.14157186233019758 ± 0.007673709735918023\n",
      "AVG NUMBER OF ACCURATE 1 PREDICTIONS ON TEST DATA SET: 0.40588471427680045 ± 0.0343546012870944\n",
      "POWER SPECTRUM MEAN ERROR ON TEST DATA SET: 1.0468892525412155 ± 0.16013812516854906\n",
      "TEMPORAL DISTANCE ON TEST DATA SET: 0.20152949417832278 ± 0.006020969942462456\n",
      "GEOMETRICAL DISTANCE ON TEST DATA SET: inf ± nan\n"
     ]
    }
   ],
   "source": [
    "!bash ./1_Standard_ESN_Evaluate_Tuned_Model.sh \"evaluate_tuned_model\" 3000 4 \"grid_search.json\" "
   ]
  },
  {
   "cell_type": "code",
   "execution_count": 49,
   "metadata": {},
   "outputs": [
    {
     "name": "stdout",
     "output_type": "stream",
     "text": [
      "Grid Search Progress: 100%|████████| 25/25 [1:31:33<00:00, 219.72s/trial, Current Best Loss=0.14597]\n",
      "{'radius': 0.4, 'sigma_input': 0.5}\n"
     ]
    }
   ],
   "source": [
    "!bash ./0_Standard_ESN_Tune.sh \"tune\" 4000 5 \"grid_search.json\" "
   ]
  },
  {
   "cell_type": "code",
   "execution_count": 50,
   "metadata": {},
   "outputs": [
    {
     "name": "stdout",
     "output_type": "stream",
     "text": [
      "{'radius': 0.4, 'sigma_input': 0.5}\n",
      "/home/user/anaconda3/lib/python3.11/site-packages/numpy/core/_methods.py:236: RuntimeWarning: invalid value encountered in subtract\n",
      "  x = asanyarray(arr - arrmean)\n",
      "AVERAGE RMNSE ERROR ON TRAIN DATA SET: 1.4589583896025105 ± 0.004357613275826485\n",
      "AVG NUMBER OF ACCURATE 0.5 PREDICTIONS ON TRAIN DATA SET: 0.23300369008511684 ± 0.010595469073997697\n",
      "AVG NUMBER OF ACCURATE 1 PREDICTIONS ON TRAIN DATA SET: 0.5066185393963641 ± 0.031715075367013755\n",
      "POWER SPECTRUM MEAN ERROR ON TRAIN DATA SET: 1.5712749712541552 ± 0.34799177426668076\n",
      "TEMPORAL DISTANCE ON TRAIN DATA SET: 0.15353947874245216 ± 0.0020557318220545077\n",
      "GEOMETRICAL DISTANCE ON TRAIN DATA SET: inf ± nan\n",
      "\n",
      "\n",
      "AVERAGE RMNSE ERROR ON TEST DATA SET: 1.460119139633397 ± 0.0032248475681160033\n",
      "AVG NUMBER OF ACCURATE 0.5 PREDICTIONS ON TEST DATA SET: 0.14633630000477152 ± 0.007404012773002556\n",
      "AVG NUMBER OF ACCURATE 1 PREDICTIONS ON TEST DATA SET: 0.4158673455949553 ± 0.033835259406967584\n",
      "POWER SPECTRUM MEAN ERROR ON TEST DATA SET: 1.3559852505458874 ± 0.35671333998232013\n",
      "TEMPORAL DISTANCE ON TEST DATA SET: 0.15239950219453807 ± 0.0019275716526171757\n",
      "GEOMETRICAL DISTANCE ON TEST DATA SET: inf ± nan\n"
     ]
    }
   ],
   "source": [
    "!bash ./1_Standard_ESN_Evaluate_Tuned_Model.sh \"evaluate_tuned_model\" 4000 5 \"grid_search.json\" "
   ]
  },
  {
   "cell_type": "code",
   "execution_count": 51,
   "metadata": {},
   "outputs": [
    {
     "name": "stdout",
     "output_type": "stream",
     "text": [
      "Grid Search Progress: 100%|████████| 25/25 [2:46:34<00:00, 399.77s/trial, Current Best Loss=0.15547]\n",
      "{'radius': 0.1, 'sigma_input': 0.1}\n"
     ]
    }
   ],
   "source": [
    "!bash ./0_Standard_ESN_Tune.sh \"tune\" 5000 6 \"grid_search.json\" "
   ]
  },
  {
   "cell_type": "code",
   "execution_count": 52,
   "metadata": {},
   "outputs": [
    {
     "name": "stdout",
     "output_type": "stream",
     "text": [
      "{'radius': 0.1, 'sigma_input': 0.1}\n",
      "/home/user/anaconda3/lib/python3.11/site-packages/numpy/core/_methods.py:236: RuntimeWarning: invalid value encountered in subtract\n",
      "  x = asanyarray(arr - arrmean)\n",
      "AVERAGE RMNSE ERROR ON TRAIN DATA SET: 1.3981280959336269 ± 0.002246931164031703\n",
      "AVG NUMBER OF ACCURATE 0.5 PREDICTIONS ON TRAIN DATA SET: 1.31226226236837 ± 0.059442031939922736\n",
      "AVG NUMBER OF ACCURATE 1 PREDICTIONS ON TRAIN DATA SET: 2.0167184042518054 ± 0.07433465959788321\n",
      "POWER SPECTRUM MEAN ERROR ON TRAIN DATA SET: 1.217716154902027 ± 0.30162338345601586\n",
      "TEMPORAL DISTANCE ON TRAIN DATA SET: 0.13697282054472265 ± 0.0017542827770757137\n",
      "GEOMETRICAL DISTANCE ON TRAIN DATA SET: inf ± nan\n",
      "\n",
      "\n",
      "AVERAGE RMNSE ERROR ON TEST DATA SET: 1.4032993058470629 ± 0.0034237703103325605\n",
      "AVG NUMBER OF ACCURATE 0.5 PREDICTIONS ON TEST DATA SET: 0.7001454601778682 ± 0.03144041023340997\n",
      "AVG NUMBER OF ACCURATE 1 PREDICTIONS ON TEST DATA SET: 1.3215642597330144 ± 0.09104141715027031\n",
      "POWER SPECTRUM MEAN ERROR ON TEST DATA SET: 1.0862099543683477 ± 0.28462931335302677\n",
      "TEMPORAL DISTANCE ON TEST DATA SET: 0.13576190135849098 ± 0.0019252268822032047\n",
      "GEOMETRICAL DISTANCE ON TEST DATA SET: inf ± nan\n"
     ]
    }
   ],
   "source": [
    "!bash ./1_Standard_ESN_Evaluate_Tuned_Model.sh \"evaluate_tuned_model\" 5000 6 \"grid_search.json\" "
   ]
  },
  {
   "cell_type": "code",
   "execution_count": 61,
   "metadata": {},
   "outputs": [
    {
     "name": "stdout",
     "output_type": "stream",
     "text": [
      "Grid Search Progress: 100%|████████| 25/25 [4:12:16<00:00, 605.47s/trial, Current Best Loss=0.14970]\n",
      "{'radius': 0.1, 'sigma_input': 0.1}\n"
     ]
    }
   ],
   "source": [
    "!bash ./0_Standard_ESN_Tune.sh \"tune\" 6000 7 \"grid_search.json\" "
   ]
  },
  {
   "cell_type": "code",
   "execution_count": 62,
   "metadata": {},
   "outputs": [
    {
     "name": "stdout",
     "output_type": "stream",
     "text": [
      "{'radius': 0.1, 'sigma_input': 0.1}\n",
      "/home/user/anaconda3/lib/python3.11/site-packages/numpy/core/_methods.py:236: RuntimeWarning: invalid value encountered in subtract\n",
      "  x = asanyarray(arr - arrmean)\n",
      "AVERAGE RMNSE ERROR ON TRAIN DATA SET: 1.3918275867139007 ± 0.002053256335196247\n",
      "AVG NUMBER OF ACCURATE 0.5 PREDICTIONS ON TRAIN DATA SET: 1.5702225307488742 ± 0.08781936568241817\n",
      "AVG NUMBER OF ACCURATE 1 PREDICTIONS ON TRAIN DATA SET: 2.245865168600362 ± 0.10961024649239788\n",
      "POWER SPECTRUM MEAN ERROR ON TRAIN DATA SET: 0.8659177566528109 ± 0.12738886758035123\n",
      "TEMPORAL DISTANCE ON TRAIN DATA SET: 0.1330824479365797 ± 0.0012896285152431306\n",
      "GEOMETRICAL DISTANCE ON TRAIN DATA SET: inf ± nan\n",
      "\n",
      "\n",
      "AVERAGE RMNSE ERROR ON TEST DATA SET: 1.4029689034142745 ± 0.0022657416434041\n",
      "AVG NUMBER OF ACCURATE 0.5 PREDICTIONS ON TEST DATA SET: 0.7468823249855937 ± 0.029595187369031856\n",
      "AVG NUMBER OF ACCURATE 1 PREDICTIONS ON TEST DATA SET: 1.39666087260368 ± 0.09053654024631408\n",
      "POWER SPECTRUM MEAN ERROR ON TEST DATA SET: 0.9623730158769931 ± 0.22535722501509445\n",
      "TEMPORAL DISTANCE ON TEST DATA SET: 0.13101700779571643 ± 0.0015330318714865323\n",
      "GEOMETRICAL DISTANCE ON TEST DATA SET: inf ± nan\n"
     ]
    }
   ],
   "source": [
    "!bash ./1_Standard_ESN_Evaluate_Tuned_Model.sh \"evaluate_tuned_model\" 6000 7 \"grid_search.json\" "
   ]
  },
  {
   "cell_type": "markdown",
   "metadata": {},
   "source": [
    "## Parallel ESN"
   ]
  },
  {
   "cell_type": "code",
   "execution_count": 31,
   "metadata": {},
   "outputs": [
    {
     "name": "stdout",
     "output_type": "stream",
     "text": [
      "Grid Search Progress:   0%|                                               | 0/25 [00:00<?, ?trial/s][tuf-4090:515284] shmem: mmap: an error occurred while determining whether or not /tmp/ompi.tuf-4090.1000/jf.0/2835808256/shared_mem_cuda_pool.tuf-4090 could be created.\n",
      "[tuf-4090:515284] create_and_attach: unable to create shared memory BTL coordinating structure :: size 134217728 \n",
      "Grid Search Progress: 100%|███████████| 25/25 [35:02<00:00, 84.09s/trial, Current Best Loss=0.78610]\n",
      "{'radius': 0.4, 'sigma_input': 0.1}\n"
     ]
    }
   ],
   "source": [
    "!bash ./0_Paralleled_ESN_Tune.sh \"tune\" 256 1 1 0 \"grid_search.json\" "
   ]
  },
  {
   "cell_type": "code",
   "execution_count": 32,
   "metadata": {},
   "outputs": [
    {
     "name": "stdout",
     "output_type": "stream",
     "text": [
      "{'radius': 0.4, 'sigma_input': 0.1}\n",
      "[tuf-4090:524937] shmem: mmap: an error occurred while determining whether or not /tmp/ompi.tuf-4090.1000/jf.0/3036676096/shared_mem_cuda_pool.tuf-4090 could be created.\n",
      "[tuf-4090:524937] create_and_attach: unable to create shared memory BTL coordinating structure :: size 134217728 \n",
      "/home/user/anaconda3/lib/python3.11/site-packages/numpy/core/_methods.py:236: RuntimeWarning: invalid value encountered in subtract\n",
      "  x = asanyarray(arr - arrmean)\n",
      "AVERAGE RMNSE ERROR ON TRAIN DATA SET: 3.4081245266588462 ± 0.715153081424094\n",
      "AVG NUMBER OF ACCURATE 0.5 PREDICTIONS ON TRAIN DATA SET: 0.031082283876982485 ± 0.0032165505732583218\n",
      "AVG NUMBER OF ACCURATE 1 PREDICTIONS ON TRAIN DATA SET: 0.09528875349147914 ± 0.009941295193110909\n",
      "POWER SPECTRUM MEAN ERROR ON TRAIN DATA SET: inf ± nan\n",
      "TEMPORAL DISTANCE ON TRAIN DATA SET: 0.82408409199306 ± 0.06739390069611924\n",
      "GEOMETRICAL DISTANCE ON TRAIN DATA SET: inf ± nan\n",
      "\n",
      "\n",
      "AVERAGE RMNSE ERROR ON TEST DATA SET: 3.3120520098514263 ± 0.6880961908387493\n",
      "AVG NUMBER OF ACCURATE 0.5 PREDICTIONS ON TEST DATA SET: 0.033124185737514175 ± 0.0032404657766879072\n",
      "AVG NUMBER OF ACCURATE 1 PREDICTIONS ON TEST DATA SET: 0.09869192325903196 ± 0.010605180780045704\n",
      "POWER SPECTRUM MEAN ERROR ON TEST DATA SET: 14.276832963459725 ± 6.248929976365589\n",
      "TEMPORAL DISTANCE ON TEST DATA SET: 0.8421116531639969 ± 0.04737721427032019\n",
      "GEOMETRICAL DISTANCE ON TEST DATA SET: inf ± nan\n"
     ]
    }
   ],
   "source": [
    "!bash ./1_Paralleled_ESN_Evaluate_Tuned_Model.sh \"evaluate_tuned_model\" 256 1 1 0 \"grid_search.json\" "
   ]
  },
  {
   "cell_type": "code",
   "execution_count": 33,
   "metadata": {},
   "outputs": [
    {
     "name": "stdout",
     "output_type": "stream",
     "text": [
      "Grid Search Progress:   0%|                                               | 0/25 [00:00<?, ?trial/s][tuf-4090:526550] shmem: mmap: an error occurred while determining whether or not /tmp/ompi.tuf-4090.1000/jf.0/3364487168/shared_mem_cuda_pool.tuf-4090 could be created.\n",
      "[tuf-4090:526550] create_and_attach: unable to create shared memory BTL coordinating structure :: size 134217728 \n",
      "Grid Search Progress: 100%|███████████| 25/25 [37:25<00:00, 89.81s/trial, Current Best Loss=0.67086]\n",
      "{'radius': 0.4, 'sigma_input': 0.1}\n"
     ]
    }
   ],
   "source": [
    "!bash ./0_Paralleled_ESN_Tune.sh \"tune\" 500 1 1 1 \"grid_search.json\" "
   ]
  },
  {
   "cell_type": "code",
   "execution_count": 34,
   "metadata": {},
   "outputs": [
    {
     "name": "stdout",
     "output_type": "stream",
     "text": [
      "{'radius': 0.4, 'sigma_input': 0.1}\n",
      "[tuf-4090:536199] shmem: mmap: an error occurred while determining whether or not /tmp/ompi.tuf-4090.1000/jf.0/3483893760/shared_mem_cuda_pool.tuf-4090 could be created.\n",
      "[tuf-4090:536199] create_and_attach: unable to create shared memory BTL coordinating structure :: size 134217728 \n",
      "/home/user/anaconda3/lib/python3.11/site-packages/numpy/core/_methods.py:236: RuntimeWarning: invalid value encountered in subtract\n",
      "  x = asanyarray(arr - arrmean)\n",
      "AVERAGE RMNSE ERROR ON TRAIN DATA SET: 3.60232505480665 ± 0.21408684720735346\n",
      "AVG NUMBER OF ACCURATE 0.5 PREDICTIONS ON TRAIN DATA SET: 0.10980894449970453 ± 0.007330652025971834\n",
      "AVG NUMBER OF ACCURATE 1 PREDICTIONS ON TRAIN DATA SET: 0.17446917008320825 ± 0.012690979336445946\n",
      "POWER SPECTRUM MEAN ERROR ON TRAIN DATA SET: inf ± nan\n",
      "TEMPORAL DISTANCE ON TRAIN DATA SET: 0.7292590862444004 ± 0.05131405218174967\n",
      "GEOMETRICAL DISTANCE ON TRAIN DATA SET: inf ± nan\n",
      "\n",
      "\n",
      "AVERAGE RMNSE ERROR ON TEST DATA SET: 3.657901975540491 ± 0.31238353312986994\n",
      "AVG NUMBER OF ACCURATE 0.5 PREDICTIONS ON TEST DATA SET: 0.11275835829825032 ± 0.006175917123036369\n",
      "AVG NUMBER OF ACCURATE 1 PREDICTIONS ON TEST DATA SET: 0.17333478016069065 ± 0.007740496980696437\n",
      "POWER SPECTRUM MEAN ERROR ON TEST DATA SET: inf ± nan\n",
      "TEMPORAL DISTANCE ON TEST DATA SET: 0.7699271482960257 ± 0.07618491621182225\n",
      "GEOMETRICAL DISTANCE ON TEST DATA SET: inf ± nan\n"
     ]
    }
   ],
   "source": [
    "!bash ./1_Paralleled_ESN_Evaluate_Tuned_Model.sh \"evaluate_tuned_model\" 500 1 1 1 \"grid_search.json\" "
   ]
  },
  {
   "cell_type": "code",
   "execution_count": 35,
   "metadata": {},
   "outputs": [
    {
     "name": "stdout",
     "output_type": "stream",
     "text": [
      "Grid Search Progress:   0%|                                               | 0/25 [00:00<?, ?trial/s][tuf-4090:537834] shmem: mmap: an error occurred while determining whether or not /tmp/ompi.tuf-4090.1000/jf.0/164626432/shared_mem_cuda_pool.tuf-4090 could be created.\n",
      "[tuf-4090:537834] create_and_attach: unable to create shared memory BTL coordinating structure :: size 134217728 \n",
      "Grid Search Progress: 100%|███████████| 25/25 [39:36<00:00, 95.05s/trial, Current Best Loss=0.47275]\n",
      "{'radius': 0.1, 'sigma_input': 0.1}\n"
     ]
    }
   ],
   "source": [
    "!bash ./0_Paralleled_ESN_Tune.sh \"tune\" 1000 1 1 2 \"grid_search.json\" "
   ]
  },
  {
   "cell_type": "code",
   "execution_count": 36,
   "metadata": {},
   "outputs": [
    {
     "name": "stdout",
     "output_type": "stream",
     "text": [
      "{'radius': 0.1, 'sigma_input': 0.1}\n",
      "[tuf-4090:547538] shmem: mmap: an error occurred while determining whether or not /tmp/ompi.tuf-4090.1000/jf.0/849870848/shared_mem_cuda_pool.tuf-4090 could be created.\n",
      "[tuf-4090:547538] create_and_attach: unable to create shared memory BTL coordinating structure :: size 134217728 \n",
      "/home/user/anaconda3/lib/python3.11/site-packages/numpy/core/_methods.py:236: RuntimeWarning: invalid value encountered in subtract\n",
      "  x = asanyarray(arr - arrmean)\n",
      "AVERAGE RMNSE ERROR ON TRAIN DATA SET: 2.6183659065446205 ± 0.15878208871934055\n",
      "AVG NUMBER OF ACCURATE 0.5 PREDICTIONS ON TRAIN DATA SET: 0.2643128519466028 ± 0.021240675083577576\n",
      "AVG NUMBER OF ACCURATE 1 PREDICTIONS ON TRAIN DATA SET: 0.4074728601683251 ± 0.038745020962374206\n",
      "POWER SPECTRUM MEAN ERROR ON TRAIN DATA SET: inf ± nan\n",
      "TEMPORAL DISTANCE ON TRAIN DATA SET: 0.5954631331551322 ± 0.0727290511281868\n",
      "GEOMETRICAL DISTANCE ON TRAIN DATA SET: inf ± nan\n",
      "\n",
      "\n",
      "AVERAGE RMNSE ERROR ON TEST DATA SET: 2.636895061086954 ± 0.1562640145627936\n",
      "AVG NUMBER OF ACCURATE 0.5 PREDICTIONS ON TEST DATA SET: 0.2665816317916381 ± 0.015160135640583093\n",
      "AVG NUMBER OF ACCURATE 1 PREDICTIONS ON TEST DATA SET: 0.40089339861772294 ± 0.028931168874063076\n",
      "POWER SPECTRUM MEAN ERROR ON TEST DATA SET: 11.263727495721374 ± 5.803423764410619\n",
      "TEMPORAL DISTANCE ON TEST DATA SET: 0.6136232074924924 ± 0.07739768330617208\n",
      "GEOMETRICAL DISTANCE ON TEST DATA SET: inf ± nan\n"
     ]
    }
   ],
   "source": [
    "!bash ./1_Paralleled_ESN_Evaluate_Tuned_Model.sh \"evaluate_tuned_model\" 1000 1 1 2 \"grid_search.json\" "
   ]
  },
  {
   "cell_type": "code",
   "execution_count": 37,
   "metadata": {},
   "outputs": [
    {
     "name": "stdout",
     "output_type": "stream",
     "text": [
      "Grid Search Progress:   0%|                                               | 0/25 [00:00<?, ?trial/s][tuf-4090:549171] shmem: mmap: an error occurred while determining whether or not /tmp/ompi.tuf-4090.1000/jf.0/3059875840/shared_mem_cuda_pool.tuf-4090 could be created.\n",
      "[tuf-4090:549171] create_and_attach: unable to create shared memory BTL coordinating structure :: size 134217728 \n",
      "Grid Search Progress: 100%|██████████| 25/25 [43:31<00:00, 104.47s/trial, Current Best Loss=0.14152]\n",
      "{'radius': 0.1, 'sigma_input': 0.1}\n"
     ]
    }
   ],
   "source": [
    "!bash ./0_Paralleled_ESN_Tune.sh \"tune\" 2000 1 1 3 \"grid_search.json\" "
   ]
  },
  {
   "cell_type": "code",
   "execution_count": 38,
   "metadata": {},
   "outputs": [
    {
     "name": "stdout",
     "output_type": "stream",
     "text": [
      "{'radius': 0.1, 'sigma_input': 0.1}\n",
      "[tuf-4090:558908] shmem: mmap: an error occurred while determining whether or not /tmp/ompi.tuf-4090.1000/jf.0/2752184320/shared_mem_cuda_pool.tuf-4090 could be created.\n",
      "[tuf-4090:558908] create_and_attach: unable to create shared memory BTL coordinating structure :: size 134217728 \n",
      "/home/user/anaconda3/lib/python3.11/site-packages/numpy/core/_methods.py:236: RuntimeWarning: invalid value encountered in subtract\n",
      "  x = asanyarray(arr - arrmean)\n",
      "AVERAGE RMNSE ERROR ON TRAIN DATA SET: 1.5406967668641804 ± 0.1498001244524294\n",
      "AVG NUMBER OF ACCURATE 0.5 PREDICTIONS ON TRAIN DATA SET: 0.792711677855305 ± 0.040473404578589015\n",
      "AVG NUMBER OF ACCURATE 1 PREDICTIONS ON TRAIN DATA SET: 1.4794713369474657 ± 0.08402728700565755\n",
      "POWER SPECTRUM MEAN ERROR ON TRAIN DATA SET: 1.4102342804230954 ± 0.946676669765879\n",
      "TEMPORAL DISTANCE ON TRAIN DATA SET: 0.19240061587206553 ± 0.03907182705456356\n",
      "GEOMETRICAL DISTANCE ON TRAIN DATA SET: inf ± nan\n",
      "\n",
      "\n",
      "AVERAGE RMNSE ERROR ON TEST DATA SET: 1.5048229398637 ± 0.08412703852315169\n",
      "AVG NUMBER OF ACCURATE 0.5 PREDICTIONS ON TEST DATA SET: 0.7972492375453755 ± 0.04809813271474662\n",
      "AVG NUMBER OF ACCURATE 1 PREDICTIONS ON TEST DATA SET: 1.5352833211353318 ± 0.09919550717951316\n",
      "POWER SPECTRUM MEAN ERROR ON TEST DATA SET: 1.0175719161202317 ± 0.7053130610247285\n",
      "TEMPORAL DISTANCE ON TEST DATA SET: 0.18528859981658588 ± 0.037413096249202527\n",
      "GEOMETRICAL DISTANCE ON TEST DATA SET: inf ± nan\n"
     ]
    }
   ],
   "source": [
    "!bash ./1_Paralleled_ESN_Evaluate_Tuned_Model.sh \"evaluate_tuned_model\" 2000 1 1 3 \"grid_search.json\" "
   ]
  },
  {
   "cell_type": "code",
   "execution_count": 39,
   "metadata": {},
   "outputs": [
    {
     "name": "stdout",
     "output_type": "stream",
     "text": [
      "Grid Search Progress:   0%|                                               | 0/25 [00:00<?, ?trial/s][tuf-4090:560547] shmem: mmap: an error occurred while determining whether or not /tmp/ompi.tuf-4090.1000/jf.0/2918252544/shared_mem_cuda_pool.tuf-4090 could be created.\n",
      "[tuf-4090:560547] create_and_attach: unable to create shared memory BTL coordinating structure :: size 134217728 \n",
      "Grid Search Progress: 100%|██████████| 25/25 [49:02<00:00, 117.71s/trial, Current Best Loss=0.13630]\n",
      "{'radius': 0.4, 'sigma_input': 0.1}\n"
     ]
    }
   ],
   "source": [
    "!bash ./0_Paralleled_ESN_Tune.sh \"tune\" 3000 1 1 4 \"grid_search.json\" "
   ]
  },
  {
   "cell_type": "code",
   "execution_count": 40,
   "metadata": {},
   "outputs": [
    {
     "name": "stdout",
     "output_type": "stream",
     "text": [
      "{'radius': 0.4, 'sigma_input': 0.1}\n",
      "[tuf-4090:570335] shmem: mmap: an error occurred while determining whether or not /tmp/ompi.tuf-4090.1000/jf.0/3795255296/shared_mem_cuda_pool.tuf-4090 could be created.\n",
      "[tuf-4090:570335] create_and_attach: unable to create shared memory BTL coordinating structure :: size 134217728 \n",
      "/home/user/anaconda3/lib/python3.11/site-packages/numpy/core/_methods.py:236: RuntimeWarning: invalid value encountered in subtract\n",
      "  x = asanyarray(arr - arrmean)\n",
      "AVERAGE RMNSE ERROR ON TRAIN DATA SET: 1.392708205903305 ± 0.002543156452232745\n",
      "AVG NUMBER OF ACCURATE 0.5 PREDICTIONS ON TRAIN DATA SET: 1.3242867955470565 ± 0.1078281629532634\n",
      "AVG NUMBER OF ACCURATE 1 PREDICTIONS ON TRAIN DATA SET: 2.1764405053422844 ± 0.10372096231122874\n",
      "POWER SPECTRUM MEAN ERROR ON TRAIN DATA SET: 0.5102864331333601 ± 0.26250966288715966\n",
      "TEMPORAL DISTANCE ON TRAIN DATA SET: 0.12623952459775226 ± 0.001320723443155382\n",
      "GEOMETRICAL DISTANCE ON TRAIN DATA SET: inf ± nan\n",
      "\n",
      "\n",
      "AVERAGE RMNSE ERROR ON TEST DATA SET: 1.3935281229601901 ± 0.003708135270504477\n",
      "AVG NUMBER OF ACCURATE 0.5 PREDICTIONS ON TEST DATA SET: 1.3521927876409898 ± 0.06251301639812872\n",
      "AVG NUMBER OF ACCURATE 1 PREDICTIONS ON TEST DATA SET: 2.2404200969722776 ± 0.16739306159737022\n",
      "POWER SPECTRUM MEAN ERROR ON TEST DATA SET: 0.34145763285233677 ± 0.26871438842919776\n",
      "TEMPORAL DISTANCE ON TEST DATA SET: 0.12306614222077288 ± 0.0011000894554837079\n",
      "GEOMETRICAL DISTANCE ON TEST DATA SET: inf ± nan\n"
     ]
    }
   ],
   "source": [
    "!bash ./1_Paralleled_ESN_Evaluate_Tuned_Model.sh \"evaluate_tuned_model\" 3000 1 1 4 \"grid_search.json\" "
   ]
  },
  {
   "cell_type": "code",
   "execution_count": 53,
   "metadata": {},
   "outputs": [
    {
     "name": "stdout",
     "output_type": "stream",
     "text": [
      "Grid Search Progress:   0%|                                               | 0/25 [00:00<?, ?trial/s][tuf-4090:588321] shmem: mmap: an error occurred while determining whether or not /tmp/ompi.tuf-4090.1000/jf.0/3438804992/shared_mem_cuda_pool.tuf-4090 could be created.\n",
      "[tuf-4090:588321] create_and_attach: unable to create shared memory BTL coordinating structure :: size 134217728 \n",
      "Grid Search Progress: 100%|██████████| 25/25 [53:14<00:00, 127.78s/trial, Current Best Loss=0.13575]\n",
      "{'radius': 0.4, 'sigma_input': 0.1}\n"
     ]
    }
   ],
   "source": [
    "!bash ./0_Paralleled_ESN_Tune.sh \"tune\" 4000 1 1 5 \"grid_search.json\" "
   ]
  },
  {
   "cell_type": "code",
   "execution_count": 54,
   "metadata": {},
   "outputs": [
    {
     "name": "stdout",
     "output_type": "stream",
     "text": [
      "{'radius': 0.4, 'sigma_input': 0.1}\n",
      "[tuf-4090:598161] shmem: mmap: an error occurred while determining whether or not /tmp/ompi.tuf-4090.1000/jf.0/79429632/shared_mem_cuda_pool.tuf-4090 could be created.\n",
      "[tuf-4090:598161] create_and_attach: unable to create shared memory BTL coordinating structure :: size 134217728 \n",
      "/home/user/anaconda3/lib/python3.11/site-packages/numpy/core/_methods.py:236: RuntimeWarning: invalid value encountered in subtract\n",
      "  x = asanyarray(arr - arrmean)\n",
      "AVERAGE RMNSE ERROR ON TRAIN DATA SET: 1.3903278979785254 ± 0.0035445933617553435\n",
      "AVG NUMBER OF ACCURATE 0.5 PREDICTIONS ON TRAIN DATA SET: 1.7011311278074064 ± 0.11126185186315236\n",
      "AVG NUMBER OF ACCURATE 1 PREDICTIONS ON TRAIN DATA SET: 2.768365166911973 ± 0.1372857412503868\n",
      "POWER SPECTRUM MEAN ERROR ON TRAIN DATA SET: 0.4739304930315444 ± 0.2999415142447296\n",
      "TEMPORAL DISTANCE ON TRAIN DATA SET: 0.12581182580398648 ± 0.0017242379949911216\n",
      "GEOMETRICAL DISTANCE ON TRAIN DATA SET: inf ± nan\n",
      "\n",
      "\n",
      "AVERAGE RMNSE ERROR ON TEST DATA SET: 1.3895898998222953 ± 0.003241170553445906\n",
      "AVG NUMBER OF ACCURATE 0.5 PREDICTIONS ON TEST DATA SET: 1.8082175364930684 ± 0.1564339744116305\n",
      "AVG NUMBER OF ACCURATE 1 PREDICTIONS ON TEST DATA SET: 2.8092032041226065 ± 0.24502990383570322\n",
      "POWER SPECTRUM MEAN ERROR ON TEST DATA SET: 0.4050159473222713 ± 0.23236668684620737\n",
      "TEMPORAL DISTANCE ON TEST DATA SET: 0.12211898396638635 ± 0.0008510847422064289\n",
      "GEOMETRICAL DISTANCE ON TEST DATA SET: inf ± nan\n"
     ]
    }
   ],
   "source": [
    "!bash ./1_Paralleled_ESN_Evaluate_Tuned_Model.sh \"evaluate_tuned_model\" 4000 1 1 5 \"grid_search.json\" "
   ]
  },
  {
   "cell_type": "code",
   "execution_count": 55,
   "metadata": {},
   "outputs": [
    {
     "name": "stdout",
     "output_type": "stream",
     "text": [
      "Grid Search Progress:   0%|                                               | 0/25 [00:00<?, ?trial/s][tuf-4090:599846] shmem: mmap: an error occurred while determining whether or not /tmp/ompi.tuf-4090.1000/jf.0/3371237376/shared_mem_cuda_pool.tuf-4090 could be created.\n",
      "[tuf-4090:599846] create_and_attach: unable to create shared memory BTL coordinating structure :: size 134217728 \n",
      "Grid Search Progress: 100%|██████████| 25/25 [59:53<00:00, 143.74s/trial, Current Best Loss=0.13468]\n",
      "{'radius': 0.1, 'sigma_input': 0.1}\n"
     ]
    }
   ],
   "source": [
    "!bash ./0_Paralleled_ESN_Tune.sh \"tune\" 5000 1 1 6 \"grid_search.json\" "
   ]
  },
  {
   "cell_type": "code",
   "execution_count": 56,
   "metadata": {},
   "outputs": [
    {
     "name": "stdout",
     "output_type": "stream",
     "text": [
      "{'radius': 0.1, 'sigma_input': 0.1}\n",
      "[tuf-4090:609810] shmem: mmap: an error occurred while determining whether or not /tmp/ompi.tuf-4090.1000/jf.0/963182592/shared_mem_cuda_pool.tuf-4090 could be created.\n",
      "[tuf-4090:609810] create_and_attach: unable to create shared memory BTL coordinating structure :: size 134217728 \n",
      "/home/user/anaconda3/lib/python3.11/site-packages/numpy/core/_methods.py:236: RuntimeWarning: invalid value encountered in subtract\n",
      "  x = asanyarray(arr - arrmean)\n",
      "AVERAGE RMNSE ERROR ON TRAIN DATA SET: 1.3840741381986006 ± 0.004413283349394962\n",
      "AVG NUMBER OF ACCURATE 0.5 PREDICTIONS ON TRAIN DATA SET: 2.0464394202217666 ± 0.187256132919161\n",
      "AVG NUMBER OF ACCURATE 1 PREDICTIONS ON TRAIN DATA SET: 3.156553398397498 ± 0.2162447136110226\n",
      "POWER SPECTRUM MEAN ERROR ON TRAIN DATA SET: 0.33819555355473907 ± 0.19714061047419157\n",
      "TEMPORAL DISTANCE ON TRAIN DATA SET: 0.12490507695476702 ± 0.0014130182246072055\n",
      "GEOMETRICAL DISTANCE ON TRAIN DATA SET: inf ± nan\n",
      "\n",
      "\n",
      "AVERAGE RMNSE ERROR ON TEST DATA SET: 1.3855487611009722 ± 0.0035899611061910716\n",
      "AVG NUMBER OF ACCURATE 0.5 PREDICTIONS ON TEST DATA SET: 2.1244854468909784 ± 0.13603298214554482\n",
      "AVG NUMBER OF ACCURATE 1 PREDICTIONS ON TEST DATA SET: 3.3214936931315586 ± 0.1320461055419482\n",
      "POWER SPECTRUM MEAN ERROR ON TEST DATA SET: 0.2940187870263375 ± 0.16623199377811823\n",
      "TEMPORAL DISTANCE ON TEST DATA SET: 0.12243564856381743 ± 0.0014532814569844226\n",
      "GEOMETRICAL DISTANCE ON TEST DATA SET: inf ± nan\n"
     ]
    }
   ],
   "source": [
    "!bash ./1_Paralleled_ESN_Evaluate_Tuned_Model.sh \"evaluate_tuned_model\" 5000 1 1 6 \"grid_search.json\" "
   ]
  },
  {
   "cell_type": "code",
   "execution_count": 63,
   "metadata": {
    "editable": true,
    "slideshow": {
     "slide_type": ""
    },
    "tags": []
   },
   "outputs": [
    {
     "name": "stdout",
     "output_type": "stream",
     "text": [
      "Grid Search Progress:   0%|                                               | 0/25 [00:00<?, ?trial/s][tuf-4090:623958] shmem: mmap: an error occurred while determining whether or not /tmp/ompi.tuf-4090.1000/jf.0/1545732096/shared_mem_cuda_pool.tuf-4090 could be created.\n",
      "[tuf-4090:623958] create_and_attach: unable to create shared memory BTL coordinating structure :: size 134217728 \n",
      "Grid Search Progress: 100%|████████| 25/25 [1:06:57<00:00, 160.71s/trial, Current Best Loss=0.13339]\n",
      "{'radius': 0.1, 'sigma_input': 0.1}\n"
     ]
    }
   ],
   "source": [
    "!bash ./0_Paralleled_ESN_Tune.sh \"tune\" 6000 1 1 7 \"grid_search.json\" "
   ]
  },
  {
   "cell_type": "code",
   "execution_count": 64,
   "metadata": {},
   "outputs": [
    {
     "name": "stdout",
     "output_type": "stream",
     "text": [
      "{'radius': 0.1, 'sigma_input': 0.1}\n",
      "[tuf-4090:633953] shmem: mmap: an error occurred while determining whether or not /tmp/ompi.tuf-4090.1000/jf.0/2085552128/shared_mem_cuda_pool.tuf-4090 could be created.\n",
      "[tuf-4090:633953] create_and_attach: unable to create shared memory BTL coordinating structure :: size 134217728 \n",
      "/home/user/anaconda3/lib/python3.11/site-packages/numpy/core/_methods.py:236: RuntimeWarning: invalid value encountered in subtract\n",
      "  x = asanyarray(arr - arrmean)\n",
      "AVERAGE RMNSE ERROR ON TRAIN DATA SET: 1.3808799976064519 ± 0.0021392817825629574\n",
      "AVG NUMBER OF ACCURATE 0.5 PREDICTIONS ON TRAIN DATA SET: 2.324364951238581 ± 0.09761159973473868\n",
      "AVG NUMBER OF ACCURATE 1 PREDICTIONS ON TRAIN DATA SET: 3.4480916084845235 ± 0.10197805774035666\n",
      "POWER SPECTRUM MEAN ERROR ON TRAIN DATA SET: 0.5523666475286972 ± 0.3351734000674351\n",
      "TEMPORAL DISTANCE ON TRAIN DATA SET: 0.12530787431860535 ± 0.0011170058467222942\n",
      "GEOMETRICAL DISTANCE ON TRAIN DATA SET: inf ± nan\n",
      "\n",
      "\n",
      "AVERAGE RMNSE ERROR ON TEST DATA SET: 1.3830870268047677 ± 0.004281922363414667\n",
      "AVG NUMBER OF ACCURATE 0.5 PREDICTIONS ON TEST DATA SET: 2.293509545346102 ± 0.14457113082299378\n",
      "AVG NUMBER OF ACCURATE 1 PREDICTIONS ON TEST DATA SET: 3.484392086005088 ± 0.15509495844460883\n",
      "POWER SPECTRUM MEAN ERROR ON TEST DATA SET: 0.5156973679747046 ± 0.23278323541718368\n",
      "TEMPORAL DISTANCE ON TEST DATA SET: 0.12307996397538823 ± 0.001162807739668968\n",
      "GEOMETRICAL DISTANCE ON TEST DATA SET: inf ± nan\n"
     ]
    }
   ],
   "source": [
    "!bash ./1_Paralleled_ESN_Evaluate_Tuned_Model.sh \"evaluate_tuned_model\" 6000 1 1 7 \"grid_search.json\" "
   ]
  },
  {
   "cell_type": "code",
   "execution_count": null,
   "metadata": {},
   "outputs": [],
   "source": []
  }
 ],
 "metadata": {
  "kernelspec": {
   "display_name": "base",
   "language": "python",
   "name": "python3"
  },
  "language_info": {
   "codemirror_mode": {
    "name": "ipython",
    "version": 3
   },
   "file_extension": ".py",
   "mimetype": "text/x-python",
   "name": "python",
   "nbconvert_exporter": "python",
   "pygments_lexer": "ipython3",
   "version": "3.11.8"
  }
 },
 "nbformat": 4,
 "nbformat_minor": 4
}
