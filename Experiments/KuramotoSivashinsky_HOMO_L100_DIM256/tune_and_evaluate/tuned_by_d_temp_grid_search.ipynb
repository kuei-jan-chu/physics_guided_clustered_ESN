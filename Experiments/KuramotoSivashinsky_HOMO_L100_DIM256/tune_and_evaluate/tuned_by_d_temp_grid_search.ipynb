{
 "cells": [
  {
   "cell_type": "markdown",
   "metadata": {
    "editable": true,
    "slideshow": {
     "slide_type": ""
    },
    "tags": []
   },
   "source": [
    "# PGClustered ESN"
   ]
  },
  {
   "cell_type": "code",
   "execution_count": null,
   "metadata": {},
   "outputs": [],
   "source": [
    "!bash ./0_PGClustered_ESN_Tune.sh \"tune\" 500  1 \"grid_search.json\" "
   ]
  },
  {
   "cell_type": "code",
   "execution_count": null,
   "metadata": {},
   "outputs": [],
   "source": [
    "!bash ./1_PGClustered_ESN_Evaluate_Tuned_Model.sh \"evaluate_tuned_model\" 500  1 \"grid_search.json\" "
   ]
  },
  {
   "cell_type": "code",
   "execution_count": null,
   "metadata": {},
   "outputs": [],
   "source": [
    "!bash ./0_PGClustered_ESN_Tune.sh \"tune\" 1000  2 \"grid_search.json\" "
   ]
  },
  {
   "cell_type": "code",
   "execution_count": null,
   "metadata": {},
   "outputs": [],
   "source": [
    "!bash ./1_PGClustered_ESN_Evaluate_Tuned_Model.sh \"evaluate_tuned_model\" 1000  2 \"grid_search.json\" "
   ]
  },
  {
   "cell_type": "code",
   "execution_count": null,
   "metadata": {},
   "outputs": [],
   "source": [
    "!bash ./0_PGClustered_ESN_Tune.sh \"tune\" 2000  3 \"grid_search.json\" "
   ]
  },
  {
   "cell_type": "code",
   "execution_count": null,
   "metadata": {},
   "outputs": [],
   "source": [
    "!bash ./1_PGClustered_ESN_Evaluate_Tuned_Model.sh \"evaluate_tuned_model\" 2000  3 \"grid_search.json\" "
   ]
  },
  {
   "cell_type": "code",
   "execution_count": null,
   "metadata": {},
   "outputs": [],
   "source": [
    "!bash ./0_PGClustered_ESN_Tune.sh \"tune\" 3000  4 \"grid_search.json\" "
   ]
  },
  {
   "cell_type": "code",
   "execution_count": null,
   "metadata": {},
   "outputs": [],
   "source": [
    "!bash ./1_PGClustered_ESN_Evaluate_Tuned_Model.sh \"evaluate_tuned_model\" 3000  4 \"grid_search.json\" "
   ]
  },
  {
   "cell_type": "code",
   "execution_count": null,
   "metadata": {},
   "outputs": [],
   "source": [
    "!bash ./0_PGClustered_ESN_Tune.sh \"tune\" 4000  5 \"grid_search.json\" "
   ]
  },
  {
   "cell_type": "code",
   "execution_count": null,
   "metadata": {},
   "outputs": [],
   "source": [
    "!bash ./1_PGClustered_ESN_Evaluate_Tuned_Model.sh \"evaluate_tuned_model\" 4000  5 \"grid_search.json\" "
   ]
  },
  {
   "cell_type": "code",
   "execution_count": null,
   "metadata": {},
   "outputs": [],
   "source": [
    "!bash ./0_PGClustered_ESN_Tune.sh \"tune\" 5000  6 \"grid_search.json\" "
   ]
  },
  {
   "cell_type": "code",
   "execution_count": null,
   "metadata": {},
   "outputs": [],
   "source": [
    "!bash ./1_PGClustered_ESN_Evaluate_Tuned_Model.sh \"evaluate_tuned_model\" 5000  6 \"grid_search.json\" "
   ]
  },
  {
   "cell_type": "code",
   "execution_count": null,
   "metadata": {},
   "outputs": [],
   "source": [
    "!bash ./0_PGClustered_ESN_Tune.sh \"tune\" 6000  7 \"grid_search.json\" "
   ]
  },
  {
   "cell_type": "code",
   "execution_count": null,
   "metadata": {},
   "outputs": [],
   "source": [
    "!bash ./1_PGClustered_ESN_Evaluate_Tuned_Model.sh \"evaluate_tuned_model\" 6000  7 \"grid_search.json\" "
   ]
  },
  {
   "cell_type": "markdown",
   "metadata": {},
   "source": [
    "# Randomly Clustered ESN"
   ]
  },
  {
   "cell_type": "code",
   "execution_count": null,
   "metadata": {},
   "outputs": [],
   "source": [
    "!bash ./0_Randomly_Clustered_ESN_Tune.sh \"tune\" 500 1 \"grid_search.json\" "
   ]
  },
  {
   "cell_type": "code",
   "execution_count": null,
   "metadata": {},
   "outputs": [],
   "source": [
    "!bash ./1_Randomly_Clustered_ESN_Evaluate_Tuned_Model.sh \"evaluate_tuned_model\" 500 1 \"grid_search.json\" "
   ]
  },
  {
   "cell_type": "code",
   "execution_count": null,
   "metadata": {},
   "outputs": [],
   "source": [
    "!bash ./0_Randomly_Clustered_ESN_Tune.sh \"tune\" 1000 2 \"grid_search.json\" "
   ]
  },
  {
   "cell_type": "code",
   "execution_count": null,
   "metadata": {},
   "outputs": [],
   "source": [
    "!bash ./1_Randomly_Clustered_ESN_Evaluate_Tuned_Model.sh \"evaluate_tuned_model\" 1000 2 \"grid_search.json\" "
   ]
  },
  {
   "cell_type": "code",
   "execution_count": null,
   "metadata": {},
   "outputs": [],
   "source": [
    "!bash ./0_Randomly_Clustered_ESN_Tune.sh \"tune\" 2000 3 \"grid_search.json\" "
   ]
  },
  {
   "cell_type": "code",
   "execution_count": null,
   "metadata": {},
   "outputs": [],
   "source": [
    "!bash ./1_Randomly_Clustered_ESN_Evaluate_Tuned_Model.sh \"evaluate_tuned_model\" 2000 3 \"grid_search.json\" "
   ]
  },
  {
   "cell_type": "code",
   "execution_count": null,
   "metadata": {},
   "outputs": [],
   "source": [
    "!bash ./0_Randomly_Clustered_ESN_Tune.sh \"tune\" 3000 4 \"grid_search.json\" "
   ]
  },
  {
   "cell_type": "code",
   "execution_count": null,
   "metadata": {},
   "outputs": [],
   "source": [
    "!bash ./1_Randomly_Clustered_ESN_Evaluate_Tuned_Model.sh \"evaluate_tuned_model\" 3000 4 \"grid_search.json\" "
   ]
  },
  {
   "cell_type": "code",
   "execution_count": null,
   "metadata": {},
   "outputs": [],
   "source": [
    "!bash ./0_Randomly_Clustered_ESN_Tune.sh \"tune\" 4000 5 \"grid_search.json\" "
   ]
  },
  {
   "cell_type": "code",
   "execution_count": null,
   "metadata": {},
   "outputs": [],
   "source": [
    "!bash ./1_Randomly_Clustered_ESN_Evaluate_Tuned_Model.sh \"evaluate_tuned_model\" 4000 5 \"grid_search.json\" "
   ]
  },
  {
   "cell_type": "code",
   "execution_count": null,
   "metadata": {},
   "outputs": [],
   "source": [
    "!bash ./0_Randomly_Clustered_ESN_Tune.sh \"tune\" 5000 6 \"grid_search.json\" "
   ]
  },
  {
   "cell_type": "code",
   "execution_count": null,
   "metadata": {},
   "outputs": [],
   "source": [
    "!bash ./1_Randomly_Clustered_ESN_Evaluate_Tuned_Model.sh \"evaluate_tuned_model\" 5000 6 \"grid_search.json\" "
   ]
  },
  {
   "cell_type": "code",
   "execution_count": null,
   "metadata": {},
   "outputs": [],
   "source": [
    "!bash ./0_Randomly_Clustered_ESN_Tune.sh \"tune\" 6000 7 \"grid_search.json\" "
   ]
  },
  {
   "cell_type": "code",
   "execution_count": null,
   "metadata": {},
   "outputs": [],
   "source": [
    "!bash ./1_Randomly_Clustered_ESN_Evaluate_Tuned_Model.sh \"evaluate_tuned_model\" 6000 7 \"grid_search.json\" "
   ]
  },
  {
   "cell_type": "markdown",
   "metadata": {},
   "source": [
    "# Standard ESN"
   ]
  },
  {
   "cell_type": "code",
   "execution_count": null,
   "metadata": {},
   "outputs": [],
   "source": [
    "!bash ./0_Standard_ESN_Tune.sh \"tune\" 500 1 \"grid_search.json\" "
   ]
  },
  {
   "cell_type": "code",
   "execution_count": null,
   "metadata": {},
   "outputs": [],
   "source": [
    "!bash ./1_Standard_ESN_Evaluate_Tuned_Model.sh \"evaluate_tuned_model\" 500 1 \"grid_search.json\" "
   ]
  },
  {
   "cell_type": "code",
   "execution_count": null,
   "metadata": {},
   "outputs": [],
   "source": [
    "!bash ./0_Standard_ESN_Tune.sh \"tune\" 1000 2 \"grid_search.json\" "
   ]
  },
  {
   "cell_type": "code",
   "execution_count": null,
   "metadata": {},
   "outputs": [],
   "source": [
    "!bash ./1_Standard_ESN_Evaluate_Tuned_Model.sh \"evaluate_tuned_model\" 1000 2 \"grid_search.json\" "
   ]
  },
  {
   "cell_type": "code",
   "execution_count": null,
   "metadata": {},
   "outputs": [],
   "source": [
    "!bash ./0_Standard_ESN_Tune.sh \"tune\" 2000 3 \"grid_search.json\" "
   ]
  },
  {
   "cell_type": "code",
   "execution_count": null,
   "metadata": {},
   "outputs": [],
   "source": [
    "!bash ./1_Standard_ESN_Evaluate_Tuned_Model.sh \"evaluate_tuned_model\" 2000 3 \"grid_search.json\" "
   ]
  },
  {
   "cell_type": "code",
   "execution_count": null,
   "metadata": {},
   "outputs": [],
   "source": [
    "!bash ./0_Standard_ESN_Tune.sh \"tune\" 3000 4 \"grid_search.json\" "
   ]
  },
  {
   "cell_type": "code",
   "execution_count": null,
   "metadata": {},
   "outputs": [],
   "source": [
    "!bash ./1_Standard_ESN_Evaluate_Tuned_Model.sh \"evaluate_tuned_model\" 3000 4 \"grid_search.json\" "
   ]
  },
  {
   "cell_type": "code",
   "execution_count": null,
   "metadata": {},
   "outputs": [],
   "source": [
    "!bash ./0_Standard_ESN_Tune.sh \"tune\" 4000 5 \"grid_search.json\" "
   ]
  },
  {
   "cell_type": "code",
   "execution_count": null,
   "metadata": {},
   "outputs": [],
   "source": [
    "!bash ./1_Standard_ESN_Evaluate_Tuned_Model.sh \"evaluate_tuned_model\" 4000 5 \"grid_search.json\" "
   ]
  },
  {
   "cell_type": "code",
   "execution_count": null,
   "metadata": {},
   "outputs": [],
   "source": [
    "!bash ./0_Standard_ESN_Tune.sh \"tune\" 5000 6 \"grid_search.json\" "
   ]
  },
  {
   "cell_type": "code",
   "execution_count": null,
   "metadata": {},
   "outputs": [],
   "source": [
    "!bash ./1_Standard_ESN_Evaluate_Tuned_Model.sh \"evaluate_tuned_model\" 5000 6 \"grid_search.json\" "
   ]
  },
  {
   "cell_type": "code",
   "execution_count": null,
   "metadata": {},
   "outputs": [],
   "source": [
    "!bash ./0_Standard_ESN_Tune.sh \"tune\" 6000 7 \"grid_search.json\" "
   ]
  },
  {
   "cell_type": "code",
   "execution_count": null,
   "metadata": {},
   "outputs": [],
   "source": [
    "!bash ./1_Standard_ESN_Evaluate_Tuned_Model.sh \"evaluate_tuned_model\" 6000 7 \"grid_search.json\" "
   ]
  },
  {
   "cell_type": "markdown",
   "metadata": {},
   "source": [
    "## Parallel ESN"
   ]
  },
  {
   "cell_type": "code",
   "execution_count": null,
   "metadata": {},
   "outputs": [],
   "source": [
    "!bash ./0_Paralleled_ESN_Tune.sh \"tune\" 256 1 1 0 \"grid_search.json\" "
   ]
  },
  {
   "cell_type": "code",
   "execution_count": null,
   "metadata": {},
   "outputs": [],
   "source": [
    "!bash ./1_Paralleled_ESN_Evaluate_Tuned_Model.sh \"evaluate_tuned_model\" 256 1 1 0 \"grid_search.json\" "
   ]
  },
  {
   "cell_type": "code",
   "execution_count": null,
   "metadata": {},
   "outputs": [],
   "source": [
    "!bash ./0_Paralleled_ESN_Tune.sh \"tune\" 500 1 1 1 \"grid_search.json\" "
   ]
  },
  {
   "cell_type": "code",
   "execution_count": null,
   "metadata": {},
   "outputs": [],
   "source": [
    "!bash ./1_Paralleled_ESN_Evaluate_Tuned_Model.sh \"evaluate_tuned_model\" 500 1 1 1 \"grid_search.json\" "
   ]
  },
  {
   "cell_type": "code",
   "execution_count": null,
   "metadata": {},
   "outputs": [],
   "source": [
    "!bash ./0_Paralleled_ESN_Tune.sh \"tune\" 1000 1 1 2 \"grid_search.json\" "
   ]
  },
  {
   "cell_type": "code",
   "execution_count": null,
   "metadata": {},
   "outputs": [],
   "source": [
    "!bash ./1_Paralleled_ESN_Evaluate_Tuned_Model.sh \"evaluate_tuned_model\" 1000 1 1 2 \"grid_search.json\" "
   ]
  },
  {
   "cell_type": "code",
   "execution_count": null,
   "metadata": {},
   "outputs": [],
   "source": [
    "!bash ./0_Paralleled_ESN_Tune.sh \"tune\" 2000 1 1 3 \"grid_search.json\" "
   ]
  },
  {
   "cell_type": "code",
   "execution_count": null,
   "metadata": {},
   "outputs": [],
   "source": [
    "!bash ./1_Paralleled_ESN_Evaluate_Tuned_Model.sh \"evaluate_tuned_model\" 2000 1 1 3 \"grid_search.json\" "
   ]
  },
  {
   "cell_type": "code",
   "execution_count": null,
   "metadata": {},
   "outputs": [],
   "source": [
    "!bash ./0_Paralleled_ESN_Tune.sh \"tune\" 3000 1 1 4 \"grid_search.json\" "
   ]
  },
  {
   "cell_type": "code",
   "execution_count": null,
   "metadata": {},
   "outputs": [],
   "source": [
    "!bash ./1_Paralleled_ESN_Evaluate_Tuned_Model.sh \"evaluate_tuned_model\" 3000 1 1 4 \"grid_search.json\" "
   ]
  },
  {
   "cell_type": "code",
   "execution_count": null,
   "metadata": {},
   "outputs": [],
   "source": [
    "!bash ./0_Paralleled_ESN_Tune.sh \"tune\" 4000 1 1 5 \"grid_search.json\" "
   ]
  },
  {
   "cell_type": "code",
   "execution_count": null,
   "metadata": {},
   "outputs": [],
   "source": [
    "!bash ./1_Paralleled_ESN_Evaluate_Tuned_Model.sh \"evaluate_tuned_model\" 4000 1 1 5 \"grid_search.json\" "
   ]
  },
  {
   "cell_type": "code",
   "execution_count": null,
   "metadata": {},
   "outputs": [],
   "source": [
    "!bash ./0_Paralleled_ESN_Tune.sh \"tune\" 5000 1 1 6 \"grid_search.json\" "
   ]
  },
  {
   "cell_type": "code",
   "execution_count": null,
   "metadata": {},
   "outputs": [],
   "source": [
    "!bash ./1_Paralleled_ESN_Evaluate_Tuned_Model.sh \"evaluate_tuned_model\" 5000 1 1 6 \"grid_search.json\" "
   ]
  },
  {
   "cell_type": "code",
   "execution_count": null,
   "metadata": {
    "editable": true,
    "slideshow": {
     "slide_type": ""
    },
    "tags": []
   },
   "outputs": [],
   "source": [
    "!bash ./0_Paralleled_ESN_Tune.sh \"tune\" 6000 1 1 7 \"grid_search.json\" "
   ]
  },
  {
   "cell_type": "code",
   "execution_count": null,
   "metadata": {},
   "outputs": [],
   "source": [
    "!bash ./1_Paralleled_ESN_Evaluate_Tuned_Model.sh \"evaluate_tuned_model\" 6000 1 1 7 \"grid_search.json\" "
   ]
  }
 ],
 "metadata": {
  "kernelspec": {
   "display_name": "base",
   "language": "python",
   "name": "python3"
  },
  "language_info": {
   "codemirror_mode": {
    "name": "ipython",
    "version": 3
   },
   "file_extension": ".py",
   "mimetype": "text/x-python",
   "name": "python",
   "nbconvert_exporter": "python",
   "pygments_lexer": "ipython3",
   "version": "3.11.8"
  }
 },
 "nbformat": 4,
 "nbformat_minor": 4
}
