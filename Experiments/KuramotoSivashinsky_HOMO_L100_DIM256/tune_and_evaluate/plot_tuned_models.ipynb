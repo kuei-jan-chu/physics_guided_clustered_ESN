{
 "cells": [
  {
   "cell_type": "code",
   "execution_count": null,
   "metadata": {},
   "outputs": [],
   "source": [
    "!bash ./2_PGClustered_ESN_Plot_Tuned_Model.sh \"plot_tuned_model\" 2000 3 \"grid_search.json\" "
   ]
  },
  {
   "cell_type": "code",
   "execution_count": null,
   "metadata": {},
   "outputs": [],
   "source": [
    "!bash ./2_Randomly_Clustered_ESN_Plot_Tuned_Model.sh \"plot_tuned_model\" 2000 3 \"grid_search.json\" "
   ]
  },
  {
   "cell_type": "code",
   "execution_count": null,
   "metadata": {},
   "outputs": [],
   "source": [
    "!bash ./2_Standard_ESN_Plot_Tuned_Model.sh \"plot_tuned_model\" 2000 3 \"grid_search.json\" "
   ]
  },
  {
   "cell_type": "code",
   "execution_count": null,
   "metadata": {},
   "outputs": [],
   "source": [
    "!bash ./2_Paralleled_ESN_Plot_Tuned_Model.sh \"plot_tuned_model\" 2000 3 \"grid_search.json\" "
   ]
  }
 ],
 "metadata": {
  "kernelspec": {
   "display_name": "base",
   "language": "python",
   "name": "python3"
  },
  "language_info": {
   "codemirror_mode": {
    "name": "ipython",
    "version": 3
   },
   "file_extension": ".py",
   "mimetype": "text/x-python",
   "name": "python",
   "nbconvert_exporter": "python",
   "pygments_lexer": "ipython3",
   "version": "3.11.8"
  }
 },
 "nbformat": 4,
 "nbformat_minor": 4
}
