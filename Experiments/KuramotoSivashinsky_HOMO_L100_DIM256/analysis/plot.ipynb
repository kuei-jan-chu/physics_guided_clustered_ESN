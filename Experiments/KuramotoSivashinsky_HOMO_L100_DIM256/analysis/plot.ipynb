{
 "cells": [
  {
   "cell_type": "code",
   "execution_count": 1,
   "metadata": {},
   "outputs": [],
   "source": [
    "!bash ./KS_Plot_Metric_Results_Over_Model_size.sh  \"pgclustered_esn randomly_clustered_esn standard_esn paralleled_esn\" "
   ]
  },
  {
   "cell_type": "code",
   "execution_count": 2,
   "metadata": {},
   "outputs": [
    {
     "name": "stdout",
     "output_type": "stream",
     "text": [
      "[tuf-4090:879362] shmem: mmap: an error occurred while determining whether or not /tmp/ompi.tuf-4090.1000/jf.0/1013972992/shared_mem_cuda_pool.tuf-4090 could be created.\n",
      "[tuf-4090:879362] create_and_attach: unable to create shared memory BTL coordinating structure :: size 134217728 \n"
     ]
    }
   ],
   "source": [
    "!bash ./KS_Plot_All_NRMSE_of_One_Model_size.sh \"plot_nrmse_over_all_model_with_size_fixed\" \"pgclustered_esn randomly_clustered_esn standard_esn paralleled_esn\" \"grid_search.json\" 3 2000"
   ]
  },
  {
   "cell_type": "code",
   "execution_count": 3,
   "metadata": {},
   "outputs": [
    {
     "name": "stdout",
     "output_type": "stream",
     "text": [
      "[tuf-4090:879370] shmem: mmap: an error occurred while determining whether or not /tmp/ompi.tuf-4090.1000/jf.0/951386112/shared_mem_cuda_pool.tuf-4090 could be created.\n",
      "[tuf-4090:879370] create_and_attach: unable to create shared memory BTL coordinating structure :: size 134217728 \n"
     ]
    }
   ],
   "source": [
    "!bash ./KS_Plot_All_NRMSE_of_One_Model_size.sh \"plot_nrmse_over_all_model_with_size_fixed\" \"pgclustered_esn randomly_clustered_esn standard_esn paralleled_esn\" \"grid_search.json\" 4 3000"
   ]
  },
  {
   "cell_type": "code",
   "execution_count": null,
   "metadata": {},
   "outputs": [],
   "source": []
  }
 ],
 "metadata": {
  "kernelspec": {
   "display_name": "base",
   "language": "python",
   "name": "python3"
  },
  "language_info": {
   "codemirror_mode": {
    "name": "ipython",
    "version": 3
   },
   "file_extension": ".py",
   "mimetype": "text/x-python",
   "name": "python",
   "nbconvert_exporter": "python",
   "pygments_lexer": "ipython3",
   "version": "3.11.8"
  }
 },
 "nbformat": 4,
 "nbformat_minor": 4
}
