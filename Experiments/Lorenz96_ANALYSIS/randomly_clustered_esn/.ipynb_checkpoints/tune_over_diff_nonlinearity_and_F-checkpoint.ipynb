{
 "cells": [
  {
   "cell_type": "markdown",
   "metadata": {},
   "source": [
    "# Over nonlinearity"
   ]
  },
  {
   "cell_type": "code",
   "execution_count": null,
   "metadata": {},
   "outputs": [
    {
     "name": "stdout",
     "output_type": "stream",
     "text": [
      "Grid Search Progress:  12%|█        | 3/25 [14:02<1:42:24, 279.31s/trial, Current Best Loss=0.12229]/home/user/kuei_jan_CHU/PGClustered_ESN/Methods/./Utils/global_utils.py:254: RuntimeWarning: divide by zero encountered in log10\n",
      "  s_dbfs = 20 * np.log10(s_mag)\n",
      "Grid Search Progress: 100%|████████| 25/25 [1:43:56<00:00, 249.47s/trial, Current Best Loss=0.12229]\n",
      "{'radius': 0.1, 'sigma_input': 0.1, 'regularization': 0.01, 'in_cluster_weight': 0.5, 'noise_level': 5}\n"
     ]
    }
   ],
   "source": [
    "!bash ./0_Randomly_Clustered_ESN_Tune.sh \"tune\" \"Lorenz96_F8_ALPHA1_DIM40\" 3000 0.1 0.1 1 \"grid_search.json\""
   ]
  },
  {
   "cell_type": "code",
   "execution_count": null,
   "metadata": {},
   "outputs": [
    {
     "name": "stdout",
     "output_type": "stream",
     "text": [
      "AVERAGE RMNSE ERROR ON TRAIN DATA SET: 1.371629697208081 ± 0.0057751439771872425\n",
      "AVG NUMBER OF ACCURATE 0.5 PREDICTIONS ON TRAIN DATA SET: 2.2943819158175165 ± 0.10979067228913157\n",
      "AVG NUMBER OF ACCURATE 1 PREDICTIONS ON TRAIN DATA SET: 3.6480858433063426 ± 0.20104572505999455\n",
      "POWER SPECTRUM MEAN ERROR ON TRAIN DATA SET: 0.41071389951009796 ± 0.2749862098447177\n",
      "TEMPORAL DISTANCE ON TRAIN DATA SET: 0.10854661347516163 ± 0.001443832961070452\n",
      "GEOMETRICAL DISTANCE ON TRAIN DATA SET: 12.987024678868048 ± 0.08286553235744355\n",
      "\n",
      "\n",
      "AVERAGE RMNSE ERROR ON TEST DATA SET: 1.3787928555935651 ± 0.006514821289008156\n",
      "AVG NUMBER OF ACCURATE 0.5 PREDICTIONS ON TEST DATA SET: 1.6823664022032354 ± 0.11466662360412623\n",
      "AVG NUMBER OF ACCURATE 1 PREDICTIONS ON TEST DATA SET: 2.9112157836135673 ± 0.21756280501911218\n",
      "POWER SPECTRUM MEAN ERROR ON TEST DATA SET: 0.7885076048315722 ± 0.4021333431526535\n",
      "TEMPORAL DISTANCE ON TEST DATA SET: 0.1080066719686383 ± 0.0014783577848605657\n",
      "GEOMETRICAL DISTANCE ON TEST DATA SET: 13.024721587125716 ± 0.06344632878313329\n"
     ]
    }
   ],
   "source": [
    "!bash ./1_Randomly_Clustered_ESN_Evaluate_Tuned_Model.sh \"evaluate_tuned_model\" \"Lorenz96_F8_ALPHA1_DIM40\" 3000 0.1 0.1 1 \"grid_search.json\""
   ]
  },
  {
   "cell_type": "code",
   "execution_count": 1,
   "metadata": {},
   "outputs": [
    {
     "name": "stdout",
     "output_type": "stream",
     "text": [
      "Grid Search Progress:   8%|▋        | 2/25 [06:19<1:12:13, 188.39s/trial, Current Best Loss=0.11390]/home/user/kuei_jan_CHU/PGClustered_ESN/Methods/./Utils/global_utils.py:256: RuntimeWarning: divide by zero encountered in log10\n",
      "  s_dbfs = 20 * np.log10(s_mag)\n",
      "Grid Search Progress: 100%|████████| 25/25 [1:43:02<00:00, 247.30s/trial, Current Best Loss=0.11324]\n",
      "{'radius': 0.7, 'sigma_input': 0.1}\n"
     ]
    }
   ],
   "source": [
    "!bash ./0_Randomly_Clustered_ESN_Tune.sh \"tune\" \"Lorenz96_F8_ALPHA2_DIM40\" 3000 0.1 0.1 2 \"grid_search.json\"    "
   ]
  },
  {
   "cell_type": "code",
   "execution_count": 2,
   "metadata": {},
   "outputs": [
    {
     "name": "stdout",
     "output_type": "stream",
     "text": [
      "{'radius': 0.7, 'sigma_input': 0.1}\n",
      "AVERAGE RMNSE ERROR ON TRAIN DATA SET: 1.3846623299238963 ± 0.004470106969505306\n",
      "AVG NUMBER OF ACCURATE 0.5 PREDICTIONS ON TRAIN DATA SET: 2.2672017586570443 ± 0.14867264815240966\n",
      "AVG NUMBER OF ACCURATE 1 PREDICTIONS ON TRAIN DATA SET: 3.4656946842693173 ± 0.23769914569446673\n",
      "POWER SPECTRUM MEAN ERROR ON TRAIN DATA SET: 0.7324242234027025 ± 0.37859887515220875\n",
      "TEMPORAL DISTANCE ON TRAIN DATA SET: 0.09641708879054137 ± 0.0009672454041505839\n",
      "GEOMETRICAL DISTANCE ON TRAIN DATA SET: 12.505486937807381 ± 0.08017330257166645\n",
      "\n",
      "\n",
      "AVERAGE RMNSE ERROR ON TEST DATA SET: 1.3848710485751392 ± 0.005044923651100885\n",
      "AVG NUMBER OF ACCURATE 0.5 PREDICTIONS ON TEST DATA SET: 1.9603523480586627 ± 0.12375085856600772\n",
      "AVG NUMBER OF ACCURATE 1 PREDICTIONS ON TEST DATA SET: 3.1467856898482913 ± 0.24170606820806156\n",
      "POWER SPECTRUM MEAN ERROR ON TEST DATA SET: 0.5029586839581157 ± 0.2997109874693675\n",
      "TEMPORAL DISTANCE ON TEST DATA SET: 0.09715395164442608 ± 0.0009648024933928794\n",
      "GEOMETRICAL DISTANCE ON TEST DATA SET: 12.396500068963187 ± 0.09805205238352005\n"
     ]
    }
   ],
   "source": [
    "!bash ./1_Randomly_Clustered_ESN_Evaluate_Tuned_Model.sh \"evaluate_tuned_model\" \"Lorenz96_F8_ALPHA2_DIM40\" 3000 0.1 0.1 2 \"grid_search.json\" "
   ]
  },
  {
   "cell_type": "code",
   "execution_count": 3,
   "metadata": {},
   "outputs": [
    {
     "name": "stdout",
     "output_type": "stream",
     "text": [
      "Grid Search Progress:   4%|▎        | 1/25 [05:09<2:03:53, 309.73s/trial, Current Best Loss=0.12748]/home/user/kuei_jan_CHU/PGClustered_ESN/Methods/./Utils/global_utils.py:256: RuntimeWarning: divide by zero encountered in log10\n",
      "  s_dbfs = 20 * np.log10(s_mag)\n",
      "Grid Search Progress: 100%|████████| 25/25 [1:47:13<00:00, 257.33s/trial, Current Best Loss=0.11256]\n",
      "{'radius': 0.7, 'sigma_input': 0.1}\n"
     ]
    }
   ],
   "source": [
    "!bash ./0_Randomly_Clustered_ESN_Tune.sh \"tune\" \"Lorenz96_F8_ALPHA3_DIM40\" 3000 0.1 0.1 3 \"grid_search.json\" "
   ]
  },
  {
   "cell_type": "code",
   "execution_count": 4,
   "metadata": {},
   "outputs": [
    {
     "name": "stdout",
     "output_type": "stream",
     "text": [
      "{'radius': 0.7, 'sigma_input': 0.1}\n",
      "/home/user/anaconda3/lib/python3.11/site-packages/numpy/core/_methods.py:236: RuntimeWarning: invalid value encountered in subtract\n",
      "  x = asanyarray(arr - arrmean)\n",
      "AVERAGE RMNSE ERROR ON TRAIN DATA SET: 1.4053970422205428 ± 0.005985618748659979\n",
      "AVG NUMBER OF ACCURATE 0.5 PREDICTIONS ON TRAIN DATA SET: 2.2367806736267988 ± 0.12555475589798962\n",
      "AVG NUMBER OF ACCURATE 1 PREDICTIONS ON TRAIN DATA SET: 3.3264155923943215 ± 0.20519073213888664\n",
      "POWER SPECTRUM MEAN ERROR ON TRAIN DATA SET: 1.0301037306084144 ± 0.2313274947818869\n",
      "TEMPORAL DISTANCE ON TRAIN DATA SET: 0.0977007724439639 ± 0.0024026899537318417\n",
      "GEOMETRICAL DISTANCE ON TRAIN DATA SET: 12.095276297340469 ± 0.14174159608633352\n",
      "\n",
      "\n",
      "AVERAGE RMNSE ERROR ON TEST DATA SET: 1.4913960212833497 ± 0.35819980297806575\n",
      "AVG NUMBER OF ACCURATE 0.5 PREDICTIONS ON TEST DATA SET: 1.9123748894587582 ± 0.10668138199707854\n",
      "AVG NUMBER OF ACCURATE 1 PREDICTIONS ON TEST DATA SET: 2.8657705460283434 ± 0.12378519215108784\n",
      "POWER SPECTRUM MEAN ERROR ON TEST DATA SET: 1.207745788697079 ± 0.36459434632230825\n",
      "TEMPORAL DISTANCE ON TEST DATA SET: 0.10454991848851473 ± 0.022153878690071495\n",
      "GEOMETRICAL DISTANCE ON TEST DATA SET: inf ± nan\n"
     ]
    }
   ],
   "source": [
    "!bash ./1_Randomly_Clustered_ESN_Evaluate_Tuned_Model.sh \"evaluate_tuned_model\" \"Lorenz96_F8_ALPHA3_DIM40\" 3000 0.1 0.1 3 \"grid_search.json\" "
   ]
  },
  {
   "cell_type": "code",
   "execution_count": 5,
   "metadata": {},
   "outputs": [
    {
     "name": "stdout",
     "output_type": "stream",
     "text": [
      "Grid Search Progress:   0%|                                               | 0/25 [00:00<?, ?trial/s]/home/user/kuei_jan_CHU/PGClustered_ESN/Methods/./Utils/global_utils.py:256: RuntimeWarning: divide by zero encountered in log10\n",
      "  s_dbfs = 20 * np.log10(s_mag)\n",
      "Grid Search Progress: 100%|████████| 25/25 [1:25:26<00:00, 205.05s/trial, Current Best Loss=0.18481]\n",
      "{'radius': 0.7, 'sigma_input': 0.5}\n"
     ]
    }
   ],
   "source": [
    "!bash ./0_Randomly_Clustered_ESN_Tune.sh \"tune\" \"Lorenz96_F8_ALPHA4_DIM40\" 3000 0.1 0.1 4 \"grid_search.json\" "
   ]
  },
  {
   "cell_type": "code",
   "execution_count": 6,
   "metadata": {},
   "outputs": [
    {
     "name": "stdout",
     "output_type": "stream",
     "text": [
      "{'radius': 0.7, 'sigma_input': 0.5}\n",
      "/home/user/kuei_jan_CHU/PGClustered_ESN/Methods/./Utils/global_utils.py:256: RuntimeWarning: divide by zero encountered in log10\n",
      "  s_dbfs = 20 * np.log10(s_mag)\n",
      "/home/user/anaconda3/lib/python3.11/site-packages/numpy/core/_methods.py:236: RuntimeWarning: invalid value encountered in subtract\n",
      "  x = asanyarray(arr - arrmean)\n",
      "AVERAGE RMNSE ERROR ON TRAIN DATA SET: 3.248863283645953 ± 0.49082119158538545\n",
      "AVG NUMBER OF ACCURATE 0.5 PREDICTIONS ON TRAIN DATA SET: 0.673358133118658 ± 0.049657065422536395\n",
      "AVG NUMBER OF ACCURATE 1 PREDICTIONS ON TRAIN DATA SET: 1.306857979677647 ± 0.09527253315035338\n",
      "POWER SPECTRUM MEAN ERROR ON TRAIN DATA SET: 10.263595502493091 ± 12.2962190411759\n",
      "TEMPORAL DISTANCE ON TRAIN DATA SET: 0.24353707270087765 ± 0.10278098921872943\n",
      "GEOMETRICAL DISTANCE ON TRAIN DATA SET: inf ± nan\n",
      "\n",
      "\n",
      "AVERAGE RMNSE ERROR ON TEST DATA SET: 3.2614521435233508 ± 0.4929142446842792\n",
      "AVG NUMBER OF ACCURATE 0.5 PREDICTIONS ON TEST DATA SET: 0.6282089235643425 ± 0.03054512160710924\n",
      "AVG NUMBER OF ACCURATE 1 PREDICTIONS ON TEST DATA SET: 1.2299632321554532 ± 0.05350667055564683\n",
      "POWER SPECTRUM MEAN ERROR ON TEST DATA SET: inf ± nan\n",
      "TEMPORAL DISTANCE ON TEST DATA SET: 0.24744419684792113 ± 0.10350451227735885\n",
      "GEOMETRICAL DISTANCE ON TEST DATA SET: inf ± nan\n"
     ]
    }
   ],
   "source": [
    "!bash ./1_Randomly_Clustered_ESN_Evaluate_Tuned_Model.sh \"evaluate_tuned_model\" \"Lorenz96_F8_ALPHA4_DIM40\" 3000 0.1 0.1 4 \"grid_search.json\" "
   ]
  },
  {
   "cell_type": "code",
   "execution_count": 7,
   "metadata": {},
   "outputs": [
    {
     "name": "stdout",
     "output_type": "stream",
     "text": [
      "Grid Search Progress:   0%|                                               | 0/25 [00:00<?, ?trial/s]/home/user/kuei_jan_CHU/PGClustered_ESN/Methods/./Utils/global_utils.py:256: RuntimeWarning: divide by zero encountered in log10\n",
      "  s_dbfs = 20 * np.log10(s_mag)\n",
      "Grid Search Progress: 100%|████████| 25/25 [1:03:41<00:00, 152.86s/trial, Current Best Loss=0.20551]\n",
      "{'radius': 0.7, 'sigma_input': 0.5}\n"
     ]
    }
   ],
   "source": [
    "!bash ./0_Randomly_Clustered_ESN_Tune.sh \"tune\" \"Lorenz96_F8_ALPHA5_DIM40\" 3000 0.1 0.1 5 \"grid_search.json\" "
   ]
  },
  {
   "cell_type": "code",
   "execution_count": 8,
   "metadata": {},
   "outputs": [
    {
     "name": "stdout",
     "output_type": "stream",
     "text": [
      "{'radius': 0.7, 'sigma_input': 0.5}\n",
      "/home/user/kuei_jan_CHU/PGClustered_ESN/Methods/./Utils/global_utils.py:256: RuntimeWarning: divide by zero encountered in log10\n",
      "  s_dbfs = 20 * np.log10(s_mag)\n",
      "/home/user/anaconda3/lib/python3.11/site-packages/numpy/core/_methods.py:236: RuntimeWarning: invalid value encountered in subtract\n",
      "  x = asanyarray(arr - arrmean)\n",
      "AVERAGE RMNSE ERROR ON TRAIN DATA SET: 3.3831143606102785 ± 0.6140401455390292\n",
      "AVG NUMBER OF ACCURATE 0.5 PREDICTIONS ON TRAIN DATA SET: 0.6543709830637288 ± 0.037774055785230784\n",
      "AVG NUMBER OF ACCURATE 1 PREDICTIONS ON TRAIN DATA SET: 1.3574315325388702 ± 0.08684005614442095\n",
      "POWER SPECTRUM MEAN ERROR ON TRAIN DATA SET: inf ± nan\n",
      "TEMPORAL DISTANCE ON TRAIN DATA SET: 0.22148317558045266 ± 0.04523364474977078\n",
      "GEOMETRICAL DISTANCE ON TRAIN DATA SET: inf ± nan\n",
      "\n",
      "\n",
      "AVERAGE RMNSE ERROR ON TEST DATA SET: 3.38599789360997 ± 0.6182593928136718\n",
      "AVG NUMBER OF ACCURATE 0.5 PREDICTIONS ON TEST DATA SET: 0.5729418806170555 ± 0.0339831995653472\n",
      "AVG NUMBER OF ACCURATE 1 PREDICTIONS ON TEST DATA SET: 1.1618337916102637 ± 0.09266225368748571\n",
      "POWER SPECTRUM MEAN ERROR ON TEST DATA SET: inf ± nan\n",
      "TEMPORAL DISTANCE ON TEST DATA SET: 0.22101628935142084 ± 0.042016071239010994\n",
      "GEOMETRICAL DISTANCE ON TEST DATA SET: inf ± nan\n"
     ]
    }
   ],
   "source": [
    "!bash ./1_Randomly_Clustered_ESN_Evaluate_Tuned_Model.sh \"evaluate_tuned_model\" \"Lorenz96_F8_ALPHA5_DIM40\" 3000 0.1 0.1 5 \"grid_search.json\" "
   ]
  },
  {
   "cell_type": "code",
   "execution_count": 9,
   "metadata": {},
   "outputs": [
    {
     "name": "stdout",
     "output_type": "stream",
     "text": [
      "Grid Search Progress:   0%|                                               | 0/25 [00:00<?, ?trial/s]/home/user/kuei_jan_CHU/PGClustered_ESN/Methods/./Utils/global_utils.py:256: RuntimeWarning: divide by zero encountered in log10\n",
      "  s_dbfs = 20 * np.log10(s_mag)\n",
      "Grid Search Progress: 100%|████████| 25/25 [1:01:59<00:00, 148.79s/trial, Current Best Loss=0.21400]\n",
      "{'radius': 0.7, 'sigma_input': 0.5}\n"
     ]
    }
   ],
   "source": [
    "!bash ./0_Randomly_Clustered_ESN_Tune.sh \"tune\" \"Lorenz96_F8_ALPHA6_DIM40\" 3000 0.1 0.1 6 \"grid_search.json\" "
   ]
  },
  {
   "cell_type": "code",
   "execution_count": 10,
   "metadata": {},
   "outputs": [
    {
     "name": "stdout",
     "output_type": "stream",
     "text": [
      "{'radius': 0.7, 'sigma_input': 0.5}\n",
      "/home/user/kuei_jan_CHU/PGClustered_ESN/Methods/./Utils/global_utils.py:256: RuntimeWarning: divide by zero encountered in log10\n",
      "  s_dbfs = 20 * np.log10(s_mag)\n",
      "/home/user/anaconda3/lib/python3.11/site-packages/numpy/core/_methods.py:236: RuntimeWarning: invalid value encountered in subtract\n",
      "  x = asanyarray(arr - arrmean)\n",
      "AVERAGE RMNSE ERROR ON TRAIN DATA SET: 3.2708496512154523 ± 0.6844120225101281\n",
      "AVG NUMBER OF ACCURATE 0.5 PREDICTIONS ON TRAIN DATA SET: 0.6799652000628778 ± 0.05797441186709681\n",
      "AVG NUMBER OF ACCURATE 1 PREDICTIONS ON TRAIN DATA SET: 1.4007763662072714 ± 0.08355746065607057\n",
      "POWER SPECTRUM MEAN ERROR ON TRAIN DATA SET: inf ± nan\n",
      "TEMPORAL DISTANCE ON TRAIN DATA SET: 0.22614355958780524 ± 0.04887619246510131\n",
      "GEOMETRICAL DISTANCE ON TRAIN DATA SET: inf ± nan\n",
      "\n",
      "\n",
      "AVERAGE RMNSE ERROR ON TEST DATA SET: 3.283273776134356 ± 0.6928195304559571\n",
      "AVG NUMBER OF ACCURATE 0.5 PREDICTIONS ON TEST DATA SET: 0.6011565125644243 ± 0.040374005477485944\n",
      "AVG NUMBER OF ACCURATE 1 PREDICTIONS ON TEST DATA SET: 1.2407562873232159 ± 0.10243073571967388\n",
      "POWER SPECTRUM MEAN ERROR ON TEST DATA SET: inf ± nan\n",
      "TEMPORAL DISTANCE ON TEST DATA SET: 0.22874853960086491 ± 0.054109788987734726\n",
      "GEOMETRICAL DISTANCE ON TEST DATA SET: inf ± nan\n"
     ]
    }
   ],
   "source": [
    "!bash ./1_Randomly_Clustered_ESN_Evaluate_Tuned_Model.sh \"evaluate_tuned_model\" \"Lorenz96_F8_ALPHA6_DIM40\" 3000 0.1 0.1 6 \"grid_search.json\" "
   ]
  },
  {
   "cell_type": "code",
   "execution_count": 11,
   "metadata": {},
   "outputs": [
    {
     "name": "stdout",
     "output_type": "stream",
     "text": [
      "Grid Search Progress:   4%|▎        | 1/25 [03:00<1:12:16, 180.67s/trial, Current Best Loss=0.53685]/home/user/kuei_jan_CHU/PGClustered_ESN/Methods/./Utils/global_utils.py:256: RuntimeWarning: divide by zero encountered in log10\n",
      "  s_dbfs = 20 * np.log10(s_mag)\n",
      "Grid Search Progress: 100%|████████| 25/25 [1:02:02<00:00, 148.91s/trial, Current Best Loss=0.19511]\n",
      "{'radius': 0.9, 'sigma_input': 0.5}\n"
     ]
    }
   ],
   "source": [
    "!bash ./0_Randomly_Clustered_ESN_Tune.sh \"tune\" \"Lorenz96_F8_ALPHA7_DIM40\" 3000 0.1 0.1 7 \"grid_search.json\" "
   ]
  },
  {
   "cell_type": "code",
   "execution_count": 12,
   "metadata": {},
   "outputs": [
    {
     "name": "stdout",
     "output_type": "stream",
     "text": [
      "{'radius': 0.9, 'sigma_input': 0.5}\n",
      "/home/user/anaconda3/lib/python3.11/site-packages/numpy/core/_methods.py:236: RuntimeWarning: invalid value encountered in subtract\n",
      "  x = asanyarray(arr - arrmean)\n",
      "AVERAGE RMNSE ERROR ON TRAIN DATA SET: 2.2783603239479198 ± 0.4293579405489601\n",
      "AVG NUMBER OF ACCURATE 0.5 PREDICTIONS ON TRAIN DATA SET: 0.6706737484708737 ± 0.05177863225961222\n",
      "AVG NUMBER OF ACCURATE 1 PREDICTIONS ON TRAIN DATA SET: 1.3726168517739905 ± 0.11195679202575051\n",
      "POWER SPECTRUM MEAN ERROR ON TRAIN DATA SET: 5.005715368703403 ± 1.542240821762829\n",
      "TEMPORAL DISTANCE ON TRAIN DATA SET: 0.20465934431361332 ± 0.04146012082941913\n",
      "GEOMETRICAL DISTANCE ON TRAIN DATA SET: inf ± nan\n",
      "\n",
      "\n",
      "AVERAGE RMNSE ERROR ON TEST DATA SET: 2.2581829548957537 ± 0.4158673683524506\n",
      "AVG NUMBER OF ACCURATE 0.5 PREDICTIONS ON TEST DATA SET: 0.5321181589555887 ± 0.030359110868461815\n",
      "AVG NUMBER OF ACCURATE 1 PREDICTIONS ON TEST DATA SET: 1.1116794769669949 ± 0.06540121502530702\n",
      "POWER SPECTRUM MEAN ERROR ON TEST DATA SET: 4.915991364944355 ± 1.391719594177513\n",
      "TEMPORAL DISTANCE ON TEST DATA SET: 0.2018404464869334 ± 0.03707775243303191\n",
      "GEOMETRICAL DISTANCE ON TEST DATA SET: inf ± nan\n"
     ]
    }
   ],
   "source": [
    "!bash ./1_Randomly_Clustered_ESN_Evaluate_Tuned_Model.sh \"evaluate_tuned_model\" \"Lorenz96_F8_ALPHA7_DIM40\" 3000 0.1 0.1 7 \"grid_search.json\" "
   ]
  },
  {
   "cell_type": "code",
   "execution_count": 13,
   "metadata": {},
   "outputs": [
    {
     "name": "stdout",
     "output_type": "stream",
     "text": [
      "Grid Search Progress:  12%|█▎         | 3/25 [08:13<59:45, 162.97s/trial, Current Best Loss=0.45796]/home/user/kuei_jan_CHU/PGClustered_ESN/Methods/./Utils/global_utils.py:256: RuntimeWarning: divide by zero encountered in log10\n",
      "  s_dbfs = 20 * np.log10(s_mag)\n",
      "Grid Search Progress: 100%|████████| 25/25 [1:01:53<00:00, 148.54s/trial, Current Best Loss=0.20882]\n",
      "{'radius': 0.99, 'sigma_input': 0.5}\n"
     ]
    }
   ],
   "source": [
    "!bash ./0_Randomly_Clustered_ESN_Tune.sh \"tune\" \"Lorenz96_F8_ALPHA8_DIM40\" 3000 0.1 0.1 8 \"grid_search.json\" "
   ]
  },
  {
   "cell_type": "code",
   "execution_count": 14,
   "metadata": {},
   "outputs": [
    {
     "name": "stdout",
     "output_type": "stream",
     "text": [
      "{'radius': 0.99, 'sigma_input': 0.5}\n",
      "AVERAGE RMNSE ERROR ON TRAIN DATA SET: 1.8257056209489562 ± 0.2449401761305886\n",
      "AVG NUMBER OF ACCURATE 0.5 PREDICTIONS ON TRAIN DATA SET: 0.6488018311803356 ± 0.038143728838497315\n",
      "AVG NUMBER OF ACCURATE 1 PREDICTIONS ON TRAIN DATA SET: 1.3291798763666933 ± 0.08848651634366297\n",
      "POWER SPECTRUM MEAN ERROR ON TRAIN DATA SET: 2.790359313369249 ± 1.0004970456619755\n",
      "TEMPORAL DISTANCE ON TRAIN DATA SET: 0.17437011425320986 ± 0.027519522683584544\n",
      "GEOMETRICAL DISTANCE ON TRAIN DATA SET: 15.759582576710631 ± 3.0543559477656035\n",
      "\n",
      "\n",
      "AVERAGE RMNSE ERROR ON TEST DATA SET: 1.8210193203209726 ± 0.25116374214757553\n",
      "AVG NUMBER OF ACCURATE 0.5 PREDICTIONS ON TEST DATA SET: 0.5493069681802292 ± 0.037091643022476355\n",
      "AVG NUMBER OF ACCURATE 1 PREDICTIONS ON TEST DATA SET: 1.1593832538814814 ± 0.07823537963272806\n",
      "POWER SPECTRUM MEAN ERROR ON TEST DATA SET: 2.9732340341599937 ± 1.0957739785681617\n",
      "TEMPORAL DISTANCE ON TEST DATA SET: 0.17375780838288324 ± 0.028685533521675518\n",
      "GEOMETRICAL DISTANCE ON TEST DATA SET: 15.560571519690654 ± 2.6667720031193425\n"
     ]
    }
   ],
   "source": [
    "!bash ./1_Randomly_Clustered_ESN_Evaluate_Tuned_Model.sh \"evaluate_tuned_model\" \"Lorenz96_F8_ALPHA8_DIM40\"  3000 0.1 0.1 8 \"grid_search.json\" "
   ]
  },
  {
   "cell_type": "code",
   "execution_count": 15,
   "metadata": {
    "editable": true,
    "slideshow": {
     "slide_type": ""
    },
    "tags": []
   },
   "outputs": [
    {
     "name": "stdout",
     "output_type": "stream",
     "text": [
      "Grid Search Progress:   8%|▋        | 2/25 [05:32<1:02:41, 163.55s/trial, Current Best Loss=0.33954]/home/user/kuei_jan_CHU/PGClustered_ESN/Methods/./Utils/global_utils.py:256: RuntimeWarning: divide by zero encountered in log10\n",
      "  s_dbfs = 20 * np.log10(s_mag)\n",
      "Grid Search Progress: 100%|████████| 25/25 [1:01:49<00:00, 148.39s/trial, Current Best Loss=0.21079]\n",
      "{'radius': 0.99, 'sigma_input': 0.5}\n"
     ]
    }
   ],
   "source": [
    "!bash ./0_Randomly_Clustered_ESN_Tune.sh \"tune\" \"Lorenz96_F8_ALPHA9_DIM40\" 3000 0.1 0.1 9 \"grid_search.json\" "
   ]
  },
  {
   "cell_type": "code",
   "execution_count": 16,
   "metadata": {},
   "outputs": [
    {
     "name": "stdout",
     "output_type": "stream",
     "text": [
      "{'radius': 0.99, 'sigma_input': 0.5}\n",
      "/home/user/anaconda3/lib/python3.11/site-packages/numpy/core/_methods.py:236: RuntimeWarning: invalid value encountered in subtract\n",
      "  x = asanyarray(arr - arrmean)\n",
      "AVERAGE RMNSE ERROR ON TRAIN DATA SET: 1.7543747603193736 ± 0.3457460352938757\n",
      "AVG NUMBER OF ACCURATE 0.5 PREDICTIONS ON TRAIN DATA SET: 0.62607883879698 ± 0.03825405477484729\n",
      "AVG NUMBER OF ACCURATE 1 PREDICTIONS ON TRAIN DATA SET: 1.315607239333468 ± 0.06556794268119731\n",
      "POWER SPECTRUM MEAN ERROR ON TRAIN DATA SET: 2.093458028288965 ± 0.9468985759982164\n",
      "TEMPORAL DISTANCE ON TRAIN DATA SET: 0.18103222045483505 ± 0.03627390753155076\n",
      "GEOMETRICAL DISTANCE ON TRAIN DATA SET: inf ± nan\n",
      "\n",
      "\n",
      "AVERAGE RMNSE ERROR ON TEST DATA SET: 1.744116793809864 ± 0.3300170928839344\n",
      "AVG NUMBER OF ACCURATE 0.5 PREDICTIONS ON TEST DATA SET: 0.5580971655046502 ± 0.03496200340748393\n",
      "AVG NUMBER OF ACCURATE 1 PREDICTIONS ON TEST DATA SET: 1.2495678995637758 ± 0.07567072599229649\n",
      "POWER SPECTRUM MEAN ERROR ON TEST DATA SET: 2.207722354725579 ± 0.8613238019952683\n",
      "TEMPORAL DISTANCE ON TEST DATA SET: 0.18272076303214063 ± 0.03640353926934614\n",
      "GEOMETRICAL DISTANCE ON TEST DATA SET: inf ± nan\n"
     ]
    }
   ],
   "source": [
    "!bash ./1_Randomly_Clustered_ESN_Evaluate_Tuned_Model.sh \"evaluate_tuned_model\" \"Lorenz96_F8_ALPHA9_DIM40\" 3000 0.1 0.1 9 \"grid_search.json\" "
   ]
  },
  {
   "cell_type": "code",
   "execution_count": 17,
   "metadata": {
    "editable": true,
    "slideshow": {
     "slide_type": ""
    },
    "tags": []
   },
   "outputs": [
    {
     "name": "stdout",
     "output_type": "stream",
     "text": [
      "Grid Search Progress:   4%|▎        | 1/25 [02:58<1:11:35, 178.98s/trial, Current Best Loss=0.59973]/home/user/kuei_jan_CHU/PGClustered_ESN/Methods/./Utils/global_utils.py:256: RuntimeWarning: divide by zero encountered in log10\n",
      "  s_dbfs = 20 * np.log10(s_mag)\n",
      "Grid Search Progress: 100%|████████| 25/25 [1:01:45<00:00, 148.20s/trial, Current Best Loss=0.23431]\n",
      "{'radius': 0.99, 'sigma_input': 0.5}\n"
     ]
    }
   ],
   "source": [
    "!bash ./0_Randomly_Clustered_ESN_Tune.sh \"tune\" \"Lorenz96_F8_ALPHA10_DIM40\" 3000 0.1 0.1 10 \"grid_search.json\" "
   ]
  },
  {
   "cell_type": "code",
   "execution_count": 18,
   "metadata": {},
   "outputs": [
    {
     "name": "stdout",
     "output_type": "stream",
     "text": [
      "{'radius': 0.99, 'sigma_input': 0.5}\n",
      "AVERAGE RMNSE ERROR ON TRAIN DATA SET: 1.6289037625126557 ± 0.18158202591301234\n",
      "AVG NUMBER OF ACCURATE 0.5 PREDICTIONS ON TRAIN DATA SET: 0.6657410141279777 ± 0.04371207410211488\n",
      "AVG NUMBER OF ACCURATE 1 PREDICTIONS ON TRAIN DATA SET: 1.4826913437676725 ± 0.06814552195525396\n",
      "POWER SPECTRUM MEAN ERROR ON TRAIN DATA SET: 1.9097266760332634 ± 0.7521406062276814\n",
      "TEMPORAL DISTANCE ON TRAIN DATA SET: 0.18746843072687086 ± 0.019909712211309504\n",
      "GEOMETRICAL DISTANCE ON TRAIN DATA SET: 12.830654051166954 ± 1.062875748817079\n",
      "\n",
      "\n",
      "AVERAGE RMNSE ERROR ON TEST DATA SET: 1.6208614902554668 ± 0.1803425559921393\n",
      "AVG NUMBER OF ACCURATE 0.5 PREDICTIONS ON TEST DATA SET: 0.5537341137489278 ± 0.02985665472790513\n",
      "AVG NUMBER OF ACCURATE 1 PREDICTIONS ON TEST DATA SET: 1.1746723677252853 ± 0.06985013346471707\n",
      "POWER SPECTRUM MEAN ERROR ON TEST DATA SET: 1.8469147953197365 ± 0.7601155421277647\n",
      "TEMPORAL DISTANCE ON TEST DATA SET: 0.1872655780194663 ± 0.02050754692556199\n",
      "GEOMETRICAL DISTANCE ON TEST DATA SET: 12.773757158764349 ± 0.7887944075769274\n"
     ]
    }
   ],
   "source": [
    "!bash ./1_Randomly_Clustered_ESN_Evaluate_Tuned_Model.sh \"evaluate_tuned_model\" \"Lorenz96_F8_ALPHA10_DIM40\" 3000 0.1 0.1 10 \"grid_search.json\" "
   ]
  },
  {
   "cell_type": "markdown",
   "metadata": {},
   "source": [
    "# Over F"
   ]
  },
  {
   "cell_type": "code",
   "execution_count": null,
   "metadata": {},
   "outputs": [
    {
     "name": "stdout",
     "output_type": "stream",
     "text": [
      "AVERAGE RMNSE ERROR ON TRAIN DATA SET: 1.371629697208081 ± 0.0057751439771872425\n",
      "AVG NUMBER OF ACCURATE 0.5 PREDICTIONS ON TRAIN DATA SET: 2.2943819158175165 ± 0.10979067228913157\n",
      "AVG NUMBER OF ACCURATE 1 PREDICTIONS ON TRAIN DATA SET: 3.6480858433063426 ± 0.20104572505999455\n",
      "POWER SPECTRUM MEAN ERROR ON TRAIN DATA SET: 0.41071389951009796 ± 0.2749862098447177\n",
      "TEMPORAL DISTANCE ON TRAIN DATA SET: 0.10854661347516163 ± 0.001443832961070452\n",
      "GEOMETRICAL DISTANCE ON TRAIN DATA SET: 12.987024678868048 ± 0.08286553235744355\n",
      "\n",
      "\n",
      "AVERAGE RMNSE ERROR ON TEST DATA SET: 1.3787928555935651 ± 0.006514821289008156\n",
      "AVG NUMBER OF ACCURATE 0.5 PREDICTIONS ON TEST DATA SET: 1.6823664022032354 ± 0.11466662360412623\n",
      "AVG NUMBER OF ACCURATE 1 PREDICTIONS ON TEST DATA SET: 2.9112157836135673 ± 0.21756280501911218\n",
      "POWER SPECTRUM MEAN ERROR ON TEST DATA SET: 0.7885076048315722 ± 0.4021333431526535\n",
      "TEMPORAL DISTANCE ON TEST DATA SET: 0.1080066719686383 ± 0.0014783577848605657\n",
      "GEOMETRICAL DISTANCE ON TEST DATA SET: 13.024721587125716 ± 0.06344632878313329\n"
     ]
    }
   ],
   "source": [
    "!bash ./1_Randomly_Clustered_ESN_Evaluate_Tuned_Model.sh \"evaluate_tuned_model\" \"Lorenz96_F8_ALPHA1_DIM40\" 3000 0.1 0.1 1 \"grid_search_for_F.json\" "
   ]
  },
  {
   "cell_type": "code",
   "execution_count": 19,
   "metadata": {},
   "outputs": [
    {
     "name": "stdout",
     "output_type": "stream",
     "text": [
      "Grid Search Progress:  12%|█        | 3/25 [08:51<1:04:23, 175.63s/trial, Current Best Loss=0.11901]/home/user/kuei_jan_CHU/PGClustered_ESN/Methods/./Utils/global_utils.py:256: RuntimeWarning: divide by zero encountered in log10\n",
      "  s_dbfs = 20 * np.log10(s_mag)\n",
      "Grid Search Progress: 100%|████████| 25/25 [1:07:16<00:00, 161.47s/trial, Current Best Loss=0.11766]\n",
      "{'radius': 0.9, 'sigma_input': 0.1}\n"
     ]
    }
   ],
   "source": [
    "!bash ./0_Randomly_Clustered_ESN_Tune.sh \"tune\" \"Lorenz96_F10_ALPHA1_DIM40\" 3000 0.1 0.1  2 \"grid_search_for_F.json\"    "
   ]
  },
  {
   "cell_type": "code",
   "execution_count": 20,
   "metadata": {},
   "outputs": [
    {
     "name": "stdout",
     "output_type": "stream",
     "text": [
      "{'radius': 0.9, 'sigma_input': 0.1}\n",
      "AVERAGE RMNSE ERROR ON TRAIN DATA SET: 1.37912165847031 ± 0.005454984006526923\n",
      "AVG NUMBER OF ACCURATE 0.5 PREDICTIONS ON TRAIN DATA SET: 2.233997564344244 ± 0.14055124883846648\n",
      "AVG NUMBER OF ACCURATE 1 PREDICTIONS ON TRAIN DATA SET: 3.3782203559974904 ± 0.1088609183803506\n",
      "POWER SPECTRUM MEAN ERROR ON TRAIN DATA SET: 0.4692682298850005 ± 0.3256116172483699\n",
      "TEMPORAL DISTANCE ON TRAIN DATA SET: 0.10404308932440265 ± 0.001078708825090419\n",
      "GEOMETRICAL DISTANCE ON TRAIN DATA SET: 12.899964703900613 ± 0.09083842052457354\n",
      "\n",
      "\n",
      "AVERAGE RMNSE ERROR ON TEST DATA SET: 1.3833386988709158 ± 0.006794434997406847\n",
      "AVG NUMBER OF ACCURATE 0.5 PREDICTIONS ON TEST DATA SET: 1.7359378011446964 ± 0.0847572253153803\n",
      "AVG NUMBER OF ACCURATE 1 PREDICTIONS ON TEST DATA SET: 2.709021627213609 ± 0.14365447939803683\n",
      "POWER SPECTRUM MEAN ERROR ON TEST DATA SET: 0.5769269415941928 ± 0.37668083816471565\n",
      "TEMPORAL DISTANCE ON TEST DATA SET: 0.10372788487298235 ± 0.0013607845513433892\n",
      "GEOMETRICAL DISTANCE ON TEST DATA SET: 12.923929487089769 ± 0.09237197817253928\n"
     ]
    }
   ],
   "source": [
    "!bash ./1_Randomly_Clustered_ESN_Evaluate_Tuned_Model.sh \"evaluate_tuned_model\" \"Lorenz96_F10_ALPHA1_DIM40\" 3000 0.1 0.1  2 \"grid_search_for_F.json\" "
   ]
  },
  {
   "cell_type": "code",
   "execution_count": 21,
   "metadata": {},
   "outputs": [
    {
     "name": "stdout",
     "output_type": "stream",
     "text": [
      "Grid Search Progress:   8%|▋        | 2/25 [05:53<1:07:19, 175.61s/trial, Current Best Loss=0.11934]/home/user/kuei_jan_CHU/PGClustered_ESN/Methods/./Utils/global_utils.py:256: RuntimeWarning: divide by zero encountered in log10\n",
      "  s_dbfs = 20 * np.log10(s_mag)\n",
      "Grid Search Progress: 100%|████████| 25/25 [1:06:54<00:00, 160.60s/trial, Current Best Loss=0.11719]\n",
      "{'radius': 0.9, 'sigma_input': 0.1}\n"
     ]
    }
   ],
   "source": [
    "!bash ./0_Randomly_Clustered_ESN_Tune.sh \"tune\" \"Lorenz96_F12_ALPHA1_DIM40\" 3000 0.1 0.1  3 \"grid_search_for_F.json\" "
   ]
  },
  {
   "cell_type": "code",
   "execution_count": 22,
   "metadata": {},
   "outputs": [
    {
     "name": "stdout",
     "output_type": "stream",
     "text": [
      "{'radius': 0.9, 'sigma_input': 0.1}\n",
      "AVERAGE RMNSE ERROR ON TRAIN DATA SET: 1.3831037701005946 ± 0.005327318401545936\n",
      "AVG NUMBER OF ACCURATE 0.5 PREDICTIONS ON TRAIN DATA SET: 2.208798946296963 ± 0.12221562325965643\n",
      "AVG NUMBER OF ACCURATE 1 PREDICTIONS ON TRAIN DATA SET: 3.3223718868408376 ± 0.19661833258272893\n",
      "POWER SPECTRUM MEAN ERROR ON TRAIN DATA SET: 0.3835040383809789 ± 0.17860737428373102\n",
      "TEMPORAL DISTANCE ON TRAIN DATA SET: 0.10022176440806166 ± 0.001149496904737882\n",
      "GEOMETRICAL DISTANCE ON TRAIN DATA SET: 12.802600948610982 ± 0.0821586225878169\n",
      "\n",
      "\n",
      "AVERAGE RMNSE ERROR ON TEST DATA SET: 1.3899048684906847 ± 0.004146809661309197\n",
      "AVG NUMBER OF ACCURATE 0.5 PREDICTIONS ON TEST DATA SET: 1.7954195717920673 ± 0.10836044601934583\n",
      "AVG NUMBER OF ACCURATE 1 PREDICTIONS ON TEST DATA SET: 2.867138567344462 ± 0.1618009395944549\n",
      "POWER SPECTRUM MEAN ERROR ON TEST DATA SET: 0.5887585303431802 ± 0.41780980439241094\n",
      "TEMPORAL DISTANCE ON TEST DATA SET: 0.10158789353977367 ± 0.001015718270860311\n",
      "GEOMETRICAL DISTANCE ON TEST DATA SET: 12.82720956582682 ± 0.09241820044587708\n"
     ]
    }
   ],
   "source": [
    "!bash ./1_Randomly_Clustered_ESN_Evaluate_Tuned_Model.sh \"evaluate_tuned_model\" \"Lorenz96_F12_ALPHA1_DIM40\" 3000 0.1 0.1  3 \"grid_search_for_F.json\" "
   ]
  },
  {
   "cell_type": "code",
   "execution_count": 23,
   "metadata": {},
   "outputs": [
    {
     "name": "stdout",
     "output_type": "stream",
     "text": [
      "Grid Search Progress:  12%|█        | 3/25 [08:38<1:02:55, 171.61s/trial, Current Best Loss=0.11530]/home/user/kuei_jan_CHU/PGClustered_ESN/Methods/./Utils/global_utils.py:256: RuntimeWarning: divide by zero encountered in log10\n",
      "  s_dbfs = 20 * np.log10(s_mag)\n",
      "Grid Search Progress: 100%|████████| 25/25 [1:06:36<00:00, 159.84s/trial, Current Best Loss=0.11506]\n",
      "{'radius': 0.9, 'sigma_input': 0.1}\n"
     ]
    }
   ],
   "source": [
    "!bash ./0_Randomly_Clustered_ESN_Tune.sh \"tune\" \"Lorenz96_F14_ALPHA1_DIM40\" 3000 0.1 0.1  4 \"grid_search_for_F.json\" "
   ]
  },
  {
   "cell_type": "code",
   "execution_count": 24,
   "metadata": {},
   "outputs": [
    {
     "name": "stdout",
     "output_type": "stream",
     "text": [
      "{'radius': 0.9, 'sigma_input': 0.1}\n",
      "AVERAGE RMNSE ERROR ON TRAIN DATA SET: 1.38790070830911 ± 0.004641774970944358\n",
      "AVG NUMBER OF ACCURATE 0.5 PREDICTIONS ON TRAIN DATA SET: 2.082133094471242 ± 0.1288426375052752\n",
      "AVG NUMBER OF ACCURATE 1 PREDICTIONS ON TRAIN DATA SET: 3.1017778251969923 ± 0.19744564847442692\n",
      "POWER SPECTRUM MEAN ERROR ON TRAIN DATA SET: 0.5051379724169137 ± 0.21549309011149803\n",
      "TEMPORAL DISTANCE ON TRAIN DATA SET: 0.09849467993626715 ± 0.0009005904333824594\n",
      "GEOMETRICAL DISTANCE ON TRAIN DATA SET: 12.655563156070585 ± 0.06640403015031231\n",
      "\n",
      "\n",
      "AVERAGE RMNSE ERROR ON TEST DATA SET: 1.3870083925888563 ± 0.0045134989539513505\n",
      "AVG NUMBER OF ACCURATE 0.5 PREDICTIONS ON TEST DATA SET: 1.8550955746107196 ± 0.1140771743198925\n",
      "AVG NUMBER OF ACCURATE 1 PREDICTIONS ON TEST DATA SET: 2.8681619522350132 ± 0.1745466918829088\n",
      "POWER SPECTRUM MEAN ERROR ON TEST DATA SET: 0.7603600479430235 ± 0.2876636838880648\n",
      "TEMPORAL DISTANCE ON TEST DATA SET: 0.09806894396509411 ± 0.0011778527902679761\n",
      "GEOMETRICAL DISTANCE ON TEST DATA SET: 12.593548048802987 ± 0.07508284819662889\n"
     ]
    }
   ],
   "source": [
    "!bash ./1_Randomly_Clustered_ESN_Evaluate_Tuned_Model.sh \"evaluate_tuned_model\" \"Lorenz96_F14_ALPHA1_DIM40\" 3000 0.1 0.1  4 \"grid_search_for_F.json\" "
   ]
  },
  {
   "cell_type": "code",
   "execution_count": 25,
   "metadata": {},
   "outputs": [
    {
     "name": "stdout",
     "output_type": "stream",
     "text": [
      "Grid Search Progress:  12%|█        | 3/25 [08:35<1:02:33, 170.61s/trial, Current Best Loss=0.11517]/home/user/kuei_jan_CHU/PGClustered_ESN/Methods/./Utils/global_utils.py:256: RuntimeWarning: divide by zero encountered in log10\n",
      "  s_dbfs = 20 * np.log10(s_mag)\n",
      "Grid Search Progress: 100%|████████| 25/25 [1:06:26<00:00, 159.45s/trial, Current Best Loss=0.11492]\n",
      "{'radius': 0.4, 'sigma_input': 0.1}\n"
     ]
    }
   ],
   "source": [
    "!bash ./0_Randomly_Clustered_ESN_Tune.sh \"tune\" \"Lorenz96_F16_ALPHA1_DIM40\" 3000 0.1 0.1  5  \"grid_search_for_F.json\" "
   ]
  },
  {
   "cell_type": "code",
   "execution_count": 26,
   "metadata": {},
   "outputs": [
    {
     "name": "stdout",
     "output_type": "stream",
     "text": [
      "{'radius': 0.4, 'sigma_input': 0.1}\n",
      "AVERAGE RMNSE ERROR ON TRAIN DATA SET: 1.3863825182390084 ± 0.006273391202604051\n",
      "AVG NUMBER OF ACCURATE 0.5 PREDICTIONS ON TRAIN DATA SET: 2.3310263390187496 ± 0.12648514822892187\n",
      "AVG NUMBER OF ACCURATE 1 PREDICTIONS ON TRAIN DATA SET: 3.4795613329087205 ± 0.20565287547558112\n",
      "POWER SPECTRUM MEAN ERROR ON TRAIN DATA SET: 0.45661897381171535 ± 0.16516767640569954\n",
      "TEMPORAL DISTANCE ON TRAIN DATA SET: 0.09620256103797266 ± 0.0009255386483980569\n",
      "GEOMETRICAL DISTANCE ON TRAIN DATA SET: 12.434885915243882 ± 0.1297389105546944\n",
      "\n",
      "\n",
      "AVERAGE RMNSE ERROR ON TEST DATA SET: 1.3924307343014302 ± 0.005396127217983219\n",
      "AVG NUMBER OF ACCURATE 0.5 PREDICTIONS ON TEST DATA SET: 1.7906187264056463 ± 0.08638157715866711\n",
      "AVG NUMBER OF ACCURATE 1 PREDICTIONS ON TEST DATA SET: 2.7481492445773115 ± 0.12744501526480567\n",
      "POWER SPECTRUM MEAN ERROR ON TEST DATA SET: 0.4771149749089532 ± 0.2792744801486792\n",
      "TEMPORAL DISTANCE ON TEST DATA SET: 0.09685411855945407 ± 0.0010971425640782055\n",
      "GEOMETRICAL DISTANCE ON TEST DATA SET: 12.563113460764772 ± 0.09976569615887057\n"
     ]
    }
   ],
   "source": [
    "!bash ./1_Randomly_Clustered_ESN_Evaluate_Tuned_Model.sh \"evaluate_tuned_model\" \"Lorenz96_F16_ALPHA1_DIM40\" 3000 0.1 0.1  5 \"grid_search_for_F.json\" "
   ]
  },
  {
   "cell_type": "code",
   "execution_count": 1,
   "metadata": {},
   "outputs": [
    {
     "name": "stdout",
     "output_type": "stream",
     "text": [
      "Grid Search Progress:   8%|▋        | 2/25 [09:15<1:47:27, 280.32s/trial, Current Best Loss=0.11248]/home/user/kuei_jan_CHU/PGClustered_ESN/Methods/./Utils/global_utils.py:256: RuntimeWarning: divide by zero encountered in log10\n",
      "  s_dbfs = 20 * np.log10(s_mag)\n",
      "Grid Search Progress: 100%|████████| 25/25 [1:49:10<00:00, 262.00s/trial, Current Best Loss=0.11098]\n",
      "{'radius': 0.7, 'sigma_input': 0.1}\n"
     ]
    }
   ],
   "source": [
    "!bash ./0_Randomly_Clustered_ESN_Tune.sh \"tune\" \"Lorenz96_F18_ALPHA1_DIM40\" 3000 0.1 0.1  6 \"grid_search_for_F.json\"    "
   ]
  },
  {
   "cell_type": "code",
   "execution_count": 2,
   "metadata": {},
   "outputs": [
    {
     "name": "stdout",
     "output_type": "stream",
     "text": [
      "{'radius': 0.7, 'sigma_input': 0.1}\n",
      "AVERAGE RMNSE ERROR ON TRAIN DATA SET: 1.3897202923029286 ± 0.004361112825844664\n",
      "AVG NUMBER OF ACCURATE 0.5 PREDICTIONS ON TRAIN DATA SET: 2.190508723016017 ± 0.11080601040546811\n",
      "AVG NUMBER OF ACCURATE 1 PREDICTIONS ON TRAIN DATA SET: 3.186428555752584 ± 0.18133035578016032\n",
      "POWER SPECTRUM MEAN ERROR ON TRAIN DATA SET: 0.4835706097864369 ± 0.2502395544301315\n",
      "TEMPORAL DISTANCE ON TRAIN DATA SET: 0.09404261416359104 ± 0.0009636333316932416\n",
      "GEOMETRICAL DISTANCE ON TRAIN DATA SET: 12.329368904022292 ± 0.07817672865509813\n",
      "\n",
      "\n",
      "AVERAGE RMNSE ERROR ON TEST DATA SET: 1.3889654789263932 ± 0.0056564509446083355\n",
      "AVG NUMBER OF ACCURATE 0.5 PREDICTIONS ON TEST DATA SET: 1.995486937587853 ± 0.1196807729209645\n",
      "AVG NUMBER OF ACCURATE 1 PREDICTIONS ON TEST DATA SET: 2.9364831431851353 ± 0.18944870691729038\n",
      "POWER SPECTRUM MEAN ERROR ON TEST DATA SET: 0.6282346537106628 ± 0.3151068997272278\n",
      "TEMPORAL DISTANCE ON TEST DATA SET: 0.09490364846333166 ± 0.0011189079469195928\n",
      "GEOMETRICAL DISTANCE ON TEST DATA SET: 12.303049658498264 ± 0.11952178190860381\n"
     ]
    }
   ],
   "source": [
    "!bash ./1_Randomly_Clustered_ESN_Evaluate_Tuned_Model.sh \"evaluate_tuned_model\" \"Lorenz96_F18_ALPHA1_DIM40\" 3000 0.1 0.1  6 \"grid_search_for_F.json\" "
   ]
  },
  {
   "cell_type": "code",
   "execution_count": 3,
   "metadata": {},
   "outputs": [
    {
     "name": "stdout",
     "output_type": "stream",
     "text": [
      "Grid Search Progress:   4%|▎        | 1/25 [04:50<1:56:16, 290.70s/trial, Current Best Loss=0.11194]/home/user/kuei_jan_CHU/PGClustered_ESN/Methods/./Utils/global_utils.py:256: RuntimeWarning: divide by zero encountered in log10\n",
      "  s_dbfs = 20 * np.log10(s_mag)\n",
      "Grid Search Progress: 100%|████████| 25/25 [1:45:49<00:00, 253.99s/trial, Current Best Loss=0.10895]\n",
      "{'radius': 0.4, 'sigma_input': 0.1}\n"
     ]
    }
   ],
   "source": [
    "!bash ./0_Randomly_Clustered_ESN_Tune.sh \"tune\" \"Lorenz96_F20_ALPHA1_DIM40\" 3000 0.1 0.1  7 \"grid_search_for_F.json\"    "
   ]
  },
  {
   "cell_type": "code",
   "execution_count": 4,
   "metadata": {},
   "outputs": [
    {
     "name": "stdout",
     "output_type": "stream",
     "text": [
      "{'radius': 0.4, 'sigma_input': 0.1}\n",
      "AVERAGE RMNSE ERROR ON TRAIN DATA SET: 1.3919988243300414 ± 0.00580955619298621\n",
      "AVG NUMBER OF ACCURATE 0.5 PREDICTIONS ON TRAIN DATA SET: 2.122390286383339 ± 0.08947523717565449\n",
      "AVG NUMBER OF ACCURATE 1 PREDICTIONS ON TRAIN DATA SET: 3.099348653241834 ± 0.18574200654997475\n",
      "POWER SPECTRUM MEAN ERROR ON TRAIN DATA SET: 0.5727236951270861 ± 0.25918144133578996\n",
      "TEMPORAL DISTANCE ON TRAIN DATA SET: 0.0958375168436236 ± 0.0014069443261249424\n",
      "GEOMETRICAL DISTANCE ON TRAIN DATA SET: 12.198291972207112 ± 0.10186407177756941\n",
      "\n",
      "\n",
      "AVERAGE RMNSE ERROR ON TEST DATA SET: 1.3922121752691647 ± 0.005687406826838794\n",
      "AVG NUMBER OF ACCURATE 0.5 PREDICTIONS ON TEST DATA SET: 1.7146184054185576 ± 0.09926435663785255\n",
      "AVG NUMBER OF ACCURATE 1 PREDICTIONS ON TEST DATA SET: 2.539338799406763 ± 0.12943029780221868\n",
      "POWER SPECTRUM MEAN ERROR ON TEST DATA SET: 0.7010937550729653 ± 0.2881895029951062\n",
      "TEMPORAL DISTANCE ON TEST DATA SET: 0.09538521326892226 ± 0.0014265946686288962\n",
      "GEOMETRICAL DISTANCE ON TEST DATA SET: 12.132316369053516 ± 0.10124552653519074\n"
     ]
    }
   ],
   "source": [
    "!bash ./1_Randomly_Clustered_ESN_Evaluate_Tuned_Model.sh \"evaluate_tuned_model\" \"Lorenz96_F20_ALPHA1_DIM40\" 3000 0.1 0.1  7 \"grid_search_for_F.json\" "
   ]
  },
  {
   "cell_type": "code",
   "execution_count": 5,
   "metadata": {},
   "outputs": [
    {
     "name": "stdout",
     "output_type": "stream",
     "text": [
      "Grid Search Progress:   8%|▋        | 2/25 [09:06<1:44:47, 273.35s/trial, Current Best Loss=0.11957]/home/user/kuei_jan_CHU/PGClustered_ESN/Methods/./Utils/global_utils.py:256: RuntimeWarning: divide by zero encountered in log10\n",
      "  s_dbfs = 20 * np.log10(s_mag)\n",
      "Grid Search Progress: 100%|████████| 25/25 [1:43:43<00:00, 248.92s/trial, Current Best Loss=0.11057]\n",
      "{'radius': 0.4, 'sigma_input': 0.1}\n"
     ]
    }
   ],
   "source": [
    "!bash ./0_Randomly_Clustered_ESN_Tune.sh \"tune\" \"Lorenz96_F22_ALPHA1_DIM40\" 3000 0.1 0.1  8 \"grid_search_for_F.json\"    "
   ]
  },
  {
   "cell_type": "code",
   "execution_count": 6,
   "metadata": {},
   "outputs": [
    {
     "name": "stdout",
     "output_type": "stream",
     "text": [
      "{'radius': 0.4, 'sigma_input': 0.1}\n",
      "AVERAGE RMNSE ERROR ON TRAIN DATA SET: 1.3892458740943139 ± 0.007689105086114094\n",
      "AVG NUMBER OF ACCURATE 0.5 PREDICTIONS ON TRAIN DATA SET: 2.180231041490198 ± 0.12474668002291538\n",
      "AVG NUMBER OF ACCURATE 1 PREDICTIONS ON TRAIN DATA SET: 3.1137296808764705 ± 0.1941419706031426\n",
      "POWER SPECTRUM MEAN ERROR ON TRAIN DATA SET: 0.6401637278035182 ± 0.21989790126089542\n",
      "TEMPORAL DISTANCE ON TRAIN DATA SET: 0.09556115722460304 ± 0.0015334468362650719\n",
      "GEOMETRICAL DISTANCE ON TRAIN DATA SET: 11.926982549457456 ± 0.12413645536114173\n",
      "\n",
      "\n",
      "AVERAGE RMNSE ERROR ON TEST DATA SET: 1.3916367701514645 ± 0.007278012696648257\n",
      "AVG NUMBER OF ACCURATE 0.5 PREDICTIONS ON TEST DATA SET: 1.8132409894612649 ± 0.12181008365944777\n",
      "AVG NUMBER OF ACCURATE 1 PREDICTIONS ON TEST DATA SET: 2.8219467451436073 ± 0.17131893397264472\n",
      "POWER SPECTRUM MEAN ERROR ON TEST DATA SET: 0.6738733235759267 ± 0.17779415393308942\n",
      "TEMPORAL DISTANCE ON TEST DATA SET: 0.09467415611622089 ± 0.0017550233044531455\n",
      "GEOMETRICAL DISTANCE ON TEST DATA SET: 11.992081768904178 ± 0.11665502919926035\n"
     ]
    }
   ],
   "source": [
    "!bash ./1_Randomly_Clustered_ESN_Evaluate_Tuned_Model.sh \"evaluate_tuned_model\" \"Lorenz96_F22_ALPHA1_DIM40\" 3000 0.1 0.1  8 \"grid_search_for_F.json\" "
   ]
  },
  {
   "cell_type": "code",
   "execution_count": 7,
   "metadata": {},
   "outputs": [
    {
     "name": "stdout",
     "output_type": "stream",
     "text": [
      "Grid Search Progress:   4%|▎        | 1/25 [04:36<1:50:41, 276.73s/trial, Current Best Loss=0.14725]/home/user/kuei_jan_CHU/PGClustered_ESN/Methods/./Utils/global_utils.py:256: RuntimeWarning: divide by zero encountered in log10\n",
      "  s_dbfs = 20 * np.log10(s_mag)\n",
      "Grid Search Progress: 100%|████████| 25/25 [1:44:20<00:00, 250.43s/trial, Current Best Loss=0.11359]\n",
      "{'radius': 0.7, 'sigma_input': 0.1}\n"
     ]
    }
   ],
   "source": [
    "!bash ./0_Randomly_Clustered_ESN_Tune.sh \"tune\" \"Lorenz96_F24_ALPHA1_DIM40\" 3000 0.1 0.1 9 \"grid_search_for_F.json\"    "
   ]
  },
  {
   "cell_type": "code",
   "execution_count": 8,
   "metadata": {},
   "outputs": [
    {
     "name": "stdout",
     "output_type": "stream",
     "text": [
      "{'radius': 0.7, 'sigma_input': 0.1}\n",
      "/home/user/kuei_jan_CHU/PGClustered_ESN/Methods/./Utils/global_utils.py:256: RuntimeWarning: divide by zero encountered in log10\n",
      "  s_dbfs = 20 * np.log10(s_mag)\n",
      "/home/user/anaconda3/lib/python3.11/site-packages/numpy/core/_methods.py:236: RuntimeWarning: invalid value encountered in subtract\n",
      "  x = asanyarray(arr - arrmean)\n",
      "AVERAGE RMNSE ERROR ON TRAIN DATA SET: 1.4403189834949144 ± 0.15117947683919722\n",
      "AVG NUMBER OF ACCURATE 0.5 PREDICTIONS ON TRAIN DATA SET: 2.1078193083796277 ± 0.11694010564366944\n",
      "AVG NUMBER OF ACCURATE 1 PREDICTIONS ON TRAIN DATA SET: 3.013686300962621 ± 0.17528622464917043\n",
      "POWER SPECTRUM MEAN ERROR ON TRAIN DATA SET: 1.3443488017293623 ± 0.6181452061080979\n",
      "TEMPORAL DISTANCE ON TRAIN DATA SET: 0.10144504815252606 ± 0.01742053718890337\n",
      "GEOMETRICAL DISTANCE ON TRAIN DATA SET: 12.0473517148579 ± 0.1335423438105982\n",
      "\n",
      "\n",
      "AVERAGE RMNSE ERROR ON TEST DATA SET: 1.4890230336178973 ± 0.37549363229429034\n",
      "AVG NUMBER OF ACCURATE 0.5 PREDICTIONS ON TEST DATA SET: 1.8114588129325178 ± 0.08284969395875787\n",
      "AVG NUMBER OF ACCURATE 1 PREDICTIONS ON TEST DATA SET: 2.8086829870275265 ± 0.20779621690682368\n",
      "POWER SPECTRUM MEAN ERROR ON TEST DATA SET: inf ± nan\n",
      "TEMPORAL DISTANCE ON TEST DATA SET: 0.10416793180214504 ± 0.03266108789431707\n",
      "GEOMETRICAL DISTANCE ON TEST DATA SET: inf ± nan\n"
     ]
    }
   ],
   "source": [
    "!bash ./1_Randomly_Clustered_ESN_Evaluate_Tuned_Model.sh \"evaluate_tuned_model\" \"Lorenz96_F24_ALPHA1_DIM40\" 3000 0.1 0.1 9 \"grid_search_for_F.json\" "
   ]
  },
  {
   "cell_type": "code",
   "execution_count": 9,
   "metadata": {},
   "outputs": [
    {
     "name": "stdout",
     "output_type": "stream",
     "text": [
      "Grid Search Progress:   4%|▎        | 1/25 [04:35<1:50:01, 275.06s/trial, Current Best Loss=0.15252]/home/user/kuei_jan_CHU/PGClustered_ESN/Methods/./Utils/global_utils.py:256: RuntimeWarning: divide by zero encountered in log10\n",
      "  s_dbfs = 20 * np.log10(s_mag)\n",
      "Grid Search Progress: 100%|████████| 25/25 [1:40:52<00:00, 242.11s/trial, Current Best Loss=0.11747]\n",
      "{'radius': 0.9, 'sigma_input': 0.1}\n"
     ]
    }
   ],
   "source": [
    "!bash ./0_Randomly_Clustered_ESN_Tune.sh \"tune\" \"Lorenz96_F26_ALPHA1_DIM40\" 3000 0.1 0.1 10 \"grid_search_for_F.json\"    "
   ]
  },
  {
   "cell_type": "code",
   "execution_count": 10,
   "metadata": {},
   "outputs": [
    {
     "name": "stdout",
     "output_type": "stream",
     "text": [
      "{'radius': 0.9, 'sigma_input': 0.1}\n",
      "/home/user/anaconda3/lib/python3.11/site-packages/numpy/core/_methods.py:236: RuntimeWarning: invalid value encountered in subtract\n",
      "  x = asanyarray(arr - arrmean)\n",
      "AVERAGE RMNSE ERROR ON TRAIN DATA SET: 1.7170120128217412 ± 0.5534343562163355\n",
      "AVG NUMBER OF ACCURATE 0.5 PREDICTIONS ON TRAIN DATA SET: 2.103209949023687 ± 0.10397852556853213\n",
      "AVG NUMBER OF ACCURATE 1 PREDICTIONS ON TRAIN DATA SET: 3.0143928942980427 ± 0.14849098458211013\n",
      "POWER SPECTRUM MEAN ERROR ON TRAIN DATA SET: 3.6905681891977915 ± 3.635046800235818\n",
      "TEMPORAL DISTANCE ON TRAIN DATA SET: 0.1315651827695244 ± 0.04749932997224653\n",
      "GEOMETRICAL DISTANCE ON TRAIN DATA SET: inf ± nan\n",
      "\n",
      "\n",
      "AVERAGE RMNSE ERROR ON TEST DATA SET: 1.6667623135003435 ± 0.5355038004244064\n",
      "AVG NUMBER OF ACCURATE 0.5 PREDICTIONS ON TEST DATA SET: 1.76857459469266 ± 0.0893839047780425\n",
      "AVG NUMBER OF ACCURATE 1 PREDICTIONS ON TEST DATA SET: 2.785259805320049 ± 0.14663703580966933\n",
      "POWER SPECTRUM MEAN ERROR ON TEST DATA SET: 3.7985990573927233 ± 4.757641200377904\n",
      "TEMPORAL DISTANCE ON TEST DATA SET: 0.13466059355723242 ± 0.05885546807205112\n",
      "GEOMETRICAL DISTANCE ON TEST DATA SET: 12.636442330820879 ± 0.6881079233599627\n"
     ]
    }
   ],
   "source": [
    "!bash ./1_Randomly_Clustered_ESN_Evaluate_Tuned_Model.sh \"evaluate_tuned_model\" \"Lorenz96_F26_ALPHA1_DIM40\" 3000 0.1 0.1 10 \"grid_search_for_F.json\" "
   ]
  },
  {
   "cell_type": "code",
   "execution_count": 1,
   "metadata": {},
   "outputs": [
    {
     "name": "stdout",
     "output_type": "stream",
     "text": [
      "Grid Search Progress:   8%|▋        | 2/25 [08:07<1:32:33, 241.46s/trial, Current Best Loss=0.16635]/home/user/kuei_jan_CHU/PGClustered_ESN/Methods/./Utils/global_utils.py:256: RuntimeWarning: divide by zero encountered in log10\n",
      "  s_dbfs = 20 * np.log10(s_mag)\n",
      "Grid Search Progress: 100%|████████| 25/25 [1:39:56<00:00, 239.86s/trial, Current Best Loss=0.16635]\n",
      "{'radius': 0.1, 'sigma_input': 0.1}\n"
     ]
    }
   ],
   "source": [
    "!bash ./0_Randomly_Clustered_ESN_Tune.sh \"tune\" \"Lorenz96_F28_ALPHA1_DIM40\" 3000 0.1 0.1 11 \"grid_search_for_F.json\"    "
   ]
  },
  {
   "cell_type": "code",
   "execution_count": 2,
   "metadata": {},
   "outputs": [
    {
     "name": "stdout",
     "output_type": "stream",
     "text": [
      "{'radius': 0.1, 'sigma_input': 0.1}\n",
      "/home/user/kuei_jan_CHU/PGClustered_ESN/Methods/./Utils/global_utils.py:256: RuntimeWarning: divide by zero encountered in log10\n",
      "  s_dbfs = 20 * np.log10(s_mag)\n",
      "/home/user/anaconda3/lib/python3.11/site-packages/numpy/core/_methods.py:236: RuntimeWarning: invalid value encountered in subtract\n",
      "  x = asanyarray(arr - arrmean)\n",
      "AVERAGE RMNSE ERROR ON TRAIN DATA SET: 17.37307669246904 ± 6.163672198845886\n",
      "AVG NUMBER OF ACCURATE 0.5 PREDICTIONS ON TRAIN DATA SET: 2.084154451985097 ± 0.12219915036593858\n",
      "AVG NUMBER OF ACCURATE 1 PREDICTIONS ON TRAIN DATA SET: 3.0698860685527753 ± 0.15729491918845687\n",
      "POWER SPECTRUM MEAN ERROR ON TRAIN DATA SET: inf ± nan\n",
      "TEMPORAL DISTANCE ON TRAIN DATA SET: 0.5221877772489634 ± 0.13644056191636586\n",
      "GEOMETRICAL DISTANCE ON TRAIN DATA SET: inf ± nan\n",
      "\n",
      "\n",
      "AVERAGE RMNSE ERROR ON TEST DATA SET: 18.58578121863359 ± 7.532360901107631\n",
      "AVG NUMBER OF ACCURATE 0.5 PREDICTIONS ON TEST DATA SET: 1.7448146019656527 ± 0.11727508255269528\n",
      "AVG NUMBER OF ACCURATE 1 PREDICTIONS ON TEST DATA SET: 2.603293774776039 ± 0.19156381573093703\n",
      "POWER SPECTRUM MEAN ERROR ON TEST DATA SET: inf ± nan\n",
      "TEMPORAL DISTANCE ON TEST DATA SET: 0.5308798388583142 ± 0.15374817641411886\n",
      "GEOMETRICAL DISTANCE ON TEST DATA SET: inf ± nan\n"
     ]
    }
   ],
   "source": [
    "!bash ./1_Randomly_Clustered_ESN_Evaluate_Tuned_Model.sh \"evaluate_tuned_model\" \"Lorenz96_F28_ALPHA1_DIM40\" 3000 0.1 0.1 11 \"grid_search_for_F.json\" "
   ]
  },
  {
   "cell_type": "code",
   "execution_count": 1,
   "metadata": {},
   "outputs": [
    {
     "name": "stdout",
     "output_type": "stream",
     "text": [
      "Grid Search Progress:   4%|▎        | 1/25 [04:10<1:40:03, 250.16s/trial, Current Best Loss=0.36825]/home/user/kuei_jan_CHU/PGClustered_ESN/Methods/./Utils/global_utils.py:256: RuntimeWarning: divide by zero encountered in log10\n",
      "  s_dbfs = 20 * np.log10(s_mag)\n",
      "Grid Search Progress: 100%|████████| 25/25 [1:39:47<00:00, 239.51s/trial, Current Best Loss=0.18320]\n",
      "{'radius': 0.7, 'sigma_input': 0.5}\n"
     ]
    }
   ],
   "source": [
    "!bash ./0_Randomly_Clustered_ESN_Tune.sh \"tune\" \"Lorenz96_F32_ALPHA1_DIM40\" 3000 0.1 0.1 12 \"grid_search_for_F.json\"    "
   ]
  },
  {
   "cell_type": "code",
   "execution_count": 2,
   "metadata": {},
   "outputs": [
    {
     "name": "stdout",
     "output_type": "stream",
     "text": [
      "{'radius': 0.7, 'sigma_input': 0.5}\n",
      "/home/user/kuei_jan_CHU/PGClustered_ESN/Methods/./Utils/global_utils.py:256: RuntimeWarning: divide by zero encountered in log10\n",
      "  s_dbfs = 20 * np.log10(s_mag)\n",
      "/home/user/anaconda3/lib/python3.11/site-packages/numpy/core/_methods.py:236: RuntimeWarning: invalid value encountered in subtract\n",
      "  x = asanyarray(arr - arrmean)\n",
      "AVERAGE RMNSE ERROR ON TRAIN DATA SET: 3.494116273836918 ± 0.6053791796489708\n",
      "AVG NUMBER OF ACCURATE 0.5 PREDICTIONS ON TRAIN DATA SET: 0.6851625232680304 ± 0.04637490832059348\n",
      "AVG NUMBER OF ACCURATE 1 PREDICTIONS ON TRAIN DATA SET: 1.2821323320025864 ± 0.10020938645547364\n",
      "POWER SPECTRUM MEAN ERROR ON TRAIN DATA SET: inf ± nan\n",
      "TEMPORAL DISTANCE ON TRAIN DATA SET: 0.2993026905024023 ± 0.1493012325046058\n",
      "GEOMETRICAL DISTANCE ON TRAIN DATA SET: inf ± nan\n",
      "\n",
      "\n",
      "AVERAGE RMNSE ERROR ON TEST DATA SET: 3.4942203060585273 ± 0.6152491828505138\n",
      "AVG NUMBER OF ACCURATE 0.5 PREDICTIONS ON TEST DATA SET: 0.5530491341660924 ± 0.03127744162084391\n",
      "AVG NUMBER OF ACCURATE 1 PREDICTIONS ON TEST DATA SET: 1.146153923538623 ± 0.06320281212912393\n",
      "POWER SPECTRUM MEAN ERROR ON TEST DATA SET: inf ± nan\n",
      "TEMPORAL DISTANCE ON TEST DATA SET: 0.29652714290720145 ± 0.14734732792456026\n",
      "GEOMETRICAL DISTANCE ON TEST DATA SET: inf ± nan\n"
     ]
    }
   ],
   "source": [
    "!bash ./1_Randomly_Clustered_ESN_Evaluate_Tuned_Model.sh \"evaluate_tuned_model\" \"Lorenz96_F32_ALPHA1_DIM40\" 3000 0.1 0.1 12 \"grid_search_for_F.json\" "
   ]
  },
  {
   "cell_type": "code",
   "execution_count": 3,
   "metadata": {},
   "outputs": [
    {
     "name": "stdout",
     "output_type": "stream",
     "text": [
      "Grid Search Progress:   0%|                                               | 0/25 [00:00<?, ?trial/s]/home/user/kuei_jan_CHU/PGClustered_ESN/Methods/./Utils/global_utils.py:256: RuntimeWarning: divide by zero encountered in log10\n",
      "  s_dbfs = 20 * np.log10(s_mag)\n",
      "Grid Search Progress: 100%|████████| 25/25 [1:41:08<00:00, 242.75s/trial, Current Best Loss=0.16629]\n",
      "{'radius': 0.7, 'sigma_input': 0.5}\n"
     ]
    }
   ],
   "source": [
    "!bash ./0_Randomly_Clustered_ESN_Tune.sh \"tune\" \"Lorenz96_F36_ALPHA1_DIM40\" 3000 0.1 0.1 13 \"grid_search_for_F.json\"    "
   ]
  },
  {
   "cell_type": "code",
   "execution_count": 4,
   "metadata": {},
   "outputs": [
    {
     "name": "stdout",
     "output_type": "stream",
     "text": [
      "{'radius': 0.7, 'sigma_input': 0.5}\n",
      "/home/user/anaconda3/lib/python3.11/site-packages/numpy/core/_methods.py:236: RuntimeWarning: invalid value encountered in subtract\n",
      "  x = asanyarray(arr - arrmean)\n",
      "AVERAGE RMNSE ERROR ON TRAIN DATA SET: 3.312322902481136 ± 0.5041272006726866\n",
      "AVG NUMBER OF ACCURATE 0.5 PREDICTIONS ON TRAIN DATA SET: 0.7038524349765538 ± 0.04273197630555988\n",
      "AVG NUMBER OF ACCURATE 1 PREDICTIONS ON TRAIN DATA SET: 1.330057043701578 ± 0.08614832560756501\n",
      "POWER SPECTRUM MEAN ERROR ON TRAIN DATA SET: 9.300572749195615 ± 7.685313196443192\n",
      "TEMPORAL DISTANCE ON TRAIN DATA SET: 0.2631255513547355 ± 0.11852245555448292\n",
      "GEOMETRICAL DISTANCE ON TRAIN DATA SET: inf ± nan\n",
      "\n",
      "\n",
      "AVERAGE RMNSE ERROR ON TEST DATA SET: 3.29596614016276 ± 0.49199633894957917\n",
      "AVG NUMBER OF ACCURATE 0.5 PREDICTIONS ON TEST DATA SET: 0.5910506177355255 ± 0.042211949329723455\n",
      "AVG NUMBER OF ACCURATE 1 PREDICTIONS ON TEST DATA SET: 1.1685804697058593 ± 0.06987256833189617\n",
      "POWER SPECTRUM MEAN ERROR ON TEST DATA SET: 9.726714541672687 ± 8.993032904605439\n",
      "TEMPORAL DISTANCE ON TEST DATA SET: 0.25903704924369303 ± 0.12085419047817385\n",
      "GEOMETRICAL DISTANCE ON TEST DATA SET: inf ± nan\n"
     ]
    }
   ],
   "source": [
    "!bash ./1_Randomly_Clustered_ESN_Evaluate_Tuned_Model.sh \"evaluate_tuned_model\" \"Lorenz96_F36_ALPHA1_DIM40\" 3000 0.1 0.1 13 \"grid_search_for_F.json\" "
   ]
  },
  {
   "cell_type": "code",
   "execution_count": 5,
   "metadata": {},
   "outputs": [
    {
     "name": "stdout",
     "output_type": "stream",
     "text": [
      "Grid Search Progress:   0%|                                               | 0/25 [00:00<?, ?trial/s]/home/user/kuei_jan_CHU/PGClustered_ESN/Methods/./Utils/global_utils.py:256: RuntimeWarning: divide by zero encountered in log10\n",
      "  s_dbfs = 20 * np.log10(s_mag)\n",
      "Grid Search Progress: 100%|████████| 25/25 [1:40:49<00:00, 241.99s/trial, Current Best Loss=0.19532]\n",
      "{'radius': 0.99, 'sigma_input': 0.5}\n"
     ]
    }
   ],
   "source": [
    "!bash ./0_Randomly_Clustered_ESN_Tune.sh \"tune\" \"Lorenz96_F40_ALPHA1_DIM40\" 3000 0.1 0.1 14 \"grid_search_for_F.json\"    "
   ]
  },
  {
   "cell_type": "code",
   "execution_count": 6,
   "metadata": {},
   "outputs": [
    {
     "name": "stdout",
     "output_type": "stream",
     "text": [
      "{'radius': 0.99, 'sigma_input': 0.5}\n",
      "/home/user/anaconda3/lib/python3.11/site-packages/numpy/core/_methods.py:236: RuntimeWarning: invalid value encountered in subtract\n",
      "  x = asanyarray(arr - arrmean)\n",
      "AVERAGE RMNSE ERROR ON TRAIN DATA SET: 2.37455302846318 ± 0.37273632708549254\n",
      "AVG NUMBER OF ACCURATE 0.5 PREDICTIONS ON TRAIN DATA SET: 0.6883350256385053 ± 0.04003742743068179\n",
      "AVG NUMBER OF ACCURATE 1 PREDICTIONS ON TRAIN DATA SET: 1.2933496923341505 ± 0.070930241404719\n",
      "POWER SPECTRUM MEAN ERROR ON TRAIN DATA SET: 5.091476145139656 ± 0.9872569964062261\n",
      "TEMPORAL DISTANCE ON TRAIN DATA SET: 0.21102695329704152 ± 0.0549227339478131\n",
      "GEOMETRICAL DISTANCE ON TRAIN DATA SET: inf ± nan\n",
      "\n",
      "\n",
      "AVERAGE RMNSE ERROR ON TEST DATA SET: 2.375146896759998 ± 0.3867218924219518\n",
      "AVG NUMBER OF ACCURATE 0.5 PREDICTIONS ON TEST DATA SET: 0.5685881781125853 ± 0.0248268996601784\n",
      "AVG NUMBER OF ACCURATE 1 PREDICTIONS ON TEST DATA SET: 1.1731841495371607 ± 0.06008824190647749\n",
      "POWER SPECTRUM MEAN ERROR ON TEST DATA SET: 5.574393293481326 ± 0.759181623100748\n",
      "TEMPORAL DISTANCE ON TEST DATA SET: 0.21310220790848713 ± 0.06447327958344512\n",
      "GEOMETRICAL DISTANCE ON TEST DATA SET: inf ± nan\n"
     ]
    }
   ],
   "source": [
    "!bash ./1_Randomly_Clustered_ESN_Evaluate_Tuned_Model.sh \"evaluate_tuned_model\" \"Lorenz96_F40_ALPHA1_DIM40\" 3000 0.1 0.1 14 \"grid_search_for_F.json\" "
   ]
  },
  {
   "cell_type": "code",
   "execution_count": 7,
   "metadata": {},
   "outputs": [
    {
     "name": "stdout",
     "output_type": "stream",
     "text": [
      "Grid Search Progress:   0%|                                               | 0/25 [00:00<?, ?trial/s]^C\n"
     ]
    }
   ],
   "source": [
    "!bash ./0_Randomly_Clustered_ESN_Tune.sh \"tune\" \"Lorenz96_F44_ALPHA1_DIM40\" 3000 0.1 0.1 15 \"grid_search_for_F.json\"    "
   ]
  },
  {
   "cell_type": "code",
   "execution_count": 8,
   "metadata": {},
   "outputs": [
    {
     "name": "stdout",
     "output_type": "stream",
     "text": [
      "Traceback (most recent call last):\n",
      "  File \"/home/user/kuei_jan_CHU/PGClustered_ESN/Methods/RUN.py\", line 85, in <module>\n",
      "    main()\n",
      "  File \"/home/user/kuei_jan_CHU/PGClustered_ESN/Methods/RUN.py\", line 82, in main\n",
      "    runModel(args_dict)\n",
      "  File \"/home/user/kuei_jan_CHU/PGClustered_ESN/Methods/RUN.py\", line 12, in runModel\n",
      "    evaluateTunedModel(params_dict)\n",
      "  File \"/home/user/kuei_jan_CHU/PGClustered_ESN/Methods/./Utils/global_utils.py\", line 654, in evaluateTunedModel\n",
      "    best_hyperparams, exp_name = readBestHypAfterTuning(hype_tuning_config_path, report_path)\n",
      "                                 ^^^^^^^^^^^^^^^^^^^^^^^^^^^^^^^^^^^^^^^^^^^^^^^^^^^^^^^^^^^^\n",
      "  File \"/home/user/kuei_jan_CHU/PGClustered_ESN/Methods/./Utils/hyper_tuning_utils.py\", line 408, in readBestHypAfterTuning\n",
      "    with open(report_path + \"/tuning_result.pickle\", \"rb\") as file:\n",
      "         ^^^^^^^^^^^^^^^^^^^^^^^^^^^^^^^^^^^^^^^^^^^^^^^^^\n",
      "FileNotFoundError: [Errno 2] No such file or directory: '/home/user/kuei_jan_CHU/PGClustered_ESN/Results/Lorenz96_ANALYSIS/randomly_clustered_esn/Tuning/round15/grid-search-for-F-randomly_clustered_esn/tuning_result.pickle'\n"
     ]
    }
   ],
   "source": [
    "!bash ./1_Randomly_Clustered_ESN_Evaluate_Tuned_Model.sh \"evaluate_tuned_model\" \"Lorenz96_F44_ALPHA1_DIM40\" 3000 0.1 0.1 15 \"grid_search_for_F.json\" "
   ]
  },
  {
   "cell_type": "code",
   "execution_count": null,
   "metadata": {},
   "outputs": [],
   "source": []
  },
  {
   "cell_type": "code",
   "execution_count": null,
   "metadata": {
    "editable": true,
    "slideshow": {
     "slide_type": ""
    },
    "tags": []
   },
   "outputs": [],
   "source": []
  },
  {
   "cell_type": "code",
   "execution_count": null,
   "metadata": {},
   "outputs": [],
   "source": []
  },
  {
   "cell_type": "code",
   "execution_count": null,
   "metadata": {},
   "outputs": [],
   "source": []
  }
 ],
 "metadata": {
  "kernelspec": {
   "display_name": "Python 3 (ipykernel)",
   "language": "python",
   "name": "python3"
  },
  "language_info": {
   "codemirror_mode": {
    "name": "ipython",
    "version": 3
   },
   "file_extension": ".py",
   "mimetype": "text/x-python",
   "name": "python",
   "nbconvert_exporter": "python",
   "pygments_lexer": "ipython3",
   "version": "3.11.8"
  }
 },
 "nbformat": 4,
 "nbformat_minor": 4
}
