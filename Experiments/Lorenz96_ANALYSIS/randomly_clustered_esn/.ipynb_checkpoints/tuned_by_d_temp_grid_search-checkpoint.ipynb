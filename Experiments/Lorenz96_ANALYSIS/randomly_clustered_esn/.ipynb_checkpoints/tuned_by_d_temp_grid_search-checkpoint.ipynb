{
 "cells": [
  {
   "cell_type": "markdown",
   "metadata": {},
   "source": [
    "### use --iterative_prediction_length 1000 \\ --num_test_ICS 20 \\ --N 50000 \\ --N_used 50000 \\ --sparsity 1 \\ --p_in 1 \\ noise = 5 \\ d_temp"
   ]
  },
  {
   "cell_type": "code",
   "execution_count": 1,
   "metadata": {},
   "outputs": [
    {
     "name": "stdout",
     "output_type": "stream",
     "text": [
      "Grid Search Progress:   4%|▍           | 1/25 [00:52<21:02, 52.61s/trial, Current Best Loss=0.50533]/home/user/kuei_jan_CHU/PGClustered_ESN/Methods/./Utils/global_utils.py:254: RuntimeWarning: divide by zero encountered in log10\n",
      "  s_dbfs = 20 * np.log10(s_mag)\n",
      "/home/user/kuei_jan_CHU/PGClustered_ESN/Methods/./Utils/global_utils.py:289: RuntimeWarning: invalid value encountered in divide\n",
      "  trajectory = (trajectory-trajectory.mean())/trajectory.std()\n",
      "Grid Search Progress:   8%|▉           | 2/25 [01:48<20:50, 54.38s/trial, Current Best Loss=0.50533]/home/user/kuei_jan_CHU/PGClustered_ESN/Methods/./Utils/global_utils.py:301: RuntimeWarning: Mean of empty slice\n",
      "  spectrum = np.nanmean(np.array(spectrum),axis=0)\n",
      "Grid Search Progress: 100%|███████████| 25/25 [23:12<00:00, 55.69s/trial, Current Best Loss=0.37232]\n",
      "{'radius': 0.99, 'sigma_input': 0.1, 'regularization': 0.01, 'in_cluster_weight': 0.5, 'noise_level': 5}\n"
     ]
    }
   ],
   "source": [
    "!bash ./0_Randomly_Clustered_ESN_Tune.sh \"tune\" 40 0.1 0.1 0 \"grid_search.json\""
   ]
  },
  {
   "cell_type": "code",
   "execution_count": 2,
   "metadata": {},
   "outputs": [
    {
     "name": "stdout",
     "output_type": "stream",
     "text": [
      "Grid Search Progress:   0%|                                               | 0/25 [00:00<?, ?trial/s]/home/user/kuei_jan_CHU/PGClustered_ESN/Methods/./Utils/global_utils.py:254: RuntimeWarning: divide by zero encountered in log10\n",
      "  s_dbfs = 20 * np.log10(s_mag)\n",
      "Grid Search Progress:   8%|▉           | 2/25 [02:18<26:30, 69.15s/trial, Current Best Loss=0.36257]/home/user/kuei_jan_CHU/PGClustered_ESN/Methods/./Utils/global_utils.py:289: RuntimeWarning: invalid value encountered in divide\n",
      "  trajectory = (trajectory-trajectory.mean())/trajectory.std()\n",
      "Grid Search Progress: 100%|███████████| 25/25 [29:00<00:00, 69.62s/trial, Current Best Loss=0.31670]\n",
      "{'radius': 0.99, 'sigma_input': 0.1, 'regularization': 0.01, 'in_cluster_weight': 0.5, 'noise_level': 5}\n"
     ]
    }
   ],
   "source": [
    "!bash ./0_Randomly_Clustered_ESN_Tune.sh \"tune\" 80 0.1 0.1 1 \"grid_search.json\""
   ]
  },
  {
   "cell_type": "code",
   "execution_count": 3,
   "metadata": {},
   "outputs": [
    {
     "name": "stdout",
     "output_type": "stream",
     "text": [
      "Grid Search Progress:   8%|▉           | 2/25 [01:10<13:25, 35.03s/trial, Current Best Loss=0.21823]/home/user/kuei_jan_CHU/PGClustered_ESN/Methods/./Utils/global_utils.py:254: RuntimeWarning: divide by zero encountered in log10\n",
      "  s_dbfs = 20 * np.log10(s_mag)\n",
      "Grid Search Progress: 100%|███████████| 25/25 [14:33<00:00, 34.96s/trial, Current Best Loss=0.21823]\n",
      "{'radius': 0.1, 'sigma_input': 0.1, 'regularization': 0.01, 'in_cluster_weight': 0.5, 'noise_level': 5}\n"
     ]
    }
   ],
   "source": [
    "!bash ./0_Randomly_Clustered_ESN_Tune.sh \"tune\" 500 0.1 0.1 2 \"grid_search.json\""
   ]
  },
  {
   "cell_type": "code",
   "execution_count": 4,
   "metadata": {},
   "outputs": [
    {
     "name": "stdout",
     "output_type": "stream",
     "text": [
      "Grid Search Progress:   4%|▍           | 1/25 [00:50<20:13, 50.55s/trial, Current Best Loss=0.27503]/home/user/kuei_jan_CHU/PGClustered_ESN/Methods/./Utils/global_utils.py:254: RuntimeWarning: divide by zero encountered in log10\n",
      "  s_dbfs = 20 * np.log10(s_mag)\n",
      "Grid Search Progress: 100%|███████████| 25/25 [20:08<00:00, 48.32s/trial, Current Best Loss=0.21105]\n",
      "{'radius': 0.99, 'sigma_input': 0.5, 'regularization': 0.01, 'in_cluster_weight': 0.5, 'noise_level': 5}\n"
     ]
    }
   ],
   "source": [
    "!bash ./0_Randomly_Clustered_ESN_Tune.sh \"tune\" 1000 0.1 0.1 3 \"grid_search.json\""
   ]
  },
  {
   "cell_type": "code",
   "execution_count": 5,
   "metadata": {},
   "outputs": [
    {
     "name": "stdout",
     "output_type": "stream",
     "text": [
      "Grid Search Progress:   4%|▍           | 1/25 [01:22<32:59, 82.46s/trial, Current Best Loss=0.21003]/home/user/kuei_jan_CHU/PGClustered_ESN/Methods/./Utils/global_utils.py:254: RuntimeWarning: divide by zero encountered in log10\n",
      "  s_dbfs = 20 * np.log10(s_mag)\n",
      "Grid Search Progress: 100%|███████████| 25/25 [31:12<00:00, 74.91s/trial, Current Best Loss=0.18869]\n",
      "{'radius': 0.99, 'sigma_input': 0.5, 'regularization': 0.01, 'in_cluster_weight': 0.5, 'noise_level': 5}\n"
     ]
    }
   ],
   "source": [
    "!bash ./0_Randomly_Clustered_ESN_Tune.sh \"tune\" 1500 0.1 0.1 4 \"grid_search.json\""
   ]
  },
  {
   "cell_type": "code",
   "execution_count": 6,
   "metadata": {},
   "outputs": [
    {
     "name": "stdout",
     "output_type": "stream",
     "text": [
      "Grid Search Progress: 100%|██████████| 25/25 [43:03<00:00, 103.32s/trial, Current Best Loss=0.13539]\n",
      "{'radius': 0.7, 'sigma_input': 0.1, 'regularization': 0.01, 'in_cluster_weight': 0.5, 'noise_level': 5}\n"
     ]
    }
   ],
   "source": [
    "!bash ./0_Randomly_Clustered_ESN_Tune.sh \"tune\" 2000 0.1 0.1 5 \"grid_search.json\""
   ]
  },
  {
   "cell_type": "code",
   "execution_count": 7,
   "metadata": {},
   "outputs": [
    {
     "name": "stdout",
     "output_type": "stream",
     "text": [
      "Grid Search Progress:   8%|▋        | 2/25 [07:06<1:21:33, 212.77s/trial, Current Best Loss=0.12448]/home/user/kuei_jan_CHU/PGClustered_ESN/Methods/./Utils/global_utils.py:254: RuntimeWarning: divide by zero encountered in log10\n",
      "  s_dbfs = 20 * np.log10(s_mag)\n",
      "Grid Search Progress: 100%|████████| 25/25 [1:21:07<00:00, 194.69s/trial, Current Best Loss=0.12448]\n",
      "{'radius': 0.1, 'sigma_input': 0.1, 'regularization': 0.01, 'in_cluster_weight': 0.5, 'noise_level': 5}\n"
     ]
    }
   ],
   "source": [
    "!bash ./0_Randomly_Clustered_ESN_Tune.sh \"tune\" 2500 0.1 0.1 6 \"grid_search.json\""
   ]
  },
  {
   "cell_type": "code",
   "execution_count": 8,
   "metadata": {},
   "outputs": [
    {
     "name": "stdout",
     "output_type": "stream",
     "text": [
      "Grid Search Progress:  12%|█        | 3/25 [14:02<1:42:24, 279.31s/trial, Current Best Loss=0.12229]/home/user/kuei_jan_CHU/PGClustered_ESN/Methods/./Utils/global_utils.py:254: RuntimeWarning: divide by zero encountered in log10\n",
      "  s_dbfs = 20 * np.log10(s_mag)\n",
      "Grid Search Progress: 100%|████████| 25/25 [1:43:56<00:00, 249.47s/trial, Current Best Loss=0.12229]\n",
      "{'radius': 0.1, 'sigma_input': 0.1, 'regularization': 0.01, 'in_cluster_weight': 0.5, 'noise_level': 5}\n"
     ]
    }
   ],
   "source": [
    "!bash ./0_Randomly_Clustered_ESN_Tune.sh \"tune\" 3000 0.1 0.1 7 \"grid_search.json\""
   ]
  },
  {
   "cell_type": "code",
   "execution_count": 9,
   "metadata": {
    "editable": true,
    "slideshow": {
     "slide_type": ""
    },
    "tags": []
   },
   "outputs": [
    {
     "name": "stdout",
     "output_type": "stream",
     "text": [
      "Grid Search Progress:  12%|█        | 3/25 [22:01<2:38:40, 432.75s/trial, Current Best Loss=0.12532]/home/user/kuei_jan_CHU/PGClustered_ESN/Methods/./Utils/global_utils.py:254: RuntimeWarning: divide by zero encountered in log10\n",
      "  s_dbfs = 20 * np.log10(s_mag)\n",
      "Grid Search Progress: 100%|████████| 25/25 [2:54:26<00:00, 418.64s/trial, Current Best Loss=0.12346]\n",
      "{'radius': 0.4, 'sigma_input': 0.1, 'regularization': 0.01, 'in_cluster_weight': 0.5, 'noise_level': 5}\n"
     ]
    }
   ],
   "source": [
    "!bash ./0_Randomly_Clustered_ESN_Tune.sh \"tune\" 3500 0.1 0.1 8 \"grid_search.json\""
   ]
  },
  {
   "cell_type": "code",
   "execution_count": 10,
   "metadata": {
    "editable": true,
    "slideshow": {
     "slide_type": ""
    },
    "tags": []
   },
   "outputs": [
    {
     "name": "stdout",
     "output_type": "stream",
     "text": [
      "Grid Search Progress:  12%|█        | 3/25 [29:34<3:33:33, 582.43s/trial, Current Best Loss=0.12170]/home/user/kuei_jan_CHU/PGClustered_ESN/Methods/./Utils/global_utils.py:254: RuntimeWarning: divide by zero encountered in log10\n",
      "  s_dbfs = 20 * np.log10(s_mag)\n",
      "Grid Search Progress: 100%|████████| 25/25 [3:50:41<00:00, 553.65s/trial, Current Best Loss=0.12170]\n",
      "{'radius': 0.1, 'sigma_input': 0.1, 'regularization': 0.01, 'in_cluster_weight': 0.5, 'noise_level': 5}\n"
     ]
    }
   ],
   "source": [
    "!bash ./0_Randomly_Clustered_ESN_Tune.sh \"tune\" 4000 0.1 0.1 9 \"grid_search.json\""
   ]
  },
  {
   "cell_type": "code",
   "execution_count": null,
   "metadata": {
    "editable": true,
    "slideshow": {
     "slide_type": ""
    },
    "tags": []
   },
   "outputs": [],
   "source": []
  },
  {
   "cell_type": "code",
   "execution_count": null,
   "metadata": {},
   "outputs": [],
   "source": []
  },
  {
   "cell_type": "code",
   "execution_count": null,
   "metadata": {},
   "outputs": [],
   "source": []
  }
 ],
 "metadata": {
  "kernelspec": {
   "display_name": "Python 3 (ipykernel)",
   "language": "python",
   "name": "python3"
  },
  "language_info": {
   "codemirror_mode": {
    "name": "ipython",
    "version": 3
   },
   "file_extension": ".py",
   "mimetype": "text/x-python",
   "name": "python",
   "nbconvert_exporter": "python",
   "pygments_lexer": "ipython3",
   "version": "3.11.8"
  }
 },
 "nbformat": 4,
 "nbformat_minor": 4
}
