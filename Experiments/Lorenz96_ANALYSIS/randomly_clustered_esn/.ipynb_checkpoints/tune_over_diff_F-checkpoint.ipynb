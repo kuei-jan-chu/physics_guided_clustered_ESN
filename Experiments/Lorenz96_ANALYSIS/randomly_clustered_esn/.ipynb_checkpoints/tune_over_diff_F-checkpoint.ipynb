{
 "cells": [
  {
   "cell_type": "markdown",
   "metadata": {},
   "source": [
    "### use --iterative_prediction_length 7000 \\ --num_test_ICS 20 \\ --N 50000 \\ --N_used 50000 \\ --sparsity 1 \\ --p_in 1 \\ method: tpe \\ size: half hyper space\\ metric: d_temp\n",
    "with washout evaluation, data seperation: 6:4"
   ]
  },
  {
   "cell_type": "code",
   "execution_count": null,
   "metadata": {},
   "outputs": [
    {
     "name": "stdout",
     "output_type": "stream",
     "text": [
      "Grid Search Progress: 100%|███████████| 25/25 [37:52<00:00, 90.88s/trial, Current Best Loss=0.12178]\n",
      "{'radius': 0.9, 'sigma_input': 0.1, 'regularization': 0.01, 'in_cluster_weight': 0.5, 'noise_level': 5}\n"
     ]
    }
   ],
   "source": [
    "!bash ./0_Randomly_Clustered_ESN_Tune.sh \"tune\" \"Lorenz96_F8_ALPHA1_DIM40\" 3000 1 1 1 \"grid_search_for_F.json\" "
   ]
  },
  {
   "cell_type": "code",
   "execution_count": 9,
   "metadata": {},
   "outputs": [
    {
     "name": "stdout",
     "output_type": "stream",
     "text": [
      "AVERAGE RMNSE ERROR ON TRAIN DATA SET: 1.3623985876317257 ± 0.008266726782543124\n",
      "AVG NUMBER OF ACCURATE 0.5 PREDICTIONS ON TRAIN DATA SET: 1.7928402807926247 ± 0.06755353432038409\n",
      "AVG NUMBER OF ACCURATE 1 PREDICTIONS ON TRAIN DATA SET: 2.865108279780259 ± 0.1407531883342045\n",
      "POWER SPECTRUM MEAN ERROR ON TRAIN DATA SET: 0.5002195462289039 ± 0.3556648411966852\n",
      "TEMPORAL DISTANCE ON TRAIN DATA SET: 0.10740209998439658 ± 0.00149859085487138\n",
      "GEOMETRICAL DISTANCE ON TRAIN DATA SET: 7.805261999741239 ± 0.051126686663622564\n",
      "\n",
      "\n",
      "AVERAGE RMNSE ERROR ON TEST DATA SET: 1.3744878921497565 ± 0.008162708979214844\n",
      "AVG NUMBER OF ACCURATE 0.5 PREDICTIONS ON TEST DATA SET: 1.4881629956314892 ± 0.10417148503230414\n",
      "AVG NUMBER OF ACCURATE 1 PREDICTIONS ON TEST DATA SET: 2.430955266578224 ± 0.1360395086322595\n",
      "POWER SPECTRUM MEAN ERROR ON TEST DATA SET: 0.6398637666921473 ± 0.37842691349088586\n",
      "TEMPORAL DISTANCE ON TEST DATA SET: 0.10716754483202547 ± 0.0012530640709600483\n",
      "GEOMETRICAL DISTANCE ON TEST DATA SET: 7.815577159581129 ± 0.04141086303764159\n"
     ]
    }
   ],
   "source": [
    "!bash ./1_Randomly_Clustered_ESN_Evaluate_Tuned_Model.sh \"evaluate_tuned_model\" \"Lorenz96_F8_ALPHA1_DIM40\" 3000 1 1 1 \"grid_search_for_F.json\" "
   ]
  },
  {
   "cell_type": "code",
   "execution_count": 1,
   "metadata": {},
   "outputs": [
    {
     "name": "stdout",
     "output_type": "stream",
     "text": [
      "Grid Search Progress: 100%|████████| 25/25 [1:43:14<00:00, 247.77s/trial, Current Best Loss=0.11145]\n",
      "{'radius': 0.1, 'sigma_input': 0.5, 'system_name': 'Lorenz96_F8_ALPHA2_DIM40'}\n"
     ]
    }
   ],
   "source": [
    "!bash ./0_Randomly_Clustered_ESN_Tune.sh \"tune\" \"Lorenz96_F10_ALPHA1_DIM40\" 3000 1 1 2 \"grid_search_for_F.json\"    "
   ]
  },
  {
   "cell_type": "code",
   "execution_count": 10,
   "metadata": {},
   "outputs": [
    {
     "name": "stdout",
     "output_type": "stream",
     "text": [
      "AVERAGE RMNSE ERROR ON TRAIN DATA SET: 1.3898308616279853 ± 0.0033648430246008875\n",
      "AVG NUMBER OF ACCURATE 0.5 PREDICTIONS ON TRAIN DATA SET: 2.316450569418184 ± 0.08090338754465239\n",
      "AVG NUMBER OF ACCURATE 1 PREDICTIONS ON TRAIN DATA SET: 3.5940127121169354 ± 0.2715591602716521\n",
      "POWER SPECTRUM MEAN ERROR ON TRAIN DATA SET: 0.991863521288719 ± 0.3388060298834679\n",
      "TEMPORAL DISTANCE ON TRAIN DATA SET: 0.09518996453068909 ± 0.001286161903350438\n",
      "GEOMETRICAL DISTANCE ON TRAIN DATA SET: 7.4079575832082725 ± 0.030690276563104982\n",
      "\n",
      "\n",
      "AVERAGE RMNSE ERROR ON TEST DATA SET: 1.3905107248307325 ± 0.003909006146051058\n",
      "AVG NUMBER OF ACCURATE 0.5 PREDICTIONS ON TEST DATA SET: 2.1396065011216954 ± 0.15733348349634307\n",
      "AVG NUMBER OF ACCURATE 1 PREDICTIONS ON TEST DATA SET: 3.33616992603534 ± 0.1915963432753042\n",
      "POWER SPECTRUM MEAN ERROR ON TEST DATA SET: 0.43561689604491416 ± 0.28839376644644954\n",
      "TEMPORAL DISTANCE ON TEST DATA SET: 0.09567827529473072 ± 0.0008513828093493024\n",
      "GEOMETRICAL DISTANCE ON TEST DATA SET: 7.387485552519912 ± 0.04476620871267818\n"
     ]
    }
   ],
   "source": [
    "!bash ./1_Randomly_Clustered_ESN_Evaluate_Tuned_Model.sh \"evaluate_tuned_model\" \"Lorenz96_F10_ALPHA1_DIM40\" 3000 1 1 2 \"grid_search_for_F.json\" "
   ]
  },
  {
   "cell_type": "code",
   "execution_count": 3,
   "metadata": {},
   "outputs": [
    {
     "name": "stdout",
     "output_type": "stream",
     "text": [
      "Grid Search Progress: 100%|████████| 25/25 [1:43:02<00:00, 247.32s/trial, Current Best Loss=0.10722]\n",
      "{'radius': 0.4, 'sigma_input': 0.5, 'system_name': 'Lorenz96_F8_ALPHA3_DIM40'}\n"
     ]
    }
   ],
   "source": [
    "!bash ./0_Randomly_Clustered_ESN_Tune.sh \"tune\" \"Lorenz96_F12_ALPHA1_DIM40\" 3000 1 1 3 \"grid_search_for_F.json\" "
   ]
  },
  {
   "cell_type": "code",
   "execution_count": 11,
   "metadata": {},
   "outputs": [
    {
     "name": "stdout",
     "output_type": "stream",
     "text": [
      "AVERAGE RMNSE ERROR ON TRAIN DATA SET: 1.4086451287837685 ± 0.0025184389603081286\n",
      "AVG NUMBER OF ACCURATE 0.5 PREDICTIONS ON TRAIN DATA SET: 0.9346316781920032 ± 0.05650563292336283\n",
      "AVG NUMBER OF ACCURATE 1 PREDICTIONS ON TRAIN DATA SET: 1.3761159884937537 ± 0.057329089538283695\n",
      "POWER SPECTRUM MEAN ERROR ON TRAIN DATA SET: 0.6198437352606418 ± 0.17517190399483099\n",
      "TEMPORAL DISTANCE ON TRAIN DATA SET: 0.10632004148282811 ± 0.00045375035366018685\n",
      "GEOMETRICAL DISTANCE ON TRAIN DATA SET: 6.619948372899451 ± 0.037216129710144326\n",
      "\n",
      "\n",
      "AVERAGE RMNSE ERROR ON TEST DATA SET: 1.4094902354864476 ± 0.0018838021574329648\n",
      "AVG NUMBER OF ACCURATE 0.5 PREDICTIONS ON TEST DATA SET: 0.9148241027529332 ± 0.03893781000432292\n",
      "AVG NUMBER OF ACCURATE 1 PREDICTIONS ON TEST DATA SET: 1.3414016810232183 ± 0.0719471683110545\n",
      "POWER SPECTRUM MEAN ERROR ON TEST DATA SET: 0.4121709589519168 ± 0.07784422054984905\n",
      "TEMPORAL DISTANCE ON TEST DATA SET: 0.10597583254216099 ± 0.0007562103094917614\n",
      "GEOMETRICAL DISTANCE ON TEST DATA SET: 6.613374893269659 ± 0.035027007081528345\n"
     ]
    }
   ],
   "source": [
    "!bash ./1_Randomly_Clustered_ESN_Evaluate_Tuned_Model.sh \"evaluate_tuned_model\" \"Lorenz96_F12_ALPHA1_DIM40\" 3000 1 1 3 \"grid_search_for_F.json\" "
   ]
  },
  {
   "cell_type": "code",
   "execution_count": 5,
   "metadata": {},
   "outputs": [
    {
     "name": "stdout",
     "output_type": "stream",
     "text": [
      "Grid Search Progress: 100%|████████| 25/25 [1:42:04<00:00, 244.99s/trial, Current Best Loss=0.10794]\n",
      "{'radius': 0.4, 'sigma_input': 0.5, 'system_name': 'Lorenz96_F8_ALPHA4_DIM40'}\n"
     ]
    }
   ],
   "source": [
    "!bash ./0_Randomly_Clustered_ESN_Tune.sh \"tune\" \"Lorenz96_F14_ALPHA1_DIM40\" 3000 1 1 4 \"grid_search_for_F.json\" "
   ]
  },
  {
   "cell_type": "code",
   "execution_count": 12,
   "metadata": {},
   "outputs": [
    {
     "name": "stdout",
     "output_type": "stream",
     "text": [
      "AVERAGE RMNSE ERROR ON TRAIN DATA SET: 1.4086451287837685 ± 0.0025184389603081286\n",
      "AVG NUMBER OF ACCURATE 0.5 PREDICTIONS ON TRAIN DATA SET: 0.9346316781920032 ± 0.05650563292336283\n",
      "AVG NUMBER OF ACCURATE 1 PREDICTIONS ON TRAIN DATA SET: 1.3761159884937537 ± 0.057329089538283695\n",
      "POWER SPECTRUM MEAN ERROR ON TRAIN DATA SET: 0.6198437352606418 ± 0.17517190399483099\n",
      "TEMPORAL DISTANCE ON TRAIN DATA SET: 0.10632004148282811 ± 0.00045375035366018685\n",
      "GEOMETRICAL DISTANCE ON TRAIN DATA SET: 6.619948372899451 ± 0.037216129710144326\n",
      "\n",
      "\n",
      "AVERAGE RMNSE ERROR ON TEST DATA SET: 1.4094902354864476 ± 0.0018838021574329648\n",
      "AVG NUMBER OF ACCURATE 0.5 PREDICTIONS ON TEST DATA SET: 0.9148241027529332 ± 0.03893781000432292\n",
      "AVG NUMBER OF ACCURATE 1 PREDICTIONS ON TEST DATA SET: 1.3414016810232183 ± 0.0719471683110545\n",
      "POWER SPECTRUM MEAN ERROR ON TEST DATA SET: 0.4121709589519168 ± 0.07784422054984905\n",
      "TEMPORAL DISTANCE ON TEST DATA SET: 0.10597583254216099 ± 0.0007562103094917614\n",
      "GEOMETRICAL DISTANCE ON TEST DATA SET: 6.613374893269659 ± 0.035027007081528345\n"
     ]
    }
   ],
   "source": [
    "!bash ./1_Randomly_Clustered_ESN_Evaluate_Tuned_Model.sh \"evaluate_tuned_model\" \"Lorenz96_F14_ALPHA1_DIM40\" 3000 1 1 4 \"grid_search_for_F.json\" "
   ]
  },
  {
   "cell_type": "code",
   "execution_count": 7,
   "metadata": {},
   "outputs": [
    {
     "name": "stdout",
     "output_type": "stream",
     "text": [
      "Grid Search Progress: 100%|████████| 25/25 [1:42:05<00:00, 245.01s/trial, Current Best Loss=0.10966]\n",
      "{'radius': 0.4, 'sigma_input': 0.5, 'system_name': 'Lorenz96_F8_ALPHA5_DIM40'}\n"
     ]
    }
   ],
   "source": [
    "!bash ./0_Randomly_Clustered_ESN_Tune.sh \"tune\" 3000 1 1 5 \"Lorenz96_F16_ALPHA1_DIM40\" \"grid_search_for_F.json\" "
   ]
  },
  {
   "cell_type": "code",
   "execution_count": 3,
   "metadata": {},
   "outputs": [
    {
     "name": "stdout",
     "output_type": "stream",
     "text": [
      "AVERAGE RMNSE ERROR ON TRAIN DATA SET: 1.4086451287837685 ± 0.0025184389603081286\n",
      "AVG NUMBER OF ACCURATE 0.5 PREDICTIONS ON TRAIN DATA SET: 0.9346316781920032 ± 0.05650563292336283\n",
      "AVG NUMBER OF ACCURATE 1 PREDICTIONS ON TRAIN DATA SET: 1.3761159884937537 ± 0.057329089538283695\n",
      "POWER SPECTRUM MEAN ERROR ON TRAIN DATA SET: 0.6198437352606418 ± 0.17517190399483099\n",
      "TEMPORAL DISTANCE ON TRAIN DATA SET: 0.10632004148282811 ± 0.00045375035366018685\n",
      "GEOMETRICAL DISTANCE ON TRAIN DATA SET: 6.619948372899451 ± 0.037216129710144326\n",
      "\n",
      "\n",
      "AVERAGE RMNSE ERROR ON TEST DATA SET: 1.4094902354864476 ± 0.0018838021574329648\n",
      "AVG NUMBER OF ACCURATE 0.5 PREDICTIONS ON TEST DATA SET: 0.9148241027529332 ± 0.03893781000432292\n",
      "AVG NUMBER OF ACCURATE 1 PREDICTIONS ON TEST DATA SET: 1.3414016810232183 ± 0.0719471683110545\n",
      "POWER SPECTRUM MEAN ERROR ON TEST DATA SET: 0.4121709589519168 ± 0.07784422054984905\n",
      "TEMPORAL DISTANCE ON TEST DATA SET: 0.10597583254216099 ± 0.0007562103094917614\n",
      "GEOMETRICAL DISTANCE ON TEST DATA SET: 6.613374893269659 ± 0.035027007081528345\n"
     ]
    }
   ],
   "source": [
    "!bash ./1_Randomly_Clustered_ESN_Evaluate_Tuned_Model.sh \"evaluate_tuned_model\" \"Lorenz96_F16_ALPHA1_DIM40\" 3000 1 1 5 \"grid_search_for_F.json\" "
   ]
  },
  {
   "cell_type": "code",
   "execution_count": null,
   "metadata": {
    "editable": true,
    "slideshow": {
     "slide_type": ""
    },
    "tags": []
   },
   "outputs": [],
   "source": []
  },
  {
   "cell_type": "code",
   "execution_count": null,
   "metadata": {},
   "outputs": [],
   "source": []
  },
  {
   "cell_type": "code",
   "execution_count": null,
   "metadata": {},
   "outputs": [],
   "source": []
  }
 ],
 "metadata": {
  "kernelspec": {
   "display_name": "base",
   "language": "python",
   "name": "python3"
  },
  "language_info": {
   "codemirror_mode": {
    "name": "ipython",
    "version": 3
   },
   "file_extension": ".py",
   "mimetype": "text/x-python",
   "name": "python",
   "nbconvert_exporter": "python",
   "pygments_lexer": "ipython3",
   "version": "3.11.8"
  }
 },
 "nbformat": 4,
 "nbformat_minor": 4
}
