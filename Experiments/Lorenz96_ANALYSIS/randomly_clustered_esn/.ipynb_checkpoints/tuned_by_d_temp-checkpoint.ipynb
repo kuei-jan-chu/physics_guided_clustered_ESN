{
 "cells": [
  {
   "cell_type": "markdown",
   "metadata": {},
   "source": [
    "### use --iterative_prediction_length 1000 \\ --num_test_ICS 20 \\ --N 50000 \\ --N_used 50000 \\ --sparsity 1 \\ --p_in 1 \\ noise = 5 \\ d_temp"
   ]
  },
  {
   "cell_type": "code",
   "execution_count": 1,
   "metadata": {},
   "outputs": [
    {
     "name": "stdout",
     "output_type": "stream",
     "text": [
      "  7%|▌        | 2/30 [03:03<42:42, 91.52s/trial, best loss: 0.28919658240997254]/home/user/kuei_jan_CHU/PGClustered_ESN/Methods/./Utils/global_utils.py:254: RuntimeWarning: divide by zero encountered in log10\n",
      "  s_dbfs = 20 * np.log10(s_mag)\n",
      "\n",
      "100%|█████████| 30/30 [42:36<00:00, 85.23s/trial, best loss: 0.2768115617324231]\n",
      "{'in_cluster_weight': 0.5, 'noise_level': 5, 'radius': 0.7, 'regularization': 0.01, 'sigma_input': 0.3}\n"
     ]
    }
   ],
   "source": [
    "!bash ./0_Randomly_Clustered_ESN_Tune.sh \"tune\" 500 0.1 0.1 0 \"random_search.json\""
   ]
  },
  {
   "cell_type": "code",
   "execution_count": 1,
   "metadata": {},
   "outputs": [
    {
     "name": "stdout",
     "output_type": "stream",
     "text": [
      "/home/user/anaconda3/lib/python3.11/site-packages/numpy/core/_methods.py:236: RuntimeWarning: invalid value encountered in subtract\n",
      "  x = asanyarray(arr - arrmean)\n",
      "AVERAGE RMNSE ERROR ON TRAIN DATA SET: 2.311055397553674 ± 0.4043104606025004\n",
      "AVG NUMBER OF ACCURATE 0.5 PREDICTIONS ON TRAIN DATA SET: 0.2224018656858032 ± 0.009615853750106358\n",
      "AVG NUMBER OF ACCURATE 1 PREDICTIONS ON TRAIN DATA SET: 0.5137407249794074 ± 0.034745859425585446\n",
      "POWER SPECTRUM MEAN ERROR ON TRAIN DATA SET: inf ± nan\n",
      "TEMPORAL DISTANCE ON TRAIN DATA SET: 0.3562753890470979 ± 0.06897508605623777\n",
      "GEOMETRICAL DISTANCE ON TRAIN DATA SET: 8.685752854331067 ± 0.031022132004476392\n",
      "\n",
      "\n",
      "AVERAGE RMNSE ERROR ON TEST DATA SET: 2.3267623763111875 ± 0.4095865968268122\n",
      "AVG NUMBER OF ACCURATE 0.5 PREDICTIONS ON TEST DATA SET: 0.19526529851989616 ± 0.006831479501195889\n",
      "AVG NUMBER OF ACCURATE 1 PREDICTIONS ON TEST DATA SET: 0.4517985607963587 ± 0.0239701423170724\n",
      "POWER SPECTRUM MEAN ERROR ON TEST DATA SET: inf ± nan\n",
      "TEMPORAL DISTANCE ON TEST DATA SET: 0.3625906131300909 ± 0.06582388487550285\n",
      "GEOMETRICAL DISTANCE ON TEST DATA SET: 8.682149793935723 ± 0.042529800214054815\n"
     ]
    }
   ],
   "source": [
    "!bash ./1_Randomly_Clustered_ESN_Evaluate_Tuned_Model.sh \"evaluate_tuned_model\" 500 0.1 0.1 0 \"random_search.json\""
   ]
  },
  {
   "cell_type": "code",
   "execution_count": 3,
   "metadata": {},
   "outputs": [
    {
     "name": "stdout",
     "output_type": "stream",
     "text": [
      " 10%|▉        | 3/30 [06:03<54:12, 120.46s/trial, best loss: 0.2122335435105822]/home/user/kuei_jan_CHU/PGClustered_ESN/Methods/./Utils/global_utils.py:254: RuntimeWarning: divide by zero encountered in log10\n",
      "  s_dbfs = 20 * np.log10(s_mag)\n",
      "\n",
      "100%|████████| 30/30 [59:05<00:00, 118.19s/trial, best loss: 0.2122335435105822]\n",
      "{'in_cluster_weight': 0.5, 'noise_level': 5, 'radius': 0.9, 'regularization': 0.01, 'sigma_input': 0.5}\n"
     ]
    }
   ],
   "source": [
    "!bash ./0_Randomly_Clustered_ESN_Tune.sh \"tune\" 1000 0.1 0.1 1 \"random_search.json\""
   ]
  },
  {
   "cell_type": "code",
   "execution_count": 2,
   "metadata": {},
   "outputs": [
    {
     "name": "stdout",
     "output_type": "stream",
     "text": [
      "AVERAGE RMNSE ERROR ON TRAIN DATA SET: 1.6109638624974423 ± 0.02943253962436365\n",
      "AVG NUMBER OF ACCURATE 0.5 PREDICTIONS ON TRAIN DATA SET: 0.24271215353357833 ± 0.011592032816969302\n",
      "AVG NUMBER OF ACCURATE 1 PREDICTIONS ON TRAIN DATA SET: 0.5519173241289599 ± 0.04602212744151947\n",
      "POWER SPECTRUM MEAN ERROR ON TRAIN DATA SET: 2.028897943343977 ± 0.5209620124763684\n",
      "TEMPORAL DISTANCE ON TRAIN DATA SET: 0.25715979316610826 ± 0.01450916060829224\n",
      "GEOMETRICAL DISTANCE ON TRAIN DATA SET: 8.5970116820033 ± 0.039446976439173914\n",
      "\n",
      "\n",
      "AVERAGE RMNSE ERROR ON TEST DATA SET: 1.613422752294626 ± 0.0314470075270589\n",
      "AVG NUMBER OF ACCURATE 0.5 PREDICTIONS ON TEST DATA SET: 0.19593949894637833 ± 0.010724807656374078\n",
      "AVG NUMBER OF ACCURATE 1 PREDICTIONS ON TEST DATA SET: 0.48508720685391554 ± 0.035848511636510996\n",
      "POWER SPECTRUM MEAN ERROR ON TEST DATA SET: 1.2786441052955313 ± 0.5729834894245227\n",
      "TEMPORAL DISTANCE ON TEST DATA SET: 0.2570115366458408 ± 0.01925239616343951\n",
      "GEOMETRICAL DISTANCE ON TEST DATA SET: 8.597818114718134 ± 0.0488588578759724\n"
     ]
    }
   ],
   "source": [
    "!bash ./1_Randomly_Clustered_ESN_Evaluate_Tuned_Model.sh \"evaluate_tuned_model\" 1000 0.1 0.1 1 \"random_search.json\""
   ]
  },
  {
   "cell_type": "code",
   "execution_count": 5,
   "metadata": {},
   "outputs": [
    {
     "name": "stdout",
     "output_type": "stream",
     "text": [
      " 10%|▋      | 3/30 [09:06<1:20:40, 179.27s/trial, best loss: 0.1919886684329985]/home/user/kuei_jan_CHU/PGClustered_ESN/Methods/./Utils/global_utils.py:254: RuntimeWarning: divide by zero encountered in log10\n",
      "  s_dbfs = 20 * np.log10(s_mag)\n",
      "\n",
      "100%|█████| 30/30 [1:28:28<00:00, 176.93s/trial, best loss: 0.18286203081593005]\n",
      "{'in_cluster_weight': 0.5, 'noise_level': 5, 'radius': 0.99, 'regularization': 0.01, 'sigma_input': 0.3}\n"
     ]
    }
   ],
   "source": [
    "!bash ./0_Randomly_Clustered_ESN_Tune.sh \"tune\" 1500 0.1 0.1 2 \"random_search.json\""
   ]
  },
  {
   "cell_type": "code",
   "execution_count": 3,
   "metadata": {},
   "outputs": [
    {
     "name": "stdout",
     "output_type": "stream",
     "text": [
      "/home/user/anaconda3/lib/python3.11/site-packages/numpy/core/_methods.py:236: RuntimeWarning: invalid value encountered in subtract\n",
      "  x = asanyarray(arr - arrmean)\n",
      "AVERAGE RMNSE ERROR ON TRAIN DATA SET: 1.8992239596825098 ± 0.29410975173304665\n",
      "AVG NUMBER OF ACCURATE 0.5 PREDICTIONS ON TRAIN DATA SET: 0.44910175909043015 ± 0.026679277752116485\n",
      "AVG NUMBER OF ACCURATE 1 PREDICTIONS ON TRAIN DATA SET: 0.8891018124233512 ± 0.05717924184154634\n",
      "POWER SPECTRUM MEAN ERROR ON TRAIN DATA SET: inf ± nan\n",
      "TEMPORAL DISTANCE ON TRAIN DATA SET: 0.21078368660232644 ± 0.04890677259397111\n",
      "GEOMETRICAL DISTANCE ON TRAIN DATA SET: 8.609960138526592 ± 0.06336991338425525\n",
      "\n",
      "\n",
      "AVERAGE RMNSE ERROR ON TEST DATA SET: 1.910250980579157 ± 0.2858279383648574\n",
      "AVG NUMBER OF ACCURATE 0.5 PREDICTIONS ON TEST DATA SET: 0.31670565033999554 ± 0.022480439580691056\n",
      "AVG NUMBER OF ACCURATE 1 PREDICTIONS ON TEST DATA SET: 0.7121242004717836 ± 0.06640638910999239\n",
      "POWER SPECTRUM MEAN ERROR ON TEST DATA SET: inf ± nan\n",
      "TEMPORAL DISTANCE ON TEST DATA SET: 0.2080250883001932 ± 0.04851313793927293\n",
      "GEOMETRICAL DISTANCE ON TEST DATA SET: 8.608301600023136 ± 0.06825793237487089\n"
     ]
    }
   ],
   "source": [
    "!bash ./1_Randomly_Clustered_ESN_Evaluate_Tuned_Model.sh \"evaluate_tuned_model\" 1500 0.1 0.1 2 \"random_search.json\""
   ]
  },
  {
   "cell_type": "code",
   "execution_count": 7,
   "metadata": {},
   "outputs": [
    {
     "name": "stdout",
     "output_type": "stream",
     "text": [
      " 10%|▌     | 3/30 [12:20<1:49:42, 243.78s/trial, best loss: 0.19211250131425323]/home/user/kuei_jan_CHU/PGClustered_ESN/Methods/./Utils/global_utils.py:254: RuntimeWarning: divide by zero encountered in log10\n",
      "  s_dbfs = 20 * np.log10(s_mag)\n",
      "\n",
      "100%|█████| 30/30 [2:02:42<00:00, 245.42s/trial, best loss: 0.13538511507953233]\n",
      "{'in_cluster_weight': 0.5, 'noise_level': 5, 'radius': 0.7, 'regularization': 0.01, 'sigma_input': 0.1}\n"
     ]
    }
   ],
   "source": [
    "!bash ./0_Randomly_Clustered_ESN_Tune.sh \"tune\" 2000 0.1 0.1 3 \"random_search.json\""
   ]
  },
  {
   "cell_type": "code",
   "execution_count": 4,
   "metadata": {},
   "outputs": [
    {
     "name": "stdout",
     "output_type": "stream",
     "text": [
      "AVERAGE RMNSE ERROR ON TRAIN DATA SET: 1.4093321797593439 ± 0.010313642813322378\n",
      "AVG NUMBER OF ACCURATE 0.5 PREDICTIONS ON TRAIN DATA SET: 1.407056290068272 ± 0.12519608746258049\n",
      "AVG NUMBER OF ACCURATE 1 PREDICTIONS ON TRAIN DATA SET: 2.542494083317543 ± 0.15954714403594092\n",
      "POWER SPECTRUM MEAN ERROR ON TRAIN DATA SET: 0.4681829312748511 ± 0.36184618813951286\n",
      "TEMPORAL DISTANCE ON TRAIN DATA SET: 0.11442394619049609 ± 0.002572539090605263\n",
      "GEOMETRICAL DISTANCE ON TRAIN DATA SET: 7.925412684767963 ± 0.050199057545377526\n",
      "\n",
      "\n",
      "AVERAGE RMNSE ERROR ON TEST DATA SET: 1.417342165463726 ± 0.010087566535887625\n",
      "AVG NUMBER OF ACCURATE 0.5 PREDICTIONS ON TEST DATA SET: 1.0400384329020451 ± 0.07990675070481312\n",
      "AVG NUMBER OF ACCURATE 1 PREDICTIONS ON TEST DATA SET: 2.0353268124963373 ± 0.15824734530816487\n",
      "POWER SPECTRUM MEAN ERROR ON TEST DATA SET: 0.6146542302651138 ± 0.2905386472424086\n",
      "TEMPORAL DISTANCE ON TEST DATA SET: 0.11444044001897354 ± 0.003978033724605209\n",
      "GEOMETRICAL DISTANCE ON TEST DATA SET: 7.942312373419701 ± 0.05272863631155765\n"
     ]
    }
   ],
   "source": [
    "!bash ./1_Randomly_Clustered_ESN_Evaluate_Tuned_Model.sh \"evaluate_tuned_model\" 2000 0.1 0.1 3 \"random_search.json\""
   ]
  },
  {
   "cell_type": "code",
   "execution_count": 9,
   "metadata": {},
   "outputs": [
    {
     "name": "stdout",
     "output_type": "stream",
     "text": [
      " 10%|▋      | 3/30 [32:32<4:47:27, 638.79s/trial, best loss: 0.1836911227215246]/home/user/kuei_jan_CHU/PGClustered_ESN/Methods/./Utils/global_utils.py:254: RuntimeWarning: divide by zero encountered in log10\n",
      "  s_dbfs = 20 * np.log10(s_mag)\n",
      "\n",
      "100%|█████| 30/30 [3:16:01<00:00, 392.05s/trial, best loss: 0.12495468053808478]\n",
      "{'in_cluster_weight': 0.5, 'noise_level': 5, 'radius': 0.9, 'regularization': 0.01, 'sigma_input': 0.1}\n"
     ]
    }
   ],
   "source": [
    "!bash ./0_Randomly_Clustered_ESN_Tune.sh \"tune\" 2500 0.1 0.1 4 \"random_search.json\""
   ]
  },
  {
   "cell_type": "code",
   "execution_count": 5,
   "metadata": {},
   "outputs": [
    {
     "name": "stdout",
     "output_type": "stream",
     "text": [
      "AVERAGE RMNSE ERROR ON TRAIN DATA SET: 1.379234571422551 ± 0.007085755377286499\n",
      "AVG NUMBER OF ACCURATE 0.5 PREDICTIONS ON TRAIN DATA SET: 2.0131624734757354 ± 0.14661669898516752\n",
      "AVG NUMBER OF ACCURATE 1 PREDICTIONS ON TRAIN DATA SET: 3.2583263861349785 ± 0.1905386270918696\n",
      "POWER SPECTRUM MEAN ERROR ON TRAIN DATA SET: 0.37684893485701476 ± 0.1650775183241732\n",
      "TEMPORAL DISTANCE ON TRAIN DATA SET: 0.10903927042752377 ± 0.0016228634018808066\n",
      "GEOMETRICAL DISTANCE ON TRAIN DATA SET: 7.8358286249012155 ± 0.04301801897761452\n",
      "\n",
      "\n",
      "AVERAGE RMNSE ERROR ON TEST DATA SET: 1.3840836024675085 ± 0.007525617359915288\n",
      "AVG NUMBER OF ACCURATE 0.5 PREDICTIONS ON TEST DATA SET: 1.451047867896233 ± 0.09460887294391622\n",
      "AVG NUMBER OF ACCURATE 1 PREDICTIONS ON TEST DATA SET: 2.5837888594395753 ± 0.2188261276735292\n",
      "POWER SPECTRUM MEAN ERROR ON TEST DATA SET: 0.6704816351486691 ± 0.3767882619084469\n",
      "TEMPORAL DISTANCE ON TEST DATA SET: 0.10893386141777975 ± 0.0016917586213270577\n",
      "GEOMETRICAL DISTANCE ON TEST DATA SET: 7.840294077465454 ± 0.048051317605544666\n"
     ]
    }
   ],
   "source": [
    "!bash ./1_Randomly_Clustered_ESN_Evaluate_Tuned_Model.sh \"evaluate_tuned_model\" 2500 0.1 0.1 4 \"random_search.json\""
   ]
  },
  {
   "cell_type": "code",
   "execution_count": 11,
   "metadata": {},
   "outputs": [
    {
     "name": "stdout",
     "output_type": "stream",
     "text": [
      " 10%|▌     | 3/30 [18:27<2:42:54, 362.02s/trial, best loss: 0.17460995556758077]/home/user/kuei_jan_CHU/PGClustered_ESN/Methods/./Utils/global_utils.py:254: RuntimeWarning: divide by zero encountered in log10\n",
      "  s_dbfs = 20 * np.log10(s_mag)\n",
      "\n",
      "100%|█████| 30/30 [3:00:46<00:00, 361.54s/trial, best loss: 0.12487195646786362]\n",
      "{'in_cluster_weight': 0.5, 'noise_level': 5, 'radius': 0.7, 'regularization': 0.01, 'sigma_input': 0.1}\n"
     ]
    }
   ],
   "source": [
    "!bash ./0_Randomly_Clustered_ESN_Tune.sh \"tune\" 3000 0.1 0.1 5 \"random_search.json\""
   ]
  },
  {
   "cell_type": "code",
   "execution_count": 6,
   "metadata": {},
   "outputs": [
    {
     "name": "stdout",
     "output_type": "stream",
     "text": [
      "AVERAGE RMNSE ERROR ON TRAIN DATA SET: 1.3710120444681013 ± 0.007167820163099317\n",
      "AVG NUMBER OF ACCURATE 0.5 PREDICTIONS ON TRAIN DATA SET: 2.2908487741330763 ± 0.10695334365376198\n",
      "AVG NUMBER OF ACCURATE 1 PREDICTIONS ON TRAIN DATA SET: 3.662256716651103 ± 0.19757753793464858\n",
      "POWER SPECTRUM MEAN ERROR ON TRAIN DATA SET: 0.4769739483562276 ± 0.2366300982255641\n",
      "TEMPORAL DISTANCE ON TRAIN DATA SET: 0.10892413781132418 ± 0.0012992781944787472\n",
      "GEOMETRICAL DISTANCE ON TRAIN DATA SET: 7.822285693281773 ± 0.03556288927885579\n",
      "\n",
      "\n",
      "AVERAGE RMNSE ERROR ON TEST DATA SET: 1.3793953208079084 ± 0.005625869226700941\n",
      "AVG NUMBER OF ACCURATE 0.5 PREDICTIONS ON TEST DATA SET: 1.6778320363541706 ± 0.09694704850642347\n",
      "AVG NUMBER OF ACCURATE 1 PREDICTIONS ON TEST DATA SET: 2.915495469268799 ± 0.2749066577586966\n",
      "POWER SPECTRUM MEAN ERROR ON TEST DATA SET: 0.8489554383126074 ± 0.38627799759462855\n",
      "TEMPORAL DISTANCE ON TEST DATA SET: 0.10788245704516297 ± 0.0018304800983285395\n",
      "GEOMETRICAL DISTANCE ON TEST DATA SET: 7.829254509006615 ± 0.03784815642510756\n"
     ]
    }
   ],
   "source": [
    "!bash ./1_Randomly_Clustered_ESN_Evaluate_Tuned_Model.sh \"evaluate_tuned_model\" 3000 0.1 0.1 5 \"random_search.json\""
   ]
  },
  {
   "cell_type": "code",
   "execution_count": 13,
   "metadata": {},
   "outputs": [
    {
     "name": "stdout",
     "output_type": "stream",
     "text": [
      " 10%|▌     | 3/30 [29:12<4:22:06, 582.45s/trial, best loss: 0.17261041344717334]/home/user/kuei_jan_CHU/PGClustered_ESN/Methods/./Utils/global_utils.py:254: RuntimeWarning: divide by zero encountered in log10\n",
      "  s_dbfs = 20 * np.log10(s_mag)\n",
      "\n",
      "100%|█████| 30/30 [4:57:24<00:00, 594.80s/trial, best loss: 0.12565737699364465]\n",
      "{'in_cluster_weight': 0.5, 'noise_level': 5, 'radius': 0.9, 'regularization': 0.01, 'sigma_input': 0.1}\n"
     ]
    }
   ],
   "source": [
    "!bash ./0_Randomly_Clustered_ESN_Tune.sh \"tune\" 3500 0.1 0.1 6 \"random_search.json\""
   ]
  },
  {
   "cell_type": "code",
   "execution_count": 7,
   "metadata": {},
   "outputs": [
    {
     "name": "stdout",
     "output_type": "stream",
     "text": [
      "AVERAGE RMNSE ERROR ON TRAIN DATA SET: 1.3692235446774232 ± 0.005886934683642184\n",
      "AVG NUMBER OF ACCURATE 0.5 PREDICTIONS ON TRAIN DATA SET: 2.4913391259582087 ± 0.12411160520026944\n",
      "AVG NUMBER OF ACCURATE 1 PREDICTIONS ON TRAIN DATA SET: 3.8746298509929837 ± 0.18942857502999336\n",
      "POWER SPECTRUM MEAN ERROR ON TRAIN DATA SET: 0.4224154259419242 ± 0.2745331496316414\n",
      "TEMPORAL DISTANCE ON TRAIN DATA SET: 0.1083753651471084 ± 0.0018376772932833323\n",
      "GEOMETRICAL DISTANCE ON TRAIN DATA SET: 7.827741491920955 ± 0.034717747160213926\n",
      "\n",
      "\n",
      "AVERAGE RMNSE ERROR ON TEST DATA SET: 1.3783158241490447 ± 0.00657474860407586\n",
      "AVG NUMBER OF ACCURATE 0.5 PREDICTIONS ON TEST DATA SET: 1.728059968127091 ± 0.11560728207392335\n",
      "AVG NUMBER OF ACCURATE 1 PREDICTIONS ON TEST DATA SET: 2.932687580144094 ± 0.1921763014171035\n",
      "POWER SPECTRUM MEAN ERROR ON TEST DATA SET: 0.743225152259974 ± 0.3238782328402766\n",
      "TEMPORAL DISTANCE ON TEST DATA SET: 0.10802074963889581 ± 0.0014175303380020972\n",
      "GEOMETRICAL DISTANCE ON TEST DATA SET: 7.833162255863383 ± 0.03808413640909451\n"
     ]
    }
   ],
   "source": [
    "!bash ./1_Randomly_Clustered_ESN_Evaluate_Tuned_Model.sh \"evaluate_tuned_model\" 3500 0.1 0.1 6 \"random_search.json\""
   ]
  },
  {
   "cell_type": "code",
   "execution_count": 15,
   "metadata": {},
   "outputs": [
    {
     "name": "stdout",
     "output_type": "stream",
     "text": [
      " 10%|▋      | 3/30 [38:44<5:50:07, 778.04s/trial, best loss: 0.1600679844596225]/home/user/kuei_jan_CHU/PGClustered_ESN/Methods/./Utils/global_utils.py:254: RuntimeWarning: divide by zero encountered in log10\n",
      "  s_dbfs = 20 * np.log10(s_mag)\n",
      "\n",
      "100%|████| 30/30 [8:54:25<00:00, 1068.84s/trial, best loss: 0.12316379582135832]\n",
      "{'in_cluster_weight': 0.5, 'noise_level': 5, 'radius': 0.9, 'regularization': 0.01, 'sigma_input': 0.1}\n"
     ]
    }
   ],
   "source": [
    "!bash ./0_Randomly_Clustered_ESN_Tune.sh \"tune\" 4000 0.1 0.1 7 \"random_search.json\""
   ]
  },
  {
   "cell_type": "code",
   "execution_count": 8,
   "metadata": {},
   "outputs": [
    {
     "name": "stdout",
     "output_type": "stream",
     "text": [
      "AVERAGE RMNSE ERROR ON TRAIN DATA SET: 1.365944741758113 ± 0.006311008684700747\n",
      "AVG NUMBER OF ACCURATE 0.5 PREDICTIONS ON TRAIN DATA SET: 2.5883397123183305 ± 0.12326219799755074\n",
      "AVG NUMBER OF ACCURATE 1 PREDICTIONS ON TRAIN DATA SET: 4.085486034375282 ± 0.247652765763044\n",
      "POWER SPECTRUM MEAN ERROR ON TRAIN DATA SET: 0.4298934316995492 ± 0.2218661863063072\n",
      "TEMPORAL DISTANCE ON TRAIN DATA SET: 0.10797901130425021 ± 0.001273761425647951\n",
      "GEOMETRICAL DISTANCE ON TRAIN DATA SET: 7.823299330482454 ± 0.042629586633561\n",
      "\n",
      "\n",
      "AVERAGE RMNSE ERROR ON TEST DATA SET: 1.3789976297936737 ± 0.005680588984348534\n",
      "AVG NUMBER OF ACCURATE 0.5 PREDICTIONS ON TEST DATA SET: 1.8055087421192297 ± 0.1135464911940757\n",
      "AVG NUMBER OF ACCURATE 1 PREDICTIONS ON TEST DATA SET: 3.045363326419926 ± 0.21987656966930477\n",
      "POWER SPECTRUM MEAN ERROR ON TEST DATA SET: 0.7426072830264859 ± 0.38161424711845027\n",
      "TEMPORAL DISTANCE ON TEST DATA SET: 0.10738912227883583 ± 0.0010414664984390218\n",
      "GEOMETRICAL DISTANCE ON TEST DATA SET: 7.826522077183635 ± 0.04197807638364032\n"
     ]
    }
   ],
   "source": [
    "!bash ./1_Randomly_Clustered_ESN_Evaluate_Tuned_Model.sh \"evaluate_tuned_model\" 4000 0.1 0.1 7 \"random_search.json\""
   ]
  },
  {
   "cell_type": "code",
   "execution_count": 21,
   "metadata": {
    "editable": true,
    "slideshow": {
     "slide_type": ""
    },
    "tags": []
   },
   "outputs": [
    {
     "name": "stdout",
     "output_type": "stream",
     "text": [
      " 10%|▍   | 3/30 [1:17:53<11:53:01, 1584.50s/trial, best loss: 0.159878722051455]/home/user/kuei_jan_CHU/PGClustered_ESN/Methods/./Utils/global_utils.py:254: RuntimeWarning: divide by zero encountered in log10\n",
      "  s_dbfs = 20 * np.log10(s_mag)\n",
      "\n",
      "100%|████| 30/30 [9:32:15<00:00, 1144.52s/trial, best loss: 0.12184604829569692]\n",
      "{'in_cluster_weight': 0.5, 'noise_level': 5, 'radius': 0.9, 'regularization': 0.01, 'sigma_input': 0.1}\n"
     ]
    }
   ],
   "source": [
    "!bash ./0_Randomly_Clustered_ESN_Tune.sh \"tune\" 4500 0.1 0.1 8 \"random_search.json\""
   ]
  },
  {
   "cell_type": "code",
   "execution_count": 9,
   "metadata": {},
   "outputs": [
    {
     "name": "stdout",
     "output_type": "stream",
     "text": [
      "AVERAGE RMNSE ERROR ON TRAIN DATA SET: 1.3645223421778545 ± 0.006740508374646896\n",
      "AVG NUMBER OF ACCURATE 0.5 PREDICTIONS ON TRAIN DATA SET: 2.708684488445396 ± 0.12186006605249543\n",
      "AVG NUMBER OF ACCURATE 1 PREDICTIONS ON TRAIN DATA SET: 4.161839232674386 ± 0.24424219033099476\n",
      "POWER SPECTRUM MEAN ERROR ON TRAIN DATA SET: 0.3620693644936934 ± 0.27567439410423533\n",
      "TEMPORAL DISTANCE ON TRAIN DATA SET: 0.10782909012303712 ± 0.001501964534728057\n",
      "GEOMETRICAL DISTANCE ON TRAIN DATA SET: 7.818018180465283 ± 0.03606021046836759\n",
      "\n",
      "\n",
      "AVERAGE RMNSE ERROR ON TEST DATA SET: 1.377339233871449 ± 0.006225632475842119\n",
      "AVG NUMBER OF ACCURATE 0.5 PREDICTIONS ON TEST DATA SET: 1.8596976013977335 ± 0.09934491843979992\n",
      "AVG NUMBER OF ACCURATE 1 PREDICTIONS ON TEST DATA SET: 3.070982942626248 ± 0.258102446372658\n",
      "POWER SPECTRUM MEAN ERROR ON TEST DATA SET: 0.6602793898956907 ± 0.3438478747945418\n",
      "TEMPORAL DISTANCE ON TEST DATA SET: 0.10695747740842554 ± 0.0009054616880885869\n",
      "GEOMETRICAL DISTANCE ON TEST DATA SET: 7.823379671601943 ± 0.04098021266805308\n"
     ]
    }
   ],
   "source": [
    "!bash ./1_Randomly_Clustered_ESN_Evaluate_Tuned_Model.sh \"evaluate_tuned_model\" 4500 0.1 0.1 8 \"random_search.json\""
   ]
  },
  {
   "cell_type": "code",
   "execution_count": 19,
   "metadata": {
    "editable": true,
    "slideshow": {
     "slide_type": ""
    },
    "tags": []
   },
   "outputs": [
    {
     "name": "stdout",
     "output_type": "stream",
     "text": [
      " 10%|▎  | 3/30 [1:30:03<13:02:17, 1738.44s/trial, best loss: 0.1561053684294848]/home/user/kuei_jan_CHU/PGClustered_ESN/Methods/./Utils/global_utils.py:254: RuntimeWarning: divide by zero encountered in log10\n",
      "  s_dbfs = 20 * np.log10(s_mag)\n",
      "\n",
      "100%|███| 30/30 [12:51:57<00:00, 1543.91s/trial, best loss: 0.12247587367858444]\n",
      "{'in_cluster_weight': 0.5, 'noise_level': 5, 'radius': 0.7, 'regularization': 0.01, 'sigma_input': 0.1}\n"
     ]
    }
   ],
   "source": [
    "!bash ./0_Randomly_Clustered_ESN_Tune.sh \"tune\" 5000 0.1 0.1 9 \"random_search.json\""
   ]
  },
  {
   "cell_type": "code",
   "execution_count": 10,
   "metadata": {},
   "outputs": [
    {
     "name": "stdout",
     "output_type": "stream",
     "text": [
      "AVERAGE RMNSE ERROR ON TRAIN DATA SET: 1.3638599124542026 ± 0.00585221412786659\n",
      "AVG NUMBER OF ACCURATE 0.5 PREDICTIONS ON TRAIN DATA SET: 2.8784987208655908 ± 0.14414197779569085\n",
      "AVG NUMBER OF ACCURATE 1 PREDICTIONS ON TRAIN DATA SET: 4.3017358211694345 ± 0.24533775101166738\n",
      "POWER SPECTRUM MEAN ERROR ON TRAIN DATA SET: 0.3792672730063236 ± 0.23478423860783715\n",
      "TEMPORAL DISTANCE ON TRAIN DATA SET: 0.10782221826372437 ± 0.001320800873217558\n",
      "GEOMETRICAL DISTANCE ON TRAIN DATA SET: 7.824786270391338 ± 0.03629734657490356\n",
      "\n",
      "\n",
      "AVERAGE RMNSE ERROR ON TEST DATA SET: 1.3768136495262009 ± 0.005488960830617613\n",
      "AVG NUMBER OF ACCURATE 0.5 PREDICTIONS ON TEST DATA SET: 1.966136993728605 ± 0.11791221441276788\n",
      "AVG NUMBER OF ACCURATE 1 PREDICTIONS ON TEST DATA SET: 3.2463593285649197 ± 0.19236321360024927\n",
      "POWER SPECTRUM MEAN ERROR ON TEST DATA SET: 0.5945000537810032 ± 0.3886850876547376\n",
      "TEMPORAL DISTANCE ON TEST DATA SET: 0.10713586772482957 ± 0.0018727543449611138\n",
      "GEOMETRICAL DISTANCE ON TEST DATA SET: 7.8305734501818165 ± 0.03174035367766313\n"
     ]
    }
   ],
   "source": [
    "!bash ./1_Randomly_Clustered_ESN_Evaluate_Tuned_Model.sh \"evaluate_tuned_model\" 5000 0.1 0.1 9 \"random_search.json\""
   ]
  },
  {
   "cell_type": "code",
   "execution_count": null,
   "metadata": {
    "editable": true,
    "slideshow": {
     "slide_type": ""
    },
    "tags": []
   },
   "outputs": [],
   "source": []
  }
 ],
 "metadata": {
  "kernelspec": {
   "display_name": "Python 3 (ipykernel)",
   "language": "python",
   "name": "python3"
  },
  "language_info": {
   "codemirror_mode": {
    "name": "ipython",
    "version": 3
   },
   "file_extension": ".py",
   "mimetype": "text/x-python",
   "name": "python",
   "nbconvert_exporter": "python",
   "pygments_lexer": "ipython3",
   "version": "3.11.8"
  }
 },
 "nbformat": 4,
 "nbformat_minor": 4
}
