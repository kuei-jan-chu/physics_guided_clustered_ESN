{
 "cells": [
  {
   "cell_type": "markdown",
   "metadata": {},
   "source": [
    "# Over nonlinearity"
   ]
  },
  {
   "cell_type": "code",
   "execution_count": null,
   "metadata": {},
   "outputs": [],
   "source": [
    "!bash ./0_Randomly_Clustered_ESN_Tune.sh \"tune\" \"Lorenz96_F8_ALPHA1_DIM40\" 3000 0.1 0.1 1 \"grid_search.json\""
   ]
  },
  {
   "cell_type": "code",
   "execution_count": null,
   "metadata": {},
   "outputs": [],
   "source": [
    "!bash ./1_Randomly_Clustered_ESN_Evaluate_Tuned_Model.sh \"evaluate_tuned_model\" \"Lorenz96_F8_ALPHA1_DIM40\" 3000 0.1 0.1 1 \"grid_search.json\""
   ]
  },
  {
   "cell_type": "code",
   "execution_count": null,
   "metadata": {},
   "outputs": [],
   "source": [
    "!bash ./0_Randomly_Clustered_ESN_Tune.sh \"tune\" \"Lorenz96_F8_ALPHA2_DIM40\" 3000 0.1 0.1 2 \"grid_search.json\"    "
   ]
  },
  {
   "cell_type": "code",
   "execution_count": null,
   "metadata": {},
   "outputs": [],
   "source": [
    "!bash ./1_Randomly_Clustered_ESN_Evaluate_Tuned_Model.sh \"evaluate_tuned_model\" \"Lorenz96_F8_ALPHA2_DIM40\" 3000 0.1 0.1 2 \"grid_search.json\" "
   ]
  },
  {
   "cell_type": "code",
   "execution_count": null,
   "metadata": {},
   "outputs": [],
   "source": [
    "!bash ./0_Randomly_Clustered_ESN_Tune.sh \"tune\" \"Lorenz96_F8_ALPHA3_DIM40\" 3000 0.1 0.1 3 \"grid_search.json\" "
   ]
  },
  {
   "cell_type": "code",
   "execution_count": null,
   "metadata": {},
   "outputs": [],
   "source": [
    "!bash ./1_Randomly_Clustered_ESN_Evaluate_Tuned_Model.sh \"evaluate_tuned_model\" \"Lorenz96_F8_ALPHA3_DIM40\" 3000 0.1 0.1 3 \"grid_search.json\" "
   ]
  },
  {
   "cell_type": "code",
   "execution_count": null,
   "metadata": {},
   "outputs": [],
   "source": [
    "!bash ./0_Randomly_Clustered_ESN_Tune.sh \"tune\" \"Lorenz96_F8_ALPHA4_DIM40\" 3000 0.1 0.1 4 \"grid_search.json\" "
   ]
  },
  {
   "cell_type": "code",
   "execution_count": null,
   "metadata": {},
   "outputs": [],
   "source": [
    "!bash ./1_Randomly_Clustered_ESN_Evaluate_Tuned_Model.sh \"evaluate_tuned_model\" \"Lorenz96_F8_ALPHA4_DIM40\" 3000 0.1 0.1 4 \"grid_search.json\" "
   ]
  },
  {
   "cell_type": "code",
   "execution_count": null,
   "metadata": {},
   "outputs": [],
   "source": [
    "!bash ./0_Randomly_Clustered_ESN_Tune.sh \"tune\" \"Lorenz96_F8_ALPHA5_DIM40\" 3000 0.1 0.1 5 \"grid_search.json\" "
   ]
  },
  {
   "cell_type": "code",
   "execution_count": null,
   "metadata": {},
   "outputs": [],
   "source": [
    "!bash ./1_Randomly_Clustered_ESN_Evaluate_Tuned_Model.sh \"evaluate_tuned_model\" \"Lorenz96_F8_ALPHA5_DIM40\" 3000 0.1 0.1 5 \"grid_search.json\" "
   ]
  },
  {
   "cell_type": "code",
   "execution_count": null,
   "metadata": {},
   "outputs": [],
   "source": [
    "!bash ./0_Randomly_Clustered_ESN_Tune.sh \"tune\" \"Lorenz96_F8_ALPHA6_DIM40\" 3000 0.1 0.1 6 \"grid_search.json\" "
   ]
  },
  {
   "cell_type": "code",
   "execution_count": null,
   "metadata": {},
   "outputs": [],
   "source": [
    "!bash ./1_Randomly_Clustered_ESN_Evaluate_Tuned_Model.sh \"evaluate_tuned_model\" \"Lorenz96_F8_ALPHA6_DIM40\" 3000 0.1 0.1 6 \"grid_search.json\" "
   ]
  },
  {
   "cell_type": "code",
   "execution_count": null,
   "metadata": {},
   "outputs": [],
   "source": [
    "!bash ./0_Randomly_Clustered_ESN_Tune.sh \"tune\" \"Lorenz96_F8_ALPHA7_DIM40\" 3000 0.1 0.1 7 \"grid_search.json\" "
   ]
  },
  {
   "cell_type": "code",
   "execution_count": null,
   "metadata": {},
   "outputs": [],
   "source": [
    "!bash ./1_Randomly_Clustered_ESN_Evaluate_Tuned_Model.sh \"evaluate_tuned_model\" \"Lorenz96_F8_ALPHA7_DIM40\" 3000 0.1 0.1 7 \"grid_search.json\" "
   ]
  },
  {
   "cell_type": "code",
   "execution_count": null,
   "metadata": {},
   "outputs": [],
   "source": [
    "!bash ./0_Randomly_Clustered_ESN_Tune.sh \"tune\" \"Lorenz96_F8_ALPHA8_DIM40\" 3000 0.1 0.1 8 \"grid_search.json\" "
   ]
  },
  {
   "cell_type": "code",
   "execution_count": null,
   "metadata": {},
   "outputs": [],
   "source": [
    "!bash ./1_Randomly_Clustered_ESN_Evaluate_Tuned_Model.sh \"evaluate_tuned_model\" \"Lorenz96_F8_ALPHA8_DIM40\"  3000 0.1 0.1 8 \"grid_search.json\" "
   ]
  },
  {
   "cell_type": "code",
   "execution_count": null,
   "metadata": {
    "editable": true,
    "slideshow": {
     "slide_type": ""
    },
    "tags": []
   },
   "outputs": [],
   "source": [
    "!bash ./0_Randomly_Clustered_ESN_Tune.sh \"tune\" \"Lorenz96_F8_ALPHA9_DIM40\" 3000 0.1 0.1 9 \"grid_search.json\" "
   ]
  },
  {
   "cell_type": "code",
   "execution_count": null,
   "metadata": {},
   "outputs": [],
   "source": [
    "!bash ./1_Randomly_Clustered_ESN_Evaluate_Tuned_Model.sh \"evaluate_tuned_model\" \"Lorenz96_F8_ALPHA9_DIM40\" 3000 0.1 0.1 9 \"grid_search.json\" "
   ]
  },
  {
   "cell_type": "code",
   "execution_count": null,
   "metadata": {
    "editable": true,
    "slideshow": {
     "slide_type": ""
    },
    "tags": []
   },
   "outputs": [],
   "source": [
    "!bash ./0_Randomly_Clustered_ESN_Tune.sh \"tune\" \"Lorenz96_F8_ALPHA10_DIM40\" 3000 0.1 0.1 10 \"grid_search.json\" "
   ]
  },
  {
   "cell_type": "code",
   "execution_count": null,
   "metadata": {},
   "outputs": [],
   "source": [
    "!bash ./1_Randomly_Clustered_ESN_Evaluate_Tuned_Model.sh \"evaluate_tuned_model\" \"Lorenz96_F8_ALPHA10_DIM40\" 3000 0.1 0.1 10 \"grid_search.json\" "
   ]
  },
  {
   "cell_type": "markdown",
   "metadata": {},
   "source": [
    "# Over F"
   ]
  },
  {
   "cell_type": "code",
   "execution_count": null,
   "metadata": {},
   "outputs": [],
   "source": [
    "!bash ./0_Randomly_Clustered_ESN_Tune.sh \"tune\" \"Lorenz96_F8_ALPHA1_DIM40\" 3000 0.1 0.1 1 \"grid_search_for_F.json\" "
   ]
  },
  {
   "cell_type": "code",
   "execution_count": null,
   "metadata": {},
   "outputs": [],
   "source": [
    "!bash ./1_Randomly_Clustered_ESN_Evaluate_Tuned_Model.sh \"evaluate_tuned_model\" \"Lorenz96_F8_ALPHA1_DIM40\" 3000 0.1 0.1 1 \"grid_search_for_F.json\" "
   ]
  },
  {
   "cell_type": "code",
   "execution_count": null,
   "metadata": {},
   "outputs": [],
   "source": [
    "!bash ./0_Randomly_Clustered_ESN_Tune.sh \"tune\" \"Lorenz96_F12_ALPHA1_DIM40\" 3000 0.1 0.1  2 \"grid_search_for_F.json\" "
   ]
  },
  {
   "cell_type": "code",
   "execution_count": null,
   "metadata": {},
   "outputs": [],
   "source": [
    "!bash ./1_Randomly_Clustered_ESN_Evaluate_Tuned_Model.sh \"evaluate_tuned_model\" \"Lorenz96_F12_ALPHA1_DIM40\" 3000 0.1 0.1  2 \"grid_search_for_F.json\" "
   ]
  },
  {
   "cell_type": "code",
   "execution_count": null,
   "metadata": {},
   "outputs": [],
   "source": [
    "!bash ./0_Randomly_Clustered_ESN_Tune.sh \"tune\" \"Lorenz96_F16_ALPHA1_DIM40\" 3000 0.1 0.1  3  \"grid_search_for_F.json\" "
   ]
  },
  {
   "cell_type": "code",
   "execution_count": null,
   "metadata": {},
   "outputs": [],
   "source": [
    "!bash ./1_Randomly_Clustered_ESN_Evaluate_Tuned_Model.sh \"evaluate_tuned_model\" \"Lorenz96_F16_ALPHA1_DIM40\" 3000 0.1 0.1  3 \"grid_search_for_F.json\" "
   ]
  },
  {
   "cell_type": "code",
   "execution_count": null,
   "metadata": {},
   "outputs": [],
   "source": [
    "!bash ./0_Randomly_Clustered_ESN_Tune.sh \"tune\" \"Lorenz96_F20_ALPHA1_DIM40\" 3000 0.1 0.1  4 \"grid_search_for_F.json\"    "
   ]
  },
  {
   "cell_type": "code",
   "execution_count": null,
   "metadata": {},
   "outputs": [],
   "source": [
    "!bash ./1_Randomly_Clustered_ESN_Evaluate_Tuned_Model.sh \"evaluate_tuned_model\" \"Lorenz96_F20_ALPHA1_DIM40\" 3000 0.1 0.1  4 \"grid_search_for_F.json\" "
   ]
  },
  {
   "cell_type": "code",
   "execution_count": null,
   "metadata": {},
   "outputs": [],
   "source": [
    "!bash ./0_Randomly_Clustered_ESN_Tune.sh \"tune\" \"Lorenz96_F24_ALPHA1_DIM40\" 3000 0.1 0.1 5 \"grid_search_for_F.json\"    "
   ]
  },
  {
   "cell_type": "code",
   "execution_count": null,
   "metadata": {},
   "outputs": [],
   "source": [
    "!bash ./1_Randomly_Clustered_ESN_Evaluate_Tuned_Model.sh \"evaluate_tuned_model\" \"Lorenz96_F24_ALPHA1_DIM40\" 3000 0.1 0.1 5 \"grid_search_for_F.json\" "
   ]
  },
  {
   "cell_type": "code",
   "execution_count": null,
   "metadata": {},
   "outputs": [],
   "source": [
    "!bash ./0_Randomly_Clustered_ESN_Tune.sh \"tune\" \"Lorenz96_F28_ALPHA1_DIM40\" 3000 0.1 0.1 6 \"grid_search_for_F.json\"    "
   ]
  },
  {
   "cell_type": "code",
   "execution_count": null,
   "metadata": {},
   "outputs": [],
   "source": [
    "!bash ./1_Randomly_Clustered_ESN_Evaluate_Tuned_Model.sh \"evaluate_tuned_model\" \"Lorenz96_F28_ALPHA1_DIM40\" 3000 0.1 0.1 6 \"grid_search_for_F.json\" "
   ]
  },
  {
   "cell_type": "code",
   "execution_count": null,
   "metadata": {},
   "outputs": [],
   "source": [
    "!bash ./0_Randomly_Clustered_ESN_Tune.sh \"tune\" \"Lorenz96_F32_ALPHA1_DIM40\" 3000 0.1 0.1 7 \"grid_search_for_F.json\"    "
   ]
  },
  {
   "cell_type": "code",
   "execution_count": null,
   "metadata": {},
   "outputs": [],
   "source": [
    "!bash ./1_Randomly_Clustered_ESN_Evaluate_Tuned_Model.sh \"evaluate_tuned_model\" \"Lorenz96_F32_ALPHA1_DIM40\" 3000 0.1 0.1 7 \"grid_search_for_F.json\" "
   ]
  },
  {
   "cell_type": "code",
   "execution_count": null,
   "metadata": {},
   "outputs": [],
   "source": [
    "!bash ./0_Randomly_Clustered_ESN_Tune.sh \"tune\" \"Lorenz96_F36_ALPHA1_DIM40\" 3000 0.1 0.1 8 \"grid_search_for_F.json\"    "
   ]
  },
  {
   "cell_type": "code",
   "execution_count": null,
   "metadata": {},
   "outputs": [],
   "source": [
    "!bash ./1_Randomly_Clustered_ESN_Evaluate_Tuned_Model.sh \"evaluate_tuned_model\" \"Lorenz96_F36_ALPHA1_DIM40\" 3000 0.1 0.1 8 \"grid_search_for_F.json\" "
   ]
  },
  {
   "cell_type": "code",
   "execution_count": null,
   "metadata": {},
   "outputs": [],
   "source": [
    "!bash ./0_Randomly_Clustered_ESN_Tune.sh \"tune\" \"Lorenz96_F40_ALPHA1_DIM40\" 3000 0.1 0.1 9 \"grid_search_for_F.json\"    "
   ]
  },
  {
   "cell_type": "code",
   "execution_count": null,
   "metadata": {},
   "outputs": [],
   "source": [
    "!bash ./1_Randomly_Clustered_ESN_Evaluate_Tuned_Model.sh \"evaluate_tuned_model\" \"Lorenz96_F40_ALPHA1_DIM40\" 3000 0.1 0.1 9 \"grid_search_for_F.json\" "
   ]
  },
  {
   "cell_type": "code",
   "execution_count": null,
   "metadata": {},
   "outputs": [],
   "source": [
    "!bash ./0_Randomly_Clustered_ESN_Tune.sh \"tune\" \"Lorenz96_F44_ALPHA1_DIM40\" 3000 0.1 0.1 10 \"grid_search_for_F.json\"    "
   ]
  },
  {
   "cell_type": "code",
   "execution_count": null,
   "metadata": {},
   "outputs": [],
   "source": [
    "!bash ./1_Randomly_Clustered_ESN_Evaluate_Tuned_Model.sh \"evaluate_tuned_model\" \"Lorenz96_F44_ALPHA1_DIM40\" 3000 0.1 0.1 10 \"grid_search_for_F.json\" "
   ]
  }
 ],
 "metadata": {
  "kernelspec": {
   "display_name": "base",
   "language": "python",
   "name": "python3"
  },
  "language_info": {
   "codemirror_mode": {
    "name": "ipython",
    "version": 3
   },
   "file_extension": ".py",
   "mimetype": "text/x-python",
   "name": "python",
   "nbconvert_exporter": "python",
   "pygments_lexer": "ipython3",
   "version": "3.11.8"
  }
 },
 "nbformat": 4,
 "nbformat_minor": 4
}
