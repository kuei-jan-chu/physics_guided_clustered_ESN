{
 "cells": [
  {
   "cell_type": "markdown",
   "metadata": {},
   "source": [
    "# Over nonlinearity"
   ]
  },
  {
   "cell_type": "code",
   "execution_count": null,
   "metadata": {},
   "outputs": [
    {
     "name": "stdout",
     "output_type": "stream",
     "text": [
      "Grid Search Progress:   8%|▉          | 2/25 [03:40<41:58, 109.50s/trial, Current Best Loss=0.12224]/home/user/kuei_jan_CHU/PGClustered_ESN/Methods/./Utils/global_utils.py:274: RuntimeWarning: divide by zero encountered in log10\n",
      "  s_dbfs = 20 * np.log10(s_mag)\n",
      "Grid Search Progress: 100%|██████████| 25/25 [41:52<00:00, 100.52s/trial, Current Best Loss=0.12224]\n",
      "{'radius': 0.1, 'sigma_input': 0.1}\n"
     ]
    }
   ],
   "source": [
    "!bash ./0_Randomly_Clustered_ESN_Tune.sh \"tune\" \"Lorenz96_F8_ALPHA1_DIM40\" 3000 0.1 0.1 1 \"grid_search.json\""
   ]
  },
  {
   "cell_type": "code",
   "execution_count": 1,
   "metadata": {},
   "outputs": [
    {
     "name": "stdout",
     "output_type": "stream",
     "text": [
      "{'radius': 0.1, 'sigma_input': 0.1}\n",
      "AVERAGE RMNSE ERROR ON TRAIN DATA SET: 1.3650750039565853 ± 0.007110415989202894\n",
      "AVG NUMBER OF ACCURATE 0.5 PREDICTIONS ON TRAIN DATA SET: 2.3851698525056015 ± 0.10569419621012381\n",
      "AVG NUMBER OF ACCURATE 1 PREDICTIONS ON TRAIN DATA SET: 3.8095429746603857 ± 0.19411150101948313\n",
      "POWER SPECTRUM MEAN ERROR ON TRAIN DATA SET: 0.5701624433368608 ± 0.23676456247977593\n",
      "TEMPORAL DISTANCE ON TRAIN DATA SET: 0.10817004200436782 ± 0.0014962580514234468\n",
      "GEOMETRICAL DISTANCE ON TRAIN DATA SET: 12.979313882798802 ± 0.058113222211781654\n",
      "\n",
      "\n",
      "AVERAGE RMNSE ERROR ON TEST DATA SET: 1.3771866294415287 ± 0.00408106149200731\n",
      "AVG NUMBER OF ACCURATE 0.5 PREDICTIONS ON TEST DATA SET: 1.747118319803862 ± 0.10297769259392313\n",
      "AVG NUMBER OF ACCURATE 1 PREDICTIONS ON TEST DATA SET: 2.939365115938643 ± 0.19773125384755325\n",
      "POWER SPECTRUM MEAN ERROR ON TEST DATA SET: 0.49413364088606837 ± 0.4137798681790032\n",
      "TEMPORAL DISTANCE ON TEST DATA SET: 0.10791453653526462 ± 0.0018434374638196815\n",
      "GEOMETRICAL DISTANCE ON TEST DATA SET: 13.045464504351159 ± 0.10229399634932486\n"
     ]
    }
   ],
   "source": [
    "!bash ./1_Randomly_Clustered_ESN_Evaluate_Tuned_Model.sh \"evaluate_tuned_model\" \"Lorenz96_F8_ALPHA1_DIM40\" 3000 0.1 0.1 1 \"grid_search.json\""
   ]
  },
  {
   "cell_type": "code",
   "execution_count": 2,
   "metadata": {},
   "outputs": [
    {
     "name": "stdout",
     "output_type": "stream",
     "text": [
      "Grid Search Progress:   4%|▍          | 1/25 [01:54<45:36, 114.04s/trial, Current Best Loss=0.11257]/home/user/kuei_jan_CHU/PGClustered_ESN/Methods/./Utils/global_utils.py:274: RuntimeWarning: divide by zero encountered in log10\n",
      "  s_dbfs = 20 * np.log10(s_mag)\n",
      "Grid Search Progress: 100%|███████████| 25/25 [41:34<00:00, 99.78s/trial, Current Best Loss=0.11257]\n",
      "{'radius': 0.1, 'sigma_input': 0.1}\n"
     ]
    }
   ],
   "source": [
    "!bash ./0_Randomly_Clustered_ESN_Tune.sh \"tune\" \"Lorenz96_F8_ALPHA2_DIM40\" 3000 0.1 0.1 2 \"grid_search.json\"    "
   ]
  },
  {
   "cell_type": "code",
   "execution_count": 2,
   "metadata": {},
   "outputs": [
    {
     "name": "stdout",
     "output_type": "stream",
     "text": [
      "{'radius': 0.1, 'sigma_input': 0.1}\n",
      "AVERAGE RMNSE ERROR ON TRAIN DATA SET: 1.3780396804209252 ± 0.0034132671866573326\n",
      "AVG NUMBER OF ACCURATE 0.5 PREDICTIONS ON TRAIN DATA SET: 2.1952270996520595 ± 0.09554545099806658\n",
      "AVG NUMBER OF ACCURATE 1 PREDICTIONS ON TRAIN DATA SET: 3.4796684877463497 ± 0.20582232363914965\n",
      "POWER SPECTRUM MEAN ERROR ON TRAIN DATA SET: 0.6130703333924228 ± 0.19525948218372657\n",
      "TEMPORAL DISTANCE ON TRAIN DATA SET: 0.09620457388320076 ± 0.0009421568896609396\n",
      "GEOMETRICAL DISTANCE ON TRAIN DATA SET: 12.385540588917522 ± 0.045663409616068164\n",
      "\n",
      "\n",
      "AVERAGE RMNSE ERROR ON TEST DATA SET: 1.3835427983452244 ± 0.0023317181594186736\n",
      "AVG NUMBER OF ACCURATE 0.5 PREDICTIONS ON TEST DATA SET: 2.0612317238449056 ± 0.08157720552646142\n",
      "AVG NUMBER OF ACCURATE 1 PREDICTIONS ON TEST DATA SET: 3.2407738748787382 ± 0.21561456133076257\n",
      "POWER SPECTRUM MEAN ERROR ON TEST DATA SET: 0.5250460839908774 ± 0.2626312219626447\n",
      "TEMPORAL DISTANCE ON TEST DATA SET: 0.0972532313515292 ± 0.0006864050800873557\n",
      "GEOMETRICAL DISTANCE ON TEST DATA SET: 12.329156840499765 ± 0.06661035930400636\n"
     ]
    }
   ],
   "source": [
    "!bash ./1_Randomly_Clustered_ESN_Evaluate_Tuned_Model.sh \"evaluate_tuned_model\" \"Lorenz96_F8_ALPHA2_DIM40\" 3000 0.1 0.1 2 \"grid_search.json\" "
   ]
  },
  {
   "cell_type": "code",
   "execution_count": 4,
   "metadata": {},
   "outputs": [
    {
     "name": "stdout",
     "output_type": "stream",
     "text": [
      "Grid Search Progress:   4%|▍          | 1/25 [01:54<45:40, 114.20s/trial, Current Best Loss=0.11582]/home/user/kuei_jan_CHU/PGClustered_ESN/Methods/./Utils/global_utils.py:274: RuntimeWarning: divide by zero encountered in log10\n",
      "  s_dbfs = 20 * np.log10(s_mag)\n",
      "Grid Search Progress: 100%|███████████| 25/25 [41:20<00:00, 99.23s/trial, Current Best Loss=0.11144]\n",
      "{'radius': 0.9, 'sigma_input': 0.1}\n"
     ]
    }
   ],
   "source": [
    "!bash ./0_Randomly_Clustered_ESN_Tune.sh \"tune\" \"Lorenz96_F8_ALPHA3_DIM40\" 3000 0.1 0.1 3 \"grid_search.json\" "
   ]
  },
  {
   "cell_type": "code",
   "execution_count": 3,
   "metadata": {},
   "outputs": [
    {
     "name": "stdout",
     "output_type": "stream",
     "text": [
      "{'radius': 0.9, 'sigma_input': 0.1}\n",
      "AVERAGE RMNSE ERROR ON TRAIN DATA SET: 1.3991702405585467 ± 0.009180355709778517\n",
      "AVG NUMBER OF ACCURATE 0.5 PREDICTIONS ON TRAIN DATA SET: 2.3540357763381383 ± 0.1733104673478509\n",
      "AVG NUMBER OF ACCURATE 1 PREDICTIONS ON TRAIN DATA SET: 3.423290641539167 ± 0.2267433901951239\n",
      "POWER SPECTRUM MEAN ERROR ON TRAIN DATA SET: 0.8948816734714171 ± 0.20405768154359444\n",
      "TEMPORAL DISTANCE ON TRAIN DATA SET: 0.09677568782778291 ± 0.0031349862902108226\n",
      "GEOMETRICAL DISTANCE ON TRAIN DATA SET: 12.02234305649369 ± 0.06732583197884857\n",
      "\n",
      "\n",
      "AVERAGE RMNSE ERROR ON TEST DATA SET: 1.4042732069713266 ± 0.011417697404714334\n",
      "AVG NUMBER OF ACCURATE 0.5 PREDICTIONS ON TEST DATA SET: 1.9436429168484484 ± 0.07345958079507807\n",
      "AVG NUMBER OF ACCURATE 1 PREDICTIONS ON TEST DATA SET: 2.959853807013394 ± 0.12108638923074647\n",
      "POWER SPECTRUM MEAN ERROR ON TEST DATA SET: 1.1609039279002513 ± 0.345256505844858\n",
      "TEMPORAL DISTANCE ON TEST DATA SET: 0.0978708089042398 ± 0.005077945343390621\n",
      "GEOMETRICAL DISTANCE ON TEST DATA SET: 12.003649159084032 ± 0.19251249078069263\n"
     ]
    }
   ],
   "source": [
    "!bash ./1_Randomly_Clustered_ESN_Evaluate_Tuned_Model.sh \"evaluate_tuned_model\" \"Lorenz96_F8_ALPHA3_DIM40\" 3000 0.1 0.1 3 \"grid_search.json\" "
   ]
  },
  {
   "cell_type": "code",
   "execution_count": 6,
   "metadata": {},
   "outputs": [
    {
     "name": "stdout",
     "output_type": "stream",
     "text": [
      "Grid Search Progress:   0%|                                               | 0/25 [00:00<?, ?trial/s]/home/user/kuei_jan_CHU/PGClustered_ESN/Methods/./Utils/global_utils.py:274: RuntimeWarning: divide by zero encountered in log10\n",
      "  s_dbfs = 20 * np.log10(s_mag)\n",
      "Grid Search Progress: 100%|███████████| 25/25 [41:16<00:00, 99.07s/trial, Current Best Loss=0.19713]\n",
      "{'radius': 0.99, 'sigma_input': 0.5}\n"
     ]
    }
   ],
   "source": [
    "!bash ./0_Randomly_Clustered_ESN_Tune.sh \"tune\" \"Lorenz96_F8_ALPHA4_DIM40\" 3000 0.1 0.1 4 \"grid_search.json\" "
   ]
  },
  {
   "cell_type": "code",
   "execution_count": 4,
   "metadata": {},
   "outputs": [
    {
     "name": "stdout",
     "output_type": "stream",
     "text": [
      "{'radius': 0.99, 'sigma_input': 0.5}\n",
      "/home/user/anaconda3/lib/python3.11/site-packages/numpy/core/_methods.py:236: RuntimeWarning: invalid value encountered in subtract\n",
      "  x = asanyarray(arr - arrmean)\n",
      "AVERAGE RMNSE ERROR ON TRAIN DATA SET: 2.0617885969996337 ± 0.288347220953999\n",
      "AVG NUMBER OF ACCURATE 0.5 PREDICTIONS ON TRAIN DATA SET: 0.7096891376818962 ± 0.033268833138501555\n",
      "AVG NUMBER OF ACCURATE 1 PREDICTIONS ON TRAIN DATA SET: 1.3728181530109045 ± 0.11471857709339758\n",
      "POWER SPECTRUM MEAN ERROR ON TRAIN DATA SET: inf ± nan\n",
      "TEMPORAL DISTANCE ON TRAIN DATA SET: 0.19257235344329252 ± 0.0750428175001738\n",
      "GEOMETRICAL DISTANCE ON TRAIN DATA SET: inf ± nan\n",
      "\n",
      "\n",
      "AVERAGE RMNSE ERROR ON TEST DATA SET: 2.08475784452882 ± 0.32520372149025434\n",
      "AVG NUMBER OF ACCURATE 0.5 PREDICTIONS ON TEST DATA SET: 0.641965323350423 ± 0.04279510405596954\n",
      "AVG NUMBER OF ACCURATE 1 PREDICTIONS ON TEST DATA SET: 1.287457928697277 ± 0.07888819610581319\n",
      "POWER SPECTRUM MEAN ERROR ON TEST DATA SET: 4.25442882951287 ± 1.0776828693569325\n",
      "TEMPORAL DISTANCE ON TEST DATA SET: 0.1978076317625355 ± 0.080487885655929\n",
      "GEOMETRICAL DISTANCE ON TEST DATA SET: inf ± nan\n"
     ]
    }
   ],
   "source": [
    "!bash ./1_Randomly_Clustered_ESN_Evaluate_Tuned_Model.sh \"evaluate_tuned_model\" \"Lorenz96_F8_ALPHA4_DIM40\" 3000 0.1 0.1 4 \"grid_search.json\" "
   ]
  },
  {
   "cell_type": "code",
   "execution_count": 8,
   "metadata": {},
   "outputs": [
    {
     "name": "stdout",
     "output_type": "stream",
     "text": [
      "Grid Search Progress:   0%|                                               | 0/25 [00:00<?, ?trial/s]/home/user/kuei_jan_CHU/PGClustered_ESN/Methods/./Utils/global_utils.py:274: RuntimeWarning: divide by zero encountered in log10\n",
      "  s_dbfs = 20 * np.log10(s_mag)\n",
      "Grid Search Progress: 100%|███████████| 25/25 [41:15<00:00, 99.03s/trial, Current Best Loss=0.17837]\n",
      "{'radius': 0.99, 'sigma_input': 0.5}\n"
     ]
    }
   ],
   "source": [
    "!bash ./0_Randomly_Clustered_ESN_Tune.sh \"tune\" \"Lorenz96_F8_ALPHA5_DIM40\" 3000 0.1 0.1 5 \"grid_search.json\" "
   ]
  },
  {
   "cell_type": "code",
   "execution_count": 5,
   "metadata": {},
   "outputs": [
    {
     "name": "stdout",
     "output_type": "stream",
     "text": [
      "{'radius': 0.99, 'sigma_input': 0.5}\n",
      "/home/user/anaconda3/lib/python3.11/site-packages/numpy/core/_methods.py:236: RuntimeWarning: invalid value encountered in subtract\n",
      "  x = asanyarray(arr - arrmean)\n",
      "AVERAGE RMNSE ERROR ON TRAIN DATA SET: 2.1003206354872193 ± 0.33180181848887985\n",
      "AVG NUMBER OF ACCURATE 0.5 PREDICTIONS ON TRAIN DATA SET: 0.653951245422251 ± 0.03909648283737551\n",
      "AVG NUMBER OF ACCURATE 1 PREDICTIONS ON TRAIN DATA SET: 1.3246919965036101 ± 0.06734663970429697\n",
      "POWER SPECTRUM MEAN ERROR ON TRAIN DATA SET: 5.237175764524081 ± 4.28227016983441\n",
      "TEMPORAL DISTANCE ON TRAIN DATA SET: 0.19432292682653873 ± 0.06848487510761192\n",
      "GEOMETRICAL DISTANCE ON TRAIN DATA SET: inf ± nan\n",
      "\n",
      "\n",
      "AVERAGE RMNSE ERROR ON TEST DATA SET: 2.1111652341753384 ± 0.3310503351916424\n",
      "AVG NUMBER OF ACCURATE 0.5 PREDICTIONS ON TEST DATA SET: 0.5683247665608009 ± 0.022541122848023336\n",
      "AVG NUMBER OF ACCURATE 1 PREDICTIONS ON TEST DATA SET: 1.140846909536379 ± 0.06453048192788542\n",
      "POWER SPECTRUM MEAN ERROR ON TEST DATA SET: 5.439359159891849 ± 2.5905414747937345\n",
      "TEMPORAL DISTANCE ON TEST DATA SET: 0.19222446926201903 ± 0.0669172575275801\n",
      "GEOMETRICAL DISTANCE ON TEST DATA SET: inf ± nan\n"
     ]
    }
   ],
   "source": [
    "!bash ./1_Randomly_Clustered_ESN_Evaluate_Tuned_Model.sh \"evaluate_tuned_model\" \"Lorenz96_F8_ALPHA5_DIM40\" 3000 0.1 0.1 5 \"grid_search.json\" "
   ]
  },
  {
   "cell_type": "code",
   "execution_count": 10,
   "metadata": {},
   "outputs": [
    {
     "name": "stdout",
     "output_type": "stream",
     "text": [
      "Grid Search Progress:   0%|                                               | 0/25 [00:00<?, ?trial/s]/home/user/kuei_jan_CHU/PGClustered_ESN/Methods/./Utils/global_utils.py:274: RuntimeWarning: divide by zero encountered in log10\n",
      "  s_dbfs = 20 * np.log10(s_mag)\n",
      "Grid Search Progress: 100%|███████████| 25/25 [41:09<00:00, 98.77s/trial, Current Best Loss=0.18387]\n",
      "{'radius': 0.99, 'sigma_input': 0.5}\n"
     ]
    }
   ],
   "source": [
    "!bash ./0_Randomly_Clustered_ESN_Tune.sh \"tune\" \"Lorenz96_F8_ALPHA6_DIM40\" 3000 0.1 0.1 6 \"grid_search.json\" "
   ]
  },
  {
   "cell_type": "code",
   "execution_count": 6,
   "metadata": {},
   "outputs": [
    {
     "name": "stdout",
     "output_type": "stream",
     "text": [
      "{'radius': 0.99, 'sigma_input': 0.5}\n",
      "AVERAGE RMNSE ERROR ON TRAIN DATA SET: 1.9638502004400578 ± 0.19776609643288975\n",
      "AVG NUMBER OF ACCURATE 0.5 PREDICTIONS ON TRAIN DATA SET: 0.6823679039500259 ± 0.045283160405398426\n",
      "AVG NUMBER OF ACCURATE 1 PREDICTIONS ON TRAIN DATA SET: 1.4031790700944193 ± 0.07204907344032226\n",
      "POWER SPECTRUM MEAN ERROR ON TRAIN DATA SET: 4.054670629752081 ± 1.0523498990294327\n",
      "TEMPORAL DISTANCE ON TRAIN DATA SET: 0.17249530514954187 ± 0.03448853580530114\n",
      "GEOMETRICAL DISTANCE ON TRAIN DATA SET: 17.914152780635373 ± 1.8142316579179747\n",
      "\n",
      "\n",
      "AVERAGE RMNSE ERROR ON TEST DATA SET: 1.9571431100063923 ± 0.19529365063640655\n",
      "AVG NUMBER OF ACCURATE 0.5 PREDICTIONS ON TEST DATA SET: 0.6016370533418536 ± 0.03193337191121506\n",
      "AVG NUMBER OF ACCURATE 1 PREDICTIONS ON TEST DATA SET: 1.1975076173545522 ± 0.0633439513143394\n",
      "POWER SPECTRUM MEAN ERROR ON TEST DATA SET: 3.8377282399702453 ± 0.8611806743634447\n",
      "TEMPORAL DISTANCE ON TEST DATA SET: 0.170033598205728 ± 0.0335198907340868\n",
      "GEOMETRICAL DISTANCE ON TEST DATA SET: 17.967164530771548 ± 1.8885011236908142\n"
     ]
    }
   ],
   "source": [
    "!bash ./1_Randomly_Clustered_ESN_Evaluate_Tuned_Model.sh \"evaluate_tuned_model\" \"Lorenz96_F8_ALPHA6_DIM40\" 3000 0.1 0.1 6 \"grid_search.json\" "
   ]
  },
  {
   "cell_type": "code",
   "execution_count": 12,
   "metadata": {},
   "outputs": [
    {
     "name": "stdout",
     "output_type": "stream",
     "text": [
      "Grid Search Progress:  12%|█▎         | 3/25 [05:14<37:54, 103.38s/trial, Current Best Loss=0.49401]/home/user/kuei_jan_CHU/PGClustered_ESN/Methods/./Utils/global_utils.py:274: RuntimeWarning: divide by zero encountered in log10\n",
      "  s_dbfs = 20 * np.log10(s_mag)\n",
      "Grid Search Progress: 100%|███████████| 25/25 [41:04<00:00, 98.57s/trial, Current Best Loss=0.18849]\n",
      "{'radius': 0.99, 'sigma_input': 0.5}\n"
     ]
    }
   ],
   "source": [
    "!bash ./0_Randomly_Clustered_ESN_Tune.sh \"tune\" \"Lorenz96_F8_ALPHA7_DIM40\" 3000 0.1 0.1 7 \"grid_search.json\" "
   ]
  },
  {
   "cell_type": "code",
   "execution_count": 7,
   "metadata": {},
   "outputs": [
    {
     "name": "stdout",
     "output_type": "stream",
     "text": [
      "{'radius': 0.99, 'sigma_input': 0.5}\n",
      "AVERAGE RMNSE ERROR ON TRAIN DATA SET: 1.8940586364557324 ± 0.22695688322308133\n",
      "AVG NUMBER OF ACCURATE 0.5 PREDICTIONS ON TRAIN DATA SET: 0.682534538234828 ± 0.028952665657207926\n",
      "AVG NUMBER OF ACCURATE 1 PREDICTIONS ON TRAIN DATA SET: 1.4028079529913289 ± 0.08441424363827837\n",
      "POWER SPECTRUM MEAN ERROR ON TRAIN DATA SET: 3.4012382325171977 ± 1.131713196897047\n",
      "TEMPORAL DISTANCE ON TRAIN DATA SET: 0.18057058389793118 ± 0.05826501166533624\n",
      "GEOMETRICAL DISTANCE ON TRAIN DATA SET: 16.314383872533604 ± 1.2136720939914576\n",
      "\n",
      "\n",
      "AVERAGE RMNSE ERROR ON TEST DATA SET: 1.9063279272349642 ± 0.23497234192279698\n",
      "AVG NUMBER OF ACCURATE 0.5 PREDICTIONS ON TEST DATA SET: 0.5229530032288966 ± 0.027384245533624726\n",
      "AVG NUMBER OF ACCURATE 1 PREDICTIONS ON TEST DATA SET: 1.1149142378117096 ± 0.05481093081872988\n",
      "POWER SPECTRUM MEAN ERROR ON TEST DATA SET: 3.3469880449949136 ± 0.9087427720462998\n",
      "TEMPORAL DISTANCE ON TEST DATA SET: 0.1828625386064609 ± 0.06066290099385085\n",
      "GEOMETRICAL DISTANCE ON TEST DATA SET: 16.444120512218934 ± 1.274065521018213\n"
     ]
    }
   ],
   "source": [
    "!bash ./1_Randomly_Clustered_ESN_Evaluate_Tuned_Model.sh \"evaluate_tuned_model\" \"Lorenz96_F8_ALPHA7_DIM40\" 3000 0.1 0.1 7 \"grid_search.json\" "
   ]
  },
  {
   "cell_type": "code",
   "execution_count": 14,
   "metadata": {},
   "outputs": [
    {
     "name": "stdout",
     "output_type": "stream",
     "text": [
      "Grid Search Progress:   8%|▉          | 2/25 [03:35<41:00, 106.97s/trial, Current Best Loss=0.37761]/home/user/kuei_jan_CHU/PGClustered_ESN/Methods/./Utils/global_utils.py:274: RuntimeWarning: divide by zero encountered in log10\n",
      "  s_dbfs = 20 * np.log10(s_mag)\n",
      "Grid Search Progress: 100%|███████████| 25/25 [41:03<00:00, 98.56s/trial, Current Best Loss=0.17754]\n",
      "{'radius': 0.99, 'sigma_input': 0.5}\n"
     ]
    }
   ],
   "source": [
    "!bash ./0_Randomly_Clustered_ESN_Tune.sh \"tune\" \"Lorenz96_F8_ALPHA8_DIM40\" 3000 0.1 0.1 8 \"grid_search.json\" "
   ]
  },
  {
   "cell_type": "code",
   "execution_count": 8,
   "metadata": {},
   "outputs": [
    {
     "name": "stdout",
     "output_type": "stream",
     "text": [
      "{'radius': 0.99, 'sigma_input': 0.5}\n",
      "AVERAGE RMNSE ERROR ON TRAIN DATA SET: 1.7333022152113842 ± 0.09928186692553509\n",
      "AVG NUMBER OF ACCURATE 0.5 PREDICTIONS ON TRAIN DATA SET: 0.6899104871504396 ± 0.02740577064673594\n",
      "AVG NUMBER OF ACCURATE 1 PREDICTIONS ON TRAIN DATA SET: 1.365522311354756 ± 0.0825877590839397\n",
      "POWER SPECTRUM MEAN ERROR ON TRAIN DATA SET: 2.5381169773745365 ± 0.5528945118137378\n",
      "TEMPORAL DISTANCE ON TRAIN DATA SET: 0.16743173468766087 ± 0.019280716163985755\n",
      "GEOMETRICAL DISTANCE ON TRAIN DATA SET: 14.649730539045924 ± 0.87494449912033\n",
      "\n",
      "\n",
      "AVERAGE RMNSE ERROR ON TEST DATA SET: 1.734281967155212 ± 0.09968101700163784\n",
      "AVG NUMBER OF ACCURATE 0.5 PREDICTIONS ON TEST DATA SET: 0.5659887416173727 ± 0.02978888113775645\n",
      "AVG NUMBER OF ACCURATE 1 PREDICTIONS ON TEST DATA SET: 1.195129911246789 ± 0.06261053087514444\n",
      "POWER SPECTRUM MEAN ERROR ON TEST DATA SET: 2.6282316939102666 ± 0.5898656598647901\n",
      "TEMPORAL DISTANCE ON TEST DATA SET: 0.1658493633747557 ± 0.018329348049833855\n",
      "GEOMETRICAL DISTANCE ON TEST DATA SET: 14.671221866458646 ± 0.8684433951364219\n"
     ]
    }
   ],
   "source": [
    "!bash ./1_Randomly_Clustered_ESN_Evaluate_Tuned_Model.sh \"evaluate_tuned_model\" \"Lorenz96_F8_ALPHA8_DIM40\"  3000 0.1 0.1 8 \"grid_search.json\" "
   ]
  },
  {
   "cell_type": "code",
   "execution_count": 16,
   "metadata": {
    "editable": true,
    "slideshow": {
     "slide_type": ""
    },
    "tags": []
   },
   "outputs": [
    {
     "name": "stdout",
     "output_type": "stream",
     "text": [
      "Grid Search Progress:   8%|▉          | 2/25 [03:35<40:58, 106.89s/trial, Current Best Loss=0.44112]/home/user/kuei_jan_CHU/PGClustered_ESN/Methods/./Utils/global_utils.py:274: RuntimeWarning: divide by zero encountered in log10\n",
      "  s_dbfs = 20 * np.log10(s_mag)\n",
      "Grid Search Progress: 100%|███████████| 25/25 [41:01<00:00, 98.44s/trial, Current Best Loss=0.20291]\n",
      "{'radius': 0.99, 'sigma_input': 0.5}\n"
     ]
    }
   ],
   "source": [
    "!bash ./0_Randomly_Clustered_ESN_Tune.sh \"tune\" \"Lorenz96_F8_ALPHA9_DIM40\" 3000 0.1 0.1 9 \"grid_search.json\" "
   ]
  },
  {
   "cell_type": "code",
   "execution_count": 9,
   "metadata": {},
   "outputs": [
    {
     "name": "stdout",
     "output_type": "stream",
     "text": [
      "{'radius': 0.99, 'sigma_input': 0.5}\n",
      "AVERAGE RMNSE ERROR ON TRAIN DATA SET: 1.6513132742475336 ± 0.07837106319774534\n",
      "AVG NUMBER OF ACCURATE 0.5 PREDICTIONS ON TRAIN DATA SET: 0.6565087306516417 ± 0.05675396775081697\n",
      "AVG NUMBER OF ACCURATE 1 PREDICTIONS ON TRAIN DATA SET: 1.3505692427409515 ± 0.09586552338596938\n",
      "POWER SPECTRUM MEAN ERROR ON TRAIN DATA SET: 2.044310538269076 ± 0.530078144961044\n",
      "TEMPORAL DISTANCE ON TRAIN DATA SET: 0.17197516474798774 ± 0.010212430530941893\n",
      "GEOMETRICAL DISTANCE ON TRAIN DATA SET: 13.534954657372719 ± 0.686723865335783\n",
      "\n",
      "\n",
      "AVERAGE RMNSE ERROR ON TEST DATA SET: 1.6460055128405 ± 0.0734966259688644\n",
      "AVG NUMBER OF ACCURATE 0.5 PREDICTIONS ON TEST DATA SET: 0.60341828103287 ± 0.045302613336990226\n",
      "AVG NUMBER OF ACCURATE 1 PREDICTIONS ON TEST DATA SET: 1.2987736821372717 ± 0.052773677998555625\n",
      "POWER SPECTRUM MEAN ERROR ON TEST DATA SET: 2.0140788931274862 ± 0.5124035275513216\n",
      "TEMPORAL DISTANCE ON TEST DATA SET: 0.17321698512561226 ± 0.010543381946033777\n",
      "GEOMETRICAL DISTANCE ON TEST DATA SET: 13.427271677443406 ± 0.6320147193422544\n"
     ]
    }
   ],
   "source": [
    "!bash ./1_Randomly_Clustered_ESN_Evaluate_Tuned_Model.sh \"evaluate_tuned_model\" \"Lorenz96_F8_ALPHA9_DIM40\" 3000 0.1 0.1 9 \"grid_search.json\" "
   ]
  },
  {
   "cell_type": "code",
   "execution_count": 18,
   "metadata": {
    "editable": true,
    "slideshow": {
     "slide_type": ""
    },
    "tags": []
   },
   "outputs": [
    {
     "name": "stdout",
     "output_type": "stream",
     "text": [
      "Grid Search Progress:   8%|▉          | 2/25 [03:34<40:47, 106.43s/trial, Current Best Loss=0.53679]/home/user/kuei_jan_CHU/PGClustered_ESN/Methods/./Utils/global_utils.py:274: RuntimeWarning: divide by zero encountered in log10\n",
      "  s_dbfs = 20 * np.log10(s_mag)\n",
      "Grid Search Progress: 100%|███████████| 25/25 [41:00<00:00, 98.40s/trial, Current Best Loss=0.19539]\n",
      "{'radius': 0.99, 'sigma_input': 0.5}\n"
     ]
    }
   ],
   "source": [
    "!bash ./0_Randomly_Clustered_ESN_Tune.sh \"tune\" \"Lorenz96_F8_ALPHA10_DIM40\" 3000 0.1 0.1 10 \"grid_search.json\" "
   ]
  },
  {
   "cell_type": "code",
   "execution_count": 10,
   "metadata": {},
   "outputs": [
    {
     "name": "stdout",
     "output_type": "stream",
     "text": [
      "{'radius': 0.99, 'sigma_input': 0.5}\n",
      "AVERAGE RMNSE ERROR ON TRAIN DATA SET: 1.573004239787219 ± 0.04338552664585405\n",
      "AVG NUMBER OF ACCURATE 0.5 PREDICTIONS ON TRAIN DATA SET: 0.6944427823501093 ± 0.06422108812194587\n",
      "AVG NUMBER OF ACCURATE 1 PREDICTIONS ON TRAIN DATA SET: 1.5036926375887447 ± 0.07334100308026187\n",
      "POWER SPECTRUM MEAN ERROR ON TRAIN DATA SET: 1.6071936260995738 ± 0.25776070385558403\n",
      "TEMPORAL DISTANCE ON TRAIN DATA SET: 0.18465156277724531 ± 0.006232709982204467\n",
      "GEOMETRICAL DISTANCE ON TRAIN DATA SET: 12.55685980670714 ± 0.40938600294618877\n",
      "\n",
      "\n",
      "AVERAGE RMNSE ERROR ON TEST DATA SET: 1.575693781806066 ± 0.04772585141908624\n",
      "AVG NUMBER OF ACCURATE 0.5 PREDICTIONS ON TEST DATA SET: 0.5684350194236781 ± 0.03143185846296939\n",
      "AVG NUMBER OF ACCURATE 1 PREDICTIONS ON TEST DATA SET: 1.2082744378390005 ± 0.05841900793021254\n",
      "POWER SPECTRUM MEAN ERROR ON TEST DATA SET: 1.5696051771908908 ± 0.3366585242922267\n",
      "TEMPORAL DISTANCE ON TEST DATA SET: 0.18511487633025617 ± 0.00746616757932809\n",
      "GEOMETRICAL DISTANCE ON TEST DATA SET: 12.626385065525485 ± 0.4576757563629999\n"
     ]
    }
   ],
   "source": [
    "!bash ./1_Randomly_Clustered_ESN_Evaluate_Tuned_Model.sh \"evaluate_tuned_model\" \"Lorenz96_F8_ALPHA10_DIM40\" 3000 0.1 0.1 10 \"grid_search.json\" "
   ]
  },
  {
   "cell_type": "markdown",
   "metadata": {},
   "source": [
    "# Over F"
   ]
  },
  {
   "cell_type": "code",
   "execution_count": null,
   "metadata": {},
   "outputs": [
    {
     "name": "stdout",
     "output_type": "stream",
     "text": [
      "Grid Search Progress:   8%|▉          | 2/25 [03:40<41:58, 109.50s/trial, Current Best Loss=0.12224]/home/user/kuei_jan_CHU/PGClustered_ESN/Methods/./Utils/global_utils.py:274: RuntimeWarning: divide by zero encountered in log10\n",
      "  s_dbfs = 20 * np.log10(s_mag)\n",
      "Grid Search Progress: 100%|██████████| 25/25 [41:52<00:00, 100.52s/trial, Current Best Loss=0.12224]\n",
      "{'radius': 0.1, 'sigma_input': 0.1}\n"
     ]
    }
   ],
   "source": [
    "!bash ./0_Randomly_Clustered_ESN_Tune.sh \"tune\" \"Lorenz96_F8_ALPHA1_DIM40\" 3000 0.1 0.1 1 \"grid_search_for_F.json\""
   ]
  },
  {
   "cell_type": "code",
   "execution_count": 11,
   "metadata": {},
   "outputs": [
    {
     "name": "stdout",
     "output_type": "stream",
     "text": [
      "{'radius': 0.1, 'sigma_input': 0.1}\n",
      "AVERAGE RMNSE ERROR ON TRAIN DATA SET: 1.3650750039565853 ± 0.007110415989202894\n",
      "AVG NUMBER OF ACCURATE 0.5 PREDICTIONS ON TRAIN DATA SET: 2.3851698525056015 ± 0.10569419621012381\n",
      "AVG NUMBER OF ACCURATE 1 PREDICTIONS ON TRAIN DATA SET: 3.8095429746603857 ± 0.19411150101948313\n",
      "POWER SPECTRUM MEAN ERROR ON TRAIN DATA SET: 0.5701624433368608 ± 0.23676456247977593\n",
      "TEMPORAL DISTANCE ON TRAIN DATA SET: 0.10817004200436782 ± 0.0014962580514234468\n",
      "GEOMETRICAL DISTANCE ON TRAIN DATA SET: 12.979313882798802 ± 0.058113222211781654\n",
      "\n",
      "\n",
      "AVERAGE RMNSE ERROR ON TEST DATA SET: 1.3771866294415287 ± 0.00408106149200731\n",
      "AVG NUMBER OF ACCURATE 0.5 PREDICTIONS ON TEST DATA SET: 1.747118319803862 ± 0.10297769259392313\n",
      "AVG NUMBER OF ACCURATE 1 PREDICTIONS ON TEST DATA SET: 2.939365115938643 ± 0.19773125384755325\n",
      "POWER SPECTRUM MEAN ERROR ON TEST DATA SET: 0.49413364088606837 ± 0.4137798681790032\n",
      "TEMPORAL DISTANCE ON TEST DATA SET: 0.10791453653526462 ± 0.0018434374638196815\n",
      "GEOMETRICAL DISTANCE ON TEST DATA SET: 13.045464504351159 ± 0.10229399634932486\n"
     ]
    }
   ],
   "source": [
    "!bash ./1_Randomly_Clustered_ESN_Evaluate_Tuned_Model.sh \"evaluate_tuned_model\" \"Lorenz96_F8_ALPHA1_DIM40\" 3000 0.1 0.1 1 \"grid_search_for_F.json\" "
   ]
  },
  {
   "cell_type": "code",
   "execution_count": 20,
   "metadata": {},
   "outputs": [
    {
     "name": "stdout",
     "output_type": "stream",
     "text": [
      "Grid Search Progress:   4%|▍          | 1/25 [01:54<45:56, 114.87s/trial, Current Best Loss=0.11693]/home/user/kuei_jan_CHU/PGClustered_ESN/Methods/./Utils/global_utils.py:274: RuntimeWarning: divide by zero encountered in log10\n",
      "  s_dbfs = 20 * np.log10(s_mag)\n",
      "Grid Search Progress: 100%|███████████| 25/25 [41:35<00:00, 99.81s/trial, Current Best Loss=0.11693]\n",
      "{'radius': 0.1, 'sigma_input': 0.1}\n"
     ]
    }
   ],
   "source": [
    "!bash ./0_Randomly_Clustered_ESN_Tune.sh \"tune\" \"Lorenz96_F12_ALPHA1_DIM40\" 3000 0.1 0.1  2 \"grid_search_for_F.json\" "
   ]
  },
  {
   "cell_type": "code",
   "execution_count": 12,
   "metadata": {},
   "outputs": [
    {
     "name": "stdout",
     "output_type": "stream",
     "text": [
      "{'radius': 0.1, 'sigma_input': 0.1}\n",
      "AVERAGE RMNSE ERROR ON TRAIN DATA SET: 1.3781872089460896 ± 0.006087093766536509\n",
      "AVG NUMBER OF ACCURATE 0.5 PREDICTIONS ON TRAIN DATA SET: 2.2225591473900526 ± 0.11025504236724966\n",
      "AVG NUMBER OF ACCURATE 1 PREDICTIONS ON TRAIN DATA SET: 3.359495762706568 ± 0.1913469448400832\n",
      "POWER SPECTRUM MEAN ERROR ON TRAIN DATA SET: 0.5617062138482689 ± 0.4172822621918744\n",
      "TEMPORAL DISTANCE ON TRAIN DATA SET: 0.10027365685983587 ± 0.000964903826553616\n",
      "GEOMETRICAL DISTANCE ON TRAIN DATA SET: 12.718544116203692 ± 0.08639011860645872\n",
      "\n",
      "\n",
      "AVERAGE RMNSE ERROR ON TEST DATA SET: 1.384929893511289 ± 0.003519444892569617\n",
      "AVG NUMBER OF ACCURATE 0.5 PREDICTIONS ON TEST DATA SET: 1.9298682033057954 ± 0.09268649993046243\n",
      "AVG NUMBER OF ACCURATE 1 PREDICTIONS ON TEST DATA SET: 2.952709817892111 ± 0.16958222813258778\n",
      "POWER SPECTRUM MEAN ERROR ON TEST DATA SET: 0.4909553503193506 ± 0.28001150606782776\n",
      "TEMPORAL DISTANCE ON TEST DATA SET: 0.1016459993111567 ± 0.0008523664925814228\n",
      "GEOMETRICAL DISTANCE ON TEST DATA SET: 12.75589017728178 ± 0.06173651149860699\n"
     ]
    }
   ],
   "source": [
    "!bash ./1_Randomly_Clustered_ESN_Evaluate_Tuned_Model.sh \"evaluate_tuned_model\" \"Lorenz96_F12_ALPHA1_DIM40\" 3000 0.1 0.1  2 \"grid_search_for_F.json\" "
   ]
  },
  {
   "cell_type": "code",
   "execution_count": 22,
   "metadata": {},
   "outputs": [
    {
     "name": "stdout",
     "output_type": "stream",
     "text": [
      "Grid Search Progress:   4%|▍          | 1/25 [01:54<45:36, 114.03s/trial, Current Best Loss=0.11336]/home/user/kuei_jan_CHU/PGClustered_ESN/Methods/./Utils/global_utils.py:274: RuntimeWarning: divide by zero encountered in log10\n",
      "  s_dbfs = 20 * np.log10(s_mag)\n",
      "Grid Search Progress: 100%|███████████| 25/25 [41:27<00:00, 99.51s/trial, Current Best Loss=0.11336]\n",
      "{'radius': 0.7, 'sigma_input': 0.1}\n"
     ]
    }
   ],
   "source": [
    "!bash ./0_Randomly_Clustered_ESN_Tune.sh \"tune\" \"Lorenz96_F16_ALPHA1_DIM40\" 3000 0.1 0.1  3  \"grid_search_for_F.json\" "
   ]
  },
  {
   "cell_type": "code",
   "execution_count": 13,
   "metadata": {},
   "outputs": [
    {
     "name": "stdout",
     "output_type": "stream",
     "text": [
      "{'radius': 0.7, 'sigma_input': 0.1}\n",
      "AVERAGE RMNSE ERROR ON TRAIN DATA SET: 1.3859048216043062 ± 0.002367735744632062\n",
      "AVG NUMBER OF ACCURATE 0.5 PREDICTIONS ON TRAIN DATA SET: 2.376944586716686 ± 0.0948481152897382\n",
      "AVG NUMBER OF ACCURATE 1 PREDICTIONS ON TRAIN DATA SET: 3.463933693986313 ± 0.18157152825470368\n",
      "POWER SPECTRUM MEAN ERROR ON TRAIN DATA SET: 0.5994378798550944 ± 0.21536820427783862\n",
      "TEMPORAL DISTANCE ON TRAIN DATA SET: 0.09643471007986995 ± 0.0009655097395054573\n",
      "GEOMETRICAL DISTANCE ON TRAIN DATA SET: 12.46597160443761 ± 0.07106079523083654\n",
      "\n",
      "\n",
      "AVERAGE RMNSE ERROR ON TEST DATA SET: 1.3900026171908508 ± 0.0058111121863406974\n",
      "AVG NUMBER OF ACCURATE 0.5 PREDICTIONS ON TEST DATA SET: 1.8324853640125878 ± 0.08247914901039842\n",
      "AVG NUMBER OF ACCURATE 1 PREDICTIONS ON TEST DATA SET: 2.7616546115472924 ± 0.20137004121429905\n",
      "POWER SPECTRUM MEAN ERROR ON TEST DATA SET: 0.5016536200046089 ± 0.19846868311414087\n",
      "TEMPORAL DISTANCE ON TEST DATA SET: 0.09707410006085848 ± 0.0010671679650652022\n",
      "GEOMETRICAL DISTANCE ON TEST DATA SET: 12.544929811743295 ± 0.11239143301206658\n"
     ]
    }
   ],
   "source": [
    "!bash ./1_Randomly_Clustered_ESN_Evaluate_Tuned_Model.sh \"evaluate_tuned_model\" \"Lorenz96_F16_ALPHA1_DIM40\" 3000 0.1 0.1  3 \"grid_search_for_F.json\" "
   ]
  },
  {
   "cell_type": "code",
   "execution_count": 24,
   "metadata": {},
   "outputs": [
    {
     "name": "stdout",
     "output_type": "stream",
     "text": [
      "Grid Search Progress:   4%|▍          | 1/25 [01:54<45:45, 114.38s/trial, Current Best Loss=0.10891]/home/user/kuei_jan_CHU/PGClustered_ESN/Methods/./Utils/global_utils.py:274: RuntimeWarning: divide by zero encountered in log10\n",
      "  s_dbfs = 20 * np.log10(s_mag)\n",
      "Grid Search Progress: 100%|███████████| 25/25 [41:20<00:00, 99.23s/trial, Current Best Loss=0.10891]\n",
      "{'radius': 0.1, 'sigma_input': 0.1}\n"
     ]
    }
   ],
   "source": [
    "!bash ./0_Randomly_Clustered_ESN_Tune.sh \"tune\" \"Lorenz96_F20_ALPHA1_DIM40\" 3000 0.1 0.1  4 \"grid_search_for_F.json\"    "
   ]
  },
  {
   "cell_type": "code",
   "execution_count": 14,
   "metadata": {},
   "outputs": [
    {
     "name": "stdout",
     "output_type": "stream",
     "text": [
      "{'radius': 0.1, 'sigma_input': 0.1}\n",
      "AVERAGE RMNSE ERROR ON TRAIN DATA SET: 1.3913672228021579 ± 0.0033021787592960334\n",
      "AVG NUMBER OF ACCURATE 0.5 PREDICTIONS ON TRAIN DATA SET: 2.1172137247092335 ± 0.10437168724806377\n",
      "AVG NUMBER OF ACCURATE 1 PREDICTIONS ON TRAIN DATA SET: 3.0348769305734264 ± 0.16027179817543066\n",
      "POWER SPECTRUM MEAN ERROR ON TRAIN DATA SET: 0.6623814677387528 ± 0.2737856847640752\n",
      "TEMPORAL DISTANCE ON TRAIN DATA SET: 0.09568927488640204 ± 0.0013415000019142375\n",
      "GEOMETRICAL DISTANCE ON TRAIN DATA SET: 12.155528707298725 ± 0.08440279987086056\n",
      "\n",
      "\n",
      "AVERAGE RMNSE ERROR ON TEST DATA SET: 1.3927447243172997 ± 0.005916293206118575\n",
      "AVG NUMBER OF ACCURATE 0.5 PREDICTIONS ON TEST DATA SET: 1.725677423540511 ± 0.07429018503379428\n",
      "AVG NUMBER OF ACCURATE 1 PREDICTIONS ON TEST DATA SET: 2.6249873652874203 ± 0.08615387153837875\n",
      "POWER SPECTRUM MEAN ERROR ON TEST DATA SET: 0.9215891817905717 ± 0.3174376273402014\n",
      "TEMPORAL DISTANCE ON TEST DATA SET: 0.09497222429418717 ± 0.0013335540563689306\n",
      "GEOMETRICAL DISTANCE ON TEST DATA SET: 12.117817673741124 ± 0.09159705345176558\n"
     ]
    }
   ],
   "source": [
    "!bash ./1_Randomly_Clustered_ESN_Evaluate_Tuned_Model.sh \"evaluate_tuned_model\" \"Lorenz96_F20_ALPHA1_DIM40\" 3000 0.1 0.1  4 \"grid_search_for_F.json\" "
   ]
  },
  {
   "cell_type": "code",
   "execution_count": 26,
   "metadata": {},
   "outputs": [
    {
     "name": "stdout",
     "output_type": "stream",
     "text": [
      "Grid Search Progress:   4%|▍          | 1/25 [01:52<45:05, 112.71s/trial, Current Best Loss=0.11277]/home/user/kuei_jan_CHU/PGClustered_ESN/Methods/./Utils/global_utils.py:274: RuntimeWarning: divide by zero encountered in log10\n",
      "  s_dbfs = 20 * np.log10(s_mag)\n",
      "Grid Search Progress: 100%|███████████| 25/25 [41:16<00:00, 99.08s/trial, Current Best Loss=0.10920]\n",
      "{'radius': 0.7, 'sigma_input': 0.1}\n"
     ]
    }
   ],
   "source": [
    "!bash ./0_Randomly_Clustered_ESN_Tune.sh \"tune\" \"Lorenz96_F24_ALPHA1_DIM40\" 3000 0.1 0.1 5 \"grid_search_for_F.json\"    "
   ]
  },
  {
   "cell_type": "code",
   "execution_count": 15,
   "metadata": {},
   "outputs": [
    {
     "name": "stdout",
     "output_type": "stream",
     "text": [
      "{'radius': 0.7, 'sigma_input': 0.1}\n",
      "AVERAGE RMNSE ERROR ON TRAIN DATA SET: 1.39997135208882 ± 0.0059553880297475315\n",
      "AVG NUMBER OF ACCURATE 0.5 PREDICTIONS ON TRAIN DATA SET: 2.1540482436025745 ± 0.061392399186161746\n",
      "AVG NUMBER OF ACCURATE 1 PREDICTIONS ON TRAIN DATA SET: 3.0824793593301023 ± 0.12324398804962798\n",
      "POWER SPECTRUM MEAN ERROR ON TRAIN DATA SET: 1.2080150818019326 ± 0.32035079040953657\n",
      "TEMPORAL DISTANCE ON TRAIN DATA SET: 0.09592198066897122 ± 0.0020284393748188846\n",
      "GEOMETRICAL DISTANCE ON TRAIN DATA SET: 11.953764534896536 ± 0.14822613861753317\n",
      "\n",
      "\n",
      "AVERAGE RMNSE ERROR ON TEST DATA SET: 1.3998795729788296 ± 0.004857032976280914\n",
      "AVG NUMBER OF ACCURATE 0.5 PREDICTIONS ON TEST DATA SET: 1.8854801437359274 ± 0.10787874645527355\n",
      "AVG NUMBER OF ACCURATE 1 PREDICTIONS ON TEST DATA SET: 2.9228794639175453 ± 0.17109341188930274\n",
      "POWER SPECTRUM MEAN ERROR ON TEST DATA SET: 1.2449202535360724 ± 0.41291151604660004\n",
      "TEMPORAL DISTANCE ON TEST DATA SET: 0.09578324639458832 ± 0.0014916899963751413\n",
      "GEOMETRICAL DISTANCE ON TEST DATA SET: 11.995498384545993 ± 0.08865531832869024\n"
     ]
    }
   ],
   "source": [
    "!bash ./1_Randomly_Clustered_ESN_Evaluate_Tuned_Model.sh \"evaluate_tuned_model\" \"Lorenz96_F24_ALPHA1_DIM40\" 3000 0.1 0.1 5 \"grid_search_for_F.json\" "
   ]
  },
  {
   "cell_type": "code",
   "execution_count": 28,
   "metadata": {},
   "outputs": [
    {
     "name": "stdout",
     "output_type": "stream",
     "text": [
      "Grid Search Progress:   0%|                                               | 0/25 [00:00<?, ?trial/s]/home/user/kuei_jan_CHU/PGClustered_ESN/Methods/./Utils/global_utils.py:274: RuntimeWarning: divide by zero encountered in log10\n",
      "  s_dbfs = 20 * np.log10(s_mag)\n",
      "Grid Search Progress: 100%|███████████| 25/25 [41:11<00:00, 98.86s/trial, Current Best Loss=0.15238]\n",
      "{'radius': 0.9, 'sigma_input': 0.1}\n"
     ]
    }
   ],
   "source": [
    "!bash ./0_Randomly_Clustered_ESN_Tune.sh \"tune\" \"Lorenz96_F28_ALPHA1_DIM40\" 3000 0.1 0.1 6 \"grid_search_for_F.json\"    "
   ]
  },
  {
   "cell_type": "code",
   "execution_count": 16,
   "metadata": {},
   "outputs": [
    {
     "name": "stdout",
     "output_type": "stream",
     "text": [
      "{'radius': 0.9, 'sigma_input': 0.1}\n",
      "/home/user/anaconda3/lib/python3.11/site-packages/numpy/core/_methods.py:236: RuntimeWarning: invalid value encountered in subtract\n",
      "  x = asanyarray(arr - arrmean)\n",
      "AVERAGE RMNSE ERROR ON TRAIN DATA SET: 1.8676368875222065 ± 0.9122992798771504\n",
      "AVG NUMBER OF ACCURATE 0.5 PREDICTIONS ON TRAIN DATA SET: 2.2449610227032673 ± 0.08814380097851891\n",
      "AVG NUMBER OF ACCURATE 1 PREDICTIONS ON TRAIN DATA SET: 3.2971677964575905 ± 0.1342344244797867\n",
      "POWER SPECTRUM MEAN ERROR ON TRAIN DATA SET: 5.246463325506992 ± 4.416324346068921\n",
      "TEMPORAL DISTANCE ON TRAIN DATA SET: 0.15039845529151108 ± 0.05035912241305026\n",
      "GEOMETRICAL DISTANCE ON TRAIN DATA SET: inf ± nan\n",
      "\n",
      "\n",
      "AVERAGE RMNSE ERROR ON TEST DATA SET: 2.081886255221707 ± 1.492559478687279\n",
      "AVG NUMBER OF ACCURATE 0.5 PREDICTIONS ON TEST DATA SET: 1.7986278244500795 ± 0.103388786885521\n",
      "AVG NUMBER OF ACCURATE 1 PREDICTIONS ON TEST DATA SET: 2.6963589948373423 ± 0.1567588937910056\n",
      "POWER SPECTRUM MEAN ERROR ON TEST DATA SET: 5.970631176726079 ± 6.864455605150428\n",
      "TEMPORAL DISTANCE ON TEST DATA SET: 0.15295922837923032 ± 0.07144314633150596\n",
      "GEOMETRICAL DISTANCE ON TEST DATA SET: inf ± nan\n"
     ]
    }
   ],
   "source": [
    "!bash ./1_Randomly_Clustered_ESN_Evaluate_Tuned_Model.sh \"evaluate_tuned_model\" \"Lorenz96_F28_ALPHA1_DIM40\" 3000 0.1 0.1 6 \"grid_search_for_F.json\" "
   ]
  },
  {
   "cell_type": "code",
   "execution_count": 30,
   "metadata": {},
   "outputs": [
    {
     "name": "stdout",
     "output_type": "stream",
     "text": [
      "Grid Search Progress:   0%|                                               | 0/25 [00:00<?, ?trial/s]/home/user/kuei_jan_CHU/PGClustered_ESN/Methods/./Utils/global_utils.py:274: RuntimeWarning: divide by zero encountered in log10\n",
      "  s_dbfs = 20 * np.log10(s_mag)\n",
      "Grid Search Progress: 100%|███████████| 25/25 [41:13<00:00, 98.94s/trial, Current Best Loss=0.21044]\n",
      "{'radius': 0.99, 'sigma_input': 1.0}\n"
     ]
    }
   ],
   "source": [
    "!bash ./0_Randomly_Clustered_ESN_Tune.sh \"tune\" \"Lorenz96_F32_ALPHA1_DIM40\" 3000 0.1 0.1 7 \"grid_search_for_F.json\"    "
   ]
  },
  {
   "cell_type": "code",
   "execution_count": 17,
   "metadata": {},
   "outputs": [
    {
     "name": "stdout",
     "output_type": "stream",
     "text": [
      "{'radius': 0.99, 'sigma_input': 1.0}\n",
      "AVERAGE RMNSE ERROR ON TRAIN DATA SET: 1.6252595762583002 ± 0.03645920355615705\n",
      "AVG NUMBER OF ACCURATE 0.5 PREDICTIONS ON TRAIN DATA SET: 0.4476395152017799 ± 0.028293097215081865\n",
      "AVG NUMBER OF ACCURATE 1 PREDICTIONS ON TRAIN DATA SET: 0.9746876100233418 ± 0.047354879445633165\n",
      "POWER SPECTRUM MEAN ERROR ON TRAIN DATA SET: 2.047710475616298 ± 0.41814682384589474\n",
      "TEMPORAL DISTANCE ON TRAIN DATA SET: 0.2054187909738571 ± 0.02005967282317326\n",
      "GEOMETRICAL DISTANCE ON TRAIN DATA SET: 17.267241205752015 ± 0.8327146146395424\n",
      "\n",
      "\n",
      "AVERAGE RMNSE ERROR ON TEST DATA SET: 1.6229993858215128 ± 0.03617613781769746\n",
      "AVG NUMBER OF ACCURATE 0.5 PREDICTIONS ON TEST DATA SET: 0.3506626657546125 ± 0.021875141598856274\n",
      "AVG NUMBER OF ACCURATE 1 PREDICTIONS ON TEST DATA SET: 0.8102486044390146 ± 0.07562441274459338\n",
      "POWER SPECTRUM MEAN ERROR ON TEST DATA SET: 2.513476067314546 ± 0.33356771103569105\n",
      "TEMPORAL DISTANCE ON TEST DATA SET: 0.20293929564284027 ± 0.02015841876521195\n",
      "GEOMETRICAL DISTANCE ON TEST DATA SET: 17.230949336768525 ± 0.8280583819432565\n"
     ]
    }
   ],
   "source": [
    "!bash ./1_Randomly_Clustered_ESN_Evaluate_Tuned_Model.sh \"evaluate_tuned_model\" \"Lorenz96_F32_ALPHA1_DIM40\" 3000 0.1 0.1 7 \"grid_search_for_F.json\" "
   ]
  },
  {
   "cell_type": "code",
   "execution_count": 32,
   "metadata": {},
   "outputs": [
    {
     "name": "stdout",
     "output_type": "stream",
     "text": [
      "Grid Search Progress:   0%|                                               | 0/25 [00:00<?, ?trial/s]/home/user/kuei_jan_CHU/PGClustered_ESN/Methods/./Utils/global_utils.py:274: RuntimeWarning: divide by zero encountered in log10\n",
      "  s_dbfs = 20 * np.log10(s_mag)\n",
      "Grid Search Progress: 100%|███████████| 25/25 [41:14<00:00, 99.00s/trial, Current Best Loss=0.18658]\n",
      "{'radius': 0.9, 'sigma_input': 0.5}\n"
     ]
    }
   ],
   "source": [
    "!bash ./0_Randomly_Clustered_ESN_Tune.sh \"tune\" \"Lorenz96_F36_ALPHA1_DIM40\" 3000 0.1 0.1 8 \"grid_search_for_F.json\"    "
   ]
  },
  {
   "cell_type": "code",
   "execution_count": 18,
   "metadata": {},
   "outputs": [
    {
     "name": "stdout",
     "output_type": "stream",
     "text": [
      "{'radius': 0.9, 'sigma_input': 0.5}\n",
      "/home/user/anaconda3/lib/python3.11/site-packages/numpy/core/_methods.py:236: RuntimeWarning: invalid value encountered in subtract\n",
      "  x = asanyarray(arr - arrmean)\n",
      "AVERAGE RMNSE ERROR ON TRAIN DATA SET: 2.268483856904118 ± 0.4455683463404717\n",
      "AVG NUMBER OF ACCURATE 0.5 PREDICTIONS ON TRAIN DATA SET: 0.7092607412826306 ± 0.04475836529924482\n",
      "AVG NUMBER OF ACCURATE 1 PREDICTIONS ON TRAIN DATA SET: 1.3559396524520881 ± 0.09476748091122943\n",
      "POWER SPECTRUM MEAN ERROR ON TRAIN DATA SET: 4.496759768108371 ± 1.1062262515624173\n",
      "TEMPORAL DISTANCE ON TRAIN DATA SET: 0.1800923757811029 ± 0.04579929868102159\n",
      "GEOMETRICAL DISTANCE ON TRAIN DATA SET: inf ± nan\n",
      "\n",
      "\n",
      "AVERAGE RMNSE ERROR ON TEST DATA SET: 2.2669879664057477 ± 0.43376415471314256\n",
      "AVG NUMBER OF ACCURATE 0.5 PREDICTIONS ON TEST DATA SET: 0.614229073332997 ± 0.04149885834045762\n",
      "AVG NUMBER OF ACCURATE 1 PREDICTIONS ON TEST DATA SET: 1.1929178480832043 ± 0.07363796924052697\n",
      "POWER SPECTRUM MEAN ERROR ON TEST DATA SET: 4.6408245645025605 ± 1.169984258783079\n",
      "TEMPORAL DISTANCE ON TEST DATA SET: 0.1805988185047432 ± 0.042804629914111575\n",
      "GEOMETRICAL DISTANCE ON TEST DATA SET: inf ± nan\n"
     ]
    }
   ],
   "source": [
    "!bash ./1_Randomly_Clustered_ESN_Evaluate_Tuned_Model.sh \"evaluate_tuned_model\" \"Lorenz96_F36_ALPHA1_DIM40\" 3000 0.1 0.1 8 \"grid_search_for_F.json\" "
   ]
  },
  {
   "cell_type": "code",
   "execution_count": 34,
   "metadata": {},
   "outputs": [
    {
     "name": "stdout",
     "output_type": "stream",
     "text": [
      "Grid Search Progress:   0%|                                               | 0/25 [00:00<?, ?trial/s]/home/user/kuei_jan_CHU/PGClustered_ESN/Methods/./Utils/global_utils.py:274: RuntimeWarning: divide by zero encountered in log10\n",
      "  s_dbfs = 20 * np.log10(s_mag)\n",
      "Grid Search Progress: 100%|███████████| 25/25 [41:16<00:00, 99.06s/trial, Current Best Loss=0.19189]\n",
      "{'radius': 0.99, 'sigma_input': 0.5}\n"
     ]
    }
   ],
   "source": [
    "!bash ./0_Randomly_Clustered_ESN_Tune.sh \"tune\" \"Lorenz96_F40_ALPHA1_DIM40\" 3000 0.1 0.1 9 \"grid_search_for_F.json\"    "
   ]
  },
  {
   "cell_type": "code",
   "execution_count": 19,
   "metadata": {},
   "outputs": [
    {
     "name": "stdout",
     "output_type": "stream",
     "text": [
      "{'radius': 0.99, 'sigma_input': 0.5}\n",
      "/home/user/anaconda3/lib/python3.11/site-packages/numpy/core/_methods.py:236: RuntimeWarning: invalid value encountered in subtract\n",
      "  x = asanyarray(arr - arrmean)\n",
      "AVERAGE RMNSE ERROR ON TRAIN DATA SET: 2.187865442644375 ± 0.408374259689357\n",
      "AVG NUMBER OF ACCURATE 0.5 PREDICTIONS ON TRAIN DATA SET: 0.7025706648548736 ± 0.05393861228607017\n",
      "AVG NUMBER OF ACCURATE 1 PREDICTIONS ON TRAIN DATA SET: 1.3440118201335782 ± 0.06606899936733257\n",
      "POWER SPECTRUM MEAN ERROR ON TRAIN DATA SET: inf ± nan\n",
      "TEMPORAL DISTANCE ON TRAIN DATA SET: 0.19204936778734452 ± 0.0641559310421868\n",
      "GEOMETRICAL DISTANCE ON TRAIN DATA SET: inf ± nan\n",
      "\n",
      "\n",
      "AVERAGE RMNSE ERROR ON TEST DATA SET: 2.1671886677126295 ± 0.37323665515713567\n",
      "AVG NUMBER OF ACCURATE 0.5 PREDICTIONS ON TEST DATA SET: 0.6129698768459683 ± 0.0220918797834134\n",
      "AVG NUMBER OF ACCURATE 1 PREDICTIONS ON TEST DATA SET: 1.2292893158604938 ± 0.0932328231746616\n",
      "POWER SPECTRUM MEAN ERROR ON TEST DATA SET: inf ± nan\n",
      "TEMPORAL DISTANCE ON TEST DATA SET: 0.18977369411483908 ± 0.06511049760471198\n",
      "GEOMETRICAL DISTANCE ON TEST DATA SET: inf ± nan\n"
     ]
    }
   ],
   "source": [
    "!bash ./1_Randomly_Clustered_ESN_Evaluate_Tuned_Model.sh \"evaluate_tuned_model\" \"Lorenz96_F40_ALPHA1_DIM40\" 3000 0.1 0.1 9 \"grid_search_for_F.json\" "
   ]
  },
  {
   "cell_type": "code",
   "execution_count": 36,
   "metadata": {},
   "outputs": [
    {
     "name": "stdout",
     "output_type": "stream",
     "text": [
      "Grid Search Progress:   0%|                                               | 0/25 [00:00<?, ?trial/s]/home/user/kuei_jan_CHU/PGClustered_ESN/Methods/./Utils/global_utils.py:274: RuntimeWarning: divide by zero encountered in log10\n",
      "  s_dbfs = 20 * np.log10(s_mag)\n",
      "Grid Search Progress: 100%|███████████| 25/25 [41:11<00:00, 98.86s/trial, Current Best Loss=0.18907]\n",
      "{'radius': 0.99, 'sigma_input': 0.5}\n"
     ]
    }
   ],
   "source": [
    "!bash ./0_Randomly_Clustered_ESN_Tune.sh \"tune\" \"Lorenz96_F44_ALPHA1_DIM40\" 3000 0.1 0.1 10 \"grid_search_for_F.json\"    "
   ]
  },
  {
   "cell_type": "code",
   "execution_count": 20,
   "metadata": {},
   "outputs": [
    {
     "name": "stdout",
     "output_type": "stream",
     "text": [
      "{'radius': 0.99, 'sigma_input': 0.5}\n",
      "AVERAGE RMNSE ERROR ON TRAIN DATA SET: 2.0421753556993214 ± 0.23644787141796034\n",
      "AVG NUMBER OF ACCURATE 0.5 PREDICTIONS ON TRAIN DATA SET: 0.6919527269719344 ± 0.07078936825541941\n",
      "AVG NUMBER OF ACCURATE 1 PREDICTIONS ON TRAIN DATA SET: 1.3793828871009153 ± 0.11138743349675698\n",
      "POWER SPECTRUM MEAN ERROR ON TRAIN DATA SET: 4.646678306206093 ± 0.9416911306557934\n",
      "TEMPORAL DISTANCE ON TRAIN DATA SET: 0.1778637104905243 ± 0.03589425491892345\n",
      "GEOMETRICAL DISTANCE ON TRAIN DATA SET: 19.419446796900274 ± 2.639119894069227\n",
      "\n",
      "\n",
      "AVERAGE RMNSE ERROR ON TEST DATA SET: 2.039703960342325 ± 0.22538498134173165\n",
      "AVG NUMBER OF ACCURATE 0.5 PREDICTIONS ON TEST DATA SET: 0.5788885558980889 ± 0.04987142547828977\n",
      "AVG NUMBER OF ACCURATE 1 PREDICTIONS ON TEST DATA SET: 1.1713448123250392 ± 0.07339946251589802\n",
      "POWER SPECTRUM MEAN ERROR ON TEST DATA SET: 4.605514228167825 ± 1.0393657999230725\n",
      "TEMPORAL DISTANCE ON TEST DATA SET: 0.17661553255417034 ± 0.034422454244508335\n",
      "GEOMETRICAL DISTANCE ON TEST DATA SET: 19.218588703682066 ± 2.4224685710126765\n"
     ]
    }
   ],
   "source": [
    "!bash ./1_Randomly_Clustered_ESN_Evaluate_Tuned_Model.sh \"evaluate_tuned_model\" \"Lorenz96_F44_ALPHA1_DIM40\" 3000 0.1 0.1 10 \"grid_search_for_F.json\" "
   ]
  },
  {
   "cell_type": "code",
   "execution_count": 4,
   "metadata": {},
   "outputs": [
    {
     "name": "stdout",
     "output_type": "stream",
     "text": [
      "Grid Search Progress: 100%|████████| 25/25 [2:18:24<00:00, 332.18s/trial, Current Best Loss=0.07057]\n",
      "{'radius': 0.4, 'sigma_input': 1.0}\n"
     ]
    }
   ],
   "source": [
    "!bash ./0_Randomly_Clustered_ESN_Tune.sh \"tune\" \"Lorenz96_F4_ALPHA1_DIM40\" 3000 0.1 0.1 11 \"grid_search_for_F.json\"    "
   ]
  },
  {
   "cell_type": "code",
   "execution_count": 1,
   "metadata": {},
   "outputs": [
    {
     "name": "stdout",
     "output_type": "stream",
     "text": [
      "{'radius': 0.4, 'sigma_input': 1.0}\n",
      "AVERAGE RMNSE ERROR ON TRAIN DATA SET: 0.06142747209073227 ± 0.01252742157988146\n",
      "AVG NUMBER OF ACCURATE 0.5 PREDICTIONS ON TRAIN DATA SET: 70.00000000000001 ± 0.0\n",
      "AVG NUMBER OF ACCURATE 1 PREDICTIONS ON TRAIN DATA SET: 70.00000000000001 ± 0.0\n",
      "POWER SPECTRUM MEAN ERROR ON TRAIN DATA SET: 0.1240019928770603 ± 0.09240671144241838\n",
      "TEMPORAL DISTANCE ON TRAIN DATA SET: 0.07065305866443536 ± 0.0005186413634377365\n",
      "GEOMETRICAL DISTANCE ON TRAIN DATA SET: 0.022615522563389633 ± 0.011440316485492999\n",
      "\n",
      "\n",
      "AVERAGE RMNSE ERROR ON TEST DATA SET: 0.06448073374117878 ± 0.017625412639067802\n",
      "AVG NUMBER OF ACCURATE 0.5 PREDICTIONS ON TEST DATA SET: 70.00000000000001 ± 0.0\n",
      "AVG NUMBER OF ACCURATE 1 PREDICTIONS ON TEST DATA SET: 70.00000000000001 ± 0.0\n",
      "POWER SPECTRUM MEAN ERROR ON TEST DATA SET: 0.19315869144833603 ± 0.15899957863726702\n",
      "TEMPORAL DISTANCE ON TEST DATA SET: 0.0705119936146276 ± 0.0004426878532151981\n",
      "GEOMETRICAL DISTANCE ON TEST DATA SET: 0.025078325735520213 ± 0.016624856076623864\n"
     ]
    }
   ],
   "source": [
    "!bash ./1_Randomly_Clustered_ESN_Evaluate_Tuned_Model.sh \"evaluate_tuned_model\" \"Lorenz96_F4_ALPHA1_DIM40\" 3000 0.1 0.1 11 \"grid_search_for_F.json\" "
   ]
  },
  {
   "cell_type": "code",
   "execution_count": null,
   "metadata": {},
   "outputs": [],
   "source": []
  },
  {
   "cell_type": "code",
   "execution_count": null,
   "metadata": {
    "editable": true,
    "slideshow": {
     "slide_type": ""
    },
    "tags": []
   },
   "outputs": [],
   "source": []
  },
  {
   "cell_type": "code",
   "execution_count": null,
   "metadata": {},
   "outputs": [],
   "source": []
  },
  {
   "cell_type": "code",
   "execution_count": null,
   "metadata": {},
   "outputs": [],
   "source": []
  }
 ],
 "metadata": {
  "kernelspec": {
   "display_name": "base",
   "language": "python",
   "name": "python3"
  },
  "language_info": {
   "codemirror_mode": {
    "name": "ipython",
    "version": 3
   },
   "file_extension": ".py",
   "mimetype": "text/x-python",
   "name": "python",
   "nbconvert_exporter": "python",
   "pygments_lexer": "ipython3",
   "version": "3.11.8"
  }
 },
 "nbformat": 4,
 "nbformat_minor": 4
}
