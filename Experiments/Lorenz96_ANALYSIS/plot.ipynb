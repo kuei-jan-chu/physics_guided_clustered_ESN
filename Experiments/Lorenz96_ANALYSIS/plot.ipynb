{
 "cells": [
  {
   "cell_type": "markdown",
   "metadata": {
    "editable": true,
    "slideshow": {
     "slide_type": ""
    },
    "tags": []
   },
   "source": [
    "# noise level 5, metric: d_temp"
   ]
  },
  {
   "cell_type": "code",
   "execution_count": 1,
   "metadata": {},
   "outputs": [],
   "source": [
    "!bash ./Plot_Nonlinear_Analysis_Results.sh \"pgclustered_esn randomly_clustered_esn standard_esn paralleled_esn\" "
   ]
  },
  {
   "cell_type": "code",
   "execution_count": 2,
   "metadata": {},
   "outputs": [],
   "source": [
    "!bash ./Plot_F_Analysis_Results.sh \"pgclustered_esn randomly_clustered_esn standard_esn paralleled_esn\"    "
   ]
  },
  {
   "cell_type": "code",
   "execution_count": 7,
   "metadata": {},
   "outputs": [],
   "source": [
    "!bash ./Plot_F_Analysis_MLE.sh "
   ]
  },
  {
   "cell_type": "code",
   "execution_count": 11,
   "metadata": {},
   "outputs": [],
   "source": [
    "!bash ./Plot_Nonlinear_Analysis_MLE.sh "
   ]
  },
  {
   "cell_type": "code",
   "execution_count": 1,
   "metadata": {},
   "outputs": [],
   "source": [
    "!bash ./lorenz96_Plot_All_NRMSE_of_One_Model_size_for_F8_ALPHA1.sh \"plot_nrmse_over_all_model_with_size_fixed\" \"pgclustered_esn randomly_clustered_esn standard_esn\" \"grid_search.json\" 6 3000"
   ]
  },
  {
   "cell_type": "code",
   "execution_count": 10,
   "metadata": {},
   "outputs": [],
   "source": [
    "!bash ./Plot_Nonlinear_Analysis_and_icw_for_pgclusteredESN_Results_reservoir_size_3000.sh 3000"
   ]
  },
  {
   "cell_type": "code",
   "execution_count": 1,
   "metadata": {},
   "outputs": [],
   "source": [
    "!bash ./Plot_Nonlinear_Analysis_and_icw_for_pgclusteredESN_Results_reservoir_size_500.sh 500"
   ]
  },
  {
   "cell_type": "code",
   "execution_count": 1,
   "metadata": {},
   "outputs": [],
   "source": [
    "!bash ./Plot_Nonlinear_Analysis_and_icw_for_pgclusteredESN_Results_reservoir_size_1000.sh 1000"
   ]
  },
  {
   "cell_type": "code",
   "execution_count": 1,
   "metadata": {},
   "outputs": [],
   "source": [
    "!bash ./Plot_Nonlinear_Analysis_and_icw_for_pgclusteredESN_Results_reservoir_size_1000.sh 2000"
   ]
  },
  {
   "cell_type": "code",
   "execution_count": 2,
   "metadata": {},
   "outputs": [],
   "source": [
    "!bash ./lorenz96_Plot_All_NRMSE_of_One_Model_size_for_F32_ALPHA_1.sh \"plot_nrmse_over_all_model_with_size_fixed\" \"pgclustered_esn randomly_clustered_esn standard_esn\" \"grid_search_for_F.json\" 12 3000"
   ]
  },
  {
   "cell_type": "code",
   "execution_count": null,
   "metadata": {},
   "outputs": [],
   "source": []
  }
 ],
 "metadata": {
  "kernelspec": {
   "display_name": "base",
   "language": "python",
   "name": "python3"
  },
  "language_info": {
   "codemirror_mode": {
    "name": "ipython",
    "version": 3
   },
   "file_extension": ".py",
   "mimetype": "text/x-python",
   "name": "python",
   "nbconvert_exporter": "python",
   "pygments_lexer": "ipython3",
   "version": "3.11.8"
  }
 },
 "nbformat": 4,
 "nbformat_minor": 4
}
