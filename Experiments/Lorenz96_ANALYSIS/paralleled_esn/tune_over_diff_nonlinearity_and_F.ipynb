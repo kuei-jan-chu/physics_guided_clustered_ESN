{
 "cells": [
  {
   "cell_type": "markdown",
   "metadata": {},
   "source": [
    "# Over nonlinearity"
   ]
  },
  {
   "cell_type": "code",
   "execution_count": null,
   "metadata": {},
   "outputs": [
    {
     "name": "stdout",
     "output_type": "stream",
     "text": [
      "Grid Search Progress:   8%|▋        | 2/25 [09:23<1:46:26, 277.69s/trial, Current Best Loss=0.11575]/home/user/kuei_jan_CHU/PGClustered_ESN/Methods/./Utils/global_utils.py:256: RuntimeWarning: divide by zero encountered in log10\n",
      "  s_dbfs = 20 * np.log10(s_mag)\n",
      "Grid Search Progress: 100%|████████| 25/25 [1:46:15<00:00, 255.01s/trial, Current Best Loss=0.11357]\n",
      "{'radius': 0.4, 'sigma_input': 0.1}\n"
     ]
    }
   ],
   "source": [
    "!bash ./0_Paralleled_ESN_Tune.sh \"tune\" \"Lorenz96_F8_ALPHA1_DIM40\" 3000 1 1 1 \"grid_search.json\"    "
   ]
  },
  {
   "cell_type": "code",
   "execution_count": 1,
   "metadata": {},
   "outputs": [
    {
     "name": "stdout",
     "output_type": "stream",
     "text": [
      "{'radius': 0.9, 'sigma_input': 0.1}\n",
      "[tuf-4090:06426] shmem: mmap: an error occurred while determining whether or not /tmp/ompi.tuf-4090.1000/jf.0/1009123328/shared_mem_cuda_pool.tuf-4090 could be created.\n",
      "[tuf-4090:06426] create_and_attach: unable to create shared memory BTL coordinating structure :: size 134217728 \n",
      "AVERAGE RMNSE ERROR ON TRAIN DATA SET: 1.337289661104795 ± 0.005728382328326752\n",
      "AVG NUMBER OF ACCURATE 0.5 PREDICTIONS ON TRAIN DATA SET: 1.151671181972509 ± 0.061101525083563916\n",
      "AVG NUMBER OF ACCURATE 1 PREDICTIONS ON TRAIN DATA SET: 2.0769642499313377 ± 0.17856864103174808\n",
      "POWER SPECTRUM MEAN ERROR ON TRAIN DATA SET: 0.7301885170767283 ± 0.36751970508115334\n",
      "TEMPORAL DISTANCE ON TRAIN DATA SET: 0.1333487264964788 ± 0.0023531115842966984\n",
      "GEOMETRICAL DISTANCE ON TRAIN DATA SET: 12.31972549663098 ± 0.08817200231203849\n",
      "\n",
      "\n",
      "AVERAGE RMNSE ERROR ON TEST DATA SET: 1.3357391175034605 ± 0.004613591850820319\n",
      "AVG NUMBER OF ACCURATE 0.5 PREDICTIONS ON TEST DATA SET: 1.1295236592422686 ± 0.061486942165905605\n",
      "AVG NUMBER OF ACCURATE 1 PREDICTIONS ON TEST DATA SET: 2.063100915092561 ± 0.11463570990844973\n",
      "POWER SPECTRUM MEAN ERROR ON TEST DATA SET: 1.2555520711839212 ± 0.2752776375867299\n",
      "TEMPORAL DISTANCE ON TEST DATA SET: 0.13245700810093447 ± 0.0028188330701729284\n",
      "GEOMETRICAL DISTANCE ON TEST DATA SET: 12.356455678047984 ± 0.0745794836089375\n"
     ]
    }
   ],
   "source": [
    "!bash ./1_Paralleled_ESN_Evaluate_Tuned_Model.sh \"evaluate_tuned_model\" \"Lorenz96_F8_ALPHA1_DIM40\" 3000 1 1 1 \"grid_search.json\" "
   ]
  },
  {
   "cell_type": "code",
   "execution_count": 1,
   "metadata": {},
   "outputs": [
    {
     "name": "stdout",
     "output_type": "stream",
     "text": [
      "Grid Search Progress:   0%|                                               | 0/25 [00:00<?, ?trial/s][tuf-4090:240635] shmem: mmap: an error occurred while determining whether or not /tmp/ompi.tuf-4090.1000/jf.0/600375296/shared_mem_cuda_pool.tuf-4090 could be created.\n",
      "[tuf-4090:240635] create_and_attach: unable to create shared memory BTL coordinating structure :: size 134217728 \n",
      "Grid Search Progress: 100%|██████████| 25/25 [51:53<00:00, 124.54s/trial, Current Best Loss=0.12788]\n",
      "{'radius': 0.99, 'sigma_input': 0.1}\n"
     ]
    }
   ],
   "source": [
    "!bash ./0_Paralleled_ESN_Tune.sh \"tune\" \"Lorenz96_F8_ALPHA2_DIM40\" 3000 1 1 2 \"grid_search.json\"    "
   ]
  },
  {
   "cell_type": "code",
   "execution_count": 2,
   "metadata": {},
   "outputs": [
    {
     "name": "stdout",
     "output_type": "stream",
     "text": [
      "{'radius': 0.99, 'sigma_input': 0.1}\n",
      "[tuf-4090:06433] shmem: mmap: an error occurred while determining whether or not /tmp/ompi.tuf-4090.1000/jf.0/4058578944/shared_mem_cuda_pool.tuf-4090 could be created.\n",
      "[tuf-4090:06433] create_and_attach: unable to create shared memory BTL coordinating structure :: size 134217728 \n",
      "AVERAGE RMNSE ERROR ON TRAIN DATA SET: 1.4604942724406331 ± 0.02447171734924436\n",
      "AVG NUMBER OF ACCURATE 0.5 PREDICTIONS ON TRAIN DATA SET: 1.07540860183513 ± 0.07697829123423554\n",
      "AVG NUMBER OF ACCURATE 1 PREDICTIONS ON TRAIN DATA SET: 1.8533474693783785 ± 0.12282609468046779\n",
      "POWER SPECTRUM MEAN ERROR ON TRAIN DATA SET: 3.175570166791956 ± 0.5382440302328318\n",
      "TEMPORAL DISTANCE ON TRAIN DATA SET: 0.13563396222045054 ± 0.005836675880204372\n",
      "GEOMETRICAL DISTANCE ON TRAIN DATA SET: 12.951138891506677 ± 0.07729933481484329\n",
      "\n",
      "\n",
      "AVERAGE RMNSE ERROR ON TEST DATA SET: 1.4807348547426116 ± 0.06286950132156952\n",
      "AVG NUMBER OF ACCURATE 0.5 PREDICTIONS ON TEST DATA SET: 1.0738772261116196 ± 0.03990585609064751\n",
      "AVG NUMBER OF ACCURATE 1 PREDICTIONS ON TEST DATA SET: 1.8678955387517262 ± 0.10688752985600553\n",
      "POWER SPECTRUM MEAN ERROR ON TEST DATA SET: 2.0926887904352593 ± 0.48628659230050586\n",
      "TEMPORAL DISTANCE ON TEST DATA SET: 0.13820635517664387 ± 0.011188698794655378\n",
      "GEOMETRICAL DISTANCE ON TEST DATA SET: 12.879807531535334 ± 0.2397397696009803\n"
     ]
    }
   ],
   "source": [
    "!bash ./1_Paralleled_ESN_Evaluate_Tuned_Model.sh \"evaluate_tuned_model\" \"Lorenz96_F8_ALPHA2_DIM40\" 3000 1 1 2 \"grid_search.json\" "
   ]
  },
  {
   "cell_type": "code",
   "execution_count": 3,
   "metadata": {},
   "outputs": [
    {
     "name": "stdout",
     "output_type": "stream",
     "text": [
      "Grid Search Progress:   0%|                                               | 0/25 [00:00<?, ?trial/s][tuf-4090:255182] shmem: mmap: an error occurred while determining whether or not /tmp/ompi.tuf-4090.1000/jf.0/2913796096/shared_mem_cuda_pool.tuf-4090 could be created.\n",
      "[tuf-4090:255182] create_and_attach: unable to create shared memory BTL coordinating structure :: size 134217728 \n",
      "Grid Search Progress: 100%|██████████| 25/25 [51:42<00:00, 124.08s/trial, Current Best Loss=0.12861]\n",
      "{'radius': 0.99, 'sigma_input': 0.1}\n"
     ]
    }
   ],
   "source": [
    "!bash ./0_Paralleled_ESN_Tune.sh \"tune\" \"Lorenz96_F8_ALPHA3_DIM40\" 3000 1 1 3 \"grid_search.json\" "
   ]
  },
  {
   "cell_type": "code",
   "execution_count": 3,
   "metadata": {},
   "outputs": [
    {
     "name": "stdout",
     "output_type": "stream",
     "text": [
      "{'radius': 0.99, 'sigma_input': 0.1}\n",
      "[tuf-4090:06440] shmem: mmap: an error occurred while determining whether or not /tmp/ompi.tuf-4090.1000/jf.0/1533083648/shared_mem_cuda_pool.tuf-4090 could be created.\n",
      "[tuf-4090:06440] create_and_attach: unable to create shared memory BTL coordinating structure :: size 134217728 \n",
      "/home/user/anaconda3/lib/python3.11/site-packages/numpy/core/_methods.py:236: RuntimeWarning: invalid value encountered in subtract\n",
      "  x = asanyarray(arr - arrmean)\n",
      "AVERAGE RMNSE ERROR ON TRAIN DATA SET: 1.753570611001663 ± 0.29616723036397163\n",
      "AVG NUMBER OF ACCURATE 0.5 PREDICTIONS ON TRAIN DATA SET: 1.2043774121350486 ± 0.03836449244329314\n",
      "AVG NUMBER OF ACCURATE 1 PREDICTIONS ON TRAIN DATA SET: 2.112266921699994 ± 0.12045651992855569\n",
      "POWER SPECTRUM MEAN ERROR ON TRAIN DATA SET: 3.0243698387309523 ± 0.7310606874207596\n",
      "TEMPORAL DISTANCE ON TRAIN DATA SET: 0.14575234669198558 ± 0.0186245132976048\n",
      "GEOMETRICAL DISTANCE ON TRAIN DATA SET: inf ± nan\n",
      "\n",
      "\n",
      "AVERAGE RMNSE ERROR ON TEST DATA SET: 1.8138279790777165 ± 0.323887920561865\n",
      "AVG NUMBER OF ACCURATE 0.5 PREDICTIONS ON TEST DATA SET: 1.1814847492247396 ± 0.07595305845430252\n",
      "AVG NUMBER OF ACCURATE 1 PREDICTIONS ON TEST DATA SET: 1.9760276595020572 ± 0.15644877952475134\n",
      "POWER SPECTRUM MEAN ERROR ON TEST DATA SET: 2.7419922588994954 ± 0.39905876894080583\n",
      "TEMPORAL DISTANCE ON TEST DATA SET: 0.15144670651425612 ± 0.01333817644979047\n",
      "GEOMETRICAL DISTANCE ON TEST DATA SET: inf ± nan\n"
     ]
    }
   ],
   "source": [
    "!bash ./1_Paralleled_ESN_Evaluate_Tuned_Model.sh \"evaluate_tuned_model\" \"Lorenz96_F8_ALPHA3_DIM40\" 3000 1 1 3 \"grid_search.json\" "
   ]
  },
  {
   "cell_type": "code",
   "execution_count": 5,
   "metadata": {},
   "outputs": [
    {
     "name": "stdout",
     "output_type": "stream",
     "text": [
      "Grid Search Progress:   0%|                                               | 0/25 [00:00<?, ?trial/s][tuf-4090:269183] shmem: mmap: an error occurred while determining whether or not /tmp/ompi.tuf-4090.1000/jf.0/1024589824/shared_mem_cuda_pool.tuf-4090 could be created.\n",
      "[tuf-4090:269183] create_and_attach: unable to create shared memory BTL coordinating structure :: size 134217728 \n",
      "Grid Search Progress: 100%|██████████| 25/25 [51:35<00:00, 123.81s/trial, Current Best Loss=0.14978]\n",
      "{'radius': 0.1, 'sigma_input': 0.5}\n"
     ]
    }
   ],
   "source": [
    "!bash ./0_Paralleled_ESN_Tune.sh \"tune\" \"Lorenz96_F8_ALPHA4_DIM40\" 3000 1 1 4 \"grid_search.json\" "
   ]
  },
  {
   "cell_type": "code",
   "execution_count": 4,
   "metadata": {},
   "outputs": [
    {
     "name": "stdout",
     "output_type": "stream",
     "text": [
      "{'radius': 0.1, 'sigma_input': 0.5}\n",
      "[tuf-4090:06447] shmem: mmap: an error occurred while determining whether or not /tmp/ompi.tuf-4090.1000/jf.0/1717698560/shared_mem_cuda_pool.tuf-4090 could be created.\n",
      "[tuf-4090:06447] create_and_attach: unable to create shared memory BTL coordinating structure :: size 134217728 \n",
      "/home/user/anaconda3/lib/python3.11/site-packages/numpy/core/_methods.py:236: RuntimeWarning: invalid value encountered in subtract\n",
      "  x = asanyarray(arr - arrmean)\n",
      "AVERAGE RMNSE ERROR ON TRAIN DATA SET: 1.5113244313996081 ± 0.04432922740085556\n",
      "AVG NUMBER OF ACCURATE 0.5 PREDICTIONS ON TRAIN DATA SET: 0.6666562973254393 ± 0.04140614422168784\n",
      "AVG NUMBER OF ACCURATE 1 PREDICTIONS ON TRAIN DATA SET: 1.3220252922623 ± 0.08179644505425732\n",
      "POWER SPECTRUM MEAN ERROR ON TRAIN DATA SET: 1.580761039127288 ± 0.3591687575899808\n",
      "TEMPORAL DISTANCE ON TRAIN DATA SET: 0.14272394034692787 ± 0.019541554631276936\n",
      "GEOMETRICAL DISTANCE ON TRAIN DATA SET: inf ± nan\n",
      "\n",
      "\n",
      "AVERAGE RMNSE ERROR ON TEST DATA SET: 1.5138986835140067 ± 0.06471480898066106\n",
      "AVG NUMBER OF ACCURATE 0.5 PREDICTIONS ON TEST DATA SET: 0.7774129520133696 ± 0.034241897303278084\n",
      "AVG NUMBER OF ACCURATE 1 PREDICTIONS ON TEST DATA SET: 1.488513002493838 ± 0.03772708008182355\n",
      "POWER SPECTRUM MEAN ERROR ON TEST DATA SET: 1.5046325139160683 ± 0.5946001731069448\n",
      "TEMPORAL DISTANCE ON TEST DATA SET: 0.14784631371573423 ± 0.026515161983798302\n",
      "GEOMETRICAL DISTANCE ON TEST DATA SET: inf ± nan\n"
     ]
    }
   ],
   "source": [
    "!bash ./1_Paralleled_ESN_Evaluate_Tuned_Model.sh \"evaluate_tuned_model\" \"Lorenz96_F8_ALPHA4_DIM40\" 3000 1 1 4 \"grid_search.json\" "
   ]
  },
  {
   "cell_type": "code",
   "execution_count": 7,
   "metadata": {},
   "outputs": [
    {
     "name": "stdout",
     "output_type": "stream",
     "text": [
      "Grid Search Progress:   0%|                                               | 0/25 [00:00<?, ?trial/s][tuf-4090:283109] shmem: mmap: an error occurred while determining whether or not /tmp/ompi.tuf-4090.1000/jf.0/2900688896/shared_mem_cuda_pool.tuf-4090 could be created.\n",
      "[tuf-4090:283109] create_and_attach: unable to create shared memory BTL coordinating structure :: size 134217728 \n",
      "Grid Search Progress: 100%|██████████| 25/25 [51:44<00:00, 124.18s/trial, Current Best Loss=0.13770]\n",
      "{'radius': 0.1, 'sigma_input': 0.5}\n"
     ]
    }
   ],
   "source": [
    "!bash ./0_Paralleled_ESN_Tune.sh \"tune\" \"Lorenz96_F8_ALPHA5_DIM40\" 3000 1 1 5 \"grid_search.json\" "
   ]
  },
  {
   "cell_type": "code",
   "execution_count": 5,
   "metadata": {},
   "outputs": [
    {
     "name": "stdout",
     "output_type": "stream",
     "text": [
      "{'radius': 0.1, 'sigma_input': 0.5}\n",
      "[tuf-4090:06455] shmem: mmap: an error occurred while determining whether or not /tmp/ompi.tuf-4090.1000/jf.0/4233756672/shared_mem_cuda_pool.tuf-4090 could be created.\n",
      "[tuf-4090:06455] create_and_attach: unable to create shared memory BTL coordinating structure :: size 134217728 \n",
      "AVERAGE RMNSE ERROR ON TRAIN DATA SET: 1.4909284338338755 ± 0.046815102690299\n",
      "AVG NUMBER OF ACCURATE 0.5 PREDICTIONS ON TRAIN DATA SET: 0.6749381274961358 ± 0.061482610376572676\n",
      "AVG NUMBER OF ACCURATE 1 PREDICTIONS ON TRAIN DATA SET: 1.41031847536506 ± 0.09195990978854013\n",
      "POWER SPECTRUM MEAN ERROR ON TRAIN DATA SET: 1.1322715698282824 ± 0.16581191544115556\n",
      "TEMPORAL DISTANCE ON TRAIN DATA SET: 0.12474952788261054 ± 0.009554591476948449\n",
      "GEOMETRICAL DISTANCE ON TRAIN DATA SET: 14.324672342829704 ± 3.348619167078846\n",
      "\n",
      "\n",
      "AVERAGE RMNSE ERROR ON TEST DATA SET: 1.4868038680680287 ± 0.026261976026174316\n",
      "AVG NUMBER OF ACCURATE 0.5 PREDICTIONS ON TEST DATA SET: 0.782390963714426 ± 0.04277206888612148\n",
      "AVG NUMBER OF ACCURATE 1 PREDICTIONS ON TEST DATA SET: 1.4648843687571604 ± 0.09991166650380161\n",
      "POWER SPECTRUM MEAN ERROR ON TEST DATA SET: 1.5604240067622235 ± 0.3551921313698979\n",
      "TEMPORAL DISTANCE ON TEST DATA SET: 0.12310423320280676 ± 0.007996562557115209\n",
      "GEOMETRICAL DISTANCE ON TEST DATA SET: 13.947771950008734 ± 1.9736256788234405\n"
     ]
    }
   ],
   "source": [
    "!bash ./1_Paralleled_ESN_Evaluate_Tuned_Model.sh \"evaluate_tuned_model\" \"Lorenz96_F8_ALPHA5_DIM40\" 3000 1 1 5 \"grid_search.json\" "
   ]
  },
  {
   "cell_type": "code",
   "execution_count": 9,
   "metadata": {},
   "outputs": [
    {
     "name": "stdout",
     "output_type": "stream",
     "text": [
      "Grid Search Progress:   0%|                                               | 0/25 [00:00<?, ?trial/s][tuf-4090:297055] shmem: mmap: an error occurred while determining whether or not /tmp/ompi.tuf-4090.1000/jf.0/2919563264/shared_mem_cuda_pool.tuf-4090 could be created.\n",
      "[tuf-4090:297055] create_and_attach: unable to create shared memory BTL coordinating structure :: size 134217728 \n",
      "Grid Search Progress: 100%|██████████| 25/25 [51:40<00:00, 124.01s/trial, Current Best Loss=0.13995]\n",
      "{'radius': 0.1, 'sigma_input': 0.5}\n"
     ]
    }
   ],
   "source": [
    "!bash ./0_Paralleled_ESN_Tune.sh \"tune\" \"Lorenz96_F8_ALPHA6_DIM40\" 3000 1 1 6 \"grid_search.json\" "
   ]
  },
  {
   "cell_type": "code",
   "execution_count": 6,
   "metadata": {},
   "outputs": [
    {
     "name": "stdout",
     "output_type": "stream",
     "text": [
      "{'radius': 0.1, 'sigma_input': 0.5}\n",
      "[tuf-4090:06462] shmem: mmap: an error occurred while determining whether or not /tmp/ompi.tuf-4090.1000/jf.0/2460549120/shared_mem_cuda_pool.tuf-4090 could be created.\n",
      "[tuf-4090:06462] create_and_attach: unable to create shared memory BTL coordinating structure :: size 134217728 \n",
      "AVERAGE RMNSE ERROR ON TRAIN DATA SET: 1.4730837748450705 ± 0.0028636290775833975\n",
      "AVG NUMBER OF ACCURATE 0.5 PREDICTIONS ON TRAIN DATA SET: 0.7352273894672813 ± 0.04961452627322308\n",
      "AVG NUMBER OF ACCURATE 1 PREDICTIONS ON TRAIN DATA SET: 1.5752126684142147 ± 0.08372449153851141\n",
      "POWER SPECTRUM MEAN ERROR ON TRAIN DATA SET: 1.6467849392835714 ± 0.1774324678068171\n",
      "TEMPORAL DISTANCE ON TRAIN DATA SET: 0.12183959942557672 ± 0.002090723535869178\n",
      "GEOMETRICAL DISTANCE ON TRAIN DATA SET: 12.870684914983647 ± 0.08829212763021617\n",
      "\n",
      "\n",
      "AVERAGE RMNSE ERROR ON TEST DATA SET: 1.474747084785665 ± 0.002233824773401552\n",
      "AVG NUMBER OF ACCURATE 0.5 PREDICTIONS ON TEST DATA SET: 0.8025030983074247 ± 0.04980034911944046\n",
      "AVG NUMBER OF ACCURATE 1 PREDICTIONS ON TEST DATA SET: 1.578095913078792 ± 0.07227946722819838\n",
      "POWER SPECTRUM MEAN ERROR ON TEST DATA SET: 1.3521476012142917 ± 0.25228950698182756\n",
      "TEMPORAL DISTANCE ON TEST DATA SET: 0.12372348949703812 ± 0.002532871738221283\n",
      "GEOMETRICAL DISTANCE ON TEST DATA SET: 12.917478895903344 ± 0.060117736254055046\n"
     ]
    }
   ],
   "source": [
    "!bash ./1_Paralleled_ESN_Evaluate_Tuned_Model.sh \"evaluate_tuned_model\" \"Lorenz96_F8_ALPHA6_DIM40\" 3000 1 1 6 \"grid_search.json\" "
   ]
  },
  {
   "cell_type": "code",
   "execution_count": 11,
   "metadata": {},
   "outputs": [
    {
     "name": "stdout",
     "output_type": "stream",
     "text": [
      "Grid Search Progress:   0%|                                               | 0/25 [00:00<?, ?trial/s][tuf-4090:311059] shmem: mmap: an error occurred while determining whether or not /tmp/ompi.tuf-4090.1000/jf.0/3828875264/shared_mem_cuda_pool.tuf-4090 could be created.\n",
      "[tuf-4090:311059] create_and_attach: unable to create shared memory BTL coordinating structure :: size 134217728 \n",
      "Grid Search Progress: 100%|██████████| 25/25 [51:30<00:00, 123.60s/trial, Current Best Loss=0.14447]\n",
      "{'radius': 0.1, 'sigma_input': 0.5}\n"
     ]
    }
   ],
   "source": [
    "!bash ./0_Paralleled_ESN_Tune.sh \"tune\" \"Lorenz96_F8_ALPHA7_DIM40\" 3000 1 1 7 \"grid_search.json\" "
   ]
  },
  {
   "cell_type": "code",
   "execution_count": 7,
   "metadata": {},
   "outputs": [
    {
     "name": "stdout",
     "output_type": "stream",
     "text": [
      "{'radius': 0.1, 'sigma_input': 0.5}\n",
      "[tuf-4090:06469] shmem: mmap: an error occurred while determining whether or not /tmp/ompi.tuf-4090.1000/jf.0/3645571072/shared_mem_cuda_pool.tuf-4090 could be created.\n",
      "[tuf-4090:06469] create_and_attach: unable to create shared memory BTL coordinating structure :: size 134217728 \n",
      "AVERAGE RMNSE ERROR ON TRAIN DATA SET: 1.4687453661456575 ± 0.0020806773987684323\n",
      "AVG NUMBER OF ACCURATE 0.5 PREDICTIONS ON TRAIN DATA SET: 0.7849686316507973 ± 0.06375388207601387\n",
      "AVG NUMBER OF ACCURATE 1 PREDICTIONS ON TRAIN DATA SET: 1.512789821711633 ± 0.10465727549359176\n",
      "POWER SPECTRUM MEAN ERROR ON TRAIN DATA SET: 1.4380421068829403 ± 0.13433803140785483\n",
      "TEMPORAL DISTANCE ON TRAIN DATA SET: 0.13140736381093504 ± 0.001555191866143673\n",
      "GEOMETRICAL DISTANCE ON TRAIN DATA SET: 12.522306473791826 ± 0.05949396610138417\n",
      "\n",
      "\n",
      "AVERAGE RMNSE ERROR ON TEST DATA SET: 1.4701907938927525 ± 0.0016728131318876217\n",
      "AVG NUMBER OF ACCURATE 0.5 PREDICTIONS ON TEST DATA SET: 0.7159604002968811 ± 0.026057176000181894\n",
      "AVG NUMBER OF ACCURATE 1 PREDICTIONS ON TEST DATA SET: 1.4599553945812906 ± 0.07040921799557902\n",
      "POWER SPECTRUM MEAN ERROR ON TEST DATA SET: 1.3533519044843723 ± 0.16653309265826938\n",
      "TEMPORAL DISTANCE ON TEST DATA SET: 0.13304308039008067 ± 0.0017776497583329863\n",
      "GEOMETRICAL DISTANCE ON TEST DATA SET: 12.585446897409977 ± 0.0465307844137766\n"
     ]
    }
   ],
   "source": [
    "!bash ./1_Paralleled_ESN_Evaluate_Tuned_Model.sh \"evaluate_tuned_model\" \"Lorenz96_F8_ALPHA7_DIM40\" 3000 1 1 7 \"grid_search.json\" "
   ]
  },
  {
   "cell_type": "code",
   "execution_count": 13,
   "metadata": {},
   "outputs": [
    {
     "name": "stdout",
     "output_type": "stream",
     "text": [
      "Grid Search Progress:   0%|                                               | 0/25 [00:00<?, ?trial/s][tuf-4090:325008] shmem: mmap: an error occurred while determining whether or not /tmp/ompi.tuf-4090.1000/jf.0/1933508608/shared_mem_cuda_pool.tuf-4090 could be created.\n",
      "[tuf-4090:325008] create_and_attach: unable to create shared memory BTL coordinating structure :: size 134217728 \n",
      "Grid Search Progress: 100%|██████████| 25/25 [51:38<00:00, 123.96s/trial, Current Best Loss=0.15916]\n",
      "{'radius': 0.1, 'sigma_input': 0.5}\n"
     ]
    }
   ],
   "source": [
    "!bash ./0_Paralleled_ESN_Tune.sh \"tune\" \"Lorenz96_F8_ALPHA8_DIM40\" 3000 1 1 8 \"grid_search.json\" "
   ]
  },
  {
   "cell_type": "code",
   "execution_count": 8,
   "metadata": {},
   "outputs": [
    {
     "name": "stdout",
     "output_type": "stream",
     "text": [
      "{'radius': 0.1, 'sigma_input': 0.5}\n",
      "[tuf-4090:06476] shmem: mmap: an error occurred while determining whether or not /tmp/ompi.tuf-4090.1000/jf.0/3889889280/shared_mem_cuda_pool.tuf-4090 could be created.\n",
      "[tuf-4090:06476] create_and_attach: unable to create shared memory BTL coordinating structure :: size 134217728 \n",
      "AVERAGE RMNSE ERROR ON TRAIN DATA SET: 1.4663720101063276 ± 0.00249547043152629\n",
      "AVG NUMBER OF ACCURATE 0.5 PREDICTIONS ON TRAIN DATA SET: 0.8007251249828935 ± 0.041550951206600066\n",
      "AVG NUMBER OF ACCURATE 1 PREDICTIONS ON TRAIN DATA SET: 1.5704698135825204 ± 0.10412311272764847\n",
      "POWER SPECTRUM MEAN ERROR ON TRAIN DATA SET: 1.362015229191739 ± 0.1513618459370705\n",
      "TEMPORAL DISTANCE ON TRAIN DATA SET: 0.14666464694253212 ± 0.0011066311629780218\n",
      "GEOMETRICAL DISTANCE ON TRAIN DATA SET: 12.23239657920607 ± 0.04336523923296585\n",
      "\n",
      "\n",
      "AVERAGE RMNSE ERROR ON TEST DATA SET: 1.4653047708669573 ± 0.0016214350780216326\n",
      "AVG NUMBER OF ACCURATE 0.5 PREDICTIONS ON TEST DATA SET: 0.7828517963002397 ± 0.053567001859084716\n",
      "AVG NUMBER OF ACCURATE 1 PREDICTIONS ON TEST DATA SET: 1.4942102778698638 ± 0.07445075176057091\n",
      "POWER SPECTRUM MEAN ERROR ON TEST DATA SET: 1.3337875818757206 ± 0.17034151329344557\n",
      "TEMPORAL DISTANCE ON TEST DATA SET: 0.1461816712112237 ± 0.0017790119785904483\n",
      "GEOMETRICAL DISTANCE ON TEST DATA SET: 12.18922963159714 ± 0.06559025047808752\n"
     ]
    }
   ],
   "source": [
    "!bash ./1_Paralleled_ESN_Evaluate_Tuned_Model.sh \"evaluate_tuned_model\" \"Lorenz96_F8_ALPHA8_DIM40\" 3000 1 1 8 \"grid_search.json\" "
   ]
  },
  {
   "cell_type": "code",
   "execution_count": 15,
   "metadata": {
    "editable": true,
    "slideshow": {
     "slide_type": ""
    },
    "tags": []
   },
   "outputs": [
    {
     "name": "stdout",
     "output_type": "stream",
     "text": [
      "Grid Search Progress:   0%|                                               | 0/25 [00:00<?, ?trial/s][tuf-4090:338937] shmem: mmap: an error occurred while determining whether or not /tmp/ompi.tuf-4090.1000/jf.0/147062784/shared_mem_cuda_pool.tuf-4090 could be created.\n",
      "[tuf-4090:338937] create_and_attach: unable to create shared memory BTL coordinating structure :: size 134217728 \n",
      "Grid Search Progress: 100%|██████████| 25/25 [51:43<00:00, 124.14s/trial, Current Best Loss=0.17432]\n",
      "{'radius': 0.1, 'sigma_input': 0.5}\n"
     ]
    }
   ],
   "source": [
    "!bash ./0_Paralleled_ESN_Tune.sh \"tune\" \"Lorenz96_F8_ALPHA9_DIM40\" 3000 1 1 9 \"grid_search.json\" "
   ]
  },
  {
   "cell_type": "code",
   "execution_count": 9,
   "metadata": {},
   "outputs": [
    {
     "name": "stdout",
     "output_type": "stream",
     "text": [
      "{'radius': 0.1, 'sigma_input': 0.5}\n",
      "[tuf-4090:06483] shmem: mmap: an error occurred while determining whether or not /tmp/ompi.tuf-4090.1000/jf.0/164102144/shared_mem_cuda_pool.tuf-4090 could be created.\n",
      "[tuf-4090:06483] create_and_attach: unable to create shared memory BTL coordinating structure :: size 134217728 \n",
      "AVERAGE RMNSE ERROR ON TRAIN DATA SET: 1.4616310904487744 ± 0.0016585647114644448\n",
      "AVG NUMBER OF ACCURATE 0.5 PREDICTIONS ON TRAIN DATA SET: 0.8015363003419452 ± 0.04312194285510757\n",
      "AVG NUMBER OF ACCURATE 1 PREDICTIONS ON TRAIN DATA SET: 1.539623038944383 ± 0.08178328761090628\n",
      "POWER SPECTRUM MEAN ERROR ON TRAIN DATA SET: 1.4255465494750124 ± 0.08784160284927174\n",
      "TEMPORAL DISTANCE ON TRAIN DATA SET: 0.16475902807073176 ± 0.0004279269955642954\n",
      "GEOMETRICAL DISTANCE ON TRAIN DATA SET: 11.98455617346249 ± 0.05595196075320294\n",
      "\n",
      "\n",
      "AVERAGE RMNSE ERROR ON TEST DATA SET: 1.4601485754593428 ± 0.0011234548776708109\n",
      "AVG NUMBER OF ACCURATE 0.5 PREDICTIONS ON TEST DATA SET: 0.7730487420099215 ± 0.04983220172179994\n",
      "AVG NUMBER OF ACCURATE 1 PREDICTIONS ON TEST DATA SET: 1.539623038944383 ± 0.06984002839439442\n",
      "POWER SPECTRUM MEAN ERROR ON TEST DATA SET: 1.4403101811676948 ± 0.14787343350927545\n",
      "TEMPORAL DISTANCE ON TEST DATA SET: 0.1659999450742648 ± 0.0013729602494760198\n",
      "GEOMETRICAL DISTANCE ON TEST DATA SET: 11.904154939926997 ± 0.08193974090106049\n"
     ]
    }
   ],
   "source": [
    "!bash ./1_Paralleled_ESN_Evaluate_Tuned_Model.sh \"evaluate_tuned_model\" \"Lorenz96_F8_ALPHA9_DIM40\" 3000 1 1 9 \"grid_search.json\" "
   ]
  },
  {
   "cell_type": "code",
   "execution_count": 17,
   "metadata": {
    "editable": true,
    "slideshow": {
     "slide_type": ""
    },
    "tags": []
   },
   "outputs": [
    {
     "name": "stdout",
     "output_type": "stream",
     "text": [
      "Grid Search Progress:   0%|                                               | 0/25 [00:00<?, ?trial/s][tuf-4090:352897] shmem: mmap: an error occurred while determining whether or not /tmp/ompi.tuf-4090.1000/jf.0/4189716480/shared_mem_cuda_pool.tuf-4090 could be created.\n",
      "[tuf-4090:352897] create_and_attach: unable to create shared memory BTL coordinating structure :: size 134217728 \n",
      "Grid Search Progress: 100%|██████████| 25/25 [51:36<00:00, 123.87s/trial, Current Best Loss=0.19261]\n",
      "{'radius': 0.4, 'sigma_input': 0.5}\n"
     ]
    }
   ],
   "source": [
    "!bash ./0_Paralleled_ESN_Tune.sh \"tune\" \"Lorenz96_F8_ALPHA10_DIM40\" 3000 1 1 10 \"grid_search.json\" "
   ]
  },
  {
   "cell_type": "code",
   "execution_count": 10,
   "metadata": {},
   "outputs": [
    {
     "name": "stdout",
     "output_type": "stream",
     "text": [
      "{'radius': 0.4, 'sigma_input': 0.5}\n",
      "[tuf-4090:06490] shmem: mmap: an error occurred while determining whether or not /tmp/ompi.tuf-4090.1000/jf.0/830668800/shared_mem_cuda_pool.tuf-4090 could be created.\n",
      "[tuf-4090:06490] create_and_attach: unable to create shared memory BTL coordinating structure :: size 134217728 \n",
      "AVERAGE RMNSE ERROR ON TRAIN DATA SET: 1.4579408875895392 ± 0.0019206702023918183\n",
      "AVG NUMBER OF ACCURATE 0.5 PREDICTIONS ON TRAIN DATA SET: 0.8288510628049691 ± 0.07637852293428378\n",
      "AVG NUMBER OF ACCURATE 1 PREDICTIONS ON TRAIN DATA SET: 1.6549019531004618 ± 0.12752318869829973\n",
      "POWER SPECTRUM MEAN ERROR ON TRAIN DATA SET: 1.5265473673841163 ± 0.08035679184400116\n",
      "TEMPORAL DISTANCE ON TRAIN DATA SET: 0.1853669732482901 ± 0.0007830604774687273\n",
      "GEOMETRICAL DISTANCE ON TRAIN DATA SET: 11.779888525972208 ± 0.06862390819304298\n",
      "\n",
      "\n",
      "AVERAGE RMNSE ERROR ON TEST DATA SET: 1.4593540954415496 ± 0.0015162317588042194\n",
      "AVG NUMBER OF ACCURATE 0.5 PREDICTIONS ON TEST DATA SET: 0.7378454562469912 ± 0.04155686200548035\n",
      "AVG NUMBER OF ACCURATE 1 PREDICTIONS ON TEST DATA SET: 1.475690912493982 ± 0.06977993936250773\n",
      "POWER SPECTRUM MEAN ERROR ON TEST DATA SET: 1.5110830670212603 ± 0.10579440708148254\n",
      "TEMPORAL DISTANCE ON TEST DATA SET: 0.1860368038937485 ± 0.0005715121841434043\n",
      "GEOMETRICAL DISTANCE ON TEST DATA SET: 11.849984500324137 ± 0.04459338332050021\n"
     ]
    }
   ],
   "source": [
    "!bash ./1_Paralleled_ESN_Evaluate_Tuned_Model.sh \"evaluate_tuned_model\" \"Lorenz96_F8_ALPHA10_DIM40\" 3000 1 1 10 \"grid_search.json\" "
   ]
  },
  {
   "cell_type": "markdown",
   "metadata": {},
   "source": [
    "# Over F"
   ]
  },
  {
   "cell_type": "code",
   "execution_count": 11,
   "metadata": {},
   "outputs": [
    {
     "name": "stdout",
     "output_type": "stream",
     "text": [
      "{'radius': 0.9, 'sigma_input': 0.1}\n",
      "[tuf-4090:06501] shmem: mmap: an error occurred while determining whether or not /tmp/ompi.tuf-4090.1000/jf.0/821100544/shared_mem_cuda_pool.tuf-4090 could be created.\n",
      "[tuf-4090:06501] create_and_attach: unable to create shared memory BTL coordinating structure :: size 134217728 \n",
      "AVERAGE RMNSE ERROR ON TRAIN DATA SET: 1.337289661104795 ± 0.005728382328326752\n",
      "AVG NUMBER OF ACCURATE 0.5 PREDICTIONS ON TRAIN DATA SET: 1.151671181972509 ± 0.061101525083563916\n",
      "AVG NUMBER OF ACCURATE 1 PREDICTIONS ON TRAIN DATA SET: 2.0769642499313377 ± 0.17856864103174808\n",
      "POWER SPECTRUM MEAN ERROR ON TRAIN DATA SET: 0.7301885170767283 ± 0.36751970508115334\n",
      "TEMPORAL DISTANCE ON TRAIN DATA SET: 0.1333487264964788 ± 0.0023531115842966984\n",
      "GEOMETRICAL DISTANCE ON TRAIN DATA SET: 12.31972549663098 ± 0.08817200231203849\n",
      "\n",
      "\n",
      "AVERAGE RMNSE ERROR ON TEST DATA SET: 1.3357391175034605 ± 0.004613591850820319\n",
      "AVG NUMBER OF ACCURATE 0.5 PREDICTIONS ON TEST DATA SET: 1.1295236592422686 ± 0.061486942165905605\n",
      "AVG NUMBER OF ACCURATE 1 PREDICTIONS ON TEST DATA SET: 2.063100915092561 ± 0.11463570990844973\n",
      "POWER SPECTRUM MEAN ERROR ON TEST DATA SET: 1.2555520711839212 ± 0.2752776375867299\n",
      "TEMPORAL DISTANCE ON TEST DATA SET: 0.13245700810093447 ± 0.0028188330701729284\n",
      "GEOMETRICAL DISTANCE ON TEST DATA SET: 12.356455678047984 ± 0.0745794836089375\n"
     ]
    }
   ],
   "source": [
    "!bash ./1_Paralleled_ESN_Evaluate_Tuned_Model.sh \"evaluate_tuned_model\"  \"Lorenz96_F8_ALPHA1_DIM40\" 3000 1 1 1 \"grid_search_for_F.json\" "
   ]
  },
  {
   "cell_type": "code",
   "execution_count": 19,
   "metadata": {},
   "outputs": [
    {
     "name": "stdout",
     "output_type": "stream",
     "text": [
      "Grid Search Progress:   0%|                                               | 0/25 [00:00<?, ?trial/s][tuf-4090:366819] shmem: mmap: an error occurred while determining whether or not /tmp/ompi.tuf-4090.1000/jf.0/3885694976/shared_mem_cuda_pool.tuf-4090 could be created.\n",
      "[tuf-4090:366819] create_and_attach: unable to create shared memory BTL coordinating structure :: size 134217728 \n",
      "Grid Search Progress: 100%|██████████| 25/25 [51:45<00:00, 124.21s/trial, Current Best Loss=0.13859]\n",
      "{'radius': 0.9, 'sigma_input': 0.1}\n"
     ]
    }
   ],
   "source": [
    "!bash ./0_Paralleled_ESN_Tune.sh \"tune\" \"Lorenz96_F12_ALPHA1_DIM40\" 3000 1 1 2 \"grid_search_for_F.json\" "
   ]
  },
  {
   "cell_type": "code",
   "execution_count": 12,
   "metadata": {},
   "outputs": [
    {
     "name": "stdout",
     "output_type": "stream",
     "text": [
      "{'radius': 0.9, 'sigma_input': 0.1}\n",
      "[tuf-4090:06508] shmem: mmap: an error occurred while determining whether or not /tmp/ompi.tuf-4090.1000/jf.0/2336358400/shared_mem_cuda_pool.tuf-4090 could be created.\n",
      "[tuf-4090:06508] create_and_attach: unable to create shared memory BTL coordinating structure :: size 134217728 \n",
      "AVERAGE RMNSE ERROR ON TRAIN DATA SET: 1.3170788013218122 ± 0.0032120092495221356\n",
      "AVG NUMBER OF ACCURATE 0.5 PREDICTIONS ON TRAIN DATA SET: 1.2960389404553627 ± 0.06689266481979908\n",
      "AVG NUMBER OF ACCURATE 1 PREDICTIONS ON TRAIN DATA SET: 2.2133856799946594 ± 0.10291803139674603\n",
      "POWER SPECTRUM MEAN ERROR ON TRAIN DATA SET: 1.2650261308751598 ± 0.4189199260883026\n",
      "TEMPORAL DISTANCE ON TRAIN DATA SET: 0.12337443046586512 ± 0.0021448520860585575\n",
      "GEOMETRICAL DISTANCE ON TRAIN DATA SET: 11.84749527690076 ± 0.05728966471041729\n",
      "\n",
      "\n",
      "AVERAGE RMNSE ERROR ON TEST DATA SET: 1.3193859011471663 ± 0.00366794941868272\n",
      "AVG NUMBER OF ACCURATE 0.5 PREDICTIONS ON TEST DATA SET: 1.2636451337153811 ± 0.0650155344908866\n",
      "AVG NUMBER OF ACCURATE 1 PREDICTIONS ON TEST DATA SET: 2.284193381452849 ± 0.13011699316166236\n",
      "POWER SPECTRUM MEAN ERROR ON TEST DATA SET: 0.7865297874748445 ± 0.2910667073738336\n",
      "TEMPORAL DISTANCE ON TEST DATA SET: 0.12474403807352392 ± 0.001917546701699314\n",
      "GEOMETRICAL DISTANCE ON TEST DATA SET: 11.899238938262688 ± 0.05613895404573405\n"
     ]
    }
   ],
   "source": [
    "!bash ./1_Paralleled_ESN_Evaluate_Tuned_Model.sh \"evaluate_tuned_model\" \"Lorenz96_F12_ALPHA1_DIM40\" 3000 1 1 2 \"grid_search_for_F.json\" "
   ]
  },
  {
   "cell_type": "code",
   "execution_count": 21,
   "metadata": {},
   "outputs": [
    {
     "name": "stdout",
     "output_type": "stream",
     "text": [
      "Grid Search Progress:   0%|                                               | 0/25 [00:00<?, ?trial/s][tuf-4090:380772] shmem: mmap: an error occurred while determining whether or not /tmp/ompi.tuf-4090.1000/jf.0/3113353216/shared_mem_cuda_pool.tuf-4090 could be created.\n",
      "[tuf-4090:380772] create_and_attach: unable to create shared memory BTL coordinating structure :: size 134217728 \n",
      "Grid Search Progress: 100%|██████████| 25/25 [51:35<00:00, 123.81s/trial, Current Best Loss=0.12794]\n",
      "{'radius': 0.99, 'sigma_input': 0.1}\n"
     ]
    }
   ],
   "source": [
    "!bash ./0_Paralleled_ESN_Tune.sh \"tune\" \"Lorenz96_F16_ALPHA1_DIM40\" 3000 1 1 3 \"grid_search_for_F.json\" "
   ]
  },
  {
   "cell_type": "code",
   "execution_count": 13,
   "metadata": {},
   "outputs": [
    {
     "name": "stdout",
     "output_type": "stream",
     "text": [
      "{'radius': 0.99, 'sigma_input': 0.1}\n",
      "[tuf-4090:06515] shmem: mmap: an error occurred while determining whether or not /tmp/ompi.tuf-4090.1000/jf.0/3341484032/shared_mem_cuda_pool.tuf-4090 could be created.\n",
      "[tuf-4090:06515] create_and_attach: unable to create shared memory BTL coordinating structure :: size 134217728 \n",
      "AVERAGE RMNSE ERROR ON TRAIN DATA SET: 1.4620274995201075 ± 0.049656287743406836\n",
      "AVG NUMBER OF ACCURATE 0.5 PREDICTIONS ON TRAIN DATA SET: 1.0904619159190512 ± 0.07003683464872469\n",
      "AVG NUMBER OF ACCURATE 1 PREDICTIONS ON TRAIN DATA SET: 1.9081154190444825 ± 0.1222201828882273\n",
      "POWER SPECTRUM MEAN ERROR ON TRAIN DATA SET: 1.9962361637087018 ± 0.39399758361889836\n",
      "TEMPORAL DISTANCE ON TRAIN DATA SET: 0.13335644456059784 ± 0.008515663138051232\n",
      "GEOMETRICAL DISTANCE ON TRAIN DATA SET: 12.852169891709844 ± 0.09290681442843068\n",
      "\n",
      "\n",
      "AVERAGE RMNSE ERROR ON TEST DATA SET: 1.4706865334240997 ± 0.07305358699066818\n",
      "AVG NUMBER OF ACCURATE 0.5 PREDICTIONS ON TEST DATA SET: 1.0460871387319701 ± 0.06693329764808782\n",
      "AVG NUMBER OF ACCURATE 1 PREDICTIONS ON TEST DATA SET: 1.8201375999257483 ± 0.14056443227079096\n",
      "POWER SPECTRUM MEAN ERROR ON TEST DATA SET: 2.099836914726551 ± 0.4000674051502742\n",
      "TEMPORAL DISTANCE ON TEST DATA SET: 0.13253868447249118 ± 0.011298639793457192\n",
      "GEOMETRICAL DISTANCE ON TEST DATA SET: 12.987015299323414 ± 0.24515340785600198\n"
     ]
    }
   ],
   "source": [
    "!bash ./1_Paralleled_ESN_Evaluate_Tuned_Model.sh \"evaluate_tuned_model\" \"Lorenz96_F16_ALPHA1_DIM40\" 3000 1 1 3 \"grid_search_for_F.json\" "
   ]
  },
  {
   "cell_type": "code",
   "execution_count": 23,
   "metadata": {},
   "outputs": [
    {
     "name": "stdout",
     "output_type": "stream",
     "text": [
      "Grid Search Progress:   0%|                                               | 0/25 [00:00<?, ?trial/s][tuf-4090:394835] shmem: mmap: an error occurred while determining whether or not /tmp/ompi.tuf-4090.1000/jf.0/1415446528/shared_mem_cuda_pool.tuf-4090 could be created.\n",
      "[tuf-4090:394835] create_and_attach: unable to create shared memory BTL coordinating structure :: size 134217728 \n",
      "Grid Search Progress: 100%|██████████| 25/25 [51:27<00:00, 123.48s/trial, Current Best Loss=0.12182]\n",
      "{'radius': 0.99, 'sigma_input': 0.1}\n"
     ]
    }
   ],
   "source": [
    "!bash ./0_Paralleled_ESN_Tune.sh \"tune\" \"Lorenz96_F20_ALPHA1_DIM40\" 3000 1 1 4 \"grid_search_for_F.json\" "
   ]
  },
  {
   "cell_type": "code",
   "execution_count": 14,
   "metadata": {},
   "outputs": [
    {
     "name": "stdout",
     "output_type": "stream",
     "text": [
      "{'radius': 0.99, 'sigma_input': 0.1}\n",
      "[tuf-4090:06522] shmem: mmap: an error occurred while determining whether or not /tmp/ompi.tuf-4090.1000/jf.0/1305083904/shared_mem_cuda_pool.tuf-4090 could be created.\n",
      "[tuf-4090:06522] create_and_attach: unable to create shared memory BTL coordinating structure :: size 134217728 \n",
      "/home/user/anaconda3/lib/python3.11/site-packages/numpy/core/_methods.py:236: RuntimeWarning: invalid value encountered in subtract\n",
      "  x = asanyarray(arr - arrmean)\n",
      "AVERAGE RMNSE ERROR ON TRAIN DATA SET: 1.5846715909964082 ± 0.1644714023567297\n",
      "AVG NUMBER OF ACCURATE 0.5 PREDICTIONS ON TRAIN DATA SET: 1.1063724087111375 ± 0.053219035703314675\n",
      "AVG NUMBER OF ACCURATE 1 PREDICTIONS ON TRAIN DATA SET: 1.8668563782888483 ± 0.09724510068566931\n",
      "POWER SPECTRUM MEAN ERROR ON TRAIN DATA SET: 2.3123296747826037 ± 0.629740395751972\n",
      "TEMPORAL DISTANCE ON TRAIN DATA SET: 0.1358081403671475 ± 0.016365587454355738\n",
      "GEOMETRICAL DISTANCE ON TRAIN DATA SET: inf ± nan\n",
      "\n",
      "\n",
      "AVERAGE RMNSE ERROR ON TEST DATA SET: 1.5831503053504357 ± 0.18354328741011386\n",
      "AVG NUMBER OF ACCURATE 0.5 PREDICTIONS ON TEST DATA SET: 1.0607245466758415 ± 0.06790953942333548\n",
      "AVG NUMBER OF ACCURATE 1 PREDICTIONS ON TEST DATA SET: 1.8061494277470629 ± 0.1308529132886116\n",
      "POWER SPECTRUM MEAN ERROR ON TEST DATA SET: 1.9841718118220264 ± 0.5535015075765939\n",
      "TEMPORAL DISTANCE ON TEST DATA SET: 0.13304975521399193 ± 0.021719200491100557\n",
      "GEOMETRICAL DISTANCE ON TEST DATA SET: inf ± nan\n"
     ]
    }
   ],
   "source": [
    "!bash ./1_Paralleled_ESN_Evaluate_Tuned_Model.sh \"evaluate_tuned_model\" \"Lorenz96_F20_ALPHA1_DIM40\" 3000 1 1 4 \"grid_search_for_F.json\" "
   ]
  },
  {
   "cell_type": "code",
   "execution_count": 25,
   "metadata": {},
   "outputs": [
    {
     "name": "stdout",
     "output_type": "stream",
     "text": [
      "Grid Search Progress:   0%|                                               | 0/25 [00:00<?, ?trial/s][tuf-4090:408806] shmem: mmap: an error occurred while determining whether or not /tmp/ompi.tuf-4090.1000/jf.0/2136539136/shared_mem_cuda_pool.tuf-4090 could be created.\n",
      "[tuf-4090:408806] create_and_attach: unable to create shared memory BTL coordinating structure :: size 134217728 \n",
      "Grid Search Progress: 100%|██████████| 25/25 [51:34<00:00, 123.79s/trial, Current Best Loss=0.12635]\n",
      "{'radius': 0.99, 'sigma_input': 0.1}\n"
     ]
    }
   ],
   "source": [
    "!bash ./0_Paralleled_ESN_Tune.sh \"tune\" \"Lorenz96_F24_ALPHA1_DIM40\" 3000 1 1 5 \"grid_search_for_F.json\" "
   ]
  },
  {
   "cell_type": "code",
   "execution_count": 15,
   "metadata": {},
   "outputs": [
    {
     "name": "stdout",
     "output_type": "stream",
     "text": [
      "{'radius': 0.99, 'sigma_input': 0.1}\n",
      "[tuf-4090:06529] shmem: mmap: an error occurred while determining whether or not /tmp/ompi.tuf-4090.1000/jf.0/1164574720/shared_mem_cuda_pool.tuf-4090 could be created.\n",
      "[tuf-4090:06529] create_and_attach: unable to create shared memory BTL coordinating structure :: size 134217728 \n",
      "/home/user/anaconda3/lib/python3.11/site-packages/numpy/core/_methods.py:236: RuntimeWarning: invalid value encountered in subtract\n",
      "  x = asanyarray(arr - arrmean)\n",
      "AVERAGE RMNSE ERROR ON TRAIN DATA SET: 1.6607132918258156 ± 0.14543101783102289\n",
      "AVG NUMBER OF ACCURATE 0.5 PREDICTIONS ON TRAIN DATA SET: 1.1414144244332498 ± 0.06931719100100145\n",
      "AVG NUMBER OF ACCURATE 1 PREDICTIONS ON TRAIN DATA SET: 1.828244319174183 ± 0.10351158701487143\n",
      "POWER SPECTRUM MEAN ERROR ON TRAIN DATA SET: 3.5238829667152274 ± 0.7138021479479375\n",
      "TEMPORAL DISTANCE ON TRAIN DATA SET: 0.1436551094080193 ± 0.013126493507765262\n",
      "GEOMETRICAL DISTANCE ON TRAIN DATA SET: inf ± nan\n",
      "\n",
      "\n",
      "AVERAGE RMNSE ERROR ON TEST DATA SET: 1.6192870499954055 ± 0.2998070682806888\n",
      "AVG NUMBER OF ACCURATE 0.5 PREDICTIONS ON TEST DATA SET: 1.1238034014911744 ± 0.06087715367127832\n",
      "AVG NUMBER OF ACCURATE 1 PREDICTIONS ON TEST DATA SET: 1.9328097678927545 ± 0.09342249297950866\n",
      "POWER SPECTRUM MEAN ERROR ON TEST DATA SET: 3.3540711720186835 ± 0.6159353791737144\n",
      "TEMPORAL DISTANCE ON TEST DATA SET: 0.13565690031612715 ± 0.017522614397963338\n",
      "GEOMETRICAL DISTANCE ON TEST DATA SET: inf ± nan\n"
     ]
    }
   ],
   "source": [
    "!bash ./1_Paralleled_ESN_Evaluate_Tuned_Model.sh \"evaluate_tuned_model\" \"Lorenz96_F24_ALPHA1_DIM40\" 3000 1 1 5 \"grid_search_for_F.json\" "
   ]
  },
  {
   "cell_type": "code",
   "execution_count": 27,
   "metadata": {},
   "outputs": [
    {
     "name": "stdout",
     "output_type": "stream",
     "text": [
      "Grid Search Progress:   0%|                                               | 0/25 [00:00<?, ?trial/s][tuf-4090:422743] shmem: mmap: an error occurred while determining whether or not /tmp/ompi.tuf-4090.1000/jf.0/3631087616/shared_mem_cuda_pool.tuf-4090 could be created.\n",
      "[tuf-4090:422743] create_and_attach: unable to create shared memory BTL coordinating structure :: size 134217728 \n",
      "Grid Search Progress: 100%|██████████| 25/25 [51:41<00:00, 124.05s/trial, Current Best Loss=0.13929]\n",
      "{'radius': 0.99, 'sigma_input': 0.1}\n"
     ]
    }
   ],
   "source": [
    "!bash ./0_Paralleled_ESN_Tune.sh \"tune\" \"Lorenz96_F28_ALPHA1_DIM40\" 3000 1 1 6 \"grid_search_for_F.json\" "
   ]
  },
  {
   "cell_type": "code",
   "execution_count": 16,
   "metadata": {},
   "outputs": [
    {
     "name": "stdout",
     "output_type": "stream",
     "text": [
      "{'radius': 0.99, 'sigma_input': 0.1}\n",
      "[tuf-4090:06536] shmem: mmap: an error occurred while determining whether or not /tmp/ompi.tuf-4090.1000/jf.0/1617231872/shared_mem_cuda_pool.tuf-4090 could be created.\n",
      "[tuf-4090:06536] create_and_attach: unable to create shared memory BTL coordinating structure :: size 134217728 \n",
      "/home/user/anaconda3/lib/python3.11/site-packages/numpy/core/_methods.py:236: RuntimeWarning: invalid value encountered in subtract\n",
      "  x = asanyarray(arr - arrmean)\n",
      "AVERAGE RMNSE ERROR ON TRAIN DATA SET: 1.661723213307101 ± 0.2459005659628446\n",
      "AVG NUMBER OF ACCURATE 0.5 PREDICTIONS ON TRAIN DATA SET: 1.231373149790709 ± 0.050350100156316906\n",
      "AVG NUMBER OF ACCURATE 1 PREDICTIONS ON TRAIN DATA SET: 1.9790603939566875 ± 0.06319561335207192\n",
      "POWER SPECTRUM MEAN ERROR ON TRAIN DATA SET: 4.476863377298798 ± 0.7141183021179047\n",
      "TEMPORAL DISTANCE ON TRAIN DATA SET: 0.1585071246683964 ± 0.014297108305865848\n",
      "GEOMETRICAL DISTANCE ON TRAIN DATA SET: inf ± nan\n",
      "\n",
      "\n",
      "AVERAGE RMNSE ERROR ON TEST DATA SET: 1.6052315381305475 ± 0.23501227160398536\n",
      "AVG NUMBER OF ACCURATE 0.5 PREDICTIONS ON TEST DATA SET: 1.1832577979222805 ± 0.03760935653308283\n",
      "AVG NUMBER OF ACCURATE 1 PREDICTIONS ON TEST DATA SET: 1.894858528186937 ± 0.05490449080955774\n",
      "POWER SPECTRUM MEAN ERROR ON TEST DATA SET: 5.295554785211715 ± 0.6715851236167026\n",
      "TEMPORAL DISTANCE ON TEST DATA SET: 0.16377030994205505 ± 0.013069318683498437\n",
      "GEOMETRICAL DISTANCE ON TEST DATA SET: inf ± nan\n"
     ]
    }
   ],
   "source": [
    "!bash ./1_Paralleled_ESN_Evaluate_Tuned_Model.sh \"evaluate_tuned_model\" \"Lorenz96_F28_ALPHA1_DIM40\" 3000 1 1 6 \"grid_search_for_F.json\" "
   ]
  },
  {
   "cell_type": "code",
   "execution_count": 29,
   "metadata": {},
   "outputs": [
    {
     "name": "stdout",
     "output_type": "stream",
     "text": [
      "Grid Search Progress:   0%|                                               | 0/25 [00:00<?, ?trial/s][tuf-4090:436707] shmem: mmap: an error occurred while determining whether or not /tmp/ompi.tuf-4090.1000/jf.0/1591541760/shared_mem_cuda_pool.tuf-4090 could be created.\n",
      "[tuf-4090:436707] create_and_attach: unable to create shared memory BTL coordinating structure :: size 134217728 \n",
      "Grid Search Progress: 100%|██████████| 25/25 [51:31<00:00, 123.67s/trial, Current Best Loss=0.15022]\n",
      "{'radius': 0.99, 'sigma_input': 0.1}\n"
     ]
    }
   ],
   "source": [
    "!bash ./0_Paralleled_ESN_Tune.sh \"tune\" \"Lorenz96_F32_ALPHA1_DIM40\" 3000 1 1 7 \"grid_search_for_F.json\" "
   ]
  },
  {
   "cell_type": "code",
   "execution_count": 17,
   "metadata": {},
   "outputs": [
    {
     "name": "stdout",
     "output_type": "stream",
     "text": [
      "{'radius': 0.99, 'sigma_input': 0.1}\n",
      "[tuf-4090:06543] shmem: mmap: an error occurred while determining whether or not /tmp/ompi.tuf-4090.1000/jf.0/2735079424/shared_mem_cuda_pool.tuf-4090 could be created.\n",
      "[tuf-4090:06543] create_and_attach: unable to create shared memory BTL coordinating structure :: size 134217728 \n",
      "/home/user/anaconda3/lib/python3.11/site-packages/numpy/core/_methods.py:236: RuntimeWarning: invalid value encountered in subtract\n",
      "  x = asanyarray(arr - arrmean)\n",
      "AVERAGE RMNSE ERROR ON TRAIN DATA SET: 1.6221104813989164 ± 0.15992703021928736\n",
      "AVG NUMBER OF ACCURATE 0.5 PREDICTIONS ON TRAIN DATA SET: 1.0962600372288487 ± 0.04807418284486924\n",
      "AVG NUMBER OF ACCURATE 1 PREDICTIONS ON TRAIN DATA SET: 1.8313164468066536 ± 0.07654283672287931\n",
      "POWER SPECTRUM MEAN ERROR ON TRAIN DATA SET: 7.485419338503142 ± 1.2167405748762887\n",
      "TEMPORAL DISTANCE ON TRAIN DATA SET: 0.19674913129236257 ± 0.014860141551436126\n",
      "GEOMETRICAL DISTANCE ON TRAIN DATA SET: inf ± nan\n",
      "\n",
      "\n",
      "AVERAGE RMNSE ERROR ON TEST DATA SET: 1.64191280168174 ± 0.27404160881181766\n",
      "AVG NUMBER OF ACCURATE 0.5 PREDICTIONS ON TEST DATA SET: 1.2002641946069705 ± 0.04947144926975282\n",
      "AVG NUMBER OF ACCURATE 1 PREDICTIONS ON TEST DATA SET: 2.0568930313902825 ± 0.07762233412397894\n",
      "POWER SPECTRUM MEAN ERROR ON TEST DATA SET: 8.236031329699774 ± 1.0129007485363357\n",
      "TEMPORAL DISTANCE ON TEST DATA SET: 0.19804900081453936 ± 0.013117948748592713\n",
      "GEOMETRICAL DISTANCE ON TEST DATA SET: 12.540373842793011 ± 1.011198057833936\n"
     ]
    }
   ],
   "source": [
    "!bash ./1_Paralleled_ESN_Evaluate_Tuned_Model.sh \"evaluate_tuned_model\" \"Lorenz96_F32_ALPHA1_DIM40\" 3000 1 1 7 \"grid_search_for_F.json\" "
   ]
  },
  {
   "cell_type": "code",
   "execution_count": 31,
   "metadata": {},
   "outputs": [
    {
     "name": "stdout",
     "output_type": "stream",
     "text": [
      "Grid Search Progress:   0%|                                               | 0/25 [00:00<?, ?trial/s][tuf-4090:450634] shmem: mmap: an error occurred while determining whether or not /tmp/ompi.tuf-4090.1000/jf.0/336330752/shared_mem_cuda_pool.tuf-4090 could be created.\n",
      "[tuf-4090:450634] create_and_attach: unable to create shared memory BTL coordinating structure :: size 134217728 \n",
      "Grid Search Progress: 100%|██████████| 25/25 [51:47<00:00, 124.30s/trial, Current Best Loss=0.14113]\n",
      "{'radius': 0.1, 'sigma_input': 0.5}\n"
     ]
    }
   ],
   "source": [
    "!bash ./0_Paralleled_ESN_Tune.sh \"tune\" \"Lorenz96_F36_ALPHA1_DIM40\" 3000 1 1 8 \"grid_search_for_F.json\" "
   ]
  },
  {
   "cell_type": "code",
   "execution_count": 18,
   "metadata": {},
   "outputs": [
    {
     "name": "stdout",
     "output_type": "stream",
     "text": [
      "{'radius': 0.1, 'sigma_input': 0.5}\n",
      "[tuf-4090:06550] shmem: mmap: an error occurred while determining whether or not /tmp/ompi.tuf-4090.1000/jf.0/2562523136/shared_mem_cuda_pool.tuf-4090 could be created.\n",
      "[tuf-4090:06550] create_and_attach: unable to create shared memory BTL coordinating structure :: size 134217728 \n",
      "AVERAGE RMNSE ERROR ON TRAIN DATA SET: 1.4847036973013965 ± 0.006573257171194283\n",
      "AVG NUMBER OF ACCURATE 0.5 PREDICTIONS ON TRAIN DATA SET: 0.7363022728130141 ± 0.04971825250441493\n",
      "AVG NUMBER OF ACCURATE 1 PREDICTIONS ON TRAIN DATA SET: 1.37602764730323 ± 0.05290580864362097\n",
      "POWER SPECTRUM MEAN ERROR ON TRAIN DATA SET: 1.2652758383224085 ± 0.20503589822859844\n",
      "TEMPORAL DISTANCE ON TRAIN DATA SET: 0.12942356522297743 ± 0.009877794353237362\n",
      "GEOMETRICAL DISTANCE ON TRAIN DATA SET: 13.59450542018591 ± 0.2721489063705677\n",
      "\n",
      "\n",
      "AVERAGE RMNSE ERROR ON TEST DATA SET: 1.4829473151965404 ± 0.0020401937027734658\n",
      "AVG NUMBER OF ACCURATE 0.5 PREDICTIONS ON TEST DATA SET: 0.7216225842679489 ± 0.029359377090130683\n",
      "AVG NUMBER OF ACCURATE 1 PREDICTIONS ON TEST DATA SET: 1.3675288802508239 ± 0.05603457889186364\n",
      "POWER SPECTRUM MEAN ERROR ON TEST DATA SET: 1.240113490561264 ± 0.15220800187711742\n",
      "TEMPORAL DISTANCE ON TEST DATA SET: 0.12702072125245792 ± 0.0027993378656468158\n",
      "GEOMETRICAL DISTANCE ON TEST DATA SET: 13.542831693692829 ± 0.056546669617593935\n"
     ]
    }
   ],
   "source": [
    "!bash ./1_Paralleled_ESN_Evaluate_Tuned_Model.sh \"evaluate_tuned_model\" \"Lorenz96_F36_ALPHA1_DIM40\" 3000 1 1 8 \"grid_search_for_F.json\" "
   ]
  },
  {
   "cell_type": "code",
   "execution_count": 33,
   "metadata": {},
   "outputs": [
    {
     "name": "stdout",
     "output_type": "stream",
     "text": [
      "Grid Search Progress:   0%|                                               | 0/25 [00:00<?, ?trial/s][tuf-4090:464581] shmem: mmap: an error occurred while determining whether or not /tmp/ompi.tuf-4090.1000/jf.0/833421312/shared_mem_cuda_pool.tuf-4090 could be created.\n",
      "[tuf-4090:464581] create_and_attach: unable to create shared memory BTL coordinating structure :: size 134217728 \n",
      "Grid Search Progress: 100%|██████████| 25/25 [51:53<00:00, 124.54s/trial, Current Best Loss=0.13770]\n",
      "{'radius': 0.1, 'sigma_input': 0.5}\n"
     ]
    }
   ],
   "source": [
    "!bash ./0_Paralleled_ESN_Tune.sh \"tune\" \"Lorenz96_F40_ALPHA1_DIM40\" 3000 1 1 9 \"grid_search_for_F.json\" "
   ]
  },
  {
   "cell_type": "code",
   "execution_count": 19,
   "metadata": {},
   "outputs": [
    {
     "name": "stdout",
     "output_type": "stream",
     "text": [
      "{'radius': 0.1, 'sigma_input': 0.5}\n",
      "[tuf-4090:06557] shmem: mmap: an error occurred while determining whether or not /tmp/ompi.tuf-4090.1000/jf.0/603586560/shared_mem_cuda_pool.tuf-4090 could be created.\n",
      "[tuf-4090:06557] create_and_attach: unable to create shared memory BTL coordinating structure :: size 134217728 \n",
      "/home/user/anaconda3/lib/python3.11/site-packages/numpy/core/_methods.py:236: RuntimeWarning: invalid value encountered in subtract\n",
      "  x = asanyarray(arr - arrmean)\n",
      "AVERAGE RMNSE ERROR ON TRAIN DATA SET: 1.4903083529697234 ± 0.02683716333248677\n",
      "AVG NUMBER OF ACCURATE 0.5 PREDICTIONS ON TRAIN DATA SET: 0.7469523635882565 ± 0.03703501089031665\n",
      "AVG NUMBER OF ACCURATE 1 PREDICTIONS ON TRAIN DATA SET: 1.4478482473588514 ± 0.07333265694063947\n",
      "POWER SPECTRUM MEAN ERROR ON TRAIN DATA SET: 1.7697607893387104 ± 0.3280343600044679\n",
      "TEMPORAL DISTANCE ON TRAIN DATA SET: 0.12800695960218977 ± 0.015220769432170586\n",
      "GEOMETRICAL DISTANCE ON TRAIN DATA SET: 13.646827581832198 ± 1.050189110108871\n",
      "\n",
      "\n",
      "AVERAGE RMNSE ERROR ON TEST DATA SET: 1.4895461052432175 ± 0.03401152951938139\n",
      "AVG NUMBER OF ACCURATE 0.5 PREDICTIONS ON TEST DATA SET: 0.767887127141739 ± 0.05630478506850847\n",
      "AVG NUMBER OF ACCURATE 1 PREDICTIONS ON TEST DATA SET: 1.463758667659498 ± 0.09368300842482288\n",
      "POWER SPECTRUM MEAN ERROR ON TEST DATA SET: 1.7312067960728608 ± 0.2663882947378388\n",
      "TEMPORAL DISTANCE ON TEST DATA SET: 0.12655163643842035 ± 0.010371261442614237\n",
      "GEOMETRICAL DISTANCE ON TEST DATA SET: inf ± nan\n"
     ]
    }
   ],
   "source": [
    "!bash ./1_Paralleled_ESN_Evaluate_Tuned_Model.sh \"evaluate_tuned_model\" \"Lorenz96_F40_ALPHA1_DIM40\" 3000 1 1 9 \"grid_search_for_F.json\" "
   ]
  },
  {
   "cell_type": "code",
   "execution_count": 35,
   "metadata": {},
   "outputs": [
    {
     "name": "stdout",
     "output_type": "stream",
     "text": [
      "Grid Search Progress:   0%|                                               | 0/25 [00:00<?, ?trial/s][tuf-4090:481145] shmem: mmap: an error occurred while determining whether or not /tmp/ompi.tuf-4090.1000/jf.0/3051356160/shared_mem_cuda_pool.tuf-4090 could be created.\n",
      "[tuf-4090:481145] create_and_attach: unable to create shared memory BTL coordinating structure :: size 134217728 \n",
      "Grid Search Progress: 100%|██████████| 25/25 [52:20<00:00, 125.61s/trial, Current Best Loss=0.14029]\n",
      "{'radius': 0.1, 'sigma_input': 0.5}\n"
     ]
    }
   ],
   "source": [
    "!bash ./0_Paralleled_ESN_Tune.sh \"tune\" \"Lorenz96_F44_ALPHA1_DIM40\" 3000 1 1 10 \"grid_search_for_F.json\" "
   ]
  },
  {
   "cell_type": "code",
   "execution_count": 20,
   "metadata": {},
   "outputs": [
    {
     "name": "stdout",
     "output_type": "stream",
     "text": [
      "{'radius': 0.1, 'sigma_input': 0.5}\n",
      "[tuf-4090:06564] shmem: mmap: an error occurred while determining whether or not /tmp/ompi.tuf-4090.1000/jf.0/624033792/shared_mem_cuda_pool.tuf-4090 could be created.\n",
      "[tuf-4090:06564] create_and_attach: unable to create shared memory BTL coordinating structure :: size 134217728 \n",
      "AVERAGE RMNSE ERROR ON TRAIN DATA SET: 1.474408525427607 ± 0.002086758656079124\n",
      "AVG NUMBER OF ACCURATE 0.5 PREDICTIONS ON TRAIN DATA SET: 0.7516506092989248 ± 0.041142931760656344\n",
      "AVG NUMBER OF ACCURATE 1 PREDICTIONS ON TRAIN DATA SET: 1.4743567908029453 ± 0.13070139930801244\n",
      "POWER SPECTRUM MEAN ERROR ON TRAIN DATA SET: 1.5125852768745118 ± 0.2219091426108832\n",
      "TEMPORAL DISTANCE ON TRAIN DATA SET: 0.12150799277749028 ± 0.002519970093448055\n",
      "GEOMETRICAL DISTANCE ON TRAIN DATA SET: 13.004034068170915 ± 0.05759269127254405\n",
      "\n",
      "\n",
      "AVERAGE RMNSE ERROR ON TEST DATA SET: 1.4738567674395575 ± 0.0012368424172076165\n",
      "AVG NUMBER OF ACCURATE 0.5 PREDICTIONS ON TEST DATA SET: 0.7652183098277863 ± 0.042076888609879015\n",
      "AVG NUMBER OF ACCURATE 1 PREDICTIONS ON TEST DATA SET: 1.4797838710144897 ± 0.06334177376847731\n",
      "POWER SPECTRUM MEAN ERROR ON TEST DATA SET: 1.7200601087389795 ± 0.24556283757174494\n",
      "TEMPORAL DISTANCE ON TEST DATA SET: 0.12081237721404081 ± 0.0023794787151363754\n",
      "GEOMETRICAL DISTANCE ON TEST DATA SET: 12.945141464007767 ± 0.04073904842875702\n"
     ]
    }
   ],
   "source": [
    "!bash ./1_Paralleled_ESN_Evaluate_Tuned_Model.sh \"evaluate_tuned_model\" \"Lorenz96_F44_ALPHA1_DIM40\" 3000 1 1 10 \"grid_search_for_F.json\" "
   ]
  },
  {
   "cell_type": "code",
   "execution_count": null,
   "metadata": {},
   "outputs": [],
   "source": []
  },
  {
   "cell_type": "code",
   "execution_count": null,
   "metadata": {
    "editable": true,
    "slideshow": {
     "slide_type": ""
    },
    "tags": []
   },
   "outputs": [],
   "source": []
  },
  {
   "cell_type": "code",
   "execution_count": null,
   "metadata": {},
   "outputs": [],
   "source": []
  },
  {
   "cell_type": "code",
   "execution_count": null,
   "metadata": {},
   "outputs": [],
   "source": []
  },
  {
   "cell_type": "code",
   "execution_count": null,
   "metadata": {},
   "outputs": [],
   "source": []
  },
  {
   "cell_type": "code",
   "execution_count": null,
   "metadata": {},
   "outputs": [],
   "source": []
  }
 ],
 "metadata": {
  "kernelspec": {
   "display_name": "base",
   "language": "python",
   "name": "python3"
  },
  "language_info": {
   "codemirror_mode": {
    "name": "ipython",
    "version": 3
   },
   "file_extension": ".py",
   "mimetype": "text/x-python",
   "name": "python",
   "nbconvert_exporter": "python",
   "pygments_lexer": "ipython3",
   "version": "3.11.8"
  }
 },
 "nbformat": 4,
 "nbformat_minor": 4
}
