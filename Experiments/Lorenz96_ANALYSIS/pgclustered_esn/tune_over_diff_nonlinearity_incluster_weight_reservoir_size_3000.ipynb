{
 "cells": [
  {
   "cell_type": "code",
   "execution_count": 1,
   "metadata": {},
   "outputs": [
    {
     "name": "stdout",
     "output_type": "stream",
     "text": [
      "Grid Search Progress: 100%|███████████| 25/25 [37:45<00:00, 90.62s/trial, Current Best Loss=0.12014]\n",
      "{'radius': 0.7, 'sigma_input': 0.1, 'in_cluster_weight': 0.1}\n"
     ]
    }
   ],
   "source": [
    "!bash ./0_PGClustered_ESN_Tune.sh \"tune\" \"Lorenz96_F8_ALPHA1_DIM40\" 3000 1 1 1 \"grid_search_for_icw_0.1.json\" "
   ]
  },
  {
   "cell_type": "code",
   "execution_count": 1,
   "metadata": {},
   "outputs": [
    {
     "name": "stdout",
     "output_type": "stream",
     "text": [
      "{'radius': 0.7, 'sigma_input': 0.1, 'in_cluster_weight': 0.1}\n",
      "AVERAGE RMNSE ERROR ON TRAIN DATA SET: 1.3628227143234282 ± 0.007537906981796862\n",
      "AVG NUMBER OF ACCURATE 0.5 PREDICTIONS ON TRAIN DATA SET: 2.825077136048242 ± 0.1009574657659783\n",
      "AVG NUMBER OF ACCURATE 1 PREDICTIONS ON TRAIN DATA SET: 4.542947200643466 ± 0.22214267385025518\n",
      "POWER SPECTRUM MEAN ERROR ON TRAIN DATA SET: 0.424331582015771 ± 0.22107926518869983\n",
      "TEMPORAL DISTANCE ON TRAIN DATA SET: 0.1070864511676419 ± 0.001622019796094075\n",
      "GEOMETRICAL DISTANCE ON TRAIN DATA SET: 12.982367720101479 ± 0.0870156509539139\n",
      "\n",
      "\n",
      "AVERAGE RMNSE ERROR ON TEST DATA SET: 1.3709461192087438 ± 0.005346839655142766\n",
      "AVG NUMBER OF ACCURATE 0.5 PREDICTIONS ON TEST DATA SET: 2.393284975338056 ± 0.1581399172505961\n",
      "AVG NUMBER OF ACCURATE 1 PREDICTIONS ON TEST DATA SET: 3.8615304803057975 ± 0.21920865957201105\n",
      "POWER SPECTRUM MEAN ERROR ON TEST DATA SET: 0.6010568816475692 ± 0.4141109728344829\n",
      "TEMPORAL DISTANCE ON TEST DATA SET: 0.10670574952804893 ± 0.0018615285326186203\n",
      "GEOMETRICAL DISTANCE ON TEST DATA SET: 13.024842905962583 ± 0.10176406882231688\n"
     ]
    }
   ],
   "source": [
    "!bash ./1_PGClustered_ESN_Evaluate_Tuned_Model.sh \"evaluate_tuned_model\" \"Lorenz96_F8_ALPHA1_DIM40\" 3000 1 1 1 \"grid_search_for_icw_0.1.json\" "
   ]
  },
  {
   "cell_type": "code",
   "execution_count": 2,
   "metadata": {},
   "outputs": [
    {
     "name": "stdout",
     "output_type": "stream",
     "text": [
      "Grid Search Progress: 100%|███████████| 25/25 [37:53<00:00, 90.95s/trial, Current Best Loss=0.12154]\n",
      "{'radius': 0.4, 'sigma_input': 0.1, 'in_cluster_weight': 0.3}\n"
     ]
    }
   ],
   "source": [
    "!bash ./0_PGClustered_ESN_Tune.sh \"tune\" \"Lorenz96_F8_ALPHA1_DIM40\" 3000 1 1 1 \"grid_search_for_icw_0.3.json\" "
   ]
  },
  {
   "cell_type": "code",
   "execution_count": 2,
   "metadata": {},
   "outputs": [
    {
     "name": "stdout",
     "output_type": "stream",
     "text": [
      "{'radius': 0.4, 'sigma_input': 0.1, 'in_cluster_weight': 0.3}\n",
      "AVERAGE RMNSE ERROR ON TRAIN DATA SET: 1.362044613805507 ± 0.005782504127754322\n",
      "AVG NUMBER OF ACCURATE 0.5 PREDICTIONS ON TRAIN DATA SET: 2.859735473145184 ± 0.09473302273757807\n",
      "AVG NUMBER OF ACCURATE 1 PREDICTIONS ON TRAIN DATA SET: 4.581240436509112 ± 0.24243238277831622\n",
      "POWER SPECTRUM MEAN ERROR ON TRAIN DATA SET: 0.38565048536158686 ± 0.29774944904777795\n",
      "TEMPORAL DISTANCE ON TRAIN DATA SET: 0.10711312284688705 ± 0.0016238101805890405\n",
      "GEOMETRICAL DISTANCE ON TRAIN DATA SET: 12.937368757522796 ± 0.08316740509813784\n",
      "\n",
      "\n",
      "AVERAGE RMNSE ERROR ON TEST DATA SET: 1.3681384754229127 ± 0.007193823001869323\n",
      "AVG NUMBER OF ACCURATE 0.5 PREDICTIONS ON TEST DATA SET: 2.4002166427574445 ± 0.13987015031106922\n",
      "AVG NUMBER OF ACCURATE 1 PREDICTIONS ON TEST DATA SET: 3.9311852846177 ± 0.2680664328930961\n",
      "POWER SPECTRUM MEAN ERROR ON TEST DATA SET: 0.7795478225295788 ± 0.4376340554667174\n",
      "TEMPORAL DISTANCE ON TEST DATA SET: 0.10677482439797936 ± 0.0012487640191298417\n",
      "GEOMETRICAL DISTANCE ON TEST DATA SET: 13.023044452011657 ± 0.10459459679057165\n"
     ]
    }
   ],
   "source": [
    "!bash ./1_PGClustered_ESN_Evaluate_Tuned_Model.sh \"evaluate_tuned_model\" \"Lorenz96_F8_ALPHA1_DIM40\" 3000 1 1 1 \"grid_search_for_icw_0.3.json\" "
   ]
  },
  {
   "cell_type": "code",
   "execution_count": 3,
   "metadata": {},
   "outputs": [
    {
     "name": "stdout",
     "output_type": "stream",
     "text": [
      "Grid Search Progress: 100%|███████████| 25/25 [37:59<00:00, 91.19s/trial, Current Best Loss=0.12238]\n",
      "{'radius': 0.1, 'sigma_input': 0.1, 'in_cluster_weight': 0.7}\n"
     ]
    }
   ],
   "source": [
    "!bash ./0_PGClustered_ESN_Tune.sh \"tune\" \"Lorenz96_F8_ALPHA1_DIM40\" 3000 1 1 1 \"grid_search_for_icw_0.7.json\" "
   ]
  },
  {
   "cell_type": "code",
   "execution_count": 3,
   "metadata": {},
   "outputs": [
    {
     "name": "stdout",
     "output_type": "stream",
     "text": [
      "{'radius': 0.1, 'sigma_input': 0.1, 'in_cluster_weight': 0.7}\n",
      "AVERAGE RMNSE ERROR ON TRAIN DATA SET: 1.3597749355340443 ± 0.006386766610528373\n",
      "AVG NUMBER OF ACCURATE 0.5 PREDICTIONS ON TRAIN DATA SET: 2.8816293982869103 ± 0.09941323773102148\n",
      "AVG NUMBER OF ACCURATE 1 PREDICTIONS ON TRAIN DATA SET: 4.678960040616586 ± 0.22379672282530533\n",
      "POWER SPECTRUM MEAN ERROR ON TRAIN DATA SET: 0.4431146982028709 ± 0.23672356652368057\n",
      "TEMPORAL DISTANCE ON TRAIN DATA SET: 0.10669229435147323 ± 0.001838622566538799\n",
      "GEOMETRICAL DISTANCE ON TRAIN DATA SET: 12.949744606968087 ± 0.09788446430644394\n",
      "\n",
      "\n",
      "AVERAGE RMNSE ERROR ON TEST DATA SET: 1.3686809343582633 ± 0.004033837566685096\n",
      "AVG NUMBER OF ACCURATE 0.5 PREDICTIONS ON TEST DATA SET: 2.4351285774429 ± 0.12777591665739088\n",
      "AVG NUMBER OF ACCURATE 1 PREDICTIONS ON TEST DATA SET: 3.9868922215613196 ± 0.20376835824140538\n",
      "POWER SPECTRUM MEAN ERROR ON TEST DATA SET: 0.8206222722792196 ± 0.3760346520866561\n",
      "TEMPORAL DISTANCE ON TEST DATA SET: 0.10692434165784633 ± 0.001480401114709421\n",
      "GEOMETRICAL DISTANCE ON TEST DATA SET: 12.980780753313894 ± 0.06719992722532302\n"
     ]
    }
   ],
   "source": [
    "!bash ./1_PGClustered_ESN_Evaluate_Tuned_Model.sh \"evaluate_tuned_model\" \"Lorenz96_F8_ALPHA1_DIM40\" 3000 1 1 1 \"grid_search_for_icw_0.7.json\" "
   ]
  },
  {
   "cell_type": "code",
   "execution_count": 4,
   "metadata": {},
   "outputs": [
    {
     "name": "stdout",
     "output_type": "stream",
     "text": [
      "Grid Search Progress: 100%|███████████| 25/25 [37:49<00:00, 90.79s/trial, Current Best Loss=0.12053]\n",
      "{'radius': 0.4, 'sigma_input': 0.1, 'in_cluster_weight': 0.9}\n"
     ]
    }
   ],
   "source": [
    "!bash ./0_PGClustered_ESN_Tune.sh \"tune\" \"Lorenz96_F8_ALPHA1_DIM40\" 3000 1 1 1 \"grid_search_for_icw_0.9.json\"  "
   ]
  },
  {
   "cell_type": "code",
   "execution_count": 4,
   "metadata": {},
   "outputs": [
    {
     "name": "stdout",
     "output_type": "stream",
     "text": [
      "{'radius': 0.4, 'sigma_input': 0.1, 'in_cluster_weight': 0.9}\n",
      "AVERAGE RMNSE ERROR ON TRAIN DATA SET: 1.360284515742493 ± 0.004935552147409321\n",
      "AVG NUMBER OF ACCURATE 0.5 PREDICTIONS ON TRAIN DATA SET: 2.862525046618839 ± 0.11283655227729553\n",
      "AVG NUMBER OF ACCURATE 1 PREDICTIONS ON TRAIN DATA SET: 4.683186667091823 ± 0.23580998734720024\n",
      "POWER SPECTRUM MEAN ERROR ON TRAIN DATA SET: 0.4308167617124677 ± 0.25978941287671625\n",
      "TEMPORAL DISTANCE ON TRAIN DATA SET: 0.10710703580975636 ± 0.0014219572224413574\n",
      "GEOMETRICAL DISTANCE ON TRAIN DATA SET: 13.00665834280785 ± 0.08381185873454343\n",
      "\n",
      "\n",
      "AVERAGE RMNSE ERROR ON TEST DATA SET: 1.3685153504781928 ± 0.006485670715972471\n",
      "AVG NUMBER OF ACCURATE 0.5 PREDICTIONS ON TEST DATA SET: 2.465898418182623 ± 0.12340530473708439\n",
      "AVG NUMBER OF ACCURATE 1 PREDICTIONS ON TEST DATA SET: 4.01225198041274 ± 0.18925593077154193\n",
      "POWER SPECTRUM MEAN ERROR ON TEST DATA SET: 0.5125852414718579 ± 0.29673917348656204\n",
      "TEMPORAL DISTANCE ON TEST DATA SET: 0.1076371095520264 ± 0.0014245990317939673\n",
      "GEOMETRICAL DISTANCE ON TEST DATA SET: 13.02522219251513 ± 0.1083909707001091\n"
     ]
    }
   ],
   "source": [
    "!bash ./1_PGClustered_ESN_Evaluate_Tuned_Model.sh \"evaluate_tuned_model\" \"Lorenz96_F8_ALPHA1_DIM40\" 3000 1 1 1 \"grid_search_for_icw_0.9.json\" "
   ]
  },
  {
   "cell_type": "code",
   "execution_count": 5,
   "metadata": {},
   "outputs": [
    {
     "name": "stdout",
     "output_type": "stream",
     "text": [
      "Grid Search Progress: 100%|███████████| 25/25 [37:01<00:00, 88.86s/trial, Current Best Loss=0.11225]\n",
      "{'radius': 0.4, 'sigma_input': 0.5, 'in_cluster_weight': 0.1}\n"
     ]
    }
   ],
   "source": [
    "!bash ./0_PGClustered_ESN_Tune.sh \"tune\" \"Lorenz96_F8_ALPHA2_DIM40\" 3000 1 1 2 \"grid_search_for_icw_0.1.json\" "
   ]
  },
  {
   "cell_type": "code",
   "execution_count": 5,
   "metadata": {},
   "outputs": [
    {
     "name": "stdout",
     "output_type": "stream",
     "text": [
      "{'radius': 0.4, 'sigma_input': 0.5, 'in_cluster_weight': 0.1}\n",
      "AVERAGE RMNSE ERROR ON TRAIN DATA SET: 1.389669190283978 ± 0.003310325701978345\n",
      "AVG NUMBER OF ACCURATE 0.5 PREDICTIONS ON TRAIN DATA SET: 2.2830897817884646 ± 0.10916944220627016\n",
      "AVG NUMBER OF ACCURATE 1 PREDICTIONS ON TRAIN DATA SET: 3.586673366426634 ± 0.2690313656772577\n",
      "POWER SPECTRUM MEAN ERROR ON TRAIN DATA SET: 0.9162018968411392 ± 0.3593705470499931\n",
      "TEMPORAL DISTANCE ON TRAIN DATA SET: 0.0953920734921883 ± 0.0010882449852007887\n",
      "GEOMETRICAL DISTANCE ON TRAIN DATA SET: 12.661826772470071 ± 0.057471755959845654\n",
      "\n",
      "\n",
      "AVERAGE RMNSE ERROR ON TEST DATA SET: 1.3926335182047622 ± 0.0033885666167445517\n",
      "AVG NUMBER OF ACCURATE 0.5 PREDICTIONS ON TEST DATA SET: 2.1043016660686336 ± 0.13722845647571935\n",
      "AVG NUMBER OF ACCURATE 1 PREDICTIONS ON TEST DATA SET: 3.264893042524026 ± 0.14918441126028012\n",
      "POWER SPECTRUM MEAN ERROR ON TEST DATA SET: 0.4160879083767564 ± 0.23503820830269367\n",
      "TEMPORAL DISTANCE ON TEST DATA SET: 0.0959020300726906 ± 0.0008583333724517885\n",
      "GEOMETRICAL DISTANCE ON TEST DATA SET: 12.561165564835743 ± 0.0705489039032195\n"
     ]
    }
   ],
   "source": [
    "!bash ./1_PGClustered_ESN_Evaluate_Tuned_Model.sh \"evaluate_tuned_model\" \"Lorenz96_F8_ALPHA2_DIM40\" 3000 1 1 2 \"grid_search_for_icw_0.1.json\" "
   ]
  },
  {
   "cell_type": "code",
   "execution_count": 6,
   "metadata": {},
   "outputs": [
    {
     "name": "stdout",
     "output_type": "stream",
     "text": [
      "Grid Search Progress: 100%|███████████| 25/25 [37:04<00:00, 89.00s/trial, Current Best Loss=0.11185]\n",
      "{'radius': 0.4, 'sigma_input': 0.5, 'in_cluster_weight': 0.3}\n"
     ]
    }
   ],
   "source": [
    "!bash ./0_PGClustered_ESN_Tune.sh \"tune\" \"Lorenz96_F8_ALPHA2_DIM40\" 3000 1 1 2 \"grid_search_for_icw_0.3.json\"  "
   ]
  },
  {
   "cell_type": "code",
   "execution_count": 6,
   "metadata": {},
   "outputs": [
    {
     "name": "stdout",
     "output_type": "stream",
     "text": [
      "{'radius': 0.4, 'sigma_input': 0.5, 'in_cluster_weight': 0.3}\n",
      "AVERAGE RMNSE ERROR ON TRAIN DATA SET: 1.391256101118173 ± 0.003313074897686627\n",
      "AVG NUMBER OF ACCURATE 0.5 PREDICTIONS ON TRAIN DATA SET: 2.2865353771663632 ± 0.10806020032396037\n",
      "AVG NUMBER OF ACCURATE 1 PREDICTIONS ON TRAIN DATA SET: 3.606006984935952 ± 0.2821118192810178\n",
      "POWER SPECTRUM MEAN ERROR ON TRAIN DATA SET: 0.7344725507811553 ± 0.3220212380939312\n",
      "TEMPORAL DISTANCE ON TRAIN DATA SET: 0.09541813031986032 ± 0.0008227777326560749\n",
      "GEOMETRICAL DISTANCE ON TRAIN DATA SET: 12.670553135939858 ± 0.08395270192460022\n",
      "\n",
      "\n",
      "AVERAGE RMNSE ERROR ON TEST DATA SET: 1.391446605954277 ± 0.003999093513562108\n",
      "AVG NUMBER OF ACCURATE 0.5 PREDICTIONS ON TEST DATA SET: 2.1142556082714505 ± 0.13549579062829664\n",
      "AVG NUMBER OF ACCURATE 1 PREDICTIONS ON TEST DATA SET: 3.277718314208424 ± 0.15517829159110272\n",
      "POWER SPECTRUM MEAN ERROR ON TEST DATA SET: 0.44649412895885954 ± 0.21102102644789975\n",
      "TEMPORAL DISTANCE ON TEST DATA SET: 0.09585467270289336 ± 0.0008629275786704525\n",
      "GEOMETRICAL DISTANCE ON TEST DATA SET: 12.533778427753488 ± 0.07130200737376945\n"
     ]
    }
   ],
   "source": [
    "!bash ./1_PGClustered_ESN_Evaluate_Tuned_Model.sh \"evaluate_tuned_model\" \"Lorenz96_F8_ALPHA2_DIM40\" 3000 1 1 2 \"grid_search_for_icw_0.3.json\" "
   ]
  },
  {
   "cell_type": "code",
   "execution_count": 7,
   "metadata": {},
   "outputs": [
    {
     "name": "stdout",
     "output_type": "stream",
     "text": [
      "Grid Search Progress: 100%|███████████| 25/25 [37:12<00:00, 89.31s/trial, Current Best Loss=0.11152]\n",
      "{'radius': 0.9, 'sigma_input': 0.5, 'in_cluster_weight': 0.7}\n"
     ]
    }
   ],
   "source": [
    "!bash ./0_PGClustered_ESN_Tune.sh \"tune\" \"Lorenz96_F8_ALPHA2_DIM40\" 3000 1 1 2 \"grid_search_for_icw_0.7.json\"  "
   ]
  },
  {
   "cell_type": "code",
   "execution_count": 7,
   "metadata": {},
   "outputs": [
    {
     "name": "stdout",
     "output_type": "stream",
     "text": [
      "{'radius': 0.9, 'sigma_input': 0.5, 'in_cluster_weight': 0.7}\n",
      "AVERAGE RMNSE ERROR ON TRAIN DATA SET: 1.3949162045974681 ± 0.00323247021763777\n",
      "AVG NUMBER OF ACCURATE 0.5 PREDICTIONS ON TRAIN DATA SET: 2.068122914600702 ± 0.11849993738863841\n",
      "AVG NUMBER OF ACCURATE 1 PREDICTIONS ON TRAIN DATA SET: 3.2532163026322594 ± 0.19473128014312183\n",
      "POWER SPECTRUM MEAN ERROR ON TRAIN DATA SET: 0.9009970598151611 ± 0.2754767754305718\n",
      "TEMPORAL DISTANCE ON TRAIN DATA SET: 0.09549767974165506 ± 0.0006742436373221745\n",
      "GEOMETRICAL DISTANCE ON TRAIN DATA SET: 12.728846661234432 ± 0.064628425657176\n",
      "\n",
      "\n",
      "AVERAGE RMNSE ERROR ON TEST DATA SET: 1.396976575489911 ± 0.0025557988007119154\n",
      "AVG NUMBER OF ACCURATE 0.5 PREDICTIONS ON TEST DATA SET: 1.8732553537840126 ± 0.1328644955879171\n",
      "AVG NUMBER OF ACCURATE 1 PREDICTIONS ON TEST DATA SET: 2.9848427070870738 ± 0.1980501461258581\n",
      "POWER SPECTRUM MEAN ERROR ON TEST DATA SET: 0.5157640874353181 ± 0.26286510890332243\n",
      "TEMPORAL DISTANCE ON TEST DATA SET: 0.09637957989285365 ± 0.0010170835460879602\n",
      "GEOMETRICAL DISTANCE ON TEST DATA SET: 12.604637713058128 ± 0.08335668209823235\n"
     ]
    }
   ],
   "source": [
    "!bash ./1_PGClustered_ESN_Evaluate_Tuned_Model.sh \"evaluate_tuned_model\" \"Lorenz96_F8_ALPHA2_DIM40\" 3000 1 1 2 \"grid_search_for_icw_0.7.json\" "
   ]
  },
  {
   "cell_type": "code",
   "execution_count": 8,
   "metadata": {},
   "outputs": [
    {
     "name": "stdout",
     "output_type": "stream",
     "text": [
      "Grid Search Progress: 100%|███████████| 25/25 [36:57<00:00, 88.68s/trial, Current Best Loss=0.11222]\n",
      "{'radius': 0.7, 'sigma_input': 0.5, 'in_cluster_weight': 0.9}\n"
     ]
    }
   ],
   "source": [
    "!bash ./0_PGClustered_ESN_Tune.sh \"tune\" \"Lorenz96_F8_ALPHA2_DIM40\" 3000 1 1 2 \"grid_search_for_icw_0.9.json\" "
   ]
  },
  {
   "cell_type": "code",
   "execution_count": 8,
   "metadata": {},
   "outputs": [
    {
     "name": "stdout",
     "output_type": "stream",
     "text": [
      "{'radius': 0.7, 'sigma_input': 0.5, 'in_cluster_weight': 0.9}\n",
      "AVERAGE RMNSE ERROR ON TRAIN DATA SET: 1.3936882576984115 ± 0.003228686243701508\n",
      "AVG NUMBER OF ACCURATE 0.5 PREDICTIONS ON TRAIN DATA SET: 2.188718752827141 ± 0.14012872364410595\n",
      "AVG NUMBER OF ACCURATE 1 PREDICTIONS ON TRAIN DATA SET: 3.3498843951788495 ± 0.2024915078364803\n",
      "POWER SPECTRUM MEAN ERROR ON TRAIN DATA SET: 0.8451694846336479 ± 0.3042453524555478\n",
      "TEMPORAL DISTANCE ON TRAIN DATA SET: 0.0953984836914713 ± 0.0007981242525839777\n",
      "GEOMETRICAL DISTANCE ON TRAIN DATA SET: 12.723706342945945 ± 0.06371126046559544\n",
      "\n",
      "\n",
      "AVERAGE RMNSE ERROR ON TEST DATA SET: 1.3940742799667591 ± 0.002876418005274634\n",
      "AVG NUMBER OF ACCURATE 0.5 PREDICTIONS ON TEST DATA SET: 2.0277328798931165 ± 0.10738260425481537\n",
      "AVG NUMBER OF ACCURATE 1 PREDICTIONS ON TEST DATA SET: 3.1433400944703935 ± 0.15684212209427292\n",
      "POWER SPECTRUM MEAN ERROR ON TEST DATA SET: 0.4388344800822638 ± 0.19958897626828817\n",
      "TEMPORAL DISTANCE ON TEST DATA SET: 0.0958170628309882 ± 0.0005268707171667755\n",
      "GEOMETRICAL DISTANCE ON TEST DATA SET: 12.596300361050641 ± 0.07934610584542699\n"
     ]
    }
   ],
   "source": [
    "!bash ./1_PGClustered_ESN_Evaluate_Tuned_Model.sh \"evaluate_tuned_model\" \"Lorenz96_F8_ALPHA2_DIM40\" 3000 1 1 2 \"grid_search_for_icw_0.9.json\" "
   ]
  },
  {
   "cell_type": "code",
   "execution_count": 9,
   "metadata": {},
   "outputs": [
    {
     "name": "stdout",
     "output_type": "stream",
     "text": [
      "Grid Search Progress: 100%|███████████| 25/25 [36:48<00:00, 88.34s/trial, Current Best Loss=0.10686]\n",
      "{'radius': 0.4, 'sigma_input': 0.5, 'in_cluster_weight': 0.1}\n"
     ]
    }
   ],
   "source": [
    "!bash ./0_PGClustered_ESN_Tune.sh \"tune\" \"Lorenz96_F8_ALPHA3_DIM40\" 3000 1 1 3 \"grid_search_for_icw_0.1.json\"   "
   ]
  },
  {
   "cell_type": "code",
   "execution_count": 9,
   "metadata": {},
   "outputs": [
    {
     "name": "stdout",
     "output_type": "stream",
     "text": [
      "{'radius': 0.4, 'sigma_input': 0.5, 'in_cluster_weight': 0.1}\n",
      "AVERAGE RMNSE ERROR ON TRAIN DATA SET: 1.3967557573459626 ± 0.0017195353392688141\n",
      "AVG NUMBER OF ACCURATE 0.5 PREDICTIONS ON TRAIN DATA SET: 2.208304434396902 ± 0.14281845229179782\n",
      "AVG NUMBER OF ACCURATE 1 PREDICTIONS ON TRAIN DATA SET: 3.324461340682466 ± 0.21731089663973352\n",
      "POWER SPECTRUM MEAN ERROR ON TRAIN DATA SET: 0.45089101523329245 ± 0.2044164289722296\n",
      "TEMPORAL DISTANCE ON TRAIN DATA SET: 0.08972699099461287 ± 0.0009992143477611758\n",
      "GEOMETRICAL DISTANCE ON TRAIN DATA SET: 12.176755953302344 ± 0.06121252777664936\n",
      "\n",
      "\n",
      "AVERAGE RMNSE ERROR ON TEST DATA SET: 1.3986734428397076 ± 0.002268761512432015\n",
      "AVG NUMBER OF ACCURATE 0.5 PREDICTIONS ON TEST DATA SET: 2.0793238214144276 ± 0.09212731726483413\n",
      "AVG NUMBER OF ACCURATE 1 PREDICTIONS ON TEST DATA SET: 3.0681751876133943 ± 0.15129843448085406\n",
      "POWER SPECTRUM MEAN ERROR ON TEST DATA SET: 0.7138434298645302 ± 0.2619426982640132\n",
      "TEMPORAL DISTANCE ON TEST DATA SET: 0.09011184028497093 ± 0.0006396110263755461\n",
      "GEOMETRICAL DISTANCE ON TEST DATA SET: 12.13505362961894 ± 0.08048735848466453\n"
     ]
    }
   ],
   "source": [
    "!bash ./1_PGClustered_ESN_Evaluate_Tuned_Model.sh \"evaluate_tuned_model\" \"Lorenz96_F8_ALPHA3_DIM40\" 3000 1 1 3 \"grid_search_for_icw_0.1.json\" "
   ]
  },
  {
   "cell_type": "code",
   "execution_count": 10,
   "metadata": {},
   "outputs": [
    {
     "name": "stdout",
     "output_type": "stream",
     "text": [
      "Grid Search Progress: 100%|███████████| 25/25 [36:43<00:00, 88.12s/trial, Current Best Loss=0.10606]\n",
      "{'radius': 0.1, 'sigma_input': 0.5, 'in_cluster_weight': 0.3}\n"
     ]
    }
   ],
   "source": [
    "!bash ./0_PGClustered_ESN_Tune.sh \"tune\" \"Lorenz96_F8_ALPHA3_DIM40\" 3000 1 1 3 \"grid_search_for_icw_0.3.json\"  "
   ]
  },
  {
   "cell_type": "code",
   "execution_count": 10,
   "metadata": {},
   "outputs": [
    {
     "name": "stdout",
     "output_type": "stream",
     "text": [
      "{'radius': 0.1, 'sigma_input': 0.5, 'in_cluster_weight': 0.3}\n",
      "AVERAGE RMNSE ERROR ON TRAIN DATA SET: 1.3962246739031197 ± 0.0021880579631196233\n",
      "AVG NUMBER OF ACCURATE 0.5 PREDICTIONS ON TRAIN DATA SET: 2.3236052853963858 ± 0.14009408849827118\n",
      "AVG NUMBER OF ACCURATE 1 PREDICTIONS ON TRAIN DATA SET: 3.4821973717108166 ± 0.20947919731114722\n",
      "POWER SPECTRUM MEAN ERROR ON TRAIN DATA SET: 0.43486389356781724 ± 0.1469513307621737\n",
      "TEMPORAL DISTANCE ON TRAIN DATA SET: 0.08968942997502889 ± 0.0006422390436288902\n",
      "GEOMETRICAL DISTANCE ON TRAIN DATA SET: 12.1610137804705 ± 0.0650794982167937\n",
      "\n",
      "\n",
      "AVERAGE RMNSE ERROR ON TEST DATA SET: 1.3968496048155374 ± 0.002861320264905704\n",
      "AVG NUMBER OF ACCURATE 0.5 PREDICTIONS ON TEST DATA SET: 2.1569355322566954 ± 0.08849748291239723\n",
      "AVG NUMBER OF ACCURATE 1 PREDICTIONS ON TEST DATA SET: 3.203297734547415 ± 0.1897849295316727\n",
      "POWER SPECTRUM MEAN ERROR ON TEST DATA SET: 0.5853041609681477 ± 0.2236360845912674\n",
      "TEMPORAL DISTANCE ON TEST DATA SET: 0.09047850268551257 ± 0.0008763930030214693\n",
      "GEOMETRICAL DISTANCE ON TEST DATA SET: 12.124671964049082 ± 0.07616599570995525\n"
     ]
    }
   ],
   "source": [
    "!bash ./1_PGClustered_ESN_Evaluate_Tuned_Model.sh \"evaluate_tuned_model\" \"Lorenz96_F8_ALPHA3_DIM40\" 3000 1 1 3 \"grid_search_for_icw_0.3.json\" "
   ]
  },
  {
   "cell_type": "code",
   "execution_count": 11,
   "metadata": {},
   "outputs": [
    {
     "name": "stdout",
     "output_type": "stream",
     "text": [
      "Grid Search Progress: 100%|███████████| 25/25 [36:50<00:00, 88.41s/trial, Current Best Loss=0.10668]\n",
      "{'radius': 0.1, 'sigma_input': 0.5, 'in_cluster_weight': 0.7}\n"
     ]
    }
   ],
   "source": [
    "!bash ./0_PGClustered_ESN_Tune.sh \"tune\" \"Lorenz96_F8_ALPHA3_DIM40\" 3000 1 1 3 \"grid_search_for_icw_0.7.json\"  "
   ]
  },
  {
   "cell_type": "code",
   "execution_count": 11,
   "metadata": {},
   "outputs": [
    {
     "name": "stdout",
     "output_type": "stream",
     "text": [
      "{'radius': 0.1, 'sigma_input': 0.5, 'in_cluster_weight': 0.7}\n",
      "AVERAGE RMNSE ERROR ON TRAIN DATA SET: 1.3970105174640548 ± 0.0034279258398327056\n",
      "AVG NUMBER OF ACCURATE 0.5 PREDICTIONS ON TRAIN DATA SET: 2.3342140804036022 ± 0.1310711092655204\n",
      "AVG NUMBER OF ACCURATE 1 PREDICTIONS ON TRAIN DATA SET: 3.481080656446898 ± 0.2019099869085198\n",
      "POWER SPECTRUM MEAN ERROR ON TRAIN DATA SET: 0.41853843804316576 ± 0.14850397360451748\n",
      "TEMPORAL DISTANCE ON TRAIN DATA SET: 0.09003444166153263 ± 0.0008920397776091848\n",
      "GEOMETRICAL DISTANCE ON TRAIN DATA SET: 12.166317602738495 ± 0.07623032784395532\n",
      "\n",
      "\n",
      "AVERAGE RMNSE ERROR ON TEST DATA SET: 1.397094780166729 ± 0.002489916368082596\n",
      "AVG NUMBER OF ACCURATE 0.5 PREDICTIONS ON TEST DATA SET: 2.1639150026561795 ± 0.09393817495368541\n",
      "AVG NUMBER OF ACCURATE 1 PREDICTIONS ON TEST DATA SET: 3.2222818940340128 ± 0.19785014859704453\n",
      "POWER SPECTRUM MEAN ERROR ON TEST DATA SET: 0.6264211918239148 ± 0.22562677446302457\n",
      "TEMPORAL DISTANCE ON TEST DATA SET: 0.09044291482787417 ± 0.0005961163581582446\n",
      "GEOMETRICAL DISTANCE ON TEST DATA SET: 12.139483158221166 ± 0.08844260362809465\n"
     ]
    }
   ],
   "source": [
    "!bash ./1_PGClustered_ESN_Evaluate_Tuned_Model.sh \"evaluate_tuned_model\" \"Lorenz96_F8_ALPHA3_DIM40\" 3000 1 1 3 \"grid_search_for_icw_0.7.json\" "
   ]
  },
  {
   "cell_type": "code",
   "execution_count": 12,
   "metadata": {},
   "outputs": [
    {
     "name": "stdout",
     "output_type": "stream",
     "text": [
      "Grid Search Progress: 100%|███████████| 25/25 [36:37<00:00, 87.89s/trial, Current Best Loss=0.10689]\n",
      "{'radius': 0.4, 'sigma_input': 0.5, 'in_cluster_weight': 0.9}\n"
     ]
    }
   ],
   "source": [
    "!bash ./0_PGClustered_ESN_Tune.sh \"tune\" \"Lorenz96_F8_ALPHA3_DIM40\" 3000 1 1 3 \"grid_search_for_icw_0.9.json\"  "
   ]
  },
  {
   "cell_type": "code",
   "execution_count": 12,
   "metadata": {},
   "outputs": [
    {
     "name": "stdout",
     "output_type": "stream",
     "text": [
      "{'radius': 0.4, 'sigma_input': 0.5, 'in_cluster_weight': 0.9}\n",
      "AVERAGE RMNSE ERROR ON TRAIN DATA SET: 1.3967625183628862 ± 0.0021899202931758392\n",
      "AVG NUMBER OF ACCURATE 0.5 PREDICTIONS ON TRAIN DATA SET: 2.2730739197041183 ± 0.12278663922842503\n",
      "AVG NUMBER OF ACCURATE 1 PREDICTIONS ON TRAIN DATA SET: 3.362708838471641 ± 0.18341750756640135\n",
      "POWER SPECTRUM MEAN ERROR ON TRAIN DATA SET: 0.39739440305524676 ± 0.13280850247766238\n",
      "TEMPORAL DISTANCE ON TRAIN DATA SET: 0.08990449815833543 ± 0.0008080287102217513\n",
      "GEOMETRICAL DISTANCE ON TRAIN DATA SET: 12.178860433072163 ± 0.06023821813633037\n",
      "\n",
      "\n",
      "AVERAGE RMNSE ERROR ON TEST DATA SET: 1.3985563322753556 ± 0.0028171955738806424\n",
      "AVG NUMBER OF ACCURATE 0.5 PREDICTIONS ON TEST DATA SET: 2.122596537891232 ± 0.0833857164995258\n",
      "AVG NUMBER OF ACCURATE 1 PREDICTIONS ON TEST DATA SET: 3.1709129918938066 ± 0.16003449261703137\n",
      "POWER SPECTRUM MEAN ERROR ON TEST DATA SET: 0.6755347102218173 ± 0.21843261588329788\n",
      "TEMPORAL DISTANCE ON TEST DATA SET: 0.09057622861608175 ± 0.001049452094238502\n",
      "GEOMETRICAL DISTANCE ON TEST DATA SET: 12.136566239646196 ± 0.07780429572155347\n"
     ]
    }
   ],
   "source": [
    "!bash ./1_PGClustered_ESN_Evaluate_Tuned_Model.sh \"evaluate_tuned_model\" \"Lorenz96_F8_ALPHA3_DIM40\" 3000 1 1 3 \"grid_search_for_icw_0.9.json\" "
   ]
  },
  {
   "cell_type": "code",
   "execution_count": 13,
   "metadata": {},
   "outputs": [
    {
     "name": "stdout",
     "output_type": "stream",
     "text": [
      "Grid Search Progress: 100%|███████████| 25/25 [36:33<00:00, 87.73s/trial, Current Best Loss=0.10738]\n",
      "{'radius': 0.1, 'sigma_input': 0.5, 'in_cluster_weight': 0.1}\n"
     ]
    }
   ],
   "source": [
    "!bash ./0_PGClustered_ESN_Tune.sh \"tune\" \"Lorenz96_F8_ALPHA4_DIM40\" 3000 1 1 4 \"grid_search_for_icw_0.1.json\" "
   ]
  },
  {
   "cell_type": "code",
   "execution_count": 13,
   "metadata": {},
   "outputs": [
    {
     "name": "stdout",
     "output_type": "stream",
     "text": [
      "{'radius': 0.1, 'sigma_input': 0.5, 'in_cluster_weight': 0.1}\n",
      "AVERAGE RMNSE ERROR ON TRAIN DATA SET: 1.402648016504941 ± 0.0025079099487080696\n",
      "AVG NUMBER OF ACCURATE 0.5 PREDICTIONS ON TRAIN DATA SET: 2.1625765920117823 ± 0.11689042133763158\n",
      "AVG NUMBER OF ACCURATE 1 PREDICTIONS ON TRAIN DATA SET: 3.0733208034902395 ± 0.15542911183563127\n",
      "POWER SPECTRUM MEAN ERROR ON TRAIN DATA SET: 0.5157809092802015 ± 0.23738686167003317\n",
      "TEMPORAL DISTANCE ON TRAIN DATA SET: 0.08933672054118821 ± 0.0007567071244280737\n",
      "GEOMETRICAL DISTANCE ON TRAIN DATA SET: 11.79862346129582 ± 0.0729107714173891\n",
      "\n",
      "\n",
      "AVERAGE RMNSE ERROR ON TEST DATA SET: 1.3977524576051468 ± 0.0024307015971026095\n",
      "AVG NUMBER OF ACCURATE 0.5 PREDICTIONS ON TEST DATA SET: 2.2828569080900754 ± 0.10817662662351282\n",
      "AVG NUMBER OF ACCURATE 1 PREDICTIONS ON TEST DATA SET: 3.2235830165381962 ± 0.17023987238515192\n",
      "POWER SPECTRUM MEAN ERROR ON TEST DATA SET: 0.4758575252104384 ± 0.21039173699500566\n",
      "TEMPORAL DISTANCE ON TEST DATA SET: 0.09016731051781976 ± 0.000696493387065584\n",
      "GEOMETRICAL DISTANCE ON TEST DATA SET: 11.739764425625093 ± 0.06572188413900347\n"
     ]
    }
   ],
   "source": [
    "!bash ./1_PGClustered_ESN_Evaluate_Tuned_Model.sh \"evaluate_tuned_model\" \"Lorenz96_F8_ALPHA4_DIM40\" 3000 1 1 4 \"grid_search_for_icw_0.1.json\" "
   ]
  },
  {
   "cell_type": "code",
   "execution_count": 14,
   "metadata": {},
   "outputs": [
    {
     "name": "stdout",
     "output_type": "stream",
     "text": [
      "Grid Search Progress: 100%|███████████| 25/25 [36:36<00:00, 87.87s/trial, Current Best Loss=0.10716]\n",
      "{'radius': 0.1, 'sigma_input': 0.5, 'in_cluster_weight': 0.3}\n"
     ]
    }
   ],
   "source": [
    "!bash ./0_PGClustered_ESN_Tune.sh \"tune\" \"Lorenz96_F8_ALPHA4_DIM40\" 3000 1 1 4 \"grid_search_for_icw_0.3.json\" "
   ]
  },
  {
   "cell_type": "code",
   "execution_count": 14,
   "metadata": {},
   "outputs": [
    {
     "name": "stdout",
     "output_type": "stream",
     "text": [
      "{'radius': 0.1, 'sigma_input': 0.5, 'in_cluster_weight': 0.3}\n",
      "AVERAGE RMNSE ERROR ON TRAIN DATA SET: 1.4026289456843712 ± 0.003990886286680973\n",
      "AVG NUMBER OF ACCURATE 0.5 PREDICTIONS ON TRAIN DATA SET: 2.1615184074128533 ± 0.11752573321757544\n",
      "AVG NUMBER OF ACCURATE 1 PREDICTIONS ON TRAIN DATA SET: 3.0729680752905963 ± 0.15790881581705826\n",
      "POWER SPECTRUM MEAN ERROR ON TRAIN DATA SET: 0.4897845724066472 ± 0.1830735267953776\n",
      "TEMPORAL DISTANCE ON TRAIN DATA SET: 0.089800912531695 ± 0.0007160676097746829\n",
      "GEOMETRICAL DISTANCE ON TRAIN DATA SET: 11.801408065894988 ± 0.08015689977785269\n",
      "\n",
      "\n",
      "AVERAGE RMNSE ERROR ON TEST DATA SET: 1.3991340692425032 ± 0.0027615664232640007\n",
      "AVG NUMBER OF ACCURATE 0.5 PREDICTIONS ON TEST DATA SET: 2.2860314618868633 ± 0.10859160267177315\n",
      "AVG NUMBER OF ACCURATE 1 PREDICTIONS ON TEST DATA SET: 3.2158229961460476 ± 0.16672182590102283\n",
      "POWER SPECTRUM MEAN ERROR ON TEST DATA SET: 0.4367115492142439 ± 0.2031696168974445\n",
      "TEMPORAL DISTANCE ON TEST DATA SET: 0.08986197861570787 ± 0.0006301709505852364\n",
      "GEOMETRICAL DISTANCE ON TEST DATA SET: 11.738329537972806 ± 0.06569114754291858\n"
     ]
    }
   ],
   "source": [
    "!bash ./1_PGClustered_ESN_Evaluate_Tuned_Model.sh \"evaluate_tuned_model\" \"Lorenz96_F8_ALPHA4_DIM40\" 3000 1 1 4 \"grid_search_for_icw_0.3.json\" "
   ]
  },
  {
   "cell_type": "code",
   "execution_count": 15,
   "metadata": {},
   "outputs": [
    {
     "name": "stdout",
     "output_type": "stream",
     "text": [
      "Grid Search Progress: 100%|███████████| 25/25 [36:41<00:00, 88.07s/trial, Current Best Loss=0.10686]\n",
      "{'radius': 0.1, 'sigma_input': 0.5, 'in_cluster_weight': 0.7}\n"
     ]
    }
   ],
   "source": [
    "!bash ./0_PGClustered_ESN_Tune.sh \"tune\" \"Lorenz96_F8_ALPHA4_DIM40\" 3000 1 1 4 \"grid_search_for_icw_0.7.json\" "
   ]
  },
  {
   "cell_type": "code",
   "execution_count": 15,
   "metadata": {},
   "outputs": [
    {
     "name": "stdout",
     "output_type": "stream",
     "text": [
      "{'radius': 0.1, 'sigma_input': 0.5, 'in_cluster_weight': 0.7}\n",
      "AVERAGE RMNSE ERROR ON TRAIN DATA SET: 1.4023838414279926 ± 0.0012854876973061985\n",
      "AVG NUMBER OF ACCURATE 0.5 PREDICTIONS ON TRAIN DATA SET: 2.167514786806785 ± 0.12277525721812069\n",
      "AVG NUMBER OF ACCURATE 1 PREDICTIONS ON TRAIN DATA SET: 3.0874299314759637 ± 0.15528495941396475\n",
      "POWER SPECTRUM MEAN ERROR ON TRAIN DATA SET: 0.5449716853269079 ± 0.15191331373929956\n",
      "TEMPORAL DISTANCE ON TRAIN DATA SET: 0.08927909037937033 ± 0.0007625294851344297\n",
      "GEOMETRICAL DISTANCE ON TRAIN DATA SET: 11.78702307769044 ± 0.07065307208207951\n",
      "\n",
      "\n",
      "AVERAGE RMNSE ERROR ON TEST DATA SET: 1.39878794153564 ± 0.001939561743379707\n",
      "AVG NUMBER OF ACCURATE 0.5 PREDICTIONS ON TEST DATA SET: 2.2881478310847223 ± 0.11087734778559792\n",
      "AVG NUMBER OF ACCURATE 1 PREDICTIONS ON TEST DATA SET: 3.21264844234926 ± 0.1816108408046357\n",
      "POWER SPECTRUM MEAN ERROR ON TEST DATA SET: 0.4697739378963293 ± 0.17613455879526144\n",
      "TEMPORAL DISTANCE ON TEST DATA SET: 0.09000209282704323 ± 0.0007436412065059801\n",
      "GEOMETRICAL DISTANCE ON TEST DATA SET: 11.747931677860388 ± 0.05429116536705294\n"
     ]
    }
   ],
   "source": [
    "!bash ./1_PGClustered_ESN_Evaluate_Tuned_Model.sh \"evaluate_tuned_model\" \"Lorenz96_F8_ALPHA4_DIM40\" 3000 1 1 4 \"grid_search_for_icw_0.7.json\" "
   ]
  },
  {
   "cell_type": "code",
   "execution_count": 16,
   "metadata": {},
   "outputs": [
    {
     "name": "stdout",
     "output_type": "stream",
     "text": [
      "Grid Search Progress: 100%|███████████| 25/25 [36:34<00:00, 87.76s/trial, Current Best Loss=0.10779]\n",
      "{'radius': 0.1, 'sigma_input': 0.5, 'in_cluster_weight': 0.9}\n"
     ]
    }
   ],
   "source": [
    "!bash ./0_PGClustered_ESN_Tune.sh \"tune\" \"Lorenz96_F8_ALPHA4_DIM40\" 3000 1 1 4 \"grid_search_for_icw_0.9.json\" "
   ]
  },
  {
   "cell_type": "code",
   "execution_count": 16,
   "metadata": {},
   "outputs": [
    {
     "name": "stdout",
     "output_type": "stream",
     "text": [
      "{'radius': 0.1, 'sigma_input': 0.5, 'in_cluster_weight': 0.9}\n",
      "AVERAGE RMNSE ERROR ON TRAIN DATA SET: 1.4017891838282184 ± 0.0024437213541669608\n",
      "AVG NUMBER OF ACCURATE 0.5 PREDICTIONS ON TRAIN DATA SET: 2.172100253402146 ± 0.10670596470334412\n",
      "AVG NUMBER OF ACCURATE 1 PREDICTIONS ON TRAIN DATA SET: 3.084608105878819 ± 0.13823840709357366\n",
      "POWER SPECTRUM MEAN ERROR ON TRAIN DATA SET: 0.5370458930699143 ± 0.18601520450592263\n",
      "TEMPORAL DISTANCE ON TRAIN DATA SET: 0.08911071657212809 ± 0.000702752313035889\n",
      "GEOMETRICAL DISTANCE ON TRAIN DATA SET: 11.77950023674 ± 0.07988411550056679\n",
      "\n",
      "\n",
      "AVERAGE RMNSE ERROR ON TEST DATA SET: 1.399300397042048 ± 0.0022433179520054266\n",
      "AVG NUMBER OF ACCURATE 0.5 PREDICTIONS ON TEST DATA SET: 2.2990824052736576 ± 0.12358380029225548\n",
      "AVG NUMBER OF ACCURATE 1 PREDICTIONS ON TEST DATA SET: 3.2052411501567555 ± 0.17988826948340822\n",
      "POWER SPECTRUM MEAN ERROR ON TEST DATA SET: 0.34705297128032087 ± 0.0881103145494937\n",
      "TEMPORAL DISTANCE ON TEST DATA SET: 0.09030329419431903 ± 0.0008551868503015915\n",
      "GEOMETRICAL DISTANCE ON TEST DATA SET: 11.75544614925305 ± 0.07689749704197509\n"
     ]
    }
   ],
   "source": [
    "!bash ./1_PGClustered_ESN_Evaluate_Tuned_Model.sh \"evaluate_tuned_model\" \"Lorenz96_F8_ALPHA4_DIM40\" 3000 1 1 4 \"grid_search_for_icw_0.9.json\" "
   ]
  },
  {
   "cell_type": "code",
   "execution_count": 17,
   "metadata": {},
   "outputs": [
    {
     "name": "stdout",
     "output_type": "stream",
     "text": [
      "Grid Search Progress: 100%|███████████| 25/25 [36:33<00:00, 87.73s/trial, Current Best Loss=0.10950]\n",
      "{'radius': 0.4, 'sigma_input': 0.5, 'in_cluster_weight': 0.1}\n"
     ]
    }
   ],
   "source": [
    "!bash ./0_PGClustered_ESN_Tune.sh \"tune\" \"Lorenz96_F8_ALPHA5_DIM40\" 3000 1 1 5 \"grid_search_for_icw_0.1.json\" "
   ]
  },
  {
   "cell_type": "code",
   "execution_count": 17,
   "metadata": {},
   "outputs": [
    {
     "name": "stdout",
     "output_type": "stream",
     "text": [
      "{'radius': 0.4, 'sigma_input': 0.5, 'in_cluster_weight': 0.1}\n",
      "AVERAGE RMNSE ERROR ON TRAIN DATA SET: 1.404092158537844 ± 0.0023972924131131688\n",
      "AVG NUMBER OF ACCURATE 0.5 PREDICTIONS ON TRAIN DATA SET: 2.2141160587948487 ± 0.10812216782676506\n",
      "AVG NUMBER OF ACCURATE 1 PREDICTIONS ON TRAIN DATA SET: 3.3499261166334953 ± 0.171414912217282\n",
      "POWER SPECTRUM MEAN ERROR ON TRAIN DATA SET: 0.4936567052045143 ± 0.16639302076200901\n",
      "TEMPORAL DISTANCE ON TRAIN DATA SET: 0.09444528027197377 ± 0.0007956013527602879\n",
      "GEOMETRICAL DISTANCE ON TRAIN DATA SET: 11.571765914794529 ± 0.07398199830812723\n",
      "\n",
      "\n",
      "AVERAGE RMNSE ERROR ON TEST DATA SET: 1.4065115004695927 ± 0.002163837551551341\n",
      "AVG NUMBER OF ACCURATE 0.5 PREDICTIONS ON TEST DATA SET: 2.0180985802247644 ± 0.10656377409170334\n",
      "AVG NUMBER OF ACCURATE 1 PREDICTIONS ON TEST DATA SET: 2.9566319465688933 ± 0.1532266618382363\n",
      "POWER SPECTRUM MEAN ERROR ON TEST DATA SET: 0.597452621187159 ± 0.22924074245082268\n",
      "TEMPORAL DISTANCE ON TEST DATA SET: 0.09487126341109729 ± 0.0006067989171481655\n",
      "GEOMETRICAL DISTANCE ON TEST DATA SET: 11.641232243242367 ± 0.06827371953977429\n"
     ]
    }
   ],
   "source": [
    "!bash ./1_PGClustered_ESN_Evaluate_Tuned_Model.sh \"evaluate_tuned_model\" \"Lorenz96_F8_ALPHA5_DIM40\" 3000 1 1 5 \"grid_search_for_icw_0.1.json\" "
   ]
  },
  {
   "cell_type": "code",
   "execution_count": 18,
   "metadata": {},
   "outputs": [
    {
     "name": "stdout",
     "output_type": "stream",
     "text": [
      "Grid Search Progress: 100%|███████████| 25/25 [36:30<00:00, 87.61s/trial, Current Best Loss=0.10894]\n",
      "{'radius': 0.9, 'sigma_input': 0.5, 'in_cluster_weight': 0.3}\n"
     ]
    }
   ],
   "source": [
    "!bash ./0_PGClustered_ESN_Tune.sh \"tune\" \"Lorenz96_F8_ALPHA5_DIM40\" 3000 1 1 5 \"grid_search_for_icw_0.3.json\" "
   ]
  },
  {
   "cell_type": "code",
   "execution_count": 18,
   "metadata": {},
   "outputs": [
    {
     "name": "stdout",
     "output_type": "stream",
     "text": [
      "{'radius': 0.9, 'sigma_input': 0.5, 'in_cluster_weight': 0.3}\n",
      "AVERAGE RMNSE ERROR ON TRAIN DATA SET: 1.4074086818872624 ± 0.0018892854404729477\n",
      "AVG NUMBER OF ACCURATE 0.5 PREDICTIONS ON TRAIN DATA SET: 2.0676276219191325 ± 0.10608988249271696\n",
      "AVG NUMBER OF ACCURATE 1 PREDICTIONS ON TRAIN DATA SET: 3.1492915240071566 ± 0.20058497315010884\n",
      "POWER SPECTRUM MEAN ERROR ON TRAIN DATA SET: 0.48089517245682545 ± 0.14936527973466587\n",
      "TEMPORAL DISTANCE ON TRAIN DATA SET: 0.09448875681895591 ± 0.000533388413949028\n",
      "GEOMETRICAL DISTANCE ON TRAIN DATA SET: 11.633152115736753 ± 0.05122507882193605\n",
      "\n",
      "\n",
      "AVERAGE RMNSE ERROR ON TEST DATA SET: 1.410315011860329 ± 0.0025185627607319985\n",
      "AVG NUMBER OF ACCURATE 0.5 PREDICTIONS ON TEST DATA SET: 1.857339063538807 ± 0.11686132161666102\n",
      "AVG NUMBER OF ACCURATE 1 PREDICTIONS ON TEST DATA SET: 2.7618736809232423 ± 0.18531309916266492\n",
      "POWER SPECTRUM MEAN ERROR ON TEST DATA SET: 0.6085104587687132 ± 0.2206900363700541\n",
      "TEMPORAL DISTANCE ON TEST DATA SET: 0.09474046086721799 ± 0.0006792558610583118\n",
      "GEOMETRICAL DISTANCE ON TEST DATA SET: 11.706108742856843 ± 0.06641045032362819\n"
     ]
    }
   ],
   "source": [
    "!bash ./1_PGClustered_ESN_Evaluate_Tuned_Model.sh \"evaluate_tuned_model\" \"Lorenz96_F8_ALPHA5_DIM40\" 3000 1 1 5 \"grid_search_for_icw_0.3.json\" "
   ]
  },
  {
   "cell_type": "code",
   "execution_count": 19,
   "metadata": {},
   "outputs": [
    {
     "name": "stdout",
     "output_type": "stream",
     "text": [
      "Grid Search Progress: 100%|███████████| 25/25 [36:38<00:00, 87.96s/trial, Current Best Loss=0.10931]\n",
      "{'radius': 0.7, 'sigma_input': 0.5, 'in_cluster_weight': 0.7}\n"
     ]
    }
   ],
   "source": [
    "!bash ./0_PGClustered_ESN_Tune.sh \"tune\" \"Lorenz96_F8_ALPHA5_DIM40\" 3000 1 1 5 \"grid_search_for_icw_0.7.json\" "
   ]
  },
  {
   "cell_type": "code",
   "execution_count": 19,
   "metadata": {},
   "outputs": [
    {
     "name": "stdout",
     "output_type": "stream",
     "text": [
      "{'radius': 0.7, 'sigma_input': 0.5, 'in_cluster_weight': 0.7}\n",
      "AVERAGE RMNSE ERROR ON TRAIN DATA SET: 1.4047179745519618 ± 0.002826344771497139\n",
      "AVG NUMBER OF ACCURATE 0.5 PREDICTIONS ON TRAIN DATA SET: 2.167944918232302 ± 0.15449253440711883\n",
      "AVG NUMBER OF ACCURATE 1 PREDICTIONS ON TRAIN DATA SET: 3.2798299305067204 ± 0.23544400958245873\n",
      "POWER SPECTRUM MEAN ERROR ON TRAIN DATA SET: 0.42871009820766626 ± 0.10887532389998049\n",
      "TEMPORAL DISTANCE ON TRAIN DATA SET: 0.09442664237824268 ± 0.0006335380731697244\n",
      "GEOMETRICAL DISTANCE ON TRAIN DATA SET: 11.586214193143448 ± 0.05168987259688396\n",
      "\n",
      "\n",
      "AVERAGE RMNSE ERROR ON TEST DATA SET: 1.4086986399838806 ± 0.002512953152316649\n",
      "AVG NUMBER OF ACCURATE 0.5 PREDICTIONS ON TEST DATA SET: 1.9702484890963068 ± 0.10638838214241662\n",
      "AVG NUMBER OF ACCURATE 1 PREDICTIONS ON TEST DATA SET: 2.905843691950092 ± 0.14866713825959676\n",
      "POWER SPECTRUM MEAN ERROR ON TEST DATA SET: 0.6601023608317026 ± 0.24833404306967638\n",
      "TEMPORAL DISTANCE ON TEST DATA SET: 0.09452273108654652 ± 0.0008853852963660285\n",
      "GEOMETRICAL DISTANCE ON TEST DATA SET: 11.667493598739473 ± 0.07718415396463504\n"
     ]
    }
   ],
   "source": [
    "!bash ./1_PGClustered_ESN_Evaluate_Tuned_Model.sh \"evaluate_tuned_model\" \"Lorenz96_F8_ALPHA5_DIM40\" 3000 1 1 5 \"grid_search_for_icw_0.7.json\" "
   ]
  },
  {
   "cell_type": "code",
   "execution_count": 20,
   "metadata": {},
   "outputs": [
    {
     "name": "stdout",
     "output_type": "stream",
     "text": [
      "Grid Search Progress: 100%|███████████| 25/25 [36:24<00:00, 87.40s/trial, Current Best Loss=0.10968]\n",
      "{'radius': 0.4, 'sigma_input': 0.5, 'in_cluster_weight': 0.9}\n"
     ]
    }
   ],
   "source": [
    "!bash ./0_PGClustered_ESN_Tune.sh \"tune\" \"Lorenz96_F8_ALPHA5_DIM40\" 3000 1 1 5 \"grid_search_for_icw_0.9.json\" "
   ]
  },
  {
   "cell_type": "code",
   "execution_count": 20,
   "metadata": {},
   "outputs": [
    {
     "name": "stdout",
     "output_type": "stream",
     "text": [
      "{'radius': 0.4, 'sigma_input': 0.5, 'in_cluster_weight': 0.9}\n",
      "AVERAGE RMNSE ERROR ON TRAIN DATA SET: 1.4041396393039276 ± 0.002839852214620623\n",
      "AVG NUMBER OF ACCURATE 0.5 PREDICTIONS ON TRAIN DATA SET: 2.272879328601726 ± 0.1406935279553719\n",
      "AVG NUMBER OF ACCURATE 1 PREDICTIONS ON TRAIN DATA SET: 3.3759498504051124 ± 0.20484358030660327\n",
      "POWER SPECTRUM MEAN ERROR ON TRAIN DATA SET: 0.46762274382992 ± 0.15309432907880116\n",
      "TEMPORAL DISTANCE ON TRAIN DATA SET: 0.0944042379405893 ± 0.0006796751289391242\n",
      "GEOMETRICAL DISTANCE ON TRAIN DATA SET: 11.578768521518352 ± 0.056831025023079206\n",
      "\n",
      "\n",
      "AVERAGE RMNSE ERROR ON TEST DATA SET: 1.406299764748077 ± 0.002597393124277622\n",
      "AVG NUMBER OF ACCURATE 0.5 PREDICTIONS ON TEST DATA SET: 2.0327893976764835 ± 0.09435325006494195\n",
      "AVG NUMBER OF ACCURATE 1 PREDICTIONS ON TEST DATA SET: 3.0132965281683823 ± 0.18505575243758418\n",
      "POWER SPECTRUM MEAN ERROR ON TEST DATA SET: 0.5885681368805254 ± 0.2607930946996705\n",
      "TEMPORAL DISTANCE ON TEST DATA SET: 0.09464981256941032 ± 0.000701747138145476\n",
      "GEOMETRICAL DISTANCE ON TEST DATA SET: 11.652411495776409 ± 0.0867363494681232\n"
     ]
    }
   ],
   "source": [
    "!bash ./1_PGClustered_ESN_Evaluate_Tuned_Model.sh \"evaluate_tuned_model\" \"Lorenz96_F8_ALPHA5_DIM40\" 3000 1 1 5 \"grid_search_for_icw_0.9.json\" "
   ]
  },
  {
   "cell_type": "code",
   "execution_count": 21,
   "metadata": {},
   "outputs": [
    {
     "name": "stdout",
     "output_type": "stream",
     "text": [
      "Grid Search Progress: 100%|████████| 25/25 [1:43:33<00:00, 248.53s/trial, Current Best Loss=0.12088]\n",
      "{'radius': 0.4, 'sigma_input': 0.5, 'in_cluster_weight': 0.1}\n"
     ]
    }
   ],
   "source": [
    "!bash ./0_PGClustered_ESN_Tune.sh \"tune\" \"Lorenz96_F8_ALPHA6_DIM40\" 3000 1 1 6 \"grid_search_for_icw_0.1.json\" "
   ]
  },
  {
   "cell_type": "code",
   "execution_count": 22,
   "metadata": {},
   "outputs": [
    {
     "name": "stdout",
     "output_type": "stream",
     "text": [
      "{'radius': 0.4, 'sigma_input': 0.5, 'in_cluster_weight': 0.1}\n",
      "AVERAGE RMNSE ERROR ON TRAIN DATA SET: 1.4088126206539655 ± 0.0024413675880194264\n",
      "AVG NUMBER OF ACCURATE 0.5 PREDICTIONS ON TRAIN DATA SET: 2.1869410780820897 ± 0.12921007895602837\n",
      "AVG NUMBER OF ACCURATE 1 PREDICTIONS ON TRAIN DATA SET: 3.1927129252422333 ± 0.14605910252898174\n",
      "POWER SPECTRUM MEAN ERROR ON TRAIN DATA SET: 0.6928582438882435 ± 0.21002175431633216\n",
      "TEMPORAL DISTANCE ON TRAIN DATA SET: 0.10589098349792755 ± 0.0004242227983170741\n",
      "GEOMETRICAL DISTANCE ON TRAIN DATA SET: 11.416404363951795 ± 0.060539966384944445\n",
      "\n",
      "\n",
      "AVERAGE RMNSE ERROR ON TEST DATA SET: 1.4096706220220179 ± 0.003013340073872809\n",
      "AVG NUMBER OF ACCURATE 0.5 PREDICTIONS ON TEST DATA SET: 2.141289704226278 ± 0.09990626517645726\n",
      "AVG NUMBER OF ACCURATE 1 PREDICTIONS ON TEST DATA SET: 3.1485031737187104 ± 0.17725116406289224\n",
      "POWER SPECTRUM MEAN ERROR ON TEST DATA SET: 0.5187755717612618 ± 0.145328998414533\n",
      "TEMPORAL DISTANCE ON TEST DATA SET: 0.10596620307063073 ± 0.00047219314670608764\n",
      "GEOMETRICAL DISTANCE ON TEST DATA SET: 11.440231006544877 ± 0.06351860639514041\n"
     ]
    }
   ],
   "source": [
    "!bash ./1_PGClustered_ESN_Evaluate_Tuned_Model.sh \"evaluate_tuned_model\" \"Lorenz96_F8_ALPHA6_DIM40\" 3000 1 1 6 \"grid_search_for_icw_0.1.json\" "
   ]
  },
  {
   "cell_type": "code",
   "execution_count": 23,
   "metadata": {},
   "outputs": [
    {
     "name": "stdout",
     "output_type": "stream",
     "text": [
      "Grid Search Progress: 100%|██████████| 25/25 [53:41<00:00, 128.88s/trial, Current Best Loss=0.12123]\n",
      "{'radius': 0.4, 'sigma_input': 0.5, 'in_cluster_weight': 0.3}\n"
     ]
    }
   ],
   "source": [
    "!bash ./0_PGClustered_ESN_Tune.sh \"tune\" \"Lorenz96_F8_ALPHA6_DIM40\" 3000 1 1 6 \"grid_search_for_icw_0.3.json\" "
   ]
  },
  {
   "cell_type": "code",
   "execution_count": 24,
   "metadata": {},
   "outputs": [
    {
     "name": "stdout",
     "output_type": "stream",
     "text": [
      "{'radius': 0.4, 'sigma_input': 0.5, 'in_cluster_weight': 0.3}\n",
      "AVERAGE RMNSE ERROR ON TRAIN DATA SET: 1.4087314596970706 ± 0.002327608857946425\n",
      "AVG NUMBER OF ACCURATE 0.5 PREDICTIONS ON TRAIN DATA SET: 2.1898243227466674 ± 0.13370005487967762\n",
      "AVG NUMBER OF ACCURATE 1 PREDICTIONS ON TRAIN DATA SET: 3.2052069854554026 ± 0.13885882448557405\n",
      "POWER SPECTRUM MEAN ERROR ON TRAIN DATA SET: 0.6797611512310823 ± 0.21990579775971258\n",
      "TEMPORAL DISTANCE ON TRAIN DATA SET: 0.10618267296429347 ± 0.0004154905874244253\n",
      "GEOMETRICAL DISTANCE ON TRAIN DATA SET: 11.434853572580703 ± 0.06713727774220374\n",
      "\n",
      "\n",
      "AVERAGE RMNSE ERROR ON TEST DATA SET: 1.4111314192243263 ± 0.0023654096306221554\n",
      "AVG NUMBER OF ACCURATE 0.5 PREDICTIONS ON TEST DATA SET: 2.145134030445715 ± 0.09822798903406303\n",
      "AVG NUMBER OF ACCURATE 1 PREDICTIONS ON TEST DATA SET: 3.1585945300447316 ± 0.17978327164796287\n",
      "POWER SPECTRUM MEAN ERROR ON TEST DATA SET: 0.5011580275069111 ± 0.1262488510334381\n",
      "TEMPORAL DISTANCE ON TEST DATA SET: 0.10590622432601407 ± 0.00041050098572204864\n",
      "GEOMETRICAL DISTANCE ON TEST DATA SET: 11.458808330422514 ± 0.07514965949586157\n"
     ]
    }
   ],
   "source": [
    "!bash ./1_PGClustered_ESN_Evaluate_Tuned_Model.sh \"evaluate_tuned_model\" \"Lorenz96_F8_ALPHA6_DIM40\" 3000 1 1 6 \"grid_search_for_icw_0.3.json\" "
   ]
  },
  {
   "cell_type": "code",
   "execution_count": 25,
   "metadata": {},
   "outputs": [
    {
     "name": "stdout",
     "output_type": "stream",
     "text": [
      "Grid Search Progress: 100%|███████████| 25/25 [36:44<00:00, 88.17s/trial, Current Best Loss=0.12156]\n",
      "{'radius': 0.1, 'sigma_input': 0.5, 'in_cluster_weight': 0.7}\n"
     ]
    }
   ],
   "source": [
    "!bash ./0_PGClustered_ESN_Tune.sh \"tune\" \"Lorenz96_F8_ALPHA6_DIM40\" 3000 1 1 6 \"grid_search_for_icw_0.7.json\" "
   ]
  },
  {
   "cell_type": "code",
   "execution_count": 26,
   "metadata": {},
   "outputs": [
    {
     "name": "stdout",
     "output_type": "stream",
     "text": [
      "{'radius': 0.1, 'sigma_input': 0.5, 'in_cluster_weight': 0.7}\n",
      "AVERAGE RMNSE ERROR ON TRAIN DATA SET: 1.4074982484054357 ± 0.0023185697363056353\n",
      "AVG NUMBER OF ACCURATE 0.5 PREDICTIONS ON TRAIN DATA SET: 2.2436448898187824 ± 0.13532065834613574\n",
      "AVG NUMBER OF ACCURATE 1 PREDICTIONS ON TRAIN DATA SET: 3.3022762224961815 ± 0.15872109844737065\n",
      "POWER SPECTRUM MEAN ERROR ON TRAIN DATA SET: 0.64066887045392 ± 0.17624887411662274\n",
      "TEMPORAL DISTANCE ON TRAIN DATA SET: 0.10623900309695164 ± 0.0005632036629568948\n",
      "GEOMETRICAL DISTANCE ON TRAIN DATA SET: 11.408667026926697 ± 0.062470381456830815\n",
      "\n",
      "\n",
      "AVERAGE RMNSE ERROR ON TEST DATA SET: 1.4087649768199375 ± 0.0017399098307893403\n",
      "AVG NUMBER OF ACCURATE 0.5 PREDICTIONS ON TEST DATA SET: 2.217695687837584 ± 0.09595786898977615\n",
      "AVG NUMBER OF ACCURATE 1 PREDICTIONS ON TEST DATA SET: 3.2595080933049467 ± 0.10365766930396271\n",
      "POWER SPECTRUM MEAN ERROR ON TEST DATA SET: 0.44625567517388454 ± 0.12423588881017564\n",
      "TEMPORAL DISTANCE ON TEST DATA SET: 0.10551878582072918 ± 0.0005268205365410919\n",
      "GEOMETRICAL DISTANCE ON TEST DATA SET: 11.419289649300435 ± 0.08861016224534211\n"
     ]
    }
   ],
   "source": [
    "!bash ./1_PGClustered_ESN_Evaluate_Tuned_Model.sh \"evaluate_tuned_model\" \"Lorenz96_F8_ALPHA6_DIM40\" 3000 1 1 6 \"grid_search_for_icw_0.7.json\" "
   ]
  },
  {
   "cell_type": "code",
   "execution_count": 1,
   "metadata": {},
   "outputs": [
    {
     "name": "stdout",
     "output_type": "stream",
     "text": [
      "Grid Search Progress: 100%|███████████| 25/25 [36:36<00:00, 87.87s/trial, Current Best Loss=0.12069]\n",
      "{'radius': 0.1, 'sigma_input': 0.5, 'in_cluster_weight': 0.9}\n"
     ]
    }
   ],
   "source": [
    "!bash ./0_PGClustered_ESN_Tune.sh \"tune\" \"Lorenz96_F8_ALPHA6_DIM40\" 3000 1 1 6 \"grid_search_for_icw_0.9.json\" "
   ]
  },
  {
   "cell_type": "code",
   "execution_count": 2,
   "metadata": {},
   "outputs": [
    {
     "name": "stdout",
     "output_type": "stream",
     "text": [
      "{'radius': 0.1, 'sigma_input': 0.5, 'in_cluster_weight': 0.9}\n",
      "AVERAGE RMNSE ERROR ON TRAIN DATA SET: 1.408417245725405 ± 0.002559565449865161\n",
      "AVG NUMBER OF ACCURATE 0.5 PREDICTIONS ON TRAIN DATA SET: 2.247008675260789 ± 0.1346749286205797\n",
      "AVG NUMBER OF ACCURATE 1 PREDICTIONS ON TRAIN DATA SET: 3.3253421798128016 ± 0.16222077315353328\n",
      "POWER SPECTRUM MEAN ERROR ON TRAIN DATA SET: 0.7650873645585085 ± 0.25475955065925426\n",
      "TEMPORAL DISTANCE ON TRAIN DATA SET: 0.10627486094297973 ± 0.0006873259598181335\n",
      "GEOMETRICAL DISTANCE ON TRAIN DATA SET: 11.4198922745917 ± 0.05821625376678909\n",
      "\n",
      "\n",
      "AVERAGE RMNSE ERROR ON TEST DATA SET: 1.4086832127020226 ± 0.0014753457564994402\n",
      "AVG NUMBER OF ACCURATE 0.5 PREDICTIONS ON TEST DATA SET: 2.218656769392443 ± 0.09194667787856785\n",
      "AVG NUMBER OF ACCURATE 1 PREDICTIONS ON TEST DATA SET: 3.2643135010792426 ± 0.10900016534065947\n",
      "POWER SPECTRUM MEAN ERROR ON TEST DATA SET: 0.5112617479734799 ± 0.12861194088178193\n",
      "TEMPORAL DISTANCE ON TEST DATA SET: 0.10579647876129768 ± 0.0007992183619818201\n",
      "GEOMETRICAL DISTANCE ON TEST DATA SET: 11.409598609817616 ± 0.06817191440335435\n"
     ]
    }
   ],
   "source": [
    "!bash ./1_PGClustered_ESN_Evaluate_Tuned_Model.sh \"evaluate_tuned_model\" \"Lorenz96_F8_ALPHA6_DIM40\" 3000 1 1 6 \"grid_search_for_icw_0.9.json\" "
   ]
  },
  {
   "cell_type": "code",
   "execution_count": 3,
   "metadata": {},
   "outputs": [
    {
     "name": "stdout",
     "output_type": "stream",
     "text": [
      "Grid Search Progress: 100%|███████████| 25/25 [36:22<00:00, 87.29s/trial, Current Best Loss=0.13547]\n",
      "{'radius': 0.9, 'sigma_input': 0.5, 'in_cluster_weight': 0.1}\n"
     ]
    }
   ],
   "source": [
    "!bash ./0_PGClustered_ESN_Tune.sh \"tune\" \"Lorenz96_F8_ALPHA7_DIM40\" 3000 1 1 7 \"grid_search_for_icw_0.1.json\" "
   ]
  },
  {
   "cell_type": "code",
   "execution_count": 4,
   "metadata": {},
   "outputs": [
    {
     "name": "stdout",
     "output_type": "stream",
     "text": [
      "{'radius': 0.9, 'sigma_input': 0.5, 'in_cluster_weight': 0.1}\n",
      "AVERAGE RMNSE ERROR ON TRAIN DATA SET: 1.4171913869287927 ± 0.003049964099896667\n",
      "AVG NUMBER OF ACCURATE 0.5 PREDICTIONS ON TRAIN DATA SET: 1.9478651553257773 ± 0.10394247402383659\n",
      "AVG NUMBER OF ACCURATE 1 PREDICTIONS ON TRAIN DATA SET: 2.9953885422059274 ± 0.1590049390405106\n",
      "POWER SPECTRUM MEAN ERROR ON TRAIN DATA SET: 0.5584603679951421 ± 0.1887311418503771\n",
      "TEMPORAL DISTANCE ON TRAIN DATA SET: 0.12261988625906384 ± 0.0004341792285940711\n",
      "GEOMETRICAL DISTANCE ON TRAIN DATA SET: 11.344014842813618 ± 0.06178820971331727\n",
      "\n",
      "\n",
      "AVERAGE RMNSE ERROR ON TEST DATA SET: 1.418733812317522 ± 0.001958037319501086\n",
      "AVG NUMBER OF ACCURATE 0.5 PREDICTIONS ON TEST DATA SET: 1.6944755558231155 ± 0.08539843508442112\n",
      "AVG NUMBER OF ACCURATE 1 PREDICTIONS ON TEST DATA SET: 2.595356451076195 ± 0.17789877623842937\n",
      "POWER SPECTRUM MEAN ERROR ON TEST DATA SET: 0.5307565730768062 ± 0.1507584190004214\n",
      "TEMPORAL DISTANCE ON TEST DATA SET: 0.12305984646680557 ± 0.00045552041904161765\n",
      "GEOMETRICAL DISTANCE ON TEST DATA SET: 11.3802875860471 ± 0.05701487626186727\n"
     ]
    }
   ],
   "source": [
    "!bash ./1_PGClustered_ESN_Evaluate_Tuned_Model.sh \"evaluate_tuned_model\" \"Lorenz96_F8_ALPHA7_DIM40\" 3000 1 1 7 \"grid_search_for_icw_0.1.json\" "
   ]
  },
  {
   "cell_type": "code",
   "execution_count": 5,
   "metadata": {},
   "outputs": [
    {
     "name": "stdout",
     "output_type": "stream",
     "text": [
      "Grid Search Progress: 100%|███████████| 25/25 [36:24<00:00, 87.36s/trial, Current Best Loss=0.13552]\n",
      "{'radius': 0.99, 'sigma_input': 0.5, 'in_cluster_weight': 0.3}\n"
     ]
    }
   ],
   "source": [
    "!bash ./0_PGClustered_ESN_Tune.sh \"tune\" \"Lorenz96_F8_ALPHA7_DIM40\" 3000 1 1 7 \"grid_search_for_icw_0.3.json\" "
   ]
  },
  {
   "cell_type": "code",
   "execution_count": 6,
   "metadata": {},
   "outputs": [
    {
     "name": "stdout",
     "output_type": "stream",
     "text": [
      "{'radius': 0.99, 'sigma_input': 0.5, 'in_cluster_weight': 0.3}\n",
      "AVERAGE RMNSE ERROR ON TRAIN DATA SET: 1.4189766745058876 ± 0.003313202442987753\n",
      "AVG NUMBER OF ACCURATE 0.5 PREDICTIONS ON TRAIN DATA SET: 1.8971872354252448 ± 0.10400956435103756\n",
      "AVG NUMBER OF ACCURATE 1 PREDICTIONS ON TRAIN DATA SET: 2.9134412674731522 ± 0.16351103697257252\n",
      "POWER SPECTRUM MEAN ERROR ON TRAIN DATA SET: 0.5192270696574374 ± 0.16616747495837036\n",
      "TEMPORAL DISTANCE ON TRAIN DATA SET: 0.122809629888779 ± 0.0005462164503249266\n",
      "GEOMETRICAL DISTANCE ON TRAIN DATA SET: 11.356350186156916 ± 0.06032938227914266\n",
      "\n",
      "\n",
      "AVERAGE RMNSE ERROR ON TEST DATA SET: 1.4204508148838173 ± 0.0030102415544002534\n",
      "AVG NUMBER OF ACCURATE 0.5 PREDICTIONS ON TEST DATA SET: 1.6497280308045608 ± 0.07960111919064247\n",
      "AVG NUMBER OF ACCURATE 1 PREDICTIONS ON TEST DATA SET: 2.516643937188133 ± 0.13360776247877704\n",
      "POWER SPECTRUM MEAN ERROR ON TEST DATA SET: 0.49182267941574026 ± 0.11627529882371282\n",
      "TEMPORAL DISTANCE ON TEST DATA SET: 0.12298097505522976 ± 0.0005650293977993029\n",
      "GEOMETRICAL DISTANCE ON TEST DATA SET: 11.397008596789602 ± 0.09053844990621462\n"
     ]
    }
   ],
   "source": [
    "!bash ./1_PGClustered_ESN_Evaluate_Tuned_Model.sh \"evaluate_tuned_model\" \"Lorenz96_F8_ALPHA7_DIM40\" 3000 1 1 7 \"grid_search_for_icw_0.3.json\" "
   ]
  },
  {
   "cell_type": "code",
   "execution_count": 7,
   "metadata": {},
   "outputs": [
    {
     "name": "stdout",
     "output_type": "stream",
     "text": [
      "Grid Search Progress: 100%|███████████| 25/25 [36:31<00:00, 87.65s/trial, Current Best Loss=0.13530]\n",
      "{'radius': 0.4, 'sigma_input': 0.5, 'in_cluster_weight': 0.7}\n"
     ]
    }
   ],
   "source": [
    "!bash ./0_PGClustered_ESN_Tune.sh \"tune\" \"Lorenz96_F8_ALPHA7_DIM40\" 3000 1 1 7 \"grid_search_for_icw_0.7.json\" "
   ]
  },
  {
   "cell_type": "code",
   "execution_count": 8,
   "metadata": {},
   "outputs": [
    {
     "name": "stdout",
     "output_type": "stream",
     "text": [
      "{'radius': 0.4, 'sigma_input': 0.5, 'in_cluster_weight': 0.7}\n",
      "AVERAGE RMNSE ERROR ON TRAIN DATA SET: 1.4119793717956048 ± 0.0023198093323697124\n",
      "AVG NUMBER OF ACCURATE 0.5 PREDICTIONS ON TRAIN DATA SET: 2.0896555056857773 ± 0.10967487796867137\n",
      "AVG NUMBER OF ACCURATE 1 PREDICTIONS ON TRAIN DATA SET: 3.1096834253858514 ± 0.21138721436857996\n",
      "POWER SPECTRUM MEAN ERROR ON TRAIN DATA SET: 0.4985197526431692 ± 0.1566407602532507\n",
      "TEMPORAL DISTANCE ON TRAIN DATA SET: 0.12312081631821134 ± 0.0004656800896109895\n",
      "GEOMETRICAL DISTANCE ON TRAIN DATA SET: 11.248883502679437 ± 0.07725506606075368\n",
      "\n",
      "\n",
      "AVERAGE RMNSE ERROR ON TEST DATA SET: 1.412442035057412 ± 0.002573475936974344\n",
      "AVG NUMBER OF ACCURATE 0.5 PREDICTIONS ON TEST DATA SET: 1.8448919351023547 ± 0.09787193489208168\n",
      "AVG NUMBER OF ACCURATE 1 PREDICTIONS ON TEST DATA SET: 2.7889029749516316 ± 0.1856123637020075\n",
      "POWER SPECTRUM MEAN ERROR ON TEST DATA SET: 0.48953131288633334 ± 0.1583840216773658\n",
      "TEMPORAL DISTANCE ON TEST DATA SET: 0.12318350555719708 ± 0.0006190760876682423\n",
      "GEOMETRICAL DISTANCE ON TEST DATA SET: 11.276754973508577 ± 0.06798340391534864\n"
     ]
    }
   ],
   "source": [
    "!bash ./1_PGClustered_ESN_Evaluate_Tuned_Model.sh \"evaluate_tuned_model\" \"Lorenz96_F8_ALPHA7_DIM40\" 3000 1 1 7 \"grid_search_for_icw_0.7.json\" "
   ]
  },
  {
   "cell_type": "code",
   "execution_count": 9,
   "metadata": {},
   "outputs": [
    {
     "name": "stdout",
     "output_type": "stream",
     "text": [
      "Grid Search Progress: 100%|███████████| 25/25 [36:20<00:00, 87.21s/trial, Current Best Loss=0.13577]\n",
      "{'radius': 0.1, 'sigma_input': 0.5, 'in_cluster_weight': 0.9}\n"
     ]
    }
   ],
   "source": [
    "!bash ./0_PGClustered_ESN_Tune.sh \"tune\" \"Lorenz96_F8_ALPHA7_DIM40\" 3000 1 1 7 \"grid_search_for_icw_0.9.json\" "
   ]
  },
  {
   "cell_type": "code",
   "execution_count": 10,
   "metadata": {},
   "outputs": [
    {
     "name": "stdout",
     "output_type": "stream",
     "text": [
      "{'radius': 0.1, 'sigma_input': 0.5, 'in_cluster_weight': 0.9}\n",
      "AVERAGE RMNSE ERROR ON TRAIN DATA SET: 1.409940634617595 ± 0.0019117355591658901\n",
      "AVG NUMBER OF ACCURATE 0.5 PREDICTIONS ON TRAIN DATA SET: 2.1074466903317086 ± 0.11955858706959843\n",
      "AVG NUMBER OF ACCURATE 1 PREDICTIONS ON TRAIN DATA SET: 3.1123790594231133 ± 0.17507183283785138\n",
      "POWER SPECTRUM MEAN ERROR ON TRAIN DATA SET: 0.421351617578 ± 0.14883776239184945\n",
      "TEMPORAL DISTANCE ON TRAIN DATA SET: 0.12321440838519164 ± 0.0006307102065603982\n",
      "GEOMETRICAL DISTANCE ON TRAIN DATA SET: 11.223471530512118 ± 0.059390689405075955\n",
      "\n",
      "\n",
      "AVERAGE RMNSE ERROR ON TEST DATA SET: 1.410271142730924 ± 0.0019185690100395059\n",
      "AVG NUMBER OF ACCURATE 0.5 PREDICTIONS ON TEST DATA SET: 1.871309148667526 ± 0.11072331163978757\n",
      "AVG NUMBER OF ACCURATE 1 PREDICTIONS ON TEST DATA SET: 2.8552155722682846 ± 0.17973553077211027\n",
      "POWER SPECTRUM MEAN ERROR ON TEST DATA SET: 0.48634438317425754 ± 0.177394309341588\n",
      "TEMPORAL DISTANCE ON TEST DATA SET: 0.12299311673315241 ± 0.0005715348819203688\n",
      "GEOMETRICAL DISTANCE ON TEST DATA SET: 11.25358483320312 ± 0.06931552351185105\n"
     ]
    }
   ],
   "source": [
    "!bash ./1_PGClustered_ESN_Evaluate_Tuned_Model.sh \"evaluate_tuned_model\" \"Lorenz96_F8_ALPHA7_DIM40\" 3000 1 1 7 \"grid_search_for_icw_0.9.json\" "
   ]
  },
  {
   "cell_type": "code",
   "execution_count": 11,
   "metadata": {},
   "outputs": [
    {
     "name": "stdout",
     "output_type": "stream",
     "text": [
      "Grid Search Progress: 100%|███████████| 25/25 [36:26<00:00, 87.47s/trial, Current Best Loss=0.15406]\n",
      "{'radius': 0.99, 'sigma_input': 1.0, 'in_cluster_weight': 0.1}\n"
     ]
    }
   ],
   "source": [
    "!bash ./0_PGClustered_ESN_Tune.sh \"tune\" \"Lorenz96_F8_ALPHA8_DIM40\" 3000 1 1 8 \"grid_search_for_icw_0.1.json\" "
   ]
  },
  {
   "cell_type": "code",
   "execution_count": 12,
   "metadata": {},
   "outputs": [
    {
     "name": "stdout",
     "output_type": "stream",
     "text": [
      "{'radius': 0.99, 'sigma_input': 1.0, 'in_cluster_weight': 0.1}\n",
      "AVERAGE RMNSE ERROR ON TRAIN DATA SET: 1.474512561075883 ± 0.0026373320719435683\n",
      "AVG NUMBER OF ACCURATE 0.5 PREDICTIONS ON TRAIN DATA SET: 0.9681386369770848 ± 0.05233017082056902\n",
      "AVG NUMBER OF ACCURATE 1 PREDICTIONS ON TRAIN DATA SET: 1.7658848738462027 ± 0.10240445121340597\n",
      "POWER SPECTRUM MEAN ERROR ON TRAIN DATA SET: 2.5341310625542968 ± 0.155646007301476\n",
      "TEMPORAL DISTANCE ON TRAIN DATA SET: 0.14052315301793383 ± 0.0007671962587827531\n",
      "GEOMETRICAL DISTANCE ON TRAIN DATA SET: 12.316528182118422 ± 0.06483374360867847\n",
      "\n",
      "\n",
      "AVERAGE RMNSE ERROR ON TEST DATA SET: 1.4746109232351077 ± 0.0032829077093715917\n",
      "AVG NUMBER OF ACCURATE 0.5 PREDICTIONS ON TEST DATA SET: 0.8942622117554488 ± 0.042542861040138845\n",
      "AVG NUMBER OF ACCURATE 1 PREDICTIONS ON TEST DATA SET: 1.6914126710018114 ± 0.08155627710398407\n",
      "POWER SPECTRUM MEAN ERROR ON TEST DATA SET: 2.6875057191839877 ± 0.13807806509340226\n",
      "TEMPORAL DISTANCE ON TEST DATA SET: 0.14077068989333855 ± 0.0008043177335247151\n",
      "GEOMETRICAL DISTANCE ON TEST DATA SET: 12.323040495357798 ± 0.07711460981353153\n"
     ]
    }
   ],
   "source": [
    "!bash ./1_PGClustered_ESN_Evaluate_Tuned_Model.sh \"evaluate_tuned_model\" \"Lorenz96_F8_ALPHA8_DIM40\" 3000 1 1 8 \"grid_search_for_icw_0.1.json\" "
   ]
  },
  {
   "cell_type": "code",
   "execution_count": 13,
   "metadata": {},
   "outputs": [
    {
     "name": "stdout",
     "output_type": "stream",
     "text": [
      "Grid Search Progress: 100%|███████████| 25/25 [36:22<00:00, 87.29s/trial, Current Best Loss=0.15373]\n",
      "{'radius': 0.4, 'sigma_input': 1.0, 'in_cluster_weight': 0.3}\n"
     ]
    }
   ],
   "source": [
    "!bash ./0_PGClustered_ESN_Tune.sh \"tune\" \"Lorenz96_F8_ALPHA8_DIM40\" 3000 1 1 8 \"grid_search_for_icw_0.3.json\" "
   ]
  },
  {
   "cell_type": "code",
   "execution_count": 14,
   "metadata": {},
   "outputs": [
    {
     "name": "stdout",
     "output_type": "stream",
     "text": [
      "{'radius': 0.4, 'sigma_input': 1.0, 'in_cluster_weight': 0.3}\n",
      "AVERAGE RMNSE ERROR ON TRAIN DATA SET: 1.4653706362961016 ± 0.0034650919462440896\n",
      "AVG NUMBER OF ACCURATE 0.5 PREDICTIONS ON TRAIN DATA SET: 1.033674175480149 ± 0.05587301523944944\n",
      "AVG NUMBER OF ACCURATE 1 PREDICTIONS ON TRAIN DATA SET: 1.8546557396367174 ± 0.10203463662148557\n",
      "POWER SPECTRUM MEAN ERROR ON TRAIN DATA SET: 2.509521003365022 ± 0.15291057114310974\n",
      "TEMPORAL DISTANCE ON TRAIN DATA SET: 0.14042353444038855 ± 0.0006368240694721346\n",
      "GEOMETRICAL DISTANCE ON TRAIN DATA SET: 12.096279927344908 ± 0.06152328447648742\n",
      "\n",
      "\n",
      "AVERAGE RMNSE ERROR ON TEST DATA SET: 1.4647607221102548 ± 0.003551498751430632\n",
      "AVG NUMBER OF ACCURATE 0.5 PREDICTIONS ON TEST DATA SET: 0.963968193617799 ± 0.03471906556539875\n",
      "AVG NUMBER OF ACCURATE 1 PREDICTIONS ON TEST DATA SET: 1.79805686547498 ± 0.09050330776828701\n",
      "POWER SPECTRUM MEAN ERROR ON TEST DATA SET: 2.674881627850277 ± 0.1298006013330074\n",
      "TEMPORAL DISTANCE ON TEST DATA SET: 0.14056580160314228 ± 0.0008439767119006018\n",
      "GEOMETRICAL DISTANCE ON TEST DATA SET: 12.098331899580101 ± 0.09563328516624311\n"
     ]
    }
   ],
   "source": [
    "!bash ./1_PGClustered_ESN_Evaluate_Tuned_Model.sh \"evaluate_tuned_model\" \"Lorenz96_F8_ALPHA8_DIM40\" 3000 1 1 8 \"grid_search_for_icw_0.3.json\" "
   ]
  },
  {
   "cell_type": "code",
   "execution_count": 15,
   "metadata": {},
   "outputs": [
    {
     "name": "stdout",
     "output_type": "stream",
     "text": [
      "Grid Search Progress: 100%|███████████| 25/25 [36:27<00:00, 87.48s/trial, Current Best Loss=0.15382]\n",
      "{'radius': 0.1, 'sigma_input': 1.0, 'in_cluster_weight': 0.7}\n"
     ]
    }
   ],
   "source": [
    "!bash ./0_PGClustered_ESN_Tune.sh \"tune\" \"Lorenz96_F8_ALPHA8_DIM40\" 3000 1 1 8 \"grid_search_for_icw_0.7.json\" "
   ]
  },
  {
   "cell_type": "code",
   "execution_count": 16,
   "metadata": {},
   "outputs": [
    {
     "name": "stdout",
     "output_type": "stream",
     "text": [
      "{'radius': 0.1, 'sigma_input': 1.0, 'in_cluster_weight': 0.7}\n",
      "AVERAGE RMNSE ERROR ON TRAIN DATA SET: 1.461158700356115 ± 0.004254722427313225\n",
      "AVG NUMBER OF ACCURATE 0.5 PREDICTIONS ON TRAIN DATA SET: 1.0485686160490273 ± 0.052752399472269534\n",
      "AVG NUMBER OF ACCURATE 1 PREDICTIONS ON TRAIN DATA SET: 1.8808699550379426 ± 0.10606013093198309\n",
      "POWER SPECTRUM MEAN ERROR ON TRAIN DATA SET: 2.51150735219474 ± 0.1200075291100839\n",
      "TEMPORAL DISTANCE ON TRAIN DATA SET: 0.14044714503677805 ± 0.0006642541574967973\n",
      "GEOMETRICAL DISTANCE ON TRAIN DATA SET: 12.002961462554293 ± 0.07192272455853525\n",
      "\n",
      "\n",
      "AVERAGE RMNSE ERROR ON TEST DATA SET: 1.4613637304161469 ± 0.004643563294030027\n",
      "AVG NUMBER OF ACCURATE 0.5 PREDICTIONS ON TEST DATA SET: 0.9818415223004529 ± 0.03994821131274572\n",
      "AVG NUMBER OF ACCURATE 1 PREDICTIONS ON TEST DATA SET: 1.8117597507983478 ± 0.0970569108621983\n",
      "POWER SPECTRUM MEAN ERROR ON TEST DATA SET: 2.649824490838941 ± 0.10483323923346798\n",
      "TEMPORAL DISTANCE ON TEST DATA SET: 0.14057878596664358 ± 0.0008666200074302739\n",
      "GEOMETRICAL DISTANCE ON TEST DATA SET: 12.034591161482634 ± 0.10002720299008769\n"
     ]
    }
   ],
   "source": [
    "!bash ./1_PGClustered_ESN_Evaluate_Tuned_Model.sh \"evaluate_tuned_model\" \"Lorenz96_F8_ALPHA8_DIM40\" 3000 1 1 8 \"grid_search_for_icw_0.7.json\" "
   ]
  },
  {
   "cell_type": "code",
   "execution_count": 17,
   "metadata": {},
   "outputs": [
    {
     "name": "stdout",
     "output_type": "stream",
     "text": [
      "Grid Search Progress:  20%|██▍         | 5/25 [07:20<27:41, 83.07s/trial, Current Best Loss=0.15425]/home/user/kuei_jan_CHU/PGClustered_ESN/Methods/./Utils/global_utils.py:256: RuntimeWarning: divide by zero encountered in log10\n",
      "  s_dbfs = 20 * np.log10(s_mag)\n",
      "Grid Search Progress: 100%|███████████| 25/25 [36:14<00:00, 86.98s/trial, Current Best Loss=0.15395]\n",
      "{'radius': 0.7, 'sigma_input': 1.0, 'in_cluster_weight': 0.9}\n"
     ]
    }
   ],
   "source": [
    "!bash ./0_PGClustered_ESN_Tune.sh \"tune\" \"Lorenz96_F8_ALPHA8_DIM40\" 3000 1 1 8 \"grid_search_for_icw_0.9.json\" "
   ]
  },
  {
   "cell_type": "code",
   "execution_count": 18,
   "metadata": {},
   "outputs": [
    {
     "name": "stdout",
     "output_type": "stream",
     "text": [
      "{'radius': 0.7, 'sigma_input': 1.0, 'in_cluster_weight': 0.9}\n",
      "AVERAGE RMNSE ERROR ON TRAIN DATA SET: 1.4720296991209292 ± 0.003189724889039791\n",
      "AVG NUMBER OF ACCURATE 0.5 PREDICTIONS ON TRAIN DATA SET: 0.9860119656597387 ± 0.04503936973980018\n",
      "AVG NUMBER OF ACCURATE 1 PREDICTIONS ON TRAIN DATA SET: 1.7962695326067142 ± 0.08931698147922407\n",
      "POWER SPECTRUM MEAN ERROR ON TRAIN DATA SET: 2.5476830301500555 ± 0.12987117483374216\n",
      "TEMPORAL DISTANCE ON TRAIN DATA SET: 0.14072303151814064 ± 0.0008270532195973147\n",
      "GEOMETRICAL DISTANCE ON TRAIN DATA SET: 12.269425973103589 ± 0.08044385610967435\n",
      "\n",
      "\n",
      "AVERAGE RMNSE ERROR ON TEST DATA SET: 1.4721761989866753 ± 0.0032612302376137355\n",
      "AVG NUMBER OF ACCURATE 0.5 PREDICTIONS ON TEST DATA SET: 0.9300088691207564 ± 0.0510390557437954\n",
      "AVG NUMBER OF ACCURATE 1 PREDICTIONS ON TEST DATA SET: 1.7444368794270186 ± 0.09646447419095353\n",
      "POWER SPECTRUM MEAN ERROR ON TEST DATA SET: 2.6899403069406835 ± 0.10888199703643933\n",
      "TEMPORAL DISTANCE ON TEST DATA SET: 0.1410158897611516 ± 0.0008456298864393921\n",
      "GEOMETRICAL DISTANCE ON TEST DATA SET: 12.262125324296354 ± 0.07755492036874918\n"
     ]
    }
   ],
   "source": [
    "!bash ./1_PGClustered_ESN_Evaluate_Tuned_Model.sh \"evaluate_tuned_model\" \"Lorenz96_F8_ALPHA8_DIM40\" 3000 1 1 8 \"grid_search_for_icw_0.9.json\" "
   ]
  },
  {
   "cell_type": "code",
   "execution_count": 19,
   "metadata": {},
   "outputs": [
    {
     "name": "stdout",
     "output_type": "stream",
     "text": [
      "Grid Search Progress:  40%|████▍      | 10/25 [14:36<20:44, 82.95s/trial, Current Best Loss=0.17370]/home/user/kuei_jan_CHU/PGClustered_ESN/Methods/./Utils/global_utils.py:256: RuntimeWarning: divide by zero encountered in log10\n",
      "  s_dbfs = 20 * np.log10(s_mag)\n",
      "Grid Search Progress: 100%|███████████| 25/25 [36:12<00:00, 86.90s/trial, Current Best Loss=0.17356]\n",
      "{'radius': 0.99, 'sigma_input': 1.0, 'in_cluster_weight': 0.1}\n"
     ]
    }
   ],
   "source": [
    "!bash ./0_PGClustered_ESN_Tune.sh \"tune\" \"Lorenz96_F8_ALPHA9_DIM40\" 3000 1 1 9 \"grid_search_for_icw_0.1.json\" "
   ]
  },
  {
   "cell_type": "code",
   "execution_count": 20,
   "metadata": {},
   "outputs": [
    {
     "name": "stdout",
     "output_type": "stream",
     "text": [
      "{'radius': 0.99, 'sigma_input': 1.0, 'in_cluster_weight': 0.1}\n",
      "AVERAGE RMNSE ERROR ON TRAIN DATA SET: 1.4726883147813772 ± 0.003148473522350194\n",
      "AVG NUMBER OF ACCURATE 0.5 PREDICTIONS ON TRAIN DATA SET: 1.0223148774151305 ± 0.07038707487574786\n",
      "AVG NUMBER OF ACCURATE 1 PREDICTIONS ON TRAIN DATA SET: 1.835505178892904 ± 0.11724824980176363\n",
      "POWER SPECTRUM MEAN ERROR ON TRAIN DATA SET: 2.622910658106595 ± 0.16038230614812274\n",
      "TEMPORAL DISTANCE ON TRAIN DATA SET: 0.16080771986886663 ± 0.0007376812248668474\n",
      "GEOMETRICAL DISTANCE ON TRAIN DATA SET: 12.125161638476161 ± 0.07760978289920688\n",
      "\n",
      "\n",
      "AVERAGE RMNSE ERROR ON TEST DATA SET: 1.4722205790529648 ± 0.002910688502514919\n",
      "AVG NUMBER OF ACCURATE 0.5 PREDICTIONS ON TEST DATA SET: 0.914191644654949 ± 0.056204746825234866\n",
      "AVG NUMBER OF ACCURATE 1 PREDICTIONS ON TEST DATA SET: 1.6606951618554846 ± 0.12256211742722659\n",
      "POWER SPECTRUM MEAN ERROR ON TEST DATA SET: 2.664000658404271 ± 0.11272457690405245\n",
      "TEMPORAL DISTANCE ON TEST DATA SET: 0.1615868756044711 ± 0.0007791072109232516\n",
      "GEOMETRICAL DISTANCE ON TEST DATA SET: 12.07968621722475 ± 0.09394102832803476\n"
     ]
    }
   ],
   "source": [
    "!bash ./1_PGClustered_ESN_Evaluate_Tuned_Model.sh \"evaluate_tuned_model\" \"Lorenz96_F8_ALPHA9_DIM40\" 3000 1 1 9 \"grid_search_for_icw_0.1.json\" "
   ]
  },
  {
   "cell_type": "code",
   "execution_count": 21,
   "metadata": {},
   "outputs": [
    {
     "name": "stdout",
     "output_type": "stream",
     "text": [
      "Grid Search Progress:  20%|██▍         | 5/25 [07:20<27:46, 83.34s/trial, Current Best Loss=0.17372]/home/user/kuei_jan_CHU/PGClustered_ESN/Methods/./Utils/global_utils.py:256: RuntimeWarning: divide by zero encountered in log10\n",
      "  s_dbfs = 20 * np.log10(s_mag)\n",
      "Grid Search Progress: 100%|███████████| 25/25 [36:15<00:00, 87.03s/trial, Current Best Loss=0.17335]\n",
      "{'radius': 0.9, 'sigma_input': 1.0, 'in_cluster_weight': 0.3}\n"
     ]
    }
   ],
   "source": [
    "!bash ./0_PGClustered_ESN_Tune.sh \"tune\" \"Lorenz96_F8_ALPHA9_DIM40\" 3000 1 1 9 \"grid_search_for_icw_0.3.json\" "
   ]
  },
  {
   "cell_type": "code",
   "execution_count": 22,
   "metadata": {},
   "outputs": [
    {
     "name": "stdout",
     "output_type": "stream",
     "text": [
      "{'radius': 0.9, 'sigma_input': 1.0, 'in_cluster_weight': 0.3}\n",
      "AVERAGE RMNSE ERROR ON TRAIN DATA SET: 1.4715022189069609 ± 0.002369443992949026\n",
      "AVG NUMBER OF ACCURATE 0.5 PREDICTIONS ON TRAIN DATA SET: 1.0404433236264186 ± 0.07177879451349148\n",
      "AVG NUMBER OF ACCURATE 1 PREDICTIONS ON TRAIN DATA SET: 1.8529861805966459 ± 0.11986644302592496\n",
      "POWER SPECTRUM MEAN ERROR ON TRAIN DATA SET: 2.6104006472856893 ± 0.15801993977532353\n",
      "TEMPORAL DISTANCE ON TRAIN DATA SET: 0.16078909751810308 ± 0.0006239897013464347\n",
      "GEOMETRICAL DISTANCE ON TRAIN DATA SET: 12.10523470630576 ± 0.08001482428947504\n",
      "\n",
      "\n",
      "AVERAGE RMNSE ERROR ON TEST DATA SET: 1.469881422773901 ± 0.002667913113417107\n",
      "AVG NUMBER OF ACCURATE 0.5 PREDICTIONS ON TEST DATA SET: 0.9258456457907769 ± 0.05940986927068143\n",
      "AVG NUMBER OF ACCURATE 1 PREDICTIONS ON TEST DATA SET: 1.6878878311724166 ± 0.12442225974507337\n",
      "POWER SPECTRUM MEAN ERROR ON TEST DATA SET: 2.6856484956547613 ± 0.11164128762158289\n",
      "TEMPORAL DISTANCE ON TEST DATA SET: 0.1614541111692275 ± 0.0007200546158190892\n",
      "GEOMETRICAL DISTANCE ON TEST DATA SET: 12.02152198238674 ± 0.08764735634238331\n"
     ]
    }
   ],
   "source": [
    "!bash ./1_PGClustered_ESN_Evaluate_Tuned_Model.sh \"evaluate_tuned_model\" \"Lorenz96_F8_ALPHA9_DIM40\" 3000 1 1 9 \"grid_search_for_icw_0.3.json\" "
   ]
  },
  {
   "cell_type": "code",
   "execution_count": 23,
   "metadata": {},
   "outputs": [
    {
     "name": "stdout",
     "output_type": "stream",
     "text": [
      "Grid Search Progress:  20%|██▍         | 5/25 [07:22<27:53, 83.66s/trial, Current Best Loss=0.17373]/home/user/kuei_jan_CHU/PGClustered_ESN/Methods/./Utils/global_utils.py:256: RuntimeWarning: divide by zero encountered in log10\n",
      "  s_dbfs = 20 * np.log10(s_mag)\n",
      "Grid Search Progress: 100%|███████████| 25/25 [36:27<00:00, 87.49s/trial, Current Best Loss=0.17329]\n",
      "{'radius': 0.9, 'sigma_input': 1.0, 'in_cluster_weight': 0.7}\n"
     ]
    }
   ],
   "source": [
    "!bash ./0_PGClustered_ESN_Tune.sh \"tune\" \"Lorenz96_F8_ALPHA9_DIM40\" 3000 1 1 9 \"grid_search_for_icw_0.7.json\" "
   ]
  },
  {
   "cell_type": "code",
   "execution_count": 24,
   "metadata": {},
   "outputs": [
    {
     "name": "stdout",
     "output_type": "stream",
     "text": [
      "{'radius': 0.9, 'sigma_input': 1.0, 'in_cluster_weight': 0.7}\n",
      "AVERAGE RMNSE ERROR ON TRAIN DATA SET: 1.4705221132109951 ± 0.00229660743943253\n",
      "AVG NUMBER OF ACCURATE 0.5 PREDICTIONS ON TRAIN DATA SET: 1.0495075467320623 ± 0.06634016064421447\n",
      "AVG NUMBER OF ACCURATE 1 PREDICTIONS ON TRAIN DATA SET: 1.8503964025664619 ± 0.127984566403041\n",
      "POWER SPECTRUM MEAN ERROR ON TRAIN DATA SET: 2.6655369313702892 ± 0.12827756825608372\n",
      "TEMPORAL DISTANCE ON TRAIN DATA SET: 0.16076197905966577 ± 0.0004573823901570821\n",
      "GEOMETRICAL DISTANCE ON TRAIN DATA SET: 12.086352031902747 ± 0.06907448288741935\n",
      "\n",
      "\n",
      "AVERAGE RMNSE ERROR ON TEST DATA SET: 1.4690678751054445 ± 0.0025338477430607363\n",
      "AVG NUMBER OF ACCURATE 0.5 PREDICTIONS ON TEST DATA SET: 0.9362047579115128 ± 0.052454993454075595\n",
      "AVG NUMBER OF ACCURATE 1 PREDICTIONS ON TEST DATA SET: 1.6995418323082443 ± 0.11205654114320403\n",
      "POWER SPECTRUM MEAN ERROR ON TEST DATA SET: 2.726383304865267 ± 0.10752171580262315\n",
      "TEMPORAL DISTANCE ON TEST DATA SET: 0.1617106162354128 ± 0.0008177197678227289\n",
      "GEOMETRICAL DISTANCE ON TEST DATA SET: 12.016372405350452 ± 0.08030158445862806\n"
     ]
    }
   ],
   "source": [
    "!bash ./1_PGClustered_ESN_Evaluate_Tuned_Model.sh \"evaluate_tuned_model\" \"Lorenz96_F8_ALPHA9_DIM40\" 3000 1 1 9 \"grid_search_for_icw_0.7.json\" "
   ]
  },
  {
   "cell_type": "code",
   "execution_count": 25,
   "metadata": {},
   "outputs": [
    {
     "name": "stdout",
     "output_type": "stream",
     "text": [
      "Grid Search Progress:  20%|██▍         | 5/25 [07:19<27:42, 83.12s/trial, Current Best Loss=0.17378]/home/user/kuei_jan_CHU/PGClustered_ESN/Methods/./Utils/global_utils.py:256: RuntimeWarning: divide by zero encountered in log10\n",
      "  s_dbfs = 20 * np.log10(s_mag)\n",
      "Grid Search Progress: 100%|███████████| 25/25 [36:10<00:00, 86.83s/trial, Current Best Loss=0.17366]\n",
      "{'radius': 0.9, 'sigma_input': 1.0, 'in_cluster_weight': 0.9}\n"
     ]
    }
   ],
   "source": [
    "!bash ./0_PGClustered_ESN_Tune.sh \"tune\" \"Lorenz96_F8_ALPHA9_DIM40\" 3000 1 1 9 \"grid_search_for_icw_0.9.json\" "
   ]
  },
  {
   "cell_type": "code",
   "execution_count": 26,
   "metadata": {},
   "outputs": [
    {
     "name": "stdout",
     "output_type": "stream",
     "text": [
      "{'radius': 0.9, 'sigma_input': 1.0, 'in_cluster_weight': 0.9}\n",
      "AVERAGE RMNSE ERROR ON TRAIN DATA SET: 1.473166444353964 ± 0.0027492636417230615\n",
      "AVG NUMBER OF ACCURATE 0.5 PREDICTIONS ON TRAIN DATA SET: 1.0229623219226767 ± 0.06715969059027836\n",
      "AVG NUMBER OF ACCURATE 1 PREDICTIONS ON TRAIN DATA SET: 1.8445694019985481 ± 0.10759857655711577\n",
      "POWER SPECTRUM MEAN ERROR ON TRAIN DATA SET: 2.7044517406059607 ± 0.168719584273265\n",
      "TEMPORAL DISTANCE ON TRAIN DATA SET: 0.1609121421645901 ± 0.0005777093216590887\n",
      "GEOMETRICAL DISTANCE ON TRAIN DATA SET: 12.166538481871752 ± 0.08239009494639593\n",
      "\n",
      "\n",
      "AVERAGE RMNSE ERROR ON TEST DATA SET: 1.4720137311699173 ± 0.003396118949976376\n",
      "AVG NUMBER OF ACCURATE 0.5 PREDICTIONS ON TEST DATA SET: 0.9167814226851329 ± 0.05593560842239446\n",
      "AVG NUMBER OF ACCURATE 1 PREDICTIONS ON TEST DATA SET: 1.6781761635592265 ± 0.10538837510253586\n",
      "POWER SPECTRUM MEAN ERROR ON TEST DATA SET: 2.8057273575988138 ± 0.10712106752198668\n",
      "TEMPORAL DISTANCE ON TEST DATA SET: 0.16173869245313643 ± 0.0007518437279072941\n",
      "GEOMETRICAL DISTANCE ON TEST DATA SET: 12.102494342781664 ± 0.07917542628655505\n"
     ]
    }
   ],
   "source": [
    "!bash ./1_PGClustered_ESN_Evaluate_Tuned_Model.sh \"evaluate_tuned_model\" \"Lorenz96_F8_ALPHA9_DIM40\" 3000 1 1 9 \"grid_search_for_icw_0.9.json\" "
   ]
  },
  {
   "cell_type": "code",
   "execution_count": 27,
   "metadata": {},
   "outputs": [
    {
     "name": "stdout",
     "output_type": "stream",
     "text": [
      "Grid Search Progress:  20%|██▍         | 5/25 [07:20<27:45, 83.28s/trial, Current Best Loss=0.19306]/home/user/kuei_jan_CHU/PGClustered_ESN/Methods/./Utils/global_utils.py:256: RuntimeWarning: divide by zero encountered in log10\n",
      "  s_dbfs = 20 * np.log10(s_mag)\n",
      "Grid Search Progress: 100%|███████████| 25/25 [36:11<00:00, 86.88s/trial, Current Best Loss=0.19266]\n",
      "{'radius': 0.7, 'sigma_input': 1.0, 'in_cluster_weight': 0.1}\n"
     ]
    }
   ],
   "source": [
    "!bash ./0_PGClustered_ESN_Tune.sh \"tune\" \"Lorenz96_F8_ALPHA10_DIM40\" 3000 1 1 10 \"grid_search_for_icw_0.1.json\" "
   ]
  },
  {
   "cell_type": "code",
   "execution_count": 28,
   "metadata": {},
   "outputs": [
    {
     "name": "stdout",
     "output_type": "stream",
     "text": [
      "{'radius': 0.7, 'sigma_input': 1.0, 'in_cluster_weight': 0.1}\n",
      "AVERAGE RMNSE ERROR ON TRAIN DATA SET: 1.4683498337329361 ± 0.0025012702398810845\n",
      "AVG NUMBER OF ACCURATE 0.5 PREDICTIONS ON TRAIN DATA SET: 1.088567063058891 ± 0.08016945731397244\n",
      "AVG NUMBER OF ACCURATE 1 PREDICTIONS ON TRAIN DATA SET: 1.9293188590291344 ± 0.12234543004181143\n",
      "POWER SPECTRUM MEAN ERROR ON TRAIN DATA SET: 2.7588177778533485 ± 0.10443904817051165\n",
      "TEMPORAL DISTANCE ON TRAIN DATA SET: 0.18355824802693368 ± 0.0007824298101437147\n",
      "GEOMETRICAL DISTANCE ON TRAIN DATA SET: 11.908226856204152 ± 0.06789667460474971\n",
      "\n",
      "\n",
      "AVERAGE RMNSE ERROR ON TEST DATA SET: 1.4705829557303924 ± 0.003262334901709309\n",
      "AVG NUMBER OF ACCURATE 0.5 PREDICTIONS ON TEST DATA SET: 0.9233568849997924 ± 0.04503731690000175\n",
      "AVG NUMBER OF ACCURATE 1 PREDICTIONS ON TEST DATA SET: 1.7312066539836892 ± 0.11124079584325505\n",
      "POWER SPECTRUM MEAN ERROR ON TEST DATA SET: 2.666030586342491 ± 0.1091629886460911\n",
      "TEMPORAL DISTANCE ON TEST DATA SET: 0.18425717758542154 ± 0.0005594710293496952\n",
      "GEOMETRICAL DISTANCE ON TEST DATA SET: 11.94083297845809 ± 0.07610789975662524\n"
     ]
    }
   ],
   "source": [
    "!bash ./1_PGClustered_ESN_Evaluate_Tuned_Model.sh \"evaluate_tuned_model\" \"Lorenz96_F8_ALPHA10_DIM40\" 3000 1 1 10 \"grid_search_for_icw_0.1.json\" "
   ]
  },
  {
   "cell_type": "code",
   "execution_count": 29,
   "metadata": {},
   "outputs": [
    {
     "name": "stdout",
     "output_type": "stream",
     "text": [
      "Grid Search Progress:   0%|                                               | 0/25 [00:00<?, ?trial/s]/home/user/kuei_jan_CHU/PGClustered_ESN/Methods/./Utils/global_utils.py:256: RuntimeWarning: divide by zero encountered in log10\n",
      "  s_dbfs = 20 * np.log10(s_mag)\n",
      "Grid Search Progress: 100%|███████████| 25/25 [36:17<00:00, 87.11s/trial, Current Best Loss=0.19273]\n",
      "{'radius': 0.99, 'sigma_input': 1.0, 'in_cluster_weight': 0.3}\n"
     ]
    }
   ],
   "source": [
    "!bash ./0_PGClustered_ESN_Tune.sh \"tune\" \"Lorenz96_F8_ALPHA10_DIM40\" 3000 1 1 10 \"grid_search_for_icw_0.3.json\" "
   ]
  },
  {
   "cell_type": "code",
   "execution_count": 30,
   "metadata": {},
   "outputs": [
    {
     "name": "stdout",
     "output_type": "stream",
     "text": [
      "{'radius': 0.99, 'sigma_input': 1.0, 'in_cluster_weight': 0.3}\n",
      "AVERAGE RMNSE ERROR ON TRAIN DATA SET: 1.470248187976042 ± 0.0026419605161945507\n",
      "AVG NUMBER OF ACCURATE 0.5 PREDICTIONS ON TRAIN DATA SET: 1.041664173525164 ± 0.05946659317091194\n",
      "AVG NUMBER OF ACCURATE 1 PREDICTIONS ON TRAIN DATA SET: 1.8684151069480255 ± 0.10858343652081642\n",
      "POWER SPECTRUM MEAN ERROR ON TRAIN DATA SET: 2.7585281507915256 ± 0.11110930040600231\n",
      "TEMPORAL DISTANCE ON TRAIN DATA SET: 0.18323637409081972 ± 0.0007615042348313295\n",
      "GEOMETRICAL DISTANCE ON TRAIN DATA SET: 11.955246064099153 ± 0.07387798970406304\n",
      "\n",
      "\n",
      "AVERAGE RMNSE ERROR ON TEST DATA SET: 1.471945810018053 ± 0.0017686948620558886\n",
      "AVG NUMBER OF ACCURATE 0.5 PREDICTIONS ON TEST DATA SET: 0.8988553755418751 ± 0.053423886550389085\n",
      "AVG NUMBER OF ACCURATE 1 PREDICTIONS ON TEST DATA SET: 1.7018048426341892 ± 0.11826171481025291\n",
      "POWER SPECTRUM MEAN ERROR ON TEST DATA SET: 2.6718408266052593 ± 0.07604221421117985\n",
      "TEMPORAL DISTANCE ON TEST DATA SET: 0.18372060830241316 ± 0.0005941460160430703\n",
      "GEOMETRICAL DISTANCE ON TEST DATA SET: 12.001543271417328 ± 0.06539208537667288\n"
     ]
    }
   ],
   "source": [
    "!bash ./1_PGClustered_ESN_Evaluate_Tuned_Model.sh \"evaluate_tuned_model\" \"Lorenz96_F8_ALPHA10_DIM40\" 3000 1 1 10 \"grid_search_for_icw_0.3.json\" "
   ]
  },
  {
   "cell_type": "code",
   "execution_count": 31,
   "metadata": {},
   "outputs": [
    {
     "name": "stdout",
     "output_type": "stream",
     "text": [
      "Grid Search Progress:  20%|██▍         | 5/25 [07:22<27:58, 83.91s/trial, Current Best Loss=0.19310]/home/user/kuei_jan_CHU/PGClustered_ESN/Methods/./Utils/global_utils.py:256: RuntimeWarning: divide by zero encountered in log10\n",
      "  s_dbfs = 20 * np.log10(s_mag)\n",
      "Grid Search Progress: 100%|███████████| 25/25 [36:23<00:00, 87.33s/trial, Current Best Loss=0.19275]\n",
      "{'radius': 0.99, 'sigma_input': 1.0, 'in_cluster_weight': 0.7}\n"
     ]
    }
   ],
   "source": [
    "!bash ./0_PGClustered_ESN_Tune.sh \"tune\" \"Lorenz96_F8_ALPHA10_DIM40\" 3000 1 1 10 \"grid_search_for_icw_0.7.json\" "
   ]
  },
  {
   "cell_type": "code",
   "execution_count": 32,
   "metadata": {},
   "outputs": [
    {
     "name": "stdout",
     "output_type": "stream",
     "text": [
      "{'radius': 0.99, 'sigma_input': 1.0, 'in_cluster_weight': 0.7}\n",
      "AVERAGE RMNSE ERROR ON TRAIN DATA SET: 1.4689943379056438 ± 0.002712892188391134\n",
      "AVG NUMBER OF ACCURATE 0.5 PREDICTIONS ON TRAIN DATA SET: 1.0325636128693663 ± 0.061008266550048026\n",
      "AVG NUMBER OF ACCURATE 1 PREDICTIONS ON TRAIN DATA SET: 1.8712152794575014 ± 0.10470501785937474\n",
      "POWER SPECTRUM MEAN ERROR ON TRAIN DATA SET: 2.7680482826237838 ± 0.09167347480712641\n",
      "TEMPORAL DISTANCE ON TRAIN DATA SET: 0.18336899597642287 ± 0.0007900980233642459\n",
      "GEOMETRICAL DISTANCE ON TRAIN DATA SET: 11.942407829244852 ± 0.06728999495342777\n",
      "\n",
      "\n",
      "AVERAGE RMNSE ERROR ON TEST DATA SET: 1.470981489332246 ± 0.0025777537613699748\n",
      "AVG NUMBER OF ACCURATE 0.5 PREDICTIONS ON TEST DATA SET: 0.9177565399808397 ± 0.06544186475310586\n",
      "AVG NUMBER OF ACCURATE 1 PREDICTIONS ON TEST DATA SET: 1.7305066108563203 ± 0.11169143672536833\n",
      "POWER SPECTRUM MEAN ERROR ON TEST DATA SET: 2.7006101989629485 ± 0.0994211175386042\n",
      "TEMPORAL DISTANCE ON TEST DATA SET: 0.1838331368260345 ± 0.0007044997242291959\n",
      "GEOMETRICAL DISTANCE ON TEST DATA SET: 11.990802359041155 ± 0.07316891146396338\n"
     ]
    }
   ],
   "source": [
    "!bash ./1_PGClustered_ESN_Evaluate_Tuned_Model.sh \"evaluate_tuned_model\" \"Lorenz96_F8_ALPHA10_DIM40\" 3000 1 1 10 \"grid_search_for_icw_0.7.json\" "
   ]
  },
  {
   "cell_type": "code",
   "execution_count": 33,
   "metadata": {},
   "outputs": [
    {
     "name": "stdout",
     "output_type": "stream",
     "text": [
      "Grid Search Progress:   0%|                                               | 0/25 [00:00<?, ?trial/s]/home/user/kuei_jan_CHU/PGClustered_ESN/Methods/./Utils/global_utils.py:256: RuntimeWarning: divide by zero encountered in log10\n",
      "  s_dbfs = 20 * np.log10(s_mag)\n",
      "Grid Search Progress: 100%|███████████| 25/25 [36:06<00:00, 86.65s/trial, Current Best Loss=0.19217]\n",
      "{'radius': 0.9, 'sigma_input': 1.0, 'in_cluster_weight': 0.9}\n"
     ]
    }
   ],
   "source": [
    "!bash ./0_PGClustered_ESN_Tune.sh \"tune\" \"Lorenz96_F8_ALPHA10_DIM40\" 3000 1 1 10 \"grid_search_for_icw_0.9.json\" "
   ]
  },
  {
   "cell_type": "code",
   "execution_count": 34,
   "metadata": {},
   "outputs": [
    {
     "name": "stdout",
     "output_type": "stream",
     "text": [
      "{'radius': 0.9, 'sigma_input': 1.0, 'in_cluster_weight': 0.9}\n",
      "AVERAGE RMNSE ERROR ON TRAIN DATA SET: 1.4712658123136748 ± 0.0025520700269140817\n",
      "AVG NUMBER OF ACCURATE 0.5 PREDICTIONS ON TRAIN DATA SET: 1.0248631384683065 ± 0.07269670652667194\n",
      "AVG NUMBER OF ACCURATE 1 PREDICTIONS ON TRAIN DATA SET: 1.862114718801704 ± 0.11253070791461676\n",
      "POWER SPECTRUM MEAN ERROR ON TRAIN DATA SET: 2.8060921728522583 ± 0.117039534650226\n",
      "TEMPORAL DISTANCE ON TRAIN DATA SET: 0.18358873164618408 ± 0.0006949957654587315\n",
      "GEOMETRICAL DISTANCE ON TRAIN DATA SET: 11.998979063087164 ± 0.06904845565596364\n",
      "\n",
      "\n",
      "AVERAGE RMNSE ERROR ON TEST DATA SET: 1.4740600143885156 ± 0.0023644449776431256\n",
      "AVG NUMBER OF ACCURATE 0.5 PREDICTIONS ON TEST DATA SET: 0.9093560224524111 ± 0.06377312204280161\n",
      "AVG NUMBER OF ACCURATE 1 PREDICTIONS ON TEST DATA SET: 1.6969045407426055 ± 0.0917670832758438\n",
      "POWER SPECTRUM MEAN ERROR ON TEST DATA SET: 2.754934897186893 ± 0.11020776932899548\n",
      "TEMPORAL DISTANCE ON TEST DATA SET: 0.18416030099382694 ± 0.0005973911066391534\n",
      "GEOMETRICAL DISTANCE ON TEST DATA SET: 12.042997903425803 ± 0.07595262156158557\n"
     ]
    }
   ],
   "source": [
    "!bash ./1_PGClustered_ESN_Evaluate_Tuned_Model.sh \"evaluate_tuned_model\" \"Lorenz96_F8_ALPHA10_DIM40\" 3000 1 1 10 \"grid_search_for_icw_0.9.json\" "
   ]
  }
 ],
 "metadata": {
  "kernelspec": {
   "display_name": "base",
   "language": "python",
   "name": "python3"
  },
  "language_info": {
   "codemirror_mode": {
    "name": "ipython",
    "version": 3
   },
   "file_extension": ".py",
   "mimetype": "text/x-python",
   "name": "python",
   "nbconvert_exporter": "python",
   "pygments_lexer": "ipython3",
   "version": "3.11.8"
  }
 },
 "nbformat": 4,
 "nbformat_minor": 4
}
