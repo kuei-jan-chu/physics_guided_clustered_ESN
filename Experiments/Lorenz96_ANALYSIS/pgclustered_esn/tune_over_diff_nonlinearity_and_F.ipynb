{
 "cells": [
  {
   "cell_type": "markdown",
   "metadata": {},
   "source": [
    "# Over Nonlinearity"
   ]
  },
  {
   "cell_type": "code",
   "execution_count": null,
   "metadata": {},
   "outputs": [
    {
     "name": "stdout",
     "output_type": "stream",
     "text": [
      "Grid Search Progress: 100%|███████████| 25/25 [37:52<00:00, 90.88s/trial, Current Best Loss=0.12178]\n",
      "{'radius': 0.9, 'sigma_input': 0.1, 'regularization': 0.01, 'in_cluster_weight': 0.5, 'noise_level': 5}\n"
     ]
    }
   ],
   "source": [
    "!bash ./0_PGClustered_ESN_Tune.sh \"tune\" \"Lorenz96_F8_ALPHA1_DIM40\" 3000 1 1 1 \"grid_search.json\" "
   ]
  },
  {
   "cell_type": "code",
   "execution_count": 3,
   "metadata": {
    "jupyter": {
     "source_hidden": true
    },
    "scrolled": true
   },
   "outputs": [
    {
     "name": "stdout",
     "output_type": "stream",
     "text": [
      "{'radius': 0.9, 'sigma_input': 0.1, 'regularization': 0.01, 'in_cluster_weight': 0.5, 'noise_level': 5}\n",
      "AVERAGE RMNSE ERROR ON TRAIN DATA SET: 1.3646739609010123 ± 0.009984248091253915\n",
      "AVG NUMBER OF ACCURATE 0.5 PREDICTIONS ON TRAIN DATA SET: 2.8039440036720586 ± 0.11474337319943112\n",
      "AVG NUMBER OF ACCURATE 1 PREDICTIONS ON TRAIN DATA SET: 4.489184511878455 ± 0.23402421256643077\n",
      "POWER SPECTRUM MEAN ERROR ON TRAIN DATA SET: 0.5932462961392531 ± 0.42651130407677434\n",
      "TEMPORAL DISTANCE ON TRAIN DATA SET: 0.10678857182537296 ± 0.0013128878424125288\n",
      "GEOMETRICAL DISTANCE ON TRAIN DATA SET: 12.965093256288288 ± 0.1697522650083873\n",
      "\n",
      "\n",
      "AVERAGE RMNSE ERROR ON TEST DATA SET: 1.3707068565512768 ± 0.007319704180385459\n",
      "AVG NUMBER OF ACCURATE 0.5 PREDICTIONS ON TEST DATA SET: 2.300299192882848 ± 0.1943251174195842\n",
      "AVG NUMBER OF ACCURATE 1 PREDICTIONS ON TEST DATA SET: 3.7221363391524895 ± 0.2209806437343018\n",
      "POWER SPECTRUM MEAN ERROR ON TEST DATA SET: 0.6867295157161363 ± 0.4273805639103359\n",
      "TEMPORAL DISTANCE ON TEST DATA SET: 0.10723192368933192 ± 0.0014667104096621937\n",
      "GEOMETRICAL DISTANCE ON TEST DATA SET: 13.030768148465611 ± 0.10142442116727265\n"
     ]
    }
   ],
   "source": [
    "!bash ./1_PGClustered_ESN_Evaluate_Tuned_Model.sh \"evaluate_tuned_model\" \"Lorenz96_F8_ALPHA1_DIM40\" 3000 1 1 1 \"grid_search.json\" "
   ]
  },
  {
   "cell_type": "code",
   "execution_count": 1,
   "metadata": {},
   "outputs": [
    {
     "name": "stdout",
     "output_type": "stream",
     "text": [
      "Grid Search Progress: 100%|████████| 25/25 [1:43:14<00:00, 247.77s/trial, Current Best Loss=0.11145]\n",
      "{'radius': 0.1, 'sigma_input': 0.5, 'system_name': 'Lorenz96_F8_ALPHA2_DIM40'}\n"
     ]
    }
   ],
   "source": [
    "!bash ./0_PGClustered_ESN_Tune.sh \"tune\" \"Lorenz96_F8_ALPHA2_DIM40\" 3000 1 1 2 \"grid_search.json\"    "
   ]
  },
  {
   "cell_type": "code",
   "execution_count": 4,
   "metadata": {
    "scrolled": true
   },
   "outputs": [
    {
     "name": "stdout",
     "output_type": "stream",
     "text": [
      "{'radius': 0.1, 'sigma_input': 0.5, 'system_name': 'Lorenz96_F8_ALPHA2_DIM40'}\n",
      "AVERAGE RMNSE ERROR ON TRAIN DATA SET: 1.3901679234754876 ± 0.0034980734964550025\n",
      "AVG NUMBER OF ACCURATE 0.5 PREDICTIONS ON TRAIN DATA SET: 2.3391764176620304 ± 0.0876537044338782\n",
      "AVG NUMBER OF ACCURATE 1 PREDICTIONS ON TRAIN DATA SET: 3.569636811502581 ± 0.2797811293051392\n",
      "POWER SPECTRUM MEAN ERROR ON TRAIN DATA SET: 1.0922246124742518 ± 0.2201434290396067\n",
      "TEMPORAL DISTANCE ON TRAIN DATA SET: 0.0954976595199195 ± 0.0010488260258264897\n",
      "GEOMETRICAL DISTANCE ON TRAIN DATA SET: 12.657808192737104 ± 0.04984723209290389\n",
      "\n",
      "\n",
      "AVERAGE RMNSE ERROR ON TEST DATA SET: 1.390702944993183 ± 0.0033551001882770387\n",
      "AVG NUMBER OF ACCURATE 0.5 PREDICTIONS ON TEST DATA SET: 2.1056416198267054 ± 0.12999792504017085\n",
      "AVG NUMBER OF ACCURATE 1 PREDICTIONS ON TEST DATA SET: 3.3663466842065852 ± 0.16158599233527962\n",
      "POWER SPECTRUM MEAN ERROR ON TEST DATA SET: 0.4837251570132837 ± 0.3283765291249947\n",
      "TEMPORAL DISTANCE ON TEST DATA SET: 0.09555290376345901 ± 0.0007387303632095523\n",
      "GEOMETRICAL DISTANCE ON TEST DATA SET: 12.545318695352302 ± 0.07084980391638125\n"
     ]
    }
   ],
   "source": [
    "!bash ./1_PGClustered_ESN_Evaluate_Tuned_Model.sh \"evaluate_tuned_model\" \"Lorenz96_F8_ALPHA2_DIM40\" 3000 1 1 2 \"grid_search.json\" "
   ]
  },
  {
   "cell_type": "code",
   "execution_count": 3,
   "metadata": {},
   "outputs": [
    {
     "name": "stdout",
     "output_type": "stream",
     "text": [
      "Grid Search Progress: 100%|████████| 25/25 [1:43:02<00:00, 247.32s/trial, Current Best Loss=0.10722]\n",
      "{'radius': 0.4, 'sigma_input': 0.5, 'system_name': 'Lorenz96_F8_ALPHA3_DIM40'}\n"
     ]
    }
   ],
   "source": [
    "!bash ./0_PGClustered_ESN_Tune.sh \"tune\" \"Lorenz96_F8_ALPHA3_DIM40\" 3000 1 1 3 \"grid_search.json\" "
   ]
  },
  {
   "cell_type": "code",
   "execution_count": 5,
   "metadata": {},
   "outputs": [
    {
     "name": "stdout",
     "output_type": "stream",
     "text": [
      "{'radius': 0.4, 'sigma_input': 0.5, 'system_name': 'Lorenz96_F8_ALPHA3_DIM40'}\n",
      "AVERAGE RMNSE ERROR ON TRAIN DATA SET: 1.39590094346933 ± 0.0026044961220764193\n",
      "AVG NUMBER OF ACCURATE 0.5 PREDICTIONS ON TRAIN DATA SET: 2.2836827147113343 ± 0.1057936694773406\n",
      "AVG NUMBER OF ACCURATE 1 PREDICTIONS ON TRAIN DATA SET: 3.387555753093806 ± 0.1570176715883264\n",
      "POWER SPECTRUM MEAN ERROR ON TRAIN DATA SET: 0.4453647690988607 ± 0.20089932758126758\n",
      "TEMPORAL DISTANCE ON TRAIN DATA SET: 0.08966834221187782 ± 0.0005001176528908361\n",
      "GEOMETRICAL DISTANCE ON TRAIN DATA SET: 12.167856455252215 ± 0.05891136101920679\n",
      "\n",
      "\n",
      "AVERAGE RMNSE ERROR ON TEST DATA SET: 1.4001309282042125 ± 0.0020086425128428708\n",
      "AVG NUMBER OF ACCURATE 0.5 PREDICTIONS ON TEST DATA SET: 2.090490974053603 ± 0.08857319177591047\n",
      "AVG NUMBER OF ACCURATE 1 PREDICTIONS ON TEST DATA SET: 3.1424367526639103 ± 0.11703687427319456\n",
      "POWER SPECTRUM MEAN ERROR ON TEST DATA SET: 0.7301249239840464 ± 0.2834377258356862\n",
      "TEMPORAL DISTANCE ON TEST DATA SET: 0.09026819802890908 ± 0.0008434743875957354\n",
      "GEOMETRICAL DISTANCE ON TEST DATA SET: 12.194693842316074 ± 0.0824798869420327\n"
     ]
    }
   ],
   "source": [
    "!bash ./1_PGClustered_ESN_Evaluate_Tuned_Model.sh \"evaluate_tuned_model\" \"Lorenz96_F8_ALPHA3_DIM40\" 3000 1 1 3 \"grid_search.json\" "
   ]
  },
  {
   "cell_type": "code",
   "execution_count": 5,
   "metadata": {},
   "outputs": [
    {
     "name": "stdout",
     "output_type": "stream",
     "text": [
      "Grid Search Progress: 100%|████████| 25/25 [1:42:04<00:00, 244.99s/trial, Current Best Loss=0.10794]\n",
      "{'radius': 0.4, 'sigma_input': 0.5, 'system_name': 'Lorenz96_F8_ALPHA4_DIM40'}\n"
     ]
    }
   ],
   "source": [
    "!bash ./0_PGClustered_ESN_Tune.sh \"tune\" \"Lorenz96_F8_ALPHA4_DIM40\" 3000 1 1 4 \"grid_search.json\" "
   ]
  },
  {
   "cell_type": "code",
   "execution_count": 6,
   "metadata": {},
   "outputs": [
    {
     "name": "stdout",
     "output_type": "stream",
     "text": [
      "{'radius': 0.4, 'sigma_input': 0.5, 'system_name': 'Lorenz96_F8_ALPHA4_DIM40'}\n",
      "AVERAGE RMNSE ERROR ON TRAIN DATA SET: 1.4040633634291448 ± 0.001875431318433935\n",
      "AVG NUMBER OF ACCURATE 0.5 PREDICTIONS ON TRAIN DATA SET: 2.1318892386428336 ± 0.08292039068622058\n",
      "AVG NUMBER OF ACCURATE 1 PREDICTIONS ON TRAIN DATA SET: 2.984786025379824 ± 0.1376797163937025\n",
      "POWER SPECTRUM MEAN ERROR ON TRAIN DATA SET: 0.5514466944984381 ± 0.2668804926334877\n",
      "TEMPORAL DISTANCE ON TRAIN DATA SET: 0.08933915844494518 ± 0.000903546708553673\n",
      "GEOMETRICAL DISTANCE ON TRAIN DATA SET: 11.761132655596738 ± 0.05543411401451967\n",
      "\n",
      "\n",
      "AVERAGE RMNSE ERROR ON TEST DATA SET: 1.400528068082852 ± 0.0022446311247034316\n",
      "AVG NUMBER OF ACCURATE 0.5 PREDICTIONS ON TEST DATA SET: 2.2151330937586033 ± 0.08861835351560361\n",
      "AVG NUMBER OF ACCURATE 1 PREDICTIONS ON TEST DATA SET: 3.1512737356113627 ± 0.1121231903809966\n",
      "POWER SPECTRUM MEAN ERROR ON TEST DATA SET: 0.4502573024600398 ± 0.13215884669504427\n",
      "TEMPORAL DISTANCE ON TEST DATA SET: 0.09008221889127686 ± 0.0006412890923213777\n",
      "GEOMETRICAL DISTANCE ON TEST DATA SET: 11.783205295096506 ± 0.07811635179224864\n"
     ]
    }
   ],
   "source": [
    "!bash ./1_PGClustered_ESN_Evaluate_Tuned_Model.sh \"evaluate_tuned_model\" \"Lorenz96_F8_ALPHA4_DIM40\" 3000 1 1 4 \"grid_search.json\" "
   ]
  },
  {
   "cell_type": "code",
   "execution_count": 7,
   "metadata": {},
   "outputs": [
    {
     "name": "stdout",
     "output_type": "stream",
     "text": [
      "Grid Search Progress: 100%|████████| 25/25 [1:42:05<00:00, 245.01s/trial, Current Best Loss=0.10966]\n",
      "{'radius': 0.4, 'sigma_input': 0.5, 'system_name': 'Lorenz96_F8_ALPHA5_DIM40'}\n"
     ]
    }
   ],
   "source": [
    "!bash ./0_PGClustered_ESN_Tune.sh \"tune\" 3000 1 1 5 \"Lorenz96_F8_ALPHA5_DIM40\" \"grid_search.json\" "
   ]
  },
  {
   "cell_type": "code",
   "execution_count": 7,
   "metadata": {},
   "outputs": [
    {
     "name": "stdout",
     "output_type": "stream",
     "text": [
      "{'radius': 0.4, 'sigma_input': 0.5, 'system_name': 'Lorenz96_F8_ALPHA5_DIM40'}\n",
      "AVERAGE RMNSE ERROR ON TRAIN DATA SET: 1.4033429695020283 ± 0.002431833517265713\n",
      "AVG NUMBER OF ACCURATE 0.5 PREDICTIONS ON TRAIN DATA SET: 2.212856845870415 ± 0.14833791919681014\n",
      "AVG NUMBER OF ACCURATE 1 PREDICTIONS ON TRAIN DATA SET: 3.282348356355586 ± 0.23962571607919847\n",
      "POWER SPECTRUM MEAN ERROR ON TRAIN DATA SET: 0.4303930953219604 ± 0.09513047762419555\n",
      "TEMPORAL DISTANCE ON TRAIN DATA SET: 0.09436720995193484 ± 0.0006679533740837271\n",
      "GEOMETRICAL DISTANCE ON TRAIN DATA SET: 11.572359019687214 ± 0.06519706304288234\n",
      "\n",
      "\n",
      "AVERAGE RMNSE ERROR ON TEST DATA SET: 1.4075370241023688 ± 0.0026355245870579263\n",
      "AVG NUMBER OF ACCURATE 0.5 PREDICTIONS ON TEST DATA SET: 2.02985123418614 ± 0.12233318188340123\n",
      "AVG NUMBER OF ACCURATE 1 PREDICTIONS ON TEST DATA SET: 2.9759398780768676 ± 0.1575554441876327\n",
      "POWER SPECTRUM MEAN ERROR ON TEST DATA SET: 0.576661955876678 ± 0.19411618677039585\n",
      "TEMPORAL DISTANCE ON TEST DATA SET: 0.0947154816346405 ± 0.00029288741586367843\n",
      "GEOMETRICAL DISTANCE ON TEST DATA SET: 11.664027572146162 ± 0.05688654118681137\n"
     ]
    }
   ],
   "source": [
    "!bash ./1_PGClustered_ESN_Evaluate_Tuned_Model.sh \"evaluate_tuned_model\" \"Lorenz96_F8_ALPHA5_DIM40\" 3000 1 1 5 \"grid_search.json\" "
   ]
  },
  {
   "cell_type": "code",
   "execution_count": 9,
   "metadata": {},
   "outputs": [
    {
     "name": "stdout",
     "output_type": "stream",
     "text": [
      "Grid Search Progress: 100%|████████| 25/25 [1:41:49<00:00, 244.36s/trial, Current Best Loss=0.12148]\n",
      "{'radius': 0.4, 'sigma_input': 0.5, 'system_name': 'Lorenz96_F8_ALPHA6_DIM40'}\n"
     ]
    }
   ],
   "source": [
    "!bash ./0_PGClustered_ESN_Tune.sh \"tune\" \"Lorenz96_F8_ALPHA6_DIM40\" 3000 1 1 6 \"grid_search.json\" "
   ]
  },
  {
   "cell_type": "code",
   "execution_count": 8,
   "metadata": {},
   "outputs": [
    {
     "name": "stdout",
     "output_type": "stream",
     "text": [
      "{'radius': 0.4, 'sigma_input': 0.5, 'system_name': 'Lorenz96_F8_ALPHA6_DIM40'}\n",
      "AVERAGE RMNSE ERROR ON TRAIN DATA SET: 1.4077429011872302 ± 0.0019612609640422833\n",
      "AVG NUMBER OF ACCURATE 0.5 PREDICTIONS ON TRAIN DATA SET: 2.166277824652617 ± 0.11990046113434875\n",
      "AVG NUMBER OF ACCURATE 1 PREDICTIONS ON TRAIN DATA SET: 3.2225064534428682 ± 0.1579247386105173\n",
      "POWER SPECTRUM MEAN ERROR ON TRAIN DATA SET: 0.6385053769023585 ± 0.17041297581028095\n",
      "TEMPORAL DISTANCE ON TRAIN DATA SET: 0.10626672069201779 ± 0.000517542313783872\n",
      "GEOMETRICAL DISTANCE ON TRAIN DATA SET: 11.409210449260348 ± 0.07218230152897721\n",
      "\n",
      "\n",
      "AVERAGE RMNSE ERROR ON TEST DATA SET: 1.4092271934826022 ± 0.0019290060595231087\n",
      "AVG NUMBER OF ACCURATE 0.5 PREDICTIONS ON TEST DATA SET: 2.1124572575805023 ± 0.08175409614102108\n",
      "AVG NUMBER OF ACCURATE 1 PREDICTIONS ON TEST DATA SET: 3.103332340640329 ± 0.1131834209827171\n",
      "POWER SPECTRUM MEAN ERROR ON TEST DATA SET: 0.4265016825398402 ± 0.09381008619792526\n",
      "TEMPORAL DISTANCE ON TEST DATA SET: 0.10615663252600253 ± 0.0007060001126453128\n",
      "GEOMETRICAL DISTANCE ON TEST DATA SET: 11.43700557459564 ± 0.036208073075727515\n"
     ]
    }
   ],
   "source": [
    "!bash ./1_PGClustered_ESN_Evaluate_Tuned_Model.sh \"evaluate_tuned_model\" \"Lorenz96_F8_ALPHA6_DIM40\" 3000 1 1 6 \"grid_search.json\" "
   ]
  },
  {
   "cell_type": "code",
   "execution_count": 11,
   "metadata": {},
   "outputs": [
    {
     "name": "stdout",
     "output_type": "stream",
     "text": [
      "Grid Search Progress: 100%|████████| 25/25 [1:41:47<00:00, 244.32s/trial, Current Best Loss=0.13564]\n",
      "{'radius': 0.7, 'sigma_input': 0.5, 'system_name': 'Lorenz96_F8_ALPHA7_DIM40'}\n"
     ]
    }
   ],
   "source": [
    "!bash ./0_PGClustered_ESN_Tune.sh \"tune\" \"Lorenz96_F8_ALPHA7_DIM40\" 3000 1 1 7 \"grid_search.json\" "
   ]
  },
  {
   "cell_type": "code",
   "execution_count": 9,
   "metadata": {},
   "outputs": [
    {
     "name": "stdout",
     "output_type": "stream",
     "text": [
      "{'radius': 0.7, 'sigma_input': 0.5, 'system_name': 'Lorenz96_F8_ALPHA7_DIM40'}\n",
      "AVERAGE RMNSE ERROR ON TRAIN DATA SET: 1.4142341469837993 ± 0.0018366208601355515\n",
      "AVG NUMBER OF ACCURATE 0.5 PREDICTIONS ON TRAIN DATA SET: 2.077794715921822 ± 0.08918272085980665\n",
      "AVG NUMBER OF ACCURATE 1 PREDICTIONS ON TRAIN DATA SET: 3.1258572296094256 ± 0.14613817513443506\n",
      "POWER SPECTRUM MEAN ERROR ON TRAIN DATA SET: 0.4920541545674718 ± 0.16284835983257862\n",
      "TEMPORAL DISTANCE ON TRAIN DATA SET: 0.12291475151049247 ± 0.0006691447732810312\n",
      "GEOMETRICAL DISTANCE ON TRAIN DATA SET: 11.293203007683065 ± 0.08510554863008095\n",
      "\n",
      "\n",
      "AVERAGE RMNSE ERROR ON TEST DATA SET: 1.4135924360454635 ± 0.0032871705909594674\n",
      "AVG NUMBER OF ACCURATE 0.5 PREDICTIONS ON TEST DATA SET: 1.7812749718229632 ± 0.10283623040968344\n",
      "AVG NUMBER OF ACCURATE 1 PREDICTIONS ON TEST DATA SET: 2.689164515572924 ± 0.16988569221794872\n",
      "POWER SPECTRUM MEAN ERROR ON TEST DATA SET: 0.5242604299472629 ± 0.15471995962728902\n",
      "TEMPORAL DISTANCE ON TEST DATA SET: 0.12295064519829173 ± 0.0005148413483561657\n",
      "GEOMETRICAL DISTANCE ON TEST DATA SET: 11.29247262322114 ± 0.05883828959239145\n"
     ]
    }
   ],
   "source": [
    "!bash ./1_PGClustered_ESN_Evaluate_Tuned_Model.sh \"evaluate_tuned_model\" \"Lorenz96_F8_ALPHA7_DIM40\" 3000 1 1 7 \"grid_search.json\" "
   ]
  },
  {
   "cell_type": "code",
   "execution_count": 13,
   "metadata": {},
   "outputs": [
    {
     "name": "stdout",
     "output_type": "stream",
     "text": [
      "Grid Search Progress: 100%|████████| 25/25 [1:41:51<00:00, 244.48s/trial, Current Best Loss=0.15383]\n",
      "{'radius': 0.1, 'sigma_input': 1.0, 'system_name': 'Lorenz96_F8_ALPHA8_DIM40'}\n"
     ]
    }
   ],
   "source": [
    "!bash ./0_PGClustered_ESN_Tune.sh \"tune\" \"Lorenz96_F8_ALPHA8_DIM40\" 3000 1 1 8 \"grid_search.json\" "
   ]
  },
  {
   "cell_type": "code",
   "execution_count": 10,
   "metadata": {},
   "outputs": [
    {
     "name": "stdout",
     "output_type": "stream",
     "text": [
      "{'radius': 0.1, 'sigma_input': 1.0, 'system_name': 'Lorenz96_F8_ALPHA8_DIM40'}\n",
      "AVERAGE RMNSE ERROR ON TRAIN DATA SET: 1.4611864497469602 ± 0.003125535310107918\n",
      "AVG NUMBER OF ACCURATE 0.5 PREDICTIONS ON TRAIN DATA SET: 1.0533348370310684 ± 0.060804353163899746\n",
      "AVG NUMBER OF ACCURATE 1 PREDICTIONS ON TRAIN DATA SET: 1.8695501802055954 ± 0.1086146888357322\n",
      "POWER SPECTRUM MEAN ERROR ON TRAIN DATA SET: 2.4616145992030214 ± 0.08680982569671299\n",
      "TEMPORAL DISTANCE ON TRAIN DATA SET: 0.14053660858720757 ± 0.0007879200835256832\n",
      "GEOMETRICAL DISTANCE ON TRAIN DATA SET: 12.023838324553887 ± 0.06353702004503774\n",
      "\n",
      "\n",
      "AVERAGE RMNSE ERROR ON TEST DATA SET: 1.4607537697119757 ± 0.00370696241019777\n",
      "AVG NUMBER OF ACCURATE 0.5 PREDICTIONS ON TEST DATA SET: 0.9735006355818812 ± 0.04060039816926179\n",
      "AVG NUMBER OF ACCURATE 1 PREDICTIONS ON TEST DATA SET: 1.780183536792326 ± 0.11579563057777632\n",
      "POWER SPECTRUM MEAN ERROR ON TEST DATA SET: 2.626044191422017 ± 0.05716342663637301\n",
      "TEMPORAL DISTANCE ON TEST DATA SET: 0.14077825874173566 ± 0.000713458569163622\n",
      "GEOMETRICAL DISTANCE ON TEST DATA SET: 11.995603126805927 ± 0.10413693887663411\n"
     ]
    }
   ],
   "source": [
    "!bash ./1_PGClustered_ESN_Evaluate_Tuned_Model.sh \"evaluate_tuned_model\" \"Lorenz96_F8_ALPHA8_DIM40\" 3000 1 1 8 \"grid_search.json\" "
   ]
  },
  {
   "cell_type": "code",
   "execution_count": 15,
   "metadata": {
    "editable": true,
    "slideshow": {
     "slide_type": ""
    },
    "tags": []
   },
   "outputs": [
    {
     "name": "stdout",
     "output_type": "stream",
     "text": [
      "Grid Search Progress:  20%|█▊       | 5/25 [21:02<1:20:34, 241.74s/trial, Current Best Loss=0.17357]/home/user/kuei_jan_CHU/PGClustered_ESN/Methods/./Utils/global_utils.py:256: RuntimeWarning: divide by zero encountered in log10\n",
      "  s_dbfs = 20 * np.log10(s_mag)\n",
      "Grid Search Progress: 100%|████████| 25/25 [1:41:37<00:00, 243.90s/trial, Current Best Loss=0.17311]\n",
      "{'radius': 0.7, 'sigma_input': 1.0, 'system_name': 'Lorenz96_F8_ALPHA9_DIM40'}\n"
     ]
    }
   ],
   "source": [
    "!bash ./0_PGClustered_ESN_Tune.sh \"tune\" \"Lorenz96_F8_ALPHA9_DIM40\" 3000 1 1 9 \"grid_search.json\" "
   ]
  },
  {
   "cell_type": "code",
   "execution_count": 11,
   "metadata": {},
   "outputs": [
    {
     "name": "stdout",
     "output_type": "stream",
     "text": [
      "{'radius': 0.7, 'sigma_input': 1.0, 'system_name': 'Lorenz96_F8_ALPHA9_DIM40'}\n",
      "AVERAGE RMNSE ERROR ON TRAIN DATA SET: 1.4683752717106484 ± 0.0029813664434159668\n",
      "AVG NUMBER OF ACCURATE 0.5 PREDICTIONS ON TRAIN DATA SET: 1.0747578825263564 ± 0.05673919384252272\n",
      "AVG NUMBER OF ACCURATE 1 PREDICTIONS ON TRAIN DATA SET: 1.9073715192305094 ± 0.1058408411141604\n",
      "POWER SPECTRUM MEAN ERROR ON TRAIN DATA SET: 2.671760208796989 ± 0.12727580736499988\n",
      "TEMPORAL DISTANCE ON TRAIN DATA SET: 0.1610919211374226 ± 0.0004987830793867146\n",
      "GEOMETRICAL DISTANCE ON TRAIN DATA SET: 12.047987627250269 ± 0.0895380008065542\n",
      "\n",
      "\n",
      "AVERAGE RMNSE ERROR ON TEST DATA SET: 1.4668751442880383 ± 0.0038960975875888585\n",
      "AVG NUMBER OF ACCURATE 0.5 PREDICTIONS ON TEST DATA SET: 0.9426792029869727 ± 0.04478144842947222\n",
      "AVG NUMBER OF ACCURATE 1 PREDICTIONS ON TEST DATA SET: 1.7519848374194702 ± 0.1371665854956512\n",
      "POWER SPECTRUM MEAN ERROR ON TEST DATA SET: 2.7233497861878053 ± 0.13491280016124027\n",
      "TEMPORAL DISTANCE ON TEST DATA SET: 0.16138771673399416 ± 0.0006727056396628563\n",
      "GEOMETRICAL DISTANCE ON TEST DATA SET: 11.956404684590007 ± 0.10414694144592439\n"
     ]
    }
   ],
   "source": [
    "!bash ./1_PGClustered_ESN_Evaluate_Tuned_Model.sh \"evaluate_tuned_model\" \"Lorenz96_F8_ALPHA9_DIM40\" 3000 1 1 9 \"grid_search.json\" "
   ]
  },
  {
   "cell_type": "code",
   "execution_count": 17,
   "metadata": {
    "editable": true,
    "slideshow": {
     "slide_type": ""
    },
    "tags": []
   },
   "outputs": [
    {
     "name": "stdout",
     "output_type": "stream",
     "text": [
      "Grid Search Progress:  20%|█▊       | 5/25 [20:20<1:17:36, 232.83s/trial, Current Best Loss=0.19295]/home/user/kuei_jan_CHU/PGClustered_ESN/Methods/./Utils/global_utils.py:256: RuntimeWarning: divide by zero encountered in log10\n",
      "  s_dbfs = 20 * np.log10(s_mag)\n",
      "Grid Search Progress: 100%|████████| 25/25 [1:39:36<00:00, 239.06s/trial, Current Best Loss=0.19232]\n",
      "{'radius': 0.99, 'sigma_input': 1.0, 'system_name': 'Lorenz96_F8_ALPHA10_DIM40'}\n"
     ]
    }
   ],
   "source": [
    "!bash ./0_PGClustered_ESN_Tune.sh \"tune\" \"Lorenz96_F8_ALPHA10_DIM40\" 3000 1 1 10 \"grid_search.json\" "
   ]
  },
  {
   "cell_type": "code",
   "execution_count": 12,
   "metadata": {},
   "outputs": [
    {
     "name": "stdout",
     "output_type": "stream",
     "text": [
      "{'radius': 0.99, 'sigma_input': 1.0, 'system_name': 'Lorenz96_F8_ALPHA10_DIM40'}\n",
      "AVERAGE RMNSE ERROR ON TRAIN DATA SET: 1.4694177057163686 ± 0.0037164605170031196\n",
      "AVG NUMBER OF ACCURATE 0.5 PREDICTIONS ON TRAIN DATA SET: 1.0262632247230443 ± 0.06136468007964699\n",
      "AVG NUMBER OF ACCURATE 1 PREDICTIONS ON TRAIN DATA SET: 1.8551142875280138 ± 0.099839011076799\n",
      "POWER SPECTRUM MEAN ERROR ON TRAIN DATA SET: 2.750398837447466 ± 0.13102461972500454\n",
      "TEMPORAL DISTANCE ON TRAIN DATA SET: 0.1832349692683709 ± 0.0007620924528795256\n",
      "GEOMETRICAL DISTANCE ON TRAIN DATA SET: 11.921646659200865 ± 0.07066721327350507\n",
      "\n",
      "\n",
      "AVERAGE RMNSE ERROR ON TEST DATA SET: 1.4710450325661941 ± 0.0031550605144706704\n",
      "AVG NUMBER OF ACCURATE 0.5 PREDICTIONS ON TEST DATA SET: 0.9058558068155659 ± 0.06356144880488764\n",
      "AVG NUMBER OF ACCURATE 1 PREDICTIONS ON TEST DATA SET: 1.7053050582710345 ± 0.0951234716543808\n",
      "POWER SPECTRUM MEAN ERROR ON TEST DATA SET: 2.6280651212255766 ± 0.13162356142640408\n",
      "TEMPORAL DISTANCE ON TEST DATA SET: 0.1840139680321678 ± 0.0004402181181782548\n",
      "GEOMETRICAL DISTANCE ON TEST DATA SET: 12.00896390336809 ± 0.07605356352869837\n"
     ]
    }
   ],
   "source": [
    "!bash ./1_PGClustered_ESN_Evaluate_Tuned_Model.sh \"evaluate_tuned_model\" \"Lorenz96_F8_ALPHA10_DIM40\" 3000 1 1 10 \"grid_search.json\" "
   ]
  },
  {
   "cell_type": "markdown",
   "metadata": {},
   "source": [
    "# Over F"
   ]
  },
  {
   "cell_type": "code",
   "execution_count": null,
   "metadata": {},
   "outputs": [
    {
     "name": "stdout",
     "output_type": "stream",
     "text": [
      "Grid Search Progress: 100%|████████| 25/25 [1:38:07<00:00, 235.51s/trial, Current Best Loss=0.12178]\n",
      "{'radius': 0.9, 'sigma_input': 0.1}\n"
     ]
    }
   ],
   "source": [
    "!bash ./0_PGClustered_ESN_Tune.sh \"tune\" \"Lorenz96_F8_ALPHA1_DIM40\" 3000 1 1 1 \"grid_search_for_F.json\" "
   ]
  },
  {
   "cell_type": "code",
   "execution_count": 13,
   "metadata": {
    "scrolled": true
   },
   "outputs": [
    {
     "name": "stdout",
     "output_type": "stream",
     "text": [
      "{'radius': 0.9, 'sigma_input': 0.1}\n",
      "AVERAGE RMNSE ERROR ON TRAIN DATA SET: 1.3646739609010123 ± 0.009984248091253915\n",
      "AVG NUMBER OF ACCURATE 0.5 PREDICTIONS ON TRAIN DATA SET: 2.8039440036720586 ± 0.11474337319943112\n",
      "AVG NUMBER OF ACCURATE 1 PREDICTIONS ON TRAIN DATA SET: 4.489184511878455 ± 0.23402421256643077\n",
      "POWER SPECTRUM MEAN ERROR ON TRAIN DATA SET: 0.5932462961392531 ± 0.42651130407677434\n",
      "TEMPORAL DISTANCE ON TRAIN DATA SET: 0.10678857182537296 ± 0.0013128878424125288\n",
      "GEOMETRICAL DISTANCE ON TRAIN DATA SET: 12.965093256288288 ± 0.1697522650083873\n",
      "\n",
      "\n",
      "AVERAGE RMNSE ERROR ON TEST DATA SET: 1.3707068565512768 ± 0.007319704180385459\n",
      "AVG NUMBER OF ACCURATE 0.5 PREDICTIONS ON TEST DATA SET: 2.300299192882848 ± 0.1943251174195842\n",
      "AVG NUMBER OF ACCURATE 1 PREDICTIONS ON TEST DATA SET: 3.7221363391524895 ± 0.2209806437343018\n",
      "POWER SPECTRUM MEAN ERROR ON TEST DATA SET: 0.6867295157161363 ± 0.4273805639103359\n",
      "TEMPORAL DISTANCE ON TEST DATA SET: 0.10723192368933192 ± 0.0014667104096621937\n",
      "GEOMETRICAL DISTANCE ON TEST DATA SET: 13.030768148465611 ± 0.10142442116727265\n"
     ]
    }
   ],
   "source": [
    "!bash ./1_PGClustered_ESN_Evaluate_Tuned_Model.sh \"evaluate_tuned_model\" \"Lorenz96_F8_ALPHA1_DIM40\" 3000 1 1 1 \"grid_search_for_F.json\" "
   ]
  },
  {
   "cell_type": "code",
   "execution_count": null,
   "metadata": {},
   "outputs": [
    {
     "name": "stdout",
     "output_type": "stream",
     "text": [
      "Grid Search Progress: 100%|████████| 25/25 [1:36:42<00:00, 232.09s/trial, Current Best Loss=0.11672]\n",
      "{'radius': 0.9, 'sigma_input': 0.1}\n"
     ]
    }
   ],
   "source": [
    "!bash ./0_PGClustered_ESN_Tune.sh \"tune\" \"Lorenz96_F10_ALPHA1_DIM40\" 3000 1 1 2 \"grid_search_for_F.json\"    "
   ]
  },
  {
   "cell_type": "code",
   "execution_count": 14,
   "metadata": {},
   "outputs": [
    {
     "name": "stdout",
     "output_type": "stream",
     "text": [
      "{'radius': 0.9, 'sigma_input': 0.1}\n",
      "AVERAGE RMNSE ERROR ON TRAIN DATA SET: 1.36855864903742 ± 0.005759315203146096\n",
      "AVG NUMBER OF ACCURATE 0.5 PREDICTIONS ON TRAIN DATA SET: 2.8910967333587365 ± 0.1389036786276599\n",
      "AVG NUMBER OF ACCURATE 1 PREDICTIONS ON TRAIN DATA SET: 4.245084008321673 ± 0.18385616490058165\n",
      "POWER SPECTRUM MEAN ERROR ON TRAIN DATA SET: 0.36029996251246843 ± 0.31222115613529317\n",
      "TEMPORAL DISTANCE ON TRAIN DATA SET: 0.10277839223982939 ± 0.0017841662988412662\n",
      "GEOMETRICAL DISTANCE ON TRAIN DATA SET: 12.823101470021632 ± 0.08023298272027138\n",
      "\n",
      "\n",
      "AVERAGE RMNSE ERROR ON TEST DATA SET: 1.3702457532451315 ± 0.005630632302302707\n",
      "AVG NUMBER OF ACCURATE 0.5 PREDICTIONS ON TEST DATA SET: 2.545328544564283 ± 0.07487540425360946\n",
      "AVG NUMBER OF ACCURATE 1 PREDICTIONS ON TEST DATA SET: 3.700371134857464 ± 0.12871455171070809\n",
      "POWER SPECTRUM MEAN ERROR ON TEST DATA SET: 0.6807229749675344 ± 0.3612227097006724\n",
      "TEMPORAL DISTANCE ON TEST DATA SET: 0.10388157363731236 ± 0.0012302313875661296\n",
      "GEOMETRICAL DISTANCE ON TEST DATA SET: 12.792319315690946 ± 0.077110738395888\n"
     ]
    }
   ],
   "source": [
    "!bash ./1_PGClustered_ESN_Evaluate_Tuned_Model.sh \"evaluate_tuned_model\" \"Lorenz96_F10_ALPHA1_DIM40\" 3000 1 1 2 \"grid_search_for_F.json\" "
   ]
  },
  {
   "cell_type": "code",
   "execution_count": null,
   "metadata": {},
   "outputs": [
    {
     "name": "stdout",
     "output_type": "stream",
     "text": [
      "Grid Search Progress: 100%|████████| 25/25 [1:36:16<00:00, 231.05s/trial, Current Best Loss=0.11485]\n",
      "{'radius': 0.1, 'sigma_input': 0.5}\n"
     ]
    }
   ],
   "source": [
    "!bash ./0_PGClustered_ESN_Tune.sh \"tune\" \"Lorenz96_F12_ALPHA1_DIM40\" 3000 1 1 3 \"grid_search_for_F.json\" "
   ]
  },
  {
   "cell_type": "code",
   "execution_count": 15,
   "metadata": {},
   "outputs": [
    {
     "name": "stdout",
     "output_type": "stream",
     "text": [
      "{'radius': 0.1, 'sigma_input': 0.5}\n",
      "AVERAGE RMNSE ERROR ON TRAIN DATA SET: 1.3849382680864957 ± 0.0028401086209145308\n",
      "AVG NUMBER OF ACCURATE 0.5 PREDICTIONS ON TRAIN DATA SET: 2.2956602156970902 ± 0.11720456528955582\n",
      "AVG NUMBER OF ACCURATE 1 PREDICTIONS ON TRAIN DATA SET: 3.35720239585772 ± 0.10741132739892027\n",
      "POWER SPECTRUM MEAN ERROR ON TRAIN DATA SET: 0.3180264402318994 ± 0.1836800445020317\n",
      "TEMPORAL DISTANCE ON TRAIN DATA SET: 0.09891479938839295 ± 0.001385702621089215\n",
      "GEOMETRICAL DISTANCE ON TRAIN DATA SET: 12.798570800160707 ± 0.0510033434997464\n",
      "\n",
      "\n",
      "AVERAGE RMNSE ERROR ON TEST DATA SET: 1.3876927033247843 ± 0.002374488140392079\n",
      "AVG NUMBER OF ACCURATE 0.5 PREDICTIONS ON TEST DATA SET: 1.8453003007545163 ± 0.065509779164885\n",
      "AVG NUMBER OF ACCURATE 1 PREDICTIONS ON TEST DATA SET: 2.8033543018608693 ± 0.07535082241154259\n",
      "POWER SPECTRUM MEAN ERROR ON TEST DATA SET: 0.4806306418748626 ± 0.24109129651726824\n",
      "TEMPORAL DISTANCE ON TEST DATA SET: 0.10068233388667744 ± 0.0010584372349580562\n",
      "GEOMETRICAL DISTANCE ON TEST DATA SET: 12.874248180391898 ± 0.0699012888423503\n"
     ]
    }
   ],
   "source": [
    "!bash ./1_PGClustered_ESN_Evaluate_Tuned_Model.sh \"evaluate_tuned_model\" \"Lorenz96_F12_ALPHA1_DIM40\" 3000 1 1 3 \"grid_search_for_F.json\" "
   ]
  },
  {
   "cell_type": "code",
   "execution_count": null,
   "metadata": {},
   "outputs": [
    {
     "name": "stdout",
     "output_type": "stream",
     "text": [
      "Grid Search Progress: 100%|████████| 25/25 [1:35:45<00:00, 229.83s/trial, Current Best Loss=0.11318]\n",
      "{'radius': 0.4, 'sigma_input': 0.1}\n"
     ]
    }
   ],
   "source": [
    "!bash ./0_PGClustered_ESN_Tune.sh \"tune\" \"Lorenz96_F14_ALPHA1_DIM40\" 3000 1 1 4 \"grid_search_for_F.json\" "
   ]
  },
  {
   "cell_type": "code",
   "execution_count": 16,
   "metadata": {},
   "outputs": [
    {
     "name": "stdout",
     "output_type": "stream",
     "text": [
      "{'radius': 0.4, 'sigma_input': 0.1}\n",
      "AVERAGE RMNSE ERROR ON TRAIN DATA SET: 1.3795841717328234 ± 0.0037554623021713992\n",
      "AVG NUMBER OF ACCURATE 0.5 PREDICTIONS ON TRAIN DATA SET: 2.870523412322715 ± 0.12969791936355937\n",
      "AVG NUMBER OF ACCURATE 1 PREDICTIONS ON TRAIN DATA SET: 4.166965000471287 ± 0.14417028705170232\n",
      "POWER SPECTRUM MEAN ERROR ON TRAIN DATA SET: 0.4276461308980058 ± 0.44959764507164574\n",
      "TEMPORAL DISTANCE ON TRAIN DATA SET: 0.09749400967349171 ± 0.0009477460380369314\n",
      "GEOMETRICAL DISTANCE ON TRAIN DATA SET: 12.590635331227817 ± 0.10495010705918698\n",
      "\n",
      "\n",
      "AVERAGE RMNSE ERROR ON TEST DATA SET: 1.3771920882990298 ± 0.003951716895912415\n",
      "AVG NUMBER OF ACCURATE 0.5 PREDICTIONS ON TEST DATA SET: 2.7025223946547507 ± 0.13251901468663824\n",
      "AVG NUMBER OF ACCURATE 1 PREDICTIONS ON TEST DATA SET: 3.917324934057042 ± 0.16165999327216474\n",
      "POWER SPECTRUM MEAN ERROR ON TEST DATA SET: 0.4887606435616011 ± 0.30397741598517997\n",
      "TEMPORAL DISTANCE ON TEST DATA SET: 0.09783571710682187 ± 0.0008908585348007648\n",
      "GEOMETRICAL DISTANCE ON TEST DATA SET: 12.517761686925782 ± 0.11869682481560767\n"
     ]
    }
   ],
   "source": [
    "!bash ./1_PGClustered_ESN_Evaluate_Tuned_Model.sh \"evaluate_tuned_model\" \"Lorenz96_F14_ALPHA1_DIM40\" 3000 1 1 4 \"grid_search_for_F.json\" "
   ]
  },
  {
   "cell_type": "code",
   "execution_count": null,
   "metadata": {},
   "outputs": [
    {
     "name": "stdout",
     "output_type": "stream",
     "text": [
      "Grid Search Progress: 100%|███████████| 25/25 [38:39<00:00, 92.76s/trial, Current Best Loss=0.11190]\n",
      "{'radius': 0.7, 'sigma_input': 0.1}\n"
     ]
    }
   ],
   "source": [
    "!bash ./0_PGClustered_ESN_Tune.sh \"tune\" \"Lorenz96_F16_ALPHA1_DIM40\" 3000 1 1 5 \"grid_search_for_F.json\" "
   ]
  },
  {
   "cell_type": "code",
   "execution_count": 17,
   "metadata": {},
   "outputs": [
    {
     "name": "stdout",
     "output_type": "stream",
     "text": [
      "{'radius': 0.7, 'sigma_input': 0.1}\n",
      "AVERAGE RMNSE ERROR ON TRAIN DATA SET: 1.383200240621303 ± 0.005676658809775781\n",
      "AVG NUMBER OF ACCURATE 0.5 PREDICTIONS ON TRAIN DATA SET: 3.0506694647048898 ± 0.14304399728881473\n",
      "AVG NUMBER OF ACCURATE 1 PREDICTIONS ON TRAIN DATA SET: 4.3070544605408525 ± 0.19067327784996757\n",
      "POWER SPECTRUM MEAN ERROR ON TRAIN DATA SET: 0.3877460882385122 ± 0.2631738050067056\n",
      "TEMPORAL DISTANCE ON TRAIN DATA SET: 0.09522963748886441 ± 0.0010688065545983476\n",
      "GEOMETRICAL DISTANCE ON TRAIN DATA SET: 12.469775966288875 ± 0.1056785434694033\n",
      "\n",
      "\n",
      "AVERAGE RMNSE ERROR ON TEST DATA SET: 1.3880394141888492 ± 0.004529390141995231\n",
      "AVG NUMBER OF ACCURATE 0.5 PREDICTIONS ON TEST DATA SET: 2.855806312709447 ± 0.1901466247459331\n",
      "AVG NUMBER OF ACCURATE 1 PREDICTIONS ON TEST DATA SET: 3.9883278000492965 ± 0.14589879011511045\n",
      "POWER SPECTRUM MEAN ERROR ON TEST DATA SET: 0.4963833144511022 ± 0.32121800962870123\n",
      "TEMPORAL DISTANCE ON TEST DATA SET: 0.0962329692624256 ± 0.0004961588122993835\n",
      "GEOMETRICAL DISTANCE ON TEST DATA SET: 12.582037533135525 ± 0.0917134392390917\n"
     ]
    }
   ],
   "source": [
    "!bash ./1_PGClustered_ESN_Evaluate_Tuned_Model.sh \"evaluate_tuned_model\" \"Lorenz96_F16_ALPHA1_DIM40\" 3000 1 1 5 \"grid_search_for_F.json\" "
   ]
  },
  {
   "cell_type": "code",
   "execution_count": null,
   "metadata": {},
   "outputs": [
    {
     "name": "stdout",
     "output_type": "stream",
     "text": [
      "Grid Search Progress: 100%|███████████| 25/25 [36:48<00:00, 88.33s/trial, Current Best Loss=0.11049]\n",
      "{'radius': 0.99, 'sigma_input': 0.5}\n"
     ]
    }
   ],
   "source": [
    "!bash ./0_PGClustered_ESN_Tune.sh \"tune\" \"Lorenz96_F18_ALPHA1_DIM40\" 3000 1 1 6 \"grid_search_for_F.json\" "
   ]
  },
  {
   "cell_type": "code",
   "execution_count": 18,
   "metadata": {},
   "outputs": [
    {
     "name": "stdout",
     "output_type": "stream",
     "text": [
      "{'radius': 0.99, 'sigma_input': 0.5}\n",
      "AVERAGE RMNSE ERROR ON TRAIN DATA SET: 1.3987880136837856 ± 0.003265545050646476\n",
      "AVG NUMBER OF ACCURATE 0.5 PREDICTIONS ON TRAIN DATA SET: 1.9549378534889275 ± 0.15113746381547702\n",
      "AVG NUMBER OF ACCURATE 1 PREDICTIONS ON TRAIN DATA SET: 2.8345740693915396 ± 0.16658674641193835\n",
      "POWER SPECTRUM MEAN ERROR ON TRAIN DATA SET: 0.36592807157658125 ± 0.21601222548506888\n",
      "TEMPORAL DISTANCE ON TRAIN DATA SET: 0.09380744633955465 ± 0.0007162347205176912\n",
      "GEOMETRICAL DISTANCE ON TRAIN DATA SET: 12.526616534808767 ± 0.0643582509885823\n",
      "\n",
      "\n",
      "AVERAGE RMNSE ERROR ON TEST DATA SET: 1.3993269455589477 ± 0.003110516126281883\n",
      "AVG NUMBER OF ACCURATE 0.5 PREDICTIONS ON TEST DATA SET: 1.6970542604365029 ± 0.05325741609945642\n",
      "AVG NUMBER OF ACCURATE 1 PREDICTIONS ON TEST DATA SET: 2.603294108234706 ± 0.13813859607601173\n",
      "POWER SPECTRUM MEAN ERROR ON TEST DATA SET: 0.4421577464182378 ± 0.22919081734264243\n",
      "TEMPORAL DISTANCE ON TEST DATA SET: 0.0946419132432531 ± 0.0009875452056876818\n",
      "GEOMETRICAL DISTANCE ON TEST DATA SET: 12.520599752948192 ± 0.056104737165166715\n"
     ]
    }
   ],
   "source": [
    "!bash ./1_PGClustered_ESN_Evaluate_Tuned_Model.sh \"evaluate_tuned_model\" \"Lorenz96_F18_ALPHA1_DIM40\" 3000 1 1 6 \"grid_search_for_F.json\" "
   ]
  },
  {
   "cell_type": "code",
   "execution_count": null,
   "metadata": {},
   "outputs": [
    {
     "name": "stdout",
     "output_type": "stream",
     "text": [
      "Grid Search Progress: 100%|███████████| 25/25 [36:47<00:00, 88.32s/trial, Current Best Loss=0.10742]\n",
      "{'radius': 0.7, 'sigma_input': 0.5}\n"
     ]
    }
   ],
   "source": [
    "!bash ./0_PGClustered_ESN_Tune.sh \"tune\" \"Lorenz96_F20_ALPHA1_DIM40\" 3000 1 1 7 \"grid_search_for_F.json\"    "
   ]
  },
  {
   "cell_type": "code",
   "execution_count": 19,
   "metadata": {},
   "outputs": [
    {
     "name": "stdout",
     "output_type": "stream",
     "text": [
      "{'radius': 0.7, 'sigma_input': 0.5}\n",
      "AVERAGE RMNSE ERROR ON TRAIN DATA SET: 1.3967373069654543 ± 0.0021287648917572557\n",
      "AVG NUMBER OF ACCURATE 0.5 PREDICTIONS ON TRAIN DATA SET: 2.093213302402016 ± 0.11517218800631344\n",
      "AVG NUMBER OF ACCURATE 1 PREDICTIONS ON TRAIN DATA SET: 2.977934752158263 ± 0.201663648229236\n",
      "POWER SPECTRUM MEAN ERROR ON TRAIN DATA SET: 0.3390435576713642 ± 0.09806911811075583\n",
      "TEMPORAL DISTANCE ON TRAIN DATA SET: 0.0928161186791788 ± 0.0008190343773997581\n",
      "GEOMETRICAL DISTANCE ON TRAIN DATA SET: 12.385677810771039 ± 0.050566850871722316\n",
      "\n",
      "\n",
      "AVERAGE RMNSE ERROR ON TEST DATA SET: 1.3992341920964715 ± 0.0024978538507548073\n",
      "AVG NUMBER OF ACCURATE 0.5 PREDICTIONS ON TEST DATA SET: 1.722383247929716 ± 0.03982036335693432\n",
      "AVG NUMBER OF ACCURATE 1 PREDICTIONS ON TEST DATA SET: 2.548750729723318 ± 0.1083230995692942\n",
      "POWER SPECTRUM MEAN ERROR ON TEST DATA SET: 0.4541698086652614 ± 0.226685201404416\n",
      "TEMPORAL DISTANCE ON TEST DATA SET: 0.09254608508562705 ± 0.0008218779419254894\n",
      "GEOMETRICAL DISTANCE ON TEST DATA SET: 12.355378976248982 ± 0.060915695040947605\n"
     ]
    }
   ],
   "source": [
    "!bash ./1_PGClustered_ESN_Evaluate_Tuned_Model.sh \"evaluate_tuned_model\" \"Lorenz96_F20_ALPHA1_DIM40\" 3000 1 1 7 \"grid_search_for_F.json\" "
   ]
  },
  {
   "cell_type": "code",
   "execution_count": null,
   "metadata": {},
   "outputs": [
    {
     "name": "stdout",
     "output_type": "stream",
     "text": [
      "Grid Search Progress: 100%|███████████| 25/25 [36:40<00:00, 88.02s/trial, Current Best Loss=0.10738]\n",
      "{'radius': 0.9, 'sigma_input': 0.5}\n"
     ]
    }
   ],
   "source": [
    "!bash ./0_PGClustered_ESN_Tune.sh \"tune\" \"Lorenz96_F22_ALPHA1_DIM40\" 3000 1 1 8 \"grid_search_for_F.json\" "
   ]
  },
  {
   "cell_type": "code",
   "execution_count": 20,
   "metadata": {},
   "outputs": [
    {
     "name": "stdout",
     "output_type": "stream",
     "text": [
      "{'radius': 0.9, 'sigma_input': 0.5}\n",
      "AVERAGE RMNSE ERROR ON TRAIN DATA SET: 1.3981516453019047 ± 0.003054638669427085\n",
      "AVG NUMBER OF ACCURATE 0.5 PREDICTIONS ON TRAIN DATA SET: 2.0535936291703547 ± 0.12932621841210357\n",
      "AVG NUMBER OF ACCURATE 1 PREDICTIONS ON TRAIN DATA SET: 2.942639952395376 ± 0.20453398243220722\n",
      "POWER SPECTRUM MEAN ERROR ON TRAIN DATA SET: 0.4191546319973723 ± 0.17666883188119564\n",
      "TEMPORAL DISTANCE ON TRAIN DATA SET: 0.09161163369725948 ± 0.001181753268071293\n",
      "GEOMETRICAL DISTANCE ON TRAIN DATA SET: 12.238877438927059 ± 0.08191750227946869\n",
      "\n",
      "\n",
      "AVERAGE RMNSE ERROR ON TEST DATA SET: 1.4015480930394029 ± 0.0036314435877526836\n",
      "AVG NUMBER OF ACCURATE 0.5 PREDICTIONS ON TEST DATA SET: 1.7475962900138355 ± 0.11187836370998211\n",
      "AVG NUMBER OF ACCURATE 1 PREDICTIONS ON TEST DATA SET: 2.7043548622751814 ± 0.09990244717277373\n",
      "POWER SPECTRUM MEAN ERROR ON TEST DATA SET: 0.44688265703562424 ± 0.12866205315062157\n",
      "TEMPORAL DISTANCE ON TEST DATA SET: 0.09148618492418673 ± 0.00042580683238344286\n",
      "GEOMETRICAL DISTANCE ON TEST DATA SET: 12.324207981160452 ± 0.06477914697559276\n"
     ]
    }
   ],
   "source": [
    "!bash ./1_PGClustered_ESN_Evaluate_Tuned_Model.sh \"evaluate_tuned_model\" \"Lorenz96_F22_ALPHA1_DIM40\" 3000 1 1 8 \"grid_search_for_F.json\" "
   ]
  },
  {
   "cell_type": "code",
   "execution_count": null,
   "metadata": {},
   "outputs": [
    {
     "name": "stdout",
     "output_type": "stream",
     "text": [
      "Grid Search Progress: 100%|███████████| 25/25 [36:46<00:00, 88.26s/trial, Current Best Loss=0.10649]\n",
      "{'radius': 0.4, 'sigma_input': 0.5}\n"
     ]
    }
   ],
   "source": [
    "!bash ./0_PGClustered_ESN_Tune.sh \"tune\" \"Lorenz96_F24_ALPHA1_DIM40\" 3000 1 1 9 \"grid_search_for_F.json\" "
   ]
  },
  {
   "cell_type": "code",
   "execution_count": 21,
   "metadata": {},
   "outputs": [
    {
     "name": "stdout",
     "output_type": "stream",
     "text": [
      "{'radius': 0.4, 'sigma_input': 0.5}\n",
      "AVERAGE RMNSE ERROR ON TRAIN DATA SET: 1.3965134399829346 ± 0.0032878293488227107\n",
      "AVG NUMBER OF ACCURATE 0.5 PREDICTIONS ON TRAIN DATA SET: 2.221740613036176 ± 0.11222305040277997\n",
      "AVG NUMBER OF ACCURATE 1 PREDICTIONS ON TRAIN DATA SET: 3.2090585867262673 ± 0.2191511470912265\n",
      "POWER SPECTRUM MEAN ERROR ON TRAIN DATA SET: 0.659525691208388 ± 0.24612184863330666\n",
      "TEMPORAL DISTANCE ON TRAIN DATA SET: 0.09010970289732903 ± 0.0008680068680958057\n",
      "GEOMETRICAL DISTANCE ON TRAIN DATA SET: 12.09509184764328 ± 0.08940133300399403\n",
      "\n",
      "\n",
      "AVERAGE RMNSE ERROR ON TEST DATA SET: 1.3976475211223232 ± 0.0018866975833407758\n",
      "AVG NUMBER OF ACCURATE 0.5 PREDICTIONS ON TEST DATA SET: 2.0208648826031306 ± 0.08890405630045217\n",
      "AVG NUMBER OF ACCURATE 1 PREDICTIONS ON TEST DATA SET: 2.9927732112189065 ± 0.1640691222440173\n",
      "POWER SPECTRUM MEAN ERROR ON TEST DATA SET: 0.9011741776452336 ± 0.43271171349874055\n",
      "TEMPORAL DISTANCE ON TEST DATA SET: 0.09026291819529794 ± 0.0008777813395064636\n",
      "GEOMETRICAL DISTANCE ON TEST DATA SET: 12.119341324003434 ± 0.05435438472537361\n"
     ]
    }
   ],
   "source": [
    "!bash ./1_PGClustered_ESN_Evaluate_Tuned_Model.sh \"evaluate_tuned_model\" \"Lorenz96_F24_ALPHA1_DIM40\" 3000 1 1 9 \"grid_search_for_F.json\" "
   ]
  },
  {
   "cell_type": "code",
   "execution_count": null,
   "metadata": {},
   "outputs": [
    {
     "name": "stdout",
     "output_type": "stream",
     "text": [
      "Grid Search Progress: 100%|███████████| 25/25 [36:41<00:00, 88.07s/trial, Current Best Loss=0.10784]\n",
      "{'radius': 0.4, 'sigma_input': 0.1}\n"
     ]
    }
   ],
   "source": [
    "!bash ./0_PGClustered_ESN_Tune.sh \"tune\" \"Lorenz96_F26_ALPHA1_DIM40\" 3000 1 1 10 \"grid_search_for_F.json\" "
   ]
  },
  {
   "cell_type": "code",
   "execution_count": 22,
   "metadata": {},
   "outputs": [
    {
     "name": "stdout",
     "output_type": "stream",
     "text": [
      "{'radius': 0.4, 'sigma_input': 0.1}\n",
      "AVERAGE RMNSE ERROR ON TRAIN DATA SET: 1.3840472491784714 ± 0.0045376365754520405\n",
      "AVG NUMBER OF ACCURATE 0.5 PREDICTIONS ON TRAIN DATA SET: 3.0717504639125077 ± 0.1945499579936813\n",
      "AVG NUMBER OF ACCURATE 1 PREDICTIONS ON TRAIN DATA SET: 4.4334726606662915 ± 0.231250083624903\n",
      "POWER SPECTRUM MEAN ERROR ON TRAIN DATA SET: 0.5707284206061016 ± 0.26235425115292466\n",
      "TEMPORAL DISTANCE ON TRAIN DATA SET: 0.08959885358547598 ± 0.0008549966623122888\n",
      "GEOMETRICAL DISTANCE ON TRAIN DATA SET: 11.82471168487118 ± 0.0799841663060031\n",
      "\n",
      "\n",
      "AVERAGE RMNSE ERROR ON TEST DATA SET: 1.392815177738124 ± 0.004159600698405455\n",
      "AVG NUMBER OF ACCURATE 0.5 PREDICTIONS ON TEST DATA SET: 2.7965530055550216 ± 0.10254544427499655\n",
      "AVG NUMBER OF ACCURATE 1 PREDICTIONS ON TEST DATA SET: 3.789165868313127 ± 0.14283038945662974\n",
      "POWER SPECTRUM MEAN ERROR ON TEST DATA SET: 0.4812396797696759 ± 0.27392554759766796\n",
      "TEMPORAL DISTANCE ON TEST DATA SET: 0.09004679061437007 ± 0.0007277082817206182\n",
      "GEOMETRICAL DISTANCE ON TEST DATA SET: 12.071197061491294 ± 0.09329341587427564\n"
     ]
    }
   ],
   "source": [
    "!bash ./1_PGClustered_ESN_Evaluate_Tuned_Model.sh \"evaluate_tuned_model\" \"Lorenz96_F26_ALPHA1_DIM40\" 3000 1 1 10 \"grid_search_for_F.json\" "
   ]
  },
  {
   "cell_type": "code",
   "execution_count": 1,
   "metadata": {},
   "outputs": [
    {
     "name": "stdout",
     "output_type": "stream",
     "text": [
      "Grid Search Progress: 100%|████████| 25/25 [1:37:27<00:00, 233.91s/trial, Current Best Loss=0.10702]\n",
      "{'radius': 0.4, 'sigma_input': 0.1}\n"
     ]
    }
   ],
   "source": [
    "!bash ./0_PGClustered_ESN_Tune.sh \"tune\" \"Lorenz96_F28_ALPHA1_DIM40\" 3000 1 1 11 \"grid_search_for_F.json\" "
   ]
  },
  {
   "cell_type": "code",
   "execution_count": 23,
   "metadata": {},
   "outputs": [
    {
     "name": "stdout",
     "output_type": "stream",
     "text": [
      "{'radius': 0.4, 'sigma_input': 0.1}\n",
      "AVERAGE RMNSE ERROR ON TRAIN DATA SET: 1.3792790929847134 ± 0.004971530897236398\n",
      "AVG NUMBER OF ACCURATE 0.5 PREDICTIONS ON TRAIN DATA SET: 3.135095032269199 ± 0.12492395939070637\n",
      "AVG NUMBER OF ACCURATE 1 PREDICTIONS ON TRAIN DATA SET: 4.199330643990629 ± 0.1235447360993739\n",
      "POWER SPECTRUM MEAN ERROR ON TRAIN DATA SET: 0.5010579468866279 ± 0.265314544622681\n",
      "TEMPORAL DISTANCE ON TRAIN DATA SET: 0.08904149575676303 ± 0.0010705997018650916\n",
      "GEOMETRICAL DISTANCE ON TRAIN DATA SET: 11.695505006900515 ± 0.09353085473587111\n",
      "\n",
      "\n",
      "AVERAGE RMNSE ERROR ON TEST DATA SET: 1.3786642484568525 ± 0.003985302712811187\n",
      "AVG NUMBER OF ACCURATE 0.5 PREDICTIONS ON TEST DATA SET: 2.514027135125402 ± 0.10127371257918281\n",
      "AVG NUMBER OF ACCURATE 1 PREDICTIONS ON TEST DATA SET: 3.58396061746283 ± 0.15015073997146622\n",
      "POWER SPECTRUM MEAN ERROR ON TEST DATA SET: 0.6086533640012665 ± 0.21733769839303776\n",
      "TEMPORAL DISTANCE ON TEST DATA SET: 0.08903156736828277 ± 0.0007372664763429249\n",
      "GEOMETRICAL DISTANCE ON TEST DATA SET: 11.534626576821244 ± 0.09001271927876803\n"
     ]
    }
   ],
   "source": [
    "!bash ./1_PGClustered_ESN_Evaluate_Tuned_Model.sh \"evaluate_tuned_model\" \"Lorenz96_F28_ALPHA1_DIM40\" 3000 1 1 11 \"grid_search_for_F.json\" "
   ]
  },
  {
   "cell_type": "code",
   "execution_count": 1,
   "metadata": {},
   "outputs": [
    {
     "name": "stdout",
     "output_type": "stream",
     "text": [
      "Grid Search Progress: 100%|████████| 25/25 [1:38:32<00:00, 236.52s/trial, Current Best Loss=0.10593]\n",
      "{'radius': 0.7, 'sigma_input': 0.5}\n"
     ]
    }
   ],
   "source": [
    "!bash ./0_PGClustered_ESN_Tune.sh \"tune\" \"Lorenz96_F32_ALPHA1_DIM40\" 3000 1 1 12 \"grid_search_for_F.json\" "
   ]
  },
  {
   "cell_type": "code",
   "execution_count": 24,
   "metadata": {},
   "outputs": [
    {
     "name": "stdout",
     "output_type": "stream",
     "text": [
      "{'radius': 0.7, 'sigma_input': 0.5}\n",
      "AVERAGE RMNSE ERROR ON TRAIN DATA SET: 1.4025647799092797 ± 0.002973547213308021\n",
      "AVG NUMBER OF ACCURATE 0.5 PREDICTIONS ON TRAIN DATA SET: 2.0828940707348127 ± 0.13810760964411664\n",
      "AVG NUMBER OF ACCURATE 1 PREDICTIONS ON TRAIN DATA SET: 3.0224451411033835 ± 0.18529853084197123\n",
      "POWER SPECTRUM MEAN ERROR ON TRAIN DATA SET: 0.37925789553524986 ± 0.0919794708284272\n",
      "TEMPORAL DISTANCE ON TRAIN DATA SET: 0.08965829295125329 ± 0.0010062998941070694\n",
      "GEOMETRICAL DISTANCE ON TRAIN DATA SET: 11.801677819290525 ± 0.057673651956623585\n",
      "\n",
      "\n",
      "AVERAGE RMNSE ERROR ON TEST DATA SET: 1.3990368816335452 ± 0.0017948958548376307\n",
      "AVG NUMBER OF ACCURATE 0.5 PREDICTIONS ON TEST DATA SET: 1.9339151425985848 ± 0.16383728003887466\n",
      "AVG NUMBER OF ACCURATE 1 PREDICTIONS ON TEST DATA SET: 2.8840071748635863 ± 0.17557585070176107\n",
      "POWER SPECTRUM MEAN ERROR ON TEST DATA SET: 0.4716472500887292 ± 0.18108833205245978\n",
      "TEMPORAL DISTANCE ON TEST DATA SET: 0.0895292016259992 ± 0.000778631152380213\n",
      "GEOMETRICAL DISTANCE ON TEST DATA SET: 11.716680944411653 ± 0.0709752299757671\n"
     ]
    }
   ],
   "source": [
    "!bash ./1_PGClustered_ESN_Evaluate_Tuned_Model.sh \"evaluate_tuned_model\" \"Lorenz96_F32_ALPHA1_DIM40\" 3000 1 1 12 \"grid_search_for_F.json\" "
   ]
  },
  {
   "cell_type": "code",
   "execution_count": 3,
   "metadata": {},
   "outputs": [
    {
     "name": "stdout",
     "output_type": "stream",
     "text": [
      "Grid Search Progress: 100%|████████| 25/25 [1:42:18<00:00, 245.53s/trial, Current Best Loss=0.10748]\n",
      "{'radius': 0.99, 'sigma_input': 0.5}\n"
     ]
    }
   ],
   "source": [
    "!bash ./0_PGClustered_ESN_Tune.sh \"tune\" \"Lorenz96_F36_ALPHA1_DIM40\" 3000 1 1 13 \"grid_search_for_F.json\" "
   ]
  },
  {
   "cell_type": "code",
   "execution_count": 25,
   "metadata": {},
   "outputs": [
    {
     "name": "stdout",
     "output_type": "stream",
     "text": [
      "{'radius': 0.99, 'sigma_input': 0.5}\n",
      "AVERAGE RMNSE ERROR ON TRAIN DATA SET: 1.4096186703601792 ± 0.0025520642450048555\n",
      "AVG NUMBER OF ACCURATE 0.5 PREDICTIONS ON TRAIN DATA SET: 1.9346284272022953 ± 0.05986646052784956\n",
      "AVG NUMBER OF ACCURATE 1 PREDICTIONS ON TRAIN DATA SET: 2.8154097399062157 ± 0.1406584089358567\n",
      "POWER SPECTRUM MEAN ERROR ON TRAIN DATA SET: 0.41646324453483263 ± 0.13204932717724063\n",
      "TEMPORAL DISTANCE ON TRAIN DATA SET: 0.09091752104513089 ± 0.0006385447919973192\n",
      "GEOMETRICAL DISTANCE ON TRAIN DATA SET: 11.79009973450408 ± 0.051333832626980574\n",
      "\n",
      "\n",
      "AVERAGE RMNSE ERROR ON TEST DATA SET: 1.410584972285888 ± 0.0032969100057438343\n",
      "AVG NUMBER OF ACCURATE 0.5 PREDICTIONS ON TEST DATA SET: 1.73220324831771 ± 0.09517916695336569\n",
      "AVG NUMBER OF ACCURATE 1 PREDICTIONS ON TEST DATA SET: 2.6052584091558066 ± 0.1455636537916778\n",
      "POWER SPECTRUM MEAN ERROR ON TEST DATA SET: 0.3989126635692634 ± 0.17579319622637593\n",
      "TEMPORAL DISTANCE ON TEST DATA SET: 0.09176176285424231 ± 0.00042691726360396767\n",
      "GEOMETRICAL DISTANCE ON TEST DATA SET: 11.826223380487084 ± 0.03904667323634194\n"
     ]
    }
   ],
   "source": [
    "!bash ./1_PGClustered_ESN_Evaluate_Tuned_Model.sh \"evaluate_tuned_model\" \"Lorenz96_F36_ALPHA1_DIM40\" 3000 1 1 13 \"grid_search_for_F.json\" "
   ]
  },
  {
   "cell_type": "code",
   "execution_count": 5,
   "metadata": {},
   "outputs": [
    {
     "name": "stdout",
     "output_type": "stream",
     "text": [
      "Grid Search Progress: 100%|████████| 25/25 [1:41:26<00:00, 243.45s/trial, Current Best Loss=0.11101]\n",
      "{'radius': 0.9, 'sigma_input': 0.5}\n"
     ]
    }
   ],
   "source": [
    "!bash ./0_PGClustered_ESN_Tune.sh \"tune\" \"Lorenz96_F40_ALPHA1_DIM40\" 3000 1 1 14 \"grid_search_for_F.json\" "
   ]
  },
  {
   "cell_type": "code",
   "execution_count": 26,
   "metadata": {},
   "outputs": [
    {
     "name": "stdout",
     "output_type": "stream",
     "text": [
      "{'radius': 0.9, 'sigma_input': 0.5}\n",
      "AVERAGE RMNSE ERROR ON TRAIN DATA SET: 1.4112429635157502 ± 0.0028898843837691516\n",
      "AVG NUMBER OF ACCURATE 0.5 PREDICTIONS ON TRAIN DATA SET: 1.897526968487656 ± 0.1564912433982408\n",
      "AVG NUMBER OF ACCURATE 1 PREDICTIONS ON TRAIN DATA SET: 2.9015582285126778 ± 0.16542437684788588\n",
      "POWER SPECTRUM MEAN ERROR ON TRAIN DATA SET: 0.7056325729719997 ± 0.2700208651064608\n",
      "TEMPORAL DISTANCE ON TRAIN DATA SET: 0.09453537384297668 ± 0.0007238356621045992\n",
      "GEOMETRICAL DISTANCE ON TRAIN DATA SET: 11.661090949334532 ± 0.06968071318891687\n",
      "\n",
      "\n",
      "AVERAGE RMNSE ERROR ON TEST DATA SET: 1.4098658193106515 ± 0.002179688792597643\n",
      "AVG NUMBER OF ACCURATE 0.5 PREDICTIONS ON TEST DATA SET: 1.9318599807153674 ± 0.10841216427688637\n",
      "AVG NUMBER OF ACCURATE 1 PREDICTIONS ON TEST DATA SET: 2.9367286312825285 ± 0.1849875123408617\n",
      "POWER SPECTRUM MEAN ERROR ON TEST DATA SET: 0.9970565146136469 ± 0.27370435368893287\n",
      "TEMPORAL DISTANCE ON TEST DATA SET: 0.09410179925493305 ± 0.0006854929944104111\n",
      "GEOMETRICAL DISTANCE ON TEST DATA SET: 11.646990049611095 ± 0.07455591192802552\n"
     ]
    }
   ],
   "source": [
    "!bash ./1_PGClustered_ESN_Evaluate_Tuned_Model.sh \"evaluate_tuned_model\" \"Lorenz96_F40_ALPHA1_DIM40\" 3000 1 1 14 \"grid_search_for_F.json\" "
   ]
  },
  {
   "cell_type": "code",
   "execution_count": 1,
   "metadata": {},
   "outputs": [
    {
     "name": "stdout",
     "output_type": "stream",
     "text": [
      "Grid Search Progress: 100%|████████| 25/25 [1:40:47<00:00, 241.90s/trial, Current Best Loss=0.11566]\n",
      "{'radius': 0.1, 'sigma_input': 0.5}\n"
     ]
    }
   ],
   "source": [
    "!bash ./0_PGClustered_ESN_Tune.sh \"tune\" \"Lorenz96_F44_ALPHA1_DIM40\" 3000 1 1 15 \"grid_search_for_F.json\" "
   ]
  },
  {
   "cell_type": "code",
   "execution_count": 27,
   "metadata": {},
   "outputs": [
    {
     "name": "stdout",
     "output_type": "stream",
     "text": [
      "{'radius': 0.1, 'sigma_input': 0.5}\n",
      "AVERAGE RMNSE ERROR ON TRAIN DATA SET: 1.4035007061757139 ± 0.0020317701596310775\n",
      "AVG NUMBER OF ACCURATE 0.5 PREDICTIONS ON TRAIN DATA SET: 2.2386705872621406 ± 0.07483447501287205\n",
      "AVG NUMBER OF ACCURATE 1 PREDICTIONS ON TRAIN DATA SET: 3.1947412178625783 ± 0.1846536959545959\n",
      "POWER SPECTRUM MEAN ERROR ON TRAIN DATA SET: 0.6701855063134312 ± 0.15404575151247543\n",
      "TEMPORAL DISTANCE ON TRAIN DATA SET: 0.09928188051479846 ± 0.0005185469467185377\n",
      "GEOMETRICAL DISTANCE ON TRAIN DATA SET: 11.377134182552037 ± 0.05433097991976237\n",
      "\n",
      "\n",
      "AVERAGE RMNSE ERROR ON TEST DATA SET: 1.4065094210615636 ± 0.0027066223186125887\n",
      "AVG NUMBER OF ACCURATE 0.5 PREDICTIONS ON TEST DATA SET: 2.20158553914992 ± 0.11746143083706895\n",
      "AVG NUMBER OF ACCURATE 1 PREDICTIONS ON TEST DATA SET: 3.211926971865803 ± 0.19769153109277876\n",
      "POWER SPECTRUM MEAN ERROR ON TEST DATA SET: 0.677328204858099 ± 0.16027252415563945\n",
      "TEMPORAL DISTANCE ON TEST DATA SET: 0.0994272279274883 ± 0.0005987195253184576\n",
      "GEOMETRICAL DISTANCE ON TEST DATA SET: 11.40506761167464 ± 0.06614200654533539\n"
     ]
    }
   ],
   "source": [
    "!bash ./1_PGClustered_ESN_Evaluate_Tuned_Model.sh \"evaluate_tuned_model\" \"Lorenz96_F44_ALPHA1_DIM40\" 3000 1 1 15 \"grid_search_for_F.json\" "
   ]
  },
  {
   "cell_type": "code",
   "execution_count": 9,
   "metadata": {},
   "outputs": [
    {
     "name": "stdout",
     "output_type": "stream",
     "text": [
      "Grid Search Progress:  36%|███▏     | 9/25 [48:58<1:27:36, 328.52s/trial, Current Best Loss=0.07113]/home/user/kuei_jan_CHU/PGClustered_ESN/Methods/./Utils/global_utils.py:278: RuntimeWarning: divide by zero encountered in log10\n",
      "  s_dbfs = 20 * np.log10(s_mag)\n",
      "Grid Search Progress: 100%|████████| 25/25 [2:17:37<00:00, 330.32s/trial, Current Best Loss=0.07113]\n",
      "{'radius': 0.1, 'sigma_input': 0.1}\n"
     ]
    }
   ],
   "source": [
    "!bash ./0_PGClustered_ESN_Tune.sh \"tune\" \"Lorenz96_F4_ALPHA1_DIM40\" 3000 1 1 16 \"grid_search_for_F.json\" "
   ]
  },
  {
   "cell_type": "code",
   "execution_count": 1,
   "metadata": {},
   "outputs": [
    {
     "name": "stdout",
     "output_type": "stream",
     "text": [
      "{'radius': 0.1, 'sigma_input': 0.1}\n",
      "AVERAGE RMNSE ERROR ON TRAIN DATA SET: 0.2577002184274258 ± 0.014544688537570103\n",
      "AVG NUMBER OF ACCURATE 0.5 PREDICTIONS ON TRAIN DATA SET: 64.1528 ± 4.104516166370896\n",
      "AVG NUMBER OF ACCURATE 1 PREDICTIONS ON TRAIN DATA SET: 70.00000000000001 ± 0.0\n",
      "POWER SPECTRUM MEAN ERROR ON TRAIN DATA SET: 0.4696386834513223 ± 0.18685912360830276\n",
      "TEMPORAL DISTANCE ON TRAIN DATA SET: 0.06955164554274106 ± 0.0006330846567279357\n",
      "GEOMETRICAL DISTANCE ON TRAIN DATA SET: 0.8173536115524582 ± 0.13440968964908753\n",
      "\n",
      "\n",
      "AVERAGE RMNSE ERROR ON TEST DATA SET: 0.25977863353811514 ± 0.020265852450935592\n",
      "AVG NUMBER OF ACCURATE 0.5 PREDICTIONS ON TEST DATA SET: 63.080700000000014 ± 6.223102876379279\n",
      "AVG NUMBER OF ACCURATE 1 PREDICTIONS ON TEST DATA SET: 69.98750000000001 ± 0.037500000000000006\n",
      "POWER SPECTRUM MEAN ERROR ON TEST DATA SET: 0.3310053726982428 ± 0.1789306509369114\n",
      "TEMPORAL DISTANCE ON TEST DATA SET: 0.06999442909444822 ± 0.0013654987369093605\n",
      "GEOMETRICAL DISTANCE ON TEST DATA SET: 0.8425442149560292 ± 0.20332369424479724\n"
     ]
    }
   ],
   "source": [
    "!bash ./1_PGClustered_ESN_Evaluate_Tuned_Model.sh \"evaluate_tuned_model\" \"Lorenz96_F4_ALPHA1_DIM40\" 3000 1 1 16 \"grid_search_for_F.json\" "
   ]
  },
  {
   "cell_type": "code",
   "execution_count": null,
   "metadata": {},
   "outputs": [],
   "source": []
  },
  {
   "cell_type": "code",
   "execution_count": null,
   "metadata": {},
   "outputs": [],
   "source": []
  }
 ],
 "metadata": {
  "kernelspec": {
   "display_name": "base",
   "language": "python",
   "name": "python3"
  },
  "language_info": {
   "codemirror_mode": {
    "name": "ipython",
    "version": 3
   },
   "file_extension": ".py",
   "mimetype": "text/x-python",
   "name": "python",
   "nbconvert_exporter": "python",
   "pygments_lexer": "ipython3",
   "version": "3.11.8"
  }
 },
 "nbformat": 4,
 "nbformat_minor": 4
}
