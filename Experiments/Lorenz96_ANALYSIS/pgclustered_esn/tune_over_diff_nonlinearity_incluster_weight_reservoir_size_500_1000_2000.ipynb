{
 "cells": [
  {
   "cell_type": "markdown",
   "metadata": {},
   "source": [
    "# size 500"
   ]
  },
  {
   "cell_type": "code",
   "execution_count": 1,
   "metadata": {},
   "outputs": [
    {
     "name": "stdout",
     "output_type": "stream",
     "text": [
      "Grid Search Progress:   8%|▉           | 2/25 [00:48<09:15, 24.15s/trial, Current Best Loss=0.12257]/home/user/kuei_jan_CHU/PGClustered_ESN/Methods/./Utils/global_utils.py:256: RuntimeWarning: divide by zero encountered in log10\n",
      "  s_dbfs = 20 * np.log10(s_mag)\n",
      "Grid Search Progress:  76%|████████▎  | 19/25 [07:13<02:15, 22.57s/trial, Current Best Loss=0.12257]/home/user/kuei_jan_CHU/PGClustered_ESN/Methods/./Utils/global_utils.py:291: RuntimeWarning: invalid value encountered in divide\n",
      "  trajectory = (trajectory-trajectory.mean())/trajectory.std()\n",
      "Grid Search Progress: 100%|███████████| 25/25 [09:29<00:00, 22.78s/trial, Current Best Loss=0.12257]\n",
      "{'radius': 0.1, 'sigma_input': 0.1, 'in_cluster_weight': 0.1}\n"
     ]
    }
   ],
   "source": [
    "!bash ./0_PGClustered_ESN_Tune.sh \"tune\" \"Lorenz96_F8_ALPHA1_DIM40\" 500 1 1 1 \"grid_search_for_icw_0.1_reservoir_size_500.json\" "
   ]
  },
  {
   "cell_type": "code",
   "execution_count": 2,
   "metadata": {},
   "outputs": [
    {
     "name": "stdout",
     "output_type": "stream",
     "text": [
      "{'radius': 0.1, 'sigma_input': 0.1, 'in_cluster_weight': 0.1}\n",
      "AVERAGE RMNSE ERROR ON TRAIN DATA SET: 1.390411872999643 ± 0.007051138112169091\n",
      "AVG NUMBER OF ACCURATE 0.5 PREDICTIONS ON TRAIN DATA SET: 1.9233686438212345 ± 0.1003971397506921\n",
      "AVG NUMBER OF ACCURATE 1 PREDICTIONS ON TRAIN DATA SET: 3.1042880810023816 ± 0.19819247804137133\n",
      "POWER SPECTRUM MEAN ERROR ON TRAIN DATA SET: 0.5271538376821726 ± 0.3512936896706785\n",
      "TEMPORAL DISTANCE ON TRAIN DATA SET: 0.11194218591569391 ± 0.0016097708621306188\n",
      "GEOMETRICAL DISTANCE ON TRAIN DATA SET: 13.276574836348951 ± 0.16694309540730898\n",
      "\n",
      "\n",
      "AVERAGE RMNSE ERROR ON TEST DATA SET: 1.390248193442308 ± 0.007849541537766418\n",
      "AVG NUMBER OF ACCURATE 0.5 PREDICTIONS ON TEST DATA SET: 1.7669834642374749 ± 0.10477298085502337\n",
      "AVG NUMBER OF ACCURATE 1 PREDICTIONS ON TEST DATA SET: 2.9440144050614037 ± 0.14319548514725727\n",
      "POWER SPECTRUM MEAN ERROR ON TEST DATA SET: 0.8306077758638757 ± 0.34650143250469173\n",
      "TEMPORAL DISTANCE ON TEST DATA SET: 0.113626513516273 ± 0.0020942370664864232\n",
      "GEOMETRICAL DISTANCE ON TEST DATA SET: 13.223018077621557 ± 0.12405209973416202\n"
     ]
    }
   ],
   "source": [
    "!bash ./1_PGClustered_ESN_Evaluate_Tuned_Model.sh \"evaluate_tuned_model\" \"Lorenz96_F8_ALPHA1_DIM40\" 500 1 1 1 \"grid_search_for_icw_0.1_reservoir_size_500.json\" "
   ]
  },
  {
   "cell_type": "code",
   "execution_count": 3,
   "metadata": {},
   "outputs": [
    {
     "name": "stdout",
     "output_type": "stream",
     "text": [
      "Grid Search Progress:   8%|▉           | 2/25 [00:46<08:55, 23.28s/trial, Current Best Loss=0.12431]/home/user/kuei_jan_CHU/PGClustered_ESN/Methods/./Utils/global_utils.py:256: RuntimeWarning: divide by zero encountered in log10\n",
      "  s_dbfs = 20 * np.log10(s_mag)\n",
      "Grid Search Progress: 100%|███████████| 25/25 [09:21<00:00, 22.46s/trial, Current Best Loss=0.12431]\n",
      "{'radius': 0.1, 'sigma_input': 0.1, 'in_cluster_weight': 0.3}\n"
     ]
    }
   ],
   "source": [
    "!bash ./0_PGClustered_ESN_Tune.sh \"tune\" \"Lorenz96_F8_ALPHA1_DIM40\" 500 1 1 1 \"grid_search_for_icw_0.3_reservoir_size_500.json\" "
   ]
  },
  {
   "cell_type": "code",
   "execution_count": 4,
   "metadata": {},
   "outputs": [
    {
     "name": "stdout",
     "output_type": "stream",
     "text": [
      "{'radius': 0.1, 'sigma_input': 0.1, 'in_cluster_weight': 0.3}\n",
      "AVERAGE RMNSE ERROR ON TRAIN DATA SET: 1.391934910646477 ± 0.007473948194308687\n",
      "AVG NUMBER OF ACCURATE 0.5 PREDICTIONS ON TRAIN DATA SET: 1.925059294411329 ± 0.10009918687126414\n",
      "AVG NUMBER OF ACCURATE 1 PREDICTIONS ON TRAIN DATA SET: 3.1027664954712963 ± 0.19049204366544412\n",
      "POWER SPECTRUM MEAN ERROR ON TRAIN DATA SET: 0.6877682941728545 ± 0.3287278646430611\n",
      "TEMPORAL DISTANCE ON TRAIN DATA SET: 0.11147234528821007 ± 0.0018605075774432752\n",
      "GEOMETRICAL DISTANCE ON TRAIN DATA SET: 13.23278393376871 ± 0.08608952216136889\n",
      "\n",
      "\n",
      "AVERAGE RMNSE ERROR ON TEST DATA SET: 1.3938667487521932 ± 0.006485888596708118\n",
      "AVG NUMBER OF ACCURATE 0.5 PREDICTIONS ON TEST DATA SET: 1.7668143991784657 ± 0.10445221226435296\n",
      "AVG NUMBER OF ACCURATE 1 PREDICTIONS ON TEST DATA SET: 2.942746417118833 ± 0.14677184240880267\n",
      "POWER SPECTRUM MEAN ERROR ON TEST DATA SET: 0.894715365784832 ± 0.38842483037991865\n",
      "TEMPORAL DISTANCE ON TEST DATA SET: 0.11404636282457148 ± 0.0019690594775403354\n",
      "GEOMETRICAL DISTANCE ON TEST DATA SET: 13.271197303686279 ± 0.11344786901749719\n"
     ]
    }
   ],
   "source": [
    "!bash ./1_PGClustered_ESN_Evaluate_Tuned_Model.sh \"evaluate_tuned_model\" \"Lorenz96_F8_ALPHA1_DIM40\" 500 1 1 1 \"grid_search_for_icw_0.3_reservoir_size_500.json\" "
   ]
  },
  {
   "cell_type": "code",
   "execution_count": 5,
   "metadata": {},
   "outputs": [
    {
     "name": "stdout",
     "output_type": "stream",
     "text": [
      "Grid Search Progress:   8%|▉           | 2/25 [00:46<08:47, 22.93s/trial, Current Best Loss=0.12525]/home/user/kuei_jan_CHU/PGClustered_ESN/Methods/./Utils/global_utils.py:256: RuntimeWarning: divide by zero encountered in log10\n",
      "  s_dbfs = 20 * np.log10(s_mag)\n",
      "Grid Search Progress:  12%|█▍          | 3/25 [01:08<08:16, 22.58s/trial, Current Best Loss=0.12525]/home/user/kuei_jan_CHU/PGClustered_ESN/Methods/./Utils/global_utils.py:291: RuntimeWarning: invalid value encountered in divide\n",
      "  trajectory = (trajectory-trajectory.mean())/trajectory.std()\n",
      "Grid Search Progress: 100%|███████████| 25/25 [09:19<00:00, 22.36s/trial, Current Best Loss=0.12525]\n",
      "{'radius': 0.1, 'sigma_input': 0.1, 'in_cluster_weight': 0.7}\n"
     ]
    }
   ],
   "source": [
    "!bash ./0_PGClustered_ESN_Tune.sh \"tune\" \"Lorenz96_F8_ALPHA1_DIM40\" 500 1 1 1 \"grid_search_for_icw_0.7_reservoir_size_500.json\" "
   ]
  },
  {
   "cell_type": "code",
   "execution_count": 6,
   "metadata": {},
   "outputs": [
    {
     "name": "stdout",
     "output_type": "stream",
     "text": [
      "{'radius': 0.1, 'sigma_input': 0.1, 'in_cluster_weight': 0.7}\n",
      "AVERAGE RMNSE ERROR ON TRAIN DATA SET: 1.3924850816543621 ± 0.006450238175157577\n",
      "AVG NUMBER OF ACCURATE 0.5 PREDICTIONS ON TRAIN DATA SET: 1.9297085835340895 ± 0.09943325408586343\n",
      "AVG NUMBER OF ACCURATE 1 PREDICTIONS ON TRAIN DATA SET: 3.108345642418609 ± 0.17076196572909794\n",
      "POWER SPECTRUM MEAN ERROR ON TRAIN DATA SET: 0.5190227346092443 ± 0.2792877412844932\n",
      "TEMPORAL DISTANCE ON TRAIN DATA SET: 0.112594177492556 ± 0.0020600502246521193\n",
      "GEOMETRICAL DISTANCE ON TRAIN DATA SET: 13.262111691910004 ± 0.10914961561840864\n",
      "\n",
      "\n",
      "AVERAGE RMNSE ERROR ON TEST DATA SET: 1.391757968289579 ± 0.008385451176464727\n",
      "AVG NUMBER OF ACCURATE 0.5 PREDICTIONS ON TEST DATA SET: 1.7652928136473798 ± 0.09635562657204574\n",
      "AVG NUMBER OF ACCURATE 1 PREDICTIONS ON TEST DATA SET: 2.9413093641172527 ± 0.15243245027990543\n",
      "POWER SPECTRUM MEAN ERROR ON TEST DATA SET: 0.8699155076196426 ± 0.4203922128599249\n",
      "TEMPORAL DISTANCE ON TEST DATA SET: 0.11392640956994222 ± 0.002349105044041151\n",
      "GEOMETRICAL DISTANCE ON TEST DATA SET: 13.204380013116483 ± 0.1099407873650544\n"
     ]
    }
   ],
   "source": [
    "!bash ./1_PGClustered_ESN_Evaluate_Tuned_Model.sh \"evaluate_tuned_model\" \"Lorenz96_F8_ALPHA1_DIM40\" 500 1 1 1 \"grid_search_for_icw_0.7_reservoir_size_500.json\" "
   ]
  },
  {
   "cell_type": "code",
   "execution_count": 7,
   "metadata": {},
   "outputs": [
    {
     "name": "stdout",
     "output_type": "stream",
     "text": [
      "Grid Search Progress:   8%|▉           | 2/25 [00:46<08:53, 23.19s/trial, Current Best Loss=0.12418]/home/user/kuei_jan_CHU/PGClustered_ESN/Methods/./Utils/global_utils.py:256: RuntimeWarning: divide by zero encountered in log10\n",
      "  s_dbfs = 20 * np.log10(s_mag)\n",
      "Grid Search Progress:  36%|████▎       | 9/25 [03:22<05:55, 22.24s/trial, Current Best Loss=0.12418]/home/user/kuei_jan_CHU/PGClustered_ESN/Methods/./Utils/global_utils.py:291: RuntimeWarning: invalid value encountered in divide\n",
      "  trajectory = (trajectory-trajectory.mean())/trajectory.std()\n",
      "Grid Search Progress: 100%|███████████| 25/25 [09:19<00:00, 22.37s/trial, Current Best Loss=0.12418]\n",
      "{'radius': 0.1, 'sigma_input': 0.1, 'in_cluster_weight': 0.9}\n"
     ]
    }
   ],
   "source": [
    "!bash ./0_PGClustered_ESN_Tune.sh \"tune\" \"Lorenz96_F8_ALPHA1_DIM40\" 500 1 1 1 \"grid_search_for_icw_0.9_reservoir_size_500.json\"  "
   ]
  },
  {
   "cell_type": "code",
   "execution_count": 8,
   "metadata": {},
   "outputs": [
    {
     "name": "stdout",
     "output_type": "stream",
     "text": [
      "{'radius': 0.1, 'sigma_input': 0.1, 'in_cluster_weight': 0.9}\n",
      "AVERAGE RMNSE ERROR ON TRAIN DATA SET: 1.3903518437739555 ± 0.008002628634424839\n",
      "AVG NUMBER OF ACCURATE 0.5 PREDICTIONS ON TRAIN DATA SET: 1.9291168558275569 ± 0.09960855740470549\n",
      "AVG NUMBER OF ACCURATE 1 PREDICTIONS ON TRAIN DATA SET: 3.100061454527145 ± 0.15181936397683604\n",
      "POWER SPECTRUM MEAN ERROR ON TRAIN DATA SET: 0.44487593921201396 ± 0.29995233494633244\n",
      "TEMPORAL DISTANCE ON TRAIN DATA SET: 0.11160003139829544 ± 0.0017718879380056042\n",
      "GEOMETRICAL DISTANCE ON TRAIN DATA SET: 13.236420446584791 ± 0.11679621464623184\n",
      "\n",
      "\n",
      "AVERAGE RMNSE ERROR ON TEST DATA SET: 1.392116442379343 ± 0.0062339582577731565\n",
      "AVG NUMBER OF ACCURATE 0.5 PREDICTIONS ON TEST DATA SET: 1.7600517968180864 ± 0.08909981241386256\n",
      "AVG NUMBER OF ACCURATE 1 PREDICTIONS ON TEST DATA SET: 2.957877739900181 ± 0.1660787568925921\n",
      "POWER SPECTRUM MEAN ERROR ON TEST DATA SET: 0.9644219930275313 ± 0.46209292921256245\n",
      "TEMPORAL DISTANCE ON TEST DATA SET: 0.11257914033459535 ± 0.002880066868522126\n",
      "GEOMETRICAL DISTANCE ON TEST DATA SET: 13.226280258743335 ± 0.12896417281355868\n"
     ]
    }
   ],
   "source": [
    "!bash ./1_PGClustered_ESN_Evaluate_Tuned_Model.sh \"evaluate_tuned_model\" \"Lorenz96_F8_ALPHA1_DIM40\" 500 1 1 1 \"grid_search_for_icw_0.9_reservoir_size_500.json\" "
   ]
  },
  {
   "cell_type": "code",
   "execution_count": 9,
   "metadata": {},
   "outputs": [
    {
     "name": "stdout",
     "output_type": "stream",
     "text": [
      "Grid Search Progress:   8%|▉           | 2/25 [00:47<08:58, 23.39s/trial, Current Best Loss=0.11602]/home/user/kuei_jan_CHU/PGClustered_ESN/Methods/./Utils/global_utils.py:256: RuntimeWarning: divide by zero encountered in log10\n",
      "  s_dbfs = 20 * np.log10(s_mag)\n",
      "Grid Search Progress:  56%|██████▏    | 14/25 [05:16<04:06, 22.42s/trial, Current Best Loss=0.11366]/home/user/kuei_jan_CHU/PGClustered_ESN/Methods/./Utils/global_utils.py:291: RuntimeWarning: invalid value encountered in divide\n",
      "  trajectory = (trajectory-trajectory.mean())/trajectory.std()\n",
      "Grid Search Progress: 100%|███████████| 25/25 [09:24<00:00, 22.57s/trial, Current Best Loss=0.11366]\n",
      "{'radius': 0.4, 'sigma_input': 0.1, 'in_cluster_weight': 0.1}\n"
     ]
    }
   ],
   "source": [
    "!bash ./0_PGClustered_ESN_Tune.sh \"tune\" \"Lorenz96_F8_ALPHA2_DIM40\" 500 1 1 2 \"grid_search_for_icw_0.1_reservoir_size_500.json\" "
   ]
  },
  {
   "cell_type": "code",
   "execution_count": 10,
   "metadata": {},
   "outputs": [
    {
     "name": "stdout",
     "output_type": "stream",
     "text": [
      "{'radius': 0.4, 'sigma_input': 0.1, 'in_cluster_weight': 0.1}\n",
      "AVERAGE RMNSE ERROR ON TRAIN DATA SET: 1.3838822459378626 ± 0.00959567165218043\n",
      "AVG NUMBER OF ACCURATE 0.5 PREDICTIONS ON TRAIN DATA SET: 2.0675486487043857 ± 0.09153473340449692\n",
      "AVG NUMBER OF ACCURATE 1 PREDICTIONS ON TRAIN DATA SET: 3.2539819904940144 ± 0.1631358815686036\n",
      "POWER SPECTRUM MEAN ERROR ON TRAIN DATA SET: 0.7894766863124858 ± 0.41424014731615344\n",
      "TEMPORAL DISTANCE ON TRAIN DATA SET: 0.09833002315423028 ± 0.0014652423543833207\n",
      "GEOMETRICAL DISTANCE ON TRAIN DATA SET: 12.49331548237047 ± 0.17001343655532028\n",
      "\n",
      "\n",
      "AVERAGE RMNSE ERROR ON TEST DATA SET: 1.3818701530967448 ± 0.010445817017558154\n",
      "AVG NUMBER OF ACCURATE 0.5 PREDICTIONS ON TEST DATA SET: 2.0397924637157607 ± 0.10776631641459619\n",
      "AVG NUMBER OF ACCURATE 1 PREDICTIONS ON TEST DATA SET: 3.2086149846850205 ± 0.16691688054589726\n",
      "POWER SPECTRUM MEAN ERROR ON TEST DATA SET: 0.4399792146058677 ± 0.24888841616665708\n",
      "TEMPORAL DISTANCE ON TEST DATA SET: 0.09966843200754397 ± 0.0011607632651863668\n",
      "GEOMETRICAL DISTANCE ON TEST DATA SET: 12.319311580377423 ± 0.18612878018922452\n"
     ]
    }
   ],
   "source": [
    "!bash ./1_PGClustered_ESN_Evaluate_Tuned_Model.sh \"evaluate_tuned_model\" \"Lorenz96_F8_ALPHA2_DIM40\" 500 1 1 2 \"grid_search_for_icw_0.1_reservoir_size_500.json\" "
   ]
  },
  {
   "cell_type": "code",
   "execution_count": 11,
   "metadata": {},
   "outputs": [
    {
     "name": "stdout",
     "output_type": "stream",
     "text": [
      "Grid Search Progress:  12%|█▍          | 3/25 [01:08<08:19, 22.72s/trial, Current Best Loss=0.11671]/home/user/kuei_jan_CHU/PGClustered_ESN/Methods/./Utils/global_utils.py:256: RuntimeWarning: divide by zero encountered in log10\n",
      "  s_dbfs = 20 * np.log10(s_mag)\n",
      "/home/user/kuei_jan_CHU/PGClustered_ESN/Methods/./Utils/global_utils.py:291: RuntimeWarning: invalid value encountered in divide\n",
      "  trajectory = (trajectory-trajectory.mean())/trajectory.std()\n",
      "Grid Search Progress: 100%|███████████| 25/25 [09:24<00:00, 22.59s/trial, Current Best Loss=0.11565]\n",
      "{'radius': 0.4, 'sigma_input': 0.1, 'in_cluster_weight': 0.3}\n"
     ]
    }
   ],
   "source": [
    "!bash ./0_PGClustered_ESN_Tune.sh \"tune\" \"Lorenz96_F8_ALPHA2_DIM40\" 500 1 1 2 \"grid_search_for_icw_0.3_reservoir_size_500.json\"  "
   ]
  },
  {
   "cell_type": "code",
   "execution_count": 12,
   "metadata": {},
   "outputs": [
    {
     "name": "stdout",
     "output_type": "stream",
     "text": [
      "{'radius': 0.4, 'sigma_input': 0.1, 'in_cluster_weight': 0.3}\n",
      "AVERAGE RMNSE ERROR ON TRAIN DATA SET: 1.3859760468100584 ± 0.00941778079661748\n",
      "AVG NUMBER OF ACCURATE 0.5 PREDICTIONS ON TRAIN DATA SET: 2.072717041771233 ± 0.09465153255467434\n",
      "AVG NUMBER OF ACCURATE 1 PREDICTIONS ON TRAIN DATA SET: 3.2392424991552273 ± 0.14918588496068463\n",
      "POWER SPECTRUM MEAN ERROR ON TRAIN DATA SET: 0.7661738337409444 ± 0.40894655330430224\n",
      "TEMPORAL DISTANCE ON TRAIN DATA SET: 0.09809164415957874 ± 0.0013193678303508906\n",
      "GEOMETRICAL DISTANCE ON TRAIN DATA SET: 12.507749968662301 ± 0.1448914415142912\n",
      "\n",
      "\n",
      "AVERAGE RMNSE ERROR ON TEST DATA SET: 1.3839569505345035 ± 0.009279118998114446\n",
      "AVG NUMBER OF ACCURATE 0.5 PREDICTIONS ON TEST DATA SET: 2.0528091573655987 ± 0.10448623806690673\n",
      "AVG NUMBER OF ACCURATE 1 PREDICTIONS ON TEST DATA SET: 3.211294892201164 ± 0.15392325822335096\n",
      "POWER SPECTRUM MEAN ERROR ON TEST DATA SET: 0.46585596660519 ± 0.3124150747097482\n",
      "TEMPORAL DISTANCE ON TEST DATA SET: 0.09932197502757022 ± 0.0011499958086884125\n",
      "GEOMETRICAL DISTANCE ON TEST DATA SET: 12.345111336450035 ± 0.16093444663615292\n"
     ]
    }
   ],
   "source": [
    "!bash ./1_PGClustered_ESN_Evaluate_Tuned_Model.sh \"evaluate_tuned_model\" \"Lorenz96_F8_ALPHA2_DIM40\" 500 1 1 2 \"grid_search_for_icw_0.3_reservoir_size_500.json\" "
   ]
  },
  {
   "cell_type": "code",
   "execution_count": 13,
   "metadata": {},
   "outputs": [
    {
     "name": "stdout",
     "output_type": "stream",
     "text": [
      "Grid Search Progress:   8%|▉           | 2/25 [00:46<08:46, 22.89s/trial, Current Best Loss=0.11660]/home/user/kuei_jan_CHU/PGClustered_ESN/Methods/./Utils/global_utils.py:256: RuntimeWarning: divide by zero encountered in log10\n",
      "  s_dbfs = 20 * np.log10(s_mag)\n",
      "Grid Search Progress:  16%|█▉          | 4/25 [01:30<07:50, 22.40s/trial, Current Best Loss=0.11660]/home/user/kuei_jan_CHU/PGClustered_ESN/Methods/./Utils/global_utils.py:291: RuntimeWarning: invalid value encountered in divide\n",
      "  trajectory = (trajectory-trajectory.mean())/trajectory.std()\n",
      "Grid Search Progress: 100%|███████████| 25/25 [09:19<00:00, 22.39s/trial, Current Best Loss=0.11572]\n",
      "{'radius': 0.7, 'sigma_input': 0.1, 'in_cluster_weight': 0.5}\n"
     ]
    }
   ],
   "source": [
    "!bash ./0_PGClustered_ESN_Tune.sh \"tune\" \"Lorenz96_F8_ALPHA2_DIM40\" 500 1 1 2 \"grid_search_for_icw_0.5_reservoir_size_500.json\"  "
   ]
  },
  {
   "cell_type": "code",
   "execution_count": 14,
   "metadata": {
    "scrolled": true
   },
   "outputs": [
    {
     "name": "stdout",
     "output_type": "stream",
     "text": [
      "{'radius': 0.7, 'sigma_input': 0.1, 'in_cluster_weight': 0.5}\n",
      "AVERAGE RMNSE ERROR ON TRAIN DATA SET: 1.4018832411399527 ± 0.010420080926291425\n",
      "AVG NUMBER OF ACCURATE 0.5 PREDICTIONS ON TRAIN DATA SET: 1.879572278643493 ± 0.11005997298234281\n",
      "AVG NUMBER OF ACCURATE 1 PREDICTIONS ON TRAIN DATA SET: 2.9823542215363696 ± 0.18836154839151786\n",
      "POWER SPECTRUM MEAN ERROR ON TRAIN DATA SET: 0.9396341391406663 ± 0.45237934537719293\n",
      "TEMPORAL DISTANCE ON TRAIN DATA SET: 0.0984074412922917 ± 0.0014985054922771136\n",
      "GEOMETRICAL DISTANCE ON TRAIN DATA SET: 12.73900133827256 ± 0.17459165570609028\n",
      "\n",
      "\n",
      "AVERAGE RMNSE ERROR ON TEST DATA SET: 1.398702186279396 ± 0.009026160011739604\n",
      "AVG NUMBER OF ACCURATE 0.5 PREDICTIONS ON TEST DATA SET: 1.904839978081413 ± 0.09566100853974922\n",
      "AVG NUMBER OF ACCURATE 1 PREDICTIONS ON TEST DATA SET: 3.0300182909306286 ± 0.1786920715169897\n",
      "POWER SPECTRUM MEAN ERROR ON TEST DATA SET: 0.5228795553058274 ± 0.25126495894604767\n",
      "TEMPORAL DISTANCE ON TEST DATA SET: 0.0995422535615411 ± 0.0014764103294538631\n",
      "GEOMETRICAL DISTANCE ON TEST DATA SET: 12.566531507375602 ± 0.16631937029352747\n"
     ]
    }
   ],
   "source": [
    "!bash ./1_PGClustered_ESN_Evaluate_Tuned_Model.sh \"evaluate_tuned_model\" \"Lorenz96_F8_ALPHA2_DIM40\" 500 1 1 2 \"grid_search_for_icw_0.5_reservoir_size_500.json\" "
   ]
  },
  {
   "cell_type": "code",
   "execution_count": 15,
   "metadata": {
    "scrolled": true
   },
   "outputs": [
    {
     "name": "stdout",
     "output_type": "stream",
     "text": [
      "Grid Search Progress:   8%|▉           | 2/25 [00:46<08:50, 23.07s/trial, Current Best Loss=0.11624]/home/user/kuei_jan_CHU/PGClustered_ESN/Methods/./Utils/global_utils.py:256: RuntimeWarning: divide by zero encountered in log10\n",
      "  s_dbfs = 20 * np.log10(s_mag)\n",
      "Grid Search Progress:  16%|█▉          | 4/25 [01:30<07:53, 22.53s/trial, Current Best Loss=0.11624]/home/user/kuei_jan_CHU/PGClustered_ESN/Methods/./Utils/global_utils.py:291: RuntimeWarning: invalid value encountered in divide\n",
      "  trajectory = (trajectory-trajectory.mean())/trajectory.std()\n",
      "Grid Search Progress: 100%|███████████| 25/25 [09:24<00:00, 22.57s/trial, Current Best Loss=0.11509]\n",
      "{'radius': 0.7, 'sigma_input': 0.1, 'in_cluster_weight': 0.7}\n"
     ]
    }
   ],
   "source": [
    "!bash ./0_PGClustered_ESN_Tune.sh \"tune\" \"Lorenz96_F8_ALPHA2_DIM40\" 500 1 1 2 \"grid_search_for_icw_0.7_reservoir_size_500.json\"  "
   ]
  },
  {
   "cell_type": "code",
   "execution_count": 16,
   "metadata": {
    "scrolled": true
   },
   "outputs": [
    {
     "name": "stdout",
     "output_type": "stream",
     "text": [
      "{'radius': 0.7, 'sigma_input': 0.1, 'in_cluster_weight': 0.7}\n",
      "AVERAGE RMNSE ERROR ON TRAIN DATA SET: 1.4011861528564231 ± 0.008008425608686318\n",
      "AVG NUMBER OF ACCURATE 0.5 PREDICTIONS ON TRAIN DATA SET: 1.8937375040859632 ± 0.12187597673079978\n",
      "AVG NUMBER OF ACCURATE 1 PREDICTIONS ON TRAIN DATA SET: 2.9978594007369117 ± 0.2118288823719847\n",
      "POWER SPECTRUM MEAN ERROR ON TRAIN DATA SET: 0.9176482233263863 ± 0.4826609871099528\n",
      "TEMPORAL DISTANCE ON TRAIN DATA SET: 0.0981893840780778 ± 0.002230788855308667\n",
      "GEOMETRICAL DISTANCE ON TRAIN DATA SET: 12.737694066306492 ± 0.11195835405666867\n",
      "\n",
      "\n",
      "AVERAGE RMNSE ERROR ON TEST DATA SET: 1.4029587868150177 ± 0.009588716566540548\n",
      "AVG NUMBER OF ACCURATE 0.5 PREDICTIONS ON TEST DATA SET: 1.917282405834935 ± 0.09918244255715873\n",
      "AVG NUMBER OF ACCURATE 1 PREDICTIONS ON TEST DATA SET: 3.0487776435436307 ± 0.1388793733253174\n",
      "POWER SPECTRUM MEAN ERROR ON TEST DATA SET: 0.5068620161253399 ± 0.2622592430459362\n",
      "TEMPORAL DISTANCE ON TEST DATA SET: 0.09938783993911567 ± 0.0011989411246978146\n",
      "GEOMETRICAL DISTANCE ON TEST DATA SET: 12.644912780831914 ± 0.14406672633516804\n"
     ]
    }
   ],
   "source": [
    "!bash ./1_PGClustered_ESN_Evaluate_Tuned_Model.sh \"evaluate_tuned_model\" \"Lorenz96_F8_ALPHA2_DIM40\" 500 1 1 2 \"grid_search_for_icw_0.7_reservoir_size_500.json\" "
   ]
  },
  {
   "cell_type": "code",
   "execution_count": 17,
   "metadata": {},
   "outputs": [
    {
     "name": "stdout",
     "output_type": "stream",
     "text": [
      "Grid Search Progress:   8%|▉           | 2/25 [00:45<08:45, 22.85s/trial, Current Best Loss=0.11515]/home/user/kuei_jan_CHU/PGClustered_ESN/Methods/./Utils/global_utils.py:256: RuntimeWarning: divide by zero encountered in log10\n",
      "  s_dbfs = 20 * np.log10(s_mag)\n",
      "Grid Search Progress:  36%|████▎       | 9/25 [03:21<05:56, 22.27s/trial, Current Best Loss=0.11515]/home/user/kuei_jan_CHU/PGClustered_ESN/Methods/./Utils/global_utils.py:291: RuntimeWarning: invalid value encountered in divide\n",
      "  trajectory = (trajectory-trajectory.mean())/trajectory.std()\n",
      "Grid Search Progress: 100%|███████████| 25/25 [09:18<00:00, 22.32s/trial, Current Best Loss=0.11481]\n",
      "{'radius': 0.7, 'sigma_input': 0.1, 'in_cluster_weight': 0.9}\n"
     ]
    }
   ],
   "source": [
    "!bash ./0_PGClustered_ESN_Tune.sh \"tune\" \"Lorenz96_F8_ALPHA2_DIM40\" 500 1 1 2 \"grid_search_for_icw_0.9_reservoir_size_500.json\" "
   ]
  },
  {
   "cell_type": "code",
   "execution_count": 18,
   "metadata": {},
   "outputs": [
    {
     "name": "stdout",
     "output_type": "stream",
     "text": [
      "{'radius': 0.7, 'sigma_input': 0.1, 'in_cluster_weight': 0.9}\n",
      "AVERAGE RMNSE ERROR ON TRAIN DATA SET: 1.4127218661115304 ± 0.00643410201623141\n",
      "AVG NUMBER OF ACCURATE 0.5 PREDICTIONS ON TRAIN DATA SET: 1.838416556074152 ± 0.10956027454401956\n",
      "AVG NUMBER OF ACCURATE 1 PREDICTIONS ON TRAIN DATA SET: 2.8720951694436256 ± 0.21571344597683625\n",
      "POWER SPECTRUM MEAN ERROR ON TRAIN DATA SET: 1.2039238100102774 ± 0.30012237231570604\n",
      "TEMPORAL DISTANCE ON TRAIN DATA SET: 0.09814093162202402 ± 0.0014372875867845762\n",
      "GEOMETRICAL DISTANCE ON TRAIN DATA SET: 12.902359155419209 ± 0.10038583435442641\n",
      "\n",
      "\n",
      "AVERAGE RMNSE ERROR ON TEST DATA SET: 1.4087277532889109 ± 0.005786563365598035\n",
      "AVG NUMBER OF ACCURATE 0.5 PREDICTIONS ON TEST DATA SET: 1.8340138508690604 ± 0.11175157945158135\n",
      "AVG NUMBER OF ACCURATE 1 PREDICTIONS ON TEST DATA SET: 2.951726707066163 ± 0.13179510055694518\n",
      "POWER SPECTRUM MEAN ERROR ON TEST DATA SET: 0.3964456570454141 ± 0.1596992477228262\n",
      "TEMPORAL DISTANCE ON TEST DATA SET: 0.09937199428331199 ± 0.00136703300661351\n",
      "GEOMETRICAL DISTANCE ON TEST DATA SET: 12.750643736983672 ± 0.11807181278723443\n"
     ]
    }
   ],
   "source": [
    "!bash ./1_PGClustered_ESN_Evaluate_Tuned_Model.sh \"evaluate_tuned_model\" \"Lorenz96_F8_ALPHA2_DIM40\" 500 1 1 2 \"grid_search_for_icw_0.9_reservoir_size_500.json\" "
   ]
  },
  {
   "cell_type": "code",
   "execution_count": 19,
   "metadata": {},
   "outputs": [
    {
     "name": "stdout",
     "output_type": "stream",
     "text": [
      "Grid Search Progress:   8%|▉           | 2/25 [00:46<08:54, 23.25s/trial, Current Best Loss=0.13381]/home/user/kuei_jan_CHU/PGClustered_ESN/Methods/./Utils/global_utils.py:256: RuntimeWarning: divide by zero encountered in log10\n",
      "  s_dbfs = 20 * np.log10(s_mag)\n",
      "Grid Search Progress:  16%|█▉          | 4/25 [01:31<07:52, 22.51s/trial, Current Best Loss=0.13381]/home/user/kuei_jan_CHU/PGClustered_ESN/Methods/./Utils/global_utils.py:291: RuntimeWarning: invalid value encountered in divide\n",
      "  trajectory = (trajectory-trajectory.mean())/trajectory.std()\n",
      "Grid Search Progress: 100%|███████████| 25/25 [09:22<00:00, 22.50s/trial, Current Best Loss=0.11360]\n",
      "{'radius': 0.4, 'sigma_input': 0.1, 'in_cluster_weight': 0.1}\n"
     ]
    }
   ],
   "source": [
    "!bash ./0_PGClustered_ESN_Tune.sh \"tune\" \"Lorenz96_F8_ALPHA3_DIM40\" 500 1 1 3 \"grid_search_for_icw_0.1_reservoir_size_500.json\"   "
   ]
  },
  {
   "cell_type": "code",
   "execution_count": 20,
   "metadata": {},
   "outputs": [
    {
     "name": "stdout",
     "output_type": "stream",
     "text": [
      "{'radius': 0.4, 'sigma_input': 0.1, 'in_cluster_weight': 0.1}\n",
      "AVERAGE RMNSE ERROR ON TRAIN DATA SET: 1.347153756673594 ± 0.02408909157982736\n",
      "AVG NUMBER OF ACCURATE 0.5 PREDICTIONS ON TRAIN DATA SET: 2.126784220130923 ± 0.10526041026889278\n",
      "AVG NUMBER OF ACCURATE 1 PREDICTIONS ON TRAIN DATA SET: 3.197714158227827 ± 0.16125905879233857\n",
      "POWER SPECTRUM MEAN ERROR ON TRAIN DATA SET: 0.8875522896787261 ± 0.4006715799131411\n",
      "TEMPORAL DISTANCE ON TRAIN DATA SET: 0.09932642792613264 ± 0.0067617699868562624\n",
      "GEOMETRICAL DISTANCE ON TRAIN DATA SET: 11.400545392024148 ± 0.2313644760071003\n",
      "\n",
      "\n",
      "AVERAGE RMNSE ERROR ON TEST DATA SET: 1.3521129646972423 ± 0.025164445973862238\n",
      "AVG NUMBER OF ACCURATE 0.5 PREDICTIONS ON TEST DATA SET: 2.098866338532985 ± 0.09852916162863985\n",
      "AVG NUMBER OF ACCURATE 1 PREDICTIONS ON TEST DATA SET: 3.145507719639683 ± 0.1556734222522384\n",
      "POWER SPECTRUM MEAN ERROR ON TEST DATA SET: 1.294233229037371 ± 0.384939660799003\n",
      "TEMPORAL DISTANCE ON TEST DATA SET: 0.09838112535278974 ± 0.004561370247826544\n",
      "GEOMETRICAL DISTANCE ON TEST DATA SET: 11.39677216201428 ± 0.2157540869336353\n"
     ]
    }
   ],
   "source": [
    "!bash ./1_PGClustered_ESN_Evaluate_Tuned_Model.sh \"evaluate_tuned_model\" \"Lorenz96_F8_ALPHA3_DIM40\" 500 1 1 3 \"grid_search_for_icw_0.1_reservoir_size_500.json\" "
   ]
  },
  {
   "cell_type": "code",
   "execution_count": 21,
   "metadata": {},
   "outputs": [
    {
     "name": "stdout",
     "output_type": "stream",
     "text": [
      "Grid Search Progress:   8%|▉           | 2/25 [00:46<08:56, 23.32s/trial, Current Best Loss=0.13382]/home/user/kuei_jan_CHU/PGClustered_ESN/Methods/./Utils/global_utils.py:256: RuntimeWarning: divide by zero encountered in log10\n",
      "  s_dbfs = 20 * np.log10(s_mag)\n",
      "Grid Search Progress:  16%|█▉          | 4/25 [01:32<07:59, 22.85s/trial, Current Best Loss=0.13382]/home/user/kuei_jan_CHU/PGClustered_ESN/Methods/./Utils/global_utils.py:291: RuntimeWarning: invalid value encountered in divide\n",
      "  trajectory = (trajectory-trajectory.mean())/trajectory.std()\n",
      "Grid Search Progress: 100%|███████████| 25/25 [09:30<00:00, 22.82s/trial, Current Best Loss=0.11203]\n",
      "{'radius': 0.7, 'sigma_input': 0.1, 'in_cluster_weight': 0.3}\n"
     ]
    }
   ],
   "source": [
    "!bash ./0_PGClustered_ESN_Tune.sh \"tune\" \"Lorenz96_F8_ALPHA3_DIM40\" 500 1 1 3 \"grid_search_for_icw_0.3_reservoir_size_500.json\"  "
   ]
  },
  {
   "cell_type": "code",
   "execution_count": 22,
   "metadata": {
    "scrolled": true
   },
   "outputs": [
    {
     "name": "stdout",
     "output_type": "stream",
     "text": [
      "{'radius': 0.7, 'sigma_input': 0.1, 'in_cluster_weight': 0.3}\n",
      "AVERAGE RMNSE ERROR ON TRAIN DATA SET: 1.4027210442773737 ± 0.02137837606684749\n",
      "AVG NUMBER OF ACCURATE 0.5 PREDICTIONS ON TRAIN DATA SET: 1.9640229704149434 ± 0.11862800336667423\n",
      "AVG NUMBER OF ACCURATE 1 PREDICTIONS ON TRAIN DATA SET: 2.9802338605798893 ± 0.1550071082271167\n",
      "POWER SPECTRUM MEAN ERROR ON TRAIN DATA SET: 1.1009914615672147 ± 0.4282735943056567\n",
      "TEMPORAL DISTANCE ON TRAIN DATA SET: 0.10005918465604831 ± 0.004351229728373774\n",
      "GEOMETRICAL DISTANCE ON TRAIN DATA SET: 11.932712987086251 ± 0.2788642028934721\n",
      "\n",
      "\n",
      "AVERAGE RMNSE ERROR ON TEST DATA SET: 1.414939443172376 ± 0.03201882269048602\n",
      "AVG NUMBER OF ACCURATE 0.5 PREDICTIONS ON TEST DATA SET: 1.8350423574324697 ± 0.09718109921697944\n",
      "AVG NUMBER OF ACCURATE 1 PREDICTIONS ON TEST DATA SET: 2.8699582282680343 ± 0.17333385109869578\n",
      "POWER SPECTRUM MEAN ERROR ON TEST DATA SET: 1.3470204908296028 ± 0.4804530172172597\n",
      "TEMPORAL DISTANCE ON TEST DATA SET: 0.10513545327667935 ± 0.010784812036148393\n",
      "GEOMETRICAL DISTANCE ON TEST DATA SET: 11.972266179633934 ± 0.23205627908010373\n"
     ]
    }
   ],
   "source": [
    "!bash ./1_PGClustered_ESN_Evaluate_Tuned_Model.sh \"evaluate_tuned_model\" \"Lorenz96_F8_ALPHA3_DIM40\" 500 1 1 3 \"grid_search_for_icw_0.3_reservoir_size_500.json\" "
   ]
  },
  {
   "cell_type": "code",
   "execution_count": 23,
   "metadata": {},
   "outputs": [
    {
     "name": "stdout",
     "output_type": "stream",
     "text": [
      "Grid Search Progress:   8%|▉           | 2/25 [00:46<08:54, 23.25s/trial, Current Best Loss=0.13714]/home/user/kuei_jan_CHU/PGClustered_ESN/Methods/./Utils/global_utils.py:256: RuntimeWarning: divide by zero encountered in log10\n",
      "  s_dbfs = 20 * np.log10(s_mag)\n",
      "Grid Search Progress:  36%|████▎       | 9/25 [03:22<05:56, 22.30s/trial, Current Best Loss=0.11375]/home/user/kuei_jan_CHU/PGClustered_ESN/Methods/./Utils/global_utils.py:291: RuntimeWarning: invalid value encountered in divide\n",
      "  trajectory = (trajectory-trajectory.mean())/trajectory.std()\n",
      "Grid Search Progress: 100%|███████████| 25/25 [09:20<00:00, 22.43s/trial, Current Best Loss=0.11307]\n",
      "{'radius': 0.7, 'sigma_input': 0.1, 'in_cluster_weight': 0.5}\n"
     ]
    }
   ],
   "source": [
    "!bash ./0_PGClustered_ESN_Tune.sh \"tune\" \"Lorenz96_F8_ALPHA3_DIM40\" 500 1 1 3 \"grid_search_for_icw_0.5_reservoir_size_500.json\"  "
   ]
  },
  {
   "cell_type": "code",
   "execution_count": 24,
   "metadata": {
    "scrolled": true
   },
   "outputs": [
    {
     "name": "stdout",
     "output_type": "stream",
     "text": [
      "{'radius': 0.7, 'sigma_input': 0.1, 'in_cluster_weight': 0.5}\n",
      "AVERAGE RMNSE ERROR ON TRAIN DATA SET: 1.4172797589260593 ± 0.060634438136712925\n",
      "AVG NUMBER OF ACCURATE 0.5 PREDICTIONS ON TRAIN DATA SET: 1.9732358713422626 ± 0.12003260645395088\n",
      "AVG NUMBER OF ACCURATE 1 PREDICTIONS ON TRAIN DATA SET: 2.9950303378267966 ± 0.14376380829358362\n",
      "POWER SPECTRUM MEAN ERROR ON TRAIN DATA SET: 1.1368247978403303 ± 0.8558635076772667\n",
      "TEMPORAL DISTANCE ON TRAIN DATA SET: 0.1037668614197524 ± 0.016930405515739547\n",
      "GEOMETRICAL DISTANCE ON TRAIN DATA SET: 11.953745881377811 ± 0.28856169326409803\n",
      "\n",
      "\n",
      "AVERAGE RMNSE ERROR ON TEST DATA SET: 1.4046948048811652 ± 0.0210358526545855\n",
      "AVG NUMBER OF ACCURATE 0.5 PREDICTIONS ON TEST DATA SET: 1.8417426490159747 ± 0.0919558402595632\n",
      "AVG NUMBER OF ACCURATE 1 PREDICTIONS ON TEST DATA SET: 2.8953635005221576 ± 0.1822203788977978\n",
      "POWER SPECTRUM MEAN ERROR ON TEST DATA SET: 1.233987743850313 ± 0.3404669758861161\n",
      "TEMPORAL DISTANCE ON TEST DATA SET: 0.0995318051918461 ± 0.004546771532250916\n",
      "GEOMETRICAL DISTANCE ON TEST DATA SET: 11.967563046919631 ± 0.2729516728981199\n"
     ]
    }
   ],
   "source": [
    "!bash ./1_PGClustered_ESN_Evaluate_Tuned_Model.sh \"evaluate_tuned_model\" \"Lorenz96_F8_ALPHA3_DIM40\" 500 1 1 3 \"grid_search_for_icw_0.5_reservoir_size_500.json\" "
   ]
  },
  {
   "cell_type": "code",
   "execution_count": 25,
   "metadata": {
    "scrolled": true
   },
   "outputs": [
    {
     "name": "stdout",
     "output_type": "stream",
     "text": [
      "Grid Search Progress:   8%|▉           | 2/25 [00:46<08:56, 23.34s/trial, Current Best Loss=0.13581]/home/user/kuei_jan_CHU/PGClustered_ESN/Methods/./Utils/global_utils.py:256: RuntimeWarning: divide by zero encountered in log10\n",
      "  s_dbfs = 20 * np.log10(s_mag)\n",
      "Grid Search Progress:  36%|████▎       | 9/25 [03:22<05:55, 22.25s/trial, Current Best Loss=0.11097]/home/user/kuei_jan_CHU/PGClustered_ESN/Methods/./Utils/global_utils.py:291: RuntimeWarning: invalid value encountered in divide\n",
      "  trajectory = (trajectory-trajectory.mean())/trajectory.std()\n",
      "Grid Search Progress: 100%|███████████| 25/25 [09:18<00:00, 22.36s/trial, Current Best Loss=0.11097]\n",
      "{'radius': 0.4, 'sigma_input': 0.1, 'in_cluster_weight': 0.7}\n"
     ]
    }
   ],
   "source": [
    "!bash ./0_PGClustered_ESN_Tune.sh \"tune\" \"Lorenz96_F8_ALPHA3_DIM40\" 500 1 1 3 \"grid_search_for_icw_0.7_reservoir_size_500.json\"  "
   ]
  },
  {
   "cell_type": "code",
   "execution_count": 26,
   "metadata": {
    "scrolled": true
   },
   "outputs": [
    {
     "name": "stdout",
     "output_type": "stream",
     "text": [
      "{'radius': 0.4, 'sigma_input': 0.1, 'in_cluster_weight': 0.7}\n",
      "AVERAGE RMNSE ERROR ON TRAIN DATA SET: 1.3735727883874163 ± 0.014408746366733805\n",
      "AVG NUMBER OF ACCURATE 0.5 PREDICTIONS ON TRAIN DATA SET: 2.129855187106696 ± 0.1165413567574681\n",
      "AVG NUMBER OF ACCURATE 1 PREDICTIONS ON TRAIN DATA SET: 3.2270279339056622 ± 0.15747739328540328\n",
      "POWER SPECTRUM MEAN ERROR ON TRAIN DATA SET: 0.5899599852456628 ± 0.31433430393674333\n",
      "TEMPORAL DISTANCE ON TRAIN DATA SET: 0.09500164308908779 ± 0.0017139146022925678\n",
      "GEOMETRICAL DISTANCE ON TRAIN DATA SET: 11.70820699712154 ± 0.17792024788278088\n",
      "\n",
      "\n",
      "AVERAGE RMNSE ERROR ON TEST DATA SET: 1.3761279091563199 ± 0.017215508114039636\n",
      "AVG NUMBER OF ACCURATE 0.5 PREDICTIONS ON TEST DATA SET: 2.136555478690201 ± 0.08757986743551559\n",
      "AVG NUMBER OF ACCURATE 1 PREDICTIONS ON TEST DATA SET: 3.1859886479566932 ± 0.17379548395951044\n",
      "POWER SPECTRUM MEAN ERROR ON TEST DATA SET: 1.057708327961843 ± 0.29534977167806453\n",
      "TEMPORAL DISTANCE ON TEST DATA SET: 0.09555797955302307 ± 0.0020560218906298363\n",
      "GEOMETRICAL DISTANCE ON TEST DATA SET: 11.66930719207706 ± 0.24848180700730077\n"
     ]
    }
   ],
   "source": [
    "!bash ./1_PGClustered_ESN_Evaluate_Tuned_Model.sh \"evaluate_tuned_model\" \"Lorenz96_F8_ALPHA3_DIM40\" 500 1 1 3 \"grid_search_for_icw_0.7_reservoir_size_500.json\" "
   ]
  },
  {
   "cell_type": "code",
   "execution_count": 27,
   "metadata": {},
   "outputs": [
    {
     "name": "stdout",
     "output_type": "stream",
     "text": [
      "Grid Search Progress:  12%|█▍          | 3/25 [01:09<08:31, 23.24s/trial, Current Best Loss=0.13994]/home/user/kuei_jan_CHU/PGClustered_ESN/Methods/./Utils/global_utils.py:256: RuntimeWarning: divide by zero encountered in log10\n",
      "  s_dbfs = 20 * np.log10(s_mag)\n",
      "Grid Search Progress:  16%|█▉          | 4/25 [01:32<08:02, 22.99s/trial, Current Best Loss=0.13994]/home/user/kuei_jan_CHU/PGClustered_ESN/Methods/./Utils/global_utils.py:291: RuntimeWarning: invalid value encountered in divide\n",
      "  trajectory = (trajectory-trajectory.mean())/trajectory.std()\n",
      "Grid Search Progress: 100%|███████████| 25/25 [09:26<00:00, 22.65s/trial, Current Best Loss=0.11014]\n",
      "{'radius': 0.4, 'sigma_input': 0.1, 'in_cluster_weight': 0.9}\n"
     ]
    }
   ],
   "source": [
    "!bash ./0_PGClustered_ESN_Tune.sh \"tune\" \"Lorenz96_F8_ALPHA3_DIM40\" 500 1 1 3 \"grid_search_for_icw_0.9_reservoir_size_500.json\"  "
   ]
  },
  {
   "cell_type": "code",
   "execution_count": 28,
   "metadata": {},
   "outputs": [
    {
     "name": "stdout",
     "output_type": "stream",
     "text": [
      "{'radius': 0.4, 'sigma_input': 0.1, 'in_cluster_weight': 0.9}\n",
      "AVERAGE RMNSE ERROR ON TRAIN DATA SET: 1.3907943943291763 ± 0.011121344770193749\n",
      "AVG NUMBER OF ACCURATE 0.5 PREDICTIONS ON TRAIN DATA SET: 2.1301343659226752 ± 0.11671544455449938\n",
      "AVG NUMBER OF ACCURATE 1 PREDICTIONS ON TRAIN DATA SET: 3.1876637208525698 ± 0.1214206411640258\n",
      "POWER SPECTRUM MEAN ERROR ON TRAIN DATA SET: 0.5087063639103648 ± 0.21197838287538212\n",
      "TEMPORAL DISTANCE ON TRAIN DATA SET: 0.09372194958288355 ± 0.001236251172305852\n",
      "GEOMETRICAL DISTANCE ON TRAIN DATA SET: 11.954674499789526 ± 0.1863460103439734\n",
      "\n",
      "\n",
      "AVERAGE RMNSE ERROR ON TEST DATA SET: 1.3909090869553993 ± 0.01011445908311306\n",
      "AVG NUMBER OF ACCURATE 0.5 PREDICTIONS ON TEST DATA SET: 2.168102684895871 ± 0.10931695637219686\n",
      "AVG NUMBER OF ACCURATE 1 PREDICTIONS ON TEST DATA SET: 3.2094396684989612 ± 0.181733186677526\n",
      "POWER SPECTRUM MEAN ERROR ON TEST DATA SET: 0.9027674185355131 ± 0.24393118272031056\n",
      "TEMPORAL DISTANCE ON TEST DATA SET: 0.09372485997037294 ± 0.0013851144910865755\n",
      "GEOMETRICAL DISTANCE ON TEST DATA SET: 11.880066938319853 ± 0.15491806285162182\n"
     ]
    }
   ],
   "source": [
    "!bash ./1_PGClustered_ESN_Evaluate_Tuned_Model.sh \"evaluate_tuned_model\" \"Lorenz96_F8_ALPHA3_DIM40\" 500 1 1 3 \"grid_search_for_icw_0.9_reservoir_size_500.json\" "
   ]
  },
  {
   "cell_type": "code",
   "execution_count": 29,
   "metadata": {},
   "outputs": [
    {
     "name": "stdout",
     "output_type": "stream",
     "text": [
      "Grid Search Progress:  12%|█▍          | 3/25 [01:09<08:23, 22.89s/trial, Current Best Loss=0.12511]/home/user/kuei_jan_CHU/PGClustered_ESN/Methods/./Utils/global_utils.py:256: RuntimeWarning: divide by zero encountered in log10\n",
      "  s_dbfs = 20 * np.log10(s_mag)\n",
      "Grid Search Progress:  16%|█▉          | 4/25 [01:31<07:58, 22.80s/trial, Current Best Loss=0.12511]/home/user/kuei_jan_CHU/PGClustered_ESN/Methods/./Utils/global_utils.py:291: RuntimeWarning: invalid value encountered in divide\n",
      "  trajectory = (trajectory-trajectory.mean())/trajectory.std()\n",
      "Grid Search Progress: 100%|███████████| 25/25 [09:26<00:00, 22.65s/trial, Current Best Loss=0.12511]\n",
      "{'radius': 0.1, 'sigma_input': 0.5, 'in_cluster_weight': 0.1}\n"
     ]
    }
   ],
   "source": [
    "!bash ./0_PGClustered_ESN_Tune.sh \"tune\" \"Lorenz96_F8_ALPHA4_DIM40\" 500 1 1 4 \"grid_search_for_icw_0.1_reservoir_size_500.json\" "
   ]
  },
  {
   "cell_type": "code",
   "execution_count": 30,
   "metadata": {},
   "outputs": [
    {
     "name": "stdout",
     "output_type": "stream",
     "text": [
      "{'radius': 0.1, 'sigma_input': 0.5, 'in_cluster_weight': 0.1}\n",
      "AVERAGE RMNSE ERROR ON TRAIN DATA SET: 1.4826691963556011 ± 0.006892058597136638\n",
      "AVG NUMBER OF ACCURATE 0.5 PREDICTIONS ON TRAIN DATA SET: 0.6722999485197289 ± 0.05203667521056357\n",
      "AVG NUMBER OF ACCURATE 1 PREDICTIONS ON TRAIN DATA SET: 1.3167343692676534 ± 0.08988065474789206\n",
      "POWER SPECTRUM MEAN ERROR ON TRAIN DATA SET: 1.537825134452866 ± 0.2882877067925334\n",
      "TEMPORAL DISTANCE ON TRAIN DATA SET: 0.10946974792297173 ± 0.003821270998462374\n",
      "GEOMETRICAL DISTANCE ON TRAIN DATA SET: 13.602047424967358 ± 0.13765550713449023\n",
      "\n",
      "\n",
      "AVERAGE RMNSE ERROR ON TEST DATA SET: 1.4805348043217994 ± 0.006102609884128128\n",
      "AVG NUMBER OF ACCURATE 0.5 PREDICTIONS ON TEST DATA SET: 0.7294419168619093 ± 0.039240120471566886\n",
      "AVG NUMBER OF ACCURATE 1 PREDICTIONS ON TEST DATA SET: 1.4715820489109697 ± 0.07143595152783254\n",
      "POWER SPECTRUM MEAN ERROR ON TEST DATA SET: 1.363876053339531 ± 0.36627923772632576\n",
      "TEMPORAL DISTANCE ON TEST DATA SET: 0.11126776858014283 ± 0.00428795618967895\n",
      "GEOMETRICAL DISTANCE ON TEST DATA SET: 13.588091224468977 ± 0.13905686004750517\n"
     ]
    }
   ],
   "source": [
    "!bash ./1_PGClustered_ESN_Evaluate_Tuned_Model.sh \"evaluate_tuned_model\" \"Lorenz96_F8_ALPHA4_DIM40\" 500 1 1 4 \"grid_search_for_icw_0.1_reservoir_size_500.json\" "
   ]
  },
  {
   "cell_type": "code",
   "execution_count": 31,
   "metadata": {},
   "outputs": [
    {
     "name": "stdout",
     "output_type": "stream",
     "text": [
      "Grid Search Progress:  12%|█▍          | 3/25 [01:09<08:25, 22.96s/trial, Current Best Loss=0.12483]/home/user/kuei_jan_CHU/PGClustered_ESN/Methods/./Utils/global_utils.py:256: RuntimeWarning: divide by zero encountered in log10\n",
      "  s_dbfs = 20 * np.log10(s_mag)\n",
      "Grid Search Progress:  36%|████▎       | 9/25 [03:25<06:03, 22.71s/trial, Current Best Loss=0.12483]/home/user/kuei_jan_CHU/PGClustered_ESN/Methods/./Utils/global_utils.py:291: RuntimeWarning: invalid value encountered in divide\n",
      "  trajectory = (trajectory-trajectory.mean())/trajectory.std()\n",
      "Grid Search Progress: 100%|███████████| 25/25 [09:29<00:00, 22.77s/trial, Current Best Loss=0.12483]\n",
      "{'radius': 0.1, 'sigma_input': 0.5, 'in_cluster_weight': 0.3}\n"
     ]
    }
   ],
   "source": [
    "!bash ./0_PGClustered_ESN_Tune.sh \"tune\" \"Lorenz96_F8_ALPHA4_DIM40\" 500 1 1 4 \"grid_search_for_icw_0.3_reservoir_size_500.json\" "
   ]
  },
  {
   "cell_type": "code",
   "execution_count": 32,
   "metadata": {
    "scrolled": true
   },
   "outputs": [
    {
     "name": "stdout",
     "output_type": "stream",
     "text": [
      "{'radius': 0.1, 'sigma_input': 0.5, 'in_cluster_weight': 0.3}\n",
      "AVERAGE RMNSE ERROR ON TRAIN DATA SET: 1.4810814721591359 ± 0.006693136288660032\n",
      "AVG NUMBER OF ACCURATE 0.5 PREDICTIONS ON TRAIN DATA SET: 0.6708890357211564 ± 0.051835446175906914\n",
      "AVG NUMBER OF ACCURATE 1 PREDICTIONS ON TRAIN DATA SET: 1.3184980102658685 ± 0.09047736159422456\n",
      "POWER SPECTRUM MEAN ERROR ON TRAIN DATA SET: 1.4801631983241503 ± 0.33720373474398563\n",
      "TEMPORAL DISTANCE ON TRAIN DATA SET: 0.10969468391777673 ± 0.0036481728785344534\n",
      "GEOMETRICAL DISTANCE ON TRAIN DATA SET: 13.59700507625829 ± 0.1547896158827041\n",
      "\n",
      "\n",
      "AVERAGE RMNSE ERROR ON TEST DATA SET: 1.478115099093417 ± 0.006096233723009117\n",
      "AVG NUMBER OF ACCURATE 0.5 PREDICTIONS ON TEST DATA SET: 0.7287364604626231 ± 0.03851688575140624\n",
      "AVG NUMBER OF ACCURATE 1 PREDICTIONS ON TEST DATA SET: 1.472992961709542 ± 0.07126855598077417\n",
      "POWER SPECTRUM MEAN ERROR ON TEST DATA SET: 1.3392637914756973 ± 0.26888170005913603\n",
      "TEMPORAL DISTANCE ON TEST DATA SET: 0.11166552946037163 ± 0.0036921107885335334\n",
      "GEOMETRICAL DISTANCE ON TEST DATA SET: 13.556186976628457 ± 0.13397728260716818\n"
     ]
    }
   ],
   "source": [
    "!bash ./1_PGClustered_ESN_Evaluate_Tuned_Model.sh \"evaluate_tuned_model\" \"Lorenz96_F8_ALPHA4_DIM40\" 500 1 1 4 \"grid_search_for_icw_0.3_reservoir_size_500.json\" "
   ]
  },
  {
   "cell_type": "code",
   "execution_count": 33,
   "metadata": {},
   "outputs": [
    {
     "name": "stdout",
     "output_type": "stream",
     "text": [
      "Grid Search Progress:   8%|▉           | 2/25 [00:46<08:50, 23.08s/trial, Current Best Loss=0.12557]/home/user/kuei_jan_CHU/PGClustered_ESN/Methods/./Utils/global_utils.py:256: RuntimeWarning: divide by zero encountered in log10\n",
      "  s_dbfs = 20 * np.log10(s_mag)\n",
      "Grid Search Progress: 100%|███████████| 25/25 [09:22<00:00, 22.51s/trial, Current Best Loss=0.12557]\n",
      "{'radius': 0.1, 'sigma_input': 0.5, 'in_cluster_weight': 0.5}\n"
     ]
    }
   ],
   "source": [
    "!bash ./0_PGClustered_ESN_Tune.sh \"tune\" \"Lorenz96_F8_ALPHA4_DIM40\" 500 1 1 4 \"grid_search_for_icw_0.5_reservoir_size_500.json\" "
   ]
  },
  {
   "cell_type": "code",
   "execution_count": 34,
   "metadata": {
    "scrolled": true
   },
   "outputs": [
    {
     "name": "stdout",
     "output_type": "stream",
     "text": [
      "{'radius': 0.1, 'sigma_input': 0.5, 'in_cluster_weight': 0.5}\n",
      "AVERAGE RMNSE ERROR ON TRAIN DATA SET: 1.4820246778630237 ± 0.005968155084617761\n",
      "AVG NUMBER OF ACCURATE 0.5 PREDICTIONS ON TRAIN DATA SET: 0.6698308511222273 ± 0.05186304151763836\n",
      "AVG NUMBER OF ACCURATE 1 PREDICTIONS ON TRAIN DATA SET: 1.317792553866583 ± 0.09137226404213229\n",
      "POWER SPECTRUM MEAN ERROR ON TRAIN DATA SET: 1.5320224302214505 ± 0.24567099375077597\n",
      "TEMPORAL DISTANCE ON TRAIN DATA SET: 0.11003146696117941 ± 0.004000871463033077\n",
      "GEOMETRICAL DISTANCE ON TRAIN DATA SET: 13.618991414903414 ± 0.16740991340827197\n",
      "\n",
      "\n",
      "AVERAGE RMNSE ERROR ON TEST DATA SET: 1.479858864018692 ± 0.005774339905007003\n",
      "AVG NUMBER OF ACCURATE 0.5 PREDICTIONS ON TEST DATA SET: 0.7297946450615524 ± 0.038734310471054564\n",
      "AVG NUMBER OF ACCURATE 1 PREDICTIONS ON TEST DATA SET: 1.4751093309074006 ± 0.07169672464997186\n",
      "POWER SPECTRUM MEAN ERROR ON TEST DATA SET: 1.29242477733002 ± 0.26199940761478085\n",
      "TEMPORAL DISTANCE ON TEST DATA SET: 0.11150987751631716 ± 0.003746140641012333\n",
      "GEOMETRICAL DISTANCE ON TEST DATA SET: 13.580719649155165 ± 0.13221967284408054\n"
     ]
    }
   ],
   "source": [
    "!bash ./1_PGClustered_ESN_Evaluate_Tuned_Model.sh \"evaluate_tuned_model\" \"Lorenz96_F8_ALPHA4_DIM40\" 500 1 1 4 \"grid_search_for_icw_0.5_reservoir_size_500.json\" "
   ]
  },
  {
   "cell_type": "code",
   "execution_count": 35,
   "metadata": {
    "scrolled": true
   },
   "outputs": [
    {
     "name": "stdout",
     "output_type": "stream",
     "text": [
      "Grid Search Progress:  12%|█▍          | 3/25 [01:08<08:19, 22.70s/trial, Current Best Loss=0.12456]/home/user/kuei_jan_CHU/PGClustered_ESN/Methods/./Utils/global_utils.py:256: RuntimeWarning: divide by zero encountered in log10\n",
      "  s_dbfs = 20 * np.log10(s_mag)\n",
      "Grid Search Progress: 100%|███████████| 25/25 [09:21<00:00, 22.47s/trial, Current Best Loss=0.12423]\n",
      "{'radius': 0.4, 'sigma_input': 0.1, 'in_cluster_weight': 0.7}\n"
     ]
    }
   ],
   "source": [
    "!bash ./0_PGClustered_ESN_Tune.sh \"tune\" \"Lorenz96_F8_ALPHA4_DIM40\" 500 1 1 4 \"grid_search_for_icw_0.7_reservoir_size_500.json\" "
   ]
  },
  {
   "cell_type": "code",
   "execution_count": 36,
   "metadata": {
    "scrolled": true
   },
   "outputs": [
    {
     "name": "stdout",
     "output_type": "stream",
     "text": [
      "{'radius': 0.4, 'sigma_input': 0.1, 'in_cluster_weight': 0.7}\n",
      "/home/user/anaconda3/lib/python3.11/site-packages/numpy/core/_methods.py:236: RuntimeWarning: invalid value encountered in subtract\n",
      "  x = asanyarray(arr - arrmean)\n",
      "AVERAGE RMNSE ERROR ON TRAIN DATA SET: 1.323190228090514 ± 0.04380748126515233\n",
      "AVG NUMBER OF ACCURATE 0.5 PREDICTIONS ON TRAIN DATA SET: 1.8571139711208666 ± 0.11570076398144344\n",
      "AVG NUMBER OF ACCURATE 1 PREDICTIONS ON TRAIN DATA SET: 2.8175928587489993 ± 0.2336584055792929\n",
      "POWER SPECTRUM MEAN ERROR ON TRAIN DATA SET: 1.6228737540106963 ± 1.2277594792003461\n",
      "TEMPORAL DISTANCE ON TRAIN DATA SET: 0.11116014006330086 ± 0.021099067787839834\n",
      "GEOMETRICAL DISTANCE ON TRAIN DATA SET: 10.827844220195937 ± 0.1710377240081973\n",
      "\n",
      "\n",
      "AVERAGE RMNSE ERROR ON TEST DATA SET: 1.343455886007211 ± 0.11664723403118538\n",
      "AVG NUMBER OF ACCURATE 0.5 PREDICTIONS ON TEST DATA SET: 2.114252828660679 ± 0.10252444232307151\n",
      "AVG NUMBER OF ACCURATE 1 PREDICTIONS ON TEST DATA SET: 3.1382227922245685 ± 0.11150396179836275\n",
      "POWER SPECTRUM MEAN ERROR ON TEST DATA SET: 1.9045897029108971 ± 1.4120859399463839\n",
      "TEMPORAL DISTANCE ON TEST DATA SET: 0.11872053510876335 ± 0.026970865337773556\n",
      "GEOMETRICAL DISTANCE ON TEST DATA SET: inf ± nan\n"
     ]
    }
   ],
   "source": [
    "!bash ./1_PGClustered_ESN_Evaluate_Tuned_Model.sh \"evaluate_tuned_model\" \"Lorenz96_F8_ALPHA4_DIM40\" 500 1 1 4 \"grid_search_for_icw_0.7_reservoir_size_500.json\" "
   ]
  },
  {
   "cell_type": "code",
   "execution_count": 37,
   "metadata": {},
   "outputs": [
    {
     "name": "stdout",
     "output_type": "stream",
     "text": [
      "Grid Search Progress:  12%|█▍          | 3/25 [01:09<08:28, 23.14s/trial, Current Best Loss=0.12786]/home/user/kuei_jan_CHU/PGClustered_ESN/Methods/./Utils/global_utils.py:256: RuntimeWarning: divide by zero encountered in log10\n",
      "  s_dbfs = 20 * np.log10(s_mag)\n",
      "Grid Search Progress:  36%|████▎       | 9/25 [03:26<06:03, 22.74s/trial, Current Best Loss=0.11200]/home/user/kuei_jan_CHU/PGClustered_ESN/Methods/./Utils/global_utils.py:291: RuntimeWarning: invalid value encountered in divide\n",
      "  trajectory = (trajectory-trajectory.mean())/trajectory.std()\n",
      "Grid Search Progress: 100%|███████████| 25/25 [09:30<00:00, 22.82s/trial, Current Best Loss=0.11200]\n",
      "{'radius': 0.4, 'sigma_input': 0.1, 'in_cluster_weight': 0.9}\n"
     ]
    }
   ],
   "source": [
    "!bash ./0_PGClustered_ESN_Tune.sh \"tune\" \"Lorenz96_F8_ALPHA4_DIM40\" 500 1 1 4 \"grid_search_for_icw_0.9_reservoir_size_500.json\" "
   ]
  },
  {
   "cell_type": "code",
   "execution_count": 38,
   "metadata": {},
   "outputs": [
    {
     "name": "stdout",
     "output_type": "stream",
     "text": [
      "{'radius': 0.4, 'sigma_input': 0.1, 'in_cluster_weight': 0.9}\n",
      "AVERAGE RMNSE ERROR ON TRAIN DATA SET: 1.3948938801555912 ± 0.040857227259566184\n",
      "AVG NUMBER OF ACCURATE 0.5 PREDICTIONS ON TRAIN DATA SET: 1.9258959700512694 ± 0.11418809377469309\n",
      "AVG NUMBER OF ACCURATE 1 PREDICTIONS ON TRAIN DATA SET: 2.9184731238469235 ± 0.18692731018465567\n",
      "POWER SPECTRUM MEAN ERROR ON TRAIN DATA SET: 1.070688629265375 ± 1.1396458614847793\n",
      "TEMPORAL DISTANCE ON TRAIN DATA SET: 0.09845911001222689 ± 0.016066173090646542\n",
      "GEOMETRICAL DISTANCE ON TRAIN DATA SET: 11.414161902494406 ± 0.18665893354290822\n",
      "\n",
      "\n",
      "AVERAGE RMNSE ERROR ON TEST DATA SET: 1.383993228999462 ± 0.014548021461264514\n",
      "AVG NUMBER OF ACCURATE 0.5 PREDICTIONS ON TEST DATA SET: 2.161871135612496 ± 0.12119640335816213\n",
      "AVG NUMBER OF ACCURATE 1 PREDICTIONS ON TEST DATA SET: 3.1911320221710313 ± 0.13431999143244489\n",
      "POWER SPECTRUM MEAN ERROR ON TEST DATA SET: 0.857362837527907 ± 0.34292578377121447\n",
      "TEMPORAL DISTANCE ON TEST DATA SET: 0.0969411877944871 ± 0.003280032143063241\n",
      "GEOMETRICAL DISTANCE ON TEST DATA SET: 11.33993241786975 ± 0.19090917669742413\n"
     ]
    }
   ],
   "source": [
    "!bash ./1_PGClustered_ESN_Evaluate_Tuned_Model.sh \"evaluate_tuned_model\" \"Lorenz96_F8_ALPHA4_DIM40\" 500 1 1 4 \"grid_search_for_icw_0.9_reservoir_size_500.json\" "
   ]
  },
  {
   "cell_type": "code",
   "execution_count": 39,
   "metadata": {},
   "outputs": [
    {
     "name": "stdout",
     "output_type": "stream",
     "text": [
      "Grid Search Progress:  12%|█▍          | 3/25 [01:09<08:23, 22.88s/trial, Current Best Loss=0.12118]/home/user/kuei_jan_CHU/PGClustered_ESN/Methods/./Utils/global_utils.py:256: RuntimeWarning: divide by zero encountered in log10\n",
      "  s_dbfs = 20 * np.log10(s_mag)\n",
      "Grid Search Progress:  16%|█▉          | 4/25 [01:31<07:55, 22.62s/trial, Current Best Loss=0.12118]/home/user/kuei_jan_CHU/PGClustered_ESN/Methods/./Utils/global_utils.py:291: RuntimeWarning: invalid value encountered in divide\n",
      "  trajectory = (trajectory-trajectory.mean())/trajectory.std()\n",
      "Grid Search Progress: 100%|███████████| 25/25 [09:22<00:00, 22.51s/trial, Current Best Loss=0.12118]\n",
      "{'radius': 0.1, 'sigma_input': 0.5, 'in_cluster_weight': 0.1}\n"
     ]
    }
   ],
   "source": [
    "!bash ./0_PGClustered_ESN_Tune.sh \"tune\" \"Lorenz96_F8_ALPHA5_DIM40\" 500 1 1 5 \"grid_search_for_icw_0.1_reservoir_size_500.json\" "
   ]
  },
  {
   "cell_type": "code",
   "execution_count": 40,
   "metadata": {},
   "outputs": [
    {
     "name": "stdout",
     "output_type": "stream",
     "text": [
      "{'radius': 0.1, 'sigma_input': 0.5, 'in_cluster_weight': 0.1}\n",
      "AVERAGE RMNSE ERROR ON TRAIN DATA SET: 1.4769339568576028 ± 0.005829124712945282\n",
      "AVG NUMBER OF ACCURATE 0.5 PREDICTIONS ON TRAIN DATA SET: 0.7018013365507085 ± 0.03634065132601163\n",
      "AVG NUMBER OF ACCURATE 1 PREDICTIONS ON TRAIN DATA SET: 1.4094790000821047 ± 0.05643247322581061\n",
      "POWER SPECTRUM MEAN ERROR ON TRAIN DATA SET: 0.8991971301815858 ± 0.134091643059254\n",
      "TEMPORAL DISTANCE ON TRAIN DATA SET: 0.11002925475902332 ± 0.004322189096961132\n",
      "GEOMETRICAL DISTANCE ON TRAIN DATA SET: 13.172716893969147 ± 0.10619921470745072\n",
      "\n",
      "\n",
      "AVERAGE RMNSE ERROR ON TEST DATA SET: 1.4781055202960347 ± 0.005862454616603616\n",
      "AVG NUMBER OF ACCURATE 0.5 PREDICTIONS ON TEST DATA SET: 0.7349606102274464 ± 0.03223792762546248\n",
      "AVG NUMBER OF ACCURATE 1 PREDICTIONS ON TEST DATA SET: 1.447255387815097 ± 0.08921375213680434\n",
      "POWER SPECTRUM MEAN ERROR ON TEST DATA SET: 1.4617467768385075 ± 0.243241426259241\n",
      "TEMPORAL DISTANCE ON TEST DATA SET: 0.1096752313950283 ± 0.004973736755602318\n",
      "GEOMETRICAL DISTANCE ON TEST DATA SET: 13.23267539936873 ± 0.14846987175222598\n"
     ]
    }
   ],
   "source": [
    "!bash ./1_PGClustered_ESN_Evaluate_Tuned_Model.sh \"evaluate_tuned_model\" \"Lorenz96_F8_ALPHA5_DIM40\" 500 1 1 5 \"grid_search_for_icw_0.1_reservoir_size_500.json\" "
   ]
  },
  {
   "cell_type": "code",
   "execution_count": 41,
   "metadata": {},
   "outputs": [
    {
     "name": "stdout",
     "output_type": "stream",
     "text": [
      "Grid Search Progress:  12%|█▍          | 3/25 [01:07<08:11, 22.36s/trial, Current Best Loss=0.12161]/home/user/kuei_jan_CHU/PGClustered_ESN/Methods/./Utils/global_utils.py:256: RuntimeWarning: divide by zero encountered in log10\n",
      "  s_dbfs = 20 * np.log10(s_mag)\n",
      "Grid Search Progress: 100%|███████████| 25/25 [09:13<00:00, 22.16s/trial, Current Best Loss=0.12161]\n",
      "{'radius': 0.1, 'sigma_input': 0.5, 'in_cluster_weight': 0.3}\n"
     ]
    }
   ],
   "source": [
    "!bash ./0_PGClustered_ESN_Tune.sh \"tune\" \"Lorenz96_F8_ALPHA5_DIM40\" 500 1 1 5 \"grid_search_for_icw_0.3_reservoir_size_500.json\" "
   ]
  },
  {
   "cell_type": "code",
   "execution_count": 42,
   "metadata": {},
   "outputs": [
    {
     "name": "stdout",
     "output_type": "stream",
     "text": [
      "{'radius': 0.1, 'sigma_input': 0.5, 'in_cluster_weight': 0.3}\n",
      "AVERAGE RMNSE ERROR ON TRAIN DATA SET: 1.4768421046515305 ± 0.0050870821193524695\n",
      "AVG NUMBER OF ACCURATE 0.5 PREDICTIONS ON TRAIN DATA SET: 0.7030605494751416 ± 0.03667604007230516\n",
      "AVG NUMBER OF ACCURATE 1 PREDICTIONS ON TRAIN DATA SET: 1.4069605742332385 ± 0.060500489180663926\n",
      "POWER SPECTRUM MEAN ERROR ON TRAIN DATA SET: 0.9861253342966345 ± 0.20923581347751732\n",
      "TEMPORAL DISTANCE ON TRAIN DATA SET: 0.10955869610923656 ± 0.00475582261738058\n",
      "GEOMETRICAL DISTANCE ON TRAIN DATA SET: 13.18290343689551 ± 0.1302783814942283\n",
      "\n",
      "\n",
      "AVERAGE RMNSE ERROR ON TEST DATA SET: 1.478618792735532 ± 0.006370610254262778\n",
      "AVG NUMBER OF ACCURATE 0.5 PREDICTIONS ON TEST DATA SET: 0.7353803478689241 ± 0.03351599153545516\n",
      "AVG NUMBER OF ACCURATE 1 PREDICTIONS ON TEST DATA SET: 1.4455764372491866 ± 0.08874647462150473\n",
      "POWER SPECTRUM MEAN ERROR ON TEST DATA SET: 1.4835970222014656 ± 0.2359118700059982\n",
      "TEMPORAL DISTANCE ON TEST DATA SET: 0.11014226520337016 ± 0.0059167695932713545\n",
      "GEOMETRICAL DISTANCE ON TEST DATA SET: 13.256136270098793 ± 0.1768312280704164\n"
     ]
    }
   ],
   "source": [
    "!bash ./1_PGClustered_ESN_Evaluate_Tuned_Model.sh \"evaluate_tuned_model\" \"Lorenz96_F8_ALPHA5_DIM40\" 500 1 1 5 \"grid_search_for_icw_0.3_reservoir_size_500.json\" "
   ]
  },
  {
   "cell_type": "code",
   "execution_count": 43,
   "metadata": {},
   "outputs": [
    {
     "name": "stdout",
     "output_type": "stream",
     "text": [
      "Grid Search Progress:  12%|█▍          | 3/25 [01:08<08:18, 22.64s/trial, Current Best Loss=0.12194]/home/user/kuei_jan_CHU/PGClustered_ESN/Methods/./Utils/global_utils.py:256: RuntimeWarning: divide by zero encountered in log10\n",
      "  s_dbfs = 20 * np.log10(s_mag)\n",
      "Grid Search Progress:  36%|████▎       | 9/25 [03:22<05:56, 22.27s/trial, Current Best Loss=0.12194]/home/user/kuei_jan_CHU/PGClustered_ESN/Methods/./Utils/global_utils.py:291: RuntimeWarning: invalid value encountered in divide\n",
      "  trajectory = (trajectory-trajectory.mean())/trajectory.std()\n",
      "Grid Search Progress: 100%|███████████| 25/25 [09:17<00:00, 22.31s/trial, Current Best Loss=0.12194]\n",
      "{'radius': 0.1, 'sigma_input': 0.5, 'in_cluster_weight': 0.5}\n"
     ]
    }
   ],
   "source": [
    "!bash ./0_PGClustered_ESN_Tune.sh \"tune\" \"Lorenz96_F8_ALPHA5_DIM40\" 500 1 1 5 \"grid_search_for_icw_0.5_reservoir_size_500.json\" "
   ]
  },
  {
   "cell_type": "code",
   "execution_count": 44,
   "metadata": {},
   "outputs": [
    {
     "name": "stdout",
     "output_type": "stream",
     "text": [
      "{'radius': 0.1, 'sigma_input': 0.5, 'in_cluster_weight': 0.5}\n",
      "AVERAGE RMNSE ERROR ON TRAIN DATA SET: 1.4763373997991618 ± 0.005861216774672105\n",
      "AVG NUMBER OF ACCURATE 0.5 PREDICTIONS ON TRAIN DATA SET: 0.7043197623995747 ± 0.038551936983913196\n",
      "AVG NUMBER OF ACCURATE 1 PREDICTIONS ON TRAIN DATA SET: 1.4086395247991494 ± 0.06368956844718858\n",
      "POWER SPECTRUM MEAN ERROR ON TRAIN DATA SET: 0.952815553640922 ± 0.1964152289081752\n",
      "TEMPORAL DISTANCE ON TRAIN DATA SET: 0.11013173589600964 ± 0.00496360803057531\n",
      "GEOMETRICAL DISTANCE ON TRAIN DATA SET: 13.168011415920697 ± 0.1374899070298619\n",
      "\n",
      "\n",
      "AVERAGE RMNSE ERROR ON TEST DATA SET: 1.4790087959119986 ± 0.005032143991843151\n",
      "AVG NUMBER OF ACCURATE 0.5 PREDICTIONS ON TEST DATA SET: 0.7337013973030133 ± 0.03444918542095119\n",
      "AVG NUMBER OF ACCURATE 1 PREDICTIONS ON TEST DATA SET: 1.4413790608344095 ± 0.08951735537944877\n",
      "POWER SPECTRUM MEAN ERROR ON TEST DATA SET: 1.458088692964682 ± 0.30056999129708317\n",
      "TEMPORAL DISTANCE ON TEST DATA SET: 0.10985965618728193 ± 0.004586703198862654\n",
      "GEOMETRICAL DISTANCE ON TEST DATA SET: 13.23664688785565 ± 0.13196695555576637\n"
     ]
    }
   ],
   "source": [
    "!bash ./1_PGClustered_ESN_Evaluate_Tuned_Model.sh \"evaluate_tuned_model\" \"Lorenz96_F8_ALPHA5_DIM40\" 500 1 1 5 \"grid_search_for_icw_0.5_reservoir_size_500.json\" "
   ]
  },
  {
   "cell_type": "code",
   "execution_count": 45,
   "metadata": {},
   "outputs": [
    {
     "name": "stdout",
     "output_type": "stream",
     "text": [
      "Grid Search Progress:  12%|█▍          | 3/25 [01:09<08:28, 23.09s/trial, Current Best Loss=0.12305]/home/user/kuei_jan_CHU/PGClustered_ESN/Methods/./Utils/global_utils.py:256: RuntimeWarning: divide by zero encountered in log10\n",
      "  s_dbfs = 20 * np.log10(s_mag)\n",
      "Grid Search Progress:  56%|██████▏    | 14/25 [05:19<04:09, 22.65s/trial, Current Best Loss=0.12305]/home/user/kuei_jan_CHU/PGClustered_ESN/Methods/./Utils/global_utils.py:291: RuntimeWarning: invalid value encountered in divide\n",
      "  trajectory = (trajectory-trajectory.mean())/trajectory.std()\n",
      "Grid Search Progress: 100%|███████████| 25/25 [09:28<00:00, 22.74s/trial, Current Best Loss=0.12305]\n",
      "{'radius': 0.1, 'sigma_input': 0.5, 'in_cluster_weight': 0.7}\n"
     ]
    }
   ],
   "source": [
    "!bash ./0_PGClustered_ESN_Tune.sh \"tune\" \"Lorenz96_F8_ALPHA5_DIM40\" 500 1 1 5 \"grid_search_for_icw_0.7_reservoir_size_500.json\" "
   ]
  },
  {
   "cell_type": "code",
   "execution_count": 46,
   "metadata": {},
   "outputs": [
    {
     "name": "stdout",
     "output_type": "stream",
     "text": [
      "{'radius': 0.1, 'sigma_input': 0.5, 'in_cluster_weight': 0.7}\n",
      "/home/user/anaconda3/lib/python3.11/site-packages/numpy/core/_methods.py:236: RuntimeWarning: invalid value encountered in subtract\n",
      "  x = asanyarray(arr - arrmean)\n",
      "AVERAGE RMNSE ERROR ON TRAIN DATA SET: 1.4788659585708621 ± 0.011147081981861463\n",
      "AVG NUMBER OF ACCURATE 0.5 PREDICTIONS ON TRAIN DATA SET: 0.7022210741921862 ± 0.03975560310342188\n",
      "AVG NUMBER OF ACCURATE 1 PREDICTIONS ON TRAIN DATA SET: 1.41577506470427 ± 0.06378216967196419\n",
      "POWER SPECTRUM MEAN ERROR ON TRAIN DATA SET: 0.936193477775557 ± 0.11689594209488627\n",
      "TEMPORAL DISTANCE ON TRAIN DATA SET: 0.11040162401199123 ± 0.004672890818398157\n",
      "GEOMETRICAL DISTANCE ON TRAIN DATA SET: inf ± nan\n",
      "\n",
      "\n",
      "AVERAGE RMNSE ERROR ON TEST DATA SET: 1.4783755643244405 ± 0.005353585524019167\n",
      "AVG NUMBER OF ACCURATE 0.5 PREDICTIONS ON TEST DATA SET: 0.7332816596615357 ± 0.03584028603158372\n",
      "AVG NUMBER OF ACCURATE 1 PREDICTIONS ON TEST DATA SET: 1.4417987984758873 ± 0.08887641023820993\n",
      "POWER SPECTRUM MEAN ERROR ON TEST DATA SET: 1.4617541754785313 ± 0.31979153516412784\n",
      "TEMPORAL DISTANCE ON TEST DATA SET: 0.10972636543235863 ± 0.0037257984206920886\n",
      "GEOMETRICAL DISTANCE ON TEST DATA SET: 13.239980312449328 ± 0.14443639466008928\n"
     ]
    }
   ],
   "source": [
    "!bash ./1_PGClustered_ESN_Evaluate_Tuned_Model.sh \"evaluate_tuned_model\" \"Lorenz96_F8_ALPHA5_DIM40\" 500 1 1 5 \"grid_search_for_icw_0.7_reservoir_size_500.json\" "
   ]
  },
  {
   "cell_type": "code",
   "execution_count": 47,
   "metadata": {},
   "outputs": [
    {
     "name": "stdout",
     "output_type": "stream",
     "text": [
      "Grid Search Progress:  12%|█▍          | 3/25 [01:08<08:16, 22.57s/trial, Current Best Loss=0.12216]/home/user/kuei_jan_CHU/PGClustered_ESN/Methods/./Utils/global_utils.py:256: RuntimeWarning: divide by zero encountered in log10\n",
      "  s_dbfs = 20 * np.log10(s_mag)\n",
      "Grid Search Progress: 100%|███████████| 25/25 [09:20<00:00, 22.41s/trial, Current Best Loss=0.12216]\n",
      "{'radius': 0.1, 'sigma_input': 0.5, 'in_cluster_weight': 0.9}\n"
     ]
    }
   ],
   "source": [
    "!bash ./0_PGClustered_ESN_Tune.sh \"tune\" \"Lorenz96_F8_ALPHA5_DIM40\" 500 1 1 5 \"grid_search_for_icw_0.9_reservoir_size_500.json\" "
   ]
  },
  {
   "cell_type": "code",
   "execution_count": 48,
   "metadata": {},
   "outputs": [
    {
     "name": "stdout",
     "output_type": "stream",
     "text": [
      "{'radius': 0.1, 'sigma_input': 0.5, 'in_cluster_weight': 0.9}\n",
      "AVERAGE RMNSE ERROR ON TRAIN DATA SET: 1.4779170510671449 ± 0.005474003870432052\n",
      "AVG NUMBER OF ACCURATE 0.5 PREDICTIONS ON TRAIN DATA SET: 0.7001223859847976 ± 0.038138425523747396\n",
      "AVG NUMBER OF ACCURATE 1 PREDICTIONS ON TRAIN DATA SET: 1.4178737529116585 ± 0.06303894855688855\n",
      "POWER SPECTRUM MEAN ERROR ON TRAIN DATA SET: 0.9616405515648729 ± 0.15417647761294528\n",
      "TEMPORAL DISTANCE ON TRAIN DATA SET: 0.11072597513177544 ± 0.004906000785449081\n",
      "GEOMETRICAL DISTANCE ON TRAIN DATA SET: 13.188545853922435 ± 0.10533504489253556\n",
      "\n",
      "\n",
      "AVERAGE RMNSE ERROR ON TEST DATA SET: 1.4805519629470625 ± 0.007262546712279348\n",
      "AVG NUMBER OF ACCURATE 0.5 PREDICTIONS ON TEST DATA SET: 0.7307632338126695 ± 0.0392381738945203\n",
      "AVG NUMBER OF ACCURATE 1 PREDICTIONS ON TEST DATA SET: 1.4397001102684988 ± 0.08925718725449949\n",
      "POWER SPECTRUM MEAN ERROR ON TEST DATA SET: 1.4756217963556815 ± 0.34666848618371454\n",
      "TEMPORAL DISTANCE ON TEST DATA SET: 0.11072205955545462 ± 0.0036687075788943923\n",
      "GEOMETRICAL DISTANCE ON TEST DATA SET: 13.257372515896026 ± 0.13727012832853605\n"
     ]
    }
   ],
   "source": [
    "!bash ./1_PGClustered_ESN_Evaluate_Tuned_Model.sh \"evaluate_tuned_model\" \"Lorenz96_F8_ALPHA5_DIM40\" 500 1 1 5 \"grid_search_for_icw_0.9_reservoir_size_500.json\" "
   ]
  },
  {
   "cell_type": "code",
   "execution_count": 49,
   "metadata": {},
   "outputs": [
    {
     "name": "stdout",
     "output_type": "stream",
     "text": [
      "Grid Search Progress:  12%|█▍          | 3/25 [01:08<08:19, 22.68s/trial, Current Best Loss=0.13006]/home/user/kuei_jan_CHU/PGClustered_ESN/Methods/./Utils/global_utils.py:256: RuntimeWarning: divide by zero encountered in log10\n",
      "  s_dbfs = 20 * np.log10(s_mag)\n",
      "Grid Search Progress:  76%|████████▎  | 19/25 [07:09<02:15, 22.61s/trial, Current Best Loss=0.13006]/home/user/kuei_jan_CHU/PGClustered_ESN/Methods/./Utils/global_utils.py:291: RuntimeWarning: invalid value encountered in divide\n",
      "  trajectory = (trajectory-trajectory.mean())/trajectory.std()\n",
      "Grid Search Progress: 100%|███████████| 25/25 [09:23<00:00, 22.54s/trial, Current Best Loss=0.13006]\n",
      "{'radius': 0.1, 'sigma_input': 0.5, 'in_cluster_weight': 0.1}\n"
     ]
    }
   ],
   "source": [
    "!bash ./0_PGClustered_ESN_Tune.sh \"tune\" \"Lorenz96_F8_ALPHA6_DIM40\" 500 1 1 6 \"grid_search_for_icw_0.1_reservoir_size_500.json\" "
   ]
  },
  {
   "cell_type": "code",
   "execution_count": 50,
   "metadata": {},
   "outputs": [
    {
     "name": "stdout",
     "output_type": "stream",
     "text": [
      "{'radius': 0.1, 'sigma_input': 0.5, 'in_cluster_weight': 0.1}\n",
      "AVERAGE RMNSE ERROR ON TRAIN DATA SET: 1.4769657203941446 ± 0.008432466953611755\n",
      "AVG NUMBER OF ACCURATE 0.5 PREDICTIONS ON TRAIN DATA SET: 0.7376300933544294 ± 0.050020117144020736\n",
      "AVG NUMBER OF ACCURATE 1 PREDICTIONS ON TRAIN DATA SET: 1.5795375354110806 ± 0.0853294839076161\n",
      "POWER SPECTRUM MEAN ERROR ON TRAIN DATA SET: 1.514984965272505 ± 0.23428804709284\n",
      "TEMPORAL DISTANCE ON TRAIN DATA SET: 0.11712872345887851 ± 0.0079830839827441\n",
      "GEOMETRICAL DISTANCE ON TRAIN DATA SET: 12.916491064321864 ± 0.23139786652861963\n",
      "\n",
      "\n",
      "AVERAGE RMNSE ERROR ON TEST DATA SET: 1.4789237606647643 ± 0.009060794626029434\n",
      "AVG NUMBER OF ACCURATE 0.5 PREDICTIONS ON TEST DATA SET: 0.8044252614171432 ± 0.048351095107910504\n",
      "AVG NUMBER OF ACCURATE 1 PREDICTIONS ON TEST DATA SET: 1.5026510110223454 ± 0.08257894372293004\n",
      "POWER SPECTRUM MEAN ERROR ON TEST DATA SET: 1.2150510018720635 ± 0.17065952748035354\n",
      "TEMPORAL DISTANCE ON TEST DATA SET: 0.11784927802915475 ± 0.008373890428555913\n",
      "GEOMETRICAL DISTANCE ON TEST DATA SET: 12.983517818754933 ± 0.37486908868190216\n"
     ]
    }
   ],
   "source": [
    "!bash ./1_PGClustered_ESN_Evaluate_Tuned_Model.sh \"evaluate_tuned_model\" \"Lorenz96_F8_ALPHA6_DIM40\" 500 1 1 6 \"grid_search_for_icw_0.1_reservoir_size_500.json\" "
   ]
  },
  {
   "cell_type": "code",
   "execution_count": 51,
   "metadata": {},
   "outputs": [
    {
     "name": "stdout",
     "output_type": "stream",
     "text": [
      "Grid Search Progress:  12%|█▍          | 3/25 [01:09<08:25, 22.99s/trial, Current Best Loss=0.13058]/home/user/kuei_jan_CHU/PGClustered_ESN/Methods/./Utils/global_utils.py:256: RuntimeWarning: divide by zero encountered in log10\n",
      "  s_dbfs = 20 * np.log10(s_mag)\n",
      "Grid Search Progress: 100%|███████████| 25/25 [09:30<00:00, 22.80s/trial, Current Best Loss=0.13058]\n",
      "{'radius': 0.1, 'sigma_input': 0.5, 'in_cluster_weight': 0.3}\n"
     ]
    }
   ],
   "source": [
    "!bash ./0_PGClustered_ESN_Tune.sh \"tune\" \"Lorenz96_F8_ALPHA6_DIM40\" 500 1 1 6 \"grid_search_for_icw_0.3_reservoir_size_500.json\" "
   ]
  },
  {
   "cell_type": "code",
   "execution_count": 52,
   "metadata": {},
   "outputs": [
    {
     "name": "stdout",
     "output_type": "stream",
     "text": [
      "{'radius': 0.1, 'sigma_input': 0.5, 'in_cluster_weight': 0.3}\n",
      "AVERAGE RMNSE ERROR ON TRAIN DATA SET: 1.4779157640642673 ± 0.009254803330414892\n",
      "AVG NUMBER OF ACCURATE 0.5 PREDICTIONS ON TRAIN DATA SET: 0.7371495525769995 ± 0.04863680428221952\n",
      "AVG NUMBER OF ACCURATE 1 PREDICTIONS ON TRAIN DATA SET: 1.5905899732919615 ± 0.09925232117205536\n",
      "POWER SPECTRUM MEAN ERROR ON TRAIN DATA SET: 1.5396408696195842 ± 0.16967479361380755\n",
      "TEMPORAL DISTANCE ON TRAIN DATA SET: 0.1175730441536825 ± 0.009165980449631534\n",
      "GEOMETRICAL DISTANCE ON TRAIN DATA SET: 12.926136317656212 ± 0.32149024663479825\n",
      "\n",
      "\n",
      "AVERAGE RMNSE ERROR ON TEST DATA SET: 1.4782828514191588 ± 0.007796056840307775\n",
      "AVG NUMBER OF ACCURATE 0.5 PREDICTIONS ON TEST DATA SET: 0.8025030983074247 ± 0.046441226923246315\n",
      "AVG NUMBER OF ACCURATE 1 PREDICTIONS ON TEST DATA SET: 1.5098591226837896 ± 0.0893805846019048\n",
      "POWER SPECTRUM MEAN ERROR ON TEST DATA SET: 1.184978115071922 ± 0.2276872293031716\n",
      "TEMPORAL DISTANCE ON TEST DATA SET: 0.11754327103529863 ± 0.00764297392665106\n",
      "GEOMETRICAL DISTANCE ON TEST DATA SET: 12.929644424878907 ± 0.2189222865246425\n"
     ]
    }
   ],
   "source": [
    "!bash ./1_PGClustered_ESN_Evaluate_Tuned_Model.sh \"evaluate_tuned_model\" \"Lorenz96_F8_ALPHA6_DIM40\" 500 1 1 6 \"grid_search_for_icw_0.3_reservoir_size_500.json\" "
   ]
  },
  {
   "cell_type": "code",
   "execution_count": 53,
   "metadata": {},
   "outputs": [
    {
     "name": "stdout",
     "output_type": "stream",
     "text": [
      "Grid Search Progress:  12%|█▍          | 3/25 [01:09<08:28, 23.13s/trial, Current Best Loss=0.13007]/home/user/kuei_jan_CHU/PGClustered_ESN/Methods/./Utils/global_utils.py:256: RuntimeWarning: divide by zero encountered in log10\n",
      "  s_dbfs = 20 * np.log10(s_mag)\n",
      "Grid Search Progress:  76%|████████▎  | 19/25 [07:12<02:16, 22.73s/trial, Current Best Loss=0.13007]/home/user/kuei_jan_CHU/PGClustered_ESN/Methods/./Utils/global_utils.py:291: RuntimeWarning: invalid value encountered in divide\n",
      "  trajectory = (trajectory-trajectory.mean())/trajectory.std()\n",
      "Grid Search Progress: 100%|███████████| 25/25 [09:28<00:00, 22.72s/trial, Current Best Loss=0.13007]\n",
      "{'radius': 0.1, 'sigma_input': 0.5, 'in_cluster_weight': 0.5}\n"
     ]
    }
   ],
   "source": [
    "!bash ./0_PGClustered_ESN_Tune.sh \"tune\" \"Lorenz96_F8_ALPHA6_DIM40\" 500 1 1 6 \"grid_search_for_icw_0.5_reservoir_size_500.json\" "
   ]
  },
  {
   "cell_type": "code",
   "execution_count": 54,
   "metadata": {},
   "outputs": [
    {
     "name": "stdout",
     "output_type": "stream",
     "text": [
      "{'radius': 0.1, 'sigma_input': 0.5, 'in_cluster_weight': 0.5}\n",
      "AVERAGE RMNSE ERROR ON TRAIN DATA SET: 1.478097262363089 ± 0.008443582972641011\n",
      "AVG NUMBER OF ACCURATE 0.5 PREDICTIONS ON TRAIN DATA SET: 0.7371495525769995 ± 0.048636804282219524\n",
      "AVG NUMBER OF ACCURATE 1 PREDICTIONS ON TRAIN DATA SET: 1.5905899732919615 ± 0.10036287121870602\n",
      "POWER SPECTRUM MEAN ERROR ON TRAIN DATA SET: 1.5905841786906134 ± 0.2325279656300763\n",
      "TEMPORAL DISTANCE ON TRAIN DATA SET: 0.11777715562277587 ± 0.007949732267987368\n",
      "GEOMETRICAL DISTANCE ON TRAIN DATA SET: 12.953594437161806 ± 0.2553292312497576\n",
      "\n",
      "\n",
      "AVERAGE RMNSE ERROR ON TEST DATA SET: 1.479039255389916 ± 0.009405668424265478\n",
      "AVG NUMBER OF ACCURATE 0.5 PREDICTIONS ON TEST DATA SET: 0.8001003944202767 ± 0.04927593630459305\n",
      "AVG NUMBER OF ACCURATE 1 PREDICTIONS ON TEST DATA SET: 1.5113007450160783 ± 0.08776285022867827\n",
      "POWER SPECTRUM MEAN ERROR ON TEST DATA SET: 1.2461214901871098 ± 0.22527776399421529\n",
      "TEMPORAL DISTANCE ON TEST DATA SET: 0.11780423423940597 ± 0.008873514467094707\n",
      "GEOMETRICAL DISTANCE ON TEST DATA SET: 12.984538126934416 ± 0.4293355730614035\n"
     ]
    }
   ],
   "source": [
    "!bash ./1_PGClustered_ESN_Evaluate_Tuned_Model.sh \"evaluate_tuned_model\" \"Lorenz96_F8_ALPHA6_DIM40\" 500 1 1 6 \"grid_search_for_icw_0.5_reservoir_size_500.json\" "
   ]
  },
  {
   "cell_type": "code",
   "execution_count": 55,
   "metadata": {},
   "outputs": [
    {
     "name": "stdout",
     "output_type": "stream",
     "text": [
      "Grid Search Progress:  12%|█▍          | 3/25 [01:09<08:28, 23.11s/trial, Current Best Loss=0.12999]/home/user/kuei_jan_CHU/PGClustered_ESN/Methods/./Utils/global_utils.py:256: RuntimeWarning: divide by zero encountered in log10\n",
      "  s_dbfs = 20 * np.log10(s_mag)\n",
      "Grid Search Progress: 100%|███████████| 25/25 [09:30<00:00, 22.81s/trial, Current Best Loss=0.12999]\n",
      "{'radius': 0.1, 'sigma_input': 0.5, 'in_cluster_weight': 0.7}\n"
     ]
    }
   ],
   "source": [
    "!bash ./0_PGClustered_ESN_Tune.sh \"tune\" \"Lorenz96_F8_ALPHA6_DIM40\" 500 1 1 6 \"grid_search_for_icw_0.7_reservoir_size_500.json\" "
   ]
  },
  {
   "cell_type": "code",
   "execution_count": 56,
   "metadata": {},
   "outputs": [
    {
     "name": "stdout",
     "output_type": "stream",
     "text": [
      "{'radius': 0.1, 'sigma_input': 0.5, 'in_cluster_weight': 0.7}\n",
      "AVERAGE RMNSE ERROR ON TRAIN DATA SET: 1.4783289214518418 ± 0.010122075170033103\n",
      "AVG NUMBER OF ACCURATE 0.5 PREDICTIONS ON TRAIN DATA SET: 0.7357079302447109 ± 0.048577420112822074\n",
      "AVG NUMBER OF ACCURATE 1 PREDICTIONS ON TRAIN DATA SET: 1.5915510548468208 ± 0.10303762476401959\n",
      "POWER SPECTRUM MEAN ERROR ON TRAIN DATA SET: 1.415285540379449 ± 0.21222417986171666\n",
      "TEMPORAL DISTANCE ON TRAIN DATA SET: 0.11803713970013427 ± 0.008831390999892125\n",
      "GEOMETRICAL DISTANCE ON TRAIN DATA SET: 12.980559444268621 ± 0.5101544361653568\n",
      "\n",
      "\n",
      "AVERAGE RMNSE ERROR ON TEST DATA SET: 1.4780838991517848 ± 0.008308482609600938\n",
      "AVG NUMBER OF ACCURATE 0.5 PREDICTIONS ON TEST DATA SET: 0.8001003944202767 ± 0.05093505565532063\n",
      "AVG NUMBER OF ACCURATE 1 PREDICTIONS ON TEST DATA SET: 1.5084175003515006 ± 0.09305508064869555\n",
      "POWER SPECTRUM MEAN ERROR ON TEST DATA SET: 1.2783490379637419 ± 0.22728084301645454\n",
      "TEMPORAL DISTANCE ON TEST DATA SET: 0.11776570429055996 ± 0.008290626094238307\n",
      "GEOMETRICAL DISTANCE ON TEST DATA SET: 12.9335235914723 ± 0.26726688257409237\n"
     ]
    }
   ],
   "source": [
    "!bash ./1_PGClustered_ESN_Evaluate_Tuned_Model.sh \"evaluate_tuned_model\" \"Lorenz96_F8_ALPHA6_DIM40\" 500 1 1 6 \"grid_search_for_icw_0.7_reservoir_size_500.json\" "
   ]
  },
  {
   "cell_type": "code",
   "execution_count": 57,
   "metadata": {},
   "outputs": [
    {
     "name": "stdout",
     "output_type": "stream",
     "text": [
      "Grid Search Progress:  12%|█▍          | 3/25 [01:08<08:20, 22.73s/trial, Current Best Loss=0.13100]/home/user/kuei_jan_CHU/PGClustered_ESN/Methods/./Utils/global_utils.py:256: RuntimeWarning: divide by zero encountered in log10\n",
      "  s_dbfs = 20 * np.log10(s_mag)\n",
      "Grid Search Progress:  16%|█▉          | 4/25 [01:31<07:53, 22.57s/trial, Current Best Loss=0.13100]/home/user/kuei_jan_CHU/PGClustered_ESN/Methods/./Utils/global_utils.py:291: RuntimeWarning: invalid value encountered in divide\n",
      "  trajectory = (trajectory-trajectory.mean())/trajectory.std()\n",
      "Grid Search Progress: 100%|███████████| 25/25 [09:23<00:00, 22.54s/trial, Current Best Loss=0.13100]\n",
      "{'radius': 0.1, 'sigma_input': 0.5, 'in_cluster_weight': 0.9}\n"
     ]
    }
   ],
   "source": [
    "!bash ./0_PGClustered_ESN_Tune.sh \"tune\" \"Lorenz96_F8_ALPHA6_DIM40\" 500 1 1 6 \"grid_search_for_icw_0.9_reservoir_size_500.json\" "
   ]
  },
  {
   "cell_type": "code",
   "execution_count": 58,
   "metadata": {},
   "outputs": [
    {
     "name": "stdout",
     "output_type": "stream",
     "text": [
      "{'radius': 0.1, 'sigma_input': 0.5, 'in_cluster_weight': 0.9}\n",
      "AVERAGE RMNSE ERROR ON TRAIN DATA SET: 1.4763808338042559 ± 0.0066924983735347785\n",
      "AVG NUMBER OF ACCURATE 0.5 PREDICTIONS ON TRAIN DATA SET: 0.7352273894672813 ± 0.04857979687335449\n",
      "AVG NUMBER OF ACCURATE 1 PREDICTIONS ON TRAIN DATA SET: 1.5881872694048134 ± 0.10028806586898735\n",
      "POWER SPECTRUM MEAN ERROR ON TRAIN DATA SET: 1.4968074872995074 ± 0.19963859159575564\n",
      "TEMPORAL DISTANCE ON TRAIN DATA SET: 0.11716278952040585 ± 0.006438601632986763\n",
      "GEOMETRICAL DISTANCE ON TRAIN DATA SET: 12.90392696659767 ± 0.17462163066499756\n",
      "\n",
      "\n",
      "AVERAGE RMNSE ERROR ON TEST DATA SET: 1.478733688446788 ± 0.007769903689437673\n",
      "AVG NUMBER OF ACCURATE 0.5 PREDICTIONS ON TEST DATA SET: 0.7967366089782695 ± 0.04974467515109141\n",
      "AVG NUMBER OF ACCURATE 1 PREDICTIONS ON TEST DATA SET: 1.504573174132064 ± 0.0955043816381244\n",
      "POWER SPECTRUM MEAN ERROR ON TEST DATA SET: 1.2708097425206686 ± 0.18861434987981127\n",
      "TEMPORAL DISTANCE ON TEST DATA SET: 0.1177493589454166 ± 0.008413179393311399\n",
      "GEOMETRICAL DISTANCE ON TEST DATA SET: 12.961371443800735 ± 0.2788715274542998\n"
     ]
    }
   ],
   "source": [
    "!bash ./1_PGClustered_ESN_Evaluate_Tuned_Model.sh \"evaluate_tuned_model\" \"Lorenz96_F8_ALPHA6_DIM40\" 500 1 1 6 \"grid_search_for_icw_0.9_reservoir_size_500.json\" "
   ]
  },
  {
   "cell_type": "code",
   "execution_count": 59,
   "metadata": {},
   "outputs": [
    {
     "name": "stdout",
     "output_type": "stream",
     "text": [
      "Grid Search Progress:  12%|█▍          | 3/25 [01:09<08:27, 23.08s/trial, Current Best Loss=0.14000]/home/user/kuei_jan_CHU/PGClustered_ESN/Methods/./Utils/global_utils.py:256: RuntimeWarning: divide by zero encountered in log10\n",
      "  s_dbfs = 20 * np.log10(s_mag)\n",
      "Grid Search Progress: 100%|███████████| 25/25 [09:29<00:00, 22.79s/trial, Current Best Loss=0.14000]\n",
      "{'radius': 0.1, 'sigma_input': 0.5, 'in_cluster_weight': 0.1}\n"
     ]
    }
   ],
   "source": [
    "!bash ./0_PGClustered_ESN_Tune.sh \"tune\" \"Lorenz96_F8_ALPHA7_DIM40\" 500 1 1 7 \"grid_search_for_icw_0.1_reservoir_size_500.json\" "
   ]
  },
  {
   "cell_type": "code",
   "execution_count": 60,
   "metadata": {},
   "outputs": [
    {
     "name": "stdout",
     "output_type": "stream",
     "text": [
      "{'radius': 0.1, 'sigma_input': 0.5, 'in_cluster_weight': 0.1}\n",
      "AVERAGE RMNSE ERROR ON TRAIN DATA SET: 1.4761918204910534 ± 0.012484235161625733\n",
      "AVG NUMBER OF ACCURATE 0.5 PREDICTIONS ON TRAIN DATA SET: 0.7860468852657024 ± 0.043918157902104696\n",
      "AVG NUMBER OF ACCURATE 1 PREDICTIONS ON TRAIN DATA SET: 1.5348940208171844 ± 0.10018333963229248\n",
      "POWER SPECTRUM MEAN ERROR ON TRAIN DATA SET: 1.304985443263362 ± 0.19374262848229282\n",
      "TEMPORAL DISTANCE ON TRAIN DATA SET: 0.12961778206496163 ± 0.007987120712258126\n",
      "GEOMETRICAL DISTANCE ON TRAIN DATA SET: 12.781805791499941 ± 0.844274414808066\n",
      "\n",
      "\n",
      "AVERAGE RMNSE ERROR ON TEST DATA SET: 1.4774303995915328 ± 0.011703039206123745\n",
      "AVG NUMBER OF ACCURATE 0.5 PREDICTIONS ON TEST DATA SET: 0.6965518352285922 ± 0.029410837431010813\n",
      "AVG NUMBER OF ACCURATE 1 PREDICTIONS ON TEST DATA SET: 1.4453989707800743 ± 0.06245266904674235\n",
      "POWER SPECTRUM MEAN ERROR ON TEST DATA SET: 1.298558331623509 ± 0.19421540836987433\n",
      "TEMPORAL DISTANCE ON TEST DATA SET: 0.1304090356780599 ± 0.010194029484402782\n",
      "GEOMETRICAL DISTANCE ON TEST DATA SET: 12.728761991324186 ± 0.46566155831329475\n"
     ]
    }
   ],
   "source": [
    "!bash ./1_PGClustered_ESN_Evaluate_Tuned_Model.sh \"evaluate_tuned_model\" \"Lorenz96_F8_ALPHA7_DIM40\" 500 1 1 7 \"grid_search_for_icw_0.1_reservoir_size_500.json\" "
   ]
  },
  {
   "cell_type": "code",
   "execution_count": 61,
   "metadata": {},
   "outputs": [
    {
     "name": "stdout",
     "output_type": "stream",
     "text": [
      "Grid Search Progress:  12%|█▍          | 3/25 [01:08<08:19, 22.69s/trial, Current Best Loss=0.13998]/home/user/kuei_jan_CHU/PGClustered_ESN/Methods/./Utils/global_utils.py:256: RuntimeWarning: divide by zero encountered in log10\n",
      "  s_dbfs = 20 * np.log10(s_mag)\n",
      "Grid Search Progress:  16%|█▉          | 4/25 [01:30<07:51, 22.45s/trial, Current Best Loss=0.13998]/home/user/kuei_jan_CHU/PGClustered_ESN/Methods/./Utils/global_utils.py:291: RuntimeWarning: invalid value encountered in divide\n",
      "  trajectory = (trajectory-trajectory.mean())/trajectory.std()\n",
      "Grid Search Progress: 100%|███████████| 25/25 [09:20<00:00, 22.42s/trial, Current Best Loss=0.13998]\n",
      "{'radius': 0.1, 'sigma_input': 0.5, 'in_cluster_weight': 0.3}\n"
     ]
    }
   ],
   "source": [
    "!bash ./0_PGClustered_ESN_Tune.sh \"tune\" \"Lorenz96_F8_ALPHA7_DIM40\" 500 1 1 7 \"grid_search_for_icw_0.3_reservoir_size_500.json\" "
   ]
  },
  {
   "cell_type": "code",
   "execution_count": 62,
   "metadata": {},
   "outputs": [
    {
     "name": "stdout",
     "output_type": "stream",
     "text": [
      "{'radius': 0.1, 'sigma_input': 0.5, 'in_cluster_weight': 0.3}\n",
      "AVERAGE RMNSE ERROR ON TRAIN DATA SET: 1.4766571894974174 ± 0.012613247669994984\n",
      "AVG NUMBER OF ACCURATE 0.5 PREDICTIONS ON TRAIN DATA SET: 0.7860468852657024 ± 0.04496459787609187\n",
      "AVG NUMBER OF ACCURATE 1 PREDICTIONS ON TRAIN DATA SET: 1.5348940208171844 ± 0.09765638878698804\n",
      "POWER SPECTRUM MEAN ERROR ON TRAIN DATA SET: 1.2721759044490653 ± 0.19195049522376342\n",
      "TEMPORAL DISTANCE ON TRAIN DATA SET: 0.12989355176124232 ± 0.009531806261014816\n",
      "GEOMETRICAL DISTANCE ON TRAIN DATA SET: 12.74815396463928 ± 0.8030403891249959\n",
      "\n",
      "\n",
      "AVERAGE RMNSE ERROR ON TEST DATA SET: 1.4775470581040164 ± 0.012332270576665296\n",
      "AVG NUMBER OF ACCURATE 0.5 PREDICTIONS ON TEST DATA SET: 0.6949344548062348 ± 0.030588023522617844\n",
      "AVG NUMBER OF ACCURATE 1 PREDICTIONS ON TEST DATA SET: 1.4410859563204546 ± 0.06271275416601864\n",
      "POWER SPECTRUM MEAN ERROR ON TEST DATA SET: 1.221579730419127 ± 0.22861920669684926\n",
      "TEMPORAL DISTANCE ON TEST DATA SET: 0.13057994439630505 ± 0.010329489686141896\n",
      "GEOMETRICAL DISTANCE ON TEST DATA SET: 12.779774227651501 ± 0.6978310026691509\n"
     ]
    }
   ],
   "source": [
    "!bash ./1_PGClustered_ESN_Evaluate_Tuned_Model.sh \"evaluate_tuned_model\" \"Lorenz96_F8_ALPHA7_DIM40\" 500 1 1 7 \"grid_search_for_icw_0.3_reservoir_size_500.json\" "
   ]
  },
  {
   "cell_type": "code",
   "execution_count": 63,
   "metadata": {},
   "outputs": [
    {
     "name": "stdout",
     "output_type": "stream",
     "text": [
      "Grid Search Progress:  12%|█▍          | 3/25 [01:07<08:14, 22.50s/trial, Current Best Loss=0.13995]/home/user/kuei_jan_CHU/PGClustered_ESN/Methods/./Utils/global_utils.py:256: RuntimeWarning: divide by zero encountered in log10\n",
      "  s_dbfs = 20 * np.log10(s_mag)\n",
      "Grid Search Progress:  76%|████████▎  | 19/25 [07:02<02:12, 22.15s/trial, Current Best Loss=0.13995]/home/user/kuei_jan_CHU/PGClustered_ESN/Methods/./Utils/global_utils.py:291: RuntimeWarning: invalid value encountered in divide\n",
      "  trajectory = (trajectory-trajectory.mean())/trajectory.std()\n",
      "Grid Search Progress: 100%|███████████| 25/25 [09:15<00:00, 22.22s/trial, Current Best Loss=0.13995]\n",
      "{'radius': 0.1, 'sigma_input': 0.5, 'in_cluster_weight': 0.5}\n"
     ]
    }
   ],
   "source": [
    "!bash ./0_PGClustered_ESN_Tune.sh \"tune\" \"Lorenz96_F8_ALPHA7_DIM40\" 500 1 1 7 \"grid_search_for_icw_0.5_reservoir_size_500.json\" "
   ]
  },
  {
   "cell_type": "code",
   "execution_count": 64,
   "metadata": {},
   "outputs": [
    {
     "name": "stdout",
     "output_type": "stream",
     "text": [
      "{'radius': 0.1, 'sigma_input': 0.5, 'in_cluster_weight': 0.5}\n",
      "AVERAGE RMNSE ERROR ON TRAIN DATA SET: 1.4760953312041978 ± 0.012136846065288106\n",
      "AVG NUMBER OF ACCURATE 0.5 PREDICTIONS ON TRAIN DATA SET: 0.7882033924955123 ± 0.04698761538371081\n",
      "AVG NUMBER OF ACCURATE 1 PREDICTIONS ON TRAIN DATA SET: 1.5348940208171844 ± 0.09807218989590909\n",
      "POWER SPECTRUM MEAN ERROR ON TRAIN DATA SET: 1.3035612544974238 ± 0.2130404819998427\n",
      "TEMPORAL DISTANCE ON TRAIN DATA SET: 0.13017997780445484 ± 0.00972225409657337\n",
      "GEOMETRICAL DISTANCE ON TRAIN DATA SET: 12.755560391578168 ± 0.695466489453468\n",
      "\n",
      "\n",
      "AVERAGE RMNSE ERROR ON TEST DATA SET: 1.4781141436637322 ± 0.013805705305673217\n",
      "AVG NUMBER OF ACCURATE 0.5 PREDICTIONS ON TEST DATA SET: 0.6949344548062348 ± 0.03207238144673184\n",
      "AVG NUMBER OF ACCURATE 1 PREDICTIONS ON TEST DATA SET: 1.441625083127907 ± 0.0638905074532447\n",
      "POWER SPECTRUM MEAN ERROR ON TEST DATA SET: 1.2597241816555071 ± 0.1624708198721883\n",
      "TEMPORAL DISTANCE ON TEST DATA SET: 0.13049170119679748 ± 0.009848807401239078\n",
      "GEOMETRICAL DISTANCE ON TEST DATA SET: 12.798340017658607 ± 0.8608542321664215\n"
     ]
    }
   ],
   "source": [
    "!bash ./1_PGClustered_ESN_Evaluate_Tuned_Model.sh \"evaluate_tuned_model\" \"Lorenz96_F8_ALPHA7_DIM40\" 500 1 1 7 \"grid_search_for_icw_0.5_reservoir_size_500.json\" "
   ]
  },
  {
   "cell_type": "code",
   "execution_count": 65,
   "metadata": {},
   "outputs": [
    {
     "name": "stdout",
     "output_type": "stream",
     "text": [
      "Grid Search Progress:  12%|█▍          | 3/25 [01:08<08:17, 22.62s/trial, Current Best Loss=0.14095]/home/user/kuei_jan_CHU/PGClustered_ESN/Methods/./Utils/global_utils.py:256: RuntimeWarning: divide by zero encountered in log10\n",
      "  s_dbfs = 20 * np.log10(s_mag)\n",
      "Grid Search Progress: 100%|███████████| 25/25 [09:20<00:00, 22.44s/trial, Current Best Loss=0.14095]\n",
      "{'radius': 0.1, 'sigma_input': 0.5, 'in_cluster_weight': 0.7}\n"
     ]
    }
   ],
   "source": [
    "!bash ./0_PGClustered_ESN_Tune.sh \"tune\" \"Lorenz96_F8_ALPHA7_DIM40\" 500 1 1 7 \"grid_search_for_icw_0.7_reservoir_size_500.json\" "
   ]
  },
  {
   "cell_type": "code",
   "execution_count": 66,
   "metadata": {},
   "outputs": [
    {
     "name": "stdout",
     "output_type": "stream",
     "text": [
      "{'radius': 0.1, 'sigma_input': 0.5, 'in_cluster_weight': 0.7}\n",
      "AVERAGE RMNSE ERROR ON TRAIN DATA SET: 1.4759233026366068 ± 0.01106403157789498\n",
      "AVG NUMBER OF ACCURATE 0.5 PREDICTIONS ON TRAIN DATA SET: 0.7865860120731549 ± 0.04580674667639907\n",
      "AVG NUMBER OF ACCURATE 1 PREDICTIONS ON TRAIN DATA SET: 1.5343548940097318 ± 0.09935742858865605\n",
      "POWER SPECTRUM MEAN ERROR ON TRAIN DATA SET: 1.2134125381824534 ± 0.25480449021432783\n",
      "TEMPORAL DISTANCE ON TRAIN DATA SET: 0.1301848964720637 ± 0.009518697998513393\n",
      "GEOMETRICAL DISTANCE ON TRAIN DATA SET: 12.702169169592683 ± 0.5044350586802496\n",
      "\n",
      "\n",
      "AVERAGE RMNSE ERROR ON TEST DATA SET: 1.4780705525507887 ± 0.015035871677598652\n",
      "AVG NUMBER OF ACCURATE 0.5 PREDICTIONS ON TEST DATA SET: 0.6938562011913298 ± 0.03380200401979319\n",
      "AVG NUMBER OF ACCURATE 1 PREDICTIONS ON TEST DATA SET: 1.4410859563204543 ± 0.06335829618251568\n",
      "POWER SPECTRUM MEAN ERROR ON TEST DATA SET: 1.2607159083515715 ± 0.1959393667074742\n",
      "TEMPORAL DISTANCE ON TEST DATA SET: 0.13038238675078145 ± 0.009959409099395288\n",
      "GEOMETRICAL DISTANCE ON TEST DATA SET: 12.870083470209153 ± 1.0656401450503332\n"
     ]
    }
   ],
   "source": [
    "!bash ./1_PGClustered_ESN_Evaluate_Tuned_Model.sh \"evaluate_tuned_model\" \"Lorenz96_F8_ALPHA7_DIM40\" 500 1 1 7 \"grid_search_for_icw_0.7_reservoir_size_500.json\" "
   ]
  },
  {
   "cell_type": "code",
   "execution_count": 67,
   "metadata": {},
   "outputs": [
    {
     "name": "stdout",
     "output_type": "stream",
     "text": [
      "Grid Search Progress:  12%|█▍          | 3/25 [01:07<08:13, 22.45s/trial, Current Best Loss=0.14022]/home/user/kuei_jan_CHU/PGClustered_ESN/Methods/./Utils/global_utils.py:256: RuntimeWarning: divide by zero encountered in log10\n",
      "  s_dbfs = 20 * np.log10(s_mag)\n",
      "Grid Search Progress: 100%|███████████| 25/25 [09:14<00:00, 22.20s/trial, Current Best Loss=0.14022]\n",
      "{'radius': 0.1, 'sigma_input': 0.5, 'in_cluster_weight': 0.9}\n"
     ]
    }
   ],
   "source": [
    "!bash ./0_PGClustered_ESN_Tune.sh \"tune\" \"Lorenz96_F8_ALPHA7_DIM40\" 500 1 1 7 \"grid_search_for_icw_0.9_reservoir_size_500.json\" "
   ]
  },
  {
   "cell_type": "code",
   "execution_count": 68,
   "metadata": {},
   "outputs": [
    {
     "name": "stdout",
     "output_type": "stream",
     "text": [
      "{'radius': 0.1, 'sigma_input': 0.5, 'in_cluster_weight': 0.9}\n",
      "AVERAGE RMNSE ERROR ON TRAIN DATA SET: 1.4766149721860526 ± 0.009774170888122869\n",
      "AVG NUMBER OF ACCURATE 0.5 PREDICTIONS ON TRAIN DATA SET: 0.7833512512284401 ± 0.04641189849879515\n",
      "AVG NUMBER OF ACCURATE 1 PREDICTIONS ON TRAIN DATA SET: 1.5311201331650168 ± 0.09882357617323326\n",
      "POWER SPECTRUM MEAN ERROR ON TRAIN DATA SET: 1.3408618252896973 ± 0.23286936304953298\n",
      "TEMPORAL DISTANCE ON TRAIN DATA SET: 0.13044778129824458 ± 0.009116425830156061\n",
      "GEOMETRICAL DISTANCE ON TRAIN DATA SET: 12.669928740523172 ± 0.3983889142603941\n",
      "\n",
      "\n",
      "AVERAGE RMNSE ERROR ON TEST DATA SET: 1.4781614451210345 ± 0.012580728316715228\n",
      "AVG NUMBER OF ACCURATE 0.5 PREDICTIONS ON TEST DATA SET: 0.6927779475764251 ± 0.03424622428916157\n",
      "AVG NUMBER OF ACCURATE 1 PREDICTIONS ON TEST DATA SET: 1.4389294490906444 ± 0.06263855432737128\n",
      "POWER SPECTRUM MEAN ERROR ON TEST DATA SET: 1.2095341786596348 ± 0.2028341736781066\n",
      "TEMPORAL DISTANCE ON TEST DATA SET: 0.13034338507216647 ± 0.006997583791850259\n",
      "GEOMETRICAL DISTANCE ON TEST DATA SET: 12.806737746849006 ± 0.7536775606294769\n"
     ]
    }
   ],
   "source": [
    "!bash ./1_PGClustered_ESN_Evaluate_Tuned_Model.sh \"evaluate_tuned_model\" \"Lorenz96_F8_ALPHA7_DIM40\" 500 1 1 7 \"grid_search_for_icw_0.9_reservoir_size_500.json\" "
   ]
  },
  {
   "cell_type": "code",
   "execution_count": 69,
   "metadata": {},
   "outputs": [
    {
     "name": "stdout",
     "output_type": "stream",
     "text": [
      "Grid Search Progress:  12%|█▍          | 3/25 [01:08<08:17, 22.63s/trial, Current Best Loss=0.15626]/home/user/kuei_jan_CHU/PGClustered_ESN/Methods/./Utils/global_utils.py:256: RuntimeWarning: divide by zero encountered in log10\n",
      "  s_dbfs = 20 * np.log10(s_mag)\n",
      "Grid Search Progress: 100%|███████████| 25/25 [09:20<00:00, 22.41s/trial, Current Best Loss=0.15607]\n",
      "{'radius': 0.4, 'sigma_input': 0.5, 'in_cluster_weight': 0.1}\n"
     ]
    }
   ],
   "source": [
    "!bash ./0_PGClustered_ESN_Tune.sh \"tune\" \"Lorenz96_F8_ALPHA8_DIM40\" 500 1 1 8 \"grid_search_for_icw_0.1_reservoir_size_500.json\" "
   ]
  },
  {
   "cell_type": "code",
   "execution_count": 70,
   "metadata": {},
   "outputs": [
    {
     "name": "stdout",
     "output_type": "stream",
     "text": [
      "{'radius': 0.4, 'sigma_input': 0.5, 'in_cluster_weight': 0.1}\n",
      "AVERAGE RMNSE ERROR ON TRAIN DATA SET: 1.4781686775387288 ± 0.006007752214072693\n",
      "AVG NUMBER OF ACCURATE 0.5 PREDICTIONS ON TRAIN DATA SET: 0.7530629151624832 ± 0.04608716349529555\n",
      "AVG NUMBER OF ACCURATE 1 PREDICTIONS ON TRAIN DATA SET: 1.484677835905782 ± 0.06184619402161717\n",
      "POWER SPECTRUM MEAN ERROR ON TRAIN DATA SET: 1.3794991109288854 ± 0.1762331004020826\n",
      "TEMPORAL DISTANCE ON TRAIN DATA SET: 0.14467978372927276 ± 0.001974664946205532\n",
      "GEOMETRICAL DISTANCE ON TRAIN DATA SET: 12.422240672783254 ± 0.11670198105643907\n",
      "\n",
      "\n",
      "AVERAGE RMNSE ERROR ON TEST DATA SET: 1.4791172031207238 ± 0.005306097131340351\n",
      "AVG NUMBER OF ACCURATE 0.5 PREDICTIONS ON TEST DATA SET: 0.7250613668929923 ± 0.04430839476911446\n",
      "AVG NUMBER OF ACCURATE 1 PREDICTIONS ON TEST DATA SET: 1.4399945141991473 ± 0.07594937990090347\n",
      "POWER SPECTRUM MEAN ERROR ON TEST DATA SET: 1.5880803191114063 ± 0.18333323560148926\n",
      "TEMPORAL DISTANCE ON TEST DATA SET: 0.1450117814553667 ± 0.0019131056178795655\n",
      "GEOMETRICAL DISTANCE ON TEST DATA SET: 12.433037340850307 ± 0.10754181778163382\n"
     ]
    }
   ],
   "source": [
    "!bash ./1_PGClustered_ESN_Evaluate_Tuned_Model.sh \"evaluate_tuned_model\" \"Lorenz96_F8_ALPHA8_DIM40\" 500 1 1 8 \"grid_search_for_icw_0.1_reservoir_size_500.json\" "
   ]
  },
  {
   "cell_type": "code",
   "execution_count": 71,
   "metadata": {},
   "outputs": [
    {
     "name": "stdout",
     "output_type": "stream",
     "text": [
      "Grid Search Progress:  12%|█▍          | 3/25 [01:08<08:21, 22.79s/trial, Current Best Loss=0.15656]/home/user/kuei_jan_CHU/PGClustered_ESN/Methods/./Utils/global_utils.py:256: RuntimeWarning: divide by zero encountered in log10\n",
      "  s_dbfs = 20 * np.log10(s_mag)\n",
      "Grid Search Progress:  16%|█▉          | 4/25 [01:31<07:54, 22.60s/trial, Current Best Loss=0.15656]/home/user/kuei_jan_CHU/PGClustered_ESN/Methods/./Utils/global_utils.py:291: RuntimeWarning: invalid value encountered in divide\n",
      "  trajectory = (trajectory-trajectory.mean())/trajectory.std()\n",
      "Grid Search Progress: 100%|███████████| 25/25 [09:23<00:00, 22.55s/trial, Current Best Loss=0.15627]\n",
      "{'radius': 0.7, 'sigma_input': 0.5, 'in_cluster_weight': 0.3}\n"
     ]
    }
   ],
   "source": [
    "!bash ./0_PGClustered_ESN_Tune.sh \"tune\" \"Lorenz96_F8_ALPHA8_DIM40\" 500 1 1 8 \"grid_search_for_icw_0.3_reservoir_size_500.json\" "
   ]
  },
  {
   "cell_type": "code",
   "execution_count": 72,
   "metadata": {},
   "outputs": [
    {
     "name": "stdout",
     "output_type": "stream",
     "text": [
      "{'radius': 0.7, 'sigma_input': 0.5, 'in_cluster_weight': 0.3}\n",
      "AVERAGE RMNSE ERROR ON TRAIN DATA SET: 1.4837879289011071 ± 0.005431362217696106\n",
      "AVG NUMBER OF ACCURATE 0.5 PREDICTIONS ON TRAIN DATA SET: 0.7083795934558486 ± 0.04152958934656569\n",
      "AVG NUMBER OF ACCURATE 1 PREDICTIONS ON TRAIN DATA SET: 1.419142297402718 ± 0.06470704529068518\n",
      "POWER SPECTRUM MEAN ERROR ON TRAIN DATA SET: 1.390597911255761 ± 0.14211649013575114\n",
      "TEMPORAL DISTANCE ON TRAIN DATA SET: 0.1445464047222878 ± 0.0015151566236336373\n",
      "GEOMETRICAL DISTANCE ON TRAIN DATA SET: 12.545250421161299 ± 0.11661603060689789\n",
      "\n",
      "\n",
      "AVERAGE RMNSE ERROR ON TEST DATA SET: 1.4830066927446424 ± 0.005300850638733311\n",
      "AVG NUMBER OF ACCURATE 0.5 PREDICTIONS ON TEST DATA SET: 0.6732287137132961 ± 0.039609131686125454\n",
      "AVG NUMBER OF ACCURATE 1 PREDICTIONS ON TEST DATA SET: 1.36016031274996 ± 0.07960043887173592\n",
      "POWER SPECTRUM MEAN ERROR ON TEST DATA SET: 1.5349332048728255 ± 0.19971452799871423\n",
      "TEMPORAL DISTANCE ON TEST DATA SET: 0.1446083275053442 ± 0.0014377993009330745\n",
      "GEOMETRICAL DISTANCE ON TEST DATA SET: 12.564202868176608 ± 0.12073947315796225\n"
     ]
    }
   ],
   "source": [
    "!bash ./1_PGClustered_ESN_Evaluate_Tuned_Model.sh \"evaluate_tuned_model\" \"Lorenz96_F8_ALPHA8_DIM40\" 500 1 1 8 \"grid_search_for_icw_0.3_reservoir_size_500.json\" "
   ]
  },
  {
   "cell_type": "code",
   "execution_count": 73,
   "metadata": {},
   "outputs": [
    {
     "name": "stdout",
     "output_type": "stream",
     "text": [
      "Grid Search Progress:  12%|█▍          | 3/25 [01:09<08:25, 22.97s/trial, Current Best Loss=0.15621]/home/user/kuei_jan_CHU/PGClustered_ESN/Methods/./Utils/global_utils.py:256: RuntimeWarning: divide by zero encountered in log10\n",
      "  s_dbfs = 20 * np.log10(s_mag)\n",
      "Grid Search Progress: 100%|███████████| 25/25 [09:25<00:00, 22.62s/trial, Current Best Loss=0.15621]\n",
      "{'radius': 0.1, 'sigma_input': 0.5, 'in_cluster_weight': 0.5}\n"
     ]
    }
   ],
   "source": [
    "!bash ./0_PGClustered_ESN_Tune.sh \"tune\" \"Lorenz96_F8_ALPHA8_DIM40\" 500 1 1 8 \"grid_search_for_icw_0.5_reservoir_size_500.json\" "
   ]
  },
  {
   "cell_type": "code",
   "execution_count": 74,
   "metadata": {},
   "outputs": [
    {
     "name": "stdout",
     "output_type": "stream",
     "text": [
      "{'radius': 0.1, 'sigma_input': 0.5, 'in_cluster_weight': 0.5}\n",
      "AVERAGE RMNSE ERROR ON TRAIN DATA SET: 1.4739227697984718 ± 0.006194411930211007\n",
      "AVG NUMBER OF ACCURATE 0.5 PREDICTIONS ON TRAIN DATA SET: 0.7834475739229949 ± 0.06015584093031864\n",
      "AVG NUMBER OF ACCURATE 1 PREDICTIONS ON TRAIN DATA SET: 1.5156582722890486 ± 0.070150127071553\n",
      "POWER SPECTRUM MEAN ERROR ON TRAIN DATA SET: 1.329581300934915 ± 0.16422853508332477\n",
      "TEMPORAL DISTANCE ON TRAIN DATA SET: 0.14510540942482705 ± 0.0037209889876038595\n",
      "GEOMETRICAL DISTANCE ON TRAIN DATA SET: 12.323031851336037 ± 0.1378931249442621\n",
      "\n",
      "\n",
      "AVERAGE RMNSE ERROR ON TEST DATA SET: 1.4741094687670868 ± 0.006120283077596205\n",
      "AVG NUMBER OF ACCURATE 0.5 PREDICTIONS ON TEST DATA SET: 0.7530629151624831 ± 0.05389729850139765\n",
      "AVG NUMBER OF ACCURATE 1 PREDICTIONS ON TEST DATA SET: 1.495401833115374 ± 0.07578328831643347\n",
      "POWER SPECTRUM MEAN ERROR ON TEST DATA SET: 1.5047084443391936 ± 0.17292539556502676\n",
      "TEMPORAL DISTANCE ON TEST DATA SET: 0.14510657867631407 ± 0.004009893420258182\n",
      "GEOMETRICAL DISTANCE ON TEST DATA SET: 12.338105013563286 ± 0.13626045396685327\n"
     ]
    }
   ],
   "source": [
    "!bash ./1_PGClustered_ESN_Evaluate_Tuned_Model.sh \"evaluate_tuned_model\" \"Lorenz96_F8_ALPHA8_DIM40\" 500 1 1 8 \"grid_search_for_icw_0.5_reservoir_size_500.json\" "
   ]
  },
  {
   "cell_type": "code",
   "execution_count": 75,
   "metadata": {},
   "outputs": [
    {
     "name": "stdout",
     "output_type": "stream",
     "text": [
      "Grid Search Progress:  12%|█▍          | 3/25 [01:08<08:19, 22.70s/trial, Current Best Loss=0.15613]/home/user/kuei_jan_CHU/PGClustered_ESN/Methods/./Utils/global_utils.py:256: RuntimeWarning: divide by zero encountered in log10\n",
      "  s_dbfs = 20 * np.log10(s_mag)\n",
      "Grid Search Progress: 100%|███████████| 25/25 [09:22<00:00, 22.52s/trial, Current Best Loss=0.15613]\n",
      "{'radius': 0.1, 'sigma_input': 0.5, 'in_cluster_weight': 0.7}\n"
     ]
    }
   ],
   "source": [
    "!bash ./0_PGClustered_ESN_Tune.sh \"tune\" \"Lorenz96_F8_ALPHA8_DIM40\" 500 1 1 8 \"grid_search_for_icw_0.7_reservoir_size_500.json\" "
   ]
  },
  {
   "cell_type": "code",
   "execution_count": 76,
   "metadata": {},
   "outputs": [
    {
     "name": "stdout",
     "output_type": "stream",
     "text": [
      "{'radius': 0.1, 'sigma_input': 0.5, 'in_cluster_weight': 0.7}\n",
      "AVERAGE RMNSE ERROR ON TRAIN DATA SET: 1.4741456714681411 ± 0.00575065906084098\n",
      "AVG NUMBER OF ACCURATE 0.5 PREDICTIONS ON TRAIN DATA SET: 0.7798729081864642 ± 0.05891574994949216\n",
      "AVG NUMBER OF ACCURATE 1 PREDICTIONS ON TRAIN DATA SET: 1.5198287156483345 ± 0.069117907831226\n",
      "POWER SPECTRUM MEAN ERROR ON TRAIN DATA SET: 1.3962229208344548 ± 0.16620201927617248\n",
      "TEMPORAL DISTANCE ON TRAIN DATA SET: 0.14535339697863658 ± 0.004287478085711388\n",
      "GEOMETRICAL DISTANCE ON TRAIN DATA SET: 12.331863663274053 ± 0.13112460102220322\n",
      "\n",
      "\n",
      "AVERAGE RMNSE ERROR ON TEST DATA SET: 1.4735679232944308 ± 0.005558706208349847\n",
      "AVG NUMBER OF ACCURATE 0.5 PREDICTIONS ON TEST DATA SET: 0.7530629151624832 ± 0.056595738403173\n",
      "AVG NUMBER OF ACCURATE 1 PREDICTIONS ON TEST DATA SET: 1.4959976107381292 ± 0.07193629317552233\n",
      "POWER SPECTRUM MEAN ERROR ON TEST DATA SET: 1.4958867050911635 ± 0.13436836505808591\n",
      "TEMPORAL DISTANCE ON TEST DATA SET: 0.14496439097783867 ± 0.003832591866742518\n",
      "GEOMETRICAL DISTANCE ON TEST DATA SET: 12.339665058038452 ± 0.15126566358609692\n"
     ]
    }
   ],
   "source": [
    "!bash ./1_PGClustered_ESN_Evaluate_Tuned_Model.sh \"evaluate_tuned_model\" \"Lorenz96_F8_ALPHA8_DIM40\" 500 1 1 8 \"grid_search_for_icw_0.7_reservoir_size_500.json\" "
   ]
  },
  {
   "cell_type": "code",
   "execution_count": 77,
   "metadata": {},
   "outputs": [
    {
     "name": "stdout",
     "output_type": "stream",
     "text": [
      "Grid Search Progress:  12%|█▍          | 3/25 [01:09<08:25, 22.96s/trial, Current Best Loss=0.15614]/home/user/kuei_jan_CHU/PGClustered_ESN/Methods/./Utils/global_utils.py:256: RuntimeWarning: divide by zero encountered in log10\n",
      "  s_dbfs = 20 * np.log10(s_mag)\n",
      "Grid Search Progress: 100%|███████████| 25/25 [09:27<00:00, 22.70s/trial, Current Best Loss=0.15614]\n",
      "{'radius': 0.1, 'sigma_input': 0.5, 'in_cluster_weight': 0.9}\n"
     ]
    }
   ],
   "source": [
    "!bash ./0_PGClustered_ESN_Tune.sh \"tune\" \"Lorenz96_F8_ALPHA8_DIM40\" 500 1 1 8 \"grid_search_for_icw_0.9_reservoir_size_500.json\" "
   ]
  },
  {
   "cell_type": "code",
   "execution_count": 78,
   "metadata": {},
   "outputs": [
    {
     "name": "stdout",
     "output_type": "stream",
     "text": [
      "{'radius': 0.1, 'sigma_input': 0.5, 'in_cluster_weight': 0.9}\n",
      "AVERAGE RMNSE ERROR ON TRAIN DATA SET: 1.4743067757241033 ± 0.005281881797462121\n",
      "AVG NUMBER OF ACCURATE 0.5 PREDICTIONS ON TRAIN DATA SET: 0.7739151319589129 ± 0.055182646014668255\n",
      "AVG NUMBER OF ACCURATE 1 PREDICTIONS ON TRAIN DATA SET: 1.5192329380255793 ± 0.082338105621376\n",
      "POWER SPECTRUM MEAN ERROR ON TRAIN DATA SET: 1.356321846842837 ± 0.1697732549162692\n",
      "TEMPORAL DISTANCE ON TRAIN DATA SET: 0.14534004982757487 ± 0.0034691865435046054\n",
      "GEOMETRICAL DISTANCE ON TRAIN DATA SET: 12.324690141951528 ± 0.10649426477701668\n",
      "\n",
      "\n",
      "AVERAGE RMNSE ERROR ON TEST DATA SET: 1.4742424259301399 ± 0.00557497510320951\n",
      "AVG NUMBER OF ACCURATE 0.5 PREDICTIONS ON TEST DATA SET: 0.7453178060666665 ± 0.05172983091382958\n",
      "AVG NUMBER OF ACCURATE 1 PREDICTIONS ON TEST DATA SET: 1.4983807212291498 ± 0.07276052366287201\n",
      "POWER SPECTRUM MEAN ERROR ON TEST DATA SET: 1.5306180112732948 ± 0.11534822400457728\n",
      "TEMPORAL DISTANCE ON TEST DATA SET: 0.1451177141146859 ± 0.003556081201369897\n",
      "GEOMETRICAL DISTANCE ON TEST DATA SET: 12.33933985025494 ± 0.12584627589868175\n"
     ]
    }
   ],
   "source": [
    "!bash ./1_PGClustered_ESN_Evaluate_Tuned_Model.sh \"evaluate_tuned_model\" \"Lorenz96_F8_ALPHA8_DIM40\" 500 1 1 8 \"grid_search_for_icw_0.9_reservoir_size_500.json\" "
   ]
  },
  {
   "cell_type": "code",
   "execution_count": 79,
   "metadata": {},
   "outputs": [
    {
     "name": "stdout",
     "output_type": "stream",
     "text": [
      "Grid Search Progress:  12%|█▍          | 3/25 [01:10<08:32, 23.31s/trial, Current Best Loss=0.17427]/home/user/kuei_jan_CHU/PGClustered_ESN/Methods/./Utils/global_utils.py:256: RuntimeWarning: divide by zero encountered in log10\n",
      "  s_dbfs = 20 * np.log10(s_mag)\n",
      "Grid Search Progress:  96%|██████████▌| 24/25 [09:12<00:23, 23.03s/trial, Current Best Loss=0.17427]/home/user/kuei_jan_CHU/PGClustered_ESN/Methods/./Utils/global_utils.py:291: RuntimeWarning: invalid value encountered in divide\n",
      "  trajectory = (trajectory-trajectory.mean())/trajectory.std()\n",
      "Grid Search Progress: 100%|███████████| 25/25 [09:36<00:00, 23.08s/trial, Current Best Loss=0.17427]\n",
      "{'radius': 0.1, 'sigma_input': 0.5, 'in_cluster_weight': 0.1}\n"
     ]
    }
   ],
   "source": [
    "!bash ./0_PGClustered_ESN_Tune.sh \"tune\" \"Lorenz96_F8_ALPHA9_DIM40\" 500 1 1 9 \"grid_search_for_icw_0.1_reservoir_size_500.json\" "
   ]
  },
  {
   "cell_type": "code",
   "execution_count": 80,
   "metadata": {},
   "outputs": [
    {
     "name": "stdout",
     "output_type": "stream",
     "text": [
      "{'radius': 0.1, 'sigma_input': 0.5, 'in_cluster_weight': 0.1}\n",
      "AVERAGE RMNSE ERROR ON TRAIN DATA SET: 1.4727466987851048 ± 0.010363051795814595\n",
      "AVG NUMBER OF ACCURATE 0.5 PREDICTIONS ON TRAIN DATA SET: 0.7995939668193073 ± 0.04292220166294775\n",
      "AVG NUMBER OF ACCURATE 1 PREDICTIONS ON TRAIN DATA SET: 1.540270483451929 ± 0.09882599410478567\n",
      "POWER SPECTRUM MEAN ERROR ON TRAIN DATA SET: 1.4319904125663845 ± 0.17506670009405792\n",
      "TEMPORAL DISTANCE ON TRAIN DATA SET: 0.16527901272754156 ± 0.00828215921651463\n",
      "GEOMETRICAL DISTANCE ON TRAIN DATA SET: 12.183606648149553 ± 0.3096587240774774\n",
      "\n",
      "\n",
      "AVERAGE RMNSE ERROR ON TEST DATA SET: 1.4721269730609614 ± 0.01272519128641876\n",
      "AVG NUMBER OF ACCURATE 0.5 PREDICTIONS ON TEST DATA SET: 0.7944144107589393 ± 0.055283572515283735\n",
      "AVG NUMBER OF ACCURATE 1 PREDICTIONS ON TEST DATA SET: 1.5299113713311931 ± 0.08273874714322194\n",
      "POWER SPECTRUM MEAN ERROR ON TEST DATA SET: 1.477930750846657 ± 0.1303290552555633\n",
      "TEMPORAL DISTANCE ON TEST DATA SET: 0.1659988631771027 ± 0.009540819236443515\n",
      "GEOMETRICAL DISTANCE ON TEST DATA SET: 12.147273132137784 ± 0.5604519960337432\n"
     ]
    }
   ],
   "source": [
    "!bash ./1_PGClustered_ESN_Evaluate_Tuned_Model.sh \"evaluate_tuned_model\" \"Lorenz96_F8_ALPHA9_DIM40\" 500 1 1 9 \"grid_search_for_icw_0.1_reservoir_size_500.json\" "
   ]
  },
  {
   "cell_type": "code",
   "execution_count": 81,
   "metadata": {},
   "outputs": [
    {
     "name": "stdout",
     "output_type": "stream",
     "text": [
      "Grid Search Progress:  16%|█▉          | 4/25 [01:29<07:45, 22.16s/trial, Current Best Loss=0.17409]/home/user/kuei_jan_CHU/PGClustered_ESN/Methods/./Utils/global_utils.py:256: RuntimeWarning: divide by zero encountered in log10\n",
      "  s_dbfs = 20 * np.log10(s_mag)\n",
      "Grid Search Progress: 100%|███████████| 25/25 [09:14<00:00, 22.16s/trial, Current Best Loss=0.17409]\n",
      "{'radius': 0.1, 'sigma_input': 0.5, 'in_cluster_weight': 0.3}\n"
     ]
    }
   ],
   "source": [
    "!bash ./0_PGClustered_ESN_Tune.sh \"tune\" \"Lorenz96_F8_ALPHA9_DIM40\" 500 1 1 9 \"grid_search_for_icw_0.3_reservoir_size_500.json\" "
   ]
  },
  {
   "cell_type": "code",
   "execution_count": 82,
   "metadata": {},
   "outputs": [
    {
     "name": "stdout",
     "output_type": "stream",
     "text": [
      "{'radius': 0.1, 'sigma_input': 0.5, 'in_cluster_weight': 0.3}\n",
      "AVERAGE RMNSE ERROR ON TRAIN DATA SET: 1.472909710961516 ± 0.009974722618841171\n",
      "AVG NUMBER OF ACCURATE 0.5 PREDICTIONS ON TRAIN DATA SET: 0.7950618552664853 ± 0.03936121830862289\n",
      "AVG NUMBER OF ACCURATE 1 PREDICTIONS ON TRAIN DATA SET: 1.5422128169745668 ± 0.10054377533053095\n",
      "POWER SPECTRUM MEAN ERROR ON TRAIN DATA SET: 1.4915752798087198 ± 0.18756881161203154\n",
      "TEMPORAL DISTANCE ON TRAIN DATA SET: 0.16489022665597264 ± 0.006955184546218233\n",
      "GEOMETRICAL DISTANCE ON TRAIN DATA SET: 12.169435418955057 ± 0.3140316491710773\n",
      "\n",
      "\n",
      "AVERAGE RMNSE ERROR ON TEST DATA SET: 1.472167361880906 ± 0.013134359121018844\n",
      "AVG NUMBER OF ACCURATE 0.5 PREDICTIONS ON TEST DATA SET: 0.7944144107589393 ± 0.055586042684119485\n",
      "AVG NUMBER OF ACCURATE 1 PREDICTIONS ON TEST DATA SET: 1.5331485938689229 ± 0.08244691670365607\n",
      "POWER SPECTRUM MEAN ERROR ON TEST DATA SET: 1.5593359539799558 ± 0.1349786458215161\n",
      "TEMPORAL DISTANCE ON TEST DATA SET: 0.16573867056508967 ± 0.00825033675253504\n",
      "GEOMETRICAL DISTANCE ON TEST DATA SET: 12.15325831886416 ± 0.5137480256153613\n"
     ]
    }
   ],
   "source": [
    "!bash ./1_PGClustered_ESN_Evaluate_Tuned_Model.sh \"evaluate_tuned_model\" \"Lorenz96_F8_ALPHA9_DIM40\" 500 1 1 9 \"grid_search_for_icw_0.3_reservoir_size_500.json\" "
   ]
  },
  {
   "cell_type": "code",
   "execution_count": 83,
   "metadata": {},
   "outputs": [
    {
     "name": "stdout",
     "output_type": "stream",
     "text": [
      "Grid Search Progress:  12%|█▍          | 3/25 [01:10<08:30, 23.22s/trial, Current Best Loss=0.17398]/home/user/kuei_jan_CHU/PGClustered_ESN/Methods/./Utils/global_utils.py:256: RuntimeWarning: divide by zero encountered in log10\n",
      "  s_dbfs = 20 * np.log10(s_mag)\n",
      "Grid Search Progress: 100%|███████████| 25/25 [09:36<00:00, 23.06s/trial, Current Best Loss=0.17398]\n",
      "{'radius': 0.1, 'sigma_input': 0.5, 'in_cluster_weight': 0.5}\n"
     ]
    }
   ],
   "source": [
    "!bash ./0_PGClustered_ESN_Tune.sh \"tune\" \"Lorenz96_F8_ALPHA9_DIM40\" 500 1 1 9 \"grid_search_for_icw_0.5_reservoir_size_500.json\" "
   ]
  },
  {
   "cell_type": "code",
   "execution_count": 84,
   "metadata": {},
   "outputs": [
    {
     "name": "stdout",
     "output_type": "stream",
     "text": [
      "{'radius': 0.1, 'sigma_input': 0.5, 'in_cluster_weight': 0.5}\n",
      "AVERAGE RMNSE ERROR ON TRAIN DATA SET: 1.472287317324963 ± 0.009758763988965434\n",
      "AVG NUMBER OF ACCURATE 0.5 PREDICTIONS ON TRAIN DATA SET: 0.7911771882212093 ± 0.03705736178941302\n",
      "AVG NUMBER OF ACCURATE 1 PREDICTIONS ON TRAIN DATA SET: 1.5402704834519287 ± 0.10322426080308963\n",
      "POWER SPECTRUM MEAN ERROR ON TRAIN DATA SET: 1.4310298083076152 ± 0.18321172866418112\n",
      "TEMPORAL DISTANCE ON TRAIN DATA SET: 0.16478563811621566 ± 0.006845538012843568\n",
      "GEOMETRICAL DISTANCE ON TRAIN DATA SET: 12.165433934059026 ± 0.30268679775154167\n",
      "\n",
      "\n",
      "AVERAGE RMNSE ERROR ON TEST DATA SET: 1.471579604974969 ± 0.010227086088423824\n",
      "AVG NUMBER OF ACCURATE 0.5 PREDICTIONS ON TEST DATA SET: 0.7963567442815773 ± 0.05546903122626047\n",
      "AVG NUMBER OF ACCURATE 1 PREDICTIONS ON TEST DATA SET: 1.532501149361377 ± 0.08068675707046868\n",
      "POWER SPECTRUM MEAN ERROR ON TEST DATA SET: 1.564158080031616 ± 0.12952369642516526\n",
      "TEMPORAL DISTANCE ON TEST DATA SET: 0.16582955863504134 ± 0.008072419179212729\n",
      "GEOMETRICAL DISTANCE ON TEST DATA SET: 12.102163372199882 ± 0.30137926960884903\n"
     ]
    }
   ],
   "source": [
    "!bash ./1_PGClustered_ESN_Evaluate_Tuned_Model.sh \"evaluate_tuned_model\" \"Lorenz96_F8_ALPHA9_DIM40\" 500 1 1 9 \"grid_search_for_icw_0.5_reservoir_size_500.json\" "
   ]
  },
  {
   "cell_type": "code",
   "execution_count": 85,
   "metadata": {},
   "outputs": [
    {
     "name": "stdout",
     "output_type": "stream",
     "text": [
      "Grid Search Progress:  12%|█▍          | 3/25 [01:08<08:19, 22.69s/trial, Current Best Loss=0.17412]/home/user/kuei_jan_CHU/PGClustered_ESN/Methods/./Utils/global_utils.py:256: RuntimeWarning: divide by zero encountered in log10\n",
      "  s_dbfs = 20 * np.log10(s_mag)\n",
      "Grid Search Progress: 100%|███████████| 25/25 [09:18<00:00, 22.33s/trial, Current Best Loss=0.17412]\n",
      "{'radius': 0.1, 'sigma_input': 0.5, 'in_cluster_weight': 0.7}\n"
     ]
    }
   ],
   "source": [
    "!bash ./0_PGClustered_ESN_Tune.sh \"tune\" \"Lorenz96_F8_ALPHA9_DIM40\" 500 1 1 9 \"grid_search_for_icw_0.7_reservoir_size_500.json\" "
   ]
  },
  {
   "cell_type": "code",
   "execution_count": 86,
   "metadata": {},
   "outputs": [
    {
     "name": "stdout",
     "output_type": "stream",
     "text": [
      "{'radius': 0.1, 'sigma_input': 0.5, 'in_cluster_weight': 0.7}\n",
      "AVERAGE RMNSE ERROR ON TRAIN DATA SET: 1.4724745795652485 ± 0.008676593967663898\n",
      "AVG NUMBER OF ACCURATE 0.5 PREDICTIONS ON TRAIN DATA SET: 0.7885874101910254 ± 0.036372323763395574\n",
      "AVG NUMBER OF ACCURATE 1 PREDICTIONS ON TRAIN DATA SET: 1.5428602614821127 ± 0.10107394707468344\n",
      "POWER SPECTRUM MEAN ERROR ON TRAIN DATA SET: 1.484261351205046 ± 0.1440513421126188\n",
      "TEMPORAL DISTANCE ON TRAIN DATA SET: 0.1649674047593503 ± 0.006411949287585511\n",
      "GEOMETRICAL DISTANCE ON TRAIN DATA SET: 12.156423769182803 ± 0.2233485035343219\n",
      "\n",
      "\n",
      "AVERAGE RMNSE ERROR ON TEST DATA SET: 1.4708265195664567 ± 0.008678877381457476\n",
      "AVG NUMBER OF ACCURATE 0.5 PREDICTIONS ON TEST DATA SET: 0.7970041887891235 ± 0.05531389396142209\n",
      "AVG NUMBER OF ACCURATE 1 PREDICTIONS ON TEST DATA SET: 1.533796038376469 ± 0.08049951236152628\n",
      "POWER SPECTRUM MEAN ERROR ON TEST DATA SET: 1.5272346923449254 ± 0.1495774367110508\n",
      "TEMPORAL DISTANCE ON TEST DATA SET: 0.16559023975466824 ± 0.007604103219243818\n",
      "GEOMETRICAL DISTANCE ON TEST DATA SET: 12.08853302136465 ± 0.24516921038991624\n"
     ]
    }
   ],
   "source": [
    "!bash ./1_PGClustered_ESN_Evaluate_Tuned_Model.sh \"evaluate_tuned_model\" \"Lorenz96_F8_ALPHA9_DIM40\" 500 1 1 9 \"grid_search_for_icw_0.7_reservoir_size_500.json\" "
   ]
  },
  {
   "cell_type": "code",
   "execution_count": 87,
   "metadata": {},
   "outputs": [
    {
     "name": "stdout",
     "output_type": "stream",
     "text": [
      "Grid Search Progress:  12%|█▍          | 3/25 [01:08<08:15, 22.54s/trial, Current Best Loss=0.17458]/home/user/kuei_jan_CHU/PGClustered_ESN/Methods/./Utils/global_utils.py:256: RuntimeWarning: divide by zero encountered in log10\n",
      "  s_dbfs = 20 * np.log10(s_mag)\n",
      "Grid Search Progress: 100%|███████████| 25/25 [09:18<00:00, 22.32s/trial, Current Best Loss=0.17420]\n",
      "{'radius': 0.7, 'sigma_input': 0.5, 'in_cluster_weight': 0.9}\n"
     ]
    }
   ],
   "source": [
    "!bash ./0_PGClustered_ESN_Tune.sh \"tune\" \"Lorenz96_F8_ALPHA9_DIM40\" 500 1 1 9 \"grid_search_for_icw_0.9_reservoir_size_500.json\" "
   ]
  },
  {
   "cell_type": "code",
   "execution_count": 88,
   "metadata": {},
   "outputs": [
    {
     "name": "stdout",
     "output_type": "stream",
     "text": [
      "{'radius': 0.7, 'sigma_input': 0.5, 'in_cluster_weight': 0.9}\n",
      "AVERAGE RMNSE ERROR ON TRAIN DATA SET: 1.4811371732318617 ± 0.0036738145952972794\n",
      "AVG NUMBER OF ACCURATE 0.5 PREDICTIONS ON TRAIN DATA SET: 0.6649255092497398 ± 0.037142103180174364\n",
      "AVG NUMBER OF ACCURATE 1 PREDICTIONS ON TRAIN DATA SET: 1.3641655773994175 ± 0.06681865713731167\n",
      "POWER SPECTRUM MEAN ERROR ON TRAIN DATA SET: 1.392923986353799 ± 0.18889738736206468\n",
      "TEMPORAL DISTANCE ON TRAIN DATA SET: 0.16342415108842082 ± 0.0021476140124757743\n",
      "GEOMETRICAL DISTANCE ON TRAIN DATA SET: 12.371220355484418 ± 0.07991862311849302\n",
      "\n",
      "\n",
      "AVERAGE RMNSE ERROR ON TEST DATA SET: 1.480304109756119 ± 0.004853016658839085\n",
      "AVG NUMBER OF ACCURATE 0.5 PREDICTIONS ON TEST DATA SET: 0.6370853954252619 ± 0.043451196694027465\n",
      "AVG NUMBER OF ACCURATE 1 PREDICTIONS ON TEST DATA SET: 1.3408575751277616 ± 0.08376590899699841\n",
      "POWER SPECTRUM MEAN ERROR ON TEST DATA SET: 1.5202103199122006 ± 0.14084491867377052\n",
      "TEMPORAL DISTANCE ON TEST DATA SET: 0.16432547367148648 ± 0.0025396026560618777\n",
      "GEOMETRICAL DISTANCE ON TEST DATA SET: 12.324722133848587 ± 0.10685451905216013\n"
     ]
    }
   ],
   "source": [
    "!bash ./1_PGClustered_ESN_Evaluate_Tuned_Model.sh \"evaluate_tuned_model\" \"Lorenz96_F8_ALPHA9_DIM40\" 500 1 1 9 \"grid_search_for_icw_0.9_reservoir_size_500.json\" "
   ]
  },
  {
   "cell_type": "code",
   "execution_count": 89,
   "metadata": {},
   "outputs": [
    {
     "name": "stdout",
     "output_type": "stream",
     "text": [
      "Grid Search Progress:  16%|█▉          | 4/25 [01:30<07:51, 22.47s/trial, Current Best Loss=0.19260]/home/user/kuei_jan_CHU/PGClustered_ESN/Methods/./Utils/global_utils.py:256: RuntimeWarning: divide by zero encountered in log10\n",
      "  s_dbfs = 20 * np.log10(s_mag)\n",
      "Grid Search Progress: 100%|███████████| 25/25 [09:23<00:00, 22.54s/trial, Current Best Loss=0.19211]\n",
      "{'radius': 0.7, 'sigma_input': 0.5, 'in_cluster_weight': 0.1}\n"
     ]
    }
   ],
   "source": [
    "!bash ./0_PGClustered_ESN_Tune.sh \"tune\" \"Lorenz96_F8_ALPHA10_DIM40\" 500 1 1 10 \"grid_search_for_icw_0.1_reservoir_size_500.json\" "
   ]
  },
  {
   "cell_type": "code",
   "execution_count": 90,
   "metadata": {},
   "outputs": [
    {
     "name": "stdout",
     "output_type": "stream",
     "text": [
      "{'radius': 0.7, 'sigma_input': 0.5, 'in_cluster_weight': 0.1}\n",
      "AVERAGE RMNSE ERROR ON TRAIN DATA SET: 1.476308990096582 ± 0.0036353514426019037\n",
      "AVG NUMBER OF ACCURATE 0.5 PREDICTIONS ON TRAIN DATA SET: 0.7231445505722408 ± 0.04649361608822472\n",
      "AVG NUMBER OF ACCURATE 1 PREDICTIONS ON TRAIN DATA SET: 1.542895052721412 ± 0.09906043131673396\n",
      "POWER SPECTRUM MEAN ERROR ON TRAIN DATA SET: 1.5976456176499458 ± 0.13861652069419597\n",
      "TEMPORAL DISTANCE ON TRAIN DATA SET: 0.1830925662748553 ± 0.0013241511510054082\n",
      "GEOMETRICAL DISTANCE ON TRAIN DATA SET: 12.114599303211559 ± 0.08753966464855147\n",
      "\n",
      "\n",
      "AVERAGE RMNSE ERROR ON TEST DATA SET: 1.4786708073229176 ± 0.003589456792857033\n",
      "AVG NUMBER OF ACCURATE 0.5 PREDICTIONS ON TEST DATA SET: 0.6748415747837755 ± 0.037724466119920225\n",
      "AVG NUMBER OF ACCURATE 1 PREDICTIONS ON TEST DATA SET: 1.3685843140065157 ± 0.06712752934321624\n",
      "POWER SPECTRUM MEAN ERROR ON TEST DATA SET: 1.5085103340643244 ± 0.10736561429249916\n",
      "TEMPORAL DISTANCE ON TEST DATA SET: 0.18385478085851187 ± 0.0012402677336911163\n",
      "GEOMETRICAL DISTANCE ON TEST DATA SET: 12.178233979534106 ± 0.10170355576091022\n"
     ]
    }
   ],
   "source": [
    "!bash ./1_PGClustered_ESN_Evaluate_Tuned_Model.sh \"evaluate_tuned_model\" \"Lorenz96_F8_ALPHA10_DIM40\" 500 1 1 10 \"grid_search_for_icw_0.1_reservoir_size_500.json\" "
   ]
  },
  {
   "cell_type": "code",
   "execution_count": 91,
   "metadata": {},
   "outputs": [
    {
     "name": "stdout",
     "output_type": "stream",
     "text": [
      "Grid Search Progress:  12%|█▍          | 3/25 [01:08<08:18, 22.64s/trial, Current Best Loss=0.19226]/home/user/kuei_jan_CHU/PGClustered_ESN/Methods/./Utils/global_utils.py:256: RuntimeWarning: divide by zero encountered in log10\n",
      "  s_dbfs = 20 * np.log10(s_mag)\n",
      "Grid Search Progress: 100%|███████████| 25/25 [09:19<00:00, 22.37s/trial, Current Best Loss=0.19167]\n",
      "{'radius': 0.99, 'sigma_input': 0.5, 'in_cluster_weight': 0.3}\n"
     ]
    }
   ],
   "source": [
    "!bash ./0_PGClustered_ESN_Tune.sh \"tune\" \"Lorenz96_F8_ALPHA10_DIM40\" 500 1 1 10 \"grid_search_for_icw_0.3_reservoir_size_500.json\" "
   ]
  },
  {
   "cell_type": "code",
   "execution_count": 92,
   "metadata": {},
   "outputs": [
    {
     "name": "stdout",
     "output_type": "stream",
     "text": [
      "{'radius': 0.99, 'sigma_input': 0.5, 'in_cluster_weight': 0.3}\n",
      "AVERAGE RMNSE ERROR ON TRAIN DATA SET: 1.4812585703264731 ± 0.004350721488185377\n",
      "AVG NUMBER OF ACCURATE 0.5 PREDICTIONS ON TRAIN DATA SET: 0.6412395046700606 ± 0.041674620422339416\n",
      "AVG NUMBER OF ACCURATE 1 PREDICTIONS ON TRAIN DATA SET: 1.3874854784454802 ± 0.0842265638824075\n",
      "POWER SPECTRUM MEAN ERROR ON TRAIN DATA SET: 1.5668977567594429 ± 0.15474585938259855\n",
      "TEMPORAL DISTANCE ON TRAIN DATA SET: 0.18304116129296474 ± 0.0016423760376673938\n",
      "GEOMETRICAL DISTANCE ON TRAIN DATA SET: 12.253710989772422 ± 0.08654353842559567\n",
      "\n",
      "\n",
      "AVERAGE RMNSE ERROR ON TEST DATA SET: 1.4831703271006096 ± 0.005124493380053467\n",
      "AVG NUMBER OF ACCURATE 0.5 PREDICTIONS ON TEST DATA SET: 0.58943631324475 ± 0.03280506965192938\n",
      "AVG NUMBER OF ACCURATE 1 PREDICTIONS ON TEST DATA SET: 1.249576982353775 ± 0.06828560988510604\n",
      "POWER SPECTRUM MEAN ERROR ON TEST DATA SET: 1.5493782852612423 ± 0.09769228906192332\n",
      "TEMPORAL DISTANCE ON TEST DATA SET: 0.1834895625198055 ± 0.001656698333911873\n",
      "GEOMETRICAL DISTANCE ON TEST DATA SET: 12.292339436735734 ± 0.09541659124441908\n"
     ]
    }
   ],
   "source": [
    "!bash ./1_PGClustered_ESN_Evaluate_Tuned_Model.sh \"evaluate_tuned_model\" \"Lorenz96_F8_ALPHA10_DIM40\" 500 1 1 10 \"grid_search_for_icw_0.3_reservoir_size_500.json\" "
   ]
  },
  {
   "cell_type": "code",
   "execution_count": 93,
   "metadata": {},
   "outputs": [
    {
     "name": "stdout",
     "output_type": "stream",
     "text": [
      "Grid Search Progress:  12%|█▍          | 3/25 [01:08<08:20, 22.73s/trial, Current Best Loss=0.19248]/home/user/kuei_jan_CHU/PGClustered_ESN/Methods/./Utils/global_utils.py:256: RuntimeWarning: divide by zero encountered in log10\n",
      "  s_dbfs = 20 * np.log10(s_mag)\n",
      "Grid Search Progress: 100%|███████████| 25/25 [09:20<00:00, 22.44s/trial, Current Best Loss=0.19107]\n",
      "{'radius': 0.99, 'sigma_input': 0.5, 'in_cluster_weight': 0.5}\n"
     ]
    }
   ],
   "source": [
    "!bash ./0_PGClustered_ESN_Tune.sh \"tune\" \"Lorenz96_F8_ALPHA10_DIM40\" 500 1 1 10 \"grid_search_for_icw_0.5_reservoir_size_500.json\" "
   ]
  },
  {
   "cell_type": "code",
   "execution_count": 94,
   "metadata": {},
   "outputs": [
    {
     "name": "stdout",
     "output_type": "stream",
     "text": [
      "{'radius': 0.99, 'sigma_input': 0.5, 'in_cluster_weight': 0.5}\n",
      "AVERAGE RMNSE ERROR ON TRAIN DATA SET: 1.4807448420245235 ± 0.004674188136184037\n",
      "AVG NUMBER OF ACCURATE 0.5 PREDICTIONS ON TRAIN DATA SET: 0.6412395046700606 ± 0.04306261114457027\n",
      "AVG NUMBER OF ACCURATE 1 PREDICTIONS ON TRAIN DATA SET: 1.3909856940823258 ± 0.07948187441711022\n",
      "POWER SPECTRUM MEAN ERROR ON TRAIN DATA SET: 1.5745895304876623 ± 0.13725000550764793\n",
      "TEMPORAL DISTANCE ON TRAIN DATA SET: 0.18304500986436373 ± 0.001477478661259246\n",
      "GEOMETRICAL DISTANCE ON TRAIN DATA SET: 12.24318248108949 ± 0.0896985945230985\n",
      "\n",
      "\n",
      "AVERAGE RMNSE ERROR ON TEST DATA SET: 1.4824218705953176 ± 0.004913330844823165\n",
      "AVG NUMBER OF ACCURATE 0.5 PREDICTIONS ON TEST DATA SET: 0.58943631324475 ± 0.04197924638574705\n",
      "AVG NUMBER OF ACCURATE 1 PREDICTIONS ON TEST DATA SET: 1.2418765079527154 ± 0.06846121147050743\n",
      "POWER SPECTRUM MEAN ERROR ON TEST DATA SET: 1.5727204474511072 ± 0.1274884268688902\n",
      "TEMPORAL DISTANCE ON TEST DATA SET: 0.18342152354585906 ± 0.001397628447460207\n",
      "GEOMETRICAL DISTANCE ON TEST DATA SET: 12.270264915616734 ± 0.10880614362792088\n"
     ]
    }
   ],
   "source": [
    "!bash ./1_PGClustered_ESN_Evaluate_Tuned_Model.sh \"evaluate_tuned_model\" \"Lorenz96_F8_ALPHA10_DIM40\" 500 1 1 10 \"grid_search_for_icw_0.5_reservoir_size_500.json\" "
   ]
  },
  {
   "cell_type": "code",
   "execution_count": 95,
   "metadata": {},
   "outputs": [
    {
     "name": "stdout",
     "output_type": "stream",
     "text": [
      "Grid Search Progress:  16%|█▉          | 4/25 [01:31<07:55, 22.64s/trial, Current Best Loss=0.19229]/home/user/kuei_jan_CHU/PGClustered_ESN/Methods/./Utils/global_utils.py:256: RuntimeWarning: divide by zero encountered in log10\n",
      "  s_dbfs = 20 * np.log10(s_mag)\n",
      "Grid Search Progress: 100%|███████████| 25/25 [09:25<00:00, 22.61s/trial, Current Best Loss=0.19118]\n",
      "{'radius': 0.9, 'sigma_input': 0.5, 'in_cluster_weight': 0.7}\n"
     ]
    }
   ],
   "source": [
    "!bash ./0_PGClustered_ESN_Tune.sh \"tune\" \"Lorenz96_F8_ALPHA10_DIM40\" 500 1 1 10 \"grid_search_for_icw_0.7_reservoir_size_500.json\" "
   ]
  },
  {
   "cell_type": "code",
   "execution_count": 96,
   "metadata": {},
   "outputs": [
    {
     "name": "stdout",
     "output_type": "stream",
     "text": [
      "{'radius': 0.9, 'sigma_input': 0.5, 'in_cluster_weight': 0.7}\n",
      "AVERAGE RMNSE ERROR ON TRAIN DATA SET: 1.478502318373883 ± 0.0058832389531193\n",
      "AVG NUMBER OF ACCURATE 0.5 PREDICTIONS ON TRAIN DATA SET: 0.6671411003827158 ± 0.04112418232609178\n",
      "AVG NUMBER OF ACCURATE 1 PREDICTIONS ON TRAIN DATA SET: 1.4553896618002793 ± 0.07007078527453442\n",
      "POWER SPECTRUM MEAN ERROR ON TRAIN DATA SET: 1.6334680605157785 ± 0.12324529307429392\n",
      "TEMPORAL DISTANCE ON TRAIN DATA SET: 0.1828989635428913 ± 0.002249305966784536\n",
      "GEOMETRICAL DISTANCE ON TRAIN DATA SET: 12.189745196002239 ± 0.09715435158968716\n",
      "\n",
      "\n",
      "AVERAGE RMNSE ERROR ON TEST DATA SET: 1.4802834709177 ± 0.005731588834428662\n",
      "AVG NUMBER OF ACCURATE 0.5 PREDICTIONS ON TEST DATA SET: 0.6104376070658218 ± 0.033543682458633026\n",
      "AVG NUMBER OF ACCURATE 1 PREDICTIONS ON TEST DATA SET: 1.28317905246749 ± 0.07985095870732221\n",
      "POWER SPECTRUM MEAN ERROR ON TEST DATA SET: 1.504062180816316 ± 0.13910434171976233\n",
      "TEMPORAL DISTANCE ON TEST DATA SET: 0.1835858070360923 ± 0.0020810091493146865\n",
      "GEOMETRICAL DISTANCE ON TEST DATA SET: 12.234931237728144 ± 0.12644896824059507\n"
     ]
    }
   ],
   "source": [
    "!bash ./1_PGClustered_ESN_Evaluate_Tuned_Model.sh \"evaluate_tuned_model\" \"Lorenz96_F8_ALPHA10_DIM40\" 500 1 1 10 \"grid_search_for_icw_0.7_reservoir_size_500.json\" "
   ]
  },
  {
   "cell_type": "code",
   "execution_count": 97,
   "metadata": {},
   "outputs": [
    {
     "name": "stdout",
     "output_type": "stream",
     "text": [
      "Grid Search Progress:  12%|█▍          | 3/25 [01:08<08:17, 22.63s/trial, Current Best Loss=0.19250]/home/user/kuei_jan_CHU/PGClustered_ESN/Methods/./Utils/global_utils.py:256: RuntimeWarning: divide by zero encountered in log10\n",
      "  s_dbfs = 20 * np.log10(s_mag)\n",
      "Grid Search Progress: 100%|███████████| 25/25 [09:21<00:00, 22.45s/trial, Current Best Loss=0.19047]\n",
      "{'radius': 0.7, 'sigma_input': 0.5, 'in_cluster_weight': 0.9}\n"
     ]
    }
   ],
   "source": [
    "!bash ./0_PGClustered_ESN_Tune.sh \"tune\" \"Lorenz96_F8_ALPHA10_DIM40\" 500 1 1 10 \"grid_search_for_icw_0.9_reservoir_size_500.json\" "
   ]
  },
  {
   "cell_type": "code",
   "execution_count": 98,
   "metadata": {},
   "outputs": [
    {
     "name": "stdout",
     "output_type": "stream",
     "text": [
      "{'radius': 0.7, 'sigma_input': 0.5, 'in_cluster_weight': 0.9}\n",
      "AVERAGE RMNSE ERROR ON TRAIN DATA SET: 1.476261655821278 ± 0.003986929285786509\n",
      "AVG NUMBER OF ACCURATE 0.5 PREDICTIONS ON TRAIN DATA SET: 0.6755416179111446 ± 0.03727359893813341\n",
      "AVG NUMBER OF ACCURATE 1 PREDICTIONS ON TRAIN DATA SET: 1.4623900930739697 ± 0.09218002458170127\n",
      "POWER SPECTRUM MEAN ERROR ON TRAIN DATA SET: 1.57353278233101 ± 0.13892895456772364\n",
      "TEMPORAL DISTANCE ON TRAIN DATA SET: 0.18270255336804908 ± 0.001594403321620421\n",
      "GEOMETRICAL DISTANCE ON TRAIN DATA SET: 12.146662886569448 ± 0.07722548553778313\n",
      "\n",
      "\n",
      "AVERAGE RMNSE ERROR ON TEST DATA SET: 1.4784495126852313 ± 0.00453830336462587\n",
      "AVG NUMBER OF ACCURATE 0.5 PREDICTIONS ON TEST DATA SET: 0.6167379952121435 ± 0.03743103828275486\n",
      "AVG NUMBER OF ACCURATE 1 PREDICTIONS ON TEST DATA SET: 1.302080216906455 ± 0.07694107740689628\n",
      "POWER SPECTRUM MEAN ERROR ON TEST DATA SET: 1.514919981831539 ± 0.11160769678366458\n",
      "TEMPORAL DISTANCE ON TEST DATA SET: 0.18349806354916592 ± 0.0016497011682959435\n",
      "GEOMETRICAL DISTANCE ON TEST DATA SET: 12.181452770391648 ± 0.08421499569055252\n"
     ]
    }
   ],
   "source": [
    "!bash ./1_PGClustered_ESN_Evaluate_Tuned_Model.sh \"evaluate_tuned_model\" \"Lorenz96_F8_ALPHA10_DIM40\" 500 1 1 10 \"grid_search_for_icw_0.9_reservoir_size_500.json\" "
   ]
  },
  {
   "cell_type": "markdown",
   "metadata": {},
   "source": [
    "# size 1000"
   ]
  },
  {
   "cell_type": "code",
   "execution_count": 99,
   "metadata": {},
   "outputs": [
    {
     "name": "stdout",
     "output_type": "stream",
     "text": [
      "Grid Search Progress:  12%|█▍          | 3/25 [01:23<10:06, 27.55s/trial, Current Best Loss=0.12459]/home/user/kuei_jan_CHU/PGClustered_ESN/Methods/./Utils/global_utils.py:256: RuntimeWarning: divide by zero encountered in log10\n",
      "  s_dbfs = 20 * np.log10(s_mag)\n",
      "Grid Search Progress: 100%|███████████| 25/25 [11:11<00:00, 26.88s/trial, Current Best Loss=0.12109]\n",
      "{'radius': 0.7, 'sigma_input': 0.1, 'in_cluster_weight': 0.1}\n"
     ]
    }
   ],
   "source": [
    "!bash ./0_PGClustered_ESN_Tune.sh \"tune\" \"Lorenz96_F8_ALPHA1_DIM40\" 1000 1 1 1 \"grid_search_for_icw_0.1_reservoir_size_1000.json\" "
   ]
  },
  {
   "cell_type": "code",
   "execution_count": 100,
   "metadata": {},
   "outputs": [
    {
     "name": "stdout",
     "output_type": "stream",
     "text": [
      "{'radius': 0.7, 'sigma_input': 0.1, 'in_cluster_weight': 0.1}\n",
      "AVERAGE RMNSE ERROR ON TRAIN DATA SET: 1.3804890845635838 ± 0.006162317992831726\n",
      "AVG NUMBER OF ACCURATE 0.5 PREDICTIONS ON TRAIN DATA SET: 2.1749374516273257 ± 0.08872046385093875\n",
      "AVG NUMBER OF ACCURATE 1 PREDICTIONS ON TRAIN DATA SET: 3.527626988762095 ± 0.2114283279360342\n",
      "POWER SPECTRUM MEAN ERROR ON TRAIN DATA SET: 0.5849614840839249 ± 0.3901566174285625\n",
      "TEMPORAL DISTANCE ON TRAIN DATA SET: 0.10874394171203731 ± 0.0020805976538411544\n",
      "GEOMETRICAL DISTANCE ON TRAIN DATA SET: 13.186705726276978 ± 0.08841222683362596\n",
      "\n",
      "\n",
      "AVERAGE RMNSE ERROR ON TEST DATA SET: 1.3865882080421985 ± 0.007983397703539487\n",
      "AVG NUMBER OF ACCURATE 0.5 PREDICTIONS ON TEST DATA SET: 1.9637751929244978 ± 0.11640773878514088\n",
      "AVG NUMBER OF ACCURATE 1 PREDICTIONS ON TEST DATA SET: 3.2203512440123823 ± 0.10942911440217472\n",
      "POWER SPECTRUM MEAN ERROR ON TEST DATA SET: 0.7160105225054263 ± 0.44804345869918233\n",
      "TEMPORAL DISTANCE ON TEST DATA SET: 0.10989817644297988 ± 0.0014909738244761137\n",
      "GEOMETRICAL DISTANCE ON TEST DATA SET: 13.18728572646135 ± 0.09530668452451918\n"
     ]
    }
   ],
   "source": [
    "!bash ./1_PGClustered_ESN_Evaluate_Tuned_Model.sh \"evaluate_tuned_model\" \"Lorenz96_F8_ALPHA1_DIM40\" 1000 1 1 1 \"grid_search_for_icw_0.1_reservoir_size_1000.json\" "
   ]
  },
  {
   "cell_type": "code",
   "execution_count": 101,
   "metadata": {},
   "outputs": [
    {
     "name": "stdout",
     "output_type": "stream",
     "text": [
      "Grid Search Progress:   8%|▉           | 2/25 [00:57<10:51, 28.30s/trial, Current Best Loss=0.12413]/home/user/kuei_jan_CHU/PGClustered_ESN/Methods/./Utils/global_utils.py:256: RuntimeWarning: divide by zero encountered in log10\n",
      "  s_dbfs = 20 * np.log10(s_mag)\n",
      "Grid Search Progress: 100%|███████████| 25/25 [11:11<00:00, 26.87s/trial, Current Best Loss=0.12203]\n",
      "{'radius': 0.4, 'sigma_input': 0.1, 'in_cluster_weight': 0.3}\n"
     ]
    }
   ],
   "source": [
    "!bash ./0_PGClustered_ESN_Tune.sh \"tune\" \"Lorenz96_F8_ALPHA1_DIM40\" 1000 1 1 1 \"grid_search_for_icw_0.3_reservoir_size_1000.json\" "
   ]
  },
  {
   "cell_type": "code",
   "execution_count": 102,
   "metadata": {},
   "outputs": [
    {
     "name": "stdout",
     "output_type": "stream",
     "text": [
      "{'radius': 0.4, 'sigma_input': 0.1, 'in_cluster_weight': 0.3}\n",
      "AVERAGE RMNSE ERROR ON TRAIN DATA SET: 1.3783326302087522 ± 0.005352800161976239\n",
      "AVG NUMBER OF ACCURATE 0.5 PREDICTIONS ON TRAIN DATA SET: 2.238759511403401 ± 0.07655791568569802\n",
      "AVG NUMBER OF ACCURATE 1 PREDICTIONS ON TRAIN DATA SET: 3.587222422062932 ± 0.21246346166623648\n",
      "POWER SPECTRUM MEAN ERROR ON TRAIN DATA SET: 0.4640245301484859 ± 0.22980413637298858\n",
      "TEMPORAL DISTANCE ON TRAIN DATA SET: 0.10961957604936681 ± 0.0016904170645662701\n",
      "GEOMETRICAL DISTANCE ON TRAIN DATA SET: 13.163903759341071 ± 0.0945597657172611\n",
      "\n",
      "\n",
      "AVERAGE RMNSE ERROR ON TEST DATA SET: 1.383402316648994 ± 0.006998264448959545\n",
      "AVG NUMBER OF ACCURATE 0.5 PREDICTIONS ON TEST DATA SET: 1.973580966347047 ± 0.11895415028905586\n",
      "AVG NUMBER OF ACCURATE 1 PREDICTIONS ON TEST DATA SET: 3.260419662997627 ± 0.15715458906537214\n",
      "POWER SPECTRUM MEAN ERROR ON TEST DATA SET: 0.7537643912405312 ± 0.46522281494022266\n",
      "TEMPORAL DISTANCE ON TEST DATA SET: 0.11013829204940828 ± 0.002112299276308542\n",
      "GEOMETRICAL DISTANCE ON TEST DATA SET: 13.14260812226548 ± 0.13384857203218758\n"
     ]
    }
   ],
   "source": [
    "!bash ./1_PGClustered_ESN_Evaluate_Tuned_Model.sh \"evaluate_tuned_model\" \"Lorenz96_F8_ALPHA1_DIM40\" 1000 1 1 1 \"grid_search_for_icw_0.3_reservoir_size_1000.json\" "
   ]
  },
  {
   "cell_type": "code",
   "execution_count": 103,
   "metadata": {},
   "outputs": [
    {
     "name": "stdout",
     "output_type": "stream",
     "text": [
      "Grid Search Progress:   8%|▉           | 2/25 [00:56<10:46, 28.10s/trial, Current Best Loss=0.12464]/home/user/kuei_jan_CHU/PGClustered_ESN/Methods/./Utils/global_utils.py:256: RuntimeWarning: divide by zero encountered in log10\n",
      "  s_dbfs = 20 * np.log10(s_mag)\n",
      "Grid Search Progress: 100%|███████████| 25/25 [11:05<00:00, 26.61s/trial, Current Best Loss=0.12367]\n",
      "{'radius': 0.7, 'sigma_input': 0.1, 'in_cluster_weight': 0.7}\n"
     ]
    }
   ],
   "source": [
    "!bash ./0_PGClustered_ESN_Tune.sh \"tune\" \"Lorenz96_F8_ALPHA1_DIM40\" 1000 1 1 1 \"grid_search_for_icw_0.7_reservoir_size_1000.json\" "
   ]
  },
  {
   "cell_type": "code",
   "execution_count": 104,
   "metadata": {},
   "outputs": [
    {
     "name": "stdout",
     "output_type": "stream",
     "text": [
      "{'radius': 0.7, 'sigma_input': 0.1, 'in_cluster_weight': 0.7}\n",
      "AVERAGE RMNSE ERROR ON TRAIN DATA SET: 1.381391230471289 ± 0.007505132088248256\n",
      "AVG NUMBER OF ACCURATE 0.5 PREDICTIONS ON TRAIN DATA SET: 2.199198287595185 ± 0.09088029305444727\n",
      "AVG NUMBER OF ACCURATE 1 PREDICTIONS ON TRAIN DATA SET: 3.5687097981013958 ± 0.2068386975371213\n",
      "POWER SPECTRUM MEAN ERROR ON TRAIN DATA SET: 0.4812039531304545 ± 0.31394894576395593\n",
      "TEMPORAL DISTANCE ON TRAIN DATA SET: 0.10851154420443512 ± 0.002115130702956826\n",
      "GEOMETRICAL DISTANCE ON TRAIN DATA SET: 13.181555591742406 ± 0.09734125110720297\n",
      "\n",
      "\n",
      "AVERAGE RMNSE ERROR ON TEST DATA SET: 1.3830615837412377 ± 0.004089859402485143\n",
      "AVG NUMBER OF ACCURATE 0.5 PREDICTIONS ON TEST DATA SET: 1.987275236126814 ± 0.10930873247576282\n",
      "AVG NUMBER OF ACCURATE 1 PREDICTIONS ON TEST DATA SET: 3.275128323131452 ± 0.19163403251432023\n",
      "POWER SPECTRUM MEAN ERROR ON TEST DATA SET: 0.7613616191950933 ± 0.4486486213084774\n",
      "TEMPORAL DISTANCE ON TEST DATA SET: 0.11000291498835893 ± 0.0012163807076059593\n",
      "GEOMETRICAL DISTANCE ON TEST DATA SET: 13.153671676309804 ± 0.0740222921067812\n"
     ]
    }
   ],
   "source": [
    "!bash ./1_PGClustered_ESN_Evaluate_Tuned_Model.sh \"evaluate_tuned_model\" \"Lorenz96_F8_ALPHA1_DIM40\" 1000 1 1 1 \"grid_search_for_icw_0.7_reservoir_size_1000.json\" "
   ]
  },
  {
   "cell_type": "code",
   "execution_count": 105,
   "metadata": {},
   "outputs": [
    {
     "name": "stdout",
     "output_type": "stream",
     "text": [
      "Grid Search Progress:   8%|▉           | 2/25 [00:56<10:43, 27.99s/trial, Current Best Loss=0.12364]/home/user/kuei_jan_CHU/PGClustered_ESN/Methods/./Utils/global_utils.py:256: RuntimeWarning: divide by zero encountered in log10\n",
      "  s_dbfs = 20 * np.log10(s_mag)\n",
      "Grid Search Progress: 100%|███████████| 25/25 [11:07<00:00, 26.69s/trial, Current Best Loss=0.12067]\n",
      "{'radius': 0.7, 'sigma_input': 0.1, 'in_cluster_weight': 0.9}\n"
     ]
    }
   ],
   "source": [
    "!bash ./0_PGClustered_ESN_Tune.sh \"tune\" \"Lorenz96_F8_ALPHA1_DIM40\" 1000 1 1 1 \"grid_search_for_icw_0.9_reservoir_size_1000.json\"  "
   ]
  },
  {
   "cell_type": "code",
   "execution_count": 106,
   "metadata": {},
   "outputs": [
    {
     "name": "stdout",
     "output_type": "stream",
     "text": [
      "{'radius': 0.7, 'sigma_input': 0.1, 'in_cluster_weight': 0.9}\n",
      "AVERAGE RMNSE ERROR ON TRAIN DATA SET: 1.382115571211782 ± 0.007401682168593267\n",
      "AVG NUMBER OF ACCURATE 0.5 PREDICTIONS ON TRAIN DATA SET: 2.220077822382854 ± 0.10933330964698423\n",
      "AVG NUMBER OF ACCURATE 1 PREDICTIONS ON TRAIN DATA SET: 3.584770978707295 ± 0.22080393475293433\n",
      "POWER SPECTRUM MEAN ERROR ON TRAIN DATA SET: 0.48130986010578053 ± 0.25506512883151683\n",
      "TEMPORAL DISTANCE ON TRAIN DATA SET: 0.10829751894032065 ± 0.0019736290289462254\n",
      "GEOMETRICAL DISTANCE ON TRAIN DATA SET: 13.167326348219206 ± 0.11363529336618074\n",
      "\n",
      "\n",
      "AVERAGE RMNSE ERROR ON TEST DATA SET: 1.3854075857781947 ± 0.008279225971682408\n",
      "AVG NUMBER OF ACCURATE 0.5 PREDICTIONS ON TEST DATA SET: 1.9924317204266029 ± 0.12417422890529999\n",
      "AVG NUMBER OF ACCURATE 1 PREDICTIONS ON TEST DATA SET: 3.2994736916288145 ± 0.16162336684754827\n",
      "POWER SPECTRUM MEAN ERROR ON TEST DATA SET: 0.7838286698704181 ± 0.2989272416950716\n",
      "TEMPORAL DISTANCE ON TEST DATA SET: 0.10902493178355173 ± 0.0021444493492193597\n",
      "GEOMETRICAL DISTANCE ON TEST DATA SET: 13.189210926058205 ± 0.08302473705525455\n"
     ]
    }
   ],
   "source": [
    "!bash ./1_PGClustered_ESN_Evaluate_Tuned_Model.sh \"evaluate_tuned_model\" \"Lorenz96_F8_ALPHA1_DIM40\" 1000 1 1 1 \"grid_search_for_icw_0.9_reservoir_size_1000.json\" "
   ]
  },
  {
   "cell_type": "code",
   "execution_count": 107,
   "metadata": {},
   "outputs": [
    {
     "name": "stdout",
     "output_type": "stream",
     "text": [
      "Grid Search Progress:  12%|█▍          | 3/25 [01:24<10:09, 27.70s/trial, Current Best Loss=0.11395]/home/user/kuei_jan_CHU/PGClustered_ESN/Methods/./Utils/global_utils.py:256: RuntimeWarning: divide by zero encountered in log10\n",
      "  s_dbfs = 20 * np.log10(s_mag)\n",
      "Grid Search Progress: 100%|███████████| 25/25 [11:09<00:00, 26.76s/trial, Current Best Loss=0.11326]\n",
      "{'radius': 0.4, 'sigma_input': 0.1, 'in_cluster_weight': 0.1}\n"
     ]
    }
   ],
   "source": [
    "!bash ./0_PGClustered_ESN_Tune.sh \"tune\" \"Lorenz96_F8_ALPHA2_DIM40\" 1000 1 1 2 \"grid_search_for_icw_0.1_reservoir_size_1000.json\" "
   ]
  },
  {
   "cell_type": "code",
   "execution_count": 108,
   "metadata": {},
   "outputs": [
    {
     "name": "stdout",
     "output_type": "stream",
     "text": [
      "{'radius': 0.4, 'sigma_input': 0.1, 'in_cluster_weight': 0.1}\n",
      "AVERAGE RMNSE ERROR ON TRAIN DATA SET: 1.3758642225490596 ± 0.008087591106964847\n",
      "AVG NUMBER OF ACCURATE 0.5 PREDICTIONS ON TRAIN DATA SET: 2.5510805334027724 ± 0.09047821985259584\n",
      "AVG NUMBER OF ACCURATE 1 PREDICTIONS ON TRAIN DATA SET: 3.9293186845620696 ± 0.21545398957340017\n",
      "POWER SPECTRUM MEAN ERROR ON TRAIN DATA SET: 0.755902203006815 ± 0.24962843992762487\n",
      "TEMPORAL DISTANCE ON TRAIN DATA SET: 0.09685628059582783 ± 0.001041324565424402\n",
      "GEOMETRICAL DISTANCE ON TRAIN DATA SET: 12.429241895446637 ± 0.14475953994451565\n",
      "\n",
      "\n",
      "AVERAGE RMNSE ERROR ON TEST DATA SET: 1.3786829972113073 ± 0.007021477245570617\n",
      "AVG NUMBER OF ACCURATE 0.5 PREDICTIONS ON TEST DATA SET: 2.385691955263657 ± 0.06977087748062825\n",
      "AVG NUMBER OF ACCURATE 1 PREDICTIONS ON TEST DATA SET: 3.599115794180155 ± 0.13949868343709795\n",
      "POWER SPECTRUM MEAN ERROR ON TEST DATA SET: 0.5746245527899417 ± 0.29197597264369907\n",
      "TEMPORAL DISTANCE ON TEST DATA SET: 0.09812515041800093 ± 0.0009686684290420516\n",
      "GEOMETRICAL DISTANCE ON TEST DATA SET: 12.314941118699235 ± 0.10351171295570633\n"
     ]
    }
   ],
   "source": [
    "!bash ./1_PGClustered_ESN_Evaluate_Tuned_Model.sh \"evaluate_tuned_model\" \"Lorenz96_F8_ALPHA2_DIM40\" 1000 1 1 2 \"grid_search_for_icw_0.1_reservoir_size_1000.json\" "
   ]
  },
  {
   "cell_type": "code",
   "execution_count": 109,
   "metadata": {},
   "outputs": [
    {
     "name": "stdout",
     "output_type": "stream",
     "text": [
      "Grid Search Progress:  12%|█▍          | 3/25 [01:22<09:57, 27.17s/trial, Current Best Loss=0.11621]/home/user/kuei_jan_CHU/PGClustered_ESN/Methods/./Utils/global_utils.py:256: RuntimeWarning: divide by zero encountered in log10\n",
      "  s_dbfs = 20 * np.log10(s_mag)\n",
      "Grid Search Progress: 100%|███████████| 25/25 [11:05<00:00, 26.61s/trial, Current Best Loss=0.11320]\n",
      "{'radius': 0.4, 'sigma_input': 0.1, 'in_cluster_weight': 0.3}\n"
     ]
    }
   ],
   "source": [
    "!bash ./0_PGClustered_ESN_Tune.sh \"tune\" \"Lorenz96_F8_ALPHA2_DIM40\" 1000 1 1 2 \"grid_search_for_icw_0.3_reservoir_size_1000.json\"  "
   ]
  },
  {
   "cell_type": "code",
   "execution_count": 110,
   "metadata": {},
   "outputs": [
    {
     "name": "stdout",
     "output_type": "stream",
     "text": [
      "{'radius': 0.4, 'sigma_input': 0.1, 'in_cluster_weight': 0.3}\n",
      "AVERAGE RMNSE ERROR ON TRAIN DATA SET: 1.3798143149838418 ± 0.006531917017540658\n",
      "AVG NUMBER OF ACCURATE 0.5 PREDICTIONS ON TRAIN DATA SET: 2.55471755074611 ± 0.0908566971915406\n",
      "AVG NUMBER OF ACCURATE 1 PREDICTIONS ON TRAIN DATA SET: 3.94999225682946 ± 0.23196954174062462\n",
      "POWER SPECTRUM MEAN ERROR ON TRAIN DATA SET: 0.7420247633695343 ± 0.39285077444379296\n",
      "TEMPORAL DISTANCE ON TRAIN DATA SET: 0.09677719917771806 ± 0.0009863442316817247\n",
      "GEOMETRICAL DISTANCE ON TRAIN DATA SET: 12.47216982773052 ± 0.09292146419605266\n",
      "\n",
      "\n",
      "AVERAGE RMNSE ERROR ON TEST DATA SET: 1.3794712196229344 ± 0.007201468274156048\n",
      "AVG NUMBER OF ACCURATE 0.5 PREDICTIONS ON TEST DATA SET: 2.3883718627798 ± 0.06816638054457651\n",
      "AVG NUMBER OF ACCURATE 1 PREDICTIONS ON TEST DATA SET: 3.5931817132515524 ± 0.13029341060457023\n",
      "POWER SPECTRUM MEAN ERROR ON TEST DATA SET: 0.6584407905413033 ± 0.3206761365671916\n",
      "TEMPORAL DISTANCE ON TEST DATA SET: 0.0981559262333572 ± 0.0011822027766416835\n",
      "GEOMETRICAL DISTANCE ON TEST DATA SET: 12.308481617590925 ± 0.12328761441145614\n"
     ]
    }
   ],
   "source": [
    "!bash ./1_PGClustered_ESN_Evaluate_Tuned_Model.sh \"evaluate_tuned_model\" \"Lorenz96_F8_ALPHA2_DIM40\" 1000 1 1 2 \"grid_search_for_icw_0.3_reservoir_size_1000.json\" "
   ]
  },
  {
   "cell_type": "code",
   "execution_count": 111,
   "metadata": {},
   "outputs": [
    {
     "name": "stdout",
     "output_type": "stream",
     "text": [
      "Grid Search Progress:  12%|█▍          | 3/25 [01:23<10:01, 27.32s/trial, Current Best Loss=0.11527]/home/user/kuei_jan_CHU/PGClustered_ESN/Methods/./Utils/global_utils.py:256: RuntimeWarning: divide by zero encountered in log10\n",
      "  s_dbfs = 20 * np.log10(s_mag)\n",
      "Grid Search Progress: 100%|███████████| 25/25 [11:07<00:00, 26.71s/trial, Current Best Loss=0.11330]\n",
      "{'radius': 0.7, 'sigma_input': 0.1, 'in_cluster_weight': 0.5}\n"
     ]
    }
   ],
   "source": [
    "!bash ./0_PGClustered_ESN_Tune.sh \"tune\" \"Lorenz96_F8_ALPHA2_DIM40\" 1000 1 1 2 \"grid_search_for_icw_0.5_reservoir_size_1000.json\"  "
   ]
  },
  {
   "cell_type": "code",
   "execution_count": 112,
   "metadata": {},
   "outputs": [
    {
     "name": "stdout",
     "output_type": "stream",
     "text": [
      "{'radius': 0.7, 'sigma_input': 0.1, 'in_cluster_weight': 0.5}\n",
      "AVERAGE RMNSE ERROR ON TRAIN DATA SET: 1.3830665970805875 ± 0.006647037536690221\n",
      "AVG NUMBER OF ACCURATE 0.5 PREDICTIONS ON TRAIN DATA SET: 2.517390267485545 ± 0.11264641890106643\n",
      "AVG NUMBER OF ACCURATE 1 PREDICTIONS ON TRAIN DATA SET: 3.886631586269221 ± 0.18038247493333112\n",
      "POWER SPECTRUM MEAN ERROR ON TRAIN DATA SET: 0.9117518804485722 ± 0.3867020716118397\n",
      "TEMPORAL DISTANCE ON TRAIN DATA SET: 0.09679713130013853 ± 0.0011142951676764458\n",
      "GEOMETRICAL DISTANCE ON TRAIN DATA SET: 12.550659660793308 ± 0.1174140904907139\n",
      "\n",
      "\n",
      "AVERAGE RMNSE ERROR ON TEST DATA SET: 1.38333731734362 ± 0.005712786891484168\n",
      "AVG NUMBER OF ACCURATE 0.5 PREDICTIONS ON TEST DATA SET: 2.3941145217429636 ± 0.09857971031468431\n",
      "AVG NUMBER OF ACCURATE 1 PREDICTIONS ON TEST DATA SET: 3.5767194242238167 ± 0.1644709067579683\n",
      "POWER SPECTRUM MEAN ERROR ON TEST DATA SET: 0.4808322003845915 ± 0.2960566651276779\n",
      "TEMPORAL DISTANCE ON TEST DATA SET: 0.0972648756291598 ± 0.0012708223032190694\n",
      "GEOMETRICAL DISTANCE ON TEST DATA SET: 12.402872435488444 ± 0.10957285265292858\n"
     ]
    }
   ],
   "source": [
    "!bash ./1_PGClustered_ESN_Evaluate_Tuned_Model.sh \"evaluate_tuned_model\" \"Lorenz96_F8_ALPHA2_DIM40\" 1000 1 1 2 \"grid_search_for_icw_0.5_reservoir_size_1000.json\" "
   ]
  },
  {
   "cell_type": "code",
   "execution_count": 113,
   "metadata": {},
   "outputs": [
    {
     "name": "stdout",
     "output_type": "stream",
     "text": [
      "Grid Search Progress:  12%|█▍          | 3/25 [01:23<10:01, 27.34s/trial, Current Best Loss=0.11402]/home/user/kuei_jan_CHU/PGClustered_ESN/Methods/./Utils/global_utils.py:256: RuntimeWarning: divide by zero encountered in log10\n",
      "  s_dbfs = 20 * np.log10(s_mag)\n",
      "Grid Search Progress: 100%|███████████| 25/25 [11:07<00:00, 26.70s/trial, Current Best Loss=0.11356]\n",
      "{'radius': 0.9, 'sigma_input': 0.1, 'in_cluster_weight': 0.7}\n"
     ]
    }
   ],
   "source": [
    "!bash ./0_PGClustered_ESN_Tune.sh \"tune\" \"Lorenz96_F8_ALPHA2_DIM40\" 1000 1 1 2 \"grid_search_for_icw_0.7_reservoir_size_1000.json\"  "
   ]
  },
  {
   "cell_type": "code",
   "execution_count": 114,
   "metadata": {},
   "outputs": [
    {
     "name": "stdout",
     "output_type": "stream",
     "text": [
      "{'radius': 0.9, 'sigma_input': 0.1, 'in_cluster_weight': 0.7}\n",
      "AVERAGE RMNSE ERROR ON TRAIN DATA SET: 1.385274981083488 ± 0.006803049470809811\n",
      "AVG NUMBER OF ACCURATE 0.5 PREDICTIONS ON TRAIN DATA SET: 2.4010057124987605 ± 0.15442082443918503\n",
      "AVG NUMBER OF ACCURATE 1 PREDICTIONS ON TRAIN DATA SET: 3.7038236092751737 ± 0.2451291870504398\n",
      "POWER SPECTRUM MEAN ERROR ON TRAIN DATA SET: 0.7994863783348709 ± 0.40657068955767195\n",
      "TEMPORAL DISTANCE ON TRAIN DATA SET: 0.09640738373540826 ± 0.0008890200006524422\n",
      "GEOMETRICAL DISTANCE ON TRAIN DATA SET: 12.569392442421584 ± 0.08773991545049119\n",
      "\n",
      "\n",
      "AVERAGE RMNSE ERROR ON TEST DATA SET: 1.3857233747180628 ± 0.006211794457366603\n",
      "AVG NUMBER OF ACCURATE 0.5 PREDICTIONS ON TEST DATA SET: 2.309697434984457 ± 0.10186166960017452\n",
      "AVG NUMBER OF ACCURATE 1 PREDICTIONS ON TEST DATA SET: 3.470288811439849 ± 0.15765769199440272\n",
      "POWER SPECTRUM MEAN ERROR ON TEST DATA SET: 0.4668350541048931 ± 0.22068571386448443\n",
      "TEMPORAL DISTANCE ON TEST DATA SET: 0.09764192620088183 ± 0.0010309415141722099\n",
      "GEOMETRICAL DISTANCE ON TEST DATA SET: 12.431427484720171 ± 0.11595810805298933\n"
     ]
    }
   ],
   "source": [
    "!bash ./1_PGClustered_ESN_Evaluate_Tuned_Model.sh \"evaluate_tuned_model\" \"Lorenz96_F8_ALPHA2_DIM40\" 1000 1 1 2 \"grid_search_for_icw_0.7_reservoir_size_1000.json\" "
   ]
  },
  {
   "cell_type": "code",
   "execution_count": 115,
   "metadata": {},
   "outputs": [
    {
     "name": "stdout",
     "output_type": "stream",
     "text": [
      "Grid Search Progress:  12%|█▍          | 3/25 [01:22<09:56, 27.11s/trial, Current Best Loss=0.11461]/home/user/kuei_jan_CHU/PGClustered_ESN/Methods/./Utils/global_utils.py:256: RuntimeWarning: divide by zero encountered in log10\n",
      "  s_dbfs = 20 * np.log10(s_mag)\n",
      "Grid Search Progress: 100%|███████████| 25/25 [11:04<00:00, 26.56s/trial, Current Best Loss=0.11278]\n",
      "{'radius': 0.7, 'sigma_input': 0.1, 'in_cluster_weight': 0.9}\n"
     ]
    }
   ],
   "source": [
    "!bash ./0_PGClustered_ESN_Tune.sh \"tune\" \"Lorenz96_F8_ALPHA2_DIM40\" 1000 1 1 2 \"grid_search_for_icw_0.9_reservoir_size_1000.json\" "
   ]
  },
  {
   "cell_type": "code",
   "execution_count": 116,
   "metadata": {},
   "outputs": [
    {
     "name": "stdout",
     "output_type": "stream",
     "text": [
      "{'radius': 0.7, 'sigma_input': 0.1, 'in_cluster_weight': 0.9}\n",
      "AVERAGE RMNSE ERROR ON TRAIN DATA SET: 1.389856483470294 ± 0.0035528082054759745\n",
      "AVG NUMBER OF ACCURATE 0.5 PREDICTIONS ON TRAIN DATA SET: 2.5692656201194572 ± 0.12415540729011039\n",
      "AVG NUMBER OF ACCURATE 1 PREDICTIONS ON TRAIN DATA SET: 3.982916834884932 ± 0.17712594185360003\n",
      "POWER SPECTRUM MEAN ERROR ON TRAIN DATA SET: 0.866787604726491 ± 0.42220868916710397\n",
      "TEMPORAL DISTANCE ON TRAIN DATA SET: 0.09551558701608498 ± 0.0011358941703174888\n",
      "GEOMETRICAL DISTANCE ON TRAIN DATA SET: 12.663507823364284 ± 0.08528022988170864\n",
      "\n",
      "\n",
      "AVERAGE RMNSE ERROR ON TEST DATA SET: 1.389446658519681 ± 0.004733120412874856\n",
      "AVG NUMBER OF ACCURATE 0.5 PREDICTIONS ON TEST DATA SET: 2.5045649958011458 ± 0.10208804591375611\n",
      "AVG NUMBER OF ACCURATE 1 PREDICTIONS ON TEST DATA SET: 3.708226314480266 ± 0.17155680382948768\n",
      "POWER SPECTRUM MEAN ERROR ON TEST DATA SET: 0.3963902293492618 ± 0.22296026746836975\n",
      "TEMPORAL DISTANCE ON TEST DATA SET: 0.09677228746338562 ± 0.0011013077322084887\n",
      "GEOMETRICAL DISTANCE ON TEST DATA SET: 12.546734636896291 ± 0.07621631191659266\n"
     ]
    }
   ],
   "source": [
    "!bash ./1_PGClustered_ESN_Evaluate_Tuned_Model.sh \"evaluate_tuned_model\" \"Lorenz96_F8_ALPHA2_DIM40\" 1000 1 1 2 \"grid_search_for_icw_0.9_reservoir_size_1000.json\" "
   ]
  },
  {
   "cell_type": "code",
   "execution_count": 117,
   "metadata": {},
   "outputs": [
    {
     "name": "stdout",
     "output_type": "stream",
     "text": [
      "Grid Search Progress:  16%|█▉          | 4/25 [01:50<09:28, 27.05s/trial, Current Best Loss=0.11687]/home/user/kuei_jan_CHU/PGClustered_ESN/Methods/./Utils/global_utils.py:256: RuntimeWarning: divide by zero encountered in log10\n",
      "  s_dbfs = 20 * np.log10(s_mag)\n",
      "Grid Search Progress: 100%|███████████| 25/25 [11:16<00:00, 27.05s/trial, Current Best Loss=0.10914]\n",
      "{'radius': 0.7, 'sigma_input': 0.1, 'in_cluster_weight': 0.1}\n"
     ]
    }
   ],
   "source": [
    "!bash ./0_PGClustered_ESN_Tune.sh \"tune\" \"Lorenz96_F8_ALPHA3_DIM40\" 1000 1 1 3 \"grid_search_for_icw_0.1_reservoir_size_1000.json\"   "
   ]
  },
  {
   "cell_type": "code",
   "execution_count": 118,
   "metadata": {},
   "outputs": [
    {
     "name": "stdout",
     "output_type": "stream",
     "text": [
      "{'radius': 0.7, 'sigma_input': 0.1, 'in_cluster_weight': 0.1}\n",
      "AVERAGE RMNSE ERROR ON TRAIN DATA SET: 1.3709342823460302 ± 0.009779939682814704\n",
      "AVG NUMBER OF ACCURATE 0.5 PREDICTIONS ON TRAIN DATA SET: 2.4676615544417464 ± 0.12772209621882513\n",
      "AVG NUMBER OF ACCURATE 1 PREDICTIONS ON TRAIN DATA SET: 3.518769796604115 ± 0.17695268659037697\n",
      "POWER SPECTRUM MEAN ERROR ON TRAIN DATA SET: 0.4034309397438788 ± 0.20464766955090294\n",
      "TEMPORAL DISTANCE ON TRAIN DATA SET: 0.09270267463161068 ± 0.0011107128622185561\n",
      "GEOMETRICAL DISTANCE ON TRAIN DATA SET: 11.722045499464533 ± 0.11988804392924361\n",
      "\n",
      "\n",
      "AVERAGE RMNSE ERROR ON TEST DATA SET: 1.3748552200994837 ± 0.007590679851980183\n",
      "AVG NUMBER OF ACCURATE 0.5 PREDICTIONS ON TEST DATA SET: 2.4953002572237057 ± 0.10571849684883577\n",
      "AVG NUMBER OF ACCURATE 1 PREDICTIONS ON TEST DATA SET: 3.5533879697855584 ± 0.16918696933193703\n",
      "POWER SPECTRUM MEAN ERROR ON TEST DATA SET: 0.9476953857904536 ± 0.39092859282733455\n",
      "TEMPORAL DISTANCE ON TEST DATA SET: 0.09188717460674611 ± 0.001252941725457974\n",
      "GEOMETRICAL DISTANCE ON TEST DATA SET: 11.70300163180266 ± 0.1419139358332851\n"
     ]
    }
   ],
   "source": [
    "!bash ./1_PGClustered_ESN_Evaluate_Tuned_Model.sh \"evaluate_tuned_model\" \"Lorenz96_F8_ALPHA3_DIM40\" 1000 1 1 3 \"grid_search_for_icw_0.1_reservoir_size_1000.json\" "
   ]
  },
  {
   "cell_type": "code",
   "execution_count": 119,
   "metadata": {},
   "outputs": [
    {
     "name": "stdout",
     "output_type": "stream",
     "text": [
      "Grid Search Progress:  16%|█▉          | 4/25 [01:48<09:21, 26.74s/trial, Current Best Loss=0.11643]/home/user/kuei_jan_CHU/PGClustered_ESN/Methods/./Utils/global_utils.py:256: RuntimeWarning: divide by zero encountered in log10\n",
      "  s_dbfs = 20 * np.log10(s_mag)\n",
      "Grid Search Progress: 100%|███████████| 25/25 [11:09<00:00, 26.80s/trial, Current Best Loss=0.10850]\n",
      "{'radius': 0.7, 'sigma_input': 0.1, 'in_cluster_weight': 0.3}\n"
     ]
    }
   ],
   "source": [
    "!bash ./0_PGClustered_ESN_Tune.sh \"tune\" \"Lorenz96_F8_ALPHA3_DIM40\" 1000 1 1 3 \"grid_search_for_icw_0.3_reservoir_size_1000.json\"  "
   ]
  },
  {
   "cell_type": "code",
   "execution_count": 120,
   "metadata": {},
   "outputs": [
    {
     "name": "stdout",
     "output_type": "stream",
     "text": [
      "{'radius': 0.7, 'sigma_input': 0.1, 'in_cluster_weight': 0.3}\n",
      "AVERAGE RMNSE ERROR ON TRAIN DATA SET: 1.3708459115731597 ± 0.008202498206582245\n",
      "AVG NUMBER OF ACCURATE 0.5 PREDICTIONS ON TRAIN DATA SET: 2.4844122834005096 ± 0.13369692487419238\n",
      "AVG NUMBER OF ACCURATE 1 PREDICTIONS ON TRAIN DATA SET: 3.5120695050206097 ± 0.15721510766083416\n",
      "POWER SPECTRUM MEAN ERROR ON TRAIN DATA SET: 0.39653978362438014 ± 0.16327149452133827\n",
      "TEMPORAL DISTANCE ON TRAIN DATA SET: 0.09218761392902085 ± 0.0012774241287413202\n",
      "GEOMETRICAL DISTANCE ON TRAIN DATA SET: 11.72877458333727 ± 0.11593099596351994\n",
      "\n",
      "\n",
      "AVERAGE RMNSE ERROR ON TEST DATA SET: 1.3719092228681815 ± 0.008276818247871128\n",
      "AVG NUMBER OF ACCURATE 0.5 PREDICTIONS ON TEST DATA SET: 2.507863303942777 ± 0.09839261207706101\n",
      "AVG NUMBER OF ACCURATE 1 PREDICTIONS ON TEST DATA SET: 3.563159228344837 ± 0.15967734823276716\n",
      "POWER SPECTRUM MEAN ERROR ON TEST DATA SET: 1.1097523690727993 ± 0.4534176837480675\n",
      "TEMPORAL DISTANCE ON TEST DATA SET: 0.09180768359463483 ± 0.0008856243996190675\n",
      "GEOMETRICAL DISTANCE ON TEST DATA SET: 11.70170386012301 ± 0.13880941057415552\n"
     ]
    }
   ],
   "source": [
    "!bash ./1_PGClustered_ESN_Evaluate_Tuned_Model.sh \"evaluate_tuned_model\" \"Lorenz96_F8_ALPHA3_DIM40\" 1000 1 1 3 \"grid_search_for_icw_0.3_reservoir_size_1000.json\" "
   ]
  },
  {
   "cell_type": "code",
   "execution_count": 121,
   "metadata": {},
   "outputs": [
    {
     "name": "stdout",
     "output_type": "stream",
     "text": [
      "Grid Search Progress:  12%|█▍          | 3/25 [01:22<09:57, 27.18s/trial, Current Best Loss=0.11478]/home/user/kuei_jan_CHU/PGClustered_ESN/Methods/./Utils/global_utils.py:256: RuntimeWarning: divide by zero encountered in log10\n",
      "  s_dbfs = 20 * np.log10(s_mag)\n",
      "Grid Search Progress: 100%|███████████| 25/25 [11:08<00:00, 26.74s/trial, Current Best Loss=0.10869]\n",
      "{'radius': 0.9, 'sigma_input': 0.1, 'in_cluster_weight': 0.5}\n"
     ]
    }
   ],
   "source": [
    "!bash ./0_PGClustered_ESN_Tune.sh \"tune\" \"Lorenz96_F8_ALPHA3_DIM40\" 1000 1 1 3 \"grid_search_for_icw_0.5_reservoir_size_1000.json\"  "
   ]
  },
  {
   "cell_type": "code",
   "execution_count": 122,
   "metadata": {},
   "outputs": [
    {
     "name": "stdout",
     "output_type": "stream",
     "text": [
      "{'radius': 0.9, 'sigma_input': 0.1, 'in_cluster_weight': 0.5}\n",
      "AVERAGE RMNSE ERROR ON TRAIN DATA SET: 1.3782776914785404 ± 0.01048256005335351\n",
      "AVG NUMBER OF ACCURATE 0.5 PREDICTIONS ON TRAIN DATA SET: 2.3598985314737058 ± 0.13461254457890154\n",
      "AVG NUMBER OF ACCURATE 1 PREDICTIONS ON TRAIN DATA SET: 3.4076566278443217 ± 0.24740410200076088\n",
      "POWER SPECTRUM MEAN ERROR ON TRAIN DATA SET: 0.5056260487554219 ± 0.2825258115779355\n",
      "TEMPORAL DISTANCE ON TRAIN DATA SET: 0.09266957482593874 ± 0.0009491112167396766\n",
      "GEOMETRICAL DISTANCE ON TRAIN DATA SET: 11.803566902061661 ± 0.13818376216006872\n",
      "\n",
      "\n",
      "AVERAGE RMNSE ERROR ON TEST DATA SET: 1.3763372089977213 ± 0.009388108533008773\n",
      "AVG NUMBER OF ACCURATE 0.5 PREDICTIONS ON TEST DATA SET: 2.361294425553602 ± 0.12258334574396622\n",
      "AVG NUMBER OF ACCURATE 1 PREDICTIONS ON TEST DATA SET: 3.4534419536649397 ± 0.22025421622331814\n",
      "POWER SPECTRUM MEAN ERROR ON TEST DATA SET: 1.0993732797562275 ± 0.36036061424104404\n",
      "TEMPORAL DISTANCE ON TEST DATA SET: 0.09269200488238545 ± 0.0011118282421502573\n",
      "GEOMETRICAL DISTANCE ON TEST DATA SET: 11.727323925274096 ± 0.1667580038983302\n"
     ]
    }
   ],
   "source": [
    "!bash ./1_PGClustered_ESN_Evaluate_Tuned_Model.sh \"evaluate_tuned_model\" \"Lorenz96_F8_ALPHA3_DIM40\" 1000 1 1 3 \"grid_search_for_icw_0.5_reservoir_size_1000.json\" "
   ]
  },
  {
   "cell_type": "code",
   "execution_count": 123,
   "metadata": {},
   "outputs": [
    {
     "name": "stdout",
     "output_type": "stream",
     "text": [
      "Grid Search Progress:  16%|█▉          | 4/25 [01:49<09:26, 26.96s/trial, Current Best Loss=0.11267]/home/user/kuei_jan_CHU/PGClustered_ESN/Methods/./Utils/global_utils.py:256: RuntimeWarning: divide by zero encountered in log10\n",
      "  s_dbfs = 20 * np.log10(s_mag)\n",
      "Grid Search Progress: 100%|███████████| 25/25 [11:09<00:00, 26.77s/trial, Current Best Loss=0.10842]\n",
      "{'radius': 0.9, 'sigma_input': 0.1, 'in_cluster_weight': 0.7}\n"
     ]
    }
   ],
   "source": [
    "!bash ./0_PGClustered_ESN_Tune.sh \"tune\" \"Lorenz96_F8_ALPHA3_DIM40\" 1000 1 1 3 \"grid_search_for_icw_0.7_reservoir_size_1000.json\"  "
   ]
  },
  {
   "cell_type": "code",
   "execution_count": 124,
   "metadata": {},
   "outputs": [
    {
     "name": "stdout",
     "output_type": "stream",
     "text": [
      "{'radius': 0.9, 'sigma_input': 0.1, 'in_cluster_weight': 0.7}\n",
      "AVERAGE RMNSE ERROR ON TRAIN DATA SET: 1.3832590778945006 ± 0.007573407884193273\n",
      "AVG NUMBER OF ACCURATE 0.5 PREDICTIONS ON TRAIN DATA SET: 2.3509648093623654 ± 0.11917338919722376\n",
      "AVG NUMBER OF ACCURATE 1 PREDICTIONS ON TRAIN DATA SET: 3.402910587972672 ± 0.18555186886464306\n",
      "POWER SPECTRUM MEAN ERROR ON TRAIN DATA SET: 0.5586413183893271 ± 0.2830663609049735\n",
      "TEMPORAL DISTANCE ON TRAIN DATA SET: 0.09202076637252696 ± 0.0007453539282092593\n",
      "GEOMETRICAL DISTANCE ON TRAIN DATA SET: 11.908025957513779 ± 0.1277552177195249\n",
      "\n",
      "\n",
      "AVERAGE RMNSE ERROR ON TEST DATA SET: 1.3826351500659433 ± 0.006057496896852134\n",
      "AVG NUMBER OF ACCURATE 0.5 PREDICTIONS ON TEST DATA SET: 2.365482107793293 ± 0.08567242345204136\n",
      "AVG NUMBER OF ACCURATE 1 PREDICTIONS ON TEST DATA SET: 3.4352953306262806 ± 0.17995126721253668\n",
      "POWER SPECTRUM MEAN ERROR ON TEST DATA SET: 0.8136423231105281 ± 0.3406317290493339\n",
      "TEMPORAL DISTANCE ON TEST DATA SET: 0.09220021445002528 ± 0.0009840207204992227\n",
      "GEOMETRICAL DISTANCE ON TEST DATA SET: 11.844447421990719 ± 0.136429130448479\n"
     ]
    }
   ],
   "source": [
    "!bash ./1_PGClustered_ESN_Evaluate_Tuned_Model.sh \"evaluate_tuned_model\" \"Lorenz96_F8_ALPHA3_DIM40\" 1000 1 1 3 \"grid_search_for_icw_0.7_reservoir_size_1000.json\" "
   ]
  },
  {
   "cell_type": "code",
   "execution_count": 125,
   "metadata": {},
   "outputs": [
    {
     "name": "stdout",
     "output_type": "stream",
     "text": [
      "Grid Search Progress:  16%|█▉          | 4/25 [01:49<09:23, 26.83s/trial, Current Best Loss=0.11356]/home/user/kuei_jan_CHU/PGClustered_ESN/Methods/./Utils/global_utils.py:256: RuntimeWarning: divide by zero encountered in log10\n",
      "  s_dbfs = 20 * np.log10(s_mag)\n",
      "Grid Search Progress: 100%|███████████| 25/25 [11:09<00:00, 26.76s/trial, Current Best Loss=0.10788]\n",
      "{'radius': 0.9, 'sigma_input': 0.1, 'in_cluster_weight': 0.9}\n"
     ]
    }
   ],
   "source": [
    "!bash ./0_PGClustered_ESN_Tune.sh \"tune\" \"Lorenz96_F8_ALPHA3_DIM40\" 1000 1 1 3 \"grid_search_for_icw_0.9_reservoir_size_1000.json\"  "
   ]
  },
  {
   "cell_type": "code",
   "execution_count": 126,
   "metadata": {},
   "outputs": [
    {
     "name": "stdout",
     "output_type": "stream",
     "text": [
      "{'radius': 0.9, 'sigma_input': 0.1, 'in_cluster_weight': 0.9}\n",
      "AVERAGE RMNSE ERROR ON TRAIN DATA SET: 1.3958406911833712 ± 0.004747843747660287\n",
      "AVG NUMBER OF ACCURATE 0.5 PREDICTIONS ON TRAIN DATA SET: 2.3350516168515405 ± 0.118742597773101\n",
      "AVG NUMBER OF ACCURATE 1 PREDICTIONS ON TRAIN DATA SET: 3.3682924147912288 ± 0.1747657158166753\n",
      "POWER SPECTRUM MEAN ERROR ON TRAIN DATA SET: 0.4569807259162322 ± 0.16298201104932158\n",
      "TEMPORAL DISTANCE ON TRAIN DATA SET: 0.09145300454019234 ± 0.0008645287930011075\n",
      "GEOMETRICAL DISTANCE ON TRAIN DATA SET: 12.11478561376987 ± 0.09760219310991096\n",
      "\n",
      "\n",
      "AVERAGE RMNSE ERROR ON TEST DATA SET: 1.3969030342891078 ± 0.004022881989040644\n",
      "AVG NUMBER OF ACCURATE 0.5 PREDICTIONS ON TEST DATA SET: 2.3760909028005095 ± 0.10415240839635156\n",
      "AVG NUMBER OF ACCURATE 1 PREDICTIONS ON TEST DATA SET: 3.5048108558051454 ± 0.1947467856930161\n",
      "POWER SPECTRUM MEAN ERROR ON TEST DATA SET: 0.7730997568247476 ± 0.2919659135687342\n",
      "TEMPORAL DISTANCE ON TEST DATA SET: 0.09134812685176029 ± 0.0008616354501243132\n",
      "GEOMETRICAL DISTANCE ON TEST DATA SET: 12.094289738804767 ± 0.09668118768463757\n"
     ]
    }
   ],
   "source": [
    "!bash ./1_PGClustered_ESN_Evaluate_Tuned_Model.sh \"evaluate_tuned_model\" \"Lorenz96_F8_ALPHA3_DIM40\" 1000 1 1 3 \"grid_search_for_icw_0.9_reservoir_size_1000.json\" "
   ]
  },
  {
   "cell_type": "code",
   "execution_count": 127,
   "metadata": {},
   "outputs": [
    {
     "name": "stdout",
     "output_type": "stream",
     "text": [
      "Grid Search Progress:  16%|█▉          | 4/25 [01:48<09:19, 26.65s/trial, Current Best Loss=0.11438]/home/user/kuei_jan_CHU/PGClustered_ESN/Methods/./Utils/global_utils.py:256: RuntimeWarning: divide by zero encountered in log10\n",
      "  s_dbfs = 20 * np.log10(s_mag)\n",
      "Grid Search Progress: 100%|███████████| 25/25 [11:06<00:00, 26.66s/trial, Current Best Loss=0.11139]\n",
      "{'radius': 0.9, 'sigma_input': 0.1, 'in_cluster_weight': 0.1}\n"
     ]
    }
   ],
   "source": [
    "!bash ./0_PGClustered_ESN_Tune.sh \"tune\" \"Lorenz96_F8_ALPHA4_DIM40\" 1000 1 1 4 \"grid_search_for_icw_0.1_reservoir_size_1000.json\" "
   ]
  },
  {
   "cell_type": "code",
   "execution_count": 99,
   "metadata": {},
   "outputs": [
    {
     "name": "stdout",
     "output_type": "stream",
     "text": [
      "{'radius': 0.9, 'sigma_input': 0.1, 'in_cluster_weight': 0.1}\n",
      "AVERAGE RMNSE ERROR ON TRAIN DATA SET: 1.3594637677125827 ± 0.016049750370156712\n",
      "AVG NUMBER OF ACCURATE 0.5 PREDICTIONS ON TRAIN DATA SET: 2.136827433437837 ± 0.09257082631233408\n",
      "AVG NUMBER OF ACCURATE 1 PREDICTIONS ON TRAIN DATA SET: 3.2045356937574687 ± 0.23418469655949983\n",
      "POWER SPECTRUM MEAN ERROR ON TRAIN DATA SET: 0.7013772673098847 ± 0.25044023565560414\n",
      "TEMPORAL DISTANCE ON TRAIN DATA SET: 0.09368556821868321 ± 0.0019563936049465953\n",
      "GEOMETRICAL DISTANCE ON TRAIN DATA SET: 11.101398178122498 ± 0.18192158912460285\n",
      "\n",
      "\n",
      "AVERAGE RMNSE ERROR ON TEST DATA SET: 1.3522913164255543 ± 0.012126724859890631\n",
      "AVG NUMBER OF ACCURATE 0.5 PREDICTIONS ON TEST DATA SET: 2.3900862807815755 ± 0.14845793152970352\n",
      "AVG NUMBER OF ACCURATE 1 PREDICTIONS ON TEST DATA SET: 3.391481639568307 ± 0.20692702954086545\n",
      "POWER SPECTRUM MEAN ERROR ON TEST DATA SET: 0.6764479389741612 ± 0.28955054109396217\n",
      "TEMPORAL DISTANCE ON TEST DATA SET: 0.09410548005097626 ± 0.0013524347443730593\n",
      "GEOMETRICAL DISTANCE ON TEST DATA SET: 10.99664244922982 ± 0.13292926878435907\n"
     ]
    }
   ],
   "source": [
    "!bash ./1_PGClustered_ESN_Evaluate_Tuned_Model.sh \"evaluate_tuned_model\" \"Lorenz96_F8_ALPHA4_DIM40\" 1000 1 1 4 \"grid_search_for_icw_0.1_reservoir_size_1000.json\" "
   ]
  },
  {
   "cell_type": "code",
   "execution_count": 100,
   "metadata": {},
   "outputs": [
    {
     "name": "stdout",
     "output_type": "stream",
     "text": [
      "Grid Search Progress:  16%|█▉          | 4/25 [01:49<09:28, 27.05s/trial, Current Best Loss=0.11361]/home/user/kuei_jan_CHU/PGClustered_ESN/Methods/./Utils/global_utils.py:256: RuntimeWarning: divide by zero encountered in log10\n",
      "  s_dbfs = 20 * np.log10(s_mag)\n",
      "Grid Search Progress: 100%|███████████| 25/25 [11:08<00:00, 26.75s/trial, Current Best Loss=0.11214]\n",
      "{'radius': 0.7, 'sigma_input': 0.1, 'in_cluster_weight': 0.3}\n"
     ]
    }
   ],
   "source": [
    "!bash ./0_PGClustered_ESN_Tune.sh \"tune\" \"Lorenz96_F8_ALPHA4_DIM40\" 1000 1 1 4 \"grid_search_for_icw_0.3_reservoir_size_1000.json\" "
   ]
  },
  {
   "cell_type": "code",
   "execution_count": 101,
   "metadata": {},
   "outputs": [
    {
     "name": "stdout",
     "output_type": "stream",
     "text": [
      "{'radius': 0.7, 'sigma_input': 0.1, 'in_cluster_weight': 0.3}\n",
      "AVERAGE RMNSE ERROR ON TRAIN DATA SET: 1.354810458067144 ± 0.009936814052347063\n",
      "AVG NUMBER OF ACCURATE 0.5 PREDICTIONS ON TRAIN DATA SET: 2.248995000924339 ± 0.09943182094220662\n",
      "AVG NUMBER OF ACCURATE 1 PREDICTIONS ON TRAIN DATA SET: 3.3614997425986433 ± 0.17199976084797672\n",
      "POWER SPECTRUM MEAN ERROR ON TRAIN DATA SET: 0.5037520015352764 ± 0.1724805001244757\n",
      "TEMPORAL DISTANCE ON TRAIN DATA SET: 0.09299320194554156 ± 0.0018842701258257727\n",
      "GEOMETRICAL DISTANCE ON TRAIN DATA SET: 11.056243377382945 ± 0.13067068470681953\n",
      "\n",
      "\n",
      "AVERAGE RMNSE ERROR ON TEST DATA SET: 1.3496607074268763 ± 0.011499931251400893\n",
      "AVG NUMBER OF ACCURATE 0.5 PREDICTIONS ON TEST DATA SET: 2.5050756738652225 ± 0.12909852106937075\n",
      "AVG NUMBER OF ACCURATE 1 PREDICTIONS ON TEST DATA SET: 3.5149365094433875 ± 0.19777800735617754\n",
      "POWER SPECTRUM MEAN ERROR ON TEST DATA SET: 0.64985873620046 ± 0.40339417400924193\n",
      "TEMPORAL DISTANCE ON TEST DATA SET: 0.09375531101603334 ± 0.001747016675101148\n",
      "GEOMETRICAL DISTANCE ON TEST DATA SET: 11.011388366906994 ± 0.1577249690148868\n"
     ]
    }
   ],
   "source": [
    "!bash ./1_PGClustered_ESN_Evaluate_Tuned_Model.sh \"evaluate_tuned_model\" \"Lorenz96_F8_ALPHA4_DIM40\" 1000 1 1 4 \"grid_search_for_icw_0.3_reservoir_size_1000.json\" "
   ]
  },
  {
   "cell_type": "code",
   "execution_count": 102,
   "metadata": {},
   "outputs": [
    {
     "name": "stdout",
     "output_type": "stream",
     "text": [
      "Grid Search Progress:  16%|█▉          | 4/25 [01:50<09:30, 27.18s/trial, Current Best Loss=0.11288]/home/user/kuei_jan_CHU/PGClustered_ESN/Methods/./Utils/global_utils.py:256: RuntimeWarning: divide by zero encountered in log10\n",
      "  s_dbfs = 20 * np.log10(s_mag)\n",
      "Grid Search Progress: 100%|███████████| 25/25 [11:16<00:00, 27.08s/trial, Current Best Loss=0.11268]\n",
      "{'radius': 0.7, 'sigma_input': 0.1, 'in_cluster_weight': 0.5}\n"
     ]
    }
   ],
   "source": [
    "!bash ./0_PGClustered_ESN_Tune.sh \"tune\" \"Lorenz96_F8_ALPHA4_DIM40\" 1000 1 1 4 \"grid_search_for_icw_0.5_reservoir_size_1000.json\" "
   ]
  },
  {
   "cell_type": "code",
   "execution_count": 103,
   "metadata": {},
   "outputs": [
    {
     "name": "stdout",
     "output_type": "stream",
     "text": [
      "{'radius': 0.7, 'sigma_input': 0.1, 'in_cluster_weight': 0.5}\n",
      "AVERAGE RMNSE ERROR ON TRAIN DATA SET: 1.3581390747578235 ± 0.01334368926464999\n",
      "AVG NUMBER OF ACCURATE 0.5 PREDICTIONS ON TRAIN DATA SET: 2.2595768469136317 ± 0.10938214648211449\n",
      "AVG NUMBER OF ACCURATE 1 PREDICTIONS ON TRAIN DATA SET: 3.3689070347911487 ± 0.16816629043476158\n",
      "POWER SPECTRUM MEAN ERROR ON TRAIN DATA SET: 0.569448688160343 ± 0.3036277406699903\n",
      "TEMPORAL DISTANCE ON TRAIN DATA SET: 0.09310798880159242 ± 0.0017385767926191187\n",
      "GEOMETRICAL DISTANCE ON TRAIN DATA SET: 11.108621056310376 ± 0.16347306533899764\n",
      "\n",
      "\n",
      "AVERAGE RMNSE ERROR ON TEST DATA SET: 1.3535845422919366 ± 0.01196434209651705\n",
      "AVG NUMBER OF ACCURATE 0.5 PREDICTIONS ON TEST DATA SET: 2.5050756738652225 ± 0.1278589854264092\n",
      "AVG NUMBER OF ACCURATE 1 PREDICTIONS ON TEST DATA SET: 3.507529217250883 ± 0.17214581689260353\n",
      "POWER SPECTRUM MEAN ERROR ON TEST DATA SET: 0.6249327611869456 ± 0.34922531003769314\n",
      "TEMPORAL DISTANCE ON TEST DATA SET: 0.09338495029047005 ± 0.0013956597642010829\n",
      "GEOMETRICAL DISTANCE ON TEST DATA SET: 11.056868400561694 ± 0.1381069330434285\n"
     ]
    }
   ],
   "source": [
    "!bash ./1_PGClustered_ESN_Evaluate_Tuned_Model.sh \"evaluate_tuned_model\" \"Lorenz96_F8_ALPHA4_DIM40\" 1000 1 1 4 \"grid_search_for_icw_0.5_reservoir_size_1000.json\" "
   ]
  },
  {
   "cell_type": "code",
   "execution_count": 104,
   "metadata": {},
   "outputs": [
    {
     "name": "stdout",
     "output_type": "stream",
     "text": [
      "Grid Search Progress:  16%|█▉          | 4/25 [01:50<09:28, 27.09s/trial, Current Best Loss=0.11305]/home/user/kuei_jan_CHU/PGClustered_ESN/Methods/./Utils/global_utils.py:256: RuntimeWarning: divide by zero encountered in log10\n",
      "  s_dbfs = 20 * np.log10(s_mag)\n",
      "Grid Search Progress: 100%|███████████| 25/25 [11:12<00:00, 26.89s/trial, Current Best Loss=0.10980]\n",
      "{'radius': 0.7, 'sigma_input': 0.1, 'in_cluster_weight': 0.7}\n"
     ]
    }
   ],
   "source": [
    "!bash ./0_PGClustered_ESN_Tune.sh \"tune\" \"Lorenz96_F8_ALPHA4_DIM40\" 1000 1 1 4 \"grid_search_for_icw_0.7_reservoir_size_1000.json\" "
   ]
  },
  {
   "cell_type": "code",
   "execution_count": 105,
   "metadata": {},
   "outputs": [
    {
     "name": "stdout",
     "output_type": "stream",
     "text": [
      "{'radius': 0.7, 'sigma_input': 0.1, 'in_cluster_weight': 0.7}\n",
      "AVERAGE RMNSE ERROR ON TRAIN DATA SET: 1.3676573729937123 ± 0.007574767011733869\n",
      "AVG NUMBER OF ACCURATE 0.5 PREDICTIONS ON TRAIN DATA SET: 2.2666314109064936 ± 0.10332227230846097\n",
      "AVG NUMBER OF ACCURATE 1 PREDICTIONS ON TRAIN DATA SET: 3.386543444773303 ± 0.20125269011659147\n",
      "POWER SPECTRUM MEAN ERROR ON TRAIN DATA SET: 0.49282683974823316 ± 0.23723025862392758\n",
      "TEMPORAL DISTANCE ON TRAIN DATA SET: 0.0915757310595166 ± 0.0010753607101726113\n",
      "GEOMETRICAL DISTANCE ON TRAIN DATA SET: 11.230345576434257 ± 0.12628140242026728\n",
      "\n",
      "\n",
      "AVERAGE RMNSE ERROR ON TEST DATA SET: 1.3668744545324074 ± 0.008565597243985267\n",
      "AVG NUMBER OF ACCURATE 0.5 PREDICTIONS ON TEST DATA SET: 2.528355735041666 ± 0.11620560810445647\n",
      "AVG NUMBER OF ACCURATE 1 PREDICTIONS ON TEST DATA SET: 3.519521976038748 ± 0.14694675424148557\n",
      "POWER SPECTRUM MEAN ERROR ON TEST DATA SET: 0.48802355433412464 ± 0.20003963681335854\n",
      "TEMPORAL DISTANCE ON TEST DATA SET: 0.092617395974125 ± 0.0010831706654657175\n",
      "GEOMETRICAL DISTANCE ON TEST DATA SET: 11.207014635789081 ± 0.15711118697240367\n"
     ]
    }
   ],
   "source": [
    "!bash ./1_PGClustered_ESN_Evaluate_Tuned_Model.sh \"evaluate_tuned_model\" \"Lorenz96_F8_ALPHA4_DIM40\" 1000 1 1 4 \"grid_search_for_icw_0.7_reservoir_size_1000.json\" "
   ]
  },
  {
   "cell_type": "code",
   "execution_count": 106,
   "metadata": {},
   "outputs": [
    {
     "name": "stdout",
     "output_type": "stream",
     "text": [
      "Grid Search Progress:  16%|█▉          | 4/25 [01:49<09:24, 26.87s/trial, Current Best Loss=0.11311]/home/user/kuei_jan_CHU/PGClustered_ESN/Methods/./Utils/global_utils.py:256: RuntimeWarning: divide by zero encountered in log10\n",
      "  s_dbfs = 20 * np.log10(s_mag)\n",
      "Grid Search Progress: 100%|███████████| 25/25 [11:07<00:00, 26.70s/trial, Current Best Loss=0.10810]\n",
      "{'radius': 0.7, 'sigma_input': 0.1, 'in_cluster_weight': 0.9}\n"
     ]
    }
   ],
   "source": [
    "!bash ./0_PGClustered_ESN_Tune.sh \"tune\" \"Lorenz96_F8_ALPHA4_DIM40\" 1000 1 1 4 \"grid_search_for_icw_0.9_reservoir_size_1000.json\" "
   ]
  },
  {
   "cell_type": "code",
   "execution_count": 107,
   "metadata": {},
   "outputs": [
    {
     "name": "stdout",
     "output_type": "stream",
     "text": [
      "{'radius': 0.7, 'sigma_input': 0.1, 'in_cluster_weight': 0.9}\n",
      "AVERAGE RMNSE ERROR ON TRAIN DATA SET: 1.383069080532971 ± 0.0064807422652356375\n",
      "AVG NUMBER OF ACCURATE 0.5 PREDICTIONS ON TRAIN DATA SET: 2.3417625174304715 ± 0.10464738895422918\n",
      "AVG NUMBER OF ACCURATE 1 PREDICTIONS ON TRAIN DATA SET: 3.450034520709059 ± 0.1987394134084914\n",
      "POWER SPECTRUM MEAN ERROR ON TRAIN DATA SET: 0.48564918934206835 ± 0.2536917525447219\n",
      "TEMPORAL DISTANCE ON TRAIN DATA SET: 0.0906280975771973 ± 0.0010494571114892989\n",
      "GEOMETRICAL DISTANCE ON TRAIN DATA SET: 11.446946357542076 ± 0.11398266003870475\n",
      "\n",
      "\n",
      "AVERAGE RMNSE ERROR ON TEST DATA SET: 1.3779036842503896 ± 0.005054500001918757\n",
      "AVG NUMBER OF ACCURATE 0.5 PREDICTIONS ON TEST DATA SET: 2.6299414565388757 ± 0.09112683715771497\n",
      "AVG NUMBER OF ACCURATE 1 PREDICTIONS ON TEST DATA SET: 3.6115840361455946 ± 0.12012402110602818\n",
      "POWER SPECTRUM MEAN ERROR ON TEST DATA SET: 0.43758592306535504 ± 0.21083716011761644\n",
      "TEMPORAL DISTANCE ON TEST DATA SET: 0.09134980087842068 ± 0.000643751916438107\n",
      "GEOMETRICAL DISTANCE ON TEST DATA SET: 11.401944118843062 ± 0.07603100729167991\n"
     ]
    }
   ],
   "source": [
    "!bash ./1_PGClustered_ESN_Evaluate_Tuned_Model.sh \"evaluate_tuned_model\" \"Lorenz96_F8_ALPHA4_DIM40\" 1000 1 1 4 \"grid_search_for_icw_0.9_reservoir_size_1000.json\" "
   ]
  },
  {
   "cell_type": "code",
   "execution_count": 108,
   "metadata": {},
   "outputs": [
    {
     "name": "stdout",
     "output_type": "stream",
     "text": [
      "Grid Search Progress:  16%|█▉          | 4/25 [01:49<09:26, 26.98s/trial, Current Best Loss=0.11276]/home/user/kuei_jan_CHU/PGClustered_ESN/Methods/./Utils/global_utils.py:256: RuntimeWarning: divide by zero encountered in log10\n",
      "  s_dbfs = 20 * np.log10(s_mag)\n",
      "Grid Search Progress: 100%|███████████| 25/25 [11:10<00:00, 26.81s/trial, Current Best Loss=0.11276]\n",
      "{'radius': 0.1, 'sigma_input': 0.5, 'in_cluster_weight': 0.1}\n"
     ]
    }
   ],
   "source": [
    "!bash ./0_PGClustered_ESN_Tune.sh \"tune\" \"Lorenz96_F8_ALPHA5_DIM40\" 1000 1 1 5 \"grid_search_for_icw_0.1_reservoir_size_1000.json\" "
   ]
  },
  {
   "cell_type": "code",
   "execution_count": 109,
   "metadata": {},
   "outputs": [
    {
     "name": "stdout",
     "output_type": "stream",
     "text": [
      "{'radius': 0.1, 'sigma_input': 0.5, 'in_cluster_weight': 0.1}\n",
      "/home/user/anaconda3/lib/python3.11/site-packages/numpy/core/_methods.py:236: RuntimeWarning: invalid value encountered in subtract\n",
      "  x = asanyarray(arr - arrmean)\n",
      "AVERAGE RMNSE ERROR ON TRAIN DATA SET: 1.454796877294671 ± 0.016223338286113137\n",
      "AVG NUMBER OF ACCURATE 0.5 PREDICTIONS ON TRAIN DATA SET: 1.1597351034028753 ± 0.07372461966268608\n",
      "AVG NUMBER OF ACCURATE 1 PREDICTIONS ON TRAIN DATA SET: 2.0722447359753877 ± 0.10326825588993974\n",
      "POWER SPECTRUM MEAN ERROR ON TRAIN DATA SET: 0.7963133104040778 ± 0.2061625381661621\n",
      "TEMPORAL DISTANCE ON TRAIN DATA SET: 0.10081542479419936 ± 0.010893291027441571\n",
      "GEOMETRICAL DISTANCE ON TRAIN DATA SET: 12.470234830304884 ± 0.08854668767360356\n",
      "\n",
      "\n",
      "AVERAGE RMNSE ERROR ON TEST DATA SET: 1.4637193876328844 ± 0.03603341152131107\n",
      "AVG NUMBER OF ACCURATE 0.5 PREDICTIONS ON TEST DATA SET: 1.1849193618915368 ± 0.06541850497581812\n",
      "AVG NUMBER OF ACCURATE 1 PREDICTIONS ON TEST DATA SET: 1.9849393065480263 ± 0.11911899875971355\n",
      "POWER SPECTRUM MEAN ERROR ON TEST DATA SET: 1.2454111942996018 ± 0.28441987948904157\n",
      "TEMPORAL DISTANCE ON TEST DATA SET: 0.10323138577006448 ± 0.019395238725020227\n",
      "GEOMETRICAL DISTANCE ON TEST DATA SET: inf ± nan\n"
     ]
    }
   ],
   "source": [
    "!bash ./1_PGClustered_ESN_Evaluate_Tuned_Model.sh \"evaluate_tuned_model\" \"Lorenz96_F8_ALPHA5_DIM40\" 1000 1 1 5 \"grid_search_for_icw_0.1_reservoir_size_1000.json\" "
   ]
  },
  {
   "cell_type": "code",
   "execution_count": 110,
   "metadata": {},
   "outputs": [
    {
     "name": "stdout",
     "output_type": "stream",
     "text": [
      "Grid Search Progress:  16%|█▉          | 4/25 [01:49<09:25, 26.93s/trial, Current Best Loss=0.11246]/home/user/kuei_jan_CHU/PGClustered_ESN/Methods/./Utils/global_utils.py:256: RuntimeWarning: divide by zero encountered in log10\n",
      "  s_dbfs = 20 * np.log10(s_mag)\n",
      "Grid Search Progress: 100%|███████████| 25/25 [11:12<00:00, 26.91s/trial, Current Best Loss=0.11246]\n",
      "{'radius': 0.1, 'sigma_input': 0.5, 'in_cluster_weight': 0.3}\n"
     ]
    }
   ],
   "source": [
    "!bash ./0_PGClustered_ESN_Tune.sh \"tune\" \"Lorenz96_F8_ALPHA5_DIM40\" 1000 1 1 5 \"grid_search_for_icw_0.3_reservoir_size_1000.json\" "
   ]
  },
  {
   "cell_type": "code",
   "execution_count": 111,
   "metadata": {},
   "outputs": [
    {
     "name": "stdout",
     "output_type": "stream",
     "text": [
      "{'radius': 0.1, 'sigma_input': 0.5, 'in_cluster_weight': 0.3}\n",
      "/home/user/anaconda3/lib/python3.11/site-packages/numpy/core/_methods.py:236: RuntimeWarning: invalid value encountered in subtract\n",
      "  x = asanyarray(arr - arrmean)\n",
      "AVERAGE RMNSE ERROR ON TRAIN DATA SET: 1.4588830010079197 ± 0.03630941684411535\n",
      "AVG NUMBER OF ACCURATE 0.5 PREDICTIONS ON TRAIN DATA SET: 1.1588956281199199 ± 0.07335087921663694\n",
      "AVG NUMBER OF ACCURATE 1 PREDICTIONS ON TRAIN DATA SET: 2.073923686541298 ± 0.10358169143055079\n",
      "POWER SPECTRUM MEAN ERROR ON TRAIN DATA SET: 0.7783172423469683 ± 0.17897356200598427\n",
      "TEMPORAL DISTANCE ON TRAIN DATA SET: 0.10170220156327134 ± 0.017879909922860975\n",
      "GEOMETRICAL DISTANCE ON TRAIN DATA SET: inf ± nan\n",
      "\n",
      "\n",
      "AVERAGE RMNSE ERROR ON TEST DATA SET: 1.4619858610555947 ± 0.028458109282720277\n",
      "AVG NUMBER OF ACCURATE 0.5 PREDICTIONS ON TEST DATA SET: 1.1857588371744925 ± 0.06534305418911363\n",
      "AVG NUMBER OF ACCURATE 1 PREDICTIONS ON TEST DATA SET: 1.9849393065480263 ± 0.12347637017484833\n",
      "POWER SPECTRUM MEAN ERROR ON TEST DATA SET: 1.1634308642804616 ± 0.22609884228796037\n",
      "TEMPORAL DISTANCE ON TEST DATA SET: 0.10184792256285029 ± 0.015383777830011143\n",
      "GEOMETRICAL DISTANCE ON TEST DATA SET: inf ± nan\n"
     ]
    }
   ],
   "source": [
    "!bash ./1_PGClustered_ESN_Evaluate_Tuned_Model.sh \"evaluate_tuned_model\" \"Lorenz96_F8_ALPHA5_DIM40\" 1000 1 1 5 \"grid_search_for_icw_0.3_reservoir_size_1000.json\" "
   ]
  },
  {
   "cell_type": "code",
   "execution_count": 112,
   "metadata": {},
   "outputs": [
    {
     "name": "stdout",
     "output_type": "stream",
     "text": [
      "Grid Search Progress:  36%|████▎       | 9/25 [04:00<07:02, 26.39s/trial, Current Best Loss=0.11258]/home/user/kuei_jan_CHU/PGClustered_ESN/Methods/./Utils/global_utils.py:256: RuntimeWarning: divide by zero encountered in log10\n",
      "  s_dbfs = 20 * np.log10(s_mag)\n",
      "Grid Search Progress: 100%|███████████| 25/25 [11:04<00:00, 26.59s/trial, Current Best Loss=0.11258]\n",
      "{'radius': 0.4, 'sigma_input': 0.5, 'in_cluster_weight': 0.5}\n"
     ]
    }
   ],
   "source": [
    "!bash ./0_PGClustered_ESN_Tune.sh \"tune\" \"Lorenz96_F8_ALPHA5_DIM40\" 1000 1 1 5 \"grid_search_for_icw_0.5_reservoir_size_1000.json\" "
   ]
  },
  {
   "cell_type": "code",
   "execution_count": 113,
   "metadata": {},
   "outputs": [
    {
     "name": "stdout",
     "output_type": "stream",
     "text": [
      "{'radius': 0.4, 'sigma_input': 0.5, 'in_cluster_weight': 0.5}\n",
      "AVERAGE RMNSE ERROR ON TRAIN DATA SET: 1.4573722985995337 ± 0.0037738404910431316\n",
      "AVG NUMBER OF ACCURATE 0.5 PREDICTIONS ON TRAIN DATA SET: 1.1009718335959977 ± 0.07974021010641741\n",
      "AVG NUMBER OF ACCURATE 1 PREDICTIONS ON TRAIN DATA SET: 1.9840998312650708 ± 0.11061580126092073\n",
      "POWER SPECTRUM MEAN ERROR ON TRAIN DATA SET: 0.7179283949213682 ± 0.13632280646363668\n",
      "TEMPORAL DISTANCE ON TRAIN DATA SET: 0.09808046781703543 ± 0.0006440225086211038\n",
      "GEOMETRICAL DISTANCE ON TRAIN DATA SET: 12.566044526064196 ± 0.083790635591597\n",
      "\n",
      "\n",
      "AVERAGE RMNSE ERROR ON TEST DATA SET: 1.460049175588429 ± 0.004893685405676139\n",
      "AVG NUMBER OF ACCURATE 0.5 PREDICTIONS ON TEST DATA SET: 1.1236376662357932 ± 0.06305990588696697\n",
      "AVG NUMBER OF ACCURATE 1 PREDICTIONS ON TEST DATA SET: 1.9098062687235189 ± 0.08201548924053939\n",
      "POWER SPECTRUM MEAN ERROR ON TEST DATA SET: 1.1896808722127856 ± 0.28008084999131655\n",
      "TEMPORAL DISTANCE ON TEST DATA SET: 0.09864442730875564 ± 0.0012812625004941383\n",
      "GEOMETRICAL DISTANCE ON TEST DATA SET: 12.66294822937944 ± 0.10247570128282209\n"
     ]
    }
   ],
   "source": [
    "!bash ./1_PGClustered_ESN_Evaluate_Tuned_Model.sh \"evaluate_tuned_model\" \"Lorenz96_F8_ALPHA5_DIM40\" 1000 1 1 5 \"grid_search_for_icw_0.5_reservoir_size_1000.json\" "
   ]
  },
  {
   "cell_type": "code",
   "execution_count": 114,
   "metadata": {},
   "outputs": [
    {
     "name": "stdout",
     "output_type": "stream",
     "text": [
      "Grid Search Progress:  16%|█▉          | 4/25 [01:48<09:21, 26.73s/trial, Current Best Loss=0.11309]/home/user/kuei_jan_CHU/PGClustered_ESN/Methods/./Utils/global_utils.py:256: RuntimeWarning: divide by zero encountered in log10\n",
      "  s_dbfs = 20 * np.log10(s_mag)\n",
      "Grid Search Progress: 100%|███████████| 25/25 [11:06<00:00, 26.67s/trial, Current Best Loss=0.11309]\n",
      "{'radius': 0.1, 'sigma_input': 0.5, 'in_cluster_weight': 0.7}\n"
     ]
    }
   ],
   "source": [
    "!bash ./0_PGClustered_ESN_Tune.sh \"tune\" \"Lorenz96_F8_ALPHA5_DIM40\" 1000 1 1 5 \"grid_search_for_icw_0.7_reservoir_size_1000.json\" "
   ]
  },
  {
   "cell_type": "code",
   "execution_count": 115,
   "metadata": {},
   "outputs": [
    {
     "name": "stdout",
     "output_type": "stream",
     "text": [
      "{'radius': 0.1, 'sigma_input': 0.5, 'in_cluster_weight': 0.7}\n",
      "AVERAGE RMNSE ERROR ON TRAIN DATA SET: 1.452558182847811 ± 0.006449614555720077\n",
      "AVG NUMBER OF ACCURATE 0.5 PREDICTIONS ON TRAIN DATA SET: 1.1538587764221875 ± 0.07538819897471793\n",
      "AVG NUMBER OF ACCURATE 1 PREDICTIONS ON TRAIN DATA SET: 2.060911819655489 ± 0.11116313819518782\n",
      "POWER SPECTRUM MEAN ERROR ON TRAIN DATA SET: 0.7258065436294202 ± 0.13033041759086064\n",
      "TEMPORAL DISTANCE ON TRAIN DATA SET: 0.09933049816487591 ± 0.0038444893948995982\n",
      "GEOMETRICAL DISTANCE ON TRAIN DATA SET: 12.443319426481207 ± 0.07564733063346818\n",
      "\n",
      "\n",
      "AVERAGE RMNSE ERROR ON TEST DATA SET: 1.4567647486454198 ± 0.011977025461358601\n",
      "AVG NUMBER OF ACCURATE 0.5 PREDICTIONS ON TEST DATA SET: 1.186598312457448 ± 0.0625549921501934\n",
      "AVG NUMBER OF ACCURATE 1 PREDICTIONS ON TEST DATA SET: 1.9878774700383697 ± 0.12433306284010884\n",
      "POWER SPECTRUM MEAN ERROR ON TEST DATA SET: 1.207300122266006 ± 0.2387717723121316\n",
      "TEMPORAL DISTANCE ON TEST DATA SET: 0.09999292632835534 ± 0.004609009091942846\n",
      "GEOMETRICAL DISTANCE ON TEST DATA SET: 12.581844474126651 ± 0.2564826308540162\n"
     ]
    }
   ],
   "source": [
    "!bash ./1_PGClustered_ESN_Evaluate_Tuned_Model.sh \"evaluate_tuned_model\" \"Lorenz96_F8_ALPHA5_DIM40\" 1000 1 1 5 \"grid_search_for_icw_0.7_reservoir_size_1000.json\" "
   ]
  },
  {
   "cell_type": "code",
   "execution_count": 116,
   "metadata": {},
   "outputs": [
    {
     "name": "stdout",
     "output_type": "stream",
     "text": [
      "Grid Search Progress:  16%|█▉          | 4/25 [01:49<09:22, 26.80s/trial, Current Best Loss=0.11407]/home/user/kuei_jan_CHU/PGClustered_ESN/Methods/./Utils/global_utils.py:256: RuntimeWarning: divide by zero encountered in log10\n",
      "  s_dbfs = 20 * np.log10(s_mag)\n",
      "Grid Search Progress: 100%|███████████| 25/25 [11:07<00:00, 26.71s/trial, Current Best Loss=0.11309]\n",
      "{'radius': 0.4, 'sigma_input': 0.1, 'in_cluster_weight': 0.9}\n"
     ]
    }
   ],
   "source": [
    "!bash ./0_PGClustered_ESN_Tune.sh \"tune\" \"Lorenz96_F8_ALPHA5_DIM40\" 1000 1 1 5 \"grid_search_for_icw_0.9_reservoir_size_1000.json\" "
   ]
  },
  {
   "cell_type": "code",
   "execution_count": 117,
   "metadata": {},
   "outputs": [
    {
     "name": "stdout",
     "output_type": "stream",
     "text": [
      "{'radius': 0.4, 'sigma_input': 0.1, 'in_cluster_weight': 0.9}\n",
      "AVERAGE RMNSE ERROR ON TRAIN DATA SET: 1.3731180203822781 ± 0.008907768954036386\n",
      "AVG NUMBER OF ACCURATE 0.5 PREDICTIONS ON TRAIN DATA SET: 2.5125495218854907 ± 0.11770928322513818\n",
      "AVG NUMBER OF ACCURATE 1 PREDICTIONS ON TRAIN DATA SET: 3.569029165484853 ± 0.1882049478265554\n",
      "POWER SPECTRUM MEAN ERROR ON TRAIN DATA SET: 0.8595748515161992 ± 0.212112606870332\n",
      "TEMPORAL DISTANCE ON TRAIN DATA SET: 0.09742756114403003 ± 0.0010866632876388332\n",
      "GEOMETRICAL DISTANCE ON TRAIN DATA SET: 11.039753629253578 ± 0.12980884493604342\n",
      "\n",
      "\n",
      "AVERAGE RMNSE ERROR ON TEST DATA SET: 1.3734398670616978 ± 0.008453133342017125\n",
      "AVG NUMBER OF ACCURATE 0.5 PREDICTIONS ON TEST DATA SET: 2.6137062934816155 ± 0.10675785767460301\n",
      "AVG NUMBER OF ACCURATE 1 PREDICTIONS ON TEST DATA SET: 3.5534988727501777 ± 0.15664932689891223\n",
      "POWER SPECTRUM MEAN ERROR ON TEST DATA SET: 0.6450476360868309 ± 0.22389442949047003\n",
      "TEMPORAL DISTANCE ON TEST DATA SET: 0.09746816121540418 ± 0.00098275899448325\n",
      "GEOMETRICAL DISTANCE ON TEST DATA SET: 11.085302402208479 ± 0.13529170602838955\n"
     ]
    }
   ],
   "source": [
    "!bash ./1_PGClustered_ESN_Evaluate_Tuned_Model.sh \"evaluate_tuned_model\" \"Lorenz96_F8_ALPHA5_DIM40\" 1000 1 1 5 \"grid_search_for_icw_0.9_reservoir_size_1000.json\" "
   ]
  },
  {
   "cell_type": "code",
   "execution_count": 118,
   "metadata": {},
   "outputs": [
    {
     "name": "stdout",
     "output_type": "stream",
     "text": [
      "Grid Search Progress:  16%|█▉          | 4/25 [01:49<09:25, 26.93s/trial, Current Best Loss=0.12298]/home/user/kuei_jan_CHU/PGClustered_ESN/Methods/./Utils/global_utils.py:256: RuntimeWarning: divide by zero encountered in log10\n",
      "  s_dbfs = 20 * np.log10(s_mag)\n",
      "Grid Search Progress: 100%|███████████| 25/25 [11:12<00:00, 26.92s/trial, Current Best Loss=0.12298]\n",
      "{'radius': 0.1, 'sigma_input': 0.5, 'in_cluster_weight': 0.1}\n"
     ]
    }
   ],
   "source": [
    "!bash ./0_PGClustered_ESN_Tune.sh \"tune\" \"Lorenz96_F8_ALPHA6_DIM40\" 1000 1 1 6 \"grid_search_for_icw_0.1_reservoir_size_1000.json\" "
   ]
  },
  {
   "cell_type": "code",
   "execution_count": 119,
   "metadata": {},
   "outputs": [
    {
     "name": "stdout",
     "output_type": "stream",
     "text": [
      "{'radius': 0.1, 'sigma_input': 0.5, 'in_cluster_weight': 0.1}\n",
      "AVERAGE RMNSE ERROR ON TRAIN DATA SET: 1.4544478338593094 ± 0.003798459685332399\n",
      "AVG NUMBER OF ACCURATE 0.5 PREDICTIONS ON TRAIN DATA SET: 1.2316260125520535 ± 0.06824863368216919\n",
      "AVG NUMBER OF ACCURATE 1 PREDICTIONS ON TRAIN DATA SET: 2.15090051977487 ± 0.1172598271458648\n",
      "POWER SPECTRUM MEAN ERROR ON TRAIN DATA SET: 1.168587004648993 ± 0.25151935200558334\n",
      "TEMPORAL DISTANCE ON TRAIN DATA SET: 0.10783830059753308 ± 0.0008785337699495197\n",
      "GEOMETRICAL DISTANCE ON TRAIN DATA SET: 12.281284907416389 ± 0.09150877535227335\n",
      "\n",
      "\n",
      "AVERAGE RMNSE ERROR ON TEST DATA SET: 1.457103216691981 ± 0.01044725260703702\n",
      "AVG NUMBER OF ACCURATE 0.5 PREDICTIONS ON TEST DATA SET: 1.231145471774624 ± 0.05469727825713381\n",
      "AVG NUMBER OF ACCURATE 1 PREDICTIONS ON TEST DATA SET: 2.0591172312858173 ± 0.14091812210377053\n",
      "POWER SPECTRUM MEAN ERROR ON TEST DATA SET: 0.9284018011940922 ± 0.1391566804432477\n",
      "TEMPORAL DISTANCE ON TEST DATA SET: 0.10918777330938141 ± 0.006944733235139445\n",
      "GEOMETRICAL DISTANCE ON TEST DATA SET: 12.284079636031464 ± 0.08958706375781345\n"
     ]
    }
   ],
   "source": [
    "!bash ./1_PGClustered_ESN_Evaluate_Tuned_Model.sh \"evaluate_tuned_model\" \"Lorenz96_F8_ALPHA6_DIM40\" 1000 1 1 6 \"grid_search_for_icw_0.1_reservoir_size_1000.json\" "
   ]
  },
  {
   "cell_type": "code",
   "execution_count": 120,
   "metadata": {},
   "outputs": [
    {
     "name": "stdout",
     "output_type": "stream",
     "text": [
      "Grid Search Progress:  16%|█▉          | 4/25 [01:49<09:29, 27.14s/trial, Current Best Loss=0.12342]/home/user/kuei_jan_CHU/PGClustered_ESN/Methods/./Utils/global_utils.py:256: RuntimeWarning: divide by zero encountered in log10\n",
      "  s_dbfs = 20 * np.log10(s_mag)\n",
      "Grid Search Progress: 100%|███████████| 25/25 [11:09<00:00, 26.77s/trial, Current Best Loss=0.12283]\n",
      "{'radius': 0.7, 'sigma_input': 0.5, 'in_cluster_weight': 0.3}\n"
     ]
    }
   ],
   "source": [
    "!bash ./0_PGClustered_ESN_Tune.sh \"tune\" \"Lorenz96_F8_ALPHA6_DIM40\" 1000 1 1 6 \"grid_search_for_icw_0.3_reservoir_size_1000.json\" "
   ]
  },
  {
   "cell_type": "code",
   "execution_count": 121,
   "metadata": {},
   "outputs": [
    {
     "name": "stdout",
     "output_type": "stream",
     "text": [
      "{'radius': 0.7, 'sigma_input': 0.5, 'in_cluster_weight': 0.3}\n",
      "AVERAGE RMNSE ERROR ON TRAIN DATA SET: 1.4680766593675134 ± 0.004074881160726166\n",
      "AVG NUMBER OF ACCURATE 0.5 PREDICTIONS ON TRAIN DATA SET: 1.089385942432893 ± 0.043966198629922175\n",
      "AVG NUMBER OF ACCURATE 1 PREDICTIONS ON TRAIN DATA SET: 1.9596452903578911 ± 0.11224099474648366\n",
      "POWER SPECTRUM MEAN ERROR ON TRAIN DATA SET: 1.3409445156541993 ± 0.23269443940780685\n",
      "TEMPORAL DISTANCE ON TRAIN DATA SET: 0.10813345693246072 ± 0.0006097871581727844\n",
      "GEOMETRICAL DISTANCE ON TRAIN DATA SET: 12.575642955679651 ± 0.0889384944277449\n",
      "\n",
      "\n",
      "AVERAGE RMNSE ERROR ON TEST DATA SET: 1.4693348589017332 ± 0.003925083729060544\n",
      "AVG NUMBER OF ACCURATE 0.5 PREDICTIONS ON TEST DATA SET: 1.1009189210912036 ± 0.06696435306583572\n",
      "AVG NUMBER OF ACCURATE 1 PREDICTIONS ON TEST DATA SET: 1.8563290232105278 ± 0.08603022103948063\n",
      "POWER SPECTRUM MEAN ERROR ON TEST DATA SET: 1.002232170507197 ± 0.1908986877587934\n",
      "TEMPORAL DISTANCE ON TEST DATA SET: 0.10792638479375183 ± 0.000982853158759134\n",
      "GEOMETRICAL DISTANCE ON TEST DATA SET: 12.566474005053342 ± 0.10163440849860421\n"
     ]
    }
   ],
   "source": [
    "!bash ./1_PGClustered_ESN_Evaluate_Tuned_Model.sh \"evaluate_tuned_model\" \"Lorenz96_F8_ALPHA6_DIM40\" 1000 1 1 6 \"grid_search_for_icw_0.3_reservoir_size_1000.json\" "
   ]
  },
  {
   "cell_type": "code",
   "execution_count": 122,
   "metadata": {},
   "outputs": [
    {
     "name": "stdout",
     "output_type": "stream",
     "text": [
      "Grid Search Progress:  12%|█▍          | 3/25 [01:22<10:00, 27.28s/trial, Current Best Loss=0.12365]/home/user/kuei_jan_CHU/PGClustered_ESN/Methods/./Utils/global_utils.py:256: RuntimeWarning: divide by zero encountered in log10\n",
      "  s_dbfs = 20 * np.log10(s_mag)\n",
      "Grid Search Progress: 100%|███████████| 25/25 [11:08<00:00, 26.73s/trial, Current Best Loss=0.12315]\n",
      "{'radius': 0.7, 'sigma_input': 0.5, 'in_cluster_weight': 0.5}\n"
     ]
    }
   ],
   "source": [
    "!bash ./0_PGClustered_ESN_Tune.sh \"tune\" \"Lorenz96_F8_ALPHA6_DIM40\" 1000 1 1 6 \"grid_search_for_icw_0.5_reservoir_size_1000.json\" "
   ]
  },
  {
   "cell_type": "code",
   "execution_count": 123,
   "metadata": {},
   "outputs": [
    {
     "name": "stdout",
     "output_type": "stream",
     "text": [
      "{'radius': 0.7, 'sigma_input': 0.5, 'in_cluster_weight': 0.5}\n",
      "AVERAGE RMNSE ERROR ON TRAIN DATA SET: 1.4672496805541495 ± 0.003674630637700191\n",
      "AVG NUMBER OF ACCURATE 0.5 PREDICTIONS ON TRAIN DATA SET: 1.0917886463200412 ± 0.050160723727501036\n",
      "AVG NUMBER OF ACCURATE 1 PREDICTIONS ON TRAIN DATA SET: 1.950995556364158 ± 0.08813699518540226\n",
      "POWER SPECTRUM MEAN ERROR ON TRAIN DATA SET: 1.2999017006013243 ± 0.28578899749798925\n",
      "TEMPORAL DISTANCE ON TRAIN DATA SET: 0.10818748006551551 ± 0.0006377608670005116\n",
      "GEOMETRICAL DISTANCE ON TRAIN DATA SET: 12.559574518111132 ± 0.08903316796447144\n",
      "\n",
      "\n",
      "AVERAGE RMNSE ERROR ON TEST DATA SET: 1.4692373314648712 ± 0.004891006408905433\n",
      "AVG NUMBER OF ACCURATE 0.5 PREDICTIONS ON TEST DATA SET: 1.1052437880880697 ± 0.0633147807158252\n",
      "AVG NUMBER OF ACCURATE 1 PREDICTIONS ON TEST DATA SET: 1.8736284911979932 ± 0.07441248028609948\n",
      "POWER SPECTRUM MEAN ERROR ON TEST DATA SET: 0.9635713591161357 ± 0.17752347249659273\n",
      "TEMPORAL DISTANCE ON TEST DATA SET: 0.10814765764953838 ± 0.000934542094644503\n",
      "GEOMETRICAL DISTANCE ON TEST DATA SET: 12.566630463874214 ± 0.09675949852788844\n"
     ]
    }
   ],
   "source": [
    "!bash ./1_PGClustered_ESN_Evaluate_Tuned_Model.sh \"evaluate_tuned_model\" \"Lorenz96_F8_ALPHA6_DIM40\" 1000 1 1 6 \"grid_search_for_icw_0.5_reservoir_size_1000.json\" "
   ]
  },
  {
   "cell_type": "code",
   "execution_count": 124,
   "metadata": {},
   "outputs": [
    {
     "name": "stdout",
     "output_type": "stream",
     "text": [
      "Grid Search Progress:  16%|█▉          | 4/25 [01:49<09:27, 27.03s/trial, Current Best Loss=0.12309]/home/user/kuei_jan_CHU/PGClustered_ESN/Methods/./Utils/global_utils.py:256: RuntimeWarning: divide by zero encountered in log10\n",
      "  s_dbfs = 20 * np.log10(s_mag)\n",
      "Grid Search Progress: 100%|███████████| 25/25 [11:06<00:00, 26.65s/trial, Current Best Loss=0.12279]\n",
      "{'radius': 0.7, 'sigma_input': 0.5, 'in_cluster_weight': 0.7}\n"
     ]
    }
   ],
   "source": [
    "!bash ./0_PGClustered_ESN_Tune.sh \"tune\" \"Lorenz96_F8_ALPHA6_DIM40\" 1000 1 1 6 \"grid_search_for_icw_0.7_reservoir_size_1000.json\" "
   ]
  },
  {
   "cell_type": "code",
   "execution_count": 125,
   "metadata": {},
   "outputs": [
    {
     "name": "stdout",
     "output_type": "stream",
     "text": [
      "{'radius': 0.7, 'sigma_input': 0.5, 'in_cluster_weight': 0.7}\n",
      "AVERAGE RMNSE ERROR ON TRAIN DATA SET: 1.4680303516016948 ± 0.00406279953041559\n",
      "AVG NUMBER OF ACCURATE 0.5 PREDICTIONS ON TRAIN DATA SET: 1.083619453103738 ± 0.0631595860087553\n",
      "AVG NUMBER OF ACCURATE 1 PREDICTIONS ON TRAIN DATA SET: 1.9572425864707426 ± 0.09294582897539427\n",
      "POWER SPECTRUM MEAN ERROR ON TRAIN DATA SET: 1.2674634758255503 ± 0.2444480551637577\n",
      "TEMPORAL DISTANCE ON TRAIN DATA SET: 0.10830519310995183 ± 0.001338112276230656\n",
      "GEOMETRICAL DISTANCE ON TRAIN DATA SET: 12.57832505647521 ± 0.09425670038835945\n",
      "\n",
      "\n",
      "AVERAGE RMNSE ERROR ON TEST DATA SET: 1.469655017164458 ± 0.004980397505240338\n",
      "AVG NUMBER OF ACCURATE 0.5 PREDICTIONS ON TEST DATA SET: 1.095632972539478 ± 0.06651628707981068\n",
      "AVG NUMBER OF ACCURATE 1 PREDICTIONS ON TEST DATA SET: 1.8697841649785567 ± 0.08032221485908352\n",
      "POWER SPECTRUM MEAN ERROR ON TEST DATA SET: 0.9881052515157318 ± 0.20540585500341774\n",
      "TEMPORAL DISTANCE ON TEST DATA SET: 0.1084423995787964 ± 0.0025623398026397137\n",
      "GEOMETRICAL DISTANCE ON TEST DATA SET: 12.59042217691147 ± 0.10634107328584787\n"
     ]
    }
   ],
   "source": [
    "!bash ./1_PGClustered_ESN_Evaluate_Tuned_Model.sh \"evaluate_tuned_model\" \"Lorenz96_F8_ALPHA6_DIM40\" 1000 1 1 6 \"grid_search_for_icw_0.7_reservoir_size_1000.json\" "
   ]
  },
  {
   "cell_type": "code",
   "execution_count": 126,
   "metadata": {},
   "outputs": [
    {
     "name": "stdout",
     "output_type": "stream",
     "text": [
      "Grid Search Progress:  16%|█▉          | 4/25 [01:47<09:17, 26.56s/trial, Current Best Loss=0.12353]/home/user/kuei_jan_CHU/PGClustered_ESN/Methods/./Utils/global_utils.py:256: RuntimeWarning: divide by zero encountered in log10\n",
      "  s_dbfs = 20 * np.log10(s_mag)\n",
      "Grid Search Progress:  24%|██▉         | 6/25 [02:41<08:29, 26.81s/trial, Current Best Loss=0.12353]/home/user/kuei_jan_CHU/PGClustered_ESN/Methods/./Utils/hyper_tuning_utils.py:266: UserWarning: Error during evaluation of {'radius': 0.4, 'sigma_input': 0.5, 'in_cluster_weight': 0.9}: CUDA out of memory. Tried to allocate 802.00 MiB (GPU 0; 23.65 GiB total capacity; 1.65 GiB already allocated; 756.06 MiB free; 1.67 GiB reserved in total by PyTorch) If reserved memory is >> allocated memory try setting max_split_size_mb to avoid fragmentation.  See documentation for Memory Management and PYTORCH_CUDA_ALLOC_CONF\n",
      "  warnings.warn(f\"Error during evaluation of {hyper_args}: {str(e)}\")\n",
      "/home/user/kuei_jan_CHU/PGClustered_ESN/Methods/./Utils/hyper_tuning_utils.py:266: UserWarning: Error during evaluation of {'radius': 0.4, 'sigma_input': 1.0, 'in_cluster_weight': 0.9}: CUDA out of memory. Tried to allocate 802.00 MiB (GPU 0; 23.65 GiB total capacity; 1.71 GiB already allocated; 704.06 MiB free; 1.72 GiB reserved in total by PyTorch) If reserved memory is >> allocated memory try setting max_split_size_mb to avoid fragmentation.  See documentation for Memory Management and PYTORCH_CUDA_ALLOC_CONF\n",
      "  warnings.warn(f\"Error during evaluation of {hyper_args}: {str(e)}\")\n",
      "/home/user/kuei_jan_CHU/PGClustered_ESN/Methods/./Utils/hyper_tuning_utils.py:266: UserWarning: Error during evaluation of {'radius': 0.4, 'sigma_input': 1.5, 'in_cluster_weight': 0.9}: CUDA out of memory. Tried to allocate 802.00 MiB (GPU 0; 23.65 GiB total capacity; 1.77 GiB already allocated; 630.06 MiB free; 1.79 GiB reserved in total by PyTorch) If reserved memory is >> allocated memory try setting max_split_size_mb to avoid fragmentation.  See documentation for Memory Management and PYTORCH_CUDA_ALLOC_CONF\n",
      "  warnings.warn(f\"Error during evaluation of {hyper_args}: {str(e)}\")\n",
      "/home/user/kuei_jan_CHU/PGClustered_ESN/Methods/./Utils/hyper_tuning_utils.py:266: UserWarning: Error during evaluation of {'radius': 0.4, 'sigma_input': 2.0, 'in_cluster_weight': 0.9}: CUDA out of memory. Tried to allocate 802.00 MiB (GPU 0; 23.65 GiB total capacity; 1.83 GiB already allocated; 574.06 MiB free; 1.84 GiB reserved in total by PyTorch) If reserved memory is >> allocated memory try setting max_split_size_mb to avoid fragmentation.  See documentation for Memory Management and PYTORCH_CUDA_ALLOC_CONF\n",
      "  warnings.warn(f\"Error during evaluation of {hyper_args}: {str(e)}\")\n",
      "/home/user/kuei_jan_CHU/PGClustered_ESN/Methods/./Utils/hyper_tuning_utils.py:266: UserWarning: Error during evaluation of {'radius': 0.7, 'sigma_input': 0.1, 'in_cluster_weight': 0.9}: CUDA out of memory. Tried to allocate 802.00 MiB (GPU 0; 23.65 GiB total capacity; 1.89 GiB already allocated; 502.06 MiB free; 1.91 GiB reserved in total by PyTorch) If reserved memory is >> allocated memory try setting max_split_size_mb to avoid fragmentation.  See documentation for Memory Management and PYTORCH_CUDA_ALLOC_CONF\n",
      "  warnings.warn(f\"Error during evaluation of {hyper_args}: {str(e)}\")\n",
      "Grid Search Progress:  28%|███▎        | 7/25 [03:39<11:05, 36.97s/trial, Current Best Loss=0.12353]/home/user/kuei_jan_CHU/PGClustered_ESN/Methods/./Utils/hyper_tuning_utils.py:266: UserWarning: Error during evaluation of {'radius': 0.7, 'sigma_input': 1.0, 'in_cluster_weight': 0.9}: CUDA out of memory. Tried to allocate 802.00 MiB (GPU 0; 23.65 GiB total capacity; 1.71 GiB already allocated; 704.06 MiB free; 1.72 GiB reserved in total by PyTorch) If reserved memory is >> allocated memory try setting max_split_size_mb to avoid fragmentation.  See documentation for Memory Management and PYTORCH_CUDA_ALLOC_CONF\n",
      "  warnings.warn(f\"Error during evaluation of {hyper_args}: {str(e)}\")\n",
      "/home/user/kuei_jan_CHU/PGClustered_ESN/Methods/./Utils/hyper_tuning_utils.py:266: UserWarning: Error during evaluation of {'radius': 0.7, 'sigma_input': 1.5, 'in_cluster_weight': 0.9}: CUDA out of memory. Tried to allocate 802.00 MiB (GPU 0; 23.65 GiB total capacity; 1.77 GiB already allocated; 630.06 MiB free; 1.79 GiB reserved in total by PyTorch) If reserved memory is >> allocated memory try setting max_split_size_mb to avoid fragmentation.  See documentation for Memory Management and PYTORCH_CUDA_ALLOC_CONF\n",
      "  warnings.warn(f\"Error during evaluation of {hyper_args}: {str(e)}\")\n",
      "/home/user/kuei_jan_CHU/PGClustered_ESN/Methods/./Utils/hyper_tuning_utils.py:266: UserWarning: Error during evaluation of {'radius': 0.7, 'sigma_input': 2.0, 'in_cluster_weight': 0.9}: CUDA out of memory. Tried to allocate 802.00 MiB (GPU 0; 23.65 GiB total capacity; 1.83 GiB already allocated; 574.06 MiB free; 1.84 GiB reserved in total by PyTorch) If reserved memory is >> allocated memory try setting max_split_size_mb to avoid fragmentation.  See documentation for Memory Management and PYTORCH_CUDA_ALLOC_CONF\n",
      "  warnings.warn(f\"Error during evaluation of {hyper_args}: {str(e)}\")\n",
      "/home/user/kuei_jan_CHU/PGClustered_ESN/Methods/./Utils/hyper_tuning_utils.py:266: UserWarning: Error during evaluation of {'radius': 0.9, 'sigma_input': 0.1, 'in_cluster_weight': 0.9}: CUDA out of memory. Tried to allocate 802.00 MiB (GPU 0; 23.65 GiB total capacity; 1.65 GiB already allocated; 756.06 MiB free; 1.67 GiB reserved in total by PyTorch) If reserved memory is >> allocated memory try setting max_split_size_mb to avoid fragmentation.  See documentation for Memory Management and PYTORCH_CUDA_ALLOC_CONF\n",
      "  warnings.warn(f\"Error during evaluation of {hyper_args}: {str(e)}\")\n",
      "/home/user/kuei_jan_CHU/PGClustered_ESN/Methods/./Utils/hyper_tuning_utils.py:266: UserWarning: Error during evaluation of {'radius': 0.9, 'sigma_input': 0.5, 'in_cluster_weight': 0.9}: CUDA out of memory. Tried to allocate 802.00 MiB (GPU 0; 23.65 GiB total capacity; 1.71 GiB already allocated; 704.06 MiB free; 1.72 GiB reserved in total by PyTorch) If reserved memory is >> allocated memory try setting max_split_size_mb to avoid fragmentation.  See documentation for Memory Management and PYTORCH_CUDA_ALLOC_CONF\n",
      "  warnings.warn(f\"Error during evaluation of {hyper_args}: {str(e)}\")\n",
      "Grid Search Progress:  60%|██████▌    | 15/25 [07:45<05:10, 31.04s/trial, Current Best Loss=0.12353]\n",
      "{'radius': 0.1, 'sigma_input': 0.5, 'in_cluster_weight': 0.9}\n"
     ]
    }
   ],
   "source": [
    "!bash ./0_PGClustered_ESN_Tune.sh \"tune\" \"Lorenz96_F8_ALPHA6_DIM40\" 1000 1 1 6 \"grid_search_for_icw_0.9_reservoir_size_1000.json\" "
   ]
  },
  {
   "cell_type": "code",
   "execution_count": 127,
   "metadata": {},
   "outputs": [
    {
     "name": "stdout",
     "output_type": "stream",
     "text": [
      "{'radius': 0.1, 'sigma_input': 0.5, 'in_cluster_weight': 0.9}\n",
      "/home/user/anaconda3/lib/python3.11/site-packages/numpy/core/_methods.py:236: RuntimeWarning: invalid value encountered in subtract\n",
      "  x = asanyarray(arr - arrmean)\n",
      "AVERAGE RMNSE ERROR ON TRAIN DATA SET: 1.4683672336770413 ± 0.05306837875465531\n",
      "AVG NUMBER OF ACCURATE 0.5 PREDICTIONS ON TRAIN DATA SET: 1.2229762785583207 ± 0.06916282364229531\n",
      "AVG NUMBER OF ACCURATE 1 PREDICTIONS ON TRAIN DATA SET: 2.139848081893989 ± 0.1335618117750176\n",
      "POWER SPECTRUM MEAN ERROR ON TRAIN DATA SET: 1.2586758688115696 ± 0.2650199878425155\n",
      "TEMPORAL DISTANCE ON TRAIN DATA SET: 0.11072972802926953 ± 0.01014190737644348\n",
      "GEOMETRICAL DISTANCE ON TRAIN DATA SET: inf ± nan\n",
      "\n",
      "\n",
      "AVERAGE RMNSE ERROR ON TEST DATA SET: 1.4571616356004875 ± 0.008062726215063853\n",
      "AVG NUMBER OF ACCURATE 0.5 PREDICTIONS ON TEST DATA SET: 1.221534656226032 ± 0.04965174647821271\n",
      "AVG NUMBER OF ACCURATE 1 PREDICTIONS ON TEST DATA SET: 2.054792364288951 ± 0.11882482133087477\n",
      "POWER SPECTRUM MEAN ERROR ON TEST DATA SET: 0.9542032981471141 ± 0.22417292747965992\n",
      "TEMPORAL DISTANCE ON TEST DATA SET: 0.10840985956438016 ± 0.004507097532504906\n",
      "GEOMETRICAL DISTANCE ON TEST DATA SET: 12.295668191758935 ± 0.09134169644081434\n"
     ]
    }
   ],
   "source": [
    "!bash ./1_PGClustered_ESN_Evaluate_Tuned_Model.sh \"evaluate_tuned_model\" \"Lorenz96_F8_ALPHA6_DIM40\" 1000 1 1 6 \"grid_search_for_icw_0.9_reservoir_size_1000.json\" "
   ]
  },
  {
   "cell_type": "code",
   "execution_count": 128,
   "metadata": {},
   "outputs": [
    {
     "name": "stdout",
     "output_type": "stream",
     "text": [
      "Grid Search Progress:   0%|                                               | 0/25 [00:00<?, ?trial/s]/home/user/kuei_jan_CHU/PGClustered_ESN/Methods/./Utils/hyper_tuning_utils.py:266: UserWarning: Error during evaluation of {'radius': 0.1, 'sigma_input': 0.1, 'in_cluster_weight': 0.1}: CUDA out of memory. Tried to allocate 802.00 MiB (GPU 0; 23.65 GiB total capacity; 1.65 GiB already allocated; 758.06 MiB free; 1.66 GiB reserved in total by PyTorch) If reserved memory is >> allocated memory try setting max_split_size_mb to avoid fragmentation.  See documentation for Memory Management and PYTORCH_CUDA_ALLOC_CONF\n",
      "  warnings.warn(f\"Error during evaluation of {hyper_args}: {str(e)}\")\n",
      "/home/user/kuei_jan_CHU/PGClustered_ESN/Methods/./Utils/hyper_tuning_utils.py:266: UserWarning: Error during evaluation of {'radius': 0.1, 'sigma_input': 0.5, 'in_cluster_weight': 0.1}: CUDA out of memory. Tried to allocate 802.00 MiB (GPU 0; 23.65 GiB total capacity; 1.71 GiB already allocated; 706.06 MiB free; 1.71 GiB reserved in total by PyTorch) If reserved memory is >> allocated memory try setting max_split_size_mb to avoid fragmentation.  See documentation for Memory Management and PYTORCH_CUDA_ALLOC_CONF\n",
      "  warnings.warn(f\"Error during evaluation of {hyper_args}: {str(e)}\")\n",
      "/home/user/kuei_jan_CHU/PGClustered_ESN/Methods/./Utils/hyper_tuning_utils.py:266: UserWarning: Error during evaluation of {'radius': 0.1, 'sigma_input': 1.0, 'in_cluster_weight': 0.1}: CUDA out of memory. Tried to allocate 802.00 MiB (GPU 0; 23.65 GiB total capacity; 1.77 GiB already allocated; 630.06 MiB free; 1.79 GiB reserved in total by PyTorch) If reserved memory is >> allocated memory try setting max_split_size_mb to avoid fragmentation.  See documentation for Memory Management and PYTORCH_CUDA_ALLOC_CONF\n",
      "  warnings.warn(f\"Error during evaluation of {hyper_args}: {str(e)}\")\n",
      "/home/user/kuei_jan_CHU/PGClustered_ESN/Methods/./Utils/hyper_tuning_utils.py:266: UserWarning: Error during evaluation of {'radius': 0.1, 'sigma_input': 1.5, 'in_cluster_weight': 0.1}: CUDA out of memory. Tried to allocate 802.00 MiB (GPU 0; 23.65 GiB total capacity; 1.83 GiB already allocated; 574.06 MiB free; 1.84 GiB reserved in total by PyTorch) If reserved memory is >> allocated memory try setting max_split_size_mb to avoid fragmentation.  See documentation for Memory Management and PYTORCH_CUDA_ALLOC_CONF\n",
      "  warnings.warn(f\"Error during evaluation of {hyper_args}: {str(e)}\")\n",
      "/home/user/kuei_jan_CHU/PGClustered_ESN/Methods/./Utils/hyper_tuning_utils.py:266: UserWarning: Error during evaluation of {'radius': 0.1, 'sigma_input': 2.0, 'in_cluster_weight': 0.1}: CUDA out of memory. Tried to allocate 802.00 MiB (GPU 0; 23.65 GiB total capacity; 1.89 GiB already allocated; 502.06 MiB free; 1.91 GiB reserved in total by PyTorch) If reserved memory is >> allocated memory try setting max_split_size_mb to avoid fragmentation.  See documentation for Memory Management and PYTORCH_CUDA_ALLOC_CONF\n",
      "  warnings.warn(f\"Error during evaluation of {hyper_args}: {str(e)}\")\n",
      "Grid Search Progress:  16%|█▉          | 4/25 [02:15<10:40, 30.51s/trial, Current Best Loss=0.13615]/home/user/kuei_jan_CHU/PGClustered_ESN/Methods/./Utils/global_utils.py:256: RuntimeWarning: divide by zero encountered in log10\n",
      "  s_dbfs = 20 * np.log10(s_mag)\n",
      "Grid Search Progress:  80%|████████▊  | 20/25 [09:22<02:20, 28.11s/trial, Current Best Loss=0.13615]\n",
      "{'radius': 0.4, 'sigma_input': 0.5, 'in_cluster_weight': 0.1}\n"
     ]
    }
   ],
   "source": [
    "!bash ./0_PGClustered_ESN_Tune.sh \"tune\" \"Lorenz96_F8_ALPHA7_DIM40\" 1000 1 1 7 \"grid_search_for_icw_0.1_reservoir_size_1000.json\" "
   ]
  },
  {
   "cell_type": "code",
   "execution_count": 129,
   "metadata": {},
   "outputs": [
    {
     "name": "stdout",
     "output_type": "stream",
     "text": [
      "{'radius': 0.4, 'sigma_input': 0.5, 'in_cluster_weight': 0.1}\n",
      "AVERAGE RMNSE ERROR ON TRAIN DATA SET: 1.460642987854017 ± 0.003612673916957879\n",
      "AVG NUMBER OF ACCURATE 0.5 PREDICTIONS ON TRAIN DATA SET: 1.1240793935384015 ± 0.0724017394905541\n",
      "AVG NUMBER OF ACCURATE 1 PREDICTIONS ON TRAIN DATA SET: 1.9462477749034193 ± 0.10876474144094428\n",
      "POWER SPECTRUM MEAN ERROR ON TRAIN DATA SET: 1.0398218666180505 ± 0.15983200670561457\n",
      "TEMPORAL DISTANCE ON TRAIN DATA SET: 0.12253783612200068 ± 0.0008955113744750924\n",
      "GEOMETRICAL DISTANCE ON TRAIN DATA SET: 12.183417705464127 ± 0.08866892226932485\n",
      "\n",
      "\n",
      "AVERAGE RMNSE ERROR ON TEST DATA SET: 1.4612309041170044 ± 0.0031668627785915934\n",
      "AVG NUMBER OF ACCURATE 0.5 PREDICTIONS ON TEST DATA SET: 1.0291930754267666 ± 0.07164303581368425\n",
      "AVG NUMBER OF ACCURATE 1 PREDICTIONS ON TEST DATA SET: 1.870230895052621 ± 0.11223553220490214\n",
      "POWER SPECTRUM MEAN ERROR ON TEST DATA SET: 0.9922755451741339 ± 0.1932341214093795\n",
      "TEMPORAL DISTANCE ON TEST DATA SET: 0.12274347887864753 ± 0.0006227619414193141\n",
      "GEOMETRICAL DISTANCE ON TEST DATA SET: 12.210899277154008 ± 0.065929465510959\n"
     ]
    }
   ],
   "source": [
    "!bash ./1_PGClustered_ESN_Evaluate_Tuned_Model.sh \"evaluate_tuned_model\" \"Lorenz96_F8_ALPHA7_DIM40\" 1000 1 1 7 \"grid_search_for_icw_0.1_reservoir_size_1000.json\" "
   ]
  },
  {
   "cell_type": "code",
   "execution_count": 130,
   "metadata": {},
   "outputs": [
    {
     "name": "stdout",
     "output_type": "stream",
     "text": [
      "Grid Search Progress:  16%|█▉          | 4/25 [01:49<09:23, 26.85s/trial, Current Best Loss=0.13546]/home/user/kuei_jan_CHU/PGClustered_ESN/Methods/./Utils/global_utils.py:256: RuntimeWarning: divide by zero encountered in log10\n",
      "  s_dbfs = 20 * np.log10(s_mag)\n",
      "Grid Search Progress: 100%|███████████| 25/25 [11:12<00:00, 26.88s/trial, Current Best Loss=0.13546]\n",
      "{'radius': 0.1, 'sigma_input': 0.5, 'in_cluster_weight': 0.3}\n"
     ]
    }
   ],
   "source": [
    "!bash ./0_PGClustered_ESN_Tune.sh \"tune\" \"Lorenz96_F8_ALPHA7_DIM40\" 1000 1 1 7 \"grid_search_for_icw_0.3_reservoir_size_1000.json\" "
   ]
  },
  {
   "cell_type": "code",
   "execution_count": 131,
   "metadata": {},
   "outputs": [
    {
     "name": "stdout",
     "output_type": "stream",
     "text": [
      "{'radius': 0.1, 'sigma_input': 0.5, 'in_cluster_weight': 0.3}\n",
      "^C\n",
      "Traceback (most recent call last):\n",
      "  File \"/home/user/kuei_jan_CHU/PGClustered_ESN/Methods/RUN.py\", line 85, in <module>\n",
      "    main()\n",
      "  File \"/home/user/kuei_jan_CHU/PGClustered_ESN/Methods/RUN.py\", line 82, in main\n",
      "    runModel(args_dict)\n",
      "  File \"/home/user/kuei_jan_CHU/PGClustered_ESN/Methods/RUN.py\", line 12, in runModel\n",
      "    evaluateTunedModel(params_dict)\n",
      "  File \"/home/user/kuei_jan_CHU/PGClustered_ESN/Methods/./Utils/global_utils.py\", line 660, in evaluateTunedModel\n",
      "    testModelMultipleTimes(params_dict.copy())\n",
      "  File \"/home/user/kuei_jan_CHU/PGClustered_ESN/Methods/./Utils/global_utils.py\", line 718, in testModelMultipleTimes\n",
      "    model.test()\n",
      "  File \"/home/user/kuei_jan_CHU/PGClustered_ESN/Methods/./Utils/esn.py\", line 212, in test\n",
      "    self.testOnTrainingSet()\n",
      "  File \"/home/user/kuei_jan_CHU/PGClustered_ESN/Methods/./Utils/esn.py\", line 234, in testOnTrainingSet\n",
      "    self.predictIndexes(train_input_sequence, testing_ic_indexes, data_mle, dt, \"TRAIN\")\n",
      "  File \"/home/user/kuei_jan_CHU/PGClustered_ESN/Methods/./Utils/esn.py\", line 306, in predictIndexes\n",
      "    hidden_state = hidden_state.cpu().detach().numpy()\n",
      "                   ^^^^^^^^^^^^^^^^^^\n",
      "  File \"/home/user/anaconda3/lib/python3.11/site-packages/torch/utils/_device.py\", line 62, in __torch_function__\n",
      "    return func(*args, **kwargs)\n",
      "           ^^^^^^^^^^^^^^^^^^^^^\n",
      "KeyboardInterrupt\n"
     ]
    }
   ],
   "source": [
    "!bash ./1_PGClustered_ESN_Evaluate_Tuned_Model.sh \"evaluate_tuned_model\" \"Lorenz96_F8_ALPHA7_DIM40\" 1000 1 1 7 \"grid_search_for_icw_0.3_reservoir_size_1000.json\" "
   ]
  },
  {
   "cell_type": "code",
   "execution_count": null,
   "metadata": {},
   "outputs": [
    {
     "name": "stdout",
     "output_type": "stream",
     "text": [
      "Grid Search Progress:   0%|                                               | 0/25 [00:00<?, ?trial/s]"
     ]
    }
   ],
   "source": [
    "!bash ./0_PGClustered_ESN_Tune.sh \"tune\" \"Lorenz96_F8_ALPHA7_DIM40\" 1000 1 1 7 \"grid_search_for_icw_0.5_reservoir_size_1000.json\" "
   ]
  },
  {
   "cell_type": "code",
   "execution_count": null,
   "metadata": {},
   "outputs": [],
   "source": [
    "!bash ./1_PGClustered_ESN_Evaluate_Tuned_Model.sh \"evaluate_tuned_model\" \"Lorenz96_F8_ALPHA7_DIM40\" 1000 1 1 7 \"grid_search_for_icw_0.5_reservoir_size_1000.json\" "
   ]
  },
  {
   "cell_type": "code",
   "execution_count": null,
   "metadata": {},
   "outputs": [],
   "source": [
    "!bash ./0_PGClustered_ESN_Tune.sh \"tune\" \"Lorenz96_F8_ALPHA7_DIM40\" 1000 1 1 7 \"grid_search_for_icw_0.7_reservoir_size_1000.json\" "
   ]
  },
  {
   "cell_type": "code",
   "execution_count": null,
   "metadata": {},
   "outputs": [],
   "source": [
    "!bash ./1_PGClustered_ESN_Evaluate_Tuned_Model.sh \"evaluate_tuned_model\" \"Lorenz96_F8_ALPHA7_DIM40\" 1000 1 1 7 \"grid_search_for_icw_0.7_reservoir_size_1000.json\" "
   ]
  },
  {
   "cell_type": "code",
   "execution_count": null,
   "metadata": {},
   "outputs": [],
   "source": [
    "!bash ./0_PGClustered_ESN_Tune.sh \"tune\" \"Lorenz96_F8_ALPHA7_DIM40\" 1000 1 1 7 \"grid_search_for_icw_0.9_reservoir_size_1000.json\" "
   ]
  },
  {
   "cell_type": "code",
   "execution_count": null,
   "metadata": {},
   "outputs": [],
   "source": [
    "!bash ./1_PGClustered_ESN_Evaluate_Tuned_Model.sh \"evaluate_tuned_model\" \"Lorenz96_F8_ALPHA7_DIM40\" 1000 1 1 7 \"grid_search_for_icw_0.9_reservoir_size_1000.json\" "
   ]
  },
  {
   "cell_type": "code",
   "execution_count": null,
   "metadata": {},
   "outputs": [],
   "source": [
    "!bash ./0_PGClustered_ESN_Tune.sh \"tune\" \"Lorenz96_F8_ALPHA8_DIM40\" 1000 1 1 8 \"grid_search_for_icw_0.1_reservoir_size_1000.json\" "
   ]
  },
  {
   "cell_type": "code",
   "execution_count": null,
   "metadata": {},
   "outputs": [],
   "source": [
    "!bash ./1_PGClustered_ESN_Evaluate_Tuned_Model.sh \"evaluate_tuned_model\" \"Lorenz96_F8_ALPHA8_DIM40\" 1000 1 1 8 \"grid_search_for_icw_0.1_reservoir_size_1000.json\" "
   ]
  },
  {
   "cell_type": "code",
   "execution_count": null,
   "metadata": {},
   "outputs": [],
   "source": [
    "!bash ./0_PGClustered_ESN_Tune.sh \"tune\" \"Lorenz96_F8_ALPHA8_DIM40\" 1000 1 1 8 \"grid_search_for_icw_0.3_reservoir_size_1000.json\" "
   ]
  },
  {
   "cell_type": "code",
   "execution_count": null,
   "metadata": {},
   "outputs": [],
   "source": [
    "!bash ./1_PGClustered_ESN_Evaluate_Tuned_Model.sh \"evaluate_tuned_model\" \"Lorenz96_F8_ALPHA8_DIM40\" 1000 1 1 8 \"grid_search_for_icw_0.3_reservoir_size_1000.json\" "
   ]
  },
  {
   "cell_type": "code",
   "execution_count": null,
   "metadata": {},
   "outputs": [],
   "source": [
    "!bash ./0_PGClustered_ESN_Tune.sh \"tune\" \"Lorenz96_F8_ALPHA8_DIM40\" 1000 1 1 8 \"grid_search_for_icw_0.5_reservoir_size_1000.json\" "
   ]
  },
  {
   "cell_type": "code",
   "execution_count": null,
   "metadata": {},
   "outputs": [],
   "source": [
    "!bash ./1_PGClustered_ESN_Evaluate_Tuned_Model.sh \"evaluate_tuned_model\" \"Lorenz96_F8_ALPHA8_DIM40\" 1000 1 1 8 \"grid_search_for_icw_0.5_reservoir_size_1000.json\" "
   ]
  },
  {
   "cell_type": "code",
   "execution_count": null,
   "metadata": {},
   "outputs": [],
   "source": [
    "!bash ./0_PGClustered_ESN_Tune.sh \"tune\" \"Lorenz96_F8_ALPHA8_DIM40\" 1000 1 1 8 \"grid_search_for_icw_0.7_reservoir_size_1000.json\" "
   ]
  },
  {
   "cell_type": "code",
   "execution_count": null,
   "metadata": {},
   "outputs": [],
   "source": [
    "!bash ./1_PGClustered_ESN_Evaluate_Tuned_Model.sh \"evaluate_tuned_model\" \"Lorenz96_F8_ALPHA8_DIM40\" 1000 1 1 8 \"grid_search_for_icw_0.7_reservoir_size_1000.json\" "
   ]
  },
  {
   "cell_type": "code",
   "execution_count": null,
   "metadata": {},
   "outputs": [],
   "source": [
    "!bash ./0_PGClustered_ESN_Tune.sh \"tune\" \"Lorenz96_F8_ALPHA8_DIM40\" 1000 1 1 8 \"grid_search_for_icw_0.9_reservoir_size_1000.json\" "
   ]
  },
  {
   "cell_type": "code",
   "execution_count": null,
   "metadata": {},
   "outputs": [],
   "source": [
    "!bash ./1_PGClustered_ESN_Evaluate_Tuned_Model.sh \"evaluate_tuned_model\" \"Lorenz96_F8_ALPHA8_DIM40\" 1000 1 1 8 \"grid_search_for_icw_0.9_reservoir_size_1000.json\" "
   ]
  },
  {
   "cell_type": "code",
   "execution_count": null,
   "metadata": {},
   "outputs": [],
   "source": [
    "!bash ./0_PGClustered_ESN_Tune.sh \"tune\" \"Lorenz96_F8_ALPHA9_DIM40\" 1000 1 1 9 \"grid_search_for_icw_0.1_reservoir_size_1000.json\" "
   ]
  },
  {
   "cell_type": "code",
   "execution_count": null,
   "metadata": {},
   "outputs": [],
   "source": [
    "!bash ./1_PGClustered_ESN_Evaluate_Tuned_Model.sh \"evaluate_tuned_model\" \"Lorenz96_F8_ALPHA9_DIM40\" 1000 1 1 9 \"grid_search_for_icw_0.1_reservoir_size_1000.json\" "
   ]
  },
  {
   "cell_type": "code",
   "execution_count": null,
   "metadata": {},
   "outputs": [],
   "source": [
    "!bash ./0_PGClustered_ESN_Tune.sh \"tune\" \"Lorenz96_F8_ALPHA9_DIM40\" 1000 1 1 9 \"grid_search_for_icw_0.3_reservoir_size_1000.json\" "
   ]
  },
  {
   "cell_type": "code",
   "execution_count": null,
   "metadata": {},
   "outputs": [],
   "source": [
    "!bash ./1_PGClustered_ESN_Evaluate_Tuned_Model.sh \"evaluate_tuned_model\" \"Lorenz96_F8_ALPHA9_DIM40\" 1000 1 1 9 \"grid_search_for_icw_0.3_reservoir_size_1000.json\" "
   ]
  },
  {
   "cell_type": "code",
   "execution_count": null,
   "metadata": {},
   "outputs": [],
   "source": [
    "!bash ./0_PGClustered_ESN_Tune.sh \"tune\" \"Lorenz96_F8_ALPHA9_DIM40\" 1000 1 1 9 \"grid_search_for_icw_0.5_reservoir_size_1000.json\" "
   ]
  },
  {
   "cell_type": "code",
   "execution_count": null,
   "metadata": {},
   "outputs": [],
   "source": [
    "!bash ./1_PGClustered_ESN_Evaluate_Tuned_Model.sh \"evaluate_tuned_model\" \"Lorenz96_F8_ALPHA9_DIM40\" 1000 1 1 9 \"grid_search_for_icw_0.5_reservoir_size_1000.json\" "
   ]
  },
  {
   "cell_type": "code",
   "execution_count": null,
   "metadata": {},
   "outputs": [],
   "source": [
    "!bash ./0_PGClustered_ESN_Tune.sh \"tune\" \"Lorenz96_F8_ALPHA9_DIM40\" 1000 1 1 9 \"grid_search_for_icw_0.7_reservoir_size_1000.json\" "
   ]
  },
  {
   "cell_type": "code",
   "execution_count": null,
   "metadata": {},
   "outputs": [],
   "source": [
    "!bash ./1_PGClustered_ESN_Evaluate_Tuned_Model.sh \"evaluate_tuned_model\" \"Lorenz96_F8_ALPHA9_DIM40\" 1000 1 1 9 \"grid_search_for_icw_0.7_reservoir_size_1000.json\" "
   ]
  },
  {
   "cell_type": "code",
   "execution_count": null,
   "metadata": {},
   "outputs": [],
   "source": [
    "!bash ./0_PGClustered_ESN_Tune.sh \"tune\" \"Lorenz96_F8_ALPHA9_DIM40\" 1000 1 1 9 \"grid_search_for_icw_0.9_reservoir_size_1000.json\" "
   ]
  },
  {
   "cell_type": "code",
   "execution_count": null,
   "metadata": {},
   "outputs": [],
   "source": [
    "!bash ./1_PGClustered_ESN_Evaluate_Tuned_Model.sh \"evaluate_tuned_model\" \"Lorenz96_F8_ALPHA9_DIM40\" 1000 1 1 9 \"grid_search_for_icw_0.9_reservoir_size_1000.json\" "
   ]
  },
  {
   "cell_type": "code",
   "execution_count": null,
   "metadata": {},
   "outputs": [],
   "source": [
    "!bash ./0_PGClustered_ESN_Tune.sh \"tune\" \"Lorenz96_F8_ALPHA10_DIM40\" 1000 1 1 10 \"grid_search_for_icw_0.1_reservoir_size_1000.json\" "
   ]
  },
  {
   "cell_type": "code",
   "execution_count": null,
   "metadata": {},
   "outputs": [],
   "source": [
    "!bash ./1_PGClustered_ESN_Evaluate_Tuned_Model.sh \"evaluate_tuned_model\" \"Lorenz96_F8_ALPHA10_DIM40\" 1000 1 1 10 \"grid_search_for_icw_0.1_reservoir_size_1000.json\" "
   ]
  },
  {
   "cell_type": "code",
   "execution_count": null,
   "metadata": {},
   "outputs": [],
   "source": [
    "!bash ./0_PGClustered_ESN_Tune.sh \"tune\" \"Lorenz96_F8_ALPHA10_DIM40\" 1000 1 1 10 \"grid_search_for_icw_0.3_reservoir_size_1000.json\" "
   ]
  },
  {
   "cell_type": "code",
   "execution_count": null,
   "metadata": {},
   "outputs": [],
   "source": [
    "!bash ./1_PGClustered_ESN_Evaluate_Tuned_Model.sh \"evaluate_tuned_model\" \"Lorenz96_F8_ALPHA10_DIM40\" 1000 1 1 10 \"grid_search_for_icw_0.3_reservoir_size_1000.json\" "
   ]
  },
  {
   "cell_type": "code",
   "execution_count": null,
   "metadata": {},
   "outputs": [],
   "source": [
    "!bash ./0_PGClustered_ESN_Tune.sh \"tune\" \"Lorenz96_F8_ALPHA10_DIM40\" 1000 1 1 10 \"grid_search_for_icw_0.5_reservoir_size_1000.json\" "
   ]
  },
  {
   "cell_type": "code",
   "execution_count": null,
   "metadata": {},
   "outputs": [],
   "source": [
    "!bash ./1_PGClustered_ESN_Evaluate_Tuned_Model.sh \"evaluate_tuned_model\" \"Lorenz96_F8_ALPHA10_DIM40\" 1000 1 1 10 \"grid_search_for_icw_0.5_reservoir_size_1000.json\" "
   ]
  },
  {
   "cell_type": "code",
   "execution_count": null,
   "metadata": {},
   "outputs": [],
   "source": [
    "!bash ./0_PGClustered_ESN_Tune.sh \"tune\" \"Lorenz96_F8_ALPHA10_DIM40\" 1000 1 1 10 \"grid_search_for_icw_0.7_reservoir_size_1000.json\" "
   ]
  },
  {
   "cell_type": "code",
   "execution_count": null,
   "metadata": {},
   "outputs": [],
   "source": [
    "!bash ./1_PGClustered_ESN_Evaluate_Tuned_Model.sh \"evaluate_tuned_model\" \"Lorenz96_F8_ALPHA10_DIM40\" 1000 1 1 10 \"grid_search_for_icw_0.7_reservoir_size_1000.json\" "
   ]
  },
  {
   "cell_type": "code",
   "execution_count": null,
   "metadata": {},
   "outputs": [],
   "source": [
    "!bash ./0_PGClustered_ESN_Tune.sh \"tune\" \"Lorenz96_F8_ALPHA10_DIM40\" 1000 1 1 10 \"grid_search_for_icw_0.9_reservoir_size_1000.json\" "
   ]
  },
  {
   "cell_type": "code",
   "execution_count": null,
   "metadata": {},
   "outputs": [],
   "source": [
    "!bash ./1_PGClustered_ESN_Evaluate_Tuned_Model.sh \"evaluate_tuned_model\" \"Lorenz96_F8_ALPHA10_DIM40\" 1000 1 1 10 \"grid_search_for_icw_0.9_reservoir_size_1000.json\" "
   ]
  },
  {
   "cell_type": "markdown",
   "metadata": {},
   "source": [
    "# size 2000"
   ]
  },
  {
   "cell_type": "code",
   "execution_count": 1,
   "metadata": {},
   "outputs": [
    {
     "name": "stdout",
     "output_type": "stream",
     "text": [
      "Grid Search Progress:  32%|███▊        | 8/25 [06:11<12:50, 45.30s/trial, Current Best Loss=0.12162]/home/user/kuei_jan_CHU/PGClustered_ESN/Methods/./Utils/global_utils.py:256: RuntimeWarning: divide by zero encountered in log10\n",
      "  s_dbfs = 20 * np.log10(s_mag)\n",
      "Grid Search Progress: 100%|███████████| 25/25 [18:42<00:00, 44.89s/trial, Current Best Loss=0.12148]\n",
      "{'radius': 0.9, 'sigma_input': 0.1, 'in_cluster_weight': 0.1}\n"
     ]
    }
   ],
   "source": [
    "!bash ./0_PGClustered_ESN_Tune.sh \"tune\" \"Lorenz96_F8_ALPHA1_DIM40\" 2000 1 1 1 \"grid_search_for_icw_0.1_reservoir_size_2000.json\" "
   ]
  },
  {
   "cell_type": "code",
   "execution_count": 2,
   "metadata": {},
   "outputs": [
    {
     "name": "stdout",
     "output_type": "stream",
     "text": [
      "{'radius': 0.9, 'sigma_input': 0.1, 'in_cluster_weight': 0.1}\n",
      "AVERAGE RMNSE ERROR ON TRAIN DATA SET: 1.3718083188593584 ± 0.007446571366422494\n",
      "AVG NUMBER OF ACCURATE 0.5 PREDICTIONS ON TRAIN DATA SET: 2.502501003458174 ± 0.11809844836855156\n",
      "AVG NUMBER OF ACCURATE 1 PREDICTIONS ON TRAIN DATA SET: 4.0201980381861855 ± 0.23952461911206413\n",
      "POWER SPECTRUM MEAN ERROR ON TRAIN DATA SET: 0.5154773052298253 ± 0.35796857836719315\n",
      "TEMPORAL DISTANCE ON TRAIN DATA SET: 0.10803498561164696 ± 0.0012399837539081426\n",
      "GEOMETRICAL DISTANCE ON TRAIN DATA SET: 13.052817481051381 ± 0.11729468115705752\n",
      "\n",
      "\n",
      "AVERAGE RMNSE ERROR ON TEST DATA SET: 1.3764403264323195 ± 0.007977077017296778\n",
      "AVG NUMBER OF ACCURATE 0.5 PREDICTIONS ON TEST DATA SET: 2.165047145675272 ± 0.1377443496744984\n",
      "AVG NUMBER OF ACCURATE 1 PREDICTIONS ON TEST DATA SET: 3.5884058774759993 ± 0.17310107319592108\n",
      "POWER SPECTRUM MEAN ERROR ON TEST DATA SET: 0.9214919374137542 ± 0.6801820125324678\n",
      "TEMPORAL DISTANCE ON TEST DATA SET: 0.10897662452824568 ± 0.0018425546192680578\n",
      "GEOMETRICAL DISTANCE ON TEST DATA SET: 13.008165101286389 ± 0.11251342791327203\n"
     ]
    }
   ],
   "source": [
    "!bash ./1_PGClustered_ESN_Evaluate_Tuned_Model.sh \"evaluate_tuned_model\" \"Lorenz96_F8_ALPHA1_DIM40\" 2000 1 1 1 \"grid_search_for_icw_0.1_reservoir_size_2000.json\" "
   ]
  },
  {
   "cell_type": "code",
   "execution_count": 3,
   "metadata": {},
   "outputs": [
    {
     "name": "stdout",
     "output_type": "stream",
     "text": [
      "Grid Search Progress:  52%|█████▋     | 13/25 [09:53<09:00, 45.04s/trial, Current Best Loss=0.11943]/home/user/kuei_jan_CHU/PGClustered_ESN/Methods/./Utils/global_utils.py:256: RuntimeWarning: divide by zero encountered in log10\n",
      "  s_dbfs = 20 * np.log10(s_mag)\n",
      "Grid Search Progress: 100%|███████████| 25/25 [18:38<00:00, 44.75s/trial, Current Best Loss=0.11943]\n",
      "{'radius': 0.1, 'sigma_input': 0.1, 'in_cluster_weight': 0.3}\n"
     ]
    }
   ],
   "source": [
    "!bash ./0_PGClustered_ESN_Tune.sh \"tune\" \"Lorenz96_F8_ALPHA1_DIM40\" 2000 1 1 1 \"grid_search_for_icw_0.3_reservoir_size_2000.json\" "
   ]
  },
  {
   "cell_type": "code",
   "execution_count": 4,
   "metadata": {},
   "outputs": [
    {
     "name": "stdout",
     "output_type": "stream",
     "text": [
      "{'radius': 0.1, 'sigma_input': 0.1, 'in_cluster_weight': 0.3}\n",
      "AVERAGE RMNSE ERROR ON TRAIN DATA SET: 1.3684422363555706 ± 0.008370465605354604\n",
      "AVG NUMBER OF ACCURATE 0.5 PREDICTIONS ON TRAIN DATA SET: 2.6707207371725965 ± 0.0955421038267449\n",
      "AVG NUMBER OF ACCURATE 1 PREDICTIONS ON TRAIN DATA SET: 4.327389250406392 ± 0.25155403690358813\n",
      "POWER SPECTRUM MEAN ERROR ON TRAIN DATA SET: 0.33362291509980146 ± 0.20087750287732048\n",
      "TEMPORAL DISTANCE ON TRAIN DATA SET: 0.10728700834400147 ± 0.0016345419559767856\n",
      "GEOMETRICAL DISTANCE ON TRAIN DATA SET: 12.969366945243717 ± 0.1048200542012037\n",
      "\n",
      "\n",
      "AVERAGE RMNSE ERROR ON TEST DATA SET: 1.370644241610033 ± 0.007263635971466569\n",
      "AVG NUMBER OF ACCURATE 0.5 PREDICTIONS ON TEST DATA SET: 2.3210941951410122 ± 0.154818645016506\n",
      "AVG NUMBER OF ACCURATE 1 PREDICTIONS ON TEST DATA SET: 3.8414962708131752 ± 0.21622528777808586\n",
      "POWER SPECTRUM MEAN ERROR ON TEST DATA SET: 0.7930009273885492 ± 0.4560499189698562\n",
      "TEMPORAL DISTANCE ON TEST DATA SET: 0.10802519244894308 ± 0.00194772370570455\n",
      "GEOMETRICAL DISTANCE ON TEST DATA SET: 12.989626709312091 ± 0.11136374543499421\n"
     ]
    }
   ],
   "source": [
    "!bash ./1_PGClustered_ESN_Evaluate_Tuned_Model.sh \"evaluate_tuned_model\" \"Lorenz96_F8_ALPHA1_DIM40\" 2000 1 1 1 \"grid_search_for_icw_0.3_reservoir_size_2000.json\" "
   ]
  },
  {
   "cell_type": "code",
   "execution_count": 5,
   "metadata": {},
   "outputs": [
    {
     "name": "stdout",
     "output_type": "stream",
     "text": [
      "Grid Search Progress:  16%|█▉          | 4/25 [03:06<15:43, 44.93s/trial, Current Best Loss=0.12194]/home/user/kuei_jan_CHU/PGClustered_ESN/Methods/./Utils/global_utils.py:256: RuntimeWarning: divide by zero encountered in log10\n",
      "  s_dbfs = 20 * np.log10(s_mag)\n",
      "Grid Search Progress: 100%|███████████| 25/25 [18:47<00:00, 45.10s/trial, Current Best Loss=0.12194]\n",
      "{'radius': 0.1, 'sigma_input': 0.1, 'in_cluster_weight': 0.7}\n"
     ]
    }
   ],
   "source": [
    "!bash ./0_PGClustered_ESN_Tune.sh \"tune\" \"Lorenz96_F8_ALPHA1_DIM40\" 2000 1 1 1 \"grid_search_for_icw_0.7_reservoir_size_2000.json\" "
   ]
  },
  {
   "cell_type": "code",
   "execution_count": 6,
   "metadata": {},
   "outputs": [
    {
     "name": "stdout",
     "output_type": "stream",
     "text": [
      "{'radius': 0.1, 'sigma_input': 0.1, 'in_cluster_weight': 0.7}\n",
      "AVERAGE RMNSE ERROR ON TRAIN DATA SET: 1.3666467542583702 ± 0.006455665614963069\n",
      "AVG NUMBER OF ACCURATE 0.5 PREDICTIONS ON TRAIN DATA SET: 2.668945554052997 ± 0.09495118022868114\n",
      "AVG NUMBER OF ACCURATE 1 PREDICTIONS ON TRAIN DATA SET: 4.340491792479627 ± 0.2688199697634506\n",
      "POWER SPECTRUM MEAN ERROR ON TRAIN DATA SET: 0.43567918424335195 ± 0.36591152705604313\n",
      "TEMPORAL DISTANCE ON TRAIN DATA SET: 0.10742844458514318 ± 0.0020831098640204044\n",
      "GEOMETRICAL DISTANCE ON TRAIN DATA SET: 13.000579792290555 ± 0.09904750449006731\n",
      "\n",
      "\n",
      "AVERAGE RMNSE ERROR ON TEST DATA SET: 1.3694678760069032 ± 0.0054536251372272315\n",
      "AVG NUMBER OF ACCURATE 0.5 PREDICTIONS ON TEST DATA SET: 2.320248869845965 ± 0.15479325735104868\n",
      "AVG NUMBER OF ACCURATE 1 PREDICTIONS ON TEST DATA SET: 3.8346491359232915 ± 0.22008626458011632\n",
      "POWER SPECTRUM MEAN ERROR ON TEST DATA SET: 0.7099605711771299 ± 0.46847984746161764\n",
      "TEMPORAL DISTANCE ON TEST DATA SET: 0.10829843041600473 ± 0.0016887657672612106\n",
      "GEOMETRICAL DISTANCE ON TEST DATA SET: 12.992555658563353 ± 0.09701475186450696\n"
     ]
    }
   ],
   "source": [
    "!bash ./1_PGClustered_ESN_Evaluate_Tuned_Model.sh \"evaluate_tuned_model\" \"Lorenz96_F8_ALPHA1_DIM40\" 2000 1 1 1 \"grid_search_for_icw_0.7_reservoir_size_2000.json\" "
   ]
  },
  {
   "cell_type": "code",
   "execution_count": 7,
   "metadata": {},
   "outputs": [
    {
     "name": "stdout",
     "output_type": "stream",
     "text": [
      "Grid Search Progress:  12%|█▍          | 3/25 [02:25<17:14, 47.03s/trial, Current Best Loss=0.12153]/home/user/kuei_jan_CHU/PGClustered_ESN/Methods/./Utils/global_utils.py:256: RuntimeWarning: divide by zero encountered in log10\n",
      "  s_dbfs = 20 * np.log10(s_mag)\n",
      "Grid Search Progress: 100%|███████████| 25/25 [18:41<00:00, 44.86s/trial, Current Best Loss=0.12149]\n",
      "{'radius': 0.7, 'sigma_input': 0.1, 'in_cluster_weight': 0.9}\n"
     ]
    }
   ],
   "source": [
    "!bash ./0_PGClustered_ESN_Tune.sh \"tune\" \"Lorenz96_F8_ALPHA1_DIM40\" 2000 1 1 1 \"grid_search_for_icw_0.9_reservoir_size_2000.json\"  "
   ]
  },
  {
   "cell_type": "code",
   "execution_count": 8,
   "metadata": {},
   "outputs": [
    {
     "name": "stdout",
     "output_type": "stream",
     "text": [
      "{'radius': 0.7, 'sigma_input': 0.1, 'in_cluster_weight': 0.9}\n",
      "AVERAGE RMNSE ERROR ON TRAIN DATA SET: 1.3701015039236644 ± 0.007910170164139328\n",
      "AVG NUMBER OF ACCURATE 0.5 PREDICTIONS ON TRAIN DATA SET: 2.639697298844358 ± 0.14137749032975094\n",
      "AVG NUMBER OF ACCURATE 1 PREDICTIONS ON TRAIN DATA SET: 4.20025232603127 ± 0.24198307350857437\n",
      "POWER SPECTRUM MEAN ERROR ON TRAIN DATA SET: 0.4552649421000375 ± 0.32028690575091556\n",
      "TEMPORAL DISTANCE ON TRAIN DATA SET: 0.10716151006083977 ± 0.0010314765038593838\n",
      "GEOMETRICAL DISTANCE ON TRAIN DATA SET: 13.06456749560381 ± 0.0933033935550605\n",
      "\n",
      "\n",
      "AVERAGE RMNSE ERROR ON TEST DATA SET: 1.376022363532795 ± 0.005033541830031211\n",
      "AVG NUMBER OF ACCURATE 0.5 PREDICTIONS ON TEST DATA SET: 2.276630084621522 ± 0.14700923858679218\n",
      "AVG NUMBER OF ACCURATE 1 PREDICTIONS ON TEST DATA SET: 3.7665159171424754 ± 0.21550740711886648\n",
      "POWER SPECTRUM MEAN ERROR ON TEST DATA SET: 0.7959205783404548 ± 0.5017269713625225\n",
      "TEMPORAL DISTANCE ON TEST DATA SET: 0.1083692676762271 ± 0.002003405495978625\n",
      "GEOMETRICAL DISTANCE ON TEST DATA SET: 13.069573011033956 ± 0.10022124402540236\n"
     ]
    }
   ],
   "source": [
    "!bash ./1_PGClustered_ESN_Evaluate_Tuned_Model.sh \"evaluate_tuned_model\" \"Lorenz96_F8_ALPHA1_DIM40\" 2000 1 1 1 \"grid_search_for_icw_0.9_reservoir_size_2000.json\" "
   ]
  },
  {
   "cell_type": "code",
   "execution_count": 9,
   "metadata": {},
   "outputs": [
    {
     "name": "stdout",
     "output_type": "stream",
     "text": [
      "Grid Search Progress:  16%|█▉          | 4/25 [03:03<15:31, 44.38s/trial, Current Best Loss=0.11258]/home/user/kuei_jan_CHU/PGClustered_ESN/Methods/./Utils/global_utils.py:256: RuntimeWarning: divide by zero encountered in log10\n",
      "  s_dbfs = 20 * np.log10(s_mag)\n",
      "Grid Search Progress: 100%|███████████| 25/25 [18:32<00:00, 44.48s/trial, Current Best Loss=0.11258]\n",
      "{'radius': 0.1, 'sigma_input': 0.1, 'in_cluster_weight': 0.1}\n"
     ]
    }
   ],
   "source": [
    "!bash ./0_PGClustered_ESN_Tune.sh \"tune\" \"Lorenz96_F8_ALPHA2_DIM40\" 2000 1 1 2 \"grid_search_for_icw_0.1_reservoir_size_2000.json\" "
   ]
  },
  {
   "cell_type": "code",
   "execution_count": 10,
   "metadata": {},
   "outputs": [
    {
     "name": "stdout",
     "output_type": "stream",
     "text": [
      "{'radius': 0.1, 'sigma_input': 0.1, 'in_cluster_weight': 0.1}\n",
      "AVERAGE RMNSE ERROR ON TRAIN DATA SET: 1.375071540460673 ± 0.005111672327824086\n",
      "AVG NUMBER OF ACCURATE 0.5 PREDICTIONS ON TRAIN DATA SET: 3.020447192658689 ± 0.18039821736992293\n",
      "AVG NUMBER OF ACCURATE 1 PREDICTIONS ON TRAIN DATA SET: 4.4442437715924195 ± 0.24482345545339557\n",
      "POWER SPECTRUM MEAN ERROR ON TRAIN DATA SET: 0.7589306164744054 ± 0.30468493234431576\n",
      "TEMPORAL DISTANCE ON TRAIN DATA SET: 0.09632747401677774 ± 0.0009223676414507829\n",
      "GEOMETRICAL DISTANCE ON TRAIN DATA SET: 12.434853545738875 ± 0.0998587949500642\n",
      "\n",
      "\n",
      "AVERAGE RMNSE ERROR ON TEST DATA SET: 1.3762812055635272 ± 0.004832559143703472\n",
      "AVG NUMBER OF ACCURATE 0.5 PREDICTIONS ON TEST DATA SET: 2.7331228225350634 ± 0.1049292734336262\n",
      "AVG NUMBER OF ACCURATE 1 PREDICTIONS ON TEST DATA SET: 4.007801690391975 ± 0.13839305046806286\n",
      "POWER SPECTRUM MEAN ERROR ON TEST DATA SET: 0.4193799811011922 ± 0.2797234674059133\n",
      "TEMPORAL DISTANCE ON TEST DATA SET: 0.09692222979896578 ± 0.0010634855392674474\n",
      "GEOMETRICAL DISTANCE ON TEST DATA SET: 12.281370238476404 ± 0.08929625943045455\n"
     ]
    }
   ],
   "source": [
    "!bash ./1_PGClustered_ESN_Evaluate_Tuned_Model.sh \"evaluate_tuned_model\" \"Lorenz96_F8_ALPHA2_DIM40\" 2000 1 1 2 \"grid_search_for_icw_0.1_reservoir_size_2000.json\" "
   ]
  },
  {
   "cell_type": "code",
   "execution_count": 11,
   "metadata": {},
   "outputs": [
    {
     "name": "stdout",
     "output_type": "stream",
     "text": [
      "Grid Search Progress: 100%|███████████| 25/25 [18:28<00:00, 44.35s/trial, Current Best Loss=0.11281]\n",
      "{'radius': 0.1, 'sigma_input': 0.5, 'in_cluster_weight': 0.3}\n"
     ]
    }
   ],
   "source": [
    "!bash ./0_PGClustered_ESN_Tune.sh \"tune\" \"Lorenz96_F8_ALPHA2_DIM40\" 2000 1 1 2 \"grid_search_for_icw_0.3_reservoir_size_2000.json\"  "
   ]
  },
  {
   "cell_type": "code",
   "execution_count": 12,
   "metadata": {},
   "outputs": [
    {
     "name": "stdout",
     "output_type": "stream",
     "text": [
      "{'radius': 0.1, 'sigma_input': 0.5, 'in_cluster_weight': 0.3}\n",
      "AVERAGE RMNSE ERROR ON TRAIN DATA SET: 1.3977043848691715 ± 0.004393720932163934\n",
      "AVG NUMBER OF ACCURATE 0.5 PREDICTIONS ON TRAIN DATA SET: 1.8026206485370984 ± 0.09771355430159995\n",
      "AVG NUMBER OF ACCURATE 1 PREDICTIONS ON TRAIN DATA SET: 2.802226152058467 ± 0.15707090852855465\n",
      "POWER SPECTRUM MEAN ERROR ON TRAIN DATA SET: 0.9931787588010105 ± 0.3580887142044892\n",
      "TEMPORAL DISTANCE ON TRAIN DATA SET: 0.09611534868960153 ± 0.0009105394514869737\n",
      "GEOMETRICAL DISTANCE ON TRAIN DATA SET: 12.752789677056729 ± 0.04838563797690554\n",
      "\n",
      "\n",
      "AVERAGE RMNSE ERROR ON TEST DATA SET: 1.3976998090599053 ± 0.0023786449171098434\n",
      "AVG NUMBER OF ACCURATE 0.5 PREDICTIONS ON TEST DATA SET: 1.727774660050531 ± 0.10908768160519779\n",
      "AVG NUMBER OF ACCURATE 1 PREDICTIONS ON TEST DATA SET: 2.7916979439593335 ± 0.1718947933030955\n",
      "POWER SPECTRUM MEAN ERROR ON TEST DATA SET: 0.4858335259264557 ± 0.22804149339969237\n",
      "TEMPORAL DISTANCE ON TEST DATA SET: 0.09722884463952645 ± 0.0009123414294943413\n",
      "GEOMETRICAL DISTANCE ON TEST DATA SET: 12.634945126865748 ± 0.08078738467461109\n"
     ]
    }
   ],
   "source": [
    "!bash ./1_PGClustered_ESN_Evaluate_Tuned_Model.sh \"evaluate_tuned_model\" \"Lorenz96_F8_ALPHA2_DIM40\" 2000 1 1 2 \"grid_search_for_icw_0.3_reservoir_size_2000.json\" "
   ]
  },
  {
   "cell_type": "code",
   "execution_count": 13,
   "metadata": {},
   "outputs": [
    {
     "name": "stdout",
     "output_type": "stream",
     "text": [
      "Grid Search Progress:  96%|██████████▌| 24/25 [17:50<00:43, 43.51s/trial, Current Best Loss=0.11188]/home/user/kuei_jan_CHU/PGClustered_ESN/Methods/./Utils/global_utils.py:256: RuntimeWarning: divide by zero encountered in log10\n",
      "  s_dbfs = 20 * np.log10(s_mag)\n",
      "Grid Search Progress: 100%|███████████| 25/25 [18:31<00:00, 44.48s/trial, Current Best Loss=0.11188]\n",
      "{'radius': 0.7, 'sigma_input': 0.1, 'in_cluster_weight': 0.5}\n"
     ]
    }
   ],
   "source": [
    "!bash ./0_PGClustered_ESN_Tune.sh \"tune\" \"Lorenz96_F8_ALPHA2_DIM40\" 2000 1 1 2 \"grid_search_for_icw_0.5_reservoir_size_2000.json\"  "
   ]
  },
  {
   "cell_type": "code",
   "execution_count": 14,
   "metadata": {},
   "outputs": [
    {
     "name": "stdout",
     "output_type": "stream",
     "text": [
      "{'radius': 0.7, 'sigma_input': 0.1, 'in_cluster_weight': 0.5}\n",
      "AVERAGE RMNSE ERROR ON TRAIN DATA SET: 1.3775986901533277 ± 0.006332381539597639\n",
      "AVG NUMBER OF ACCURATE 0.5 PREDICTIONS ON TRAIN DATA SET: 3.074619608877867 ± 0.1758537660877302\n",
      "AVG NUMBER OF ACCURATE 1 PREDICTIONS ON TRAIN DATA SET: 4.456303355415065 ± 0.2151330826492113\n",
      "POWER SPECTRUM MEAN ERROR ON TRAIN DATA SET: 0.6378764064693198 ± 0.3091497671540842\n",
      "TEMPORAL DISTANCE ON TRAIN DATA SET: 0.09611673767734479 ± 0.0011714093586865223\n",
      "GEOMETRICAL DISTANCE ON TRAIN DATA SET: 12.488072910616525 ± 0.1013266042546138\n",
      "\n",
      "\n",
      "AVERAGE RMNSE ERROR ON TEST DATA SET: 1.3804389719384138 ± 0.003944707728788613\n",
      "AVG NUMBER OF ACCURATE 0.5 PREDICTIONS ON TEST DATA SET: 2.791506521993895 ± 0.10779130475967053\n",
      "AVG NUMBER OF ACCURATE 1 PREDICTIONS ON TEST DATA SET: 4.082647678878542 ± 0.14867166229547388\n",
      "POWER SPECTRUM MEAN ERROR ON TEST DATA SET: 0.38336786690559904 ± 0.2106714852488337\n",
      "TEMPORAL DISTANCE ON TEST DATA SET: 0.09663897056946388 ± 0.0008359265787443004\n",
      "GEOMETRICAL DISTANCE ON TEST DATA SET: 12.383675101026771 ± 0.10834983969752277\n"
     ]
    }
   ],
   "source": [
    "!bash ./1_PGClustered_ESN_Evaluate_Tuned_Model.sh \"evaluate_tuned_model\" \"Lorenz96_F8_ALPHA2_DIM40\" 2000 1 1 2 \"grid_search_for_icw_0.5_reservoir_size_2000.json\" "
   ]
  },
  {
   "cell_type": "code",
   "execution_count": 15,
   "metadata": {},
   "outputs": [
    {
     "name": "stdout",
     "output_type": "stream",
     "text": [
      "Grid Search Progress: 100%|███████████| 25/25 [18:30<00:00, 44.42s/trial, Current Best Loss=0.11132]\n",
      "{'radius': 0.7, 'sigma_input': 0.1, 'in_cluster_weight': 0.7}\n"
     ]
    }
   ],
   "source": [
    "!bash ./0_PGClustered_ESN_Tune.sh \"tune\" \"Lorenz96_F8_ALPHA2_DIM40\" 2000 1 1 2 \"grid_search_for_icw_0.7_reservoir_size_2000.json\"  "
   ]
  },
  {
   "cell_type": "code",
   "execution_count": 16,
   "metadata": {},
   "outputs": [
    {
     "name": "stdout",
     "output_type": "stream",
     "text": [
      "{'radius': 0.7, 'sigma_input': 0.1, 'in_cluster_weight': 0.7}\n",
      "AVERAGE RMNSE ERROR ON TRAIN DATA SET: 1.3787821037078347 ± 0.0036773345024670055\n",
      "AVG NUMBER OF ACCURATE 0.5 PREDICTIONS ON TRAIN DATA SET: 3.097207400799644 ± 0.15721326482951245\n",
      "AVG NUMBER OF ACCURATE 1 PREDICTIONS ON TRAIN DATA SET: 4.46798009530683 ± 0.2590568700322248\n",
      "POWER SPECTRUM MEAN ERROR ON TRAIN DATA SET: 0.5835628637575604 ± 0.27202501442632465\n",
      "TEMPORAL DISTANCE ON TRAIN DATA SET: 0.09635789621253375 ± 0.0008239909742689738\n",
      "GEOMETRICAL DISTANCE ON TRAIN DATA SET: 12.50057287519222 ± 0.06250741799815879\n",
      "\n",
      "\n",
      "AVERAGE RMNSE ERROR ON TEST DATA SET: 1.380025793293448 ± 0.00394374162812918\n",
      "AVG NUMBER OF ACCURATE 0.5 PREDICTIONS ON TEST DATA SET: 2.829982337047092 ± 0.10253215199752357\n",
      "AVG NUMBER OF ACCURATE 1 PREDICTIONS ON TEST DATA SET: 4.107341112420146 ± 0.15899907604995558\n",
      "POWER SPECTRUM MEAN ERROR ON TEST DATA SET: 0.5753794247904215 ± 0.32515203166934165\n",
      "TEMPORAL DISTANCE ON TEST DATA SET: 0.09660634593172783 ± 0.0011020374896061507\n",
      "GEOMETRICAL DISTANCE ON TEST DATA SET: 12.387403174142511 ± 0.09398988250208806\n"
     ]
    }
   ],
   "source": [
    "!bash ./1_PGClustered_ESN_Evaluate_Tuned_Model.sh \"evaluate_tuned_model\" \"Lorenz96_F8_ALPHA2_DIM40\" 2000 1 1 2 \"grid_search_for_icw_0.7_reservoir_size_2000.json\" "
   ]
  },
  {
   "cell_type": "code",
   "execution_count": 17,
   "metadata": {},
   "outputs": [
    {
     "name": "stdout",
     "output_type": "stream",
     "text": [
      "Grid Search Progress: 100%|███████████| 25/25 [18:31<00:00, 44.46s/trial, Current Best Loss=0.11243]\n",
      "{'radius': 0.1, 'sigma_input': 0.5, 'in_cluster_weight': 0.9}\n"
     ]
    }
   ],
   "source": [
    "!bash ./0_PGClustered_ESN_Tune.sh \"tune\" \"Lorenz96_F8_ALPHA2_DIM40\" 2000 1 1 2 \"grid_search_for_icw_0.9_reservoir_size_2000.json\" "
   ]
  },
  {
   "cell_type": "code",
   "execution_count": 18,
   "metadata": {},
   "outputs": [
    {
     "name": "stdout",
     "output_type": "stream",
     "text": [
      "{'radius': 0.1, 'sigma_input': 0.5, 'in_cluster_weight': 0.9}\n",
      "AVERAGE RMNSE ERROR ON TRAIN DATA SET: 1.398932851100158 ± 0.003172312922936318\n",
      "AVG NUMBER OF ACCURATE 0.5 PREDICTIONS ON TRAIN DATA SET: 1.8007064288827106 ± 0.10844202173597461\n",
      "AVG NUMBER OF ACCURATE 1 PREDICTIONS ON TRAIN DATA SET: 2.79858913471513 ± 0.16654371055837094\n",
      "POWER SPECTRUM MEAN ERROR ON TRAIN DATA SET: 0.8807236406053367 ± 0.3478039958494134\n",
      "TEMPORAL DISTANCE ON TRAIN DATA SET: 0.09628623506598025 ± 0.0010854402081212963\n",
      "GEOMETRICAL DISTANCE ON TRAIN DATA SET: 12.778126468741998 ± 0.06113458612037022\n",
      "\n",
      "\n",
      "AVERAGE RMNSE ERROR ON TEST DATA SET: 1.3980847635453542 ± 0.0031913656946133623\n",
      "AVG NUMBER OF ACCURATE 0.5 PREDICTIONS ON TEST DATA SET: 1.7216491571564898 ± 0.09844450357217184\n",
      "AVG NUMBER OF ACCURATE 1 PREDICTIONS ON TEST DATA SET: 2.802034730093028 ± 0.1611945719656025\n",
      "POWER SPECTRUM MEAN ERROR ON TEST DATA SET: 0.40775419962923654 ± 0.24148592933044152\n",
      "TEMPORAL DISTANCE ON TEST DATA SET: 0.09732593224128104 ± 0.0009221946162156812\n",
      "GEOMETRICAL DISTANCE ON TEST DATA SET: 12.642502452866786 ± 0.06450132652963406\n"
     ]
    }
   ],
   "source": [
    "!bash ./1_PGClustered_ESN_Evaluate_Tuned_Model.sh \"evaluate_tuned_model\" \"Lorenz96_F8_ALPHA2_DIM40\" 2000 1 1 2 \"grid_search_for_icw_0.9_reservoir_size_2000.json\" "
   ]
  },
  {
   "cell_type": "code",
   "execution_count": 19,
   "metadata": {},
   "outputs": [
    {
     "name": "stdout",
     "output_type": "stream",
     "text": [
      "Grid Search Progress: 100%|███████████| 25/25 [18:29<00:00, 44.37s/trial, Current Best Loss=0.10747]\n",
      "{'radius': 0.1, 'sigma_input': 0.5, 'in_cluster_weight': 0.1}\n"
     ]
    }
   ],
   "source": [
    "!bash ./0_PGClustered_ESN_Tune.sh \"tune\" \"Lorenz96_F8_ALPHA3_DIM40\" 2000 1 1 3 \"grid_search_for_icw_0.1_reservoir_size_2000.json\"   "
   ]
  },
  {
   "cell_type": "code",
   "execution_count": 20,
   "metadata": {},
   "outputs": [
    {
     "name": "stdout",
     "output_type": "stream",
     "text": [
      "{'radius': 0.1, 'sigma_input': 0.5, 'in_cluster_weight': 0.1}\n",
      "AVERAGE RMNSE ERROR ON TRAIN DATA SET: 1.406082898597075 ± 0.003520058282535305\n",
      "AVG NUMBER OF ACCURATE 0.5 PREDICTIONS ON TRAIN DATA SET: 1.8517930863912322 ± 0.13829105107505404\n",
      "AVG NUMBER OF ACCURATE 1 PREDICTIONS ON TRAIN DATA SET: 2.8068638158566945 ± 0.19019516581639304\n",
      "POWER SPECTRUM MEAN ERROR ON TRAIN DATA SET: 0.5557633094125742 ± 0.20587378874592377\n",
      "TEMPORAL DISTANCE ON TRAIN DATA SET: 0.09083346970520038 ± 0.0010633565917322787\n",
      "GEOMETRICAL DISTANCE ON TRAIN DATA SET: 12.283817118962926 ± 0.07346976113692687\n",
      "\n",
      "\n",
      "AVERAGE RMNSE ERROR ON TEST DATA SET: 1.4051021281295637 ± 0.003256159036881747\n",
      "AVG NUMBER OF ACCURATE 0.5 PREDICTIONS ON TEST DATA SET: 1.7105286055056659 ± 0.14968020626186934\n",
      "AVG NUMBER OF ACCURATE 1 PREDICTIONS ON TEST DATA SET: 2.665040977339169 ± 0.18208880494613786\n",
      "POWER SPECTRUM MEAN ERROR ON TEST DATA SET: 0.6809114506626086 ± 0.22055532529087538\n",
      "TEMPORAL DISTANCE ON TEST DATA SET: 0.09144202584978386 ± 0.0007175724623508487\n",
      "GEOMETRICAL DISTANCE ON TEST DATA SET: 12.253679962730578 ± 0.09485754139165833\n"
     ]
    }
   ],
   "source": [
    "!bash ./1_PGClustered_ESN_Evaluate_Tuned_Model.sh \"evaluate_tuned_model\" \"Lorenz96_F8_ALPHA3_DIM40\" 2000 1 1 3 \"grid_search_for_icw_0.1_reservoir_size_2000.json\" "
   ]
  },
  {
   "cell_type": "code",
   "execution_count": 21,
   "metadata": {},
   "outputs": [
    {
     "name": "stdout",
     "output_type": "stream",
     "text": [
      "Grid Search Progress: 100%|███████████| 25/25 [18:27<00:00, 44.31s/trial, Current Best Loss=0.10774]\n",
      "{'radius': 0.1, 'sigma_input': 0.5, 'in_cluster_weight': 0.3}\n"
     ]
    }
   ],
   "source": [
    "!bash ./0_PGClustered_ESN_Tune.sh \"tune\" \"Lorenz96_F8_ALPHA3_DIM40\" 2000 1 1 3 \"grid_search_for_icw_0.3_reservoir_size_2000.json\"  "
   ]
  },
  {
   "cell_type": "code",
   "execution_count": 22,
   "metadata": {},
   "outputs": [
    {
     "name": "stdout",
     "output_type": "stream",
     "text": [
      "{'radius': 0.1, 'sigma_input': 0.5, 'in_cluster_weight': 0.3}\n",
      "AVERAGE RMNSE ERROR ON TRAIN DATA SET: 1.4054775423405421 ± 0.0029597521117322454\n",
      "AVG NUMBER OF ACCURATE 0.5 PREDICTIONS ON TRAIN DATA SET: 1.853188980471129 ± 0.13861333643041757\n",
      "AVG NUMBER OF ACCURATE 1 PREDICTIONS ON TRAIN DATA SET: 2.800442703089168 ± 0.19268172749343088\n",
      "POWER SPECTRUM MEAN ERROR ON TRAIN DATA SET: 0.5104835511608716 ± 0.18006610648349847\n",
      "TEMPORAL DISTANCE ON TRAIN DATA SET: 0.09081375190496954 ± 0.0009520978128205301\n",
      "GEOMETRICAL DISTANCE ON TRAIN DATA SET: 12.271433394178146 ± 0.06901197653214465\n",
      "\n",
      "\n",
      "AVERAGE RMNSE ERROR ON TEST DATA SET: 1.4053413518386388 ± 0.00392391337164554\n",
      "AVG NUMBER OF ACCURATE 0.5 PREDICTIONS ON TEST DATA SET: 1.7147162877453568 ± 0.15085889146456138\n",
      "AVG NUMBER OF ACCURATE 1 PREDICTIONS ON TEST DATA SET: 2.6647617985231897 ± 0.18349398021171132\n",
      "POWER SPECTRUM MEAN ERROR ON TEST DATA SET: 0.705107555065633 ± 0.2036563637115306\n",
      "TEMPORAL DISTANCE ON TEST DATA SET: 0.09101978164419283 ± 0.0010160097683680493\n",
      "GEOMETRICAL DISTANCE ON TEST DATA SET: 12.244739538175603 ± 0.1099456285321782\n"
     ]
    }
   ],
   "source": [
    "!bash ./1_PGClustered_ESN_Evaluate_Tuned_Model.sh \"evaluate_tuned_model\" \"Lorenz96_F8_ALPHA3_DIM40\" 2000 1 1 3 \"grid_search_for_icw_0.3_reservoir_size_2000.json\" "
   ]
  },
  {
   "cell_type": "code",
   "execution_count": 23,
   "metadata": {},
   "outputs": [
    {
     "name": "stdout",
     "output_type": "stream",
     "text": [
      "Grid Search Progress:  56%|██████▏    | 14/25 [10:28<08:02, 43.84s/trial, Current Best Loss=0.10735]/home/user/kuei_jan_CHU/PGClustered_ESN/Methods/./Utils/global_utils.py:256: RuntimeWarning: divide by zero encountered in log10\n",
      "  s_dbfs = 20 * np.log10(s_mag)\n",
      "Grid Search Progress: 100%|███████████| 25/25 [18:27<00:00, 44.32s/trial, Current Best Loss=0.10735]\n",
      "{'radius': 0.1, 'sigma_input': 0.5, 'in_cluster_weight': 0.5}\n"
     ]
    }
   ],
   "source": [
    "!bash ./0_PGClustered_ESN_Tune.sh \"tune\" \"Lorenz96_F8_ALPHA3_DIM40\" 2000 1 1 3 \"grid_search_for_icw_0.5_reservoir_size_2000.json\"  "
   ]
  },
  {
   "cell_type": "code",
   "execution_count": 24,
   "metadata": {},
   "outputs": [
    {
     "name": "stdout",
     "output_type": "stream",
     "text": [
      "{'radius': 0.1, 'sigma_input': 0.5, 'in_cluster_weight': 0.5}\n",
      "AVERAGE RMNSE ERROR ON TRAIN DATA SET: 1.4054802300826537 ± 0.003000106043205595\n",
      "AVG NUMBER OF ACCURATE 0.5 PREDICTIONS ON TRAIN DATA SET: 1.8531889804711295 ± 0.13844454683950952\n",
      "AVG NUMBER OF ACCURATE 1 PREDICTIONS ON TRAIN DATA SET: 2.8043512065128793 ± 0.20079052059519067\n",
      "POWER SPECTRUM MEAN ERROR ON TRAIN DATA SET: 0.626470216543521 ± 0.2789814726520541\n",
      "TEMPORAL DISTANCE ON TRAIN DATA SET: 0.09079292515073067 ± 0.000936222744226197\n",
      "GEOMETRICAL DISTANCE ON TRAIN DATA SET: 12.277094488763758 ± 0.08306957635305393\n",
      "\n",
      "\n",
      "AVERAGE RMNSE ERROR ON TEST DATA SET: 1.406857084894839 ± 0.0036638917978866737\n",
      "AVG NUMBER OF ACCURATE 0.5 PREDICTIONS ON TEST DATA SET: 1.7135995724814392 ± 0.15179627692080566\n",
      "AVG NUMBER OF ACCURATE 1 PREDICTIONS ON TEST DATA SET: 2.6633659044432925 ± 0.183274035352117\n",
      "POWER SPECTRUM MEAN ERROR ON TEST DATA SET: 0.5399323839668828 ± 0.1980105478131294\n",
      "TEMPORAL DISTANCE ON TEST DATA SET: 0.09133612011172866 ± 0.0008708188750307439\n",
      "GEOMETRICAL DISTANCE ON TEST DATA SET: 12.254718353604897 ± 0.10768432161305119\n"
     ]
    }
   ],
   "source": [
    "!bash ./1_PGClustered_ESN_Evaluate_Tuned_Model.sh \"evaluate_tuned_model\" \"Lorenz96_F8_ALPHA3_DIM40\" 2000 1 1 3 \"grid_search_for_icw_0.5_reservoir_size_2000.json\" "
   ]
  },
  {
   "cell_type": "code",
   "execution_count": 25,
   "metadata": {},
   "outputs": [
    {
     "name": "stdout",
     "output_type": "stream",
     "text": [
      "Grid Search Progress:  96%|██████████▌| 24/25 [17:45<00:43, 43.27s/trial, Current Best Loss=0.10804]/home/user/kuei_jan_CHU/PGClustered_ESN/Methods/./Utils/global_utils.py:256: RuntimeWarning: divide by zero encountered in log10\n",
      "  s_dbfs = 20 * np.log10(s_mag)\n",
      "Grid Search Progress: 100%|███████████| 25/25 [18:26<00:00, 44.25s/trial, Current Best Loss=0.10804]\n",
      "{'radius': 0.9, 'sigma_input': 0.1, 'in_cluster_weight': 0.7}\n"
     ]
    }
   ],
   "source": [
    "!bash ./0_PGClustered_ESN_Tune.sh \"tune\" \"Lorenz96_F8_ALPHA3_DIM40\" 2000 1 1 3 \"grid_search_for_icw_0.7_reservoir_size_2000.json\"  "
   ]
  },
  {
   "cell_type": "code",
   "execution_count": 26,
   "metadata": {},
   "outputs": [
    {
     "name": "stdout",
     "output_type": "stream",
     "text": [
      "{'radius': 0.9, 'sigma_input': 0.1, 'in_cluster_weight': 0.7}\n",
      "AVERAGE RMNSE ERROR ON TRAIN DATA SET: 1.3708890366625641 ± 0.007258912293925452\n",
      "AVG NUMBER OF ACCURATE 0.5 PREDICTIONS ON TRAIN DATA SET: 2.8213811142876226 ± 0.12771751935565245\n",
      "AVG NUMBER OF ACCURATE 1 PREDICTIONS ON TRAIN DATA SET: 3.9824858099458664 ± 0.15254382621128346\n",
      "POWER SPECTRUM MEAN ERROR ON TRAIN DATA SET: 0.5499874796325399 ± 0.3451619878841263\n",
      "TEMPORAL DISTANCE ON TRAIN DATA SET: 0.09181448468877533 ± 0.0011104218164234227\n",
      "GEOMETRICAL DISTANCE ON TRAIN DATA SET: 11.718976265303644 ± 0.10811473625605021\n",
      "\n",
      "\n",
      "AVERAGE RMNSE ERROR ON TEST DATA SET: 1.3716110621727706 ± 0.00425158356212369\n",
      "AVG NUMBER OF ACCURATE 0.5 PREDICTIONS ON TEST DATA SET: 2.8241729024474154 ± 0.08941744899930057\n",
      "AVG NUMBER OF ACCURATE 1 PREDICTIONS ON TEST DATA SET: 3.942284060444836 ± 0.1638708307833138\n",
      "POWER SPECTRUM MEAN ERROR ON TEST DATA SET: 0.92132137582302 ± 0.352946592187824\n",
      "TEMPORAL DISTANCE ON TEST DATA SET: 0.09152841855197084 ± 0.0009549847090975469\n",
      "GEOMETRICAL DISTANCE ON TEST DATA SET: 11.691640630789578 ± 0.09837531921997557\n"
     ]
    }
   ],
   "source": [
    "!bash ./1_PGClustered_ESN_Evaluate_Tuned_Model.sh \"evaluate_tuned_model\" \"Lorenz96_F8_ALPHA3_DIM40\" 2000 1 1 3 \"grid_search_for_icw_0.7_reservoir_size_2000.json\" "
   ]
  },
  {
   "cell_type": "code",
   "execution_count": 27,
   "metadata": {},
   "outputs": [
    {
     "name": "stdout",
     "output_type": "stream",
     "text": [
      "Grid Search Progress:  56%|██████▏    | 14/25 [10:27<07:59, 43.62s/trial, Current Best Loss=0.10703]/home/user/kuei_jan_CHU/PGClustered_ESN/Methods/./Utils/global_utils.py:256: RuntimeWarning: divide by zero encountered in log10\n",
      "  s_dbfs = 20 * np.log10(s_mag)\n",
      "Grid Search Progress: 100%|███████████| 25/25 [18:28<00:00, 44.34s/trial, Current Best Loss=0.10703]\n",
      "{'radius': 0.4, 'sigma_input': 0.1, 'in_cluster_weight': 0.9}\n"
     ]
    }
   ],
   "source": [
    "!bash ./0_PGClustered_ESN_Tune.sh \"tune\" \"Lorenz96_F8_ALPHA3_DIM40\" 2000 1 1 3 \"grid_search_for_icw_0.9_reservoir_size_2000.json\"  "
   ]
  },
  {
   "cell_type": "code",
   "execution_count": 28,
   "metadata": {},
   "outputs": [
    {
     "name": "stdout",
     "output_type": "stream",
     "text": [
      "{'radius': 0.4, 'sigma_input': 0.1, 'in_cluster_weight': 0.9}\n",
      "AVERAGE RMNSE ERROR ON TRAIN DATA SET: 1.3802756407436203 ± 0.005931289595813045\n",
      "AVG NUMBER OF ACCURATE 0.5 PREDICTIONS ON TRAIN DATA SET: 2.8565576451010237 ± 0.10108278091292308\n",
      "AVG NUMBER OF ACCURATE 1 PREDICTIONS ON TRAIN DATA SET: 3.9244166162221545 ± 0.1600478852462965\n",
      "POWER SPECTRUM MEAN ERROR ON TRAIN DATA SET: 0.3947653790574412 ± 0.21367697218587792\n",
      "TEMPORAL DISTANCE ON TRAIN DATA SET: 0.09089355261657937 ± 0.0009477195547771918\n",
      "GEOMETRICAL DISTANCE ON TRAIN DATA SET: 11.894840223945485 ± 0.08508195148473546\n",
      "\n",
      "\n",
      "AVERAGE RMNSE ERROR ON TEST DATA SET: 1.3783127240712116 ± 0.0063481210397730616\n",
      "AVG NUMBER OF ACCURATE 0.5 PREDICTIONS ON TEST DATA SET: 3.0645458630056623 ± 0.153657697188883\n",
      "AVG NUMBER OF ACCURATE 1 PREDICTIONS ON TEST DATA SET: 4.173723298891742 ± 0.20738683296428861\n",
      "POWER SPECTRUM MEAN ERROR ON TEST DATA SET: 0.8349316651188282 ± 0.297480263170882\n",
      "TEMPORAL DISTANCE ON TEST DATA SET: 0.09090972219028899 ± 0.0008058910121768035\n",
      "GEOMETRICAL DISTANCE ON TEST DATA SET: 11.834032835231833 ± 0.10539296022823341\n"
     ]
    }
   ],
   "source": [
    "!bash ./1_PGClustered_ESN_Evaluate_Tuned_Model.sh \"evaluate_tuned_model\" \"Lorenz96_F8_ALPHA3_DIM40\" 2000 1 1 3 \"grid_search_for_icw_0.9_reservoir_size_2000.json\" "
   ]
  },
  {
   "cell_type": "code",
   "execution_count": 29,
   "metadata": {},
   "outputs": [
    {
     "name": "stdout",
     "output_type": "stream",
     "text": [
      "Grid Search Progress: 100%|███████████| 25/25 [18:24<00:00, 44.19s/trial, Current Best Loss=0.10809]\n",
      "{'radius': 0.1, 'sigma_input': 0.5, 'in_cluster_weight': 0.1}\n"
     ]
    }
   ],
   "source": [
    "!bash ./0_PGClustered_ESN_Tune.sh \"tune\" \"Lorenz96_F8_ALPHA4_DIM40\" 2000 1 1 4 \"grid_search_for_icw_0.1_reservoir_size_2000.json\" "
   ]
  },
  {
   "cell_type": "code",
   "execution_count": 30,
   "metadata": {},
   "outputs": [
    {
     "name": "stdout",
     "output_type": "stream",
     "text": [
      "{'radius': 0.1, 'sigma_input': 0.5, 'in_cluster_weight': 0.1}\n",
      "AVERAGE RMNSE ERROR ON TRAIN DATA SET: 1.4136478852245424 ± 0.003431655890053552\n",
      "AVG NUMBER OF ACCURATE 0.5 PREDICTIONS ON TRAIN DATA SET: 1.7251936244543515 ± 0.11678393367207812\n",
      "AVG NUMBER OF ACCURATE 1 PREDICTIONS ON TRAIN DATA SET: 2.6214759797474416 ± 0.17247507282026833\n",
      "POWER SPECTRUM MEAN ERROR ON TRAIN DATA SET: 0.6774872129577298 ± 0.20370340170814882\n",
      "TEMPORAL DISTANCE ON TRAIN DATA SET: 0.09010098428571851 ± 0.001044517632029537\n",
      "GEOMETRICAL DISTANCE ON TRAIN DATA SET: 11.956080210700346 ± 0.0883023374768526\n",
      "\n",
      "\n",
      "AVERAGE RMNSE ERROR ON TEST DATA SET: 1.4095438100546689 ± 0.002575442903875545\n",
      "AVG NUMBER OF ACCURATE 0.5 PREDICTIONS ON TEST DATA SET: 1.8588776121190822 ± 0.08837935696562023\n",
      "AVG NUMBER OF ACCURATE 1 PREDICTIONS ON TEST DATA SET: 2.7396399266278775 ± 0.1296442889016072\n",
      "POWER SPECTRUM MEAN ERROR ON TEST DATA SET: 0.5685391701990439 ± 0.196114052523812\n",
      "TEMPORAL DISTANCE ON TEST DATA SET: 0.09104606131899609 ± 0.0006328776403390441\n",
      "GEOMETRICAL DISTANCE ON TEST DATA SET: 11.912427687964286 ± 0.06786477320987781\n"
     ]
    }
   ],
   "source": [
    "!bash ./1_PGClustered_ESN_Evaluate_Tuned_Model.sh \"evaluate_tuned_model\" \"Lorenz96_F8_ALPHA4_DIM40\" 2000 1 1 4 \"grid_search_for_icw_0.1_reservoir_size_2000.json\" "
   ]
  },
  {
   "cell_type": "code",
   "execution_count": 31,
   "metadata": {},
   "outputs": [
    {
     "name": "stdout",
     "output_type": "stream",
     "text": [
      "Grid Search Progress: 100%|███████████| 25/25 [18:25<00:00, 44.22s/trial, Current Best Loss=0.10814]\n",
      "{'radius': 0.1, 'sigma_input': 0.5, 'in_cluster_weight': 0.3}\n"
     ]
    }
   ],
   "source": [
    "!bash ./0_PGClustered_ESN_Tune.sh \"tune\" \"Lorenz96_F8_ALPHA4_DIM40\" 2000 1 1 4 \"grid_search_for_icw_0.3_reservoir_size_2000.json\" "
   ]
  },
  {
   "cell_type": "code",
   "execution_count": 32,
   "metadata": {},
   "outputs": [
    {
     "name": "stdout",
     "output_type": "stream",
     "text": [
      "{'radius': 0.1, 'sigma_input': 0.5, 'in_cluster_weight': 0.3}\n",
      "AVERAGE RMNSE ERROR ON TRAIN DATA SET: 1.413461070356927 ± 0.003226102687444381\n",
      "AVG NUMBER OF ACCURATE 0.5 PREDICTIONS ON TRAIN DATA SET: 1.727662721851853 ± 0.11420770454956074\n",
      "AVG NUMBER OF ACCURATE 1 PREDICTIONS ON TRAIN DATA SET: 2.623239620745657 ± 0.1708934455774489\n",
      "POWER SPECTRUM MEAN ERROR ON TRAIN DATA SET: 0.6604731830333102 ± 0.2283660809794539\n",
      "TEMPORAL DISTANCE ON TRAIN DATA SET: 0.09012460200876776 ± 0.000862013894097612\n",
      "GEOMETRICAL DISTANCE ON TRAIN DATA SET: 11.934270797006281 ± 0.07957669660988\n",
      "\n",
      "\n",
      "AVERAGE RMNSE ERROR ON TEST DATA SET: 1.4099582619040414 ± 0.002046543130054782\n",
      "AVG NUMBER OF ACCURATE 0.5 PREDICTIONS ON TEST DATA SET: 1.8592303403187251 ± 0.08910768872891997\n",
      "AVG NUMBER OF ACCURATE 1 PREDICTIONS ON TEST DATA SET: 2.7491635880182406 ± 0.13549722198687453\n",
      "POWER SPECTRUM MEAN ERROR ON TEST DATA SET: 0.5772889471367819 ± 0.21855847851658938\n",
      "TEMPORAL DISTANCE ON TEST DATA SET: 0.0910224694177632 ± 0.0011105732488244278\n",
      "GEOMETRICAL DISTANCE ON TEST DATA SET: 11.914296616231223 ± 0.07135763013214155\n"
     ]
    }
   ],
   "source": [
    "!bash ./1_PGClustered_ESN_Evaluate_Tuned_Model.sh \"evaluate_tuned_model\" \"Lorenz96_F8_ALPHA4_DIM40\" 2000 1 1 4 \"grid_search_for_icw_0.3_reservoir_size_2000.json\" "
   ]
  },
  {
   "cell_type": "code",
   "execution_count": 33,
   "metadata": {},
   "outputs": [
    {
     "name": "stdout",
     "output_type": "stream",
     "text": [
      "Grid Search Progress: 100%|███████████| 25/25 [18:27<00:00, 44.30s/trial, Current Best Loss=0.10821]\n",
      "{'radius': 0.4, 'sigma_input': 0.1, 'in_cluster_weight': 0.5}\n"
     ]
    }
   ],
   "source": [
    "!bash ./0_PGClustered_ESN_Tune.sh \"tune\" \"Lorenz96_F8_ALPHA4_DIM40\" 2000 1 1 4 \"grid_search_for_icw_0.5_reservoir_size_2000.json\" "
   ]
  },
  {
   "cell_type": "code",
   "execution_count": 34,
   "metadata": {},
   "outputs": [
    {
     "name": "stdout",
     "output_type": "stream",
     "text": [
      "{'radius': 0.4, 'sigma_input': 0.1, 'in_cluster_weight': 0.5}\n",
      "AVERAGE RMNSE ERROR ON TRAIN DATA SET: 1.3711129367513093 ± 0.004516180951218625\n",
      "AVG NUMBER OF ACCURATE 0.5 PREDICTIONS ON TRAIN DATA SET: 2.617243241351725 ± 0.10066049557369652\n",
      "AVG NUMBER OF ACCURATE 1 PREDICTIONS ON TRAIN DATA SET: 3.7685480849867687 ± 0.13812540853470767\n",
      "POWER SPECTRUM MEAN ERROR ON TRAIN DATA SET: 0.3972447256134694 ± 0.16273599334812544\n",
      "TEMPORAL DISTANCE ON TRAIN DATA SET: 0.09073597764748866 ± 0.0007549902294971582\n",
      "GEOMETRICAL DISTANCE ON TRAIN DATA SET: 11.284986951143493 ± 0.08462374951964255\n",
      "\n",
      "\n",
      "AVERAGE RMNSE ERROR ON TEST DATA SET: 1.3694137483016373 ± 0.00578649797402851\n",
      "AVG NUMBER OF ACCURATE 0.5 PREDICTIONS ON TEST DATA SET: 2.8680329912979614 ± 0.11141912800296706\n",
      "AVG NUMBER OF ACCURATE 1 PREDICTIONS ON TEST DATA SET: 3.865901068088262 ± 0.1364470125642254\n",
      "POWER SPECTRUM MEAN ERROR ON TEST DATA SET: 0.4857127860136433 ± 0.2265901104625882\n",
      "TEMPORAL DISTANCE ON TEST DATA SET: 0.09122172344474626 ± 0.000923089044374053\n",
      "GEOMETRICAL DISTANCE ON TEST DATA SET: 11.27337160951876 ± 0.09225214708311948\n"
     ]
    }
   ],
   "source": [
    "!bash ./1_PGClustered_ESN_Evaluate_Tuned_Model.sh \"evaluate_tuned_model\" \"Lorenz96_F8_ALPHA4_DIM40\" 2000 1 1 4 \"grid_search_for_icw_0.5_reservoir_size_2000.json\" "
   ]
  },
  {
   "cell_type": "code",
   "execution_count": 35,
   "metadata": {},
   "outputs": [
    {
     "name": "stdout",
     "output_type": "stream",
     "text": [
      "Grid Search Progress: 100%|███████████| 25/25 [18:27<00:00, 44.32s/trial, Current Best Loss=0.10743]\n",
      "{'radius': 0.4, 'sigma_input': 0.5, 'in_cluster_weight': 0.7}\n"
     ]
    }
   ],
   "source": [
    "!bash ./0_PGClustered_ESN_Tune.sh \"tune\" \"Lorenz96_F8_ALPHA4_DIM40\" 2000 1 1 4 \"grid_search_for_icw_0.7_reservoir_size_2000.json\" "
   ]
  },
  {
   "cell_type": "code",
   "execution_count": 36,
   "metadata": {},
   "outputs": [
    {
     "name": "stdout",
     "output_type": "stream",
     "text": [
      "{'radius': 0.4, 'sigma_input': 0.5, 'in_cluster_weight': 0.7}\n",
      "AVERAGE RMNSE ERROR ON TRAIN DATA SET: 1.4148343690979077 ± 0.0030644240437091904\n",
      "AVG NUMBER OF ACCURATE 0.5 PREDICTIONS ON TRAIN DATA SET: 1.6673461997128842 ± 0.11588127958957976\n",
      "AVG NUMBER OF ACCURATE 1 PREDICTIONS ON TRAIN DATA SET: 2.5435230476263193 ± 0.1673653492324201\n",
      "POWER SPECTRUM MEAN ERROR ON TRAIN DATA SET: 0.7382699095720763 ± 0.2132907536937871\n",
      "TEMPORAL DISTANCE ON TRAIN DATA SET: 0.08980092663597132 ± 0.0008032186816496979\n",
      "GEOMETRICAL DISTANCE ON TRAIN DATA SET: 11.980185546243725 ± 0.08327485036035558\n",
      "\n",
      "\n",
      "AVERAGE RMNSE ERROR ON TEST DATA SET: 1.412960207386306 ± 0.0026385283238899364\n",
      "AVG NUMBER OF ACCURATE 0.5 PREDICTIONS ON TEST DATA SET: 1.7646991828143772 ± 0.07966583278298967\n",
      "AVG NUMBER OF ACCURATE 1 PREDICTIONS ON TEST DATA SET: 2.6532215177153198 ± 0.12965628436128326\n",
      "POWER SPECTRUM MEAN ERROR ON TEST DATA SET: 0.5856245462631942 ± 0.277611941550236\n",
      "TEMPORAL DISTANCE ON TEST DATA SET: 0.09101885504959815 ± 0.000708061436368121\n",
      "GEOMETRICAL DISTANCE ON TEST DATA SET: 11.952289727024581 ± 0.07166213940732948\n"
     ]
    }
   ],
   "source": [
    "!bash ./1_PGClustered_ESN_Evaluate_Tuned_Model.sh \"evaluate_tuned_model\" \"Lorenz96_F8_ALPHA4_DIM40\" 2000 1 1 4 \"grid_search_for_icw_0.7_reservoir_size_2000.json\" "
   ]
  },
  {
   "cell_type": "code",
   "execution_count": 37,
   "metadata": {},
   "outputs": [
    {
     "name": "stdout",
     "output_type": "stream",
     "text": [
      "Grid Search Progress:  96%|██████████▌| 24/25 [17:44<00:43, 43.11s/trial, Current Best Loss=0.10815]/home/user/kuei_jan_CHU/PGClustered_ESN/Methods/./Utils/global_utils.py:256: RuntimeWarning: divide by zero encountered in log10\n",
      "  s_dbfs = 20 * np.log10(s_mag)\n",
      "Grid Search Progress: 100%|███████████| 25/25 [18:25<00:00, 44.22s/trial, Current Best Loss=0.10815]\n",
      "{'radius': 0.7, 'sigma_input': 0.1, 'in_cluster_weight': 0.9}\n"
     ]
    }
   ],
   "source": [
    "!bash ./0_PGClustered_ESN_Tune.sh \"tune\" \"Lorenz96_F8_ALPHA4_DIM40\" 2000 1 1 4 \"grid_search_for_icw_0.9_reservoir_size_2000.json\" "
   ]
  },
  {
   "cell_type": "code",
   "execution_count": 38,
   "metadata": {},
   "outputs": [
    {
     "name": "stdout",
     "output_type": "stream",
     "text": [
      "{'radius': 0.7, 'sigma_input': 0.1, 'in_cluster_weight': 0.9}\n",
      "AVERAGE RMNSE ERROR ON TRAIN DATA SET: 1.3818837987142205 ± 0.005432827651493446\n",
      "AVG NUMBER OF ACCURATE 0.5 PREDICTIONS ON TRAIN DATA SET: 2.7675054543996813 ± 0.1457599938517579\n",
      "AVG NUMBER OF ACCURATE 1 PREDICTIONS ON TRAIN DATA SET: 3.901173888052571 ± 0.1865795480592736\n",
      "POWER SPECTRUM MEAN ERROR ON TRAIN DATA SET: 0.4639511080568973 ± 0.23018682795151607\n",
      "TEMPORAL DISTANCE ON TRAIN DATA SET: 0.09053205854782906 ± 0.0007111414683074579\n",
      "GEOMETRICAL DISTANCE ON TRAIN DATA SET: 11.480718771715395 ± 0.09684323143044017\n",
      "\n",
      "\n",
      "AVERAGE RMNSE ERROR ON TEST DATA SET: 1.3783369195293047 ± 0.0037990109561532835\n",
      "AVG NUMBER OF ACCURATE 0.5 PREDICTIONS ON TEST DATA SET: 3.0641498702995196 ± 0.1221331259973595\n",
      "AVG NUMBER OF ACCURATE 1 PREDICTIONS ON TEST DATA SET: 4.147378171403447 ± 0.17741772624403365\n",
      "POWER SPECTRUM MEAN ERROR ON TEST DATA SET: 0.3814069178742029 ± 0.23110870653498625\n",
      "TEMPORAL DISTANCE ON TEST DATA SET: 0.09073671878485606 ± 0.0007206424433833441\n",
      "GEOMETRICAL DISTANCE ON TEST DATA SET: 11.453587145622011 ± 0.07826322286078201\n"
     ]
    }
   ],
   "source": [
    "!bash ./1_PGClustered_ESN_Evaluate_Tuned_Model.sh \"evaluate_tuned_model\" \"Lorenz96_F8_ALPHA4_DIM40\" 2000 1 1 4 \"grid_search_for_icw_0.9_reservoir_size_2000.json\" "
   ]
  },
  {
   "cell_type": "code",
   "execution_count": 39,
   "metadata": {},
   "outputs": [
    {
     "name": "stdout",
     "output_type": "stream",
     "text": [
      "Grid Search Progress: 100%|███████████| 25/25 [18:27<00:00, 44.32s/trial, Current Best Loss=0.10982]\n",
      "{'radius': 0.1, 'sigma_input': 0.5, 'in_cluster_weight': 0.1}\n"
     ]
    }
   ],
   "source": [
    "!bash ./0_PGClustered_ESN_Tune.sh \"tune\" \"Lorenz96_F8_ALPHA5_DIM40\" 2000 1 1 5 \"grid_search_for_icw_0.1_reservoir_size_2000.json\" "
   ]
  },
  {
   "cell_type": "code",
   "execution_count": 40,
   "metadata": {},
   "outputs": [
    {
     "name": "stdout",
     "output_type": "stream",
     "text": [
      "{'radius': 0.1, 'sigma_input': 0.5, 'in_cluster_weight': 0.1}\n",
      "AVERAGE RMNSE ERROR ON TRAIN DATA SET: 1.4131307003070102 ± 0.003115515569471866\n",
      "AVG NUMBER OF ACCURATE 0.5 PREDICTIONS ON TRAIN DATA SET: 1.8762272574053032 ± 0.11154285967055705\n",
      "AVG NUMBER OF ACCURATE 1 PREDICTIONS ON TRAIN DATA SET: 2.8886344486495066 ± 0.13246430528072814\n",
      "POWER SPECTRUM MEAN ERROR ON TRAIN DATA SET: 0.5372894090879109 ± 0.10612090333218777\n",
      "TEMPORAL DISTANCE ON TRAIN DATA SET: 0.09467391113289789 ± 0.0007294449071701708\n",
      "GEOMETRICAL DISTANCE ON TRAIN DATA SET: 11.707440797589253 ± 0.05387037356284032\n",
      "\n",
      "\n",
      "AVERAGE RMNSE ERROR ON TEST DATA SET: 1.4160849385222911 ± 0.003054206245135556\n",
      "AVG NUMBER OF ACCURATE 0.5 PREDICTIONS ON TEST DATA SET: 1.7192453794926443 ± 0.11195591855648523\n",
      "AVG NUMBER OF ACCURATE 1 PREDICTIONS ON TEST DATA SET: 2.590200985558864 ± 0.1804671739779594\n",
      "POWER SPECTRUM MEAN ERROR ON TEST DATA SET: 0.711853097806393 ± 0.29741194621852524\n",
      "TEMPORAL DISTANCE ON TEST DATA SET: 0.09518845209805046 ± 0.0007591846326063836\n",
      "GEOMETRICAL DISTANCE ON TEST DATA SET: 11.801658934485147 ± 0.060063340773838514\n"
     ]
    }
   ],
   "source": [
    "!bash ./1_PGClustered_ESN_Evaluate_Tuned_Model.sh \"evaluate_tuned_model\" \"Lorenz96_F8_ALPHA5_DIM40\" 2000 1 1 5 \"grid_search_for_icw_0.1_reservoir_size_2000.json\" "
   ]
  },
  {
   "cell_type": "code",
   "execution_count": 41,
   "metadata": {},
   "outputs": [
    {
     "name": "stdout",
     "output_type": "stream",
     "text": [
      "Grid Search Progress: 100%|███████████| 25/25 [18:28<00:00, 44.34s/trial, Current Best Loss=0.11026]\n",
      "{'radius': 0.4, 'sigma_input': 0.5, 'in_cluster_weight': 0.3}\n"
     ]
    }
   ],
   "source": [
    "!bash ./0_PGClustered_ESN_Tune.sh \"tune\" \"Lorenz96_F8_ALPHA5_DIM40\" 2000 1 1 5 \"grid_search_for_icw_0.3_reservoir_size_2000.json\" "
   ]
  },
  {
   "cell_type": "code",
   "execution_count": 42,
   "metadata": {},
   "outputs": [
    {
     "name": "stdout",
     "output_type": "stream",
     "text": [
      "{'radius': 0.4, 'sigma_input': 0.5, 'in_cluster_weight': 0.3}\n",
      "AVERAGE RMNSE ERROR ON TRAIN DATA SET: 1.4164839798319746 ± 0.003505651229592978\n",
      "AVG NUMBER OF ACCURATE 0.5 PREDICTIONS ON TRAIN DATA SET: 1.7973165808074962 ± 0.10048838230701357\n",
      "AVG NUMBER OF ACCURATE 1 PREDICTIONS ON TRAIN DATA SET: 2.7719473843187075 ± 0.11876721144268661\n",
      "POWER SPECTRUM MEAN ERROR ON TRAIN DATA SET: 0.49090408750204506 ± 0.11490579647181268\n",
      "TEMPORAL DISTANCE ON TRAIN DATA SET: 0.09486326859361686 ± 0.0007035696442528308\n",
      "GEOMETRICAL DISTANCE ON TRAIN DATA SET: 11.769919158655219 ± 0.07215917292095533\n",
      "\n",
      "\n",
      "AVERAGE RMNSE ERROR ON TEST DATA SET: 1.4200679133087537 ± 0.0031494173460394396\n",
      "AVG NUMBER OF ACCURATE 0.5 PREDICTIONS ON TEST DATA SET: 1.6499886686488245 ± 0.11251709281932558\n",
      "AVG NUMBER OF ACCURATE 1 PREDICTIONS ON TEST DATA SET: 2.5343758792423308 ± 0.17449983523973717\n",
      "POWER SPECTRUM MEAN ERROR ON TEST DATA SET: 0.7560641583207668 ± 0.23383002167044428\n",
      "TEMPORAL DISTANCE ON TEST DATA SET: 0.09496739129633865 ± 0.0007065004105158774\n",
      "GEOMETRICAL DISTANCE ON TEST DATA SET: 11.849602589791846 ± 0.1006099854266102\n"
     ]
    }
   ],
   "source": [
    "!bash ./1_PGClustered_ESN_Evaluate_Tuned_Model.sh \"evaluate_tuned_model\" \"Lorenz96_F8_ALPHA5_DIM40\" 2000 1 1 5 \"grid_search_for_icw_0.3_reservoir_size_2000.json\" "
   ]
  },
  {
   "cell_type": "code",
   "execution_count": 43,
   "metadata": {},
   "outputs": [
    {
     "name": "stdout",
     "output_type": "stream",
     "text": [
      "Grid Search Progress: 100%|███████████| 25/25 [18:30<00:00, 44.43s/trial, Current Best Loss=0.10952]\n",
      "{'radius': 0.4, 'sigma_input': 0.5, 'in_cluster_weight': 0.5}\n"
     ]
    }
   ],
   "source": [
    "!bash ./0_PGClustered_ESN_Tune.sh \"tune\" \"Lorenz96_F8_ALPHA5_DIM40\" 2000 1 1 5 \"grid_search_for_icw_0.5_reservoir_size_2000.json\" "
   ]
  },
  {
   "cell_type": "code",
   "execution_count": 44,
   "metadata": {},
   "outputs": [
    {
     "name": "stdout",
     "output_type": "stream",
     "text": [
      "{'radius': 0.4, 'sigma_input': 0.5, 'in_cluster_weight': 0.5}\n",
      "AVERAGE RMNSE ERROR ON TRAIN DATA SET: 1.4175236476120423 ± 0.004060450731616499\n",
      "AVG NUMBER OF ACCURATE 0.5 PREDICTIONS ON TRAIN DATA SET: 1.8002547442978396 ± 0.10148540960005571\n",
      "AVG NUMBER OF ACCURATE 1 PREDICTIONS ON TRAIN DATA SET: 2.787057939411904 ± 0.13198730059036692\n",
      "POWER SPECTRUM MEAN ERROR ON TRAIN DATA SET: 0.5040418223710056 ± 0.08054171148630739\n",
      "TEMPORAL DISTANCE ON TRAIN DATA SET: 0.09474929667178625 ± 0.0008811140721317021\n",
      "GEOMETRICAL DISTANCE ON TRAIN DATA SET: 11.79071253904512 ± 0.08977278033408903\n",
      "\n",
      "\n",
      "AVERAGE RMNSE ERROR ON TEST DATA SET: 1.4199881557699885 ± 0.002693839336015617\n",
      "AVG NUMBER OF ACCURATE 0.5 PREDICTIONS ON TEST DATA SET: 1.6575439461954233 ± 0.1167285777561013\n",
      "AVG NUMBER OF ACCURATE 1 PREDICTIONS ON TEST DATA SET: 2.5507456472599612 ± 0.17717254621535541\n",
      "POWER SPECTRUM MEAN ERROR ON TEST DATA SET: 0.7346475318644652 ± 0.2551890319597545\n",
      "TEMPORAL DISTANCE ON TEST DATA SET: 0.09519196287709618 ± 0.0006549283055562572\n",
      "GEOMETRICAL DISTANCE ON TEST DATA SET: 11.852192755813663 ± 0.08427545560188793\n"
     ]
    }
   ],
   "source": [
    "!bash ./1_PGClustered_ESN_Evaluate_Tuned_Model.sh \"evaluate_tuned_model\" \"Lorenz96_F8_ALPHA5_DIM40\" 2000 1 1 5 \"grid_search_for_icw_0.5_reservoir_size_2000.json\" "
   ]
  },
  {
   "cell_type": "code",
   "execution_count": 45,
   "metadata": {},
   "outputs": [
    {
     "name": "stdout",
     "output_type": "stream",
     "text": [
      "Grid Search Progress: 100%|███████████| 25/25 [18:25<00:00, 44.22s/trial, Current Best Loss=0.10984]\n",
      "{'radius': 0.4, 'sigma_input': 0.5, 'in_cluster_weight': 0.7}\n"
     ]
    }
   ],
   "source": [
    "!bash ./0_PGClustered_ESN_Tune.sh \"tune\" \"Lorenz96_F8_ALPHA5_DIM40\" 2000 1 1 5 \"grid_search_for_icw_0.7_reservoir_size_2000.json\" "
   ]
  },
  {
   "cell_type": "code",
   "execution_count": 46,
   "metadata": {},
   "outputs": [
    {
     "name": "stdout",
     "output_type": "stream",
     "text": [
      "{'radius': 0.4, 'sigma_input': 0.5, 'in_cluster_weight': 0.7}\n",
      "AVERAGE RMNSE ERROR ON TRAIN DATA SET: 1.4163359255502301 ± 0.0031495371239294743\n",
      "AVG NUMBER OF ACCURATE 0.5 PREDICTIONS ON TRAIN DATA SET: 1.795637630241585 ± 0.09203268258928247\n",
      "AVG NUMBER OF ACCURATE 1 PREDICTIONS ON TRAIN DATA SET: 2.7711079090357513 ± 0.12004496546262111\n",
      "POWER SPECTRUM MEAN ERROR ON TRAIN DATA SET: 0.5364864489384842 ± 0.09045557962723413\n",
      "TEMPORAL DISTANCE ON TRAIN DATA SET: 0.09483634214502538 ± 0.0006286066279895643\n",
      "GEOMETRICAL DISTANCE ON TRAIN DATA SET: 11.773052920387219 ± 0.08728088083951639\n",
      "\n",
      "\n",
      "AVERAGE RMNSE ERROR ON TEST DATA SET: 1.4198313274200827 ± 0.003146958417407387\n",
      "AVG NUMBER OF ACCURATE 0.5 PREDICTIONS ON TEST DATA SET: 1.6692966001567988 ± 0.10901144945944441\n",
      "AVG NUMBER OF ACCURATE 1 PREDICTIONS ON TEST DATA SET: 2.549906171977006 ± 0.18026009180075767\n",
      "POWER SPECTRUM MEAN ERROR ON TEST DATA SET: 0.7450043775267297 ± 0.20816116020137373\n",
      "TEMPORAL DISTANCE ON TEST DATA SET: 0.09519239240861208 ± 0.0007813515635574603\n",
      "GEOMETRICAL DISTANCE ON TEST DATA SET: 11.85024345799863 ± 0.0831628146813058\n"
     ]
    }
   ],
   "source": [
    "!bash ./1_PGClustered_ESN_Evaluate_Tuned_Model.sh \"evaluate_tuned_model\" \"Lorenz96_F8_ALPHA5_DIM40\" 2000 1 1 5 \"grid_search_for_icw_0.7_reservoir_size_2000.json\" "
   ]
  },
  {
   "cell_type": "code",
   "execution_count": 47,
   "metadata": {},
   "outputs": [
    {
     "name": "stdout",
     "output_type": "stream",
     "text": [
      "Grid Search Progress: 100%|███████████| 25/25 [18:25<00:00, 44.21s/trial, Current Best Loss=0.10988]\n",
      "{'radius': 0.4, 'sigma_input': 0.5, 'in_cluster_weight': 0.9}\n"
     ]
    }
   ],
   "source": [
    "!bash ./0_PGClustered_ESN_Tune.sh \"tune\" \"Lorenz96_F8_ALPHA5_DIM40\" 2000 1 1 5 \"grid_search_for_icw_0.9_reservoir_size_2000.json\" "
   ]
  },
  {
   "cell_type": "code",
   "execution_count": 48,
   "metadata": {},
   "outputs": [
    {
     "name": "stdout",
     "output_type": "stream",
     "text": [
      "{'radius': 0.4, 'sigma_input': 0.5, 'in_cluster_weight': 0.9}\n",
      "AVERAGE RMNSE ERROR ON TRAIN DATA SET: 1.4184144488803494 ± 0.0028238577033022666\n",
      "AVG NUMBER OF ACCURATE 0.5 PREDICTIONS ON TRAIN DATA SET: 1.782206025714299 ± 0.10803169548899706\n",
      "AVG NUMBER OF ACCURATE 1 PREDICTIONS ON TRAIN DATA SET: 2.7778237112993946 ± 0.11889471569481805\n",
      "POWER SPECTRUM MEAN ERROR ON TRAIN DATA SET: 0.5437199638405279 ± 0.10039728166554976\n",
      "TEMPORAL DISTANCE ON TRAIN DATA SET: 0.09512564664265791 ± 0.0007923313979519008\n",
      "GEOMETRICAL DISTANCE ON TRAIN DATA SET: 11.79847572660743 ± 0.0775869480336199\n",
      "\n",
      "\n",
      "AVERAGE RMNSE ERROR ON TEST DATA SET: 1.4199628205006436 ± 0.0037568627345345024\n",
      "AVG NUMBER OF ACCURATE 0.5 PREDICTIONS ON TEST DATA SET: 1.660901847327245 ± 0.08127209035430408\n",
      "AVG NUMBER OF ACCURATE 1 PREDICTIONS ON TEST DATA SET: 2.526400864054255 ± 0.12679898310859583\n",
      "POWER SPECTRUM MEAN ERROR ON TEST DATA SET: 0.7362954125993996 ± 0.21351848375291688\n",
      "TEMPORAL DISTANCE ON TEST DATA SET: 0.09520336610210925 ± 0.0007800412835942288\n",
      "GEOMETRICAL DISTANCE ON TEST DATA SET: 11.863008889148011 ± 0.09507604371624358\n"
     ]
    }
   ],
   "source": [
    "!bash ./1_PGClustered_ESN_Evaluate_Tuned_Model.sh \"evaluate_tuned_model\" \"Lorenz96_F8_ALPHA5_DIM40\" 2000 1 1 5 \"grid_search_for_icw_0.9_reservoir_size_2000.json\" "
   ]
  },
  {
   "cell_type": "code",
   "execution_count": 49,
   "metadata": {},
   "outputs": [
    {
     "name": "stdout",
     "output_type": "stream",
     "text": [
      "Grid Search Progress: 100%|███████████| 25/25 [18:25<00:00, 44.23s/trial, Current Best Loss=0.12156]\n",
      "{'radius': 0.4, 'sigma_input': 0.5, 'in_cluster_weight': 0.1}\n"
     ]
    }
   ],
   "source": [
    "!bash ./0_PGClustered_ESN_Tune.sh \"tune\" \"Lorenz96_F8_ALPHA6_DIM40\" 2000 1 1 6 \"grid_search_for_icw_0.1_reservoir_size_2000.json\" "
   ]
  },
  {
   "cell_type": "code",
   "execution_count": 50,
   "metadata": {},
   "outputs": [
    {
     "name": "stdout",
     "output_type": "stream",
     "text": [
      "{'radius': 0.4, 'sigma_input': 0.5, 'in_cluster_weight': 0.1}\n",
      "AVERAGE RMNSE ERROR ON TRAIN DATA SET: 1.4240266887068667 ± 0.0029967408181036867\n",
      "AVG NUMBER OF ACCURATE 0.5 PREDICTIONS ON TRAIN DATA SET: 1.8135608940192938 ± 0.12221617314238505\n",
      "AVG NUMBER OF ACCURATE 1 PREDICTIONS ON TRAIN DATA SET: 2.769837041104189 ± 0.12599335656686983\n",
      "POWER SPECTRUM MEAN ERROR ON TRAIN DATA SET: 0.8994536455565948 ± 0.25714527014709554\n",
      "TEMPORAL DISTANCE ON TRAIN DATA SET: 0.10617493424307531 ± 0.0004852454328428091\n",
      "GEOMETRICAL DISTANCE ON TRAIN DATA SET: 11.666628821345427 ± 0.09178726533223508\n",
      "\n",
      "\n",
      "AVERAGE RMNSE ERROR ON TEST DATA SET: 1.4265994093635057 ± 0.003210204886955921\n",
      "AVG NUMBER OF ACCURATE 0.5 PREDICTIONS ON TEST DATA SET: 1.7309078803014035 ± 0.10505724865794405\n",
      "AVG NUMBER OF ACCURATE 1 PREDICTIONS ON TEST DATA SET: 2.6953532206026014 ± 0.11251121150390901\n",
      "POWER SPECTRUM MEAN ERROR ON TEST DATA SET: 0.668997613603574 ± 0.15952633083574697\n",
      "TEMPORAL DISTANCE ON TEST DATA SET: 0.105761800318211 ± 0.0006854155165821679\n",
      "GEOMETRICAL DISTANCE ON TEST DATA SET: 11.677330287908658 ± 0.07654870673118369\n"
     ]
    }
   ],
   "source": [
    "!bash ./1_PGClustered_ESN_Evaluate_Tuned_Model.sh \"evaluate_tuned_model\" \"Lorenz96_F8_ALPHA6_DIM40\" 2000 1 1 6 \"grid_search_for_icw_0.1_reservoir_size_2000.json\" "
   ]
  },
  {
   "cell_type": "code",
   "execution_count": 51,
   "metadata": {},
   "outputs": [
    {
     "name": "stdout",
     "output_type": "stream",
     "text": [
      "Grid Search Progress: 100%|███████████| 25/25 [18:25<00:00, 44.22s/trial, Current Best Loss=0.12106]\n",
      "{'radius': 0.4, 'sigma_input': 0.5, 'in_cluster_weight': 0.3}\n"
     ]
    }
   ],
   "source": [
    "!bash ./0_PGClustered_ESN_Tune.sh \"tune\" \"Lorenz96_F8_ALPHA6_DIM40\" 2000 1 1 6 \"grid_search_for_icw_0.3_reservoir_size_2000.json\" "
   ]
  },
  {
   "cell_type": "code",
   "execution_count": 52,
   "metadata": {},
   "outputs": [
    {
     "name": "stdout",
     "output_type": "stream",
     "text": [
      "{'radius': 0.4, 'sigma_input': 0.5, 'in_cluster_weight': 0.3}\n",
      "AVERAGE RMNSE ERROR ON TRAIN DATA SET: 1.424058671833509 ± 0.0033578743463383185\n",
      "AVG NUMBER OF ACCURATE 0.5 PREDICTIONS ON TRAIN DATA SET: 1.8198079241258784 ± 0.11838383191361185\n",
      "AVG NUMBER OF ACCURATE 1 PREDICTIONS ON TRAIN DATA SET: 2.770798122659049 ± 0.12054200415344693\n",
      "POWER SPECTRUM MEAN ERROR ON TRAIN DATA SET: 0.8931430076007741 ± 0.23295937630231422\n",
      "TEMPORAL DISTANCE ON TRAIN DATA SET: 0.10634062051049593 ± 0.0005866180310195529\n",
      "GEOMETRICAL DISTANCE ON TRAIN DATA SET: 11.670341327190176 ± 0.0852747907395568\n",
      "\n",
      "\n",
      "AVERAGE RMNSE ERROR ON TEST DATA SET: 1.4264878390617646 ± 0.0028291782922524526\n",
      "AVG NUMBER OF ACCURATE 0.5 PREDICTIONS ON TEST DATA SET: 1.7323495026336921 ± 0.10536342828037946\n",
      "AVG NUMBER OF ACCURATE 1 PREDICTIONS ON TEST DATA SET: 2.711691607035208 ± 0.12335117648473412\n",
      "POWER SPECTRUM MEAN ERROR ON TEST DATA SET: 0.682067842856409 ± 0.14120207606519566\n",
      "TEMPORAL DISTANCE ON TEST DATA SET: 0.10601130693587206 ± 0.0006363932356480558\n",
      "GEOMETRICAL DISTANCE ON TEST DATA SET: 11.679705959760955 ± 0.05080291922159286\n"
     ]
    }
   ],
   "source": [
    "!bash ./1_PGClustered_ESN_Evaluate_Tuned_Model.sh \"evaluate_tuned_model\" \"Lorenz96_F8_ALPHA6_DIM40\" 2000 1 1 6 \"grid_search_for_icw_0.3_reservoir_size_2000.json\" "
   ]
  },
  {
   "cell_type": "code",
   "execution_count": 53,
   "metadata": {},
   "outputs": [
    {
     "name": "stdout",
     "output_type": "stream",
     "text": [
      "Grid Search Progress: 100%|███████████| 25/25 [18:25<00:00, 44.22s/trial, Current Best Loss=0.12141]\n",
      "{'radius': 0.1, 'sigma_input': 0.5, 'in_cluster_weight': 0.5}\n"
     ]
    }
   ],
   "source": [
    "!bash ./0_PGClustered_ESN_Tune.sh \"tune\" \"Lorenz96_F8_ALPHA6_DIM40\" 2000 1 1 6 \"grid_search_for_icw_0.5_reservoir_size_2000.json\" "
   ]
  },
  {
   "cell_type": "code",
   "execution_count": 54,
   "metadata": {},
   "outputs": [
    {
     "name": "stdout",
     "output_type": "stream",
     "text": [
      "{'radius': 0.1, 'sigma_input': 0.5, 'in_cluster_weight': 0.5}\n",
      "AVERAGE RMNSE ERROR ON TRAIN DATA SET: 1.420201602762042 ± 0.003356298065943443\n",
      "AVG NUMBER OF ACCURATE 0.5 PREDICTIONS ON TRAIN DATA SET: 1.8644982164268313 ± 0.11363544788562248\n",
      "AVG NUMBER OF ACCURATE 1 PREDICTIONS ON TRAIN DATA SET: 2.8294240975054588 ± 0.09631936135652887\n",
      "POWER SPECTRUM MEAN ERROR ON TRAIN DATA SET: 0.8260943718998341 ± 0.1914546475762582\n",
      "TEMPORAL DISTANCE ON TRAIN DATA SET: 0.10595731583281975 ± 0.0006208707136119356\n",
      "GEOMETRICAL DISTANCE ON TRAIN DATA SET: 11.603155586790791 ± 0.07110119447798992\n",
      "\n",
      "\n",
      "AVERAGE RMNSE ERROR ON TEST DATA SET: 1.4218865034465802 ± 0.002841039811627527\n",
      "AVG NUMBER OF ACCURATE 0.5 PREDICTIONS ON TEST DATA SET: 1.8154830571290124 ± 0.10079450197426988\n",
      "AVG NUMBER OF ACCURATE 1 PREDICTIONS ON TEST DATA SET: 2.84047653538634 ± 0.1310907842451982\n",
      "POWER SPECTRUM MEAN ERROR ON TEST DATA SET: 0.6497408608619281 ± 0.15192485855803542\n",
      "TEMPORAL DISTANCE ON TEST DATA SET: 0.1057465119672101 ± 0.0006666294160986004\n",
      "GEOMETRICAL DISTANCE ON TEST DATA SET: 11.630119401864544 ± 0.07967246095370208\n"
     ]
    }
   ],
   "source": [
    "!bash ./1_PGClustered_ESN_Evaluate_Tuned_Model.sh \"evaluate_tuned_model\" \"Lorenz96_F8_ALPHA6_DIM40\" 2000 1 1 6 \"grid_search_for_icw_0.5_reservoir_size_2000.json\" "
   ]
  },
  {
   "cell_type": "code",
   "execution_count": 55,
   "metadata": {},
   "outputs": [
    {
     "name": "stdout",
     "output_type": "stream",
     "text": [
      "Grid Search Progress: 100%|███████████| 25/25 [18:30<00:00, 44.42s/trial, Current Best Loss=0.12105]\n",
      "{'radius': 0.7, 'sigma_input': 0.5, 'in_cluster_weight': 0.7}\n"
     ]
    }
   ],
   "source": [
    "!bash ./0_PGClustered_ESN_Tune.sh \"tune\" \"Lorenz96_F8_ALPHA6_DIM40\" 2000 1 1 6 \"grid_search_for_icw_0.7_reservoir_size_2000.json\" "
   ]
  },
  {
   "cell_type": "code",
   "execution_count": 56,
   "metadata": {},
   "outputs": [
    {
     "name": "stdout",
     "output_type": "stream",
     "text": [
      "{'radius': 0.7, 'sigma_input': 0.5, 'in_cluster_weight': 0.7}\n",
      "AVERAGE RMNSE ERROR ON TRAIN DATA SET: 1.4294696176800095 ± 0.0035520254376990505\n",
      "AVG NUMBER OF ACCURATE 0.5 PREDICTIONS ON TRAIN DATA SET: 1.7169721977559456 ± 0.11130614901967868\n",
      "AVG NUMBER OF ACCURATE 1 PREDICTIONS ON TRAIN DATA SET: 2.68478132349915 ± 0.12848603658489444\n",
      "POWER SPECTRUM MEAN ERROR ON TRAIN DATA SET: 1.0015901788678245 ± 0.24905281812748284\n",
      "TEMPORAL DISTANCE ON TRAIN DATA SET: 0.10624190687654592 ± 0.0005514162549535367\n",
      "GEOMETRICAL DISTANCE ON TRAIN DATA SET: 11.748832815722675 ± 0.08384043037067701\n",
      "\n",
      "\n",
      "AVERAGE RMNSE ERROR ON TEST DATA SET: 1.4305470042575101 ± 0.0030885445108042794\n",
      "AVG NUMBER OF ACCURATE 0.5 PREDICTIONS ON TEST DATA SET: 1.63960513258978 ± 0.08511949430612449\n",
      "AVG NUMBER OF ACCURATE 1 PREDICTIONS ON TEST DATA SET: 2.609336421442704 ± 0.12470010026840225\n",
      "POWER SPECTRUM MEAN ERROR ON TEST DATA SET: 0.6140536084263212 ± 0.12301053473332173\n",
      "TEMPORAL DISTANCE ON TEST DATA SET: 0.10594437001302201 ± 0.0004941978557005709\n",
      "GEOMETRICAL DISTANCE ON TEST DATA SET: 11.778736627980843 ± 0.08314320073725043\n"
     ]
    }
   ],
   "source": [
    "!bash ./1_PGClustered_ESN_Evaluate_Tuned_Model.sh \"evaluate_tuned_model\" \"Lorenz96_F8_ALPHA6_DIM40\" 2000 1 1 6 \"grid_search_for_icw_0.7_reservoir_size_2000.json\" "
   ]
  },
  {
   "cell_type": "code",
   "execution_count": 57,
   "metadata": {},
   "outputs": [
    {
     "name": "stdout",
     "output_type": "stream",
     "text": [
      "Grid Search Progress: 100%|███████████| 25/25 [18:25<00:00, 44.23s/trial, Current Best Loss=0.12141]\n",
      "{'radius': 0.1, 'sigma_input': 0.5, 'in_cluster_weight': 0.9}\n"
     ]
    }
   ],
   "source": [
    "!bash ./0_PGClustered_ESN_Tune.sh \"tune\" \"Lorenz96_F8_ALPHA6_DIM40\" 2000 1 1 6 \"grid_search_for_icw_0.9_reservoir_size_2000.json\" "
   ]
  },
  {
   "cell_type": "code",
   "execution_count": 58,
   "metadata": {},
   "outputs": [
    {
     "name": "stdout",
     "output_type": "stream",
     "text": [
      "{'radius': 0.1, 'sigma_input': 0.5, 'in_cluster_weight': 0.9}\n",
      "AVERAGE RMNSE ERROR ON TRAIN DATA SET: 1.420592515929473 ± 0.0032760897625277617\n",
      "AVG NUMBER OF ACCURATE 0.5 PREDICTIONS ON TRAIN DATA SET: 1.8539263193233797 ± 0.11203507046423285\n",
      "AVG NUMBER OF ACCURATE 1 PREDICTIONS ON TRAIN DATA SET: 2.8212549042891557 ± 0.12238138698084224\n",
      "POWER SPECTRUM MEAN ERROR ON TRAIN DATA SET: 0.9147360414293407 ± 0.22661643036256177\n",
      "TEMPORAL DISTANCE ON TRAIN DATA SET: 0.10623170845080092 ± 0.000505731793226973\n",
      "GEOMETRICAL DISTANCE ON TRAIN DATA SET: 11.605466261366226 ± 0.09398497517615027\n",
      "\n",
      "\n",
      "AVERAGE RMNSE ERROR ON TEST DATA SET: 1.4223438250011324 ± 0.0028656847797115395\n",
      "AVG NUMBER OF ACCURATE 0.5 PREDICTIONS ON TEST DATA SET: 1.8174052202387305 ± 0.09753438983085759\n",
      "AVG NUMBER OF ACCURATE 1 PREDICTIONS ON TEST DATA SET: 2.8659451965901086 ± 0.17013043858615598\n",
      "POWER SPECTRUM MEAN ERROR ON TEST DATA SET: 0.6564330107506522 ± 0.1463701561212387\n",
      "TEMPORAL DISTANCE ON TEST DATA SET: 0.10549772486864832 ± 0.0007753505133938086\n",
      "GEOMETRICAL DISTANCE ON TEST DATA SET: 11.619300935841181 ± 0.08084494289779347\n"
     ]
    }
   ],
   "source": [
    "!bash ./1_PGClustered_ESN_Evaluate_Tuned_Model.sh \"evaluate_tuned_model\" \"Lorenz96_F8_ALPHA6_DIM40\" 2000 1 1 6 \"grid_search_for_icw_0.9_reservoir_size_2000.json\" "
   ]
  },
  {
   "cell_type": "code",
   "execution_count": 59,
   "metadata": {},
   "outputs": [
    {
     "name": "stdout",
     "output_type": "stream",
     "text": [
      "Grid Search Progress: 100%|███████████| 25/25 [18:22<00:00, 44.12s/trial, Current Best Loss=0.13516]\n",
      "{'radius': 0.4, 'sigma_input': 0.5, 'in_cluster_weight': 0.1}\n"
     ]
    }
   ],
   "source": [
    "!bash ./0_PGClustered_ESN_Tune.sh \"tune\" \"Lorenz96_F8_ALPHA7_DIM40\" 2000 1 1 7 \"grid_search_for_icw_0.1_reservoir_size_2000.json\" "
   ]
  },
  {
   "cell_type": "code",
   "execution_count": 60,
   "metadata": {},
   "outputs": [
    {
     "name": "stdout",
     "output_type": "stream",
     "text": [
      "{'radius': 0.4, 'sigma_input': 0.5, 'in_cluster_weight': 0.1}\n",
      "AVERAGE RMNSE ERROR ON TRAIN DATA SET: 1.4268995166454161 ± 0.0028930610722824584\n",
      "AVG NUMBER OF ACCURATE 0.5 PREDICTIONS ON TRAIN DATA SET: 1.7047189651647128 ± 0.10148766807604917\n",
      "AVG NUMBER OF ACCURATE 1 PREDICTIONS ON TRAIN DATA SET: 2.711807841485928 ± 0.15039608819205105\n",
      "POWER SPECTRUM MEAN ERROR ON TRAIN DATA SET: 0.6802449046448362 ± 0.19683635212556283\n",
      "TEMPORAL DISTANCE ON TRAIN DATA SET: 0.12248529252790248 ± 0.0003282651036865091\n",
      "GEOMETRICAL DISTANCE ON TRAIN DATA SET: 11.510764692094373 ± 0.06990285117841755\n",
      "\n",
      "\n",
      "AVERAGE RMNSE ERROR ON TEST DATA SET: 1.4281783036367273 ± 0.003239617900778098\n",
      "AVG NUMBER OF ACCURATE 0.5 PREDICTIONS ON TEST DATA SET: 1.5257288650904923 ± 0.09177832296687838\n",
      "AVG NUMBER OF ACCURATE 1 PREDICTIONS ON TEST DATA SET: 2.3678449383312516 ± 0.16750800914676653\n",
      "POWER SPECTRUM MEAN ERROR ON TEST DATA SET: 0.6965367923049692 ± 0.15242617332478917\n",
      "TEMPORAL DISTANCE ON TEST DATA SET: 0.12257017147909674 ± 0.0006424469884947976\n",
      "GEOMETRICAL DISTANCE ON TEST DATA SET: 11.541288008734998 ± 0.06628899653709551\n"
     ]
    }
   ],
   "source": [
    "!bash ./1_PGClustered_ESN_Evaluate_Tuned_Model.sh \"evaluate_tuned_model\" \"Lorenz96_F8_ALPHA7_DIM40\" 2000 1 1 7 \"grid_search_for_icw_0.1_reservoir_size_2000.json\" "
   ]
  },
  {
   "cell_type": "code",
   "execution_count": 61,
   "metadata": {},
   "outputs": [
    {
     "name": "stdout",
     "output_type": "stream",
     "text": [
      "Grid Search Progress: 100%|███████████| 25/25 [18:25<00:00, 44.23s/trial, Current Best Loss=0.13498]\n",
      "{'radius': 0.4, 'sigma_input': 0.5, 'in_cluster_weight': 0.3}\n"
     ]
    }
   ],
   "source": [
    "!bash ./0_PGClustered_ESN_Tune.sh \"tune\" \"Lorenz96_F8_ALPHA7_DIM40\" 2000 1 1 7 \"grid_search_for_icw_0.3_reservoir_size_2000.json\" "
   ]
  },
  {
   "cell_type": "code",
   "execution_count": 62,
   "metadata": {},
   "outputs": [
    {
     "name": "stdout",
     "output_type": "stream",
     "text": [
      "{'radius': 0.4, 'sigma_input': 0.5, 'in_cluster_weight': 0.3}\n",
      "AVERAGE RMNSE ERROR ON TRAIN DATA SET: 1.4270464944160564 ± 0.00269971680807516\n",
      "AVG NUMBER OF ACCURATE 0.5 PREDICTIONS ON TRAIN DATA SET: 1.7149623745063096 ± 0.10361759173243082\n",
      "AVG NUMBER OF ACCURATE 1 PREDICTIONS ON TRAIN DATA SET: 2.715581729138095 ± 0.14902834167943058\n",
      "POWER SPECTRUM MEAN ERROR ON TRAIN DATA SET: 0.733731753252959 ± 0.17308351953391288\n",
      "TEMPORAL DISTANCE ON TRAIN DATA SET: 0.12256133151314456 ± 0.0005693919292930929\n",
      "GEOMETRICAL DISTANCE ON TRAIN DATA SET: 11.497648796703777 ± 0.08687229809164243\n",
      "\n",
      "\n",
      "AVERAGE RMNSE ERROR ON TEST DATA SET: 1.4282787923406215 ± 0.0028559177953973434\n",
      "AVG NUMBER OF ACCURATE 0.5 PREDICTIONS ON TEST DATA SET: 1.5327375135873744 ± 0.0908088653077092\n",
      "AVG NUMBER OF ACCURATE 1 PREDICTIONS ON TEST DATA SET: 2.3705405723685136 ± 0.16874841317369677\n",
      "POWER SPECTRUM MEAN ERROR ON TEST DATA SET: 0.6612392265684488 ± 0.16619236903912035\n",
      "TEMPORAL DISTANCE ON TEST DATA SET: 0.12268506273150692 ± 0.0006004465984391497\n",
      "GEOMETRICAL DISTANCE ON TEST DATA SET: 11.55492053955384 ± 0.06598194396885079\n"
     ]
    }
   ],
   "source": [
    "!bash ./1_PGClustered_ESN_Evaluate_Tuned_Model.sh \"evaluate_tuned_model\" \"Lorenz96_F8_ALPHA7_DIM40\" 2000 1 1 7 \"grid_search_for_icw_0.3_reservoir_size_2000.json\" "
   ]
  },
  {
   "cell_type": "code",
   "execution_count": 63,
   "metadata": {},
   "outputs": [
    {
     "name": "stdout",
     "output_type": "stream",
     "text": [
      "Grid Search Progress: 100%|███████████| 25/25 [18:31<00:00, 44.46s/trial, Current Best Loss=0.13502]\n",
      "{'radius': 0.1, 'sigma_input': 0.5, 'in_cluster_weight': 0.5}\n"
     ]
    }
   ],
   "source": [
    "!bash ./0_PGClustered_ESN_Tune.sh \"tune\" \"Lorenz96_F8_ALPHA7_DIM40\" 2000 1 1 7 \"grid_search_for_icw_0.5_reservoir_size_2000.json\" "
   ]
  },
  {
   "cell_type": "code",
   "execution_count": 64,
   "metadata": {},
   "outputs": [
    {
     "name": "stdout",
     "output_type": "stream",
     "text": [
      "{'radius': 0.1, 'sigma_input': 0.5, 'in_cluster_weight': 0.5}\n",
      "AVERAGE RMNSE ERROR ON TRAIN DATA SET: 1.4212196786925027 ± 0.0023891069553232057\n",
      "AVG NUMBER OF ACCURATE 0.5 PREDICTIONS ON TRAIN DATA SET: 1.777501084170796 ± 0.1298064650473347\n",
      "AVG NUMBER OF ACCURATE 1 PREDICTIONS ON TRAIN DATA SET: 2.788902974951631 ± 0.22333844506811587\n",
      "POWER SPECTRUM MEAN ERROR ON TRAIN DATA SET: 0.6321439008073401 ± 0.14518359996903513\n",
      "TEMPORAL DISTANCE ON TRAIN DATA SET: 0.12226081547751999 ± 0.0005768678637148966\n",
      "GEOMETRICAL DISTANCE ON TRAIN DATA SET: 11.411946719195047 ± 0.06540553389889799\n",
      "\n",
      "\n",
      "AVERAGE RMNSE ERROR ON TEST DATA SET: 1.4237963747760398 ± 0.003158596753767291\n",
      "AVG NUMBER OF ACCURATE 0.5 PREDICTIONS ON TEST DATA SET: 1.5866501943326214 ± 0.09705929726260029\n",
      "AVG NUMBER OF ACCURATE 1 PREDICTIONS ON TEST DATA SET: 2.444940071796955 ± 0.142267178049524\n",
      "POWER SPECTRUM MEAN ERROR ON TEST DATA SET: 0.7250611515857204 ± 0.16565023701324022\n",
      "TEMPORAL DISTANCE ON TEST DATA SET: 0.1224673984695703 ± 0.0005343666553252602\n",
      "GEOMETRICAL DISTANCE ON TEST DATA SET: 11.455291976195829 ± 0.07134910199652962\n"
     ]
    }
   ],
   "source": [
    "!bash ./1_PGClustered_ESN_Evaluate_Tuned_Model.sh \"evaluate_tuned_model\" \"Lorenz96_F8_ALPHA7_DIM40\" 2000 1 1 7 \"grid_search_for_icw_0.5_reservoir_size_2000.json\" "
   ]
  },
  {
   "cell_type": "code",
   "execution_count": 65,
   "metadata": {},
   "outputs": [
    {
     "name": "stdout",
     "output_type": "stream",
     "text": [
      "Grid Search Progress: 100%|███████████| 25/25 [18:25<00:00, 44.22s/trial, Current Best Loss=0.13499]\n",
      "{'radius': 0.4, 'sigma_input': 0.5, 'in_cluster_weight': 0.7}\n"
     ]
    }
   ],
   "source": [
    "!bash ./0_PGClustered_ESN_Tune.sh \"tune\" \"Lorenz96_F8_ALPHA7_DIM40\" 2000 1 1 7 \"grid_search_for_icw_0.7_reservoir_size_2000.json\" "
   ]
  },
  {
   "cell_type": "code",
   "execution_count": 66,
   "metadata": {},
   "outputs": [
    {
     "name": "stdout",
     "output_type": "stream",
     "text": [
      "{'radius': 0.4, 'sigma_input': 0.5, 'in_cluster_weight': 0.7}\n",
      "AVERAGE RMNSE ERROR ON TRAIN DATA SET: 1.4258463431001314 ± 0.0030376004794077436\n",
      "AVG NUMBER OF ACCURATE 0.5 PREDICTIONS ON TRAIN DATA SET: 1.7311361787298836 ± 0.11166434209241337\n",
      "AVG NUMBER OF ACCURATE 1 PREDICTIONS ON TRAIN DATA SET: 2.730138152939312 ± 0.17461717236104096\n",
      "POWER SPECTRUM MEAN ERROR ON TRAIN DATA SET: 0.618081425295847 ± 0.14379714467748428\n",
      "TEMPORAL DISTANCE ON TRAIN DATA SET: 0.12257824122942844 ± 0.0005578548859796125\n",
      "GEOMETRICAL DISTANCE ON TRAIN DATA SET: 11.484720263811369 ± 0.0855021446173528\n",
      "\n",
      "\n",
      "AVERAGE RMNSE ERROR ON TEST DATA SET: 1.4276050124193407 ± 0.002905459033804807\n",
      "AVG NUMBER OF ACCURATE 0.5 PREDICTIONS ON TEST DATA SET: 1.5489113178109484 ± 0.09555024579034797\n",
      "AVG NUMBER OF ACCURATE 1 PREDICTIONS ON TEST DATA SET: 2.35652327537475 ± 0.14415871784262266\n",
      "POWER SPECTRUM MEAN ERROR ON TEST DATA SET: 0.6773218583262157 ± 0.12250269488900406\n",
      "TEMPORAL DISTANCE ON TEST DATA SET: 0.12247712779747955 ± 0.0006434647043225629\n",
      "GEOMETRICAL DISTANCE ON TEST DATA SET: 11.526394768942458 ± 0.07433298519656471\n"
     ]
    }
   ],
   "source": [
    "!bash ./1_PGClustered_ESN_Evaluate_Tuned_Model.sh \"evaluate_tuned_model\" \"Lorenz96_F8_ALPHA7_DIM40\" 2000 1 1 7 \"grid_search_for_icw_0.7_reservoir_size_2000.json\" "
   ]
  },
  {
   "cell_type": "code",
   "execution_count": 67,
   "metadata": {},
   "outputs": [
    {
     "name": "stdout",
     "output_type": "stream",
     "text": [
      "Grid Search Progress: 100%|███████████| 25/25 [18:21<00:00, 44.06s/trial, Current Best Loss=0.13508]\n",
      "{'radius': 0.1, 'sigma_input': 0.5, 'in_cluster_weight': 0.9}\n"
     ]
    }
   ],
   "source": [
    "!bash ./0_PGClustered_ESN_Tune.sh \"tune\" \"Lorenz96_F8_ALPHA7_DIM40\" 2000 1 1 7 \"grid_search_for_icw_0.9_reservoir_size_2000.json\" "
   ]
  },
  {
   "cell_type": "code",
   "execution_count": 68,
   "metadata": {},
   "outputs": [
    {
     "name": "stdout",
     "output_type": "stream",
     "text": [
      "{'radius': 0.1, 'sigma_input': 0.5, 'in_cluster_weight': 0.9}\n",
      "AVERAGE RMNSE ERROR ON TRAIN DATA SET: 1.421942228710662 ± 0.0023658238469054012\n",
      "AVG NUMBER OF ACCURATE 0.5 PREDICTIONS ON TRAIN DATA SET: 1.774266323326081 ± 0.145722894442399\n",
      "AVG NUMBER OF ACCURATE 1 PREDICTIONS ON TRAIN DATA SET: 2.7872855945292736 ± 0.20928955439114427\n",
      "POWER SPECTRUM MEAN ERROR ON TRAIN DATA SET: 0.6810171170245289 ± 0.188768053243019\n",
      "TEMPORAL DISTANCE ON TRAIN DATA SET: 0.12246693948149442 ± 0.0007374950678850788\n",
      "GEOMETRICAL DISTANCE ON TRAIN DATA SET: 11.42515716102088 ± 0.059731617358738436\n",
      "\n",
      "\n",
      "AVERAGE RMNSE ERROR ON TEST DATA SET: 1.423799090847103 ± 0.0026399091083725056\n",
      "AVG NUMBER OF ACCURATE 0.5 PREDICTIONS ON TEST DATA SET: 1.5855719407177165 ± 0.092533699871262\n",
      "AVG NUMBER OF ACCURATE 1 PREDICTIONS ON TEST DATA SET: 2.4341575356479055 ± 0.13388918754942236\n",
      "POWER SPECTRUM MEAN ERROR ON TEST DATA SET: 0.6220589764256824 ± 0.14115822616112025\n",
      "TEMPORAL DISTANCE ON TEST DATA SET: 0.12250914237092195 ± 0.0005170016632010649\n",
      "GEOMETRICAL DISTANCE ON TEST DATA SET: 11.468665078088957 ± 0.05297359751885308\n"
     ]
    }
   ],
   "source": [
    "!bash ./1_PGClustered_ESN_Evaluate_Tuned_Model.sh \"evaluate_tuned_model\" \"Lorenz96_F8_ALPHA7_DIM40\" 2000 1 1 7 \"grid_search_for_icw_0.9_reservoir_size_2000.json\" "
   ]
  },
  {
   "cell_type": "code",
   "execution_count": 69,
   "metadata": {},
   "outputs": [
    {
     "name": "stdout",
     "output_type": "stream",
     "text": [
      "Grid Search Progress: 100%|███████████| 25/25 [18:20<00:00, 44.04s/trial, Current Best Loss=0.15370]\n",
      "{'radius': 0.1, 'sigma_input': 1.0, 'in_cluster_weight': 0.1}\n"
     ]
    }
   ],
   "source": [
    "!bash ./0_PGClustered_ESN_Tune.sh \"tune\" \"Lorenz96_F8_ALPHA8_DIM40\" 2000 1 1 8 \"grid_search_for_icw_0.1_reservoir_size_2000.json\" "
   ]
  },
  {
   "cell_type": "code",
   "execution_count": 70,
   "metadata": {},
   "outputs": [
    {
     "name": "stdout",
     "output_type": "stream",
     "text": [
      "{'radius': 0.1, 'sigma_input': 1.0, 'in_cluster_weight': 0.1}\n",
      "AVERAGE RMNSE ERROR ON TRAIN DATA SET: 1.470143113918402 ± 0.0031765567818456833\n",
      "AVG NUMBER OF ACCURATE 0.5 PREDICTIONS ON TRAIN DATA SET: 0.8692395515997335 ± 0.03524164389240887\n",
      "AVG NUMBER OF ACCURATE 1 PREDICTIONS ON TRAIN DATA SET: 1.6294517982352779 ± 0.08583127345103155\n",
      "POWER SPECTRUM MEAN ERROR ON TRAIN DATA SET: 2.5947662535631424 ± 0.1450685713963091\n",
      "TEMPORAL DISTANCE ON TRAIN DATA SET: 0.1417659365311278 ± 0.0009950629431127512\n",
      "GEOMETRICAL DISTANCE ON TRAIN DATA SET: 12.294380975621502 ± 0.08397881059111618\n",
      "\n",
      "\n",
      "AVERAGE RMNSE ERROR ON TEST DATA SET: 1.4716677598860701 ± 0.002376480991688635\n",
      "AVG NUMBER OF ACCURATE 0.5 PREDICTIONS ON TEST DATA SET: 0.793575793509832 ± 0.05413386422568239\n",
      "AVG NUMBER OF ACCURATE 1 PREDICTIONS ON TEST DATA SET: 1.527573824744151 ± 0.10254300418059194\n",
      "POWER SPECTRUM MEAN ERROR ON TEST DATA SET: 2.7065531507122467 ± 0.11755419622153622\n",
      "TEMPORAL DISTANCE ON TEST DATA SET: 0.14183319269891004 ± 0.0005739261342313961\n",
      "GEOMETRICAL DISTANCE ON TEST DATA SET: 12.323396570885809 ± 0.07544149689971077\n"
     ]
    }
   ],
   "source": [
    "!bash ./1_PGClustered_ESN_Evaluate_Tuned_Model.sh \"evaluate_tuned_model\" \"Lorenz96_F8_ALPHA8_DIM40\" 2000 1 1 8 \"grid_search_for_icw_0.1_reservoir_size_2000.json\" "
   ]
  },
  {
   "cell_type": "code",
   "execution_count": 71,
   "metadata": {},
   "outputs": [
    {
     "name": "stdout",
     "output_type": "stream",
     "text": [
      "Grid Search Progress: 100%|███████████| 25/25 [18:21<00:00, 44.06s/trial, Current Best Loss=0.15402]\n",
      "{'radius': 0.1, 'sigma_input': 1.0, 'in_cluster_weight': 0.3}\n"
     ]
    }
   ],
   "source": [
    "!bash ./0_PGClustered_ESN_Tune.sh \"tune\" \"Lorenz96_F8_ALPHA8_DIM40\" 2000 1 1 8 \"grid_search_for_icw_0.3_reservoir_size_2000.json\" "
   ]
  },
  {
   "cell_type": "code",
   "execution_count": 72,
   "metadata": {},
   "outputs": [
    {
     "name": "stdout",
     "output_type": "stream",
     "text": [
      "{'radius': 0.1, 'sigma_input': 1.0, 'in_cluster_weight': 0.3}\n",
      "AVERAGE RMNSE ERROR ON TRAIN DATA SET: 1.4706644995035454 ± 0.0024704752399928144\n",
      "AVG NUMBER OF ACCURATE 0.5 PREDICTIONS ON TRAIN DATA SET: 0.8686437739769783 ± 0.03784946681567574\n",
      "AVG NUMBER OF ACCURATE 1 PREDICTIONS ON TRAIN DATA SET: 1.6288560206125229 ± 0.08909614818974465\n",
      "POWER SPECTRUM MEAN ERROR ON TRAIN DATA SET: 2.5885387571763174 ± 0.14651283807071835\n",
      "TEMPORAL DISTANCE ON TRAIN DATA SET: 0.14176161558117845 ± 0.0011009024791340475\n",
      "GEOMETRICAL DISTANCE ON TRAIN DATA SET: 12.299751041503574 ± 0.06928162488714604\n",
      "\n",
      "\n",
      "AVERAGE RMNSE ERROR ON TEST DATA SET: 1.4705773440465246 ± 0.0032224784131779857\n",
      "AVG NUMBER OF ACCURATE 0.5 PREDICTIONS ON TEST DATA SET: 0.7923842382643218 ± 0.05440855758030881\n",
      "AVG NUMBER OF ACCURATE 1 PREDICTIONS ON TEST DATA SET: 1.5281696023669062 ± 0.09996821856453338\n",
      "POWER SPECTRUM MEAN ERROR ON TEST DATA SET: 2.6940053272385316 ± 0.15668943863248921\n",
      "TEMPORAL DISTANCE ON TEST DATA SET: 0.1421426980666837 ± 0.001335251780258457\n",
      "GEOMETRICAL DISTANCE ON TEST DATA SET: 12.310288722096978 ± 0.06549875582371123\n"
     ]
    }
   ],
   "source": [
    "!bash ./1_PGClustered_ESN_Evaluate_Tuned_Model.sh \"evaluate_tuned_model\" \"Lorenz96_F8_ALPHA8_DIM40\" 2000 1 1 8 \"grid_search_for_icw_0.3_reservoir_size_2000.json\" "
   ]
  },
  {
   "cell_type": "code",
   "execution_count": 73,
   "metadata": {},
   "outputs": [
    {
     "name": "stdout",
     "output_type": "stream",
     "text": [
      "Grid Search Progress:  20%|██▍         | 5/25 [03:44<14:22, 43.10s/trial, Current Best Loss=0.15392]/home/user/kuei_jan_CHU/PGClustered_ESN/Methods/./Utils/global_utils.py:256: RuntimeWarning: divide by zero encountered in log10\n",
      "  s_dbfs = 20 * np.log10(s_mag)\n",
      "Grid Search Progress: 100%|███████████| 25/25 [18:26<00:00, 44.27s/trial, Current Best Loss=0.15392]\n",
      "{'radius': 0.1, 'sigma_input': 1.0, 'in_cluster_weight': 0.5}\n"
     ]
    }
   ],
   "source": [
    "!bash ./0_PGClustered_ESN_Tune.sh \"tune\" \"Lorenz96_F8_ALPHA8_DIM40\" 2000 1 1 8 \"grid_search_for_icw_0.5_reservoir_size_2000.json\" "
   ]
  },
  {
   "cell_type": "code",
   "execution_count": 74,
   "metadata": {},
   "outputs": [
    {
     "name": "stdout",
     "output_type": "stream",
     "text": [
      "{'radius': 0.1, 'sigma_input': 1.0, 'in_cluster_weight': 0.5}\n",
      "AVERAGE RMNSE ERROR ON TRAIN DATA SET: 1.4712399504142055 ± 0.002703480535037866\n",
      "AVG NUMBER OF ACCURATE 0.5 PREDICTIONS ON TRAIN DATA SET: 0.867452218731468 ± 0.03798053140166236\n",
      "AVG NUMBER OF ACCURATE 1 PREDICTIONS ON TRAIN DATA SET: 1.6294517982352779 ± 0.08995058361571806\n",
      "POWER SPECTRUM MEAN ERROR ON TRAIN DATA SET: 2.5649901758989477 ± 0.16098510900619642\n",
      "TEMPORAL DISTANCE ON TRAIN DATA SET: 0.14193519552593054 ± 0.0019179072218716761\n",
      "GEOMETRICAL DISTANCE ON TRAIN DATA SET: 12.307714163790626 ± 0.08644988776144844\n",
      "\n",
      "\n",
      "AVERAGE RMNSE ERROR ON TEST DATA SET: 1.4700408345212845 ± 0.003206340388838822\n",
      "AVG NUMBER OF ACCURATE 0.5 PREDICTIONS ON TEST DATA SET: 0.7929800158870768 ± 0.05241150256888797\n",
      "AVG NUMBER OF ACCURATE 1 PREDICTIONS ON TEST DATA SET: 1.5299569352351718 ± 0.09697825041809294\n",
      "POWER SPECTRUM MEAN ERROR ON TEST DATA SET: 2.6978412402452037 ± 0.14515903960392848\n",
      "TEMPORAL DISTANCE ON TEST DATA SET: 0.14224345805839483 ± 0.0013576207174516796\n",
      "GEOMETRICAL DISTANCE ON TEST DATA SET: 12.315347572769735 ± 0.08274441955508885\n"
     ]
    }
   ],
   "source": [
    "!bash ./1_PGClustered_ESN_Evaluate_Tuned_Model.sh \"evaluate_tuned_model\" \"Lorenz96_F8_ALPHA8_DIM40\" 2000 1 1 8 \"grid_search_for_icw_0.5_reservoir_size_2000.json\" "
   ]
  },
  {
   "cell_type": "code",
   "execution_count": 75,
   "metadata": {},
   "outputs": [
    {
     "name": "stdout",
     "output_type": "stream",
     "text": [
      "Grid Search Progress: 100%|███████████| 25/25 [18:23<00:00, 44.12s/trial, Current Best Loss=0.15368]\n",
      "{'radius': 0.1, 'sigma_input': 1.0, 'in_cluster_weight': 0.7}\n"
     ]
    }
   ],
   "source": [
    "!bash ./0_PGClustered_ESN_Tune.sh \"tune\" \"Lorenz96_F8_ALPHA8_DIM40\" 2000 1 1 8 \"grid_search_for_icw_0.7_reservoir_size_2000.json\" "
   ]
  },
  {
   "cell_type": "code",
   "execution_count": 76,
   "metadata": {},
   "outputs": [
    {
     "name": "stdout",
     "output_type": "stream",
     "text": [
      "{'radius': 0.1, 'sigma_input': 1.0, 'in_cluster_weight': 0.7}\n",
      "AVERAGE RMNSE ERROR ON TRAIN DATA SET: 1.471067122543003 ± 0.0033257620584892715\n",
      "AVG NUMBER OF ACCURATE 0.5 PREDICTIONS ON TRAIN DATA SET: 0.8668564411087128 ± 0.04142689908592924\n",
      "AVG NUMBER OF ACCURATE 1 PREDICTIONS ON TRAIN DATA SET: 1.6270686877442575 ± 0.09070506417784056\n",
      "POWER SPECTRUM MEAN ERROR ON TRAIN DATA SET: 2.586732272191715 ± 0.15927859268120076\n",
      "TEMPORAL DISTANCE ON TRAIN DATA SET: 0.14195769875350553 ± 0.0020888090285366492\n",
      "GEOMETRICAL DISTANCE ON TRAIN DATA SET: 12.317433659462337 ± 0.09097478105171986\n",
      "\n",
      "\n",
      "AVERAGE RMNSE ERROR ON TEST DATA SET: 1.4708895257332455 ± 0.0025146391017314253\n",
      "AVG NUMBER OF ACCURATE 0.5 PREDICTIONS ON TEST DATA SET: 0.7900011277733012 ± 0.05208882086234871\n",
      "AVG NUMBER OF ACCURATE 1 PREDICTIONS ON TEST DATA SET: 1.5299569352351716 ± 0.09309394730346747\n",
      "POWER SPECTRUM MEAN ERROR ON TEST DATA SET: 2.714298355781303 ± 0.18303298333018467\n",
      "TEMPORAL DISTANCE ON TEST DATA SET: 0.14205664671627843 ± 0.0010076082531889693\n",
      "GEOMETRICAL DISTANCE ON TEST DATA SET: 12.307860793595166 ± 0.06503638006261359\n"
     ]
    }
   ],
   "source": [
    "!bash ./1_PGClustered_ESN_Evaluate_Tuned_Model.sh \"evaluate_tuned_model\" \"Lorenz96_F8_ALPHA8_DIM40\" 2000 1 1 8 \"grid_search_for_icw_0.7_reservoir_size_2000.json\" "
   ]
  },
  {
   "cell_type": "code",
   "execution_count": 77,
   "metadata": {},
   "outputs": [
    {
     "name": "stdout",
     "output_type": "stream",
     "text": [
      "Grid Search Progress:  40%|████▍      | 10/25 [07:26<10:42, 42.82s/trial, Current Best Loss=0.15370]/home/user/kuei_jan_CHU/PGClustered_ESN/Methods/./Utils/global_utils.py:256: RuntimeWarning: divide by zero encountered in log10\n",
      "  s_dbfs = 20 * np.log10(s_mag)\n",
      "Grid Search Progress: 100%|███████████| 25/25 [18:24<00:00, 44.17s/trial, Current Best Loss=0.15370]\n",
      "{'radius': 0.1, 'sigma_input': 1.0, 'in_cluster_weight': 0.9}\n"
     ]
    }
   ],
   "source": [
    "!bash ./0_PGClustered_ESN_Tune.sh \"tune\" \"Lorenz96_F8_ALPHA8_DIM40\" 2000 1 1 8 \"grid_search_for_icw_0.9_reservoir_size_2000.json\" "
   ]
  },
  {
   "cell_type": "code",
   "execution_count": 78,
   "metadata": {},
   "outputs": [
    {
     "name": "stdout",
     "output_type": "stream",
     "text": [
      "{'radius': 0.1, 'sigma_input': 1.0, 'in_cluster_weight': 0.9}\n",
      "AVERAGE RMNSE ERROR ON TRAIN DATA SET: 1.4709435199011922 ± 0.0037050552174725947\n",
      "AVG NUMBER OF ACCURATE 0.5 PREDICTIONS ON TRAIN DATA SET: 0.8638775529949372 ± 0.04153386259752587\n",
      "AVG NUMBER OF ACCURATE 1 PREDICTIONS ON TRAIN DATA SET: 1.6234940220077267 ± 0.08698149256399415\n",
      "POWER SPECTRUM MEAN ERROR ON TRAIN DATA SET: 2.605611970182888 ± 0.13358158746941715\n",
      "TEMPORAL DISTANCE ON TRAIN DATA SET: 0.14202359078548898 ± 0.002202843851584707\n",
      "GEOMETRICAL DISTANCE ON TRAIN DATA SET: 12.323000317734428 ± 0.09760629234410259\n",
      "\n",
      "\n",
      "AVERAGE RMNSE ERROR ON TEST DATA SET: 1.4705869069927853 ± 0.002652221226910445\n",
      "AVG NUMBER OF ACCURATE 0.5 PREDICTIONS ON TEST DATA SET: 0.7876180172822809 ± 0.05393679817581009\n",
      "AVG NUMBER OF ACCURATE 1 PREDICTIONS ON TEST DATA SET: 1.5323400457261922 ± 0.09209727746864933\n",
      "POWER SPECTRUM MEAN ERROR ON TEST DATA SET: 2.772640918296264 ± 0.13108635054942663\n",
      "TEMPORAL DISTANCE ON TEST DATA SET: 0.1422794515274073 ± 0.0014752007561579519\n",
      "GEOMETRICAL DISTANCE ON TEST DATA SET: 12.324923355796388 ± 0.0799142234708795\n"
     ]
    }
   ],
   "source": [
    "!bash ./1_PGClustered_ESN_Evaluate_Tuned_Model.sh \"evaluate_tuned_model\" \"Lorenz96_F8_ALPHA8_DIM40\" 2000 1 1 8 \"grid_search_for_icw_0.9_reservoir_size_2000.json\" "
   ]
  },
  {
   "cell_type": "code",
   "execution_count": 79,
   "metadata": {},
   "outputs": [
    {
     "name": "stdout",
     "output_type": "stream",
     "text": [
      "Grid Search Progress:   0%|                                               | 0/25 [00:00<?, ?trial/s]/home/user/kuei_jan_CHU/PGClustered_ESN/Methods/./Utils/global_utils.py:256: RuntimeWarning: divide by zero encountered in log10\n",
      "  s_dbfs = 20 * np.log10(s_mag)\n",
      "Grid Search Progress: 100%|███████████| 25/25 [18:21<00:00, 44.07s/trial, Current Best Loss=0.17119]\n",
      "{'radius': 0.1, 'sigma_input': 1.0, 'in_cluster_weight': 0.1}\n"
     ]
    }
   ],
   "source": [
    "!bash ./0_PGClustered_ESN_Tune.sh \"tune\" \"Lorenz96_F8_ALPHA9_DIM40\" 2000 1 1 9 \"grid_search_for_icw_0.1_reservoir_size_2000.json\" "
   ]
  },
  {
   "cell_type": "code",
   "execution_count": 80,
   "metadata": {},
   "outputs": [
    {
     "name": "stdout",
     "output_type": "stream",
     "text": [
      "{'radius': 0.1, 'sigma_input': 1.0, 'in_cluster_weight': 0.1}\n",
      "AVERAGE RMNSE ERROR ON TRAIN DATA SET: 1.4686698274831893 ± 0.0036944986326682156\n",
      "AVG NUMBER OF ACCURATE 0.5 PREDICTIONS ON TRAIN DATA SET: 0.875344974202189 ± 0.059817706041273656\n",
      "AVG NUMBER OF ACCURATE 1 PREDICTIONS ON TRAIN DATA SET: 1.6406243821215587 ± 0.08849882004482908\n",
      "POWER SPECTRUM MEAN ERROR ON TRAIN DATA SET: 2.6470068846966908 ± 0.13557066906625945\n",
      "TEMPORAL DISTANCE ON TRAIN DATA SET: 0.16049098666320902 ± 0.0017499006203453454\n",
      "GEOMETRICAL DISTANCE ON TRAIN DATA SET: 12.115747320990533 ± 0.0959272467403438\n",
      "\n",
      "\n",
      "AVERAGE RMNSE ERROR ON TEST DATA SET: 1.467727851637218 ± 0.004018134063574506\n",
      "AVG NUMBER OF ACCURATE 0.5 PREDICTIONS ON TEST DATA SET: 0.8209596355683253 ± 0.05038432958736835\n",
      "AVG NUMBER OF ACCURATE 1 PREDICTIONS ON TEST DATA SET: 1.5655208192462227 ± 0.08239605807399135\n",
      "POWER SPECTRUM MEAN ERROR ON TEST DATA SET: 2.695960090017195 ± 0.11406652092545765\n",
      "TEMPORAL DISTANCE ON TEST DATA SET: 0.16187027343550944 ± 0.0028369067011834686\n",
      "GEOMETRICAL DISTANCE ON TEST DATA SET: 12.034683642848774 ± 0.06708685980665635\n"
     ]
    }
   ],
   "source": [
    "!bash ./1_PGClustered_ESN_Evaluate_Tuned_Model.sh \"evaluate_tuned_model\" \"Lorenz96_F8_ALPHA9_DIM40\" 2000 1 1 9 \"grid_search_for_icw_0.1_reservoir_size_2000.json\" "
   ]
  },
  {
   "cell_type": "code",
   "execution_count": 81,
   "metadata": {},
   "outputs": [
    {
     "name": "stdout",
     "output_type": "stream",
     "text": [
      "Grid Search Progress:  20%|██▍         | 5/25 [03:43<14:17, 42.89s/trial, Current Best Loss=0.17161]/home/user/kuei_jan_CHU/PGClustered_ESN/Methods/./Utils/global_utils.py:256: RuntimeWarning: divide by zero encountered in log10\n",
      "  s_dbfs = 20 * np.log10(s_mag)\n",
      "Grid Search Progress: 100%|███████████| 25/25 [18:20<00:00, 44.03s/trial, Current Best Loss=0.17119]\n",
      "{'radius': 0.4, 'sigma_input': 1.0, 'in_cluster_weight': 0.3}\n"
     ]
    }
   ],
   "source": [
    "!bash ./0_PGClustered_ESN_Tune.sh \"tune\" \"Lorenz96_F8_ALPHA9_DIM40\" 2000 1 1 9 \"grid_search_for_icw_0.3_reservoir_size_2000.json\" "
   ]
  },
  {
   "cell_type": "code",
   "execution_count": 82,
   "metadata": {},
   "outputs": [
    {
     "name": "stdout",
     "output_type": "stream",
     "text": [
      "{'radius': 0.4, 'sigma_input': 1.0, 'in_cluster_weight': 0.3}\n",
      "AVERAGE RMNSE ERROR ON TRAIN DATA SET: 1.4722461482234108 ± 0.0026394533858614074\n",
      "AVG NUMBER OF ACCURATE 0.5 PREDICTIONS ON TRAIN DATA SET: 0.8552741944682631 ± 0.05393255496125618\n",
      "AVG NUMBER OF ACCURATE 1 PREDICTIONS ON TRAIN DATA SET: 1.6231433804178166 ± 0.0795355997952752\n",
      "POWER SPECTRUM MEAN ERROR ON TRAIN DATA SET: 2.661208755560095 ± 0.1261073247503723\n",
      "TEMPORAL DISTANCE ON TRAIN DATA SET: 0.16046899735730652 ± 0.0012877426955960549\n",
      "GEOMETRICAL DISTANCE ON TRAIN DATA SET: 12.177741083564728 ± 0.07838539594302325\n",
      "\n",
      "\n",
      "AVERAGE RMNSE ERROR ON TEST DATA SET: 1.4703693482615257 ± 0.0025180505029986423\n",
      "AVG NUMBER OF ACCURATE 0.5 PREDICTIONS ON TEST DATA SET: 0.8086581899249513 ± 0.05940634126395185\n",
      "AVG NUMBER OF ACCURATE 1 PREDICTIONS ON TEST DATA SET: 1.561636152200947 ± 0.0929618491182598\n",
      "POWER SPECTRUM MEAN ERROR ON TEST DATA SET: 2.7532497974432344 ± 0.15584135030227267\n",
      "TEMPORAL DISTANCE ON TEST DATA SET: 0.16142532693994774 ± 0.0010691504997598308\n",
      "GEOMETRICAL DISTANCE ON TEST DATA SET: 12.108488845332714 ± 0.06717099091516054\n"
     ]
    }
   ],
   "source": [
    "!bash ./1_PGClustered_ESN_Evaluate_Tuned_Model.sh \"evaluate_tuned_model\" \"Lorenz96_F8_ALPHA9_DIM40\" 2000 1 1 9 \"grid_search_for_icw_0.3_reservoir_size_2000.json\" "
   ]
  },
  {
   "cell_type": "code",
   "execution_count": 83,
   "metadata": {},
   "outputs": [
    {
     "name": "stdout",
     "output_type": "stream",
     "text": [
      "Grid Search Progress:   0%|                                               | 0/25 [00:00<?, ?trial/s]/home/user/kuei_jan_CHU/PGClustered_ESN/Methods/./Utils/global_utils.py:256: RuntimeWarning: divide by zero encountered in log10\n",
      "  s_dbfs = 20 * np.log10(s_mag)\n",
      "Grid Search Progress: 100%|███████████| 25/25 [18:25<00:00, 44.24s/trial, Current Best Loss=0.17106]\n",
      "{'radius': 0.1, 'sigma_input': 1.0, 'in_cluster_weight': 0.5}\n"
     ]
    }
   ],
   "source": [
    "!bash ./0_PGClustered_ESN_Tune.sh \"tune\" \"Lorenz96_F8_ALPHA9_DIM40\" 2000 1 1 9 \"grid_search_for_icw_0.5_reservoir_size_2000.json\" "
   ]
  },
  {
   "cell_type": "code",
   "execution_count": 84,
   "metadata": {},
   "outputs": [
    {
     "name": "stdout",
     "output_type": "stream",
     "text": [
      "{'radius': 0.1, 'sigma_input': 1.0, 'in_cluster_weight': 0.5}\n",
      "AVERAGE RMNSE ERROR ON TRAIN DATA SET: 1.4694069026188195 ± 0.006234954972987443\n",
      "AVG NUMBER OF ACCURATE 0.5 PREDICTIONS ON TRAIN DATA SET: 0.875344974202189 ± 0.05911278269519995\n",
      "AVG NUMBER OF ACCURATE 1 PREDICTIONS ON TRAIN DATA SET: 1.6432141601517425 ± 0.09210111466834993\n",
      "POWER SPECTRUM MEAN ERROR ON TRAIN DATA SET: 2.639845064280452 ± 0.155659271333078\n",
      "TEMPORAL DISTANCE ON TRAIN DATA SET: 0.1610727913503067 ± 0.004190643405797041\n",
      "GEOMETRICAL DISTANCE ON TRAIN DATA SET: 12.116143296825086 ± 0.10556059815488529\n",
      "\n",
      "\n",
      "AVERAGE RMNSE ERROR ON TEST DATA SET: 1.467432022892144 ± 0.0030997221588639863\n",
      "AVG NUMBER OF ACCURATE 0.5 PREDICTIONS ON TEST DATA SET: 0.8209596355683253 ± 0.05055045047853303\n",
      "AVG NUMBER OF ACCURATE 1 PREDICTIONS ON TEST DATA SET: 1.5629310412160389 ± 0.08190620845323682\n",
      "POWER SPECTRUM MEAN ERROR ON TEST DATA SET: 2.7342246749426917 ± 0.13879094180598725\n",
      "TEMPORAL DISTANCE ON TEST DATA SET: 0.16139231894839398 ± 0.0012373665361762336\n",
      "GEOMETRICAL DISTANCE ON TEST DATA SET: 12.0222990090793 ± 0.07687702115857746\n"
     ]
    }
   ],
   "source": [
    "!bash ./1_PGClustered_ESN_Evaluate_Tuned_Model.sh \"evaluate_tuned_model\" \"Lorenz96_F8_ALPHA9_DIM40\" 2000 1 1 9 \"grid_search_for_icw_0.5_reservoir_size_2000.json\" "
   ]
  },
  {
   "cell_type": "code",
   "execution_count": 85,
   "metadata": {},
   "outputs": [
    {
     "name": "stdout",
     "output_type": "stream",
     "text": [
      "Grid Search Progress:   0%|                                               | 0/25 [00:00<?, ?trial/s]/home/user/kuei_jan_CHU/PGClustered_ESN/Methods/./Utils/global_utils.py:256: RuntimeWarning: divide by zero encountered in log10\n",
      "  s_dbfs = 20 * np.log10(s_mag)\n",
      "Grid Search Progress: 100%|███████████| 25/25 [18:23<00:00, 44.14s/trial, Current Best Loss=0.17109]\n",
      "{'radius': 0.1, 'sigma_input': 1.0, 'in_cluster_weight': 0.7}\n"
     ]
    }
   ],
   "source": [
    "!bash ./0_PGClustered_ESN_Tune.sh \"tune\" \"Lorenz96_F8_ALPHA9_DIM40\" 2000 1 1 9 \"grid_search_for_icw_0.7_reservoir_size_2000.json\" "
   ]
  },
  {
   "cell_type": "code",
   "execution_count": 86,
   "metadata": {},
   "outputs": [
    {
     "name": "stdout",
     "output_type": "stream",
     "text": [
      "{'radius': 0.1, 'sigma_input': 1.0, 'in_cluster_weight': 0.7}\n",
      "AVERAGE RMNSE ERROR ON TRAIN DATA SET: 1.4687755652800143 ± 0.003721861068353273\n",
      "AVG NUMBER OF ACCURATE 0.5 PREDICTIONS ON TRAIN DATA SET: 0.8746975296946431 ± 0.05898144840139929\n",
      "AVG NUMBER OF ACCURATE 1 PREDICTIONS ON TRAIN DATA SET: 1.6438616046592884 ± 0.08956991708680416\n",
      "POWER SPECTRUM MEAN ERROR ON TRAIN DATA SET: 2.674777519600325 ± 0.12689904191975251\n",
      "TEMPORAL DISTANCE ON TRAIN DATA SET: 0.16064576613696166 ± 0.001826499648100487\n",
      "GEOMETRICAL DISTANCE ON TRAIN DATA SET: 12.111389693159316 ± 0.07938224729407534\n",
      "\n",
      "\n",
      "AVERAGE RMNSE ERROR ON TEST DATA SET: 1.4686176660123127 ± 0.006592024991151982\n",
      "AVG NUMBER OF ACCURATE 0.5 PREDICTIONS ON TEST DATA SET: 0.8190173020456873 ± 0.04962568179194058\n",
      "AVG NUMBER OF ACCURATE 1 PREDICTIONS ON TEST DATA SET: 1.5596938186783087 ± 0.08255615666153981\n",
      "POWER SPECTRUM MEAN ERROR ON TEST DATA SET: 2.7117526474741336 ± 0.11217651799738396\n",
      "TEMPORAL DISTANCE ON TEST DATA SET: 0.16182725044948726 ± 0.0029323000592579667\n",
      "GEOMETRICAL DISTANCE ON TEST DATA SET: 12.063097103097503 ± 0.10683794887668815\n"
     ]
    }
   ],
   "source": [
    "!bash ./1_PGClustered_ESN_Evaluate_Tuned_Model.sh \"evaluate_tuned_model\" \"Lorenz96_F8_ALPHA9_DIM40\" 2000 1 1 9 \"grid_search_for_icw_0.7_reservoir_size_2000.json\" "
   ]
  },
  {
   "cell_type": "code",
   "execution_count": 87,
   "metadata": {},
   "outputs": [
    {
     "name": "stdout",
     "output_type": "stream",
     "text": [
      "Grid Search Progress:   0%|                                               | 0/25 [00:00<?, ?trial/s]/home/user/kuei_jan_CHU/PGClustered_ESN/Methods/./Utils/global_utils.py:256: RuntimeWarning: divide by zero encountered in log10\n",
      "  s_dbfs = 20 * np.log10(s_mag)\n",
      "Grid Search Progress: 100%|███████████| 25/25 [18:20<00:00, 44.03s/trial, Current Best Loss=0.17115]\n",
      "{'radius': 0.1, 'sigma_input': 1.0, 'in_cluster_weight': 0.9}\n"
     ]
    }
   ],
   "source": [
    "!bash ./0_PGClustered_ESN_Tune.sh \"tune\" \"Lorenz96_F8_ALPHA9_DIM40\" 2000 1 1 9 \"grid_search_for_icw_0.9_reservoir_size_2000.json\" "
   ]
  },
  {
   "cell_type": "code",
   "execution_count": 88,
   "metadata": {},
   "outputs": [
    {
     "name": "stdout",
     "output_type": "stream",
     "text": [
      "{'radius': 0.1, 'sigma_input': 1.0, 'in_cluster_weight': 0.9}\n",
      "AVERAGE RMNSE ERROR ON TRAIN DATA SET: 1.4690681662655953 ± 0.003530676553339216\n",
      "AVG NUMBER OF ACCURATE 0.5 PREDICTIONS ON TRAIN DATA SET: 0.8740500851870971 ± 0.05855705177922724\n",
      "AVG NUMBER OF ACCURATE 1 PREDICTIONS ON TRAIN DATA SET: 1.6458039381819265 ± 0.09201004264502048\n",
      "POWER SPECTRUM MEAN ERROR ON TRAIN DATA SET: 2.6675646329895373 ± 0.1361953251594714\n",
      "TEMPORAL DISTANCE ON TRAIN DATA SET: 0.1607089130013827 ± 0.002063640703244658\n",
      "GEOMETRICAL DISTANCE ON TRAIN DATA SET: 12.116243064535238 ± 0.07670789946154963\n",
      "\n",
      "\n",
      "AVERAGE RMNSE ERROR ON TEST DATA SET: 1.4678861471572404 ± 0.0047268525997563645\n",
      "AVG NUMBER OF ACCURATE 0.5 PREDICTIONS ON TEST DATA SET: 0.8164275240155033 ± 0.04818570678278827\n",
      "AVG NUMBER OF ACCURATE 1 PREDICTIONS ON TEST DATA SET: 1.557104040648125 ± 0.07864518853455742\n",
      "POWER SPECTRUM MEAN ERROR ON TEST DATA SET: 2.771996788151795 ± 0.1464819141036414\n",
      "TEMPORAL DISTANCE ON TEST DATA SET: 0.16175422667777942 ± 0.0030619718501817034\n",
      "GEOMETRICAL DISTANCE ON TEST DATA SET: 12.044965555772174 ± 0.09255862686611598\n"
     ]
    }
   ],
   "source": [
    "!bash ./1_PGClustered_ESN_Evaluate_Tuned_Model.sh \"evaluate_tuned_model\" \"Lorenz96_F8_ALPHA9_DIM40\" 2000 1 1 9 \"grid_search_for_icw_0.9_reservoir_size_2000.json\" "
   ]
  },
  {
   "cell_type": "code",
   "execution_count": 89,
   "metadata": {},
   "outputs": [
    {
     "name": "stdout",
     "output_type": "stream",
     "text": [
      "Grid Search Progress: 100%|███████████| 25/25 [18:18<00:00, 43.94s/trial, Current Best Loss=0.18935]\n",
      "{'radius': 0.1, 'sigma_input': 1.0, 'in_cluster_weight': 0.1}\n"
     ]
    }
   ],
   "source": [
    "!bash ./0_PGClustered_ESN_Tune.sh \"tune\" \"Lorenz96_F8_ALPHA10_DIM40\" 2000 1 1 10 \"grid_search_for_icw_0.1_reservoir_size_2000.json\" "
   ]
  },
  {
   "cell_type": "code",
   "execution_count": 90,
   "metadata": {},
   "outputs": [
    {
     "name": "stdout",
     "output_type": "stream",
     "text": [
      "{'radius': 0.1, 'sigma_input': 1.0, 'in_cluster_weight': 0.1}\n",
      "AVERAGE RMNSE ERROR ON TRAIN DATA SET: 1.4653593505132136 ± 0.001752232929360039\n",
      "AVG NUMBER OF ACCURATE 0.5 PREDICTIONS ON TRAIN DATA SET: 0.886954642376601 ± 0.06155206575855703\n",
      "AVG NUMBER OF ACCURATE 1 PREDICTIONS ON TRAIN DATA SET: 1.7214060502005224 ± 0.10602591693011817\n",
      "POWER SPECTRUM MEAN ERROR ON TRAIN DATA SET: 2.8221616100727793 ± 0.13036117961182825\n",
      "TEMPORAL DISTANCE ON TRAIN DATA SET: 0.18145442096383554 ± 0.0005884947919610002\n",
      "GEOMETRICAL DISTANCE ON TRAIN DATA SET: 11.912827340950136 ± 0.07997317428950472\n",
      "\n",
      "\n",
      "AVERAGE RMNSE ERROR ON TEST DATA SET: 1.4668342809199557 ± 0.0014626457132584825\n",
      "AVG NUMBER OF ACCURATE 0.5 PREDICTIONS ON TEST DATA SET: 0.8001492945828375 ± 0.048150552007383655\n",
      "AVG NUMBER OF ACCURATE 1 PREDICTIONS ON TEST DATA SET: 1.579997338471972 ± 0.0870167968504329\n",
      "POWER SPECTRUM MEAN ERROR ON TEST DATA SET: 2.7412279122329655 ± 0.11975051028443874\n",
      "TEMPORAL DISTANCE ON TEST DATA SET: 0.1818973494660316 ± 0.0007380875773377619\n",
      "GEOMETRICAL DISTANCE ON TEST DATA SET: 11.960268688979273 ± 0.05229714219012011\n"
     ]
    }
   ],
   "source": [
    "!bash ./1_PGClustered_ESN_Evaluate_Tuned_Model.sh \"evaluate_tuned_model\" \"Lorenz96_F8_ALPHA10_DIM40\" 2000 1 1 10 \"grid_search_for_icw_0.1_reservoir_size_2000.json\" "
   ]
  },
  {
   "cell_type": "code",
   "execution_count": 91,
   "metadata": {},
   "outputs": [
    {
     "name": "stdout",
     "output_type": "stream",
     "text": [
      "Grid Search Progress:  20%|██▍         | 5/25 [03:43<14:20, 43.03s/trial, Current Best Loss=0.18950]/home/user/kuei_jan_CHU/PGClustered_ESN/Methods/./Utils/global_utils.py:256: RuntimeWarning: divide by zero encountered in log10\n",
      "  s_dbfs = 20 * np.log10(s_mag)\n",
      "Grid Search Progress: 100%|███████████| 25/25 [18:22<00:00, 44.11s/trial, Current Best Loss=0.18940]\n",
      "{'radius': 0.7, 'sigma_input': 1.0, 'in_cluster_weight': 0.3}\n"
     ]
    }
   ],
   "source": [
    "!bash ./0_PGClustered_ESN_Tune.sh \"tune\" \"Lorenz96_F8_ALPHA10_DIM40\" 2000 1 1 10 \"grid_search_for_icw_0.3_reservoir_size_2000.json\" "
   ]
  },
  {
   "cell_type": "code",
   "execution_count": 92,
   "metadata": {},
   "outputs": [
    {
     "name": "stdout",
     "output_type": "stream",
     "text": [
      "{'radius': 0.7, 'sigma_input': 1.0, 'in_cluster_weight': 0.3}\n",
      "AVERAGE RMNSE ERROR ON TRAIN DATA SET: 1.4719113030718012 ± 0.0025724170992280694\n",
      "AVG NUMBER OF ACCURATE 0.5 PREDICTIONS ON TRAIN DATA SET: 0.8351514509512906 ± 0.05318024495994242\n",
      "AVG NUMBER OF ACCURATE 1 PREDICTIONS ON TRAIN DATA SET: 1.6507016943362474 ± 0.1178819415359675\n",
      "POWER SPECTRUM MEAN ERROR ON TRAIN DATA SET: 2.8098563704510173 ± 0.14876454486699192\n",
      "TEMPORAL DISTANCE ON TRAIN DATA SET: 0.18149151778193845 ± 0.00047152569169709845\n",
      "GEOMETRICAL DISTANCE ON TRAIN DATA SET: 12.073209741746401 ± 0.06886341650401968\n",
      "\n",
      "\n",
      "AVERAGE RMNSE ERROR ON TEST DATA SET: 1.473037245366428 ± 0.0017999352233531345\n",
      "AVG NUMBER OF ACCURATE 0.5 PREDICTIONS ON TEST DATA SET: 0.7637470519596462 ± 0.04348727408221533\n",
      "AVG NUMBER OF ACCURATE 1 PREDICTIONS ON TEST DATA SET: 1.5029925944613756 ± 0.08757816514488553\n",
      "POWER SPECTRUM MEAN ERROR ON TEST DATA SET: 2.7115825985044752 ± 0.05909316883358529\n",
      "TEMPORAL DISTANCE ON TEST DATA SET: 0.18205486122909292 ± 0.000541349732856355\n",
      "GEOMETRICAL DISTANCE ON TEST DATA SET: 12.10769944901439 ± 0.049980876078067615\n"
     ]
    }
   ],
   "source": [
    "!bash ./1_PGClustered_ESN_Evaluate_Tuned_Model.sh \"evaluate_tuned_model\" \"Lorenz96_F8_ALPHA10_DIM40\" 2000 1 1 10 \"grid_search_for_icw_0.3_reservoir_size_2000.json\" "
   ]
  },
  {
   "cell_type": "code",
   "execution_count": 93,
   "metadata": {},
   "outputs": [
    {
     "name": "stdout",
     "output_type": "stream",
     "text": [
      "Grid Search Progress:  20%|██▍         | 5/25 [03:43<14:21, 43.06s/trial, Current Best Loss=0.18901]/home/user/kuei_jan_CHU/PGClustered_ESN/Methods/./Utils/global_utils.py:256: RuntimeWarning: divide by zero encountered in log10\n",
      "  s_dbfs = 20 * np.log10(s_mag)\n",
      "Grid Search Progress: 100%|███████████| 25/25 [18:25<00:00, 44.23s/trial, Current Best Loss=0.18901]\n",
      "{'radius': 0.1, 'sigma_input': 1.0, 'in_cluster_weight': 0.5}\n"
     ]
    }
   ],
   "source": [
    "!bash ./0_PGClustered_ESN_Tune.sh \"tune\" \"Lorenz96_F8_ALPHA10_DIM40\" 2000 1 1 10 \"grid_search_for_icw_0.5_reservoir_size_2000.json\" "
   ]
  },
  {
   "cell_type": "code",
   "execution_count": 94,
   "metadata": {},
   "outputs": [
    {
     "name": "stdout",
     "output_type": "stream",
     "text": [
      "{'radius': 0.1, 'sigma_input': 1.0, 'in_cluster_weight': 0.5}\n",
      "AVERAGE RMNSE ERROR ON TRAIN DATA SET: 1.4645581791250677 ± 0.002156414567314866\n",
      "AVG NUMBER OF ACCURATE 0.5 PREDICTIONS ON TRAIN DATA SET: 0.8848545129944938 ± 0.06144448851508945\n",
      "AVG NUMBER OF ACCURATE 1 PREDICTIONS ON TRAIN DATA SET: 1.7200059639457845 ± 0.10479858386514124\n",
      "POWER SPECTRUM MEAN ERROR ON TRAIN DATA SET: 2.8175830555150596 ± 0.12436702521235149\n",
      "TEMPORAL DISTANCE ON TRAIN DATA SET: 0.18149813975688783 ± 0.000696979874311783\n",
      "GEOMETRICAL DISTANCE ON TRAIN DATA SET: 11.917474020583711 ± 0.07371770945000623\n",
      "\n",
      "\n",
      "AVERAGE RMNSE ERROR ON TEST DATA SET: 1.4675323296910143 ± 0.0018831376574906739\n",
      "AVG NUMBER OF ACCURATE 0.5 PREDICTIONS ON TEST DATA SET: 0.7980491652007302 ± 0.047890318220144966\n",
      "AVG NUMBER OF ACCURATE 1 PREDICTIONS ON TEST DATA SET: 1.580697381599341 ± 0.08364270432860206\n",
      "POWER SPECTRUM MEAN ERROR ON TEST DATA SET: 2.74493070634919 ± 0.09791859004415722\n",
      "TEMPORAL DISTANCE ON TEST DATA SET: 0.18198848420230102 ± 0.0007641447136630267\n",
      "GEOMETRICAL DISTANCE ON TEST DATA SET: 11.961515763420635 ± 0.04687060619579729\n"
     ]
    }
   ],
   "source": [
    "!bash ./1_PGClustered_ESN_Evaluate_Tuned_Model.sh \"evaluate_tuned_model\" \"Lorenz96_F8_ALPHA10_DIM40\" 2000 1 1 10 \"grid_search_for_icw_0.5_reservoir_size_2000.json\" "
   ]
  },
  {
   "cell_type": "code",
   "execution_count": 95,
   "metadata": {},
   "outputs": [
    {
     "name": "stdout",
     "output_type": "stream",
     "text": [
      "Grid Search Progress:  20%|██▍         | 5/25 [03:44<14:21, 43.10s/trial, Current Best Loss=0.18927]/home/user/kuei_jan_CHU/PGClustered_ESN/Methods/./Utils/global_utils.py:256: RuntimeWarning: divide by zero encountered in log10\n",
      "  s_dbfs = 20 * np.log10(s_mag)\n",
      "Grid Search Progress: 100%|███████████| 25/25 [18:23<00:00, 44.13s/trial, Current Best Loss=0.18925]\n",
      "{'radius': 0.7, 'sigma_input': 1.0, 'in_cluster_weight': 0.7}\n"
     ]
    }
   ],
   "source": [
    "!bash ./0_PGClustered_ESN_Tune.sh \"tune\" \"Lorenz96_F8_ALPHA10_DIM40\" 2000 1 1 10 \"grid_search_for_icw_0.7_reservoir_size_2000.json\" "
   ]
  },
  {
   "cell_type": "code",
   "execution_count": 96,
   "metadata": {},
   "outputs": [
    {
     "name": "stdout",
     "output_type": "stream",
     "text": [
      "{'radius': 0.7, 'sigma_input': 1.0, 'in_cluster_weight': 0.7}\n",
      "AVERAGE RMNSE ERROR ON TRAIN DATA SET: 1.472300523923156 ± 0.004303463246342266\n",
      "AVG NUMBER OF ACCURATE 0.5 PREDICTIONS ON TRAIN DATA SET: 0.8295511059323382 ± 0.06036223096120153\n",
      "AVG NUMBER OF ACCURATE 1 PREDICTIONS ON TRAIN DATA SET: 1.647201478699402 ± 0.10479858386514124\n",
      "POWER SPECTRUM MEAN ERROR ON TRAIN DATA SET: 2.820660742394801 ± 0.1356293838842379\n",
      "TEMPORAL DISTANCE ON TRAIN DATA SET: 0.18201063217204658 ± 0.002428105232082018\n",
      "GEOMETRICAL DISTANCE ON TRAIN DATA SET: 12.054147399143043 ± 0.08451224452746273\n",
      "\n",
      "\n",
      "AVERAGE RMNSE ERROR ON TEST DATA SET: 1.475284600781661 ± 0.011825677212212154\n",
      "AVG NUMBER OF ACCURATE 0.5 PREDICTIONS ON TEST DATA SET: 0.7735476557428131 ± 0.051418632333552594\n",
      "AVG NUMBER OF ACCURATE 1 PREDICTIONS ON TEST DATA SET: 1.523293845155078 ± 0.09198044576631373\n",
      "POWER SPECTRUM MEAN ERROR ON TEST DATA SET: 2.7576755371936055 ± 0.08655429384059382\n",
      "TEMPORAL DISTANCE ON TEST DATA SET: 0.18378662427231707 ± 0.007659218109674508\n",
      "GEOMETRICAL DISTANCE ON TEST DATA SET: 12.116540063461475 ± 0.09393164210992469\n"
     ]
    }
   ],
   "source": [
    "!bash ./1_PGClustered_ESN_Evaluate_Tuned_Model.sh \"evaluate_tuned_model\" \"Lorenz96_F8_ALPHA10_DIM40\" 2000 1 1 10 \"grid_search_for_icw_0.7_reservoir_size_2000.json\" "
   ]
  },
  {
   "cell_type": "code",
   "execution_count": 97,
   "metadata": {},
   "outputs": [
    {
     "name": "stdout",
     "output_type": "stream",
     "text": [
      "Grid Search Progress:  20%|██▍         | 5/25 [03:43<14:18, 42.90s/trial, Current Best Loss=0.18896]/home/user/kuei_jan_CHU/PGClustered_ESN/Methods/./Utils/global_utils.py:256: RuntimeWarning: divide by zero encountered in log10\n",
      "  s_dbfs = 20 * np.log10(s_mag)\n",
      "Grid Search Progress: 100%|███████████| 25/25 [18:21<00:00, 44.04s/trial, Current Best Loss=0.18896]\n",
      "{'radius': 0.1, 'sigma_input': 1.0, 'in_cluster_weight': 0.9}\n"
     ]
    }
   ],
   "source": [
    "!bash ./0_PGClustered_ESN_Tune.sh \"tune\" \"Lorenz96_F8_ALPHA10_DIM40\" 2000 1 1 10 \"grid_search_for_icw_0.9_reservoir_size_2000.json\" "
   ]
  },
  {
   "cell_type": "code",
   "execution_count": 98,
   "metadata": {},
   "outputs": [
    {
     "name": "stdout",
     "output_type": "stream",
     "text": [
      "{'radius': 0.1, 'sigma_input': 1.0, 'in_cluster_weight': 0.9}\n",
      "AVERAGE RMNSE ERROR ON TRAIN DATA SET: 1.4649247595158983 ± 0.0023482459171203568\n",
      "AVG NUMBER OF ACCURATE 0.5 PREDICTIONS ON TRAIN DATA SET: 0.8813542973576485 ± 0.06126477333487012\n",
      "AVG NUMBER OF ACCURATE 1 PREDICTIONS ON TRAIN DATA SET: 1.7151056620542011 ± 0.10406889257556313\n",
      "POWER SPECTRUM MEAN ERROR ON TRAIN DATA SET: 2.842429376936163 ± 0.1347665253023838\n",
      "TEMPORAL DISTANCE ON TRAIN DATA SET: 0.18145503525085258 ± 0.0006694511613930642\n",
      "GEOMETRICAL DISTANCE ON TRAIN DATA SET: 11.925176498901315 ± 0.07229896461254398\n",
      "\n",
      "\n",
      "AVERAGE RMNSE ERROR ON TEST DATA SET: 1.4674364308182999 ± 0.0026927484205043588\n",
      "AVG NUMBER OF ACCURATE 0.5 PREDICTIONS ON TEST DATA SET: 0.7966490789459921 ± 0.04848019784744326\n",
      "AVG NUMBER OF ACCURATE 1 PREDICTIONS ON TEST DATA SET: 1.5834975541088174 ± 0.07831727598870525\n",
      "POWER SPECTRUM MEAN ERROR ON TEST DATA SET: 2.743984878266068 ± 0.10066185632341039\n",
      "TEMPORAL DISTANCE ON TEST DATA SET: 0.18211698723911962 ± 0.0010725996742458\n",
      "GEOMETRICAL DISTANCE ON TEST DATA SET: 11.956927260629389 ± 0.06580694804738324\n"
     ]
    }
   ],
   "source": [
    "!bash ./1_PGClustered_ESN_Evaluate_Tuned_Model.sh \"evaluate_tuned_model\" \"Lorenz96_F8_ALPHA10_DIM40\" 2000 1 1 10 \"grid_search_for_icw_0.9_reservoir_size_2000.json\" "
   ]
  },
  {
   "cell_type": "code",
   "execution_count": null,
   "metadata": {},
   "outputs": [],
   "source": []
  },
  {
   "cell_type": "code",
   "execution_count": null,
   "metadata": {},
   "outputs": [],
   "source": []
  },
  {
   "cell_type": "code",
   "execution_count": null,
   "metadata": {},
   "outputs": [],
   "source": []
  },
  {
   "cell_type": "code",
   "execution_count": null,
   "metadata": {},
   "outputs": [],
   "source": []
  },
  {
   "cell_type": "code",
   "execution_count": null,
   "metadata": {},
   "outputs": [],
   "source": []
  },
  {
   "cell_type": "code",
   "execution_count": null,
   "metadata": {},
   "outputs": [],
   "source": []
  },
  {
   "cell_type": "code",
   "execution_count": null,
   "metadata": {},
   "outputs": [],
   "source": []
  },
  {
   "cell_type": "code",
   "execution_count": null,
   "metadata": {},
   "outputs": [],
   "source": []
  },
  {
   "cell_type": "code",
   "execution_count": null,
   "metadata": {},
   "outputs": [],
   "source": []
  },
  {
   "cell_type": "code",
   "execution_count": null,
   "metadata": {},
   "outputs": [],
   "source": []
  },
  {
   "cell_type": "code",
   "execution_count": null,
   "metadata": {},
   "outputs": [],
   "source": []
  },
  {
   "cell_type": "code",
   "execution_count": null,
   "metadata": {},
   "outputs": [],
   "source": []
  },
  {
   "cell_type": "code",
   "execution_count": null,
   "metadata": {},
   "outputs": [],
   "source": []
  },
  {
   "cell_type": "code",
   "execution_count": null,
   "metadata": {},
   "outputs": [],
   "source": []
  },
  {
   "cell_type": "code",
   "execution_count": null,
   "metadata": {},
   "outputs": [],
   "source": []
  },
  {
   "cell_type": "code",
   "execution_count": null,
   "metadata": {},
   "outputs": [],
   "source": []
  },
  {
   "cell_type": "code",
   "execution_count": null,
   "metadata": {},
   "outputs": [],
   "source": []
  },
  {
   "cell_type": "code",
   "execution_count": null,
   "metadata": {},
   "outputs": [],
   "source": []
  },
  {
   "cell_type": "code",
   "execution_count": null,
   "metadata": {},
   "outputs": [],
   "source": []
  },
  {
   "cell_type": "code",
   "execution_count": null,
   "metadata": {},
   "outputs": [],
   "source": []
  },
  {
   "cell_type": "code",
   "execution_count": null,
   "metadata": {},
   "outputs": [],
   "source": []
  },
  {
   "cell_type": "code",
   "execution_count": null,
   "metadata": {},
   "outputs": [],
   "source": []
  },
  {
   "cell_type": "code",
   "execution_count": null,
   "metadata": {},
   "outputs": [],
   "source": []
  }
 ],
 "metadata": {
  "kernelspec": {
   "display_name": "base",
   "language": "python",
   "name": "python3"
  },
  "language_info": {
   "codemirror_mode": {
    "name": "ipython",
    "version": 3
   },
   "file_extension": ".py",
   "mimetype": "text/x-python",
   "name": "python",
   "nbconvert_exporter": "python",
   "pygments_lexer": "ipython3",
   "version": "3.11.8"
  }
 },
 "nbformat": 4,
 "nbformat_minor": 4
}
