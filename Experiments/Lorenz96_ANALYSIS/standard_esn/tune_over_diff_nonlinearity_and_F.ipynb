{
 "cells": [
  {
   "cell_type": "markdown",
   "metadata": {},
   "source": [
    "# Over nonlinearity"
   ]
  },
  {
   "cell_type": "code",
   "execution_count": null,
   "metadata": {},
   "outputs": [
    {
     "name": "stdout",
     "output_type": "stream",
     "text": [
      "Grid Search Progress:  12%|█        | 3/25 [14:02<1:41:37, 277.18s/trial, Current Best Loss=0.12299]/home/user/kuei_jan_CHU/PGClustered_ESN/Methods/./Utils/global_utils.py:254: RuntimeWarning: divide by zero encountered in log10\n",
      "  s_dbfs = 20 * np.log10(s_mag)\n",
      "Grid Search Progress: 100%|████████| 25/25 [1:45:11<00:00, 252.44s/trial, Current Best Loss=0.12299]\n",
      "{'radius': 0.1, 'sigma_input': 0.1, 'regularization': 0.01, 'in_cluster_weight': 0.5, 'noise_level': 5}\n"
     ]
    }
   ],
   "source": [
    "!bash ./0_Standard_ESN_Tune.sh \"tune\" \"Lorenz96_F8_ALPHA1_DIM40\" 3000 0.1 0.1 1 \"grid_search.json\""
   ]
  },
  {
   "cell_type": "code",
   "execution_count": 1,
   "metadata": {},
   "outputs": [
    {
     "name": "stdout",
     "output_type": "stream",
     "text": [
      "{'radius': 0.1, 'sigma_input': 0.1, 'regularization': 0.01, 'in_cluster_weight': 0.5, 'noise_level': 5}\n",
      "AVERAGE RMNSE ERROR ON TRAIN DATA SET: 1.366484638316758 ± 0.00457982281522393\n",
      "AVG NUMBER OF ACCURATE 0.5 PREDICTIONS ON TRAIN DATA SET: 2.3072308603022362 ± 0.0750201315422592\n",
      "AVG NUMBER OF ACCURATE 1 PREDICTIONS ON TRAIN DATA SET: 3.6499455589554457 ± 0.11130196280227427\n",
      "POWER SPECTRUM MEAN ERROR ON TRAIN DATA SET: 0.4492172346910365 ± 0.23580997349655047\n",
      "TEMPORAL DISTANCE ON TRAIN DATA SET: 0.10962341695065711 ± 0.0023773217535445696\n",
      "GEOMETRICAL DISTANCE ON TRAIN DATA SET: 12.996963942206369 ± 0.1168619715693127\n",
      "\n",
      "\n",
      "AVERAGE RMNSE ERROR ON TEST DATA SET: 1.3821216970747767 ± 0.006505100833412112\n",
      "AVG NUMBER OF ACCURATE 0.5 PREDICTIONS ON TEST DATA SET: 1.6745894094887994 ± 0.08880744714566621\n",
      "AVG NUMBER OF ACCURATE 1 PREDICTIONS ON TEST DATA SET: 2.915357877559299 ± 0.20097590667693532\n",
      "POWER SPECTRUM MEAN ERROR ON TEST DATA SET: 0.759030325443578 ± 0.5678998095879741\n",
      "TEMPORAL DISTANCE ON TEST DATA SET: 0.10878662244335487 ± 0.0019185246466551162\n",
      "GEOMETRICAL DISTANCE ON TEST DATA SET: 13.047069006535171 ± 0.1141111467227088\n"
     ]
    }
   ],
   "source": [
    "!bash ./1_Standard_ESN_Evaluate_Tuned_Model.sh \"evaluate_tuned_model\"  \"Lorenz96_F8_ALPHA1_DIM40\" 3000 0.1 0.1 1 \"grid_search.json\""
   ]
  },
  {
   "cell_type": "code",
   "execution_count": 1,
   "metadata": {},
   "outputs": [
    {
     "name": "stdout",
     "output_type": "stream",
     "text": [
      "Grid Search Progress:   8%|▋        | 2/25 [09:23<1:46:26, 277.69s/trial, Current Best Loss=0.11575]/home/user/kuei_jan_CHU/PGClustered_ESN/Methods/./Utils/global_utils.py:256: RuntimeWarning: divide by zero encountered in log10\n",
      "  s_dbfs = 20 * np.log10(s_mag)\n",
      "Grid Search Progress: 100%|████████| 25/25 [1:46:15<00:00, 255.01s/trial, Current Best Loss=0.11357]\n",
      "{'radius': 0.4, 'sigma_input': 0.1}\n"
     ]
    }
   ],
   "source": [
    "!bash ./0_Standard_ESN_Tune.sh \"tune\" \"Lorenz96_F8_ALPHA2_DIM40\" 3000 0.1 0.1 2 \"grid_search.json\"    "
   ]
  },
  {
   "cell_type": "code",
   "execution_count": 2,
   "metadata": {},
   "outputs": [
    {
     "name": "stdout",
     "output_type": "stream",
     "text": [
      "{'radius': 0.4, 'sigma_input': 0.1}\n",
      "AVERAGE RMNSE ERROR ON TRAIN DATA SET: 1.382887161147731 ± 0.004336311800004305\n",
      "AVG NUMBER OF ACCURATE 0.5 PREDICTIONS ON TRAIN DATA SET: 2.235808556325084 ± 0.16398953426420235\n",
      "AVG NUMBER OF ACCURATE 1 PREDICTIONS ON TRAIN DATA SET: 3.485411146709514 ± 0.20639655668398596\n",
      "POWER SPECTRUM MEAN ERROR ON TRAIN DATA SET: 0.7734995748945318 ± 0.28622545727210913\n",
      "TEMPORAL DISTANCE ON TRAIN DATA SET: 0.09618033595248343 ± 0.0009279786861784178\n",
      "GEOMETRICAL DISTANCE ON TRAIN DATA SET: 12.488311463008309 ± 0.09657689097117225\n",
      "\n",
      "\n",
      "AVERAGE RMNSE ERROR ON TEST DATA SET: 1.383329423631457 ± 0.004374875783931282\n",
      "AVG NUMBER OF ACCURATE 0.5 PREDICTIONS ON TEST DATA SET: 1.9234079087289762 ± 0.11815186463162963\n",
      "AVG NUMBER OF ACCURATE 1 PREDICTIONS ON TEST DATA SET: 3.115201065550891 ± 0.2071539465710378\n",
      "POWER SPECTRUM MEAN ERROR ON TEST DATA SET: 0.594091809232237 ± 0.28392802475883305\n",
      "TEMPORAL DISTANCE ON TEST DATA SET: 0.09718094045843285 ± 0.0009372543197807222\n",
      "GEOMETRICAL DISTANCE ON TEST DATA SET: 12.371410182605413 ± 0.0787437562403256\n"
     ]
    }
   ],
   "source": [
    "!bash ./1_Standard_ESN_Evaluate_Tuned_Model.sh \"evaluate_tuned_model\" \"Lorenz96_F8_ALPHA2_DIM40\" 3000 0.1 0.1 2 \"grid_search.json\" "
   ]
  },
  {
   "cell_type": "code",
   "execution_count": 3,
   "metadata": {},
   "outputs": [
    {
     "name": "stdout",
     "output_type": "stream",
     "text": [
      "Grid Search Progress:   4%|▎        | 1/25 [04:29<1:47:54, 269.75s/trial, Current Best Loss=0.15044]/home/user/kuei_jan_CHU/PGClustered_ESN/Methods/./Utils/global_utils.py:256: RuntimeWarning: divide by zero encountered in log10\n",
      "  s_dbfs = 20 * np.log10(s_mag)\n",
      "Grid Search Progress: 100%|████████| 25/25 [1:44:57<00:00, 251.89s/trial, Current Best Loss=0.11393]\n",
      "{'radius': 0.7, 'sigma_input': 0.1}\n"
     ]
    }
   ],
   "source": [
    "!bash ./0_Standard_ESN_Tune.sh \"tune\" \"Lorenz96_F8_ALPHA3_DIM40\" 3000 0.1 0.1 3 \"grid_search.json\" "
   ]
  },
  {
   "cell_type": "code",
   "execution_count": 3,
   "metadata": {},
   "outputs": [
    {
     "name": "stdout",
     "output_type": "stream",
     "text": [
      "{'radius': 0.7, 'sigma_input': 0.1}\n",
      "AVERAGE RMNSE ERROR ON TRAIN DATA SET: 1.514202031722908 ± 0.32904476227213464\n",
      "AVG NUMBER OF ACCURATE 0.5 PREDICTIONS ON TRAIN DATA SET: 2.2669319857525716 ± 0.12545042294073677\n",
      "AVG NUMBER OF ACCURATE 1 PREDICTIONS ON TRAIN DATA SET: 3.329486559370095 ± 0.1945305489160163\n",
      "POWER SPECTRUM MEAN ERROR ON TRAIN DATA SET: 1.2252718924247572 ± 0.7082157417706313\n",
      "TEMPORAL DISTANCE ON TRAIN DATA SET: 0.10541034905981725 ± 0.021814341297015483\n",
      "GEOMETRICAL DISTANCE ON TRAIN DATA SET: 12.164598033656393 ± 0.2940489595183145\n",
      "\n",
      "\n",
      "AVERAGE RMNSE ERROR ON TEST DATA SET: 1.409017209489748 ± 0.00638083592416212\n",
      "AVG NUMBER OF ACCURATE 0.5 PREDICTIONS ON TEST DATA SET: 1.978261090029892 ± 0.10493707439475025\n",
      "AVG NUMBER OF ACCURATE 1 PREDICTIONS ON TEST DATA SET: 2.8895007453865906 ± 0.1344297456148814\n",
      "POWER SPECTRUM MEAN ERROR ON TEST DATA SET: 1.2409487193604554 ± 0.2258115071801467\n",
      "TEMPORAL DISTANCE ON TEST DATA SET: 0.10086106923940755 ± 0.004363284097845706\n",
      "GEOMETRICAL DISTANCE ON TEST DATA SET: 12.108815212085226 ± 0.0730734940329477\n"
     ]
    }
   ],
   "source": [
    "!bash ./1_Standard_ESN_Evaluate_Tuned_Model.sh \"evaluate_tuned_model\" \"Lorenz96_F8_ALPHA3_DIM40\" 3000 0.1 0.1 3 \"grid_search.json\" "
   ]
  },
  {
   "cell_type": "code",
   "execution_count": 5,
   "metadata": {},
   "outputs": [
    {
     "name": "stdout",
     "output_type": "stream",
     "text": [
      "Grid Search Progress:   0%|                                               | 0/25 [00:00<?, ?trial/s]/home/user/kuei_jan_CHU/PGClustered_ESN/Methods/./Utils/global_utils.py:256: RuntimeWarning: divide by zero encountered in log10\n",
      "  s_dbfs = 20 * np.log10(s_mag)\n",
      "Grid Search Progress: 100%|████████| 25/25 [1:21:14<00:00, 194.96s/trial, Current Best Loss=0.19045]\n",
      "{'radius': 0.99, 'sigma_input': 0.5}\n"
     ]
    }
   ],
   "source": [
    "!bash ./0_Standard_ESN_Tune.sh \"tune\" \"Lorenz96_F8_ALPHA4_DIM40\" 3000 0.1 0.1 4 \"grid_search.json\" "
   ]
  },
  {
   "cell_type": "code",
   "execution_count": 4,
   "metadata": {},
   "outputs": [
    {
     "name": "stdout",
     "output_type": "stream",
     "text": [
      "{'radius': 0.99, 'sigma_input': 0.5}\n",
      "/home/user/anaconda3/lib/python3.11/site-packages/numpy/core/_methods.py:236: RuntimeWarning: invalid value encountered in subtract\n",
      "  x = asanyarray(arr - arrmean)\n",
      "AVERAGE RMNSE ERROR ON TRAIN DATA SET: 2.4104402499962765 ± 0.3306620207051069\n",
      "AVG NUMBER OF ACCURATE 0.5 PREDICTIONS ON TRAIN DATA SET: 0.64619806174614 ± 0.04990324970775231\n",
      "AVG NUMBER OF ACCURATE 1 PREDICTIONS ON TRAIN DATA SET: 1.216912288768659 ± 0.0873313993193617\n",
      "POWER SPECTRUM MEAN ERROR ON TRAIN DATA SET: 5.6203960991703426 ± 0.6520138753409135\n",
      "TEMPORAL DISTANCE ON TRAIN DATA SET: 0.21042473117370805 ± 0.03708203712605931\n",
      "GEOMETRICAL DISTANCE ON TRAIN DATA SET: inf ± nan\n",
      "\n",
      "\n",
      "AVERAGE RMNSE ERROR ON TEST DATA SET: 2.4178597442970933 ± 0.33034085150352166\n",
      "AVG NUMBER OF ACCURATE 0.5 PREDICTIONS ON TEST DATA SET: 0.5897615498032458 ± 0.039176655897487526\n",
      "AVG NUMBER OF ACCURATE 1 PREDICTIONS ON TEST DATA SET: 1.204214073581508 ± 0.07824207987806367\n",
      "POWER SPECTRUM MEAN ERROR ON TEST DATA SET: 5.420483260557655 ± 0.6997576247439359\n",
      "TEMPORAL DISTANCE ON TEST DATA SET: 0.22126941555484514 ± 0.044010871037696735\n",
      "GEOMETRICAL DISTANCE ON TEST DATA SET: inf ± nan\n"
     ]
    }
   ],
   "source": [
    "!bash ./1_Standard_ESN_Evaluate_Tuned_Model.sh \"evaluate_tuned_model\" \"Lorenz96_F8_ALPHA4_DIM40\" 3000 0.1 0.1 4 \"grid_search.json\" "
   ]
  },
  {
   "cell_type": "code",
   "execution_count": 7,
   "metadata": {},
   "outputs": [
    {
     "name": "stdout",
     "output_type": "stream",
     "text": [
      "Grid Search Progress:   0%|                                               | 0/25 [00:00<?, ?trial/s]/home/user/kuei_jan_CHU/PGClustered_ESN/Methods/./Utils/global_utils.py:256: RuntimeWarning: divide by zero encountered in log10\n",
      "  s_dbfs = 20 * np.log10(s_mag)\n",
      "Grid Search Progress: 100%|████████| 25/25 [1:03:47<00:00, 153.10s/trial, Current Best Loss=0.19099]\n",
      "{'radius': 0.7, 'sigma_input': 0.5}\n"
     ]
    }
   ],
   "source": [
    "!bash ./0_Standard_ESN_Tune.sh \"tune\" \"Lorenz96_F8_ALPHA5_DIM40\" 3000 0.1 0.1 5 \"grid_search.json\" "
   ]
  },
  {
   "cell_type": "code",
   "execution_count": 5,
   "metadata": {},
   "outputs": [
    {
     "name": "stdout",
     "output_type": "stream",
     "text": [
      "{'radius': 0.7, 'sigma_input': 0.5}\n",
      "/home/user/anaconda3/lib/python3.11/site-packages/numpy/core/_methods.py:236: RuntimeWarning: invalid value encountered in subtract\n",
      "  x = asanyarray(arr - arrmean)\n",
      "AVERAGE RMNSE ERROR ON TRAIN DATA SET: 3.6069381061682315 ± 0.862049978262661\n",
      "AVG NUMBER OF ACCURATE 0.5 PREDICTIONS ON TRAIN DATA SET: 0.6447170173097416 ± 0.039517802969494274\n",
      "AVG NUMBER OF ACCURATE 1 PREDICTIONS ON TRAIN DATA SET: 1.3246919965036101 ± 0.06424043122565744\n",
      "POWER SPECTRUM MEAN ERROR ON TRAIN DATA SET: inf ± nan\n",
      "TEMPORAL DISTANCE ON TRAIN DATA SET: 0.29773656842939 ± 0.16029717278971287\n",
      "GEOMETRICAL DISTANCE ON TRAIN DATA SET: inf ± nan\n",
      "\n",
      "\n",
      "AVERAGE RMNSE ERROR ON TEST DATA SET: 3.5825785368231826 ± 0.8757700280719378\n",
      "AVG NUMBER OF ACCURATE 0.5 PREDICTIONS ON TEST DATA SET: 0.5473378844869161 ± 0.02308175416912538\n",
      "AVG NUMBER OF ACCURATE 1 PREDICTIONS ON TEST DATA SET: 1.1492416623659327 ± 0.07976782308680255\n",
      "POWER SPECTRUM MEAN ERROR ON TEST DATA SET: inf ± nan\n",
      "TEMPORAL DISTANCE ON TEST DATA SET: 0.28249486873405105 ± 0.13316732272757326\n",
      "GEOMETRICAL DISTANCE ON TEST DATA SET: inf ± nan\n"
     ]
    }
   ],
   "source": [
    "!bash ./1_Standard_ESN_Evaluate_Tuned_Model.sh \"evaluate_tuned_model\" \"Lorenz96_F8_ALPHA5_DIM40\" 3000 0.1 0.1 5 \"grid_search.json\" "
   ]
  },
  {
   "cell_type": "code",
   "execution_count": 9,
   "metadata": {},
   "outputs": [
    {
     "name": "stdout",
     "output_type": "stream",
     "text": [
      "Grid Search Progress:   8%|▋        | 2/25 [05:26<1:01:59, 161.70s/trial, Current Best Loss=0.36539]/home/user/kuei_jan_CHU/PGClustered_ESN/Methods/./Utils/global_utils.py:256: RuntimeWarning: divide by zero encountered in log10\n",
      "  s_dbfs = 20 * np.log10(s_mag)\n",
      "Grid Search Progress: 100%|████████| 25/25 [1:01:55<00:00, 148.63s/trial, Current Best Loss=0.22663]\n",
      "{'radius': 0.7, 'sigma_input': 0.5}\n"
     ]
    }
   ],
   "source": [
    "!bash ./0_Standard_ESN_Tune.sh \"tune\" \"Lorenz96_F8_ALPHA6_DIM40\" 3000 0.1 0.1 6 \"grid_search.json\" "
   ]
  },
  {
   "cell_type": "code",
   "execution_count": 6,
   "metadata": {},
   "outputs": [
    {
     "name": "stdout",
     "output_type": "stream",
     "text": [
      "{'radius': 0.7, 'sigma_input': 0.5}\n",
      "/home/user/anaconda3/lib/python3.11/site-packages/numpy/core/_methods.py:236: RuntimeWarning: invalid value encountered in subtract\n",
      "  x = asanyarray(arr - arrmean)\n",
      "AVERAGE RMNSE ERROR ON TRAIN DATA SET: 3.3841290669981277 ± 0.6238322675320028\n",
      "AVG NUMBER OF ACCURATE 0.5 PREDICTIONS ON TRAIN DATA SET: 0.6573797835236869 ± 0.04979107444776687\n",
      "AVG NUMBER OF ACCURATE 1 PREDICTIONS ON TRAIN DATA SET: 1.3705022972292067 ± 0.11709428934224025\n",
      "POWER SPECTRUM MEAN ERROR ON TRAIN DATA SET: 10.34898029333004 ± 5.3551662976316985\n",
      "TEMPORAL DISTANCE ON TRAIN DATA SET: 0.26312175017088746 ± 0.12676444071859605\n",
      "GEOMETRICAL DISTANCE ON TRAIN DATA SET: inf ± nan\n",
      "\n",
      "\n",
      "AVERAGE RMNSE ERROR ON TEST DATA SET: 3.3724984725169085 ± 0.648574815834804\n",
      "AVG NUMBER OF ACCURATE 0.5 PREDICTIONS ON TEST DATA SET: 0.5862597484641068 ± 0.02752118745937865\n",
      "AVG NUMBER OF ACCURATE 1 PREDICTIONS ON TEST DATA SET: 1.2234568193357505 ± 0.06079173215263187\n",
      "POWER SPECTRUM MEAN ERROR ON TEST DATA SET: 9.79733110036668 ± 4.982963741759951\n",
      "TEMPORAL DISTANCE ON TEST DATA SET: 0.27678461403223825 ± 0.16491539246782422\n",
      "GEOMETRICAL DISTANCE ON TEST DATA SET: inf ± nan\n"
     ]
    }
   ],
   "source": [
    "!bash ./1_Standard_ESN_Evaluate_Tuned_Model.sh \"evaluate_tuned_model\" \"Lorenz96_F8_ALPHA6_DIM40\" 3000 0.1 0.1 6 \"grid_search.json\" "
   ]
  },
  {
   "cell_type": "code",
   "execution_count": 11,
   "metadata": {},
   "outputs": [
    {
     "name": "stdout",
     "output_type": "stream",
     "text": [
      "Grid Search Progress:   8%|▋        | 2/25 [05:25<1:01:51, 161.39s/trial, Current Best Loss=0.34049]/home/user/kuei_jan_CHU/PGClustered_ESN/Methods/./Utils/global_utils.py:256: RuntimeWarning: divide by zero encountered in log10\n",
      "  s_dbfs = 20 * np.log10(s_mag)\n",
      "Grid Search Progress: 100%|████████| 25/25 [1:01:55<00:00, 148.63s/trial, Current Best Loss=0.19706]\n",
      "{'radius': 0.7, 'sigma_input': 0.5}\n"
     ]
    }
   ],
   "source": [
    "!bash ./0_Standard_ESN_Tune.sh \"tune\" \"Lorenz96_F8_ALPHA7_DIM40\" 3000 0.1 0.1 7 \"grid_search.json\" "
   ]
  },
  {
   "cell_type": "code",
   "execution_count": 7,
   "metadata": {},
   "outputs": [
    {
     "name": "stdout",
     "output_type": "stream",
     "text": [
      "{'radius': 0.7, 'sigma_input': 0.5}\n",
      "/home/user/anaconda3/lib/python3.11/site-packages/numpy/core/_methods.py:236: RuntimeWarning: invalid value encountered in subtract\n",
      "  x = asanyarray(arr - arrmean)\n",
      "AVERAGE RMNSE ERROR ON TRAIN DATA SET: 3.4174398721896546 ± 0.8463428347379799\n",
      "AVG NUMBER OF ACCURATE 0.5 PREDICTIONS ON TRAIN DATA SET: 0.7073343713776415 ± 0.05107781950589423\n",
      "AVG NUMBER OF ACCURATE 1 PREDICTIONS ON TRAIN DATA SET: 1.4081992210658536 ± 0.10411709811798528\n",
      "POWER SPECTRUM MEAN ERROR ON TRAIN DATA SET: inf ± nan\n",
      "TEMPORAL DISTANCE ON TRAIN DATA SET: 0.2314028265681011 ± 0.04411341318784226\n",
      "GEOMETRICAL DISTANCE ON TRAIN DATA SET: inf ± nan\n",
      "\n",
      "\n",
      "AVERAGE RMNSE ERROR ON TEST DATA SET: 3.4229960994728126 ± 0.8333753586885944\n",
      "AVG NUMBER OF ACCURATE 0.5 PREDICTIONS ON TEST DATA SET: 0.5391268074524708 ± 0.03510539430826706\n",
      "AVG NUMBER OF ACCURATE 1 PREDICTIONS ON TEST DATA SET: 1.1138359841968044 ± 0.08084026257460064\n",
      "POWER SPECTRUM MEAN ERROR ON TEST DATA SET: inf ± nan\n",
      "TEMPORAL DISTANCE ON TEST DATA SET: 0.23212958499878136 ± 0.04333403085266601\n",
      "GEOMETRICAL DISTANCE ON TEST DATA SET: inf ± nan\n"
     ]
    }
   ],
   "source": [
    "!bash ./1_Standard_ESN_Evaluate_Tuned_Model.sh \"evaluate_tuned_model\" \"Lorenz96_F8_ALPHA7_DIM40\" 3000 0.1 0.1 7 \"grid_search.json\" "
   ]
  },
  {
   "cell_type": "code",
   "execution_count": 13,
   "metadata": {},
   "outputs": [
    {
     "name": "stdout",
     "output_type": "stream",
     "text": [
      "Grid Search Progress:   8%|▋        | 2/25 [05:23<1:01:30, 160.45s/trial, Current Best Loss=0.48457]/home/user/kuei_jan_CHU/PGClustered_ESN/Methods/./Utils/global_utils.py:256: RuntimeWarning: divide by zero encountered in log10\n",
      "  s_dbfs = 20 * np.log10(s_mag)\n",
      "Grid Search Progress: 100%|████████| 25/25 [1:01:49<00:00, 148.38s/trial, Current Best Loss=0.22062]\n",
      "{'radius': 0.99, 'sigma_input': 0.5}\n"
     ]
    }
   ],
   "source": [
    "!bash ./0_Standard_ESN_Tune.sh \"tune\" \"Lorenz96_F8_ALPHA8_DIM40\" 3000 0.1 0.1 8 \"grid_search.json\" "
   ]
  },
  {
   "cell_type": "code",
   "execution_count": 8,
   "metadata": {},
   "outputs": [
    {
     "name": "stdout",
     "output_type": "stream",
     "text": [
      "{'radius': 0.99, 'sigma_input': 0.5}\n",
      "/home/user/anaconda3/lib/python3.11/site-packages/numpy/core/_methods.py:236: RuntimeWarning: invalid value encountered in subtract\n",
      "  x = asanyarray(arr - arrmean)\n",
      "AVERAGE RMNSE ERROR ON TRAIN DATA SET: 2.000352080188093 ± 0.3542231351549742\n",
      "AVG NUMBER OF ACCURATE 0.5 PREDICTIONS ON TRAIN DATA SET: 0.6517807192941113 ± 0.025583776096004464\n",
      "AVG NUMBER OF ACCURATE 1 PREDICTIONS ON TRAIN DATA SET: 1.3297756539894485 ± 0.07596106280332468\n",
      "POWER SPECTRUM MEAN ERROR ON TRAIN DATA SET: 3.2582234111679624 ± 1.1455892585726442\n",
      "TEMPORAL DISTANCE ON TRAIN DATA SET: 0.19949883681527486 ± 0.04387560022143105\n",
      "GEOMETRICAL DISTANCE ON TRAIN DATA SET: inf ± nan\n",
      "\n",
      "\n",
      "AVERAGE RMNSE ERROR ON TEST DATA SET: 2.022871779394756 ± 0.39768015438607834\n",
      "AVG NUMBER OF ACCURATE 0.5 PREDICTIONS ON TEST DATA SET: 0.5552647444077804 ± 0.03206147260882727\n",
      "AVG NUMBER OF ACCURATE 1 PREDICTIONS ON TEST DATA SET: 1.1689156958455635 ± 0.06536199158866693\n",
      "POWER SPECTRUM MEAN ERROR ON TEST DATA SET: 3.3196815941801225 ± 1.0688726995580695\n",
      "TEMPORAL DISTANCE ON TEST DATA SET: 0.19943752368413772 ± 0.04747368445122825\n",
      "GEOMETRICAL DISTANCE ON TEST DATA SET: inf ± nan\n"
     ]
    }
   ],
   "source": [
    "!bash ./1_Standard_ESN_Evaluate_Tuned_Model.sh \"evaluate_tuned_model\" \"Lorenz96_F8_ALPHA8_DIM40\" 3000 0.1 0.1 8 \"grid_search.json\" "
   ]
  },
  {
   "cell_type": "code",
   "execution_count": 15,
   "metadata": {
    "editable": true,
    "slideshow": {
     "slide_type": ""
    },
    "tags": []
   },
   "outputs": [
    {
     "name": "stdout",
     "output_type": "stream",
     "text": [
      "Grid Search Progress:   8%|▋        | 2/25 [05:23<1:01:28, 160.39s/trial, Current Best Loss=0.55197]/home/user/kuei_jan_CHU/PGClustered_ESN/Methods/./Utils/global_utils.py:256: RuntimeWarning: divide by zero encountered in log10\n",
      "  s_dbfs = 20 * np.log10(s_mag)\n",
      "Grid Search Progress: 100%|████████| 25/25 [1:01:41<00:00, 148.05s/trial, Current Best Loss=0.22156]\n",
      "{'radius': 0.7, 'sigma_input': 0.5}\n"
     ]
    }
   ],
   "source": [
    "!bash ./0_Standard_ESN_Tune.sh \"tune\" \"Lorenz96_F8_ALPHA9_DIM40\" 3000 0.1 0.1 9 \"grid_search.json\" "
   ]
  },
  {
   "cell_type": "code",
   "execution_count": 9,
   "metadata": {},
   "outputs": [
    {
     "name": "stdout",
     "output_type": "stream",
     "text": [
      "{'radius': 0.7, 'sigma_input': 0.5}\n",
      "/home/user/anaconda3/lib/python3.11/site-packages/numpy/core/_methods.py:236: RuntimeWarning: invalid value encountered in subtract\n",
      "  x = asanyarray(arr - arrmean)\n",
      "AVERAGE RMNSE ERROR ON TRAIN DATA SET: 2.656165645650095 ± 0.6835543530768496\n",
      "AVG NUMBER OF ACCURATE 0.5 PREDICTIONS ON TRAIN DATA SET: 0.6629831757271016 ± 0.04803322687988534\n",
      "AVG NUMBER OF ACCURATE 1 PREDICTIONS ON TRAIN DATA SET: 1.3777619120578835 ± 0.09123225994580515\n",
      "POWER SPECTRUM MEAN ERROR ON TRAIN DATA SET: 6.772716239360422 ± 1.6813187528184734\n",
      "TEMPORAL DISTANCE ON TRAIN DATA SET: 0.23262702772245655 ± 0.0305179609450555\n",
      "GEOMETRICAL DISTANCE ON TRAIN DATA SET: inf ± nan\n",
      "\n",
      "\n",
      "AVERAGE RMNSE ERROR ON TEST DATA SET: 2.6528965351104743 ± 0.6992793873182224\n",
      "AVG NUMBER OF ACCURATE 0.5 PREDICTIONS ON TEST DATA SET: 0.56457161058011 ± 0.033366955821194255\n",
      "AVG NUMBER OF ACCURATE 1 PREDICTIONS ON TEST DATA SET: 1.2922992370618118 ± 0.11520874331442581\n",
      "POWER SPECTRUM MEAN ERROR ON TEST DATA SET: 6.740842451868265 ± 1.8517336288724924\n",
      "TEMPORAL DISTANCE ON TEST DATA SET: 0.23125002477275486 ± 0.02848033610662895\n",
      "GEOMETRICAL DISTANCE ON TEST DATA SET: inf ± nan\n"
     ]
    }
   ],
   "source": [
    "!bash ./1_Standard_ESN_Evaluate_Tuned_Model.sh \"evaluate_tuned_model\" \"Lorenz96_F8_ALPHA9_DIM40\" 3000 0.1 0.1 9 \"grid_search.json\" "
   ]
  },
  {
   "cell_type": "code",
   "execution_count": 17,
   "metadata": {
    "editable": true,
    "slideshow": {
     "slide_type": ""
    },
    "tags": []
   },
   "outputs": [
    {
     "name": "stdout",
     "output_type": "stream",
     "text": [
      "Grid Search Progress:   8%|▋        | 2/25 [05:23<1:01:28, 160.37s/trial, Current Best Loss=0.47973]/home/user/kuei_jan_CHU/PGClustered_ESN/Methods/./Utils/global_utils.py:256: RuntimeWarning: divide by zero encountered in log10\n",
      "  s_dbfs = 20 * np.log10(s_mag)\n",
      "Grid Search Progress: 100%|████████| 25/25 [1:01:39<00:00, 147.99s/trial, Current Best Loss=0.23135]\n",
      "{'radius': 0.99, 'sigma_input': 0.5}\n"
     ]
    }
   ],
   "source": [
    "!bash ./0_Standard_ESN_Tune.sh \"tune\" \"Lorenz96_F8_ALPHA10_DIM40\" 3000 0.1 0.1 10 \"grid_search.json\" "
   ]
  },
  {
   "cell_type": "code",
   "execution_count": 10,
   "metadata": {},
   "outputs": [
    {
     "name": "stdout",
     "output_type": "stream",
     "text": [
      "{'radius': 0.99, 'sigma_input': 0.5}\n",
      "AVERAGE RMNSE ERROR ON TRAIN DATA SET: 1.6742656878653346 ± 0.27917458806922824\n",
      "AVG NUMBER OF ACCURATE 0.5 PREDICTIONS ON TRAIN DATA SET: 0.6566404534721799 ± 0.03780232887792934\n",
      "AVG NUMBER OF ACCURATE 1 PREDICTIONS ON TRAIN DATA SET: 1.4658903087108155 ± 0.06136468007964703\n",
      "POWER SPECTRUM MEAN ERROR ON TRAIN DATA SET: 2.0029927967165646 ± 1.0110419191060156\n",
      "TEMPORAL DISTANCE ON TRAIN DATA SET: 0.1922670248345006 ± 0.029157606727042092\n",
      "GEOMETRICAL DISTANCE ON TRAIN DATA SET: 12.947352962604702 ± 1.378469167970418\n",
      "\n",
      "\n",
      "AVERAGE RMNSE ERROR ON TEST DATA SET: 1.6858191099969093 ± 0.29844443848928215\n",
      "AVG NUMBER OF ACCURATE 0.5 PREDICTIONS ON TEST DATA SET: 0.5488338118573444 ± 0.04635110254022514\n",
      "AVG NUMBER OF ACCURATE 1 PREDICTIONS ON TEST DATA SET: 1.1480707288852614 ± 0.06887513687906563\n",
      "POWER SPECTRUM MEAN ERROR ON TEST DATA SET: 1.9687159628600401 ± 1.0538856779115222\n",
      "TEMPORAL DISTANCE ON TEST DATA SET: 0.1925002417688656 ± 0.02825497241777804\n",
      "GEOMETRICAL DISTANCE ON TEST DATA SET: 13.119190892172407 ± 1.6675631791881556\n"
     ]
    }
   ],
   "source": [
    "!bash ./1_Standard_ESN_Evaluate_Tuned_Model.sh \"evaluate_tuned_model\" \"Lorenz96_F8_ALPHA10_DIM40\" 3000 0.1 0.1 10 \"grid_search.json\" "
   ]
  },
  {
   "cell_type": "markdown",
   "metadata": {},
   "source": [
    "# Over F"
   ]
  },
  {
   "cell_type": "code",
   "execution_count": null,
   "metadata": {},
   "outputs": [],
   "source": [
    "!bash ./0_Standard_ESN_Tune.sh \"tune\" \"Lorenz96_F8_ALPHA1_DIM40\" 3000 0.1 0.1 1 \"grid_search_for_F.json\"    "
   ]
  },
  {
   "cell_type": "code",
   "execution_count": 11,
   "metadata": {},
   "outputs": [
    {
     "name": "stdout",
     "output_type": "stream",
     "text": [
      "{'radius': 0.1, 'sigma_input': 0.1, 'regularization': 0.01, 'in_cluster_weight': 0.5, 'noise_level': 5}\n",
      "AVERAGE RMNSE ERROR ON TRAIN DATA SET: 1.366484638316758 ± 0.00457982281522393\n",
      "AVG NUMBER OF ACCURATE 0.5 PREDICTIONS ON TRAIN DATA SET: 2.3072308603022362 ± 0.0750201315422592\n",
      "AVG NUMBER OF ACCURATE 1 PREDICTIONS ON TRAIN DATA SET: 3.6499455589554457 ± 0.11130196280227427\n",
      "POWER SPECTRUM MEAN ERROR ON TRAIN DATA SET: 0.4492172346910365 ± 0.23580997349655047\n",
      "TEMPORAL DISTANCE ON TRAIN DATA SET: 0.10962341695065711 ± 0.0023773217535445696\n",
      "GEOMETRICAL DISTANCE ON TRAIN DATA SET: 12.996963942206369 ± 0.1168619715693127\n",
      "\n",
      "\n",
      "AVERAGE RMNSE ERROR ON TEST DATA SET: 1.3821216970747767 ± 0.006505100833412112\n",
      "AVG NUMBER OF ACCURATE 0.5 PREDICTIONS ON TEST DATA SET: 1.6745894094887994 ± 0.08880744714566621\n",
      "AVG NUMBER OF ACCURATE 1 PREDICTIONS ON TEST DATA SET: 2.915357877559299 ± 0.20097590667693532\n",
      "POWER SPECTRUM MEAN ERROR ON TEST DATA SET: 0.759030325443578 ± 0.5678998095879741\n",
      "TEMPORAL DISTANCE ON TEST DATA SET: 0.10878662244335487 ± 0.0019185246466551162\n",
      "GEOMETRICAL DISTANCE ON TEST DATA SET: 13.047069006535171 ± 0.1141111467227088\n"
     ]
    }
   ],
   "source": [
    "!bash ./1_Standard_ESN_Evaluate_Tuned_Model.sh \"evaluate_tuned_model\"  \"Lorenz96_F8_ALPHA1_DIM40\" 3000 0.1 0.1 1 \"grid_search_for_F.json\" "
   ]
  },
  {
   "cell_type": "code",
   "execution_count": null,
   "metadata": {},
   "outputs": [
    {
     "name": "stdout",
     "output_type": "stream",
     "text": [
      "Grid Search Progress:   8%|▋        | 2/25 [05:49<1:06:29, 173.46s/trial, Current Best Loss=0.11637]/home/user/kuei_jan_CHU/PGClustered_ESN/Methods/./Utils/global_utils.py:256: RuntimeWarning: divide by zero encountered in log10\n",
      "  s_dbfs = 20 * np.log10(s_mag)\n",
      "Grid Search Progress: 100%|████████| 25/25 [1:06:40<00:00, 160.01s/trial, Current Best Loss=0.11637]\n",
      "{'radius': 0.1, 'sigma_input': 0.1}\n"
     ]
    }
   ],
   "source": [
    "!bash ./0_Standard_ESN_Tune.sh \"tune\" \"Lorenz96_F12_ALPHA1_DIM40\" 3000 0.1 0.1 2 \"grid_search_for_F.json\" "
   ]
  },
  {
   "cell_type": "code",
   "execution_count": null,
   "metadata": {},
   "outputs": [
    {
     "name": "stdout",
     "output_type": "stream",
     "text": [
      "{'radius': 0.1, 'sigma_input': 0.1}\n",
      "AVERAGE RMNSE ERROR ON TRAIN DATA SET: 1.3819512245621557 ± 0.007040507037060024\n",
      "AVG NUMBER OF ACCURATE 0.5 PREDICTIONS ON TRAIN DATA SET: 2.227145881087749 ± 0.1009101773433859\n",
      "AVG NUMBER OF ACCURATE 1 PREDICTIONS ON TRAIN DATA SET: 3.356055712433296 ± 0.13931171317484914\n",
      "POWER SPECTRUM MEAN ERROR ON TRAIN DATA SET: 0.23210777692559253 ± 0.1565533243904866\n",
      "TEMPORAL DISTANCE ON TRAIN DATA SET: 0.10107974864514749 ± 0.0012320544818903445\n",
      "GEOMETRICAL DISTANCE ON TRAIN DATA SET: 12.717456647556883 ± 0.09209048055878952\n",
      "\n",
      "\n",
      "AVERAGE RMNSE ERROR ON TEST DATA SET: 1.382809522186765 ± 0.006962290320665192\n",
      "AVG NUMBER OF ACCURATE 0.5 PREDICTIONS ON TEST DATA SET: 1.8060263934679905 ± 0.11221983221981793\n",
      "AVG NUMBER OF ACCURATE 1 PREDICTIONS ON TEST DATA SET: 2.848934967981729 ± 0.21514757567760612\n",
      "POWER SPECTRUM MEAN ERROR ON TEST DATA SET: 0.6519435710641073 ± 0.28185006227760684\n",
      "TEMPORAL DISTANCE ON TEST DATA SET: 0.10103648326222245 ± 0.001250025948742425\n",
      "GEOMETRICAL DISTANCE ON TEST DATA SET: 12.723634342431561 ± 0.05344192698670659\n"
     ]
    }
   ],
   "source": [
    "!bash ./1_Standard_ESN_Evaluate_Tuned_Model.sh \"evaluate_tuned_model\" \"Lorenz96_F12_ALPHA1_DIM40\" 3000 0.1 0.1 2 \"grid_search_for_F.json\" "
   ]
  },
  {
   "cell_type": "code",
   "execution_count": null,
   "metadata": {},
   "outputs": [
    {
     "name": "stdout",
     "output_type": "stream",
     "text": [
      "Grid Search Progress:   4%|▎        | 1/25 [02:59<1:11:39, 179.15s/trial, Current Best Loss=0.11439]/home/user/kuei_jan_CHU/PGClustered_ESN/Methods/./Utils/global_utils.py:256: RuntimeWarning: divide by zero encountered in log10\n",
      "  s_dbfs = 20 * np.log10(s_mag)\n",
      "Grid Search Progress: 100%|████████| 25/25 [1:06:23<00:00, 159.32s/trial, Current Best Loss=0.11439]\n",
      "{'radius': 0.1, 'sigma_input': 0.1}\n"
     ]
    }
   ],
   "source": [
    "!bash ./0_Standard_ESN_Tune.sh \"tune\" \"Lorenz96_F16_ALPHA1_DIM40\" 3000 0.1 0.1 3 \"grid_search_for_F.json\" "
   ]
  },
  {
   "cell_type": "code",
   "execution_count": null,
   "metadata": {},
   "outputs": [
    {
     "name": "stdout",
     "output_type": "stream",
     "text": [
      "{'radius': 0.1, 'sigma_input': 0.1}\n",
      "AVERAGE RMNSE ERROR ON TRAIN DATA SET: 1.3847244688726148 ± 0.004920952946902343\n",
      "AVG NUMBER OF ACCURATE 0.5 PREDICTIONS ON TRAIN DATA SET: 2.36498269025756 ± 0.08179028495873007\n",
      "AVG NUMBER OF ACCURATE 1 PREDICTIONS ON TRAIN DATA SET: 3.464319561614027 ± 0.18765865868110476\n",
      "POWER SPECTRUM MEAN ERROR ON TRAIN DATA SET: 0.4020534350057585 ± 0.19967863893374288\n",
      "TEMPORAL DISTANCE ON TRAIN DATA SET: 0.0964659952351958 ± 0.0015009018350474568\n",
      "GEOMETRICAL DISTANCE ON TRAIN DATA SET: 12.409912139420069 ± 0.10167277738500526\n",
      "\n",
      "\n",
      "AVERAGE RMNSE ERROR ON TEST DATA SET: 1.3884356252972085 ± 0.0039020158261210344\n",
      "AVG NUMBER OF ACCURATE 0.5 PREDICTIONS ON TEST DATA SET: 1.8062463653280532 ± 0.04848592188015178\n",
      "AVG NUMBER OF ACCURATE 1 PREDICTIONS ON TEST DATA SET: 2.7809479929329797 ± 0.1783948297685972\n",
      "POWER SPECTRUM MEAN ERROR ON TEST DATA SET: 0.44003941727732243 ± 0.26786695354643647\n",
      "TEMPORAL DISTANCE ON TEST DATA SET: 0.09685222067399661 ± 0.0014433811497888836\n",
      "GEOMETRICAL DISTANCE ON TEST DATA SET: 12.477863694695198 ± 0.06531623453938094\n"
     ]
    }
   ],
   "source": [
    "!bash ./1_Standard_ESN_Evaluate_Tuned_Model.sh \"evaluate_tuned_model\" \"Lorenz96_F16_ALPHA1_DIM40\" 3000 0.1 0.1 3 \"grid_search_for_F.json\" "
   ]
  },
  {
   "cell_type": "code",
   "execution_count": null,
   "metadata": {},
   "outputs": [
    {
     "name": "stdout",
     "output_type": "stream",
     "text": [
      "Grid Search Progress:   8%|▋        | 2/25 [08:56<1:41:54, 265.86s/trial, Current Best Loss=0.11164]/home/user/kuei_jan_CHU/PGClustered_ESN/Methods/./Utils/global_utils.py:256: RuntimeWarning: divide by zero encountered in log10\n",
      "  s_dbfs = 20 * np.log10(s_mag)\n",
      "Grid Search Progress: 100%|████████| 25/25 [1:45:34<00:00, 253.39s/trial, Current Best Loss=0.10976]\n",
      "{'radius': 0.7, 'sigma_input': 0.1}\n"
     ]
    }
   ],
   "source": [
    "!bash ./0_Standard_ESN_Tune.sh \"tune\" \"Lorenz96_F20_ALPHA1_DIM40\" 3000 0.1 0.1 4 \"grid_search_for_F.json\" "
   ]
  },
  {
   "cell_type": "code",
   "execution_count": null,
   "metadata": {},
   "outputs": [
    {
     "name": "stdout",
     "output_type": "stream",
     "text": [
      "{'radius': 0.7, 'sigma_input': 0.1}\n",
      "AVERAGE RMNSE ERROR ON TRAIN DATA SET: 1.3920105749594323 ± 0.0033980632001373483\n",
      "AVG NUMBER OF ACCURATE 0.5 PREDICTIONS ON TRAIN DATA SET: 2.0960368814969828 ± 0.08567441893020109\n",
      "AVG NUMBER OF ACCURATE 1 PREDICTIONS ON TRAIN DATA SET: 2.989699665053959 ± 0.10189365497777896\n",
      "POWER SPECTRUM MEAN ERROR ON TRAIN DATA SET: 0.5857859608199678 ± 0.26190373797400635\n",
      "TEMPORAL DISTANCE ON TRAIN DATA SET: 0.0956515094402969 ± 0.0008775135171426139\n",
      "GEOMETRICAL DISTANCE ON TRAIN DATA SET: 12.188946556184126 ± 0.07548636574231626\n",
      "\n",
      "\n",
      "AVERAGE RMNSE ERROR ON TEST DATA SET: 1.39511642313991 ± 0.006579873684717202\n",
      "AVG NUMBER OF ACCURATE 0.5 PREDICTIONS ON TEST DATA SET: 1.6790883684735598 ± 0.0493027060298398\n",
      "AVG NUMBER OF ACCURATE 1 PREDICTIONS ON TEST DATA SET: 2.4908673582764993 ± 0.09694859321507227\n",
      "POWER SPECTRUM MEAN ERROR ON TEST DATA SET: 0.833497511387588 ± 0.3793798996467892\n",
      "TEMPORAL DISTANCE ON TEST DATA SET: 0.0951516468100275 ± 0.0017679171134490882\n",
      "GEOMETRICAL DISTANCE ON TEST DATA SET: 12.194305724262373 ± 0.12130191966797561\n"
     ]
    }
   ],
   "source": [
    "!bash ./1_Standard_ESN_Evaluate_Tuned_Model.sh \"evaluate_tuned_model\" \"Lorenz96_F20_ALPHA1_DIM40\" 3000 0.1 0.1 4 \"grid_search_for_F.json\" "
   ]
  },
  {
   "cell_type": "code",
   "execution_count": null,
   "metadata": {},
   "outputs": [
    {
     "name": "stdout",
     "output_type": "stream",
     "text": [
      "Grid Search Progress:   8%|▋        | 2/25 [09:11<1:45:27, 275.11s/trial, Current Best Loss=0.13415]/home/user/kuei_jan_CHU/PGClustered_ESN/Methods/./Utils/global_utils.py:256: RuntimeWarning: divide by zero encountered in log10\n",
      "  s_dbfs = 20 * np.log10(s_mag)\n",
      "Grid Search Progress: 100%|████████| 25/25 [1:44:50<00:00, 251.63s/trial, Current Best Loss=0.11542]\n",
      "{'radius': 0.9, 'sigma_input': 0.1}\n"
     ]
    }
   ],
   "source": [
    "!bash ./0_Standard_ESN_Tune.sh \"tune\" \"Lorenz96_F24_ALPHA1_DIM40\" 3000 0.1 0.1 5 \"grid_search_for_F.json\" "
   ]
  },
  {
   "cell_type": "code",
   "execution_count": null,
   "metadata": {},
   "outputs": [
    {
     "name": "stdout",
     "output_type": "stream",
     "text": [
      "{'radius': 0.9, 'sigma_input': 0.1}\n",
      "AVERAGE RMNSE ERROR ON TRAIN DATA SET: 1.411276736003648 ± 0.00971016552526588\n",
      "AVG NUMBER OF ACCURATE 0.5 PREDICTIONS ON TRAIN DATA SET: 2.0560869284872814 ± 0.1285546246462684\n",
      "AVG NUMBER OF ACCURATE 1 PREDICTIONS ON TRAIN DATA SET: 2.9894711444172675 ± 0.2130735915695277\n",
      "POWER SPECTRUM MEAN ERROR ON TRAIN DATA SET: 1.797302589228807 ± 0.6305389515149893\n",
      "TEMPORAL DISTANCE ON TRAIN DATA SET: 0.10248519128431766 ± 0.006178265024194769\n",
      "GEOMETRICAL DISTANCE ON TRAIN DATA SET: 12.049680546138118 ± 0.1551108914747139\n",
      "\n",
      "\n",
      "AVERAGE RMNSE ERROR ON TEST DATA SET: 1.406929292237523 ± 0.012745526380340549\n",
      "AVG NUMBER OF ACCURATE 0.5 PREDICTIONS ON TEST DATA SET: 1.7820153839512358 ± 0.09221513818571635\n",
      "AVG NUMBER OF ACCURATE 1 PREDICTIONS ON TEST DATA SET: 2.784192658248703 ± 0.15379050930599053\n",
      "POWER SPECTRUM MEAN ERROR ON TEST DATA SET: 1.620021844783853 ± 0.550905260871546\n",
      "TEMPORAL DISTANCE ON TEST DATA SET: 0.1005584434912831 ± 0.006146262098929787\n",
      "GEOMETRICAL DISTANCE ON TEST DATA SET: 11.996868239310007 ± 0.13011705286500203\n"
     ]
    }
   ],
   "source": [
    "!bash ./1_Standard_ESN_Evaluate_Tuned_Model.sh \"evaluate_tuned_model\" \"Lorenz96_F24_ALPHA1_DIM40\" 3000 0.1 0.1 5 \"grid_search_for_F.json\" "
   ]
  },
  {
   "cell_type": "code",
   "execution_count": null,
   "metadata": {},
   "outputs": [
    {
     "name": "stdout",
     "output_type": "stream",
     "text": [
      "Grid Search Progress:   4%|▎        | 1/25 [03:10<1:16:18, 190.76s/trial, Current Best Loss=0.20493]/home/user/kuei_jan_CHU/PGClustered_ESN/Methods/./Utils/global_utils.py:256: RuntimeWarning: divide by zero encountered in log10\n",
      "  s_dbfs = 20 * np.log10(s_mag)\n",
      "Grid Search Progress: 100%|████████| 25/25 [1:38:44<00:00, 236.98s/trial, Current Best Loss=0.14910]\n",
      "{'radius': 0.4, 'sigma_input': 0.1}\n"
     ]
    }
   ],
   "source": [
    "!bash ./0_Standard_ESN_Tune.sh \"tune\" \"Lorenz96_F28_ALPHA1_DIM40\" 3000 0.1 0.1 6 \"grid_search_for_F.json\" "
   ]
  },
  {
   "cell_type": "code",
   "execution_count": null,
   "metadata": {},
   "outputs": [
    {
     "name": "stdout",
     "output_type": "stream",
     "text": [
      "{'radius': 0.4, 'sigma_input': 0.1}\n",
      "/home/user/anaconda3/lib/python3.11/site-packages/numpy/core/_methods.py:236: RuntimeWarning: invalid value encountered in subtract\n",
      "  x = asanyarray(arr - arrmean)\n",
      "AVERAGE RMNSE ERROR ON TRAIN DATA SET: 9.820865836965918 ± 5.124219034379747\n",
      "AVG NUMBER OF ACCURATE 0.5 PREDICTIONS ON TRAIN DATA SET: 2.1506296091717423 ± 0.07458997317648172\n",
      "AVG NUMBER OF ACCURATE 1 PREDICTIONS ON TRAIN DATA SET: 3.0717853587581088 ± 0.12291862918044932\n",
      "POWER SPECTRUM MEAN ERROR ON TRAIN DATA SET: inf ± nan\n",
      "TEMPORAL DISTANCE ON TRAIN DATA SET: 0.4373177871528391 ± 0.18578107406766717\n",
      "GEOMETRICAL DISTANCE ON TRAIN DATA SET: inf ± nan\n",
      "\n",
      "\n",
      "AVERAGE RMNSE ERROR ON TEST DATA SET: 9.632292665042018 ± 4.3314479685864\n",
      "AVG NUMBER OF ACCURATE 0.5 PREDICTIONS ON TEST DATA SET: 1.7897644701585267 ± 0.1080371741246108\n",
      "AVG NUMBER OF ACCURATE 1 PREDICTIONS ON TEST DATA SET: 2.6545746103200223 ± 0.18921120962701535\n",
      "POWER SPECTRUM MEAN ERROR ON TEST DATA SET: inf ± nan\n",
      "TEMPORAL DISTANCE ON TEST DATA SET: 0.37435543970158097 ± 0.1357958026842414\n",
      "GEOMETRICAL DISTANCE ON TEST DATA SET: inf ± nan\n"
     ]
    }
   ],
   "source": [
    "!bash ./1_Standard_ESN_Evaluate_Tuned_Model.sh \"evaluate_tuned_model\" \"Lorenz96_F28_ALPHA1_DIM40\" 3000 0.1 0.1 6 \"grid_search_for_F.json\" "
   ]
  },
  {
   "cell_type": "code",
   "execution_count": null,
   "metadata": {},
   "outputs": [
    {
     "name": "stdout",
     "output_type": "stream",
     "text": [
      "Grid Search Progress:   4%|▎        | 1/25 [04:31<1:48:38, 271.61s/trial, Current Best Loss=0.37533]/home/user/kuei_jan_CHU/PGClustered_ESN/Methods/./Utils/global_utils.py:256: RuntimeWarning: divide by zero encountered in log10\n",
      "  s_dbfs = 20 * np.log10(s_mag)\n",
      "Grid Search Progress: 100%|████████| 25/25 [1:40:17<00:00, 240.72s/trial, Current Best Loss=0.19142]\n",
      "{'radius': 0.7, 'sigma_input': 0.5}\n"
     ]
    }
   ],
   "source": [
    "!bash ./0_Standard_ESN_Tune.sh \"tune\" \"Lorenz96_F32_ALPHA1_DIM40\" 3000 0.1 0.1 7 \"grid_search_for_F.json\" "
   ]
  },
  {
   "cell_type": "code",
   "execution_count": null,
   "metadata": {},
   "outputs": [
    {
     "name": "stdout",
     "output_type": "stream",
     "text": [
      "{'radius': 0.7, 'sigma_input': 0.5}\n",
      "/home/user/anaconda3/lib/python3.11/site-packages/numpy/core/_methods.py:236: RuntimeWarning: invalid value encountered in subtract\n",
      "  x = asanyarray(arr - arrmean)\n",
      "AVERAGE RMNSE ERROR ON TRAIN DATA SET: 3.5060100290649787 ± 0.7220683938494608\n",
      "AVG NUMBER OF ACCURATE 0.5 PREDICTIONS ON TRAIN DATA SET: 0.6675942534406449 ± 0.04085519940433594\n",
      "AVG NUMBER OF ACCURATE 1 PREDICTIONS ON TRAIN DATA SET: 1.2290761571238824 ± 0.08441256576711996\n",
      "POWER SPECTRUM MEAN ERROR ON TRAIN DATA SET: inf ± nan\n",
      "TEMPORAL DISTANCE ON TRAIN DATA SET: 0.28228354406851286 ± 0.13326945071684274\n",
      "GEOMETRICAL DISTANCE ON TRAIN DATA SET: inf ± nan\n",
      "\n",
      "\n",
      "AVERAGE RMNSE ERROR ON TEST DATA SET: 3.521677227325969 ± 0.750857398474743\n",
      "AVG NUMBER OF ACCURATE 0.5 PREDICTIONS ON TEST DATA SET: 0.5460218262351381 ± 0.019888647128931982\n",
      "AVG NUMBER OF ACCURATE 1 PREDICTIONS ON TEST DATA SET: 1.1194501534009977 ± 0.019638779831442778\n",
      "POWER SPECTRUM MEAN ERROR ON TEST DATA SET: 11.4713526316453 ± 14.39617281270191\n",
      "TEMPORAL DISTANCE ON TEST DATA SET: 0.28471797314541086 ± 0.10566488849559728\n",
      "GEOMETRICAL DISTANCE ON TEST DATA SET: inf ± nan\n"
     ]
    }
   ],
   "source": [
    "!bash ./1_Standard_ESN_Evaluate_Tuned_Model.sh \"evaluate_tuned_model\" \"Lorenz96_F32_ALPHA1_DIM40\" 3000 0.1 0.1 7 \"grid_search_for_F.json\" "
   ]
  },
  {
   "cell_type": "code",
   "execution_count": null,
   "metadata": {},
   "outputs": [
    {
     "name": "stdout",
     "output_type": "stream",
     "text": [
      "Grid Search Progress:   0%|                                               | 0/25 [00:00<?, ?trial/s]/home/user/kuei_jan_CHU/PGClustered_ESN/Methods/./Utils/global_utils.py:256: RuntimeWarning: divide by zero encountered in log10\n",
      "  s_dbfs = 20 * np.log10(s_mag)\n",
      "Grid Search Progress: 100%|████████| 25/25 [1:40:58<00:00, 242.33s/trial, Current Best Loss=0.18573]\n",
      "{'radius': 0.99, 'sigma_input': 0.5}\n"
     ]
    }
   ],
   "source": [
    "!bash ./0_Standard_ESN_Tune.sh \"tune\" \"Lorenz96_F36_ALPHA1_DIM40\" 3000 0.1 0.1 8 \"grid_search_for_F.json\" "
   ]
  },
  {
   "cell_type": "code",
   "execution_count": null,
   "metadata": {},
   "outputs": [
    {
     "name": "stdout",
     "output_type": "stream",
     "text": [
      "{'radius': 0.99, 'sigma_input': 0.5}\n",
      "/home/user/anaconda3/lib/python3.11/site-packages/numpy/core/_methods.py:236: RuntimeWarning: invalid value encountered in subtract\n",
      "  x = asanyarray(arr - arrmean)\n",
      "AVERAGE RMNSE ERROR ON TRAIN DATA SET: 2.3978493509596737 ± 0.36572688509874274\n",
      "AVG NUMBER OF ACCURATE 0.5 PREDICTIONS ON TRAIN DATA SET: 0.6876275160583238 ± 0.043155935707591096\n",
      "AVG NUMBER OF ACCURATE 1 PREDICTIONS ON TRAIN DATA SET: 1.305719665324233 ± 0.07386459795162299\n",
      "POWER SPECTRUM MEAN ERROR ON TRAIN DATA SET: 5.179710187470185 ± 0.805496693366602\n",
      "TEMPORAL DISTANCE ON TRAIN DATA SET: 0.20080327460227143 ± 0.035293258961662695\n",
      "GEOMETRICAL DISTANCE ON TRAIN DATA SET: inf ± nan\n",
      "\n",
      "\n",
      "AVERAGE RMNSE ERROR ON TEST DATA SET: 2.3911302948007176 ± 0.3620965469714196\n",
      "AVG NUMBER OF ACCURATE 0.5 PREDICTIONS ON TEST DATA SET: 0.570190007697801 ± 0.04381484306197337\n",
      "AVG NUMBER OF ACCURATE 1 PREDICTIONS ON TEST DATA SET: 1.1125658686786362 ± 0.0787158006467679\n",
      "POWER SPECTRUM MEAN ERROR ON TEST DATA SET: 5.520789749087536 ± 0.92480600404963\n",
      "TEMPORAL DISTANCE ON TEST DATA SET: 0.1970513523469945 ± 0.03569166491158233\n",
      "GEOMETRICAL DISTANCE ON TEST DATA SET: inf ± nan\n"
     ]
    }
   ],
   "source": [
    "!bash ./1_Standard_ESN_Evaluate_Tuned_Model.sh \"evaluate_tuned_model\" \"Lorenz96_F36_ALPHA1_DIM40\" 3000 0.1 0.1 8 \"grid_search_for_F.json\" "
   ]
  },
  {
   "cell_type": "code",
   "execution_count": null,
   "metadata": {},
   "outputs": [
    {
     "name": "stdout",
     "output_type": "stream",
     "text": [
      "Grid Search Progress:   0%|                                               | 0/25 [00:00<?, ?trial/s]/home/user/kuei_jan_CHU/PGClustered_ESN/Methods/./Utils/global_utils.py:256: RuntimeWarning: divide by zero encountered in log10\n",
      "  s_dbfs = 20 * np.log10(s_mag)\n",
      "Grid Search Progress: 100%|████████| 25/25 [1:41:24<00:00, 243.37s/trial, Current Best Loss=0.19277]\n",
      "{'radius': 0.9, 'sigma_input': 0.5}\n"
     ]
    }
   ],
   "source": [
    "!bash ./0_Standard_ESN_Tune.sh \"tune\" \"Lorenz96_F40_ALPHA1_DIM40\" 3000 0.1 0.1 9 \"grid_search_for_F.json\" "
   ]
  },
  {
   "cell_type": "code",
   "execution_count": null,
   "metadata": {},
   "outputs": [
    {
     "name": "stdout",
     "output_type": "stream",
     "text": [
      "{'radius': 0.9, 'sigma_input': 0.5}\n",
      "/home/user/anaconda3/lib/python3.11/site-packages/numpy/core/_methods.py:236: RuntimeWarning: invalid value encountered in subtract\n",
      "  x = asanyarray(arr - arrmean)\n",
      "AVERAGE RMNSE ERROR ON TRAIN DATA SET: 2.856795222564453 ± 0.4276582226481308\n",
      "AVG NUMBER OF ACCURATE 0.5 PREDICTIONS ON TRAIN DATA SET: 0.6916845878070627 ± 0.04497028909697591\n",
      "AVG NUMBER OF ACCURATE 1 PREDICTIONS ON TRAIN DATA SET: 1.2845570916416875 ± 0.10277753678625207\n",
      "POWER SPECTRUM MEAN ERROR ON TRAIN DATA SET: 6.452655420090366 ± 1.107119884875716\n",
      "TEMPORAL DISTANCE ON TRAIN DATA SET: 0.23410324023844925 ± 0.04522507014380047\n",
      "GEOMETRICAL DISTANCE ON TRAIN DATA SET: inf ± nan\n",
      "\n",
      "\n",
      "AVERAGE RMNSE ERROR ON TEST DATA SET: 2.84519539598156 ± 0.4322752308928251\n",
      "AVG NUMBER OF ACCURATE 0.5 PREDICTIONS ON TEST DATA SET: 0.5895229416660679 ± 0.02284096873006654\n",
      "AVG NUMBER OF ACCURATE 1 PREDICTIONS ON TEST DATA SET: 1.1974684752592004 ± 0.06625447516660928\n",
      "POWER SPECTRUM MEAN ERROR ON TEST DATA SET: 6.707612282922412 ± 1.2565533749048716\n",
      "TEMPORAL DISTANCE ON TEST DATA SET: 0.23759310323739502 ± 0.046327826267263346\n",
      "GEOMETRICAL DISTANCE ON TEST DATA SET: inf ± nan\n"
     ]
    }
   ],
   "source": [
    "!bash ./1_Standard_ESN_Evaluate_Tuned_Model.sh \"evaluate_tuned_model\" \"Lorenz96_F40_ALPHA1_DIM40\" 3000 0.1 0.1 9 \"grid_search_for_F.json\" "
   ]
  },
  {
   "cell_type": "code",
   "execution_count": null,
   "metadata": {},
   "outputs": [
    {
     "name": "stdout",
     "output_type": "stream",
     "text": [
      "Grid Search Progress:   0%|                                               | 0/25 [00:00<?, ?trial/s]/home/user/kuei_jan_CHU/PGClustered_ESN/Methods/./Utils/global_utils.py:256: RuntimeWarning: divide by zero encountered in log10\n",
      "  s_dbfs = 20 * np.log10(s_mag)\n",
      "Grid Search Progress: 100%|████████| 25/25 [1:40:27<00:00, 241.08s/trial, Current Best Loss=0.18764]\n",
      "{'radius': 0.9, 'sigma_input': 0.5}\n"
     ]
    }
   ],
   "source": [
    "!bash ./0_Standard_ESN_Tune.sh \"tune\" \"Lorenz96_F44_ALPHA1_DIM40\" 3000 0.1 0.1 10 \"grid_search_for_F.json\" "
   ]
  },
  {
   "cell_type": "code",
   "execution_count": null,
   "metadata": {},
   "outputs": [
    {
     "name": "stdout",
     "output_type": "stream",
     "text": [
      "{'radius': 0.9, 'sigma_input': 0.5}\n",
      "/home/user/anaconda3/lib/python3.11/site-packages/numpy/core/_methods.py:236: RuntimeWarning: invalid value encountered in subtract\n",
      "  x = asanyarray(arr - arrmean)\n",
      "AVERAGE RMNSE ERROR ON TRAIN DATA SET: 2.822878871830313 ± 0.6970062362450894\n",
      "AVG NUMBER OF ACCURATE 0.5 PREDICTIONS ON TRAIN DATA SET: 0.6801940531802545 ± 0.030753454532085958\n",
      "AVG NUMBER OF ACCURATE 1 PREDICTIONS ON TRAIN DATA SET: 1.3667196999406444 ± 0.049616495258974706\n",
      "POWER SPECTRUM MEAN ERROR ON TRAIN DATA SET: inf ± nan\n",
      "TEMPORAL DISTANCE ON TRAIN DATA SET: 0.28283019300092643 ± 0.15059107619832018\n",
      "GEOMETRICAL DISTANCE ON TRAIN DATA SET: inf ± nan\n",
      "\n",
      "\n",
      "AVERAGE RMNSE ERROR ON TEST DATA SET: 2.8612987543537 ± 0.6832550752505747\n",
      "AVG NUMBER OF ACCURATE 0.5 PREDICTIONS ON TEST DATA SET: 0.5653208553692275 ± 0.041696006069691496\n",
      "AVG NUMBER OF ACCURATE 1 PREDICTIONS ON TEST DATA SET: 1.161395165270541 ± 0.05504913244898285\n",
      "POWER SPECTRUM MEAN ERROR ON TEST DATA SET: inf ± nan\n",
      "TEMPORAL DISTANCE ON TEST DATA SET: 0.289854937210105 ± 0.15197157870757655\n",
      "GEOMETRICAL DISTANCE ON TEST DATA SET: inf ± nan\n"
     ]
    }
   ],
   "source": [
    "!bash ./1_Standard_ESN_Evaluate_Tuned_Model.sh \"evaluate_tuned_model\" \"Lorenz96_F44_ALPHA1_DIM40\" 3000 0.1 0.1 10 \"grid_search_for_F.json\" "
   ]
  },
  {
   "cell_type": "code",
   "execution_count": null,
   "metadata": {},
   "outputs": [],
   "source": []
  },
  {
   "cell_type": "code",
   "execution_count": null,
   "metadata": {
    "editable": true,
    "slideshow": {
     "slide_type": ""
    },
    "tags": []
   },
   "outputs": [],
   "source": []
  },
  {
   "cell_type": "code",
   "execution_count": null,
   "metadata": {},
   "outputs": [],
   "source": []
  },
  {
   "cell_type": "code",
   "execution_count": null,
   "metadata": {},
   "outputs": [],
   "source": []
  },
  {
   "cell_type": "code",
   "execution_count": null,
   "metadata": {},
   "outputs": [],
   "source": []
  },
  {
   "cell_type": "code",
   "execution_count": null,
   "metadata": {},
   "outputs": [],
   "source": []
  }
 ],
 "metadata": {
  "kernelspec": {
   "display_name": "base",
   "language": "python",
   "name": "python3"
  },
  "language_info": {
   "codemirror_mode": {
    "name": "ipython",
    "version": 3
   },
   "file_extension": ".py",
   "mimetype": "text/x-python",
   "name": "python",
   "nbconvert_exporter": "python",
   "pygments_lexer": "ipython3",
   "version": "3.11.8"
  }
 },
 "nbformat": 4,
 "nbformat_minor": 4
}
